{
 "cells": [
  {
   "cell_type": "code",
   "execution_count": 1,
   "metadata": {},
   "outputs": [],
   "source": [
    "using Revise"
   ]
  },
  {
   "cell_type": "code",
   "execution_count": 2,
   "metadata": {},
   "outputs": [
    {
     "data": {
      "text/html": [
       "    <script class='js-collapse-script'>\n",
       "        var curMatch =\n",
       "            window.location.href\n",
       "            .match(/(.*?)\\/notebooks\\/.*\\.ipynb/);\n",
       "\n",
       "        curMatch = curMatch ||\n",
       "            window.location.href\n",
       "            .match(/(.*?)\\/apps\\/.*\\.ipynb/);\n",
       "\n",
       "        if ( curMatch ) {\n",
       "            $('head').append('<base href=\"' + curMatch[1] + '/\">');\n",
       "        }\n",
       "    </script>\n"
      ],
      "text/plain": [
       "HTML{String}(\"    <script class='js-collapse-script'>\\n        var curMatch =\\n            window.location.href\\n            .match(/(.*?)\\\\/notebooks\\\\/.*\\\\.ipynb/);\\n\\n        curMatch = curMatch ||\\n            window.location.href\\n            .match(/(.*?)\\\\/apps\\\\/.*\\\\.ipynb/);\\n\\n        if ( curMatch ) {\\n            \\$('head').append('<base href=\\\"' + curMatch[1] + '/\\\">');\\n        }\\n    </script>\\n\")"
      ]
     },
     "metadata": {},
     "output_type": "display_data"
    },
    {
     "data": {
      "text/html": [
       "<script class='js-collapse-script' src='/assetserver/9db0e137604e898c25f194d972715156bd46cb81-assets/webio/dist/bundle.js'></script>"
      ],
      "text/plain": [
       "HTML{String}(\"<script class='js-collapse-script' src='/assetserver/9db0e137604e898c25f194d972715156bd46cb81-assets/webio/dist/bundle.js'></script>\")"
      ]
     },
     "metadata": {},
     "output_type": "display_data"
    },
    {
     "data": {
      "text/html": [
       "<script class='js-collapse-script' src='/assetserver/9db0e137604e898c25f194d972715156bd46cb81-assets/providers/ijulia_setup.js'></script>"
      ],
      "text/plain": [
       "HTML{String}(\"<script class='js-collapse-script' src='/assetserver/9db0e137604e898c25f194d972715156bd46cb81-assets/providers/ijulia_setup.js'></script>\")"
      ]
     },
     "metadata": {},
     "output_type": "display_data"
    },
    {
     "data": {
      "text/html": [
       "  <script class='js-collapse-script'>\n",
       "    $('.js-collapse-script').parent('.output_subarea').css('padding', '0');\n",
       "  </script>\n"
      ],
      "text/plain": [
       "HTML{String}(\"  <script class='js-collapse-script'>\\n    \\$('.js-collapse-script').parent('.output_subarea').css('padding', '0');\\n  </script>\\n\")"
      ]
     },
     "metadata": {},
     "output_type": "display_data"
    },
    {
     "name": "stderr",
     "output_type": "stream",
     "text": [
      "\u001b[1m\u001b[36mINFO: \u001b[39m\u001b[22m\u001b[36mRecompiling stale cache file /home/rdeits/locomotion/explorations/learning-mpc-2/packages/lib/v0.6/LearningMPC.ji for module LearningMPC.\n",
      "\u001b[39m\u001b[1m\u001b[36mINFO: \u001b[39m\u001b[22m\u001b[36mLoading HttpServer methods...\n",
      "\u001b[39mWARNING: using Juno.input in module InteractBase conflicts with an existing identifier.\n"
     ]
    }
   ],
   "source": [
    "import LCPSim\n",
    "import LearningMPC\n",
    "using JLD2"
   ]
  },
  {
   "cell_type": "code",
   "execution_count": 3,
   "metadata": {},
   "outputs": [
    {
     "data": {
      "text/plain": [
       "JLDFile /home/rdeits/locomotion/explorations/learning-mpc-2/experiments/2018-03-16-hopper-value-interval-dagger/hopper.jld2 (read-only)\n",
       " ├─🔢 datasets\n",
       " ├─🔢 net\n",
       " ├─🔢 lqrsol\n",
       " ├─🔢 mpc_params\n",
       " ├─🔢 all_training_data\n",
       " ├─🔢 all_validation_data\n",
       " └─🔢 losses"
      ]
     },
     "execution_count": 3,
     "metadata": {},
     "output_type": "execute_result"
    }
   ],
   "source": [
    "data = jldopen(\"../2018-03-16-hopper-value-interval-dagger/hopper.jld2\")"
   ]
  },
  {
   "cell_type": "code",
   "execution_count": 5,
   "metadata": {},
   "outputs": [
    {
     "data": {
      "text/plain": [
       "4-element Array{Float64,1}:\n",
       " 2.0 \n",
       " 0.75\n",
       " 0.0 \n",
       " 0.0 "
      ]
     },
     "execution_count": 5,
     "metadata": {},
     "output_type": "execute_result"
    }
   ],
   "source": [
    "data[\"lqrsol\"].x0"
   ]
  },
  {
   "cell_type": "code",
   "execution_count": 7,
   "metadata": {},
   "outputs": [
    {
     "data": {
      "text/plain": [
       "4×4 Array{Float64,2}:\n",
       " 10.0  0.0  0.0    0.0\n",
       "  0.0  0.1  0.0    0.0\n",
       "  0.0  0.0  0.001  0.0\n",
       "  0.0  0.0  0.0    1.0"
      ]
     },
     "execution_count": 7,
     "metadata": {},
     "output_type": "execute_result"
    }
   ],
   "source": [
    "data[\"lqrsol\"].Q"
   ]
  },
  {
   "cell_type": "code",
   "execution_count": 8,
   "metadata": {},
   "outputs": [
    {
     "data": {
      "text/plain": [
       "2×2 Array{Float64,2}:\n",
       " 0.001  0.0  \n",
       " 0.0    0.001"
      ]
     },
     "execution_count": 8,
     "metadata": {},
     "output_type": "execute_result"
    }
   ],
   "source": [
    "data[\"lqrsol\"].R"
   ]
  },
  {
   "cell_type": "code",
   "execution_count": 6,
   "metadata": {},
   "outputs": [
    {
     "data": {
      "text/plain": [
       "4×4 Array{Float64,2}:\n",
       " 200.0  0.0  0.0    0.0\n",
       "   0.0  2.0  0.0    0.0\n",
       "   0.0  0.0  0.02   0.0\n",
       "   0.0  0.0  0.0   20.0"
      ]
     },
     "execution_count": 6,
     "metadata": {},
     "output_type": "execute_result"
    }
   ],
   "source": [
    "data[\"lqrsol\"].S"
   ]
  },
  {
   "cell_type": "code",
   "execution_count": 10,
   "metadata": {},
   "outputs": [
    {
     "data": {
      "text/plain": [
       "2-element Array{Float64,1}:\n",
       " -0.0 \n",
       "  9.81"
      ]
     },
     "execution_count": 10,
     "metadata": {},
     "output_type": "execute_result"
    }
   ],
   "source": [
    "data[\"lqrsol\"].u0"
   ]
  },
  {
   "cell_type": "code",
   "execution_count": 2,
   "metadata": {},
   "outputs": [
    {
     "name": "stderr",
     "output_type": "stream",
     "text": [
      "\u001b[1m\u001b[36mINFO: \u001b[39m\u001b[22m\u001b[36mRecompiling stale cache file /home/rdeits/locomotion/explorations/learning-mpc-2/packages/lib/v0.6/LearningMPC.ji for module LearningMPC.\n",
      "\u001b[39m"
     ]
    },
    {
     "data": {
      "text/html": [
       "    <script class='js-collapse-script'>\n",
       "        var curMatch =\n",
       "            window.location.href\n",
       "            .match(/(.*?)\\/notebooks\\/.*\\.ipynb/);\n",
       "\n",
       "        curMatch = curMatch ||\n",
       "            window.location.href\n",
       "            .match(/(.*?)\\/apps\\/.*\\.ipynb/);\n",
       "\n",
       "        if ( curMatch ) {\n",
       "            $('head').append('<base href=\"' + curMatch[1] + '/\">');\n",
       "        }\n",
       "    </script>\n"
      ],
      "text/plain": [
       "HTML{String}(\"    <script class='js-collapse-script'>\\n        var curMatch =\\n            window.location.href\\n            .match(/(.*?)\\\\/notebooks\\\\/.*\\\\.ipynb/);\\n\\n        curMatch = curMatch ||\\n            window.location.href\\n            .match(/(.*?)\\\\/apps\\\\/.*\\\\.ipynb/);\\n\\n        if ( curMatch ) {\\n            \\$('head').append('<base href=\\\"' + curMatch[1] + '/\\\">');\\n        }\\n    </script>\\n\")"
      ]
     },
     "metadata": {},
     "output_type": "display_data"
    },
    {
     "data": {
      "text/html": [
       "<script class='js-collapse-script' src='/assetserver/9db0e137604e898c25f194d972715156bd46cb81-assets/webio/dist/bundle.js'></script>"
      ],
      "text/plain": [
       "HTML{String}(\"<script class='js-collapse-script' src='/assetserver/9db0e137604e898c25f194d972715156bd46cb81-assets/webio/dist/bundle.js'></script>\")"
      ]
     },
     "metadata": {},
     "output_type": "display_data"
    },
    {
     "data": {
      "text/html": [
       "<script class='js-collapse-script' src='/assetserver/9db0e137604e898c25f194d972715156bd46cb81-assets/providers/ijulia_setup.js'></script>"
      ],
      "text/plain": [
       "HTML{String}(\"<script class='js-collapse-script' src='/assetserver/9db0e137604e898c25f194d972715156bd46cb81-assets/providers/ijulia_setup.js'></script>\")"
      ]
     },
     "metadata": {},
     "output_type": "display_data"
    },
    {
     "data": {
      "text/html": [
       "  <script class='js-collapse-script'>\n",
       "    $('.js-collapse-script').parent('.output_subarea').css('padding', '0');\n",
       "  </script>\n"
      ],
      "text/plain": [
       "HTML{String}(\"  <script class='js-collapse-script'>\\n    \\$('.js-collapse-script').parent('.output_subarea').css('padding', '0');\\n  </script>\\n\")"
      ]
     },
     "metadata": {},
     "output_type": "display_data"
    },
    {
     "name": "stderr",
     "output_type": "stream",
     "text": [
      "WARNING: using Juno.input in module InteractBase conflicts with an existing identifier.\n",
      "\u001b[1m\u001b[36mINFO: \u001b[39m\u001b[22m\u001b[36mLoading HttpServer methods...\n",
      "\u001b[39mWARNING: using Blink.@js in module InteractBase conflicts with an existing identifier.\n"
     ]
    }
   ],
   "source": [
    "using LearningMPC\n",
    "using LearningMPC.Models\n",
    "using RigidBodyDynamics\n",
    "using RigidBodyDynamics.Contact\n",
    "using RigidBodyDynamics.PDControl\n",
    "using MomentumBasedControl\n",
    "using MeshCatMechanisms\n",
    "using RigidBodySim\n",
    "using RigidBodySim.Visualization.MeshCatInterface\n",
    "import LCPSim\n",
    "using JLD2\n",
    "using Blink"
   ]
  },
  {
   "cell_type": "code",
   "execution_count": 3,
   "metadata": {},
   "outputs": [],
   "source": [
    "robot = BoxAtlas();"
   ]
  },
  {
   "cell_type": "code",
   "execution_count": 4,
   "metadata": {},
   "outputs": [
    {
     "data": {
      "text/plain": [
       "Blink.AtomShell.Window(1, Blink.AtomShell.Electron(Process(`/home/rdeits/locomotion/explorations/learning-mpc-2/packages/v0.6/Blink/deps/atom/electron /home/rdeits/locomotion/explorations/learning-mpc-2/packages/v0.6/Blink/src/AtomShell/main.js port 6570`, ProcessRunning), TCPSocket(RawFD(51) active, 0 bytes waiting), Dict{String,Any}(Pair{String,Any}(\"callback\", Blink.#3))), Blink.Page(1, WebSockets.WebSocket{TCPSocket}(TCPSocket(RawFD(56) active, 0 bytes waiting), true, CONNECTED::WebSockets.ReadyState = 1), Dict{String,Any}(Pair{String,Any}(\"webio\", WebIO.#109),Pair{String,Any}(\"callback\", Blink.#3)), Future(1, 1, 1, Nullable{Any}(true))))"
      ]
     },
     "execution_count": 4,
     "metadata": {},
     "output_type": "execute_result"
    }
   ],
   "source": [
    "mvis = MechanismVisualizer(robot)\n",
    "open(mvis, Window())"
   ]
  },
  {
   "cell_type": "code",
   "execution_count": 7,
   "metadata": {},
   "outputs": [
    {
     "name": "stdout",
     "output_type": "stream",
     "text": [
      "Academic license - for non-commercial use only\n",
      "Academic license - for non-commercial use only\n",
      "Academic license - for non-commercial use only\n",
      "Academic license - for non-commercial use only\n",
      "Academic license - for non-commercial use only\n",
      "Academic license - for non-commercial use only\n"
     ]
    },
    {
     "data": {
      "text/plain": [
       "(::MPCController) (generic function with 1 method)"
      ]
     },
     "execution_count": 7,
     "metadata": {},
     "output_type": "execute_result"
    }
   ],
   "source": [
    "@load \"../2018-05-08-box-atlas-longer-miqp/boxatlas.jld2\" net lqrsol mpc_params\n",
    "mpc_params_data = mpc_params\n",
    "mpc_params = MPCParams(robot)\n",
    "mpc_params.Δt = mpc_params_data[\"Δt\"]\n",
    "mpc_params.horizon = mpc_params_data[\"horizon\"]\n",
    "net_cost = LearningMPC.LearnedCost(lqrsol, net)\n",
    "net_mpc_params = MPCParams(robot)\n",
    "net_mpc_params.horizon = 1\n",
    "net_mpc_controller = MPCController(robot, net_mpc_params, net_cost, [lqrsol]);\n",
    "full_mpc_controller = MPCController(robot, mpc_params, lqrsol, [lqrsol, net_mpc_controller]);\n",
    "lqr_mpc_controller = MPCController(robot, (p = MPCParams(robot); p.horizon=1; p), lqrsol, [lqrsol])"
   ]
  },
  {
   "cell_type": "code",
   "execution_count": 8,
   "metadata": {},
   "outputs": [],
   "source": [
    "rootframe = root_frame(mechanism(robot))\n",
    "floor = HalfSpace3D(Point3D(rootframe, 0., 0., 0.), FreeVector3D(rootframe, 0., 0., 1.))\n",
    "add_environment_primitive!(mechanism(robot), floor)\n",
    "wall = HalfSpace3D(Point3D(rootframe, 0., 1.0, 0.), FreeVector3D(rootframe, 0., -1., 0.))\n",
    "add_environment_primitive!(mechanism(robot), wall)\n",
    "\n",
    "feet = Dict(:left => findbody(mechanism(robot), \"l_foot_sole\"), :right => findbody(mechanism(robot), \"r_foot_sole\"))\n",
    "hands = Dict(:left => findbody(mechanism(robot), \"l_hand_mount\"), :right => findbody(mechanism(robot), \"r_hand_mount\"));\n",
    "\n",
    "contact_model = SoftContactModel(hunt_crossley_hertz(k = 500e3), ViscoelasticCoulombModel(0.8, 20e3, 100.))\n",
    "\n",
    "for (side, body) in feet\n",
    "    add_contact_point!(body, \n",
    "        ContactPoint(Point3D(default_frame(body), 0., 0, 0), \n",
    "                     contact_model))\n",
    "end\n",
    "\n",
    "for (side, body) in hands\n",
    "    add_contact_point!(body, \n",
    "        ContactPoint(Point3D(default_frame(body), 0., 0, 0), \n",
    "                     contact_model))\n",
    "end\n"
   ]
  },
  {
   "cell_type": "code",
   "execution_count": 9,
   "metadata": {},
   "outputs": [
    {
     "data": {
      "text/plain": [
       "Dict{RigidBodyDynamics.RigidBody{Float64},Array{MomentumBasedControl.ContactSettings,1}} with 14 entries:\n",
       "  floor               => MomentumBasedControl.ContactSettings[]\n",
       "  root                => MomentumBasedControl.ContactSettings[]\n",
       "  world               => MomentumBasedControl.ContactSettings[]\n",
       "  l_hand_mount        => MomentumBasedControl.ContactSettings[MomentumBasedCont…\n",
       "  l_foot_sole_dummy   => MomentumBasedControl.ContactSettings[]\n",
       "  pelvis              => MomentumBasedControl.ContactSettings[]\n",
       "  floating_base_dummy => MomentumBasedControl.ContactSettings[]\n",
       "  r_hand_mount        => MomentumBasedControl.ContactSettings[MomentumBasedCont…\n",
       "  r_foot_sole         => MomentumBasedControl.ContactSettings[MomentumBasedCont…\n",
       "  r_hand_mount_dummy  => MomentumBasedControl.ContactSettings[]\n",
       "  r_foot_sole_dummy   => MomentumBasedControl.ContactSettings[]\n",
       "  l_foot_sole         => MomentumBasedControl.ContactSettings[MomentumBasedCont…\n",
       "  l_hand_mount_dummy  => MomentumBasedControl.ContactSettings[]\n",
       "  wall                => MomentumBasedControl.ContactSettings[]"
      ]
     },
     "execution_count": 9,
     "metadata": {},
     "output_type": "execute_result"
    }
   ],
   "source": [
    "momentum_based_controller = MomentumBasedController(mechanism(robot))\n",
    "contacts = add_mechanism_contacts!(momentum_based_controller)"
   ]
  },
  {
   "cell_type": "code",
   "execution_count": 10,
   "metadata": {},
   "outputs": [
    {
     "data": {
      "text/plain": [
       "FreeVector3D in \"world\": [0.0, -1.0, 0.0]"
      ]
     },
     "execution_count": 10,
     "metadata": {},
     "output_type": "execute_result"
    }
   ],
   "source": [
    "μ = 0.8\n",
    "floor_normal = floor.outward_normal\n",
    "wall_normal = wall.outward_normal"
   ]
  },
  {
   "cell_type": "code",
   "execution_count": 25,
   "metadata": {},
   "outputs": [
    {
     "data": {
      "text/plain": [
       "lqr_feedback_linearized (generic function with 1 method)"
      ]
     },
     "execution_count": 25,
     "metadata": {},
     "output_type": "execute_result"
    }
   ],
   "source": [
    "function lqr_mpc_control(τ::AbstractVector, t::Number, state::MechanismState)\n",
    "   τ .= lqr_mpc_controller(state)\n",
    "end\n",
    "\n",
    "function lqr_basic(τ::AbstractVector, t::Number, state::MechanismState)\n",
    "    τ .= lqrsol(state)\n",
    "end\n",
    "\n",
    "function lqr_feedback_linearized(τ::AbstractVector, t::Number, state::MechanismState)\n",
    "    u0 = LearningMPC.nominal_input(state, [Point3D(default_frame(body), 0., 0, 0) for body in values(feet)])\n",
    "    τ .= lqrsol.K * (LearningMPC.qv(state) .- lqrsol.x0) .+ u0\n",
    "end"
   ]
  },
  {
   "cell_type": "code",
   "execution_count": 13,
   "metadata": {},
   "outputs": [
    {
     "data": {
      "text/plain": [
       "lqr_high_level_control (generic function with 1 method)"
      ]
     },
     "execution_count": 13,
     "metadata": {},
     "output_type": "execute_result"
    }
   ],
   "source": [
    "# FIXME: referencing global variables\n",
    "function lqr_high_level_control(τ::AbstractVector, t::Number, state::MechanismState)\n",
    "    # TODO: extract out: highlevelcontrol\n",
    "    # Foot accelerations\n",
    "    T = eltype(momentum_based_controller)\n",
    "    MomentumBasedControl.reset!(momentum_based_controller)\n",
    "    regularize_joint_accels!(momentum_based_controller, 0.005)\n",
    "    \n",
    "    for (side, body) in feet\n",
    "        for contactsettings in contacts[body]\n",
    "            pt_in_world = transform(state, contactsettings.point, root_frame(state.mechanism))\n",
    "#             max_normal_force = Inf\n",
    "            max_normal_force = pt_in_world.v[3] >= 5e-2 ? 0.0 : Inf\n",
    "            set!(contactsettings, 1e-4, μ, \n",
    "                transform(state, floor_normal, default_frame(body)),\n",
    "                max_normal_force)\n",
    "        end\n",
    "    end\n",
    "    \n",
    "    momentum_based_controller.terminalstatetask.x .= lqrsol.x0\n",
    "    momentum_based_controller.terminalstatetask.Q .= lqrsol.S .+ lqrsol.Q\n",
    "    momentum_based_controller.terminalstatetask.q .= 0\n",
    "    \n",
    "    # Low level control\n",
    "    momentum_based_controller(τ, t, state)\n",
    "    τ\n",
    "end"
   ]
  },
  {
   "cell_type": "code",
   "execution_count": 14,
   "metadata": {},
   "outputs": [
    {
     "data": {
      "text/plain": [
       "net_high_level_control (generic function with 1 method)"
      ]
     },
     "execution_count": 14,
     "metadata": {},
     "output_type": "execute_result"
    }
   ],
   "source": [
    "function matrix_absolute_value(M::AbstractMatrix)\n",
    "    fact = eigfact(M)\n",
    "    S = fact[:vectors]\n",
    "    M = Diagonal(abs.(fact[:values]))\n",
    "    S * M * inv(S)\n",
    "end\n",
    "\n",
    "function net_high_level_control(τ::AbstractVector, t::Number, state::MechanismState)\n",
    "    # TODO: extract out: highlevelcontrol\n",
    "    # Foot accelerations\n",
    "    T = eltype(momentum_based_controller)\n",
    "    MomentumBasedControl.reset!(momentum_based_controller)\n",
    "    regularize_joint_accels!(momentum_based_controller, 0.05)\n",
    "    \n",
    "    for (side, body) in feet\n",
    "        for contactsettings in contacts[body]\n",
    "            pt_in_world = transform(state, contactsettings.point, root_frame(state.mechanism))\n",
    "#             @show pt_in_world\n",
    "            max_normal_force = pt_in_world.v[3] >= 5e-2 ? 0.0 : Inf\n",
    "#             @show max_normal_force\n",
    "            set!(contactsettings, 1e-4, μ, \n",
    "                transform(state, floor_normal, default_frame(body)),\n",
    "                max_normal_force)\n",
    "        end\n",
    "    end\n",
    "    \n",
    "    body = hands[:left]\n",
    "    for contactsettings in contacts[body]\n",
    "        pt_in_world = transform(state, contactsettings.point, root_frame(state.mechanism))\n",
    "        max_normal_force = (pt_in_world.v[2] <= (1 - 5e-2)) ? 0.0 : Inf\n",
    "        set!(contactsettings, 1e-1, μ, transform(state, wall_normal, default_frame(body)))\n",
    "    end\n",
    "    \n",
    "    momentum_based_controller.terminalstatetask.x .= lqrsol.x0\n",
    "    momentum_based_controller.terminalstatetask.Q .= lqrsol.Q\n",
    "    \n",
    "    f = x -> net_cost.net(x)[]\n",
    "    x = LearningMPC.qv(state)\n",
    "    q = ForwardDiff.gradient(f, x)\n",
    "    Q = ForwardDiff.hessian(f, x)\n",
    "    \n",
    "    momentum_based_controller.terminalstatetask.Q .+= 0.5 .* matrix_absolute_value(Q)\n",
    "    momentum_based_controller.terminalstatetask.q .= q\n",
    "    \n",
    "#     q0, q = net_cost.tangent_net(vcat(configuration(state), velocity(state)))\n",
    "#     momentum_based_controller.terminalstatetask.q .= vec(Flux.Tracker.data(q))\n",
    "    \n",
    "    # Low level control\n",
    "    momentum_based_controller(τ, t, state)\n",
    "    τ\n",
    "end"
   ]
  },
  {
   "cell_type": "code",
   "execution_count": 15,
   "metadata": {},
   "outputs": [
    {
     "data": {
      "text/plain": [
       "compose (generic function with 1 method)"
      ]
     },
     "execution_count": 15,
     "metadata": {},
     "output_type": "execute_result"
    }
   ],
   "source": [
    "effort_bounds = LCPSim.all_effort_bounds(mechanism(robot))\n",
    "\n",
    "function effort_limiter(τ::AbstractVector, t::Number, state::MechanismState)\n",
    "    τ .= clamp.(τ, effort_bounds)\n",
    "    τ\n",
    "end\n",
    "\n",
    "position_bounds = LCPSim.all_configuration_bounds(mechanism(robot))\n",
    "\n",
    "function bounds_enforcer(τ::AbstractVector, t::Number, state::MechanismState)\n",
    "    # TODO: handle q̇ vs v correctly\n",
    "    for i in 1:num_positions(state)\n",
    "        kp = 1000\n",
    "        kd = 0.1 * kp\n",
    "        if configuration(state)[i] > position_bounds[i].upper\n",
    "            violation = configuration(state)[i] - position_bounds[i].upper\n",
    "            τ[i] -= kp * violation\n",
    "            τ[i] -= kd * velocity(state)[i]\n",
    "        elseif configuration(state)[i] < position_bounds[i].lower\n",
    "            violation = position_bounds[i].lower - configuration(state)[i]\n",
    "            τ[i] += kp * violation \n",
    "            τ[i] -= kd * velocity(state)[i]\n",
    "        end\n",
    "    end\n",
    "    τ\n",
    "end\n",
    "\n",
    "function compose(controllers...)\n",
    "    function (τ, t, state)\n",
    "        for c in controllers\n",
    "            c(τ, t, state)\n",
    "        end\n",
    "        τ\n",
    "    end\n",
    "end\n",
    "\n",
    "    "
   ]
  },
  {
   "cell_type": "code",
   "execution_count": 16,
   "metadata": {},
   "outputs": [],
   "source": [
    "using JuMP, Gurobi\n",
    "using StaticArrays"
   ]
  },
  {
   "cell_type": "code",
   "execution_count": 15,
   "metadata": {},
   "outputs": [],
   "source": [
    "# function make_qp_controller(lqr::LQRSolution)\n",
    "#     local solver = GurobiSolver(Gurobi.Env(); OutputFlag=0)\n",
    "#     local Δt = 0.01\n",
    "#     local feet = Dict(:left => findbody(mechanism(robot), \"l_foot_sole\"), :right => findbody(mechanism(robot), \"r_foot_sole\"))\n",
    "#     local ulimits = LCPSim.all_effort_bounds(mechanism(robot))\n",
    "    \n",
    "#     function controller(τ::AbstractVector, t::Number, state::MechanismState)\n",
    "#         model = Model(solver=solver)\n",
    "        \n",
    "#         @variable model u[1:num_velocities(state)]\n",
    "#         LCPSim.setbounds.(u, ulimits)\n",
    "#         @variable model qnext[1:num_positions(state)]\n",
    "#         @variable model vnext[1:num_velocities(state)]\n",
    "#         xnext = vcat(qnext, vnext)\n",
    "#         δu = u - lqr.u0\n",
    "#         δx = xnext .- lqr.x0\n",
    "#         obj = δx' * lqr.Q * δx + δu' * lqr.R * δu + δx' * lqr.S * δx\n",
    "#         @objective model Min obj\n",
    "        \n",
    "#         world = root_frame(state.mechanism)\n",
    "        \n",
    "#         τ_ext = Vector{AffExpr}[]\n",
    "#         for (side, body) in feet\n",
    "# #             @show side\n",
    "#             basis_vectors = normalize.([SVector(0., 1, 1), SVector(0., -1, 1)])\n",
    "# #             basis_vectors = [SVector(0., 0, 1)]\n",
    "#             λ = @variable(model, [1:(length(basis_vectors))], basename=\"λ_$(first(string(side)))\", lowerbound=0)\n",
    "#             basis_forces = [\n",
    "#                 FreeVector3D(world, λ[i] .* basis_vectors[i])\n",
    "#                 for i in 1:length(λ)\n",
    "#             ]\n",
    "#             force = sum(basis_forces)\n",
    "#             point = Point3D(default_frame(body), 0., 0, 0)\n",
    "#             point_in_world = transform(state, point, world)\n",
    "\n",
    "#             wrench = Wrench(point_in_world, force)\n",
    "#             J = geometric_jacobian(state, path(state.mechanism, body, root_body(state.mechanism)))\n",
    "#             push!(τ_ext, torque(J, wrench))\n",
    "# #             @show side τ_ext[end]\n",
    "#             if point_in_world.v[3] >= 0.01\n",
    "#                 @constraint model λ .== 0\n",
    "#             else\n",
    "#                 Jp = point_jacobian(state, \n",
    "#                     path(state.mechanism, root_body(state.mechanism), body), point_in_world)\n",
    "#                 @constraint model point_velocity(Jp, vnext).v[3] >= 0\n",
    "#             end\n",
    "# #             if point_in_world.v[3] <= 0.01\n",
    "# #                 Jp = point_jacobian(state, path(state.mechanism, root_body(state.mechanism), body), point_in_world)\n",
    "# #                 @constraint model point_velocity(Jp, vnext).v[2] <= 0.1\n",
    "# #                 @constraint model point_velocity(Jp, vnext).v[2] >= -0.1\n",
    "# #             end\n",
    "# #             if side == :left\n",
    "# #                 @constraint model λ .== 0\n",
    "# #             else\n",
    "# #                 @constraint model λ .== 20\n",
    "# #             end\n",
    "#         end\n",
    "        \n",
    "#         bias = dynamics_bias(state)\n",
    "#         H = mass_matrix(state)\n",
    "#         HΔv = H * (vnext - velocity(state))\n",
    "#         @constraint(model, HΔv .== Δt .* (u .- bias .- sum(τ_ext)))\n",
    "#         q̇next = RigidBodyDynamics.velocity_to_configuration_derivative_jacobian(state) * vnext\n",
    "#         @constraint(model, qnext .- configuration(state) .== Δt .* q̇next)\n",
    "        \n",
    "#         JuMP.solve(model)\n",
    "# #         @show keys(feet)\n",
    "# #         @show collect(zip(model.colNames[end-1:end], model.colVal[end-1:end]))\n",
    "        \n",
    "        \n",
    "# #         @show getvalue.(vnext)\n",
    "#         τ .= getvalue.(u)\n",
    "#     end\n",
    "# end\n",
    "\n",
    "# simple_qp_controller = make_qp_controller(lqrsol)"
   ]
  },
  {
   "cell_type": "code",
   "execution_count": 58,
   "metadata": {},
   "outputs": [
    {
     "name": "stdout",
     "output_type": "stream",
     "text": [
      "Academic license - for non-commercial use only\n"
     ]
    },
    {
     "data": {
      "text/plain": [
       "(::controller) (generic function with 1 method)"
      ]
     },
     "execution_count": 58,
     "metadata": {},
     "output_type": "execute_result"
    }
   ],
   "source": [
    "function make_qp_controller(lqr::LQRSolution)\n",
    "    local solver = GurobiSolver(Gurobi.Env(); OutputFlag=0)\n",
    "    local Δt = 0.05\n",
    "    local feet = Dict(:left => findbody(mechanism(robot), \"l_foot_sole\"), :right => findbody(mechanism(robot), \"r_foot_sole\"))\n",
    "    local ulimits = LCPSim.all_effort_bounds(mechanism(robot))\n",
    "    local xnext = LCPSim.LinearizedState{Variable}(nominal_state(robot))\n",
    "    \n",
    "    function controller(τ::AbstractVector, t::Number, state::MechanismState)\n",
    "        model = Model(solver=solver)\n",
    "        \n",
    "        LCPSim.semi_implicit_update!(xnext, state, Δt)\n",
    "#         LCPSim.set_linearization_configuration!(xnext, configuration(state))\n",
    "#         LCPSim.set_linearization_velocity!(xnext, velocity(state))\n",
    "        \n",
    "        @variable model u[1:num_velocities(state)]\n",
    "        LCPSim.setbounds.(u, ulimits)\n",
    "        @variable model qnext[1:num_positions(state)]\n",
    "        LCPSim.set_current_configuration!(xnext, qnext)\n",
    "        @variable model vnext[1:num_velocities(state)]\n",
    "        LCPSim.set_current_velocity!(xnext, vnext)\n",
    "        \n",
    "        ū = u - lqr.u0\n",
    "        x̄ = -(vcat(qnext, vnext) .- lqr.x0)\n",
    "        obj = x̄' * lqr.Q * x̄ + ū' * lqr.R * ū + x̄' * lqr.S * x̄\n",
    "        @objective model Min obj\n",
    "        \n",
    "        world = root_frame(state.mechanism)\n",
    "        \n",
    "        \n",
    "        τ_ext = Vector{AffExpr}[]\n",
    "        \n",
    "        basis_vectors = normalize.([SVector(0., 1, 1), SVector(0., -1, 1)])\n",
    "#         basis_vectors = [SVector(0., 0, 1)]\n",
    "        pv = []\n",
    "        for (side, body) in feet\n",
    "#             @show side\n",
    "            contact = @variable(model, basename=\"c_$(first(string(side)))\", category=:Bin)\n",
    "            λ = @variable(model, [1:(length(basis_vectors))], basename=\"λ_$(first(string(side)))\", lowerbound=0)\n",
    "            basis_forces = [\n",
    "                FreeVector3D(world, λ[i] .* basis_vectors[i])\n",
    "                for i in 1:length(λ)\n",
    "            ]\n",
    "            force = sum(basis_forces)\n",
    "            point = Point3D(default_frame(body), 0., 0, 0)\n",
    "            point_in_world = transform(LCPSim.linearization_state(xnext), point, world)\n",
    "\n",
    "            wrench = Wrench(point_in_world, force)\n",
    "            J = geometric_jacobian(LCPSim.linearization_state(xnext), path(state.mechanism, body, root_body(state.mechanism)))\n",
    "            push!(τ_ext, torque(J, wrench))\n",
    "#             @show side τ_ext[end]\n",
    "            \n",
    "            # If contact == 1, then the point must be on the ground\n",
    "            point_linearized = LCPSim.linearized(xnext) do x\n",
    "                transform(x, point, world)\n",
    "            end\n",
    "            # Assumes a max height of 5 meters\n",
    "            @constraint model point_linearized.v[3] <= 5 * (1 - contact)\n",
    "            @constraint model point_linearized.v[3] >= 0\n",
    "            \n",
    "            # If contact == 0, then there must be no force\n",
    "            # Assumes a max contact force of 1000 Newtons\n",
    "            @constraint model λ .<= (1000 * contact)\n",
    "        end\n",
    "        \n",
    "#         bias = LCPSim.linearized(dynamics_bias, xnext) .+ sum(τ_ext)\n",
    "        bias = dynamics_bias(state) .+ sum(τ_ext)\n",
    "#         @show -sum(τ_ext)\n",
    "        H = mass_matrix(LCPSim.linearization_state(xnext))\n",
    "        HΔv = H * (vnext - velocity(state))\n",
    "        @constraint(model, HΔv .== Δt .* (u .- bias))\n",
    "        q̇next = RigidBodyDynamics.velocity_to_configuration_derivative_jacobian(LCPSim.linearization_state(xnext)) * vnext\n",
    "        @constraint(model, qnext .- configuration(state) .== Δt .* q̇next)\n",
    "        \n",
    "#         @constraint model qnext .== [-0.00459581, 0.824581, 0.000397455, 0.0984652, 0.293066, -0.00404757, 0.00128949, 0.7479, 0.8, 0.824537, 0.804643]\n",
    "#         @constraint model vnext .== [-0.0919161, 0.0916127, 0.0079491, -2.0307, 1.86131, -0.0809513, 0.0257898, 0.958008, 2.0, 0.0907383, -0.307132]\n",
    "#         @constraint model u .== [0.0, 0.0, 0.0, -2.0, 2.0, 1.71766, -1.96994, 0.142541, 1.54781, 13.3412, -3.29506]\n",
    "        \n",
    "        JuMP.solve(model)\n",
    "#         @show keys(feet)\n",
    "        n_basis = length(basis_vectors)\n",
    "#         @show collect(zip(model.colNames[end-(2n_basis-1):end], model.colVal[end-(2n_basis-1):end]))\n",
    "#         @show getvalue.(pv)\n",
    "#         @show (dynamics_bias(LCPSim.linearization_state(xnext)))\n",
    "#         @show getvalue.(LCPSim.linearized(dynamics_bias, xnext))\n",
    "#         @show getvalue.(-sum(τ_ext))\n",
    "#         @show getvalue.(u)\n",
    "#         @show getvalue.(u .- bias)\n",
    "#         @show getvalue.(HΔv)\n",
    "#         @show getvalue.(vnext .- velocity(state))\n",
    "#         δu = getvalue.(u) .- lqr.u0\n",
    "#         @show getvalue.(u) getvalue.(qnext) getvalue.(vnext)\n",
    "#         @show model.objVal\n",
    "        τ .= getvalue.(u)\n",
    "    end\n",
    "end\n",
    "\n",
    "simple_qp_controller = make_qp_controller(lqrsol)"
   ]
  },
  {
   "cell_type": "code",
   "execution_count": 54,
   "metadata": {},
   "outputs": [
    {
     "data": {
      "text/plain": [
       "13-element Array{RigidBodyDynamics.Joint{Float64,JT} where JT<:RigidBodyDynamics.JointType{Float64},1}:\n",
       " root_to_world                   \n",
       " root_to_floor                   \n",
       " floating_base                   \n",
       " floor_to_wall                   \n",
       " floating_base_dummy_to_pelvis   \n",
       " pelvis_to_r_hand_mount_rotation \n",
       " pelvis_to_l_hand_mount_rotation \n",
       " pelvis_to_r_foot_sole_rotation  \n",
       " pelvis_to_l_foot_sole_rotation  \n",
       " pelvis_to_r_hand_mount_extension\n",
       " pelvis_to_l_hand_mount_extension\n",
       " pelvis_to_r_foot_sole_extension \n",
       " pelvis_to_l_foot_sole_extension "
      ]
     },
     "execution_count": 54,
     "metadata": {},
     "output_type": "execute_result"
    }
   ],
   "source": [
    "joints(robot.mechanism)"
   ]
  },
  {
   "cell_type": "code",
   "execution_count": 55,
   "metadata": {},
   "outputs": [
    {
     "data": {
      "text/plain": [
       "11-element RigidBodyDynamics.CustomCollections.SegmentedVector{RigidBodyDynamics.JointID,Float64,Base.OneTo{RigidBodyDynamics.JointID},Array{Float64,1}}:\n",
       "  0.0      \n",
       "  0.0      \n",
       "  0.0      \n",
       " -0.045562 \n",
       "  0.211169 \n",
       "  0.153941 \n",
       " -1.38362  \n",
       "  0.0226297\n",
       " -0.554311 \n",
       " 13.0602   \n",
       " -3.03718  "
      ]
     },
     "execution_count": 55,
     "metadata": {},
     "output_type": "execute_result"
    }
   ],
   "source": [
    "state = nominal_state(robot)\n",
    "# set_configuration!(state, findjoint(mechanism(robot), \"pelvis_to_r_foot_sole_rotation\"), 0.2)\n",
    "# set_configuration!(state, findjoint(mechanism(robot), \"pelvis_to_l_foot_sole_rotation\"), 0.2)\n",
    "# set_configuration!(state, findjoint(mechanism(robot), \"floating_base\"), [0, 0.80, 0])\n",
    "set_velocity!(state, findjoint(mechanism(robot), \"floating_base\"), [0, 0, 0.5])\n",
    "set_configuration!(mvis, configuration(state))\n",
    "τ = similar(velocity(state))\n",
    "simple_qp_controller(τ, 0.0, state)\n",
    "τ"
   ]
  },
  {
   "cell_type": "code",
   "execution_count": 56,
   "metadata": {},
   "outputs": [
    {
     "data": {
      "text/plain": [
       "11-element Array{Float64,1}:\n",
       "  0.0      \n",
       "  0.0      \n",
       "  0.0      \n",
       " -0.173548 \n",
       "  0.346468 \n",
       " -1.20644  \n",
       " -2.92059  \n",
       "  0.0117664\n",
       " -0.563088 \n",
       " 13.0838   \n",
       " -2.97797  "
      ]
     },
     "execution_count": 56,
     "metadata": {},
     "output_type": "execute_result"
    }
   ],
   "source": [
    "state = nominal_state(robot)\n",
    "# set_configuration!(state, findjoint(mechanism(robot), \"pelvis_to_r_foot_sole_rotation\"), 0.2)\n",
    "# set_configuration!(state, findjoint(mechanism(robot), \"pelvis_to_l_foot_sole_rotation\"), 0.2)\n",
    "# set_configuration!(state, findjoint(mechanism(robot), \"floating_base\"), [0, 0.80, 0])\n",
    "set_velocity!(state, findjoint(mechanism(robot), \"floating_base\"), [0, 0, 0.5])\n",
    "lqr_mpc_controller(state)"
   ]
  },
  {
   "cell_type": "code",
   "execution_count": 59,
   "metadata": {},
   "outputs": [
    {
     "name": "stdout",
     "output_type": "stream",
     "text": [
      "  9.072593 seconds (15.51 M allocations: 1005.463 MiB, 18.20% gc time)\n"
     ]
    }
   ],
   "source": [
    "state = nominal_state(robot)\n",
    "# set_configuration!(state, findjoint(mechanism(robot), \"pelvis_to_r_foot_sole_rotation\"), 0.2)\n",
    "# set_configuration!(state, findjoint(mechanism(robot), \"pelvis_to_l_foot_sole_rotation\"), 0.2)\n",
    "# set_configuration!(state, findjoint(mechanism(robot), \"floating_base\"), [0, 0.80, 0])\n",
    "set_velocity!(state, findjoint(mechanism(robot), \"floating_base\"), [-0.5, 0, 0.])\n",
    "\n",
    "final_time = 5\n",
    "Δt = 0.01\n",
    "\n",
    "composed = PeriodicController(similar(velocity(state)), Δt, compose(simple_qp_controller, effort_limiter))\n",
    "controlcallback = DiffEqCallbacks.PeriodicCallback(composed)\n",
    "composed = compose(composed, bounds_enforcer)\n",
    "\n",
    "dynamics = Dynamics(mechanism(robot), composed)\n",
    "problem = ODEProblem(dynamics, state, (0., final_time), callback = CallbackSet(controlcallback, CallbackSet(mvis, state, max_fps = 30.)))\n",
    "\n",
    "@time sol = RigidBodySim.solve(problem, Tsit5(), abs_tol = 1e-8, dt = Δt);"
   ]
  },
  {
   "cell_type": "code",
   "execution_count": 41,
   "metadata": {},
   "outputs": [],
   "source": [
    "RigidBodySim.animate(mvis, state, sol)"
   ]
  },
  {
   "cell_type": "code",
   "execution_count": null,
   "metadata": {},
   "outputs": [],
   "source": []
  }
 ],
 "metadata": {
  "kernelspec": {
   "display_name": "Julia 0.6.3",
   "language": "julia",
   "name": "julia-0.6"
  },
  "language_info": {
   "file_extension": ".jl",
   "mimetype": "application/julia",
   "name": "julia",
   "version": "0.6.3"
  }
 },
 "nbformat": 4,
 "nbformat_minor": 2
}
