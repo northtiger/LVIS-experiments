{
 "cells": [
  {
   "cell_type": "code",
   "execution_count": 1,
   "metadata": {},
   "outputs": [],
   "source": [
    "using Revise"
   ]
  },
  {
   "cell_type": "code",
   "execution_count": 2,
   "metadata": {},
   "outputs": [
    {
     "name": "stderr",
     "output_type": "stream",
     "text": [
      "WARNING: Method definition (::Type{LearningMPC.LearnedCost{T, F} where F where T})(LearningMPC.LQRSolution{T}, Any) in module LearningMPC at /home/rdeits/locomotion/explorations/learning-mpc-2/submodules/LearningMPC/src/learning.jl:115 overwritten at /home/rdeits/locomotion/explorations/learning-mpc-2/submodules/LearningMPC/src/learning.jl:120.\n",
      "WARNING: using Blink.@js in module InteractBase conflicts with an existing identifier.\n"
     ]
    }
   ],
   "source": [
    "using MeshCatMechanisms\n",
    "using MeshCat\n",
    "using RigidBodyDynamics\n",
    "using Flux\n",
    "using ProgressMeter\n",
    "using MLDataPattern\n",
    "using JLD2\n",
    "using Plots; gr()\n",
    "using LCPSim\n",
    "using LearningMPC\n",
    "using LearningMPC.Models\n",
    "using DataFrames\n",
    "using Blink\n",
    "using RigidBodyDynamics"
   ]
  },
  {
   "cell_type": "code",
   "execution_count": 3,
   "metadata": {},
   "outputs": [
    {
     "data": {
      "text/plain": [
       "Blink.AtomShell.Window(1, Blink.AtomShell.Electron(Process(`/home/rdeits/locomotion/explorations/learning-mpc-2/packages/v0.6/Blink/deps/atom/electron /home/rdeits/locomotion/explorations/learning-mpc-2/packages/v0.6/Blink/src/AtomShell/main.js port 4199`, ProcessRunning), TCPSocket(RawFD(51) active, 0 bytes waiting), Dict{String,Any}(Pair{String,Any}(\"callback\", Blink.#3))), Blink.Page(1, WebSockets.WebSocket{TCPSocket}(TCPSocket(RawFD(56) active, 0 bytes waiting), true, CONNECTED::WebSockets.ReadyState = 1), Dict{String,Any}(Pair{String,Any}(\"webio\", WebIO.#109),Pair{String,Any}(\"callback\", Blink.#3)), Future(1, 1, 1, Nullable{Any}(true))))"
      ]
     },
     "execution_count": 3,
     "metadata": {},
     "output_type": "execute_result"
    }
   ],
   "source": [
    "robot = BoxAtlas()\n",
    "mvis = MechanismVisualizer(robot)\n",
    "# IJuliaCell(mvis)\n",
    "open(mvis, Blink.Window())"
   ]
  },
  {
   "cell_type": "code",
   "execution_count": 4,
   "metadata": {},
   "outputs": [
    {
     "name": "stdout",
     "output_type": "stream",
     "text": [
      "Academic license - for non-commercial use only\n",
      "Academic license - for non-commercial use only\n",
      "Academic license - for non-commercial use only\n",
      "Academic license - for non-commercial use only\n",
      "Academic license - for non-commercial use only\n",
      "Academic license - for non-commercial use only\n"
     ]
    },
    {
     "data": {
      "text/plain": [
       "(::MPCController) (generic function with 1 method)"
      ]
     },
     "execution_count": 4,
     "metadata": {},
     "output_type": "execute_result"
    }
   ],
   "source": [
    "@load \"../2018-05-08-box-atlas-longer-miqp/boxatlas.jld2\" datasets net lqrsol mpc_params\n",
    "mpc_params_data = mpc_params\n",
    "mpc_params = MPCParams(robot)\n",
    "mpc_params.Δt = mpc_params_data[\"Δt\"]\n",
    "mpc_params.horizon = mpc_params_data[\"horizon\"]\n",
    "net_cost = LearningMPC.LearnedCost(lqrsol, net)\n",
    "net_mpc_params = MPCParams(robot)\n",
    "net_mpc_params.horizon = 1\n",
    "net_mpc_controller = MPCController(robot, net_mpc_params, net_cost, [lqrsol]);\n",
    "full_mpc_controller = MPCController(robot, mpc_params, lqrsol, [lqrsol, net_mpc_controller]);\n",
    "lqr_mpc_controller = MPCController(robot, (p = MPCParams(robot); p.horizon=1; p), lqrsol, [lqrsol])"
   ]
  },
  {
   "cell_type": "code",
   "execution_count": 5,
   "metadata": {},
   "outputs": [],
   "source": [
    "x0 = nominal_state(robot)\n",
    "x_init = nominal_state(robot)\n",
    "set_velocity!(x0, findjoint(mechanism(robot), \"floating_base\"), [-0.5, 0, 0])\n",
    "results = LCPSim.simulate(x0, lqr_mpc_controller, environment(robot), 0.01, 150, \n",
    "mpc_params.lcp_solver);"
   ]
  },
  {
   "cell_type": "code",
   "execution_count": 6,
   "metadata": {},
   "outputs": [],
   "source": [
    "playback(mvis, results, 0.05)"
   ]
  },
  {
   "cell_type": "code",
   "execution_count": null,
   "metadata": {},
   "outputs": [],
   "source": [
    "table = LearningMPC.run_evaluations(\n",
    "    lqr_mpc_controller,\n",
    "    \"lqr_mpc\",\n",
    "    robot,\n",
    "    lqrsol,\n",
    "    [(1, [0])],\n",
    "    [(1, linspace(-5, 5, 11)), (3, linspace(-10, 10, 11))];\n",
    ")\n",
    "\n",
    "append!(table, \n",
    "    LearningMPC.run_evaluations(\n",
    "    net_mpc_controller,\n",
    "    \"net_mpc\",\n",
    "    robot,\n",
    "    lqrsol,\n",
    "    [(1, [0])],\n",
    "    [(1, linspace(-5, 5, 11)), (3, linspace(-10, 10, 11))];\n",
    ")\n",
    ")\n",
    "\n",
    "table"
   ]
  },
  {
   "cell_type": "code",
   "execution_count": null,
   "metadata": {},
   "outputs": [],
   "source": [
    "jldopen(\"evaluation_table.jld2\", \"w\") do file\n",
    "    file[\"evaluations\"] = table\n",
    "end"
   ]
  },
  {
   "cell_type": "code",
   "execution_count": null,
   "metadata": {},
   "outputs": [],
   "source": [
    "plt = plot(legend=false)\n",
    "for row in eachrow(table)\n",
    "    if row[:controller] == \"net_mpc\"\n",
    "        success = -π/4 <= row[:qf][3] <= π/4\n",
    "        scatter!(plt, [row[:v0][1]], [row[:v0][3]], color = \"green\", marker = success ? :dot : :x)\n",
    "    end\n",
    "end\n",
    "plt"
   ]
  },
  {
   "cell_type": "code",
   "execution_count": null,
   "metadata": {},
   "outputs": [],
   "source": [
    "plt = plot(legend=false)\n",
    "for row in eachrow(table)\n",
    "    if row[:controller] == \"lqr_mpc\"\n",
    "        success = -π/4 <= row[:qf][3] <= π/4\n",
    "        scatter!(plt, [row[:v0][1]], [row[:v0][3]], color = \"green\", marker = success ? :dot : :x)\n",
    "    end\n",
    "end\n",
    "plt"
   ]
  },
  {
   "cell_type": "code",
   "execution_count": null,
   "metadata": {},
   "outputs": [],
   "source": []
  }
 ],
 "metadata": {
  "kernelspec": {
   "display_name": "Julia 0.6.3",
   "language": "julia",
   "name": "julia-0.6"
  },
  "language_info": {
   "file_extension": ".jl",
   "mimetype": "application/julia",
   "name": "julia",
   "version": "0.6.3"
  }
 },
 "nbformat": 4,
 "nbformat_minor": 2
}
