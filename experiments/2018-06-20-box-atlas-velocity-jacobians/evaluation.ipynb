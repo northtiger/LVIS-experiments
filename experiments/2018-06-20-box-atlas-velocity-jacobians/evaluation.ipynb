{
 "cells": [
  {
   "cell_type": "code",
   "execution_count": 1,
   "metadata": {},
   "outputs": [],
   "source": [
    "using Revise"
   ]
  },
  {
   "cell_type": "code",
   "execution_count": 81,
   "metadata": {},
   "outputs": [],
   "source": [
    "using MeshCatMechanisms\n",
    "using MeshCat\n",
    "using RigidBodyDynamics\n",
    "using Flux\n",
    "using ProgressMeter\n",
    "using MLDataPattern\n",
    "using JLD2\n",
    "using Plots; gr()\n",
    "using LCPSim\n",
    "using LearningMPC\n",
    "using LearningMPC.Models\n",
    "using DataFrames\n",
    "using Blink\n",
    "using RigidBodyDynamics"
   ]
  },
  {
   "cell_type": "code",
   "execution_count": 31,
   "metadata": {},
   "outputs": [
    {
     "data": {
      "text/plain": [
       "Blink.AtomShell.Window(1, Blink.AtomShell.Electron(Process(`/home/rdeits/locomotion/explorations/learning-mpc-2/packages/v0.6/Blink/deps/atom/electron /home/rdeits/locomotion/explorations/learning-mpc-2/packages/v0.6/Blink/src/AtomShell/main.js port 9737`, ProcessRunning), TCPSocket(RawFD(61) active, 0 bytes waiting), Dict{String,Any}(Pair{String,Any}(\"callback\", Blink.#3))), Blink.Page(1, WebSockets.WebSocket(5, TCPSocket(RawFD(55) active, 0 bytes waiting), CONNECTED::WebSockets.ReadyState = 1), Dict{String,Any}(Pair{String,Any}(\"webio\", WebIO.#111),Pair{String,Any}(\"callback\", Blink.#3)), Future(1, 1, 1, Nullable{Any}(true))))"
      ]
     },
     "execution_count": 31,
     "metadata": {},
     "output_type": "execute_result"
    }
   ],
   "source": [
    "robot = BoxAtlas()\n",
    "mvis = MechanismVisualizer(robot)\n",
    "# IJuliaCell(mvis)\n",
    "open(mvis, Blink.Window())"
   ]
  },
  {
   "cell_type": "code",
   "execution_count": 32,
   "metadata": {},
   "outputs": [
    {
     "name": "stdout",
     "output_type": "stream",
     "text": [
      "Academic license - for non-commercial use only\n",
      "Academic license - for non-commercial use only\n",
      "Academic license - for non-commercial use only\n",
      "Academic license - for non-commercial use only\n",
      "Academic license - for non-commercial use only\n",
      "Academic license - for non-commercial use only\n"
     ]
    },
    {
     "data": {
      "text/plain": [
       "(::MPCController) (generic function with 1 method)"
      ]
     },
     "execution_count": 32,
     "metadata": {},
     "output_type": "execute_result"
    }
   ],
   "source": [
    "@load \"boxatlas.jld2\" datasets net lqrsol mpc_params\n",
    "mpc_params_data = mpc_params\n",
    "mpc_params = MPCParams(robot)\n",
    "mpc_params.Δt = mpc_params_data[\"Δt\"]\n",
    "mpc_params.horizon = mpc_params_data[\"horizon\"]\n",
    "net_cost = LearningMPC.LearnedCost(lqrsol, net)\n",
    "net_mpc_params = MPCParams(robot)\n",
    "net_mpc_params.horizon = 1\n",
    "net_mpc_controller = MPCController(robot, net_mpc_params, net_cost, [lqrsol]);\n",
    "full_mpc_controller = MPCController(robot, mpc_params, lqrsol, [lqrsol, net_mpc_controller]);\n",
    "lqr_mpc_controller = MPCController(robot, (p = MPCParams(robot); p.horizon=1; p), lqrsol, [lqrsol])"
   ]
  },
  {
   "cell_type": "code",
   "execution_count": 38,
   "metadata": {},
   "outputs": [],
   "source": [
    "x0 = nominal_state(robot)\n",
    "x_init = nominal_state(robot)\n",
    "set_velocity!(x0, findjoint(mechanism(robot), \"floating_base\"), [-3, 0, 0])\n",
    "results = LCPSim.simulate(x0, net_mpc_controller, environment(robot), 0.01, 100, \n",
    "mpc_params.lcp_solver);"
   ]
  },
  {
   "cell_type": "code",
   "execution_count": 49,
   "metadata": {},
   "outputs": [],
   "source": [
    "playback(mvis, results, 0.05)"
   ]
  },
  {
   "cell_type": "code",
   "execution_count": 51,
   "metadata": {},
   "outputs": [
    {
     "data": {
      "text/plain": [
       "4-element Array{Tuple{RigidBodyDynamics.RigidBody{Float64},RigidBodyDynamics.Spatial.Point3D{StaticArrays.SArray{Tuple{3},Float64,1,3}},LCPSim.Obstacle{Float64}},1}:\n",
       " (r_foot_sole, Point3D in \"after_pelvis_to_r_foot_sole_extension\": [0.0, 0.0, 0.0], LCPSim.Obstacle{Float64}(RigidBodyDynamics.Contact.HalfSpace3D{Float64}[RigidBodyDynamics.Contact.HalfSpace3D{Float64}(Point3D in \"after_root_to_floor\": [0.0, 0.0, 0.0], FreeVector3D in \"after_root_to_floor\": [0.0, 0.0, 1.0])], RigidBodyDynamics.Contact.HalfSpace3D{Float64}(Point3D in \"after_root_to_floor\": [0.0, 0.0, 0.0], FreeVector3D in \"after_root_to_floor\": [0.0, 0.0, 1.0]), 1.0, RigidBodyDynamics.Spatial.FreeVector3D{StaticArrays.SArray{Tuple{3},Float64,1,3}}[FreeVector3D in \"after_root_to_floor\": [0.0, -1.0, 6.12323e-17], FreeVector3D in \"after_root_to_floor\": [0.0, 1.0, 6.12323e-17]]))      \n",
       " (l_foot_sole, Point3D in \"after_pelvis_to_l_foot_sole_extension\": [0.0, 0.0, 0.0], LCPSim.Obstacle{Float64}(RigidBodyDynamics.Contact.HalfSpace3D{Float64}[RigidBodyDynamics.Contact.HalfSpace3D{Float64}(Point3D in \"after_root_to_floor\": [0.0, 0.0, 0.0], FreeVector3D in \"after_root_to_floor\": [0.0, 0.0, 1.0])], RigidBodyDynamics.Contact.HalfSpace3D{Float64}(Point3D in \"after_root_to_floor\": [0.0, 0.0, 0.0], FreeVector3D in \"after_root_to_floor\": [0.0, 0.0, 1.0]), 1.0, RigidBodyDynamics.Spatial.FreeVector3D{StaticArrays.SArray{Tuple{3},Float64,1,3}}[FreeVector3D in \"after_root_to_floor\": [0.0, -1.0, 6.12323e-17], FreeVector3D in \"after_root_to_floor\": [0.0, 1.0, 6.12323e-17]]))      \n",
       " (l_hand_mount, Point3D in \"after_pelvis_to_l_hand_mount_extension\": [0.0, 0.0, 0.0], LCPSim.Obstacle{Float64}(RigidBodyDynamics.Contact.HalfSpace3D{Float64}[RigidBodyDynamics.Contact.HalfSpace3D{Float64}(Point3D in \"after_floor_to_wall\": [0.0, 1.0, 1.0], FreeVector3D in \"after_floor_to_wall\": [0.0, -1.0, 0.0])], RigidBodyDynamics.Contact.HalfSpace3D{Float64}(Point3D in \"after_floor_to_wall\": [0.0, 1.0, 1.0], FreeVector3D in \"after_floor_to_wall\": [0.0, -1.0, 0.0]), 1.0, RigidBodyDynamics.Spatial.FreeVector3D{StaticArrays.SArray{Tuple{3},Float64,1,3}}[FreeVector3D in \"after_floor_to_wall\": [0.0, -6.12323e-17, -1.0], FreeVector3D in \"after_floor_to_wall\": [0.0, -6.12323e-17, 1.0]]))\n",
       " (l_foot_sole, Point3D in \"after_pelvis_to_l_foot_sole_extension\": [0.0, 0.0, 0.0], LCPSim.Obstacle{Float64}(RigidBodyDynamics.Contact.HalfSpace3D{Float64}[RigidBodyDynamics.Contact.HalfSpace3D{Float64}(Point3D in \"after_floor_to_wall\": [0.0, 1.0, 1.0], FreeVector3D in \"after_floor_to_wall\": [0.0, -1.0, 0.0])], RigidBodyDynamics.Contact.HalfSpace3D{Float64}(Point3D in \"after_floor_to_wall\": [0.0, 1.0, 1.0], FreeVector3D in \"after_floor_to_wall\": [0.0, -1.0, 0.0]), 1.0, RigidBodyDynamics.Spatial.FreeVector3D{StaticArrays.SArray{Tuple{3},Float64,1,3}}[FreeVector3D in \"after_floor_to_wall\": [0.0, -6.12323e-17, -1.0], FreeVector3D in \"after_floor_to_wall\": [0.0, -6.12323e-17, 1.0]]))  "
      ]
     },
     "execution_count": 51,
     "metadata": {},
     "output_type": "execute_result"
    }
   ],
   "source": [
    "environment(robot).contacts"
   ]
  },
  {
   "cell_type": "code",
   "execution_count": 80,
   "metadata": {},
   "outputs": [
    {
     "ename": "LoadError",
     "evalue": "\u001b[91mUndefVarError: dynamics not defined\u001b[39m",
     "output_type": "error",
     "traceback": [
      "\u001b[91mUndefVarError: dynamics not defined\u001b[39m",
      "",
      "Stacktrace:",
      " [1] \u001b[1minclude_string\u001b[22m\u001b[22m\u001b[1m(\u001b[22m\u001b[22m::String, ::String\u001b[1m)\u001b[22m\u001b[22m at \u001b[1m./loading.jl:522\u001b[22m\u001b[22m"
     ]
    }
   ],
   "source": [
    "RigidBodyDynamics.dynamics(x0)"
   ]
  },
  {
   "cell_type": "code",
   "execution_count": null,
   "metadata": {},
   "outputs": [
    {
     "data": {
      "text/plain": [
       "(::#91) (generic function with 1 method)"
      ]
     },
     "execution_count": 83,
     "metadata": {},
     "output_type": "execute_result"
    }
   ],
   "source": [
    "net_direct_controller = let cache = StateCache(mechanism(robot))\n",
    "    function (x)\n",
    "        state = cache[eltype(configuration(x))]\n",
    "        set_configuration!(state, configuration(x))\n",
    "        set_velocity!(state, velocity(x))\n",
    "        \n",
    "        active_contacts = Iterators.filter(environment(robot).contacts) do c\n",
    "            body, point, obstacle = c\n",
    "            p = transform(state, point, obstacle.contact_face.point.frame)\n",
    "            ϕ = LCPSim.separation(obstacle, p)\n",
    "            ϕ < 1e-2\n",
    "        end\n",
    "        \n",
    "#         @show [point for (b, point, obs) in active_contacts]\n",
    "        u0 = LearningMPC.nominal_input(state, [point for (body, point, obs) in active_contacts])\n",
    "#         @show u0\n",
    "        \n",
    "        B = ForwardDiff.jacobian(u0) do u\n",
    "            diffstate = cache[eltype(u)]\n",
    "            set_configuration!(diffstate, configuration(x))\n",
    "            set_velocity!(diffstate, velocity(x))\n",
    "            result = DynamicsResult{eltype(u)}(mechanism(robot))\n",
    "            dynamics!(result, state, u)\n",
    "            Vector(result)\n",
    "        end\n",
    "        @show B\n",
    "    end\n",
    "end\n",
    "    "
   ]
  },
  {
   "cell_type": "code",
   "execution_count": null,
   "metadata": {},
   "outputs": [],
   "source": [
    "net_direct_controller(x0)"
   ]
  },
  {
   "cell_type": "code",
   "execution_count": null,
   "metadata": {},
   "outputs": [],
   "source": [
    "table = LearningMPC.run_evaluations(\n",
    "    lqr_mpc_controller,\n",
    "    \"lqr_mpc\",\n",
    "    robot,\n",
    "    lqrsol,\n",
    "    [(1, [0])],\n",
    "    [(1, linspace(-5, 5, 11)), (3, linspace(-10, 10, 11))];\n",
    ")\n",
    "\n",
    "append!(table, \n",
    "    LearningMPC.run_evaluations(\n",
    "    net_mpc_controller,\n",
    "    \"net_mpc\",\n",
    "    robot,\n",
    "    lqrsol,\n",
    "    [(1, [0])],\n",
    "    [(1, linspace(-5, 5, 11)), (3, linspace(-10, 10, 11))];\n",
    ")\n",
    ")\n",
    "\n",
    "table"
   ]
  },
  {
   "cell_type": "code",
   "execution_count": null,
   "metadata": {},
   "outputs": [],
   "source": [
    "jldopen(\"evaluation_table.jld2\", \"w\") do file\n",
    "    file[\"evaluations\"] = table\n",
    "end"
   ]
  },
  {
   "cell_type": "code",
   "execution_count": null,
   "metadata": {},
   "outputs": [],
   "source": [
    "plt = plot(legend=false)\n",
    "for row in eachrow(table)\n",
    "    if row[:controller] == \"net_mpc\"\n",
    "        success = -π/4 <= row[:qf][3] <= π/4\n",
    "        scatter!(plt, [row[:v0][1]], [row[:v0][3]], color = \"green\", marker = success ? :dot : :x)\n",
    "    end\n",
    "end\n",
    "plt"
   ]
  },
  {
   "cell_type": "code",
   "execution_count": null,
   "metadata": {},
   "outputs": [],
   "source": [
    "plt = plot(legend=false)\n",
    "for row in eachrow(table)\n",
    "    if row[:controller] == \"lqr_mpc\"\n",
    "        success = -π/4 <= row[:qf][3] <= π/4\n",
    "        scatter!(plt, [row[:v0][1]], [row[:v0][3]], color = \"green\", marker = success ? :dot : :x)\n",
    "    end\n",
    "end\n",
    "plt"
   ]
  },
  {
   "cell_type": "code",
   "execution_count": null,
   "metadata": {},
   "outputs": [],
   "source": []
  }
 ],
 "metadata": {
  "kernelspec": {
   "display_name": "Julia 0.6.2",
   "language": "julia",
   "name": "julia-0.6"
  },
  "language_info": {
   "file_extension": ".jl",
   "mimetype": "application/julia",
   "name": "julia",
   "version": "0.6.2"
  }
 },
 "nbformat": 4,
 "nbformat_minor": 2
}
