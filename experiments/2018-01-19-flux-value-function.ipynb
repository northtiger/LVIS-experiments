{
 "cells": [
  {
   "cell_type": "code",
   "execution_count": 2,
   "metadata": {
    "collapsed": true
   },
   "outputs": [],
   "source": [
    "using Revise"
   ]
  },
  {
   "cell_type": "code",
   "execution_count": 3,
   "metadata": {},
   "outputs": [
    {
     "data": {
      "text/plain": [
       "Plots.GRBackend()"
      ]
     },
     "execution_count": 3,
     "metadata": {},
     "output_type": "execute_result"
    }
   ],
   "source": [
    "using Flux\n",
    "using JLD2\n",
    "using FileIO\n",
    "using MLDataPattern\n",
    "using CoordinateTransformations\n",
    "using Plots; gr()"
   ]
  },
  {
   "cell_type": "code",
   "execution_count": 48,
   "metadata": {},
   "outputs": [
    {
     "name": "stderr",
     "output_type": "stream",
     "text": [
      "\u001b[1m\u001b[36mINFO: \u001b[39m\u001b[22m\u001b[36mRecompiling stale cache file /home/rdeits/locomotion/explorations/learning-mpc/packages/lib/v0.6/ProgressMeter.ji for module ProgressMeter.\n",
      "\u001b[39m"
     ]
    }
   ],
   "source": [
    "using ProgressMeter"
   ]
  },
  {
   "cell_type": "code",
   "execution_count": 4,
   "metadata": {
    "collapsed": true
   },
   "outputs": [],
   "source": [
    "import FluxExtensions\n",
    "import LearningMPC"
   ]
  },
  {
   "cell_type": "code",
   "execution_count": 5,
   "metadata": {
    "collapsed": true
   },
   "outputs": [],
   "source": [
    "samples = load(\"2017-12-20-hopper-grid/grid_search.jld2\")[\"samples\"];"
   ]
  },
  {
   "cell_type": "code",
   "execution_count": 6,
   "metadata": {},
   "outputs": [
    {
     "data": {
      "text/plain": [
       "features (generic function with 1 method)"
      ]
     },
     "execution_count": 6,
     "metadata": {},
     "output_type": "execute_result"
    }
   ],
   "source": [
    "features(sample::LearningMPC.Sample) = (sample.state, sample.mip.objective_bound, sample.mip.objective_value)"
   ]
  },
  {
   "cell_type": "code",
   "execution_count": 7,
   "metadata": {},
   "outputs": [
    {
     "data": {
      "text/plain": [
       "145656-element Array{Tuple{Array{Float64,1},Float64,Float64},1}:\n",
       " ([0.25, 0.25, -5.0, -5.0], 210.503, 232.332)\n",
       " ([0.45, 0.25, -5.0, -5.0], 226.435, 246.457)\n",
       " ([0.65, 0.25, -5.0, -5.0], 263.729, 277.768)\n",
       " ([0.85, 0.25, -5.0, -5.0], 298.823, 298.823)\n",
       " ([1.05, 0.25, -5.0, -5.0], 251.796, 262.749)\n",
       " ([1.25, 0.25, -5.0, -5.0], 296.06, 296.06)  \n",
       " ([1.45, 0.25, -5.0, -5.0], 295.977, 295.977)\n",
       " ([1.65, 0.25, -5.0, -5.0], 315.658, 316.245)\n",
       " ([1.85, 0.25, -5.0, -5.0], 333.866, 333.866)\n",
       " ([2.05, 0.25, -5.0, -5.0], 431.564, 431.564)\n",
       " ([2.25, 0.25, -5.0, -5.0], 426.183, 426.183)\n",
       " ([2.45, 0.25, -5.0, -5.0], 645.097, 645.097)\n",
       " ([2.65, 0.25, -5.0, -5.0], 500.212, 500.242)\n",
       " ⋮                                           \n",
       " ([0.65, 0.85, 5.0, 5.0], 29.9035, 31.0021)  \n",
       " ([0.85, 0.85, 5.0, 5.0], 36.1409, 36.3911)  \n",
       " ([1.05, 0.85, 5.0, 5.0], 13.1182, 13.2453)  \n",
       " ([1.25, 0.85, 5.0, 5.0], 13.1706, 13.2987)  \n",
       " ([1.45, 0.85, 5.0, 5.0], 36.2983, 36.4273)  \n",
       " ([1.65, 0.85, 5.0, 5.0], 82.5012, 82.6312)  \n",
       " ([1.85, 0.85, 5.0, 5.0], 151.779, 151.91)   \n",
       " ([2.05, 0.85, 5.0, 5.0], 244.133, 244.265)  \n",
       " ([2.25, 0.85, 5.0, 5.0], 359.561, 359.695)  \n",
       " ([2.45, 0.85, 5.0, 5.0], 498.251, 498.373)  \n",
       " ([2.65, 0.85, 5.0, 5.0], 660.853, 660.974)  \n",
       " ([2.85, 0.85, 5.0, 5.0], 847.444, 847.566)  "
      ]
     },
     "execution_count": 7,
     "metadata": {},
     "output_type": "execute_result"
    }
   ],
   "source": [
    "data = features.(samples)"
   ]
  },
  {
   "cell_type": "code",
   "execution_count": 8,
   "metadata": {},
   "outputs": [
    {
     "data": {
      "text/plain": [
       "(Tuple{Array{Float64,1},Float64,Float64}[([1.45, 0.45, -2.4, 2.4], 241.228, 260.02), ([1.05, 0.85, -0.2, 3.4], 228.441, 228.441), ([2.65, 0.65, -3.0, -2.0], 547.303, 547.343), ([0.45, 0.85, 3.4, -3.2], 54.3152, 57.8058), ([2.45, 0.85, -2.6, 3.6], 442.608, 442.813), ([0.25, 0.65, -4.4, 0.8], 258.173, 283.18), ([1.65, 0.85, -2.6, -5.0], 255.95, 255.96), ([0.85, 0.85, -3.2, 2.6], 186.381, 186.381), ([2.85, 0.45, 1.2, 2.0], 44.7475, 44.857), ([0.85, 0.45, 1.6, 0.0], 279.266, 296.382)  …  ([0.85, 0.85, 1.2, 1.6], 235.669, 240.508), ([2.05, 0.65, 2.2, -4.6], 7.23971, 7.32992), ([2.25, 0.45, 0.4, -1.2], 152.825, 152.909), ([1.65, 0.65, -2.8, 1.6], 254.917, 254.949), ([2.45, 0.85, -3.6, -0.8], 367.5, 367.5), ([2.45, 0.65, 1.6, -1.6], 20.1627, 20.2578), ([2.85, 0.45, -0.6, -4.8], 94.3499, 94.3899), ([1.25, 0.45, 4.2, 1.2], 7.91228, 8.01748), ([1.45, 0.45, 4.4, 0.4], 22.7554, 22.8575), ([2.65, 0.25, -3.6, -4.6], 421.931, 421.931)], Tuple{Array{Float64,1},Float64,Float64}[([1.25, 0.45, 0.8, -2.2], 278.692, 307.228), ([2.85, 0.85, 1.2, 4.6], 41.8085, 41.9337), ([2.65, 0.45, -2.6, 4.6], 474.584, 474.664), ([0.45, 0.85, -2.4, -2.6], 233.032, 250.355), ([0.25, 0.45, 4.2, -4.8], 58.9576, 64.7627), ([1.25, 0.25, 0.0, 1.8], 282.646, 282.68), ([0.85, 0.65, 4.2, -0.6], 58.066, 58.1645), ([2.45, 0.65, -0.6, 1.4], 296.752, 296.819), ([1.45, 0.85, -1.8, -3.0], 250.528, 250.533), ([1.45, 0.45, 4.0, -0.8], 8.34607, 8.44366)  …  ([0.65, 0.65, 2.6, -0.4], 97.0898, 97.1399), ([0.25, 0.25, -0.2, -2.2], 150.385, 157.912), ([2.85, 0.85, 3.6, 1.2], 455.91, 456.007), ([0.85, 0.85, -2.0, 0.4], 168.795, 186.208), ([2.05, 0.25, 2.6, 1.4], 7.41452, 7.5057), ([0.25, 0.85, -1.2, 3.8], 306.083, 320.833), ([1.85, 0.85, -3.2, 3.4], 254.135, 254.178), ([1.05, 0.25, -2.8, -2.6], 243.77, 243.77), ([2.85, 0.85, -3.4, -0.8], 634.26, 634.323), ([0.25, 0.65, 0.8, 4.2], 153.71, 168.701)])"
      ]
     },
     "execution_count": 8,
     "metadata": {},
     "output_type": "execute_result"
    }
   ],
   "source": [
    "train_data, test_data = splitobs(shuffleobs(data), at=0.85)"
   ]
  },
  {
   "cell_type": "code",
   "execution_count": 9,
   "metadata": {},
   "outputs": [
    {
     "data": {
      "text/plain": [
       "123808-element SubArray{Tuple{Array{Float64,1},Float64,Float64},1,Array{Tuple{Array{Float64,1},Float64,Float64},1},Tuple{Array{Int64,1}},false}:\n",
       " ([1.45, 0.45, -2.4, 2.4], 241.228, 260.02)  \n",
       " ([1.05, 0.85, -0.2, 3.4], 228.441, 228.441) \n",
       " ([2.65, 0.65, -3.0, -2.0], 547.303, 547.343)\n",
       " ([0.45, 0.85, 3.4, -3.2], 54.3152, 57.8058) \n",
       " ([2.45, 0.85, -2.6, 3.6], 442.608, 442.813) \n",
       " ([0.25, 0.65, -4.4, 0.8], 258.173, 283.18)  \n",
       " ([1.65, 0.85, -2.6, -5.0], 255.95, 255.96)  \n",
       " ([0.85, 0.85, -3.2, 2.6], 186.381, 186.381) \n",
       " ([2.85, 0.45, 1.2, 2.0], 44.7475, 44.857)   \n",
       " ([0.85, 0.45, 1.6, 0.0], 279.266, 296.382)  \n",
       " ([2.45, 0.85, -1.2, -1.0], 356.934, 356.984)\n",
       " ([0.45, 0.45, 0.8, -5.0], 103.174, 108.784) \n",
       " ([1.45, 0.45, -2.2, 0.6], 261.089, 261.089) \n",
       " ⋮                                           \n",
       " ([0.65, 0.45, 3.0, -4.8], 183.88, 183.962)  \n",
       " ([0.85, 0.85, 0.8, -4.2], 245.874, 245.874) \n",
       " ([0.85, 0.85, 1.2, 1.6], 235.669, 240.508)  \n",
       " ([2.05, 0.65, 2.2, -4.6], 7.23971, 7.32992) \n",
       " ([2.25, 0.45, 0.4, -1.2], 152.825, 152.909) \n",
       " ([1.65, 0.65, -2.8, 1.6], 254.917, 254.949) \n",
       " ([2.45, 0.85, -3.6, -0.8], 367.5, 367.5)    \n",
       " ([2.45, 0.65, 1.6, -1.6], 20.1627, 20.2578) \n",
       " ([2.85, 0.45, -0.6, -4.8], 94.3499, 94.3899)\n",
       " ([1.25, 0.45, 4.2, 1.2], 7.91228, 8.01748)  \n",
       " ([1.45, 0.45, 4.4, 0.4], 22.7554, 22.8575)  \n",
       " ([2.65, 0.25, -3.6, -4.6], 421.931, 421.931)"
      ]
     },
     "execution_count": 9,
     "metadata": {},
     "output_type": "execute_result"
    }
   ],
   "source": [
    "train_data"
   ]
  },
  {
   "cell_type": "code",
   "execution_count": 206,
   "metadata": {},
   "outputs": [
    {
     "data": {
      "text/plain": [
       "(Chain(LinearMap(UniformScaling{Float64}\n",
       "0.2*I), Dense(4, 32, NNlib.elu), Dense(32, 32, NNlib.elu), Dense(32, 1, NNlib.elu), AffineMap([750], [750])), #195)"
      ]
     },
     "execution_count": 206,
     "metadata": {},
     "output_type": "execute_result"
    }
   ],
   "source": [
    "function setup_model()\n",
    "    model = Chain(\n",
    "        LinearMap(UniformScaling(0.2)),\n",
    "        Dense(4, 32, elu),\n",
    "        Dense(32, 32, elu),\n",
    "        Dense(32, 1, elu),\n",
    "        AffineMap(fill(750, 1, 1), [750])\n",
    "        )\n",
    "\n",
    "    sample_loss = (x, lb, ub) -> begin\n",
    "        y = model(x)\n",
    "        sum(ifelse.(y .< lb, lb .- y, ifelse.(y .> ub, y .- ub, 0 .* y)))\n",
    "    end\n",
    "    batch_loss = (samples) -> sum((sample -> sample_loss(sample...)).(samples)) / length(samples)\n",
    "    model, batch_loss\n",
    "end\n",
    "\n",
    "model, loss = setup_model()"
   ]
  },
  {
   "cell_type": "code",
   "execution_count": 222,
   "metadata": {},
   "outputs": [
    {
     "data": {
      "text/plain": [
       "Tracked 1-element Array{Float64,1}:\n",
       " 261.781"
      ]
     },
     "execution_count": 222,
     "metadata": {},
     "output_type": "execute_result"
    }
   ],
   "source": [
    "model(train_data[1][1])"
   ]
  },
  {
   "cell_type": "code",
   "execution_count": 223,
   "metadata": {},
   "outputs": [
    {
     "data": {
      "text/plain": [
       "([1.45, 0.45, -2.4, 2.4], 241.2277002239117, 260.020092681482)"
      ]
     },
     "execution_count": 223,
     "metadata": {},
     "output_type": "execute_result"
    }
   ],
   "source": [
    "train_data[1]"
   ]
  },
  {
   "cell_type": "code",
   "execution_count": 208,
   "metadata": {},
   "outputs": [
    {
     "data": {
      "text/plain": [
       "(::#71) (generic function with 1 method)"
      ]
     },
     "execution_count": 208,
     "metadata": {},
     "output_type": "execute_result"
    }
   ],
   "source": [
    "opt = Flux.ADADelta(params(model))"
   ]
  },
  {
   "cell_type": "code",
   "execution_count": 209,
   "metadata": {},
   "outputs": [
    {
     "name": "stdout",
     "output_type": "stream",
     "text": [
      "loss(train_data) = param(78.8085)\n"
     ]
    },
    {
     "name": "stderr",
     "output_type": "stream",
     "text": [
      "\r",
      "\u001b[32mProgress:   0%|                                         |  ETA: 3:50:08\u001b[39m"
     ]
    },
    {
     "name": "stdout",
     "output_type": "stream",
     "text": [
      "loss(train_data) = param(75.4834)\n"
     ]
    },
    {
     "name": "stderr",
     "output_type": "stream",
     "text": [
      "\r",
      "\u001b[32mProgress:   1%|                                         |  ETA: 3:44:22\u001b[39m\r",
      "\u001b[32mProgress:   2%|█                                        |  ETA: 3:41:41\u001b[39m"
     ]
    },
    {
     "name": "stdout",
     "output_type": "stream",
     "text": [
      "loss(train_data) = param(73.6842)\n",
      "loss(train_data) = param(71.2093)\n"
     ]
    },
    {
     "name": "stderr",
     "output_type": "stream",
     "text": [
      "\r",
      "\u001b[32mProgress:   2%|█                                        |  ETA: 3:39:43\u001b[39m\r",
      "\u001b[32mProgress:   2%|█                                        |  ETA: 3:38:59\u001b[39m"
     ]
    },
    {
     "name": "stdout",
     "output_type": "stream",
     "text": [
      "loss(train_data) = param(69.3957)\n",
      "loss(train_data) = param(66.9854)\n"
     ]
    },
    {
     "name": "stderr",
     "output_type": "stream",
     "text": [
      "\r",
      "\u001b[32mProgress:   3%|█                                        |  ETA: 3:39:01\u001b[39m\r",
      "\u001b[32mProgress:   4%|█                                        |  ETA: 3:37:52\u001b[39m"
     ]
    },
    {
     "name": "stdout",
     "output_type": "stream",
     "text": [
      "loss(train_data) = param(63.8424)\n",
      "loss(train_data) = param(61.9292)\n"
     ]
    },
    {
     "name": "stderr",
     "output_type": "stream",
     "text": [
      "\r",
      "\u001b[32mProgress:   4%|██                                       |  ETA: 3:36:31\u001b[39m\r",
      "\u001b[32mProgress:   4%|██                                       |  ETA: 3:35:02\u001b[39m"
     ]
    },
    {
     "name": "stdout",
     "output_type": "stream",
     "text": [
      "loss(train_data) = param(60.9521)\n",
      "loss(train_data) = param(60.7921)\n"
     ]
    },
    {
     "name": "stderr",
     "output_type": "stream",
     "text": [
      "\r",
      "\u001b[32mProgress:   5%|██                                       |  ETA: 3:33:37\u001b[39m\r",
      "\u001b[32mProgress:   6%|██                                       |  ETA: 3:32:28\u001b[39m"
     ]
    },
    {
     "name": "stdout",
     "output_type": "stream",
     "text": [
      "loss(train_data) = param(59.7563)\n",
      "loss(train_data) = param(59.6248)\n"
     ]
    },
    {
     "name": "stderr",
     "output_type": "stream",
     "text": [
      "\r",
      "\u001b[32mProgress:   6%|██                                       |  ETA: 3:31:18\u001b[39m\r",
      "\u001b[32mProgress:   6%|███                                      |  ETA: 3:30:19\u001b[39m"
     ]
    },
    {
     "name": "stdout",
     "output_type": "stream",
     "text": [
      "loss(train_data) = param(59.1702)\n",
      "loss(train_data) = param(58.5899)\n"
     ]
    },
    {
     "name": "stderr",
     "output_type": "stream",
     "text": [
      "\r",
      "\u001b[32mProgress:   7%|███                                      |  ETA: 3:29:11\u001b[39m\r",
      "\u001b[32mProgress:   8%|███                                      |  ETA: 3:28:04\u001b[39m"
     ]
    },
    {
     "name": "stdout",
     "output_type": "stream",
     "text": [
      "loss(train_data) = param(58.3396)\n",
      "loss(train_data) = param(58.0396)\n"
     ]
    },
    {
     "name": "stderr",
     "output_type": "stream",
     "text": [
      "\r",
      "\u001b[32mProgress:   8%|███                                      |  ETA: 3:26:51\u001b[39m\r",
      "\u001b[32mProgress:   8%|███                                      |  ETA: 3:25:38\u001b[39m"
     ]
    },
    {
     "name": "stdout",
     "output_type": "stream",
     "text": [
      "loss(train_data) = param(57.5423)\n",
      "loss(train_data) = param(57.4181)\n"
     ]
    },
    {
     "name": "stderr",
     "output_type": "stream",
     "text": [
      "\r",
      "\u001b[32mProgress:   9%|████                                     |  ETA: 3:24:24\u001b[39m\r",
      "\u001b[32mProgress:  10%|████                                     |  ETA: 3:23:09\u001b[39m"
     ]
    },
    {
     "name": "stdout",
     "output_type": "stream",
     "text": [
      "loss(train_data) = param(57.0057)\n",
      "loss(train_data) = param(56.3025)\n"
     ]
    },
    {
     "name": "stderr",
     "output_type": "stream",
     "text": [
      "\r",
      "\u001b[32mProgress:  10%|████                                     |  ETA: 3:21:56\u001b[39m\r",
      "\u001b[32mProgress:  10%|████                                     |  ETA: 3:20:48\u001b[39m"
     ]
    },
    {
     "name": "stdout",
     "output_type": "stream",
     "text": [
      "loss(train_data) = param(56.1749)\n",
      "loss(train_data) = param(56.3812)\n"
     ]
    },
    {
     "name": "stderr",
     "output_type": "stream",
     "text": [
      "\r",
      "\u001b[32mProgress:  11%|█████                                    |  ETA: 3:19:40\u001b[39m\r",
      "\u001b[32mProgress:  12%|█████                                    |  ETA: 3:18:35\u001b[39m"
     ]
    },
    {
     "name": "stdout",
     "output_type": "stream",
     "text": [
      "loss(train_data) = param(55.4045)\n",
      "loss(train_data) = param(54.8955)\n"
     ]
    },
    {
     "name": "stderr",
     "output_type": "stream",
     "text": [
      "\r",
      "\u001b[32mProgress:  12%|█████                                    |  ETA: 3:17:26\u001b[39m\r",
      "\u001b[32mProgress:  12%|█████                                    |  ETA: 3:16:18\u001b[39m"
     ]
    },
    {
     "name": "stdout",
     "output_type": "stream",
     "text": [
      "loss(train_data) = param(54.5289)\n",
      "loss(train_data) = param(53.9862)\n"
     ]
    },
    {
     "name": "stderr",
     "output_type": "stream",
     "text": [
      "\r",
      "\u001b[32mProgress:  13%|█████                                    |  ETA: 3:15:11\u001b[39m\r",
      "\u001b[32mProgress:  14%|██████                                   |  ETA: 3:14:03\u001b[39m"
     ]
    },
    {
     "name": "stdout",
     "output_type": "stream",
     "text": [
      "loss(train_data) = param(53.7147)\n",
      "loss(train_data) = param(53.925)\n"
     ]
    },
    {
     "name": "stderr",
     "output_type": "stream",
     "text": [
      "\r",
      "\u001b[32mProgress:  14%|██████                                   |  ETA: 3:13:00\u001b[39m\r",
      "\u001b[32mProgress:  14%|██████                                   |  ETA: 3:11:52\u001b[39m"
     ]
    },
    {
     "name": "stdout",
     "output_type": "stream",
     "text": [
      "loss(train_data) = param(53.5822)\n",
      "loss(train_data) = param(53.431)\n"
     ]
    },
    {
     "name": "stderr",
     "output_type": "stream",
     "text": [
      "\r",
      "\u001b[32mProgress:  15%|██████                                   |  ETA: 3:10:47\u001b[39m\r",
      "\u001b[32mProgress:  16%|██████                                   |  ETA: 3:09:37\u001b[39m"
     ]
    },
    {
     "name": "stdout",
     "output_type": "stream",
     "text": [
      "loss(train_data) = param(53.0087)\n",
      "loss(train_data) = param(54.8686)\n"
     ]
    },
    {
     "name": "stderr",
     "output_type": "stream",
     "text": [
      "\r",
      "\u001b[32mProgress:  16%|███████                                  |  ETA: 3:08:26\u001b[39m\r",
      "\u001b[32mProgress:  16%|███████                                  |  ETA: 3:07:14\u001b[39m"
     ]
    },
    {
     "name": "stdout",
     "output_type": "stream",
     "text": [
      "loss(train_data) = param(52.6947)\n",
      "loss(train_data) = param(54.393)\n"
     ]
    },
    {
     "name": "stderr",
     "output_type": "stream",
     "text": [
      "\r",
      "\u001b[32mProgress:  17%|███████                                  |  ETA: 3:06:04\u001b[39m\r",
      "\u001b[32mProgress:  18%|███████                                  |  ETA: 3:04:53\u001b[39m"
     ]
    },
    {
     "name": "stdout",
     "output_type": "stream",
     "text": [
      "loss(train_data) = param(52.388)\n",
      "loss(train_data) = param(52.2922)\n"
     ]
    },
    {
     "name": "stderr",
     "output_type": "stream",
     "text": [
      "\r",
      "\u001b[32mProgress:  18%|███████                                  |  ETA: 3:03:41\u001b[39m\r",
      "\u001b[32mProgress:  18%|████████                                 |  ETA: 3:02:31\u001b[39m"
     ]
    },
    {
     "name": "stdout",
     "output_type": "stream",
     "text": [
      "loss(train_data) = param(52.8699)\n",
      "loss(train_data) = param(52.2159)\n"
     ]
    },
    {
     "name": "stderr",
     "output_type": "stream",
     "text": [
      "\r",
      "\u001b[32mProgress:  19%|████████                                 |  ETA: 3:01:21\u001b[39m\r",
      "\u001b[32mProgress:  20%|████████                                 |  ETA: 3:00:13\u001b[39m"
     ]
    },
    {
     "name": "stdout",
     "output_type": "stream",
     "text": [
      "loss(train_data) = param(52.181)\n",
      "loss(train_data) = param(52.1432)\n"
     ]
    },
    {
     "name": "stderr",
     "output_type": "stream",
     "text": [
      "\r",
      "\u001b[32mProgress:  20%|████████                                 |  ETA: 2:59:11\u001b[39m\r",
      "\u001b[32mProgress:  20%|████████                                 |  ETA: 2:58:03\u001b[39m"
     ]
    },
    {
     "name": "stdout",
     "output_type": "stream",
     "text": [
      "loss(train_data) = param(52.0152)\n",
      "loss(train_data) = param(51.8903)\n"
     ]
    },
    {
     "name": "stderr",
     "output_type": "stream",
     "text": [
      "\r",
      "\u001b[32mProgress:  21%|█████████                                |  ETA: 2:56:55\u001b[39m\r",
      "\u001b[32mProgress:  22%|█████████                                |  ETA: 2:55:47\u001b[39m"
     ]
    },
    {
     "name": "stdout",
     "output_type": "stream",
     "text": [
      "loss(train_data) = param(51.6361)\n",
      "loss(train_data) = param(51.5008)\n"
     ]
    },
    {
     "name": "stderr",
     "output_type": "stream",
     "text": [
      "\r",
      "\u001b[32mProgress:  22%|█████████                                |  ETA: 2:54:38\u001b[39m\r",
      "\u001b[32mProgress:  22%|█████████                                |  ETA: 2:53:33\u001b[39m"
     ]
    },
    {
     "name": "stdout",
     "output_type": "stream",
     "text": [
      "loss(train_data) = param(51.2899)\n",
      "loss(train_data) = param(51.6724)\n"
     ]
    },
    {
     "name": "stderr",
     "output_type": "stream",
     "text": [
      "\r",
      "\u001b[32mProgress:  23%|█████████                                |  ETA: 2:52:27\u001b[39m\r",
      "\u001b[32mProgress:  24%|██████████                               |  ETA: 2:51:19\u001b[39m"
     ]
    },
    {
     "name": "stdout",
     "output_type": "stream",
     "text": [
      "loss(train_data) = param(51.2207)\n",
      "loss(train_data) = param(51.8051)\n"
     ]
    },
    {
     "name": "stderr",
     "output_type": "stream",
     "text": [
      "\r",
      "\u001b[32mProgress:  24%|██████████                               |  ETA: 2:50:11\u001b[39m\r",
      "\u001b[32mProgress:  24%|██████████                               |  ETA: 2:49:02\u001b[39m"
     ]
    },
    {
     "name": "stdout",
     "output_type": "stream",
     "text": [
      "loss(train_data) = param(51.0956)\n",
      "loss(train_data) = param(51.0501)\n"
     ]
    },
    {
     "name": "stderr",
     "output_type": "stream",
     "text": [
      "\r",
      "\u001b[32mProgress:  25%|██████████                               |  ETA: 2:47:54\u001b[39m\r",
      "\u001b[32mProgress:  26%|██████████                               |  ETA: 2:46:45\u001b[39m"
     ]
    },
    {
     "name": "stdout",
     "output_type": "stream",
     "text": [
      "loss(train_data) = param(51.0494)\n",
      "loss(train_data) = param(51.2241)\n"
     ]
    },
    {
     "name": "stderr",
     "output_type": "stream",
     "text": [
      "\r",
      "\u001b[32mProgress:  26%|███████████                              |  ETA: 2:45:37\u001b[39m\r",
      "\u001b[32mProgress:  26%|███████████                              |  ETA: 2:44:29\u001b[39m"
     ]
    },
    {
     "name": "stdout",
     "output_type": "stream",
     "text": [
      "loss(train_data) = param(51.3787)\n",
      "loss(train_data) = param(50.9245)\n"
     ]
    },
    {
     "name": "stderr",
     "output_type": "stream",
     "text": [
      "\r",
      "\u001b[32mProgress:  27%|███████████                              |  ETA: 2:43:21\u001b[39m\r",
      "\u001b[32mProgress:  28%|███████████                              |  ETA: 2:42:12\u001b[39m"
     ]
    },
    {
     "name": "stdout",
     "output_type": "stream",
     "text": [
      "loss(train_data) = param(51.0227)\n",
      "loss(train_data) = param(51.2101)\n"
     ]
    },
    {
     "name": "stderr",
     "output_type": "stream",
     "text": [
      "\r",
      "\u001b[32mProgress:  28%|███████████                              |  ETA: 2:41:04\u001b[39m\r",
      "\u001b[32mProgress:  28%|████████████                             |  ETA: 2:39:57\u001b[39m"
     ]
    },
    {
     "name": "stdout",
     "output_type": "stream",
     "text": [
      "loss(train_data) = param(50.966)\n",
      "loss(train_data) = param(50.8809)\n"
     ]
    },
    {
     "name": "stderr",
     "output_type": "stream",
     "text": [
      "\r",
      "\u001b[32mProgress:  29%|████████████                             |  ETA: 2:38:49\u001b[39m\r",
      "\u001b[32mProgress:  30%|████████████                             |  ETA: 2:37:40\u001b[39m"
     ]
    },
    {
     "name": "stdout",
     "output_type": "stream",
     "text": [
      "loss(train_data) = param(50.7145)\n",
      "loss(train_data) = param(50.689)\n"
     ]
    },
    {
     "name": "stderr",
     "output_type": "stream",
     "text": [
      "\r",
      "\u001b[32mProgress:  30%|████████████                             |  ETA: 2:36:32\u001b[39m\r",
      "\u001b[32mProgress:  30%|█████████████                            |  ETA: 2:35:23\u001b[39m"
     ]
    },
    {
     "name": "stdout",
     "output_type": "stream",
     "text": [
      "loss(train_data) = param(50.7454)\n",
      "loss(train_data) = param(50.7645)\n"
     ]
    },
    {
     "name": "stderr",
     "output_type": "stream",
     "text": [
      "\r",
      "\u001b[32mProgress:  31%|█████████████                            |  ETA: 2:34:15\u001b[39m\r",
      "\u001b[32mProgress:  32%|█████████████                            |  ETA: 2:33:07\u001b[39m"
     ]
    },
    {
     "name": "stdout",
     "output_type": "stream",
     "text": [
      "loss(train_data) = param(50.6716)\n",
      "loss(train_data) = param(50.6539)\n"
     ]
    },
    {
     "name": "stderr",
     "output_type": "stream",
     "text": [
      "\r",
      "\u001b[32mProgress:  32%|█████████████                            |  ETA: 2:31:58\u001b[39m\r",
      "\u001b[32mProgress:  32%|█████████████                            |  ETA: 2:30:50\u001b[39m"
     ]
    },
    {
     "name": "stdout",
     "output_type": "stream",
     "text": [
      "loss(train_data) = param(51.0835)\n",
      "loss(train_data) = param(50.6629)\n"
     ]
    },
    {
     "name": "stderr",
     "output_type": "stream",
     "text": [
      "\r",
      "\u001b[32mProgress:  33%|██████████████                           |  ETA: 2:29:42\u001b[39m\r",
      "\u001b[32mProgress:  34%|██████████████                           |  ETA: 2:28:34\u001b[39m"
     ]
    },
    {
     "name": "stdout",
     "output_type": "stream",
     "text": [
      "loss(train_data) = param(50.9357)\n",
      "loss(train_data) = param(50.6997)\n"
     ]
    },
    {
     "name": "stderr",
     "output_type": "stream",
     "text": [
      "\r",
      "\u001b[32mProgress:  34%|██████████████                           |  ETA: 2:27:26\u001b[39m\r",
      "\u001b[32mProgress:  34%|██████████████                           |  ETA: 2:26:18\u001b[39m"
     ]
    },
    {
     "name": "stdout",
     "output_type": "stream",
     "text": [
      "loss(train_data) = param(51.5813)\n",
      "loss(train_data) = param(50.4293)\n"
     ]
    },
    {
     "name": "stderr",
     "output_type": "stream",
     "text": [
      "\r",
      "\u001b[32mProgress:  35%|██████████████                           |  ETA: 2:25:10\u001b[39m\r",
      "\u001b[32mProgress:  36%|███████████████                          |  ETA: 2:24:02\u001b[39m"
     ]
    },
    {
     "name": "stdout",
     "output_type": "stream",
     "text": [
      "loss(train_data) = param(50.2828)\n",
      "loss(train_data) = param(50.6379)\n"
     ]
    },
    {
     "name": "stderr",
     "output_type": "stream",
     "text": [
      "\r",
      "\u001b[32mProgress:  36%|███████████████                          |  ETA: 2:22:55\u001b[39m\r",
      "\u001b[32mProgress:  36%|███████████████                          |  ETA: 2:21:47\u001b[39m"
     ]
    },
    {
     "name": "stdout",
     "output_type": "stream",
     "text": [
      "loss(train_data) = param(50.7463)\n",
      "loss(train_data) = param(50.2701)\n"
     ]
    },
    {
     "name": "stderr",
     "output_type": "stream",
     "text": [
      "\r",
      "\u001b[32mProgress:  37%|███████████████                          |  ETA: 2:20:39\u001b[39m\r",
      "\u001b[32mProgress:  38%|███████████████                          |  ETA: 2:19:32\u001b[39m"
     ]
    },
    {
     "name": "stdout",
     "output_type": "stream",
     "text": [
      "loss(train_data) = param(50.1055)\n",
      "loss(train_data) = param(50.4122)\n"
     ]
    },
    {
     "name": "stderr",
     "output_type": "stream",
     "text": [
      "\r",
      "\u001b[32mProgress:  38%|████████████████                         |  ETA: 2:18:24\u001b[39m\r",
      "\u001b[32mProgress:  38%|████████████████                         |  ETA: 2:17:17\u001b[39m"
     ]
    },
    {
     "name": "stdout",
     "output_type": "stream",
     "text": [
      "loss(train_data) = param(49.8549)\n",
      "loss(train_data) = param(49.852)\n"
     ]
    },
    {
     "name": "stderr",
     "output_type": "stream",
     "text": [
      "\r",
      "\u001b[32mProgress:  39%|████████████████                         |  ETA: 2:16:12\u001b[39m\r",
      "\u001b[32mProgress:  40%|████████████████                         |  ETA: 2:15:06\u001b[39m"
     ]
    },
    {
     "name": "stdout",
     "output_type": "stream",
     "text": [
      "loss(train_data) = param(48.2863)\n",
      "loss(train_data) = param(24.2856)\n"
     ]
    },
    {
     "name": "stderr",
     "output_type": "stream",
     "text": [
      "\r",
      "\u001b[32mProgress:  40%|████████████████                         |  ETA: 2:14:02\u001b[39m\r",
      "\u001b[32mProgress:  40%|█████████████████                        |  ETA: 2:12:57\u001b[39m"
     ]
    },
    {
     "name": "stdout",
     "output_type": "stream",
     "text": [
      "loss(train_data) = param(22.6446)\n",
      "loss(train_data) = param(22.1394)\n"
     ]
    },
    {
     "name": "stderr",
     "output_type": "stream",
     "text": [
      "\r",
      "\u001b[32mProgress:  41%|█████████████████                        |  ETA: 2:11:54\u001b[39m\r",
      "\u001b[32mProgress:  42%|█████████████████                        |  ETA: 2:10:50\u001b[39m"
     ]
    },
    {
     "name": "stdout",
     "output_type": "stream",
     "text": [
      "loss(train_data) = param(21.6154)\n",
      "loss(train_data) = param(21.893)\n"
     ]
    },
    {
     "name": "stderr",
     "output_type": "stream",
     "text": [
      "\r",
      "\u001b[32mProgress:  42%|█████████████████                        |  ETA: 2:09:47\u001b[39m\r",
      "\u001b[32mProgress:  42%|█████████████████                        |  ETA: 2:08:44\u001b[39m"
     ]
    },
    {
     "name": "stdout",
     "output_type": "stream",
     "text": [
      "loss(train_data) = param(23.2545)\n",
      "loss(train_data) = param(22.1859)\n"
     ]
    },
    {
     "name": "stderr",
     "output_type": "stream",
     "text": [
      "\r",
      "\u001b[32mProgress:  43%|██████████████████                       |  ETA: 2:07:41\u001b[39m\r",
      "\u001b[32mProgress:  44%|██████████████████                       |  ETA: 2:06:38\u001b[39m"
     ]
    },
    {
     "name": "stdout",
     "output_type": "stream",
     "text": [
      "loss(train_data) = param(20.9984)\n",
      "loss(train_data) = param(20.5888)\n"
     ]
    },
    {
     "name": "stderr",
     "output_type": "stream",
     "text": [
      "\r",
      "\u001b[32mProgress:  44%|██████████████████                       |  ETA: 2:05:34\u001b[39m\r",
      "\u001b[32mProgress:  44%|██████████████████                       |  ETA: 2:04:31\u001b[39m"
     ]
    },
    {
     "name": "stdout",
     "output_type": "stream",
     "text": [
      "loss(train_data) = param(21.4505)\n",
      "loss(train_data) = param(20.7006)\n"
     ]
    },
    {
     "name": "stderr",
     "output_type": "stream",
     "text": [
      "\r",
      "\u001b[32mProgress:  45%|██████████████████                       |  ETA: 2:03:28\u001b[39m\r",
      "\u001b[32mProgress:  46%|███████████████████                      |  ETA: 2:02:24\u001b[39m"
     ]
    },
    {
     "name": "stdout",
     "output_type": "stream",
     "text": [
      "loss(train_data) = param(20.4175)\n",
      "loss(train_data) = param(20.8705)\n"
     ]
    },
    {
     "name": "stderr",
     "output_type": "stream",
     "text": [
      "\r",
      "\u001b[32mProgress:  46%|███████████████████                      |  ETA: 2:01:20\u001b[39m\r",
      "\u001b[32mProgress:  46%|███████████████████                      |  ETA: 2:00:15\u001b[39m"
     ]
    },
    {
     "name": "stdout",
     "output_type": "stream",
     "text": [
      "loss(train_data) = param(20.1642)\n",
      "loss(train_data) = param(19.7441)\n"
     ]
    },
    {
     "name": "stderr",
     "output_type": "stream",
     "text": [
      "\r",
      "\u001b[32mProgress:  47%|███████████████████                      |  ETA: 1:59:11\u001b[39m\r",
      "\u001b[32mProgress:  48%|███████████████████                      |  ETA: 1:58:07\u001b[39m"
     ]
    },
    {
     "name": "stdout",
     "output_type": "stream",
     "text": [
      "loss(train_data) = param(20.2146)\n",
      "loss(train_data) = param(19.7176)\n"
     ]
    },
    {
     "name": "stderr",
     "output_type": "stream",
     "text": [
      "\r",
      "\u001b[32mProgress:  48%|████████████████████                     |  ETA: 1:57:00\u001b[39m\r",
      "\u001b[32mProgress:  48%|████████████████████                     |  ETA: 1:55:52\u001b[39m"
     ]
    },
    {
     "name": "stdout",
     "output_type": "stream",
     "text": [
      "loss(train_data) = param(20.3854)\n",
      "loss(train_data) = param(19.3611)\n"
     ]
    },
    {
     "name": "stderr",
     "output_type": "stream",
     "text": [
      "\r",
      "\u001b[32mProgress:  49%|████████████████████                     |  ETA: 1:54:44\u001b[39m\r",
      "\u001b[32mProgress:  50%|████████████████████                     |  ETA: 1:53:36\u001b[39m"
     ]
    },
    {
     "name": "stdout",
     "output_type": "stream",
     "text": [
      "loss(train_data) = param(19.2688)\n",
      "loss(train_data) = param(19.0601)\n"
     ]
    },
    {
     "name": "stderr",
     "output_type": "stream",
     "text": [
      "\r",
      "\u001b[32mProgress:  50%|████████████████████                     |  ETA: 1:52:28\u001b[39m\r",
      "\u001b[32mProgress:  50%|█████████████████████                    |  ETA: 1:51:21\u001b[39m"
     ]
    },
    {
     "name": "stdout",
     "output_type": "stream",
     "text": [
      "loss(train_data) = param(19.2029)\n",
      "loss(train_data) = param(19.6977)\n"
     ]
    },
    {
     "name": "stderr",
     "output_type": "stream",
     "text": [
      "\r",
      "\u001b[32mProgress:  51%|█████████████████████                    |  ETA: 1:50:13\u001b[39m\r",
      "\u001b[32mProgress:  52%|█████████████████████                    |  ETA: 1:49:06\u001b[39m"
     ]
    },
    {
     "name": "stdout",
     "output_type": "stream",
     "text": [
      "loss(train_data) = param(19.0087)\n",
      "loss(train_data) = param(18.7949)\n"
     ]
    },
    {
     "name": "stderr",
     "output_type": "stream",
     "text": [
      "\r",
      "\u001b[32mProgress:  52%|█████████████████████                    |  ETA: 1:47:58\u001b[39m\r",
      "\u001b[32mProgress:  52%|██████████████████████                   |  ETA: 1:46:50\u001b[39m"
     ]
    },
    {
     "name": "stdout",
     "output_type": "stream",
     "text": [
      "loss(train_data) = param(18.2536)\n",
      "loss(train_data) = param(20.3304)\n"
     ]
    },
    {
     "name": "stderr",
     "output_type": "stream",
     "text": [
      "\r",
      "\u001b[32mProgress:  53%|██████████████████████                   |  ETA: 1:45:42\u001b[39m\r",
      "\u001b[32mProgress:  54%|██████████████████████                   |  ETA: 1:44:34\u001b[39m"
     ]
    },
    {
     "name": "stdout",
     "output_type": "stream",
     "text": [
      "loss(train_data) = param(19.1895)\n",
      "loss(train_data) = param(17.7973)\n"
     ]
    },
    {
     "name": "stderr",
     "output_type": "stream",
     "text": [
      "\r",
      "\u001b[32mProgress:  54%|██████████████████████                   |  ETA: 1:43:27\u001b[39m\r",
      "\u001b[32mProgress:  54%|██████████████████████                   |  ETA: 1:42:19\u001b[39m"
     ]
    },
    {
     "name": "stdout",
     "output_type": "stream",
     "text": [
      "loss(train_data) = param(18.3798)\n",
      "loss(train_data) = param(17.5896)\n"
     ]
    },
    {
     "name": "stderr",
     "output_type": "stream",
     "text": [
      "\r",
      "\u001b[32mProgress:  55%|███████████████████████                  |  ETA: 1:41:11\u001b[39m\r",
      "\u001b[32mProgress:  56%|███████████████████████                  |  ETA: 1:40:03\u001b[39m"
     ]
    },
    {
     "name": "stdout",
     "output_type": "stream",
     "text": [
      "loss(train_data) = param(17.677)\n",
      "loss(train_data) = param(17.3391)\n"
     ]
    },
    {
     "name": "stderr",
     "output_type": "stream",
     "text": [
      "\r",
      "\u001b[32mProgress:  56%|███████████████████████                  |  ETA: 1:38:55\u001b[39m\r",
      "\u001b[32mProgress:  56%|███████████████████████                  |  ETA: 1:37:48\u001b[39m"
     ]
    },
    {
     "name": "stdout",
     "output_type": "stream",
     "text": [
      "loss(train_data) = param(17.2688)\n",
      "loss(train_data) = param(17.2088)\n"
     ]
    },
    {
     "name": "stderr",
     "output_type": "stream",
     "text": [
      "\r",
      "\u001b[32mProgress:  57%|███████████████████████                  |  ETA: 1:36:40\u001b[39m\r",
      "\u001b[32mProgress:  58%|████████████████████████                 |  ETA: 1:35:32\u001b[39m"
     ]
    },
    {
     "name": "stdout",
     "output_type": "stream",
     "text": [
      "loss(train_data) = param(17.8789)\n",
      "loss(train_data) = param(17.0938)\n"
     ]
    },
    {
     "name": "stderr",
     "output_type": "stream",
     "text": [
      "\r",
      "\u001b[32mProgress:  58%|████████████████████████                 |  ETA: 1:34:25\u001b[39m\r",
      "\u001b[32mProgress:  58%|████████████████████████                 |  ETA: 1:33:17\u001b[39m"
     ]
    },
    {
     "name": "stdout",
     "output_type": "stream",
     "text": [
      "loss(train_data) = param(16.9127)\n",
      "loss(train_data) = param(16.7728)\n"
     ]
    },
    {
     "name": "stderr",
     "output_type": "stream",
     "text": [
      "\r",
      "\u001b[32mProgress:  59%|████████████████████████                 |  ETA: 1:32:10\u001b[39m\r",
      "\u001b[32mProgress:  60%|████████████████████████                 |  ETA: 1:31:02\u001b[39m"
     ]
    },
    {
     "name": "stdout",
     "output_type": "stream",
     "text": [
      "loss(train_data) = param(17.0909)\n",
      "loss(train_data) = param(17.2799)\n"
     ]
    },
    {
     "name": "stderr",
     "output_type": "stream",
     "text": [
      "\r",
      "\u001b[32mProgress:  60%|█████████████████████████                |  ETA: 1:29:54\u001b[39m\r",
      "\u001b[32mProgress:  60%|█████████████████████████                |  ETA: 1:28:46\u001b[39m"
     ]
    },
    {
     "name": "stdout",
     "output_type": "stream",
     "text": [
      "loss(train_data) = param(17.2346)\n",
      "loss(train_data) = param(16.5592)\n"
     ]
    },
    {
     "name": "stderr",
     "output_type": "stream",
     "text": [
      "\r",
      "\u001b[32mProgress:  61%|█████████████████████████                |  ETA: 1:27:39\u001b[39m\r",
      "\u001b[32mProgress:  62%|█████████████████████████                |  ETA: 1:26:32\u001b[39m"
     ]
    },
    {
     "name": "stdout",
     "output_type": "stream",
     "text": [
      "loss(train_data) = param(16.6786)\n",
      "loss(train_data) = param(16.2062)\n"
     ]
    },
    {
     "name": "stderr",
     "output_type": "stream",
     "text": [
      "\r",
      "\u001b[32mProgress:  62%|█████████████████████████                |  ETA: 1:25:24\u001b[39m\r",
      "\u001b[32mProgress:  62%|██████████████████████████               |  ETA: 1:24:17\u001b[39m"
     ]
    },
    {
     "name": "stdout",
     "output_type": "stream",
     "text": [
      "loss(train_data) = param(16.4628)\n",
      "loss(train_data) = param(16.0434)\n"
     ]
    },
    {
     "name": "stderr",
     "output_type": "stream",
     "text": [
      "\r",
      "\u001b[32mProgress:  63%|██████████████████████████               |  ETA: 1:23:09\u001b[39m\r",
      "\u001b[32mProgress:  64%|██████████████████████████               |  ETA: 1:22:02\u001b[39m"
     ]
    },
    {
     "name": "stdout",
     "output_type": "stream",
     "text": [
      "loss(train_data) = param(15.9562)\n",
      "loss(train_data) = param(16.1978)\n"
     ]
    },
    {
     "name": "stderr",
     "output_type": "stream",
     "text": [
      "\r",
      "\u001b[32mProgress:  64%|██████████████████████████               |  ETA: 1:20:54\u001b[39m\r",
      "\u001b[32mProgress:  64%|██████████████████████████               |  ETA: 1:19:47\u001b[39m"
     ]
    },
    {
     "name": "stdout",
     "output_type": "stream",
     "text": [
      "loss(train_data) = param(16.6596)\n",
      "loss(train_data) = param(15.8835)\n"
     ]
    },
    {
     "name": "stderr",
     "output_type": "stream",
     "text": [
      "\r",
      "\u001b[32mProgress:  65%|███████████████████████████              |  ETA: 1:18:39\u001b[39m\r",
      "\u001b[32mProgress:  66%|███████████████████████████              |  ETA: 1:17:32\u001b[39m"
     ]
    },
    {
     "name": "stdout",
     "output_type": "stream",
     "text": [
      "loss(train_data) = param(16.2859)\n",
      "loss(train_data) = param(16.1032)\n"
     ]
    },
    {
     "name": "stderr",
     "output_type": "stream",
     "text": [
      "\r",
      "\u001b[32mProgress:  66%|███████████████████████████              |  ETA: 1:16:36\u001b[39m\r",
      "\u001b[32mProgress:  66%|███████████████████████████              |  ETA: 1:15:41\u001b[39m"
     ]
    },
    {
     "name": "stdout",
     "output_type": "stream",
     "text": [
      "loss(train_data) = param(16.3606)\n",
      "loss(train_data) = param(15.7908)\n"
     ]
    },
    {
     "name": "stderr",
     "output_type": "stream",
     "text": [
      "\r",
      "\u001b[32mProgress:  67%|███████████████████████████              |  ETA: 1:14:47\u001b[39m\r",
      "\u001b[32mProgress:  68%|████████████████████████████             |  ETA: 1:13:54\u001b[39m"
     ]
    },
    {
     "name": "stdout",
     "output_type": "stream",
     "text": [
      "loss(train_data) = param(15.951)\n",
      "loss(train_data) = param(15.8428)\n"
     ]
    },
    {
     "name": "stderr",
     "output_type": "stream",
     "text": [
      "\r",
      "\u001b[32mProgress:  68%|████████████████████████████             |  ETA: 1:12:59\u001b[39m\r",
      "\u001b[32mProgress:  68%|████████████████████████████             |  ETA: 1:12:03\u001b[39m"
     ]
    },
    {
     "name": "stdout",
     "output_type": "stream",
     "text": [
      "loss(train_data) = param(15.7825)\n",
      "loss(train_data) = param(17.0624)\n"
     ]
    },
    {
     "name": "stderr",
     "output_type": "stream",
     "text": [
      "\r",
      "\u001b[32mProgress:  69%|████████████████████████████             |  ETA: 1:10:55\u001b[39m\r",
      "\u001b[32mProgress:  70%|████████████████████████████             |  ETA: 1:09:46\u001b[39m"
     ]
    },
    {
     "name": "stdout",
     "output_type": "stream",
     "text": [
      "loss(train_data) = param(15.3697)\n",
      "loss(train_data) = param(15.4468)\n"
     ]
    },
    {
     "name": "stderr",
     "output_type": "stream",
     "text": [
      "\r",
      "\u001b[32mProgress:  70%|█████████████████████████████            |  ETA: 1:08:38\u001b[39m\r",
      "\u001b[32mProgress:  70%|█████████████████████████████            |  ETA: 1:07:33\u001b[39m"
     ]
    },
    {
     "name": "stdout",
     "output_type": "stream",
     "text": [
      "loss(train_data) = param(15.6022)\n",
      "loss(train_data) = param(15.3048)\n"
     ]
    },
    {
     "name": "stderr",
     "output_type": "stream",
     "text": [
      "\r",
      "\u001b[32mProgress:  71%|█████████████████████████████            |  ETA: 1:06:26\u001b[39m\r",
      "\u001b[32mProgress:  72%|█████████████████████████████            |  ETA: 1:05:20\u001b[39m"
     ]
    },
    {
     "name": "stdout",
     "output_type": "stream",
     "text": [
      "loss(train_data) = param(15.0142)\n",
      "loss(train_data) = param(16.0597)\n"
     ]
    },
    {
     "name": "stderr",
     "output_type": "stream",
     "text": [
      "\r",
      "\u001b[32mProgress:  72%|██████████████████████████████           |  ETA: 1:04:12\u001b[39m\r",
      "\u001b[32mProgress:  72%|██████████████████████████████           |  ETA: 1:03:03\u001b[39m"
     ]
    },
    {
     "name": "stdout",
     "output_type": "stream",
     "text": [
      "loss(train_data) = param(15.0611)\n",
      "loss(train_data) = param(16.8661)\n"
     ]
    },
    {
     "name": "stderr",
     "output_type": "stream",
     "text": [
      "\r",
      "\u001b[32mProgress:  73%|██████████████████████████████           |  ETA: 1:01:55\u001b[39m\r",
      "\u001b[32mProgress:  74%|██████████████████████████████           |  ETA: 1:00:47\u001b[39m"
     ]
    },
    {
     "name": "stdout",
     "output_type": "stream",
     "text": [
      "loss(train_data) = param(14.7256)\n",
      "loss(train_data) = param(15.0062)\n"
     ]
    },
    {
     "name": "stderr",
     "output_type": "stream",
     "text": [
      "\r",
      "\u001b[32mProgress:  74%|██████████████████████████████           |  ETA: 0:59:39\u001b[39m\r",
      "\u001b[32mProgress:  74%|███████████████████████████████          |  ETA: 0:58:30\u001b[39m"
     ]
    },
    {
     "name": "stdout",
     "output_type": "stream",
     "text": [
      "loss(train_data) = param(15.7587)\n",
      "loss(train_data) = param(16.9385)\n"
     ]
    },
    {
     "name": "stderr",
     "output_type": "stream",
     "text": [
      "\r",
      "\u001b[32mProgress:  75%|███████████████████████████████          |  ETA: 0:57:20\u001b[39m\r",
      "\u001b[32mProgress:  76%|███████████████████████████████          |  ETA: 0:56:11\u001b[39m"
     ]
    },
    {
     "name": "stdout",
     "output_type": "stream",
     "text": [
      "loss(train_data) = param(14.7692)\n",
      "loss(train_data) = param(15.1993)\n"
     ]
    },
    {
     "name": "stderr",
     "output_type": "stream",
     "text": [
      "\r",
      "\u001b[32mProgress:  76%|███████████████████████████████          |  ETA: 0:55:02\u001b[39m\r",
      "\u001b[32mProgress:  76%|███████████████████████████████          |  ETA: 0:53:53\u001b[39m"
     ]
    },
    {
     "name": "stdout",
     "output_type": "stream",
     "text": [
      "loss(train_data) = param(16.9668)\n",
      "loss(train_data) = param(15.1213)\n"
     ]
    },
    {
     "name": "stderr",
     "output_type": "stream",
     "text": [
      "\r",
      "\u001b[32mProgress:  77%|████████████████████████████████         |  ETA: 0:52:43\u001b[39m\r",
      "\u001b[32mProgress:  78%|████████████████████████████████         |  ETA: 0:51:35\u001b[39m"
     ]
    },
    {
     "name": "stdout",
     "output_type": "stream",
     "text": [
      "loss(train_data) = param(15.4569)\n",
      "loss(train_data) = param(14.4658)\n"
     ]
    },
    {
     "name": "stderr",
     "output_type": "stream",
     "text": [
      "\r",
      "\u001b[32mProgress:  78%|████████████████████████████████         |  ETA: 0:50:25\u001b[39m\r",
      "\u001b[32mProgress:  78%|████████████████████████████████         |  ETA: 0:49:16\u001b[39m"
     ]
    },
    {
     "name": "stdout",
     "output_type": "stream",
     "text": [
      "loss(train_data) = param(16.8314)\n",
      "loss(train_data) = param(14.7796)\n"
     ]
    },
    {
     "name": "stderr",
     "output_type": "stream",
     "text": [
      "\r",
      "\u001b[32mProgress:  79%|████████████████████████████████         |  ETA: 0:48:14\u001b[39m\r",
      "\u001b[32mProgress:  80%|█████████████████████████████████        |  ETA: 0:47:12\u001b[39m"
     ]
    },
    {
     "name": "stdout",
     "output_type": "stream",
     "text": [
      "loss(train_data) = param(14.758)\n",
      "loss(train_data) = param(15.0128)\n"
     ]
    },
    {
     "name": "stderr",
     "output_type": "stream",
     "text": [
      "\r",
      "\u001b[32mProgress:  80%|█████████████████████████████████        |  ETA: 0:46:02\u001b[39m\r",
      "\u001b[32mProgress:  80%|█████████████████████████████████        |  ETA: 0:44:53\u001b[39m"
     ]
    },
    {
     "name": "stdout",
     "output_type": "stream",
     "text": [
      "loss(train_data) = param(14.2987)\n",
      "loss(train_data) = param(14.5823)\n"
     ]
    },
    {
     "name": "stderr",
     "output_type": "stream",
     "text": [
      "\r",
      "\u001b[32mProgress:  81%|█████████████████████████████████        |  ETA: 0:43:44\u001b[39m\r",
      "\u001b[32mProgress:  82%|█████████████████████████████████        |  ETA: 0:42:34\u001b[39m"
     ]
    },
    {
     "name": "stdout",
     "output_type": "stream",
     "text": [
      "loss(train_data) = param(14.4969)\n",
      "loss(train_data) = param(14.5244)\n"
     ]
    },
    {
     "name": "stderr",
     "output_type": "stream",
     "text": [
      "\r",
      "\u001b[32mProgress:  82%|██████████████████████████████████       |  ETA: 0:41:25\u001b[39m\r",
      "\u001b[32mProgress:  82%|██████████████████████████████████       |  ETA: 0:40:16\u001b[39m"
     ]
    },
    {
     "name": "stdout",
     "output_type": "stream",
     "text": [
      "loss(train_data) = param(16.0766)\n",
      "loss(train_data) = param(14.2562)\n"
     ]
    },
    {
     "name": "stderr",
     "output_type": "stream",
     "text": [
      "\r",
      "\u001b[32mProgress:  83%|██████████████████████████████████       |  ETA: 0:39:06\u001b[39m\r",
      "\u001b[32mProgress:  84%|██████████████████████████████████       |  ETA: 0:37:57\u001b[39m"
     ]
    },
    {
     "name": "stdout",
     "output_type": "stream",
     "text": [
      "loss(train_data) = param(14.9759)\n",
      "loss(train_data) = param(14.8908)\n"
     ]
    },
    {
     "name": "stderr",
     "output_type": "stream",
     "text": [
      "\r",
      "\u001b[32mProgress:  84%|██████████████████████████████████       |  ETA: 0:36:48\u001b[39m\r",
      "\u001b[32mProgress:  84%|███████████████████████████████████      |  ETA: 0:35:39\u001b[39m"
     ]
    },
    {
     "name": "stdout",
     "output_type": "stream",
     "text": [
      "loss(train_data) = param(14.6206)\n",
      "loss(train_data) = param(14.0644)\n"
     ]
    },
    {
     "name": "stderr",
     "output_type": "stream",
     "text": [
      "\r",
      "\u001b[32mProgress:  85%|███████████████████████████████████      |  ETA: 0:34:29\u001b[39m\r",
      "\u001b[32mProgress:  86%|███████████████████████████████████      |  ETA: 0:33:20\u001b[39m"
     ]
    },
    {
     "name": "stdout",
     "output_type": "stream",
     "text": [
      "loss(train_data) = param(15.5882)\n",
      "loss(train_data) = param(14.6642)\n"
     ]
    },
    {
     "name": "stderr",
     "output_type": "stream",
     "text": [
      "\r",
      "\u001b[32mProgress:  86%|███████████████████████████████████      |  ETA: 0:32:11\u001b[39m\r",
      "\u001b[32mProgress:  86%|███████████████████████████████████      |  ETA: 0:31:02\u001b[39m"
     ]
    },
    {
     "name": "stdout",
     "output_type": "stream",
     "text": [
      "loss(train_data) = param(13.8597)\n",
      "loss(train_data) = param(16.7125)\n"
     ]
    },
    {
     "name": "stderr",
     "output_type": "stream",
     "text": [
      "\r",
      "\u001b[32mProgress:  87%|████████████████████████████████████     |  ETA: 0:29:53\u001b[39m\r",
      "\u001b[32mProgress:  88%|████████████████████████████████████     |  ETA: 0:28:44\u001b[39m"
     ]
    },
    {
     "name": "stdout",
     "output_type": "stream",
     "text": [
      "loss(train_data) = param(14.4451)\n",
      "loss(train_data) = param(14.2239)\n"
     ]
    },
    {
     "name": "stderr",
     "output_type": "stream",
     "text": [
      "\r",
      "\u001b[32mProgress:  88%|████████████████████████████████████     |  ETA: 0:27:35\u001b[39m\r",
      "\u001b[32mProgress:  88%|████████████████████████████████████     |  ETA: 0:26:25\u001b[39m"
     ]
    },
    {
     "name": "stdout",
     "output_type": "stream",
     "text": [
      "loss(train_data) = param(14.3664)\n",
      "loss(train_data) = param(14.4054)\n"
     ]
    },
    {
     "name": "stderr",
     "output_type": "stream",
     "text": [
      "\r",
      "\u001b[32mProgress:  89%|████████████████████████████████████     |  ETA: 0:25:17\u001b[39m\r",
      "\u001b[32mProgress:  90%|█████████████████████████████████████    |  ETA: 0:24:08\u001b[39m"
     ]
    },
    {
     "name": "stdout",
     "output_type": "stream",
     "text": [
      "loss(train_data) = param(14.3659)\n",
      "loss(train_data) = param(13.7137)\n"
     ]
    },
    {
     "name": "stderr",
     "output_type": "stream",
     "text": [
      "\r",
      "\u001b[32mProgress:  90%|█████████████████████████████████████    |  ETA: 0:22:59\u001b[39m\r",
      "\u001b[32mProgress:  90%|█████████████████████████████████████    |  ETA: 0:21:50\u001b[39m"
     ]
    },
    {
     "name": "stdout",
     "output_type": "stream",
     "text": [
      "loss(train_data) = param(15.6214)\n",
      "loss(train_data) = param(13.4641)\n"
     ]
    },
    {
     "name": "stderr",
     "output_type": "stream",
     "text": [
      "\r",
      "\u001b[32mProgress:  91%|█████████████████████████████████████    |  ETA: 0:20:41\u001b[39m\r",
      "\u001b[32mProgress:  92%|██████████████████████████████████████   |  ETA: 0:19:32\u001b[39m"
     ]
    },
    {
     "name": "stdout",
     "output_type": "stream",
     "text": [
      "loss(train_data) = param(15.4669)\n",
      "loss(train_data) = param(14.9791)\n"
     ]
    },
    {
     "name": "stderr",
     "output_type": "stream",
     "text": [
      "\r",
      "\u001b[32mProgress:  92%|██████████████████████████████████████   |  ETA: 0:18:23\u001b[39m\r",
      "\u001b[32mProgress:  92%|██████████████████████████████████████   |  ETA: 0:17:14\u001b[39m"
     ]
    },
    {
     "name": "stdout",
     "output_type": "stream",
     "text": [
      "loss(train_data) = param(14.3835)\n",
      "loss(train_data) = param(13.6435)\n"
     ]
    },
    {
     "name": "stderr",
     "output_type": "stream",
     "text": [
      "\r",
      "\u001b[32mProgress:  93%|██████████████████████████████████████   |  ETA: 0:16:05\u001b[39m\r",
      "\u001b[32mProgress:  94%|██████████████████████████████████████   |  ETA: 0:14:56\u001b[39m"
     ]
    },
    {
     "name": "stdout",
     "output_type": "stream",
     "text": [
      "loss(train_data) = param(14.0323)\n",
      "loss(train_data) = param(14.1775)\n"
     ]
    },
    {
     "name": "stderr",
     "output_type": "stream",
     "text": [
      "\r",
      "\u001b[32mProgress:  94%|███████████████████████████████████████  |  ETA: 0:13:47\u001b[39m\r",
      "\u001b[32mProgress:  94%|███████████████████████████████████████  |  ETA: 0:12:38\u001b[39m"
     ]
    },
    {
     "name": "stdout",
     "output_type": "stream",
     "text": [
      "loss(train_data) = param(14.1546)\n",
      "loss(train_data) = param(13.7555)\n"
     ]
    },
    {
     "name": "stderr",
     "output_type": "stream",
     "text": [
      "\r",
      "\u001b[32mProgress:  95%|███████████████████████████████████████  |  ETA: 0:11:29\u001b[39m\r",
      "\u001b[32mProgress:  96%|███████████████████████████████████████  |  ETA: 0:10:20\u001b[39m"
     ]
    },
    {
     "name": "stdout",
     "output_type": "stream",
     "text": [
      "loss(train_data) = param(13.736)\n",
      "loss(train_data) = param(15.8019)\n"
     ]
    },
    {
     "name": "stderr",
     "output_type": "stream",
     "text": [
      "\r",
      "\u001b[32mProgress:  96%|███████████████████████████████████████  |  ETA: 0:09:11\u001b[39m\r",
      "\u001b[32mProgress:  96%|████████████████████████████████████████ |  ETA: 0:08:03\u001b[39m"
     ]
    },
    {
     "name": "stdout",
     "output_type": "stream",
     "text": [
      "loss(train_data) = param(14.2965)\n",
      "loss(train_data) = param(16.0837)\n"
     ]
    },
    {
     "name": "stderr",
     "output_type": "stream",
     "text": [
      "\r",
      "\u001b[32mProgress:  97%|████████████████████████████████████████ |  ETA: 0:06:54\u001b[39m\r",
      "\u001b[32mProgress:  98%|████████████████████████████████████████ |  ETA: 0:05:45\u001b[39m"
     ]
    },
    {
     "name": "stdout",
     "output_type": "stream",
     "text": [
      "loss(train_data) = param(13.3074)\n",
      "loss(train_data) = param(13.4891)\n"
     ]
    },
    {
     "name": "stderr",
     "output_type": "stream",
     "text": [
      "\r",
      "\u001b[32mProgress:  98%|████████████████████████████████████████ |  ETA: 0:04:36\u001b[39m\r",
      "\u001b[32mProgress:  98%|████████████████████████████████████████ |  ETA: 0:03:27\u001b[39m"
     ]
    },
    {
     "name": "stdout",
     "output_type": "stream",
     "text": [
      "loss(train_data) = param(14.1833)\n",
      "loss(train_data) = param(16.2201)\n"
     ]
    },
    {
     "name": "stderr",
     "output_type": "stream",
     "text": [
      "\r",
      "\u001b[32mProgress:  99%|█████████████████████████████████████████|  ETA: 0:02:18\u001b[39m\r",
      "\u001b[32mProgress: 100%|█████████████████████████████████████████|  ETA: 0:01:09\u001b[39m"
     ]
    },
    {
     "name": "stdout",
     "output_type": "stream",
     "text": [
      "loss(train_data) = param(13.9542)\n",
      "loss(train_data) = param(13.6017)\n"
     ]
    },
    {
     "name": "stderr",
     "output_type": "stream",
     "text": [
      "\r",
      "\u001b[32mProgress: 100%|█████████████████████████████████████████| Time: 3:49:44\u001b[39m\n"
     ]
    }
   ],
   "source": [
    "@showprogress for i in 1:200\n",
    "    batches = eachbatch(shuffleobs(train_data), size=50)\n",
    "    for batch in batches\n",
    "        l = loss(batch)\n",
    "        isinf(Flux.Tracker.value(l)) && error(\"Loss is Inf\")\n",
    "        isnan(Flux.Tracker.value(l)) && error(\"Loss is NaN\")\n",
    "        Flux.back!(l)\n",
    "        opt()\n",
    "    end\n",
    "    @show loss(train_data)\n",
    "end"
   ]
  },
  {
   "cell_type": "code",
   "execution_count": 210,
   "metadata": {},
   "outputs": [
    {
     "data": {
      "text/plain": [
       "Tracked 0-dimensional Array{Float64,0}:\n",
       "13.6017"
      ]
     },
     "execution_count": 210,
     "metadata": {},
     "output_type": "execute_result"
    }
   ],
   "source": [
    "loss(train_data)"
   ]
  },
  {
   "cell_type": "code",
   "execution_count": 211,
   "metadata": {},
   "outputs": [
    {
     "data": {
      "text/plain": [
       "Tracked 0-dimensional Array{Float64,0}:\n",
       "13.5435"
      ]
     },
     "execution_count": 211,
     "metadata": {},
     "output_type": "execute_result"
    }
   ],
   "source": [
    "loss(test_data)"
   ]
  },
  {
   "cell_type": "code",
   "execution_count": 218,
   "metadata": {},
   "outputs": [
    {
     "data": {
      "text/plain": [
       "6-element Array{Any,1}:\n",
       " param([-2.10231 -0.416695 -0.580282 0.0422408; -0.754705 0.662337 -0.143734 0.0488835; … ; -1.10827 0.668861 0.0487905 -0.0252331; -1.30875 -0.180811 -2.26249 0.205947])                                                               \n",
       " param([0.844484, 0.178616, 0.403009, -0.208104, 0.49962, 0.44575, 0.266903, -0.51562, 1.32075, 0.369469  …  -1.04144, 1.22526, -0.0552373, -0.0680415, 0.171739, -0.303844, -0.218562, -0.339674, 0.672745, 1.77431])                   \n",
       " param([-0.982463 -0.204259 … -0.865279 0.10621; -0.771774 0.0760247 … -0.656337 -0.153835; … ; -0.759916 -0.563214 … 0.197194 -0.426359; 0.177251 0.0270011 … -0.293825 0.0485714])                                                     \n",
       " param([0.0213042, -0.19165, -0.569993, -0.0782762, -0.0249571, -0.0459417, -0.113423, 0.0118172, 0.24209, -0.0710401  …  0.0657258, -0.0926567, 0.135144, -0.344255, -0.101306, -0.502183, -0.825598, -0.419729, -0.232764, 0.00338587])\n",
       " param([0.747778 0.224254 … 0.586545 -0.145978])                                                                                                                                                                                         \n",
       " param([-0.046508])                                                                                                                                                                                                                      "
      ]
     },
     "execution_count": 218,
     "metadata": {},
     "output_type": "execute_result"
    }
   ],
   "source": [
    "jldopen(\"2018-01-19-flux-value-function-data.jld2\", \"w\") do file\n",
    "    file[\"model\"] = model\n",
    "    file[\"params\"] = params(model)\n",
    "end"
   ]
  },
  {
   "cell_type": "code",
   "execution_count": 212,
   "metadata": {},
   "outputs": [
    {
     "data": {
      "text/plain": [
       "true"
      ]
     },
     "execution_count": 212,
     "metadata": {},
     "output_type": "execute_result"
    }
   ],
   "source": [
    "import LCPSim\n",
    "import Hoppers\n",
    "using RigidBodyDynamics\n",
    "using Gurobi\n",
    "using DrakeVisualizer\n",
    "DrakeVisualizer.any_open_windows() || DrakeVisualizer.new_window()"
   ]
  },
  {
   "cell_type": "code",
   "execution_count": 213,
   "metadata": {},
   "outputs": [
    {
     "data": {
      "text/plain": [
       "([0.0 0.0 1.0 0.0; 0.0 0.0 0.0 1.0; 0.0 0.0 0.0 0.0; 0.0 0.0 0.0 0.0], [0.0 0.0; 0.0 0.0; 0.0 1.0; 0.0 1.0], [0.0, 0.0, -9.81, -9.81])"
      ]
     },
     "execution_count": 213,
     "metadata": {},
     "output_type": "execute_result"
    }
   ],
   "source": [
    "robot = Hoppers.Hopper()\n",
    "xstar = Hoppers.nominal_state(robot)\n",
    "ustar = zeros(num_velocities(xstar))\n",
    "basevis = Visualizer()[:hopper]\n",
    "setgeometry!(basevis, robot)\n",
    "settransform!(basevis[:robot], xstar)\n",
    "\n",
    "Q, R = Hoppers.default_costs(robot)\n",
    "foot = findbody(robot.mechanism, \"foot\")\n",
    "Δt = 0.05\n",
    "Jc = LCPSim.ContactLQR.contact_jacobian(xstar, [Point3D(default_frame(foot), 0., 0., 0.)])\n",
    "A, B, c = LCPSim.ContactLQR.contact_linearize(xstar, ustar, Jc)"
   ]
  },
  {
   "cell_type": "code",
   "execution_count": 214,
   "metadata": {},
   "outputs": [
    {
     "data": {
      "text/plain": [
       "(::#201) (generic function with 1 method)"
      ]
     },
     "execution_count": 214,
     "metadata": {},
     "output_type": "execute_result"
    }
   ],
   "source": [
    "tangent_net = FluxExtensions.TangentPropagator(model)\n",
    "net_value_controller = state -> begin\n",
    "    x = state_vector(state)\n",
    "    value, jac = tangent_net(x)\n",
    "    u = vec(-inv(R) * B' * Flux.Tracker.value(jac)')\n",
    "end"
   ]
  },
  {
   "cell_type": "code",
   "execution_count": 220,
   "metadata": {
    "collapsed": true
   },
   "outputs": [],
   "source": [
    "x_init = MechanismState{Float64}(robot.mechanism)\n",
    "set_configuration!(x_init, [1.0, 1.0])\n",
    "set_velocity!(x_init, [0., 0.])\n",
    "LearningMPC.randomize!(x_init, x_init, 0.5, 1.0)\n",
    "results = LCPSim.simulate(x_init, net_value_controller,\n",
    "    robot.environment,\n",
    "    Δt,\n",
    "    100,\n",
    "    GurobiSolver(Gurobi.Env(), OutputFlag=0));"
   ]
  },
  {
   "cell_type": "code",
   "execution_count": 221,
   "metadata": {
    "collapsed": true
   },
   "outputs": [],
   "source": [
    "LearningMPC.playback(basevis[:robot], results, Δt)"
   ]
  },
  {
   "cell_type": "code",
   "execution_count": 164,
   "metadata": {},
   "outputs": [
    {
     "data": {
      "text/plain": [
       "(param([213.646]), param([160.984 -46.8352 9.64681 -0.567878]))"
      ]
     },
     "execution_count": 164,
     "metadata": {},
     "output_type": "execute_result"
    }
   ],
   "source": [
    "x = [1., 1., 1., 1]\n",
    "tangent_net(x)"
   ]
  },
  {
   "cell_type": "code",
   "execution_count": 205,
   "metadata": {},
   "outputs": [
    {
     "data": {
      "text/plain": [
       "2-element Array{Float64,1}:\n",
       "     0.0 \n",
       " -5203.69"
      ]
     },
     "execution_count": 205,
     "metadata": {},
     "output_type": "execute_result"
    }
   ],
   "source": [
    "net_value_controller(x_init)"
   ]
  },
  {
   "cell_type": "code",
   "execution_count": null,
   "metadata": {
    "collapsed": true
   },
   "outputs": [],
   "source": []
  }
 ],
 "metadata": {
  "kernelspec": {
   "display_name": "Julia 0.6.2",
   "language": "julia",
   "name": "julia-0.6"
  },
  "language_info": {
   "file_extension": ".jl",
   "mimetype": "application/julia",
   "name": "julia",
   "version": "0.6.2"
  }
 },
 "nbformat": 4,
 "nbformat_minor": 2
}
