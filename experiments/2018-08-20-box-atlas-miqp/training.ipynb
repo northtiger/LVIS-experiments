{
 "cells": [
  {
   "cell_type": "markdown",
   "metadata": {},
   "source": [
    "These tests are similar to the previous round, but I'm collecting data differently. The Sample type has been modified to be isbits (storing SVectors) and to more clearly record which warmstart cost is which. I'm also going to try to modify the loss function to operate directly on Samples so that I can just store those. This should make experimenting with things like learning `u` easier. "
   ]
  },
  {
   "cell_type": "code",
   "execution_count": 55,
   "metadata": {},
   "outputs": [],
   "source": [
    "using Revise"
   ]
  },
  {
   "cell_type": "code",
   "execution_count": 56,
   "metadata": {},
   "outputs": [],
   "source": [
    "using MeshCatMechanisms\n",
    "using MeshCat\n",
    "using RigidBodyDynamics\n",
    "using Flux\n",
    "using ProgressMeter\n",
    "using MLDataPattern\n",
    "using JLD2\n",
    "using Plots; gr()\n",
    "using LCPSim\n",
    "using LearningMPC\n",
    "using LearningMPC.Models"
   ]
  },
  {
   "cell_type": "code",
   "execution_count": 57,
   "metadata": {},
   "outputs": [],
   "source": [
    "using Blink"
   ]
  },
  {
   "cell_type": "code",
   "execution_count": 62,
   "metadata": {},
   "outputs": [
    {
     "name": "stderr",
     "output_type": "stream",
     "text": [
      "JSON.Parser.StreamingParserState{TCPSocket}\u001b[1m)\u001b[22m\u001b[22m at \u001b[1m/home/rdeits/locomotion/explorations/learning-mpc-2/packages/v0.6/JSON/src/Parser.jl:148\u001b[22m\u001b[22m\n",
      " [2] \u001b[1mbyteat\u001b[22m\u001b[22m\u001b[1m(\u001b[22m\u001b[22m::JSON.Parser.StreamingParserState{TCPSocket}\u001b[1m)\u001b[22m\u001b[22m at \u001b[1m/home/rdeits/locomotion/explorations/learning-mpc-2/packages/v0.6/JSON/src/Parser.jl:58\u001b[22m\u001b[22m\n",
      " [3] \u001b[1mchomp_space!\u001b[22m\u001b[22m at \u001b[1m/home/rdeits/locomotion/explorations/learning-mpc-2/packages/v0.6/JSON/src/Parser.jl:115\u001b[22m\u001b[22m [inlined]\n",
      " [4] \u001b[1mparse_value\u001b[22m\u001b[22m\u001b[1m(\u001b[22m\u001b[22m::JSON.Parser.ParserContext{Dict{String,Any},Int64}, ::JSON.Parser.StreamingParserState{TCPSocket}\u001b[1m)\u001b[22m\u001b[22m at \u001b[1m/home/rdeits/locomotion/explorations/learning-mpc-2/packages/v0.6/JSON/src/Parser.jl:158\u001b[22m\u001b[22m\n",
      " [5] \u001b[1m#parse#2\u001b[22m\u001b[22m\u001b[1m(\u001b[22m\u001b[22m::Type{Dict{String,Any}}, ::Type{Int64}, ::Function, ::TCPSocket\u001b[1m)\u001b[22m\u001b[22m at \u001b[1m/home/rdeits/locomotion/explorations/learning-mpc-2/packages/v0.6/JSON/src/Parser.jl:406\u001b[22m\u001b[22m\n",
      " [6] \u001b[1mmacro expansion\u001b[22m\u001b[22m at \u001b[1m/home/rdeits/locomotion/explorations/learning-mpc-2/packages/v0.6/Lazy/src/macros.jl:241\u001b[22m\u001b[22m [inlined]\n",
      " [7] \u001b[1mmacro expansion\u001b[22m\u001b[22m at \u001b[1m/home/rdeits/locomotion/explorations/learning-mpc-2/packages/v0.6/Blink/src/AtomShell/process.jl:94\u001b[22m\u001b[22m [inlined]\n",
      " [8] \u001b[1m(::Blink.AtomShell.##6#7{Blink.AtomShell.Electron})\u001b[22m\u001b[22m\u001b[1m(\u001b[22m\u001b[22m\u001b[1m)\u001b[22m\u001b[22m at \u001b[1m./event.jl:73\u001b[22m\u001b[22m\n",
      "WARNING: Method definition interval_net(Any) in module LearningMPC at /home/rdeits/locomotion/explorations/learning-mpc-2/packages/v0.6/LearningMPC/src/learning.jl:137 overwritten at /home/rdeits/locomotion/explorations/learning-mpc-2/packages/v0.6/LearningMPC/src/learning.jl:137.\n",
      "WARNING: Method definition interval_net(Any, Any) in module LearningMPC at /home/rdeits/locomotion/explorations/learning-mpc-2/packages/v0.6/LearningMPC/src/learning.jl:137 overwritten at /home/rdeits/locomotion/explorations/learning-mpc-2/packages/v0.6/LearningMPC/src/learning.jl:137.\n",
      "WARNING: Method definition #interval_net(Array{Any, 1}, typeof(LearningMPC.interval_net), Any) in module LearningMPC overwritten.\n",
      "WARNING: Method definition #interval_net(Array{Any, 1}, typeof(LearningMPC.interval_net), Any, Any) in module LearningMPC overwritten.\n"
     ]
    },
    {
     "data": {
      "text/plain": [
       "Blink.AtomShell.Window(1, Blink.AtomShell.Electron(Process(`/home/rdeits/locomotion/explorations/learning-mpc-2/packages/v0.6/Blink/deps/atom/electron /home/rdeits/locomotion/explorations/learning-mpc-2/packages/v0.6/Blink/src/AtomShell/main.js port 6470`, ProcessRunning), TCPSocket(RawFD(66) active, 0 bytes waiting), Dict{String,Any}(Pair{String,Any}(\"callback\", Blink.#1))), Blink.Page(8, WebSockets.WebSocket{TCPSocket}(TCPSocket(RawFD(54) active, 0 bytes waiting), true, CONNECTED::WebSockets.ReadyState = 1), Dict{String,Any}(Pair{String,Any}(\"webio\", WebIO.#111),Pair{String,Any}(\"callback\", Blink.#1)), Future(1, 1, 8, Nullable{Any}(true))))"
      ]
     },
     "execution_count": 62,
     "metadata": {},
     "output_type": "execute_result"
    }
   ],
   "source": [
    "robot = BoxAtlas(add_contacts=false)\n",
    "mvis = MechanismVisualizer(robot)\n",
    "open(mvis, Window())"
   ]
  },
  {
   "cell_type": "code",
   "execution_count": 63,
   "metadata": {},
   "outputs": [
    {
     "name": "stdout",
     "output_type": "stream",
     "text": [
      "Academic license - for non-commercial use only\n",
      "Academic license - for non-commercial use only\n",
      "eltype(layers) = Flux.Dense{F,TrackedArray{…,Array{Float64,2}},TrackedArray{…,Array{Float64,1}}} where F\n",
      "Academic license - for non-commercial use only\n",
      "Academic license - for non-commercial use only\n",
      "Academic license - for non-commercial use only\n",
      "Academic license - for non-commercial use only\n"
     ]
    },
    {
     "data": {
      "text/plain": [
       "(::MPCController) (generic function with 1 method)"
      ]
     },
     "execution_count": 63,
     "metadata": {},
     "output_type": "execute_result"
    }
   ],
   "source": [
    "params = MPCParams(robot)\n",
    "lqrsol = LQRSolution(robot, params, false)\n",
    "net, loss = LearningMPC.interval_net([22, 32, 32, 1]; regularization=1e-3)\n",
    "optimizer = Flux.ADAM(Flux.params(net))\n",
    "\n",
    "net_cost = LearningMPC.LearnedCost(lqrsol, net)\n",
    "\n",
    "net_mpc_params = MPCParams(robot)\n",
    "net_mpc_params.horizon = 1\n",
    "net_mpc_controller = MPCController(robot, net_mpc_params, net_cost, [lqrsol]);\n",
    "\n",
    "full_mpc_controller = MPCController(robot, params, lqrsol, [lqrsol, net_mpc_controller]);\n",
    "\n",
    "lqr_mpc_controller = MPCController(robot, (p = MPCParams(robot); p.horizon=1; p), lqrsol, [lqrsol])"
   ]
  },
  {
   "cell_type": "code",
   "execution_count": 64,
   "metadata": {},
   "outputs": [
    {
     "name": "stderr",
     "output_type": "stream",
     "text": [
      "WARNING: Method definition interval_net(Any) in module LearningMPC at /home/rdeits/locomotion/explorations/learning-mpc-2/packages/v0.6/LearningMPC/src/learning.jl:137 overwritten at /home/rdeits/locomotion/explorations/learning-mpc-2/packages/v0.6/LearningMPC/src/learning.jl:137.\n",
      "WARNING: Method definition interval_net(Any, Any) in module LearningMPC at /home/rdeits/locomotion/explorations/learning-mpc-2/packages/v0.6/LearningMPC/src/learning.jl:137 overwritten at /home/rdeits/locomotion/explorations/learning-mpc-2/packages/v0.6/LearningMPC/src/learning.jl:137.\n",
      "WARNING: Method definition #interval_net(Array{Any, 1}, typeof(LearningMPC.interval_net), Any) in module LearningMPC overwritten.\n",
      "WARNING: Method definition #interval_net(Array{Any, 1}, typeof(LearningMPC.interval_net), Any, Any) in module LearningMPC overwritten.\n"
     ]
    },
    {
     "data": {
      "text/plain": [
       "(::#221) (generic function with 1 method)"
      ]
     },
     "execution_count": 64,
     "metadata": {},
     "output_type": "execute_result"
    }
   ],
   "source": [
    "sample_sink = LearningMPC.MPCSampleSink(keep_nulls=false; lqrsol=lqrsol, \n",
    "    lqr_warmstart_index=1,\n",
    "    learned_warmstart_index=2)\n",
    "\n",
    "playback_sink = LearningMPC.PlaybackSink{Float64}(mvis)\n",
    "\n",
    "full_mpc_controller.callback = LearningMPC.multiplex!(\n",
    "    sample_sink,\n",
    "    playback_sink\n",
    ")\n",
    "\n",
    "live_viewer = LearningMPC.live_viewer(mvis)\n",
    "\n",
    "dagger_controller = LearningMPC.multiplex!(\n",
    "    LearningMPC.dagger_controller(\n",
    "        full_mpc_controller,\n",
    "        net_mpc_controller),\n",
    "    live_viewer\n",
    "    )\n",
    "\n",
    "collect_into! = let x_init = nominal_state(robot), x0 = MechanismState{Float64}(robot.mechanism), sink = sample_sink\n",
    "    function (data::Vector{<:LearningMPC.Sample}, σv)\n",
    "        empty!(sink)\n",
    "#         copy!(x0, x_init)\n",
    "#         set_velocity!(x0, findjoint(x0.mechanism, \"floating_base\"),\n",
    "#             [σv * (2 * (rand() - 0.5)), 0.0, 0.0])\n",
    "        LearningMPC.randomize!(x0, x_init, 0.0, σv)\n",
    "        results = LCPSim.simulate(x0, \n",
    "            dagger_controller,\n",
    "            robot.environment, params.Δt, 50, \n",
    "            params.lcp_solver;\n",
    "            termination=x -> configuration(x)[3] > π/4 || configuration(x)[3] < -π/4);\n",
    "        append!(data, sink.samples)\n",
    "    end\n",
    "end"
   ]
  },
  {
   "cell_type": "code",
   "execution_count": null,
   "metadata": {
    "scrolled": false
   },
   "outputs": [],
   "source": [
    "library_file = \"library.jld2\"\n",
    "\n",
    "if isfile(library_file)\n",
    "    all_training_data, all_validation_data = jldopen(library_file) do file\n",
    "        file[\"training\"], file[\"testing\"]\n",
    "    end\n",
    "else\n",
    "    all_training_data = Vector{Tuple{eltype(sample_sink.samples)}}()\n",
    "    all_validation_data = Vector{Tuple{eltype(sample_sink.samples)}}()\n",
    "end;\n",
    "\n",
    "datasets = Vector{LearningMPC.Dataset{Float64}}()\n",
    "losses = Vector{Tuple{Float64, Float64}}()\n",
    "\n",
    "N_iter = 500\n",
    "σv = 3.0\n",
    "\n",
    "@showprogress for i in 1:N_iter\n",
    "    dataset = LearningMPC.Dataset(lqrsol)\n",
    "    for i in 1:2\n",
    "        collect_into!(dataset.training_data, σv * i / N_iter)\n",
    "    end\n",
    "    collect_into!(dataset.validation_data, σv * i / N_iter)\n",
    "    \n",
    "    filter!(dataset.training_data) do sample\n",
    "        all(isfinite, sample.input)\n",
    "    end\n",
    "    filter!(dataset.validation_data) do sample\n",
    "        all(isfinite, sample.input)\n",
    "    end\n",
    "    \n",
    "    append!(all_training_data, tuple.(dataset.training_data))\n",
    "    append!(all_validation_data, tuple.(dataset.validation_data))\n",
    "\n",
    "    @time for i in 1:30\n",
    "        Flux.train!(loss, shuffleobs(all_training_data), optimizer)\n",
    "        push!(losses, \n",
    "            (mean(xy -> Flux.Tracker.data(loss(xy...)), \n",
    "                  all_training_data),\n",
    "             mean(xy -> Flux.Tracker.data(loss(xy...)), \n",
    "                  all_validation_data)))\n",
    "    end\n",
    "    push!(datasets, dataset)\n",
    "    \n",
    "    jldopen(\"boxatlas-regularized.jld2\", \"w\") do file\n",
    "        file[\"datasets\"] = datasets\n",
    "        file[\"net\"] = net\n",
    "        file[\"lqrsol\"] = lqrsol\n",
    "        file[\"mpc_params\"] = Dict(\n",
    "            \"Δt\" => params.Δt, \n",
    "            \"horizon\" => params.horizon,\n",
    "        )\n",
    "        file[\"losses\"] = losses\n",
    "    end\n",
    "    \n",
    "    jldopen(\"library.jld2\", \"w\") do file\n",
    "        file[\"training\"] = all_training_data\n",
    "        file[\"testing\"] = all_validation_data\n",
    "    end\n",
    "    \n",
    "    plt = plot(first.(losses), label=\"training\")\n",
    "    plot!(plt, last.(losses), label=\"validation\")\n",
    "    ylims!(plt, (0, ylims(plt)[2]))\n",
    "    display(plt)\n",
    "end"
   ]
  },
  {
   "cell_type": "code",
   "execution_count": null,
   "metadata": {},
   "outputs": [],
   "source": []
  },
  {
   "cell_type": "code",
   "execution_count": null,
   "metadata": {},
   "outputs": [],
   "source": []
  }
 ],
 "metadata": {
  "kernelspec": {
   "display_name": "Julia 0.6.4",
   "language": "julia",
   "name": "julia-0.6"
  },
  "language_info": {
   "file_extension": ".jl",
   "mimetype": "application/julia",
   "name": "julia",
   "version": "0.6.4"
  }
 },
 "nbformat": 4,
 "nbformat_minor": 2
}
