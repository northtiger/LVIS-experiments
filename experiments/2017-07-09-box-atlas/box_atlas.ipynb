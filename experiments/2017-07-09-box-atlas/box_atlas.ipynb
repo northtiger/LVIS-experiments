{
 "cells": [
  {
   "cell_type": "code",
   "execution_count": 1,
   "metadata": {
    "collapsed": false,
    "scrolled": true
   },
   "outputs": [
    {
     "data": {
      "text/plain": [
       "true"
      ]
     },
     "execution_count": 1,
     "metadata": {},
     "output_type": "execute_result"
    }
   ],
   "source": [
    "using MLDataPattern\n",
    "using Plots; pyplot()\n",
    "using ProgressMeter\n",
    "using JLD\n",
    "import PyCall\n",
    "using DrakeVisualizer, GeometryTypes, CoordinateTransformations\n",
    "DrakeVisualizer.any_open_windows() || DrakeVisualizer.new_window()"
   ]
  },
  {
   "cell_type": "code",
   "execution_count": 2,
   "metadata": {
    "collapsed": false
   },
   "outputs": [
    {
     "name": "stderr",
     "output_type": "stream",
     "text": [
      "\u001b[1m\u001b[33mWARNING: \u001b[39m\u001b[22m\u001b[33mGurobi reported infeasible or unbounded. Set InfUnbdInfo=1 for more specific status.\u001b[39m\n"
     ]
    },
    {
     "name": "stdout",
     "output_type": "stream",
     "text": [
      "\u001b[1m\u001b[37mTest Summary:    | \u001b[39m\u001b[22m\u001b[1m\u001b[32mPass  \u001b[39m\u001b[22m\u001b[1m\u001b[36mTotal\u001b[39m\u001b[22m\n",
      "test sensitivity | \u001b[32m 267  \u001b[39m\u001b[36m  267\u001b[39m\n"
     ]
    }
   ],
   "source": [
    "include(\"../../pympc.jl\")\n",
    "colmat = PyMPC.colmat"
   ]
  },
  {
   "cell_type": "code",
   "execution_count": 3,
   "metadata": {
    "collapsed": false
   },
   "outputs": [
    {
     "data": {
      "text/plain": [
       "PyMPC.Models.BoxAtlas(PyObject <pympc.models.boxatlas.BoxAtlasPWAModel object at 0x7f6aedf1d310>)"
      ]
     },
     "execution_count": 3,
     "metadata": {},
     "output_type": "execute_result"
    }
   ],
   "source": [
    "sys = PyMPC.Models.BoxAtlas()"
   ]
  },
  {
   "cell_type": "code",
   "execution_count": 4,
   "metadata": {
    "collapsed": false
   },
   "outputs": [
    {
     "data": {
      "text/plain": [
       "Set{Array{Symbol,1}}()"
      ]
     },
     "execution_count": 4,
     "metadata": {},
     "output_type": "execute_result"
    }
   ],
   "source": [
    "vis = Visualizer()[:boxatlas]\n",
    "setgeometry!(vis, sys)"
   ]
  },
  {
   "cell_type": "code",
   "execution_count": 5,
   "metadata": {
    "collapsed": false
   },
   "outputs": [
    {
     "data": {
      "text/plain": [
       "PyObject <pympc.control.MPCHybridController instance at 0x7f6b1469e6c8>"
      ]
     },
     "execution_count": 5,
     "metadata": {},
     "output_type": "execute_result"
    }
   ],
   "source": [
    "controller = PyMPC.Models.controller(sys, Q=10*eye(10))"
   ]
  },
  {
   "cell_type": "code",
   "execution_count": 6,
   "metadata": {
    "collapsed": false
   },
   "outputs": [],
   "source": [
    "struct Sample\n",
    "    utraj::Vector{Vector{Float64}}\n",
    "    xtraj::Vector{Vector{Float64}}\n",
    "    switching_sequence::Vector{Int}\n",
    "    u_sensitivity::Matrix{Float64}\n",
    "end"
   ]
  },
  {
   "cell_type": "code",
   "execution_count": null,
   "metadata": {
    "collapsed": false,
    "scrolled": false
   },
   "outputs": [
    {
     "name": "stderr",
     "output_type": "stream",
     "text": [
      "Progress:   2%|█                                        |  ETA: 5:32:35"
     ]
    }
   ],
   "source": [
    "num_samples = 100\n",
    "num_sim_steps = 20\n",
    "data = Vector{Sample}()\n",
    "# data = Vector{Tuple{Vector{Float64}, Matrix{Float64}}}()\n",
    "\n",
    "@showprogress for i in 1:num_samples\n",
    "    while true\n",
    "        x0 = PyMPC.Models.generate_x0(sys)\n",
    "        settransform!(vis, sys, x0)\n",
    "        utraj, xtraj, switching_sequence, J = PyMPC.run_mpc(controller, x0)\n",
    "        u = utraj[1]\n",
    "        if !isnan(u[1])\n",
    "            @assert x0 == xtraj[1]\n",
    "            PyMPC.Models.playback(vis, sys, xtraj, 1)\n",
    "            push!(data, Sample(utraj, xtraj, collect(switching_sequence), J[1:length(u), :]))\n",
    "            for j in 1:num_sim_steps\n",
    "                x = xtraj[2]\n",
    "                utraj = vcat(utraj[2:end], [zeros(utraj[end])])\n",
    "                xnext = try\n",
    "                    vec(sys.sys[:pwa_system][:simulate](colmat(xtraj[end]), [colmat(utraj[end-1])])[1][2])\n",
    "                catch e\n",
    "                    if isa(e, PyCall.PyError)\n",
    "                        zeros(xtraj[end])\n",
    "                    else\n",
    "                        rethrow(e)\n",
    "                    end\n",
    "                end\n",
    "                xtraj = vcat(xtraj[2:end], [xnext])\n",
    "                switching_sequence = (switching_sequence[2:end]..., switching_sequence[end])\n",
    "                utraj, xtraj, switching_sequence, J = PyMPC.run_mpc(controller, x, utraj, xtraj, switching_sequence)\n",
    "                u = utraj[1]\n",
    "                if isnan(u[1])\n",
    "                    break\n",
    "                end\n",
    "                @assert x == xtraj[1]\n",
    "                push!(data, Sample(utraj, xtraj, collect(switching_sequence), J[1:length(u), :]))\n",
    "                PyMPC.Models.playback(vis, sys, xtraj, 1)\n",
    "            end\n",
    "            break\n",
    "        end\n",
    "    end\n",
    "    save(\"box_atlas_100_traj.jld\", \"data\", data)\n",
    "end\n",
    "\n",
    "save(\"box_atlas_100_traj.jld\", \"data\", data)"
   ]
  },
  {
   "cell_type": "code",
   "execution_count": null,
   "metadata": {
    "collapsed": true
   },
   "outputs": [],
   "source": []
  }
 ],
 "metadata": {
  "kernelspec": {
   "display_name": "Julia 0.6.0",
   "language": "julia",
   "name": "julia-0.6"
  },
  "language_info": {
   "file_extension": ".jl",
   "mimetype": "application/julia",
   "name": "julia",
   "version": "0.6.0"
  }
 },
 "nbformat": 4,
 "nbformat_minor": 2
}
