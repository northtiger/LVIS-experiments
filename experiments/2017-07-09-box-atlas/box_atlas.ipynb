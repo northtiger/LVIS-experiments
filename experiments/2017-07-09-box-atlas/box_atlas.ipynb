{
 "cells": [
  {
   "cell_type": "code",
   "execution_count": 2,
   "metadata": {
    "scrolled": true
   },
   "outputs": [
    {
     "data": {
      "text/plain": [
       "Process(`/Users/rdeits/locomotion/explorations/learning-mpc/packages/v0.6/DrakeVisualizer/src/../deps/usr/bin/drake-visualizer`, ProcessRunning)"
      ]
     },
     "execution_count": 2,
     "metadata": {},
     "output_type": "execute_result"
    }
   ],
   "source": [
    "using MLDataPattern\n",
    "using Plots; pyplot()\n",
    "using ProgressMeter\n",
    "using JLD\n",
    "import PyCall\n",
    "using DrakeVisualizer, GeometryTypes, CoordinateTransformations\n",
    "DrakeVisualizer.any_open_windows() || DrakeVisualizer.new_window()"
   ]
  },
  {
   "cell_type": "code",
   "execution_count": 20,
   "metadata": {},
   "outputs": [
    {
     "name": "stderr",
     "output_type": "stream",
     "text": [
      "\u001b[1m\u001b[36mINFO: \u001b[39m\u001b[22m\u001b[36mRecompiling stale cache file /Users/rdeits/locomotion/explorations/learning-mpc/packages/lib/v0.6/Nets.ji for module Nets.\n",
      "\u001b[39mWARNING: replacing module Nets.\n"
     ]
    }
   ],
   "source": [
    "import Nets\n",
    "reload(\"Nets\")"
   ]
  },
  {
   "cell_type": "code",
   "execution_count": 9,
   "metadata": {},
   "outputs": [
    {
     "name": "stderr",
     "output_type": "stream",
     "text": [
      "WARNING: replacing module PyMPC\n",
      "\u001b[1m\u001b[33mWARNING: \u001b[39m\u001b[22m\u001b[33mGurobi reported infeasible or unbounded. Set InfUnbdInfo=1 for more specific status.\u001b[39m"
     ]
    },
    {
     "name": "stdout",
     "output_type": "stream",
     "text": [
      "\u001b[1m\u001b[37mTest Summary:    | \u001b[39m\u001b[22m\u001b[1m\u001b[32mPass  \u001b[39m\u001b[22m\u001b[1m\u001b[36mTotal\u001b[39m\u001b[22m\n",
      "test sensitivity | \u001b[32m 267  \u001b[39m\u001b[36m  267\u001b[39m\n"
     ]
    },
    {
     "name": "stderr",
     "output_type": "stream",
     "text": [
      "\n"
     ]
    },
    {
     "data": {
      "text/plain": [
       "colmat (generic function with 1 method)"
      ]
     },
     "execution_count": 9,
     "metadata": {},
     "output_type": "execute_result"
    }
   ],
   "source": [
    "include(\"../../pympc.jl\")\n",
    "colmat = PyMPC.colmat"
   ]
  },
  {
   "cell_type": "code",
   "execution_count": 10,
   "metadata": {},
   "outputs": [
    {
     "data": {
      "text/plain": [
       "PyMPC.Models.BoxAtlas(PyObject <pympc.models.boxatlas.BoxAtlasPWAModel object at 0x12f80eb90>)"
      ]
     },
     "execution_count": 10,
     "metadata": {},
     "output_type": "execute_result"
    }
   ],
   "source": [
    "sys = PyMPC.Models.BoxAtlas()"
   ]
  },
  {
   "cell_type": "code",
   "execution_count": 11,
   "metadata": {},
   "outputs": [
    {
     "data": {
      "text/plain": [
       "Set{Array{Symbol,1}}()"
      ]
     },
     "execution_count": 11,
     "metadata": {},
     "output_type": "execute_result"
    }
   ],
   "source": [
    "vis = Visualizer()[:boxatlas]\n",
    "setgeometry!(vis, sys)"
   ]
  },
  {
   "cell_type": "code",
   "execution_count": 12,
   "metadata": {},
   "outputs": [
    {
     "data": {
      "text/plain": [
       "PyObject <pympc.control.MPCHybridController instance at 0x10a571908>"
      ]
     },
     "execution_count": 12,
     "metadata": {},
     "output_type": "execute_result"
    }
   ],
   "source": [
    "controller = PyMPC.Models.controller(sys, Q=10*eye(10))"
   ]
  },
  {
   "cell_type": "code",
   "execution_count": 13,
   "metadata": {},
   "outputs": [],
   "source": [
    "struct Sample\n",
    "    utraj::Vector{Vector{Float64}}\n",
    "    xtraj::Vector{Vector{Float64}}\n",
    "    switching_sequence::Vector{Int}\n",
    "    u_sensitivity::Matrix{Float64}\n",
    "end"
   ]
  },
  {
   "cell_type": "code",
   "execution_count": 14,
   "metadata": {
    "scrolled": false
   },
   "outputs": [],
   "source": [
    "# num_samples = 100\n",
    "# num_sim_steps = 20\n",
    "# data = Vector{Sample}()\n",
    "# # data = Vector{Tuple{Vector{Float64}, Matrix{Float64}}}()\n",
    "\n",
    "# @showprogress for i in 1:num_samples\n",
    "#     while true\n",
    "#         x0 = PyMPC.Models.generate_x0(sys)\n",
    "#         settransform!(vis, sys, x0)\n",
    "#         utraj, xtraj, switching_sequence, J = PyMPC.run_mpc(controller, x0)\n",
    "#         u = utraj[1]\n",
    "#         if !isnan(u[1])\n",
    "#             @assert x0 == xtraj[1]\n",
    "#             PyMPC.Models.playback(vis, sys, xtraj, 1)\n",
    "#             push!(data, Sample(utraj, xtraj, collect(switching_sequence), J[1:length(u), :]))\n",
    "#             for j in 1:num_sim_steps\n",
    "#                 x = xtraj[2]\n",
    "#                 utraj = vcat(utraj[2:end], [zeros(utraj[end])])\n",
    "#                 xnext = try\n",
    "#                     vec(sys.sys[:pwa_system][:simulate](colmat(xtraj[end]), [colmat(utraj[end-1])])[1][2])\n",
    "#                 catch e\n",
    "#                     if isa(e, PyCall.PyError)\n",
    "#                         zeros(xtraj[end])\n",
    "#                     else\n",
    "#                         rethrow(e)\n",
    "#                     end\n",
    "#                 end\n",
    "#                 xtraj = vcat(xtraj[2:end], [xnext])\n",
    "#                 switching_sequence = (switching_sequence[2:end]..., switching_sequence[end])\n",
    "#                 utraj, xtraj, switching_sequence, J = PyMPC.run_mpc(controller, x, utraj, xtraj, switching_sequence)\n",
    "#                 u = utraj[1]\n",
    "#                 if isnan(u[1])\n",
    "#                     break\n",
    "#                 end\n",
    "#                 @assert x == xtraj[1]\n",
    "#                 push!(data, Sample(utraj, xtraj, collect(switching_sequence), J[1:length(u), :]))\n",
    "#                 PyMPC.Models.playback(vis, sys, xtraj, 1)\n",
    "#             end\n",
    "#             break\n",
    "#         end\n",
    "#     end\n",
    "#     save(\"box_atlas_100_traj.jld\", \"data\", data)\n",
    "# end\n",
    "\n",
    "# save(\"box_atlas_100_traj.jld\", \"data\", data)"
   ]
  },
  {
   "cell_type": "code",
   "execution_count": 16,
   "metadata": {},
   "outputs": [],
   "source": [
    "samples = load(\"box_atlas_100_traj.jld\")[\"data\"];"
   ]
  },
  {
   "cell_type": "code",
   "execution_count": 18,
   "metadata": {},
   "outputs": [
    {
     "data": {
      "text/plain": [
       "features (generic function with 1 method)"
      ]
     },
     "execution_count": 18,
     "metadata": {},
     "output_type": "execute_result"
    }
   ],
   "source": [
    "function features(sample::Sample)\n",
    "    u = sample.utraj[1]\n",
    "    x = sample.xtraj[1]\n",
    "    J = sample.u_sensitivity\n",
    "    x, hcat(u, J)\n",
    "end"
   ]
  },
  {
   "cell_type": "code",
   "execution_count": 21,
   "metadata": {},
   "outputs": [
    {
     "data": {
      "text/plain": [
       "AffineMap([0.583452 0.0 0.0 0.0 0.0 0.0 0.0 0.0 0.0; 0.0 0.223544 0.0 0.0 0.0 0.0 0.0 0.0 0.0; 0.0 0.0 0.502388 0.0 0.0 0.0 0.0 0.0 0.0; 0.0 0.0 0.0 0.242955 0.0 0.0 0.0 0.0 0.0; 0.0 0.0 0.0 0.0 0.272683 0.0 0.0 0.0 0.0; 0.0 0.0 0.0 0.0 0.0 0.53283 0.0 0.0 0.0; 0.0 0.0 0.0 0.0 0.0 0.0 0.153005 0.0 0.0; 0.0 0.0 0.0 0.0 0.0 0.0 0.0 0.166951 0.0; 0.0 0.0 0.0 0.0 0.0 0.0 0.0 0.0 0.154875], [0.0, 0.0, 0.0, 0.0, 0.0, 0.0, 0.0, 0.0, 0.0])"
      ]
     },
     "execution_count": 21,
     "metadata": {},
     "output_type": "execute_result"
    }
   ],
   "source": [
    "data = features.(samples)\n",
    "train_data, test_data = splitobs(shuffleobs(data), 0.5)\n",
    "\n",
    "train_data_scaled, x_to_u, v_to_y = Nets.rescale(train_data)\n",
    "u_to_x = inv(x_to_u)\n",
    "y_to_v = inv(v_to_y)"
   ]
  },
  {
   "cell_type": "code",
   "execution_count": 24,
   "metadata": {},
   "outputs": [
    {
     "data": {
      "text/plain": [
       "9×11 Array{Float64,2}:\n",
       " -0.0        -0.0      -0.0          …  -0.0      -0.0      -0.0        \n",
       "  0.64587    -0.0       0.515159        -0.0      -0.0       0.923383   \n",
       " -0.0        -0.0      -0.0             -0.0      -0.0      -0.0        \n",
       "  1.01876    -0.0       1.93248e-15     -0.0      -0.0       1.82592e-14\n",
       "  0.173778   -0.0      -0.0             -0.0      -0.0      -0.0        \n",
       "  0.0917479  -0.0      -0.0          …  -2.69298  -0.0      -0.0        \n",
       " -0.380844   -1.18669  -0.0             -0.0      -2.41876  -0.0        \n",
       " -0.380844   -1.18669  -0.0             -0.0      -2.41876  -0.0        \n",
       " -0.0        -0.0      -0.0             -0.0      -0.0      -0.0        "
      ]
     },
     "execution_count": 24,
     "metadata": {},
     "output_type": "execute_result"
    }
   ],
   "source": [
    "data[1][2]"
   ]
  },
  {
   "cell_type": "code",
   "execution_count": 108,
   "metadata": {},
   "outputs": [
    {
     "data": {
      "text/plain": [
       "sensitive_loss (generic function with 1 method)"
      ]
     },
     "execution_count": 108,
     "metadata": {},
     "output_type": "execute_result"
    }
   ],
   "source": [
    "widths = [10, 64, 64, 64, 32, 16, 9]\n",
    "activation = Nets.leaky_relu\n",
    "\n",
    "function sensitive_loss(λ)\n",
    "    q = fill(λ, 1, widths[1] + 1)\n",
    "    q[1] = 1.0 - λ\n",
    "    (params, x, y) -> sum(abs2, q .* (Nets.predict_sensitivity(Nets.Net(Nets.Params(widths, params), activation), x) .- y))\n",
    "end"
   ]
  },
  {
   "cell_type": "code",
   "execution_count": 109,
   "metadata": {
    "collapsed": true
   },
   "outputs": [],
   "source": [
    "start_params = 0.1 * randn(Nets.Params{Float64}, widths).data\n",
    "nepoch = 200;"
   ]
  },
  {
   "cell_type": "code",
   "execution_count": 110,
   "metadata": {},
   "outputs": [
    {
     "name": "stdout",
     "output_type": "stream",
     "text": [
      "mean((xy->begin  # In[110], line 8:\n",
      "            sum(abs2, net(xy[1]) .- (xy[2])[:, 1])\n",
      "        end), test_data) = 3.0077926848576007\n"
     ]
    },
    {
     "name": "stderr",
     "output_type": "stream",
     "text": [
      "\u001b[1m\u001b[36mINFO: \u001b[39m\u001b[22m\u001b[36mThe specified values for size and/or count will result in 10 unused data points\n",
      "Progress:   0%|                                         |  ETA: 0:05:18\u001b[1m\u001b[36mINFO: \u001b[39m\u001b[22m\u001b[36mThe specified values for size and/or count will result in 10 unused data points\n",
      "Progress:   1%|                                         |  ETA: 0:04:59\u001b[1m\u001b[36mINFO: \u001b[39m\u001b[22m\u001b[36mThe specified values for size and/or count will result in 10 unused data points\n",
      "Progress:   2%|█                                        |  ETA: 0:04:51\u001b[1m\u001b[36mINFO: \u001b[39m\u001b[22m\u001b[36mThe specified values for size and/or count will result in 10 unused data points\n",
      "Progress:   2%|█                                        |  ETA: 0:04:55\u001b[1m\u001b[36mINFO: \u001b[39m\u001b[22m\u001b[36mThe specified values for size and/or count will result in 10 unused data points\n",
      "Progress:   2%|█                                        |  ETA: 0:04:52\u001b[1m\u001b[36mINFO: \u001b[39m\u001b[22m\u001b[36mThe specified values for size and/or count will result in 10 unused data points\n",
      "Progress:   3%|█                                        |  ETA: 0:04:48\u001b[1m\u001b[36mINFO: \u001b[39m\u001b[22m\u001b[36mThe specified values for size and/or count will result in 10 unused data points\n",
      "Progress:   4%|█                                        |  ETA: 0:04:45\u001b[1m\u001b[36mINFO: \u001b[39m\u001b[22m\u001b[36mThe specified values for size and/or count will result in 10 unused data points\n",
      "Progress:   4%|██                                       |  ETA: 0:04:43\u001b[1m\u001b[36mINFO: \u001b[39m\u001b[22m\u001b[36mThe specified values for size and/or count will result in 10 unused data points\n",
      "Progress:   4%|██                                       |  ETA: 0:04:40\u001b[1m\u001b[36mINFO: \u001b[39m\u001b[22m\u001b[36mThe specified values for size and/or count will result in 10 unused data points\n",
      "Progress:   5%|██                                       |  ETA: 0:04:38\u001b[1m\u001b[36mINFO: \u001b[39m\u001b[22m\u001b[36mThe specified values for size and/or count will result in 10 unused data points\n",
      "Progress:   6%|██                                       |  ETA: 0:04:38\u001b[1m\u001b[36mINFO: \u001b[39m\u001b[22m\u001b[36mThe specified values for size and/or count will result in 10 unused data points\n",
      "Progress:   6%|██                                       |  ETA: 0:04:36\u001b[1m\u001b[36mINFO: \u001b[39m\u001b[22m\u001b[36mThe specified values for size and/or count will result in 10 unused data points\n",
      "Progress:   6%|███                                      |  ETA: 0:04:34\u001b[1m\u001b[36mINFO: \u001b[39m\u001b[22m\u001b[36mThe specified values for size and/or count will result in 10 unused data points\n",
      "Progress:   7%|███                                      |  ETA: 0:04:32\u001b[1m\u001b[36mINFO: \u001b[39m\u001b[22m\u001b[36mThe specified values for size and/or count will result in 10 unused data points\n",
      "Progress:   8%|███                                      |  ETA: 0:04:30\u001b[1m\u001b[36mINFO: \u001b[39m\u001b[22m\u001b[36mThe specified values for size and/or count will result in 10 unused data points\n",
      "Progress:   8%|███                                      |  ETA: 0:04:27\u001b[1m\u001b[36mINFO: \u001b[39m\u001b[22m\u001b[36mThe specified values for size and/or count will result in 10 unused data points\n",
      "Progress:   8%|███                                      |  ETA: 0:04:25\u001b[1m\u001b[36mINFO: \u001b[39m\u001b[22m\u001b[36mThe specified values for size and/or count will result in 10 unused data points\n",
      "Progress:   9%|████                                     |  ETA: 0:04:24\u001b[1m\u001b[36mINFO: \u001b[39m\u001b[22m\u001b[36mThe specified values for size and/or count will result in 10 unused data points\n",
      "Progress:  10%|████                                     |  ETA: 0:04:22\u001b[1m\u001b[36mINFO: \u001b[39m\u001b[22m\u001b[36mThe specified values for size and/or count will result in 10 unused data points\n",
      "Progress:  10%|████                                     |  ETA: 0:04:20\u001b[1m\u001b[36mINFO: \u001b[39m\u001b[22m\u001b[36mThe specified values for size and/or count will result in 10 unused data points\n",
      "Progress:  10%|████                                     |  ETA: 0:04:19\u001b[1m\u001b[36mINFO: \u001b[39m\u001b[22m\u001b[36mThe specified values for size and/or count will result in 10 unused data points\n",
      "Progress:  11%|█████                                    |  ETA: 0:04:18\u001b[1m\u001b[36mINFO: \u001b[39m\u001b[22m\u001b[36mThe specified values for size and/or count will result in 10 unused data points\n",
      "Progress:  12%|█████                                    |  ETA: 0:04:16\u001b[1m\u001b[36mINFO: \u001b[39m\u001b[22m\u001b[36mThe specified values for size and/or count will result in 10 unused data points\n",
      "Progress:  12%|█████                                    |  ETA: 0:04:14\u001b[1m\u001b[36mINFO: \u001b[39m\u001b[22m\u001b[36mThe specified values for size and/or count will result in 10 unused data points\n",
      "Progress:  12%|█████                                    |  ETA: 0:04:13\u001b[1m\u001b[36mINFO: \u001b[39m\u001b[22m\u001b[36mThe specified values for size and/or count will result in 10 unused data points\n",
      "Progress:  13%|█████                                    |  ETA: 0:04:11\u001b[1m\u001b[36mINFO: \u001b[39m\u001b[22m\u001b[36mThe specified values for size and/or count will result in 10 unused data points\n",
      "Progress:  14%|██████                                   |  ETA: 0:04:09\u001b[1m\u001b[36mINFO: \u001b[39m\u001b[22m\u001b[36mThe specified values for size and/or count will result in 10 unused data points\n",
      "Progress:  14%|██████                                   |  ETA: 0:04:08\u001b[1m\u001b[36mINFO: \u001b[39m\u001b[22m\u001b[36mThe specified values for size and/or count will result in 10 unused data points\n",
      "Progress:  14%|██████                                   |  ETA: 0:04:06\u001b[1m\u001b[36mINFO: \u001b[39m\u001b[22m\u001b[36mThe specified values for size and/or count will result in 10 unused data points\n",
      "Progress:  15%|██████                                   |  ETA: 0:04:04\u001b[1m\u001b[36mINFO: \u001b[39m\u001b[22m\u001b[36mThe specified values for size and/or count will result in 10 unused data points\n",
      "Progress:  16%|██████                                   |  ETA: 0:04:03\u001b[1m\u001b[36mINFO: \u001b[39m\u001b[22m\u001b[36mThe specified values for size and/or count will result in 10 unused data points\n",
      "Progress:  16%|███████                                  |  ETA: 0:04:02\u001b[1m\u001b[36mINFO: \u001b[39m\u001b[22m\u001b[36mThe specified values for size and/or count will result in 10 unused data points\n",
      "Progress:  16%|███████                                  |  ETA: 0:04:01\u001b[1m\u001b[36mINFO: \u001b[39m\u001b[22m\u001b[36mThe specified values for size and/or count will result in 10 unused data points\n",
      "Progress:  17%|███████                                  |  ETA: 0:04:00\u001b[1m\u001b[36mINFO: \u001b[39m\u001b[22m\u001b[36mThe specified values for size and/or count will result in 10 unused data points\n",
      "Progress:  18%|███████                                  |  ETA: 0:03:59\u001b[1m\u001b[36mINFO: \u001b[39m\u001b[22m\u001b[36mThe specified values for size and/or count will result in 10 unused data points\n",
      "Progress:  18%|███████                                  |  ETA: 0:03:57\u001b[1m\u001b[36mINFO: \u001b[39m\u001b[22m\u001b[36mThe specified values for size and/or count will result in 10 unused data points\n",
      "Progress:  18%|████████                                 |  ETA: 0:03:56\u001b[1m\u001b[36mINFO: \u001b[39m\u001b[22m\u001b[36mThe specified values for size and/or count will result in 10 unused data points\n",
      "Progress:  19%|████████                                 |  ETA: 0:03:56\u001b[1m\u001b[36mINFO: \u001b[39m\u001b[22m\u001b[36mThe specified values for size and/or count will result in 10 unused data points\n",
      "Progress:  20%|████████                                 |  ETA: 0:03:55\u001b[1m\u001b[36mINFO: \u001b[39m\u001b[22m\u001b[36mThe specified values for size and/or count will result in 10 unused data points\n",
      "Progress:  20%|████████                                 |  ETA: 0:03:53\u001b[1m\u001b[36mINFO: \u001b[39m\u001b[22m\u001b[36mThe specified values for size and/or count will result in 10 unused data points\n",
      "Progress:  20%|████████                                 |  ETA: 0:03:52\u001b[1m\u001b[36mINFO: \u001b[39m\u001b[22m\u001b[36mThe specified values for size and/or count will result in 10 unused data points\n",
      "Progress:  21%|█████████                                |  ETA: 0:03:51\u001b[1m\u001b[36mINFO: \u001b[39m\u001b[22m\u001b[36mThe specified values for size and/or count will result in 10 unused data points\n",
      "Progress:  22%|█████████                                |  ETA: 0:03:50\u001b[1m\u001b[36mINFO: \u001b[39m\u001b[22m\u001b[36mThe specified values for size and/or count will result in 10 unused data points\n",
      "Progress:  22%|█████████                                |  ETA: 0:03:49\u001b[1m\u001b[36mINFO: \u001b[39m\u001b[22m\u001b[36mThe specified values for size and/or count will result in 10 unused data points\n",
      "Progress:  22%|█████████                                |  ETA: 0:03:47\u001b[1m\u001b[36mINFO: \u001b[39m\u001b[22m\u001b[36mThe specified values for size and/or count will result in 10 unused data points\n",
      "Progress:  23%|█████████                                |  ETA: 0:03:46\u001b[1m\u001b[36mINFO: \u001b[39m\u001b[22m\u001b[36mThe specified values for size and/or count will result in 10 unused data points\n"
     ]
    },
    {
     "name": "stderr",
     "output_type": "stream",
     "text": [
      "Progress:  24%|██████████                               |  ETA: 0:03:44\u001b[1m\u001b[36mINFO: \u001b[39m\u001b[22m\u001b[36mThe specified values for size and/or count will result in 10 unused data points\n",
      "Progress:  24%|██████████                               |  ETA: 0:03:42\u001b[1m\u001b[36mINFO: \u001b[39m\u001b[22m\u001b[36mThe specified values for size and/or count will result in 10 unused data points\n",
      "Progress:  24%|██████████                               |  ETA: 0:03:41\u001b[1m\u001b[36mINFO: \u001b[39m\u001b[22m\u001b[36mThe specified values for size and/or count will result in 10 unused data points\n",
      "Progress:  25%|██████████                               |  ETA: 0:03:39\u001b[1m\u001b[36mINFO: \u001b[39m\u001b[22m\u001b[36mThe specified values for size and/or count will result in 10 unused data points\n",
      "Progress:  26%|██████████                               |  ETA: 0:03:37\u001b[1m\u001b[36mINFO: \u001b[39m\u001b[22m\u001b[36mThe specified values for size and/or count will result in 10 unused data points\n",
      "Progress:  26%|███████████                              |  ETA: 0:03:36\u001b[1m\u001b[36mINFO: \u001b[39m\u001b[22m\u001b[36mThe specified values for size and/or count will result in 10 unused data points\n",
      "Progress:  26%|███████████                              |  ETA: 0:03:34\u001b[1m\u001b[36mINFO: \u001b[39m\u001b[22m\u001b[36mThe specified values for size and/or count will result in 10 unused data points\n",
      "Progress:  27%|███████████                              |  ETA: 0:03:33\u001b[1m\u001b[36mINFO: \u001b[39m\u001b[22m\u001b[36mThe specified values for size and/or count will result in 10 unused data points\n",
      "Progress:  28%|███████████                              |  ETA: 0:03:32\u001b[1m\u001b[36mINFO: \u001b[39m\u001b[22m\u001b[36mThe specified values for size and/or count will result in 10 unused data points\n",
      "Progress:  28%|███████████                              |  ETA: 0:03:31\u001b[1m\u001b[36mINFO: \u001b[39m\u001b[22m\u001b[36mThe specified values for size and/or count will result in 10 unused data points\n",
      "Progress:  28%|████████████                             |  ETA: 0:03:29\u001b[1m\u001b[36mINFO: \u001b[39m\u001b[22m\u001b[36mThe specified values for size and/or count will result in 10 unused data points\n",
      "Progress:  29%|████████████                             |  ETA: 0:03:28\u001b[1m\u001b[36mINFO: \u001b[39m\u001b[22m\u001b[36mThe specified values for size and/or count will result in 10 unused data points\n",
      "Progress:  30%|████████████                             |  ETA: 0:03:27\u001b[1m\u001b[36mINFO: \u001b[39m\u001b[22m\u001b[36mThe specified values for size and/or count will result in 10 unused data points\n",
      "Progress:  30%|████████████                             |  ETA: 0:03:25\u001b[1m\u001b[36mINFO: \u001b[39m\u001b[22m\u001b[36mThe specified values for size and/or count will result in 10 unused data points\n",
      "Progress:  30%|█████████████                            |  ETA: 0:03:23\u001b[1m\u001b[36mINFO: \u001b[39m\u001b[22m\u001b[36mThe specified values for size and/or count will result in 10 unused data points\n",
      "Progress:  31%|█████████████                            |  ETA: 0:03:22\u001b[1m\u001b[36mINFO: \u001b[39m\u001b[22m\u001b[36mThe specified values for size and/or count will result in 10 unused data points\n",
      "Progress:  32%|█████████████                            |  ETA: 0:03:20\u001b[1m\u001b[36mINFO: \u001b[39m\u001b[22m\u001b[36mThe specified values for size and/or count will result in 10 unused data points\n",
      "Progress:  32%|█████████████                            |  ETA: 0:03:19\u001b[1m\u001b[36mINFO: \u001b[39m\u001b[22m\u001b[36mThe specified values for size and/or count will result in 10 unused data points\n",
      "Progress:  32%|█████████████                            |  ETA: 0:03:17\u001b[1m\u001b[36mINFO: \u001b[39m\u001b[22m\u001b[36mThe specified values for size and/or count will result in 10 unused data points\n",
      "Progress:  33%|██████████████                           |  ETA: 0:03:15\u001b[1m\u001b[36mINFO: \u001b[39m\u001b[22m\u001b[36mThe specified values for size and/or count will result in 10 unused data points\n",
      "Progress:  34%|██████████████                           |  ETA: 0:03:14\u001b[1m\u001b[36mINFO: \u001b[39m\u001b[22m\u001b[36mThe specified values for size and/or count will result in 10 unused data points\n",
      "Progress:  34%|██████████████                           |  ETA: 0:03:12\u001b[1m\u001b[36mINFO: \u001b[39m\u001b[22m\u001b[36mThe specified values for size and/or count will result in 10 unused data points\n",
      "Progress:  34%|██████████████                           |  ETA: 0:03:11\u001b[1m\u001b[36mINFO: \u001b[39m\u001b[22m\u001b[36mThe specified values for size and/or count will result in 10 unused data points\n",
      "Progress:  35%|██████████████                           |  ETA: 0:03:09\u001b[1m\u001b[36mINFO: \u001b[39m\u001b[22m\u001b[36mThe specified values for size and/or count will result in 10 unused data points\n",
      "Progress:  36%|███████████████                          |  ETA: 0:03:08\u001b[1m\u001b[36mINFO: \u001b[39m\u001b[22m\u001b[36mThe specified values for size and/or count will result in 10 unused data points\n",
      "Progress:  36%|███████████████                          |  ETA: 0:03:07\u001b[1m\u001b[36mINFO: \u001b[39m\u001b[22m\u001b[36mThe specified values for size and/or count will result in 10 unused data points\n",
      "Progress:  36%|███████████████                          |  ETA: 0:03:05\u001b[1m\u001b[36mINFO: \u001b[39m\u001b[22m\u001b[36mThe specified values for size and/or count will result in 10 unused data points\n",
      "Progress:  37%|███████████████                          |  ETA: 0:03:04\u001b[1m\u001b[36mINFO: \u001b[39m\u001b[22m\u001b[36mThe specified values for size and/or count will result in 10 unused data points\n",
      "Progress:  38%|███████████████                          |  ETA: 0:03:03\u001b[1m\u001b[36mINFO: \u001b[39m\u001b[22m\u001b[36mThe specified values for size and/or count will result in 10 unused data points\n",
      "Progress:  38%|████████████████                         |  ETA: 0:03:01\u001b[1m\u001b[36mINFO: \u001b[39m\u001b[22m\u001b[36mThe specified values for size and/or count will result in 10 unused data points\n",
      "Progress:  38%|████████████████                         |  ETA: 0:02:59\u001b[1m\u001b[36mINFO: \u001b[39m\u001b[22m\u001b[36mThe specified values for size and/or count will result in 10 unused data points\n",
      "Progress:  39%|████████████████                         |  ETA: 0:02:58\u001b[1m\u001b[36mINFO: \u001b[39m\u001b[22m\u001b[36mThe specified values for size and/or count will result in 10 unused data points\n",
      "Progress:  40%|████████████████                         |  ETA: 0:02:56\u001b[1m\u001b[36mINFO: \u001b[39m\u001b[22m\u001b[36mThe specified values for size and/or count will result in 10 unused data points\n",
      "Progress:  40%|████████████████                         |  ETA: 0:02:55\u001b[1m\u001b[36mINFO: \u001b[39m\u001b[22m\u001b[36mThe specified values for size and/or count will result in 10 unused data points\n",
      "Progress:  40%|█████████████████                        |  ETA: 0:02:53\u001b[1m\u001b[36mINFO: \u001b[39m\u001b[22m\u001b[36mThe specified values for size and/or count will result in 10 unused data points\n",
      "Progress:  41%|█████████████████                        |  ETA: 0:02:52\u001b[1m\u001b[36mINFO: \u001b[39m\u001b[22m\u001b[36mThe specified values for size and/or count will result in 10 unused data points\n",
      "Progress:  42%|█████████████████                        |  ETA: 0:02:50\u001b[1m\u001b[36mINFO: \u001b[39m\u001b[22m\u001b[36mThe specified values for size and/or count will result in 10 unused data points\n",
      "Progress:  42%|█████████████████                        |  ETA: 0:02:49\u001b[1m\u001b[36mINFO: \u001b[39m\u001b[22m\u001b[36mThe specified values for size and/or count will result in 10 unused data points\n",
      "Progress:  42%|█████████████████                        |  ETA: 0:02:48\u001b[1m\u001b[36mINFO: \u001b[39m\u001b[22m\u001b[36mThe specified values for size and/or count will result in 10 unused data points\n",
      "Progress:  43%|██████████████████                       |  ETA: 0:02:46\u001b[1m\u001b[36mINFO: \u001b[39m\u001b[22m\u001b[36mThe specified values for size and/or count will result in 10 unused data points\n",
      "Progress:  44%|██████████████████                       |  ETA: 0:02:45\u001b[1m\u001b[36mINFO: \u001b[39m\u001b[22m\u001b[36mThe specified values for size and/or count will result in 10 unused data points\n",
      "Progress:  44%|██████████████████                       |  ETA: 0:02:43\u001b[1m\u001b[36mINFO: \u001b[39m\u001b[22m\u001b[36mThe specified values for size and/or count will result in 10 unused data points\n",
      "Progress:  44%|██████████████████                       |  ETA: 0:02:42\u001b[1m\u001b[36mINFO: \u001b[39m\u001b[22m\u001b[36mThe specified values for size and/or count will result in 10 unused data points\n",
      "Progress:  45%|██████████████████                       |  ETA: 0:02:41\u001b[1m\u001b[36mINFO: \u001b[39m\u001b[22m\u001b[36mThe specified values for size and/or count will result in 10 unused data points\n",
      "Progress:  46%|███████████████████                      |  ETA: 0:02:39\u001b[1m\u001b[36mINFO: \u001b[39m\u001b[22m\u001b[36mThe specified values for size and/or count will result in 10 unused data points\n"
     ]
    },
    {
     "name": "stderr",
     "output_type": "stream",
     "text": [
      "Progress:  46%|███████████████████                      |  ETA: 0:02:38\u001b[1m\u001b[36mINFO: \u001b[39m\u001b[22m\u001b[36mThe specified values for size and/or count will result in 10 unused data points\n",
      "Progress:  46%|███████████████████                      |  ETA: 0:02:36\u001b[1m\u001b[36mINFO: \u001b[39m\u001b[22m\u001b[36mThe specified values for size and/or count will result in 10 unused data points\n",
      "Progress:  47%|███████████████████                      |  ETA: 0:02:35\u001b[1m\u001b[36mINFO: \u001b[39m\u001b[22m\u001b[36mThe specified values for size and/or count will result in 10 unused data points\n",
      "Progress:  48%|███████████████████                      |  ETA: 0:02:34\u001b[1m\u001b[36mINFO: \u001b[39m\u001b[22m\u001b[36mThe specified values for size and/or count will result in 10 unused data points\n",
      "Progress:  48%|████████████████████                     |  ETA: 0:02:32\u001b[1m\u001b[36mINFO: \u001b[39m\u001b[22m\u001b[36mThe specified values for size and/or count will result in 10 unused data points\n",
      "Progress:  48%|████████████████████                     |  ETA: 0:02:31\u001b[1m\u001b[36mINFO: \u001b[39m\u001b[22m\u001b[36mThe specified values for size and/or count will result in 10 unused data points\n",
      "Progress:  49%|████████████████████                     |  ETA: 0:02:29\u001b[1m\u001b[36mINFO: \u001b[39m\u001b[22m\u001b[36mThe specified values for size and/or count will result in 10 unused data points\n",
      "Progress:  50%|████████████████████                     |  ETA: 0:02:28\u001b[1m\u001b[36mINFO: \u001b[39m\u001b[22m\u001b[36mThe specified values for size and/or count will result in 10 unused data points\n",
      "Progress:  50%|████████████████████                     |  ETA: 0:02:26\u001b[1m\u001b[36mINFO: \u001b[39m\u001b[22m\u001b[36mThe specified values for size and/or count will result in 10 unused data points\n",
      "Progress:  50%|█████████████████████                    |  ETA: 0:02:25\u001b[1m\u001b[36mINFO: \u001b[39m\u001b[22m\u001b[36mThe specified values for size and/or count will result in 10 unused data points\n",
      "Progress:  51%|█████████████████████                    |  ETA: 0:02:23\u001b[1m\u001b[36mINFO: \u001b[39m\u001b[22m\u001b[36mThe specified values for size and/or count will result in 10 unused data points\n",
      "Progress:  52%|█████████████████████                    |  ETA: 0:02:22\u001b[1m\u001b[36mINFO: \u001b[39m\u001b[22m\u001b[36mThe specified values for size and/or count will result in 10 unused data points\n",
      "Progress:  52%|█████████████████████                    |  ETA: 0:02:20\u001b[1m\u001b[36mINFO: \u001b[39m\u001b[22m\u001b[36mThe specified values for size and/or count will result in 10 unused data points\n",
      "Progress:  52%|██████████████████████                   |  ETA: 0:02:19\u001b[1m\u001b[36mINFO: \u001b[39m\u001b[22m\u001b[36mThe specified values for size and/or count will result in 10 unused data points\n",
      "Progress:  53%|██████████████████████                   |  ETA: 0:02:18\u001b[1m\u001b[36mINFO: \u001b[39m\u001b[22m\u001b[36mThe specified values for size and/or count will result in 10 unused data points\n",
      "Progress:  54%|██████████████████████                   |  ETA: 0:02:16\u001b[1m\u001b[36mINFO: \u001b[39m\u001b[22m\u001b[36mThe specified values for size and/or count will result in 10 unused data points\n",
      "Progress:  54%|██████████████████████                   |  ETA: 0:02:15\u001b[1m\u001b[36mINFO: \u001b[39m\u001b[22m\u001b[36mThe specified values for size and/or count will result in 10 unused data points\n",
      "Progress:  54%|██████████████████████                   |  ETA: 0:02:13\u001b[1m\u001b[36mINFO: \u001b[39m\u001b[22m\u001b[36mThe specified values for size and/or count will result in 10 unused data points\n",
      "Progress:  55%|███████████████████████                  |  ETA: 0:02:12\u001b[1m\u001b[36mINFO: \u001b[39m\u001b[22m\u001b[36mThe specified values for size and/or count will result in 10 unused data points\n",
      "Progress:  56%|███████████████████████                  |  ETA: 0:02:10\u001b[1m\u001b[36mINFO: \u001b[39m\u001b[22m\u001b[36mThe specified values for size and/or count will result in 10 unused data points\n",
      "Progress:  56%|███████████████████████                  |  ETA: 0:02:09\u001b[1m\u001b[36mINFO: \u001b[39m\u001b[22m\u001b[36mThe specified values for size and/or count will result in 10 unused data points\n",
      "Progress:  56%|███████████████████████                  |  ETA: 0:02:07\u001b[1m\u001b[36mINFO: \u001b[39m\u001b[22m\u001b[36mThe specified values for size and/or count will result in 10 unused data points\n",
      "Progress:  57%|███████████████████████                  |  ETA: 0:02:06\u001b[1m\u001b[36mINFO: \u001b[39m\u001b[22m\u001b[36mThe specified values for size and/or count will result in 10 unused data points\n",
      "Progress:  58%|████████████████████████                 |  ETA: 0:02:05\u001b[1m\u001b[36mINFO: \u001b[39m\u001b[22m\u001b[36mThe specified values for size and/or count will result in 10 unused data points\n",
      "Progress:  58%|████████████████████████                 |  ETA: 0:02:03\u001b[1m\u001b[36mINFO: \u001b[39m\u001b[22m\u001b[36mThe specified values for size and/or count will result in 10 unused data points\n",
      "Progress:  58%|████████████████████████                 |  ETA: 0:02:02\u001b[1m\u001b[36mINFO: \u001b[39m\u001b[22m\u001b[36mThe specified values for size and/or count will result in 10 unused data points\n",
      "Progress:  59%|████████████████████████                 |  ETA: 0:02:00\u001b[1m\u001b[36mINFO: \u001b[39m\u001b[22m\u001b[36mThe specified values for size and/or count will result in 10 unused data points\n",
      "Progress:  60%|████████████████████████                 |  ETA: 0:01:59\u001b[1m\u001b[36mINFO: \u001b[39m\u001b[22m\u001b[36mThe specified values for size and/or count will result in 10 unused data points\n",
      "Progress:  60%|█████████████████████████                |  ETA: 0:01:57\u001b[1m\u001b[36mINFO: \u001b[39m\u001b[22m\u001b[36mThe specified values for size and/or count will result in 10 unused data points\n",
      "Progress:  60%|█████████████████████████                |  ETA: 0:01:56\u001b[1m\u001b[36mINFO: \u001b[39m\u001b[22m\u001b[36mThe specified values for size and/or count will result in 10 unused data points\n",
      "Progress:  61%|█████████████████████████                |  ETA: 0:01:55\u001b[1m\u001b[36mINFO: \u001b[39m\u001b[22m\u001b[36mThe specified values for size and/or count will result in 10 unused data points\n",
      "Progress:  62%|█████████████████████████                |  ETA: 0:01:53\u001b[1m\u001b[36mINFO: \u001b[39m\u001b[22m\u001b[36mThe specified values for size and/or count will result in 10 unused data points\n",
      "Progress:  62%|█████████████████████████                |  ETA: 0:01:52\u001b[1m\u001b[36mINFO: \u001b[39m\u001b[22m\u001b[36mThe specified values for size and/or count will result in 10 unused data points\n",
      "Progress:  62%|██████████████████████████               |  ETA: 0:01:50\u001b[1m\u001b[36mINFO: \u001b[39m\u001b[22m\u001b[36mThe specified values for size and/or count will result in 10 unused data points\n",
      "Progress:  63%|██████████████████████████               |  ETA: 0:01:49\u001b[1m\u001b[36mINFO: \u001b[39m\u001b[22m\u001b[36mThe specified values for size and/or count will result in 10 unused data points\n",
      "Progress:  64%|██████████████████████████               |  ETA: 0:01:48\u001b[1m\u001b[36mINFO: \u001b[39m\u001b[22m\u001b[36mThe specified values for size and/or count will result in 10 unused data points\n",
      "Progress:  64%|██████████████████████████               |  ETA: 0:01:46\u001b[1m\u001b[36mINFO: \u001b[39m\u001b[22m\u001b[36mThe specified values for size and/or count will result in 10 unused data points\n",
      "Progress:  64%|██████████████████████████               |  ETA: 0:01:45\u001b[1m\u001b[36mINFO: \u001b[39m\u001b[22m\u001b[36mThe specified values for size and/or count will result in 10 unused data points\n",
      "Progress:  65%|███████████████████████████              |  ETA: 0:01:43\u001b[1m\u001b[36mINFO: \u001b[39m\u001b[22m\u001b[36mThe specified values for size and/or count will result in 10 unused data points\n",
      "Progress:  66%|███████████████████████████              |  ETA: 0:01:42\u001b[1m\u001b[36mINFO: \u001b[39m\u001b[22m\u001b[36mThe specified values for size and/or count will result in 10 unused data points\n",
      "Progress:  66%|███████████████████████████              |  ETA: 0:01:40\u001b[1m\u001b[36mINFO: \u001b[39m\u001b[22m\u001b[36mThe specified values for size and/or count will result in 10 unused data points\n",
      "Progress:  66%|███████████████████████████              |  ETA: 0:01:39\u001b[1m\u001b[36mINFO: \u001b[39m\u001b[22m\u001b[36mThe specified values for size and/or count will result in 10 unused data points\n",
      "Progress:  67%|███████████████████████████              |  ETA: 0:01:37\u001b[1m\u001b[36mINFO: \u001b[39m\u001b[22m\u001b[36mThe specified values for size and/or count will result in 10 unused data points\n",
      "Progress:  68%|████████████████████████████             |  ETA: 0:01:36\u001b[1m\u001b[36mINFO: \u001b[39m\u001b[22m\u001b[36mThe specified values for size and/or count will result in 10 unused data points\n",
      "Progress:  68%|████████████████████████████             |  ETA: 0:01:34\u001b[1m\u001b[36mINFO: \u001b[39m\u001b[22m\u001b[36mThe specified values for size and/or count will result in 10 unused data points\n",
      "Progress:  68%|████████████████████████████             |  ETA: 0:01:33\u001b[1m\u001b[36mINFO: \u001b[39m\u001b[22m\u001b[36mThe specified values for size and/or count will result in 10 unused data points\n"
     ]
    },
    {
     "name": "stderr",
     "output_type": "stream",
     "text": [
      "Progress:  69%|████████████████████████████             |  ETA: 0:01:31\u001b[1m\u001b[36mINFO: \u001b[39m\u001b[22m\u001b[36mThe specified values for size and/or count will result in 10 unused data points\n",
      "Progress:  70%|████████████████████████████             |  ETA: 0:01:30\u001b[1m\u001b[36mINFO: \u001b[39m\u001b[22m\u001b[36mThe specified values for size and/or count will result in 10 unused data points\n",
      "Progress:  70%|█████████████████████████████            |  ETA: 0:01:29\u001b[1m\u001b[36mINFO: \u001b[39m\u001b[22m\u001b[36mThe specified values for size and/or count will result in 10 unused data points\n",
      "Progress:  70%|█████████████████████████████            |  ETA: 0:01:27\u001b[1m\u001b[36mINFO: \u001b[39m\u001b[22m\u001b[36mThe specified values for size and/or count will result in 10 unused data points\n",
      "Progress:  71%|█████████████████████████████            |  ETA: 0:01:26\u001b[1m\u001b[36mINFO: \u001b[39m\u001b[22m\u001b[36mThe specified values for size and/or count will result in 10 unused data points\n",
      "Progress:  72%|█████████████████████████████            |  ETA: 0:01:24\u001b[1m\u001b[36mINFO: \u001b[39m\u001b[22m\u001b[36mThe specified values for size and/or count will result in 10 unused data points\n",
      "Progress:  72%|██████████████████████████████           |  ETA: 0:01:23\u001b[1m\u001b[36mINFO: \u001b[39m\u001b[22m\u001b[36mThe specified values for size and/or count will result in 10 unused data points\n",
      "Progress:  72%|██████████████████████████████           |  ETA: 0:01:21\u001b[1m\u001b[36mINFO: \u001b[39m\u001b[22m\u001b[36mThe specified values for size and/or count will result in 10 unused data points\n",
      "Progress:  73%|██████████████████████████████           |  ETA: 0:01:20\u001b[1m\u001b[36mINFO: \u001b[39m\u001b[22m\u001b[36mThe specified values for size and/or count will result in 10 unused data points\n",
      "Progress:  74%|██████████████████████████████           |  ETA: 0:01:18\u001b[1m\u001b[36mINFO: \u001b[39m\u001b[22m\u001b[36mThe specified values for size and/or count will result in 10 unused data points\n",
      "Progress:  74%|██████████████████████████████           |  ETA: 0:01:17\u001b[1m\u001b[36mINFO: \u001b[39m\u001b[22m\u001b[36mThe specified values for size and/or count will result in 10 unused data points\n",
      "Progress:  74%|███████████████████████████████          |  ETA: 0:01:15\u001b[1m\u001b[36mINFO: \u001b[39m\u001b[22m\u001b[36mThe specified values for size and/or count will result in 10 unused data points\n",
      "Progress:  75%|███████████████████████████████          |  ETA: 0:01:14\u001b[1m\u001b[36mINFO: \u001b[39m\u001b[22m\u001b[36mThe specified values for size and/or count will result in 10 unused data points\n",
      "Progress:  76%|███████████████████████████████          |  ETA: 0:01:12\u001b[1m\u001b[36mINFO: \u001b[39m\u001b[22m\u001b[36mThe specified values for size and/or count will result in 10 unused data points\n",
      "Progress:  76%|███████████████████████████████          |  ETA: 0:01:11\u001b[1m\u001b[36mINFO: \u001b[39m\u001b[22m\u001b[36mThe specified values for size and/or count will result in 10 unused data points\n",
      "Progress:  76%|███████████████████████████████          |  ETA: 0:01:09\u001b[1m\u001b[36mINFO: \u001b[39m\u001b[22m\u001b[36mThe specified values for size and/or count will result in 10 unused data points\n",
      "Progress:  77%|████████████████████████████████         |  ETA: 0:01:08\u001b[1m\u001b[36mINFO: \u001b[39m\u001b[22m\u001b[36mThe specified values for size and/or count will result in 10 unused data points\n",
      "Progress:  78%|████████████████████████████████         |  ETA: 0:01:06\u001b[1m\u001b[36mINFO: \u001b[39m\u001b[22m\u001b[36mThe specified values for size and/or count will result in 10 unused data points\n",
      "Progress:  78%|████████████████████████████████         |  ETA: 0:01:05\u001b[1m\u001b[36mINFO: \u001b[39m\u001b[22m\u001b[36mThe specified values for size and/or count will result in 10 unused data points\n",
      "Progress:  78%|████████████████████████████████         |  ETA: 0:01:03\u001b[1m\u001b[36mINFO: \u001b[39m\u001b[22m\u001b[36mThe specified values for size and/or count will result in 10 unused data points\n",
      "Progress:  79%|████████████████████████████████         |  ETA: 0:01:02\u001b[1m\u001b[36mINFO: \u001b[39m\u001b[22m\u001b[36mThe specified values for size and/or count will result in 10 unused data points\n",
      "Progress:  80%|█████████████████████████████████        |  ETA: 0:01:00\u001b[1m\u001b[36mINFO: \u001b[39m\u001b[22m\u001b[36mThe specified values for size and/or count will result in 10 unused data points\n",
      "Progress:  80%|█████████████████████████████████        |  ETA: 0:00:59\u001b[1m\u001b[36mINFO: \u001b[39m\u001b[22m\u001b[36mThe specified values for size and/or count will result in 10 unused data points\n",
      "Progress:  80%|█████████████████████████████████        |  ETA: 0:00:57\u001b[1m\u001b[36mINFO: \u001b[39m\u001b[22m\u001b[36mThe specified values for size and/or count will result in 10 unused data points\n",
      "Progress:  81%|█████████████████████████████████        |  ETA: 0:00:56\u001b[1m\u001b[36mINFO: \u001b[39m\u001b[22m\u001b[36mThe specified values for size and/or count will result in 10 unused data points\n",
      "Progress:  82%|█████████████████████████████████        |  ETA: 0:00:54\u001b[1m\u001b[36mINFO: \u001b[39m\u001b[22m\u001b[36mThe specified values for size and/or count will result in 10 unused data points\n",
      "Progress:  82%|██████████████████████████████████       |  ETA: 0:00:53\u001b[1m\u001b[36mINFO: \u001b[39m\u001b[22m\u001b[36mThe specified values for size and/or count will result in 10 unused data points\n",
      "Progress:  82%|██████████████████████████████████       |  ETA: 0:00:51\u001b[1m\u001b[36mINFO: \u001b[39m\u001b[22m\u001b[36mThe specified values for size and/or count will result in 10 unused data points\n",
      "Progress:  83%|██████████████████████████████████       |  ETA: 0:00:50\u001b[1m\u001b[36mINFO: \u001b[39m\u001b[22m\u001b[36mThe specified values for size and/or count will result in 10 unused data points\n",
      "Progress:  84%|██████████████████████████████████       |  ETA: 0:00:49\u001b[1m\u001b[36mINFO: \u001b[39m\u001b[22m\u001b[36mThe specified values for size and/or count will result in 10 unused data points\n",
      "Progress:  84%|██████████████████████████████████       |  ETA: 0:00:47\u001b[1m\u001b[36mINFO: \u001b[39m\u001b[22m\u001b[36mThe specified values for size and/or count will result in 10 unused data points\n",
      "Progress:  84%|███████████████████████████████████      |  ETA: 0:00:46\u001b[1m\u001b[36mINFO: \u001b[39m\u001b[22m\u001b[36mThe specified values for size and/or count will result in 10 unused data points\n",
      "Progress:  85%|███████████████████████████████████      |  ETA: 0:00:44\u001b[1m\u001b[36mINFO: \u001b[39m\u001b[22m\u001b[36mThe specified values for size and/or count will result in 10 unused data points\n",
      "Progress:  86%|███████████████████████████████████      |  ETA: 0:00:43\u001b[1m\u001b[36mINFO: \u001b[39m\u001b[22m\u001b[36mThe specified values for size and/or count will result in 10 unused data points\n",
      "Progress:  86%|███████████████████████████████████      |  ETA: 0:00:41\u001b[1m\u001b[36mINFO: \u001b[39m\u001b[22m\u001b[36mThe specified values for size and/or count will result in 10 unused data points\n",
      "Progress:  86%|███████████████████████████████████      |  ETA: 0:00:40\u001b[1m\u001b[36mINFO: \u001b[39m\u001b[22m\u001b[36mThe specified values for size and/or count will result in 10 unused data points\n",
      "Progress:  87%|████████████████████████████████████     |  ETA: 0:00:38\u001b[1m\u001b[36mINFO: \u001b[39m\u001b[22m\u001b[36mThe specified values for size and/or count will result in 10 unused data points\n",
      "Progress:  88%|████████████████████████████████████     |  ETA: 0:00:37\u001b[1m\u001b[36mINFO: \u001b[39m\u001b[22m\u001b[36mThe specified values for size and/or count will result in 10 unused data points\n",
      "Progress:  88%|████████████████████████████████████     |  ETA: 0:00:35\u001b[1m\u001b[36mINFO: \u001b[39m\u001b[22m\u001b[36mThe specified values for size and/or count will result in 10 unused data points\n",
      "Progress:  88%|████████████████████████████████████     |  ETA: 0:00:34\u001b[1m\u001b[36mINFO: \u001b[39m\u001b[22m\u001b[36mThe specified values for size and/or count will result in 10 unused data points\n",
      "Progress:  89%|████████████████████████████████████     |  ETA: 0:00:32\u001b[1m\u001b[36mINFO: \u001b[39m\u001b[22m\u001b[36mThe specified values for size and/or count will result in 10 unused data points\n",
      "Progress:  90%|█████████████████████████████████████    |  ETA: 0:00:31\u001b[1m\u001b[36mINFO: \u001b[39m\u001b[22m\u001b[36mThe specified values for size and/or count will result in 10 unused data points\n",
      "Progress:  90%|█████████████████████████████████████    |  ETA: 0:00:29\u001b[1m\u001b[36mINFO: \u001b[39m\u001b[22m\u001b[36mThe specified values for size and/or count will result in 10 unused data points\n",
      "Progress:  90%|█████████████████████████████████████    |  ETA: 0:00:28\u001b[1m\u001b[36mINFO: \u001b[39m\u001b[22m\u001b[36mThe specified values for size and/or count will result in 10 unused data points\n",
      "Progress:  91%|█████████████████████████████████████    |  ETA: 0:00:26\u001b[1m\u001b[36mINFO: \u001b[39m\u001b[22m\u001b[36mThe specified values for size and/or count will result in 10 unused data points\n",
      "Progress:  92%|██████████████████████████████████████   |  ETA: 0:00:25\u001b[1m\u001b[36mINFO: \u001b[39m\u001b[22m\u001b[36mThe specified values for size and/or count will result in 10 unused data points\n"
     ]
    },
    {
     "name": "stderr",
     "output_type": "stream",
     "text": [
      "Progress:  92%|██████████████████████████████████████   |  ETA: 0:00:24\u001b[1m\u001b[36mINFO: \u001b[39m\u001b[22m\u001b[36mThe specified values for size and/or count will result in 10 unused data points\n",
      "Progress:  92%|██████████████████████████████████████   |  ETA: 0:00:22\u001b[1m\u001b[36mINFO: \u001b[39m\u001b[22m\u001b[36mThe specified values for size and/or count will result in 10 unused data points\n",
      "Progress:  93%|██████████████████████████████████████   |  ETA: 0:00:21\u001b[1m\u001b[36mINFO: \u001b[39m\u001b[22m\u001b[36mThe specified values for size and/or count will result in 10 unused data points\n",
      "Progress:  94%|██████████████████████████████████████   |  ETA: 0:00:19\u001b[1m\u001b[36mINFO: \u001b[39m\u001b[22m\u001b[36mThe specified values for size and/or count will result in 10 unused data points\n",
      "Progress:  94%|███████████████████████████████████████  |  ETA: 0:00:18\u001b[1m\u001b[36mINFO: \u001b[39m\u001b[22m\u001b[36mThe specified values for size and/or count will result in 10 unused data points\n",
      "Progress:  94%|███████████████████████████████████████  |  ETA: 0:00:16\u001b[1m\u001b[36mINFO: \u001b[39m\u001b[22m\u001b[36mThe specified values for size and/or count will result in 10 unused data points\n",
      "Progress:  95%|███████████████████████████████████████  |  ETA: 0:00:15\u001b[1m\u001b[36mINFO: \u001b[39m\u001b[22m\u001b[36mThe specified values for size and/or count will result in 10 unused data points\n",
      "Progress:  96%|███████████████████████████████████████  |  ETA: 0:00:13\u001b[1m\u001b[36mINFO: \u001b[39m\u001b[22m\u001b[36mThe specified values for size and/or count will result in 10 unused data points\n",
      "Progress:  96%|███████████████████████████████████████  |  ETA: 0:00:12\u001b[1m\u001b[36mINFO: \u001b[39m\u001b[22m\u001b[36mThe specified values for size and/or count will result in 10 unused data points\n",
      "Progress:  96%|████████████████████████████████████████ |  ETA: 0:00:10\u001b[1m\u001b[36mINFO: \u001b[39m\u001b[22m\u001b[36mThe specified values for size and/or count will result in 10 unused data points\n",
      "Progress:  97%|████████████████████████████████████████ |  ETA: 0:00:09\u001b[1m\u001b[36mINFO: \u001b[39m\u001b[22m\u001b[36mThe specified values for size and/or count will result in 10 unused data points\n",
      "Progress:  98%|████████████████████████████████████████ |  ETA: 0:00:07\u001b[1m\u001b[36mINFO: \u001b[39m\u001b[22m\u001b[36mThe specified values for size and/or count will result in 10 unused data points\n",
      "Progress:  98%|████████████████████████████████████████ |  ETA: 0:00:06\u001b[1m\u001b[36mINFO: \u001b[39m\u001b[22m\u001b[36mThe specified values for size and/or count will result in 10 unused data points\n",
      "Progress:  98%|████████████████████████████████████████ |  ETA: 0:00:04\u001b[1m\u001b[36mINFO: \u001b[39m\u001b[22m\u001b[36mThe specified values for size and/or count will result in 10 unused data points\n",
      "Progress:  99%|█████████████████████████████████████████|  ETA: 0:00:03\u001b[1m\u001b[36mINFO: \u001b[39m\u001b[22m\u001b[36mThe specified values for size and/or count will result in 10 unused data points\n",
      "Progress: 100%|█████████████████████████████████████████|  ETA: 0:00:01\u001b[1m\u001b[36mINFO: \u001b[39m\u001b[22m\u001b[36mThe specified values for size and/or count will result in 10 unused data points\n",
      "Progress: 100%|█████████████████████████████████████████| Time: 0:04:55"
     ]
    },
    {
     "name": "stdout",
     "output_type": "stream",
     "text": [
      "mean((xy->begin  # In[110], line 16:\n",
      "            sum(abs2, net(xy[1]) .- (xy[2])[:, 1])\n",
      "        end), test_data) = 0.6765000075433625\n"
     ]
    },
    {
     "name": "stderr",
     "output_type": "stream",
     "text": [
      "\n"
     ]
    },
    {
     "data": {
      "text/html": [
       "<img src=\"data:image/png;base64,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\" />"
      ]
     },
     "execution_count": 110,
     "metadata": {},
     "output_type": "execute_result"
    }
   ],
   "source": [
    "params = copy(start_params)\n",
    "net = Nets.Net(Nets.Params(widths, params), activation, x_to_u, v_to_y)\n",
    "\n",
    "train_loss = sensitive_loss(0.1)\n",
    "validate_loss = train_loss\n",
    "losses = [mean(xy -> validate_loss(params, xy[1], xy[2]), train_data_scaled)]\n",
    "\n",
    "@show mean(xy -> sum(abs2, net(xy[1]) .- xy[2][:,1]), test_data)\n",
    "\n",
    "@showprogress for i in 1:nepoch\n",
    "#     train_loss = sensitive_loss(0.1)\n",
    "    Nets.adam!(train_loss, params, train_data_scaled, Nets.AdamOpts(learning_rate=0.01 * 0.99^i, batch_size=20))\n",
    "    push!(losses, mean(xy -> validate_loss(params, xy[1], xy[2]), train_data_scaled))\n",
    "end\n",
    "\n",
    "@show mean(xy -> sum(abs2, net(xy[1]) .- xy[2][:,1]), test_data)\n",
    "\n",
    "plot(losses, ylim=(0, losses[1]))"
   ]
  },
  {
   "cell_type": "code",
   "execution_count": 112,
   "metadata": {},
   "outputs": [
    {
     "data": {
      "text/plain": [
       "(::#118) (generic function with 1 method)"
      ]
     },
     "execution_count": 112,
     "metadata": {},
     "output_type": "execute_result"
    }
   ],
   "source": [
    "netcontroller = x -> clamp.(net(x), -1, 1)"
   ]
  },
  {
   "cell_type": "code",
   "execution_count": 101,
   "metadata": {},
   "outputs": [
    {
     "name": "stdout",
     "output_type": "stream",
     "text": [
      "x0 = [0.17665, 0.149005, 0.109203, 0.112952, 0.0381778, 0.343083, 0.0437361, 0.287838, -0.697056, 0.244723]\n"
     ]
    },
    {
     "data": {
      "text/plain": [
       "10-element Array{Float64,1}:\n",
       "  0.17665  \n",
       "  0.149005 \n",
       "  0.109203 \n",
       "  0.112952 \n",
       "  0.0381778\n",
       "  0.343083 \n",
       "  0.0437361\n",
       "  0.287838 \n",
       " -0.697056 \n",
       "  0.244723 "
      ]
     },
     "execution_count": 101,
     "metadata": {},
     "output_type": "execute_result"
    }
   ],
   "source": [
    "x0 = PyMPC.Models.generate_x0(sys, controller)\n",
    "@show x0"
   ]
  },
  {
   "cell_type": "code",
   "execution_count": 147,
   "metadata": {},
   "outputs": [
    {
     "data": {
      "text/plain": [
       "0.5"
      ]
     },
     "execution_count": 147,
     "metadata": {},
     "output_type": "execute_result"
    }
   ],
   "source": [
    "x0 = zeros(10)\n",
    "x0[end-1] = -0.5\n",
    "x0[end] = 0.5"
   ]
  },
  {
   "cell_type": "code",
   "execution_count": 113,
   "metadata": {},
   "outputs": [
    {
     "data": {
      "text/plain": [
       "10-element Array{Float64,1}:\n",
       "  0.17665  \n",
       "  0.149005 \n",
       "  0.109203 \n",
       "  0.112952 \n",
       "  0.0381778\n",
       "  0.343083 \n",
       "  0.0437361\n",
       "  0.287838 \n",
       " -0.697056 \n",
       "  0.244723 "
      ]
     },
     "execution_count": 113,
     "metadata": {},
     "output_type": "execute_result"
    }
   ],
   "source": [
    "x0 = [0.17665, 0.149005, 0.109203, 0.112952, 0.0381778, 0.343083, 0.0437361, 0.287838, -0.697056, 0.244723]"
   ]
  },
  {
   "cell_type": "code",
   "execution_count": 150,
   "metadata": {},
   "outputs": [
    {
     "ename": "LoadError",
     "evalue": "\u001b[91mPyError (ccall(@pysym(:PyObject_Call), PyPtr, (PyPtr, PyPtr, PyPtr), o, arg, C_NULL)) <type 'exceptions.ValueError'>\nValueError('Unfeasible state x = [-0.16212523  0.05676549  0.          0.00827157  0.         -0.01029216\\n -0.0599598  -0.00363991 -0.04872553 -0.09761276] or input u = [-0.0032219   0.01604866  0.00156959  0.01594736  0.02810052  0.01720296\\n  0.18997839  0.15805161  0.00342992]',)\n  File \"/Users/rdeits/locomotion/explorations/learning-mpc/py-mpc/pympc/dynamical_systems.py\", line 123, in simulate\n    raise ValueError('Unfeasible state x = ' + str(x_list[k].flatten()) + ' or input u = ' + str(u_list[k].flatten()))\n\u001b[39m",
     "output_type": "error",
     "traceback": [
      "\u001b[91mPyError (ccall(@pysym(:PyObject_Call), PyPtr, (PyPtr, PyPtr, PyPtr), o, arg, C_NULL)) <type 'exceptions.ValueError'>\nValueError('Unfeasible state x = [-0.16212523  0.05676549  0.          0.00827157  0.         -0.01029216\\n -0.0599598  -0.00363991 -0.04872553 -0.09761276] or input u = [-0.0032219   0.01604866  0.00156959  0.01594736  0.02810052  0.01720296\\n  0.18997839  0.15805161  0.00342992]',)\n  File \"/Users/rdeits/locomotion/explorations/learning-mpc/py-mpc/pympc/dynamical_systems.py\", line 123, in simulate\n    raise ValueError('Unfeasible state x = ' + str(x_list[k].flatten()) + ' or input u = ' + str(u_list[k].flatten()))\n\u001b[39m",
      "",
      "Stacktrace:",
      " [1] \u001b[1mpyerr_check\u001b[22m\u001b[22m at \u001b[1m/Users/rdeits/locomotion/explorations/learning-mpc/packages/v0.6/PyCall/src/exception.jl:56\u001b[22m\u001b[22m [inlined]",
      " [2] \u001b[1mpyerr_check\u001b[22m\u001b[22m at \u001b[1m/Users/rdeits/locomotion/explorations/learning-mpc/packages/v0.6/PyCall/src/exception.jl:61\u001b[22m\u001b[22m [inlined]",
      " [3] \u001b[1mmacro expansion\u001b[22m\u001b[22m at \u001b[1m/Users/rdeits/locomotion/explorations/learning-mpc/packages/v0.6/PyCall/src/exception.jl:81\u001b[22m\u001b[22m [inlined]",
      " [4] \u001b[1m#_pycall#66\u001b[22m\u001b[22m\u001b[1m(\u001b[22m\u001b[22m::Array{Any,1}, ::Function, ::PyCall.PyObject, ::Array{Float64,2}, ::Vararg{Any,N} where N\u001b[1m)\u001b[22m\u001b[22m at \u001b[1m/Users/rdeits/locomotion/explorations/learning-mpc/packages/v0.6/PyCall/src/PyCall.jl:549\u001b[22m\u001b[22m",
      " [5] \u001b[1m_pycall\u001b[22m\u001b[22m\u001b[1m(\u001b[22m\u001b[22m::PyCall.PyObject, ::Array{Float64,2}, ::Vararg{Any,N} where N\u001b[1m)\u001b[22m\u001b[22m at \u001b[1m/Users/rdeits/locomotion/explorations/learning-mpc/packages/v0.6/PyCall/src/PyCall.jl:537\u001b[22m\u001b[22m",
      " [6] \u001b[1m#pycall#70\u001b[22m\u001b[22m\u001b[1m(\u001b[22m\u001b[22m::Array{Any,1}, ::Function, ::PyCall.PyObject, ::Type{PyCall.PyAny}, ::Array{Float64,2}, ::Vararg{Any,N} where N\u001b[1m)\u001b[22m\u001b[22m at \u001b[1m/Users/rdeits/locomotion/explorations/learning-mpc/packages/v0.6/PyCall/src/PyCall.jl:571\u001b[22m\u001b[22m",
      " [7] \u001b[1mpycall\u001b[22m\u001b[22m\u001b[1m(\u001b[22m\u001b[22m::PyCall.PyObject, ::Type{PyCall.PyAny}, ::Array{Float64,2}, ::Vararg{Any,N} where N\u001b[1m)\u001b[22m\u001b[22m at \u001b[1m/Users/rdeits/locomotion/explorations/learning-mpc/packages/v0.6/PyCall/src/PyCall.jl:571\u001b[22m\u001b[22m",
      " [8] \u001b[1m#call#71\u001b[22m\u001b[22m\u001b[1m(\u001b[22m\u001b[22m::Array{Any,1}, ::PyCall.PyObject, ::Array{Float64,2}, ::Vararg{Any,N} where N\u001b[1m)\u001b[22m\u001b[22m at \u001b[1m/Users/rdeits/locomotion/explorations/learning-mpc/packages/v0.6/PyCall/src/PyCall.jl:574\u001b[22m\u001b[22m",
      " [9] \u001b[1m(::PyCall.PyObject)\u001b[22m\u001b[22m\u001b[1m(\u001b[22m\u001b[22m::Array{Float64,2}, ::Vararg{Any,N} where N\u001b[1m)\u001b[22m\u001b[22m at \u001b[1m/Users/rdeits/locomotion/explorations/learning-mpc/packages/v0.6/PyCall/src/PyCall.jl:574\u001b[22m\u001b[22m",
      " [10] \u001b[1mupdate\u001b[22m\u001b[22m at \u001b[1m./In[133]:2\u001b[22m\u001b[22m [inlined]",
      " [11] \u001b[1m#simulate#125\u001b[22m\u001b[22m\u001b[1m(\u001b[22m\u001b[22m::Int64, ::Function, ::PyMPC.Models.BoxAtlas, ::Array{Float64,1}, ::##118#120\u001b[1m)\u001b[22m\u001b[22m at \u001b[1m./In[133]:15\u001b[22m\u001b[22m",
      " [12] \u001b[1m(::PyMPC.Models.#kw##simulate)\u001b[22m\u001b[22m\u001b[1m(\u001b[22m\u001b[22m::Array{Any,1}, ::PyMPC.Models.#simulate, ::PyMPC.Models.BoxAtlas, ::Array{Float64,1}, ::Function\u001b[1m)\u001b[22m\u001b[22m at \u001b[1m./<missing>:0\u001b[22m\u001b[22m"
     ]
    }
   ],
   "source": [
    "xs = PyMPC.Models.simulate(sys, x0, netcontroller; N_sim=10)\n",
    "PyMPC.Models.playback(vis, sys, xs)"
   ]
  },
  {
   "cell_type": "code",
   "execution_count": 149,
   "metadata": {
    "collapsed": true
   },
   "outputs": [],
   "source": [
    "PyMPC.Models.playback(vis, sys, xs)"
   ]
  },
  {
   "cell_type": "code",
   "execution_count": null,
   "metadata": {
    "collapsed": true
   },
   "outputs": [],
   "source": []
  }
 ],
 "metadata": {
  "kernelspec": {
   "display_name": "Julia 0.6.0",
   "language": "julia",
   "name": "julia-0.6"
  },
  "language_info": {
   "file_extension": ".jl",
   "mimetype": "application/julia",
   "name": "julia",
   "version": "0.6.0"
  }
 },
 "nbformat": 4,
 "nbformat_minor": 2
}
