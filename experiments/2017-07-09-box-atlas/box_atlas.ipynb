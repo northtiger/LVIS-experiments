{
 "cells": [
  {
   "cell_type": "code",
   "execution_count": 1,
   "metadata": {
    "collapsed": false,
    "scrolled": true
   },
   "outputs": [
    {
     "data": {
      "text/plain": [
       "true"
      ]
     },
     "execution_count": 1,
     "metadata": {},
     "output_type": "execute_result"
    }
   ],
   "source": [
    "using MLDataPattern\n",
    "using Plots; pyplot()\n",
    "using ProgressMeter\n",
    "using JLD\n",
    "import PyCall\n",
    "using DrakeVisualizer, GeometryTypes, CoordinateTransformations\n",
    "DrakeVisualizer.any_open_windows() || DrakeVisualizer.new_window()"
   ]
  },
  {
   "cell_type": "code",
   "execution_count": 2,
   "metadata": {
    "collapsed": false
   },
   "outputs": [
    {
     "name": "stderr",
     "output_type": "stream",
     "text": [
      "\u001b[1m\u001b[36mINFO: \u001b[39m\u001b[22m\u001b[36mRecompiling stale cache file /home/rdeits/locomotion/explorations/learning-mpc/packages/lib/v0.6/Nets.ji for module Nets.\n",
      "\u001b[39mWARNING: replacing module Nets.\n"
     ]
    }
   ],
   "source": [
    "import Nets\n",
    "reload(\"Nets\")"
   ]
  },
  {
   "cell_type": "code",
   "execution_count": 3,
   "metadata": {
    "collapsed": false
   },
   "outputs": [
    {
     "name": "stderr",
     "output_type": "stream",
     "text": [
      "\u001b[1m\u001b[33mWARNING: \u001b[39m\u001b[22m\u001b[33mGurobi reported infeasible or unbounded. Set InfUnbdInfo=1 for more specific status.\u001b[39m\n"
     ]
    },
    {
     "name": "stdout",
     "output_type": "stream",
     "text": [
      "\u001b[1m\u001b[37mTest Summary:    | \u001b[39m\u001b[22m\u001b[1m\u001b[32mPass  \u001b[39m\u001b[22m\u001b[1m\u001b[36mTotal\u001b[39m\u001b[22m\n",
      "test sensitivity | \u001b[32m 267  \u001b[39m\u001b[36m  267\u001b[39m\n"
     ]
    }
   ],
   "source": [
    "include(\"../../pympc.jl\")\n",
    "colmat = PyMPC.colmat"
   ]
  },
  {
   "cell_type": "code",
   "execution_count": 4,
   "metadata": {
    "collapsed": false
   },
   "outputs": [
    {
     "data": {
      "text/plain": [
       "PyMPC.Models.BoxAtlas(PyObject <pympc.models.boxatlas.BoxAtlasPWAModel object at 0x7fc265ccd4d0>)"
      ]
     },
     "execution_count": 4,
     "metadata": {},
     "output_type": "execute_result"
    }
   ],
   "source": [
    "sys = PyMPC.Models.BoxAtlas()"
   ]
  },
  {
   "cell_type": "code",
   "execution_count": 5,
   "metadata": {
    "collapsed": false
   },
   "outputs": [
    {
     "data": {
      "text/plain": [
       "Set{Array{Symbol,1}}()"
      ]
     },
     "execution_count": 5,
     "metadata": {},
     "output_type": "execute_result"
    }
   ],
   "source": [
    "vis = Visualizer()[:boxatlas]\n",
    "setgeometry!(vis, sys)"
   ]
  },
  {
   "cell_type": "code",
   "execution_count": 6,
   "metadata": {
    "collapsed": false
   },
   "outputs": [
    {
     "data": {
      "text/plain": [
       "PyObject <pympc.control.MPCHybridController instance at 0x7fc265e21050>"
      ]
     },
     "execution_count": 6,
     "metadata": {},
     "output_type": "execute_result"
    }
   ],
   "source": [
    "controller = PyMPC.Models.controller(sys, Q=10*eye(10))"
   ]
  },
  {
   "cell_type": "code",
   "execution_count": 7,
   "metadata": {
    "collapsed": true
   },
   "outputs": [],
   "source": [
    "struct Sample\n",
    "    utraj::Vector{Vector{Float64}}\n",
    "    xtraj::Vector{Vector{Float64}}\n",
    "    switching_sequence::Vector{Int}\n",
    "    u_sensitivity::Matrix{Float64}\n",
    "end"
   ]
  },
  {
   "cell_type": "code",
   "execution_count": 8,
   "metadata": {
    "collapsed": true,
    "scrolled": false
   },
   "outputs": [],
   "source": [
    "# num_samples = 100\n",
    "# num_sim_steps = 20\n",
    "# data = Vector{Sample}()\n",
    "# # data = Vector{Tuple{Vector{Float64}, Matrix{Float64}}}()\n",
    "\n",
    "# @showprogress for i in 1:num_samples\n",
    "#     while true\n",
    "#         x0 = PyMPC.Models.generate_x0(sys)\n",
    "#         settransform!(vis, sys, x0)\n",
    "#         utraj, xtraj, switching_sequence, J = PyMPC.run_mpc(controller, x0)\n",
    "#         u = utraj[1]\n",
    "#         if !isnan(u[1])\n",
    "#             @assert x0 == xtraj[1]\n",
    "#             PyMPC.Models.playback(vis, sys, xtraj, 1)\n",
    "#             push!(data, Sample(utraj, xtraj, collect(switching_sequence), J[1:length(u), :]))\n",
    "#             for j in 1:num_sim_steps\n",
    "#                 x = xtraj[2]\n",
    "#                 utraj = vcat(utraj[2:end], [zeros(utraj[end])])\n",
    "#                 xnext = try\n",
    "#                     vec(sys.sys[:pwa_system][:simulate](colmat(xtraj[end]), [colmat(utraj[end-1])])[1][2])\n",
    "#                 catch e\n",
    "#                     if isa(e, PyCall.PyError)\n",
    "#                         zeros(xtraj[end])\n",
    "#                     else\n",
    "#                         rethrow(e)\n",
    "#                     end\n",
    "#                 end\n",
    "#                 xtraj = vcat(xtraj[2:end], [xnext])\n",
    "#                 switching_sequence = (switching_sequence[2:end]..., switching_sequence[end])\n",
    "#                 utraj, xtraj, switching_sequence, J = PyMPC.run_mpc(controller, x, utraj, xtraj, switching_sequence)\n",
    "#                 u = utraj[1]\n",
    "#                 if isnan(u[1])\n",
    "#                     break\n",
    "#                 end\n",
    "#                 @assert x == xtraj[1]\n",
    "#                 push!(data, Sample(utraj, xtraj, collect(switching_sequence), J[1:length(u), :]))\n",
    "#                 PyMPC.Models.playback(vis, sys, xtraj, 1)\n",
    "#             end\n",
    "#             break\n",
    "#         end\n",
    "#     end\n",
    "#     save(\"box_atlas_100_traj.jld\", \"data\", data)\n",
    "# end\n",
    "\n",
    "# save(\"box_atlas_100_traj.jld\", \"data\", data)"
   ]
  },
  {
   "cell_type": "code",
   "execution_count": 9,
   "metadata": {
    "collapsed": true
   },
   "outputs": [],
   "source": [
    "samples = load(\"box_atlas_100_traj.jld\")[\"data\"];"
   ]
  },
  {
   "cell_type": "code",
   "execution_count": 10,
   "metadata": {
    "collapsed": false
   },
   "outputs": [
    {
     "data": {
      "text/plain": [
       "features (generic function with 1 method)"
      ]
     },
     "execution_count": 10,
     "metadata": {},
     "output_type": "execute_result"
    }
   ],
   "source": [
    "function features(sample::Sample)\n",
    "    u = sample.utraj[1]\n",
    "    x = sample.xtraj[1]\n",
    "    J = sample.u_sensitivity\n",
    "    x, hcat(u, J)\n",
    "end"
   ]
  },
  {
   "cell_type": "code",
   "execution_count": 11,
   "metadata": {
    "collapsed": false
   },
   "outputs": [
    {
     "data": {
      "text/plain": [
       "AffineMap([0.314883 0.0 0.0 0.0 0.0 0.0 0.0 0.0 0.0; 0.0 0.253895 0.0 0.0 0.0 0.0 0.0 0.0 0.0; 0.0 0.0 0.295239 0.0 0.0 0.0 0.0 0.0 0.0; 0.0 0.0 0.0 0.242955 0.0 0.0 0.0 0.0 0.0; 0.0 0.0 0.0 0.0 0.2 0.0 0.0 0.0 0.0; 0.0 0.0 0.0 0.0 0.0 0.53283 0.0 0.0 0.0; 0.0 0.0 0.0 0.0 0.0 0.0 0.153005 0.0 0.0; 0.0 0.0 0.0 0.0 0.0 0.0 0.0 0.164294 0.0; 0.0 0.0 0.0 0.0 0.0 0.0 0.0 0.0 0.15605], [0.0, 0.0, 0.0, 0.0, 0.0, 0.0, 0.0, 0.0, 0.0])"
      ]
     },
     "execution_count": 11,
     "metadata": {},
     "output_type": "execute_result"
    }
   ],
   "source": [
    "data = features.(samples)\n",
    "train_data, test_data = splitobs(shuffleobs(data), 0.5)\n",
    "\n",
    "train_data_scaled, x_to_u, v_to_y = Nets.rescale(train_data)\n",
    "u_to_x = inv(x_to_u)\n",
    "y_to_v = inv(v_to_y)"
   ]
  },
  {
   "cell_type": "code",
   "execution_count": 12,
   "metadata": {
    "collapsed": false
   },
   "outputs": [
    {
     "data": {
      "text/plain": [
       "9×11 Array{Float64,2}:\n",
       " -0.0        -0.0      -0.0          …  -0.0      -0.0      -0.0        \n",
       "  0.64587    -0.0       0.515159        -0.0      -0.0       0.923383   \n",
       " -0.0        -0.0      -0.0             -0.0      -0.0      -0.0        \n",
       "  1.01876    -0.0       1.93248e-15     -0.0      -0.0       1.82592e-14\n",
       "  0.173778   -0.0      -0.0             -0.0      -0.0      -0.0        \n",
       "  0.0917479  -0.0      -0.0          …  -2.69298  -0.0      -0.0        \n",
       " -0.380844   -1.18669  -0.0             -0.0      -2.41876  -0.0        \n",
       " -0.380844   -1.18669  -0.0             -0.0      -2.41876  -0.0        \n",
       " -0.0        -0.0      -0.0             -0.0      -0.0      -0.0        "
      ]
     },
     "execution_count": 12,
     "metadata": {},
     "output_type": "execute_result"
    }
   ],
   "source": [
    "data[1][2]"
   ]
  },
  {
   "cell_type": "code",
   "execution_count": 36,
   "metadata": {
    "collapsed": false
   },
   "outputs": [
    {
     "data": {
      "text/plain": [
       "sensitive_loss (generic function with 1 method)"
      ]
     },
     "execution_count": 36,
     "metadata": {},
     "output_type": "execute_result"
    }
   ],
   "source": [
    "widths = [10, 64, 64, 64, 32, 16, 9]\n",
    "activation = Nets.leaky_relu\n",
    "\n",
    "function sensitive_loss(λ)\n",
    "    q = fill(λ, 1, widths[1] + 1)\n",
    "    q[1] = 1.0 - λ\n",
    "    (params, x, y) -> sum(abs2, q .* (Nets.predict_sensitivity(Nets.Net(Nets.Params(widths, params), activation), x) .- y))\n",
    "end"
   ]
  },
  {
   "cell_type": "code",
   "execution_count": 37,
   "metadata": {
    "collapsed": true
   },
   "outputs": [],
   "source": [
    "start_params = 0.1 * randn(Nets.Params{Float64}, widths).data\n",
    "nepoch = 400;"
   ]
  },
  {
   "cell_type": "code",
   "execution_count": 38,
   "metadata": {
    "collapsed": false
   },
   "outputs": [
    {
     "name": "stdout",
     "output_type": "stream",
     "text": [
      "mean((xy->begin  # In[38], line 8:\n",
      "            sum(abs2, net(xy[1]) .- (xy[2])[:, 1])\n",
      "        end), test_data) = 1.8029993360344274\n"
     ]
    },
    {
     "name": "stderr",
     "output_type": "stream",
     "text": [
      "Progress: 100%|█████████████████████████████████████████|  ETA: 0:00:02"
     ]
    },
    {
     "name": "stdout",
     "output_type": "stream",
     "text": [
      "mean((xy->begin  # In[38], line 16:\n",
      "            sum(abs2, net(xy[1]) .- (xy[2])[:, 1])\n",
      "        end), test_data) = 5.248448133193176\n"
     ]
    },
    {
     "name": "stderr",
     "output_type": "stream",
     "text": [
      "\r",
      "Progress: 100%|█████████████████████████████████████████|  ETA: 0:00:01\r",
      "Progress: 100%|█████████████████████████████████████████| Time: 0:06:36\n"
     ]
    },
    {
     "data": {
      "text/html": [
       "<img src=\"data:image/png;base64,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\" />"
      ]
     },
     "execution_count": 38,
     "metadata": {},
     "output_type": "execute_result"
    }
   ],
   "source": [
    "params = copy(start_params)\n",
    "net = Nets.Net(Nets.Params(widths, params), activation, x_to_u, v_to_y)\n",
    "\n",
    "train_loss = sensitive_loss(0.5)\n",
    "validate_loss = train_loss\n",
    "losses = [mean(xy -> validate_loss(params, xy[1], xy[2]), train_data_scaled)]\n",
    "\n",
    "@show mean(xy -> sum(abs2, net(xy[1]) .- xy[2][:,1]), test_data)\n",
    "\n",
    "@showprogress for i in 1:nepoch\n",
    "#     train_loss = sensitive_loss(0.1)\n",
    "    Nets.adam!(train_loss, params, train_data_scaled, Nets.AdamOpts(learning_rate=0.01 * 0.99^i, batch_size=10))\n",
    "    push!(losses, mean(xy -> validate_loss(params, xy[1], xy[2]), train_data_scaled))\n",
    "end\n",
    "\n",
    "@show mean(xy -> sum(abs2, net(xy[1]) .- xy[2][:,1]), test_data)\n",
    "\n",
    "plot(losses, ylim=(0, losses[1]))"
   ]
  },
  {
   "cell_type": "code",
   "execution_count": 42,
   "metadata": {
    "collapsed": false
   },
   "outputs": [
    {
     "data": {
      "text/plain": [
       "(::#49) (generic function with 1 method)"
      ]
     },
     "execution_count": 42,
     "metadata": {},
     "output_type": "execute_result"
    }
   ],
   "source": [
    "netcontroller = x -> clamp.(net(x), -1, 1)"
   ]
  },
  {
   "cell_type": "code",
   "execution_count": 17,
   "metadata": {
    "collapsed": false
   },
   "outputs": [
    {
     "name": "stdout",
     "output_type": "stream",
     "text": [
      "x0 = [0.000102126, 0.0640511, -0.0691781, -0.00922239, 0.167509, 0.00866218, -0.157575, 0.104498, 0.0878983, -0.816752]\n"
     ]
    }
   ],
   "source": [
    "x0 = PyMPC.Models.generate_x0(sys, controller)\n",
    "@show x0"
   ]
  },
  {
   "cell_type": "code",
   "execution_count": 19,
   "metadata": {
    "collapsed": false
   },
   "outputs": [
    {
     "data": {
      "text/plain": [
       "10-element Array{Float64,1}:\n",
       "  0.17665  \n",
       "  0.149005 \n",
       "  0.109203 \n",
       "  0.112952 \n",
       "  0.0381778\n",
       "  0.343083 \n",
       "  0.0437361\n",
       "  0.287838 \n",
       " -0.697056 \n",
       "  0.244723 "
      ]
     },
     "execution_count": 19,
     "metadata": {},
     "output_type": "execute_result"
    }
   ],
   "source": [
    "x0 = [0.17665, 0.149005, 0.109203, 0.112952, 0.0381778, 0.343083, 0.0437361, 0.287838, -0.697056, 0.244723]"
   ]
  },
  {
   "cell_type": "code",
   "execution_count": 63,
   "metadata": {
    "collapsed": false
   },
   "outputs": [
    {
     "data": {
      "text/plain": [
       "0.5"
      ]
     },
     "execution_count": 63,
     "metadata": {},
     "output_type": "execute_result"
    }
   ],
   "source": [
    "x0 = zeros(10)\n",
    "x0[end-1] = -0.6\n",
    "x0[end] = 0.5"
   ]
  },
  {
   "cell_type": "code",
   "execution_count": 65,
   "metadata": {
    "collapsed": false
   },
   "outputs": [],
   "source": [
    "xs = PyMPC.Models.simulate(sys, x0, netcontroller; N_sim=30)\n",
    "PyMPC.Models.playback(vis, sys, xs)"
   ]
  },
  {
   "cell_type": "code",
   "execution_count": 21,
   "metadata": {
    "collapsed": false
   },
   "outputs": [
    {
     "ename": "LoadError",
     "evalue": "\u001b[91mUndefVarError: xs not defined\u001b[39m",
     "output_type": "error",
     "traceback": [
      "\u001b[91mUndefVarError: xs not defined\u001b[39m",
      ""
     ]
    }
   ],
   "source": [
    "PyMPC.Models.playback(vis, sys, xs)"
   ]
  },
  {
   "cell_type": "code",
   "execution_count": null,
   "metadata": {
    "collapsed": true
   },
   "outputs": [],
   "source": []
  },
  {
   "cell_type": "code",
   "execution_count": null,
   "metadata": {
    "collapsed": true
   },
   "outputs": [],
   "source": []
  }
 ],
 "metadata": {
  "kernelspec": {
   "display_name": "Julia 0.6.0",
   "language": "julia",
   "name": "julia-0.6"
  },
  "language_info": {
   "file_extension": ".jl",
   "mimetype": "application/julia",
   "name": "julia",
   "version": "0.6.0"
  }
 },
 "nbformat": 4,
 "nbformat_minor": 2
}
