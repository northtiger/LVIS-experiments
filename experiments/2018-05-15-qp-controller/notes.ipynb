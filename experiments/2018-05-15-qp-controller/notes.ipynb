{
 "cells": [
  {
   "cell_type": "markdown",
   "metadata": {},
   "source": [
    "The learning-MPC work lets us learn an approximation of the value function of the box atlas model. Specifically, it gives us a function $\\hat{V}^*(z)$ where $z$ is the state of the box atlas model. "
   ]
  },
  {
   "cell_type": "markdown",
   "metadata": {},
   "source": [
    "We can in turn express box atlas state as a function of full atlas state, and that expression will be locally linear. So, we have $z = Jx + z_0$ where $x$ is the full atlas state. "
   ]
  },
  {
   "cell_type": "markdown",
   "metadata": {},
   "source": [
    "Let's create a local quadratic approximation of $\\hat{V}^*$ as $\\frac{1}{2} z^\\top S_z z + s_z^\\top z$. We can perform the substitution above and get that cost as a function of $x$: \n",
    "\n",
    "\\begin{align}\n",
    "& \\frac{1}{2} (Jx + z_0)^\\top S_z (Jx + z_0) + s_z^\\top (Jx + z_0) \\\\\n",
    "= & \\frac{1}{2} x^\\top (J^\\top S_z J) x + z_0^\\top S_z J x + s_z^\\top J x \\\\\n",
    "= & \\frac{1}{2} x^\\top (J^\\top S_z J) x + (z_0^\\top S_z J + s_z\\top J) x\n",
    "\\end{align}\n",
    "\n",
    "which is also a quadratic function of $x$. "
   ]
  },
  {
   "cell_type": "code",
   "execution_count": null,
   "metadata": {},
   "outputs": [],
   "source": []
  }
 ],
 "metadata": {
  "kernelspec": {
   "display_name": "Julia 0.6.2",
   "language": "julia",
   "name": "julia-0.6"
  },
  "language_info": {
   "file_extension": ".jl",
   "mimetype": "application/julia",
   "name": "julia",
   "version": "0.6.2"
  }
 },
 "nbformat": 4,
 "nbformat_minor": 2
}
