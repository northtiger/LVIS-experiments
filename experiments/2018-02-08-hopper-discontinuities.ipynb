{
 "cells": [
  {
   "cell_type": "code",
   "execution_count": 2,
   "metadata": {
    "collapsed": true
   },
   "outputs": [],
   "source": [
    "using Revise"
   ]
  },
  {
   "cell_type": "code",
   "execution_count": 18,
   "metadata": {},
   "outputs": [],
   "source": [
    "using Flux\n",
    "using JLD2\n",
    "using FileIO\n",
    "using MLDataPattern\n",
    "using CoordinateTransformations\n",
    "using ProgressMeter\n",
    "using RigidBodyDynamics\n",
    "using DrakeVisualizer\n",
    "DrakeVisualizer.any_open_windows() || DrakeVisualizer.new_window()\n",
    "import FluxExtensions\n",
    "import LearningMPC\n",
    "import LCPSim\n",
    "import Hoppers"
   ]
  },
  {
   "cell_type": "code",
   "execution_count": 5,
   "metadata": {},
   "outputs": [],
   "source": [
    "samples = load(\"2018-02-07-hopper-smaller-grid/grid_search.jld2\")[\"samples\"];"
   ]
  },
  {
   "cell_type": "code",
   "execution_count": 6,
   "metadata": {
    "collapsed": true
   },
   "outputs": [],
   "source": [
    "filter!(samples) do sample\n",
    "    sample.state[2] <= sample.state[1]\n",
    "end;"
   ]
  },
  {
   "cell_type": "code",
   "execution_count": 7,
   "metadata": {
    "collapsed": true
   },
   "outputs": [],
   "source": [
    "features(sample::LearningMPC.Sample) = (sample.state, sample.uJ[:, 1])\n",
    "data = features.(samples);\n",
    "train_data, test_data = splitobs(shuffleobs(data), at=0.85);"
   ]
  },
  {
   "cell_type": "code",
   "execution_count": 49,
   "metadata": {},
   "outputs": [
    {
     "data": {
      "text/plain": [
       "(::#71) (generic function with 1 method)"
      ]
     },
     "execution_count": 49,
     "metadata": {},
     "output_type": "execute_result"
    }
   ],
   "source": [
    "function setup_model()\n",
    "    signals = Chain(Dense(4, 2 * 16), x -> reshape(x, 16, 2))\n",
    "    weights = Chain(\n",
    "        LinearMap(UniformScaling(0.2)),\n",
    "        Dense(4, 16, elu),\n",
    "        Dense(16, 16, elu),\n",
    "        softmax)\n",
    "    model = FluxExtensions.Attention(signals, weights)\n",
    "            \n",
    "    loss = (x, y) -> Flux.mse(vec(model(x)), y)\n",
    "    model, loss\n",
    "end\n",
    "\n",
    "model, loss = setup_model()\n",
    "opt = Flux.ADADelta(params(model))"
   ]
  },
  {
   "cell_type": "code",
   "execution_count": 50,
   "metadata": {},
   "outputs": [
    {
     "data": {
      "text/plain": [
       "true"
      ]
     },
     "execution_count": 50,
     "metadata": {},
     "output_type": "execute_result"
    }
   ],
   "source": [
    "import LCPSim\n",
    "import Hoppers\n",
    "using RigidBodyDynamics\n",
    "using Gurobi\n",
    "using DrakeVisualizer\n",
    "DrakeVisualizer.any_open_windows() || DrakeVisualizer.new_window()"
   ]
  },
  {
   "cell_type": "code",
   "execution_count": 51,
   "metadata": {},
   "outputs": [
    {
     "data": {
      "text/plain": [
       "0.05"
      ]
     },
     "execution_count": 51,
     "metadata": {},
     "output_type": "execute_result"
    }
   ],
   "source": [
    "robot = Hoppers.Hopper()\n",
    "xstar = Hoppers.nominal_state(robot)\n",
    "ustar = zeros(num_velocities(xstar))\n",
    "basevis = Visualizer()[:hopper]\n",
    "setgeometry!(basevis, robot)\n",
    "settransform!(basevis[:robot], xstar)\n",
    "Δt = 0.05"
   ]
  },
  {
   "cell_type": "code",
   "execution_count": 52,
   "metadata": {},
   "outputs": [
    {
     "data": {
      "text/plain": [
       "(::#15) (generic function with 1 method)"
      ]
     },
     "execution_count": 52,
     "metadata": {},
     "output_type": "execute_result"
    }
   ],
   "source": [
    "net_controller = x -> vec(Flux.Tracker.value(model(state_vector(x))))"
   ]
  },
  {
   "cell_type": "code",
   "execution_count": 53,
   "metadata": {
    "collapsed": true
   },
   "outputs": [],
   "source": [
    "x_init = MechanismState{Float64}(robot.mechanism)\n",
    "set_configuration!(x_init, [1.0, 1.0])\n",
    "set_velocity!(x_init, [0., 0.])\n",
    "LearningMPC.randomize!(x_init, x_init, 0.5, 1.0)\n",
    "results = LCPSim.simulate(x_init, net_controller,\n",
    "    robot.environment,\n",
    "    Δt,\n",
    "    100,\n",
    "    GurobiSolver(Gurobi.Env(), OutputFlag=0));"
   ]
  },
  {
   "cell_type": "code",
   "execution_count": 54,
   "metadata": {
    "collapsed": true
   },
   "outputs": [],
   "source": [
    "LearningMPC.playback(basevis[:robot], results, Δt)"
   ]
  },
  {
   "cell_type": "code",
   "execution_count": 59,
   "metadata": {},
   "outputs": [
    {
     "name": "stderr",
     "output_type": "stream",
     "text": [
      "\u001b[32mProgress: 100%|█████████████████████████████████████████| Time: 0:12:36\u001b[39m\n"
     ]
    }
   ],
   "source": [
    "@showprogress for i in 1:100\n",
    "    Flux.train!(loss, train_data, opt)\n",
    "end"
   ]
  },
  {
   "cell_type": "code",
   "execution_count": 60,
   "metadata": {},
   "outputs": [
    {
     "data": {
      "text/plain": [
       "6-element Array{Any,1}:\n",
       " param([0.316718 -0.315982 0.0362808 0.379321; 0.0630288 -0.0939456 0.113194 0.00598398; … ; 9.64426 13.3897 -1.58045 3.90986; 1.30677 -6.71482 0.0785534 -1.81041])                                                   \n",
       " param([0.00501965, 0.172233, -0.735358, -0.0767995, -0.0495874, -0.0271283, 0.123576, -0.0578249, 0.00466749, -0.136831  …  15.2922, 15.1371, 15.1697, 15.1928, 27.6338, 15.5114, 16.9579, 14.9992, 15.4874, 4.18218])\n",
       " param([4.7263 -1.82219 -1.08901 0.428086; -5.53996 2.25817 0.686609 0.221881; … ; 1.31654 3.24633 0.972213 -0.0940963; 5.61796 -1.05542 1.8555 0.53821])                                                              \n",
       " param([-1.49376, 0.193408, -0.276425, -0.8048, 0.156168, 0.72824, 3.60415, 0.0296689, 5.11868, 0.672663, -1.59691, -2.54904, -0.791005, 0.00550947, 0.856356, 0.731837])                                              \n",
       " param([0.109783 1.87797 … -1.87662 0.865416; -2.11114 1.72057 … -2.11689 -0.88466; … ; -2.14179 -0.129833 … -1.47481 0.657811; 0.995725 -4.49969 … 7.79372 2.3006])                                                   \n",
       " param([0.00252455, 4.05114, 6.35563, -0.216787, -0.800749, 7.07375, -2.02746, -0.193128, -2.28324, -0.252368, 3.8844, -1.29521, 6.04941, -0.228183, -2.16511, 3.24415])                                               "
      ]
     },
     "execution_count": 60,
     "metadata": {},
     "output_type": "execute_result"
    }
   ],
   "source": [
    "params(model)"
   ]
  },
  {
   "cell_type": "code",
   "execution_count": null,
   "metadata": {
    "collapsed": true
   },
   "outputs": [],
   "source": []
  },
  {
   "cell_type": "code",
   "execution_count": 85,
   "metadata": {},
   "outputs": [],
   "source": [
    "x_init = MechanismState{Float64}(robot.mechanism)\n",
    "set_configuration!(x_init, [1.0, 1.0])\n",
    "set_velocity!(x_init, [0., 0.])\n",
    "settransform!(basevis[:robot], x_init)\n",
    "# LearningMPC.randomize!(x_init, x_init, 0.5, 1.0)\n",
    "results = LCPSim.simulate(x_init, net_controller,\n",
    "    robot.environment,\n",
    "    Δt,\n",
    "    200,\n",
    "    GurobiSolver(Gurobi.Env(), OutputFlag=0));"
   ]
  },
  {
   "cell_type": "code",
   "execution_count": 86,
   "metadata": {
    "collapsed": true
   },
   "outputs": [],
   "source": [
    "LearningMPC.playback(basevis[:robot], results, 2 * Δt)"
   ]
  },
  {
   "cell_type": "code",
   "execution_count": 87,
   "metadata": {},
   "outputs": [],
   "source": [
    "save(\"2model.jld2\", \"model\", model, \"parameters\", params(model))"
   ]
  },
  {
   "cell_type": "code",
   "execution_count": null,
   "metadata": {
    "collapsed": true
   },
   "outputs": [],
   "source": []
  }
 ],
 "metadata": {
  "kernelspec": {
   "display_name": "Julia 0.6.2",
   "language": "julia",
   "name": "julia-0.6"
  },
  "language_info": {
   "file_extension": ".jl",
   "mimetype": "application/julia",
   "name": "julia",
   "version": "0.6.2"
  }
 },
 "nbformat": 4,
 "nbformat_minor": 2
}
