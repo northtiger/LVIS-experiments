{
 "cells": [
  {
   "cell_type": "code",
   "execution_count": 1,
   "metadata": {},
   "outputs": [],
   "source": [
    "using Revise"
   ]
  },
  {
   "cell_type": "code",
   "execution_count": 276,
   "metadata": {},
   "outputs": [
    {
     "name": "stderr",
     "output_type": "stream",
     "text": [
      "WARNING: using CoordinateTransformations.transform in module Main conflicts with an existing identifier.\n"
     ]
    }
   ],
   "source": [
    "using RigidBodyDynamics\n",
    "using Rotations\n",
    "using AtlasRobot\n",
    "using LearningMPC.Models\n",
    "using StaticArrays\n",
    "using MeshCat\n",
    "using MeshCatMechanisms\n",
    "using Blink\n",
    "using CoordinateTransformations"
   ]
  },
  {
   "cell_type": "code",
   "execution_count": 213,
   "metadata": {},
   "outputs": [
    {
     "data": {
      "text/plain": [
       "Blink.AtomShell.Window(2, Blink.AtomShell.Electron(Process(`/home/rdeits/locomotion/explorations/learning-mpc-2/packages/v0.6/Blink/deps/atom/electron /home/rdeits/locomotion/explorations/learning-mpc-2/packages/v0.6/Blink/src/AtomShell/main.js port 2040`, ProcessRunning), TCPSocket(RawFD(59) active, 0 bytes waiting), Dict{String,Any}(Pair{String,Any}(\"callback\", Blink.#3))), Blink.Page(2, WebSockets.WebSocket{TCPSocket}(TCPSocket(RawFD(67) active, 0 bytes waiting), true, CONNECTED::WebSockets.ReadyState = 1), Dict{String,Any}(Pair{String,Any}(\"webio\", WebIO.#109),Pair{String,Any}(\"callback\", Blink.#3)), Future(1, 1, 2, Nullable{Any}(true))))"
      ]
     },
     "execution_count": 213,
     "metadata": {},
     "output_type": "execute_result"
    }
   ],
   "source": [
    "vis = Visualizer()\n",
    "open(vis, Window());"
   ]
  },
  {
   "cell_type": "code",
   "execution_count": 303,
   "metadata": {},
   "outputs": [
    {
     "data": {
      "text/plain": [
       "init_atlas! (generic function with 1 method)"
      ]
     },
     "execution_count": 303,
     "metadata": {},
     "output_type": "execute_result"
    }
   ],
   "source": [
    "atlas = AtlasRobot.mechanism()\n",
    "\n",
    "modifications = [\n",
    "    (\"r_hand_mount\", \"r_hand\", RotZYX(π, -π/2, 0), SVector(0, -0.195, 0)),\n",
    "    (\"l_hand_mount\", \"l_hand\", RotZYX(π, -π/2, 0), SVector(0, -0.195, 0)),\n",
    "    (\"r_foot_sole\", \"r_foot\", RotZYX(0., 0., 0.), SVector(0.0426, -0.0017, -0.07645)),\n",
    "    (\"l_foot_sole\", \"l_foot\", RotZYX(0., 0., 0.), SVector(0.0426, 0.0017, -0.07645)),   \n",
    "]\n",
    "\n",
    "for (bodyname, basename, rot, trans) in modifications\n",
    "    base = findbody(atlas, basename)\n",
    "    frame = CartesianFrame3D(bodyname)\n",
    "    inertia = SpatialInertia(frame, SDiagonal(0., 0, 0), SVector(0., 0, 0), 0.0)\n",
    "    body = RigidBody(inertia)\n",
    "    joint = Joint(\"$(basename)_to_$(bodyname)\", Fixed{Float64}())\n",
    "    before_joint = Transform3D(frame_before(joint), default_frame(base), rot, trans)\n",
    "    attach!(atlas, base, body, joint, joint_pose=before_joint)\n",
    "end\n",
    "\n",
    "function init_atlas!(state::MechanismState)\n",
    "    mechanism = state.mechanism\n",
    "    zero!(state)\n",
    "    kneebend = 1.1\n",
    "    hipbendextra = 0.1\n",
    "    for sideprefix in ('l', 'r')\n",
    "        knee = findjoint(mechanism, \"$(sideprefix)_leg_kny\")\n",
    "        hippitch = findjoint(mechanism, \"$(sideprefix)_leg_hpy\")\n",
    "        anklepitch = findjoint(mechanism, \"$(sideprefix)_leg_aky\")        \n",
    "        set_configuration!(state, knee, [kneebend])\n",
    "        set_configuration!(state, hippitch, [-kneebend / 2 + hipbendextra])\n",
    "        set_configuration!(state, anklepitch, [-kneebend / 2 - hipbendextra])\n",
    "    end\n",
    "    floatingjoint = first(out_joints(root_body(mechanism), mechanism))\n",
    "    set_configuration!(state, floatingjoint, [1; 0; 0; 0; 0; 0; 0.85])\n",
    "    state\n",
    "end\n"
   ]
  },
  {
   "cell_type": "code",
   "execution_count": 307,
   "metadata": {},
   "outputs": [
    {
     "data": {
      "text/plain": [
       "1.5707963267948966"
      ]
     },
     "execution_count": 307,
     "metadata": {},
     "output_type": "execute_result"
    }
   ],
   "source": [
    "π/2"
   ]
  },
  {
   "cell_type": "code",
   "execution_count": 322,
   "metadata": {},
   "outputs": [],
   "source": [
    "boxatlas = mechanism(BoxAtlas());"
   ]
  },
  {
   "cell_type": "code",
   "execution_count": 323,
   "metadata": {},
   "outputs": [],
   "source": [
    "delete!(vis)\n",
    "mvis1 = MechanismVisualizer(atlas, Skeleton(randomize_colors=true), vis[:atlas])\n",
    "mvis2 = MechanismVisualizer(boxatlas, Skeleton(randomize_colors=true), vis[:boxatlas])\n",
    "set_configuration!(mvis2, configuration(nominal_state(BoxAtlas())))\n",
    "set_configuration!(mvis1, configuration(init_atlas!(MechanismState(atlas))))\n",
    "settransform!(vis[:atlas], Translation(-1, 0, 0.))\n",
    "\n",
    "matching_bodies =  [\"pelvis\", \"r_foot_sole\", \"l_foot_sole\", \"r_hand_mount\", \"l_hand_mount\"]\n",
    "\n",
    "for body in matching_bodies\n",
    "    for mvis in [mvis1, mvis2]\n",
    "        setelement!(mvis, default_frame(findbody(mvis.state.mechanism, body)))\n",
    "    end\n",
    "end"
   ]
  },
  {
   "cell_type": "code",
   "execution_count": 367,
   "metadata": {},
   "outputs": [
    {
     "data": {
      "text/plain": [
       "_unwrap! (generic function with 1 method)"
      ]
     },
     "execution_count": 367,
     "metadata": {},
     "output_type": "execute_result"
    }
   ],
   "source": [
    "function bodymap(state, bodynames)\n",
    "    mechanism = state.mechanism\n",
    "    nq = num_positions(state)\n",
    "    nv = num_velocities(state)\n",
    "    A = zeros(12 * length(bodynames), nq + nv)\n",
    "    b = zeros(12 * length(bodynames))\n",
    "    J_q_to_v = RigidBodyDynamics.configuration_derivative_to_velocity_jacobian(state)\n",
    "    for i in eachindex(bodynames)\n",
    "        body = findbody(mechanism, bodynames[i])\n",
    "        path_to_body = path(mechanism, root_body(mechanism), body)\n",
    "        J_geometric = geometric_jacobian(state, path_to_body)\n",
    "        J_analytic = Array(J_geometric) * Array(J_q_to_v)\n",
    "        rows = (12 * (i - 1)) + (1:12)\n",
    "        A[rows[1:6], 1:nq] .= J_analytic\n",
    "        A[rows[7:9], nq + (1:nv)] .= angular(J_geometric)\n",
    "        A[rows[10:12], nq + (1:nv)] .= linear(J_geometric)\n",
    "        H = transform_to_root(state, body)\n",
    "        r = RodriguesVec(rotation(H))\n",
    "        b[rows[1:3]] .= SVector(r.sx, r.sy, r.sz)\n",
    "        b[rows[4:6]] .= translation(H)\n",
    "        T = twist_wrt_world(state, body)\n",
    "        b[rows[7:9]] .= angular(T)\n",
    "        b[rows[10:12]] .= linear(T)\n",
    "    end\n",
    "    b .= b .- A * Vector(state)\n",
    "    A, b\n",
    "end\n",
    "\n",
    "function _unwrap(b1::Real, b2::Real)\n",
    "    b1 + (mod(b2 - b1 + π, 2π) - π)\n",
    "end\n",
    "    \n",
    "\n",
    "function _unwrap!(b2::AbstractVector, b1::AbstractVector)\n",
    "    for i in 1:(length(b2) ÷ 12)\n",
    "        rows = (12 * (i - 1)) + (1:12)\n",
    "        for row in vcat(rows[1:3], rows[7:9])\n",
    "            b2[row] = _unwrap(b1[row], b2[row])\n",
    "            @assert(b1[row] - π <= b2[row] <= b1[row] + π, (b1[row], b2[row]))\n",
    "        end\n",
    "    end\n",
    "end"
   ]
  },
  {
   "cell_type": "code",
   "execution_count": 379,
   "metadata": {},
   "outputs": [
    {
     "data": {
      "text/plain": [
       "5-element Array{String,1}:\n",
       " \"pelvis\"      \n",
       " \"r_foot_sole\" \n",
       " \"l_foot_sole\" \n",
       " \"r_hand_mount\"\n",
       " \"l_hand_mount\""
      ]
     },
     "execution_count": 379,
     "metadata": {},
     "output_type": "execute_result"
    }
   ],
   "source": [
    "state1 = init_atlas!(MechanismState(atlas))\n",
    "state2 = nominal_state(BoxAtlas())\n",
    "matching_bodies =  [\"pelvis\", \"r_foot_sole\", \"l_foot_sole\", \"r_hand_mount\", \"l_hand_mount\"]"
   ]
  },
  {
   "cell_type": "code",
   "execution_count": 380,
   "metadata": {},
   "outputs": [],
   "source": [
    "for i in 1:100\n",
    "    x2_prev = Vector(state2)\n",
    "    A1, b1 = bodymap(state1, matching_bodies)\n",
    "    A2, b2 = bodymap(state2, matching_bodies)\n",
    "    _unwrap!(b1, b2)\n",
    "\n",
    "    p1 = A1 * Vector(state1) + b1\n",
    "    x2 = (A2' * A2) \\ (A2' * p1 - A2' * b2)\n",
    "    copy!(state2, x2)\n",
    "    set_configuration!(mvis2, configuration(state2))\n",
    "    sleep(0.01)\n",
    "end"
   ]
  },
  {
   "cell_type": "code",
   "execution_count": 381,
   "metadata": {},
   "outputs": [
    {
     "data": {
      "text/plain": [
       "11-element RigidBodyDynamics.CustomCollections.SegmentedVector{RigidBodyDynamics.JointID,Float64,Base.OneTo{RigidBodyDynamics.JointID},Array{Float64,1}}:\n",
       " -1.53178e-5 \n",
       "  0.83334    \n",
       "  0.000650046\n",
       "  1.5772     \n",
       "  1.57297    \n",
       "  0.00222622 \n",
       "  0.000941339\n",
       "  0.835802   \n",
       "  0.836441   \n",
       "  0.820185   \n",
       "  0.820328   "
      ]
     },
     "execution_count": 381,
     "metadata": {},
     "output_type": "execute_result"
    }
   ],
   "source": [
    "configuration(state2)"
   ]
  },
  {
   "cell_type": "code",
   "execution_count": 382,
   "metadata": {},
   "outputs": [
    {
     "data": {
      "text/plain": [
       "11-element RigidBodyDynamics.CustomCollections.SegmentedVector{RigidBodyDynamics.JointID,Float64,Base.OneTo{RigidBodyDynamics.JointID},Array{Float64,1}}:\n",
       " 0.0\n",
       " 0.0\n",
       " 0.0\n",
       " 0.0\n",
       " 0.0\n",
       " 0.0\n",
       " 0.0\n",
       " 0.0\n",
       " 0.0\n",
       " 0.0\n",
       " 0.0"
      ]
     },
     "execution_count": 382,
     "metadata": {},
     "output_type": "execute_result"
    }
   ],
   "source": [
    "velocity(state2)"
   ]
  },
  {
   "cell_type": "code",
   "execution_count": 203,
   "metadata": {},
   "outputs": [
    {
     "data": {
      "text/plain": [
       "Transform3D from \"after_pelvis_to_world\" to \"world\":\n",
       "rotation: 0.0 rad about [1.0, 0.0, 0.0], translation: [0.0, 0.0, 0.0]"
      ]
     },
     "execution_count": 203,
     "metadata": {},
     "output_type": "execute_result"
    }
   ],
   "source": [
    "transform_to_root(state1, findbody(atlas, \"pelvis\"))"
   ]
  },
  {
   "cell_type": "code",
   "execution_count": 204,
   "metadata": {},
   "outputs": [
    {
     "data": {
      "text/plain": [
       "Transform3D from \"after_floating_base_dummy_to_pelvis\" to \"world\":\n",
       "rotation: 0.10506912757465732 rad about [1.0, -6.12323e-17, 0.0], translation: [-1.56213e-17, -0.255114, -0.183755]"
      ]
     },
     "execution_count": 204,
     "metadata": {},
     "output_type": "execute_result"
    }
   ],
   "source": [
    "transform_to_root(state2, findbody(boxatlas, \"pelvis\"))"
   ]
  },
  {
   "cell_type": "markdown",
   "metadata": {},
   "source": [
    "# Next steps\n",
    "\n",
    "Visualize the matching body frames and make sure their definitions line up"
   ]
  }
 ],
 "metadata": {
  "kernelspec": {
   "display_name": "Julia 0.6.3",
   "language": "julia",
   "name": "julia-0.6"
  },
  "language_info": {
   "file_extension": ".jl",
   "mimetype": "application/julia",
   "name": "julia",
   "version": "0.6.3"
  }
 },
 "nbformat": 4,
 "nbformat_minor": 2
}
