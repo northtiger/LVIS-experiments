{
 "cells": [
  {
   "cell_type": "code",
   "execution_count": 1,
   "metadata": {},
   "outputs": [],
   "source": [
    "using Revise"
   ]
  },
  {
   "cell_type": "code",
   "execution_count": 276,
   "metadata": {},
   "outputs": [
    {
     "name": "stderr",
     "output_type": "stream",
     "text": [
      "WARNING: using CoordinateTransformations.transform in module Main conflicts with an existing identifier.\n"
     ]
    }
   ],
   "source": [
    "using RigidBodyDynamics\n",
    "using Rotations\n",
    "using AtlasRobot\n",
    "using LearningMPC.Models\n",
    "using StaticArrays\n",
    "using MeshCat\n",
    "using MeshCatMechanisms\n",
    "using Blink\n",
    "using CoordinateTransformations"
   ]
  },
  {
   "cell_type": "code",
   "execution_count": 213,
   "metadata": {},
   "outputs": [
    {
     "data": {
      "text/plain": [
       "Blink.AtomShell.Window(2, Blink.AtomShell.Electron(Process(`/home/rdeits/locomotion/explorations/learning-mpc-2/packages/v0.6/Blink/deps/atom/electron /home/rdeits/locomotion/explorations/learning-mpc-2/packages/v0.6/Blink/src/AtomShell/main.js port 2040`, ProcessRunning), TCPSocket(RawFD(59) active, 0 bytes waiting), Dict{String,Any}(Pair{String,Any}(\"callback\", Blink.#3))), Blink.Page(2, WebSockets.WebSocket{TCPSocket}(TCPSocket(RawFD(67) active, 0 bytes waiting), true, CONNECTED::WebSockets.ReadyState = 1), Dict{String,Any}(Pair{String,Any}(\"webio\", WebIO.#109),Pair{String,Any}(\"callback\", Blink.#3)), Future(1, 1, 2, Nullable{Any}(true))))"
      ]
     },
     "execution_count": 213,
     "metadata": {},
     "output_type": "execute_result"
    }
   ],
   "source": [
    "vis = Visualizer()\n",
    "open(vis, Window());"
   ]
  },
  {
   "cell_type": "code",
   "execution_count": 591,
   "metadata": {},
   "outputs": [
    {
     "data": {
      "text/plain": [
       "11-element Array{RigidBodyDynamics.Bounds{Float64},1}:\n",
       " (-10.0, 10.0)    \n",
       " (-10.0, 10.0)    \n",
       " (-10.0, 10.0)    \n",
       " (0.0, 1.6708)    \n",
       " (0.0, 1.6708)    \n",
       " (-0.05, 0.785398)\n",
       " (-0.05, 0.785398)\n",
       " (0.4, 0.8)       \n",
       " (0.4, 0.8)       \n",
       " (0.475, 0.95)    \n",
       " (0.475, 0.95)    "
      ]
     },
     "execution_count": 591,
     "metadata": {},
     "output_type": "execute_result"
    }
   ],
   "source": [
    "collect(Iterators.flatten(position_bounds(j) for j in joints(boxatlas)))"
   ]
  },
  {
   "cell_type": "code",
   "execution_count": 303,
   "metadata": {},
   "outputs": [
    {
     "data": {
      "text/plain": [
       "init_atlas! (generic function with 1 method)"
      ]
     },
     "execution_count": 303,
     "metadata": {},
     "output_type": "execute_result"
    }
   ],
   "source": [
    "atlas = AtlasRobot.mechanism()\n",
    "\n",
    "modifications = [\n",
    "    (\"r_hand_mount\", \"r_hand\", RotZYX(π, -π/2, 0), SVector(0, -0.195, 0)),\n",
    "    (\"l_hand_mount\", \"l_hand\", RotZYX(π, -π/2, 0), SVector(0, -0.195, 0)),\n",
    "    (\"r_foot_sole\", \"r_foot\", RotZYX(0., 0., 0.), SVector(0.0426, -0.0017, -0.07645)),\n",
    "    (\"l_foot_sole\", \"l_foot\", RotZYX(0., 0., 0.), SVector(0.0426, 0.0017, -0.07645)),   \n",
    "]\n",
    "\n",
    "for (bodyname, basename, rot, trans) in modifications\n",
    "    base = findbody(atlas, basename)\n",
    "    frame = CartesianFrame3D(bodyname)\n",
    "    inertia = SpatialInertia(frame, SDiagonal(0., 0, 0), SVector(0., 0, 0), 0.0)\n",
    "    body = RigidBody(inertia)\n",
    "    joint = Joint(\"$(basename)_to_$(bodyname)\", Fixed{Float64}())\n",
    "    before_joint = Transform3D(frame_before(joint), default_frame(base), rot, trans)\n",
    "    attach!(atlas, base, body, joint, joint_pose=before_joint)\n",
    "end\n",
    "\n",
    "function init_atlas!(state::MechanismState)\n",
    "    mechanism = state.mechanism\n",
    "    zero!(state)\n",
    "    kneebend = 1.1\n",
    "    hipbendextra = 0.1\n",
    "    for sideprefix in ('l', 'r')\n",
    "        knee = findjoint(mechanism, \"$(sideprefix)_leg_kny\")\n",
    "        hippitch = findjoint(mechanism, \"$(sideprefix)_leg_hpy\")\n",
    "        anklepitch = findjoint(mechanism, \"$(sideprefix)_leg_aky\")        \n",
    "        set_configuration!(state, knee, [kneebend])\n",
    "        set_configuration!(state, hippitch, [-kneebend / 2 + hipbendextra])\n",
    "        set_configuration!(state, anklepitch, [-kneebend / 2 - hipbendextra])\n",
    "    end\n",
    "    floatingjoint = first(out_joints(root_body(mechanism), mechanism))\n",
    "    set_configuration!(state, floatingjoint, [1; 0; 0; 0; 0; 0; 0.85])\n",
    "    state\n",
    "end\n"
   ]
  },
  {
   "cell_type": "code",
   "execution_count": 322,
   "metadata": {},
   "outputs": [],
   "source": [
    "boxatlas = mechanism(BoxAtlas());"
   ]
  },
  {
   "cell_type": "code",
   "execution_count": 323,
   "metadata": {},
   "outputs": [],
   "source": [
    "delete!(vis)\n",
    "mvis1 = MechanismVisualizer(atlas, Skeleton(randomize_colors=true), vis[:atlas])\n",
    "mvis2 = MechanismVisualizer(boxatlas, Skeleton(randomize_colors=true), vis[:boxatlas])\n",
    "set_configuration!(mvis2, configuration(nominal_state(BoxAtlas())))\n",
    "set_configuration!(mvis1, configuration(init_atlas!(MechanismState(atlas))))\n",
    "settransform!(vis[:atlas], Translation(-1, 0, 0.))\n",
    "\n",
    "matching_bodies =  [\"pelvis\", \"r_foot_sole\", \"l_foot_sole\", \"r_hand_mount\", \"l_hand_mount\"]\n",
    "\n",
    "for body in matching_bodies\n",
    "    for mvis in [mvis1, mvis2]\n",
    "        setelement!(mvis, default_frame(findbody(mvis.state.mechanism, body)))\n",
    "    end\n",
    "end"
   ]
  },
  {
   "cell_type": "code",
   "execution_count": 367,
   "metadata": {},
   "outputs": [
    {
     "data": {
      "text/plain": [
       "_unwrap! (generic function with 1 method)"
      ]
     },
     "execution_count": 367,
     "metadata": {},
     "output_type": "execute_result"
    }
   ],
   "source": [
    "function bodymap(state, bodynames)\n",
    "    mechanism = state.mechanism\n",
    "    nq = num_positions(state)\n",
    "    nv = num_velocities(state)\n",
    "    A = zeros(12 * length(bodynames), nq + nv)\n",
    "    b = zeros(12 * length(bodynames))\n",
    "    J_q_to_v = RigidBodyDynamics.configuration_derivative_to_velocity_jacobian(state)\n",
    "    for i in eachindex(bodynames)\n",
    "        body = findbody(mechanism, bodynames[i])\n",
    "        path_to_body = path(mechanism, root_body(mechanism), body)\n",
    "        J_geometric = geometric_jacobian(state, path_to_body)\n",
    "        J_analytic = Array(J_geometric) * Array(J_q_to_v)\n",
    "        rows = (12 * (i - 1)) + (1:12)\n",
    "        A[rows[1:6], 1:nq] .= J_analytic\n",
    "        A[rows[7:9], nq + (1:nv)] .= angular(J_geometric)\n",
    "        A[rows[10:12], nq + (1:nv)] .= linear(J_geometric)\n",
    "        H = transform_to_root(state, body)\n",
    "        r = RodriguesVec(rotation(H))\n",
    "        b[rows[1:3]] .= SVector(r.sx, r.sy, r.sz)\n",
    "        b[rows[4:6]] .= translation(H)\n",
    "        T = twist_wrt_world(state, body)\n",
    "        b[rows[7:9]] .= angular(T)\n",
    "        b[rows[10:12]] .= linear(T)\n",
    "    end\n",
    "    b .= b .- A * Vector(state)\n",
    "    A, b\n",
    "end\n",
    "\n",
    "function _unwrap(b1::Real, b2::Real)\n",
    "    b1 + (mod(b2 - b1 + π, 2π) - π)\n",
    "end\n",
    "    \n",
    "\n",
    "function _unwrap!(b2::AbstractVector, b1::AbstractVector)\n",
    "    for i in 1:(length(b2) ÷ 12)\n",
    "        rows = (12 * (i - 1)) + (1:12)\n",
    "        for row in vcat(rows[1:3], rows[7:9])\n",
    "            b2[row] = _unwrap(b1[row], b2[row])\n",
    "            @assert(b1[row] - π <= b2[row] <= b1[row] + π, (b1[row], b2[row]))\n",
    "        end\n",
    "    end\n",
    "end"
   ]
  },
  {
   "cell_type": "code",
   "execution_count": 540,
   "metadata": {},
   "outputs": [
    {
     "name": "stderr",
     "output_type": "stream",
     "text": [
      "\u001b[1m\u001b[33mWARNING: \u001b[39m\u001b[22m\u001b[33mfailure to evaluate changes in IKMimic\u001b[39m\n",
      "mutable struct IKMimicWorkspace{T} # /home/rdeits/locomotion/explorations/learning-mpc-2/packages/v0.6/IKMimic/src/IKMimic.jl, line 119:\n",
      "    reference::BodyMap{T} # /home/rdeits/locomotion/explorations/learning-mpc-2/packages/v0.6/IKMimic/src/IKMimic.jl, line 120:\n",
      "    result::BodyMap{T} # /home/rdeits/locomotion/explorations/learning-mpc-2/packages/v0.6/IKMimic/src/IKMimic.jl, line 121:\n",
      "    H::Matrix{T} # /home/rdeits/locomotion/explorations/learning-mpc-2/packages/v0.6/IKMimic/src/IKMimic.jl, line 122:\n",
      "    H_fact::LinAlg.Cholesky{T, Matrix{T}} # /home/rdeits/locomotion/explorations/learning-mpc-2/packages/v0.6/IKMimic/src/IKMimic.jl, line 123:\n",
      "    p1::Vector{T} # /home/rdeits/locomotion/explorations/learning-mpc-2/packages/v0.6/IKMimic/src/IKMimic.jl, line 124:\n",
      "    f1::Vector{T} # /home/rdeits/locomotion/explorations/learning-mpc-2/packages/v0.6/IKMimic/src/IKMimic.jl, line 125:\n",
      "    f2::Vector{T} # /home/rdeits/locomotion/explorations/learning-mpc-2/packages/v0.6/IKMimic/src/IKMimic.jl, line 126:\n",
      "    x2::Vector{T} # /home/rdeits/locomotion/explorations/learning-mpc-2/packages/v0.6/IKMimic/src/IKMimic.jl, line 128:\n",
      "    function IKMimicWorkspace(reference::BodyMap{T}, result::BodyMap{T}) where T # /home/rdeits/locomotion/explorations/learning-mpc-2/packages/v0.6/IKMimic/src/IKMimic.jl, line 129:\n",
      "        H = eye(T, size(result.A, 2), size(result.A, 2)) # /home/rdeits/locomotion/explorations/learning-mpc-2/packages/v0.6/IKMimic/src/IKMimic.jl, line 130:\n",
      "        H_fact = cholfact!(H) # /home/rdeits/locomotion/explorations/learning-mpc-2/packages/v0.6/IKMimic/src/IKMimic.jl, line 131:\n",
      "        p1 = zeros(T, size(reference.A, 1)) # /home/rdeits/locomotion/explorations/learning-mpc-2/packages/v0.6/IKMimic/src/IKMimic.jl, line 132:\n",
      "        f1 = zeros(T, size(result.A, 2)) # /home/rdeits/locomotion/explorations/learning-mpc-2/packages/v0.6/IKMimic/src/IKMimic.jl, line 133:\n",
      "        f2 = zeros(T, size(result.A, 2)) # /home/rdeits/locomotion/explorations/learning-mpc-2/packages/v0.6/IKMimic/src/IKMimic.jl, line 134:\n",
      "        x2 = zeros(T, size(result.A, 2)) # /home/rdeits/locomotion/explorations/learning-mpc-2/packages/v0.6/IKMimic/src/IKMimic.jl, line 135:\n",
      "        new{T}(reference, result, H, H_fact, p1, f1, f2, x2)\n",
      "    end\n",
      "end\n",
      "WARNING: replacing module IKMimic\n"
     ]
    }
   ],
   "source": [
    "reload(\"IKMimic\")"
   ]
  },
  {
   "cell_type": "code",
   "execution_count": 565,
   "metadata": {},
   "outputs": [],
   "source": [
    "state1 = init_atlas!(MechanismState(atlas))\n",
    "state2 = MechanismState(boxatlas)\n",
    "matching_bodies =  [\"pelvis\", \"r_foot_sole\", \"l_foot_sole\", \"r_hand_mount\", \"l_hand_mount\"]\n",
    "\n",
    "m1 = IKMimic.BodyMap(state1, matching_bodies)\n",
    "m2 = IKMimic.BodyMap(state2, matching_bodies);\n",
    "work = IKMimic.IKMimicWorkspace(m1, m2);"
   ]
  },
  {
   "cell_type": "code",
   "execution_count": 555,
   "metadata": {},
   "outputs": [],
   "source": [
    "for i in 1:20\n",
    "    IKMimic.ik_mimic!(state2, state1, work)\n",
    "    set_configuration!(mvis2, configuration(state2))\n",
    "    sleep(0.05)\n",
    "end\n",
    "    "
   ]
  },
  {
   "cell_type": "code",
   "execution_count": 561,
   "metadata": {},
   "outputs": [
    {
     "data": {
      "text/plain": [
       "10×7 Array{Float64,2}:\n",
       " 0.0   0.042099      9.98344e-17   3.20779e-19  …   1.0           9.53947e-18\n",
       " 0.0   0.0014739    -4.65887e-18  -1.34245e-20      2.92748e-17   1.0        \n",
       " 0.0   2.0          -6.44603e-16  -1.83423e-18      5.91285e-17  -1.86067e-17\n",
       " 0.0  -4.19804e-15  -7.06371e-16  -2.41053e-18      2.71362e-16  -1.6015e-16 \n",
       " 0.0   3.94877e-15   7.13113e-16   2.43454e-18      4.03505e-19  -9.4167e-17 \n",
       " 0.0  -2.96878e-15  -5.95856e-16  -2.16413e-18  …   1.19343e-17  -1.88322e-17\n",
       " 0.0   2.70893e-15   5.95355e-16   2.16195e-18     -1.27512e-17   7.35113e-18\n",
       " 0.0   3.88925e-15   5.67748e-16   1.86519e-18     -3.48423e-16   2.03923e-16\n",
       " 0.0  -3.69852e-15  -5.82968e-16  -1.91854e-18     -4.08886e-18   1.26393e-16\n",
       " 0.0   2.7247e-16    6.03371e-17   2.25533e-19      2.83609e-17  -2.32749e-16"
      ]
     },
     "execution_count": 561,
     "metadata": {},
     "output_type": "execute_result"
    }
   ],
   "source": [
    "IKMimic.sensitivity(work)[1:10, 1:7]"
   ]
  },
  {
   "cell_type": "code",
   "execution_count": 530,
   "metadata": {},
   "outputs": [
    {
     "name": "stdout",
     "output_type": "stream",
     "text": [
      "  41.234 μs (6 allocations: 144 bytes)\n"
     ]
    }
   ],
   "source": [
    "using BenchmarkTools\n",
    "@btime IKMimic.ik_mimic!($state2, $state1, $work)"
   ]
  },
  {
   "cell_type": "code",
   "execution_count": 463,
   "metadata": {},
   "outputs": [
    {
     "name": "stdout",
     "output_type": "stream",
     "text": [
      "  25.599 μs (13 allocations: 10.34 KiB)\n"
     ]
    },
    {
     "data": {
      "text/plain": [
       "MechanismState{Float64, Float64, Float64, …}(…)"
      ]
     },
     "execution_count": 463,
     "metadata": {},
     "output_type": "execute_result"
    }
   ],
   "source": [
    "@btime IKMimic.mimic_update!($m2, $m1)"
   ]
  },
  {
   "cell_type": "code",
   "execution_count": 575,
   "metadata": {},
   "outputs": [
    {
     "name": "stderr",
     "output_type": "stream",
     "text": [
      "WARNING: Method definition mimic_update!(IKMimic.IKMimicWorkspace{T} where T) in module IKMimic at /home/rdeits/locomotion/explorations/learning-mpc-2/packages/v0.6/IKMimic/src/IKMimic.jl:156 overwritten at /home/rdeits/locomotion/explorations/learning-mpc-2/packages/v0.6/IKMimic/src/IKMimic.jl:156.\n"
     ]
    },
    {
     "data": {
      "text/plain": [
       "MeshCat Visualizer with path /meshcat/atlas4"
      ]
     },
     "execution_count": 575,
     "metadata": {},
     "output_type": "execute_result"
    }
   ],
   "source": [
    "vis3 = Visualizer()\n",
    "open(vis3, Window())\n",
    "\n",
    "mvis3 = MechanismVisualizer(boxatlas, Skeleton(randomize_colors=true), vis3[:atlas3])\n",
    "mvis4 = MechanismVisualizer(boxatlas, Skeleton(randomize_colors=true), vis3[:atlas4])\n",
    "settransform!(vis3[:atlas4], Translation(-1, 0, 0))"
   ]
  },
  {
   "cell_type": "code",
   "execution_count": 588,
   "metadata": {},
   "outputs": [],
   "source": [
    "state3 = MechanismState(boxatlas)\n",
    "state4 = MechanismState(boxatlas)\n",
    "rand!(state3)\n",
    "rand!(state4)\n",
    "work3 = IKMimic.IKMimicWorkspace(state3, state4, [\"pelvis\",\n",
    "        \"r_foot_sole\",\n",
    "        \"l_foot_sole\",\n",
    "        \"r_hand_mount\",\n",
    "        \"l_hand_mount\"])\n",
    "set_configuration!(mvis3, configuration(state3))\n",
    "set_configuration!(mvis4, configuration(state4))"
   ]
  },
  {
   "cell_type": "code",
   "execution_count": 589,
   "metadata": {},
   "outputs": [],
   "source": [
    "for i in 1:20\n",
    "    IKMimic.ik_mimic!(state4, state3, work3)\n",
    "    set_configuration!(mvis4, configuration(state4))\n",
    "    sleep(0.05)\n",
    "end\n",
    "    "
   ]
  },
  {
   "cell_type": "code",
   "execution_count": null,
   "metadata": {},
   "outputs": [],
   "source": []
  }
 ],
 "metadata": {
  "kernelspec": {
   "display_name": "Julia 0.6.3",
   "language": "julia",
   "name": "julia-0.6"
  },
  "language_info": {
   "file_extension": ".jl",
   "mimetype": "application/julia",
   "name": "julia",
   "version": "0.6.3"
  }
 },
 "nbformat": 4,
 "nbformat_minor": 2
}
