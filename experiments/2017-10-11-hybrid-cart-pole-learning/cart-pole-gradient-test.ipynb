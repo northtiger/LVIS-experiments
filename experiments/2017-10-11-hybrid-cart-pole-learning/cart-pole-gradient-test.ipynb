{
 "cells": [
  {
   "cell_type": "code",
   "execution_count": 12,
   "metadata": {},
   "outputs": [
    {
     "name": "stderr",
     "output_type": "stream",
     "text": [
      "WARNING: Method definition explicit_solution(JuMP.Model, AbstractArray{JuMP.Variable, N} where N) in module ExplicitQPs at /home/rdeits/locomotion/explorations/learning-mpc/packages/v0.6/ExplicitQPs/src/ExplicitQPs.jl:117 overwritten at /home/rdeits/locomotion/explorations/learning-mpc/packages/v0.6/ExplicitQPs/src/ExplicitQPs.jl:117.\n",
      "WARNING: Method definition explicit_solution(JuMP.Model, AbstractArray{JuMP.Variable, N} where N, Any) in module ExplicitQPs at /home/rdeits/locomotion/explorations/learning-mpc/packages/v0.6/ExplicitQPs/src/ExplicitQPs.jl:117 overwritten at /home/rdeits/locomotion/explorations/learning-mpc/packages/v0.6/ExplicitQPs/src/ExplicitQPs.jl:117.\n"
     ]
    }
   ],
   "source": [
    "using Revise"
   ]
  },
  {
   "cell_type": "code",
   "execution_count": 13,
   "metadata": {},
   "outputs": [],
   "source": [
    "using RigidBodyDynamics\n",
    "using LCPSim\n",
    "using Gurobi\n",
    "using JuMP\n",
    "using LearningMPC\n",
    "using ExplicitQPs\n",
    "using Plots; gr()\n",
    "using ProgressMeter"
   ]
  },
  {
   "cell_type": "code",
   "execution_count": 14,
   "metadata": {},
   "outputs": [
    {
     "data": {
      "text/plain": [
       "LCPSim.Environment{Float64}(Dict{RigidBodyDynamics.RigidBody{Float64},LCPSim.ContactEnvironment{Float64}}())"
      ]
     },
     "execution_count": 14,
     "metadata": {},
     "output_type": "execute_result"
    }
   ],
   "source": [
    "mechanism = parse_urdf(Float64, \"cartpole.urdf\")\n",
    "world = root_body(mechanism)\n",
    "env = Environment{Float64}(Dict())"
   ]
  },
  {
   "cell_type": "code",
   "execution_count": 15,
   "metadata": {},
   "outputs": [
    {
     "data": {
      "text/plain": [
       "([-10.0 -124.333 -15.5397 -61.6417; 0.0 0.0 0.0 0.0], [15.5397 61.6417 11.5741 31.1853; 61.6417 378.595 64.6041 189.485; 11.5741 64.6041 11.7022 32.752; 31.1853 189.485 32.752 95.7494])"
      ]
     },
     "execution_count": 15,
     "metadata": {},
     "output_type": "execute_result"
    }
   ],
   "source": [
    "x0 = MechanismState{Float64}(mechanism)\n",
    "set_velocity!(x0, zeros(num_velocities(x0)))\n",
    "set_configuration!(x0, findjoint(mechanism, \"slider_to_cart\"), [0])\n",
    "set_configuration!(x0, findjoint(mechanism, \"cart_to_pole\"), [0])\n",
    "q0 = copy(configuration(x0))\n",
    "v0 = copy(velocity(x0))\n",
    "u0 = zeros(num_velocities(x0))\n",
    "xstar = MechanismState(mechanism, q0, v0);\n",
    "\n",
    "contacts = Point3D[]\n",
    "Q = diagm([10, 10, 1, 1])\n",
    "R = 0.1 * eye(num_velocities(x0))\n",
    "K, S = LCPSim.ContactLQR.contact_lqr(x0, u0, Q, R, contacts)"
   ]
  },
  {
   "cell_type": "code",
   "execution_count": 16,
   "metadata": {},
   "outputs": [
    {
     "data": {
      "text/plain": [
       "run_optimization (generic function with 1 method)"
      ]
     },
     "execution_count": 16,
     "metadata": {},
     "output_type": "execute_result"
    }
   ],
   "source": [
    "function run_optimization(x0, env, Δt, N; x_nominal=x0, solver=GurobiSolver())\n",
    "    qstar = copy(configuration(x_nominal))\n",
    "    vstar = zeros(num_velocities(x_nominal))\n",
    "    ustar = u0\n",
    "    \n",
    "    model = Model(solver=solver)\n",
    "    @variable model q0[1:num_positions(x0)]\n",
    "    JuMP.fix.(q0, configuration(x0))\n",
    "    @variable model v0[1:num_velocities(x0)]\n",
    "    JuMP.fix.(v0, velocity(x0))\n",
    "    \n",
    "    _, results_opt = LCPSim.optimize(MechanismState(x0.mechanism, q0, v0), env, Δt, N, model)\n",
    "    \n",
    "    objective = (\n",
    "        sum(Δt * (r.state.state' * Q * r.state.state + 0.01 * r.input' * R * r.input) for r in results_opt)\n",
    "       + (results_opt[end].state.state' * S * results_opt[end].state.state)\n",
    "        )\n",
    "\n",
    "    for r in results_opt\n",
    "        for (joint, jrs) in r.joint_contacts\n",
    "            for joint_result in jrs\n",
    "                objective += joint_result.λ^2\n",
    "            end\n",
    "        end \n",
    "    end\n",
    "    \n",
    "    # Ensure objective is strictly PD\n",
    "    nvars = length(model.colCat)\n",
    "    vars = [Variable(model, i) for i in 1:nvars]\n",
    "    objective += QuadExpr(vars, vars, [1e-6 for v in vars], AffExpr([], [], 0.0))\n",
    "    \n",
    "    @objective model Min objective\n",
    "    solve(model)\n",
    "    results = getvalue.(results_opt)\n",
    "    \n",
    "    ConditionalJuMP.warmstart!(model, true)\n",
    "    solve(model)\n",
    "    @assert sum(model.colCat .== :Bin) == 0 \"Model should no longer have any binary variables\"\n",
    "    exsol = ExplicitQPs.explicit_solution(model, vcat(q0, v0))\n",
    "    J = ExplicitQPs.jacobian(exsol, results_opt[1].input)\n",
    "    \n",
    "    return results, J\n",
    "end"
   ]
  },
  {
   "cell_type": "code",
   "execution_count": 17,
   "metadata": {},
   "outputs": [
    {
     "name": "stderr",
     "output_type": "stream",
     "text": [
      "\u001b[32mProgress: 100%|█████████████████████████████████████████| Time: 0:00:06\u001b[39m\n"
     ]
    }
   ],
   "source": [
    "set_configuration!(x0, q0)\n",
    "set_velocity!(x0, v0)\n",
    "\n",
    "Δt = 0.01\n",
    "gap = 1e-3\n",
    "timelimit = 60\n",
    "horizon = 10\n",
    "\n",
    "θs = linspace(-0.05, 0.05, 15)\n",
    "inputs = Float64[]\n",
    "derivatives = Float64[]\n",
    "@showprogress for θ in θs\n",
    "    set_configuration!(x0, q0)\n",
    "    set_velocity!(x0, v0)\n",
    "    set_configuration!(x0, findjoint(mechanism, \"cart_to_pole\"), [θ])\n",
    "    r_control, J = run_optimization(x0, env, Δt, horizon; x_nominal=xstar, solver=GurobiSolver(OutputFlag=0, MIPGap=gap, TimeLimit=timelimit))\n",
    "    push!(inputs, r_control[1].input[1])\n",
    "    push!(derivatives, J[1, 2])\n",
    "end\n"
   ]
  },
  {
   "cell_type": "code",
   "execution_count": 18,
   "metadata": {},
   "outputs": [
    {
     "data": {
      "text/html": [
       "<?xml version=\"1.0\" encoding=\"utf-8\"?>\n",
       "<svg xmlns=\"http://www.w3.org/2000/svg\" xmlns:xlink=\"http://www.w3.org/1999/xlink\" width=\"600\" height=\"400\" viewBox=\"0 0 600 400\">\n",
       "<defs>\n",
       "  <clipPath id=\"clip00\">\n",
       "    <rect x=\"0\" y=\"0\" width=\"600\" height=\"400\"/>\n",
       "  </clipPath>\n",
       "</defs>\n",
       "<polygon clip-path=\"url(#clip00)\" points=\"\n",
       "0,400 600,400 600,0 0,0 \n",
       "  \" fill=\"#ffffff\" fill-opacity=\"1\"/>\n",
       "<defs>\n",
       "  <clipPath id=\"clip01\">\n",
       "    <rect x=\"120\" y=\"0\" width=\"421\" height=\"400\"/>\n",
       "  </clipPath>\n",
       "</defs>\n",
       "<polygon clip-path=\"url(#clip00)\" points=\"\n",
       "35.8488,375.813 580.315,375.813 580.315,11.811 35.8488,11.811 \n",
       "  \" fill=\"#ffffff\" fill-opacity=\"1\"/>\n",
       "<defs>\n",
       "  <clipPath id=\"clip02\">\n",
       "    <rect x=\"35\" y=\"11\" width=\"545\" height=\"365\"/>\n",
       "  </clipPath>\n",
       "</defs>\n",
       "<polyline clip-path=\"url(#clip02)\" style=\"stroke:#000000; stroke-width:0.5; stroke-opacity:0.1; fill:none\" points=\"\n",
       "  116.32,370.353 116.32,17.2711 \n",
       "  \"/>\n",
       "<polyline clip-path=\"url(#clip02)\" style=\"stroke:#000000; stroke-width:0.5; stroke-opacity:0.1; fill:none\" points=\"\n",
       "  212.201,370.353 212.201,17.2711 \n",
       "  \"/>\n",
       "<polyline clip-path=\"url(#clip02)\" style=\"stroke:#000000; stroke-width:0.5; stroke-opacity:0.1; fill:none\" points=\"\n",
       "  308.082,370.353 308.082,17.2711 \n",
       "  \"/>\n",
       "<polyline clip-path=\"url(#clip02)\" style=\"stroke:#000000; stroke-width:0.5; stroke-opacity:0.1; fill:none\" points=\"\n",
       "  403.963,370.353 403.963,17.2711 \n",
       "  \"/>\n",
       "<polyline clip-path=\"url(#clip02)\" style=\"stroke:#000000; stroke-width:0.5; stroke-opacity:0.1; fill:none\" points=\"\n",
       "  499.844,370.353 499.844,17.2711 \n",
       "  \"/>\n",
       "<polyline clip-path=\"url(#clip02)\" style=\"stroke:#000000; stroke-width:0.5; stroke-opacity:0.1; fill:none\" points=\"\n",
       "  44.0158,356.097 572.148,356.097 \n",
       "  \"/>\n",
       "<polyline clip-path=\"url(#clip02)\" style=\"stroke:#000000; stroke-width:0.5; stroke-opacity:0.1; fill:none\" points=\"\n",
       "  44.0158,274.955 572.148,274.955 \n",
       "  \"/>\n",
       "<polyline clip-path=\"url(#clip02)\" style=\"stroke:#000000; stroke-width:0.5; stroke-opacity:0.1; fill:none\" points=\"\n",
       "  44.0158,193.812 572.148,193.812 \n",
       "  \"/>\n",
       "<polyline clip-path=\"url(#clip02)\" style=\"stroke:#000000; stroke-width:0.5; stroke-opacity:0.1; fill:none\" points=\"\n",
       "  44.0158,112.67 572.148,112.67 \n",
       "  \"/>\n",
       "<polyline clip-path=\"url(#clip02)\" style=\"stroke:#000000; stroke-width:0.5; stroke-opacity:0.1; fill:none\" points=\"\n",
       "  44.0158,31.5278 572.148,31.5278 \n",
       "  \"/>\n",
       "<polyline clip-path=\"url(#clip00)\" style=\"stroke:#000000; stroke-width:1; stroke-opacity:1; fill:none\" points=\"\n",
       "  35.8488,375.813 580.315,375.813 \n",
       "  \"/>\n",
       "<polyline clip-path=\"url(#clip00)\" style=\"stroke:#000000; stroke-width:1; stroke-opacity:1; fill:none\" points=\"\n",
       "  116.32,375.813 116.32,370.353 \n",
       "  \"/>\n",
       "<polyline clip-path=\"url(#clip00)\" style=\"stroke:#000000; stroke-width:1; stroke-opacity:1; fill:none\" points=\"\n",
       "  212.201,375.813 212.201,370.353 \n",
       "  \"/>\n",
       "<polyline clip-path=\"url(#clip00)\" style=\"stroke:#000000; stroke-width:1; stroke-opacity:1; fill:none\" points=\"\n",
       "  308.082,375.813 308.082,370.353 \n",
       "  \"/>\n",
       "<polyline clip-path=\"url(#clip00)\" style=\"stroke:#000000; stroke-width:1; stroke-opacity:1; fill:none\" points=\"\n",
       "  403.963,375.813 403.963,370.353 \n",
       "  \"/>\n",
       "<polyline clip-path=\"url(#clip00)\" style=\"stroke:#000000; stroke-width:1; stroke-opacity:1; fill:none\" points=\"\n",
       "  499.844,375.813 499.844,370.353 \n",
       "  \"/>\n",
       "<polyline clip-path=\"url(#clip00)\" style=\"stroke:#000000; stroke-width:1; stroke-opacity:1; fill:none\" points=\"\n",
       "  35.8488,375.813 35.8488,11.811 \n",
       "  \"/>\n",
       "<polyline clip-path=\"url(#clip00)\" style=\"stroke:#000000; stroke-width:1; stroke-opacity:1; fill:none\" points=\"\n",
       "  35.8488,356.097 44.0158,356.097 \n",
       "  \"/>\n",
       "<polyline clip-path=\"url(#clip00)\" style=\"stroke:#000000; stroke-width:1; stroke-opacity:1; fill:none\" points=\"\n",
       "  35.8488,274.955 44.0158,274.955 \n",
       "  \"/>\n",
       "<polyline clip-path=\"url(#clip00)\" style=\"stroke:#000000; stroke-width:1; stroke-opacity:1; fill:none\" points=\"\n",
       "  35.8488,193.812 44.0158,193.812 \n",
       "  \"/>\n",
       "<polyline clip-path=\"url(#clip00)\" style=\"stroke:#000000; stroke-width:1; stroke-opacity:1; fill:none\" points=\"\n",
       "  35.8488,112.67 44.0158,112.67 \n",
       "  \"/>\n",
       "<polyline clip-path=\"url(#clip00)\" style=\"stroke:#000000; stroke-width:1; stroke-opacity:1; fill:none\" points=\"\n",
       "  35.8488,31.5278 44.0158,31.5278 \n",
       "  \"/>\n",
       "<g clip-path=\"url(#clip00)\">\n",
       "<text style=\"fill:#000000; fill-opacity:1; font-family:Arial,Helvetica Neue,Helvetica,sans-serif; font-size:12; text-anchor:middle;\" transform=\"rotate(0, 116.32, 389.613)\" x=\"116.32\" y=\"389.613\">-0.04</text>\n",
       "</g>\n",
       "<g clip-path=\"url(#clip00)\">\n",
       "<text style=\"fill:#000000; fill-opacity:1; font-family:Arial,Helvetica Neue,Helvetica,sans-serif; font-size:12; text-anchor:middle;\" transform=\"rotate(0, 212.201, 389.613)\" x=\"212.201\" y=\"389.613\">-0.02</text>\n",
       "</g>\n",
       "<g clip-path=\"url(#clip00)\">\n",
       "<text style=\"fill:#000000; fill-opacity:1; font-family:Arial,Helvetica Neue,Helvetica,sans-serif; font-size:12; text-anchor:middle;\" transform=\"rotate(0, 308.082, 389.613)\" x=\"308.082\" y=\"389.613\">0.00</text>\n",
       "</g>\n",
       "<g clip-path=\"url(#clip00)\">\n",
       "<text style=\"fill:#000000; fill-opacity:1; font-family:Arial,Helvetica Neue,Helvetica,sans-serif; font-size:12; text-anchor:middle;\" transform=\"rotate(0, 403.963, 389.613)\" x=\"403.963\" y=\"389.613\">0.02</text>\n",
       "</g>\n",
       "<g clip-path=\"url(#clip00)\">\n",
       "<text style=\"fill:#000000; fill-opacity:1; font-family:Arial,Helvetica Neue,Helvetica,sans-serif; font-size:12; text-anchor:middle;\" transform=\"rotate(0, 499.844, 389.613)\" x=\"499.844\" y=\"389.613\">0.04</text>\n",
       "</g>\n",
       "<g clip-path=\"url(#clip00)\">\n",
       "<text style=\"fill:#000000; fill-opacity:1; font-family:Arial,Helvetica Neue,Helvetica,sans-serif; font-size:12; text-anchor:end;\" transform=\"rotate(0, 29.8488, 360.597)\" x=\"29.8488\" y=\"360.597\">-20</text>\n",
       "</g>\n",
       "<g clip-path=\"url(#clip00)\">\n",
       "<text style=\"fill:#000000; fill-opacity:1; font-family:Arial,Helvetica Neue,Helvetica,sans-serif; font-size:12; text-anchor:end;\" transform=\"rotate(0, 29.8488, 279.455)\" x=\"29.8488\" y=\"279.455\">-10</text>\n",
       "</g>\n",
       "<g clip-path=\"url(#clip00)\">\n",
       "<text style=\"fill:#000000; fill-opacity:1; font-family:Arial,Helvetica Neue,Helvetica,sans-serif; font-size:12; text-anchor:end;\" transform=\"rotate(0, 29.8488, 198.312)\" x=\"29.8488\" y=\"198.312\">0</text>\n",
       "</g>\n",
       "<g clip-path=\"url(#clip00)\">\n",
       "<text style=\"fill:#000000; fill-opacity:1; font-family:Arial,Helvetica Neue,Helvetica,sans-serif; font-size:12; text-anchor:end;\" transform=\"rotate(0, 29.8488, 117.17)\" x=\"29.8488\" y=\"117.17\">10</text>\n",
       "</g>\n",
       "<g clip-path=\"url(#clip00)\">\n",
       "<text style=\"fill:#000000; fill-opacity:1; font-family:Arial,Helvetica Neue,Helvetica,sans-serif; font-size:12; text-anchor:end;\" transform=\"rotate(0, 29.8488, 36.0278)\" x=\"29.8488\" y=\"36.0278\">20</text>\n",
       "</g>\n",
       "<polyline clip-path=\"url(#clip02)\" style=\"stroke:#000000; stroke-width:1; stroke-opacity:0; fill:none\" points=\"\n",
       "  68.3798,356.097 102.623,356.097 136.866,356.097 171.109,356.097 205.352,340.984 239.596,291.881 273.839,242.833 308.082,193.812 342.325,144.792 376.568,95.7437 \n",
       "  410.811,46.6409 445.054,31.5278 479.298,31.5278 513.541,31.5278 547.784,31.5278 \n",
       "  \"/>\n",
       "<circle clip-path=\"url(#clip02)\" style=\"fill:#000000; stroke:none; fill-opacity:1\" cx=\"68.3798\" cy=\"356.097\" r=\"4\"/>\n",
       "<circle clip-path=\"url(#clip02)\" style=\"fill:#009af9; stroke:none; fill-opacity:1\" cx=\"68.3798\" cy=\"356.097\" r=\"3\"/>\n",
       "<circle clip-path=\"url(#clip02)\" style=\"fill:#000000; stroke:none; fill-opacity:1\" cx=\"102.623\" cy=\"356.097\" r=\"4\"/>\n",
       "<circle clip-path=\"url(#clip02)\" style=\"fill:#009af9; stroke:none; fill-opacity:1\" cx=\"102.623\" cy=\"356.097\" r=\"3\"/>\n",
       "<circle clip-path=\"url(#clip02)\" style=\"fill:#000000; stroke:none; fill-opacity:1\" cx=\"136.866\" cy=\"356.097\" r=\"4\"/>\n",
       "<circle clip-path=\"url(#clip02)\" style=\"fill:#009af9; stroke:none; fill-opacity:1\" cx=\"136.866\" cy=\"356.097\" r=\"3\"/>\n",
       "<circle clip-path=\"url(#clip02)\" style=\"fill:#000000; stroke:none; fill-opacity:1\" cx=\"171.109\" cy=\"356.097\" r=\"4\"/>\n",
       "<circle clip-path=\"url(#clip02)\" style=\"fill:#009af9; stroke:none; fill-opacity:1\" cx=\"171.109\" cy=\"356.097\" r=\"3\"/>\n",
       "<circle clip-path=\"url(#clip02)\" style=\"fill:#000000; stroke:none; fill-opacity:1\" cx=\"205.352\" cy=\"340.984\" r=\"4\"/>\n",
       "<circle clip-path=\"url(#clip02)\" style=\"fill:#009af9; stroke:none; fill-opacity:1\" cx=\"205.352\" cy=\"340.984\" r=\"3\"/>\n",
       "<circle clip-path=\"url(#clip02)\" style=\"fill:#000000; stroke:none; fill-opacity:1\" cx=\"239.596\" cy=\"291.881\" r=\"4\"/>\n",
       "<circle clip-path=\"url(#clip02)\" style=\"fill:#009af9; stroke:none; fill-opacity:1\" cx=\"239.596\" cy=\"291.881\" r=\"3\"/>\n",
       "<circle clip-path=\"url(#clip02)\" style=\"fill:#000000; stroke:none; fill-opacity:1\" cx=\"273.839\" cy=\"242.833\" r=\"4\"/>\n",
       "<circle clip-path=\"url(#clip02)\" style=\"fill:#009af9; stroke:none; fill-opacity:1\" cx=\"273.839\" cy=\"242.833\" r=\"3\"/>\n",
       "<circle clip-path=\"url(#clip02)\" style=\"fill:#000000; stroke:none; fill-opacity:1\" cx=\"308.082\" cy=\"193.812\" r=\"4\"/>\n",
       "<circle clip-path=\"url(#clip02)\" style=\"fill:#009af9; stroke:none; fill-opacity:1\" cx=\"308.082\" cy=\"193.812\" r=\"3\"/>\n",
       "<circle clip-path=\"url(#clip02)\" style=\"fill:#000000; stroke:none; fill-opacity:1\" cx=\"342.325\" cy=\"144.792\" r=\"4\"/>\n",
       "<circle clip-path=\"url(#clip02)\" style=\"fill:#009af9; stroke:none; fill-opacity:1\" cx=\"342.325\" cy=\"144.792\" r=\"3\"/>\n",
       "<circle clip-path=\"url(#clip02)\" style=\"fill:#000000; stroke:none; fill-opacity:1\" cx=\"376.568\" cy=\"95.7437\" r=\"4\"/>\n",
       "<circle clip-path=\"url(#clip02)\" style=\"fill:#009af9; stroke:none; fill-opacity:1\" cx=\"376.568\" cy=\"95.7437\" r=\"3\"/>\n",
       "<circle clip-path=\"url(#clip02)\" style=\"fill:#000000; stroke:none; fill-opacity:1\" cx=\"410.811\" cy=\"46.6409\" r=\"4\"/>\n",
       "<circle clip-path=\"url(#clip02)\" style=\"fill:#009af9; stroke:none; fill-opacity:1\" cx=\"410.811\" cy=\"46.6409\" r=\"3\"/>\n",
       "<circle clip-path=\"url(#clip02)\" style=\"fill:#000000; stroke:none; fill-opacity:1\" cx=\"445.054\" cy=\"31.5278\" r=\"4\"/>\n",
       "<circle clip-path=\"url(#clip02)\" style=\"fill:#009af9; stroke:none; fill-opacity:1\" cx=\"445.054\" cy=\"31.5278\" r=\"3\"/>\n",
       "<circle clip-path=\"url(#clip02)\" style=\"fill:#000000; stroke:none; fill-opacity:1\" cx=\"479.298\" cy=\"31.5278\" r=\"4\"/>\n",
       "<circle clip-path=\"url(#clip02)\" style=\"fill:#009af9; stroke:none; fill-opacity:1\" cx=\"479.298\" cy=\"31.5278\" r=\"3\"/>\n",
       "<circle clip-path=\"url(#clip02)\" style=\"fill:#000000; stroke:none; fill-opacity:1\" cx=\"513.541\" cy=\"31.5278\" r=\"4\"/>\n",
       "<circle clip-path=\"url(#clip02)\" style=\"fill:#009af9; stroke:none; fill-opacity:1\" cx=\"513.541\" cy=\"31.5278\" r=\"3\"/>\n",
       "<circle clip-path=\"url(#clip02)\" style=\"fill:#000000; stroke:none; fill-opacity:1\" cx=\"547.784\" cy=\"31.5278\" r=\"4\"/>\n",
       "<circle clip-path=\"url(#clip02)\" style=\"fill:#009af9; stroke:none; fill-opacity:1\" cx=\"547.784\" cy=\"31.5278\" r=\"3\"/>\n",
       "<polyline clip-path=\"url(#clip02)\" style=\"stroke:#e26f46; stroke-width:1; stroke-opacity:1; fill:none\" points=\"\n",
       "  51.2582,356.097 85.5013,356.097 \n",
       "  \"/>\n",
       "<polyline clip-path=\"url(#clip02)\" style=\"stroke:#3da44d; stroke-width:1; stroke-opacity:1; fill:none\" points=\"\n",
       "  85.5013,356.097 119.745,356.097 \n",
       "  \"/>\n",
       "<polyline clip-path=\"url(#clip02)\" style=\"stroke:#c271d2; stroke-width:1; stroke-opacity:1; fill:none\" points=\"\n",
       "  119.745,356.097 153.988,356.097 \n",
       "  \"/>\n",
       "<polyline clip-path=\"url(#clip02)\" style=\"stroke:#ac8d18; stroke-width:1; stroke-opacity:1; fill:none\" points=\"\n",
       "  153.988,356.097 188.231,356.097 \n",
       "  \"/>\n",
       "<polyline clip-path=\"url(#clip02)\" style=\"stroke:#00a9ad; stroke-width:1; stroke-opacity:1; fill:none\" points=\"\n",
       "  188.231,365.511 222.474,316.456 \n",
       "  \"/>\n",
       "<polyline clip-path=\"url(#clip02)\" style=\"stroke:#ed5d92; stroke-width:1; stroke-opacity:1; fill:none\" points=\"\n",
       "  222.474,316.398 256.717,267.364 \n",
       "  \"/>\n",
       "<polyline clip-path=\"url(#clip02)\" style=\"stroke:#c68125; stroke-width:1; stroke-opacity:1; fill:none\" points=\"\n",
       "  256.717,267.343 290.96,218.323 \n",
       "  \"/>\n",
       "<polyline clip-path=\"url(#clip02)\" style=\"stroke:#00a98d; stroke-width:1; stroke-opacity:1; fill:none\" points=\"\n",
       "  290.96,193.812 325.203,193.812 \n",
       "  \"/>\n",
       "<polyline clip-path=\"url(#clip02)\" style=\"stroke:#8e971d; stroke-width:1; stroke-opacity:1; fill:none\" points=\"\n",
       "  325.203,169.302 359.447,120.282 \n",
       "  \"/>\n",
       "<polyline clip-path=\"url(#clip02)\" style=\"stroke:#00a8cb; stroke-width:1; stroke-opacity:1; fill:none\" points=\"\n",
       "  359.447,120.261 393.69,71.2268 \n",
       "  \"/>\n",
       "<polyline clip-path=\"url(#clip02)\" style=\"stroke:#9b7fe8; stroke-width:1; stroke-opacity:1; fill:none\" points=\"\n",
       "  393.69,71.1688 427.933,22.113 \n",
       "  \"/>\n",
       "<polyline clip-path=\"url(#clip02)\" style=\"stroke:#608cf6; stroke-width:1; stroke-opacity:1; fill:none\" points=\"\n",
       "  427.933,31.5278 462.176,31.5278 \n",
       "  \"/>\n",
       "<polyline clip-path=\"url(#clip02)\" style=\"stroke:#f05f73; stroke-width:1; stroke-opacity:1; fill:none\" points=\"\n",
       "  462.176,31.5278 496.419,31.5278 \n",
       "  \"/>\n",
       "<polyline clip-path=\"url(#clip02)\" style=\"stroke:#dd64b5; stroke-width:1; stroke-opacity:1; fill:none\" points=\"\n",
       "  496.419,31.5278 530.662,31.5278 \n",
       "  \"/>\n",
       "<polyline clip-path=\"url(#clip02)\" style=\"stroke:#6b9e32; stroke-width:1; stroke-opacity:1; fill:none\" points=\"\n",
       "  530.662,31.5278 564.906,31.5278 \n",
       "  \"/>\n",
       "</svg>\n"
      ]
     },
     "execution_count": 18,
     "metadata": {},
     "output_type": "execute_result"
    }
   ],
   "source": [
    "plt = plot(θs, inputs, line=nothing, marker=:circle, legend=nothing)\n",
    "Δθ = (θs[2] - θs[1]) / 2\n",
    "for (i, d) in enumerate(derivatives)\n",
    "    θ = θs[i]\n",
    "    input = inputs[i]\n",
    "    plot!(plt, [θ - Δθ, θ + Δθ], [input - Δθ * d, input + Δθ * d])\n",
    "end\n",
    "plt"
   ]
  },
  {
   "cell_type": "code",
   "execution_count": null,
   "metadata": {
    "collapsed": true
   },
   "outputs": [],
   "source": []
  }
 ],
 "metadata": {
  "kernelspec": {
   "display_name": "Julia 0.6.0",
   "language": "julia",
   "name": "julia-0.6"
  },
  "language_info": {
   "file_extension": ".jl",
   "mimetype": "application/julia",
   "name": "julia",
   "version": "0.6.0"
  }
 },
 "nbformat": 4,
 "nbformat_minor": 2
}
