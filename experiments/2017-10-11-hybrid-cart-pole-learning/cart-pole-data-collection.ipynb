{
 "cells": [
  {
   "cell_type": "code",
   "execution_count": null,
   "metadata": {},
   "outputs": [],
   "source": [
    "using Revise"
   ]
  },
  {
   "cell_type": "code",
   "execution_count": null,
   "metadata": {},
   "outputs": [],
   "source": [
    "using RigidBodyDynamics\n",
    "using LearningMPC\n",
    "using Gurobi\n",
    "using DrakeVisualizer\n",
    "DrakeVisualizer.any_open_windows() || DrakeVisualizer.new_window()"
   ]
  },
  {
   "cell_type": "code",
   "execution_count": null,
   "metadata": {},
   "outputs": [],
   "source": [
    "include(\"cartpoles.jl\")"
   ]
  },
  {
   "cell_type": "code",
   "execution_count": null,
   "metadata": {},
   "outputs": [],
   "source": [
    "cartpole = CartPoles.CartPole()\n",
    "mechanism = cartpole.mechanism\n",
    "basevis = Visualizer()[:cartpole]\n",
    "delete!(basevis)\n",
    "setgeometry!(basevis, cartpole)"
   ]
  },
  {
   "cell_type": "code",
   "execution_count": null,
   "metadata": {},
   "outputs": [],
   "source": [
    "x0 = MechanismState{Float64}(mechanism)\n",
    "set_velocity!(x0, zeros(num_velocities(x0)))\n",
    "set_configuration!(x0, findjoint(mechanism, \"slider_to_cart\"), [0])\n",
    "set_configuration!(x0, findjoint(mechanism, \"cart_to_pole\"), [0.1])\n",
    "q0 = copy(configuration(x0))\n",
    "v0 = copy(velocity(x0))\n",
    "u0 = zeros(num_velocities(x0))\n",
    "xstar = MechanismState(mechanism, q0, v0)\n",
    "\n",
    "params = CartPoles.CartPoleMPCParams(Δt = 0.02)"
   ]
  },
  {
   "cell_type": "code",
   "execution_count": null,
   "metadata": {},
   "outputs": [],
   "source": [
    "controller = CartPoles.MPCController(cartpole, params, xstar);\n",
    "controller.callback = (x, results) -> begin\n",
    "    if !isnull(results.lcp_updates)\n",
    "        playback(basevis[:robot], get(results.lcp_updates), controller.params.Δt)\n",
    "    end\n",
    "end\n",
    "    "
   ]
  },
  {
   "cell_type": "code",
   "execution_count": null,
   "metadata": {},
   "outputs": [],
   "source": [
    "results_mpc = LCPSim.simulate(x0, controller, cartpole.environment, params.Δt, 20, GurobiSolver(OutputFlag=0));"
   ]
  },
  {
   "cell_type": "markdown",
   "metadata": {},
   "source": [
    "Data to collect:\n",
    "\n",
    "* current state\n",
    "* first input\n",
    "* input/state jacobian\n",
    "* solve time\n",
    "* optimality gap\n",
    "* solution status"
   ]
  },
  {
   "cell_type": "code",
   "execution_count": null,
   "metadata": {},
   "outputs": [],
   "source": [
    "fname = \"cart-pole-data-0.02.jld2\"\n",
    "records = jldopen(fname, \"a+\") do file\n",
    "    haskey(file, \"records\") ? file[\"records\"] : Tuple{Vector{Float64}, Vector{Float64}, Matrix{Float64}}[]\n",
    "end"
   ]
  },
  {
   "cell_type": "code",
   "execution_count": null,
   "metadata": {
    "collapsed": true
   },
   "outputs": [],
   "source": []
  }
 ],
 "metadata": {
  "kernelspec": {
   "display_name": "Julia 0.6.0",
   "language": "julia",
   "name": "julia-0.6"
  },
  "language_info": {
   "file_extension": ".jl",
   "mimetype": "application/julia",
   "name": "julia",
   "version": "0.6.0"
  }
 },
 "nbformat": 4,
 "nbformat_minor": 2
}
