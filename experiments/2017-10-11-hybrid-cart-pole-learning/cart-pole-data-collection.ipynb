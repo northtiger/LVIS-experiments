{
 "cells": [
  {
   "cell_type": "code",
   "execution_count": 1,
   "metadata": {
    "collapsed": true
   },
   "outputs": [],
   "source": [
    "using Revise"
   ]
  },
  {
   "cell_type": "code",
   "execution_count": 2,
   "metadata": {},
   "outputs": [
    {
     "data": {
      "text/html": [
       "<div id=\"interact-js-shim\">\n",
       "    <script charset=\"utf-8\">\n",
       "(function (IPython, $, _, MathJax) {\n",
       "    $.event.special.destroyed = {\n",
       "\tremove: function(o) {\n",
       "\t    if (o.handler) {\n",
       "\t\to.handler.apply(this, arguments)\n",
       "\t    }\n",
       "\t}\n",
       "    }\n",
       "\n",
       "    var OutputArea = IPython.version >= \"4.0.0\" ? require(\"notebook/js/outputarea\").OutputArea : IPython.OutputArea;\n",
       "\n",
       "    var redrawValue = function (container, type, val) {\n",
       "\tvar selector = $(\"<div/>\");\n",
       "\tvar oa = new OutputArea(_.extend(selector, {\n",
       "\t    selector: selector,\n",
       "\t    prompt_area: true,\n",
       "\t    events: IPython.events,\n",
       "\t    keyboard_manager: IPython.keyboard_manager\n",
       "\t})); // Hack to work with IPython 2.1.0\n",
       "\n",
       "\tswitch (type) {\n",
       "\tcase \"image/png\":\n",
       "            var _src = 'data:' + type + ';base64,' + val;\n",
       "\t    $(container).find(\"img\").attr('src', _src);\n",
       "\t    break;\n",
       "\tcase \"text/latex\":\n",
       "\t\tif (MathJax){\n",
       "\t\t\tvar math = MathJax.Hub.getAllJax(container)[0];\n",
       "\t\t\tMathJax.Hub.Queue([\"Text\", math, val.replace(/^\\${1,2}|\\${1,2}$/g, '')]);\n",
       "\t\t\tbreak;\n",
       "\t\t}\n",
       "\tdefault:\n",
       "\t    var toinsert = OutputArea.append_map[type].apply(\n",
       "\t\toa, [val, {}, selector]\n",
       "\t    );\n",
       "\t    $(container).empty().append(toinsert.contents());\n",
       "\t    selector.remove();\n",
       "\t}\n",
       "    }\n",
       "\n",
       "\n",
       "    $(document).ready(function() {\n",
       "\tfunction initComm(evt, data) {\n",
       "\t    var comm_manager = data.kernel.comm_manager;\n",
       "        //_.extend(comm_manager.targets, require(\"widgets/js/widget\"))\n",
       "\t    comm_manager.register_target(\"Signal\", function (comm) {\n",
       "            comm.on_msg(function (msg) {\n",
       "                var val = msg.content.data.value;\n",
       "                $(\".signal-\" + comm.comm_id).each(function() {\n",
       "                var type = $(this).data(\"type\");\n",
       "                if (typeof(val[type]) !== \"undefined\" && val[type] !== null) {\n",
       "                    redrawValue(this, type, val[type], type);\n",
       "                }\n",
       "                });\n",
       "                delete val;\n",
       "                delete msg.content.data.value;\n",
       "            });\n",
       "\t    });\n",
       "\n",
       "\t    // coordingate with Comm and redraw Signals\n",
       "\t    // XXX: Test using Reactive here to improve performance\n",
       "\t    $([IPython.events]).on(\n",
       "\t\t'output_appended.OutputArea', function (event, type, value, md, toinsert) {\n",
       "\t\t    if (md && md.reactive) {\n",
       "                // console.log(md.comm_id);\n",
       "                toinsert.addClass(\"signal-\" + md.comm_id);\n",
       "                toinsert.data(\"type\", type);\n",
       "                // Signal back indicating the mimetype required\n",
       "                var comm_manager = IPython.notebook.kernel.comm_manager;\n",
       "                var comm = comm_manager.comms[md.comm_id];\n",
       "                comm.then(function (c) {\n",
       "                    c.send({action: \"subscribe_mime\",\n",
       "                       mime: type});\n",
       "                    toinsert.bind(\"destroyed\", function() {\n",
       "                        c.send({action: \"unsubscribe_mime\",\n",
       "                               mime: type});\n",
       "                    });\n",
       "                })\n",
       "\t\t    }\n",
       "\t    });\n",
       "\t}\n",
       "\n",
       "\ttry {\n",
       "\t    // try to initialize right away. otherwise, wait on the status_started event.\n",
       "\t    initComm(undefined, IPython.notebook);\n",
       "\t} catch (e) {\n",
       "\t    $([IPython.events]).on('kernel_created.Kernel kernel_created.Session', initComm);\n",
       "\t}\n",
       "    });\n",
       "})(IPython, jQuery, _, MathJax);\n",
       "</script>\n",
       "    <script>\n",
       "        window.interactLoadedFlag = true\n",
       "       $(\"#interact-js-shim\").bind(\"destroyed\", function () {\n",
       "           if (window.interactLoadedFlag) {\n",
       "               console.warn(\"JavaScript required by Interact will be removed if you remove this cell or run using Interact more than once.\")\n",
       "           }\n",
       "       })\n",
       "       $([IPython.events]).on(\"kernel_starting.Kernel kernel_restarting.Kernel\", function () { window.interactLoadedFlag = false })\n",
       "   </script>\n",
       "</div>"
      ]
     },
     "metadata": {},
     "output_type": "display_data"
    },
    {
     "name": "stderr",
     "output_type": "stream",
     "text": [
      "WARNING: using Gurobi.model_name in module Main conflicts with an existing identifier.\n",
      "\u001b[1m\u001b[36mINFO: \u001b[39m\u001b[22m\u001b[36mRecompiling stale cache file /home/rdeits/locomotion/explorations/learning-mpc/packages/lib/v0.6/ExplicitQPs.ji for module ExplicitQPs.\n",
      "\u001b[39mWARNING: using ProgressMeter.update! in module Main conflicts with an existing identifier.\n",
      "WARNING: using ProgressMeter.Progress in module Main conflicts with an existing identifier.\n"
     ]
    }
   ],
   "source": [
    "using RigidBodyDynamics\n",
    "using RigidBodyTreeInspector\n",
    "using DrakeVisualizer\n",
    "DrakeVisualizer.any_open_windows() || DrakeVisualizer.new_window()\n",
    "using LCPSim\n",
    "using Polyhedra\n",
    "using CDDLib\n",
    "using StaticArrays: SVector\n",
    "using Gurobi\n",
    "using JuMP\n",
    "using LearningMPC\n",
    "using ExplicitQPs\n",
    "using Plots; gr()\n",
    "using ProgressMeter"
   ]
  },
  {
   "cell_type": "code",
   "execution_count": 5,
   "metadata": {},
   "outputs": [
    {
     "data": {
      "text/html": [],
      "text/plain": [
       "Interact.Options{:SelectionSlider,Float64}(11: \"input-5\" = 0.0 Float64 , \"slider_to_cart.1\", 0.0, \"0.0\", Interact.OptionDict(DataStructures.OrderedDict(\"-3.141592653589793\"=>-3.14159,\"-3.015928947446201\"=>-3.01593,\"-2.8902652413026098\"=>-2.89027,\"-2.764601535159018\"=>-2.7646,\"-2.6389378290154264\"=>-2.63894,\"-2.5132741228718345\"=>-2.51327,\"-2.3876104167282426\"=>-2.38761,\"-2.261946710584651\"=>-2.26195,\"-2.1362830044410592\"=>-2.13628,\"-2.0106192982974678\"=>-2.01062…), Dict(-3.01593=>\"-3.015928947446201\",2.89027=>\"2.8902652413026098\",1.75929=>\"1.7592918860102842\",2.63894=>\"2.6389378290154264\",0.251327=>\"0.25132741228718347\",-2.51327=>\"-2.5132741228718345\",1.25664=>\"1.2566370614359172\",-3.14159=>\"-3.141592653589793\",1.3823=>\"1.382300767579509\",2.7646=>\"2.764601535159018\"…)), Any[], Any[], true, \"horizontal\")"
      ]
     },
     "metadata": {},
     "output_type": "display_data"
    },
    {
     "data": {
      "text/html": [],
      "text/plain": [
       "Interact.Options{:SelectionSlider,Float64}(13: \"input-6\" = 0.0 Float64 , \"cart_to_pole.1\", 0.0, \"0.0\", Interact.OptionDict(DataStructures.OrderedDict(\"-3.141592653589793\"=>-3.14159,\"-3.015928947446201\"=>-3.01593,\"-2.8902652413026098\"=>-2.89027,\"-2.764601535159018\"=>-2.7646,\"-2.6389378290154264\"=>-2.63894,\"-2.5132741228718345\"=>-2.51327,\"-2.3876104167282426\"=>-2.38761,\"-2.261946710584651\"=>-2.26195,\"-2.1362830044410592\"=>-2.13628,\"-2.0106192982974678\"=>-2.01062…), Dict(-3.01593=>\"-3.015928947446201\",2.89027=>\"2.8902652413026098\",1.75929=>\"1.7592918860102842\",2.63894=>\"2.6389378290154264\",0.251327=>\"0.25132741228718347\",-2.51327=>\"-2.5132741228718345\",1.25664=>\"1.2566370614359172\",-3.14159=>\"-3.141592653589793\",1.3823=>\"1.382300767579509\",2.7646=>\"2.764601535159018\"…)), Any[], Any[], true, \"horizontal\")"
      ]
     },
     "metadata": {},
     "output_type": "display_data"
    }
   ],
   "source": [
    "mechanism = parse_urdf(Float64, \"cartpole.urdf\")\n",
    "world = root_body(mechanism)\n",
    "\n",
    "basevis = Visualizer()[:cartpole]\n",
    "delete!(basevis)\n",
    "vis = basevis[:robot]\n",
    "setgeometry!(vis, mechanism, parse_urdf(\"cartpole.urdf\", mechanism))\n",
    "\n",
    "wall_radius = 1.5\n",
    "μ = 0.5\n",
    "walls = [planar_obstacle(default_frame(world), [1., 0, 0.], [-wall_radius, 0, 0.], μ), \n",
    "    planar_obstacle(default_frame(world), [-1., 0, 0.], [wall_radius, 0, 0.], μ)]\n",
    "bounds = SimpleHRepresentation(vcat(eye(3), -eye(3)), vcat([wall_radius + 0.1, 0.5, 2.0], -[-wall_radius - 0.1, -0.5, -0.1]))\n",
    "\n",
    "for wall in walls\n",
    "    addgeometry!(basevis[:environment], CDDPolyhedron{3, Float64}(intersect(wall.interior, bounds)))\n",
    "end\n",
    "\n",
    "pole = findbody(mechanism, \"pole\")\n",
    "env = Environment(\n",
    "    Dict(pole => ContactEnvironment(\n",
    "            [Point3D(default_frame(pole), SVector(0., 0, 1))],\n",
    "            walls)))\n",
    "# env = Environment{Float64}(Dict())\n",
    "\n",
    "inspect(mechanism, vis)"
   ]
  },
  {
   "cell_type": "code",
   "execution_count": 6,
   "metadata": {
    "collapsed": true
   },
   "outputs": [],
   "source": [
    "x0 = MechanismState{Float64}(mechanism)\n",
    "set_velocity!(x0, zeros(num_velocities(x0)))\n",
    "set_configuration!(x0, findjoint(mechanism, \"slider_to_cart\"), [0])\n",
    "set_configuration!(x0, findjoint(mechanism, \"cart_to_pole\"), [0])\n",
    "q0 = copy(configuration(x0))\n",
    "v0 = copy(velocity(x0))\n",
    "u0 = zeros(num_velocities(x0))\n",
    "xstar = MechanismState(mechanism, q0, v0)\n",
    "\n",
    "contacts = Point3D[]\n",
    "Q = diagm([10, 10, 1, 1])\n",
    "R = 0.1 * eye(num_velocities(x0))\n",
    "K, S = LCPSim.ContactLQR.contact_lqr(x0, u0, Q, R, contacts)\n",
    "\n",
    "controller = x -> begin\n",
    "    -K * (state_vector(x) - state_vector(xstar)) .+ u0\n",
    "#     u0\n",
    "end\n",
    "Δt = 0.01\n",
    "\n",
    "# set_velocity!(x0, findjoint(mechanism, \"slider_to_cart\"), [-2])\n",
    "set_configuration!(x0, findjoint(mechanism, \"cart_to_pole\"), [π/4])\n",
    "\n",
    "results = LCPSim.simulate(x0, controller, env, Δt, 200, GurobiSolver(OutputFlag=0));"
   ]
  },
  {
   "cell_type": "code",
   "execution_count": 7,
   "metadata": {
    "collapsed": true
   },
   "outputs": [],
   "source": [
    "playback(vis, results, Δt)"
   ]
  },
  {
   "cell_type": "code",
   "execution_count": 18,
   "metadata": {},
   "outputs": [
    {
     "data": {
      "text/plain": [
       "run_optimization (generic function with 1 method)"
      ]
     },
     "execution_count": 18,
     "metadata": {},
     "output_type": "execute_result"
    }
   ],
   "source": [
    "function run_optimization(x0, env, Δt, N; x_nominal=x0, solver=GurobiSolver())\n",
    "    qstar = copy(configuration(x_nominal))\n",
    "    vstar = zeros(num_velocities(x_nominal))\n",
    "    ustar = u0\n",
    "    \n",
    "    model = Model(solver=solver)\n",
    "    @variable model q0[1:num_positions(x0)]\n",
    "    JuMP.fix.(q0, configuration(x0))\n",
    "    @variable model v0[1:num_velocities(x0)]\n",
    "    JuMP.fix.(v0, velocity(x0))\n",
    "    \n",
    "    _, results_opt = LCPSim.optimize(MechanismState(x0.mechanism, q0, v0), env, Δt, N, model)\n",
    "    \n",
    "    objective = (\n",
    "        sum(Δt * (r.state.state' * Q * r.state.state + 0.01 * r.input' * R * r.input) for r in results_opt)\n",
    "       + (results_opt[end].state.state' * S * results_opt[end].state.state)\n",
    "        )\n",
    "\n",
    "    for r in results_opt\n",
    "        for (joint, jrs) in r.joint_contacts\n",
    "            for joint_result in jrs\n",
    "                objective += joint_result.λ^2\n",
    "            end\n",
    "        end \n",
    "    end\n",
    "    \n",
    "    @objective model Min objective\n",
    "\n",
    "    controller = x -> begin\n",
    "        -K * (state_vector(x) - vcat(qstar, vstar)) .+ ustar\n",
    "    end\n",
    "    \n",
    "    Δt_sim = 0.01\n",
    "    time_ratio = convert(Int, Δt / Δt_sim)\n",
    "    results_lqr = LCPSim.simulate(x0, controller, env, Δt_sim, time_ratio * N, GurobiSolver(OutputFlag=0))\n",
    "    if length(results_lqr[1:time_ratio:end]) == length(results_opt)\n",
    "        setvalue.(results_opt, results_lqr[1:time_ratio:end])\n",
    "        ConditionalJuMP.warmstart!(model, false)\n",
    "    end\n",
    "    solve(model)\n",
    "    \n",
    "    results = getvalue.(results_opt)\n",
    "    \n",
    "    # Now fix the binary variables and re-solve to get updated duals\n",
    "    ConditionalJuMP.warmstart!(model, true)\n",
    "    @assert sum(model.colCat .== :Bin) == 0 \"Model should no longer have any binary variables\"\n",
    "    \n",
    "    \n",
    "    # Ensure objective is strictly PD\n",
    "    nvars = length(model.colCat)\n",
    "    vars = [Variable(model, i) for i in 1:nvars]\n",
    "    @objective model Min objective + QuadExpr(vars, vars, [1e-6 for v in vars], AffExpr([], [], 0.0))\n",
    "    solve(model)\n",
    "    @time exsol = ExplicitQPs.explicit_solution(model, vcat(q0, v0))\n",
    "    J = ExplicitQPs.jacobian(exsol, results_opt[1].input)\n",
    "    \n",
    "    return results, J\n",
    "end"
   ]
  },
  {
   "cell_type": "code",
   "execution_count": null,
   "metadata": {
    "scrolled": true
   },
   "outputs": [
    {
     "name": "stdout",
     "output_type": "stream",
     "text": [
      "  4.363216 seconds (48.11 k allocations: 58.454 MiB, 0.38% gc time)\n",
      "u = [20.0, -0.0]\n",
      "  4.421810 seconds (48.70 k allocations: 61.474 MiB, 0.44% gc time)\n",
      "u = [20.0, -0.0]\n",
      "  3.571783 seconds (48.48 k allocations: 60.405 MiB, 0.56% gc time)\n",
      "u = [20.0, -0.0]\n",
      "  3.971821 seconds (47.65 k allocations: 56.208 MiB, 0.42% gc time)\n",
      "u = [20.0, -0.0]\n",
      "  4.055573 seconds (48.18 k allocations: 58.662 MiB, 0.42% gc time)\n",
      "u = [20.0, -0.0]\n",
      "  4.449723 seconds (48.64 k allocations: 60.840 MiB, 0.83% gc time)\n",
      "u = [20.0, -0.0]\n",
      "  4.418557 seconds (48.43 k allocations: 59.781 MiB, 2.77% gc time)\n",
      "u = [20.0, -0.0]\n",
      "  4.296134 seconds (48.44 k allocations: 59.645 MiB, 0.55% gc time)\n",
      "u = [20.0, -0.0]\n",
      "  3.985802 seconds (48.37 k allocations: 59.227 MiB, 0.69% gc time)\n",
      "u = [20.0, -0.0]\n",
      "  4.068390 seconds (48.91 k allocations: 61.781 MiB, 0.49% gc time)\n",
      "u = [20.0, -0.0]\n",
      "  4.299180 seconds (48.47 k allocations: 59.445 MiB, 0.48% gc time)\n",
      "u = [20.0, -0.0]\n",
      "  4.665217 seconds (48.63 k allocations: 60.080 MiB, 0.49% gc time)\n",
      "u = [20.0, -0.0]\n",
      "  5.119257 seconds (48.53 k allocations: 59.655 MiB, 0.41% gc time)\n",
      "u = [20.0, -0.0]\n",
      "  5.254514 seconds (48.99 k allocations: 61.859 MiB, 0.64% gc time)\n",
      "u = [20.0, -0.0]\n",
      "  5.370649 seconds (49.09 k allocations: 62.295 MiB, 0.57% gc time)\n",
      "u = [16.263, -0.0]\n",
      "  4.780682 seconds (49.09 k allocations: 62.222 MiB, 0.82% gc time)\n",
      "u = [12.8833, -0.0]\n",
      "  4.636863 seconds (49.24 k allocations: 62.880 MiB, 0.46% gc time)\n",
      "u = [-4.09346, -0.0]\n",
      "  4.440174 seconds (49.31 k allocations: 63.174 MiB, 0.48% gc time)\n",
      "u = [-1.15508, -0.0]\n",
      "  4.094209 seconds (49.18 k allocations: 62.518 MiB, 0.77% gc time)\n",
      "u = [0.880969, -0.0]\n"
     ]
    },
    {
     "name": "stderr",
     "output_type": "stream",
     "text": [
      "\u001b[1m\u001b[33mWARNING: \u001b[39m\u001b[22m\u001b[33mNot solved to optimality, status: UserLimit\u001b[39m\n"
     ]
    },
    {
     "name": "stdout",
     "output_type": "stream",
     "text": [
      "  6.672237 seconds (49.64 k allocations: 64.653 MiB, 0.34% gc time)\n",
      "u = [-19.7465, -0.0]\n",
      "  4.677060 seconds (49.38 k allocations: 63.325 MiB, 0.27% gc time)\n",
      "u = [-11.8574, -0.0]\n",
      "  4.489020 seconds (49.35 k allocations: 63.179 MiB, 0.75% gc time)\n",
      "u = [-5.63419, -0.0]\n",
      "  5.407794 seconds (49.62 k allocations: 64.434 MiB, 10.21% gc time)\n",
      "u = [-0.347443, -0.0]\n",
      "  5.741706 seconds (49.34 k allocations: 63.035 MiB, 0.36% gc time)\n",
      "u = [4.62173, -0.0]\n",
      "  4.621900 seconds (49.29 k allocations: 62.744 MiB, 0.64% gc time)\n",
      "u = [9.85308, -0.0]\n",
      "  4.552996 seconds (49.40 k allocations: 63.255 MiB, 0.55% gc time)\n",
      "u = [16.0021, -0.0]\n",
      "  5.464203 seconds (49.34 k allocations: 62.750 MiB, 0.40% gc time)\n",
      "u = [20.0, -0.0]\n",
      "  4.411358 seconds (49.54 k allocations: 63.702 MiB, 0.49% gc time)\n",
      "u = [20.0, -0.0]\n",
      "  4.315234 seconds (49.31 k allocations: 62.533 MiB, 0.48% gc time)\n",
      "u = [20.0, -0.0]\n",
      "  4.354716 seconds (49.32 k allocations: 62.533 MiB, 0.47% gc time)\n",
      "u = [20.0, -0.0]\n",
      "  4.399433 seconds (49.29 k allocations: 62.317 MiB, 0.51% gc time)\n",
      "u = [20.0, -0.0]\n",
      "  4.319182 seconds (49.27 k allocations: 62.172 MiB, 0.52% gc time)\n",
      "u = [20.0, -0.0]\n",
      "  4.696220 seconds (49.16 k allocations: 61.596 MiB, 0.71% gc time)\n",
      "u = [20.0, -0.0]\n",
      "  4.602962 seconds (49.18 k allocations: 61.669 MiB, 0.46% gc time)\n",
      "u = [20.0, -0.0]\n",
      "  4.482336 seconds (49.23 k allocations: 61.884 MiB, 0.49% gc time)\n",
      "u = [20.0, -0.0]\n",
      "  4.851630 seconds (49.24 k allocations: 61.817 MiB, 0.47% gc time)\n",
      "u = [20.0, -0.0]\n"
     ]
    }
   ],
   "source": [
    "set_configuration!(x0, q0)\n",
    "set_velocity!(x0, v0)\n",
    "# set_configuration!(x0, findjoint(mechanism, \"slider_to_cart\"), [-1.5])\n",
    "# set_velocity!(x0, findjoint(mechanism, \"slider_to_cart\"), [-2])\n",
    "set_configuration!(x0, findjoint(mechanism, \"cart_to_pole\"), [π/4])\n",
    "Δt = 0.01\n",
    "gap = 1e-3\n",
    "timelimit = 60\n",
    "horizon = 30\n",
    "\n",
    "r_control = []\n",
    "x_control = MechanismState(mechanism, copy(q0), copy(v0))\n",
    "controller = x -> begin\n",
    "    set_velocity!(x_control, velocity(x))\n",
    "    set_configuration!(x_control, configuration(x))\n",
    "    settransform!(vis, x_control)\n",
    "    r_control, J = run_optimization(x_control, env, Δt, horizon; x_nominal=xstar, solver=GurobiSolver(OutputFlag=0, MIPGap=gap, TimeLimit=timelimit))\n",
    "    u = r_control[1].input\n",
    "#     for r in r_control\n",
    "#         set_configuration!(x0, configuration(r.state))\n",
    "#         settransform!(vis, x0)\n",
    "#     end\n",
    "    u\n",
    "    \n",
    "    @show u\n",
    "end\n",
    "\n",
    "results_mpc = LCPSim.simulate(x0, controller, env, Δt, 200, GurobiSolver(OutputFlag=0));"
   ]
  },
  {
   "cell_type": "code",
   "execution_count": 16,
   "metadata": {},
   "outputs": [
    {
     "ename": "LoadError",
     "evalue": "\u001b[91mUndefVarError: results_mpc not defined\u001b[39m",
     "output_type": "error",
     "traceback": [
      "\u001b[91mUndefVarError: results_mpc not defined\u001b[39m",
      "",
      "Stacktrace:",
      " [1] \u001b[1minclude_string\u001b[22m\u001b[22m\u001b[1m(\u001b[22m\u001b[22m::String, ::String\u001b[1m)\u001b[22m\u001b[22m at \u001b[1m./loading.jl:515\u001b[22m\u001b[22m"
     ]
    }
   ],
   "source": [
    "playback(vis, results_mpc, Δt)"
   ]
  },
  {
   "cell_type": "code",
   "execution_count": null,
   "metadata": {
    "collapsed": true
   },
   "outputs": [],
   "source": [
    "set_configuration!(x0, configuration(results_mpc[end].state))\n",
    "set_velocity!(x0, velocity(results_mpc[end].state))\n",
    "\n",
    "r_control = []\n",
    "x_control = MechanismState(mechanism, copy(q0), copy(v0))\n",
    "controller = x -> begin\n",
    "    set_velocity!(x_control, velocity(x))\n",
    "    set_configuration!(x_control, configuration(x))\n",
    "    r_control = run_optimization(x_control, env, Δt, horizon; x_nominal=xstar, solver=GurobiSolver(OutputFlag=0, MIPGap=gap, TimeLimit=timelimit))\n",
    "    u = r_control[1].input\n",
    "    @show u\n",
    "end\n",
    "\n",
    "append!(results_mpc, LCPSim.simulate(x0, controller, env, Δt, 100, GurobiSolver(OutputFlag=0)));"
   ]
  },
  {
   "cell_type": "code",
   "execution_count": null,
   "metadata": {
    "collapsed": true
   },
   "outputs": [],
   "source": []
  }
 ],
 "metadata": {
  "kernelspec": {
   "display_name": "Julia 0.6.0",
   "language": "julia",
   "name": "julia-0.6"
  },
  "language_info": {
   "file_extension": ".jl",
   "mimetype": "application/julia",
   "name": "julia",
   "version": "0.6.0"
  }
 },
 "nbformat": 4,
 "nbformat_minor": 2
}
