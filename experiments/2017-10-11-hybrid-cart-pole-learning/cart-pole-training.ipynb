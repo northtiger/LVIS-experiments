{
 "cells": [
  {
   "cell_type": "code",
   "execution_count": null,
   "metadata": {
    "collapsed": true
   },
   "outputs": [],
   "source": [
    "using Revise"
   ]
  },
  {
   "cell_type": "code",
   "execution_count": null,
   "metadata": {},
   "outputs": [],
   "source": [
    "using RigidBodyDynamics\n",
    "using RigidBodyTreeInspector\n",
    "using DrakeVisualizer\n",
    "DrakeVisualizer.any_open_windows() || DrakeVisualizer.new_window()\n",
    "using LCPSim\n",
    "using Polyhedra\n",
    "using CDDLib\n",
    "using StaticArrays: SVector\n",
    "using Gurobi\n",
    "using JuMP\n",
    "using LearningMPC\n",
    "using ExplicitQPs\n",
    "using Plots; plotly()\n",
    "using ProgressMeter\n",
    "using JLD2\n",
    "using MLDataPattern"
   ]
  },
  {
   "cell_type": "code",
   "execution_count": null,
   "metadata": {},
   "outputs": [],
   "source": [
    "import Nets\n",
    "reload(\"Nets\")"
   ]
  },
  {
   "cell_type": "code",
   "execution_count": null,
   "metadata": {},
   "outputs": [],
   "source": [
    "mechanism = parse_urdf(Float64, \"cartpole.urdf\")\n",
    "world = root_body(mechanism)\n",
    "\n",
    "basevis = Visualizer()[:cartpole_net]\n",
    "delete!(basevis)\n",
    "vis = basevis[:robot]\n",
    "setgeometry!(vis, mechanism, parse_urdf(\"cartpole.urdf\", mechanism))\n",
    "\n",
    "wall_radius = 1.5\n",
    "μ = 0.5\n",
    "walls = [planar_obstacle(default_frame(world), [1., 0, 0.], [-wall_radius, 0, 0.], μ), \n",
    "    planar_obstacle(default_frame(world), [-1., 0, 0.], [wall_radius, 0, 0.], μ)]\n",
    "bounds = SimpleHRepresentation(vcat(eye(3), -eye(3)), vcat([wall_radius + 0.1, 0.5, 2.0], -[-wall_radius - 0.1, -0.5, -0.1]))\n",
    "\n",
    "for wall in walls\n",
    "    addgeometry!(basevis[:environment], CDDPolyhedron{3, Float64}(intersect(wall.interior, bounds)))\n",
    "end\n",
    "\n",
    "pole = findbody(mechanism, \"pole\")\n",
    "env = Environment(\n",
    "    Dict(pole => ContactEnvironment(\n",
    "            [Point3D(default_frame(pole), SVector(0., 0, 1))],\n",
    "            walls)))"
   ]
  },
  {
   "cell_type": "code",
   "execution_count": null,
   "metadata": {},
   "outputs": [],
   "source": [
    "records = jldopen(\"cart-pole-data-0.02.jld2\", \"r\") do file\n",
    "    file[\"records\"]\n",
    "    end;\n",
    "\n",
    "states = [r[1] for r in records]\n",
    "outputs = [hcat(r[2], r[3])[1:1,:] for r in records]\n",
    "data = collect(zip(states, outputs));"
   ]
  },
  {
   "cell_type": "code",
   "execution_count": null,
   "metadata": {},
   "outputs": [],
   "source": [
    "plot([s[1] for s in states], [s[2] for s in states], [o[1] for o in outputs], line=nothing, marker=:circle, xlim=(-4, 4), ylim=(-4, 4))"
   ]
  },
  {
   "cell_type": "code",
   "execution_count": null,
   "metadata": {},
   "outputs": [],
   "source": [
    "plot([s[3] for s in states], [s[4] for s in states], [o[1] for o in outputs], line=nothing, marker=:circle, xlim=(-4, 4), ylim=(-4, 4))"
   ]
  },
  {
   "cell_type": "code",
   "execution_count": null,
   "metadata": {},
   "outputs": [],
   "source": [
    "plot([s[1] for s in states], [s[3] for s in states], [o[1] for o in outputs], line=nothing, marker=:circle, xlim=(-4, 4), ylim=(-4, 4))"
   ]
  },
  {
   "cell_type": "code",
   "execution_count": null,
   "metadata": {},
   "outputs": [],
   "source": [
    "train_data, test_data = splitobs(shuffleobs(data), 0.8)\n",
    "train_data = train_data[1:(floor(Int, length(train_data) / 10) * 10)]\n",
    "\n",
    "train_data_scaled, x_to_u, v_to_y = Nets.rescale(train_data)\n",
    "u_to_x = inv(x_to_u)\n",
    "y_to_v = inv(v_to_y)"
   ]
  },
  {
   "cell_type": "code",
   "execution_count": null,
   "metadata": {},
   "outputs": [],
   "source": [
    "widths = [4, 64, 32, 32, 32, 32, 1]\n",
    "activation = Nets.leaky_relu\n",
    "function sensitive_loss(λ)\n",
    "    q = [1.0-λ λ λ λ λ]\n",
    "    (params, x, y) -> sum(abs2, q .* (Nets.predict_sensitivity(Nets.Net(Nets.Params(widths, params), activation), x) .- y))\n",
    "end\n",
    "start_params = 0.1 * randn(Nets.Params{Float64}, widths).data\n",
    "nepoch = 300;"
   ]
  },
  {
   "cell_type": "code",
   "execution_count": null,
   "metadata": {},
   "outputs": [],
   "source": [
    "params = copy(start_params)\n",
    "net = Nets.Net(Nets.Params(widths, params), activation, x_to_u, v_to_y)\n",
    "train_loss = sensitive_loss(0.1)\n",
    "validate_loss = train_loss\n",
    "losses = [mean(xy -> validate_loss(params, xy[1], xy[2]), train_data_scaled)]\n",
    "\n",
    "@show mean(xy -> sum(abs2, net(xy[1]) .- xy[2][:,1]), test_data)\n",
    "\n",
    "@showprogress for i in 1:nepoch\n",
    "    Nets.adam!(train_loss, params, train_data_scaled, Nets.AdamOpts(learning_rate=0.01 * 0.99^i, batch_size=20))\n",
    "    push!(losses, mean(xy -> validate_loss(params, xy[1], xy[2]), train_data_scaled))\n",
    "end\n",
    "\n",
    "@show mean(xy -> sum(abs2, net(xy[1]) .- xy[2][:,1]), test_data)\n",
    "\n",
    "plot(losses, ylim=(0, losses[1]))"
   ]
  },
  {
   "cell_type": "code",
   "execution_count": null,
   "metadata": {},
   "outputs": [],
   "source": [
    "mean(xy -> sum(abs2, net(xy[1]) .- xy[2][:, 1]), test_data)"
   ]
  },
  {
   "cell_type": "code",
   "execution_count": null,
   "metadata": {},
   "outputs": [],
   "source": [
    "mean(xy -> sum(abs2, net(xy[1]) .- xy[2][:, 1]), train_data)"
   ]
  },
  {
   "cell_type": "code",
   "execution_count": null,
   "metadata": {},
   "outputs": [],
   "source": [
    "controller = x -> begin\n",
    "    sv = state_vector(x)\n",
    "    Nets.predict(net, sv)\n",
    "end"
   ]
  },
  {
   "cell_type": "code",
   "execution_count": null,
   "metadata": {},
   "outputs": [],
   "source": [
    "Nets.predict(net, [0., 0, 0, 0])"
   ]
  },
  {
   "cell_type": "code",
   "execution_count": null,
   "metadata": {},
   "outputs": [],
   "source": [
    "x0 = MechanismState{Float64}(mechanism)\n",
    "set_velocity!(x0, zeros(num_velocities(x0)))\n",
    "set_configuration!(x0, findjoint(mechanism, \"slider_to_cart\"), [0])\n",
    "set_configuration!(x0, findjoint(mechanism, \"cart_to_pole\"), [0])\n",
    "q0 = copy(configuration(x0))\n",
    "v0 = copy(velocity(x0))\n",
    "u0 = zeros(num_velocities(x0))\n",
    "xstar = MechanismState(mechanism, q0, v0)\n",
    "\n",
    "contacts = Point3D[]\n",
    "Q = diagm([10, 10, 1, 1])\n",
    "R = 0.1 * eye(num_velocities(x0))\n",
    "K, S = LCPSim.ContactLQR.contact_lqr(x0, u0, Q, R, contacts)\n",
    "\n",
    "lqr_controller = x -> begin\n",
    "    -K * (state_vector(x) - state_vector(xstar)) .+ u0\n",
    "end\n",
    "Δt = 0.01"
   ]
  },
  {
   "cell_type": "code",
   "execution_count": null,
   "metadata": {},
   "outputs": [],
   "source": [
    "set_configuration!(x0, q0)\n",
    "set_velocity!(x0, v0)\n",
    "# set_configuration!(x0, findjoint(mechanism, \"slider_to_cart\"), [-1.5])\n",
    "# set_velocity!(x0, findjoint(mechanism, \"slider_to_cart\"), [-2])\n",
    "\n",
    "set_configuration!(x0, findjoint(mechanism, \"cart_to_pole\"), [(rand() - 0.5) * π / 16])\n",
    "\n",
    "results = LCPSim.simulate(x0, controller, env, Δt, 400, GurobiSolver(OutputFlag=0));"
   ]
  },
  {
   "cell_type": "code",
   "execution_count": null,
   "metadata": {
    "collapsed": true
   },
   "outputs": [],
   "source": [
    "playback(vis, results)"
   ]
  },
  {
   "cell_type": "code",
   "execution_count": null,
   "metadata": {
    "collapsed": true
   },
   "outputs": [],
   "source": []
  }
 ],
 "metadata": {
  "kernelspec": {
   "display_name": "Julia 0.6.0",
   "language": "julia",
   "name": "julia-0.6"
  },
  "language_info": {
   "file_extension": ".jl",
   "mimetype": "application/julia",
   "name": "julia",
   "version": "0.6.0"
  }
 },
 "nbformat": 4,
 "nbformat_minor": 2
}
