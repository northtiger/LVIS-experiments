{
 "cells": [
  {
   "cell_type": "code",
   "execution_count": 1,
   "metadata": {
    "collapsed": true
   },
   "outputs": [],
   "source": [
    "using Revise"
   ]
  },
  {
   "cell_type": "code",
   "execution_count": 2,
   "metadata": {},
   "outputs": [
    {
     "data": {
      "text/html": [
       "<div id=\"interact-js-shim\">\n",
       "    <script charset=\"utf-8\">\n",
       "(function (IPython, $, _, MathJax) {\n",
       "    $.event.special.destroyed = {\n",
       "\tremove: function(o) {\n",
       "\t    if (o.handler) {\n",
       "\t\to.handler.apply(this, arguments)\n",
       "\t    }\n",
       "\t}\n",
       "    }\n",
       "\n",
       "    var OutputArea = IPython.version >= \"4.0.0\" ? require(\"notebook/js/outputarea\").OutputArea : IPython.OutputArea;\n",
       "\n",
       "    var redrawValue = function (container, type, val) {\n",
       "\tvar selector = $(\"<div/>\");\n",
       "\tvar oa = new OutputArea(_.extend(selector, {\n",
       "\t    selector: selector,\n",
       "\t    prompt_area: true,\n",
       "\t    events: IPython.events,\n",
       "\t    keyboard_manager: IPython.keyboard_manager\n",
       "\t})); // Hack to work with IPython 2.1.0\n",
       "\n",
       "\tswitch (type) {\n",
       "\tcase \"image/png\":\n",
       "            var _src = 'data:' + type + ';base64,' + val;\n",
       "\t    $(container).find(\"img\").attr('src', _src);\n",
       "\t    break;\n",
       "\tcase \"text/latex\":\n",
       "\t\tif (MathJax){\n",
       "\t\t\tvar math = MathJax.Hub.getAllJax(container)[0];\n",
       "\t\t\tMathJax.Hub.Queue([\"Text\", math, val.replace(/^\\${1,2}|\\${1,2}$/g, '')]);\n",
       "\t\t\tbreak;\n",
       "\t\t}\n",
       "\tdefault:\n",
       "\t    var toinsert = OutputArea.append_map[type].apply(\n",
       "\t\toa, [val, {}, selector]\n",
       "\t    );\n",
       "\t    $(container).empty().append(toinsert.contents());\n",
       "\t    selector.remove();\n",
       "\t}\n",
       "    }\n",
       "\n",
       "\n",
       "    $(document).ready(function() {\n",
       "\tfunction initComm(evt, data) {\n",
       "\t    var comm_manager = data.kernel.comm_manager;\n",
       "        //_.extend(comm_manager.targets, require(\"widgets/js/widget\"))\n",
       "\t    comm_manager.register_target(\"Signal\", function (comm) {\n",
       "            comm.on_msg(function (msg) {\n",
       "                var val = msg.content.data.value;\n",
       "                $(\".signal-\" + comm.comm_id).each(function() {\n",
       "                var type = $(this).data(\"type\");\n",
       "                if (typeof(val[type]) !== \"undefined\" && val[type] !== null) {\n",
       "                    redrawValue(this, type, val[type], type);\n",
       "                }\n",
       "                });\n",
       "                delete val;\n",
       "                delete msg.content.data.value;\n",
       "            });\n",
       "\t    });\n",
       "\n",
       "\t    // coordingate with Comm and redraw Signals\n",
       "\t    // XXX: Test using Reactive here to improve performance\n",
       "\t    $([IPython.events]).on(\n",
       "\t\t'output_appended.OutputArea', function (event, type, value, md, toinsert) {\n",
       "\t\t    if (md && md.reactive) {\n",
       "                // console.log(md.comm_id);\n",
       "                toinsert.addClass(\"signal-\" + md.comm_id);\n",
       "                toinsert.data(\"type\", type);\n",
       "                // Signal back indicating the mimetype required\n",
       "                var comm_manager = IPython.notebook.kernel.comm_manager;\n",
       "                var comm = comm_manager.comms[md.comm_id];\n",
       "                comm.then(function (c) {\n",
       "                    c.send({action: \"subscribe_mime\",\n",
       "                       mime: type});\n",
       "                    toinsert.bind(\"destroyed\", function() {\n",
       "                        c.send({action: \"unsubscribe_mime\",\n",
       "                               mime: type});\n",
       "                    });\n",
       "                })\n",
       "\t\t    }\n",
       "\t    });\n",
       "\t}\n",
       "\n",
       "\ttry {\n",
       "\t    // try to initialize right away. otherwise, wait on the status_started event.\n",
       "\t    initComm(undefined, IPython.notebook);\n",
       "\t} catch (e) {\n",
       "\t    $([IPython.events]).on('kernel_created.Kernel kernel_created.Session', initComm);\n",
       "\t}\n",
       "    });\n",
       "})(IPython, jQuery, _, MathJax);\n",
       "</script>\n",
       "    <script>\n",
       "        window.interactLoadedFlag = true\n",
       "       $(\"#interact-js-shim\").bind(\"destroyed\", function () {\n",
       "           if (window.interactLoadedFlag) {\n",
       "               console.warn(\"JavaScript required by Interact will be removed if you remove this cell or run using Interact more than once.\")\n",
       "           }\n",
       "       })\n",
       "       $([IPython.events]).on(\"kernel_starting.Kernel kernel_restarting.Kernel\", function () { window.interactLoadedFlag = false })\n",
       "   </script>\n",
       "</div>"
      ]
     },
     "metadata": {},
     "output_type": "display_data"
    }
   ],
   "source": [
    "using Flux\n",
    "using JLD2\n",
    "using FileIO\n",
    "using MLDataPattern\n",
    "using CoordinateTransformations\n",
    "using ProgressMeter\n",
    "using RigidBodyDynamics\n",
    "using Gurobi\n",
    "using DrakeVisualizer\n",
    "DrakeVisualizer.any_open_windows() || DrakeVisualizer.new_window()\n",
    "import FluxExtensions\n",
    "import LearningMPC\n",
    "import LCPSim\n",
    "import Hoppers"
   ]
  },
  {
   "cell_type": "code",
   "execution_count": 6,
   "metadata": {
    "collapsed": true
   },
   "outputs": [],
   "source": [
    "samples = load(\"2018-01-30-hopper-grid/grid_search.jld2\")[\"samples\"];"
   ]
  },
  {
   "cell_type": "code",
   "execution_count": 7,
   "metadata": {},
   "outputs": [
    {
     "data": {
      "text/plain": [
       "1.0"
      ]
     },
     "execution_count": 7,
     "metadata": {},
     "output_type": "execute_result"
    }
   ],
   "source": [
    "maximum(samples) do sample\n",
    "    sample.state[2]\n",
    "end"
   ]
  },
  {
   "cell_type": "code",
   "execution_count": 10,
   "metadata": {},
   "outputs": [
    {
     "data": {
      "text/plain": [
       "54120-element Array{LearningMPC.Sample{Float64},1}:\n",
       " LearningMPC.Sample{Float64}([0.25, 0.25, -5.0, -5.0], [-0.0 -3.44884e-13 … 7.031e-15 -1.62567e-21; 40.0 -5.19332e-13 … 8.27324e-15 9.80654e-27], [445.908], LearningMPC.MIPResults\n",
       "  solvetime_s: Float64 0.0416629\n",
       "  objective_value: Float64 232.332\n",
       "  objective_bound: Float64 210.503\n",
       ")   \n",
       " LearningMPC.Sample{Float64}([0.5, 0.25, -5.0, -5.0], [-0.0 -1.41031e-14 … 8.60962e-16 -1.26337e-21; 16.6017 -345.877 … -19.851 -1.27833e-7], [523.856], LearningMPC.MIPResults\n",
       "  solvetime_s: Float64 0.0379159\n",
       "  objective_value: Float64 262.657\n",
       "  objective_bound: Float64 262.657\n",
       ")       \n",
       " LearningMPC.Sample{Float64}([0.75, 0.25, -5.0, -5.0], [-0.0 -1.68556e-13 … -1.29977e-14 1.41063e-28; 40.0 1.45134e-13 … -1.59506e-14 -4.93574e-21], [560.528], LearningMPC.MIPResults\n",
       "  solvetime_s: Float64 0.0867951\n",
       "  objective_value: Float64 286.853\n",
       "  objective_bound: Float64 286.853\n",
       ")\n",
       " LearningMPC.Sample{Float64}([1.0, 0.25, -5.0, -5.0], [-0.0 -3.61778e-12 … 3.98187e-13 -7.78361e-14; 19.24 -57.1414 … -19.9996 -3.91127e-5], [824.126], LearningMPC.MIPResults\n",
       "  solvetime_s: Float64 0.082531\n",
       "  objective_value: Float64 265.498\n",
       "  objective_bound: Float64 265.479\n",
       ")         \n",
       " LearningMPC.Sample{Float64}([1.25, 0.25, -5.0, -5.0], [-0.0 2.24706e-14 … -1.42857e-15 -3.38559e-16; 19.1955 14.3226 … 0.674637 -1.87629], [965.171], LearningMPC.MIPResults\n",
       "  solvetime_s: Float64 0.0821762\n",
       "  objective_value: Float64 296.06\n",
       "  objective_bound: Float64 296.06\n",
       ")           \n",
       " LearningMPC.Sample{Float64}([1.5, 0.25, -5.0, -5.0], [-0.0 6.98258e-14 … -1.26175e-14 -6.04119e-16; 15.7593 10.0003 … 1.0193 -1.90676], [775.605], LearningMPC.MIPResults\n",
       "  solvetime_s: Float64 0.0846272\n",
       "  objective_value: Float64 299.328\n",
       "  objective_bound: Float64 299.328\n",
       ")            \n",
       " LearningMPC.Sample{Float64}([1.75, 0.25, -5.0, -5.0], [-0.0 1.15521e-13 … -1.23719e-13 6.15452e-15; 11.4674 12.2462 … 3.17951 -2.10279], [978.509], LearningMPC.MIPResults\n",
       "  solvetime_s: Float64 0.0817502\n",
       "  objective_value: Float64 377.855\n",
       "  objective_bound: Float64 377.855\n",
       ")           \n",
       " LearningMPC.Sample{Float64}([2.0, 0.25, -5.0, -5.0], [-0.0 1.84167e-13 … -5.62975e-13 1.34598e-14; 15.6918 -3.97473 … -0.587436 -1.76031], [838.215], LearningMPC.MIPResults\n",
       "  solvetime_s: Float64 0.0773818\n",
       "  objective_value: Float64 334.884\n",
       "  objective_bound: Float64 333.948\n",
       ")         \n",
       " LearningMPC.Sample{Float64}([2.25, 0.25, -5.0, -5.0], [-0.0 9.10626e-14 … 1.17542e-13 -5.39709e-15; 12.0765 9.36304 … 2.78547 -2.06665], [838.423], LearningMPC.MIPResults\n",
       "  solvetime_s: Float64 0.0672619\n",
       "  objective_value: Float64 426.183\n",
       "  objective_bound: Float64 426.183\n",
       ")           \n",
       " LearningMPC.Sample{Float64}([2.5, 0.25, -5.0, -5.0], [-0.0 2.07223e-13 … -2.17897e-13 2.64351e-14; 10.9758 7.20647 … 2.37994 -2.02957], [1000.34], LearningMPC.MIPResults\n",
       "  solvetime_s: Float64 0.0592709\n",
       "  objective_value: Float64 605.636\n",
       "  objective_bound: Float64 605.606\n",
       ")            \n",
       " LearningMPC.Sample{Float64}([2.75, 0.25, -5.0, -5.0], [-0.0 6.9618e-12 … 9.41583e-13 -5.46425e-14; 11.8949 -14.8467 … -3.6824 -1.47848], [939.137], LearningMPC.MIPResults\n",
       "  solvetime_s: Float64 0.053534\n",
       "  objective_value: Float64 563.114\n",
       "  objective_bound: Float64 563.114\n",
       ")            \n",
       " LearningMPC.Sample{Float64}([3.0, 0.25, -5.0, -5.0], [-0.0 1.2033e-13 … -1.63936e-13 4.93869e-14; 10.9484 3.96489e-6 … 2.04397e-6 -1.81818], [1020.16], LearningMPC.MIPResults\n",
       "  solvetime_s: Float64 0.0607522\n",
       "  objective_value: Float64 588.341\n",
       "  objective_bound: Float64 550.425\n",
       ")       \n",
       " LearningMPC.Sample{Float64}([0.25, 0.5, -5.0, -5.0], [-0.0 3.75941e-14 … 1.30071e-14 1.48245e-21; 40.0 -1.95458e-13 … -6.00931e-15 7.27807e-28], [470.908], LearningMPC.MIPResults\n",
       "  solvetime_s: Float64 0.0662451\n",
       "  objective_value: Float64 257.332\n",
       "  objective_bound: Float64 235.248\n",
       ")   \n",
       " ⋮                                                                                                                                                                                                                                                                                             \n",
       " LearningMPC.Sample{Float64}([2.75, 0.25, 2.75, 5.0], [-0.0 3.30144e-13 … 1.01656e-14 -8.50643e-15; -9.05806 2.78264e-6 … 1.30198e-6 -1.81818], [708.234], LearningMPC.MIPResults\n",
       "  solvetime_s: Float64 0.0220931\n",
       "  objective_value: Float64 134.883\n",
       "  objective_bound: Float64 134.883\n",
       ")     \n",
       " LearningMPC.Sample{Float64}([3.0, 0.25, 2.75, 5.0], [-0.0 -2.6253e-15 … 1.22944e-13 6.35747e-15; -9.09091 2.78275e-6 … 1.30198e-6 -1.81818], [5036.84], LearningMPC.MIPResults\n",
       "  solvetime_s: Float64 0.0220881\n",
       "  objective_value: Float64 250.603\n",
       "  objective_bound: Float64 250.603\n",
       ")       \n",
       " LearningMPC.Sample{Float64}([2.75, 0.5, 2.75, 5.0], [-0.0 4.3666e-13 … -1.91262e-13 1.02278e-14; -10.3516 -0.328093 … -0.0546494 -1.80791], [4096.53], LearningMPC.MIPResults\n",
       "  solvetime_s: Float64 0.0175111\n",
       "  objective_value: Float64 130.466\n",
       "  objective_bound: Float64 130.353\n",
       ")        \n",
       " LearningMPC.Sample{Float64}([3.0, 0.5, 2.75, 5.0], [-0.0 4.3666e-13 … -1.91262e-13 1.02278e-14; -10.4341 -0.328093 … -0.0546494 -1.80791], [4032.15], LearningMPC.MIPResults\n",
       "  solvetime_s: Float64 0.016783\n",
       "  objective_value: Float64 243.174\n",
       "  objective_bound: Float64 243.061\n",
       ")          \n",
       " LearningMPC.Sample{Float64}([2.75, 0.75, 2.75, 5.0], [-0.0 3.99567e-16 … 6.11713e-14 -8.6151e-15; -10.5309 -2.26047 … -0.95307 -1.72564], [3768.32], LearningMPC.MIPResults\n",
       "  solvetime_s: Float64 0.0221539\n",
       "  objective_value: Float64 129.859\n",
       "  objective_bound: Float64 129.728\n",
       ")          \n",
       " LearningMPC.Sample{Float64}([3.0, 0.75, 2.75, 5.0], [-0.0 3.99567e-16 … 6.11713e-14 -8.6151e-15; -11.096 -2.26047 … -0.95307 -1.72564], [3885.97], LearningMPC.MIPResults\n",
       "  solvetime_s: Float64 0.0218849\n",
       "  objective_value: Float64 241.346\n",
       "  objective_bound: Float64 241.214\n",
       ")            \n",
       " LearningMPC.Sample{Float64}([2.75, 1.0, 2.75, 5.0], [-0.0 -1.72023e-13 … -1.10964e-13 -6.44238e-15; -10.593 2.6948e-6 … 1.26016e-6 -1.81818], [5843.42], LearningMPC.MIPResults\n",
       "  solvetime_s: Float64 0.034873\n",
       "  objective_value: Float64 129.652\n",
       "  objective_bound: Float64 129.521\n",
       ")       \n",
       " LearningMPC.Sample{Float64}([3.0, 1.0, 2.75, 5.0], [-0.0 3.99567e-16 … 6.11713e-14 -8.6151e-15; -11.1581 -2.26047 … -0.95307 -1.72564], [5957.26], LearningMPC.MIPResults\n",
       "  solvetime_s: Float64 0.0222919\n",
       "  objective_value: Float64 240.98\n",
       "  objective_bound: Float64 240.848\n",
       ")             \n",
       " LearningMPC.Sample{Float64}([3.0, 0.25, 3.0, 5.0], [-0.0 -2.6253e-15 … 1.22944e-13 6.35747e-15; -9.09091 2.78275e-6 … 1.30198e-6 -1.81818], [1334.7], LearningMPC.MIPResults\n",
       "  solvetime_s: Float64 0.021842\n",
       "  objective_value: Float64 308.589\n",
       "  objective_bound: Float64 308.589\n",
       ")          \n",
       " LearningMPC.Sample{Float64}([3.0, 0.5, 3.0, 5.0], [-0.0 4.3666e-13 … -1.91262e-13 1.02278e-14; -10.448 -0.328093 … -0.0546494 -1.80791], [3653.47], LearningMPC.MIPResults\n",
       "  solvetime_s: Float64 0.022424\n",
       "  objective_value: Float64 299.772\n",
       "  objective_bound: Float64 299.659\n",
       ")            \n",
       " LearningMPC.Sample{Float64}([3.0, 0.75, 3.0, 5.0], [-0.0 3.99567e-16 … 6.11713e-14 -8.6151e-15; -11.3342 -2.26047 … -0.95307 -1.72564], [3945.08], LearningMPC.MIPResults\n",
       "  solvetime_s: Float64 0.0167391\n",
       "  objective_value: Float64 296.89\n",
       "  objective_bound: Float64 296.757\n",
       ")             \n",
       " LearningMPC.Sample{Float64}([3.0, 1.0, 3.0, 5.0], [-0.0 3.99567e-16 … 6.11713e-14 -8.6151e-15; -11.3964 -2.26047 … -0.95307 -1.72564], [6014.78], LearningMPC.MIPResults\n",
       "  solvetime_s: Float64 0.0221961\n",
       "  objective_value: Float64 296.45\n",
       "  objective_bound: Float64 296.317\n",
       ")              "
      ]
     },
     "execution_count": 10,
     "metadata": {},
     "output_type": "execute_result"
    }
   ],
   "source": [
    "filter!(samples) do sample\n",
    "    sample.state[3] <= sample.state[1]\n",
    "end"
   ]
  },
  {
   "cell_type": "code",
   "execution_count": null,
   "metadata": {
    "collapsed": true
   },
   "outputs": [],
   "source": []
  },
  {
   "cell_type": "code",
   "execution_count": 16,
   "metadata": {},
   "outputs": [
    {
     "data": {
      "text/plain": [
       "6.934225499940567"
      ]
     },
     "execution_count": 16,
     "metadata": {},
     "output_type": "execute_result"
    }
   ],
   "source": [
    "minimum(samples) do sample\n",
    "    sample.mip.objective_bound\n",
    "end"
   ]
  },
  {
   "cell_type": "code",
   "execution_count": 17,
   "metadata": {},
   "outputs": [
    {
     "data": {
      "text/plain": [
       "843.608036279683"
      ]
     },
     "execution_count": 17,
     "metadata": {},
     "output_type": "execute_result"
    }
   ],
   "source": [
    "maximum(samples) do sample\n",
    "    sample.mip.objective_value\n",
    "end"
   ]
  },
  {
   "cell_type": "code",
   "execution_count": 19,
   "metadata": {},
   "outputs": [
    {
     "data": {
      "text/plain": [
       "([0.0 0.0 1.0 0.0; 0.0 0.0 0.0 1.0; 0.0 0.0 0.0 0.0; 0.0 0.0 0.0 0.0], [0.0 0.0; 0.0 0.0; 0.0 1.0; 0.0 1.0], [0.0, 0.0, -9.81, -9.81])"
      ]
     },
     "execution_count": 19,
     "metadata": {},
     "output_type": "execute_result"
    }
   ],
   "source": [
    "robot = Hoppers.Hopper()\n",
    "xstar = Hoppers.nominal_state(robot)\n",
    "ustar = zeros(num_velocities(xstar))\n",
    "basevis = Visualizer()[:hopper]\n",
    "setgeometry!(basevis, robot)\n",
    "settransform!(basevis[:robot], xstar)\n",
    "\n",
    "Q, R = Hoppers.default_costs(robot)\n",
    "foot = findbody(robot.mechanism, \"foot\")\n",
    "Δt = 0.05\n",
    "Jc = LCPSim.ContactLQR.contact_jacobian(xstar, [Point3D(default_frame(foot), 0., 0., 0.)])\n",
    "A, B, c = LCPSim.ContactLQR.contact_linearize(xstar, ustar, Jc)"
   ]
  },
  {
   "cell_type": "code",
   "execution_count": 20,
   "metadata": {
    "collapsed": true
   },
   "outputs": [],
   "source": [
    "features(sample::LearningMPC.Sample) = (sample.state, sample.mip.objective_bound, sample.mip.objective_value, sample.uJ[:, 1])\n",
    "data = features.(samples);\n",
    "train_data, test_data = splitobs(shuffleobs(data), at=0.85);"
   ]
  },
  {
   "cell_type": "code",
   "execution_count": 28,
   "metadata": {},
   "outputs": [
    {
     "data": {
      "text/plain": [
       "(::#71) (generic function with 1 method)"
      ]
     },
     "execution_count": 28,
     "metadata": {},
     "output_type": "execute_result"
    }
   ],
   "source": [
    "function setup_model(R, B)\n",
    "    model = FluxExtensions.TangentPropagator(Chain(\n",
    "        LinearMap(UniformScaling(0.2)),\n",
    "        Dense(4, 32, elu),\n",
    "        Dense(32, 32, elu),\n",
    "        Dense(32, 1, elu),\n",
    "        AffineMap(fill(900, 1, 1), [450])\n",
    "        ))\n",
    "    RiBt = inv(R) * B' \n",
    "\n",
    "    function sample_loss(w_tangent)\n",
    "        (x, lb, ub, input) -> begin\n",
    "            y, J = model(x)\n",
    "            value_cost = sum(ifelse.(y .< lb, lb .- y, ifelse.(y .> ub, y .- ub, 0 .* y)))\n",
    "            tangent_cost = w_tangent * sum(abs2.(-RiBt * J' .- input))\n",
    "            value_cost + tangent_cost\n",
    "        end\n",
    "    end\n",
    "    function batch_loss(w_tangent)\n",
    "        loss = sample_loss(w_tangent)\n",
    "        (samples) -> sum((sample -> loss(sample...)).(samples)) / length(samples)\n",
    "    end\n",
    "    model, batch_loss\n",
    "end\n",
    "\n",
    "model, loss = setup_model(R, B)\n",
    "opt = Flux.ADADelta(params(model))"
   ]
  },
  {
   "cell_type": "code",
   "execution_count": 29,
   "metadata": {},
   "outputs": [
    {
     "data": {
      "text/plain": [
       "Tracked 0-dimensional Array{Float64,0}:\n",
       "214.721"
      ]
     },
     "execution_count": 29,
     "metadata": {},
     "output_type": "execute_result"
    }
   ],
   "source": [
    "loss(0.0)(train_data[1:1000])"
   ]
  },
  {
   "cell_type": "code",
   "execution_count": 30,
   "metadata": {},
   "outputs": [
    {
     "data": {
      "text/plain": [
       "(param([531.55]), param([28.1471 50.9719 93.7818 23.2117]))"
      ]
     },
     "execution_count": 30,
     "metadata": {},
     "output_type": "execute_result"
    }
   ],
   "source": [
    "model([1., 1., 0., 0.])"
   ]
  },
  {
   "cell_type": "code",
   "execution_count": null,
   "metadata": {
    "scrolled": false
   },
   "outputs": [],
   "source": [
    "train_loss = loss(0.0)\n",
    "@showprogress for i in 1:100\n",
    "    batches = eachbatch(shuffleobs(train_data), size=50)\n",
    "    for batch in batches\n",
    "        l = train_loss(batch)\n",
    "        isinf(Flux.Tracker.value(l)) && error(\"Loss is Inf\")\n",
    "        isnan(Flux.Tracker.value(l)) && error(\"Loss is NaN\")\n",
    "        Flux.back!(l)\n",
    "        opt()\n",
    "    end\n",
    "    @show loss(1.0)(train_data) loss(0.0)(train_data)\n",
    "end"
   ]
  },
  {
   "cell_type": "code",
   "execution_count": 40,
   "metadata": {},
   "outputs": [
    {
     "data": {
      "text/plain": [
       "6-element Array{Any,1}:\n",
       " param([-0.874318 -0.894906 0.449782 -0.29218; -0.0491876 -0.916839 0.0816046 -0.0822522; … ; -0.753808 -2.2484 0.0164334 -0.0220471; -0.135119 -0.0400157 0.206078 -0.206259])                                              \n",
       " param([-0.685669, -0.508003, 0.0230763, 0.150286, -0.280697, -0.0709213, 0.370353, 0.528606, -0.17281, -1.45689  …  -0.12054, 0.0365872, 0.5142, 0.171768, -1.13385, 0.0225197, -1.77688, -0.431941, -0.724202, -0.0487545])\n",
       " param([0.0827438 0.181199 … 0.0714366 0.429206; 0.296025 0.318421 … 0.190893 0.398564; … ; -0.350043 -0.300057 … -0.0530053 -0.973669; 0.331874 0.488173 … 0.620462 0.636777])                                              \n",
       " param([-0.876633, -0.984719, -0.130419, -1.70156, 1.24424, -0.45569, 0.0369737, -1.02634, -1.16589, -0.681811  …  -0.480377, -1.24427, -1.37558, -0.426286, -1.05001, -0.729481, -0.587845, 2.35657, 1.83911, -0.917382])   \n",
       " param([0.0186335 0.091613 … 0.00885737 0.00890532])                                                                                                                                                                         \n",
       " param([-0.680092])                                                                                                                                                                                                          "
      ]
     },
     "execution_count": 40,
     "metadata": {},
     "output_type": "execute_result"
    }
   ],
   "source": [
    "jldopen(\"2018-01-25-value-tangents-data.jld2\", \"w\") do file\n",
    "    file[\"model\"] = model\n",
    "    file[\"params\"] = params(model)\n",
    "end"
   ]
  },
  {
   "cell_type": "code",
   "execution_count": 45,
   "metadata": {},
   "outputs": [
    {
     "data": {
      "text/plain": [
       "Process(`/home/rdeits/locomotion/explorations/learning-mpc/packages/v0.6/DrakeVisualizer/src/../deps/usr/bin/drake-visualizer`, ProcessRunning)"
      ]
     },
     "execution_count": 45,
     "metadata": {},
     "output_type": "execute_result"
    }
   ],
   "source": [
    "import LCPSim\n",
    "import Hoppers\n",
    "using RigidBodyDynamics\n",
    "using Gurobi\n",
    "using DrakeVisualizer\n",
    "DrakeVisualizer.any_open_windows() || DrakeVisualizer.new_window()"
   ]
  },
  {
   "cell_type": "code",
   "execution_count": 46,
   "metadata": {},
   "outputs": [
    {
     "data": {
      "text/plain": [
       "([0.0 0.0 1.0 0.0; 0.0 0.0 0.0 1.0; 0.0 0.0 0.0 0.0; 0.0 0.0 0.0 0.0], [0.0 0.0; 0.0 0.0; 0.0 1.0; 0.0 1.0], [0.0, 0.0, -9.81, -9.81])"
      ]
     },
     "execution_count": 46,
     "metadata": {},
     "output_type": "execute_result"
    }
   ],
   "source": [
    "robot = Hoppers.Hopper()\n",
    "xstar = Hoppers.nominal_state(robot)\n",
    "ustar = zeros(num_velocities(xstar))\n",
    "basevis = Visualizer()[:hopper]\n",
    "setgeometry!(basevis, robot)\n",
    "settransform!(basevis[:robot], xstar)\n",
    "\n",
    "Q, R = Hoppers.default_costs(robot)\n",
    "foot = findbody(robot.mechanism, \"foot\")\n",
    "Δt = 0.05\n",
    "Jc = LCPSim.ContactLQR.contact_jacobian(xstar, [Point3D(default_frame(foot), 0., 0., 0.)])\n",
    "A, B, c = LCPSim.ContactLQR.contact_linearize(xstar, ustar, Jc)"
   ]
  },
  {
   "cell_type": "code",
   "execution_count": 47,
   "metadata": {},
   "outputs": [
    {
     "data": {
      "text/plain": [
       "(param([223.087]), param([-32.3593 3.97868 -0.706242 0.638184]))"
      ]
     },
     "execution_count": 47,
     "metadata": {},
     "output_type": "execute_result"
    }
   ],
   "source": [
    "model(zeros(4))"
   ]
  },
  {
   "cell_type": "code",
   "execution_count": 48,
   "metadata": {},
   "outputs": [
    {
     "data": {
      "text/plain": [
       "(::#99) (generic function with 1 method)"
      ]
     },
     "execution_count": 48,
     "metadata": {},
     "output_type": "execute_result"
    }
   ],
   "source": [
    "net_value_controller = state -> begin\n",
    "    x = state_vector(state)\n",
    "    value, jac = model(x)\n",
    "    u = vec(-inv(R) * B' * Flux.Tracker.value(jac)')\n",
    "end"
   ]
  },
  {
   "cell_type": "code",
   "execution_count": 51,
   "metadata": {
    "collapsed": true
   },
   "outputs": [],
   "source": [
    "x_init = MechanismState{Float64}(robot.mechanism)\n",
    "set_configuration!(x_init, [1.0, 1.0])\n",
    "set_velocity!(x_init, [0., 0.])\n",
    "LearningMPC.randomize!(x_init, x_init, 0.5, 1.0)\n",
    "results = LCPSim.simulate(x_init, net_value_controller,\n",
    "    robot.environment,\n",
    "    Δt,\n",
    "    100,\n",
    "    GurobiSolver(Gurobi.Env(), OutputFlag=0));"
   ]
  },
  {
   "cell_type": "code",
   "execution_count": 52,
   "metadata": {
    "collapsed": true
   },
   "outputs": [],
   "source": [
    "LearningMPC.playback(basevis[:robot], results, Δt)"
   ]
  },
  {
   "cell_type": "code",
   "execution_count": null,
   "metadata": {
    "collapsed": true
   },
   "outputs": [],
   "source": []
  }
 ],
 "metadata": {
  "kernelspec": {
   "display_name": "Julia 0.6.2",
   "language": "julia",
   "name": "julia-0.6"
  },
  "language_info": {
   "file_extension": ".jl",
   "mimetype": "application/julia",
   "name": "julia",
   "version": "0.6.2"
  }
 },
 "nbformat": 4,
 "nbformat_minor": 2
}
