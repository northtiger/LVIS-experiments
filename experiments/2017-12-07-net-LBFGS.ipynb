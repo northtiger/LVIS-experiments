{
 "cells": [
  {
   "cell_type": "code",
   "execution_count": 1,
   "metadata": {},
   "outputs": [],
   "source": [
    "using Revise"
   ]
  },
  {
   "cell_type": "code",
   "execution_count": 10,
   "metadata": {},
   "outputs": [],
   "source": [
    "using Optim\n",
    "using ForwardDiff\n",
    "using Plots; gr()\n",
    "using ColorTypes\n",
    "using ReverseDiff\n",
    "using Base.Test"
   ]
  },
  {
   "cell_type": "code",
   "execution_count": 3,
   "metadata": {},
   "outputs": [],
   "source": [
    "import Nets\n",
    "import LearningMPC"
   ]
  },
  {
   "cell_type": "code",
   "execution_count": 4,
   "metadata": {},
   "outputs": [
    {
     "data": {
      "text/plain": [
       "(::#1) (generic function with 1 method)"
      ]
     },
     "execution_count": 4,
     "metadata": {},
     "output_type": "execute_result"
    }
   ],
   "source": [
    "target = x -> [sin(x[1])]\n",
    "# target = x -> x"
   ]
  },
  {
   "cell_type": "code",
   "execution_count": 5,
   "metadata": {},
   "outputs": [],
   "source": [
    "training_pts = linspace(-2π, π, 5)\n",
    "training_data = [\n",
    "    ([x], hcat(target(x), ForwardDiff.jacobian(target, [x]))) \n",
    "    for x in training_pts];"
   ]
  },
  {
   "cell_type": "code",
   "execution_count": 34,
   "metadata": {},
   "outputs": [],
   "source": [
    "struct CompiledGradient{Tape <: ReverseDiff.CompiledTape}\n",
    "    tape::Tape\n",
    "end\n",
    "\n",
    "function (c::CompiledGradient)(∇, x)\n",
    "    ReverseDiff.gradient!((∇,), c.tape, (x,))\n",
    "end"
   ]
  },
  {
   "cell_type": "code",
   "execution_count": 104,
   "metadata": {},
   "outputs": [
    {
     "data": {
      "text/plain": [
       "([0.0469058, -0.00755694, -0.0274922, -0.00143651, -0.00644097, 0.0181396, -0.00341134, -0.00525958, -0.0120157, 0.0257308  …  -0.0102819, 0.0289733, -0.00214394, -0.00249579, -0.0630438, 0.0117527, -0.0338932, 0.0595366, 0.00252548, -0.559983],)"
      ]
     },
     "execution_count": 104,
     "metadata": {},
     "output_type": "execute_result"
    }
   ],
   "source": [
    "function trainable_net(training_data)\n",
    "    net = Nets.Net(zeros(Nets.Params{Float64}, [1, 10, 10, 1]), Nets.elu)\n",
    "    for I in eachindex(net.params.data)\n",
    "        net.params.data[I] += 0.1 * randn()\n",
    "    end\n",
    "\n",
    "    f = (params::AbstractVector) -> begin\n",
    "        n = Nets.similar(net, params)\n",
    "        q = [1.0 1.0]\n",
    "        sum(training_data) do xyJ\n",
    "            x, yJ = xyJ\n",
    "            sum(abs2, q .* (Nets.predict_sensitivity(n, x) .- yJ))\n",
    "        end\n",
    "    end\n",
    "\n",
    "    loss_tape = ReverseDiff.compile(ReverseDiff.GradientTape(f, (net.params.data,)))\n",
    "    gradient_result = (similar(net.params.data),);\n",
    "\n",
    "    g! = CompiledGradient(loss_tape)\n",
    "    net, f, g!, loss_tape\n",
    "end\n",
    "\n",
    "net, f, g! = trainable_net(training_data)\n",
    "@inferred f(net.params.data)\n",
    "@inferred g!(similar(net.params.data), net.params.data)"
   ]
  },
  {
   "cell_type": "code",
   "execution_count": 105,
   "metadata": {
    "scrolled": false
   },
   "outputs": [
    {
     "name": "stdout",
     "output_type": "stream",
     "text": [
      "f(net.params.data) = 4.980463453226413\n",
      "f(net.params.data) = 2.6393062155931597e-19\n"
     ]
    },
    {
     "data": {
      "text/plain": [
       "Results of Optimization Algorithm\n",
       " * Algorithm: L-BFGS\n",
       " * Starting Point: [-0.0023835034757604904,-0.11917370440714084, ...]\n",
       " * Minimizer: [-0.5532667683527774,-0.2669450325302178, ...]\n",
       " * Minimum: 2.639306e-19\n",
       " * Iterations: 162\n",
       " * Convergence: true\n",
       "   * |x - x'| < 1.0e-32: false \n",
       "     |x - x'| = 1.93e-07 \n",
       "   * |f(x) - f(x')| / |f(x)| < 1.0e-32: false\n",
       "     |f(x) - f(x')| / |f(x)| = 9.65e-01 \n",
       "   * |g(x)| < 1.0e-08: true \n",
       "     |g(x)| = 5.03e-09 \n",
       "   * stopped by an increasing objective: false\n",
       "   * Reached Maximum Number of Iterations: false\n",
       " * Objective Calls: 506\n",
       " * Gradient Calls: 506"
      ]
     },
     "execution_count": 105,
     "metadata": {},
     "output_type": "execute_result"
    }
   ],
   "source": [
    "@show f(net.params.data)\n",
    "solver = LBFGS()\n",
    "# options = Optim.Options(iterations=10)\n",
    "options = Optim.Options()\n",
    "g_calls = 0\n",
    "# @time @profile for i in 1:100\n",
    "    results = optimize(f, g!, copy(net.params.data), solver, options)\n",
    "    net.params.data .= results.minimizer;\n",
    "    g_calls += results.g_calls\n",
    "# end\n",
    "@show f(net.params.data)\n",
    "results"
   ]
  },
  {
   "cell_type": "code",
   "execution_count": 106,
   "metadata": {},
   "outputs": [
    {
     "data": {
      "text/plain": [
       "506"
      ]
     },
     "execution_count": 106,
     "metadata": {},
     "output_type": "execute_result"
    }
   ],
   "source": [
    "g_calls"
   ]
  },
  {
   "cell_type": "code",
   "execution_count": 107,
   "metadata": {},
   "outputs": [
    {
     "data": {
      "text/html": [
       "<?xml version=\"1.0\" encoding=\"utf-8\"?>\n",
       "<svg xmlns=\"http://www.w3.org/2000/svg\" xmlns:xlink=\"http://www.w3.org/1999/xlink\" width=\"600\" height=\"400\" viewBox=\"0 0 600 400\">\n",
       "<defs>\n",
       "  <clipPath id=\"clip00\">\n",
       "    <rect x=\"0\" y=\"0\" width=\"600\" height=\"400\"/>\n",
       "  </clipPath>\n",
       "</defs>\n",
       "<polygon clip-path=\"url(#clip2900)\" points=\"\n",
       "0,400 600,400 600,0 0,0 \n",
       "  \" fill=\"#ffffff\" fill-opacity=\"1\"/>\n",
       "<defs>\n",
       "  <clipPath id=\"clip01\">\n",
       "    <rect x=\"120\" y=\"0\" width=\"421\" height=\"400\"/>\n",
       "  </clipPath>\n",
       "</defs>\n",
       "<polygon clip-path=\"url(#clip2900)\" points=\"\n",
       "29.2591,375.813 580.315,375.813 580.315,11.811 29.2591,11.811 \n",
       "  \" fill=\"#ffffff\" fill-opacity=\"1\"/>\n",
       "<defs>\n",
       "  <clipPath id=\"clip02\">\n",
       "    <rect x=\"29\" y=\"11\" width=\"552\" height=\"365\"/>\n",
       "  </clipPath>\n",
       "</defs>\n",
       "<polyline clip-path=\"url(#clip2902)\" style=\"stroke:#000000; stroke-width:0.5; stroke-opacity:0.1; fill:none\" points=\"\n",
       "  100.552,375.813 100.552,11.811 \n",
       "  \"/>\n",
       "<polyline clip-path=\"url(#clip2902)\" style=\"stroke:#000000; stroke-width:0.5; stroke-opacity:0.1; fill:none\" points=\"\n",
       "  203.397,375.813 203.397,11.811 \n",
       "  \"/>\n",
       "<polyline clip-path=\"url(#clip2902)\" style=\"stroke:#000000; stroke-width:0.5; stroke-opacity:0.1; fill:none\" points=\"\n",
       "  306.241,375.813 306.241,11.811 \n",
       "  \"/>\n",
       "<polyline clip-path=\"url(#clip2902)\" style=\"stroke:#000000; stroke-width:0.5; stroke-opacity:0.1; fill:none\" points=\"\n",
       "  409.086,375.813 409.086,11.811 \n",
       "  \"/>\n",
       "<polyline clip-path=\"url(#clip2902)\" style=\"stroke:#000000; stroke-width:0.5; stroke-opacity:0.1; fill:none\" points=\"\n",
       "  511.931,375.813 511.931,11.811 \n",
       "  \"/>\n",
       "<polyline clip-path=\"url(#clip2902)\" style=\"stroke:#000000; stroke-width:0.5; stroke-opacity:0.1; fill:none\" points=\"\n",
       "  29.2591,352.17 580.315,352.17 \n",
       "  \"/>\n",
       "<polyline clip-path=\"url(#clip2902)\" style=\"stroke:#000000; stroke-width:0.5; stroke-opacity:0.1; fill:none\" points=\"\n",
       "  29.2591,259.695 580.315,259.695 \n",
       "  \"/>\n",
       "<polyline clip-path=\"url(#clip2902)\" style=\"stroke:#000000; stroke-width:0.5; stroke-opacity:0.1; fill:none\" points=\"\n",
       "  29.2591,167.22 580.315,167.22 \n",
       "  \"/>\n",
       "<polyline clip-path=\"url(#clip2902)\" style=\"stroke:#000000; stroke-width:0.5; stroke-opacity:0.1; fill:none\" points=\"\n",
       "  29.2591,74.7456 580.315,74.7456 \n",
       "  \"/>\n",
       "<polyline clip-path=\"url(#clip2900)\" style=\"stroke:#000000; stroke-width:1; stroke-opacity:1; fill:none\" points=\"\n",
       "  29.2591,375.813 580.315,375.813 \n",
       "  \"/>\n",
       "<polyline clip-path=\"url(#clip2900)\" style=\"stroke:#000000; stroke-width:1; stroke-opacity:1; fill:none\" points=\"\n",
       "  29.2591,375.813 29.2591,11.811 \n",
       "  \"/>\n",
       "<polyline clip-path=\"url(#clip2900)\" style=\"stroke:#000000; stroke-width:1; stroke-opacity:1; fill:none\" points=\"\n",
       "  100.552,375.813 100.552,370.353 \n",
       "  \"/>\n",
       "<polyline clip-path=\"url(#clip2900)\" style=\"stroke:#000000; stroke-width:1; stroke-opacity:1; fill:none\" points=\"\n",
       "  203.397,375.813 203.397,370.353 \n",
       "  \"/>\n",
       "<polyline clip-path=\"url(#clip2900)\" style=\"stroke:#000000; stroke-width:1; stroke-opacity:1; fill:none\" points=\"\n",
       "  306.241,375.813 306.241,370.353 \n",
       "  \"/>\n",
       "<polyline clip-path=\"url(#clip2900)\" style=\"stroke:#000000; stroke-width:1; stroke-opacity:1; fill:none\" points=\"\n",
       "  409.086,375.813 409.086,370.353 \n",
       "  \"/>\n",
       "<polyline clip-path=\"url(#clip2900)\" style=\"stroke:#000000; stroke-width:1; stroke-opacity:1; fill:none\" points=\"\n",
       "  511.931,375.813 511.931,370.353 \n",
       "  \"/>\n",
       "<polyline clip-path=\"url(#clip2900)\" style=\"stroke:#000000; stroke-width:1; stroke-opacity:1; fill:none\" points=\"\n",
       "  29.2591,352.17 37.525,352.17 \n",
       "  \"/>\n",
       "<polyline clip-path=\"url(#clip2900)\" style=\"stroke:#000000; stroke-width:1; stroke-opacity:1; fill:none\" points=\"\n",
       "  29.2591,259.695 37.525,259.695 \n",
       "  \"/>\n",
       "<polyline clip-path=\"url(#clip2900)\" style=\"stroke:#000000; stroke-width:1; stroke-opacity:1; fill:none\" points=\"\n",
       "  29.2591,167.22 37.525,167.22 \n",
       "  \"/>\n",
       "<polyline clip-path=\"url(#clip2900)\" style=\"stroke:#000000; stroke-width:1; stroke-opacity:1; fill:none\" points=\"\n",
       "  29.2591,74.7456 37.525,74.7456 \n",
       "  \"/>\n",
       "<g clip-path=\"url(#clip2900)\">\n",
       "<text style=\"fill:#000000; fill-opacity:1; font-family:Arial,Helvetica Neue,Helvetica,sans-serif; font-size:12; text-anchor:middle;\" transform=\"rotate(0, 100.552, 389.613)\" x=\"100.552\" y=\"389.613\">-5.0</text>\n",
       "</g>\n",
       "<g clip-path=\"url(#clip2900)\">\n",
       "<text style=\"fill:#000000; fill-opacity:1; font-family:Arial,Helvetica Neue,Helvetica,sans-serif; font-size:12; text-anchor:middle;\" transform=\"rotate(0, 203.397, 389.613)\" x=\"203.397\" y=\"389.613\">-2.5</text>\n",
       "</g>\n",
       "<g clip-path=\"url(#clip2900)\">\n",
       "<text style=\"fill:#000000; fill-opacity:1; font-family:Arial,Helvetica Neue,Helvetica,sans-serif; font-size:12; text-anchor:middle;\" transform=\"rotate(0, 306.241, 389.613)\" x=\"306.241\" y=\"389.613\">0.0</text>\n",
       "</g>\n",
       "<g clip-path=\"url(#clip2900)\">\n",
       "<text style=\"fill:#000000; fill-opacity:1; font-family:Arial,Helvetica Neue,Helvetica,sans-serif; font-size:12; text-anchor:middle;\" transform=\"rotate(0, 409.086, 389.613)\" x=\"409.086\" y=\"389.613\">2.5</text>\n",
       "</g>\n",
       "<g clip-path=\"url(#clip2900)\">\n",
       "<text style=\"fill:#000000; fill-opacity:1; font-family:Arial,Helvetica Neue,Helvetica,sans-serif; font-size:12; text-anchor:middle;\" transform=\"rotate(0, 511.931, 389.613)\" x=\"511.931\" y=\"389.613\">5.0</text>\n",
       "</g>\n",
       "<g clip-path=\"url(#clip2900)\">\n",
       "<text style=\"fill:#000000; fill-opacity:1; font-family:Arial,Helvetica Neue,Helvetica,sans-serif; font-size:12; text-anchor:end;\" transform=\"rotate(0, 23.2591, 356.67)\" x=\"23.2591\" y=\"356.67\">-6</text>\n",
       "</g>\n",
       "<g clip-path=\"url(#clip2900)\">\n",
       "<text style=\"fill:#000000; fill-opacity:1; font-family:Arial,Helvetica Neue,Helvetica,sans-serif; font-size:12; text-anchor:end;\" transform=\"rotate(0, 23.2591, 264.195)\" x=\"23.2591\" y=\"264.195\">-4</text>\n",
       "</g>\n",
       "<g clip-path=\"url(#clip2900)\">\n",
       "<text style=\"fill:#000000; fill-opacity:1; font-family:Arial,Helvetica Neue,Helvetica,sans-serif; font-size:12; text-anchor:end;\" transform=\"rotate(0, 23.2591, 171.72)\" x=\"23.2591\" y=\"171.72\">-2</text>\n",
       "</g>\n",
       "<g clip-path=\"url(#clip2900)\">\n",
       "<text style=\"fill:#000000; fill-opacity:1; font-family:Arial,Helvetica Neue,Helvetica,sans-serif; font-size:12; text-anchor:end;\" transform=\"rotate(0, 23.2591, 79.2456)\" x=\"23.2591\" y=\"79.2456\">0</text>\n",
       "</g>\n",
       "<polyline clip-path=\"url(#clip2902)\" style=\"stroke:#000000; stroke-width:1; stroke-opacity:0; fill:none\" points=\"\n",
       "  47.764,74.7456 144.693,42.0508 241.622,120.983 338.551,42.0508 435.48,74.7456 \n",
       "  \"/>\n",
       "<circle clip-path=\"url(#clip2902)\" style=\"fill:#000000; stroke:none; fill-opacity:1\" cx=\"47.764\" cy=\"74.7456\" r=\"4\"/>\n",
       "<circle clip-path=\"url(#clip2902)\" style=\"fill:#009af9; stroke:none; fill-opacity:1\" cx=\"47.764\" cy=\"74.7456\" r=\"3\"/>\n",
       "<circle clip-path=\"url(#clip2902)\" style=\"fill:#000000; stroke:none; fill-opacity:1\" cx=\"144.693\" cy=\"42.0508\" r=\"4\"/>\n",
       "<circle clip-path=\"url(#clip2902)\" style=\"fill:#009af9; stroke:none; fill-opacity:1\" cx=\"144.693\" cy=\"42.0508\" r=\"3\"/>\n",
       "<circle clip-path=\"url(#clip2902)\" style=\"fill:#000000; stroke:none; fill-opacity:1\" cx=\"241.622\" cy=\"120.983\" r=\"4\"/>\n",
       "<circle clip-path=\"url(#clip2902)\" style=\"fill:#009af9; stroke:none; fill-opacity:1\" cx=\"241.622\" cy=\"120.983\" r=\"3\"/>\n",
       "<circle clip-path=\"url(#clip2902)\" style=\"fill:#000000; stroke:none; fill-opacity:1\" cx=\"338.551\" cy=\"42.0508\" r=\"4\"/>\n",
       "<circle clip-path=\"url(#clip2902)\" style=\"fill:#009af9; stroke:none; fill-opacity:1\" cx=\"338.551\" cy=\"42.0508\" r=\"3\"/>\n",
       "<circle clip-path=\"url(#clip2902)\" style=\"fill:#000000; stroke:none; fill-opacity:1\" cx=\"435.48\" cy=\"74.7456\" r=\"4\"/>\n",
       "<circle clip-path=\"url(#clip2902)\" style=\"fill:#009af9; stroke:none; fill-opacity:1\" cx=\"435.48\" cy=\"74.7456\" r=\"3\"/>\n",
       "<polyline clip-path=\"url(#clip2902)\" style=\"stroke:#ff0000; stroke-width:1; stroke-opacity:1; fill:none\" points=\"\n",
       "  44.8551,78.0151 50.6729,71.4761 \n",
       "  \"/>\n",
       "<polyline clip-path=\"url(#clip2902)\" style=\"stroke:#ff0000; stroke-width:1; stroke-opacity:1; fill:none\" points=\"\n",
       "  141.334,39.3813 148.052,44.7203 \n",
       "  \"/>\n",
       "<polyline clip-path=\"url(#clip2902)\" style=\"stroke:#ff0000; stroke-width:1; stroke-opacity:1; fill:none\" points=\"\n",
       "  237.508,120.983 245.736,120.983 \n",
       "  \"/>\n",
       "<polyline clip-path=\"url(#clip2902)\" style=\"stroke:#ff0000; stroke-width:1; stroke-opacity:1; fill:none\" points=\"\n",
       "  335.192,44.7203 341.91,39.3813 \n",
       "  \"/>\n",
       "<polyline clip-path=\"url(#clip2902)\" style=\"stroke:#ff0000; stroke-width:1; stroke-opacity:1; fill:none\" points=\"\n",
       "  432.571,71.4761 438.389,78.0151 \n",
       "  \"/>\n",
       "<polyline clip-path=\"url(#clip2902)\" style=\"stroke:#0000ff; stroke-width:1; stroke-opacity:1; fill:none\" points=\"\n",
       "  47.764,74.7456 52.9335,69.1375 58.1031,63.9243 63.2726,59.0944 68.4422,54.6401 73.6117,50.558 78.7813,46.8486 83.9508,43.5172 89.1204,40.5737 94.2899,38.033 \n",
       "  99.4595,35.9153 104.629,34.2465 109.799,33.0643 114.968,32.4239 120.138,32.3722 125.307,32.9629 130.477,34.2574 135.646,36.326 140.816,39.2473 145.985,43.1099 \n",
       "  151.155,48.0114 156.325,53.9673 161.494,60.0782 166.664,66.0727 171.833,71.9293 177.003,77.6248 182.172,83.134 187.342,88.4296 192.511,93.4812 197.681,98.2553 \n",
       "  202.85,102.715 208.02,106.817 213.19,110.516 218.359,113.759 223.529,116.484 228.698,118.622 233.868,120.102 239.037,120.88 244.207,120.876 249.376,119.967 \n",
       "  254.546,118.014 259.716,114.846 264.885,110.258 270.055,104.284 275.224,97.6588 280.394,90.6753 285.563,84.5003 290.733,79.5257 295.902,75.551 301.072,72.13 \n",
       "  306.241,68.5642 311.411,64.6397 316.581,60.408 321.75,56.0187 326.92,51.6364 332.089,47.3071 337.259,43.0834 342.428,39.0248 347.598,35.1975 352.767,31.6762 \n",
       "  357.937,28.5569 363.107,25.9358 368.276,23.9125 373.446,22.5974 378.615,22.113 383.785,22.5954 388.954,24.1965 394.124,27.0855 399.293,31.452 404.463,37.4874 \n",
       "  409.633,44.0806 414.802,50.5029 419.972,56.7682 425.141,62.8893 430.311,68.8781 435.48,74.7456 440.65,80.8363 445.819,87.8865 450.989,95.8081 456.158,104.497 \n",
       "  461.328,113.864 466.498,123.829 471.667,134.32 476.837,145.274 482.006,156.634 487.176,168.35 492.345,180.379 497.515,192.68 502.684,205.221 507.854,217.968 \n",
       "  513.024,230.887 518.193,243.951 523.363,257.143 528.532,270.443 533.702,283.836 538.871,297.309 544.041,310.851 549.21,324.45 554.38,338.098 559.549,351.788 \n",
       "  564.719,365.511 \n",
       "  \"/>\n",
       "</svg>\n"
      ]
     },
     "execution_count": 107,
     "metadata": {},
     "output_type": "execute_result"
    }
   ],
   "source": [
    "plt = plot([x[1] for (x, yJ) in training_data], \n",
    "    [yJ[1] for (x, yJ) in training_data],\n",
    "    line=nothing,\n",
    "    marker=:dot)\n",
    "for (x, yJ) in training_data\n",
    "    y = yJ[1, 1]\n",
    "    slope = yJ[1, 2]\n",
    "    θ = atan(slope)\n",
    "    δx = 0.1 * cos(θ)\n",
    "    xs = [x[1] - δx, x[1] + δx]\n",
    "    ys = [y - slope * δx, y + slope * δx]\n",
    "    plot!(plt, xs, ys, color=colorant\"red\", legend=nothing)\n",
    "end\n",
    "\n",
    "x_samples = linspace(-2π, 2π, 101)\n",
    "plot!(plt, x_samples, [net([x])[1] for x in x_samples], color=colorant\"blue\")\n",
    "\n",
    "plt"
   ]
  }
 ],
 "metadata": {
  "kernelspec": {
   "display_name": "Julia 0.6.1",
   "language": "julia",
   "name": "julia-0.6"
  },
  "language_info": {
   "file_extension": ".jl",
   "mimetype": "application/julia",
   "name": "julia",
   "version": "0.6.1"
  }
 },
 "nbformat": 4,
 "nbformat_minor": 2
}
