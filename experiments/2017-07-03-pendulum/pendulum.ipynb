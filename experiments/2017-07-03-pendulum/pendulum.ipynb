{
 "cells": [
  {
   "cell_type": "code",
   "execution_count": 89,
   "metadata": {
    "collapsed": false,
    "scrolled": true
   },
   "outputs": [
    {
     "data": {
      "text/plain": [
       "true"
      ]
     },
     "execution_count": 89,
     "metadata": {},
     "output_type": "execute_result"
    }
   ],
   "source": [
    "using MLDataPattern\n",
    "using Plots; pyplot()\n",
    "using ProgressMeter\n",
    "using JLD\n",
    "using DrakeVisualizer, GeometryTypes, CoordinateTransformations\n",
    "DrakeVisualizer.any_open_windows() || DrakeVisualizer.new_window()"
   ]
  },
  {
   "cell_type": "code",
   "execution_count": 90,
   "metadata": {
    "collapsed": false
   },
   "outputs": [
    {
     "name": "stderr",
     "output_type": "stream",
     "text": [
      "\u001b[1m\u001b[36mINFO: \u001b[39m\u001b[22m\u001b[36mRecompiling stale cache file /home/rdeits/locomotion/explorations/learning-mpc/packages/lib/v0.6/Nets.ji for module Nets.\n",
      "\u001b[39m\u001b[1m\u001b[33mWARNING: \u001b[39m\u001b[22m\u001b[33mModule Parameters with uuid 3584642626881 is missing from the cache.\n",
      "This may mean module Parameters does not support precompilation but is imported by a module that does.\u001b[39m\n",
      "\u001b[1m\u001b[91mERROR: \u001b[39m\u001b[22mLoadError: \u001b[91mDeclaring __precompile__(false) is not allowed in files that are being precompiled.\u001b[39m\n",
      "Stacktrace:\n",
      " [1] \u001b[1m_require\u001b[22m\u001b[22m\u001b[1m(\u001b[22m\u001b[22m::Symbol\u001b[1m)\u001b[22m\u001b[22m at \u001b[1m./loading.jl:448\u001b[22m\u001b[22m\n",
      " [2] \u001b[1mrequire\u001b[22m\u001b[22m\u001b[1m(\u001b[22m\u001b[22m::Symbol\u001b[1m)\u001b[22m\u001b[22m at \u001b[1m./loading.jl:398\u001b[22m\u001b[22m\n",
      " [3] \u001b[1minclude_from_node1\u001b[22m\u001b[22m\u001b[1m(\u001b[22m\u001b[22m::String\u001b[1m)\u001b[22m\u001b[22m at \u001b[1m./loading.jl:569\u001b[22m\u001b[22m\n",
      " [4] \u001b[1minclude\u001b[22m\u001b[22m\u001b[1m(\u001b[22m\u001b[22m::String\u001b[1m)\u001b[22m\u001b[22m at \u001b[1m./sysimg.jl:14\u001b[22m\u001b[22m\n",
      " [5] \u001b[1manonymous\u001b[22m\u001b[22m at \u001b[1m./<missing>:2\u001b[22m\u001b[22m\n",
      "while loading /home/rdeits/locomotion/explorations/learning-mpc/packages/v0.6/Nets/src/Nets.jl, in expression starting on line 7\n"
     ]
    },
    {
     "ename": "LoadError",
     "evalue": "\u001b[91mFailed to precompile Nets to /home/rdeits/locomotion/explorations/learning-mpc/packages/lib/v0.6/Nets.ji.\u001b[39m",
     "output_type": "error",
     "traceback": [
      "\u001b[91mFailed to precompile Nets to /home/rdeits/locomotion/explorations/learning-mpc/packages/lib/v0.6/Nets.ji.\u001b[39m",
      "",
      "Stacktrace:",
      " [1] \u001b[1mcompilecache\u001b[22m\u001b[22m\u001b[1m(\u001b[22m\u001b[22m::String\u001b[1m)\u001b[22m\u001b[22m at \u001b[1m./loading.jl:703\u001b[22m\u001b[22m",
      " [2] \u001b[1m_require\u001b[22m\u001b[22m\u001b[1m(\u001b[22m\u001b[22m::Symbol\u001b[1m)\u001b[22m\u001b[22m at \u001b[1m./loading.jl:456\u001b[22m\u001b[22m",
      " [3] \u001b[1mrequire\u001b[22m\u001b[22m\u001b[1m(\u001b[22m\u001b[22m::Symbol\u001b[1m)\u001b[22m\u001b[22m at \u001b[1m./loading.jl:398\u001b[22m\u001b[22m",
      " [4] \u001b[1mreload\u001b[22m\u001b[22m\u001b[1m(\u001b[22m\u001b[22m::String\u001b[1m)\u001b[22m\u001b[22m at \u001b[1m./loading.jl:371\u001b[22m\u001b[22m"
     ]
    }
   ],
   "source": [
    "import Nets\n",
    "reload(\"Nets\")"
   ]
  },
  {
   "cell_type": "code",
   "execution_count": 91,
   "metadata": {
    "collapsed": false
   },
   "outputs": [
    {
     "name": "stdout",
     "output_type": "stream",
     "text": [
      "\u001b[1m\u001b[37mTest Summary:    | \u001b[39m\u001b[22m\u001b[1m\u001b[32mPass  \u001b[39m\u001b[22m"
     ]
    },
    {
     "name": "stderr",
     "output_type": "stream",
     "text": [
      "WARNING: replacing module PyMPC\n"
     ]
    },
    {
     "name": "stdout",
     "output_type": "stream",
     "text": [
      "\u001b[1m\u001b[36mTotal\u001b[39m\u001b[22m\n",
      "test sensitivity | \u001b[32m 267  \u001b[39m\u001b[36m  267\u001b[39m\n"
     ]
    },
    {
     "data": {
      "text/plain": [
       "colmat (generic function with 1 method)"
      ]
     },
     "execution_count": 91,
     "metadata": {},
     "output_type": "execute_result"
    }
   ],
   "source": [
    "include(\"../../pympc.jl\")\n",
    "colmat = PyMPC.colmat"
   ]
  },
  {
   "cell_type": "code",
   "execution_count": 92,
   "metadata": {
    "collapsed": false
   },
   "outputs": [
    {
     "data": {
      "text/plain": [
       "PyMPC.Models.Pendulum{Float64}(PyObject <pympc.dynamical_systems.DTPWASystem object at 0x7efd0d09eed0>, PyMPC.Models.PendulumParams{Float64}\n",
       "  m: Float64 1.0\n",
       "  l: Float64 1.0\n",
       "  g: Float64 9.81\n",
       "  t_s: Float64 0.2\n",
       "  bin_angle: Float64 1.5707963267948966\n",
       "  x_min: Array{Float64}((2,)) [-6.28319, -31.4159]\n",
       "  x_max: Array{Float64}((2,)) [6.28319, 31.4159]\n",
       "  u_min: Array{Float64}((1,)) [-2.0]\n",
       "  u_max: Array{Float64}((1,)) [2.0]\n",
       ", PyCall.PyObject[PyObject <pympc.geometry.Polytope instance at 0x7efd0d264a70>, PyObject <pympc.geometry.Polytope instance at 0x7efd0d3148c0>, PyObject <pympc.geometry.Polytope instance at 0x7efd0d314cb0>, PyObject <pympc.geometry.Polytope instance at 0x7efd0d315290>, PyObject <pympc.geometry.Polytope instance at 0x7efd0d315ef0>, PyObject <pympc.geometry.Polytope instance at 0x7efd0d41ee60>, PyObject <pympc.geometry.Polytope instance at 0x7efd0d41e170>, PyObject <pympc.geometry.Polytope instance at 0x7efd0d253f80>, PyObject <pympc.geometry.Polytope instance at 0x7efd0d315518>], PyCall.PyObject[PyObject <pympc.geometry.Polytope instance at 0x7efd0e83f878>, PyObject <pympc.geometry.Polytope instance at 0x7efd0e83fcf8>, PyObject <pympc.geometry.Polytope instance at 0x7efd0d3147a0>, PyObject <pympc.geometry.Polytope instance at 0x7efd0e829320>, PyObject <pympc.geometry.Polytope instance at 0x7efd0e7fa6c8>, PyObject <pympc.geometry.Polytope instance at 0x7efd0d248368>, PyObject <pympc.geometry.Polytope instance at 0x7efd0d253098>, PyObject <pympc.geometry.Polytope instance at 0x7efd0d14d680>, PyObject <pympc.geometry.Polytope instance at 0x7efd0c9f92d8>])"
      ]
     },
     "execution_count": 92,
     "metadata": {},
     "output_type": "execute_result"
    }
   ],
   "source": [
    "sys = PyMPC.Models.Pendulum(PyMPC.Models.PendulumParams{Float64}(t_s=0.2, u_min=[-2]))"
   ]
  },
  {
   "cell_type": "code",
   "execution_count": 93,
   "metadata": {
    "collapsed": false
   },
   "outputs": [
    {
     "data": {
      "text/plain": [
       "Set{Array{Symbol,1}}()"
      ]
     },
     "execution_count": 93,
     "metadata": {},
     "output_type": "execute_result"
    }
   ],
   "source": [
    "vis = Visualizer()[:pendulum]\n",
    "setgeometry!(vis, sys)\n",
    "settransform!(vis, sys, [0, 0])"
   ]
  },
  {
   "cell_type": "code",
   "execution_count": 94,
   "metadata": {
    "collapsed": true
   },
   "outputs": [],
   "source": [
    "# x0 = [π - π/3, 0.0]\n",
    "# xs = PyMPC.Models.simulate(sys, x0, x -> [0.0], N_sim=30);\n",
    "# PyMPC.Models.playback(vis, sys, xs);"
   ]
  },
  {
   "cell_type": "code",
   "execution_count": 95,
   "metadata": {
    "collapsed": false
   },
   "outputs": [
    {
     "data": {
      "text/plain": [
       "PyObject <pympc.control.MPCHybridController instance at 0x7efd0d303bd8>"
      ]
     },
     "execution_count": 95,
     "metadata": {},
     "output_type": "execute_result"
    }
   ],
   "source": [
    "controller = PyMPC.Models.controller(sys; N=20)"
   ]
  },
  {
   "cell_type": "code",
   "execution_count": 96,
   "metadata": {
    "collapsed": false
   },
   "outputs": [
    {
     "data": {
      "text/plain": [
       "(Any[[1.97016], [2.0], [2.0], [-1.73141], [-2.0], [-2.0], [-2.0], [-2.0], [-2.0], [-2.0], [-2.0], [-2.0], [-2.0], [-2.0], [-2.0], [-2.0], [-2.0], [-1.51003], [-1.10743], [-0.850567]], Any[[3.04159; 0.0], [3.04159; 0.590231], [3.15964; 1.18643], [3.39693; 1.55102], [3.70713; 0.70378], [3.84789; -0.805804], [3.68673; -2.59155], [3.16841; -4.0611], [2.35619; -4.51373], [1.45345; -3.37278]  …  [0.416739; -0.682585], [0.280222; -0.264943], [0.227234; -0.115147], [0.204204; -0.0693143], [0.190341; -0.0686655], [0.176608; -0.0952155], [0.157565; -0.14871], [0.127823; -0.141573], [0.0995087; -0.112269], [0.0770548; -0.0871468]], 1658.6121946808812, (6, 6, 6, 6, 6, 6, 6, 6, 6, 5, 4, 4, 4, 4, 4, 4, 4, 4, 4, 4))"
      ]
     },
     "execution_count": 96,
     "metadata": {},
     "output_type": "execute_result"
    }
   ],
   "source": [
    "x0 = [π - 0.1, 0.0]\n",
    "result = controller[:feedforward](colmat(x0))"
   ]
  },
  {
   "cell_type": "code",
   "execution_count": 97,
   "metadata": {
    "collapsed": false
   },
   "outputs": [],
   "source": [
    "PyMPC.Models.playback(vis, sys, vec.(result[2]));"
   ]
  },
  {
   "cell_type": "code",
   "execution_count": 98,
   "metadata": {
    "collapsed": true
   },
   "outputs": [],
   "source": [
    "# x0 = [π - 0.1, 0.0]\n",
    "# xs = PyMPC.Models.simulate(sys, x0, controller, N_sim=50);\n",
    "\n",
    "# PyMPC.Models.playback(vis, sys, xs);"
   ]
  },
  {
   "cell_type": "code",
   "execution_count": 99,
   "metadata": {
    "collapsed": true
   },
   "outputs": [],
   "source": [
    "# num_samples = 100\n",
    "# data = Vector{Tuple{Vector{Float64}, Matrix{Float64}}}()\n",
    "\n",
    "# @showprogress for i in 1:num_samples\n",
    "#     while true\n",
    "#         x0 = PyMPC.Models.generate_x0(sys)\n",
    "#         u, J, x_traj = PyMPC.run_mpc(controller, x0)\n",
    "#         if !isnan(u[1])\n",
    "#             PyMPC.Models.playback(vis, sys, vec.(x_traj))\n",
    "#             push!(data, (x0, hcat(u, J[1:length(u), :])))\n",
    "#             for x in x_traj\n",
    "#                 u, J, _ = PyMPC.run_mpc(controller, vec(x))\n",
    "#                 if !isnan(u[1])\n",
    "#                     push!(data, (vec(x), hcat(u, J[1:length(u), :])))\n",
    "#                 end\n",
    "#             end\n",
    "#             break\n",
    "#         end\n",
    "#     end\n",
    "# end\n",
    "\n",
    "# save(\"pendulum_100_traj.jld\", \"data\", data)"
   ]
  },
  {
   "cell_type": "code",
   "execution_count": 100,
   "metadata": {
    "collapsed": false
   },
   "outputs": [
    {
     "data": {
      "text/plain": [
       "AffineMap([0.333333], [0.0])"
      ]
     },
     "execution_count": 100,
     "metadata": {},
     "output_type": "execute_result"
    }
   ],
   "source": [
    "data = load(\"pendulum_100_traj.jld\")[\"data\"]\n",
    "train_data, test_data = splitobs(shuffleobs(data), 0.5)\n",
    "\n",
    "train_data_scaled, x_to_u, v_to_y = Nets.rescale(train_data)\n",
    "u_to_x = inv(x_to_u)\n",
    "y_to_v = inv(v_to_y)"
   ]
  },
  {
   "cell_type": "code",
   "execution_count": 101,
   "metadata": {
    "collapsed": false
   },
   "outputs": [
    {
     "data": {
      "text/plain": [
       "sensitive_loss (generic function with 1 method)"
      ]
     },
     "execution_count": 101,
     "metadata": {},
     "output_type": "execute_result"
    }
   ],
   "source": [
    "widths = [2, 16, 16, 16, 16, 1]\n",
    "\n",
    "function sensitive_loss(λ)\n",
    "    q = fill(λ, widths[1])\n",
    "    q[1] = 1.0 - λ\n",
    "    (params, x, y) -> sum(abs2, q .* (Nets.predict_sensitivity(Nets.Net(Nets.Params(widths, params)), x) .- y))\n",
    "end"
   ]
  },
  {
   "cell_type": "code",
   "execution_count": 102,
   "metadata": {
    "collapsed": true
   },
   "outputs": [],
   "source": [
    "start_params = 0.1 * randn(Nets.Params{Float64}, widths).data\n",
    "nepoch = 400;"
   ]
  },
  {
   "cell_type": "code",
   "execution_count": 103,
   "metadata": {
    "collapsed": false
   },
   "outputs": [
    {
     "name": "stdout",
     "output_type": "stream",
     "text": [
      "mean((xy->begin  # In[103], line 8:\n",
      "            sum(abs2, net(xy[1]) .- (xy[2])[:, 1])\n",
      "        end), test_data) = 6.416158299297559\n"
     ]
    },
    {
     "name": "stderr",
     "output_type": "stream",
     "text": [
      "Progress: 100%|█████████████████████████████████████████|  ETA: 0:00:00"
     ]
    },
    {
     "name": "stdout",
     "output_type": "stream",
     "text": [
      "mean((xy->begin  # In[103], line 16:\n",
      "            sum(abs2, net(xy[1]) .- (xy[2])[:, 1])\n",
      "        end), test_data) = 0.48169414526815485\n"
     ]
    },
    {
     "name": "stderr",
     "output_type": "stream",
     "text": [
      "\r",
      "Progress: 100%|█████████████████████████████████████████|  ETA: 0:00:00\r",
      "Progress: 100%|█████████████████████████████████████████| Time: 0:00:49\n"
     ]
    },
    {
     "data": {
      "text/html": [
       "<img src=\"data:image/png;base64,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\" />"
      ]
     },
     "execution_count": 103,
     "metadata": {},
     "output_type": "execute_result"
    }
   ],
   "source": [
    "params = copy(start_params)\n",
    "net = Nets.Net(Nets.Params(widths, params), x_to_u, v_to_y)\n",
    "\n",
    "train_loss = sensitive_loss(0.5)\n",
    "validate_loss = train_loss\n",
    "losses = [mean(xy -> validate_loss(params, xy[1], xy[2]), train_data_scaled)]\n",
    "\n",
    "@show mean(xy -> sum(abs2, net(xy[1]) .- xy[2][:,1]), test_data)\n",
    "\n",
    "@showprogress for i in 1:nepoch\n",
    "#     train_loss = sensitive_loss(0.1)\n",
    "    Nets.adam!(train_loss, params, train_data_scaled, Nets.AdamOpts(learning_rate=0.01 * 0.99^i, batch_size=10))\n",
    "    push!(losses, mean(xy -> validate_loss(params, xy[1], xy[2]), train_data_scaled))\n",
    "end\n",
    "\n",
    "@show mean(xy -> sum(abs2, net(xy[1]) .- xy[2][:,1]), test_data)\n",
    "\n",
    "plot(losses, ylim=(0, losses[1]))"
   ]
  },
  {
   "cell_type": "code",
   "execution_count": 104,
   "metadata": {
    "collapsed": false
   },
   "outputs": [
    {
     "data": {
      "text/plain": [
       "(::#79) (generic function with 1 method)"
      ]
     },
     "execution_count": 104,
     "metadata": {},
     "output_type": "execute_result"
    }
   ],
   "source": [
    "netcontroller = x -> clamp.(net(x), sys.params.u_min, sys.params.u_max)"
   ]
  },
  {
   "cell_type": "code",
   "execution_count": 105,
   "metadata": {
    "collapsed": false
   },
   "outputs": [],
   "source": [
    "sim_sys = sys = PyMPC.Models.Pendulum(PyMPC.Models.PendulumParams{Float64}(t_s=0.1, bin_angle=π/8, u_min=[-2]));"
   ]
  },
  {
   "cell_type": "code",
   "execution_count": 106,
   "metadata": {
    "collapsed": false
   },
   "outputs": [
    {
     "name": "stdout",
     "output_type": "stream",
     "text": [
      "x0 = [0.0825429, -0.808302]\n"
     ]
    },
    {
     "data": {
      "text/plain": [
       "2-element Array{Float64,1}:\n",
       "  0.0825429\n",
       " -0.808302 "
      ]
     },
     "execution_count": 106,
     "metadata": {},
     "output_type": "execute_result"
    }
   ],
   "source": [
    "x0 = PyMPC.Models.generate_x0(sys)\n",
    "for i in 1:100\n",
    "    x0 = PyMPC.Models.generate_x0(sys)\n",
    "    if !any(isnan, controller[:feedback](colmat(x0)))\n",
    "        break\n",
    "    end\n",
    "end\n",
    "@show x0"
   ]
  },
  {
   "cell_type": "code",
   "execution_count": 107,
   "metadata": {
    "collapsed": false
   },
   "outputs": [],
   "source": [
    "xs = PyMPC.Models.simulate(sim_sys, x0, netcontroller; N_sim=100)\n",
    "PyMPC.Models.playback(vis, sys, xs)"
   ]
  },
  {
   "cell_type": "code",
   "execution_count": 108,
   "metadata": {
    "collapsed": false
   },
   "outputs": [],
   "source": [
    "xs = vcat(xs, PyMPC.Models.simulate(sim_sys, xs[end], netcontroller; N_sim=100))\n",
    "PyMPC.Models.playback(vis, sys, xs)"
   ]
  },
  {
   "cell_type": "code",
   "execution_count": null,
   "metadata": {
    "collapsed": true
   },
   "outputs": [],
   "source": []
  }
 ],
 "metadata": {
  "kernelspec": {
   "display_name": "Julia 0.6.0",
   "language": "julia",
   "name": "julia-0.6"
  },
  "language_info": {
   "file_extension": ".jl",
   "mimetype": "application/julia",
   "name": "julia",
   "version": "0.6.0"
  }
 },
 "nbformat": 4,
 "nbformat_minor": 2
}
