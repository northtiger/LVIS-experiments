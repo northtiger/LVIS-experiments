{
 "cells": [
  {
   "cell_type": "code",
   "execution_count": 126,
   "metadata": {},
   "outputs": [
    {
     "data": {
      "text/plain": [
       "true"
      ]
     },
     "execution_count": 126,
     "metadata": {},
     "output_type": "execute_result"
    }
   ],
   "source": [
    "using MLDataPattern\n",
    "using Plots; pyplot()\n",
    "using ProgressMeter\n",
    "using JLD\n",
    "using DrakeVisualizer, GeometryTypes, CoordinateTransformations\n",
    "DrakeVisualizer.any_open_windows() || DrakeVisualizer.new_window()"
   ]
  },
  {
   "cell_type": "code",
   "execution_count": 127,
   "metadata": {},
   "outputs": [
    {
     "name": "stderr",
     "output_type": "stream",
     "text": [
      "WARNING: replacing module Nets.\n"
     ]
    }
   ],
   "source": [
    "import Nets\n",
    "reload(\"Nets\")"
   ]
  },
  {
   "cell_type": "code",
   "execution_count": 267,
   "metadata": {},
   "outputs": [
    {
     "name": "stdout",
     "output_type": "stream",
     "text": [
      "\u001b[1m\u001b[37mTest Summary:    | \u001b[39m\u001b[22m\u001b[1m\u001b[32mPass  \u001b[39m\u001b[22m\u001b[1m\u001b[36mTotal\u001b[39m\u001b[22m\n",
      "test sensitivity | \u001b[32m 267  \u001b[39m\u001b[36m  267\u001b[39m\n"
     ]
    },
    {
     "name": "stderr",
     "output_type": "stream",
     "text": [
      "WARNING: replacing module PyMPC\n"
     ]
    },
    {
     "data": {
      "text/plain": [
       "colmat (generic function with 1 method)"
      ]
     },
     "execution_count": 267,
     "metadata": {},
     "output_type": "execute_result"
    }
   ],
   "source": [
    "include(\"../../pympc.jl\")\n",
    "colmat = PyMPC.colmat"
   ]
  },
  {
   "cell_type": "code",
   "execution_count": 340,
   "metadata": {},
   "outputs": [
    {
     "data": {
      "text/plain": [
       "PyMPC.Models.Pendulum{Float64}(PyObject <pympc.dynamical_systems.DTPWASystem object at 0x12f977210>, PyMPC.Models.PendulumParams{Float64}\n",
       "  m: Float64 1.0\n",
       "  l: Float64 1.0\n",
       "  g: Float64 9.81\n",
       "  t_s: Float64 0.2\n",
       "  bin_angle: Float64 1.5707963267948966\n",
       "  x_min: Array{Float64}((2,)) [-6.28319, -31.4159]\n",
       "  x_max: Array{Float64}((2,)) [6.28319, 31.4159]\n",
       "  u_min: Array{Float64}((1,)) [-2.0]\n",
       "  u_max: Array{Float64}((1,)) [2.0]\n",
       ", PyCall.PyObject[PyObject <pympc.geometry.Polytope instance at 0x10bd497e8>, PyObject <pympc.geometry.Polytope instance at 0x10bd49ef0>, PyObject <pympc.geometry.Polytope instance at 0x10bd49d40>, PyObject <pympc.geometry.Polytope instance at 0x129ca7bd8>, PyObject <pympc.geometry.Polytope instance at 0x129ca75a8>, PyObject <pympc.geometry.Polytope instance at 0x129ca7ab8>, PyObject <pympc.geometry.Polytope instance at 0x134dc7fc8>, PyObject <pympc.geometry.Polytope instance at 0x1341a8cf8>, PyObject <pympc.geometry.Polytope instance at 0x129ca7cb0>], PyCall.PyObject[PyObject <pympc.geometry.Polytope instance at 0x134dc72d8>, PyObject <pympc.geometry.Polytope instance at 0x10bd49290>, PyObject <pympc.geometry.Polytope instance at 0x10bd49ea8>, PyObject <pympc.geometry.Polytope instance at 0x10bb981b8>, PyObject <pympc.geometry.Polytope instance at 0x134db3878>, PyObject <pympc.geometry.Polytope instance at 0x129c8e758>, PyObject <pympc.geometry.Polytope instance at 0x134ddcd40>, PyObject <pympc.geometry.Polytope instance at 0x129ca73b0>, PyObject <pympc.geometry.Polytope instance at 0x135112680>])"
      ]
     },
     "execution_count": 340,
     "metadata": {},
     "output_type": "execute_result"
    }
   ],
   "source": [
    "sys = PyMPC.Models.Pendulum(PyMPC.Models.PendulumParams{Float64}(t_s=0.2, u_min=[-2]))"
   ]
  },
  {
   "cell_type": "code",
   "execution_count": 332,
   "metadata": {},
   "outputs": [
    {
     "data": {
      "text/plain": [
       "Set{Array{Symbol,1}}()"
      ]
     },
     "execution_count": 332,
     "metadata": {},
     "output_type": "execute_result"
    }
   ],
   "source": [
    "vis = Visualizer()[:pendulum]\n",
    "setgeometry!(vis, sys)\n",
    "settransform!(vis, sys, [0, 0])"
   ]
  },
  {
   "cell_type": "code",
   "execution_count": 333,
   "metadata": {},
   "outputs": [],
   "source": [
    "# x0 = [π - π/3, 0.0]\n",
    "# xs = PyMPC.Models.simulate(sys, x0, x -> [0.0], N_sim=30);\n",
    "# PyMPC.Models.playback(vis, sys, xs);"
   ]
  },
  {
   "cell_type": "code",
   "execution_count": 334,
   "metadata": {},
   "outputs": [
    {
     "data": {
      "text/plain": [
       "PyObject <pympc.control.MPCHybridController instance at 0x135104518>"
      ]
     },
     "execution_count": 334,
     "metadata": {},
     "output_type": "execute_result"
    }
   ],
   "source": [
    "controller = PyMPC.Models.controller(sys; N=20)"
   ]
  },
  {
   "cell_type": "code",
   "execution_count": 335,
   "metadata": {},
   "outputs": [
    {
     "data": {
      "text/plain": [
       "(Any[[3.0], [2.48411], [-2.63227], [-3.0], [-3.0], [-3.0], [-3.0], [-3.0], [-3.0], [-3.0], [-3.0], [-3.0], [-3.0], [-3.0], [-3.0], [-2.72048], [-1.89272], [-1.44258], [-1.1139], [-0.861617]], Any[[3.04159; 0.0], [3.04159; 0.7962], [3.20083; 1.48922], [3.49868; 0.846541], [3.66799; -0.454059], [3.57717; -2.08684], [3.15981; -3.54145], [2.45151; -4.17718], [1.61608; -3.42325], [0.931428; -2.06125]  …  [0.379327; -0.280625], [0.323202; -0.136385], [0.295925; -0.102262], [0.275473; -0.121656], [0.251142; -0.181178], [0.214906; -0.232534], [0.168399; -0.189432], [0.130513; -0.147548], [0.101003; -0.114262], [0.0781506; -0.0884176]], 1439.126762835405, (6, 6, 6, 6, 6, 6, 6, 6, 5, 5, 4, 4, 4, 4, 4, 4, 4, 4, 4, 4))"
      ]
     },
     "execution_count": 335,
     "metadata": {},
     "output_type": "execute_result"
    }
   ],
   "source": [
    "x0 = [π - 0.1, 0.0]\n",
    "result = controller[:feedforward](colmat(x0))"
   ]
  },
  {
   "cell_type": "code",
   "execution_count": 336,
   "metadata": {},
   "outputs": [],
   "source": [
    "PyMPC.Models.playback(vis, sys, vec.(result[2]));"
   ]
  },
  {
   "cell_type": "code",
   "execution_count": 337,
   "metadata": {},
   "outputs": [],
   "source": [
    "# x0 = [π - 0.1, 0.0]\n",
    "# xs = PyMPC.Models.simulate(sys, x0, controller, N_sim=50);\n",
    "\n",
    "# PyMPC.Models.playback(vis, sys, xs);"
   ]
  },
  {
   "cell_type": "code",
   "execution_count": 341,
   "metadata": {},
   "outputs": [
    {
     "name": "stderr",
     "output_type": "stream",
     "text": [
      "Progress: 100%|█████████████████████████████████████████| Time: 1:54:18\n"
     ]
    }
   ],
   "source": [
    "# num_samples = 100\n",
    "# data = Vector{Tuple{Vector{Float64}, Matrix{Float64}}}()\n",
    "\n",
    "# @showprogress for i in 1:num_samples\n",
    "#     while true\n",
    "#         x0 = PyMPC.Models.generate_x0(sys)\n",
    "#         u, J, x_traj = PyMPC.run_mpc(controller, x0)\n",
    "#         if !isnan(u[1])\n",
    "#             PyMPC.Models.playback(vis, sys, vec.(x_traj))\n",
    "#             push!(data, (x0, hcat(u, J[1:length(u), :])))\n",
    "#             for x in x_traj\n",
    "#                 u, J, _ = PyMPC.run_mpc(controller, vec(x))\n",
    "#                 if !isnan(u[1])\n",
    "#                     push!(data, (vec(x), hcat(u, J[1:length(u), :])))\n",
    "#                 end\n",
    "#             end\n",
    "#             break\n",
    "#         end\n",
    "#     end\n",
    "# end\n",
    "\n",
    "# save(\"pendulum_100_traj.jld\", \"data\", data)"
   ]
  },
  {
   "cell_type": "code",
   "execution_count": 342,
   "metadata": {},
   "outputs": [
    {
     "data": {
      "text/plain": [
       "AffineMap([0.333333], [0.0])"
      ]
     },
     "execution_count": 342,
     "metadata": {},
     "output_type": "execute_result"
    }
   ],
   "source": [
    "data = load(\"pendulum_100_traj.jld\")[\"data\"]\n",
    "train_data, test_data = splitobs(shuffleobs(data), 0.5)\n",
    "\n",
    "train_data_scaled, x_to_u, v_to_y = Nets.rescale(train_data)\n",
    "u_to_x = inv(x_to_u)\n",
    "y_to_v = inv(v_to_y)"
   ]
  },
  {
   "cell_type": "code",
   "execution_count": 353,
   "metadata": {},
   "outputs": [
    {
     "data": {
      "text/plain": [
       "sensitive_loss (generic function with 1 method)"
      ]
     },
     "execution_count": 353,
     "metadata": {},
     "output_type": "execute_result"
    }
   ],
   "source": [
    "widths = [2, 16, 16, 16, 1]\n",
    "\n",
    "function sensitive_loss(λ)\n",
    "    q = fill(λ, widths[1])\n",
    "    q[1] = 1.0 - λ\n",
    "    (params, x, y) -> sum(abs2, q .* (Nets.predict_sensitivity(Nets.Net(Nets.Params(widths, params)), x) .- y))\n",
    "end"
   ]
  },
  {
   "cell_type": "code",
   "execution_count": 354,
   "metadata": {
    "collapsed": true
   },
   "outputs": [],
   "source": [
    "start_params = 0.1 * randn(Nets.Params{Float64}, widths).data\n",
    "nepoch = 200;"
   ]
  },
  {
   "cell_type": "code",
   "execution_count": 401,
   "metadata": {},
   "outputs": [
    {
     "name": "stdout",
     "output_type": "stream",
     "text": [
      "mean((xy->begin  # In[401], line 8:\n",
      "            sum(abs2, net(xy[1]) .- (xy[2])[:, 1])\n",
      "        end), test_data) = 5.799079533434244\n"
     ]
    },
    {
     "name": "stderr",
     "output_type": "stream",
     "text": [
      "Progress:  99%|█████████████████████████████████████████|  ETA: 0:00:00"
     ]
    },
    {
     "name": "stdout",
     "output_type": "stream",
     "text": [
      "mean((xy->begin  # In[401], line 16:\n",
      "            sum(abs2, net(xy[1]) .- (xy[2])[:, 1])\n",
      "        end), test_data) = 0.9920657780309247\n"
     ]
    },
    {
     "name": "stderr",
     "output_type": "stream",
     "text": [
      "\r",
      "Progress: 100%|█████████████████████████████████████████|  ETA: 0:00:00\r",
      "Progress: 100%|█████████████████████████████████████████| Time: 0:00:45\n"
     ]
    },
    {
     "data": {
      "text/html": [
       "<img src=\"data:image/png;base64,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\" />"
      ]
     },
     "execution_count": 401,
     "metadata": {},
     "output_type": "execute_result"
    }
   ],
   "source": [
    "params = copy(start_params)\n",
    "net = Nets.Net(Nets.Params(widths, params), x_to_u, v_to_y)\n",
    "\n",
    "train_loss = sensitive_loss(0.5)\n",
    "validate_loss = train_loss\n",
    "losses = [mean(xy -> validate_loss(params, xy[1], xy[2]), train_data_scaled)]\n",
    "\n",
    "@show mean(xy -> sum(abs2, net(xy[1]) .- xy[2][:,1]), test_data)\n",
    "\n",
    "@showprogress for i in 1:nepoch\n",
    "#     train_loss = sensitive_loss(0.1)\n",
    "    Nets.adam!(train_loss, params, train_data_scaled, Nets.AdamOpts(learning_rate=0.01 * 0.99^i, batch_size=10))\n",
    "    push!(losses, mean(xy -> validate_loss(params, xy[1], xy[2]), train_data_scaled))\n",
    "end\n",
    "\n",
    "@show mean(xy -> sum(abs2, net(xy[1]) .- xy[2][:,1]), test_data)\n",
    "\n",
    "plot(losses, ylim=(0, losses[1]))"
   ]
  },
  {
   "cell_type": "code",
   "execution_count": 402,
   "metadata": {},
   "outputs": [
    {
     "data": {
      "text/plain": [
       "(::#87) (generic function with 1 method)"
      ]
     },
     "execution_count": 402,
     "metadata": {},
     "output_type": "execute_result"
    }
   ],
   "source": [
    "netcontroller = x -> clamp.(net(x), sys.params.u_min, sys.params.u_max)"
   ]
  },
  {
   "cell_type": "code",
   "execution_count": 411,
   "metadata": {},
   "outputs": [
    {
     "data": {
      "text/plain": [
       "PyMPC.Models.Pendulum{Float64}(PyObject <pympc.dynamical_systems.DTPWASystem object at 0x13517bc50>, PyMPC.Models.PendulumParams{Float64}\n",
       "  m: Float64 1.0\n",
       "  l: Float64 1.0\n",
       "  g: Float64 9.81\n",
       "  t_s: Float64 0.1\n",
       "  bin_angle: Float64 0.39269908169872414\n",
       "  x_min: Array{Float64}((2,)) [-6.28319, -31.4159]\n",
       "  x_max: Array{Float64}((2,)) [6.28319, 31.4159]\n",
       "  u_min: Array{Float64}((1,)) [-2.0]\n",
       "  u_max: Array{Float64}((1,)) [2.0]\n",
       ", PyCall.PyObject[PyObject <pympc.geometry.Polytope instance at 0x135608638>, PyObject <pympc.geometry.Polytope instance at 0x1355cf9e0>, PyObject <pympc.geometry.Polytope instance at 0x135608f38>, PyObject <pympc.geometry.Polytope instance at 0x1355d3dd0>, PyObject <pympc.geometry.Polytope instance at 0x1355d37e8>, PyObject <pympc.geometry.Polytope instance at 0x1355d3830>, PyObject <pympc.geometry.Polytope instance at 0x1355dfe60>, PyObject <pympc.geometry.Polytope instance at 0x1355dfbd8>, PyObject <pympc.geometry.Polytope instance at 0x1355df830>, PyObject <pympc.geometry.Polytope instance at 0x1355d0878>  …  PyObject <pympc.geometry.Polytope instance at 0x1355e1ef0>, PyObject <pympc.geometry.Polytope instance at 0x135601950>, PyObject <pympc.geometry.Polytope instance at 0x1356017a0>, PyObject <pympc.geometry.Polytope instance at 0x135601ef0>, PyObject <pympc.geometry.Polytope instance at 0x1355ea998>, PyObject <pympc.geometry.Polytope instance at 0x1355eac20>, PyObject <pympc.geometry.Polytope instance at 0x136813878>, PyObject <pympc.geometry.Polytope instance at 0x136813830>, PyObject <pympc.geometry.Polytope instance at 0x1368139e0>, PyObject <pympc.geometry.Polytope instance at 0x13682e8c0>], PyCall.PyObject[PyObject <pympc.geometry.Polytope instance at 0x1355cfef0>, PyObject <pympc.geometry.Polytope instance at 0x1355cfdd0>, PyObject <pympc.geometry.Polytope instance at 0x135608f80>, PyObject <pympc.geometry.Polytope instance at 0x1355d37a0>, PyObject <pympc.geometry.Polytope instance at 0x1355d3320>, PyObject <pympc.geometry.Polytope instance at 0x1355d3758>, PyObject <pympc.geometry.Polytope instance at 0x1355d3cb0>, PyObject <pympc.geometry.Polytope instance at 0x1355dfcb0>, PyObject <pympc.geometry.Polytope instance at 0x1355df3f8>, PyObject <pympc.geometry.Polytope instance at 0x1355dfb48>  …  PyObject <pympc.geometry.Polytope instance at 0x1355e1b48>, PyObject <pympc.geometry.Polytope instance at 0x135601dd0>, PyObject <pympc.geometry.Polytope instance at 0x135601b00>, PyObject <pympc.geometry.Polytope instance at 0x135601ea8>, PyObject <pympc.geometry.Polytope instance at 0x1355ea368>, PyObject <pympc.geometry.Polytope instance at 0x1355ea7e8>, PyObject <pympc.geometry.Polytope instance at 0x1355eacf8>, PyObject <pympc.geometry.Polytope instance at 0x136813098>, PyObject <pympc.geometry.Polytope instance at 0x1368136c8>, PyObject <pympc.geometry.Polytope instance at 0x136813518>])"
      ]
     },
     "execution_count": 411,
     "metadata": {},
     "output_type": "execute_result"
    }
   ],
   "source": [
    "sim_sys = sys = PyMPC.Models.Pendulum(PyMPC.Models.PendulumParams{Float64}(t_s=0.1, bin_angle=π/8, u_min=[-2]));"
   ]
  },
  {
   "cell_type": "code",
   "execution_count": 412,
   "metadata": {},
   "outputs": [
    {
     "name": "stdout",
     "output_type": "stream",
     "text": [
      "x0 = [-3.04691, 1.38462]\n"
     ]
    },
    {
     "data": {
      "text/plain": [
       "2-element Array{Float64,1}:\n",
       " -3.04691\n",
       "  1.38462"
      ]
     },
     "execution_count": 412,
     "metadata": {},
     "output_type": "execute_result"
    }
   ],
   "source": [
    "x0 = PyMPC.Models.generate_x0(sys)\n",
    "for i in 1:100\n",
    "    x0 = PyMPC.Models.generate_x0(sys)\n",
    "    if !any(isnan, controller[:feedback](colmat(x0)))\n",
    "        break\n",
    "    end\n",
    "end\n",
    "@show x0"
   ]
  },
  {
   "cell_type": "code",
   "execution_count": 414,
   "metadata": {},
   "outputs": [],
   "source": [
    "xs = PyMPC.Models.simulate(sim_sys, x0, netcontroller; N_sim=200)\n",
    "PyMPC.Models.playback(vis, sys, xs)"
   ]
  },
  {
   "cell_type": "code",
   "execution_count": 409,
   "metadata": {
    "collapsed": true
   },
   "outputs": [],
   "source": [
    "xs = PyMPC.Models.simulate(sim_sys, xs[end], netcontroller; N_sim=100)\n",
    "PyMPC.Models.playback(vis, sys, xs)"
   ]
  },
  {
   "cell_type": "code",
   "execution_count": null,
   "metadata": {
    "collapsed": true
   },
   "outputs": [],
   "source": []
  }
 ],
 "metadata": {
  "kernelspec": {
   "display_name": "Julia 0.6.0",
   "language": "julia",
   "name": "julia-0.6"
  },
  "language_info": {
   "file_extension": ".jl",
   "mimetype": "application/julia",
   "name": "julia",
   "version": "0.6.0"
  }
 },
 "nbformat": 4,
 "nbformat_minor": 2
}
