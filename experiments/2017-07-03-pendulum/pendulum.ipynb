{
 "cells": [
  {
   "cell_type": "code",
   "execution_count": 1,
   "metadata": {},
   "outputs": [
    {
     "data": {
      "text/plain": [
       "true"
      ]
     },
     "execution_count": 1,
     "metadata": {},
     "output_type": "execute_result"
    }
   ],
   "source": [
    "using MLDataPattern\n",
    "using Plots; pyplot()\n",
    "using ProgressMeter\n",
    "using JLD\n",
    "using DrakeVisualizer, GeometryTypes, CoordinateTransformations\n",
    "DrakeVisualizer.any_open_windows() || DrakeVisualizer.new_window()"
   ]
  },
  {
   "cell_type": "code",
   "execution_count": 2,
   "metadata": {},
   "outputs": [
    {
     "name": "stderr",
     "output_type": "stream",
     "text": [
      "WARNING: replacing module Nets.\n"
     ]
    }
   ],
   "source": [
    "import Nets\n",
    "reload(\"Nets\")"
   ]
  },
  {
   "cell_type": "code",
   "execution_count": 3,
   "metadata": {},
   "outputs": [
    {
     "name": "stderr",
     "output_type": "stream",
     "text": [
      "\u001b[1m\u001b[33mWARNING: \u001b[39m\u001b[22m\u001b[33mGurobi reported infeasible or unbounded. Set InfUnbdInfo=1 for more specific status.\u001b[39m\n"
     ]
    },
    {
     "name": "stdout",
     "output_type": "stream",
     "text": [
      "\u001b[1m\u001b[37mTest Summary:    | \u001b[39m\u001b[22m\u001b[1m\u001b[32mPass  \u001b[39m\u001b[22m\u001b[1m\u001b[36mTotal\u001b[39m\u001b[22m\n",
      "test sensitivity | \u001b[32m 267  \u001b[39m\u001b[36m  267\u001b[39m\n"
     ]
    },
    {
     "data": {
      "text/plain": [
       "colmat (generic function with 1 method)"
      ]
     },
     "execution_count": 3,
     "metadata": {},
     "output_type": "execute_result"
    }
   ],
   "source": [
    "include(\"../../pympc.jl\")\n",
    "colmat = PyMPC.colmat"
   ]
  },
  {
   "cell_type": "code",
   "execution_count": 4,
   "metadata": {},
   "outputs": [
    {
     "data": {
      "text/plain": [
       "PyMPC.Models.Pendulum{Float64}(PyObject <pympc.dynamical_systems.DTPWASystem object at 0x139146cd0>, PyMPC.Models.PendulumParams{Float64}\n",
       "  m: Float64 1.0\n",
       "  l: Float64 1.0\n",
       "  g: Float64 9.81\n",
       "  t_s: Float64 0.2\n",
       "  bin_angle: Float64 1.5707963267948966\n",
       "  x_min: Array{Float64}((2,)) [-6.28319, -31.4159]\n",
       "  x_max: Array{Float64}((2,)) [6.28319, 31.4159]\n",
       "  u_min: Array{Float64}((1,)) [-2.0]\n",
       "  u_max: Array{Float64}((1,)) [2.0]\n",
       ", PyCall.PyObject[PyObject <pympc.geometry.Polytope instance at 0x132cdcea8>, PyObject <pympc.geometry.Polytope instance at 0x132d4e7a0>, PyObject <pympc.geometry.Polytope instance at 0x132c11128>, PyObject <pympc.geometry.Polytope instance at 0x13319c758>, PyObject <pympc.geometry.Polytope instance at 0x13319c6c8>, PyObject <pympc.geometry.Polytope instance at 0x13906e128>, PyObject <pympc.geometry.Polytope instance at 0x13906ef38>, PyObject <pympc.geometry.Polytope instance at 0x13906e4d0>, PyObject <pympc.geometry.Polytope instance at 0x13906e0e0>], PyCall.PyObject[PyObject <pympc.geometry.Polytope instance at 0x132f21cb0>, PyObject <pympc.geometry.Polytope instance at 0x132c11050>, PyObject <pympc.geometry.Polytope instance at 0x132c3bdd0>, PyObject <pympc.geometry.Polytope instance at 0x13319c5f0>, PyObject <pympc.geometry.Polytope instance at 0x133177518>, PyObject <pympc.geometry.Polytope instance at 0x132b8a560>, PyObject <pympc.geometry.Polytope instance at 0x132c0ffc8>, PyObject <pympc.geometry.Polytope instance at 0x13906e908>, PyObject <pympc.geometry.Polytope instance at 0x13906e998>])"
      ]
     },
     "execution_count": 4,
     "metadata": {},
     "output_type": "execute_result"
    }
   ],
   "source": [
    "sys = PyMPC.Models.Pendulum(PyMPC.Models.PendulumParams{Float64}(t_s=0.2, u_min=[-2]))"
   ]
  },
  {
   "cell_type": "code",
   "execution_count": 5,
   "metadata": {},
   "outputs": [
    {
     "data": {
      "text/plain": [
       "Set{Array{Symbol,1}}()"
      ]
     },
     "execution_count": 5,
     "metadata": {},
     "output_type": "execute_result"
    }
   ],
   "source": [
    "vis = Visualizer()[:pendulum]\n",
    "setgeometry!(vis, sys)\n",
    "settransform!(vis, sys, [0, 0])"
   ]
  },
  {
   "cell_type": "code",
   "execution_count": 6,
   "metadata": {},
   "outputs": [],
   "source": [
    "# x0 = [π - π/3, 0.0]\n",
    "# xs = PyMPC.Models.simulate(sys, x0, x -> [0.0], N_sim=30);\n",
    "# PyMPC.Models.playback(vis, sys, xs);"
   ]
  },
  {
   "cell_type": "code",
   "execution_count": 7,
   "metadata": {},
   "outputs": [
    {
     "data": {
      "text/plain": [
       "PyObject <pympc.control.MPCHybridController instance at 0x13904f9e0>"
      ]
     },
     "execution_count": 7,
     "metadata": {},
     "output_type": "execute_result"
    }
   ],
   "source": [
    "controller = PyMPC.Models.controller(sys; N=20)"
   ]
  },
  {
   "cell_type": "code",
   "execution_count": 8,
   "metadata": {},
   "outputs": [
    {
     "data": {
      "text/plain": [
       "(Any[[1.97016], [2.0], [2.0], [-1.73141], [-2.0], [-2.0], [-2.0], [-2.0], [-2.0], [-2.0], [-2.0], [-2.0], [-2.0], [-2.0], [-2.0], [-2.0], [-2.0], [-1.51003], [-1.10743], [-0.850567]], Any[[3.04159; 0.0], [3.04159; 0.590231], [3.15964; 1.18643], [3.39693; 1.55102], [3.70713; 0.70378], [3.84789; -0.805804], [3.68673; -2.59155], [3.16841; -4.0611], [2.35619; -4.51373], [1.45345; -3.37278]  …  [0.416739; -0.682585], [0.280222; -0.264943], [0.227234; -0.115147], [0.204204; -0.0693143], [0.190341; -0.0686655], [0.176608; -0.0952155], [0.157565; -0.14871], [0.127823; -0.141573], [0.0995087; -0.112269], [0.0770548; -0.0871468]], 1658.6121946808844, (6, 6, 6, 6, 6, 6, 6, 6, 6, 5, 4, 4, 4, 4, 4, 4, 4, 4, 4, 4))"
      ]
     },
     "execution_count": 8,
     "metadata": {},
     "output_type": "execute_result"
    }
   ],
   "source": [
    "x0 = [π - 0.1, 0.0]\n",
    "result = controller[:feedforward](colmat(x0))"
   ]
  },
  {
   "cell_type": "code",
   "execution_count": 9,
   "metadata": {},
   "outputs": [],
   "source": [
    "PyMPC.Models.playback(vis, sys, vec.(result[2]));"
   ]
  },
  {
   "cell_type": "code",
   "execution_count": 10,
   "metadata": {},
   "outputs": [],
   "source": [
    "# x0 = [π - 0.1, 0.0]\n",
    "# xs = PyMPC.Models.simulate(sys, x0, controller, N_sim=50);\n",
    "\n",
    "# PyMPC.Models.playback(vis, sys, xs);"
   ]
  },
  {
   "cell_type": "code",
   "execution_count": 11,
   "metadata": {},
   "outputs": [],
   "source": [
    "# num_samples = 100\n",
    "# data = Vector{Tuple{Vector{Float64}, Matrix{Float64}}}()\n",
    "\n",
    "# @showprogress for i in 1:num_samples\n",
    "#     while true\n",
    "#         x0 = PyMPC.Models.generate_x0(sys)\n",
    "#         u, J, x_traj = PyMPC.run_mpc(controller, x0)\n",
    "#         if !isnan(u[1])\n",
    "#             PyMPC.Models.playback(vis, sys, vec.(x_traj))\n",
    "#             push!(data, (x0, hcat(u, J[1:length(u), :])))\n",
    "#             for x in x_traj\n",
    "#                 u, J, _ = PyMPC.run_mpc(controller, vec(x))\n",
    "#                 if !isnan(u[1])\n",
    "#                     push!(data, (vec(x), hcat(u, J[1:length(u), :])))\n",
    "#                 end\n",
    "#             end\n",
    "#             break\n",
    "#         end\n",
    "#     end\n",
    "# end\n",
    "\n",
    "# save(\"pendulum_100_traj.jld\", \"data\", data)"
   ]
  },
  {
   "cell_type": "code",
   "execution_count": 12,
   "metadata": {},
   "outputs": [
    {
     "data": {
      "text/plain": [
       "AffineMap([0.333333], [0.0])"
      ]
     },
     "execution_count": 12,
     "metadata": {},
     "output_type": "execute_result"
    }
   ],
   "source": [
    "data = load(\"pendulum_100_traj.jld\")[\"data\"]\n",
    "train_data, test_data = splitobs(shuffleobs(data), 0.5)\n",
    "\n",
    "train_data_scaled, x_to_u, v_to_y = Nets.rescale(train_data)\n",
    "u_to_x = inv(x_to_u)\n",
    "y_to_v = inv(v_to_y)"
   ]
  },
  {
   "cell_type": "code",
   "execution_count": 13,
   "metadata": {},
   "outputs": [
    {
     "data": {
      "text/plain": [
       "sensitive_loss (generic function with 1 method)"
      ]
     },
     "execution_count": 13,
     "metadata": {},
     "output_type": "execute_result"
    }
   ],
   "source": [
    "widths = [2, 16, 16, 16, 1]\n",
    "\n",
    "function sensitive_loss(λ)\n",
    "    q = fill(λ, widths[1])\n",
    "    q[1] = 1.0 - λ\n",
    "    (params, x, y) -> sum(abs2, q .* (Nets.predict_sensitivity(Nets.Net(Nets.Params(widths, params)), x) .- y))\n",
    "end"
   ]
  },
  {
   "cell_type": "code",
   "execution_count": 14,
   "metadata": {
    "collapsed": true
   },
   "outputs": [],
   "source": [
    "start_params = 0.1 * randn(Nets.Params{Float64}, widths).data\n",
    "nepoch = 200;"
   ]
  },
  {
   "cell_type": "code",
   "execution_count": 34,
   "metadata": {},
   "outputs": [
    {
     "name": "stdout",
     "output_type": "stream",
     "text": [
      "mean((xy->begin  # In[34], line 8:\n",
      "            sum(abs2, net(xy[1]) .- (xy[2])[:, 1])\n",
      "        end), test_data) = 6.01358930575874\n"
     ]
    },
    {
     "name": "stderr",
     "output_type": "stream",
     "text": [
      "Progress:  99%|█████████████████████████████████████████|  ETA: 0:00:00"
     ]
    },
    {
     "name": "stdout",
     "output_type": "stream",
     "text": [
      "mean((xy->begin  # In[34], line 16:\n",
      "            sum(abs2, net(xy[1]) .- (xy[2])[:, 1])\n",
      "        end), test_data) = 0.7142418826006318\n"
     ]
    },
    {
     "name": "stderr",
     "output_type": "stream",
     "text": [
      "\r",
      "Progress: 100%|█████████████████████████████████████████|  ETA: 0:00:00\r",
      "Progress: 100%|█████████████████████████████████████████| Time: 0:00:43\n"
     ]
    },
    {
     "data": {
      "text/html": [
       "<img src=\"data:image/png;base64,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\" />"
      ]
     },
     "execution_count": 34,
     "metadata": {},
     "output_type": "execute_result"
    }
   ],
   "source": [
    "params = copy(start_params)\n",
    "net = Nets.Net(Nets.Params(widths, params), x_to_u, v_to_y)\n",
    "\n",
    "train_loss = sensitive_loss(0.5)\n",
    "validate_loss = train_loss\n",
    "losses = [mean(xy -> validate_loss(params, xy[1], xy[2]), train_data_scaled)]\n",
    "\n",
    "@show mean(xy -> sum(abs2, net(xy[1]) .- xy[2][:,1]), test_data)\n",
    "\n",
    "@showprogress for i in 1:nepoch\n",
    "#     train_loss = sensitive_loss(0.1)\n",
    "    Nets.adam!(train_loss, params, train_data_scaled, Nets.AdamOpts(learning_rate=0.01 * 0.99^i, batch_size=10))\n",
    "    push!(losses, mean(xy -> validate_loss(params, xy[1], xy[2]), train_data_scaled))\n",
    "end\n",
    "\n",
    "@show mean(xy -> sum(abs2, net(xy[1]) .- xy[2][:,1]), test_data)\n",
    "\n",
    "plot(losses, ylim=(0, losses[1]))"
   ]
  },
  {
   "cell_type": "code",
   "execution_count": 35,
   "metadata": {},
   "outputs": [
    {
     "data": {
      "text/plain": [
       "(::#33) (generic function with 1 method)"
      ]
     },
     "execution_count": 35,
     "metadata": {},
     "output_type": "execute_result"
    }
   ],
   "source": [
    "netcontroller = x -> clamp.(net(x), sys.params.u_min, sys.params.u_max)"
   ]
  },
  {
   "cell_type": "code",
   "execution_count": 36,
   "metadata": {},
   "outputs": [],
   "source": [
    "sim_sys = sys = PyMPC.Models.Pendulum(PyMPC.Models.PendulumParams{Float64}(t_s=0.1, bin_angle=π/8, u_min=[-2]));"
   ]
  },
  {
   "cell_type": "code",
   "execution_count": 42,
   "metadata": {},
   "outputs": [
    {
     "name": "stdout",
     "output_type": "stream",
     "text": [
      "x0 = [2.75322, 2.55413]\n"
     ]
    },
    {
     "data": {
      "text/plain": [
       "2-element Array{Float64,1}:\n",
       " 2.75322\n",
       " 2.55413"
      ]
     },
     "execution_count": 42,
     "metadata": {},
     "output_type": "execute_result"
    }
   ],
   "source": [
    "x0 = PyMPC.Models.generate_x0(sys)\n",
    "for i in 1:100\n",
    "    x0 = PyMPC.Models.generate_x0(sys)\n",
    "    if !any(isnan, controller[:feedback](colmat(x0)))\n",
    "        break\n",
    "    end\n",
    "end\n",
    "@show x0"
   ]
  },
  {
   "cell_type": "code",
   "execution_count": 43,
   "metadata": {},
   "outputs": [],
   "source": [
    "xs = PyMPC.Models.simulate(sim_sys, x0, netcontroller; N_sim=100)\n",
    "PyMPC.Models.playback(vis, sys, xs)"
   ]
  },
  {
   "cell_type": "code",
   "execution_count": 44,
   "metadata": {
    "collapsed": true
   },
   "outputs": [],
   "source": [
    "xs = vcat(xs, PyMPC.Models.simulate(sim_sys, xs[end], netcontroller; N_sim=100))\n",
    "PyMPC.Models.playback(vis, sys, xs)"
   ]
  },
  {
   "cell_type": "code",
   "execution_count": null,
   "metadata": {
    "collapsed": true
   },
   "outputs": [],
   "source": []
  }
 ],
 "metadata": {
  "kernelspec": {
   "display_name": "Julia 0.6.0",
   "language": "julia",
   "name": "julia-0.6"
  },
  "language_info": {
   "file_extension": ".jl",
   "mimetype": "application/julia",
   "name": "julia",
   "version": "0.6.0"
  }
 },
 "nbformat": 4,
 "nbformat_minor": 2
}
