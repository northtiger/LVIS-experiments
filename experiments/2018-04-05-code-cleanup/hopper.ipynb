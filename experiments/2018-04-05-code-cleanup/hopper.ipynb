{
 "cells": [
  {
   "cell_type": "code",
   "execution_count": null,
   "metadata": {},
   "outputs": [],
   "source": [
    "using Revise"
   ]
  },
  {
   "cell_type": "code",
   "execution_count": null,
   "metadata": {},
   "outputs": [],
   "source": [
    "using MeshCat\n",
    "using MeshCatMechanisms\n",
    "using RigidBodyDynamics\n",
    "using Hoppers\n",
    "using Gurobi\n",
    "using LCPSim"
   ]
  },
  {
   "cell_type": "code",
   "execution_count": null,
   "metadata": {},
   "outputs": [],
   "source": [
    "vis = Visualizer()\n",
    "IJuliaCell(vis)"
   ]
  },
  {
   "cell_type": "code",
   "execution_count": null,
   "metadata": {},
   "outputs": [],
   "source": [
    "mechanism = parse_urdf(Float64, Hoppers.urdf)\n",
    "env = LCPSim.parse_contacts(mechanism, Hoppers.urdf, 1.0, :xz)\n",
    "robot = Hoppers.Hopper(mechanism, env)\n",
    "mvis = MechanismVisualizer(robot.mechanism, URDFVisuals(Hoppers.urdf), vis);"
   ]
  },
  {
   "cell_type": "code",
   "execution_count": null,
   "metadata": {},
   "outputs": [],
   "source": [
    "x0 = Hoppers.nominal_state(robot)\n",
    "results = LCPSim.simulate(x0, x -> 20 + zeros(num_velocities(x)), robot.environment, 0.01, 200, GurobiSolver(Gurobi.Env(), OutputFlag=0));"
   ]
  },
  {
   "cell_type": "code",
   "execution_count": null,
   "metadata": {},
   "outputs": [],
   "source": [
    "for r in results\n",
    "    set_configuration!(mvis, configuration(r.state))\n",
    "    sleep(0.01)\n",
    "end"
   ]
  },
  {
   "cell_type": "code",
   "execution_count": null,
   "metadata": {},
   "outputs": [],
   "source": []
  }
 ],
 "metadata": {
  "kernelspec": {
   "display_name": "Julia 0.6.2",
   "language": "julia",
   "name": "julia-0.6"
  },
  "language_info": {
   "file_extension": ".jl",
   "mimetype": "application/julia",
   "name": "julia",
   "version": "0.6.2"
  }
 },
 "nbformat": 4,
 "nbformat_minor": 2
}
