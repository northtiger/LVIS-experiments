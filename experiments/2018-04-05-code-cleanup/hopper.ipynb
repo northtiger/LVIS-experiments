{
 "cells": [
  {
   "cell_type": "code",
   "execution_count": 1,
   "metadata": {},
   "outputs": [
    {
     "name": "stderr",
     "output_type": "stream",
     "text": [
      "\u001b[1m\u001b[36mINFO: \u001b[39m\u001b[22m\u001b[36mRecompiling stale cache file /home/rdeits/locomotion/explorations/learning-mpc-2/packages/lib/v0.6/Revise.ji for module Revise.\n",
      "\u001b[39m"
     ]
    }
   ],
   "source": [
    "using Revise"
   ]
  },
  {
   "cell_type": "code",
   "execution_count": 17,
   "metadata": {},
   "outputs": [
    {
     "name": "stderr",
     "output_type": "stream",
     "text": [
      "\u001b[1m\u001b[36mINFO: \u001b[39m\u001b[22m\u001b[36mRecompiling stale cache file /home/rdeits/locomotion/explorations/learning-mpc-2/packages/lib/v0.6/MechanismGeometries.ji for module MechanismGeometries.\n",
      "\u001b[39mWARNING: replacing module MechanismGeometries.\n"
     ]
    }
   ],
   "source": [
    "reload(\"MechanismGeometries\")"
   ]
  },
  {
   "cell_type": "code",
   "execution_count": 14,
   "metadata": {},
   "outputs": [],
   "source": [
    "using MeshCat\n",
    "using MeshCatMechanisms\n",
    "using RigidBodyDynamics\n",
    "using Hoppers"
   ]
  },
  {
   "cell_type": "code",
   "execution_count": 4,
   "metadata": {},
   "outputs": [
    {
     "name": "stdout",
     "output_type": "stream",
     "text": [
      "Listening on 127.0.0.1:7002...\n",
      "zmq_url=tcp://127.0.0.1:6002\n",
      "web_url=http://127.0.0.1:7002/static/\n"
     ]
    },
    {
     "data": {
      "text/html": [
       "    <div style=\"height: 500px; width: 500px; overflow-x: auto; overflow-y: hidden; resize: both\">\n",
       "    <iframe src=\"http://127.0.0.1:7002/static/\" style=\"width: 100%; height: 100%; border: none\"></iframe>\n",
       "    </div>\n"
      ],
      "text/plain": [
       "MeshCat.IJuliaCell(MeshCat.ViewerWindow(ZMQ.Context(Ptr{Void} @0x00000000053b0e60, ZMQ.Socket[ZMQ.Socket(Ptr{Void} @0x00000000053a3370, Base.Filesystem._FDWatcher(Ptr{Void} @0x0000000004163ec0, 65, (1, 0), Condition(Any[]), (false, false), 0))]), ZMQ.Socket(Ptr{Void} @0x00000000053a3370, Base.Filesystem._FDWatcher(Ptr{Void} @0x0000000004163ec0, 65, (1, 0), Condition(Any[]), (false, false), 0)), \"http://127.0.0.1:7002/static/\", \"tcp://127.0.0.1:6002\", MeshCat.ZMQServer.ZMQWebSocketBridge(ip\"127.0.0.1\", Set{WebSockets.WebSocket}(), MeshCat.SceneTrees.SceneNode(Nullable{Array{UInt8,1}}(), Nullable{Array{UInt8,1}}(), Dict{String,MeshCat.SceneTrees.SceneNode}()), 7002, HttpServer.Server(HttpServer.HttpHandler(MeshCat.ZMQServer.handle_file_request, Base.TCPServer(RawFD(44) active), Dict{String,Function}(Pair{String,Function}(\"error\", HttpServer.#1),Pair{String,Function}(\"listen\", HttpServer.#3))), WebSockets.WebSocketHandler(MeshCat.ZMQServer.#5)), ZMQ.Context(Ptr{Void} @0x00000000050fc4b0, ZMQ.Socket[ZMQ.Socket(Ptr{Void} @0x0000000005216360, Base.Filesystem._FDWatcher(Ptr{Void} @0x00000000043cf430, 56, (1, 0), Condition(Any[]), (false, false), 0)), ZMQ.Socket(Ptr{Void} @0x00000000043d7f00, Base.Filesystem._FDWatcher(Ptr{Void} @0x0000000003ee5cb0, 57, (1, 0), Condition(Any[]), (false, false), 0)), ZMQ.Socket(Ptr{Void} @0x00000000043a2230, Base.Filesystem._FDWatcher(Ptr{Void} @0x00000000040f6750, 58, (1, 0), Condition(Any[Task (runnable) @0x00007f041bb3af50]), (true, false), 0))]), ZMQ.Socket(Ptr{Void} @0x00000000043a2230, Base.Filesystem._FDWatcher(Ptr{Void} @0x00000000040f6750, 58, (1, 0), Condition(Any[Task (runnable) @0x00007f041bb3af50]), (true, false), 0)), \"tcp://127.0.0.1:6002\")), false)"
      ]
     },
     "execution_count": 4,
     "metadata": {},
     "output_type": "execute_result"
    }
   ],
   "source": [
    "vis = Visualizer()\n",
    "IJuliaCell(vis)"
   ]
  },
  {
   "cell_type": "code",
   "execution_count": null,
   "metadata": {},
   "outputs": [],
   "source": [
    "function parse_contacts(state, urdf)\n",
    "    elements = MechanismGeometries.visual_elements(state.mechanism, URDFVisuals(urdf; tag=\"collision\"))\n",
    "    points = filter(e -> e.geometry isa HyperSphere, elements)\n",
    "    boxes = filter(e -> e.geometry isa HyperRectangle || e.geometry isa HyperCube, elements)\n",
    "    "
   ]
  },
  {
   "cell_type": "code",
   "execution_count": 15,
   "metadata": {},
   "outputs": [],
   "source": [
    "robot = Hoppers.Hopper();\n",
    "mv1 = MechanismVisualizer(robot.mechanism, URDFVisuals(Hoppers.urdf), vis[:visual])\n",
    "mv2 = MechanismVisualizer(robot.mechanism, URDFVisuals(Hoppers.urdf; tag=\"collision\"), vis[:collision])\n",
    "x = Hoppers.nominal_state(robot)\n",
    "set_configuration!(mv1, configuration(x))\n",
    "set_configuration!(mv2, configuration(x))"
   ]
  },
  {
   "cell_type": "code",
   "execution_count": 16,
   "metadata": {},
   "outputs": [
    {
     "name": "stderr",
     "output_type": "stream",
     "text": [
      "WARNING: Method definition parse_geometries(LightXML.XMLElement, Any) in module URDF at /home/rdeits/locomotion/explorations/learning-mpc-2/packages/v0.6/MechanismGeometries/src/urdf.jl:17 overwritten at /home/rdeits/locomotion/explorations/learning-mpc-2/packages/v0.6/MechanismGeometries/src/urdf.jl:17.\n",
      "WARNING: Method definition parse_geometries(LightXML.XMLElement, Any, Any) in module URDF at /home/rdeits/locomotion/explorations/learning-mpc-2/packages/v0.6/MechanismGeometries/src/urdf.jl:17 overwritten at /home/rdeits/locomotion/explorations/learning-mpc-2/packages/v0.6/MechanismGeometries/src/urdf.jl:17.\n"
     ]
    },
    {
     "ename": "LoadError",
     "evalue": "\u001b[91mUndefVarError: HyperPlane not defined\u001b[39m",
     "output_type": "error",
     "traceback": [
      "\u001b[91mUndefVarError: HyperPlane not defined\u001b[39m",
      "",
      "Stacktrace:",
      " [1] \u001b[1mparse_geometries\u001b[22m\u001b[22m\u001b[1m(\u001b[22m\u001b[22m::LightXML.XMLElement, ::Array{String,1}, ::String\u001b[1m)\u001b[22m\u001b[22m at \u001b[1m/home/rdeits/locomotion/explorations/learning-mpc-2/packages/v0.6/MechanismGeometries/src/urdf.jl:34\u001b[22m\u001b[22m",
      " [2] \u001b[1m(::MechanismGeometries.URDF.##1#3{Dict{String,ColorTypes.RGBA{Float32}},Array{String,1},String,String})\u001b[22m\u001b[22m\u001b[1m(\u001b[22m\u001b[22m::LightXML.XMLElement\u001b[1m)\u001b[22m\u001b[22m at \u001b[1m/home/rdeits/locomotion/explorations/learning-mpc-2/packages/v0.6/MechanismGeometries/src/urdf.jl:98\u001b[22m\u001b[22m",
      " [3] \u001b[1mcollect_to!\u001b[22m\u001b[22m\u001b[1m(\u001b[22m\u001b[22m::Array{Array{Tuple{GeometryTypes.HyperRectangle{3,Float32},ColorTypes.RGBA{Float32},CoordinateTransformations.AffineMap{Rotations.RotMatrix{3,Float64,9},StaticArrays.SArray{Tuple{3},Float64,1,3}}},1},1}, ::Base.Generator{Array{LightXML.XMLElement,1},MechanismGeometries.URDF.##1#3{Dict{String,ColorTypes.RGBA{Float32}},Array{String,1},String,String}}, ::Int64, ::Int64\u001b[1m)\u001b[22m\u001b[22m at \u001b[1m./array.jl:508\u001b[22m\u001b[22m",
      " [4] \u001b[1mcollect_to_with_first!\u001b[22m\u001b[22m\u001b[1m(\u001b[22m\u001b[22m::Array{Array{Tuple{GeometryTypes.HyperRectangle{3,Float32},ColorTypes.RGBA{Float32},CoordinateTransformations.AffineMap{Rotations.RotMatrix{3,Float64,9},StaticArrays.SArray{Tuple{3},Float64,1,3}}},1},1}, ::Array{Tuple{GeometryTypes.HyperRectangle{3,Float32},ColorTypes.RGBA{Float32},CoordinateTransformations.AffineMap{Rotations.RotMatrix{3,Float64,9},StaticArrays.SArray{Tuple{3},Float64,1,3}}},1}, ::Base.Generator{Array{LightXML.XMLElement,1},MechanismGeometries.URDF.##1#3{Dict{String,ColorTypes.RGBA{Float32}},Array{String,1},String,String}}, ::Int64\u001b[1m)\u001b[22m\u001b[22m at \u001b[1m./array.jl:495\u001b[22m\u001b[22m",
      " [5] \u001b[1m_collect\u001b[22m\u001b[22m\u001b[1m(\u001b[22m\u001b[22m::Array{LightXML.XMLElement,1}, ::Base.Generator{Array{LightXML.XMLElement,1},MechanismGeometries.URDF.##1#3{Dict{String,ColorTypes.RGBA{Float32}},Array{String,1},String,String}}, ::Base.EltypeUnknown, ::Base.HasShape\u001b[1m)\u001b[22m\u001b[22m at \u001b[1m./array.jl:489\u001b[22m\u001b[22m",
      " [6] \u001b[1mparse_link!\u001b[22m\u001b[22m at \u001b[1m/home/rdeits/locomotion/explorations/learning-mpc-2/packages/v0.6/MechanismGeometries/src/urdf.jl:93\u001b[22m\u001b[22m [inlined]",
      " [7] \u001b[1mvisual_elements\u001b[22m\u001b[22m\u001b[1m(\u001b[22m\u001b[22m::RigidBodyDynamics.Mechanism{Float64}, ::MechanismGeometries.URDF.URDFVisuals\u001b[1m)\u001b[22m\u001b[22m at \u001b[1m/home/rdeits/locomotion/explorations/learning-mpc-2/packages/v0.6/MechanismGeometries/src/urdf.jl:167\u001b[22m\u001b[22m",
      " [8] \u001b[1minclude_string\u001b[22m\u001b[22m\u001b[1m(\u001b[22m\u001b[22m::String, ::String\u001b[1m)\u001b[22m\u001b[22m at \u001b[1m./loading.jl:522\u001b[22m\u001b[22m"
     ]
    }
   ],
   "source": [
    "g = MechanismGeometries.visual_elements(robot.mechanism, URDFVisuals(Hoppers.urdf; tag=\"collision\"))[2].geometry"
   ]
  },
  {
   "cell_type": "code",
   "execution_count": 11,
   "metadata": {},
   "outputs": [
    {
     "data": {
      "text/plain": [
       "0.0f0"
      ]
     },
     "execution_count": 11,
     "metadata": {},
     "output_type": "execute_result"
    }
   ],
   "source": [
    "g.r"
   ]
  },
  {
   "cell_type": "code",
   "execution_count": null,
   "metadata": {},
   "outputs": [],
   "source": []
  }
 ],
 "metadata": {
  "kernelspec": {
   "display_name": "Julia 0.6.2",
   "language": "julia",
   "name": "julia-0.6"
  },
  "language_info": {
   "file_extension": ".jl",
   "mimetype": "application/julia",
   "name": "julia",
   "version": "0.6.2"
  }
 },
 "nbformat": 4,
 "nbformat_minor": 2
}
