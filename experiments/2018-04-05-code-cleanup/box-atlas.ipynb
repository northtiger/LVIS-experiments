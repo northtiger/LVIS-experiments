{
 "cells": [
  {
   "cell_type": "code",
   "execution_count": 1,
   "metadata": {},
   "outputs": [],
   "source": [
    "using Revise"
   ]
  },
  {
   "cell_type": "code",
   "execution_count": 2,
   "metadata": {},
   "outputs": [],
   "source": [
    "using MeshCat\n",
    "using MeshCatMechanisms\n",
    "using RigidBodyDynamics\n",
    "using Gurobi\n",
    "using LCPSim"
   ]
  },
  {
   "cell_type": "code",
   "execution_count": 3,
   "metadata": {},
   "outputs": [
    {
     "name": "stdout",
     "output_type": "stream",
     "text": [
      "Listening on 127.0.0.1:7005...\n",
      "zmq_url=tcp://127.0.0.1:6005\n",
      "web_url=http://127.0.0.1:7005/static/\n"
     ]
    },
    {
     "data": {
      "text/html": [
       "    <div style=\"height: 500px; width: 500px; overflow-x: auto; overflow-y: hidden; resize: both\">\n",
       "    <iframe src=\"http://127.0.0.1:7005/static/\" style=\"width: 100%; height: 100%; border: none\"></iframe>\n",
       "    </div>\n"
      ],
      "text/plain": [
       "MeshCat.IJuliaCell(MeshCat.ViewerWindow(ZMQ.Context(Ptr{Void} @0x0000000005bffc40, ZMQ.Socket[ZMQ.Socket(Ptr{Void} @0x0000000005c063c0, Base.Filesystem._FDWatcher(Ptr{Void} @0x00000000054c9fc0, 68, (1, 0), Condition(Any[]), (false, false), 0))]), ZMQ.Socket(Ptr{Void} @0x0000000005c063c0, Base.Filesystem._FDWatcher(Ptr{Void} @0x00000000054c9fc0, 68, (1, 0), Condition(Any[]), (false, false), 0)), \"http://127.0.0.1:7005/static/\", \"tcp://127.0.0.1:6005\", MeshCat.ZMQServer.ZMQWebSocketBridge(ip\"127.0.0.1\", Set{WebSockets.WebSocket}(), MeshCat.SceneTrees.SceneNode(Nullable{Array{UInt8,1}}(), Nullable{Array{UInt8,1}}(), Dict{String,MeshCat.SceneTrees.SceneNode}()), 7005, HttpServer.Server(HttpServer.HttpHandler(MeshCat.ZMQServer.handle_file_request, Base.TCPServer(RawFD(49) active), Dict{String,Function}(Pair{String,Function}(\"error\", HttpServer.#1),Pair{String,Function}(\"listen\", HttpServer.#3))), WebSockets.WebSocketHandler(MeshCat.ZMQServer.#5)), ZMQ.Context(Ptr{Void} @0x00000000054c1080, ZMQ.Socket[ZMQ.Socket(Ptr{Void} @0x0000000005c0b290, Base.Filesystem._FDWatcher(Ptr{Void} @0x0000000005a7e780, 56, (1, 0), Condition(Any[]), (false, false), 0)), ZMQ.Socket(Ptr{Void} @0x0000000005b0e110, Base.Filesystem._FDWatcher(Ptr{Void} @0x00000000054cc520, 57, (1, 0), Condition(Any[]), (false, false), 0)), ZMQ.Socket(Ptr{Void} @0x00000000058c8bd0, Base.Filesystem._FDWatcher(Ptr{Void} @0x0000000005bcc2c0, 58, (1, 0), Condition(Any[]), (false, false), 0)), ZMQ.Socket(Ptr{Void} @0x0000000005bda890, Base.Filesystem._FDWatcher(Ptr{Void} @0x00000000054a1a60, 59, (1, 0), Condition(Any[]), (false, false), 0)), ZMQ.Socket(Ptr{Void} @0x0000000005bcee70, Base.Filesystem._FDWatcher(Ptr{Void} @0x0000000005a680b0, 60, (1, 0), Condition(Any[]), (false, false), 0)), ZMQ.Socket(Ptr{Void} @0x0000000005bcc430, Base.Filesystem._FDWatcher(Ptr{Void} @0x0000000005bc9e40, 61, (1, 0), Condition(Any[Task (runnable) @0x00007fb387d9df90]), (true, false), 0))]), ZMQ.Socket(Ptr{Void} @0x0000000005bcc430, Base.Filesystem._FDWatcher(Ptr{Void} @0x0000000005bc9e40, 61, (1, 0), Condition(Any[Task (runnable) @0x00007fb387d9df90]), (true, false), 0)), \"tcp://127.0.0.1:6005\")), false)"
      ]
     },
     "execution_count": 3,
     "metadata": {},
     "output_type": "execute_result"
    }
   ],
   "source": [
    "vis = Visualizer()\n",
    "IJuliaCell(vis)"
   ]
  },
  {
   "cell_type": "code",
   "execution_count": 30,
   "metadata": {},
   "outputs": [],
   "source": [
    "urdf = \"box_atlas.urdf\"\n",
    "mechanism = parse_urdf(Float64, urdf)\n",
    "floating_base = findjoint(mechanism, \"floating_base\")\n",
    "floating_base.position_bounds .= RigidBodyDynamics.Bounds(-10, 10)\n",
    "floating_base.velocity_bounds .= RigidBodyDynamics.Bounds(-1000, 1000)\n",
    "floating_base.effort_bounds .= RigidBodyDynamics.Bounds(0, 0)\n",
    "env = LCPSim.parse_contacts(mechanism, urdf, 1.0, :xz)\n",
    "rh = findbody(mechanism, \"rh\")\n",
    "lh = findbody(mechanism, \"lh\")\n",
    "rf = findbody(mechanism, \"rf\")\n",
    "lf = findbody(mechanism, \"lf\")\n",
    "floor = findbody(mechanism, \"floor\")\n",
    "wall = findbody(mechanism, \"wall\")\n",
    "LCPSim.filter_contacts!(env, mechanism, Dict([rh => [], lh => [wall], rf => [floor], lf => [floor, wall]]))\n",
    "mvis = MechanismVisualizer(mechanism, URDFVisuals(urdf), vis);"
   ]
  },
  {
   "cell_type": "code",
   "execution_count": 31,
   "metadata": {},
   "outputs": [],
   "source": [
    "xstar = MechanismState{Float64}(mechanism)\n",
    "set_configuration!(xstar, findjoint(mechanism, \"floating_base\"), [0, 1.05, 0])\n",
    "set_configuration!(xstar, findjoint(mechanism, \"core_to_lf_extension\"), [0.8])\n",
    "set_configuration!(xstar, findjoint(mechanism, \"core_to_rf_extension\"), [0.8])\n",
    "set_configuration!(xstar, findjoint(mechanism, \"core_to_lh_extension\"), [0.5])\n",
    "set_configuration!(xstar, findjoint(mechanism, \"core_to_rh_extension\"), [0.5])\n",
    "set_configuration!(mvis, configuration(xstar))"
   ]
  },
  {
   "cell_type": "code",
   "execution_count": 42,
   "metadata": {},
   "outputs": [
    {
     "name": "stdout",
     "output_type": "stream",
     "text": [
      "Academic license - for non-commercial use only\n"
     ]
    }
   ],
   "source": [
    "x0 = MechanismState(mechanism)\n",
    "set_configuration!(x0, configuration(xstar))\n",
    "set_velocity!(x0, randn(num_velocities(x0)) - 1)\n",
    "results = LCPSim.simulate(x0, x -> zeros(num_velocities(x)), env, 0.05, 30, GurobiSolver(Gurobi.Env(), OutputFlag=0));"
   ]
  },
  {
   "cell_type": "code",
   "execution_count": 43,
   "metadata": {},
   "outputs": [],
   "source": [
    "for r in results\n",
    "    set_configuration!(mvis, configuration(r.state))\n",
    "    sleep(0.05)\n",
    "end"
   ]
  },
  {
   "cell_type": "code",
   "execution_count": null,
   "metadata": {},
   "outputs": [],
   "source": []
  }
 ],
 "metadata": {
  "kernelspec": {
   "display_name": "Julia 0.6.2",
   "language": "julia",
   "name": "julia-0.6"
  },
  "language_info": {
   "file_extension": ".jl",
   "mimetype": "application/julia",
   "name": "julia",
   "version": "0.6.2"
  }
 },
 "nbformat": 4,
 "nbformat_minor": 2
}
