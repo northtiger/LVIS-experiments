{
 "cells": [
  {
   "cell_type": "code",
   "execution_count": 72,
   "metadata": {
    "collapsed": true
   },
   "outputs": [],
   "source": [
    "using Revise"
   ]
  },
  {
   "cell_type": "code",
   "execution_count": 2,
   "metadata": {},
   "outputs": [
    {
     "data": {
      "text/plain": [
       "Plots.GRBackend()"
      ]
     },
     "execution_count": 2,
     "metadata": {},
     "output_type": "execute_result"
    }
   ],
   "source": [
    "using Flux\n",
    "using JLD2\n",
    "using FileIO\n",
    "using MLDataPattern\n",
    "using ProgressMeter\n",
    "using Plots; gr()"
   ]
  },
  {
   "cell_type": "code",
   "execution_count": 3,
   "metadata": {
    "collapsed": true
   },
   "outputs": [],
   "source": [
    "import FluxExtensions\n",
    "import LearningMPC\n",
    "import LCPSim\n",
    "import LCPSim\n",
    "import Hoppers\n",
    "using RigidBodyDynamics\n",
    "using Gurobi\n",
    "using MeshCatMechanisms, MeshCat"
   ]
  },
  {
   "cell_type": "code",
   "execution_count": 4,
   "metadata": {
    "collapsed": true
   },
   "outputs": [],
   "source": [
    "samples = load(\"../2018-02-07-hopper-smaller-grid/grid_search.jld2\")[\"samples\"];"
   ]
  },
  {
   "cell_type": "code",
   "execution_count": 35,
   "metadata": {},
   "outputs": [
    {
     "data": {
      "text/plain": [
       "59931"
      ]
     },
     "execution_count": 35,
     "metadata": {},
     "output_type": "execute_result"
    }
   ],
   "source": [
    "filter!(samples) do sample\n",
    "    sample.state[2] <= sample.state[1] && !any(isnan, sample.uJ)\n",
    "end;\n",
    "length(samples)"
   ]
  },
  {
   "cell_type": "code",
   "execution_count": 36,
   "metadata": {},
   "outputs": [
    {
     "data": {
      "text/plain": [
       "features (generic function with 1 method)"
      ]
     },
     "execution_count": 36,
     "metadata": {},
     "output_type": "execute_result"
    }
   ],
   "source": [
    "features(sample::LearningMPC.Sample) = (sample.state, sample.mip.objective_bound, sample.mip.objective_value)"
   ]
  },
  {
   "cell_type": "code",
   "execution_count": 37,
   "metadata": {},
   "outputs": [],
   "source": [
    "data = features.(samples);\n",
    "train_data, test_data = splitobs(shuffleobs(data), at=0.85);"
   ]
  },
  {
   "cell_type": "code",
   "execution_count": 55,
   "metadata": {},
   "outputs": [
    {
     "data": {
      "text/plain": [
       "(Chain(Dense(4, 32, NNlib.elu), Dense(32, 32, NNlib.elu), Dense(32, 1)), #47)"
      ]
     },
     "execution_count": 55,
     "metadata": {},
     "output_type": "execute_result"
    }
   ],
   "source": [
    "function setup_model()\n",
    "    model = Chain(\n",
    "        Dense(4, 32, elu),\n",
    "        Dense(32, 32, elu),\n",
    "        Dense(32, 1),\n",
    "        )\n",
    "\n",
    "    loss = (x, lb, ub) -> begin\n",
    "        y = model(x)\n",
    "        sum(ifelse.(y .< lb, lb .- y, ifelse.(y .> ub, y .- ub, 0 .* y)))\n",
    "    end\n",
    "    model, loss\n",
    "end\n",
    "\n",
    "model, loss = setup_model()"
   ]
  },
  {
   "cell_type": "code",
   "execution_count": 56,
   "metadata": {},
   "outputs": [
    {
     "data": {
      "text/plain": [
       "Tracked 1-element Array{Float64,1}:\n",
       " 0.457366"
      ]
     },
     "execution_count": 56,
     "metadata": {},
     "output_type": "execute_result"
    }
   ],
   "source": [
    "model(train_data[1][1])"
   ]
  },
  {
   "cell_type": "code",
   "execution_count": 57,
   "metadata": {},
   "outputs": [
    {
     "data": {
      "text/plain": [
       "(::#71) (generic function with 1 method)"
      ]
     },
     "execution_count": 57,
     "metadata": {},
     "output_type": "execute_result"
    }
   ],
   "source": [
    "opt = Flux.ADADelta(params(model))"
   ]
  },
  {
   "cell_type": "code",
   "execution_count": 58,
   "metadata": {},
   "outputs": [
    {
     "name": "stderr",
     "output_type": "stream",
     "text": [
      "\u001b[32mProgress: 100%|█████████████████████████████████████████| Time: 0:37:55\u001b[39m\n"
     ]
    }
   ],
   "source": [
    "losses = Tuple{Float64, Float64}[]\n",
    "push!(losses, \n",
    "    (mean(xy -> Flux.Tracker.data(loss(xy...)), train_data),\n",
    "     mean(xy -> Flux.Tracker.data(loss(xy...)), test_data))\n",
    ")\n",
    "@showprogress for i in 1:100\n",
    "    Flux.train!(loss, train_data, opt)\n",
    "    push!(losses, \n",
    "        (mean(xy -> Flux.Tracker.data(loss(xy...)), train_data),\n",
    "         mean(xy -> Flux.Tracker.data(loss(xy...)), test_data))\n",
    "    )\n",
    "end"
   ]
  },
  {
   "cell_type": "code",
   "execution_count": 49,
   "metadata": {},
   "outputs": [
    {
     "data": {
      "text/plain": [
       "50941-element SubArray{Tuple{Array{Float64,1},Float64,Float64},1,Array{Tuple{Array{Float64,1},Float64,Float64},1},Tuple{Array{Int64,1}},false}:\n",
       " ([0.375, 0.375, 0.875, -0.5], 112.562, 118.541)  \n",
       " ([1.375, 1.0, -1.625, -0.625], 243.323, 243.363) \n",
       " ([1.0, 0.875, -1.5, 1.625], 206.094, 206.094)    \n",
       " ([0.875, 0.5, 1.5, 1.625], 273.888, 273.888)     \n",
       " ([1.125, 0.375, -1.375, 0.375], 237.483, 237.483)\n",
       " ([1.0, 1.0, -0.5, -1.125], 216.625, 227.778)     \n",
       " ([1.25, 0.5, 2.0, -0.375], 262.871, 278.812)     \n",
       " ([0.875, 0.25, 0.5, 0.625], 252.997, 252.997)    \n",
       " ([0.75, 0.25, -0.25, 0.625], 198.831, 208.674)   \n",
       " ([1.125, 0.75, -1.0, 0.625], 226.886, 226.886)   \n",
       " ([1.375, 0.75, 0.125, -0.625], 265.243, 278.673) \n",
       " ([1.375, 0.625, 1.5, 1.25], 265.15, 265.21)      \n",
       " ([1.5, 0.625, -0.125, 0.625], 267.794, 282.495)  \n",
       " ⋮                                                \n",
       " ([1.5, 0.875, 2.0, -2.0], 133.958, 134.053)      \n",
       " ([1.5, 0.5, -0.625, 2.0], 257.48, 275.692)       \n",
       " ([1.375, 0.25, -0.5, -1.875], 278.382, 289.759)  \n",
       " ([0.625, 0.5, 1.5, -0.625], 109.469, 109.469)    \n",
       " ([1.125, 0.375, 1.25, 1.625], 291.743, 311.601)  \n",
       " ([1.375, 0.25, 0.5, 1.375], 287.383, 295.049)    \n",
       " ([1.25, 0.375, 0.375, -0.125], 288.053, 292.215) \n",
       " ([1.0, 0.875, 1.375, -0.375], 273.243, 274.913)  \n",
       " ([1.0, 0.25, 1.5, 2.0], 304.072, 304.113)        \n",
       " ([0.875, 0.25, 2.0, -0.5], 313.918, 314.028)     \n",
       " ([0.5, 0.375, -1.375, 2.0], 137.451, 145.812)    \n",
       " ([1.375, 1.0, -2.0, -0.75], 238.035, 238.035)    "
      ]
     },
     "execution_count": 49,
     "metadata": {},
     "output_type": "execute_result"
    }
   ],
   "source": [
    "train_data"
   ]
  },
  {
   "cell_type": "code",
   "execution_count": 59,
   "metadata": {},
   "outputs": [
    {
     "data": {
      "text/html": [
       "<?xml version=\"1.0\" encoding=\"utf-8\"?>\n",
       "<svg xmlns=\"http://www.w3.org/2000/svg\" xmlns:xlink=\"http://www.w3.org/1999/xlink\" width=\"600\" height=\"400\" viewBox=\"0 0 600 400\">\n",
       "<defs>\n",
       "  <clipPath id=\"clip5200\">\n",
       "    <rect x=\"0\" y=\"0\" width=\"600\" height=\"400\"/>\n",
       "  </clipPath>\n",
       "</defs>\n",
       "<polygon clip-path=\"url(#clip5200)\" points=\"\n",
       "0,400 600,400 600,0 0,0 \n",
       "  \" fill=\"#ffffff\" fill-opacity=\"1\"/>\n",
       "<defs>\n",
       "  <clipPath id=\"clip5201\">\n",
       "    <rect x=\"120\" y=\"0\" width=\"421\" height=\"400\"/>\n",
       "  </clipPath>\n",
       "</defs>\n",
       "<polygon clip-path=\"url(#clip5200)\" points=\"\n",
       "35.8198,375.869 580.315,375.869 580.315,11.811 35.8198,11.811 \n",
       "  \" fill=\"#ffffff\" fill-opacity=\"1\"/>\n",
       "<defs>\n",
       "  <clipPath id=\"clip5202\">\n",
       "    <rect x=\"35\" y=\"11\" width=\"545\" height=\"365\"/>\n",
       "  </clipPath>\n",
       "</defs>\n",
       "<polyline clip-path=\"url(#clip5202)\" style=\"stroke:#000000; stroke-width:0.5; stroke-opacity:0.1; fill:none\" points=\"\n",
       "  139.274,375.869 139.274,11.811 \n",
       "  \"/>\n",
       "<polyline clip-path=\"url(#clip5202)\" style=\"stroke:#000000; stroke-width:0.5; stroke-opacity:0.1; fill:none\" points=\"\n",
       "  248.173,375.869 248.173,11.811 \n",
       "  \"/>\n",
       "<polyline clip-path=\"url(#clip5202)\" style=\"stroke:#000000; stroke-width:0.5; stroke-opacity:0.1; fill:none\" points=\"\n",
       "  357.072,375.869 357.072,11.811 \n",
       "  \"/>\n",
       "<polyline clip-path=\"url(#clip5202)\" style=\"stroke:#000000; stroke-width:0.5; stroke-opacity:0.1; fill:none\" points=\"\n",
       "  465.971,375.869 465.971,11.811 \n",
       "  \"/>\n",
       "<polyline clip-path=\"url(#clip5202)\" style=\"stroke:#000000; stroke-width:0.5; stroke-opacity:0.1; fill:none\" points=\"\n",
       "  574.87,375.869 574.87,11.811 \n",
       "  \"/>\n",
       "<polyline clip-path=\"url(#clip5202)\" style=\"stroke:#000000; stroke-width:0.5; stroke-opacity:0.1; fill:none\" points=\"\n",
       "  35.8198,375.869 580.315,375.869 \n",
       "  \"/>\n",
       "<polyline clip-path=\"url(#clip5202)\" style=\"stroke:#000000; stroke-width:0.5; stroke-opacity:0.1; fill:none\" points=\"\n",
       "  35.8198,296.067 580.315,296.067 \n",
       "  \"/>\n",
       "<polyline clip-path=\"url(#clip5202)\" style=\"stroke:#000000; stroke-width:0.5; stroke-opacity:0.1; fill:none\" points=\"\n",
       "  35.8198,216.265 580.315,216.265 \n",
       "  \"/>\n",
       "<polyline clip-path=\"url(#clip5202)\" style=\"stroke:#000000; stroke-width:0.5; stroke-opacity:0.1; fill:none\" points=\"\n",
       "  35.8198,136.463 580.315,136.463 \n",
       "  \"/>\n",
       "<polyline clip-path=\"url(#clip5202)\" style=\"stroke:#000000; stroke-width:0.5; stroke-opacity:0.1; fill:none\" points=\"\n",
       "  35.8198,56.6612 580.315,56.6612 \n",
       "  \"/>\n",
       "<polyline clip-path=\"url(#clip5200)\" style=\"stroke:#000000; stroke-width:1; stroke-opacity:1; fill:none\" points=\"\n",
       "  35.8198,375.869 580.315,375.869 \n",
       "  \"/>\n",
       "<polyline clip-path=\"url(#clip5200)\" style=\"stroke:#000000; stroke-width:1; stroke-opacity:1; fill:none\" points=\"\n",
       "  35.8198,375.869 35.8198,11.811 \n",
       "  \"/>\n",
       "<polyline clip-path=\"url(#clip5200)\" style=\"stroke:#000000; stroke-width:1; stroke-opacity:1; fill:none\" points=\"\n",
       "  139.274,375.869 139.274,370.408 \n",
       "  \"/>\n",
       "<polyline clip-path=\"url(#clip5200)\" style=\"stroke:#000000; stroke-width:1; stroke-opacity:1; fill:none\" points=\"\n",
       "  248.173,375.869 248.173,370.408 \n",
       "  \"/>\n",
       "<polyline clip-path=\"url(#clip5200)\" style=\"stroke:#000000; stroke-width:1; stroke-opacity:1; fill:none\" points=\"\n",
       "  357.072,375.869 357.072,370.408 \n",
       "  \"/>\n",
       "<polyline clip-path=\"url(#clip5200)\" style=\"stroke:#000000; stroke-width:1; stroke-opacity:1; fill:none\" points=\"\n",
       "  465.971,375.869 465.971,370.408 \n",
       "  \"/>\n",
       "<polyline clip-path=\"url(#clip5200)\" style=\"stroke:#000000; stroke-width:1; stroke-opacity:1; fill:none\" points=\"\n",
       "  574.87,375.869 574.87,370.408 \n",
       "  \"/>\n",
       "<polyline clip-path=\"url(#clip5200)\" style=\"stroke:#000000; stroke-width:1; stroke-opacity:1; fill:none\" points=\"\n",
       "  35.8198,375.869 43.9872,375.869 \n",
       "  \"/>\n",
       "<polyline clip-path=\"url(#clip5200)\" style=\"stroke:#000000; stroke-width:1; stroke-opacity:1; fill:none\" points=\"\n",
       "  35.8198,296.067 43.9872,296.067 \n",
       "  \"/>\n",
       "<polyline clip-path=\"url(#clip5200)\" style=\"stroke:#000000; stroke-width:1; stroke-opacity:1; fill:none\" points=\"\n",
       "  35.8198,216.265 43.9872,216.265 \n",
       "  \"/>\n",
       "<polyline clip-path=\"url(#clip5200)\" style=\"stroke:#000000; stroke-width:1; stroke-opacity:1; fill:none\" points=\"\n",
       "  35.8198,136.463 43.9872,136.463 \n",
       "  \"/>\n",
       "<polyline clip-path=\"url(#clip5200)\" style=\"stroke:#000000; stroke-width:1; stroke-opacity:1; fill:none\" points=\"\n",
       "  35.8198,56.6612 43.9872,56.6612 \n",
       "  \"/>\n",
       "<g clip-path=\"url(#clip5200)\">\n",
       "<text style=\"fill:#000000; fill-opacity:1; font-family:Arial,Helvetica Neue,Helvetica,sans-serif; font-size:12; text-anchor:middle;\" transform=\"rotate(0, 139.274, 389.669)\" x=\"139.274\" y=\"389.669\">20</text>\n",
       "</g>\n",
       "<g clip-path=\"url(#clip5200)\">\n",
       "<text style=\"fill:#000000; fill-opacity:1; font-family:Arial,Helvetica Neue,Helvetica,sans-serif; font-size:12; text-anchor:middle;\" transform=\"rotate(0, 248.173, 389.669)\" x=\"248.173\" y=\"389.669\">40</text>\n",
       "</g>\n",
       "<g clip-path=\"url(#clip5200)\">\n",
       "<text style=\"fill:#000000; fill-opacity:1; font-family:Arial,Helvetica Neue,Helvetica,sans-serif; font-size:12; text-anchor:middle;\" transform=\"rotate(0, 357.072, 389.669)\" x=\"357.072\" y=\"389.669\">60</text>\n",
       "</g>\n",
       "<g clip-path=\"url(#clip5200)\">\n",
       "<text style=\"fill:#000000; fill-opacity:1; font-family:Arial,Helvetica Neue,Helvetica,sans-serif; font-size:12; text-anchor:middle;\" transform=\"rotate(0, 465.971, 389.669)\" x=\"465.971\" y=\"389.669\">80</text>\n",
       "</g>\n",
       "<g clip-path=\"url(#clip5200)\">\n",
       "<text style=\"fill:#000000; fill-opacity:1; font-family:Arial,Helvetica Neue,Helvetica,sans-serif; font-size:12; text-anchor:middle;\" transform=\"rotate(0, 574.87, 389.669)\" x=\"574.87\" y=\"389.669\">100</text>\n",
       "</g>\n",
       "<g clip-path=\"url(#clip5200)\">\n",
       "<text style=\"fill:#000000; fill-opacity:1; font-family:Arial,Helvetica Neue,Helvetica,sans-serif; font-size:12; text-anchor:end;\" transform=\"rotate(0, 29.8198, 380.369)\" x=\"29.8198\" y=\"380.369\">0</text>\n",
       "</g>\n",
       "<g clip-path=\"url(#clip5200)\">\n",
       "<text style=\"fill:#000000; fill-opacity:1; font-family:Arial,Helvetica Neue,Helvetica,sans-serif; font-size:12; text-anchor:end;\" transform=\"rotate(0, 29.8198, 300.567)\" x=\"29.8198\" y=\"300.567\">50</text>\n",
       "</g>\n",
       "<g clip-path=\"url(#clip5200)\">\n",
       "<text style=\"fill:#000000; fill-opacity:1; font-family:Arial,Helvetica Neue,Helvetica,sans-serif; font-size:12; text-anchor:end;\" transform=\"rotate(0, 29.8198, 220.765)\" x=\"29.8198\" y=\"220.765\">100</text>\n",
       "</g>\n",
       "<g clip-path=\"url(#clip5200)\">\n",
       "<text style=\"fill:#000000; fill-opacity:1; font-family:Arial,Helvetica Neue,Helvetica,sans-serif; font-size:12; text-anchor:end;\" transform=\"rotate(0, 29.8198, 140.963)\" x=\"29.8198\" y=\"140.963\">150</text>\n",
       "</g>\n",
       "<g clip-path=\"url(#clip5200)\">\n",
       "<text style=\"fill:#000000; fill-opacity:1; font-family:Arial,Helvetica Neue,Helvetica,sans-serif; font-size:12; text-anchor:end;\" transform=\"rotate(0, 29.8198, 61.1612)\" x=\"29.8198\" y=\"61.1612\">200</text>\n",
       "</g>\n",
       "<polyline clip-path=\"url(#clip5202)\" style=\"stroke:#009af9; stroke-width:1; stroke-opacity:1; fill:none\" points=\"\n",
       "  35.8198,11.9279 41.2647,349.692 46.7097,351.949 52.1546,353.453 57.5996,356.591 63.0445,359.534 68.4895,361.413 73.9344,362.415 79.3794,363.12 84.8244,363.035 \n",
       "  90.2693,364.441 95.7143,365.021 101.159,365.449 106.604,366.321 112.049,366.864 117.494,367.075 122.939,367.56 128.384,367.998 133.829,368.483 139.274,368.845 \n",
       "  144.719,369.066 150.164,369.267 155.609,369.371 161.054,369.537 166.499,369.837 171.944,369.804 177.389,370.087 182.833,370.188 188.278,369.865 193.723,370.291 \n",
       "  199.168,370.599 204.613,370.735 210.058,370.637 215.503,370.845 220.948,370.604 226.393,370.237 231.838,370.711 237.283,370.407 242.728,370.185 248.173,370.997 \n",
       "  253.618,370.773 259.063,370.328 264.508,370.216 269.953,369.523 275.398,370.315 280.843,370.456 286.288,370.112 291.733,369.983 297.177,370.268 302.622,370.197 \n",
       "  308.067,371.037 313.512,370.722 318.957,371.246 324.402,370.548 329.847,371.44 335.292,370.942 340.737,370.08 346.182,370.993 351.627,370.302 357.072,370.354 \n",
       "  362.517,370.704 367.962,370.294 373.407,370.487 378.852,370.462 384.297,370.109 389.742,371.191 395.187,370.926 400.632,370.296 406.077,370.872 411.521,370.847 \n",
       "  416.966,370.623 422.411,370.562 427.856,370.354 433.301,370.842 438.746,371.212 444.191,371.007 449.636,371.004 455.081,370.325 460.526,371.114 465.971,371.389 \n",
       "  471.416,371.314 476.861,371.196 482.306,370.451 487.751,371.643 493.196,371.015 498.641,371.148 504.086,370.798 509.531,371.229 514.976,370.746 520.42,371.089 \n",
       "  525.865,370.928 531.31,371.279 536.755,370.259 542.2,370.923 547.645,371.351 553.09,371.125 558.535,371.345 563.98,371.459 569.425,371.448 574.87,370.703 \n",
       "  580.315,370.778 \n",
       "  \"/>\n",
       "<polyline clip-path=\"url(#clip5202)\" style=\"stroke:#e26f46; stroke-width:1; stroke-opacity:1; fill:none\" points=\"\n",
       "  35.8198,11.811 41.2647,349.157 46.7097,351.328 52.1546,352.793 57.5996,355.965 63.0445,358.946 68.4895,360.848 73.9344,361.875 79.3794,362.604 84.8244,362.553 \n",
       "  90.2693,363.988 95.7143,364.616 101.159,365.078 106.604,365.991 112.049,366.564 117.494,366.829 122.939,367.37 128.384,367.821 133.829,368.341 139.274,368.728 \n",
       "  144.719,368.954 150.164,369.165 155.609,369.284 161.054,369.45 166.499,369.741 171.944,369.728 177.389,370.017 182.833,370.122 188.278,369.795 193.723,370.221 \n",
       "  199.168,370.528 204.613,370.666 210.058,370.568 215.503,370.78 220.948,370.55 226.393,370.17 231.838,370.67 237.283,370.349 242.728,370.139 248.173,370.954 \n",
       "  253.618,370.725 259.063,370.278 264.508,370.172 269.953,369.492 275.398,370.261 280.843,370.405 286.288,370.076 291.733,369.929 297.177,370.22 302.622,370.155 \n",
       "  308.067,370.986 313.512,370.681 318.957,371.183 324.402,370.485 329.847,371.369 335.292,370.889 340.737,370.046 346.182,370.939 351.627,370.254 357.072,370.31 \n",
       "  362.517,370.656 367.962,370.237 373.407,370.446 378.852,370.414 384.297,370.072 389.742,371.133 395.187,370.871 400.632,370.25 406.077,370.83 411.521,370.787 \n",
       "  416.966,370.582 422.411,370.521 427.856,370.307 433.301,370.792 438.746,371.142 444.191,370.946 449.636,370.962 455.081,370.275 460.526,371.072 465.971,371.318 \n",
       "  471.416,371.266 476.861,371.144 482.306,370.43 487.751,371.59 493.196,370.992 498.641,371.113 504.086,370.783 509.531,371.195 514.976,370.749 520.42,371.075 \n",
       "  525.865,370.928 531.31,371.262 536.755,370.282 542.2,370.925 547.645,371.346 553.09,371.13 558.535,371.336 563.98,371.458 569.425,371.46 574.87,370.726 \n",
       "  580.315,370.801 \n",
       "  \"/>\n",
       "<polygon clip-path=\"url(#clip5200)\" points=\"\n",
       "489.608,78.051 562.315,78.051 562.315,32.691 489.608,32.691 \n",
       "  \" fill=\"#ffffff\" fill-opacity=\"1\"/>\n",
       "<polyline clip-path=\"url(#clip5200)\" style=\"stroke:#000000; stroke-width:1; stroke-opacity:1; fill:none\" points=\"\n",
       "  489.608,78.051 562.315,78.051 562.315,32.691 489.608,32.691 489.608,78.051 \n",
       "  \"/>\n",
       "<polyline clip-path=\"url(#clip5200)\" style=\"stroke:#009af9; stroke-width:1; stroke-opacity:1; fill:none\" points=\"\n",
       "  495.608,47.811 531.608,47.811 \n",
       "  \"/>\n",
       "<g clip-path=\"url(#clip5200)\">\n",
       "<text style=\"fill:#000000; fill-opacity:1; font-family:Arial,Helvetica Neue,Helvetica,sans-serif; font-size:12; text-anchor:start;\" transform=\"rotate(0, 537.608, 52.311)\" x=\"537.608\" y=\"52.311\">y1</text>\n",
       "</g>\n",
       "<polyline clip-path=\"url(#clip5200)\" style=\"stroke:#e26f46; stroke-width:1; stroke-opacity:1; fill:none\" points=\"\n",
       "  495.608,62.931 531.608,62.931 \n",
       "  \"/>\n",
       "<g clip-path=\"url(#clip5200)\">\n",
       "<text style=\"fill:#000000; fill-opacity:1; font-family:Arial,Helvetica Neue,Helvetica,sans-serif; font-size:12; text-anchor:start;\" transform=\"rotate(0, 537.608, 67.431)\" x=\"537.608\" y=\"67.431\">y2</text>\n",
       "</g>\n",
       "</svg>\n"
      ]
     },
     "execution_count": 59,
     "metadata": {},
     "output_type": "execute_result"
    }
   ],
   "source": [
    "plt = plot(first.(losses))\n",
    "plot!(plt, last.(losses))\n",
    "ylims!(plt, (0, ylims(plt)[2]))\n",
    "plt"
   ]
  },
  {
   "cell_type": "code",
   "execution_count": 24,
   "metadata": {},
   "outputs": [
    {
     "name": "stdout",
     "output_type": "stream",
     "text": [
      "Listening on 127.0.0.1:7002...\n",
      "zmq_url=tcp://127.0.0.1:6002\n",
      "web_url=http://127.0.0.1:7002/static/\n"
     ]
    },
    {
     "data": {
      "text/html": [
       "    <div style=\"height: 500px; width: 500px; overflow-x: auto; overflow-y: hidden; resize: both\">\n",
       "    <iframe src=\"http://127.0.0.1:7002/static/\" style=\"width: 100%; height: 100%; border: none\"></iframe>\n",
       "    </div>\n"
      ],
      "text/plain": [
       "MeshCat.IJuliaCell(MeshCat.ViewerWindow(ZMQ.Context(Ptr{Void} @0x0000000009f9abc0, ZMQ.Socket[ZMQ.Socket(Ptr{Void} @0x000000000a254140, Base.Filesystem._FDWatcher(Ptr{Void} @0x000000000a3f5250, 59, (1, 0), Condition(Any[]), (false, false), 0))]), ZMQ.Socket(Ptr{Void} @0x000000000a254140, Base.Filesystem._FDWatcher(Ptr{Void} @0x000000000a3f5250, 59, (1, 0), Condition(Any[]), (false, false), 0)), \"http://127.0.0.1:7002/static/\", \"tcp://127.0.0.1:6002\", MeshCat.ZMQServer.ZMQWebSocketBridge(ip\"127.0.0.1\", Set{WebSockets.WebSocket}(), MeshCat.SceneTrees.SceneNode(Nullable{Array{UInt8,1}}(), Nullable{Array{UInt8,1}}(), Dict(\"meshcat\"=>MeshCat.SceneTrees.SceneNode(#NULL, UInt8[0x83, 0xa6, 0x6d, 0x61, 0x74, 0x72, 0x69, 0x78, 0xc7, 0x40  …  0x68, 0xa8, 0x2f, 0x6d, 0x65, 0x73, 0x68, 0x63, 0x61, 0x74], Dict(\"world\"=>MeshCat.SceneTrees.SceneNode(#NULL, #NULL, Dict(\"floor\"=>MeshCat.SceneTrees.SceneNode(#NULL, UInt8[0x83, 0xa6, 0x6d, 0x61, 0x74, 0x72, 0x69, 0x78, 0xc7, 0x40  …  0x6f, 0x72, 0x6c, 0x64, 0x2f, 0x66, 0x6c, 0x6f, 0x6f, 0x72], Dict(\"floor\"=>MeshCat.SceneTrees.SceneNode(#NULL, UInt8[0x83, 0xa6, 0x6d, 0x61, 0x74, 0x72, 0x69, 0x78, 0xc7, 0x40  …  0x6c, 0x6f, 0x6f, 0x72, 0x2f, 0x66, 0x6c, 0x6f, 0x6f, 0x72], Dict(\"geometry_1\"=>MeshCat.SceneTrees.SceneNode(UInt8[0x83, 0xa6, 0x6f, 0x62, 0x6a, 0x65, 0x63, 0x74, 0x84, 0xaa  …  0x67, 0x65, 0x6f, 0x6d, 0x65, 0x74, 0x72, 0x79, 0x5f, 0x31], UInt8[0x83, 0xa6, 0x6d, 0x61, 0x74, 0x72, 0x69, 0x78, 0xc7, 0x40  …  0x67, 0x65, 0x6f, 0x6d, 0x65, 0x74, 0x72, 0x79, 0x5f, 0x31], Dict{String,MeshCat.SceneTrees.SceneNode}()))),\"core\"=>MeshCat.SceneTrees.SceneNode(#NULL, UInt8[0x83, 0xa6, 0x6d, 0x61, 0x74, 0x72, 0x69, 0x78, 0xc7, 0x40  …  0x66, 0x6c, 0x6f, 0x6f, 0x72, 0x2f, 0x63, 0x6f, 0x72, 0x65], Dict(\"after_base_z\"=>MeshCat.SceneTrees.SceneNode(#NULL, UInt8[0x83, 0xa6, 0x6d, 0x61, 0x74, 0x72, 0x69, 0x78, 0xc7, 0x40  …  0x74, 0x65, 0x72, 0x5f, 0x62, 0x61, 0x73, 0x65, 0x5f, 0x7a], Dict(\"geometry_2\"=>MeshCat.SceneTrees.SceneNode(UInt8[0x83, 0xa6, 0x6f, 0x62, 0x6a, 0x65, 0x63, 0x74, 0x84, 0xaa  …  0x67, 0x65, 0x6f, 0x6d, 0x65, 0x74, 0x72, 0x79, 0x5f, 0x32], UInt8[0x83, 0xa6, 0x6d, 0x61, 0x74, 0x72, 0x69, 0x78, 0xc7, 0x40  …  0x67, 0x65, 0x6f, 0x6d, 0x65, 0x74, 0x72, 0x79, 0x5f, 0x32], Dict{String,MeshCat.SceneTrees.SceneNode}()))),\"foot\"=>MeshCat.SceneTrees.SceneNode(#NULL, UInt8[0x83, 0xa6, 0x6d, 0x61, 0x74, 0x72, 0x69, 0x78, 0xc7, 0x40  …  0x2f, 0x63, 0x6f, 0x72, 0x65, 0x2f, 0x66, 0x6f, 0x6f, 0x74], Dict(\"after_foot_extension\"=>MeshCat.SceneTrees.SceneNode(#NULL, UInt8[0x83, 0xa6, 0x6d, 0x61, 0x74, 0x72, 0x69, 0x78, 0xc7, 0x40  …  0x5f, 0x65, 0x78, 0x74, 0x65, 0x6e, 0x73, 0x69, 0x6f, 0x6e], Dict(\"geometry_3\"=>MeshCat.SceneTrees.SceneNode(UInt8[0x83, 0xa6, 0x6f, 0x62, 0x6a, 0x65, 0x63, 0x74, 0x84, 0xaa  …  0x67, 0x65, 0x6f, 0x6d, 0x65, 0x74, 0x72, 0x79, 0x5f, 0x33], UInt8[0x83, 0xa6, 0x6d, 0x61, 0x74, 0x72, 0x69, 0x78, 0xc7, 0x40  …  0x67, 0x65, 0x6f, 0x6d, 0x65, 0x74, 0x72, 0x79, 0x5f, 0x33], Dict{String,MeshCat.SceneTrees.SceneNode}()))))))))))))))), 7002, HttpServer.Server(HttpServer.HttpHandler(MeshCat.ZMQServer.handle_file_request, Base.TCPServer(RawFD(43) active), Dict{String,Function}(Pair{String,Function}(\"error\", HttpServer.#1),Pair{String,Function}(\"listen\", HttpServer.#3))), WebSockets.WebSocketHandler(MeshCat.ZMQServer.#5)), ZMQ.Context(Ptr{Void} @0x000000000968e760, ZMQ.Socket[ZMQ.Socket(Ptr{Void} @0x0000000008c417c0, Base.Filesystem._FDWatcher(Ptr{Void} @0x0000000009693220, 50, (1, 0), Condition(Any[]), (false, false), 0)), ZMQ.Socket(Ptr{Void} @0x000000000a73b140, Base.Filesystem._FDWatcher(Ptr{Void} @0x000000000a2d85c0, 51, (1, 0), Condition(Any[]), (false, false), 0)), ZMQ.Socket(Ptr{Void} @0x000000000a25d010, Base.Filesystem._FDWatcher(Ptr{Void} @0x000000000a6a0200, 52, (1, 0), Condition(Any[Task (runnable) @0x00007f0ef549cfd0]), (true, false), 0))]), ZMQ.Socket(Ptr{Void} @0x000000000a25d010, Base.Filesystem._FDWatcher(Ptr{Void} @0x000000000a6a0200, 52, (1, 0), Condition(Any[Task (runnable) @0x00007f0ef549cfd0]), (true, false), 0)), \"tcp://127.0.0.1:6002\")), false)"
      ]
     },
     "execution_count": 24,
     "metadata": {},
     "output_type": "execute_result"
    }
   ],
   "source": [
    "robot = Hoppers.Hopper()\n",
    "mvis = MechanismVisualizer(robot.mechanism, URDFVisuals(Hoppers.urdf))\n",
    "IJuliaCell(mvis)"
   ]
  },
  {
   "cell_type": "code",
   "execution_count": 61,
   "metadata": {},
   "outputs": [
    {
     "data": {
      "text/plain": [
       "([0.0 0.0 1.0 0.0; 0.0 0.0 0.0 1.0; 0.0 0.0 0.0 0.0; 0.0 0.0 0.0 0.0], [0.0 0.0; 0.0 0.0; 0.0 1.0; 0.0 1.0], [0.0, 0.0, -9.81, -9.81])"
      ]
     },
     "execution_count": 61,
     "metadata": {},
     "output_type": "execute_result"
    }
   ],
   "source": [
    "xstar = Hoppers.nominal_state(robot)\n",
    "ustar = zeros(num_velocities(xstar))\n",
    "\n",
    "Q, R = Hoppers.default_costs(robot)\n",
    "foot = findbody(robot.mechanism, \"foot\")\n",
    "Δt = 0.05\n",
    "Jc = LCPSim.ContactLQR.contact_jacobian(xstar, [Point3D(default_frame(foot), 0., 0., 0.)])\n",
    "A, B, c = LCPSim.ContactLQR.contact_linearize(xstar, ustar, Jc)"
   ]
  },
  {
   "cell_type": "code",
   "execution_count": 62,
   "metadata": {},
   "outputs": [
    {
     "data": {
      "text/plain": [
       "(::#59) (generic function with 1 method)"
      ]
     },
     "execution_count": 62,
     "metadata": {},
     "output_type": "execute_result"
    }
   ],
   "source": [
    "tangent_net = FluxExtensions.TangentPropagator(model)\n",
    "net_value_controller = state -> begin\n",
    "    x = state_vector(state)\n",
    "    value, jac = tangent_net(x)\n",
    "    u = vec(-inv(R) * B' * Flux.Tracker.data(jac)')\n",
    "end"
   ]
  },
  {
   "cell_type": "code",
   "execution_count": 76,
   "metadata": {
    "collapsed": true
   },
   "outputs": [
    {
     "name": "stdout",
     "output_type": "stream",
     "text": [
      "Academic license - for non-commercial use only\n"
     ]
    }
   ],
   "source": [
    "x_init = MechanismState{Float64}(robot.mechanism)\n",
    "set_configuration!(x_init, [1.0, 1.0])\n",
    "set_velocity!(x_init, [0., 0.])\n",
    "set_configuration!(mvis, configuration(x_init))\n",
    "sleep(3)\n",
    "# LearningMPC.randomize!(x_init, x_init, 0.5, 1.0)\n",
    "results = LCPSim.simulate(x_init, net_value_controller,\n",
    "    robot.environment,\n",
    "    Δt,\n",
    "    100,\n",
    "    GurobiSolver(Gurobi.Env(), OutputFlag=0));\n",
    "LearningMPC.playback(mvis, results, Δt)"
   ]
  },
  {
   "cell_type": "code",
   "execution_count": 71,
   "metadata": {
    "collapsed": true
   },
   "outputs": [],
   "source": [
    "LearningMPC.playback(mvis, results, Δt)"
   ]
  },
  {
   "cell_type": "code",
   "execution_count": 65,
   "metadata": {
    "collapsed": true
   },
   "outputs": [],
   "source": [
    "using JLD2"
   ]
  },
  {
   "cell_type": "code",
   "execution_count": 66,
   "metadata": {},
   "outputs": [
    {
     "data": {
      "text/plain": [
       "Chain(Dense(4, 32, NNlib.elu), Dense(32, 32, NNlib.elu), Dense(32, 1))"
      ]
     },
     "execution_count": 66,
     "metadata": {},
     "output_type": "execute_result"
    }
   ],
   "source": [
    "jldopen(\"model.jld2\", \"w\") do file\n",
    "    file[\"model\"] = model\n",
    "end"
   ]
  },
  {
   "cell_type": "code",
   "execution_count": null,
   "metadata": {},
   "outputs": [],
   "source": []
  }
 ],
 "metadata": {
  "kernelspec": {
   "display_name": "Julia 0.6.2",
   "language": "julia",
   "name": "julia-0.6"
  },
  "language_info": {
   "file_extension": ".jl",
   "mimetype": "application/julia",
   "name": "julia",
   "version": "0.6.2"
  }
 },
 "nbformat": 4,
 "nbformat_minor": 2
}
