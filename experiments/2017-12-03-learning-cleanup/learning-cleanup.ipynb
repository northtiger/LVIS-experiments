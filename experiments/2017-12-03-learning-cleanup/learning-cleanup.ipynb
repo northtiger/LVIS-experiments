{
 "cells": [
  {
   "cell_type": "code",
   "execution_count": 1,
   "metadata": {
    "collapsed": true,
    "deletable": true,
    "editable": true
   },
   "outputs": [],
   "source": [
    "using Revise"
   ]
  },
  {
   "cell_type": "code",
   "execution_count": 165,
   "metadata": {
    "collapsed": false,
    "deletable": true,
    "editable": true
   },
   "outputs": [
    {
     "name": "stderr",
     "output_type": "stream",
     "text": [
      "WARNING: using ProgressMeter.Progress in module Main conflicts with an existing identifier.\n",
      "WARNING: using ProgressMeter.update! in module Main conflicts with an existing identifier.\n"
     ]
    }
   ],
   "source": [
    "using RigidBodyDynamics\n",
    "using DrakeVisualizer\n",
    "DrakeVisualizer.any_open_windows() || DrakeVisualizer.new_window()\n",
    "using RigidBodyTreeInspector\n",
    "using Gurobi\n",
    "import StochasticOptimization\n",
    "using Plots\n",
    "using ProgressMeter"
   ]
  },
  {
   "cell_type": "code",
   "execution_count": 7,
   "metadata": {
    "collapsed": false,
    "deletable": true,
    "editable": true
   },
   "outputs": [],
   "source": [
    "import LCPSim\n",
    "import LearningMPC\n",
    "import BoxValkyries\n",
    "import Nets"
   ]
  },
  {
   "cell_type": "code",
   "execution_count": null,
   "metadata": {
    "collapsed": false,
    "deletable": true,
    "editable": true
   },
   "outputs": [],
   "source": [
    "# reload(\"LCPSim\")\n",
    "reload(\"LearningMPC\")\n",
    "reload(\"BoxValkyries\")"
   ]
  },
  {
   "cell_type": "code",
   "execution_count": 176,
   "metadata": {
    "collapsed": false,
    "deletable": true,
    "editable": true
   },
   "outputs": [
    {
     "name": "stdout",
     "output_type": "stream",
     "text": [
      "Academic license - for non-commercial use only\n",
      "Academic license - for non-commercial use only\n"
     ]
    },
    {
     "data": {
      "text/plain": [
       "collect! (generic function with 1 method)"
      ]
     },
     "execution_count": 176,
     "metadata": {},
     "output_type": "execute_result"
    }
   ],
   "source": [
    "boxval = BoxValkyries.BoxValkyrie()\n",
    "mechanism = boxval.mechanism\n",
    "xstar = BoxValkyries.nominal_state(boxval)\n",
    "\n",
    "basevis = Visualizer()[:box_robot]\n",
    "setgeometry!(basevis, boxval)\n",
    "settransform!(basevis[:robot], xstar)\n",
    "\n",
    "mpc_params = LearningMPC.MPCParams(\n",
    "    Δt=0.04,\n",
    "    horizon=1,\n",
    "    mip_solver=GurobiSolver(Gurobi.Env(), OutputFlag=0, TimeLimit=120, MIPGap=1e-1, MIPGapAbs=5, FeasibilityTol=1e-3),\n",
    "    lcp_solver=GurobiSolver(Gurobi.Env(), OutputFlag=0))\n",
    "\n",
    "feet = findbody.(mechanism, [\"rf\", \"lf\"])\n",
    "contacts = [Point3D(default_frame(body), 0., 0, 0) for body in feet]\n",
    "Q, R = BoxValkyries.default_costs(xstar)\n",
    "lqrsol = LearningMPC.LQRSolution(xstar, Q, R, contacts, mpc_params.Δt)\n",
    "LearningMPC.zero_element!(lqrsol, 1)\n",
    "\n",
    "hidden_widths = [16, 16, 16, 16]\n",
    "activation = Nets.leaky_relu\n",
    "net = LearningMPC.control_net(mechanism, hidden_widths, activation)\n",
    "\n",
    "net_controller = x -> Nets.predict(net, state_vector(x))\n",
    "\n",
    "mpc_controller = LearningMPC.MPCController(mechanism, \n",
    "    boxval.environment, mpc_params, lqrsol, \n",
    "    [net_controller, lqrsol]);\n",
    "\n",
    "sample_sink = LearningMPC.MPCSampleSink{Float64}()\n",
    "playback_sink = LearningMPC.PlaybackSink(basevis[:robot], mpc_params.Δt)\n",
    "\n",
    "mpc_controller.callback = LearningMPC.call_each(\n",
    "    sample_sink,\n",
    "    playback_sink)\n",
    "\n",
    "live_viewer = LearningMPC.live_viewer(mechanism, basevis[:robot])\n",
    "\n",
    "dagger_controller = LearningMPC.call_each(\n",
    "    LearningMPC.dagger_controller(\n",
    "        mpc_controller,\n",
    "        net_controller,\n",
    "        0.2),\n",
    "    live_viewer\n",
    "    )\n",
    "\n",
    "termination = x -> begin\n",
    "    (configuration(x)[1] < -1 ||\n",
    "     configuration(x)[2] < 0.5 || \n",
    "     configuration(x)[3] > 1.2 || \n",
    "     configuration(x)[3] < -1.2)\n",
    "end\n",
    "\n",
    "dataset = LearningMPC.Dataset(lqrsol)\n",
    "\n",
    "updater = Nets.adam_updater(net)\n",
    "\n",
    "loss = LearningMPC.sensitive_loss(net, 0.1)\n",
    "adam_opts = Nets.AdamOpts(learning_rate=0.001, batch_size=1)\n",
    "\n",
    "function collect!(data::Vector{<:LearningMPC.Sample})\n",
    "    empty!(sample_sink)\n",
    "    LearningMPC.randomize!(x0, xstar, 0.1, 0.5)\n",
    "    results = LCPSim.simulate(x0, \n",
    "        dagger_controller,\n",
    "        boxval.environment, mpc_params.Δt, 100, \n",
    "        mpc_params.lcp_solver;\n",
    "        termination=termination);\n",
    "    append!(data, sample_sink.samples)\n",
    "end"
   ]
  },
  {
   "cell_type": "code",
   "execution_count": 177,
   "metadata": {
    "collapsed": false
   },
   "outputs": [
    {
     "data": {
      "text/plain": [
       "MechanismState{Float64, Float64, Float64, …}(…)"
      ]
     },
     "execution_count": 177,
     "metadata": {},
     "output_type": "execute_result"
    }
   ],
   "source": [
    "x0 = MechanismState{Float64}(mechanism)"
   ]
  },
  {
   "cell_type": "code",
   "execution_count": 178,
   "metadata": {
    "collapsed": false
   },
   "outputs": [
    {
     "data": {
      "text/plain": [
       "all_losses (generic function with 1 method)"
      ]
     },
     "execution_count": 178,
     "metadata": {},
     "output_type": "execute_result"
    }
   ],
   "source": [
    "all_losses(net, dataset) = (LearningMPC.training_loss(net, dataset),\n",
    "                            LearningMPC.validation_loss(net, dataset))"
   ]
  },
  {
   "cell_type": "code",
   "execution_count": null,
   "metadata": {
    "collapsed": false
   },
   "outputs": [
    {
     "name": "stderr",
     "output_type": "stream",
     "text": [
      "\u001b[32mProgress:   6%|██                                       |  ETA: 0:32:36\u001b[39m"
     ]
    },
    {
     "name": "stdout",
     "output_type": "stream",
     "text": [
      "captured: ErrorException(\"Unrecognized solution status: loaded\")\n",
      "captured: ErrorException(\"Unrecognized solution status: loaded\")\n"
     ]
    },
    {
     "name": "stderr",
     "output_type": "stream",
     "text": [
      "\u001b[32mProgress:  10%|████                                     |  ETA: 0:32:59\u001b[39m"
     ]
    },
    {
     "name": "stdout",
     "output_type": "stream",
     "text": [
      "captured: ErrorException(\"Unrecognized solution status: loaded\")\n",
      "captured: ErrorException(\"Unrecognized solution status: loaded\")\n"
     ]
    },
    {
     "name": "stderr",
     "output_type": "stream",
     "text": [
      "\u001b[32mProgress:  12%|█████                                    |  ETA: 0:32:53\u001b[39m"
     ]
    },
    {
     "name": "stdout",
     "output_type": "stream",
     "text": [
      "captured: ErrorException(\"Unrecognized solution status: loaded\")\n"
     ]
    },
    {
     "name": "stderr",
     "output_type": "stream",
     "text": [
      "\u001b[32mProgress:  18%|███████                                  |  ETA: 0:34:03\u001b[39m\u001b[1m\u001b[33mWARNING: \u001b[39m\u001b[22m\u001b[33mGurobi reported infeasible or unbounded. Set InfUnbdInfo=1 for more specific status.\u001b[39m\n",
      "\u001b[32mProgress:  20%|████████                                 |  ETA: 0:35:18\u001b[39m"
     ]
    },
    {
     "name": "stdout",
     "output_type": "stream",
     "text": [
      "captured: ErrorException(\"Unrecognized solution status: loaded\")\n"
     ]
    },
    {
     "name": "stderr",
     "output_type": "stream",
     "text": [
      "\r",
      "\u001b[32mProgress:  21%|█████████                                |  ETA: 0:35:09\u001b[39m"
     ]
    },
    {
     "name": "stdout",
     "output_type": "stream",
     "text": [
      "captured: ErrorException(\"Unrecognized solution status: loaded\")\n"
     ]
    },
    {
     "name": "stderr",
     "output_type": "stream",
     "text": [
      "\u001b[32mProgress:  26%|███████████                              |  ETA: 0:34:44\u001b[39m"
     ]
    },
    {
     "name": "stdout",
     "output_type": "stream",
     "text": [
      "captured: ErrorException(\"Unrecognized solution status: loaded\")\n"
     ]
    },
    {
     "name": "stderr",
     "output_type": "stream",
     "text": [
      "\u001b[32mProgress:  44%|██████████████████                       |  ETA: 0:28:14\u001b[39m"
     ]
    },
    {
     "name": "stdout",
     "output_type": "stream",
     "text": [
      "captured: ErrorException(\"Unrecognized solution status: loaded\")\n"
     ]
    },
    {
     "name": "stderr",
     "output_type": "stream",
     "text": [
      "\u001b[32mProgress:  62%|█████████████████████████                |  ETA: 0:20:46\u001b[39m"
     ]
    },
    {
     "name": "stdout",
     "output_type": "stream",
     "text": [
      "captured: ErrorException(\"Unrecognized solution status: loaded\")\n"
     ]
    },
    {
     "name": "stderr",
     "output_type": "stream",
     "text": [
      "\u001b[32mProgress:  64%|██████████████████████████               |  ETA: 0:19:58\u001b[39m"
     ]
    },
    {
     "name": "stdout",
     "output_type": "stream",
     "text": [
      "captured: ErrorException(\"Unrecognized solution status: loaded\")\n"
     ]
    }
   ],
   "source": [
    "losses = Tuple{Float64, Float64}[]\n",
    "\n",
    "@showprogress for i in 1:100\n",
    "    for i in 1:2\n",
    "        collect!(dataset.training_data)\n",
    "    end\n",
    "    collect!(dataset.testing_data)\n",
    "    collect!(dataset.validation_data);\n",
    "    \n",
    "    for i in 1:5\n",
    "        Nets.adam_update!(net.params.data, updater, loss, \n",
    "            LearningMPC.features.(dataset.training_data), adam_opts);\n",
    "        push!(losses, all_losses(net, dataset))\n",
    "    end\n",
    "    \n",
    "end"
   ]
  },
  {
   "cell_type": "code",
   "execution_count": null,
   "metadata": {
    "collapsed": false
   },
   "outputs": [],
   "source": [
    "plt = plot(first.(losses))\n",
    "plot!(plt, last.(losses))\n",
    "plt"
   ]
  },
  {
   "cell_type": "code",
   "execution_count": 83,
   "metadata": {
    "collapsed": false,
    "deletable": true,
    "editable": true
   },
   "outputs": [
    {
     "name": "stdout",
     "output_type": "stream",
     "text": [
      "captured: ErrorException(\"Unrecognized solution status: loaded\")\n"
     ]
    }
   ],
   "source": [
    "\n",
    "LearningMPC.randomize!(x0, xstar, 0.1, 0.5)\n",
    "results = LCPSim.simulate(x0, \n",
    "    LearningMPC.call_each(dagger_controller, live_viewer),\n",
    "    boxval.environment, mpc_params.Δt, 200, mpc_params.lcp_solver);"
   ]
  },
  {
   "cell_type": "code",
   "execution_count": 84,
   "metadata": {
    "collapsed": false,
    "deletable": true,
    "editable": true
   },
   "outputs": [
    {
     "data": {
      "text/plain": [
       "37"
      ]
     },
     "execution_count": 84,
     "metadata": {},
     "output_type": "execute_result"
    }
   ],
   "source": [
    "length(sample_sink.samples)"
   ]
  },
  {
   "cell_type": "code",
   "execution_count": null,
   "metadata": {
    "collapsed": true,
    "deletable": true,
    "editable": true
   },
   "outputs": [],
   "source": []
  }
 ],
 "metadata": {
  "kernelspec": {
   "display_name": "Julia 0.6.0",
   "language": "julia",
   "name": "julia-0.6"
  },
  "language_info": {
   "file_extension": ".jl",
   "mimetype": "application/julia",
   "name": "julia",
   "version": "0.6.0"
  }
 },
 "nbformat": 4,
 "nbformat_minor": 2
}
