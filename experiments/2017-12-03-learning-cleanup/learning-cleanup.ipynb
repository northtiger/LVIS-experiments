{
 "cells": [
  {
   "cell_type": "code",
   "execution_count": null,
   "metadata": {
    "collapsed": true
   },
   "outputs": [],
   "source": [
    "using Revise"
   ]
  },
  {
   "cell_type": "code",
   "execution_count": null,
   "metadata": {},
   "outputs": [],
   "source": [
    "using RigidBodyDynamics\n",
    "using DrakeVisualizer\n",
    "DrakeVisualizer.any_open_windows() || DrakeVisualizer.new_window()\n",
    "using RigidBodyTreeInspector\n",
    "using Gurobi\n",
    "import StochasticOptimization\n",
    "using Plots\n",
    "using JLD2\n",
    "using ProgressMeter"
   ]
  },
  {
   "cell_type": "code",
   "execution_count": null,
   "metadata": {},
   "outputs": [],
   "source": [
    "import LCPSim\n",
    "import LearningMPC\n",
    "import BoxValkyries\n",
    "import Nets"
   ]
  },
  {
   "cell_type": "code",
   "execution_count": null,
   "metadata": {},
   "outputs": [],
   "source": [
    "# reload(\"LCPSim\")\n",
    "reload(\"LearningMPC\")\n",
    "reload(\"BoxValkyries\")"
   ]
  },
  {
   "cell_type": "code",
   "execution_count": null,
   "metadata": {},
   "outputs": [],
   "source": [
    "boxval = BoxValkyries.BoxValkyrie()\n",
    "mechanism = boxval.mechanism\n",
    "xstar = BoxValkyries.nominal_state(boxval)\n",
    "\n",
    "basevis = Visualizer()[:box_robot]\n",
    "setgeometry!(basevis, boxval)\n",
    "settransform!(basevis[:robot], xstar)\n",
    "\n",
    "mpc_params = LearningMPC.MPCParams(\n",
    "    Δt=0.04,\n",
    "    horizon=1,\n",
    "    mip_solver=GurobiSolver(Gurobi.Env(), OutputFlag=0, TimeLimit=120, MIPGap=1e-1, MIPGapAbs=5, FeasibilityTol=1e-3),\n",
    "    lcp_solver=GurobiSolver(Gurobi.Env(), OutputFlag=0))\n",
    "\n",
    "feet = findbody.(mechanism, [\"rf\", \"lf\"])\n",
    "contacts = [Point3D(default_frame(body), 0., 0, 0) for body in feet]\n",
    "Q, R = BoxValkyries.default_costs(xstar)\n",
    "lqrsol = LearningMPC.LQRSolution(xstar, Q, R, contacts, mpc_params.Δt)\n",
    "LearningMPC.zero_element!(lqrsol, 1)\n",
    "\n",
    "hidden_widths = [32, 32, 32, 32]\n",
    "activation = Nets.leaky_relu\n",
    "net = LearningMPC.control_net(mechanism, hidden_widths, activation)\n",
    "\n",
    "net_controller = x -> Nets.predict(net, state_vector(x))\n",
    "\n",
    "mpc_controller = LearningMPC.MPCController(mechanism, \n",
    "    boxval.environment, mpc_params, lqrsol, \n",
    "    [net_controller, lqrsol]);\n",
    "\n",
    "sample_sink = LearningMPC.MPCSampleSink{Float64}()\n",
    "playback_sink = LearningMPC.PlaybackSink(basevis[:robot], mpc_params.Δt)\n",
    "\n",
    "mpc_controller.callback = LearningMPC.call_each(\n",
    "    sample_sink,\n",
    "    playback_sink)\n",
    "\n",
    "live_viewer = LearningMPC.live_viewer(mechanism, basevis[:robot])\n",
    "\n",
    "dagger_controller = LearningMPC.call_each(\n",
    "    LearningMPC.dagger_controller(\n",
    "        mpc_controller,\n",
    "        net_controller,\n",
    "        0.2),\n",
    "    live_viewer\n",
    "    )\n",
    "\n",
    "termination = x -> begin\n",
    "    (configuration(x)[1] < -1 ||\n",
    "     configuration(x)[2] < 0.5 || \n",
    "     configuration(x)[3] > 1.2 || \n",
    "     configuration(x)[3] < -1.2)\n",
    "end\n",
    "\n",
    "dataset = LearningMPC.Dataset(lqrsol)\n",
    "\n",
    "updater = Nets.adam_updater(net)\n",
    "\n",
    "loss = LearningMPC.sensitive_loss(net, 0.2)\n",
    "adam_opts = Nets.AdamOpts(learning_rate=0.1e-4, batch_size=1)\n",
    "\n",
    "function collect!(data::Vector{<:LearningMPC.Sample})\n",
    "    empty!(sample_sink)\n",
    "    LearningMPC.randomize!(x0, xstar, 0.1, 0.5)\n",
    "    results = LCPSim.simulate(x0, \n",
    "        dagger_controller,\n",
    "        boxval.environment, mpc_params.Δt, 100, \n",
    "        mpc_params.lcp_solver;\n",
    "        termination=termination);\n",
    "    append!(data, sample_sink.samples)\n",
    "end"
   ]
  },
  {
   "cell_type": "code",
   "execution_count": null,
   "metadata": {},
   "outputs": [],
   "source": [
    "x0 = MechanismState{Float64}(mechanism)"
   ]
  },
  {
   "cell_type": "code",
   "execution_count": null,
   "metadata": {},
   "outputs": [],
   "source": [
    "all_losses(net, dataset) = (LearningMPC.training_loss(net, dataset),\n",
    "                            LearningMPC.validation_loss(net, dataset))"
   ]
  },
  {
   "cell_type": "code",
   "execution_count": null,
   "metadata": {
    "scrolled": false
   },
   "outputs": [],
   "source": [
    "losses = Tuple{Float64, Float64}[]\n",
    "snapshots = LearningMPC.Snapshot{Float64}[]\n",
    "\n",
    "@showprogress for i in 1:100\n",
    "    for i in 1:2\n",
    "        collect!(dataset.training_data)\n",
    "    end\n",
    "    collect!(dataset.testing_data)\n",
    "    collect!(dataset.validation_data);\n",
    "    \n",
    "    for i in 1:5\n",
    "        Nets.adam_update!(net.params.data, updater, loss, \n",
    "            LearningMPC.features.(dataset.training_data), adam_opts);\n",
    "        push!(losses, all_losses(net, dataset))\n",
    "    end\n",
    "    \n",
    "    push!(snapshots, LearningMPC.Snapshot(net.params.data, net))\n",
    "    \n",
    "    jldopen(\"box-val-improved.jld2\", \"w\") do file\n",
    "        file[\"dataset\"] = dataset\n",
    "        file[\"snapshots\"] = snapshots\n",
    "    end\n",
    "    \n",
    "    display(plot(plot(first.(losses)), plot(last.(losses))))\n",
    "end"
   ]
  },
  {
   "cell_type": "code",
   "execution_count": null,
   "metadata": {},
   "outputs": [],
   "source": [
    "\n",
    "LearningMPC.randomize!(x0, xstar, 0.1, 0.5)\n",
    "results = LCPSim.simulate(x0, \n",
    "    LearningMPC.call_each(net_controller, live_viewer),\n",
    "    boxval.environment, mpc_params.Δt, 200, mpc_params.lcp_solver);"
   ]
  },
  {
   "cell_type": "code",
   "execution_count": null,
   "metadata": {
    "collapsed": true
   },
   "outputs": [],
   "source": []
  }
 ],
 "metadata": {
  "kernelspec": {
   "display_name": "Julia 0.6.1",
   "language": "julia",
   "name": "julia-0.6"
  },
  "language_info": {
   "file_extension": ".jl",
   "mimetype": "application/julia",
   "name": "julia",
   "version": "0.6.1"
  }
 },
 "nbformat": 4,
 "nbformat_minor": 2
}
