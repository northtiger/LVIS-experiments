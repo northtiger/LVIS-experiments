{
 "cells": [
  {
   "cell_type": "code",
   "execution_count": 1,
   "metadata": {},
   "outputs": [],
   "source": [
    "using Revise"
   ]
  },
  {
   "cell_type": "code",
   "execution_count": 6,
   "metadata": {},
   "outputs": [],
   "source": [
    "using MeshCat\n",
    "using MeshCatMechanisms\n",
    "using RigidBodyDynamics\n",
    "using LearningMPC\n",
    "using LearningMPC.Models"
   ]
  },
  {
   "cell_type": "code",
   "execution_count": 3,
   "metadata": {},
   "outputs": [
    {
     "name": "stdout",
     "output_type": "stream",
     "text": [
      "Listening on 127.0.0.1:7024...\n",
      "zmq_url=tcp://127.0.0.1:6024\n",
      "web_url=http://127.0.0.1:7024/static/\n"
     ]
    },
    {
     "data": {
      "text/html": [
       "    <div style=\"height: 500px; width: 500px; overflow-x: auto; overflow-y: hidden; resize: both\">\n",
       "    <iframe src=\"http://127.0.0.1:7024/static/\" style=\"width: 100%; height: 100%; border: none\"></iframe>\n",
       "    </div>\n"
      ],
      "text/plain": [
       "MeshCat.IJuliaCell(MeshCat.ViewerWindow(ZMQ.Context(Ptr{Void} @0x00000000050d6d50, ZMQ.Socket[ZMQ.Socket(Ptr{Void} @0x00000000054b8860, Base.Filesystem._FDWatcher(Ptr{Void} @0x000000000533d970, 103, (1, 0), Condition(Any[]), (false, false), 0))]), ZMQ.Socket(Ptr{Void} @0x00000000054b8860, Base.Filesystem._FDWatcher(Ptr{Void} @0x000000000533d970, 103, (1, 0), Condition(Any[]), (false, false), 0)), \"http://127.0.0.1:7024/static/\", \"tcp://127.0.0.1:6024\", MeshCat.ZMQServer.ZMQWebSocketBridge(ip\"127.0.0.1\", Set{WebSockets.WebSocket}(), MeshCat.SceneTrees.SceneNode(Nullable{Array{UInt8,1}}(), Nullable{Array{UInt8,1}}(), Dict{String,MeshCat.SceneTrees.SceneNode}()), 7024, HttpServer.Server(HttpServer.HttpHandler(MeshCat.ZMQServer.handle_file_request, Base.TCPServer(RawFD(65) active), Dict{String,Function}(Pair{String,Function}(\"error\", HttpServer.#1),Pair{String,Function}(\"listen\", HttpServer.#3))), WebSockets.WebSocketHandler(MeshCat.ZMQServer.#5)), ZMQ.Context(Ptr{Void} @0x0000000003b582f0, ZMQ.Socket[ZMQ.Socket(Ptr{Void} @0x00000000050b9b00, Base.Filesystem._FDWatcher(Ptr{Void} @0x00000000053cd060, 72, (1, 0), Condition(Any[]), (false, false), 0)), ZMQ.Socket(Ptr{Void} @0x00000000054bde50, Base.Filesystem._FDWatcher(Ptr{Void} @0x0000000005499fd0, 73, (1, 0), Condition(Any[]), (false, false), 0)), ZMQ.Socket(Ptr{Void} @0x0000000004de6980, Base.Filesystem._FDWatcher(Ptr{Void} @0x00000000053c9510, 74, (1, 0), Condition(Any[]), (false, false), 0)), ZMQ.Socket(Ptr{Void} @0x0000000005200750, Base.Filesystem._FDWatcher(Ptr{Void} @0x0000000004df4a60, 75, (1, 0), Condition(Any[]), (false, false), 0)), ZMQ.Socket(Ptr{Void} @0x0000000005450f10, Base.Filesystem._FDWatcher(Ptr{Void} @0x00000000050d3d20, 76, (1, 0), Condition(Any[]), (false, false), 0)), ZMQ.Socket(Ptr{Void} @0x0000000005451630, Base.Filesystem._FDWatcher(Ptr{Void} @0x00000000051df4d0, 77, (1, 0), Condition(Any[]), (false, false), 0)), ZMQ.Socket(Ptr{Void} @0x00000000053d7f30, Base.Filesystem._FDWatcher(Ptr{Void} @0x000000000543ac30, 78, (1, 0), Condition(Any[]), (false, false), 0)), ZMQ.Socket(Ptr{Void} @0x00000000053d8650, Base.Filesystem._FDWatcher(Ptr{Void} @0x00000000053ccf60, 79, (1, 0), Condition(Any[]), (false, false), 0)), ZMQ.Socket(Ptr{Void} @0x00000000053c67d0, Base.Filesystem._FDWatcher(Ptr{Void} @0x00000000053c8470, 80, (1, 0), Condition(Any[]), (false, false), 0)), ZMQ.Socket(Ptr{Void} @0x00000000053c6ef0, Base.Filesystem._FDWatcher(Ptr{Void} @0x00000000054a7480, 81, (1, 0), Condition(Any[]), (false, false), 0))  …  ZMQ.Socket(Ptr{Void} @0x0000000005452650, Base.Filesystem._FDWatcher(Ptr{Void} @0x00000000053c49e0, 87, (1, 0), Condition(Any[]), (false, false), 0)), ZMQ.Socket(Ptr{Void} @0x0000000005452d70, Base.Filesystem._FDWatcher(Ptr{Void} @0x00000000052028d0, 88, (1, 0), Condition(Any[]), (false, false), 0)), ZMQ.Socket(Ptr{Void} @0x0000000005453490, Base.Filesystem._FDWatcher(Ptr{Void} @0x000000000548e840, 89, (1, 0), Condition(Any[]), (false, false), 0)), ZMQ.Socket(Ptr{Void} @0x00000000054a3d40, Base.Filesystem._FDWatcher(Ptr{Void} @0x000000000532cb40, 90, (1, 0), Condition(Any[]), (false, false), 0)), ZMQ.Socket(Ptr{Void} @0x00000000054a4460, Base.Filesystem._FDWatcher(Ptr{Void} @0x00000000053c77b0, 91, (1, 0), Condition(Any[]), (false, false), 0)), ZMQ.Socket(Ptr{Void} @0x00000000054a4b80, Base.Filesystem._FDWatcher(Ptr{Void} @0x000000000549e7f0, 92, (1, 0), Condition(Any[]), (false, false), 0)), ZMQ.Socket(Ptr{Void} @0x00000000054a52a0, Base.Filesystem._FDWatcher(Ptr{Void} @0x0000000003c9e910, 93, (1, 0), Condition(Any[]), (false, false), 0)), ZMQ.Socket(Ptr{Void} @0x00000000054a59c0, Base.Filesystem._FDWatcher(Ptr{Void} @0x00000000053d8f10, 94, (1, 0), Condition(Any[]), (false, false), 0)), ZMQ.Socket(Ptr{Void} @0x00000000054a60e0, Base.Filesystem._FDWatcher(Ptr{Void} @0x00000000053c5450, 95, (1, 0), Condition(Any[]), (false, false), 0)), ZMQ.Socket(Ptr{Void} @0x000000000544a8d0, Base.Filesystem._FDWatcher(Ptr{Void} @0x00000000051d3be0, 96, (1, 0), Condition(Any[Task (runnable) @0x00007fc344ee7730]), (true, false), 0))]), ZMQ.Socket(Ptr{Void} @0x000000000544a8d0, Base.Filesystem._FDWatcher(Ptr{Void} @0x00000000051d3be0, 96, (1, 0), Condition(Any[Task (runnable) @0x00007fc344ee7730]), (true, false), 0)), \"tcp://127.0.0.1:6024\")), false)"
      ]
     },
     "execution_count": 3,
     "metadata": {},
     "output_type": "execute_result"
    }
   ],
   "source": [
    "vis = Visualizer()\n",
    "IJuliaCell(vis)"
   ]
  },
  {
   "cell_type": "code",
   "execution_count": 24,
   "metadata": {},
   "outputs": [],
   "source": [
    "robot = BoxAtlas()\n",
    "delete!(vis)\n",
    "mvis = MechanismVisualizer(robot, vis)\n",
    "xstar = nominal_state(robot)\n",
    "set_configuration!(mvis, configuration(xstar))"
   ]
  },
  {
   "cell_type": "code",
   "execution_count": null,
   "metadata": {},
   "outputs": [],
   "source": []
  }
 ],
 "metadata": {
  "kernelspec": {
   "display_name": "Julia 0.6.2",
   "language": "julia",
   "name": "julia-0.6"
  },
  "language_info": {
   "file_extension": ".jl",
   "mimetype": "application/julia",
   "name": "julia",
   "version": "0.6.2"
  }
 },
 "nbformat": 4,
 "nbformat_minor": 2
}
