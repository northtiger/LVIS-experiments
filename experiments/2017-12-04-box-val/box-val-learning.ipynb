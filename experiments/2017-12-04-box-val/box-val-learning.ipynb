{
 "cells": [
  {
   "cell_type": "code",
   "execution_count": null,
   "metadata": {
    "collapsed": true
   },
   "outputs": [],
   "source": [
    "using Revise"
   ]
  },
  {
   "cell_type": "code",
   "execution_count": null,
   "metadata": {},
   "outputs": [],
   "source": [
    "using RigidBodyDynamics\n",
    "using DrakeVisualizer\n",
    "DrakeVisualizer.any_open_windows() || DrakeVisualizer.new_window()\n",
    "using RigidBodyTreeInspector\n",
    "using Gurobi\n",
    "import StochasticOptimization\n",
    "using Plots; gr()\n",
    "using JLD2\n",
    "using ProgressMeter"
   ]
  },
  {
   "cell_type": "code",
   "execution_count": null,
   "metadata": {},
   "outputs": [],
   "source": [
    "import LCPSim\n",
    "import LearningMPC\n",
    "import BoxValkyries\n",
    "import Nets"
   ]
  },
  {
   "cell_type": "code",
   "execution_count": null,
   "metadata": {},
   "outputs": [],
   "source": [
    "robot = BoxValkyries.BoxValkyrie(false)\n",
    "mechanism = robot.mechanism\n",
    "xstar = BoxValkyries.nominal_state(robot)\n",
    "\n",
    "basevis = Visualizer()[:cartpole]\n",
    "setgeometry!(basevis, robot)\n",
    "settransform!(basevis[:robot], xstar)\n",
    "\n",
    "mpc_params = LearningMPC.MPCParams(\n",
    "    Δt=0.05,\n",
    "    horizon=10,\n",
    "    mip_solver=GurobiSolver(Gurobi.Env(), OutputFlag=0, TimeLimit=120, MIPGap=1e-1, FeasibilityTol=1e-3),\n",
    "    lcp_solver=GurobiSolver(Gurobi.Env(), OutputFlag=0))\n",
    "\n",
    "Q, R = BoxValkyries.default_costs(robot)\n",
    "lqrsol = LearningMPC.LQRSolution(xstar, Q, R, mpc_params.Δt)\n",
    "\n",
    "hidden_widths = [32, 32, 32, 32]\n",
    "activation = Nets.leaky_relu\n",
    "net = LearningMPC.control_net(mechanism, hidden_widths, activation)\n",
    "\n",
    "net_controller = x -> Nets.predict(net, state_vector(x))\n",
    "\n",
    "mpc_controller = LearningMPC.MPCController(mechanism, \n",
    "    robot.environment, mpc_params, lqrsol, \n",
    "    [net_controller, lqrsol]);\n",
    "\n",
    "sample_sink = LearningMPC.MPCSampleSink{Float64}()\n",
    "playback_sink = LearningMPC.PlaybackSink(basevis[:robot], mpc_params.Δt)\n",
    "\n",
    "mpc_controller.callback = LearningMPC.call_each(\n",
    "    sample_sink,\n",
    "    playback_sink)\n",
    "\n",
    "live_viewer = LearningMPC.live_viewer(mechanism, basevis[:robot])\n",
    "\n",
    "dagger_controller = LearningMPC.call_each(\n",
    "    LearningMPC.dagger_controller(\n",
    "        mpc_controller,\n",
    "        net_controller,\n",
    "        0.2),\n",
    "    live_viewer\n",
    "    )\n",
    "\n",
    "termination = x -> begin\n",
    "    (configuration(x)[2] < 0.5 || \n",
    "     configuration(x)[3] > π/4 ||\n",
    "     configuration(x)[3] < -π/4)\n",
    "end\n",
    "\n",
    "dataset = LearningMPC.Dataset(lqrsol)\n",
    "\n",
    "updater = Nets.adam_updater(net)\n",
    "\n",
    "gradient_sensitivity = 0.2\n",
    "loss = LearningMPC.sensitive_loss(net, gradient_sensitivity)\n",
    "adam_opts = Nets.AdamOpts(learning_rate=1e-3, batch_size=1)\n",
    "\n",
    "function collect_into!(data::Vector{<:LearningMPC.Sample})\n",
    "    empty!(sample_sink)\n",
    "    LearningMPC.randomize!(x0, xstar, 0.1, 0.5)\n",
    "    results = LCPSim.simulate(x0, \n",
    "        dagger_controller,\n",
    "        robot.environment, mpc_params.Δt, 30, \n",
    "        mpc_params.lcp_solver;\n",
    "        termination=termination);\n",
    "    append!(data, sample_sink.samples)\n",
    "end\n",
    "\n",
    "all_losses(net, dataset) = (LearningMPC.training_loss(net, dataset),\n",
    "                            LearningMPC.validation_loss(net, dataset))\n",
    "\n",
    "x0 = MechanismState{Float64}(mechanism)"
   ]
  },
  {
   "cell_type": "code",
   "execution_count": null,
   "metadata": {
    "scrolled": false
   },
   "outputs": [],
   "source": [
    "losses = Tuple{Float64, Float64}[]\n",
    "snapshots = LearningMPC.Snapshot{Float64}[]\n",
    "\n",
    "@showprogress for i in 1:20\n",
    "    for i in 1:2\n",
    "        collect_into!(dataset.training_data)\n",
    "    end\n",
    "    collect_into!(dataset.testing_data)\n",
    "    collect_into!(dataset.validation_data);\n",
    "    \n",
    "    for i in 1:5\n",
    "        Nets.adam_update!(net.params.data, updater, loss, \n",
    "            LearningMPC.features.(dataset.training_data), adam_opts);\n",
    "        push!(losses, all_losses(net, dataset))\n",
    "    end\n",
    "    \n",
    "    push!(snapshots, LearningMPC.Snapshot(net.params.data, net))\n",
    "    \n",
    "    jldopen(\"box-val-$gradient_sensitivity.jld2\", \"w\") do file\n",
    "        file[\"dataset\"] = dataset\n",
    "        file[\"snapshots\"] = snapshots\n",
    "    end\n",
    "    \n",
    "    plt = plot(first.(losses), label=\"training\")\n",
    "    plot!(plt, last.(losses), label=\"validation\")\n",
    "    ylims!(plt, (0, ylims(plt)[2]))\n",
    "    display(plt)\n",
    "end"
   ]
  },
  {
   "cell_type": "code",
   "execution_count": null,
   "metadata": {
    "collapsed": true
   },
   "outputs": [],
   "source": [
    "basename = \"box-val-losses-sensitivity-$gradient_sensitivity\""
   ]
  },
  {
   "cell_type": "code",
   "execution_count": null,
   "metadata": {
    "collapsed": true
   },
   "outputs": [],
   "source": [
    "jldopen(\"$basename.jld2\", \"w\") do file\n",
    "    file[\"losses\"] = losses\n",
    "end;\n",
    "\n",
    "plt = plot(first.(losses), label=\"training\", ylim=(0, max(maximum(first, losses), maximum(last, losses))))\n",
    "plot!(plt, last.(losses), label=\"validation\")\n",
    "savefig(plt, \"$basename.pdf\")\n",
    "savefig(plt, \"$basename.png\")\n",
    "plt"
   ]
  },
  {
   "cell_type": "code",
   "execution_count": null,
   "metadata": {},
   "outputs": [],
   "source": [
    "plt = plot()\n",
    "\n",
    "for sensitivity in [0.0, 0.2, 0.5, 0.8]\n",
    "    ls = jldopen(\"box-val-losses-sensitivity-$sensitivity.jld2\", \"r\") do file\n",
    "        file[\"losses\"]\n",
    "    end\n",
    "\n",
    "    plot!(plt, first.(ls), label=\"training-$sensitivity\")\n",
    "    plot!(plt, last.(ls), label=\"validation-$sensitivity\")\n",
    "end\n",
    "ylims!(plt, (0, ylims(plt)[2]))\n",
    "plt"
   ]
  },
  {
   "cell_type": "code",
   "execution_count": null,
   "metadata": {
    "collapsed": true
   },
   "outputs": [],
   "source": [
    "LearningMPC.randomize!(x0, xstar, 0.1, 1.0)\n",
    "results = LCPSim.simulate(x0, \n",
    "    net_controller,\n",
    "    robot.environment, mpc_params.Δt, 200, mpc_params.lcp_solver);"
   ]
  },
  {
   "cell_type": "code",
   "execution_count": null,
   "metadata": {
    "collapsed": true
   },
   "outputs": [],
   "source": [
    "LearningMPC.playback(basevis[:robot], results, mpc_params.Δt)"
   ]
  },
  {
   "cell_type": "code",
   "execution_count": null,
   "metadata": {
    "collapsed": true
   },
   "outputs": [],
   "source": []
  }
 ],
 "metadata": {
  "kernelspec": {
   "display_name": "Julia 0.6.1",
   "language": "julia",
   "name": "julia-0.6"
  },
  "language_info": {
   "file_extension": ".jl",
   "mimetype": "application/julia",
   "name": "julia",
   "version": "0.6.1"
  }
 },
 "nbformat": 4,
 "nbformat_minor": 2
}
