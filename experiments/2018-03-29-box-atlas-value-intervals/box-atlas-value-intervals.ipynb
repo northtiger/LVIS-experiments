{
 "cells": [
  {
   "cell_type": "markdown",
   "metadata": {},
   "source": [
    "# Box Atlas Value Function Intervals\n",
    "\n",
    "I want to determine if I can collect reasonable intervals for the box atlas value function without spending oodles of time solving MIQPs. \n",
    "\n",
    "To do that, I'm going to sweep along a single parameter and then plot the resulting intervals with some sort of early-termination criterion. "
   ]
  },
  {
   "cell_type": "code",
   "execution_count": 1,
   "metadata": {},
   "outputs": [],
   "source": [
    "using Revise"
   ]
  },
  {
   "cell_type": "code",
   "execution_count": 2,
   "metadata": {},
   "outputs": [
    {
     "data": {
      "text/plain": [
       "Plots.GRBackend()"
      ]
     },
     "execution_count": 2,
     "metadata": {},
     "output_type": "execute_result"
    }
   ],
   "source": [
    "using MeshCat\n",
    "using MeshCatMechanisms\n",
    "using RigidBodyDynamics\n",
    "using JuMP\n",
    "using Gurobi\n",
    "using JLD2\n",
    "using FileIO\n",
    "using Plots; gr()"
   ]
  },
  {
   "cell_type": "code",
   "execution_count": 3,
   "metadata": {},
   "outputs": [
    {
     "name": "stderr",
     "output_type": "stream",
     "text": [
      "\u001b[1m\u001b[36mINFO: \u001b[39m\u001b[22m\u001b[36mRecompiling stale cache file /home/rdeits/locomotion/explorations/learning-mpc/packages/lib/v0.6/BoxValkyries.ji for module BoxValkyries.\n",
      "\u001b[39m"
     ]
    }
   ],
   "source": [
    "import LCPSim\n",
    "import BoxValkyries"
   ]
  },
  {
   "cell_type": "code",
   "execution_count": 4,
   "metadata": {},
   "outputs": [
    {
     "name": "stdout",
     "output_type": "stream",
     "text": [
      "Listening on 127.0.0.1:7000...\n",
      "zmq_url=tcp://127.0.0.1:6000\n",
      "web_url=http://127.0.0.1:7000/static/\n"
     ]
    },
    {
     "data": {
      "text/html": [
       "    <div style=\"height: 500px; width: 500px; overflow-x: auto; overflow-y: hidden; resize: both\">\n",
       "    <iframe src=\"http://127.0.0.1:7000/static/\" style=\"width: 100%; height: 100%; border: none\"></iframe>\n",
       "    </div>\n"
      ],
      "text/plain": [
       "MeshCat.IJuliaCell(MeshCat.ViewerWindow(ZMQ.Context(Ptr{Void} @0x0000000006566840, ZMQ.Socket[ZMQ.Socket(Ptr{Void} @0x000000000659d290, Base.Filesystem._FDWatcher(Ptr{Void} @0x0000000006584070, 55, (1, 0), Condition(Any[]), (false, false), 0))]), ZMQ.Socket(Ptr{Void} @0x000000000659d290, Base.Filesystem._FDWatcher(Ptr{Void} @0x0000000006584070, 55, (1, 0), Condition(Any[]), (false, false), 0)), \"http://127.0.0.1:7000/static/\", \"tcp://127.0.0.1:6000\", MeshCat.ZMQServer.ZMQWebSocketBridge(ip\"127.0.0.1\", Set{WebSockets.WebSocket}(), MeshCat.SceneTrees.SceneNode(Nullable{Array{UInt8,1}}(), Nullable{Array{UInt8,1}}(), Dict(\"meshcat\"=>MeshCat.SceneTrees.SceneNode(#NULL, #NULL, Dict(\"robot\"=>MeshCat.SceneTrees.SceneNode(#NULL, UInt8[0x83, 0xa6, 0x6d, 0x61, 0x74, 0x72, 0x69, 0x78, 0xc7, 0x40  …  0x68, 0x63, 0x61, 0x74, 0x2f, 0x72, 0x6f, 0x62, 0x6f, 0x74], Dict(\"world\"=>MeshCat.SceneTrees.SceneNode(#NULL, #NULL, Dict(\"dummy\"=>MeshCat.SceneTrees.SceneNode(#NULL, UInt8[0x83, 0xa6, 0x6d, 0x61, 0x74, 0x72, 0x69, 0x78, 0xc7, 0x40  …  0x6f, 0x72, 0x6c, 0x64, 0x2f, 0x64, 0x75, 0x6d, 0x6d, 0x79], Dict(\"base\"=>MeshCat.SceneTrees.SceneNode(#NULL, UInt8[0x83, 0xa6, 0x6d, 0x61, 0x74, 0x72, 0x69, 0x78, 0xc7, 0x40  …  0x64, 0x75, 0x6d, 0x6d, 0x79, 0x2f, 0x62, 0x61, 0x73, 0x65], Dict(\"core\"=>MeshCat.SceneTrees.SceneNode(#NULL, UInt8[0x83, 0xa6, 0x6d, 0x61, 0x74, 0x72, 0x69, 0x78, 0xc7, 0x40  …  0x2f, 0x62, 0x61, 0x73, 0x65, 0x2f, 0x63, 0x6f, 0x72, 0x65], Dict(\"rh_dummy\"=>MeshCat.SceneTrees.SceneNode(#NULL, UInt8[0x83, 0xa6, 0x6d, 0x61, 0x74, 0x72, 0x69, 0x78, 0xc7, 0x40  …  0x65, 0x2f, 0x72, 0x68, 0x5f, 0x64, 0x75, 0x6d, 0x6d, 0x79], Dict(\"after_core_to_rh_rotation\"=>MeshCat.SceneTrees.SceneNode(#NULL, UInt8[0x83, 0xa6, 0x6d, 0x61, 0x74, 0x72, 0x69, 0x78, 0xc7, 0x40  …  0x68, 0x5f, 0x72, 0x6f, 0x74, 0x61, 0x74, 0x69, 0x6f, 0x6e], Dict(\"geometry_2\"=>MeshCat.SceneTrees.SceneNode(UInt8[0x83, 0xa6, 0x6f, 0x62, 0x6a, 0x65, 0x63, 0x74, 0x84, 0xaa  …  0x67, 0x65, 0x6f, 0x6d, 0x65, 0x74, 0x72, 0x79, 0x5f, 0x32], UInt8[0x83, 0xa6, 0x6d, 0x61, 0x74, 0x72, 0x69, 0x78, 0xc7, 0x40  …  0x67, 0x65, 0x6f, 0x6d, 0x65, 0x74, 0x72, 0x79, 0x5f, 0x32], Dict{String,MeshCat.SceneTrees.SceneNode}()))),\"rh\"=>MeshCat.SceneTrees.SceneNode(#NULL, UInt8[0x83, 0xa6, 0x6d, 0x61, 0x74, 0x72, 0x69, 0x78, 0xc7, 0x40  …  0x68, 0x5f, 0x64, 0x75, 0x6d, 0x6d, 0x79, 0x2f, 0x72, 0x68], Dict(\"after_core_to_rh_extension\"=>MeshCat.SceneTrees.SceneNode(#NULL, UInt8[0x83, 0xa6, 0x6d, 0x61, 0x74, 0x72, 0x69, 0x78, 0xc7, 0x40  …  0x5f, 0x65, 0x78, 0x74, 0x65, 0x6e, 0x73, 0x69, 0x6f, 0x6e], Dict(\"geometry_3\"=>MeshCat.SceneTrees.SceneNode(UInt8[0x83, 0xa6, 0x6f, 0x62, 0x6a, 0x65, 0x63, 0x74, 0x84, 0xaa  …  0x67, 0x65, 0x6f, 0x6d, 0x65, 0x74, 0x72, 0x79, 0x5f, 0x33], UInt8[0x83, 0xa6, 0x6d, 0x61, 0x74, 0x72, 0x69, 0x78, 0xc7, 0x40  …  0x67, 0x65, 0x6f, 0x6d, 0x65, 0x74, 0x72, 0x79, 0x5f, 0x33], Dict{String,MeshCat.SceneTrees.SceneNode}()))))))),\"rf_dummy\"=>MeshCat.SceneTrees.SceneNode(#NULL, UInt8[0x83, 0xa6, 0x6d, 0x61, 0x74, 0x72, 0x69, 0x78, 0xc7, 0x40  …  0x65, 0x2f, 0x72, 0x66, 0x5f, 0x64, 0x75, 0x6d, 0x6d, 0x79], Dict(\"after_core_to_rf_rotation\"=>MeshCat.SceneTrees.SceneNode(#NULL, UInt8[0x83, 0xa6, 0x6d, 0x61, 0x74, 0x72, 0x69, 0x78, 0xc7, 0x40  …  0x66, 0x5f, 0x72, 0x6f, 0x74, 0x61, 0x74, 0x69, 0x6f, 0x6e], Dict(\"geometry_6\"=>MeshCat.SceneTrees.SceneNode(UInt8[0x83, 0xa6, 0x6f, 0x62, 0x6a, 0x65, 0x63, 0x74, 0x84, 0xaa  …  0x67, 0x65, 0x6f, 0x6d, 0x65, 0x74, 0x72, 0x79, 0x5f, 0x36], UInt8[0x83, 0xa6, 0x6d, 0x61, 0x74, 0x72, 0x69, 0x78, 0xc7, 0x40  …  0x67, 0x65, 0x6f, 0x6d, 0x65, 0x74, 0x72, 0x79, 0x5f, 0x36], Dict{String,MeshCat.SceneTrees.SceneNode}()))),\"rf\"=>MeshCat.SceneTrees.SceneNode(#NULL, UInt8[0x83, 0xa6, 0x6d, 0x61, 0x74, 0x72, 0x69, 0x78, 0xc7, 0x40  …  0x66, 0x5f, 0x64, 0x75, 0x6d, 0x6d, 0x79, 0x2f, 0x72, 0x66], Dict(\"after_core_to_rf_extension\"=>MeshCat.SceneTrees.SceneNode(#NULL, UInt8[0x83, 0xa6, 0x6d, 0x61, 0x74, 0x72, 0x69, 0x78, 0xc7, 0x40  …  0x5f, 0x65, 0x78, 0x74, 0x65, 0x6e, 0x73, 0x69, 0x6f, 0x6e], Dict(\"geometry_7\"=>MeshCat.SceneTrees.SceneNode(UInt8[0x83, 0xa6, 0x6f, 0x62, 0x6a, 0x65, 0x63, 0x74, 0x84, 0xaa  …  0x67, 0x65, 0x6f, 0x6d, 0x65, 0x74, 0x72, 0x79, 0x5f, 0x37], UInt8[0x83, 0xa6, 0x6d, 0x61, 0x74, 0x72, 0x69, 0x78, 0xc7, 0x40  …  0x67, 0x65, 0x6f, 0x6d, 0x65, 0x74, 0x72, 0x79, 0x5f, 0x37], Dict{String,MeshCat.SceneTrees.SceneNode}()))))))),\"core\"=>MeshCat.SceneTrees.SceneNode(#NULL, UInt8[0x83, 0xa6, 0x6d, 0x61, 0x74, 0x72, 0x69, 0x78, 0xc7, 0x40  …  0x2f, 0x63, 0x6f, 0x72, 0x65, 0x2f, 0x63, 0x6f, 0x72, 0x65], Dict(\"geometry_1\"=>MeshCat.SceneTrees.SceneNode(UInt8[0x83, 0xa6, 0x6f, 0x62, 0x6a, 0x65, 0x63, 0x74, 0x84, 0xaa  …  0x67, 0x65, 0x6f, 0x6d, 0x65, 0x74, 0x72, 0x79, 0x5f, 0x31], UInt8[0x83, 0xa6, 0x6d, 0x61, 0x74, 0x72, 0x69, 0x78, 0xc7, 0x40  …  0x67, 0x65, 0x6f, 0x6d, 0x65, 0x74, 0x72, 0x79, 0x5f, 0x31], Dict{String,MeshCat.SceneTrees.SceneNode}()))),\"lh_dummy\"=>MeshCat.SceneTrees.SceneNode(#NULL, UInt8[0x83, 0xa6, 0x6d, 0x61, 0x74, 0x72, 0x69, 0x78, 0xc7, 0x40  …  0x65, 0x2f, 0x6c, 0x68, 0x5f, 0x64, 0x75, 0x6d, 0x6d, 0x79], Dict(\"after_core_to_lh_rotation\"=>MeshCat.SceneTrees.SceneNode(#NULL, UInt8[0x83, 0xa6, 0x6d, 0x61, 0x74, 0x72, 0x69, 0x78, 0xc7, 0x40  …  0x68, 0x5f, 0x72, 0x6f, 0x74, 0x61, 0x74, 0x69, 0x6f, 0x6e], Dict(\"geometry_4\"=>MeshCat.SceneTrees.SceneNode(UInt8[0x83, 0xa6, 0x6f, 0x62, 0x6a, 0x65, 0x63, 0x74, 0x84, 0xaa  …  0x67, 0x65, 0x6f, 0x6d, 0x65, 0x74, 0x72, 0x79, 0x5f, 0x34], UInt8[0x83, 0xa6, 0x6d, 0x61, 0x74, 0x72, 0x69, 0x78, 0xc7, 0x40  …  0x67, 0x65, 0x6f, 0x6d, 0x65, 0x74, 0x72, 0x79, 0x5f, 0x34], Dict{String,MeshCat.SceneTrees.SceneNode}()))),\"lh\"=>MeshCat.SceneTrees.SceneNode(#NULL, UInt8[0x83, 0xa6, 0x6d, 0x61, 0x74, 0x72, 0x69, 0x78, 0xc7, 0x40  …  0x68, 0x5f, 0x64, 0x75, 0x6d, 0x6d, 0x79, 0x2f, 0x6c, 0x68], Dict(\"after_core_to_lh_extension\"=>MeshCat.SceneTrees.SceneNode(#NULL, UInt8[0x83, 0xa6, 0x6d, 0x61, 0x74, 0x72, 0x69, 0x78, 0xc7, 0x40  …  0x5f, 0x65, 0x78, 0x74, 0x65, 0x6e, 0x73, 0x69, 0x6f, 0x6e], Dict(\"geometry_5\"=>MeshCat.SceneTrees.SceneNode(UInt8[0x83, 0xa6, 0x6f, 0x62, 0x6a, 0x65, 0x63, 0x74, 0x84, 0xaa  …  0x67, 0x65, 0x6f, 0x6d, 0x65, 0x74, 0x72, 0x79, 0x5f, 0x35], UInt8[0x83, 0xa6, 0x6d, 0x61, 0x74, 0x72, 0x69, 0x78, 0xc7, 0x40  …  0x67, 0x65, 0x6f, 0x6d, 0x65, 0x74, 0x72, 0x79, 0x5f, 0x35], Dict{String,MeshCat.SceneTrees.SceneNode}()))))))),\"lf_dummy\"=>MeshCat.SceneTrees.SceneNode(#NULL, UInt8[0x83, 0xa6, 0x6d, 0x61, 0x74, 0x72, 0x69, 0x78, 0xc7, 0x40  …  0x65, 0x2f, 0x6c, 0x66, 0x5f, 0x64, 0x75, 0x6d, 0x6d, 0x79], Dict(\"after_core_to_lf_rotation\"=>MeshCat.SceneTrees.SceneNode(#NULL, UInt8[0x83, 0xa6, 0x6d, 0x61, 0x74, 0x72, 0x69, 0x78, 0xc7, 0x40  …  0x66, 0x5f, 0x72, 0x6f, 0x74, 0x61, 0x74, 0x69, 0x6f, 0x6e], Dict(\"geometry_8\"=>MeshCat.SceneTrees.SceneNode(UInt8[0x83, 0xa6, 0x6f, 0x62, 0x6a, 0x65, 0x63, 0x74, 0x84, 0xaa  …  0x67, 0x65, 0x6f, 0x6d, 0x65, 0x74, 0x72, 0x79, 0x5f, 0x38], UInt8[0x83, 0xa6, 0x6d, 0x61, 0x74, 0x72, 0x69, 0x78, 0xc7, 0x40  …  0x67, 0x65, 0x6f, 0x6d, 0x65, 0x74, 0x72, 0x79, 0x5f, 0x38], Dict{String,MeshCat.SceneTrees.SceneNode}()))),\"lf\"=>MeshCat.SceneTrees.SceneNode(#NULL, UInt8[0x83, 0xa6, 0x6d, 0x61, 0x74, 0x72, 0x69, 0x78, 0xc7, 0x40  …  0x66, 0x5f, 0x64, 0x75, 0x6d, 0x6d, 0x79, 0x2f, 0x6c, 0x66], Dict(\"after_core_to_lf_extension\"=>MeshCat.SceneTrees.SceneNode(#NULL, UInt8[0x83, 0xa6, 0x6d, 0x61, 0x74, 0x72, 0x69, 0x78, 0xc7, 0x40  …  0x5f, 0x65, 0x78, 0x74, 0x65, 0x6e, 0x73, 0x69, 0x6f, 0x6e], Dict(\"geometry_9\"=>MeshCat.SceneTrees.SceneNode(UInt8[0x83, 0xa6, 0x6f, 0x62, 0x6a, 0x65, 0x63, 0x74, 0x84, 0xaa  …  0x67, 0x65, 0x6f, 0x6d, 0x65, 0x74, 0x72, 0x79, 0x5f, 0x39], UInt8[0x83, 0xa6, 0x6d, 0x61, 0x74, 0x72, 0x69, 0x78, 0xc7, 0x40  …  0x67, 0x65, 0x6f, 0x6d, 0x65, 0x74, 0x72, 0x79, 0x5f, 0x39], Dict{String,MeshCat.SceneTrees.SceneNode}()))))))))))))))))),\"environment\"=>MeshCat.SceneTrees.SceneNode(#NULL, #NULL, Dict(\"4\"=>MeshCat.SceneTrees.SceneNode(UInt8[0x83, 0xa6, 0x6f, 0x62, 0x6a, 0x65, 0x63, 0x74, 0x84, 0xaa  …  0x69, 0x72, 0x6f, 0x6e, 0x6d, 0x65, 0x6e, 0x74, 0x2f, 0x34], #NULL, Dict{String,MeshCat.SceneTrees.SceneNode}()),\"1\"=>MeshCat.SceneTrees.SceneNode(UInt8[0x83, 0xa6, 0x6f, 0x62, 0x6a, 0x65, 0x63, 0x74, 0x84, 0xaa  …  0x69, 0x72, 0x6f, 0x6e, 0x6d, 0x65, 0x6e, 0x74, 0x2f, 0x31], #NULL, Dict{String,MeshCat.SceneTrees.SceneNode}()),\"2\"=>MeshCat.SceneTrees.SceneNode(UInt8[0x83, 0xa6, 0x6f, 0x62, 0x6a, 0x65, 0x63, 0x74, 0x84, 0xaa  …  0x69, 0x72, 0x6f, 0x6e, 0x6d, 0x65, 0x6e, 0x74, 0x2f, 0x32], #NULL, Dict{String,MeshCat.SceneTrees.SceneNode}()),\"3\"=>MeshCat.SceneTrees.SceneNode(UInt8[0x83, 0xa6, 0x6f, 0x62, 0x6a, 0x65, 0x63, 0x74, 0x84, 0xaa  …  0x69, 0x72, 0x6f, 0x6e, 0x6d, 0x65, 0x6e, 0x74, 0x2f, 0x33], #NULL, Dict{String,MeshCat.SceneTrees.SceneNode}()))))))), 7000, HttpServer.Server(HttpServer.HttpHandler(MeshCat.ZMQServer.handle_file_request, Base.TCPServer(RawFD(41) active), Dict{String,Function}(Pair{String,Function}(\"error\", HttpServer.#1),Pair{String,Function}(\"listen\", HttpServer.#3))), WebSockets.WebSocketHandler(MeshCat.ZMQServer.#5)), ZMQ.Context(Ptr{Void} @0x0000000006599a40, ZMQ.Socket[ZMQ.Socket(Ptr{Void} @0x00000000065bcd20, Base.Filesystem._FDWatcher(Ptr{Void} @0x00000000064fec40, 48, (1, 0), Condition(Any[Task (runnable) @0x00007f0471dc57b0]), (true, false), 0))]), ZMQ.Socket(Ptr{Void} @0x00000000065bcd20, Base.Filesystem._FDWatcher(Ptr{Void} @0x00000000064fec40, 48, (1, 0), Condition(Any[Task (runnable) @0x00007f0471dc57b0]), (true, false), 0)), \"tcp://127.0.0.1:6000\")), false)"
      ]
     },
     "execution_count": 4,
     "metadata": {},
     "output_type": "execute_result"
    }
   ],
   "source": [
    "robot = BoxValkyries.BoxValkyrie()\n",
    "mvis = MechanismVisualizer(robot)\n",
    "IJuliaCell(mvis)"
   ]
  },
  {
   "cell_type": "code",
   "execution_count": 28,
   "metadata": {},
   "outputs": [
    {
     "name": "stdout",
     "output_type": "stream",
     "text": [
      "Academic license - for non-commercial use only\n",
      "Academic license - for non-commercial use only\n"
     ]
    },
    {
     "data": {
      "text/plain": [
       "(::#35) (generic function with 1 method)"
      ]
     },
     "execution_count": 28,
     "metadata": {},
     "output_type": "execute_result"
    }
   ],
   "source": [
    "xstar = BoxValkyries.nominal_state(robot)\n",
    "mpc_params = LearningMPC.MPCParams(\n",
    "    Δt=0.05,\n",
    "    horizon=10,\n",
    "    mip_solver=GurobiSolver(Gurobi.Env(), OutputFlag=0, \n",
    "        TimeLimit=5,\n",
    "        FeasibilityTol=1e-3),\n",
    "    lcp_solver=GurobiSolver(Gurobi.Env(), OutputFlag=0))\n",
    "\n",
    "Q, R = BoxValkyries.default_costs(robot)\n",
    "feet = findbody.(robot.mechanism, [\"lf\", \"rf\"])\n",
    "lqrsol = LearningMPC.LQRSolution(xstar, Q, R, mpc_params.Δt, Point3D.(default_frame.(feet), 0., 0., 0.))\n",
    "# lqrsol.S .= 1 ./ mpc_params.Δt .* Q\n",
    "\n",
    "mpc_controller = LearningMPC.MPCController(robot.mechanism, \n",
    "    robot.environment, mpc_params, lqrsol, \n",
    "    [lqrsol]);\n",
    "\n",
    "sample_sink = LearningMPC.MPCSampleSink{Float64}(true)\n",
    "playback_sink = LearningMPC.PlaybackSink(mvis, mpc_params.Δt)\n",
    "\n",
    "mpc_controller.callback = LearningMPC.call_each(\n",
    "    sample_sink,\n",
    "    playback_sink,\n",
    ")"
   ]
  },
  {
   "cell_type": "code",
   "execution_count": 29,
   "metadata": {},
   "outputs": [
    {
     "data": {
      "text/plain": [
       "MechanismState{Float64, Float64, Float64, …}(…)"
      ]
     },
     "execution_count": 29,
     "metadata": {},
     "output_type": "execute_result"
    }
   ],
   "source": [
    "x0 = BoxValkyries.nominal_state(robot)"
   ]
  },
  {
   "cell_type": "code",
   "execution_count": 30,
   "metadata": {},
   "outputs": [
    {
     "data": {
      "text/plain": [
       "10-element Array{Float64,1}:\n",
       " 0.0        \n",
       " 0.0        \n",
       " 0.24525    \n",
       " 0.24525    \n",
       " 2.22045e-16\n",
       " 2.22045e-16\n",
       " 0.0        \n",
       " 0.0        \n",
       " 5.3955     \n",
       " 5.3955     "
      ]
     },
     "execution_count": 30,
     "metadata": {},
     "output_type": "execute_result"
    }
   ],
   "source": [
    "mpc_controller(x0)"
   ]
  },
  {
   "cell_type": "code",
   "execution_count": 33,
   "metadata": {},
   "outputs": [],
   "source": [
    "empty!(sample_sink)\n",
    "for v_x in linspace(-6, 6, 31)\n",
    "    x0 = BoxValkyries.nominal_state(robot)\n",
    "    set_velocity!(x0, findjoint(robot.mechanism, \"base_x\"), v_x)\n",
    "    mpc_controller(x0)\n",
    "end"
   ]
  },
  {
   "cell_type": "code",
   "execution_count": 34,
   "metadata": {},
   "outputs": [
    {
     "data": {
      "text/plain": [
       "Dict{String,Any} with 2 entries:\n",
       "  \"horizon\" => 10\n",
       "  \"Δt\"      => 0.05"
      ]
     },
     "execution_count": 34,
     "metadata": {},
     "output_type": "execute_result"
    }
   ],
   "source": [
    "jldopen(\"results.jld2\", \"w\") do file\n",
    "    file[\"samples\"] = sample_sink.samples\n",
    "    file[\"lqrsol\"] = lqrsol\n",
    "    file[\"mpc_params\"] = Dict(\n",
    "            \"Δt\" => mpc_params.Δt,\n",
    "            \"horizon\" => mpc_params.horizon,\n",
    "        )\n",
    "end"
   ]
  },
  {
   "cell_type": "code",
   "execution_count": 31,
   "metadata": {},
   "outputs": [
    {
     "name": "stdout",
     "output_type": "stream",
     "text": [
      "Academic license - for non-commercial use only\n",
      "LearningMPC.lqr_cost(getvalue.(results), lqrsol) = 8.363814447169169\n"
     ]
    },
    {
     "data": {
      "text/plain": [
       "8.363814447169169"
      ]
     },
     "execution_count": 31,
     "metadata": {},
     "output_type": "execute_result"
    }
   ],
   "source": [
    "v_x = 2.8\n",
    "x0 = BoxValkyries.nominal_state(robot)\n",
    "set_velocity!(x0, findjoint(robot.mechanism, \"base_x\"), v_x)\n",
    "model, results = LCPSim.optimize(x0, robot.environment, \n",
    "    mpc_params.Δt, mpc_params.horizon, Model(solver=GurobiSolver(OutputFlag=0, TimeLimit=60)))\n",
    "@objective model Min LearningMPC.lqr_cost(results, lqrsol) + LearningMPC.joint_limit_cost(results)\n",
    "solve(model)\n",
    "@show LearningMPC.lqr_cost(getvalue.(results), lqrsol)"
   ]
  },
  {
   "cell_type": "code",
   "execution_count": 35,
   "metadata": {},
   "outputs": [
    {
     "data": {
      "text/plain": [
       "LearningMPC.Sample{Float64}([0.0, 1.05, 0.0, 0.0, 0.0, 0.0, 0.5, 0.5, 0.8, 0.8, 2.8, 0.0, 0.0, 0.0, 0.0, 0.0, 0.0, 0.0, 0.0, 0.0], [0.0 0.0 … 0.0 0.0; 0.0 0.0 … -3.55271e-15 0.0; … ; 15.3948 -0.0147939 … -3.74937 0.145597; 9.96211 0.131402 … 0.0279057 -3.70211], [45.4887], LearningMPC.MIPResults\n",
       "  solvetime_s: Float64 5.015228033065796\n",
       "  objective_value: Float64 8.863797528228856\n",
       "  objective_bound: Float64 8.54204335278888\n",
       ")"
      ]
     },
     "execution_count": 35,
     "metadata": {},
     "output_type": "execute_result"
    }
   ],
   "source": [
    "sample_sink.samples[23]"
   ]
  },
  {
   "cell_type": "code",
   "execution_count": 41,
   "metadata": {},
   "outputs": [
    {
     "data": {
      "image/svg+xml": [
       "<?xml version=\"1.0\" encoding=\"utf-8\"?>\n",
       "<svg xmlns=\"http://www.w3.org/2000/svg\" xmlns:xlink=\"http://www.w3.org/1999/xlink\" width=\"600\" height=\"400\" viewBox=\"0 0 600 400\">\n",
       "<defs>\n",
       "  <clipPath id=\"clip1900\">\n",
       "    <rect x=\"0\" y=\"0\" width=\"600\" height=\"400\"/>\n",
       "  </clipPath>\n",
       "</defs>\n",
       "<polygon clip-path=\"url(#clip1900)\" points=\"\n",
       "0,400 600,400 600,0 0,0 \n",
       "  \" fill=\"#ffffff\" fill-opacity=\"1\"/>\n",
       "<defs>\n",
       "  <clipPath id=\"clip1901\">\n",
       "    <rect x=\"120\" y=\"0\" width=\"421\" height=\"400\"/>\n",
       "  </clipPath>\n",
       "</defs>\n",
       "<polygon clip-path=\"url(#clip1900)\" points=\"\n",
       "35.8198,375.869 580.315,375.869 580.315,11.811 35.8198,11.811 \n",
       "  \" fill=\"#ffffff\" fill-opacity=\"1\"/>\n",
       "<defs>\n",
       "  <clipPath id=\"clip1902\">\n",
       "    <rect x=\"35\" y=\"11\" width=\"545\" height=\"365\"/>\n",
       "  </clipPath>\n",
       "</defs>\n",
       "<polyline clip-path=\"url(#clip1902)\" style=\"stroke:#000000; stroke-width:0.5; stroke-opacity:0.1; fill:none\" points=\"\n",
       "  94.0363,375.869 94.0363,11.811 \n",
       "  \"/>\n",
       "<polyline clip-path=\"url(#clip1902)\" style=\"stroke:#000000; stroke-width:0.5; stroke-opacity:0.1; fill:none\" points=\"\n",
       "  201.052,375.869 201.052,11.811 \n",
       "  \"/>\n",
       "<polyline clip-path=\"url(#clip1902)\" style=\"stroke:#000000; stroke-width:0.5; stroke-opacity:0.1; fill:none\" points=\"\n",
       "  308.067,375.869 308.067,11.811 \n",
       "  \"/>\n",
       "<polyline clip-path=\"url(#clip1902)\" style=\"stroke:#000000; stroke-width:0.5; stroke-opacity:0.1; fill:none\" points=\"\n",
       "  415.083,375.869 415.083,11.811 \n",
       "  \"/>\n",
       "<polyline clip-path=\"url(#clip1902)\" style=\"stroke:#000000; stroke-width:0.5; stroke-opacity:0.1; fill:none\" points=\"\n",
       "  522.098,375.869 522.098,11.811 \n",
       "  \"/>\n",
       "<polyline clip-path=\"url(#clip1902)\" style=\"stroke:#000000; stroke-width:0.5; stroke-opacity:0.1; fill:none\" points=\"\n",
       "  35.8198,365.565 580.315,365.565 \n",
       "  \"/>\n",
       "<polyline clip-path=\"url(#clip1902)\" style=\"stroke:#000000; stroke-width:0.5; stroke-opacity:0.1; fill:none\" points=\"\n",
       "  35.8198,284.777 580.315,284.777 \n",
       "  \"/>\n",
       "<polyline clip-path=\"url(#clip1902)\" style=\"stroke:#000000; stroke-width:0.5; stroke-opacity:0.1; fill:none\" points=\"\n",
       "  35.8198,203.989 580.315,203.989 \n",
       "  \"/>\n",
       "<polyline clip-path=\"url(#clip1902)\" style=\"stroke:#000000; stroke-width:0.5; stroke-opacity:0.1; fill:none\" points=\"\n",
       "  35.8198,123.201 580.315,123.201 \n",
       "  \"/>\n",
       "<polyline clip-path=\"url(#clip1902)\" style=\"stroke:#000000; stroke-width:0.5; stroke-opacity:0.1; fill:none\" points=\"\n",
       "  35.8198,42.4136 580.315,42.4136 \n",
       "  \"/>\n",
       "<polyline clip-path=\"url(#clip1900)\" style=\"stroke:#000000; stroke-width:1; stroke-opacity:1; fill:none\" points=\"\n",
       "  35.8198,375.869 580.315,375.869 \n",
       "  \"/>\n",
       "<polyline clip-path=\"url(#clip1900)\" style=\"stroke:#000000; stroke-width:1; stroke-opacity:1; fill:none\" points=\"\n",
       "  35.8198,375.869 35.8198,11.811 \n",
       "  \"/>\n",
       "<polyline clip-path=\"url(#clip1900)\" style=\"stroke:#000000; stroke-width:1; stroke-opacity:1; fill:none\" points=\"\n",
       "  94.0363,375.869 94.0363,370.408 \n",
       "  \"/>\n",
       "<polyline clip-path=\"url(#clip1900)\" style=\"stroke:#000000; stroke-width:1; stroke-opacity:1; fill:none\" points=\"\n",
       "  201.052,375.869 201.052,370.408 \n",
       "  \"/>\n",
       "<polyline clip-path=\"url(#clip1900)\" style=\"stroke:#000000; stroke-width:1; stroke-opacity:1; fill:none\" points=\"\n",
       "  308.067,375.869 308.067,370.408 \n",
       "  \"/>\n",
       "<polyline clip-path=\"url(#clip1900)\" style=\"stroke:#000000; stroke-width:1; stroke-opacity:1; fill:none\" points=\"\n",
       "  415.083,375.869 415.083,370.408 \n",
       "  \"/>\n",
       "<polyline clip-path=\"url(#clip1900)\" style=\"stroke:#000000; stroke-width:1; stroke-opacity:1; fill:none\" points=\"\n",
       "  522.098,375.869 522.098,370.408 \n",
       "  \"/>\n",
       "<polyline clip-path=\"url(#clip1900)\" style=\"stroke:#000000; stroke-width:1; stroke-opacity:1; fill:none\" points=\"\n",
       "  35.8198,365.565 43.9872,365.565 \n",
       "  \"/>\n",
       "<polyline clip-path=\"url(#clip1900)\" style=\"stroke:#000000; stroke-width:1; stroke-opacity:1; fill:none\" points=\"\n",
       "  35.8198,284.777 43.9872,284.777 \n",
       "  \"/>\n",
       "<polyline clip-path=\"url(#clip1900)\" style=\"stroke:#000000; stroke-width:1; stroke-opacity:1; fill:none\" points=\"\n",
       "  35.8198,203.989 43.9872,203.989 \n",
       "  \"/>\n",
       "<polyline clip-path=\"url(#clip1900)\" style=\"stroke:#000000; stroke-width:1; stroke-opacity:1; fill:none\" points=\"\n",
       "  35.8198,123.201 43.9872,123.201 \n",
       "  \"/>\n",
       "<polyline clip-path=\"url(#clip1900)\" style=\"stroke:#000000; stroke-width:1; stroke-opacity:1; fill:none\" points=\"\n",
       "  35.8198,42.4136 43.9872,42.4136 \n",
       "  \"/>\n",
       "<g clip-path=\"url(#clip1900)\">\n",
       "<text style=\"fill:#000000; fill-opacity:1; font-family:Arial,Helvetica Neue,Helvetica,sans-serif; font-size:12; text-anchor:middle;\" transform=\"rotate(0, 94.0363, 389.669)\" x=\"94.0363\" y=\"389.669\">-5.0</text>\n",
       "</g>\n",
       "<g clip-path=\"url(#clip1900)\">\n",
       "<text style=\"fill:#000000; fill-opacity:1; font-family:Arial,Helvetica Neue,Helvetica,sans-serif; font-size:12; text-anchor:middle;\" transform=\"rotate(0, 201.052, 389.669)\" x=\"201.052\" y=\"389.669\">-2.5</text>\n",
       "</g>\n",
       "<g clip-path=\"url(#clip1900)\">\n",
       "<text style=\"fill:#000000; fill-opacity:1; font-family:Arial,Helvetica Neue,Helvetica,sans-serif; font-size:12; text-anchor:middle;\" transform=\"rotate(0, 308.067, 389.669)\" x=\"308.067\" y=\"389.669\">0.0</text>\n",
       "</g>\n",
       "<g clip-path=\"url(#clip1900)\">\n",
       "<text style=\"fill:#000000; fill-opacity:1; font-family:Arial,Helvetica Neue,Helvetica,sans-serif; font-size:12; text-anchor:middle;\" transform=\"rotate(0, 415.083, 389.669)\" x=\"415.083\" y=\"389.669\">2.5</text>\n",
       "</g>\n",
       "<g clip-path=\"url(#clip1900)\">\n",
       "<text style=\"fill:#000000; fill-opacity:1; font-family:Arial,Helvetica Neue,Helvetica,sans-serif; font-size:12; text-anchor:middle;\" transform=\"rotate(0, 522.098, 389.669)\" x=\"522.098\" y=\"389.669\">5.0</text>\n",
       "</g>\n",
       "<g clip-path=\"url(#clip1900)\">\n",
       "<text style=\"fill:#000000; fill-opacity:1; font-family:Arial,Helvetica Neue,Helvetica,sans-serif; font-size:12; text-anchor:end;\" transform=\"rotate(0, 29.8198, 370.065)\" x=\"29.8198\" y=\"370.065\">0</text>\n",
       "</g>\n",
       "<g clip-path=\"url(#clip1900)\">\n",
       "<text style=\"fill:#000000; fill-opacity:1; font-family:Arial,Helvetica Neue,Helvetica,sans-serif; font-size:12; text-anchor:end;\" transform=\"rotate(0, 29.8198, 289.277)\" x=\"29.8198\" y=\"289.277\">100</text>\n",
       "</g>\n",
       "<g clip-path=\"url(#clip1900)\">\n",
       "<text style=\"fill:#000000; fill-opacity:1; font-family:Arial,Helvetica Neue,Helvetica,sans-serif; font-size:12; text-anchor:end;\" transform=\"rotate(0, 29.8198, 208.489)\" x=\"29.8198\" y=\"208.489\">200</text>\n",
       "</g>\n",
       "<g clip-path=\"url(#clip1900)\">\n",
       "<text style=\"fill:#000000; fill-opacity:1; font-family:Arial,Helvetica Neue,Helvetica,sans-serif; font-size:12; text-anchor:end;\" transform=\"rotate(0, 29.8198, 127.701)\" x=\"29.8198\" y=\"127.701\">300</text>\n",
       "</g>\n",
       "<g clip-path=\"url(#clip1900)\">\n",
       "<text style=\"fill:#000000; fill-opacity:1; font-family:Arial,Helvetica Neue,Helvetica,sans-serif; font-size:12; text-anchor:end;\" transform=\"rotate(0, 29.8198, 46.9136)\" x=\"29.8198\" y=\"46.9136\">400</text>\n",
       "</g>\n",
       "<polyline clip-path=\"url(#clip1902)\" style=\"stroke:#009af9; stroke-width:1; stroke-opacity:1; fill:none\" points=\"\n",
       "  51.23,260.533 51.23,190.474 \n",
       "  \"/>\n",
       "<circle clip-path=\"url(#clip1902)\" style=\"fill:#000000; stroke:none; fill-opacity:1\" cx=\"51.23\" cy=\"260.533\" r=\"4\"/>\n",
       "<circle clip-path=\"url(#clip1902)\" style=\"fill:#87ceeb; stroke:none; fill-opacity:1\" cx=\"51.23\" cy=\"260.533\" r=\"3\"/>\n",
       "<circle clip-path=\"url(#clip1902)\" style=\"fill:#000000; stroke:none; fill-opacity:1\" cx=\"51.23\" cy=\"190.474\" r=\"4\"/>\n",
       "<circle clip-path=\"url(#clip1902)\" style=\"fill:#87ceeb; stroke:none; fill-opacity:1\" cx=\"51.23\" cy=\"190.474\" r=\"3\"/>\n",
       "<polyline clip-path=\"url(#clip1902)\" style=\"stroke:#e26f46; stroke-width:1; stroke-opacity:1; fill:none\" points=\"\n",
       "  68.3525,277.131 68.3525,263.202 \n",
       "  \"/>\n",
       "<circle clip-path=\"url(#clip1902)\" style=\"fill:#000000; stroke:none; fill-opacity:1\" cx=\"68.3525\" cy=\"277.131\" r=\"4\"/>\n",
       "<circle clip-path=\"url(#clip1902)\" style=\"fill:#87ceeb; stroke:none; fill-opacity:1\" cx=\"68.3525\" cy=\"277.131\" r=\"3\"/>\n",
       "<circle clip-path=\"url(#clip1902)\" style=\"fill:#000000; stroke:none; fill-opacity:1\" cx=\"68.3525\" cy=\"263.202\" r=\"4\"/>\n",
       "<circle clip-path=\"url(#clip1902)\" style=\"fill:#87ceeb; stroke:none; fill-opacity:1\" cx=\"68.3525\" cy=\"263.202\" r=\"3\"/>\n",
       "<polyline clip-path=\"url(#clip1902)\" style=\"stroke:#3da44d; stroke-width:1; stroke-opacity:1; fill:none\" points=\"\n",
       "  85.475,301.36 85.475,269.626 \n",
       "  \"/>\n",
       "<circle clip-path=\"url(#clip1902)\" style=\"fill:#000000; stroke:none; fill-opacity:1\" cx=\"85.475\" cy=\"301.36\" r=\"4\"/>\n",
       "<circle clip-path=\"url(#clip1902)\" style=\"fill:#87ceeb; stroke:none; fill-opacity:1\" cx=\"85.475\" cy=\"301.36\" r=\"3\"/>\n",
       "<circle clip-path=\"url(#clip1902)\" style=\"fill:#000000; stroke:none; fill-opacity:1\" cx=\"85.475\" cy=\"269.626\" r=\"4\"/>\n",
       "<circle clip-path=\"url(#clip1902)\" style=\"fill:#87ceeb; stroke:none; fill-opacity:1\" cx=\"85.475\" cy=\"269.626\" r=\"3\"/>\n",
       "<polyline clip-path=\"url(#clip1902)\" style=\"stroke:#c271d2; stroke-width:1; stroke-opacity:1; fill:none\" points=\"\n",
       "  102.597,318.987 102.597,277.369 \n",
       "  \"/>\n",
       "<circle clip-path=\"url(#clip1902)\" style=\"fill:#000000; stroke:none; fill-opacity:1\" cx=\"102.597\" cy=\"318.987\" r=\"4\"/>\n",
       "<circle clip-path=\"url(#clip1902)\" style=\"fill:#87ceeb; stroke:none; fill-opacity:1\" cx=\"102.597\" cy=\"318.987\" r=\"3\"/>\n",
       "<circle clip-path=\"url(#clip1902)\" style=\"fill:#000000; stroke:none; fill-opacity:1\" cx=\"102.597\" cy=\"277.369\" r=\"4\"/>\n",
       "<circle clip-path=\"url(#clip1902)\" style=\"fill:#87ceeb; stroke:none; fill-opacity:1\" cx=\"102.597\" cy=\"277.369\" r=\"3\"/>\n",
       "<polyline clip-path=\"url(#clip1902)\" style=\"stroke:#ac8d18; stroke-width:1; stroke-opacity:1; fill:none\" points=\"\n",
       "  119.72,331.473 119.72,324.491 \n",
       "  \"/>\n",
       "<circle clip-path=\"url(#clip1902)\" style=\"fill:#000000; stroke:none; fill-opacity:1\" cx=\"119.72\" cy=\"331.473\" r=\"4\"/>\n",
       "<circle clip-path=\"url(#clip1902)\" style=\"fill:#87ceeb; stroke:none; fill-opacity:1\" cx=\"119.72\" cy=\"331.473\" r=\"3\"/>\n",
       "<circle clip-path=\"url(#clip1902)\" style=\"fill:#000000; stroke:none; fill-opacity:1\" cx=\"119.72\" cy=\"324.491\" r=\"4\"/>\n",
       "<circle clip-path=\"url(#clip1902)\" style=\"fill:#87ceeb; stroke:none; fill-opacity:1\" cx=\"119.72\" cy=\"324.491\" r=\"3\"/>\n",
       "<polyline clip-path=\"url(#clip1902)\" style=\"stroke:#00a9ad; stroke-width:1; stroke-opacity:1; fill:none\" points=\"\n",
       "  136.842,342.576 136.842,341.166 \n",
       "  \"/>\n",
       "<circle clip-path=\"url(#clip1902)\" style=\"fill:#000000; stroke:none; fill-opacity:1\" cx=\"136.842\" cy=\"342.576\" r=\"4\"/>\n",
       "<circle clip-path=\"url(#clip1902)\" style=\"fill:#87ceeb; stroke:none; fill-opacity:1\" cx=\"136.842\" cy=\"342.576\" r=\"3\"/>\n",
       "<circle clip-path=\"url(#clip1902)\" style=\"fill:#000000; stroke:none; fill-opacity:1\" cx=\"136.842\" cy=\"341.166\" r=\"4\"/>\n",
       "<circle clip-path=\"url(#clip1902)\" style=\"fill:#87ceeb; stroke:none; fill-opacity:1\" cx=\"136.842\" cy=\"341.166\" r=\"3\"/>\n",
       "<polyline clip-path=\"url(#clip1902)\" style=\"stroke:#ed5d92; stroke-width:1; stroke-opacity:1; fill:none\" points=\"\n",
       "  153.965,351.575 153.965,350.469 \n",
       "  \"/>\n",
       "<circle clip-path=\"url(#clip1902)\" style=\"fill:#000000; stroke:none; fill-opacity:1\" cx=\"153.965\" cy=\"351.575\" r=\"4\"/>\n",
       "<circle clip-path=\"url(#clip1902)\" style=\"fill:#87ceeb; stroke:none; fill-opacity:1\" cx=\"153.965\" cy=\"351.575\" r=\"3\"/>\n",
       "<circle clip-path=\"url(#clip1902)\" style=\"fill:#000000; stroke:none; fill-opacity:1\" cx=\"153.965\" cy=\"350.469\" r=\"4\"/>\n",
       "<circle clip-path=\"url(#clip1902)\" style=\"fill:#87ceeb; stroke:none; fill-opacity:1\" cx=\"153.965\" cy=\"350.469\" r=\"3\"/>\n",
       "<polyline clip-path=\"url(#clip1902)\" style=\"stroke:#c68125; stroke-width:1; stroke-opacity:1; fill:none\" points=\"\n",
       "  171.087,357.791 171.087,356.417 \n",
       "  \"/>\n",
       "<circle clip-path=\"url(#clip1902)\" style=\"fill:#000000; stroke:none; fill-opacity:1\" cx=\"171.087\" cy=\"357.791\" r=\"4\"/>\n",
       "<circle clip-path=\"url(#clip1902)\" style=\"fill:#87ceeb; stroke:none; fill-opacity:1\" cx=\"171.087\" cy=\"357.791\" r=\"3\"/>\n",
       "<circle clip-path=\"url(#clip1902)\" style=\"fill:#000000; stroke:none; fill-opacity:1\" cx=\"171.087\" cy=\"356.417\" r=\"4\"/>\n",
       "<circle clip-path=\"url(#clip1902)\" style=\"fill:#87ceeb; stroke:none; fill-opacity:1\" cx=\"171.087\" cy=\"356.417\" r=\"3\"/>\n",
       "<polyline clip-path=\"url(#clip1902)\" style=\"stroke:#00a98d; stroke-width:1; stroke-opacity:1; fill:none\" points=\"\n",
       "  188.21,358.919 188.21,358.868 \n",
       "  \"/>\n",
       "<circle clip-path=\"url(#clip1902)\" style=\"fill:#000000; stroke:none; fill-opacity:1\" cx=\"188.21\" cy=\"358.919\" r=\"4\"/>\n",
       "<circle clip-path=\"url(#clip1902)\" style=\"fill:#87ceeb; stroke:none; fill-opacity:1\" cx=\"188.21\" cy=\"358.919\" r=\"3\"/>\n",
       "<circle clip-path=\"url(#clip1902)\" style=\"fill:#000000; stroke:none; fill-opacity:1\" cx=\"188.21\" cy=\"358.868\" r=\"4\"/>\n",
       "<circle clip-path=\"url(#clip1902)\" style=\"fill:#87ceeb; stroke:none; fill-opacity:1\" cx=\"188.21\" cy=\"358.868\" r=\"3\"/>\n",
       "<polyline clip-path=\"url(#clip1902)\" style=\"stroke:#8e971d; stroke-width:1; stroke-opacity:1; fill:none\" points=\"\n",
       "  205.332,359.661 205.332,358.738 \n",
       "  \"/>\n",
       "<circle clip-path=\"url(#clip1902)\" style=\"fill:#000000; stroke:none; fill-opacity:1\" cx=\"205.332\" cy=\"359.661\" r=\"4\"/>\n",
       "<circle clip-path=\"url(#clip1902)\" style=\"fill:#87ceeb; stroke:none; fill-opacity:1\" cx=\"205.332\" cy=\"359.661\" r=\"3\"/>\n",
       "<circle clip-path=\"url(#clip1902)\" style=\"fill:#000000; stroke:none; fill-opacity:1\" cx=\"205.332\" cy=\"358.738\" r=\"4\"/>\n",
       "<circle clip-path=\"url(#clip1902)\" style=\"fill:#87ceeb; stroke:none; fill-opacity:1\" cx=\"205.332\" cy=\"358.738\" r=\"3\"/>\n",
       "<polyline clip-path=\"url(#clip1902)\" style=\"stroke:#00a8cb; stroke-width:1; stroke-opacity:1; fill:none\" points=\"\n",
       "  222.455,362.969 222.455,362.535 \n",
       "  \"/>\n",
       "<circle clip-path=\"url(#clip1902)\" style=\"fill:#000000; stroke:none; fill-opacity:1\" cx=\"222.455\" cy=\"362.969\" r=\"4\"/>\n",
       "<circle clip-path=\"url(#clip1902)\" style=\"fill:#87ceeb; stroke:none; fill-opacity:1\" cx=\"222.455\" cy=\"362.969\" r=\"3\"/>\n",
       "<circle clip-path=\"url(#clip1902)\" style=\"fill:#000000; stroke:none; fill-opacity:1\" cx=\"222.455\" cy=\"362.535\" r=\"4\"/>\n",
       "<circle clip-path=\"url(#clip1902)\" style=\"fill:#87ceeb; stroke:none; fill-opacity:1\" cx=\"222.455\" cy=\"362.535\" r=\"3\"/>\n",
       "<polyline clip-path=\"url(#clip1902)\" style=\"stroke:#9b7fe8; stroke-width:1; stroke-opacity:1; fill:none\" points=\"\n",
       "  239.577,365.166 239.577,364.796 \n",
       "  \"/>\n",
       "<circle clip-path=\"url(#clip1902)\" style=\"fill:#000000; stroke:none; fill-opacity:1\" cx=\"239.577\" cy=\"365.166\" r=\"4\"/>\n",
       "<circle clip-path=\"url(#clip1902)\" style=\"fill:#87ceeb; stroke:none; fill-opacity:1\" cx=\"239.577\" cy=\"365.166\" r=\"3\"/>\n",
       "<circle clip-path=\"url(#clip1902)\" style=\"fill:#000000; stroke:none; fill-opacity:1\" cx=\"239.577\" cy=\"364.796\" r=\"4\"/>\n",
       "<circle clip-path=\"url(#clip1902)\" style=\"fill:#87ceeb; stroke:none; fill-opacity:1\" cx=\"239.577\" cy=\"364.796\" r=\"3\"/>\n",
       "<polyline clip-path=\"url(#clip1902)\" style=\"stroke:#608cf6; stroke-width:1; stroke-opacity:1; fill:none\" points=\"\n",
       "  256.7,365.255 256.7,365.246 \n",
       "  \"/>\n",
       "<circle clip-path=\"url(#clip1902)\" style=\"fill:#000000; stroke:none; fill-opacity:1\" cx=\"256.7\" cy=\"365.255\" r=\"4\"/>\n",
       "<circle clip-path=\"url(#clip1902)\" style=\"fill:#87ceeb; stroke:none; fill-opacity:1\" cx=\"256.7\" cy=\"365.255\" r=\"3\"/>\n",
       "<circle clip-path=\"url(#clip1902)\" style=\"fill:#000000; stroke:none; fill-opacity:1\" cx=\"256.7\" cy=\"365.246\" r=\"4\"/>\n",
       "<circle clip-path=\"url(#clip1902)\" style=\"fill:#87ceeb; stroke:none; fill-opacity:1\" cx=\"256.7\" cy=\"365.246\" r=\"3\"/>\n",
       "<polyline clip-path=\"url(#clip1902)\" style=\"stroke:#f05f73; stroke-width:1; stroke-opacity:1; fill:none\" points=\"\n",
       "  273.822,365.43 273.822,365.429 \n",
       "  \"/>\n",
       "<circle clip-path=\"url(#clip1902)\" style=\"fill:#000000; stroke:none; fill-opacity:1\" cx=\"273.822\" cy=\"365.43\" r=\"4\"/>\n",
       "<circle clip-path=\"url(#clip1902)\" style=\"fill:#87ceeb; stroke:none; fill-opacity:1\" cx=\"273.822\" cy=\"365.43\" r=\"3\"/>\n",
       "<circle clip-path=\"url(#clip1902)\" style=\"fill:#000000; stroke:none; fill-opacity:1\" cx=\"273.822\" cy=\"365.429\" r=\"4\"/>\n",
       "<circle clip-path=\"url(#clip1902)\" style=\"fill:#87ceeb; stroke:none; fill-opacity:1\" cx=\"273.822\" cy=\"365.429\" r=\"3\"/>\n",
       "<polyline clip-path=\"url(#clip1902)\" style=\"stroke:#dd64b5; stroke-width:1; stroke-opacity:1; fill:none\" points=\"\n",
       "  290.945,365.532 290.945,365.531 \n",
       "  \"/>\n",
       "<circle clip-path=\"url(#clip1902)\" style=\"fill:#000000; stroke:none; fill-opacity:1\" cx=\"290.945\" cy=\"365.532\" r=\"4\"/>\n",
       "<circle clip-path=\"url(#clip1902)\" style=\"fill:#87ceeb; stroke:none; fill-opacity:1\" cx=\"290.945\" cy=\"365.532\" r=\"3\"/>\n",
       "<circle clip-path=\"url(#clip1902)\" style=\"fill:#000000; stroke:none; fill-opacity:1\" cx=\"290.945\" cy=\"365.531\" r=\"4\"/>\n",
       "<circle clip-path=\"url(#clip1902)\" style=\"fill:#87ceeb; stroke:none; fill-opacity:1\" cx=\"290.945\" cy=\"365.531\" r=\"3\"/>\n",
       "<polyline clip-path=\"url(#clip1902)\" style=\"stroke:#6b9e32; stroke-width:1; stroke-opacity:1; fill:none\" points=\"\n",
       "  308.067,365.565 308.067,365.565 \n",
       "  \"/>\n",
       "<circle clip-path=\"url(#clip1902)\" style=\"fill:#000000; stroke:none; fill-opacity:1\" cx=\"308.067\" cy=\"365.565\" r=\"4\"/>\n",
       "<circle clip-path=\"url(#clip1902)\" style=\"fill:#87ceeb; stroke:none; fill-opacity:1\" cx=\"308.067\" cy=\"365.565\" r=\"3\"/>\n",
       "<circle clip-path=\"url(#clip1902)\" style=\"fill:#000000; stroke:none; fill-opacity:1\" cx=\"308.067\" cy=\"365.565\" r=\"4\"/>\n",
       "<circle clip-path=\"url(#clip1902)\" style=\"fill:#87ceeb; stroke:none; fill-opacity:1\" cx=\"308.067\" cy=\"365.565\" r=\"3\"/>\n",
       "<polyline clip-path=\"url(#clip1902)\" style=\"stroke:#718c69; stroke-width:1; stroke-opacity:1; fill:none\" points=\"\n",
       "  325.19,365.531 325.19,365.531 \n",
       "  \"/>\n",
       "<circle clip-path=\"url(#clip1902)\" style=\"fill:#000000; stroke:none; fill-opacity:1\" cx=\"325.19\" cy=\"365.531\" r=\"4\"/>\n",
       "<circle clip-path=\"url(#clip1902)\" style=\"fill:#87ceeb; stroke:none; fill-opacity:1\" cx=\"325.19\" cy=\"365.531\" r=\"3\"/>\n",
       "<circle clip-path=\"url(#clip1902)\" style=\"fill:#000000; stroke:none; fill-opacity:1\" cx=\"325.19\" cy=\"365.531\" r=\"4\"/>\n",
       "<circle clip-path=\"url(#clip1902)\" style=\"fill:#87ceeb; stroke:none; fill-opacity:1\" cx=\"325.19\" cy=\"365.531\" r=\"3\"/>\n",
       "<polyline clip-path=\"url(#clip1902)\" style=\"stroke:#47988b; stroke-width:1; stroke-opacity:1; fill:none\" points=\"\n",
       "  342.312,365.43 342.312,365.403 \n",
       "  \"/>\n",
       "<circle clip-path=\"url(#clip1902)\" style=\"fill:#000000; stroke:none; fill-opacity:1\" cx=\"342.312\" cy=\"365.43\" r=\"4\"/>\n",
       "<circle clip-path=\"url(#clip1902)\" style=\"fill:#87ceeb; stroke:none; fill-opacity:1\" cx=\"342.312\" cy=\"365.43\" r=\"3\"/>\n",
       "<circle clip-path=\"url(#clip1902)\" style=\"fill:#000000; stroke:none; fill-opacity:1\" cx=\"342.312\" cy=\"365.403\" r=\"4\"/>\n",
       "<circle clip-path=\"url(#clip1902)\" style=\"fill:#87ceeb; stroke:none; fill-opacity:1\" cx=\"342.312\" cy=\"365.403\" r=\"3\"/>\n",
       "<polyline clip-path=\"url(#clip1902)\" style=\"stroke:#1ea68c; stroke-width:1; stroke-opacity:1; fill:none\" points=\"\n",
       "  359.435,365.255 359.435,365.254 \n",
       "  \"/>\n",
       "<circle clip-path=\"url(#clip1902)\" style=\"fill:#000000; stroke:none; fill-opacity:1\" cx=\"359.435\" cy=\"365.255\" r=\"4\"/>\n",
       "<circle clip-path=\"url(#clip1902)\" style=\"fill:#87ceeb; stroke:none; fill-opacity:1\" cx=\"359.435\" cy=\"365.255\" r=\"3\"/>\n",
       "<circle clip-path=\"url(#clip1902)\" style=\"fill:#000000; stroke:none; fill-opacity:1\" cx=\"359.435\" cy=\"365.254\" r=\"4\"/>\n",
       "<circle clip-path=\"url(#clip1902)\" style=\"fill:#87ceeb; stroke:none; fill-opacity:1\" cx=\"359.435\" cy=\"365.254\" r=\"3\"/>\n",
       "<polyline clip-path=\"url(#clip1902)\" style=\"stroke:#af78dd; stroke-width:1; stroke-opacity:1; fill:none\" points=\"\n",
       "  376.557,364.798 376.557,364.734 \n",
       "  \"/>\n",
       "<circle clip-path=\"url(#clip1902)\" style=\"fill:#000000; stroke:none; fill-opacity:1\" cx=\"376.557\" cy=\"364.798\" r=\"4\"/>\n",
       "<circle clip-path=\"url(#clip1902)\" style=\"fill:#87ceeb; stroke:none; fill-opacity:1\" cx=\"376.557\" cy=\"364.798\" r=\"3\"/>\n",
       "<circle clip-path=\"url(#clip1902)\" style=\"fill:#000000; stroke:none; fill-opacity:1\" cx=\"376.557\" cy=\"364.734\" r=\"4\"/>\n",
       "<circle clip-path=\"url(#clip1902)\" style=\"fill:#87ceeb; stroke:none; fill-opacity:1\" cx=\"376.557\" cy=\"364.734\" r=\"3\"/>\n",
       "<polyline clip-path=\"url(#clip1902)\" style=\"stroke:#868d87; stroke-width:1; stroke-opacity:1; fill:none\" points=\"\n",
       "  393.68,362.908 393.68,362.777 \n",
       "  \"/>\n",
       "<circle clip-path=\"url(#clip1902)\" style=\"fill:#000000; stroke:none; fill-opacity:1\" cx=\"393.68\" cy=\"362.908\" r=\"4\"/>\n",
       "<circle clip-path=\"url(#clip1902)\" style=\"fill:#87ceeb; stroke:none; fill-opacity:1\" cx=\"393.68\" cy=\"362.908\" r=\"3\"/>\n",
       "<circle clip-path=\"url(#clip1902)\" style=\"fill:#000000; stroke:none; fill-opacity:1\" cx=\"393.68\" cy=\"362.777\" r=\"4\"/>\n",
       "<circle clip-path=\"url(#clip1902)\" style=\"fill:#87ceeb; stroke:none; fill-opacity:1\" cx=\"393.68\" cy=\"362.777\" r=\"3\"/>\n",
       "<polyline clip-path=\"url(#clip1902)\" style=\"stroke:#47a065; stroke-width:1; stroke-opacity:1; fill:none\" points=\"\n",
       "  410.802,359.476 410.802,359.395 \n",
       "  \"/>\n",
       "<circle clip-path=\"url(#clip1902)\" style=\"fill:#000000; stroke:none; fill-opacity:1\" cx=\"410.802\" cy=\"359.476\" r=\"4\"/>\n",
       "<circle clip-path=\"url(#clip1902)\" style=\"fill:#87ceeb; stroke:none; fill-opacity:1\" cx=\"410.802\" cy=\"359.476\" r=\"3\"/>\n",
       "<circle clip-path=\"url(#clip1902)\" style=\"fill:#000000; stroke:none; fill-opacity:1\" cx=\"410.802\" cy=\"359.395\" r=\"4\"/>\n",
       "<circle clip-path=\"url(#clip1902)\" style=\"fill:#87ceeb; stroke:none; fill-opacity:1\" cx=\"410.802\" cy=\"359.395\" r=\"3\"/>\n",
       "<polyline clip-path=\"url(#clip1902)\" style=\"stroke:#7683af; stroke-width:1; stroke-opacity:1; fill:none\" points=\"\n",
       "  427.925,358.664 427.925,358.404 \n",
       "  \"/>\n",
       "<circle clip-path=\"url(#clip1902)\" style=\"fill:#000000; stroke:none; fill-opacity:1\" cx=\"427.925\" cy=\"358.664\" r=\"4\"/>\n",
       "<circle clip-path=\"url(#clip1902)\" style=\"fill:#87ceeb; stroke:none; fill-opacity:1\" cx=\"427.925\" cy=\"358.664\" r=\"3\"/>\n",
       "<circle clip-path=\"url(#clip1902)\" style=\"fill:#000000; stroke:none; fill-opacity:1\" cx=\"427.925\" cy=\"358.404\" r=\"4\"/>\n",
       "<circle clip-path=\"url(#clip1902)\" style=\"fill:#87ceeb; stroke:none; fill-opacity:1\" cx=\"427.925\" cy=\"358.404\" r=\"3\"/>\n",
       "<polyline clip-path=\"url(#clip1902)\" style=\"stroke:#b08086; stroke-width:1; stroke-opacity:1; fill:none\" points=\"\n",
       "  445.047,357.042 445.047,356.708 \n",
       "  \"/>\n",
       "<circle clip-path=\"url(#clip1902)\" style=\"fill:#000000; stroke:none; fill-opacity:1\" cx=\"445.047\" cy=\"357.042\" r=\"4\"/>\n",
       "<circle clip-path=\"url(#clip1902)\" style=\"fill:#87ceeb; stroke:none; fill-opacity:1\" cx=\"445.047\" cy=\"357.042\" r=\"3\"/>\n",
       "<circle clip-path=\"url(#clip1902)\" style=\"fill:#000000; stroke:none; fill-opacity:1\" cx=\"445.047\" cy=\"356.708\" r=\"4\"/>\n",
       "<circle clip-path=\"url(#clip1902)\" style=\"fill:#87ceeb; stroke:none; fill-opacity:1\" cx=\"445.047\" cy=\"356.708\" r=\"3\"/>\n",
       "<polyline clip-path=\"url(#clip1902)\" style=\"stroke:#309ac1; stroke-width:1; stroke-opacity:1; fill:none\" points=\"\n",
       "  462.17,350.506 462.17,349.838 \n",
       "  \"/>\n",
       "<circle clip-path=\"url(#clip1902)\" style=\"fill:#000000; stroke:none; fill-opacity:1\" cx=\"462.17\" cy=\"350.506\" r=\"4\"/>\n",
       "<circle clip-path=\"url(#clip1902)\" style=\"fill:#87ceeb; stroke:none; fill-opacity:1\" cx=\"462.17\" cy=\"350.506\" r=\"3\"/>\n",
       "<circle clip-path=\"url(#clip1902)\" style=\"fill:#000000; stroke:none; fill-opacity:1\" cx=\"462.17\" cy=\"349.838\" r=\"4\"/>\n",
       "<circle clip-path=\"url(#clip1902)\" style=\"fill:#87ceeb; stroke:none; fill-opacity:1\" cx=\"462.17\" cy=\"349.838\" r=\"3\"/>\n",
       "<polyline clip-path=\"url(#clip1902)\" style=\"stroke:#788490; stroke-width:1; stroke-opacity:1; fill:none\" points=\"\n",
       "  479.292,340.908 479.292,340.747 \n",
       "  \"/>\n",
       "<circle clip-path=\"url(#clip1902)\" style=\"fill:#000000; stroke:none; fill-opacity:1\" cx=\"479.292\" cy=\"340.908\" r=\"4\"/>\n",
       "<circle clip-path=\"url(#clip1902)\" style=\"fill:#87ceeb; stroke:none; fill-opacity:1\" cx=\"479.292\" cy=\"340.908\" r=\"3\"/>\n",
       "<circle clip-path=\"url(#clip1902)\" style=\"fill:#000000; stroke:none; fill-opacity:1\" cx=\"479.292\" cy=\"340.747\" r=\"4\"/>\n",
       "<circle clip-path=\"url(#clip1902)\" style=\"fill:#87ceeb; stroke:none; fill-opacity:1\" cx=\"479.292\" cy=\"340.747\" r=\"3\"/>\n",
       "<polyline clip-path=\"url(#clip1902)\" style=\"stroke:#e561a4; stroke-width:1; stroke-opacity:1; fill:none\" points=\"\n",
       "  496.415,328.926 496.415,327.809 \n",
       "  \"/>\n",
       "<circle clip-path=\"url(#clip1902)\" style=\"fill:#000000; stroke:none; fill-opacity:1\" cx=\"496.415\" cy=\"328.926\" r=\"4\"/>\n",
       "<circle clip-path=\"url(#clip1902)\" style=\"fill:#87ceeb; stroke:none; fill-opacity:1\" cx=\"496.415\" cy=\"328.926\" r=\"3\"/>\n",
       "<circle clip-path=\"url(#clip1902)\" style=\"fill:#000000; stroke:none; fill-opacity:1\" cx=\"496.415\" cy=\"327.809\" r=\"4\"/>\n",
       "<circle clip-path=\"url(#clip1902)\" style=\"fill:#87ceeb; stroke:none; fill-opacity:1\" cx=\"496.415\" cy=\"327.809\" r=\"3\"/>\n",
       "<polyline clip-path=\"url(#clip1902)\" style=\"stroke:#99902c; stroke-width:1; stroke-opacity:1; fill:none\" points=\"\n",
       "  513.537,313.633 513.537,312.279 \n",
       "  \"/>\n",
       "<circle clip-path=\"url(#clip1902)\" style=\"fill:#000000; stroke:none; fill-opacity:1\" cx=\"513.537\" cy=\"313.633\" r=\"4\"/>\n",
       "<circle clip-path=\"url(#clip1902)\" style=\"fill:#87ceeb; stroke:none; fill-opacity:1\" cx=\"513.537\" cy=\"313.633\" r=\"3\"/>\n",
       "<circle clip-path=\"url(#clip1902)\" style=\"fill:#000000; stroke:none; fill-opacity:1\" cx=\"513.537\" cy=\"312.279\" r=\"4\"/>\n",
       "<circle clip-path=\"url(#clip1902)\" style=\"fill:#87ceeb; stroke:none; fill-opacity:1\" cx=\"513.537\" cy=\"312.279\" r=\"3\"/>\n",
       "<polyline clip-path=\"url(#clip1902)\" style=\"stroke:#389a7b; stroke-width:1; stroke-opacity:1; fill:none\" points=\"\n",
       "  530.66,294.983 530.66,250.714 \n",
       "  \"/>\n",
       "<circle clip-path=\"url(#clip1902)\" style=\"fill:#000000; stroke:none; fill-opacity:1\" cx=\"530.66\" cy=\"294.983\" r=\"4\"/>\n",
       "<circle clip-path=\"url(#clip1902)\" style=\"fill:#87ceeb; stroke:none; fill-opacity:1\" cx=\"530.66\" cy=\"294.983\" r=\"3\"/>\n",
       "<circle clip-path=\"url(#clip1902)\" style=\"fill:#000000; stroke:none; fill-opacity:1\" cx=\"530.66\" cy=\"250.714\" r=\"4\"/>\n",
       "<circle clip-path=\"url(#clip1902)\" style=\"fill:#87ceeb; stroke:none; fill-opacity:1\" cx=\"530.66\" cy=\"250.714\" r=\"3\"/>\n",
       "<polyline clip-path=\"url(#clip1902)\" style=\"stroke:#d968a2; stroke-width:1; stroke-opacity:1; fill:none\" points=\"\n",
       "  547.782,272.112 547.782,255.43 \n",
       "  \"/>\n",
       "<circle clip-path=\"url(#clip1902)\" style=\"fill:#000000; stroke:none; fill-opacity:1\" cx=\"547.782\" cy=\"272.112\" r=\"4\"/>\n",
       "<circle clip-path=\"url(#clip1902)\" style=\"fill:#87ceeb; stroke:none; fill-opacity:1\" cx=\"547.782\" cy=\"272.112\" r=\"3\"/>\n",
       "<circle clip-path=\"url(#clip1902)\" style=\"fill:#000000; stroke:none; fill-opacity:1\" cx=\"547.782\" cy=\"255.43\" r=\"4\"/>\n",
       "<circle clip-path=\"url(#clip1902)\" style=\"fill:#87ceeb; stroke:none; fill-opacity:1\" cx=\"547.782\" cy=\"255.43\" r=\"3\"/>\n",
       "<polyline clip-path=\"url(#clip1902)\" style=\"stroke:#009af9; stroke-width:1; stroke-opacity:1; fill:none\" points=\"\n",
       "  564.905,248.941 564.905,22.1145 \n",
       "  \"/>\n",
       "<circle clip-path=\"url(#clip1902)\" style=\"fill:#000000; stroke:none; fill-opacity:1\" cx=\"564.905\" cy=\"248.941\" r=\"4\"/>\n",
       "<circle clip-path=\"url(#clip1902)\" style=\"fill:#87ceeb; stroke:none; fill-opacity:1\" cx=\"564.905\" cy=\"248.941\" r=\"3\"/>\n",
       "<circle clip-path=\"url(#clip1902)\" style=\"fill:#000000; stroke:none; fill-opacity:1\" cx=\"564.905\" cy=\"22.1145\" r=\"4\"/>\n",
       "<circle clip-path=\"url(#clip1902)\" style=\"fill:#87ceeb; stroke:none; fill-opacity:1\" cx=\"564.905\" cy=\"22.1145\" r=\"3\"/>\n",
       "<polyline clip-path=\"url(#clip1902)\" style=\"stroke:#e26f46; stroke-width:1; stroke-opacity:1; fill:none\" points=\"\n",
       "  51.23,347.724 56.3668,348.431 61.5035,349.123 66.6403,349.801 71.777,350.465 76.9138,351.114 82.0505,351.749 87.1873,352.37 92.324,352.977 97.4607,353.569 \n",
       "  102.597,354.147 107.734,354.711 112.871,355.26 118.008,355.795 123.144,356.316 128.281,356.823 133.418,357.316 138.555,357.794 143.691,358.258 148.828,358.707 \n",
       "  153.965,359.142 159.102,359.563 164.238,359.97 169.375,360.363 174.512,360.741 179.649,361.105 184.785,361.455 189.922,361.79 195.059,362.111 200.196,362.418 \n",
       "  205.332,362.711 210.469,362.989 215.606,363.253 220.743,363.503 225.879,363.738 231.016,363.959 236.153,364.166 241.29,364.359 246.426,364.538 251.563,364.702 \n",
       "  256.7,364.852 261.837,364.987 266.973,365.108 272.11,365.215 277.247,365.308 282.384,365.387 287.52,365.451 292.657,365.501 297.794,365.537 302.931,365.558 \n",
       "  308.067,365.565 313.204,365.558 318.341,365.537 323.478,365.501 328.614,365.451 333.751,365.387 338.888,365.308 344.025,365.215 349.161,365.108 354.298,364.987 \n",
       "  359.435,364.852 364.572,364.702 369.708,364.538 374.845,364.359 379.982,364.166 385.119,363.959 390.255,363.738 395.392,363.503 400.529,363.253 405.666,362.989 \n",
       "  410.802,362.711 415.939,362.418 421.076,362.111 426.213,361.79 431.349,361.455 436.486,361.105 441.623,360.741 446.76,360.363 451.896,359.97 457.033,359.563 \n",
       "  462.17,359.142 467.307,358.707 472.443,358.258 477.58,357.794 482.717,357.316 487.854,356.823 492.99,356.316 498.127,355.795 503.264,355.26 508.401,354.711 \n",
       "  513.537,354.147 518.674,353.569 523.811,352.977 528.947,352.37 534.084,351.749 539.221,351.114 544.358,350.465 549.494,349.801 554.631,349.123 559.768,348.431 \n",
       "  564.905,347.724 \n",
       "  \"/>\n",
       "</svg>\n"
      ]
     },
     "execution_count": 41,
     "metadata": {},
     "output_type": "execute_result"
    }
   ],
   "source": [
    "plt = plot(legend=nothing)\n",
    "for sample in sample_sink.samples\n",
    "    plot!(plt, [sample.state[11], sample.state[11]], \n",
    "            [sample.mip.objective_bound, sample.mip.objective_value],\n",
    "        marker=:circle,\n",
    "        markercolor=\"skyblue\"\n",
    "        )\n",
    "end\n",
    "\n",
    "x0 = BoxValkyries.nominal_state(robot)\n",
    "plot!(plt, linspace(-6, 6, 101), function (v_x)\n",
    "    set_velocity!(x0, findjoint(robot.mechanism, \"base_x\"), v_x)\n",
    "    x = Vector(x0)\n",
    "    (x - lqrsol.x0)' * lqrsol.S * (x - lqrsol.x0)\n",
    "end\n",
    "    )\n",
    "# ylims!(plt, (-10, 300))\n",
    "plt"
   ]
  },
  {
   "cell_type": "code",
   "execution_count": 42,
   "metadata": {},
   "outputs": [],
   "source": [
    "savefig(\"value-function-intervals.png\")\n",
    "savefig(\"value-function-intervals.pdf\")"
   ]
  },
  {
   "cell_type": "code",
   "execution_count": null,
   "metadata": {},
   "outputs": [],
   "source": []
  }
 ],
 "metadata": {
  "kernelspec": {
   "display_name": "Julia 0.6.2",
   "language": "julia",
   "name": "julia-0.6"
  },
  "language_info": {
   "file_extension": ".jl",
   "mimetype": "application/julia",
   "name": "julia",
   "version": "0.6.2"
  }
 },
 "nbformat": 4,
 "nbformat_minor": 2
}
