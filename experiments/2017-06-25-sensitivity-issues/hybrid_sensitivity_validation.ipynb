{
 "cells": [
  {
   "cell_type": "code",
   "execution_count": 23,
   "metadata": {
    "collapsed": true
   },
   "outputs": [],
   "source": [
    "using Plots"
   ]
  },
  {
   "cell_type": "code",
   "execution_count": 1,
   "metadata": {},
   "outputs": [
    {
     "name": "stderr",
     "output_type": "stream",
     "text": [
      "\u001b[1m\u001b[33mWARNING: \u001b[39m\u001b[22m\u001b[33mGurobi reported infeasible or unbounded. Set InfUnbdInfo=1 for more specific status.\u001b[39m\n"
     ]
    },
    {
     "name": "stdout",
     "output_type": "stream",
     "text": [
      "\u001b[1m\u001b[37mTest Summary:    | \u001b[39m\u001b[22m\u001b[1m\u001b[32mPass  \u001b[39m\u001b[22m\u001b[1m\u001b[36mTotal\u001b[39m\u001b[22m\n",
      "test sensitivity | \u001b[32m 267  \u001b[39m\u001b[36m  267\u001b[39m\n"
     ]
    },
    {
     "data": {
      "text/plain": [
       "PyMPC"
      ]
     },
     "execution_count": 1,
     "metadata": {},
     "output_type": "execute_result"
    }
   ],
   "source": [
    "include(\"../../pympc.jl\")"
   ]
  },
  {
   "cell_type": "code",
   "execution_count": 2,
   "metadata": {},
   "outputs": [
    {
     "data": {
      "text/plain": [
       "col (generic function with 1 method)"
      ]
     },
     "execution_count": 2,
     "metadata": {},
     "output_type": "execute_result"
    }
   ],
   "source": [
    "col(x::AbstractArray) = convert(Matrix, reshape(x, length(x), 1))"
   ]
  },
  {
   "cell_type": "code",
   "execution_count": 38,
   "metadata": {},
   "outputs": [
    {
     "data": {
      "text/plain": [
       "PyObject <pympc.dynamical_systems.DTPWASystem object at 0x131025c50>"
      ]
     },
     "execution_count": 38,
     "metadata": {},
     "output_type": "execute_result"
    }
   ],
   "source": [
    "t_s = 0.1\n",
    "method = \"explicit_euler\"\n",
    "\n",
    "A_1 = [\n",
    "    0. 1\n",
    "    -1 0\n",
    "]\n",
    "B_1 = [0 1]'\n",
    "\n",
    "S_1 = PyMPC.dynamical_systems.DTAffineSystem[:from_continuous](A_1, B_1, 0.1 .+ zeros(2, 1), t_s, method)\n",
    "S_2 = PyMPC.dynamical_systems.DTAffineSystem[:from_continuous](A_1, B_1, -0.1 .+ zeros(2, 1), t_s, method)\n",
    "S = [S_1, S_2]\n",
    "\n",
    "# state bounds\n",
    "x_max = [1., 1]\n",
    "x_min = -x_max\n",
    "\n",
    "# state domain n.1\n",
    "lhs_1 = [1., 0]\n",
    "rhs_1 = [0.]\n",
    "X_1 = PyMPC.geometry.Polytope[:from_bounds](col(x_min), col(x_max))\n",
    "X_1[:add_facets](lhs_1, col(rhs_1))\n",
    "X_1[:assemble]()\n",
    "\n",
    "# state domain n.2\n",
    "lhs_2 = [-1., 0]\n",
    "rhs_2 = [0.]\n",
    "X_2 = PyMPC.geometry.Polytope[:from_bounds](col(x_min), col(x_max))\n",
    "X_2[:add_facets](lhs_2, col(rhs_2))\n",
    "X_2[:assemble]()\n",
    "\n",
    "# list of state domains\n",
    "X = [X_1, X_2]\n",
    "\n",
    "# input domain\n",
    "u_max = [10.]\n",
    "u_min = -u_max\n",
    "U = PyMPC.geometry.Polytope[:from_bounds](col(u_min), col(u_max))\n",
    "U[:assemble]()\n",
    "U = [U, U]\n",
    "\n",
    "pwa_sys = PyMPC.dynamical_systems.DTPWASystem[:from_orthogonal_domains](S, X, U)"
   ]
  },
  {
   "cell_type": "code",
   "execution_count": 39,
   "metadata": {},
   "outputs": [
    {
     "data": {
      "text/plain": [
       "PyObject <pympc.control.MPCHybridController instance at 0x1314de200>"
      ]
     },
     "execution_count": 39,
     "metadata": {},
     "output_type": "execute_result"
    }
   ],
   "source": [
    "# controller parameters\n",
    "N = 4\n",
    "Q = 10 * eye(size(A_1, 1))\n",
    "R = eye(size(B_1, 2))\n",
    "objective_norm = \"two\"\n",
    "\n",
    "# terminal set and cost\n",
    "P, K = PyMPC.dynamical_systems.dare(S[2][:A], S[2][:B], Q, R)\n",
    "# X_N = PyMPC.dynamical_systems.moas_closed_loop(S[2][:A], S[2][:B], K, X[2], U[2])\n",
    "\n",
    "# hybrid controller\n",
    "controller = PyMPC.control.MPCHybridController(pwa_sys, N, objective_norm, Q, R, P, X[2])"
   ]
  },
  {
   "cell_type": "code",
   "execution_count": 40,
   "metadata": {},
   "outputs": [
    {
     "data": {
      "text/plain": [
       "run_mpc (generic function with 1 method)"
      ]
     },
     "execution_count": 40,
     "metadata": {},
     "output_type": "execute_result"
    }
   ],
   "source": [
    "function run_mpc(controller, x0)\n",
    "    u_feedforward, x_trajectory, cost, switching_sequence = controller[:feedforward](col(x0))\n",
    "    if isnan(u_feedforward[1][1])\n",
    "        return u_feedforward[1], fill(NaN, length(u_feedforward[1]), length(x0)), x_trajectory\n",
    "    end\n",
    "    condensed = controller[:condense_program](switching_sequence)\n",
    "    u, cost = condensed[:solve](col(x0))\n",
    "    active_set = condensed[:get_active_set](col(x0), u)\n",
    "    u_offset, u_linear = condensed[:get_u_sensitivity](active_set)\n",
    "    u_feedforward[1], u_linear, x_trajectory\n",
    "end"
   ]
  },
  {
   "cell_type": "code",
   "execution_count": 83,
   "metadata": {},
   "outputs": [
    {
     "name": "stdout",
     "output_type": "stream",
     "text": [
      "u_linear = [-49.0088 -13.3774; 1.01768 -3.14525; 50.4911 6.68885; 1.82632e-14 2.22045e-16]\n"
     ]
    },
    {
     "data": {
      "text/html": [
       "<img src=\"data:image/png;base64,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\" />"
      ]
     },
     "execution_count": 83,
     "metadata": {},
     "output_type": "execute_result"
    }
   ],
   "source": [
    "x0 = 2 .* (rand(2) .- 0.5)\n",
    "u_ff, u_linear, x_traj = run_mpc(controller, x0)\n",
    "@show u_linear\n",
    "plot([x[1] for x in x_traj], ylim=(x_min[1], x_max[1]))"
   ]
  },
  {
   "cell_type": "code",
   "execution_count": 43,
   "metadata": {},
   "outputs": [],
   "source": [
    "results = []\n",
    "\n",
    "for j in 1:100\n",
    "    x0 = 2 .* (rand(2) .- 0.5)\n",
    "    u_ff, u_linear, x_traj = run_mpc(controller, x0)\n",
    "    if any(isnan, u_ff)\n",
    "        continue\n",
    "    end\n",
    "    J = u_linear[1:length(u_ff), :]\n",
    "    J_measured = zeros(x0)\n",
    "    for i in 1:length(x0)\n",
    "        delta = zeros(x0)\n",
    "        delta[i] = 1e-2\n",
    "        x2 = x0 .+ delta\n",
    "        u_ff2, _, _ = run_mpc(controller, x2)\n",
    "        J_measured[i] = (u_ff2[1] - u_ff[1]) / delta[i]\n",
    "#         if !any(isnan, u_ff2)\n",
    "#             try\n",
    "#                 @assert isapprox(u_ff2, u_ff .+ J * delta, atol=1e-4)\n",
    "#             catch\n",
    "#                 @show u_ff2, u_ff .+ J * delta\n",
    "#             end\n",
    "#         end\n",
    "    end\n",
    "    push!(results, (J, J_measured))\n",
    "end\n",
    "        \n",
    "    "
   ]
  },
  {
   "cell_type": "code",
   "execution_count": 44,
   "metadata": {},
   "outputs": [
    {
     "data": {
      "text/plain": [
       "63-element Array{Any,1}:\n",
       " ([-1.72864 -3.43655], [-1.72864, -3.43655])\n",
       " ([-1.72864 -3.43655], [-1.72864, -3.43655])\n",
       " ([-1.72864 -3.43655], [-1.72864, -3.43655])\n",
       " ([-1.72864 -3.43655], [-1.72864, -3.43655])\n",
       " ([-1.72864 -3.43655], [-1.72864, -3.43655])\n",
       " ([-24.2013 -9.31576], [-24.2013, -9.31576])\n",
       " ([-1.72864 -3.43655], [-1.72864, -3.43655])\n",
       " ([-1.72864 -3.43655], [-1.72864, -3.43655])\n",
       " ([-1.72864 -3.43655], [7.49228, -3.43655]) \n",
       " ([-49.0088 -13.3774], [73.8958, -13.3774]) \n",
       " ([-1.72864 -3.43655], [-1.72864, -3.43655])\n",
       " ([-1.72864 -3.43655], [-1.72864, -3.43655])\n",
       " ([-1.72864 -3.43655], [-1.72864, -3.43655])\n",
       " ⋮                                          \n",
       " ([-1.72864 -3.43655], [-1.72864, -3.43655])\n",
       " ([-1.72864 -3.43655], [-1.72864, -3.43655])\n",
       " ([-1.72864 -3.43655], [-1.72864, -3.43655])\n",
       " ([-1.72864 -3.43655], [-1.72864, -3.43655])\n",
       " ([-1.72864 -3.43655], [-1.72864, -3.43655])\n",
       " ([-1.72864 -3.43655], [-1.72864, -3.43655])\n",
       " ([-24.2013 -9.31576], [-24.2013, -9.31576])\n",
       " ([-1.72864 -3.43655], [-1.72864, -3.43655])\n",
       " ([-24.2013 -9.31576], [39.2215, -9.31576]) \n",
       " ([-1.72864 -3.43655], [-1.72864, -3.43655])\n",
       " ([-1.72864 -3.43655], [-1.72864, -3.43655])\n",
       " ([-1.72864 -3.43655], [-1.72864, -3.43655])"
      ]
     },
     "execution_count": 44,
     "metadata": {},
     "output_type": "execute_result"
    }
   ],
   "source": [
    "results"
   ]
  },
  {
   "cell_type": "code",
   "execution_count": 46,
   "metadata": {},
   "outputs": [
    {
     "data": {
      "text/html": [
       "<img src=\"data:image/png;base64,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\" />"
      ]
     },
     "execution_count": 46,
     "metadata": {},
     "output_type": "execute_result"
    }
   ],
   "source": [
    "plt = plot([r[1][1] for r in results], [r[2][1] for r in results], line=nothing, marker=:circle)\n",
    "plot!(plt, identity)"
   ]
  },
  {
   "cell_type": "code",
   "execution_count": null,
   "metadata": {
    "collapsed": true
   },
   "outputs": [],
   "source": []
  }
 ],
 "metadata": {
  "kernelspec": {
   "display_name": "Julia 0.6.0",
   "language": "julia",
   "name": "julia-0.6"
  },
  "language_info": {
   "file_extension": ".jl",
   "mimetype": "application/julia",
   "name": "julia",
   "version": "0.6.0"
  }
 },
 "nbformat": 4,
 "nbformat_minor": 2
}
