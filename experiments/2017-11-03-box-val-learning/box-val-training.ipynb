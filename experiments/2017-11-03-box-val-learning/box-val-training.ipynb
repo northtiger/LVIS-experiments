{
 "cells": [
  {
   "cell_type": "code",
   "execution_count": 1,
   "metadata": {
    "collapsed": true
   },
   "outputs": [],
   "source": [
    "using Revise"
   ]
  },
  {
   "cell_type": "code",
   "execution_count": 2,
   "metadata": {},
   "outputs": [
    {
     "data": {
      "text/plain": [
       "true"
      ]
     },
     "execution_count": 2,
     "metadata": {},
     "output_type": "execute_result"
    }
   ],
   "source": [
    "using RigidBodyDynamics\n",
    "using LearningMPC\n",
    "using Gurobi\n",
    "using DrakeVisualizer\n",
    "using CoordinateTransformations\n",
    "using Plots; gr()\n",
    "using ProgressMeter\n",
    "using MLDataPattern\n",
    "using JLD2\n",
    "DrakeVisualizer.any_open_windows() || DrakeVisualizer.new_window()"
   ]
  },
  {
   "cell_type": "code",
   "execution_count": 3,
   "metadata": {},
   "outputs": [
    {
     "name": "stderr",
     "output_type": "stream",
     "text": [
      "\u001b[1m\u001b[36mINFO: \u001b[39m\u001b[22m\u001b[36mPrecompiling module BoxValkyries.\n",
      "\u001b[39m"
     ]
    },
    {
     "data": {
      "text/html": [
       "<div id=\"interact-js-shim\">\n",
       "    <script charset=\"utf-8\">\n",
       "(function (IPython, $, _, MathJax) {\n",
       "    $.event.special.destroyed = {\n",
       "\tremove: function(o) {\n",
       "\t    if (o.handler) {\n",
       "\t\to.handler.apply(this, arguments)\n",
       "\t    }\n",
       "\t}\n",
       "    }\n",
       "\n",
       "    var OutputArea = IPython.version >= \"4.0.0\" ? require(\"notebook/js/outputarea\").OutputArea : IPython.OutputArea;\n",
       "\n",
       "    var redrawValue = function (container, type, val) {\n",
       "\tvar selector = $(\"<div/>\");\n",
       "\tvar oa = new OutputArea(_.extend(selector, {\n",
       "\t    selector: selector,\n",
       "\t    prompt_area: true,\n",
       "\t    events: IPython.events,\n",
       "\t    keyboard_manager: IPython.keyboard_manager\n",
       "\t})); // Hack to work with IPython 2.1.0\n",
       "\n",
       "\tswitch (type) {\n",
       "\tcase \"image/png\":\n",
       "            var _src = 'data:' + type + ';base64,' + val;\n",
       "\t    $(container).find(\"img\").attr('src', _src);\n",
       "\t    break;\n",
       "\tcase \"text/latex\":\n",
       "\t\tif (MathJax){\n",
       "\t\t\tvar math = MathJax.Hub.getAllJax(container)[0];\n",
       "\t\t\tMathJax.Hub.Queue([\"Text\", math, val.replace(/^\\${1,2}|\\${1,2}$/g, '')]);\n",
       "\t\t\tbreak;\n",
       "\t\t}\n",
       "\tdefault:\n",
       "\t    var toinsert = OutputArea.append_map[type].apply(\n",
       "\t\toa, [val, {}, selector]\n",
       "\t    );\n",
       "\t    $(container).empty().append(toinsert.contents());\n",
       "\t    selector.remove();\n",
       "\t}\n",
       "    }\n",
       "\n",
       "\n",
       "    $(document).ready(function() {\n",
       "\tfunction initComm(evt, data) {\n",
       "\t    var comm_manager = data.kernel.comm_manager;\n",
       "        //_.extend(comm_manager.targets, require(\"widgets/js/widget\"))\n",
       "\t    comm_manager.register_target(\"Signal\", function (comm) {\n",
       "            comm.on_msg(function (msg) {\n",
       "                var val = msg.content.data.value;\n",
       "                $(\".signal-\" + comm.comm_id).each(function() {\n",
       "                var type = $(this).data(\"type\");\n",
       "                if (typeof(val[type]) !== \"undefined\" && val[type] !== null) {\n",
       "                    redrawValue(this, type, val[type], type);\n",
       "                }\n",
       "                });\n",
       "                delete val;\n",
       "                delete msg.content.data.value;\n",
       "            });\n",
       "\t    });\n",
       "\n",
       "\t    // coordingate with Comm and redraw Signals\n",
       "\t    // XXX: Test using Reactive here to improve performance\n",
       "\t    $([IPython.events]).on(\n",
       "\t\t'output_appended.OutputArea', function (event, type, value, md, toinsert) {\n",
       "\t\t    if (md && md.reactive) {\n",
       "                // console.log(md.comm_id);\n",
       "                toinsert.addClass(\"signal-\" + md.comm_id);\n",
       "                toinsert.data(\"type\", type);\n",
       "                // Signal back indicating the mimetype required\n",
       "                var comm_manager = IPython.notebook.kernel.comm_manager;\n",
       "                var comm = comm_manager.comms[md.comm_id];\n",
       "                comm.then(function (c) {\n",
       "                    c.send({action: \"subscribe_mime\",\n",
       "                       mime: type});\n",
       "                    toinsert.bind(\"destroyed\", function() {\n",
       "                        c.send({action: \"unsubscribe_mime\",\n",
       "                               mime: type});\n",
       "                    });\n",
       "                })\n",
       "\t\t    }\n",
       "\t    });\n",
       "\t}\n",
       "\n",
       "\ttry {\n",
       "\t    // try to initialize right away. otherwise, wait on the status_started event.\n",
       "\t    initComm(undefined, IPython.notebook);\n",
       "\t} catch (e) {\n",
       "\t    $([IPython.events]).on('kernel_created.Kernel kernel_created.Session', initComm);\n",
       "\t}\n",
       "    });\n",
       "})(IPython, jQuery, _, MathJax);\n",
       "</script>\n",
       "    <script>\n",
       "        window.interactLoadedFlag = true\n",
       "       $(\"#interact-js-shim\").bind(\"destroyed\", function () {\n",
       "           if (window.interactLoadedFlag) {\n",
       "               console.warn(\"JavaScript required by Interact will be removed if you remove this cell or run using Interact more than once.\")\n",
       "           }\n",
       "       })\n",
       "       $([IPython.events]).on(\"kernel_starting.Kernel kernel_restarting.Kernel\", function () { window.interactLoadedFlag = false })\n",
       "   </script>\n",
       "</div>"
      ]
     },
     "metadata": {},
     "output_type": "display_data"
    }
   ],
   "source": [
    "import BoxValkyries\n",
    "import Nets"
   ]
  },
  {
   "cell_type": "code",
   "execution_count": 4,
   "metadata": {},
   "outputs": [
    {
     "name": "stderr",
     "output_type": "stream",
     "text": [
      "WARNING: replacing module BoxValkyries.\n"
     ]
    }
   ],
   "source": [
    "reload(\"BoxValkyries\")"
   ]
  },
  {
   "cell_type": "code",
   "execution_count": 5,
   "metadata": {},
   "outputs": [
    {
     "data": {
      "text/plain": [
       "Tuple{Array{Float64,1},Array{Float64,2}}"
      ]
     },
     "execution_count": 5,
     "metadata": {},
     "output_type": "execute_result"
    }
   ],
   "source": [
    "const Sample = Tuple{Vector{Float64}, Matrix{Float64}}"
   ]
  },
  {
   "cell_type": "code",
   "execution_count": 17,
   "metadata": {},
   "outputs": [
    {
     "data": {
      "text/plain": [
       "0.2"
      ]
     },
     "execution_count": 17,
     "metadata": {},
     "output_type": "execute_result"
    }
   ],
   "source": [
    "boxval = BoxValkyries.BoxValkyrie()\n",
    "mechanism = boxval.mechanism\n",
    "basevis = Visualizer()[:boxval]\n",
    "delete!(basevis)\n",
    "setgeometry!(basevis, boxval)\n",
    "\n",
    "train_data = Sample[]\n",
    "test_data = Sample[]\n",
    "validation_data = Sample[]\n",
    "\n",
    "x_to_u = AffineMap(eye(4), zeros(4))\n",
    "v_to_y = AffineMap([max(abs(b.lower), abs(b.upper)) for b in LCPSim.all_effort_bounds(mechanism)], zeros(2))\n",
    "\n",
    "widths = [4, 16, 16, 8, 2]\n",
    "activation = Nets.leaky_relu\n",
    "function sensitive_loss(λ)\n",
    "    q = [1.0-λ λ λ λ λ]\n",
    "    (params, x, y) -> sum(abs2, \n",
    "        q .* (Nets.predict_sensitivity(Nets.Net(Nets.Params(widths, params), activation, x_to_u, v_to_y), x) .- y))\n",
    "end\n",
    "start_params = 0.1 * randn(Nets.Params{Float64}, widths).data;\n",
    "\n",
    "p_train = 0.6\n",
    "p_validate = 0.2"
   ]
  },
  {
   "cell_type": "code",
   "execution_count": 61,
   "metadata": {},
   "outputs": [
    {
     "data": {
      "text/plain": [
       "nominal_input (generic function with 1 method)"
      ]
     },
     "execution_count": 61,
     "metadata": {},
     "output_type": "execute_result"
    }
   ],
   "source": [
    "function nominal_input(x0::MechanismState)\n",
    "    u_nominal = clamp.(inverse_dynamics(x0, zeros(num_velocities(x0))), LCPSim.all_effort_bounds(x0.mechanism))\n",
    "    feet = findbody.(x0.mechanism, [\"rf\", \"lf\"])\n",
    "    weight = mass(x0.mechanism) * mechanism.gravitational_acceleration.v[3]\n",
    "    u_nominal[parentindexes(velocity(x0, findjoint(x0.mechanism, \"core_to_rf_z\")))...] += weight / 2\n",
    "    u_nominal[parentindexes(velocity(x0, findjoint(x0.mechanism, \"core_to_lf_z\")))...] += weight / 2\n",
    "    u_nominal\n",
    "end"
   ]
  },
  {
   "cell_type": "code",
   "execution_count": 115,
   "metadata": {},
   "outputs": [
    {
     "name": "stderr",
     "output_type": "stream",
     "text": [
      "WARNING: Method definition (::Type{BoxValkyries.BoxValkyrieMPCParams{T}})() in module BoxValkyries at /home/rdeits/locomotion/explorations/learning-mpc/packages/v0.6/Parameters/src/Parameters.jl:375 overwritten at /home/rdeits/locomotion/explorations/learning-mpc/packages/v0.6/Parameters/src/Parameters.jl:375.\n",
      "WARNING: Method definition Type(Array{Any, 1}, Type{BoxValkyries.BoxValkyrieMPCParams{T}}) in module BoxValkyries overwritten.\n",
      "WARNING: Method definition (::Type{BoxValkyries.BoxValkyrieMPCParams{T}})(Any, Any, Any, Any, Any, Any) in module BoxValkyries at /home/rdeits/locomotion/explorations/learning-mpc/packages/v0.6/Parameters/src/Parameters.jl:389 overwritten at /home/rdeits/locomotion/explorations/learning-mpc/packages/v0.6/Parameters/src/Parameters.jl:389.\n",
      "WARNING: Method definition (::Type{BoxValkyries.BoxValkyrieMPCParams{T} where T})(Array{T, 2}, Array{T, 2}, T, Any, Any, Any) in module BoxValkyries at /home/rdeits/locomotion/explorations/learning-mpc/packages/v0.6/Parameters/src/Parameters.jl:413 overwritten at /home/rdeits/locomotion/explorations/learning-mpc/packages/v0.6/Parameters/src/Parameters.jl:413.\n",
      "WARNING: Method definition (::Type{BoxValkyries.BoxValkyrieMPCParams{T} where T})() in module BoxValkyries at /home/rdeits/locomotion/explorations/learning-mpc/packages/v0.6/Parameters/src/Parameters.jl:433 overwritten at /home/rdeits/locomotion/explorations/learning-mpc/packages/v0.6/Parameters/src/Parameters.jl:433.\n",
      "WARNING: Method definition Type(Array{Any, 1}, Type{BoxValkyries.BoxValkyrieMPCParams{T} where T}) in module BoxValkyries overwritten.\n",
      "WARNING: Method definition (::Type{BoxValkyries.BoxValkyrieMPCParams{T} where T})(BoxValkyries.BoxValkyrieMPCParams{T} where T) in module BoxValkyries at /home/rdeits/locomotion/explorations/learning-mpc/packages/v0.6/Parameters/src/Parameters.jl:443 overwritten at /home/rdeits/locomotion/explorations/learning-mpc/packages/v0.6/Parameters/src/Parameters.jl:443.\n",
      "WARNING: Method definition Type(Array{Any, 1}, Type{BoxValkyries.BoxValkyrieMPCParams{T} where T}, BoxValkyries.BoxValkyrieMPCParams{T} where T) in module BoxValkyries overwritten.\n",
      "WARNING: Method definition (::Type{BoxValkyries.BoxValkyrieMPCParams{T} where T})(BoxValkyries.BoxValkyrieMPCParams{T} where T, Base.Associative{K, V} where V where K) in module BoxValkyries at /home/rdeits/locomotion/explorations/learning-mpc/packages/v0.6/Parameters/src/Parameters.jl:446 overwritten at /home/rdeits/locomotion/explorations/learning-mpc/packages/v0.6/Parameters/src/Parameters.jl:446.\n",
      "WARNING: Method definition (::Type{BoxValkyries.BoxValkyrieMPCParams{T} where T})(BoxValkyries.BoxValkyrieMPCParams{T} where T, Tuple{Symbol, Any}...) in module BoxValkyries at /home/rdeits/locomotion/explorations/learning-mpc/packages/v0.6/Parameters/src/Parameters.jl:447 overwritten at /home/rdeits/locomotion/explorations/learning-mpc/packages/v0.6/Parameters/src/Parameters.jl:447.\n",
      "WARNING: Method definition show(IO, BoxValkyries.BoxValkyrieMPCParams{T} where T) in module BoxValkyries at /home/rdeits/locomotion/explorations/learning-mpc/packages/v0.6/Parameters/src/Parameters.jl:456 overwritten at /home/rdeits/locomotion/explorations/learning-mpc/packages/v0.6/Parameters/src/Parameters.jl:456.\n",
      "WARNING: Method definition @unpack_BoxValkyrieMPCParams(ANY) in module BoxValkyries at /home/rdeits/locomotion/explorations/learning-mpc/packages/v0.6/Parameters/src/Parameters.jl:470 overwritten at /home/rdeits/locomotion/explorations/learning-mpc/packages/v0.6/Parameters/src/Parameters.jl:470.\n",
      "WARNING: Method definition @pack_BoxValkyrieMPCParams(ANY) in module BoxValkyries at /home/rdeits/locomotion/explorations/learning-mpc/packages/v0.6/Parameters/src/Parameters.jl:473 overwritten at /home/rdeits/locomotion/explorations/learning-mpc/packages/v0.6/Parameters/src/Parameters.jl:473.\n"
     ]
    },
    {
     "data": {
      "text/plain": [
       "(::#5) (generic function with 1 method)"
      ]
     },
     "execution_count": 115,
     "metadata": {},
     "output_type": "execute_result"
    }
   ],
   "source": [
    "mpc_params = BoxValkyries.BoxValkyrieMPCParams(Δt = 0.04, gap=1e-2)\n",
    "xstar = MechanismState{Float64}(mechanism)\n",
    "set_configuration!(xstar, findjoint(mechanism, \"base_x\"), [0])\n",
    "set_configuration!(xstar, findjoint(mechanism, \"base_z\"), [0.9])\n",
    "set_configuration!(xstar, findjoint(mechanism, \"core_to_rh_x\"), [0.6])\n",
    "set_configuration!(xstar, findjoint(mechanism, \"core_to_rh_z\"), [0.0])\n",
    "set_configuration!(xstar, findjoint(mechanism, \"core_to_lh_x\"), [0.6])\n",
    "set_configuration!(xstar, findjoint(mechanism, \"core_to_lh_z\"), [0.0])\n",
    "set_configuration!(xstar, findjoint(mechanism, \"core_to_rf_x\"), [0.2])\n",
    "set_configuration!(xstar, findjoint(mechanism, \"core_to_rf_z\"), [-0.9])\n",
    "set_configuration!(xstar, findjoint(mechanism, \"core_to_lf_x\"), [0.2])\n",
    "set_configuration!(xstar, findjoint(mechanism, \"core_to_lf_z\"), [-0.9])\n",
    "settransform!(basevis[:robot], xstar)\n",
    "\n",
    "feet = findbody.(mechanism, [\"rf\", \"lf\"])\n",
    "contacts = [Point3D(default_frame(body), 0., 0, 0) for body in feet]\n",
    "lqrsol = BoxValkyries.LQRSolution(xstar, nominal_input(xstar), mpc_params.Q, mpc_params.R, contacts)\n",
    "lqr_controller = BoxValkyries.LQRController(lqrsol)"
   ]
  },
  {
   "cell_type": "code",
   "execution_count": 116,
   "metadata": {},
   "outputs": [],
   "source": [
    "x0 = MechanismState(mechanism, copy(configuration(xstar)), copy(velocity(xstar)))\n",
    "set_velocity!(x0, findjoint(mechanism, \"base_x\"), [-0.2])\n",
    "set_configuration!(x0, findjoint(mechanism, \"base_z\"), [1.2])\n",
    "q0 = copy(configuration(x0))\n",
    "v0 = copy(velocity(x0));"
   ]
  },
  {
   "cell_type": "code",
   "execution_count": 117,
   "metadata": {
    "collapsed": true
   },
   "outputs": [],
   "source": [
    "set_configuration!(x0, q0)\n",
    "set_velocity!(x0, v0)\n",
    "env = Gurobi.Env()\n",
    "results_lqr = LCPSim.simulate(x0, lqr_controller, boxval.environment, mpc_params.Δt, 100, GurobiSolver(env, OutputFlag=0));"
   ]
  },
  {
   "cell_type": "code",
   "execution_count": null,
   "metadata": {},
   "outputs": [],
   "source": [
    "playback(basevis[:robot], results_lqr, mpc_params.Δt)"
   ]
  },
  {
   "cell_type": "code",
   "execution_count": null,
   "metadata": {
    "collapsed": true
   },
   "outputs": [],
   "source": []
  },
  {
   "cell_type": "code",
   "execution_count": null,
   "metadata": {
    "collapsed": true
   },
   "outputs": [],
   "source": [
    "jldopen(\"box-val-dagger-0.04-params.jld2\", \"r\") do file\n",
    "    params = file[\"params\"]\n",
    "    widths = file[\"widths\"]\n",
    "    x_to_u = file[\"x_to_u\"]\n",
    "    v_to_y = file[\"v_to_y\"]\n",
    "end;"
   ]
  },
  {
   "cell_type": "code",
   "execution_count": null,
   "metadata": {
    "collapsed": true
   },
   "outputs": [],
   "source": [
    "# params = copy(start_params)\n",
    "# net = Nets.Net(Nets.Params(widths, params), activation, x_to_u, v_to_y)"
   ]
  },
  {
   "cell_type": "code",
   "execution_count": null,
   "metadata": {
    "collapsed": true
   },
   "outputs": [],
   "source": [
    "net_controller = x -> begin\n",
    "    Nets.predict(net, state_vector(x))\n",
    "end\n",
    "\n",
    "mpc_controller = CartPoles.MPCController(cartpole, cartpole_mpc_params, xstar, lqrsol, [net_controller, lqr_controller]);\n",
    "mpc_controller.callback = (x, results) -> begin\n",
    "    if !isnull(results.lcp_updates)\n",
    "#         playback(basevis[:robot], get(results.lcp_updates), mpc_controller.params.Δt)\n",
    "        if !isnull(results.jacobian)\n",
    "            xv = state_vector(x)\n",
    "            yJ = hcat(get(results.lcp_updates)[1].input, get(results.jacobian))\n",
    "            r = rand()\n",
    "            if r < p_train\n",
    "                push!(train_data, (xv, yJ))\n",
    "            elseif r < p_train + p_validate\n",
    "                push!(validation_data, (xv, yJ))\n",
    "            else\n",
    "                push!(test_data, (xv, yJ))\n",
    "            end\n",
    "        end\n",
    "    end\n",
    "end\n",
    "\n",
    "train_loss = sensitive_loss(0.1)\n",
    "validate_loss = train_loss\n",
    "training_losses = Float64[]\n",
    "validation_losses = Float64[]\n",
    "\n",
    "p_mpc = 0.2\n",
    "\n",
    "x_control = MechanismState{Float64}(mechanism)\n",
    "\n",
    "controller = x -> begin\n",
    "    set_configuration!(x_control, configuration(x))\n",
    "    settransform!(basevis[:robot], x_control)\n",
    "    if rand() < p_mpc\n",
    "        return mpc_controller(x)\n",
    "    else\n",
    "        return net_controller(x)\n",
    "    end\n",
    "end"
   ]
  },
  {
   "cell_type": "code",
   "execution_count": null,
   "metadata": {
    "collapsed": true,
    "scrolled": true
   },
   "outputs": [],
   "source": [
    "x0 = MechanismState{Float64}(mechanism)\n",
    "\n",
    "fname = \"cart-pole-dagger-0.04.jld2\"\n",
    "\n",
    "@showprogress for i in 1:1000\n",
    "    set_configuration!(x0, [2 * (rand() - 0.5), π * (rand() - 0.5)])\n",
    "    set_velocity!(x0, (rand(2) .- 0.5))\n",
    "    termination = x -> (configuration(x)[2] > π/2 || configuration(x)[2] < -π/2)\n",
    "    results_net = LCPSim.simulate(x0, controller, cartpole.environment, cartpole_mpc_params.Δt, 100, GurobiSolver(OutputFlag=0);\n",
    "        termination=termination)\n",
    "    Nets.adam!(train_loss, params, shuffleobs(train_data), Nets.AdamOpts(learning_rate=0.01 * 0.999^i, batch_size=min(10, length(train_data))))\n",
    "    push!(training_losses, mean(xy -> validate_loss(params, xy[1], xy[2]), train_data))\n",
    "    push!(validation_losses, mean(xy -> validate_loss(params, xy[1], xy[2]), validation_data))\n",
    "    \n",
    "    @show training_losses[end]\n",
    "    @show validation_losses[end]\n",
    "    \n",
    "    jldopen(fname, \"w\") do file\n",
    "        file[\"train_data\"] = train_data\n",
    "        file[\"test_data\"] = test_data\n",
    "        file[\"validation_data\"] = validation_data\n",
    "    end\n",
    "    \n",
    "    jldopen(\"cart-pole-dagger-0.04-params.jld2\", \"w\") do file\n",
    "        file[\"params\"] = params\n",
    "        file[\"widths\"] = widths\n",
    "        file[\"x_to_u\"] = x_to_u\n",
    "        file[\"v_to_y\"] = v_to_y\n",
    "        file[\"training_losses\"] = training_losses\n",
    "        file[\"validation_losses\"] = validation_losses\n",
    "    end;\n",
    "end "
   ]
  },
  {
   "cell_type": "code",
   "execution_count": null,
   "metadata": {
    "collapsed": true
   },
   "outputs": [],
   "source": [
    "q0 = [2 * (rand() - 0.5), π * (rand() - 0.5)]\n",
    "v0 = (rand(2) .- 0.5);"
   ]
  },
  {
   "cell_type": "code",
   "execution_count": null,
   "metadata": {
    "collapsed": true
   },
   "outputs": [],
   "source": [
    "configuration(x0) .= q0\n",
    "velocity(x0) .= v0\n",
    "results_net = LCPSim.simulate(x0, net_controller, cartpole.environment, cartpole_mpc_params.Δt, 300, GurobiSolver(OutputFlag=0));"
   ]
  },
  {
   "cell_type": "code",
   "execution_count": null,
   "metadata": {
    "collapsed": true
   },
   "outputs": [],
   "source": [
    "set_configuration!(x0, configuration(results_net[1].state))\n",
    "settransform!(basevis[:robot], x0)\n",
    "\n",
    "playback(basevis[:robot], results_net, 0.5 * cartpole_mpc_params.Δt)"
   ]
  },
  {
   "cell_type": "code",
   "execution_count": null,
   "metadata": {
    "collapsed": true
   },
   "outputs": [],
   "source": [
    "configuration(x0) .= q0\n",
    "velocity(x0) .= v0\n",
    "results_net = LCPSim.simulate(x0, lqr_controller, cartpole.environment, cartpole_mpc_params.Δt, 300, GurobiSolver(OutputFlag=0));"
   ]
  },
  {
   "cell_type": "code",
   "execution_count": null,
   "metadata": {
    "collapsed": true
   },
   "outputs": [],
   "source": [
    "set_configuration!(x0, configuration(results_net[1].state))\n",
    "settransform!(basevis[:robot], x0)\n",
    "\n",
    "playback(basevis[:robot], results_net, 0.5 * cartpole_mpc_params.Δt)"
   ]
  },
  {
   "cell_type": "code",
   "execution_count": null,
   "metadata": {
    "collapsed": true
   },
   "outputs": [],
   "source": [
    "online_controller = CartPoles.OnlineMPCController(cartpole, \n",
    "    cartpole_mpc_params, xstar, lqrsol, [net_controller, lqr_controller]);"
   ]
  },
  {
   "cell_type": "code",
   "execution_count": null,
   "metadata": {
    "collapsed": true
   },
   "outputs": [],
   "source": [
    "configuration(x0) .= q0\n",
    "velocity(x0) .= v0\n",
    "results_net = LCPSim.simulate(x0, online_controller, cartpole.environment, cartpole_mpc_params.Δt, 300, GurobiSolver(OutputFlag=0));"
   ]
  },
  {
   "cell_type": "code",
   "execution_count": null,
   "metadata": {
    "collapsed": true
   },
   "outputs": [],
   "source": [
    "using ProfileView\n",
    "\n",
    "Profile.clear()\n",
    "@time @profile online_controller(x0)\n",
    "ProfileView.view()"
   ]
  },
  {
   "cell_type": "code",
   "execution_count": null,
   "metadata": {
    "collapsed": true
   },
   "outputs": [],
   "source": []
  }
 ],
 "metadata": {
  "kernelspec": {
   "display_name": "Julia 0.6.0",
   "language": "julia",
   "name": "julia-0.6"
  },
  "language_info": {
   "file_extension": ".jl",
   "mimetype": "application/julia",
   "name": "julia",
   "version": "0.6.0"
  }
 },
 "nbformat": 4,
 "nbformat_minor": 2
}
