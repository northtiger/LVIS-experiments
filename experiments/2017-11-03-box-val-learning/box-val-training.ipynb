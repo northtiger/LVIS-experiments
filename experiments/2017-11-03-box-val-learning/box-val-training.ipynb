{
 "cells": [
  {
   "cell_type": "code",
   "execution_count": null,
   "metadata": {
    "collapsed": false,
    "deletable": true,
    "editable": true
   },
   "outputs": [],
   "source": [
    "using Revise"
   ]
  },
  {
   "cell_type": "code",
   "execution_count": null,
   "metadata": {
    "collapsed": false,
    "deletable": true,
    "editable": true
   },
   "outputs": [],
   "source": [
    "using RigidBodyDynamics\n",
    "using LearningMPC\n",
    "using Gurobi\n",
    "using DrakeVisualizer\n",
    "using CoordinateTransformations\n",
    "using Plots; gr()\n",
    "using ProgressMeter\n",
    "using MLDataPattern\n",
    "using JLD2\n",
    "DrakeVisualizer.any_open_windows() || DrakeVisualizer.new_window()"
   ]
  },
  {
   "cell_type": "code",
   "execution_count": null,
   "metadata": {
    "collapsed": false,
    "deletable": true,
    "editable": true
   },
   "outputs": [],
   "source": [
    "import BoxValkyries\n",
    "import Nets"
   ]
  },
  {
   "cell_type": "code",
   "execution_count": null,
   "metadata": {
    "collapsed": false,
    "deletable": true,
    "editable": true
   },
   "outputs": [],
   "source": [
    "reload(\"BoxValkyries\")"
   ]
  },
  {
   "cell_type": "code",
   "execution_count": null,
   "metadata": {
    "collapsed": false,
    "deletable": true,
    "editable": true
   },
   "outputs": [],
   "source": [
    "const Sample = Tuple{Vector{Float64}, Matrix{Float64}}"
   ]
  },
  {
   "cell_type": "code",
   "execution_count": null,
   "metadata": {
    "collapsed": false,
    "deletable": true,
    "editable": true
   },
   "outputs": [],
   "source": [
    "boxval = BoxValkyries.BoxValkyrie()\n",
    "mechanism = boxval.mechanism\n",
    "basevis = Visualizer()[:boxval]\n",
    "delete!(basevis)\n",
    "setgeometry!(basevis, boxval)\n",
    "\n",
    "train_data = Sample[]\n",
    "test_data = Sample[]\n",
    "validation_data = Sample[]\n",
    "\n",
    "\n",
    "nx = num_positions(mechanism) + num_velocities(mechanism)\n",
    "nu = num_velocities(mechanism)\n",
    "x_to_u = AffineMap(eye(nx), zeros(nx))\n",
    "v_to_y = AffineMap(diagm([max(abs(b.lower), abs(b.upper)) for b in LCPSim.all_effort_bounds(mechanism)]), zeros(num_velocities(mechanism)))\n",
    "\n",
    "widths = [nx, 16, 16, 16, 16, nu]\n",
    "activation = Nets.leaky_relu\n",
    "function sensitive_loss(λ)\n",
    "    q = [1.0-λ λ λ λ λ]\n",
    "    (params, x, y) -> sum(abs2, \n",
    "        q .* (Nets.predict_sensitivity(Nets.Net(Nets.Params(widths, params), activation, x_to_u, v_to_y), x) .- y))\n",
    "end\n",
    "start_params = 0.1 * randn(Nets.Params{Float64}, widths).data;\n",
    "\n",
    "p_train = 0.6\n",
    "p_validate = 0.2"
   ]
  },
  {
   "cell_type": "code",
   "execution_count": null,
   "metadata": {
    "collapsed": false,
    "deletable": true,
    "editable": true
   },
   "outputs": [],
   "source": [
    "mpc_params = BoxValkyries.BoxValkyrieMPCParams(Δt = 0.04, gap=1e-2)\n",
    "xstar = MechanismState{Float64}(mechanism)\n",
    "set_configuration!(xstar, findjoint(mechanism, \"base_x\"), [0])\n",
    "set_configuration!(xstar, findjoint(mechanism, \"base_z\"), [0.9])\n",
    "set_configuration!(xstar, findjoint(mechanism, \"core_to_rh_x\"), [0.6])\n",
    "set_configuration!(xstar, findjoint(mechanism, \"core_to_rh_z\"), [0.0])\n",
    "set_configuration!(xstar, findjoint(mechanism, \"core_to_lh_x\"), [0.6])\n",
    "set_configuration!(xstar, findjoint(mechanism, \"core_to_lh_z\"), [0.0])\n",
    "set_configuration!(xstar, findjoint(mechanism, \"core_to_rf_x\"), [0.2])\n",
    "set_configuration!(xstar, findjoint(mechanism, \"core_to_rf_z\"), [-0.9])\n",
    "set_configuration!(xstar, findjoint(mechanism, \"core_to_lf_x\"), [0.2])\n",
    "set_configuration!(xstar, findjoint(mechanism, \"core_to_lf_z\"), [-0.9])\n",
    "settransform!(basevis[:robot], xstar)\n",
    "\n",
    "feet = findbody.(mechanism, [\"rf\", \"lf\"])\n",
    "contacts = [Point3D(default_frame(body), 0., 0, 0) for body in feet]\n",
    "lqrsol = BoxValkyries.LQRSolution(xstar, BoxValkyries.nominal_input(boxval, xstar), mpc_params.Q, mpc_params.R, contacts)\n",
    "lqr_controller = BoxValkyries.LQRController(lqrsol)"
   ]
  },
  {
   "cell_type": "code",
   "execution_count": null,
   "metadata": {
    "collapsed": true,
    "deletable": true,
    "editable": true
   },
   "outputs": [],
   "source": [
    "x0 = MechanismState(mechanism, copy(configuration(xstar)), copy(velocity(xstar)))\n",
    "set_velocity!(x0, findjoint(mechanism, \"base_x\"), [-0.2])\n",
    "set_configuration!(x0, findjoint(mechanism, \"base_z\"), [1.2])\n",
    "q0 = copy(configuration(x0))\n",
    "v0 = copy(velocity(x0));"
   ]
  },
  {
   "cell_type": "code",
   "execution_count": null,
   "metadata": {
    "collapsed": false,
    "deletable": true,
    "editable": true
   },
   "outputs": [],
   "source": [
    "# set_configuration!(x0, q0)\n",
    "# set_velocity!(x0, v0)\n",
    "# env = Gurobi.Env()\n",
    "# results_lqr = LCPSim.simulate(x0, lqr_controller, boxval.environment, mpc_params.Δt, 200, GurobiSolver(env, OutputFlag=0));\n",
    "\n",
    "# playback(basevis[:robot], results_lqr, mpc_params.Δt)"
   ]
  },
  {
   "cell_type": "code",
   "execution_count": null,
   "metadata": {
    "collapsed": true,
    "deletable": true,
    "editable": true
   },
   "outputs": [],
   "source": [
    "# jldopen(\"box-val-dagger-0.04-params.jld2\", \"r\") do file\n",
    "#     params = file[\"params\"]\n",
    "#     widths = file[\"widths\"]\n",
    "#     x_to_u = file[\"x_to_u\"]\n",
    "#     v_to_y = file[\"v_to_y\"]\n",
    "# end;"
   ]
  },
  {
   "cell_type": "code",
   "execution_count": null,
   "metadata": {
    "collapsed": false,
    "deletable": true,
    "editable": true
   },
   "outputs": [],
   "source": [
    "params = copy(start_params)\n",
    "net = Nets.Net(Nets.Params(widths, params), activation, x_to_u, v_to_y)"
   ]
  },
  {
   "cell_type": "code",
   "execution_count": null,
   "metadata": {
    "collapsed": false,
    "deletable": true,
    "editable": true
   },
   "outputs": [],
   "source": [
    "net_controller = x -> begin\n",
    "    Nets.predict(net, state_vector(x))\n",
    "end\n",
    "\n",
    "mpc_controller = BoxValkyries.MPCController(boxval, mpc_params, xstar, lqrsol, [net_controller, lqr_controller]);\n",
    "mpc_controller.callback = (x, results) -> begin\n",
    "    if !isnull(results.lcp_updates)\n",
    "#         playback(basevis[:robot], get(results.lcp_updates), mpc_controller.params.Δt)\n",
    "        if !isnull(results.jacobian)\n",
    "            xv = state_vector(x)\n",
    "            yJ = hcat(get(results.lcp_updates)[1].input, get(results.jacobian))\n",
    "            r = rand()\n",
    "            if r < p_train\n",
    "                push!(train_data, (xv, yJ))\n",
    "            elseif r < p_train + p_validate\n",
    "                push!(validation_data, (xv, yJ))\n",
    "            else\n",
    "                push!(test_data, (xv, yJ))\n",
    "            end\n",
    "        end\n",
    "    end\n",
    "end\n",
    "\n",
    "train_loss = sensitive_loss(0.1)\n",
    "validate_loss = train_loss\n",
    "training_losses = Float64[]\n",
    "validation_losses = Float64[]\n",
    "\n",
    "p_mpc = 0.2\n",
    "\n",
    "x_control = MechanismState{Float64}(mechanism)\n",
    "\n",
    "controller = x -> begin\n",
    "    set_configuration!(x_control, configuration(x))\n",
    "    settransform!(basevis[:robot], x_control)\n",
    "    if rand() < p_mpc\n",
    "        return mpc_controller(x)\n",
    "    else\n",
    "        return net_controller(x)\n",
    "    end\n",
    "end"
   ]
  },
  {
   "cell_type": "code",
   "execution_count": null,
   "metadata": {
    "collapsed": false,
    "deletable": true,
    "editable": true,
    "scrolled": false
   },
   "outputs": [],
   "source": [
    "x0 = MechanismState{Float64}(mechanism)\n",
    "\n",
    "fname = \"box-val-dagger-0.04.jld2\"\n",
    "env = Gurobi.Env()\n",
    "\n",
    "@showprogress for i in 1:1000\n",
    "    q = copy(q0)\n",
    "    q[1] += 0.25 * randn()\n",
    "    set_configuration!(x0, q)\n",
    "    set_velocity!(x0, v0 .+ randn(size(v0)))\n",
    "    \n",
    "#     set_configuration!(x0, [2 * (rand() - 0.5), π * (rand() - 0.5)])\n",
    "#     set_velocity!(x0, (rand(2) .- 0.5))\n",
    "    termination = x -> (configuration(x)[2] < 0.2)\n",
    "    results_net = LCPSim.simulate(x0, controller, boxval.environment, mpc_params.Δt, 100, GurobiSolver(env, OutputFlag=0);\n",
    "        termination=termination)\n",
    "    Nets.adam!(train_loss, params, shuffleobs(train_data), Nets.AdamOpts(learning_rate=0.01 * 0.999^i, batch_size=min(10, length(train_data))))\n",
    "    push!(training_losses, mean(xy -> validate_loss(params, xy[1], xy[2]), train_data))\n",
    "    push!(validation_losses, mean(xy -> validate_loss(params, xy[1], xy[2]), validation_data))\n",
    "    \n",
    "    @show training_losses[end]\n",
    "    @show validation_losses[end]\n",
    "    \n",
    "    jldopen(fname, \"w\") do file\n",
    "        file[\"train_data\"] = train_data\n",
    "        file[\"test_data\"] = test_data\n",
    "        file[\"validation_data\"] = validation_data\n",
    "    end\n",
    "    \n",
    "    jldopen(\"box-val-dagger-0.04-params.jld2\", \"w\") do file\n",
    "        file[\"params\"] = params\n",
    "        file[\"widths\"] = widths\n",
    "        file[\"x_to_u\"] = x_to_u\n",
    "        file[\"v_to_y\"] = v_to_y\n",
    "        file[\"training_losses\"] = training_losses\n",
    "        file[\"validation_losses\"] = validation_losses\n",
    "    end;\n",
    "end "
   ]
  },
  {
   "cell_type": "code",
   "execution_count": null,
   "metadata": {
    "collapsed": true,
    "deletable": true,
    "editable": true
   },
   "outputs": [],
   "source": [
    "q0 = [2 * (rand() - 0.5), π * (rand() - 0.5)]\n",
    "v0 = (rand(2) .- 0.5);"
   ]
  },
  {
   "cell_type": "code",
   "execution_count": null,
   "metadata": {
    "collapsed": true,
    "deletable": true,
    "editable": true
   },
   "outputs": [],
   "source": [
    "configuration(x0) .= q0\n",
    "velocity(x0) .= v0\n",
    "results_net = LCPSim.simulate(x0, net_controller, cartpole.environment, cartpole_mpc_params.Δt, 300, GurobiSolver(OutputFlag=0));"
   ]
  },
  {
   "cell_type": "code",
   "execution_count": null,
   "metadata": {
    "collapsed": true,
    "deletable": true,
    "editable": true
   },
   "outputs": [],
   "source": [
    "set_configuration!(x0, configuration(results_net[1].state))\n",
    "settransform!(basevis[:robot], x0)\n",
    "\n",
    "playback(basevis[:robot], results_net, 0.5 * cartpole_mpc_params.Δt)"
   ]
  },
  {
   "cell_type": "code",
   "execution_count": null,
   "metadata": {
    "collapsed": true,
    "deletable": true,
    "editable": true
   },
   "outputs": [],
   "source": [
    "configuration(x0) .= q0\n",
    "velocity(x0) .= v0\n",
    "results_net = LCPSim.simulate(x0, lqr_controller, cartpole.environment, cartpole_mpc_params.Δt, 300, GurobiSolver(OutputFlag=0));"
   ]
  },
  {
   "cell_type": "code",
   "execution_count": null,
   "metadata": {
    "collapsed": true,
    "deletable": true,
    "editable": true
   },
   "outputs": [],
   "source": [
    "set_configuration!(x0, configuration(results_net[1].state))\n",
    "settransform!(basevis[:robot], x0)\n",
    "\n",
    "playback(basevis[:robot], results_net, 0.5 * cartpole_mpc_params.Δt)"
   ]
  },
  {
   "cell_type": "code",
   "execution_count": null,
   "metadata": {
    "collapsed": true,
    "deletable": true,
    "editable": true
   },
   "outputs": [],
   "source": [
    "online_controller = CartPoles.OnlineMPCController(cartpole, \n",
    "    cartpole_mpc_params, xstar, lqrsol, [net_controller, lqr_controller]);"
   ]
  },
  {
   "cell_type": "code",
   "execution_count": null,
   "metadata": {
    "collapsed": true,
    "deletable": true,
    "editable": true
   },
   "outputs": [],
   "source": [
    "configuration(x0) .= q0\n",
    "velocity(x0) .= v0\n",
    "results_net = LCPSim.simulate(x0, online_controller, cartpole.environment, cartpole_mpc_params.Δt, 300, GurobiSolver(OutputFlag=0));"
   ]
  },
  {
   "cell_type": "code",
   "execution_count": null,
   "metadata": {
    "collapsed": true,
    "deletable": true,
    "editable": true
   },
   "outputs": [],
   "source": [
    "using ProfileView\n",
    "\n",
    "Profile.clear()\n",
    "@time @profile online_controller(x0)\n",
    "ProfileView.view()"
   ]
  },
  {
   "cell_type": "code",
   "execution_count": null,
   "metadata": {
    "collapsed": true,
    "deletable": true,
    "editable": true
   },
   "outputs": [],
   "source": []
  }
 ],
 "metadata": {
  "kernelspec": {
   "display_name": "Julia 0.6.0",
   "language": "julia",
   "name": "julia-0.6"
  },
  "language_info": {
   "file_extension": ".jl",
   "mimetype": "application/julia",
   "name": "julia",
   "version": "0.6.0"
  }
 },
 "nbformat": 4,
 "nbformat_minor": 2
}
