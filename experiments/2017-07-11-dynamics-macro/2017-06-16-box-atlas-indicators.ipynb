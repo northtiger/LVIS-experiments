{
 "cells": [
  {
   "cell_type": "code",
   "execution_count": 1,
   "metadata": {
    "collapsed": true
   },
   "outputs": [],
   "source": [
    "using Polyhedra"
   ]
  },
  {
   "cell_type": "code",
   "execution_count": 2,
   "metadata": {},
   "outputs": [
    {
     "data": {
      "text/plain": [
       "H-representation\n",
       "begin\n",
       " 2 3 real\n",
       " 0.0 -1.0 -0.0\n",
       " 0.0 -0.0 -1.0\n",
       "end"
      ]
     },
     "execution_count": 2,
     "metadata": {},
     "output_type": "execute_result"
    }
   ],
   "source": [
    "h = SimpleHRepresentation(eye(2), zeros(2))"
   ]
  },
  {
   "cell_type": "code",
   "execution_count": 3,
   "metadata": {},
   "outputs": [
    {
     "data": {
      "text/plain": [
       "Polyhedra.HRepresentation{2,Float64}"
      ]
     },
     "execution_count": 3,
     "metadata": {},
     "output_type": "execute_result"
    }
   ],
   "source": [
    "supertype(typeof(h))"
   ]
  },
  {
   "cell_type": "code",
   "execution_count": 4,
   "metadata": {},
   "outputs": [
    {
     "data": {
      "text/plain": [
       "Polyhedra.SimpleHRepresentation{2,Float64}"
      ]
     },
     "execution_count": 4,
     "metadata": {},
     "output_type": "execute_result"
    }
   ],
   "source": [
    "typeof(h)"
   ]
  },
  {
   "cell_type": "code",
   "execution_count": null,
   "metadata": {
    "collapsed": true
   },
   "outputs": [],
   "source": []
  },
  {
   "cell_type": "code",
   "execution_count": 5,
   "metadata": {
    "collapsed": true
   },
   "outputs": [],
   "source": [
    "using StaticArrays"
   ]
  },
  {
   "cell_type": "code",
   "execution_count": 7,
   "metadata": {
    "collapsed": true
   },
   "outputs": [],
   "source": [
    "struct Foo{T}\n",
    "    position::SVector{2, T}\n",
    "    velocity::SVector{2, T}\n",
    "end"
   ]
  },
  {
   "cell_type": "code",
   "execution_count": 8,
   "metadata": {},
   "outputs": [
    {
     "data": {
      "text/plain": [
       "4-element Array{Int64,1}:\n",
       " 1\n",
       " 2\n",
       " 3\n",
       " 4"
      ]
     },
     "execution_count": 8,
     "metadata": {},
     "output_type": "execute_result"
    }
   ],
   "source": [
    "data = [1, 2, 3, 4]"
   ]
  },
  {
   "cell_type": "code",
   "execution_count": 9,
   "metadata": {},
   "outputs": [
    {
     "data": {
      "text/plain": [
       "1-element Array{Foo{Int64},1}:\n",
       " Foo{Int64}([1, 2], [3, 4])"
      ]
     },
     "execution_count": 9,
     "metadata": {},
     "output_type": "execute_result"
    }
   ],
   "source": [
    "reinterpret(Foo{Int}, data)"
   ]
  },
  {
   "cell_type": "code",
   "execution_count": 10,
   "metadata": {
    "collapsed": true
   },
   "outputs": [],
   "source": [
    "using JuMP"
   ]
  },
  {
   "cell_type": "code",
   "execution_count": 11,
   "metadata": {},
   "outputs": [
    {
     "data": {
      "text/latex": [
       "$$ x_{i} \\quad\\forall i \\in \\{1,2,3,4\\} $$"
      ],
      "text/plain": [
       "4-element Array{JuMP.Variable,1}:\n",
       " x[1]\n",
       " x[2]\n",
       " x[3]\n",
       " x[4]"
      ]
     },
     "execution_count": 11,
     "metadata": {},
     "output_type": "execute_result"
    }
   ],
   "source": [
    "m = Model()\n",
    "@variable m x[1:4]"
   ]
  },
  {
   "cell_type": "code",
   "execution_count": 14,
   "metadata": {},
   "outputs": [
    {
     "ename": "LoadError",
     "evalue": "\u001b[91margument is an abstract type; size is indeterminate\u001b[39m",
     "output_type": "error",
     "traceback": [
      "\u001b[91margument is an abstract type; size is indeterminate\u001b[39m",
      "",
      "Stacktrace:",
      " [1] \u001b[1mreinterpret\u001b[22m\u001b[22m\u001b[1m(\u001b[22m\u001b[22m::Type{Ref{Foo{JuMP.Variable}}}, ::Array{JuMP.Variable,1}\u001b[1m)\u001b[22m\u001b[22m at \u001b[1m./array.jl:142\u001b[22m\u001b[22m"
     ]
    }
   ],
   "source": [
    "reinterpret(Ref{Foo{eltype(x)}}, x)"
   ]
  },
  {
   "cell_type": "code",
   "execution_count": 4,
   "metadata": {},
   "outputs": [
    {
     "name": "stderr",
     "output_type": "stream",
     "text": [
      "WARNING: replacing module Box\n"
     ]
    },
    {
     "data": {
      "text/plain": [
       "Box"
      ]
     },
     "execution_count": 4,
     "metadata": {},
     "output_type": "execute_result"
    }
   ],
   "source": [
    "module Box\n",
    "\n",
    "using Parameters\n",
    "using Polyhedra\n",
    "using StaticArrays\n",
    "import Base: convert\n",
    "\n",
    "function from_bounds(lb::AbstractVector, ub::AbstractVector)\n",
    "    len = length(lb)\n",
    "    @assert length(lb) == length(ub)\n",
    "    SimpleHRepresentation(vcat(eye(len); .-eye(len)), vcat(lb, .-ub))\n",
    "end\n",
    "\n",
    "@enum Body CoM LeftLeg RightLeg LeftHand RightHand\n",
    "\n",
    "@with_kw struct BoxAtlas{T}\n",
    "    position_limits::Dict{Body, SimpleHRepresentation{2, T}} = Dict(\n",
    "        CoM=>from_bounds([0.3, 0.3], [0.7, 0.7]),\n",
    "        LeftFoot=>from_bounds([0.0, -0.7], [0.4, -0.3]),\n",
    "        RightFoot=>from_bounds([-0.4, -0.7], [0.0, -0.3]),\n",
    "        LeftHand=>from_bounds([0.2, -0.1], [0.6, 0.3]),\n",
    "        RightHand=>from_bounds([-0.6, -0.1], [-0.2, 0.3])\n",
    "    )\n",
    "    velocity_limits::Dict{Body, SimpleHRepresentation{2, T}} = Dict(\n",
    "        CoM=>from_bounds([-5., -5], [5, 5]),\n",
    "        LeftFoot=>from_bounds([-5., -5], [5, 5]),\n",
    "        RightFoot=>from_bounds([-5., -5], [5, 5]),\n",
    "        LeftHand=>from_bounds([-5., -5], [5, 5]),\n",
    "        RightHand=>from_bounds([-5., -5], [5, 5]),\n",
    "        )\n",
    "    mass::T = 1.0\n",
    "    stiffness::T = 100.\n",
    "    gravity::T = 10.\n",
    "    Δt::T = 0.1\n",
    "end\n",
    "\n",
    "struct State{T}\n",
    "    position::Dict{Body, SVector{2, T}}\n",
    "    velocity::Dict{Body, SVector{2, T}}\n",
    "end\n",
    "\n",
    "convert(::Type{State}, x::AbstractVector{T}) where {T} = convert(State{T}, x)\n",
    "\n",
    "function convert(::Type{State{T}}, x::AbstractVector{T}) where {T}\n",
    "    State{T}(\n",
    "        Dict(\n",
    "            CoM => x[1:2], \n",
    "            LeftLeg => x[3:4],\n",
    "            RightLeg => x[5:6],\n",
    "            LeftHand => x[7:8],\n",
    "            RightHand => x[9:10]\n",
    "            ),\n",
    "        Dict(\n",
    "            CoM => x[11:12], \n",
    "            LeftLeg => x[13:14],\n",
    "            RightLeg => x[15:16],\n",
    "            LeftHand => x[17:18],\n",
    "            RightHand => x[19:20]\n",
    "            )\n",
    "        )\n",
    "end\n",
    "\n",
    "end\n",
    "    "
   ]
  },
  {
   "cell_type": "code",
   "execution_count": null,
   "metadata": {
    "collapsed": true
   },
   "outputs": [],
   "source": []
  }
 ],
 "metadata": {
  "kernelspec": {
   "display_name": "Julia 0.6.0",
   "language": "julia",
   "name": "julia-0.6"
  },
  "language_info": {
   "file_extension": ".jl",
   "mimetype": "application/julia",
   "name": "julia",
   "version": "0.6.0"
  }
 },
 "nbformat": 4,
 "nbformat_minor": 2
}
