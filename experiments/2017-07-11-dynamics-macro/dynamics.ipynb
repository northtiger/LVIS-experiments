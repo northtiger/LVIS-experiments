{
 "cells": [
  {
   "cell_type": "code",
   "execution_count": 58,
   "metadata": {
    "collapsed": true
   },
   "outputs": [],
   "source": [
    "using JuMP, Gurobi, Base.Test, Cbc"
   ]
  },
  {
   "cell_type": "code",
   "execution_count": 3,
   "metadata": {},
   "outputs": [
    {
     "data": {
      "text/plain": [
       "JuMPIndicators"
      ]
     },
     "execution_count": 3,
     "metadata": {},
     "output_type": "execute_result"
    }
   ],
   "source": [
    "import JuMPIndicators"
   ]
  },
  {
   "cell_type": "code",
   "execution_count": 50,
   "metadata": {},
   "outputs": [
    {
     "name": "stderr",
     "output_type": "stream",
     "text": [
      "WARNING: replacing module JuMPIndicators\n"
     ]
    },
    {
     "data": {
      "text/plain": [
       "JuMPIndicators"
      ]
     },
     "execution_count": 50,
     "metadata": {},
     "output_type": "execute_result"
    }
   ],
   "source": [
    "reload(\"JuMPIndicators\")\n",
    "Ifs = JuMPIndicators"
   ]
  },
  {
   "cell_type": "code",
   "execution_count": 51,
   "metadata": {},
   "outputs": [
    {
     "data": {
      "text/plain": [
       "7.0"
      ]
     },
     "execution_count": 51,
     "metadata": {},
     "output_type": "execute_result"
    }
   ],
   "source": [
    "m = Model()\n",
    "@variable m 1 <= x <= 3\n",
    "e = 2 * x + 1\n",
    "Ifs.upperbound(e)"
   ]
  },
  {
   "cell_type": "code",
   "execution_count": 33,
   "metadata": {},
   "outputs": [
    {
     "data": {
      "text/plain": [
       "update (generic function with 1 method)"
      ]
     },
     "execution_count": 33,
     "metadata": {},
     "output_type": "execute_result"
    }
   ],
   "source": [
    "function update(x)\n",
    "    Ifs.@disjunction if x <= 0\n",
    "        1\n",
    "    else\n",
    "        -1\n",
    "    end\n",
    "end"
   ]
  },
  {
   "cell_type": "code",
   "execution_count": 59,
   "metadata": {},
   "outputs": [
    {
     "data": {
      "text/latex": [
       "$$ \\begin{alignat*}{1}\\max\\quad & x + y + y + y\\\\\n",
       "\\text{Subject to} \\quad & x + 0.5 z \\leq 0.5\\\\\n",
       " & y \\leq 1\\\\\n",
       " & y - 2 z \\geq -1\\\\\n",
       " & -x - 0.5 z \\leq 0\\\\\n",
       " & y - 2 z \\leq -1\\\\\n",
       " & y \\geq -1\\\\\n",
       " & y + z \\leq 1\\\\\n",
       " & y \\leq 1\\\\\n",
       " & y - 2 z \\geq -1\\\\\n",
       " & -y - z \\leq 0\\\\\n",
       " & y - 2 z \\leq -1\\\\\n",
       " & y \\geq -1\\\\\n",
       " & y + z \\leq 1\\\\\n",
       " & y \\leq 1\\\\\n",
       " & y - 2 z \\geq -1\\\\\n",
       " & -y - z \\leq 0\\\\\n",
       " & y - 2 z \\leq -1\\\\\n",
       " & y \\geq -1\\\\\n",
       " & -0.5 \\leq x \\leq 0.5\\\\\n",
       " & -1 \\leq y \\leq 1\\\\\n",
       " & z \\in \\{0,1\\}\\\\\n",
       " & -1 \\leq y \\leq 1\\\\\n",
       " & z \\in \\{0,1\\}\\\\\n",
       " & -1 \\leq y \\leq 1\\\\\n",
       " & z \\in \\{0,1\\}\\\\\n",
       "\\end{alignat*}\n",
       " $$"
      ],
      "text/plain": [
       "Maximization problem with:\n",
       " * 18 linear constraints\n",
       " * 7 variables: 3 binary\n",
       "Solver is CbcMathProg"
      ]
     },
     "metadata": {},
     "output_type": "display_data"
    },
    {
     "data": {
      "text/plain": [
       "4-element Array{Float64,1}:\n",
       "  0.0\n",
       "  1.0\n",
       " -1.0\n",
       "  1.0"
      ]
     },
     "execution_count": 59,
     "metadata": {},
     "output_type": "execute_result"
    }
   ],
   "source": [
    "        m = Model(solver=CbcSolver())\n",
    "        @variable m -0.5 <= x <= 0.5\n",
    "\n",
    "        ys = [x]\n",
    "        for i in 1:3\n",
    "            push!(ys, update(ys[end]))\n",
    "        end\n",
    "\n",
    "        @objective m Max sum(ys)\n",
    "        display(m)\n",
    "        solve(m)\n",
    "        getvalue.(ys)"
   ]
  },
  {
   "cell_type": "code",
   "execution_count": 34,
   "metadata": {},
   "outputs": [
    {
     "data": {
      "text/plain": [
       "4-element Array{Float64,1}:\n",
       "  0.5\n",
       " -1.0\n",
       "  1.0\n",
       " -1.0"
      ]
     },
     "execution_count": 34,
     "metadata": {},
     "output_type": "execute_result"
    }
   ],
   "source": [
    "x = 0.5\n",
    "ys = [x]\n",
    "for i in 1:3\n",
    "    push!(ys, update(ys[end]))\n",
    "end\n",
    "ys"
   ]
  },
  {
   "cell_type": "code",
   "execution_count": 35,
   "metadata": {},
   "outputs": [
    {
     "data": {
      "text/latex": [
       "$$ \\begin{alignat*}{1}\\min\\quad & x^2 + y^2 + y^2 + y^2 - x - y - y - y + 1\\\\\n",
       "\\text{Subject to} \\quad & x + 5 z \\leq 5\\\\\n",
       " & y \\leq 1\\\\\n",
       " & y - 2 z \\geq -1\\\\\n",
       " & -x - 5 z \\leq 0\\\\\n",
       " & y - 2 z \\leq -1\\\\\n",
       " & y \\geq -1\\\\\n",
       " & y + z \\leq 1\\\\\n",
       " & y \\leq 1\\\\\n",
       " & y - 2 z \\geq -1\\\\\n",
       " & -y - z \\leq 0\\\\\n",
       " & y - 2 z \\leq -1\\\\\n",
       " & y \\geq -1\\\\\n",
       " & y + z \\leq 1\\\\\n",
       " & y \\leq 1\\\\\n",
       " & y - 2 z \\geq -1\\\\\n",
       " & -y - z \\leq 0\\\\\n",
       " & y - 2 z \\leq -1\\\\\n",
       " & y \\geq -1\\\\\n",
       " & -5 \\leq x \\leq 5\\\\\n",
       " & -1 \\leq y \\leq 1\\\\\n",
       " & z \\in \\{0,1\\}\\\\\n",
       " & -1 \\leq y \\leq 1\\\\\n",
       " & z \\in \\{0,1\\}\\\\\n",
       " & -1 \\leq y \\leq 1\\\\\n",
       " & z \\in \\{0,1\\}\\\\\n",
       "\\end{alignat*}\n",
       " $$"
      ],
      "text/plain": [
       "Minimization problem with:\n",
       " * 18 linear constraints\n",
       " * 7 variables: 3 binary\n",
       "Solver is Gurobi"
      ]
     },
     "metadata": {},
     "output_type": "display_data"
    },
    {
     "name": "stdout",
     "output_type": "stream",
     "text": [
      "Optimize a model with 18 rows, 7 columns and 30 nonzeros\n",
      "Model has 4 quadratic objective terms\n",
      "Variable types: 4 continuous, 3 integer (3 binary)\n",
      "Coefficient statistics:\n",
      "  Matrix range     [1e+00, 5e+00]\n",
      "  Objective range  [1e+00, 1e+00]\n",
      "  QObjective range [2e+00, 2e+00]\n",
      "  Bounds range     [1e+00, 5e+00]\n",
      "  RHS range        [1e+00, 5e+00]\n",
      "Presolve removed 13 rows and 2 columns\n",
      "Presolve time: 0.00s\n",
      "Presolved: 5 rows, 5 columns, 10 nonzeros\n",
      "Presolved model has 4 quadratic objective terms\n",
      "Variable types: 1 continuous, 4 integer (1 binary)\n",
      "Found heuristic solution: objective 2.0000000\n",
      "\n",
      "Root relaxation: objective -3.333333e-01, 5 iterations, 0.00 seconds\n",
      "\n",
      "    Nodes    |    Current Node    |     Objective Bounds      |     Work\n",
      " Expl Unexpl |  Obj  Depth IntInf | Incumbent    BestBd   Gap | It/Node Time\n",
      "\n",
      "     0     0   -0.33333    0    4    2.00000   -0.33333   117%     -    0s\n",
      "\n",
      "Explored 0 nodes (5 simplex iterations) in 0.00 seconds\n",
      "Thread count was 8 (of 8 available processors)\n",
      "\n",
      "Solution count 1: 2 \n",
      "Pool objective bound 2\n",
      "\n",
      "Optimal solution found (tolerance 1.00e-04)\n",
      "Best objective 2.000000000000e+00, best bound 2.000000000000e+00, gap 0.0000%\n"
     ]
    },
    {
     "data": {
      "text/plain": [
       "4-element Array{Float64,1}:\n",
       "  0.0\n",
       "  1.0\n",
       " -1.0\n",
       "  1.0"
      ]
     },
     "execution_count": 35,
     "metadata": {},
     "output_type": "execute_result"
    }
   ],
   "source": [
    "m = Model(solver=GurobiSolver())\n",
    "@variable m -5 <= x <= 5\n",
    "\n",
    "ys = [x]\n",
    "for i in 1:3\n",
    "    push!(ys, update(ys[end]))\n",
    "end\n",
    "\n",
    "@objective m Min sum((ys .- 0.5).^2)\n",
    "display(m)\n",
    "solve(m)\n",
    "getvalue.(ys)"
   ]
  },
  {
   "cell_type": "code",
   "execution_count": 37,
   "metadata": {},
   "outputs": [
    {
     "name": "stdout",
     "output_type": "stream",
     "text": [
      "Optimize a model with 6 rows, 4 columns and 6 nonzeros\n",
      "Model has 4 quadratic objective terms\n",
      "Coefficient statistics:\n",
      "  Matrix range     [1e+00, 1e+00]\n",
      "  Objective range  [1e+00, 1e+00]\n",
      "  QObjective range [2e+00, 2e+00]\n",
      "  Bounds range     [1e+00, 1e+00]\n",
      "  RHS range        [1e+00, 1e+00]\n",
      "Presolve removed 6 rows and 4 columns\n",
      "Presolve time: 0.00s\n",
      "Presolve: All rows and columns removed\n",
      "\n",
      "Barrier solved model in 0 iterations and 0.00 seconds\n",
      "Optimal objective 2.00000000e+00\n"
     ]
    },
    {
     "data": {
      "text/plain": [
       "4-element Array{Float64,1}:\n",
       " -0.0\n",
       "  1.0\n",
       " -1.0\n",
       "  1.0"
      ]
     },
     "execution_count": 37,
     "metadata": {},
     "output_type": "execute_result"
    }
   ],
   "source": [
    "m = Model(solver=GurobiSolver())\n",
    "@variable m x\n",
    "setvalue(x, -1)\n",
    "\n",
    "ys = [x]\n",
    "for i in 1:3\n",
    "    push!(ys, update(ys[end]))\n",
    "end\n",
    "\n",
    "# Ifs.setup_disjunctions!(m, [x] => [-1])\n",
    "\n",
    "@objective m Min sum((ys .- 0.5).^2)\n",
    "solve(m)\n",
    "getvalue.(ys)"
   ]
  },
  {
   "cell_type": "code",
   "execution_count": 39,
   "metadata": {},
   "outputs": [
    {
     "name": "stdout",
     "output_type": "stream",
     "text": [
      "Optimize a model with 6 rows, 4 columns and 6 nonzeros\n",
      "Model has 4 quadratic objective terms\n",
      "Coefficient statistics:\n",
      "  Matrix range     [1e+00, 1e+00]\n",
      "  Objective range  [1e+00, 1e+00]\n",
      "  QObjective range [2e+00, 2e+00]\n",
      "  Bounds range     [1e+00, 1e+00]\n",
      "  RHS range        [1e+00, 1e+00]\n",
      "Presolve removed 6 rows and 4 columns\n",
      "Presolve time: 0.00s\n",
      "Presolve: All rows and columns removed\n",
      "\n",
      "Barrier solved model in 0 iterations and 0.00 seconds\n",
      "Optimal objective 3.75000000e+00\n"
     ]
    },
    {
     "data": {
      "text/plain": [
       "4-element Array{Float64,1}:\n",
       "  0.5\n",
       " -1.0\n",
       "  1.0\n",
       " -1.0"
      ]
     },
     "execution_count": 39,
     "metadata": {},
     "output_type": "execute_result"
    }
   ],
   "source": [
    "m = Model(solver=GurobiSolver())\n",
    "@variable m x\n",
    "setvalue(x, 1)\n",
    "\n",
    "ys = [x]\n",
    "for i in 1:3\n",
    "    push!(ys, update(ys[end]))\n",
    "end\n",
    "\n",
    "@objective m Min sum((ys .- 0.5).^2)\n",
    "solve(m)\n",
    "getvalue.(ys)"
   ]
  },
  {
   "cell_type": "code",
   "execution_count": 360,
   "metadata": {},
   "outputs": [
    {
     "data": {
      "text/latex": [
       "$$ \\begin{alignat*}{1}\\min\\quad & 0\\\\\n",
       "\\text{Subject to} \\quad & x + 5 z \\leq 5\\\\\n",
       " & y \\leq 1\\\\\n",
       " & y - 2 z \\geq -1\\\\\n",
       " & -x - 5 z \\leq 0\\\\\n",
       " & y - 2 z \\leq -1\\\\\n",
       " & y \\geq -1\\\\\n",
       " & -5 \\leq x \\leq 5\\\\\n",
       " & -1 \\leq y \\leq 1\\\\\n",
       " & z \\in \\{0,1\\}\\\\\n",
       "\\end{alignat*}\n",
       " $$"
      ],
      "text/plain": [
       "Feasibility problem with:\n",
       " * 6 linear constraints\n",
       " * 3 variables: 1 binary\n",
       "Solver is Gurobi"
      ]
     },
     "metadata": {},
     "output_type": "display_data"
    }
   ],
   "source": [
    "m = Model(solver=GurobiSolver())\n",
    "@variable m -5 <= x <= 5\n",
    "\n",
    "y = update(x)\n",
    "\n",
    "Ifs.setup_disjunctions!(m)\n",
    "\n",
    "display(m)"
   ]
  },
  {
   "cell_type": "code",
   "execution_count": 275,
   "metadata": {},
   "outputs": [
    {
     "data": {
      "text/latex": [
       "$$ \\begin{alignat*}{1}\\min\\quad & 0\\\\\n",
       "\\text{Subject to} \\quad & -x \\leq 0\\\\\n",
       " & y = -1\\\\\n",
       " & -5 \\leq x \\leq 5\\\\\n",
       " & y\\\\\n",
       "\\end{alignat*}\n",
       " $$"
      ],
      "text/plain": [
       "Feasibility problem with:\n",
       " * 2 linear constraints\n",
       " * 2 variables\n",
       "Solver is Gurobi"
      ]
     },
     "metadata": {},
     "output_type": "display_data"
    }
   ],
   "source": [
    "m = Model(solver=GurobiSolver())\n",
    "@variable m -5 <= x <= 5\n",
    "\n",
    "y = update(x)\n",
    "\n",
    "Ifs.setup_disjunctions!(m, [x] => [3])\n",
    "\n",
    "display(m)"
   ]
  },
  {
   "cell_type": "code",
   "execution_count": 194,
   "metadata": {},
   "outputs": [
    {
     "data": {
      "text/latex": [
       "$$ y $$"
      ],
      "text/plain": [
       "y"
      ]
     },
     "execution_count": 194,
     "metadata": {},
     "output_type": "execute_result"
    }
   ],
   "source": [
    "m = Model()\n",
    "@variable m x\n",
    "update(x)"
   ]
  },
  {
   "cell_type": "code",
   "execution_count": 195,
   "metadata": {},
   "outputs": [
    {
     "data": {
      "text/latex": [
       "$$ \\begin{alignat*}{1}\\min\\quad & 0\\\\\n",
       "\\text{Subject to} \\quad & x + 10 z \\leq 10\\\\\n",
       " & y + 10 z \\leq 11\\\\\n",
       " & y - 10 z \\geq -9\\\\\n",
       " & -x - 10 z \\leq 0\\\\\n",
       " & y - 10 z \\leq -1\\\\\n",
       " & y + 10 z \\geq -1\\\\\n",
       " & x\\\\\n",
       " & y\\\\\n",
       " & z \\in \\{0,1\\}\\\\\n",
       "\\end{alignat*}\n",
       " $$"
      ],
      "text/plain": [
       "Feasibility problem with:\n",
       " * 6 linear constraints\n",
       " * 3 variables: 1 binary\n",
       "Solver is default solver"
      ]
     },
     "execution_count": 195,
     "metadata": {},
     "output_type": "execute_result"
    }
   ],
   "source": [
    "m"
   ]
  },
  {
   "cell_type": "code",
   "execution_count": 191,
   "metadata": {},
   "outputs": [
    {
     "data": {
      "text/plain": [
       "4-element Array{Float64,1}:\n",
       "  0.5\n",
       " -1.0\n",
       "  1.0\n",
       " -1.0"
      ]
     },
     "execution_count": 191,
     "metadata": {},
     "output_type": "execute_result"
    }
   ],
   "source": [
    "x = 0.5\n",
    "ys = [x]\n",
    "for i in 1:3\n",
    "    push!(ys, update(ys[end]))\n",
    "end\n",
    "ys"
   ]
  },
  {
   "cell_type": "code",
   "execution_count": 192,
   "metadata": {},
   "outputs": [
    {
     "name": "stdout",
     "output_type": "stream",
     "text": [
      "Optimize a model with 19 rows, 7 columns and 37 nonzeros\n",
      "Variable types: 4 continuous, 3 integer (3 binary)\n",
      "Coefficient statistics:\n",
      "  Matrix range     [1e+00, 1e+01]\n",
      "  Objective range  [0e+00, 0e+00]\n",
      "  Bounds range     [1e+00, 1e+00]\n",
      "  RHS range        [5e-01, 1e+01]\n",
      "Presolve removed 19 rows and 7 columns\n",
      "Presolve time: 0.00s\n",
      "Presolve: All rows and columns removed\n",
      "\n",
      "Explored 0 nodes (0 simplex iterations) in 0.00 seconds\n",
      "Thread count was 1 (of 8 available processors)\n",
      "\n",
      "Solution count 1: 0 \n",
      "Pool objective bound 0\n",
      "\n",
      "Optimal solution found (tolerance 1.00e-04)\n",
      "Best objective 0.000000000000e+00, best bound 0.000000000000e+00, gap 0.0000%\n"
     ]
    },
    {
     "data": {
      "text/plain": [
       "4-element Array{Float64,1}:\n",
       "  0.5\n",
       " -1.0\n",
       "  1.0\n",
       " -1.0"
      ]
     },
     "execution_count": 192,
     "metadata": {},
     "output_type": "execute_result"
    }
   ],
   "source": [
    "m = Model(solver=GurobiSolver())\n",
    "@variable m x\n",
    "@constraint m x == 0.5\n",
    "\n",
    "ys = [x]\n",
    "for i in 1:3\n",
    "    push!(ys, update(ys[end]))\n",
    "end\n",
    "\n",
    "solve(m)\n",
    "getvalue.(ys)"
   ]
  },
  {
   "cell_type": "code",
   "execution_count": 182,
   "metadata": {},
   "outputs": [
    {
     "name": "stdout",
     "output_type": "stream",
     "text": [
      "Variables:\n",
      "  #self#::#update\n",
      "  x::Float64\n",
      "  cond\u001b[1m\u001b[91m::Any\u001b[39m\u001b[22m\n",
      "  comp\u001b[1m\u001b[91m::Any\u001b[39m\u001b[22m\n",
      "  m\u001b[1m\u001b[91m::Any\u001b[39m\u001b[22m\n",
      "  y\u001b[1m\u001b[91m::Any\u001b[39m\u001b[22m\n",
      "  ##1915\u001b[1m\u001b[91m::Any\u001b[39m\u001b[22m\n",
      "  fy::Float64\n",
      "\n",
      "Body:\n",
      "  begin \n",
      "      # meta: location In[170] # line 37:\n",
      "      SSAValue(12) = x::Float64\n",
      "      goto 6 # line 101:\n",
      "      6:  # line 110:\n",
      "      $(Expr(:inbounds, false))\n",
      "      # meta: location float.jl <= 495\n",
      "      fy::Float64 = (Base.sitofp)(Float64, 0)::Float64\n",
      "      # meta: pop location\n",
      "      $(Expr(:inbounds, :pop))\n",
      "      unless (Base.or_int)((Base.lt_float)(x::Float64, fy::Float64)::Bool, (Base.and_int)((Base.and_int)((Base.eq_float)(x::Float64, fy::Float64)::Bool, (Base.lt_float)(fy::Float64, 9.223372036854776e18)::Bool)::Bool, (Base.sle_int)((Base.fptosi)(Int64, fy::Float64)::Int64, 0)::Bool)::Bool)::Bool goto 15\n",
      "      return 1\n",
      "      15: \n",
      "      # meta: pop location\n",
      "      return -1\n",
      "  end::Int64\n"
     ]
    }
   ],
   "source": [
    "@code_warntype update(0.5)"
   ]
  },
  {
   "cell_type": "code",
   "execution_count": 164,
   "metadata": {},
   "outputs": [
    {
     "name": "stdout",
     "output_type": "stream",
     "text": [
      "Optimize a model with 7 rows, 3 columns and 13 nonzeros\n",
      "Model has 2 quadratic objective terms\n",
      "Variable types: 2 continuous, 1 integer (1 binary)\n",
      "Coefficient statistics:\n",
      "  Matrix range     [1e+00, 1e+01]\n",
      "  Objective range  [0e+00, 0e+00]\n",
      "  QObjective range [2e+00, 2e+00]\n",
      "  Bounds range     [1e+00, 1e+00]\n",
      "  RHS range        [1e+00, 2e+01]\n",
      "Presolve removed 7 rows and 3 columns\n",
      "Presolve time: 0.00s\n",
      "Presolve: All rows and columns removed\n",
      "\n",
      "Explored 0 nodes (0 simplex iterations) in 0.00 seconds\n",
      "Thread count was 1 (of 8 available processors)\n",
      "\n",
      "Solution count 1: 10 \n",
      "Pool objective bound 10\n",
      "\n",
      "Optimal solution found (tolerance 1.00e-04)\n",
      "Best objective 1.000000000000e+01, best bound 1.000000000000e+01, gap 0.0000%\n"
     ]
    },
    {
     "data": {
      "text/plain": [
       "3.0000000000000053"
      ]
     },
     "execution_count": 164,
     "metadata": {},
     "output_type": "execute_result"
    }
   ],
   "source": [
    "m = Model(solver=GurobiSolver())\n",
    "@variable m x\n",
    "\n",
    "y = @Ifs.switch if x <= 0\n",
    "    5\n",
    "else\n",
    "    3\n",
    "end\n",
    "@constraint m x == 1\n",
    "\n",
    "\n",
    "@objective m Min x^2 + y^2\n",
    "solve(m)\n",
    "getvalue(y)"
   ]
  },
  {
   "cell_type": "code",
   "execution_count": 162,
   "metadata": {},
   "outputs": [
    {
     "name": "stdout",
     "output_type": "stream",
     "text": [
      "Optimize a model with 5 rows, 3 columns and 9 nonzeros\n",
      "Model has 2 quadratic objective terms\n",
      "Variable types: 2 continuous, 1 integer (1 binary)\n",
      "Coefficient statistics:\n",
      "  Matrix range     [1e+00, 1e+01]\n",
      "  Objective range  [0e+00, 0e+00]\n",
      "  QObjective range [2e+00, 2e+00]\n",
      "  Bounds range     [1e+00, 1e+00]\n",
      "  RHS range        [1e+00, 2e+01]\n",
      "Presolve removed 5 rows and 3 columns\n",
      "Presolve time: 0.00s\n",
      "Presolve: All rows and columns removed\n",
      "\n",
      "Explored 0 nodes (0 simplex iterations) in 0.00 seconds\n",
      "Thread count was 1 (of 8 available processors)\n",
      "\n",
      "Solution count 1: 26 \n",
      "Pool objective bound 26\n",
      "\n",
      "Optimal solution found (tolerance 1.00e-04)\n",
      "Best objective 2.600000000000e+01, best bound 2.600000000000e+01, gap 0.0000%\n"
     ]
    },
    {
     "data": {
      "text/plain": [
       "5.000000000000006"
      ]
     },
     "execution_count": 162,
     "metadata": {},
     "output_type": "execute_result"
    }
   ],
   "source": [
    "m = Model(solver=GurobiSolver())\n",
    "@variable m x\n",
    "\n",
    "y = @Ifs.switch if x <= 0\n",
    "    5\n",
    "end\n",
    "@constraint m x == -1\n",
    "\n",
    "\n",
    "@objective m Min x^2 + y^2\n",
    "solve(m)\n",
    "getvalue(y)"
   ]
  },
  {
   "cell_type": "code",
   "execution_count": 76,
   "metadata": {},
   "outputs": [
    {
     "name": "stdout",
     "output_type": "stream",
     "text": [
      "Optimize a model with 5 rows, 3 columns and 9 nonzeros\n",
      "Model has 2 quadratic objective terms\n",
      "Variable types: 2 continuous, 1 integer (1 binary)\n",
      "Coefficient statistics:\n",
      "  Matrix range     [1e+00, 1e+01]\n",
      "  Objective range  [0e+00, 0e+00]\n",
      "  QObjective range [2e+00, 2e+00]\n",
      "  Bounds range     [1e+00, 1e+00]\n",
      "  RHS range        [1e+00, 2e+01]\n",
      "Presolve removed 5 rows and 3 columns\n",
      "Presolve time: 0.00s\n",
      "Presolve: All rows and columns removed\n",
      "\n",
      "Explored 0 nodes (0 simplex iterations) in 0.00 seconds\n",
      "Thread count was 1 (of 8 available processors)\n",
      "\n",
      "Solution count 1: 1 \n",
      "Pool objective bound 1\n",
      "\n",
      "Optimal solution found (tolerance 1.00e-04)\n",
      "Best objective 1.000000000000e+00, best bound 1.000000000000e+00, gap 0.0000%\n"
     ]
    },
    {
     "data": {
      "text/plain": [
       "-0.0"
      ]
     },
     "execution_count": 76,
     "metadata": {},
     "output_type": "execute_result"
    }
   ],
   "source": [
    "m = Model(solver=GurobiSolver())\n",
    "@variable m x\n",
    "@variable m y\n",
    "@objective m Min x^2 + y^2\n",
    "\n",
    "Ifs.implies(m, @Ifs.condition(x <= 0 => y == 5))\n",
    "@constraint m x == 1\n",
    "solve(m)\n",
    "getvalue(y)"
   ]
  },
  {
   "cell_type": "code",
   "execution_count": 55,
   "metadata": {},
   "outputs": [
    {
     "data": {
      "text/plain": [
       "3 if x == 2"
      ]
     },
     "execution_count": 55,
     "metadata": {},
     "output_type": "execute_result"
    }
   ],
   "source": [
    "c = @Ifs.condition(x == 2 => 3)"
   ]
  },
  {
   "cell_type": "code",
   "execution_count": null,
   "metadata": {
    "collapsed": true
   },
   "outputs": [],
   "source": [
    "m = Model(solver=GurobiSolver())\n",
    "@variable m x\n",
    "y = Ifs.exclusive(m, @Ifs.condition(x <= 0))"
   ]
  },
  {
   "cell_type": "code",
   "execution_count": 41,
   "metadata": {},
   "outputs": [
    {
     "name": "stdout",
     "output_type": "stream",
     "text": [
      "Optimize a model with 3 rows, 2 columns and 5 nonzeros\n",
      "Variable types: 1 continuous, 1 integer (1 binary)\n",
      "Coefficient statistics:\n",
      "  Matrix range     [1e+00, 1e+01]\n",
      "  Objective range  [0e+00, 0e+00]\n",
      "  Bounds range     [1e+00, 1e+00]\n",
      "  RHS range        [8e+00, 1e+01]\n",
      "Found heuristic solution: objective 0\n",
      "\n",
      "Explored 0 nodes (0 simplex iterations) in 0.00 seconds\n",
      "Thread count was 1 (of 8 available processors)\n",
      "\n",
      "Solution count 1: 0 \n",
      "Pool objective bound 0\n",
      "\n",
      "Optimal solution found (tolerance 1.00e-04)\n",
      "Best objective 0.000000000000e+00, best bound 0.000000000000e+00, gap 0.0000%\n"
     ]
    },
    {
     "data": {
      "text/plain": [
       "0.0"
      ]
     },
     "execution_count": 41,
     "metadata": {},
     "output_type": "execute_result"
    }
   ],
   "source": [
    "m = Model(solver=GurobiSolver())\n",
    "@variable m x\n",
    "\n",
    "\n",
    "\n",
    "@variable m z Bin\n",
    "Ifs.implies(m, z, @Ifs.condition x == 2)\n",
    "@constraint m z == 0\n",
    "solve(m)\n",
    "getvalue(x)"
   ]
  },
  {
   "cell_type": "code",
   "execution_count": 39,
   "metadata": {},
   "outputs": [
    {
     "data": {
      "text/latex": [
       "$$ \\begin{alignat*}{1}\\min\\quad & 0\\\\\n",
       "\\text{Subject to} \\quad & x + 10 z \\leq 12\\\\\n",
       " & x - 10 z \\geq -8\\\\\n",
       " & x\\\\\n",
       " & z \\in \\{0,1\\}\\\\\n",
       "\\end{alignat*}\n",
       " $$"
      ],
      "text/plain": [
       "Feasibility problem with:\n",
       " * 2 linear constraints\n",
       " * 2 variables: 1 binary\n",
       "Solver is Gurobi"
      ]
     },
     "execution_count": 39,
     "metadata": {},
     "output_type": "execute_result"
    }
   ],
   "source": [
    "m"
   ]
  },
  {
   "cell_type": "code",
   "execution_count": 28,
   "metadata": {},
   "outputs": [
    {
     "data": {
      "text/plain": [
       "x == 5"
      ]
     },
     "execution_count": 28,
     "metadata": {},
     "output_type": "execute_result"
    }
   ],
   "source": [
    "m = Model()\n",
    "@variable m x\n",
    "c = Ifs.@condition x == 5"
   ]
  },
  {
   "cell_type": "code",
   "execution_count": 16,
   "metadata": {},
   "outputs": [
    {
     "data": {
      "text/plain": [
       "(-x if x <= 0, 0 if -x <= 0)"
      ]
     },
     "execution_count": 16,
     "metadata": {},
     "output_type": "execute_result"
    }
   ],
   "source": [
    "m = Model(solver=GurobiSolver())\n",
    "@variable m x\n",
    "\n",
    "options = (\n",
    "    ConditionalValue(\n",
    "        Condition{:(<=)}(x, 0),\n",
    "        -x),\n",
    "    ConditionalValue(\n",
    "        Condition{:(<=)}(-x, -0),\n",
    "        zero(x))\n",
    "        )"
   ]
  },
  {
   "cell_type": "code",
   "execution_count": null,
   "metadata": {
    "collapsed": true
   },
   "outputs": [],
   "source": []
  },
  {
   "cell_type": "code",
   "execution_count": 33,
   "metadata": {},
   "outputs": [
    {
     "data": {
      "text/plain": [
       "dynamics (generic function with 1 method)"
      ]
     },
     "execution_count": 33,
     "metadata": {},
     "output_type": "execute_result"
    }
   ],
   "source": [
    "function dynamics(x)\n",
    "    f = if isa(x, JuMP.AbstractJuMPScalar)\n",
    "        M = 10\n",
    "        model = getmodel(x)\n",
    "        z = @variable(model, category=:Bin, basename=\"z\")\n",
    "        @constraint(model, x <= 0 + M * (1 - z))\n",
    "        @constraint(model, x >= 0 - M * z)\n",
    "        y = @variable(model, basename=\"y\")\n",
    "        @constraint(model, y <= -x + M * (1 - z))\n",
    "        @constraint(model, y >= -x - M * (1 - z))\n",
    "        @constraint(model, y <= zero(x) + M * z)\n",
    "        @constraint(model, y >= zero(x) - M * z)\n",
    "        y\n",
    "    else\n",
    "        if x <= 0\n",
    "            -x\n",
    "        else\n",
    "            zero(x)\n",
    "        end\n",
    "    end\n",
    "    y = x + 0.1 * f\n",
    "end"
   ]
  },
  {
   "cell_type": "code",
   "execution_count": null,
   "metadata": {
    "collapsed": true
   },
   "outputs": [],
   "source": []
  },
  {
   "cell_type": "code",
   "execution_count": 36,
   "metadata": {},
   "outputs": [],
   "source": [
    "m = Model(solver=GurobiSolver())\n",
    "@variable m x\n",
    "@objective m Min y^2\n",
    "@constraint m x == -1\n",
    "y = dynamics(x)\n",
    "ys = [y]\n",
    "for i in 1:5\n",
    "    push!(ys, dynamics(ys[end]))\n",
    "end"
   ]
  },
  {
   "cell_type": "code",
   "execution_count": 37,
   "metadata": {},
   "outputs": [
    {
     "ename": "LoadError",
     "evalue": "\u001b[91mUndefVarError: VariableNotOwnedException not defined\u001b[39m",
     "output_type": "error",
     "traceback": [
      "\u001b[91mUndefVarError: VariableNotOwnedException not defined\u001b[39m",
      "",
      "Stacktrace:",
      " [1] \u001b[1maddQuadratics\u001b[22m\u001b[22m\u001b[1m(\u001b[22m\u001b[22m::JuMP.Model\u001b[1m)\u001b[22m\u001b[22m at \u001b[1m/Users/rdeits/locomotion/explorations/learning-mpc/packages/v0.6/JuMP/src/solvers.jl:430\u001b[22m\u001b[22m",
      " [2] \u001b[1m#build#119\u001b[22m\u001b[22m\u001b[1m(\u001b[22m\u001b[22m::Bool, ::Bool, ::JuMP.ProblemTraits, ::Function, ::JuMP.Model\u001b[1m)\u001b[22m\u001b[22m at \u001b[1m/Users/rdeits/locomotion/explorations/learning-mpc/packages/v0.6/JuMP/src/solvers.jl:371\u001b[22m\u001b[22m",
      " [3] \u001b[1m(::JuMP.#kw##build)\u001b[22m\u001b[22m\u001b[1m(\u001b[22m\u001b[22m::Array{Any,1}, ::JuMP.#build, ::JuMP.Model\u001b[1m)\u001b[22m\u001b[22m at \u001b[1m./<missing>:0\u001b[22m\u001b[22m",
      " [4] \u001b[1m#solve#116\u001b[22m\u001b[22m\u001b[1m(\u001b[22m\u001b[22m::Bool, ::Bool, ::Bool, ::Array{Any,1}, ::Function, ::JuMP.Model\u001b[1m)\u001b[22m\u001b[22m at \u001b[1m/Users/rdeits/locomotion/explorations/learning-mpc/packages/v0.6/JuMP/src/solvers.jl:166\u001b[22m\u001b[22m",
      " [5] \u001b[1msolve\u001b[22m\u001b[22m\u001b[1m(\u001b[22m\u001b[22m::JuMP.Model\u001b[1m)\u001b[22m\u001b[22m at \u001b[1m/Users/rdeits/locomotion/explorations/learning-mpc/packages/v0.6/JuMP/src/solvers.jl:148\u001b[22m\u001b[22m"
     ]
    }
   ],
   "source": [
    "solve(m)\n",
    "getvalue(x), getvalue.(ys)"
   ]
  },
  {
   "cell_type": "code",
   "execution_count": 4,
   "metadata": {},
   "outputs": [
    {
     "ename": "LoadError",
     "evalue": "\u001b[91mMethodError: no method matching isless(::Int64, ::JuMP.Variable)\u001b[0m\nClosest candidates are:\n  isless(::Real, \u001b[91m::AbstractFloat\u001b[39m) at operators.jl:97\n  isless(::Real, \u001b[91m::ForwardDiff.Dual\u001b[39m) at /Users/rdeits/locomotion/explorations/learning-mpc/packages/v0.6/ForwardDiff/src/dual.jl:161\n  isless(::Real, \u001b[91m::Real\u001b[39m) at operators.jl:266\u001b[39m",
     "output_type": "error",
     "traceback": [
      "\u001b[91mMethodError: no method matching isless(::Int64, ::JuMP.Variable)\u001b[0m\nClosest candidates are:\n  isless(::Real, \u001b[91m::AbstractFloat\u001b[39m) at operators.jl:97\n  isless(::Real, \u001b[91m::ForwardDiff.Dual\u001b[39m) at /Users/rdeits/locomotion/explorations/learning-mpc/packages/v0.6/ForwardDiff/src/dual.jl:161\n  isless(::Real, \u001b[91m::Real\u001b[39m) at operators.jl:266\u001b[39m",
      "",
      "Stacktrace:",
      " [1] \u001b[1m<=\u001b[22m\u001b[22m\u001b[1m(\u001b[22m\u001b[22m::JuMP.Variable, ::Int64\u001b[1m)\u001b[22m\u001b[22m at \u001b[1m./operators.jl:238\u001b[22m\u001b[22m"
     ]
    }
   ],
   "source": [
    "x <= 1"
   ]
  },
  {
   "cell_type": "code",
   "execution_count": 5,
   "metadata": {},
   "outputs": [
    {
     "data": {
      "text/plain": [
       ":(if x <= 1 # In[5], line 3:\n",
       "        k * x\n",
       "    else  # In[5], line 5:\n",
       "        0\n",
       "    end)"
      ]
     },
     "execution_count": 5,
     "metadata": {},
     "output_type": "execute_result"
    }
   ],
   "source": [
    "expr = :(\n",
    "if x <= 1\n",
    "    k * x\n",
    "else\n",
    "    0\n",
    "end\n",
    ")"
   ]
  },
  {
   "cell_type": "code",
   "execution_count": 8,
   "metadata": {},
   "outputs": [
    {
     "data": {
      "text/plain": [
       "JuMP.AbstractJuMPScalar"
      ]
     },
     "execution_count": 8,
     "metadata": {},
     "output_type": "execute_result"
    }
   ],
   "source": [
    "supertype(JuMP.Variable)"
   ]
  },
  {
   "cell_type": "code",
   "execution_count": 9,
   "metadata": {},
   "outputs": [
    {
     "data": {
      "text/plain": [
       "JuMP.AbstractJuMPScalar"
      ]
     },
     "execution_count": 9,
     "metadata": {},
     "output_type": "execute_result"
    }
   ],
   "source": [
    "supertype(JuMP.AffExpr)"
   ]
  },
  {
   "cell_type": "code",
   "execution_count": 11,
   "metadata": {},
   "outputs": [
    {
     "data": {
      "text/latex": [
       "$$ y $$"
      ],
      "text/plain": [
       "y"
      ]
     },
     "execution_count": 11,
     "metadata": {},
     "output_type": "execute_result"
    }
   ],
   "source": [
    "if isa(x, JuMP.AbstractJuMPScalar)\n",
    "    M = 10\n",
    "    z = @variable(x.m, category=:Bin, basename=\"z\")\n",
    "    @constraint(x.m, x <= 1 + M * (1 - z))\n",
    "    y = @variable(x.m, basename=\"y\")\n",
    "    @constraint(x.m, y <= 1 + M * (1 - z))\n",
    "    @constraint(x.m, y >= 1 - M * (1 - z))\n",
    "    @constraint(x.m, y <= 2 + M * z)\n",
    "    @constraint(x.m, y >= 2 - M * z)\n",
    "    y\n",
    "end"
   ]
  },
  {
   "cell_type": "code",
   "execution_count": null,
   "metadata": {
    "collapsed": true
   },
   "outputs": [],
   "source": []
  },
  {
   "cell_type": "code",
   "execution_count": 7,
   "metadata": {},
   "outputs": [
    {
     "name": "stdout",
     "output_type": "stream",
     "text": [
      "Expr\n",
      "  head: Symbol if\n",
      "  args: Array{Any}((3,))\n",
      "    1: Expr\n",
      "      head: Symbol call\n",
      "      args: Array{Any}((3,))\n",
      "        1: Symbol <=\n",
      "        2: Symbol x\n",
      "        3: Int64 1\n",
      "      typ: Any\n",
      "    2: Int64 1\n",
      "    3: Int64 2\n",
      "  typ: Any\n"
     ]
    }
   ],
   "source": [
    "dump(:(x <= 1 ? 1 : 2))"
   ]
  },
  {
   "cell_type": "code",
   "execution_count": 6,
   "metadata": {},
   "outputs": [
    {
     "name": "stdout",
     "output_type": "stream",
     "text": [
      "Expr\n",
      "  head: Symbol if\n",
      "  args: Array{Any}((3,))\n",
      "    1: Expr\n",
      "      head: Symbol call\n",
      "      args: Array{Any}((3,))\n",
      "        1: Symbol <=\n",
      "        2: Symbol x\n",
      "        3: Int64 1\n",
      "      typ: Any\n",
      "    2: Expr\n",
      "      head: Symbol block\n",
      "      args: Array{Any}((2,))\n",
      "        1: Expr\n",
      "          head: Symbol line\n",
      "          args: Array{Any}((2,))\n",
      "            1: Int64 3\n",
      "            2: Symbol In[5]\n",
      "          typ: Any\n",
      "        2: Expr\n",
      "          head: Symbol call\n",
      "          args: Array{Any}((3,))\n",
      "            1: Symbol *\n",
      "            2: Symbol k\n",
      "            3: Symbol x\n",
      "          typ: Any\n",
      "      typ: Any\n",
      "    3: Expr\n",
      "      head: Symbol block\n",
      "      args: Array{Any}((2,))\n",
      "        1: Expr\n",
      "          head: Symbol line\n",
      "          args: Array{Any}((2,))\n",
      "            1: Int64 5\n",
      "            2: Symbol In[5]\n",
      "          typ: Any\n",
      "        2: Int64 0\n",
      "      typ: Any\n",
      "  typ: Any\n"
     ]
    }
   ],
   "source": [
    "dump(expr)"
   ]
  },
  {
   "cell_type": "code",
   "execution_count": null,
   "metadata": {
    "collapsed": true
   },
   "outputs": [],
   "source": []
  }
 ],
 "metadata": {
  "kernelspec": {
   "display_name": "Julia 0.6.0",
   "language": "julia",
   "name": "julia-0.6"
  },
  "language_info": {
   "file_extension": ".jl",
   "mimetype": "application/julia",
   "name": "julia",
   "version": "0.6.0"
  }
 },
 "nbformat": 4,
 "nbformat_minor": 2
}
