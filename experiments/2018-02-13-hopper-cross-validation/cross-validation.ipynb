{
 "cells": [
  {
   "cell_type": "code",
   "execution_count": 1,
   "metadata": {},
   "outputs": [
    {
     "name": "stderr",
     "output_type": "stream",
     "text": [
      "WARNING: Method definition midpoints(Base.Range{T} where T) in module Base at deprecated.jl:56 overwritten in module StatsBase at /home/rdeits/locomotion/explorations/learning-mpc/packages/v0.6/StatsBase/src/hist.jl:535.\n",
      "WARNING: Method definition midpoints(AbstractArray{T, 1} where T) in module Base at deprecated.jl:56 overwritten in module StatsBase at /home/rdeits/locomotion/explorations/learning-mpc/packages/v0.6/StatsBase/src/hist.jl:533.\n"
     ]
    }
   ],
   "source": [
    "using JLD2\n",
    "using FileIO\n",
    "import LearningMPC"
   ]
  },
  {
   "cell_type": "code",
   "execution_count": 2,
   "metadata": {},
   "outputs": [
    {
     "data": {
      "text/plain": [
       "6-element Array{Int64,1}:\n",
       " 2\n",
       " 3\n",
       " 4\n",
       " 5\n",
       " 6\n",
       " 7"
      ]
     },
     "execution_count": 2,
     "metadata": {},
     "output_type": "execute_result"
    }
   ],
   "source": [
    "addprocs(6)"
   ]
  },
  {
   "cell_type": "code",
   "execution_count": null,
   "metadata": {},
   "outputs": [],
   "source": [
    "@everywhere using Flux\n",
    "@everywhere using MLDataPattern\n",
    "@everywhere using CoordinateTransformations\n",
    "@everywhere using ProgressMeter\n",
    "@everywhere import FluxExtensions"
   ]
  },
  {
   "cell_type": "code",
   "execution_count": 4,
   "metadata": {},
   "outputs": [],
   "source": [
    "samples = load(\"../2018-02-07-hopper-smaller-grid/grid_search.jld2\")[\"samples\"];"
   ]
  },
  {
   "cell_type": "code",
   "execution_count": 5,
   "metadata": {},
   "outputs": [],
   "source": [
    "filter!(samples) do sample\n",
    "    sample.state[2] <= sample.state[1]\n",
    "end;"
   ]
  },
  {
   "cell_type": "code",
   "execution_count": 6,
   "metadata": {},
   "outputs": [],
   "source": [
    "features(sample::LearningMPC.Sample) = (sample.state, sample.uJ[:, 1])\n",
    "data = features.(samples);\n",
    "train_data, test_data = splitobs(shuffleobs(data), at=0.85);"
   ]
  },
  {
   "cell_type": "code",
   "execution_count": 7,
   "metadata": {},
   "outputs": [],
   "source": [
    "@everywhere function attention_model()\n",
    "    signals = Chain(Dense(4, 2 * 16), x -> reshape(x, 16, 2))\n",
    "    weights = Chain(\n",
    "        LinearMap(UniformScaling(0.2)),\n",
    "        Dense(4, 16, elu),\n",
    "        Dense(16, 16, elu),\n",
    "        softmax)\n",
    "    model = FluxExtensions.Attention(signals, weights)\n",
    "            \n",
    "    loss = (x, y) -> Flux.mse(vec(model(x)), y)\n",
    "    model, loss\n",
    "end\n",
    "\n",
    "@everywhere function layered_model()\n",
    "    model = Chain(\n",
    "        LinearMap(UniformScaling(0.2)),\n",
    "        Dense(4, 16, elu),\n",
    "        Dense(16, 16, elu),\n",
    "        Dense(16, 2))\n",
    "            \n",
    "    loss = (x, y) -> Flux.mse(model(x), y)\n",
    "    model, loss\n",
    "end"
   ]
  },
  {
   "cell_type": "code",
   "execution_count": 8,
   "metadata": {},
   "outputs": [
    {
     "data": {
      "text/plain": [
       "10-element Array{Float64,1}:\n",
       " 10.4491 \n",
       "  9.05005\n",
       " 12.0563 \n",
       "  9.333  \n",
       " 10.5554 \n",
       " 10.1823 \n",
       "  9.94241\n",
       "  7.99761\n",
       "  8.29451\n",
       "  9.03425"
      ]
     },
     "execution_count": 8,
     "metadata": {},
     "output_type": "execute_result"
    }
   ],
   "source": [
    "attention_losses = @parallel (vcat) for (train, validation) in collect(kfolds(train_data; k=10))\n",
    "    model, loss = attention_model()\n",
    "    opt = Flux.ADADelta(params(model))\n",
    "    for i in 1:500\n",
    "        Flux.train!(loss, train, opt)\n",
    "    end\n",
    "    mean(xy -> Flux.Tracker.value(loss(xy...)), validation)\n",
    "end"
   ]
  },
  {
   "cell_type": "code",
   "execution_count": 9,
   "metadata": {},
   "outputs": [
    {
     "data": {
      "text/plain": [
       "10-element Array{Float64,1}:\n",
       " 12.2559 \n",
       "  9.37764\n",
       "  9.24167\n",
       " 10.4031 \n",
       " 10.7871 \n",
       " 10.033  \n",
       " 11.1641 \n",
       "  8.99252\n",
       "  9.42132\n",
       "  9.52264"
      ]
     },
     "execution_count": 9,
     "metadata": {},
     "output_type": "execute_result"
    }
   ],
   "source": [
    "layered_losses = @parallel (vcat) for (train, validation) in collect(kfolds(train_data; k=10))\n",
    "    model, loss = layered_model()\n",
    "    opt = Flux.ADADelta(params(model))\n",
    "    for i in 1:500\n",
    "        Flux.train!(loss, train, opt)\n",
    "    end\n",
    "    mean(xy -> Flux.Tracker.value(loss(xy...)), validation)\n",
    "end"
   ]
  },
  {
   "cell_type": "code",
   "execution_count": 10,
   "metadata": {},
   "outputs": [
    {
     "data": {
      "text/plain": [
       "(9.689493039288115, 1.2022650368700554)"
      ]
     },
     "execution_count": 10,
     "metadata": {},
     "output_type": "execute_result"
    }
   ],
   "source": [
    "(mean(attention_losses), std(attention_losses))"
   ]
  },
  {
   "cell_type": "code",
   "execution_count": 11,
   "metadata": {},
   "outputs": [
    {
     "data": {
      "text/plain": [
       "(10.11989090119604, 1.034061778507911)"
      ]
     },
     "execution_count": 11,
     "metadata": {},
     "output_type": "execute_result"
    }
   ],
   "source": [
    "(mean(layered_losses), std(layered_losses))"
   ]
  },
  {
   "cell_type": "code",
   "execution_count": null,
   "metadata": {},
   "outputs": [],
   "source": []
  }
 ],
 "metadata": {
  "kernelspec": {
   "display_name": "Julia 0.6.2",
   "language": "julia",
   "name": "julia-0.6"
  },
  "language_info": {
   "file_extension": ".jl",
   "mimetype": "application/julia",
   "name": "julia",
   "version": "0.6.2"
  }
 },
 "nbformat": 4,
 "nbformat_minor": 2
}
