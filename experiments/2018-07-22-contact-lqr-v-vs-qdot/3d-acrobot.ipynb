{
 "cells": [
  {
   "cell_type": "code",
   "execution_count": 1,
   "metadata": {},
   "outputs": [],
   "source": [
    "using Revise"
   ]
  },
  {
   "cell_type": "code",
   "execution_count": 84,
   "metadata": {},
   "outputs": [],
   "source": [
    "using RigidBodyDynamics\n",
    "using RigidBodyDynamics: Contact\n",
    "using MeshCat\n",
    "using MeshCatMechanisms\n",
    "using Blink: Window, body!\n",
    "using StaticArrays\n",
    "using LearningMPC\n",
    "using Gurobi"
   ]
  },
  {
   "cell_type": "code",
   "execution_count": 6,
   "metadata": {},
   "outputs": [
    {
     "data": {
      "text/plain": [
       "Blink.AtomShell.Window(1, Blink.AtomShell.Electron(Process(`/home/rdeits/locomotion/explorations/learning-mpc-2/packages/v0.6/Blink/deps/atom/electron /home/rdeits/locomotion/explorations/learning-mpc-2/packages/v0.6/Blink/src/AtomShell/main.js port 5126`, ProcessRunning), TCPSocket(RawFD(65) active, 0 bytes waiting), Dict{String,Any}(Pair{String,Any}(\"callback\", Blink.#3))), Blink.Page(1, WebSockets.WebSocket{TCPSocket}(TCPSocket(RawFD(58) active, 0 bytes waiting), true, CONNECTED::WebSockets.ReadyState = 1), Dict{String,Any}(Pair{String,Any}(\"webio\", WebIO.#109),Pair{String,Any}(\"callback\", Blink.#3)), Future(1, 1, 1, Nullable{Any}(true))))"
      ]
     },
     "execution_count": 6,
     "metadata": {},
     "output_type": "execute_result"
    }
   ],
   "source": [
    "vis = Visualizer()\n",
    "open(vis, Window())"
   ]
  },
  {
   "cell_type": "code",
   "execution_count": null,
   "metadata": {},
   "outputs": [],
   "source": []
  },
  {
   "cell_type": "code",
   "execution_count": 79,
   "metadata": {},
   "outputs": [
    {
     "data": {
      "text/plain": [
       "init! (generic function with 1 method)"
      ]
     },
     "execution_count": 79,
     "metadata": {},
     "output_type": "execute_result"
    }
   ],
   "source": [
    "world = RigidBody{Float64}(\"world\")\n",
    "mechanism = Mechanism(world; gravity=SVector(0, 0, -9.81))\n",
    "\n",
    "frame = CartesianFrame3D(\"core\")\n",
    "inertia = SpatialInertia(frame, SDiagonal(1 + 2.5, 1 + 2.5, 0.5), SVector(0., 0, 5.), 10.)\n",
    "core = RigidBody(inertia)\n",
    "joint = Joint(\"floating_base\", QuaternionFloating{Float64}())\n",
    "attach!(mechanism, world, core, joint)\n",
    "position_bounds(joint) .= RigidBodyDynamics.Bounds(-10, 10)\n",
    "velocity_bounds(joint) .= RigidBodyDynamics.Bounds(-1000, 1000)\n",
    "effort_bounds(joint) .= RigidBodyDynamics.Bounds(0, 0)\n",
    "\n",
    "frame = CartesianFrame3D(\"r_foot\")\n",
    "inertia = SpatialInertia(frame, SDiagonal(0.1 + .25, 0.1 + .25, 0.025), SVector(0., 0, -0.5), 1.0)\n",
    "foot = RigidBody(inertia)\n",
    "joint = Joint(\"r_hip\", Revolute(SVector(0., 1, 0)))\n",
    "joint_to_parent = Transform3D(frame_before(joint), default_frame(core), SVector(0, -0.2, 0))\n",
    "attach!(mechanism, core, foot, joint, joint_pose=joint_to_parent)\n",
    "position_bounds(joint) .= RigidBodyDynamics.Bounds(-10, 10)\n",
    "velocity_bounds(joint) .= RigidBodyDynamics.Bounds(-1000, 1000)\n",
    "effort_bounds(joint) .= RigidBodyDynamics.Bounds(-10, 10)\n",
    "\n",
    "frame = CartesianFrame3D(\"l_foot\")\n",
    "inertia = SpatialInertia(frame, SDiagonal(0.1 + .25, 0.1 + .25, 0.025), SVector(0., 0, -0.5), 1.0)\n",
    "foot = RigidBody(inertia)\n",
    "joint = Joint(\"l_hip\", Revolute(SVector(0., 1, 0)))\n",
    "joint_to_parent = Transform3D(frame_before(joint), default_frame(core), SVector(0, 0.2, 0))\n",
    "attach!(mechanism, core, foot, joint, joint_pose=joint_to_parent)\n",
    "position_bounds(joint) .= RigidBodyDynamics.Bounds(-10, 10)\n",
    "velocity_bounds(joint) .= RigidBodyDynamics.Bounds(-1000, 1000)\n",
    "effort_bounds(joint) .= RigidBodyDynamics.Bounds(-10, 10)\n",
    "\n",
    "\n",
    "floor = HalfSpace3D(Point3D(default_frame(world), 0., 0, 0), FreeVector3D(default_frame(world), 0., 0, 1))\n",
    "add_environment_primitive!(hopper, floor)\n",
    "contactmodel = SoftContactModel(hunt_crossley_hertz(k = 500e3), ViscoelasticCoulombModel(0.8, 20e3, 100.))\n",
    "\n",
    "for foot in [findbody(mechanism, \"r_foot\"), findbody(mechanism, \"l_foot\")]\n",
    "    add_contact_point!(foot, Contact.ContactPoint(Point3D(default_frame(foot), 0., 0, -1), contactmodel))\n",
    "end\n",
    "\n",
    "function init!(state::MechanismState)\n",
    "    m = state.mechanism\n",
    "    set_configuration!(state, findjoint(m, \"floating_base\"), [1, 0, 0, 0, 0, 0, 1])\n",
    "    set_configuration!(state, findjoint(m, \"r_hip\"), [0])\n",
    "    set_configuration!(state, findjoint(m, \"l_hip\"), [0])\n",
    "    state\n",
    "end"
   ]
  },
  {
   "cell_type": "code",
   "execution_count": 80,
   "metadata": {},
   "outputs": [],
   "source": [
    "delete!(vis)\n",
    "mvis = MechanismVisualizer(mechanism, Skeleton(randomize_colors=true), vis)\n",
    "\n",
    "copy!(mvis, init!(MechanismState(mechanism)))"
   ]
  },
  {
   "cell_type": "code",
   "execution_count": 85,
   "metadata": {},
   "outputs": [
    {
     "data": {
      "text/plain": [
       "Blink.Page(3, WebSockets.WebSocket{TCPSocket}(TCPSocket(RawFD(60) active, 0 bytes waiting), true, CONNECTED::WebSockets.ReadyState = 1), Dict{String,Any}(Pair{String,Any}(\"webio\", WebIO.#109),Pair{String,Any}(\"callback\", Blink.#3)), Future(1, 1, 3, Nullable{Any}(true)))"
      ]
     },
     "execution_count": 85,
     "metadata": {},
     "output_type": "execute_result"
    },
    {
     "name": "stderr",
     "output_type": "stream",
     "text": [
      "\u001b[91mERROR (unhandled task failure): \u001b[91mOutOfMemoryError()\u001b[39m\n",
      "Stacktrace:\n",
      " [1] \u001b[1msetindex!\u001b[22m\u001b[22m\u001b[1m(\u001b[22m\u001b[22m::ObjectIdDict, ::Any, ::Any\u001b[1m)\u001b[22m\u001b[22m at \u001b[1m./associative.jl:430\u001b[22m\u001b[22m\n",
      " [2] \u001b[1mpreserve_handle\u001b[22m\u001b[22m at \u001b[1m./libuv.jl:51\u001b[22m\u001b[22m [inlined]\n",
      " [3] \u001b[1mstream_wait\u001b[22m\u001b[22m\u001b[1m(\u001b[22m\u001b[22m::Timer, ::Condition, ::Vararg{Condition,N} where N\u001b[1m)\u001b[22m\u001b[22m at \u001b[1m./stream.jl:40\u001b[22m\u001b[22m\n",
      " [4] \u001b[1mwait\u001b[22m\u001b[22m\u001b[1m(\u001b[22m\u001b[22m::Timer\u001b[1m)\u001b[22m\u001b[22m at \u001b[1m./event.jl:357\u001b[22m\u001b[22m\n",
      " [5] \u001b[1m(::Base.##302#303{IJulia.#send_stdout,Timer})\u001b[22m\u001b[22m\u001b[1m(\u001b[22m\u001b[22m\u001b[1m)\u001b[22m\u001b[22m at \u001b[1m./event.jl:430\u001b[22m\u001b[22m\n",
      "\u001b[39m"
     ]
    }
   ],
   "source": [
    "body!(Window(), manipulate!(mvis))"
   ]
  },
  {
   "cell_type": "code",
   "execution_count": 81,
   "metadata": {},
   "outputs": [
    {
     "ename": "LoadError",
     "evalue": "\u001b[91mBase.LinAlg.SingularException(6)\u001b[39m",
     "output_type": "error",
     "traceback": [
      "\u001b[91mBase.LinAlg.SingularException(6)\u001b[39m",
      "",
      "Stacktrace:",
      " [1] \u001b[1mnaivesub!\u001b[22m\u001b[22m\u001b[1m(\u001b[22m\u001b[22m::UpperTriangular{ForwardDiff.Dual{ForwardDiff.Tag{LCPSim.ContactLQR.##25#28{RigidBodyDynamics.CustomCollections.SegmentedVector{RigidBodyDynamics.JointID,Float64,Base.OneTo{RigidBodyDynamics.JointID},Array{Float64,1}}},Float64},Float64,9},Array{ForwardDiff.Dual{ForwardDiff.Tag{LCPSim.ContactLQR.##25#28{RigidBodyDynamics.CustomCollections.SegmentedVector{RigidBodyDynamics.JointID,Float64,Base.OneTo{RigidBodyDynamics.JointID},Array{Float64,1}}},Float64},Float64,9},2}}, ::Array{ForwardDiff.Dual{ForwardDiff.Tag{LCPSim.ContactLQR.##25#28{RigidBodyDynamics.CustomCollections.SegmentedVector{RigidBodyDynamics.JointID,Float64,Base.OneTo{RigidBodyDynamics.JointID},Array{Float64,1}}},Float64},Float64,9},1}, ::Array{ForwardDiff.Dual{ForwardDiff.Tag{LCPSim.ContactLQR.##25#28{RigidBodyDynamics.CustomCollections.SegmentedVector{RigidBodyDynamics.JointID,Float64,Base.OneTo{RigidBodyDynamics.JointID},Array{Float64,1}}},Float64},Float64,9},1}\u001b[1m)\u001b[22m\u001b[22m at \u001b[1m./linalg/triangular.jl:1031\u001b[22m\u001b[22m",
      " [2] \u001b[1mA_ldiv_B!\u001b[22m\u001b[22m\u001b[1m(\u001b[22m\u001b[22m::UpperTriangular{ForwardDiff.Dual{ForwardDiff.Tag{LCPSim.ContactLQR.##25#28{RigidBodyDynamics.CustomCollections.SegmentedVector{RigidBodyDynamics.JointID,Float64,Base.OneTo{RigidBodyDynamics.JointID},Array{Float64,1}}},Float64},Float64,9},Array{ForwardDiff.Dual{ForwardDiff.Tag{LCPSim.ContactLQR.##25#28{RigidBodyDynamics.CustomCollections.SegmentedVector{RigidBodyDynamics.JointID,Float64,Base.OneTo{RigidBodyDynamics.JointID},Array{Float64,1}}},Float64},Float64,9},2}}, ::Array{ForwardDiff.Dual{ForwardDiff.Tag{LCPSim.ContactLQR.##25#28{RigidBodyDynamics.CustomCollections.SegmentedVector{RigidBodyDynamics.JointID,Float64,Base.OneTo{RigidBodyDynamics.JointID},Array{Float64,1}}},Float64},Float64,9},2}\u001b[1m)\u001b[22m\u001b[22m at \u001b[1m./linalg/bidiag.jl:519\u001b[22m\u001b[22m",
      " [3] \u001b[1mA_ldiv_B!\u001b[22m\u001b[22m\u001b[1m(\u001b[22m\u001b[22m::Base.LinAlg.LU{ForwardDiff.Dual{ForwardDiff.Tag{LCPSim.ContactLQR.##25#28{RigidBodyDynamics.CustomCollections.SegmentedVector{RigidBodyDynamics.JointID,Float64,Base.OneTo{RigidBodyDynamics.JointID},Array{Float64,1}}},Float64},Float64,9},Array{ForwardDiff.Dual{ForwardDiff.Tag{LCPSim.ContactLQR.##25#28{RigidBodyDynamics.CustomCollections.SegmentedVector{RigidBodyDynamics.JointID,Float64,Base.OneTo{RigidBodyDynamics.JointID},Array{Float64,1}}},Float64},Float64,9},2}}, ::Array{ForwardDiff.Dual{ForwardDiff.Tag{LCPSim.ContactLQR.##25#28{RigidBodyDynamics.CustomCollections.SegmentedVector{RigidBodyDynamics.JointID,Float64,Base.OneTo{RigidBodyDynamics.JointID},Array{Float64,1}}},Float64},Float64,9},2}\u001b[1m)\u001b[22m\u001b[22m at \u001b[1m./linalg/lu.jl:243\u001b[22m\u001b[22m",
      " [4] \u001b[1minv\u001b[22m\u001b[22m\u001b[1m(\u001b[22m\u001b[22m::Array{ForwardDiff.Dual{ForwardDiff.Tag{LCPSim.ContactLQR.##25#28{RigidBodyDynamics.CustomCollections.SegmentedVector{RigidBodyDynamics.JointID,Float64,Base.OneTo{RigidBodyDynamics.JointID},Array{Float64,1}}},Float64},Float64,9},2}\u001b[1m)\u001b[22m\u001b[22m at \u001b[1m./linalg/dense.jl:659\u001b[22m\u001b[22m",
      " [5] \u001b[1mdynamics_with_contact_constraint\u001b[22m\u001b[22m\u001b[1m(\u001b[22m\u001b[22m::RigidBodyDynamics.MechanismState{ForwardDiff.Dual{ForwardDiff.Tag{LCPSim.ContactLQR.##25#28{RigidBodyDynamics.CustomCollections.SegmentedVector{RigidBodyDynamics.JointID,Float64,Base.OneTo{RigidBodyDynamics.JointID},Array{Float64,1}}},Float64},Float64,9},Float64,ForwardDiff.Dual{ForwardDiff.Tag{LCPSim.ContactLQR.##25#28{RigidBodyDynamics.CustomCollections.SegmentedVector{RigidBodyDynamics.JointID,Float64,Base.OneTo{RigidBodyDynamics.JointID},Array{Float64,1}}},Float64},Float64,9},TypeSortedCollections.TypeSortedCollection{Tuple{Array{RigidBodyDynamics.Joint{Float64,RigidBodyDynamics.QuaternionFloating{Float64}},1},Array{RigidBodyDynamics.Joint{Float64,RigidBodyDynamics.Revolute{Float64}},1}},2}}, ::RigidBodyDynamics.CustomCollections.SegmentedVector{RigidBodyDynamics.JointID,Float64,Base.OneTo{RigidBodyDynamics.JointID},Array{Float64,1}}, ::Array{Float64,2}\u001b[1m)\u001b[22m\u001b[22m at \u001b[1m/home/rdeits/locomotion/explorations/learning-mpc-2/packages/v0.6/LCPSim/src/contact_lqr.jl:176\u001b[22m\u001b[22m",
      " [6] \u001b[1m(::LCPSim.ContactLQR.#dynamics#27{RigidBodyDynamics.MechanismState{Float64,Float64,Float64,TypeSortedCollections.TypeSortedCollection{Tuple{Array{RigidBodyDynamics.Joint{Float64,RigidBodyDynamics.QuaternionFloating{Float64}},1},Array{RigidBodyDynamics.Joint{Float64,RigidBodyDynamics.Revolute{Float64}},1}},2}},Array{Float64,2}})\u001b[22m\u001b[22m\u001b[1m(\u001b[22m\u001b[22m::Array{ForwardDiff.Dual{ForwardDiff.Tag{LCPSim.ContactLQR.##25#28{RigidBodyDynamics.CustomCollections.SegmentedVector{RigidBodyDynamics.JointID,Float64,Base.OneTo{RigidBodyDynamics.JointID},Array{Float64,1}}},Float64},Float64,9},1}, ::RigidBodyDynamics.CustomCollections.SegmentedVector{RigidBodyDynamics.JointID,Float64,Base.OneTo{RigidBodyDynamics.JointID},Array{Float64,1}}\u001b[1m)\u001b[22m\u001b[22m at \u001b[1m/home/rdeits/locomotion/explorations/learning-mpc-2/packages/v0.6/LCPSim/src/contact_lqr.jl:199\u001b[22m\u001b[22m",
      " [7] \u001b[1mchunk_mode_jacobian\u001b[22m\u001b[22m\u001b[1m(\u001b[22m\u001b[22m::LCPSim.ContactLQR.##25#28{RigidBodyDynamics.CustomCollections.SegmentedVector{RigidBodyDynamics.JointID,Float64,Base.OneTo{RigidBodyDynamics.JointID},Array{Float64,1}}}, ::Array{Float64,1}, ::ForwardDiff.JacobianConfig{ForwardDiff.Tag{LCPSim.ContactLQR.##25#28{RigidBodyDynamics.CustomCollections.SegmentedVector{RigidBodyDynamics.JointID,Float64,Base.OneTo{RigidBodyDynamics.JointID},Array{Float64,1}}},Float64},Float64,9,Array{ForwardDiff.Dual{ForwardDiff.Tag{LCPSim.ContactLQR.##25#28{RigidBodyDynamics.CustomCollections.SegmentedVector{RigidBodyDynamics.JointID,Float64,Base.OneTo{RigidBodyDynamics.JointID},Array{Float64,1}}},Float64},Float64,9},1}}\u001b[1m)\u001b[22m\u001b[22m at \u001b[1m/home/rdeits/locomotion/explorations/learning-mpc-2/packages/v0.6/ForwardDiff/src/jacobian.jl:212\u001b[22m\u001b[22m",
      " [8] \u001b[1mjacobian\u001b[22m\u001b[22m\u001b[1m(\u001b[22m\u001b[22m::Function, ::Array{Float64,1}, ::ForwardDiff.JacobianConfig{ForwardDiff.Tag{LCPSim.ContactLQR.##25#28{RigidBodyDynamics.CustomCollections.SegmentedVector{RigidBodyDynamics.JointID,Float64,Base.OneTo{RigidBodyDynamics.JointID},Array{Float64,1}}},Float64},Float64,9,Array{ForwardDiff.Dual{ForwardDiff.Tag{LCPSim.ContactLQR.##25#28{RigidBodyDynamics.CustomCollections.SegmentedVector{RigidBodyDynamics.JointID,Float64,Base.OneTo{RigidBodyDynamics.JointID},Array{Float64,1}}},Float64},Float64,9},1}}, ::Val{true}\u001b[1m)\u001b[22m\u001b[22m at \u001b[1m/home/rdeits/locomotion/explorations/learning-mpc-2/packages/v0.6/ForwardDiff/src/jacobian.jl:19\u001b[22m\u001b[22m",
      " [9] \u001b[1mcontact_linearize\u001b[22m\u001b[22m\u001b[1m(\u001b[22m\u001b[22m::RigidBodyDynamics.MechanismState{Float64,Float64,Float64,TypeSortedCollections.TypeSortedCollection{Tuple{Array{RigidBodyDynamics.Joint{Float64,RigidBodyDynamics.QuaternionFloating{Float64}},1},Array{RigidBodyDynamics.Joint{Float64,RigidBodyDynamics.Revolute{Float64}},1}},2}}, ::RigidBodyDynamics.CustomCollections.SegmentedVector{RigidBodyDynamics.JointID,Float64,Base.OneTo{RigidBodyDynamics.JointID},Array{Float64,1}}, ::Array{Float64,2}\u001b[1m)\u001b[22m\u001b[22m at \u001b[1m/home/rdeits/locomotion/explorations/learning-mpc-2/packages/v0.6/LCPSim/src/contact_lqr.jl:202\u001b[22m\u001b[22m",
      " [10] \u001b[1mcontact_dlqr\u001b[22m\u001b[22m\u001b[1m(\u001b[22m\u001b[22m::RigidBodyDynamics.MechanismState{Float64,Float64,Float64,TypeSortedCollections.TypeSortedCollection{Tuple{Array{RigidBodyDynamics.Joint{Float64,RigidBodyDynamics.QuaternionFloating{Float64}},1},Array{RigidBodyDynamics.Joint{Float64,RigidBodyDynamics.Revolute{Float64}},1}},2}}, ::RigidBodyDynamics.CustomCollections.SegmentedVector{RigidBodyDynamics.JointID,Float64,Base.OneTo{RigidBodyDynamics.JointID},Array{Float64,1}}, ::Array{Float64,2}, ::Array{Float64,2}, ::Float64, ::Array{RigidBodyDynamics.Spatial.Point3D{StaticArrays.SArray{Tuple{3},Float64,1,3}},1}\u001b[1m)\u001b[22m\u001b[22m at \u001b[1m/home/rdeits/locomotion/explorations/learning-mpc-2/packages/v0.6/LCPSim/src/contact_lqr.jl:258\u001b[22m\u001b[22m",
      " [11] \u001b[1mLearningMPC.LQRSolution\u001b[22m\u001b[22m\u001b[1m(\u001b[22m\u001b[22m::RigidBodyDynamics.MechanismState{Float64,Float64,Float64,TypeSortedCollections.TypeSortedCollection{Tuple{Array{RigidBodyDynamics.Joint{Float64,RigidBodyDynamics.QuaternionFloating{Float64}},1},Array{RigidBodyDynamics.Joint{Float64,RigidBodyDynamics.Revolute{Float64}},1}},2}}, ::Array{Float64,2}, ::Array{Float64,2}, ::Float64, ::Array{RigidBodyDynamics.Spatial.Point3D{StaticArrays.SArray{Tuple{3},Float64,1,3}},1}\u001b[1m)\u001b[22m\u001b[22m at \u001b[1m/home/rdeits/locomotion/explorations/learning-mpc-2/packages/v0.6/LearningMPC/src/LearningMPC.jl:49\u001b[22m\u001b[22m",
      " [12] \u001b[1minclude_string\u001b[22m\u001b[22m\u001b[1m(\u001b[22m\u001b[22m::String, ::String\u001b[1m)\u001b[22m\u001b[22m at \u001b[1m./loading.jl:522\u001b[22m\u001b[22m"
     ]
    }
   ],
   "source": [
    "qq = [10, 10, 10, 10, 1, 1, 1, 0.1, 0.1]\n",
    "qv = [0.1, 0.1, 0.1, 0.1, 0.1, 0.1, 0.01, 0.01]\n",
    "Q = diagm(vcat(qq, qv))\n",
    "R = diagm(fill(1e-6, num_velocities(mechanism)))\n",
    "contacts = [\n",
    "    Point3D(default_frame(findbody(mechanism, name)), 0., 0, -1) for name in [\"r_foot\", \"l_foot\"]\n",
    "]\n",
    "Δt = 0.01\n",
    "lqrsol = LQRSolution(init!(MechanismState(mechanism)), Q, R, Δt, contacts)\n"
   ]
  },
  {
   "cell_type": "code",
   "execution_count": 53,
   "metadata": {},
   "outputs": [],
   "source": [
    "floor_obstacle = LCPSim.planar_obstacle(default_frame(world), SVector(0., 0, 1), SVector(0., 0, 0))\n",
    "env = LCPSim.Environment([\n",
    "    (body, Point3D(default_frame(body), 0., 0, -1), floor_obstacle)\n",
    "        for body in findbody.(mechanism, [\"r_foot\", \"l_foot\"])\n",
    "    ]);"
   ]
  },
  {
   "cell_type": "code",
   "execution_count": 77,
   "metadata": {},
   "outputs": [
    {
     "name": "stdout",
     "output_type": "stream",
     "text": [
      "Academic license - for non-commercial use only\n"
     ]
    },
    {
     "data": {
      "text/plain": [
       "true"
      ]
     },
     "execution_count": 77,
     "metadata": {},
     "output_type": "execute_result"
    }
   ],
   "source": [
    "state = init!(MechanismState(mechanism))\n",
    "set_velocity!(state, findjoint(mechanism, \"floating_base\"), [0, 0.01, 0, 0, 0, 0])\n",
    "solver = GurobiSolver(Gurobi.Env(); OutputFlag=0)\n",
    "N = 200\n",
    "results = LCPSim.simulate(state, x -> zeros(num_velocities(state)), env, Δt, N, solver);\n",
    "setanimation!(mvis, results)"
   ]
  },
  {
   "cell_type": "code",
   "execution_count": 69,
   "metadata": {},
   "outputs": [
    {
     "data": {
      "text/plain": [
       "15-element SubArray{Float64,1,Array{Float64,1},Tuple{UnitRange{Int64}},true}:\n",
       "  0.852754 \n",
       " -0.242991 \n",
       " -0.28263  \n",
       "  0.365904 \n",
       "  0.407021 \n",
       " -0.0916046\n",
       "  1.08383  \n",
       "  0.932243 \n",
       " -0.254608 \n",
       "  0.086926 \n",
       " -0.241955 \n",
       "  0.899992 \n",
       " -0.369885 \n",
       "  0.0607409\n",
       " -0.22251  "
      ]
     },
     "execution_count": 69,
     "metadata": {},
     "output_type": "execute_result"
    }
   ],
   "source": [
    "configuration(results[20].state)"
   ]
  },
  {
   "cell_type": "code",
   "execution_count": 58,
   "metadata": {},
   "outputs": [
    {
     "data": {
      "text/plain": [
       "12-element SubArray{Float64,1,Array{Float64,1},Tuple{UnitRange{Int64}},true}:\n",
       "  13.542  \n",
       " -12.4222 \n",
       "   3.01264\n",
       "   5.26784\n",
       "   6.79893\n",
       "  -6.79936\n",
       "  -6.9131 \n",
       "  28.9165 \n",
       " -70.7398 \n",
       "  -7.68643\n",
       "  21.6814 \n",
       " -65.3274 "
      ]
     },
     "execution_count": 58,
     "metadata": {},
     "output_type": "execute_result"
    }
   ],
   "source": [
    "velocity(results[end].state)"
   ]
  },
  {
   "cell_type": "code",
   "execution_count": 57,
   "metadata": {},
   "outputs": [
    {
     "data": {
      "text/plain": [
       "27"
      ]
     },
     "execution_count": 57,
     "metadata": {},
     "output_type": "execute_result"
    }
   ],
   "source": [
    "length(results)"
   ]
  },
  {
   "cell_type": "code",
   "execution_count": null,
   "metadata": {},
   "outputs": [],
   "source": []
  }
 ],
 "metadata": {
  "kernelspec": {
   "display_name": "Julia 0.6.4",
   "language": "julia",
   "name": "julia-0.6"
  },
  "language_info": {
   "file_extension": ".jl",
   "mimetype": "application/julia",
   "name": "julia",
   "version": "0.6.4"
  }
 },
 "nbformat": 4,
 "nbformat_minor": 2
}
