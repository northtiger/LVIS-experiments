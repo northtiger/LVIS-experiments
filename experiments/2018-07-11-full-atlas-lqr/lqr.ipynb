{
 "cells": [
  {
   "cell_type": "code",
   "execution_count": 3,
   "metadata": {},
   "outputs": [],
   "source": [
    "using Revise"
   ]
  },
  {
   "cell_type": "code",
   "execution_count": 4,
   "metadata": {},
   "outputs": [],
   "source": [
    "using MeshCatMechanisms\n",
    "using MeshCat\n",
    "using RigidBodyDynamics\n",
    "using LCPSim\n",
    "using AtlasRobot\n",
    "using Blink\n",
    "using RigidBodyDynamics\n",
    "using Rotations\n",
    "using LearningMPC\n",
    "using LearningMPC.Models\n",
    "using Gurobi\n",
    "using StaticArrays\n",
    "using RigidBodySim"
   ]
  },
  {
   "cell_type": "code",
   "execution_count": 5,
   "metadata": {},
   "outputs": [],
   "source": [
    "atlas_sim = LearningMPC.Models.PlanarAtlas(:simulation);"
   ]
  },
  {
   "cell_type": "code",
   "execution_count": 19,
   "metadata": {},
   "outputs": [
    {
     "name": "stdout",
     "output_type": "stream",
     "text": [
      "AtlasRobot.packagepath() = \"/home/rdeits/locomotion/explorations/learning-mpc-2/packages/v0.6/AtlasRobot/deps\"\n"
     ]
    },
    {
     "data": {
      "text/plain": [
       "Blink.AtomShell.Window(1, Blink.AtomShell.Electron(Process(`/home/rdeits/locomotion/explorations/learning-mpc-2/packages/v0.6/Blink/deps/atom/electron /home/rdeits/locomotion/explorations/learning-mpc-2/packages/v0.6/Blink/src/AtomShell/main.js port 5556`, ProcessRunning), TCPSocket(RawFD(65) active, 0 bytes waiting), Dict{String,Any}(Pair{String,Any}(\"callback\", Blink.#3))), Blink.Page(2, WebSockets.WebSocket{TCPSocket}(TCPSocket(RawFD(70) active, 0 bytes waiting), true, CONNECTED::WebSockets.ReadyState = 1), Dict{String,Any}(Pair{String,Any}(\"webio\", WebIO.#109),Pair{String,Any}(\"callback\", Blink.#3)), Future(1, 1, 2, Nullable{Any}(true))))"
      ]
     },
     "execution_count": 19,
     "metadata": {},
     "output_type": "execute_result"
    }
   ],
   "source": [
    "mvis = MechanismVisualizer(atlas_sim)\n",
    "open(mvis, Window())"
   ]
  },
  {
   "cell_type": "code",
   "execution_count": 8,
   "metadata": {},
   "outputs": [
    {
     "data": {
      "text/plain": [
       "zero_controller (generic function with 1 method)"
      ]
     },
     "execution_count": 8,
     "metadata": {},
     "output_type": "execute_result"
    }
   ],
   "source": [
    "effort_limiter = let effort_bounds = LCPSim.all_effort_bounds(mechanism(atlas_sim))\n",
    "    function (τ::AbstractVector, t::Number, state::MechanismState)\n",
    "        τ .= clamp.(τ, effort_bounds)\n",
    "        τ\n",
    "    end\n",
    "end\n",
    "\n",
    "bounds_enforcer = let position_bounds = LCPSim.all_configuration_bounds(mechanism(atlas_sim))\n",
    "    function (τ::AbstractVector, t::Number, state::MechanismState)\n",
    "        # TODO: handle q̇ vs v correctly\n",
    "        for i in 1:num_positions(state)\n",
    "            kp = 1000\n",
    "            kd = 0.1 * kp\n",
    "            if configuration(state)[i] > position_bounds[i].upper\n",
    "                violation = configuration(state)[i] - position_bounds[i].upper\n",
    "                τ[i] -= kp * violation\n",
    "                τ[i] -= kd * velocity(state)[i]\n",
    "            elseif configuration(state)[i] < position_bounds[i].lower\n",
    "                violation = position_bounds[i].lower - configuration(state)[i]\n",
    "                τ[i] += kp * violation \n",
    "                τ[i] -= kd * velocity(state)[i]\n",
    "            end\n",
    "        end\n",
    "        τ\n",
    "    end\n",
    "end\n",
    "\n",
    "function compose(controllers...)\n",
    "    function (τ, t, state)\n",
    "        for c in controllers\n",
    "            c(τ, t, state)\n",
    "        end\n",
    "        τ\n",
    "    end\n",
    "end\n",
    "   \n",
    "zero_controller(τ::AbstractVector, t::Number, state::MechanismState) = τ .= 0"
   ]
  },
  {
   "cell_type": "code",
   "execution_count": 14,
   "metadata": {},
   "outputs": [
    {
     "name": "stderr",
     "output_type": "stream",
     "text": [
      "WARNING: both RigidBodySim and MeshCatMechanisms export \"animate\"; uses of it in module Main must be qualified\n",
      "WARNING: both Gurobi and LCPSim export \"optimize\"; uses of it in module Main must be qualified\n",
      "WARNING: both Blink and RigidBodyDynamics export \"id\"; uses of it in module Main must be qualified\n",
      "WARNING: both LCPSim and RigidBodyDynamics export \"simulate\"; uses of it in module Main must be qualified\n"
     ]
    }
   ],
   "source": [
    "atlas_control = LearningMPC.Models.PlanarAtlas(:control);"
   ]
  },
  {
   "cell_type": "code",
   "execution_count": 58,
   "metadata": {},
   "outputs": [
    {
     "data": {
      "text/plain": [
       "(::#63) (generic function with 1 method)"
      ]
     },
     "execution_count": 58,
     "metadata": {},
     "output_type": "execute_result"
    }
   ],
   "source": [
    "xstar = nominal_state(atlas_control)\n",
    "Δt = 0.05\n",
    "nq = num_positions(xstar)\n",
    "nv = num_velocities(xstar)\n",
    "qq = fill(1.0, nq)\n",
    "qq[1] = 1\n",
    "qq[2] = 100\n",
    "qq[3] = 100\n",
    "qv = fill(0.001, nv)\n",
    "Q = diagm(vcat(qq, qv))\n",
    "R = diagm(fill(1e-4, nv))\n",
    "lqrsol = LearningMPC.LQRSolution(xstar, Q, R, Δt, \n",
    "    [Point3D(default_frame(body), 0., 0, 0) for body in \n",
    "            findbody.(mechanism(atlas_control), [\"r_foot_sole\", \"l_foot_sole\"])])\n",
    "\n",
    "lqr_inplace = let lqr = lqrsol\n",
    "    function (τ, t, state)\n",
    "        τ .= lqr(state)\n",
    "#         τ .= lqr.u0\n",
    "    end\n",
    "end\n"
   ]
  },
  {
   "cell_type": "code",
   "execution_count": 63,
   "metadata": {},
   "outputs": [
    {
     "name": "stdout",
     "output_type": "stream",
     "text": [
      "Academic license - for non-commercial use only\n",
      "Academic license - for non-commercial use only\n"
     ]
    },
    {
     "data": {
      "text/plain": [
       "(::#69) (generic function with 1 method)"
      ]
     },
     "execution_count": 63,
     "metadata": {},
     "output_type": "execute_result"
    }
   ],
   "source": [
    "mpc_params = LearningMPC.MPCParams(\n",
    "    Δt=Δt,\n",
    "    horizon=1,\n",
    "    mip_solver=GurobiSolver(Gurobi.Env(), OutputFlag=0, TimeLimit=10, MIPGap=1e-2, FeasibilityTol=1e-3),\n",
    "    lcp_solver=GurobiSolver(Gurobi.Env(), OutputFlag=0)\n",
    ")\n",
    "\n",
    "lqr_mpc_controller = let scratch = MechanismState(mechanism(atlas_control))\n",
    "    MPCController(scratch, environment(atlas_control), mpc_params, lqrsol, Function[lqrsol], (s, r) -> nothing)\n",
    "end\n",
    "\n",
    "lqr_mpc_inplace = let c = lqr_mpc_controller\n",
    "    function (τ, t, state)\n",
    "        τ .= c(state)\n",
    "    end\n",
    "end"
   ]
  },
  {
   "cell_type": "code",
   "execution_count": 64,
   "metadata": {},
   "outputs": [
    {
     "name": "stdout",
     "output_type": "stream",
     "text": [
      "884.064491 seconds (215.43 M allocations: 13.202 GiB, 1.35% gc time)\n"
     ]
    }
   ],
   "source": [
    "state = nominal_state(atlas_sim)\n",
    "\n",
    "final_time = 1\n",
    "Δt = 0.01\n",
    "\n",
    "composed = PeriodicController(similar(velocity(state)), Δt, compose(lqr_mpc_inplace, effort_limiter))\n",
    "controlcallback = DiffEqCallbacks.PeriodicCallback(composed)\n",
    "composed = compose(composed, bounds_enforcer)\n",
    "\n",
    "dynamics = Dynamics(mechanism(atlas_sim), composed)\n",
    "problem = ODEProblem(dynamics, state, (0., final_time), callback = CallbackSet(controlcallback, CallbackSet(mvis, state, max_fps = 30.)))\n",
    "\n",
    "@time sol = RigidBodySim.solve(problem, Tsit5(), abs_tol = 1e-8, dt = Δt);"
   ]
  },
  {
   "cell_type": "code",
   "execution_count": 67,
   "metadata": {},
   "outputs": [],
   "source": [
    "RigidBodySim.animate(mvis, state, sol)"
   ]
  },
  {
   "cell_type": "markdown",
   "metadata": {},
   "source": [
    "### Next Steps\n",
    "\n",
    "At least part of the problem when running on the full Atlas is that the nominal input is almost always wrong by enough to disrupt the sytsem, and turning R down so that the nominal is ignored results in crazy accelerations. Instead, we should essentially feedback linearize the system by applying the LQR \"input\" cost to $\\dot{v}$ instead of u (with a nominal value of 0 always)"
   ]
  },
  {
   "cell_type": "code",
   "execution_count": null,
   "metadata": {},
   "outputs": [],
   "source": [
    "lqr_mpc_controller = let scratch = MechanismState(atlas)\n",
    "    simple_env = LCPSim.Environment{Float64}(\n",
    "    [\n",
    "        (body, Point3D(default_frame(body), offset...), floor) for body in feet for offset in [[0., 0, 0]]\n",
    "    ]\n",
    ");\n",
    "    MPCController(scratch, simple_env, mpc_params, lqrsol, Function[lqrsol], (s, r) -> nothing)\n",
    "end"
   ]
  },
  {
   "cell_type": "code",
   "execution_count": 38,
   "metadata": {},
   "outputs": [
    {
     "name": "stdout",
     "output_type": "stream",
     "text": [
      "configuration(state) = [0.0, 0.85, 0.0, 0.0, 0.0, 0.0, 0.0, 0.0, 0.0, 0.0, -0.45, -0.45, 0.0, 0.0, 0.0, 1.1, 1.1, 0.0, 0.0, -0.65, -0.65, 0.0, 0.0, 0.0, 0.0, 0.0, 0.0, 0.0, 0.0, 0.0, 0.0, 0.0, 0.0]\n"
     ]
    },
    {
     "data": {
      "text/plain": [
       "33-element Array{Float64,1}:\n",
       "   0.0        \n",
       "   0.0        \n",
       "   0.0        \n",
       "   0.0        \n",
       "   0.0        \n",
       "   0.0        \n",
       "  -7.5305     \n",
       " -17.2696     \n",
       "  17.2696     \n",
       "   1.90522    \n",
       " -86.514      \n",
       " -86.514      \n",
       "   0.0        \n",
       "   ⋮          \n",
       "  -0.00381321 \n",
       "  -0.00564618 \n",
       "  -1.46022    \n",
       "   1.46022    \n",
       "   9.93221    \n",
       "  -9.93221    \n",
       "  -0.00381321 \n",
       "  -0.00564618 \n",
       "   0.749362   \n",
       "  -0.749362   \n",
       "   0.000916489\n",
       "  -0.000916489"
      ]
     },
     "execution_count": 38,
     "metadata": {},
     "output_type": "execute_result"
    }
   ],
   "source": [
    "x0 = init_atlas!(MechanismState(atlas))\n",
    "lqrsol(x0)"
   ]
  },
  {
   "cell_type": "code",
   "execution_count": 39,
   "metadata": {},
   "outputs": [
    {
     "data": {
      "text/plain": [
       "33-element Array{Float64,1}:\n",
       "   0.0        \n",
       "   0.0        \n",
       "   0.0        \n",
       "   0.0        \n",
       "   0.0        \n",
       "   0.0        \n",
       "  -7.5305     \n",
       " -17.2696     \n",
       "  17.2696     \n",
       "   1.90522    \n",
       " -86.514      \n",
       " -86.514      \n",
       "   0.0        \n",
       "   ⋮          \n",
       "  -0.00381321 \n",
       "  -0.00564618 \n",
       "  -1.46022    \n",
       "   1.46022    \n",
       "   9.93221    \n",
       "  -9.93221    \n",
       "  -0.00381321 \n",
       "  -0.00564618 \n",
       "   0.749362   \n",
       "  -0.749362   \n",
       "   0.000916489\n",
       "  -0.000916489"
      ]
     },
     "execution_count": 39,
     "metadata": {},
     "output_type": "execute_result"
    }
   ],
   "source": [
    "lqrsol.u0"
   ]
  },
  {
   "cell_type": "code",
   "execution_count": null,
   "metadata": {},
   "outputs": [],
   "source": [
    "x0 = init_atlas!(MechanismState(atlas))\n",
    "# set_velocity!(x0, findjoint(atlas, \"pelvis_to_world\"), [-0.5, 0, 0])\n",
    "results = LCPSim.simulate(x0, x -> begin\n",
    "        set_configuration!(mvis, configuration(x))\n",
    "        lqrsol.u0\n",
    "    end, env, 0.01, 100, mpc_params.lcp_solver);\n",
    "@show length(results)\n",
    "setanimation!(mvis, results)\n"
   ]
  },
  {
   "cell_type": "code",
   "execution_count": 31,
   "metadata": {},
   "outputs": [
    {
     "data": {
      "text/plain": [
       "33-element SubArray{Float64,1,Array{Float64,1},Tuple{UnitRange{Int64}},true}:\n",
       " -0.0033903  \n",
       "  0.928234   \n",
       " -0.00107767 \n",
       " -0.00444538 \n",
       " -0.000581757\n",
       "  0.000814242\n",
       " -0.0055727  \n",
       "  0.00503378 \n",
       "  0.0052237  \n",
       " -0.00961241 \n",
       "  0.109388   \n",
       "  0.109312   \n",
       "  0.00720999 \n",
       "  ⋮          \n",
       "  0.000270581\n",
       "  0.0141765  \n",
       " -0.00395611 \n",
       " -0.00414603 \n",
       "  0.107546   \n",
       " -0.180345   \n",
       "  0.00337585 \n",
       " -0.0113241  \n",
       " -0.0627932  \n",
       "  0.0474613  \n",
       " -0.000682655\n",
       "  0.000796706"
      ]
     },
     "execution_count": 31,
     "metadata": {},
     "output_type": "execute_result"
    }
   ],
   "source": [
    "results[end].state.configuration"
   ]
  },
  {
   "cell_type": "code",
   "execution_count": null,
   "metadata": {},
   "outputs": [],
   "source": []
  },
  {
   "cell_type": "code",
   "execution_count": 33,
   "metadata": {},
   "outputs": [
    {
     "data": {
      "text/plain": [
       "33-element Array{Float64,1}:\n",
       "  0.0 \n",
       "  0.85\n",
       "  0.0 \n",
       "  0.0 \n",
       "  0.0 \n",
       "  0.0 \n",
       "  0.0 \n",
       "  0.0 \n",
       "  0.0 \n",
       "  0.0 \n",
       " -0.45\n",
       " -0.45\n",
       "  0.0 \n",
       "  ⋮   \n",
       "  0.0 \n",
       "  0.0 \n",
       "  0.0 \n",
       "  0.0 \n",
       "  0.0 \n",
       "  0.0 \n",
       "  0.0 \n",
       "  0.0 \n",
       "  0.0 \n",
       "  0.0 \n",
       "  0.0 \n",
       "  0.0 "
      ]
     },
     "execution_count": 33,
     "metadata": {},
     "output_type": "execute_result"
    }
   ],
   "source": [
    "lqrsol.x0[1:num_positions(atlas)]"
   ]
  },
  {
   "cell_type": "code",
   "execution_count": 36,
   "metadata": {},
   "outputs": [
    {
     "name": "stdout",
     "output_type": "stream",
     "text": [
      "-0.0033903022595943777 0.0 (-10.0, 10.0)\n",
      "0.9282342165807665 0.85 (-10.0, 10.0)\n",
      "-0.0010776723324969694 0.0 (-10.0, 10.0)\n",
      "-0.004445382594485738 0.0 (-0.663225, 0.663225)\n",
      "-0.0005817569492283332 0.0 (-0.174358, 0.786794)\n",
      "0.0008142423379124708 0.0 (-0.786794, 0.174358)\n",
      "-0.005572699054055387 0.0 (-0.219388, 0.538783)\n",
      "0.005033782171372851 0.0 (-0.523599, 0.523599)\n",
      "0.005223701629129093 0.0 (-0.523599, 0.523599)\n",
      "-0.00961240706024892 0.0 (-0.523599, 0.523599)\n",
      "0.10938777178672855 -0.45000000000000007 (-1.61234, 0.65764)\n",
      "0.10931225296645976 -0.45000000000000007 (-1.61234, 0.65764)\n",
      "0.007209986997368364 0.0 (-1.5708, 0.785398)\n",
      "-0.17322956377728577 0.0 (-0.602139, 1.14319)\n",
      "0.011322163704369385 0.0 (-0.785398, 1.5708)\n",
      "0.0 1.1 (0.0, 2.35637)\n",
      "0.0 1.1 (0.0, 2.35637)\n",
      "-0.1578296389010598 0.0 (-1.5708, 1.5708)\n",
      "0.13970895507375755 0.0 (-1.5708, 1.5708)\n",
      "-0.10938714483862708 -0.65 (-1.0, 0.7)\n",
      "-0.1093131304601527 -0.65 (-1.0, 0.7)\n",
      "0.0002705812247298092 0.0 (0.0, 3.14159)\n",
      "0.014176527924943986 0.0 (0.0, 3.14159)\n",
      "-0.003956110021238608 0.0 (-0.8, 0.8)\n",
      "-0.004146029653878183 0.0 (-0.8, 0.8)\n",
      "0.10754580924026023 0.0 (0.0, 2.35619)\n",
      "-0.1803450988359686 0.0 (-2.35619, 0.0)\n",
      "0.0033758470732409554 0.0 (-3.011, 3.011)\n",
      "-0.011324055363680887 0.0 (-3.011, 3.011)\n",
      "-0.06279319107116667 0.0 (-1.7628, 1.7628)\n",
      "0.047461291038406905 0.0 (-1.7628, 1.7628)\n",
      "-0.0006826549927587067 0.0 (-2.9671, 2.9671)\n",
      "0.0007967057602950009 0.0 (-2.9671, 2.9671)\n"
     ]
    }
   ],
   "source": [
    "for i in 1:num_positions(atlas)\n",
    "    println(results[end].state.configuration[i], \" \", lqrsol.x0[i], \" \", LCPSim.all_configuration_bounds(atlas)[i])\n",
    "end"
   ]
  },
  {
   "cell_type": "code",
   "execution_count": 108,
   "metadata": {},
   "outputs": [
    {
     "name": "stdout",
     "output_type": "stream",
     "text": [
      "LCPSim.JointLimitResult{Float64,Float64}([-2.03727e-10, -0.0, -2.76486e-10], 1717.9072268399998)\n",
      "LCPSim.JointLimitResult{Float64,Float64}([-2.33172e-10], 1717.9072268399998)\n",
      "LCPSim.JointLimitResult{Float64,Float64}([-2.33513e-10], 1717.9072268399998)\n",
      "LCPSim.JointLimitResult{Float64,Float64}([-2.33513e-10], 1717.9072268399998)\n",
      "LCPSim.JointLimitResult{Float64,Float64}([-2.33172e-10], 1717.9072268399998)\n",
      "LCPSim.JointLimitResult{Float64,Float64}([-2.21007e-10], 1717.9072268399998)\n",
      "LCPSim.JointLimitResult{Float64,Float64}([-2.21007e-10], 1717.9072268399998)\n",
      "LCPSim.JointLimitResult{Float64,Float64}([-2.54659e-10], 1717.9072268399998)\n",
      "LCPSim.JointLimitResult{Float64,Float64}([-2.33399e-10], 1717.9072268399998)\n",
      "LCPSim.JointLimitResult{Float64,Float64}([-2.33399e-10], 1717.9072268399998)\n",
      "LCPSim.JointLimitResult{Float64,Float64}([-2.32873e-10], 1717.9072268399998)\n",
      "LCPSim.JointLimitResult{Float64,Float64}([-2.32832e-10], 1717.9072268399998)\n",
      "LCPSim.JointLimitResult{Float64,Float64}([-2.32873e-10], 1717.9072268399998)\n",
      "LCPSim.JointLimitResult{Float64,Float64}([-2.18392e-10], 1717.9072268399998)\n",
      "LCPSim.JointLimitResult{Float64,Float64}([-2.18392e-10], 1717.9072268399998)\n",
      "LCPSim.JointLimitResult{Float64,Float64}([-2.19188e-10], 1717.9072268399998)\n",
      "LCPSim.JointLimitResult{Float64,Float64}([-2.20552e-10], 1717.9072268399998)\n",
      "LCPSim.JointLimitResult{Float64,Float64}([-2.32845e-10], 1717.9072268399998)\n",
      "LCPSim.JointLimitResult{Float64,Float64}([-2.32845e-10], 1717.9072268399998)\n",
      "LCPSim.JointLimitResult{Float64,Float64}([-2.32831e-10], 1717.9072268399998)\n",
      "LCPSim.JointLimitResult{Float64,Float64}([-2.32831e-10], 1717.9072268399998)\n",
      "LCPSim.JointLimitResult{Float64,Float64}([-2.32944e-10], 1717.9072268399998)\n",
      "LCPSim.JointLimitResult{Float64,Float64}([-2.3303e-10], 1717.9072268399998)\n",
      "LCPSim.JointLimitResult{Float64,Float64}([-2.33285e-10], 1717.9072268399998)\n",
      "LCPSim.JointLimitResult{Float64,Float64}([-2.3374e-10], 1717.9072268399998)\n",
      "LCPSim.JointLimitResult{Float64,Float64}([-2.32831e-10], 1717.9072268399998)\n",
      "LCPSim.JointLimitResult{Float64,Float64}([-2.32831e-10], 1717.9072268399998)\n",
      "LCPSim.JointLimitResult{Float64,Float64}([-2.32873e-10], 1717.9072268399998)\n",
      "LCPSim.JointLimitResult{Float64,Float64}([-2.32873e-10], 1717.9072268399998)\n",
      "LCPSim.JointLimitResult{Float64,Float64}([-2.32831e-10], 1717.9072268399998)\n",
      "LCPSim.JointLimitResult{Float64,Float64}([-2.32831e-10], 1717.9072268399998)\n",
      "LCPSim.JointLimitResult{Float64,Float64}(Float64[], 1717.9072268399998)\n",
      "LCPSim.JointLimitResult{Float64,Float64}(Float64[], 1717.9072268399998)\n",
      "LCPSim.JointLimitResult{Float64,Float64}(Float64[], 1717.9072268399998)\n",
      "LCPSim.JointLimitResult{Float64,Float64}(Float64[], 1717.9072268399998)\n"
     ]
    }
   ],
   "source": [
    "for r in results[end-1].joint_contacts\n",
    "    println(r)\n",
    "end"
   ]
  },
  {
   "cell_type": "code",
   "execution_count": 50,
   "metadata": {},
   "outputs": [
    {
     "data": {
      "text/plain": [
       "([0.0, 0.001, 0.002, 0.003, 0.004, 0.005, 0.006, 0.007, 0.008, 0.009  …  0.991, 0.992, 0.993, 0.994, 0.995, 0.996, 0.997, 0.998, 0.999, 1.0], RigidBodyDynamics.CustomCollections.SegmentedVector{RigidBodyDynamics.JointID,Float64,Base.OneTo{RigidBodyDynamics.JointID},Array{Float64,1}}[[0.0, 0.85, 0.0, 0.0, 0.0, 0.0, 0.0, 0.0, 0.0, 0.0  …  0.0, 0.0, 0.0, 0.0, 0.0, 0.0, 0.0, 0.0, 0.0, 0.0], [-1.29942e-22, 0.849995, 2.25597e-21, 2.23466e-22, 8.09443e-22, -8.91671e-23, 2.63518e-22, -1.33081e-21, -2.83498e-21, -4.33543e-21  …  -7.53141e-21, 7.69418e-21, 3.76952e-20, -6.51101e-20, -6.9808e-20, 1.82795e-19, -5.56863e-19, 5.75447e-19, -1.59134e-19, -7.41255e-20], [-5.18957e-22, 0.84998, 9.10823e-21, 8.79209e-22, 2.22849e-21, 6.48965e-22, 1.05984e-21, -5.27853e-21, -1.15549e-20, -1.74817e-20  …  -3.22727e-20, 3.2918e-20, 1.5143e-19, -2.60436e-19, -2.7112e-20, 7.31179e-19, -2.23202e-18, 2.30179e-18, -8.16799e-19, -2.96502e-19], [-1.16542e-21, 0.849956, 2.04606e-20, 1.95565e-21, 2.82374e-21, 3.64473e-21, 2.39064e-21, -1.14679e-20, -2.63493e-20, -3.92698e-20  …  -7.82919e-20, 7.97707e-20, 3.40596e-19, -5.85978e-19, 2.54131e-19, 1.64515e-18, -5.02074e-18, 5.17903e-18, -2.06317e-18, -6.6713e-19], [-2.06707e-21, 0.849922, 3.64111e-20, 3.45394e-21, 3.92986e-21, 7.55593e-21, 4.25543e-21, -2.02545e-20, -4.70652e-20, -6.98572e-20  …  -1.41869e-19, 1.44544e-19, 6.058e-19, -1.04173e-18, 7.51398e-19, 2.92465e-18, -8.92781e-18, 9.20716e-18, -3.72371e-18, -1.18597e-18], [-3.2124e-21, 0.849877, 5.70632e-20, 5.39348e-21, 5.88478e-21, 1.20093e-20, 6.65143e-21, -3.18413e-20, -7.37643e-20, -1.09378e-19  …  -2.21833e-19, 2.26368e-19, 9.47016e-19, -1.62771e-18, 1.21258e-18, 4.56968e-18, -1.39533e-17, 1.43862e-17, -5.61815e-18, -1.85301e-18], [-4.57499e-21, 0.849823, 8.24523e-20, 7.77201e-21, 8.40207e-21, 1.7182e-20, 9.57654e-21, -4.62227e-20, -1.06634e-19, -1.57796e-19  …  -3.19165e-19, 3.26658e-19, 1.36424e-18, -2.3439e-18, 1.62642e-18, 6.5803e-18, -2.00974e-17, 2.07161e-17, -7.65923e-18, -2.66831e-18], [-6.29337e-21, 0.84976, 1.1179e-19, 1.05245e-20, 1.0744e-20, 2.41871e-20, 1.29536e-20, -6.20673e-20, -1.44715e-19, -2.14271e-19  …  -4.38419e-19, 4.46214e-19, 1.85623e-18, -3.19025e-18, 2.00414e-18, 8.81339e-18, -2.73505e-17, 2.81968e-17, -9.93425e-18, -3.63219e-18], [-8.40914e-21, 0.849686, 1.44795e-19, 1.36194e-20, 1.23617e-20, 3.36369e-20, 1.67431e-20, -7.88296e-20, -1.87743e-19, -2.78476e-19  …  -5.82294e-19, 5.8621e-19, 2.42175e-18, -4.16676e-18, 2.34575e-18, 1.11974e-17, -3.57034e-17, 3.68283e-17, -1.24433e-17, -4.74484e-18], [-1.09102e-20, 0.849603, 1.81497e-19, 1.71138e-20, 1.33046e-20, 4.54566e-20, 2.1022e-20, -9.65577e-20, -2.35794e-19, -3.50412e-19  …  -7.5068e-19, 7.46936e-19, 3.06204e-18, -5.27346e-18, 2.65124e-18, 1.38754e-17, -4.51654e-17, 4.66106e-17, -1.51862e-17, -6.006e-18]  …  [-1.46411e-16, -3.96711, -1.30362e-16, 7.3875e-17, -1.25987e-16, 6.75256e-16, 2.93932e-16, 9.53347e-16, -8.84133e-17, -3.37356e-16  …  -7.76056e-15, 4.69627e-15, 3.47041e-14, -6.19417e-14, 1.09399e-13, 1.02836e-13, -4.04723e-13, 4.23252e-13, -8.61633e-14, 3.63392e-15], [-1.46799e-16, -3.97683, -1.31397e-16, 7.39771e-17, -1.27903e-16, 6.77882e-16, 2.94421e-16, 9.56929e-16, -8.79405e-17, -3.3704e-16  …  -7.78978e-15, 4.71295e-15, 3.47629e-14, -6.20703e-14, 1.09656e-13, 1.03027e-13, -4.05383e-13, 4.23983e-13, -8.62952e-14, 3.66536e-15], [-1.47186e-16, -3.98657, -1.32448e-16, 7.40789e-17, -1.29825e-16, 6.80513e-16, 2.9491e-16, 9.60532e-16, -8.74549e-17, -3.36694e-16  …  -7.81905e-15, 4.72972e-15, 3.4822e-14, -6.21989e-14, 1.09914e-13, 1.03217e-13, -4.06044e-13, 4.24713e-13, -8.64266e-14, 3.69738e-15], [-1.47574e-16, -3.99632, -1.33521e-16, 7.41802e-17, -1.31744e-16, 6.83157e-16, 2.95399e-16, 9.6416e-16, -8.69519e-17, -3.36316e-16  …  -7.84834e-15, 4.74659e-15, 3.48812e-14, -6.23277e-14, 1.10171e-13, 1.03407e-13, -4.06704e-13, 4.25445e-13, -8.65581e-14, 3.72962e-15], [-1.47963e-16, -4.00607, -1.34614e-16, 7.42812e-17, -1.33671e-16, 6.85827e-16, 2.95887e-16, 9.67815e-16, -8.6436e-17, -3.35907e-16  …  -7.8777e-15, 4.76362e-15, 3.49406e-14, -6.24565e-14, 1.10428e-13, 1.03597e-13, -4.07365e-13, 4.26176e-13, -8.66896e-14, 3.762e-15], [-1.48353e-16, -4.01584, -1.35719e-16, 7.4382e-17, -1.35603e-16, 6.88513e-16, 2.96375e-16, 9.71483e-16, -8.59149e-17, -3.3548e-16  …  -7.90706e-15, 4.78076e-15, 3.50001e-14, -6.25853e-14, 1.10685e-13, 1.03788e-13, -4.08027e-13, 4.26908e-13, -8.68212e-14, 3.79464e-15], [-1.48744e-16, -4.02561, -1.36842e-16, 7.44828e-17, -1.37529e-16, 6.91209e-16, 2.96862e-16, 9.75171e-16, -8.53788e-17, -3.35026e-16  …  -7.9364e-15, 4.79799e-15, 3.50599e-14, -6.27141e-14, 1.10941e-13, 1.03978e-13, -4.08689e-13, 4.2764e-13, -8.6953e-14, 3.82742e-15], [-1.49136e-16, -4.0354, -1.37986e-16, 7.45833e-17, -1.39446e-16, 6.93915e-16, 2.9735e-16, 9.78881e-16, -8.48217e-17, -3.3454e-16  …  -7.96568e-15, 4.81528e-15, 3.51198e-14, -6.28429e-14, 1.11198e-13, 1.04169e-13, -4.09352e-13, 4.28373e-13, -8.7085e-14, 3.86018e-15], [-1.49528e-16, -4.04519, -1.39146e-16, 7.46837e-17, -1.41354e-16, 6.96622e-16, 2.97839e-16, 9.82608e-16, -8.42492e-17, -3.3403e-16  …  -7.99494e-15, 4.83262e-15, 3.51799e-14, -6.29717e-14, 1.11454e-13, 1.0436e-13, -4.10015e-13, 4.29105e-13, -8.7217e-14, 3.89291e-15], [-1.49921e-16, -4.055, -1.40314e-16, 7.47842e-17, -1.43276e-16, 6.99342e-16, 2.98327e-16, 9.86348e-16, -8.36742e-17, -3.33506e-16  …  -8.02426e-15, 4.85006e-15, 3.52402e-14, -6.31006e-14, 1.1171e-13, 1.04552e-13, -4.10679e-13, 4.29838e-13, -8.73487e-14, 3.92562e-15]], RigidBodyDynamics.CustomCollections.SegmentedVector{RigidBodyDynamics.JointID,Float64,Base.OneTo{RigidBodyDynamics.JointID},Array{Float64,1}}[[0.0, 0.0, 0.0, 0.0, 0.0, 0.0, 0.0, 0.0, 0.0, 0.0  …  0.0, 0.0, 0.0, 0.0, 0.0, 0.0, 0.0, 0.0, 0.0, 0.0], [-2.59164e-19, -0.00981, 4.54464e-18, 4.43673e-19, 1.45458e-18, -1.67198e-20, 5.28545e-19, -2.68053e-18, -5.71841e-18, -8.72351e-18  …  -1.53436e-17, 1.56694e-17, 7.53971e-17, -1.3022e-16, -7.65889e-17, 3.65589e-16, -1.1137e-15, 1.15089e-15, -3.63341e-16, -1.48251e-16], [-5.1828e-19, -0.01962, 9.0857e-18, 8.65579e-19, 8.2709e-19, 2.04821e-18, 1.06362e-18, -5.01623e-18, -1.17752e-17, -1.74404e-17  …  -3.58916e-17, 3.65482e-17, 1.51451e-16, -2.60434e-16, 1.61969e-16, 7.31179e-16, -2.23194e-15, 2.30179e-15, -9.52015e-16, -2.96502e-16], [-7.75412e-19, -0.02943, 1.36719e-17, 1.28836e-18, 8.2158e-19, 3.48437e-18, 1.59813e-18, -7.51347e-18, -1.77679e-17, -2.62253e-17  …  -5.47585e-17, 5.57628e-17, 2.275e-16, -3.90648e-16, 3.94894e-16, 1.09677e-15, -3.35021e-15, 3.45268e-15, -1.49707e-15, -4.44753e-16], [-1.031e-18, -0.03924, 1.82498e-17, 1.71332e-18, 1.49446e-18, 4.24729e-18, 2.13115e-18, -1.01094e-17, -2.36579e-17, -3.49891e-17  …  -7.19952e-17, 7.34442e-17, 3.02902e-16, -5.20865e-16, 5.36614e-16, 1.46224e-15, -4.46396e-15, 4.60358e-15, -1.77895e-15, -5.92919e-16], [-1.25752e-18, -0.04905, 2.30412e-17, 2.16429e-18, 2.20695e-18, 4.84387e-18, 2.66017e-18, -1.30097e-17, -2.9797e-17, -4.40071e-17  …  -8.86086e-17, 9.10065e-17, 3.79526e-16, -6.51081e-16, 3.80121e-16, 1.82782e-15, -5.58713e-15, 5.75447e-15, -1.9663e-15, -7.4117e-16], [-1.5101e-18, -0.05886, 2.75443e-17, 2.57711e-18, 2.60491e-18, 5.81826e-18, 3.17066e-18, -1.54206e-17, -3.57102e-17, -5.2627e-17  …  -1.07265e-16, 1.09842e-16, 4.54922e-16, -7.81285e-16, 4.58814e-16, 2.15763e-15, -6.7009e-15, 6.90534e-15, -2.20311e-15, -8.89507e-16], [-1.9311e-18, -0.06867, 3.11313e-17, 2.92742e-18, 1.86108e-18, 8.37083e-18, 3.58289e-18, -1.62279e-17, -4.05218e-17, -6.02946e-17  …  -1.3195e-16, 1.30042e-16, 5.28438e-16, -9.11434e-16, 2.96632e-16, 2.30854e-15, -7.8007e-15, 8.05608e-15, -2.34696e-15, -1.03827e-15], [-2.31896e-18, -0.07848, 3.4858e-17, 3.26159e-18, 1.27778e-18, 1.06342e-17, 3.99589e-18, -1.72508e-17, -4.55451e-17, -6.80756e-17  …  -1.56131e-16, 1.50361e-16, 6.02602e-16, -1.04158e-15, 3.8657e-16, 2.45944e-15, -8.90506e-15, 9.20682e-15, -2.67108e-15, -1.18703e-15], [-2.7106e-18, -0.08829, 3.85471e-17, 3.75629e-18, 6.08508e-19, 1.30056e-17, 4.60109e-18, -1.82075e-17, -5.05583e-17, -7.58008e-17  …  -1.80637e-16, 1.71096e-16, 6.77975e-16, -1.17185e-15, 2.24419e-16, 2.96824e-15, -1.00189e-14, 1.03578e-14, -2.81485e-15, -1.3352e-15]  …  [8.80242e-16, -9.72171, -1.026e-15, 1.02283e-16, -1.9105e-15, 2.61896e-15, 4.89285e-16, 3.57037e-15, 4.66482e-16, 3.03127e-16  …  -2.91598e-14, 1.66265e-14, 5.87541e-14, -1.28537e-13, 2.58045e-13, 1.90661e-13, -6.59623e-13, 7.30455e-13, -1.32207e-13, 3.11919e-14], [8.91579e-16, -9.73152, -1.04249e-15, 1.01901e-16, -1.92225e-15, 2.62857e-15, 4.89201e-16, 3.59275e-15, 4.78696e-16, 3.31173e-16  …  -2.92604e-14, 1.672e-14, 5.89515e-14, -1.28559e-13, 2.5765e-13, 1.90465e-13, -6.60073e-13, 7.3065e-13, -1.31566e-13, 3.17279e-14], [9.02343e-16, -9.74133, -1.06038e-15, 1.01602e-16, -1.91849e-15, 2.63434e-15, 4.88942e-16, 3.61382e-15, 4.93837e-16, 3.58753e-16  …  -2.92727e-14, 1.68074e-14, 5.91362e-14, -1.28668e-13, 2.56987e-13, 1.90331e-13, -6.60564e-13, 7.30949e-13, -1.31361e-13, 3.21713e-14], [9.13021e-16, -9.75114, -1.08551e-15, 1.01064e-16, -1.92286e-15, 2.65863e-15, 4.88328e-16, 3.64406e-15, 5.11748e-16, 3.97085e-16  …  -2.93331e-14, 1.69517e-14, 5.92787e-14, -1.28825e-13, 2.57126e-13, 1.90208e-13, -6.60676e-13, 7.31636e-13, -1.31573e-13, 3.23095e-14], [9.24946e-16, -9.76095, -1.09667e-15, 1.00917e-16, -1.93411e-15, 2.67658e-15, 4.88004e-16, 3.65958e-15, 5.15444e-16, 4.15708e-16  …  -2.93837e-14, 1.70841e-14, 5.94743e-14, -1.28817e-13, 2.56923e-13, 1.90108e-13, -6.6114e-13, 7.31664e-13, -1.31463e-13, 3.25401e-14], [9.35594e-16, -9.77076, -1.11329e-15, 1.00862e-16, -1.92768e-15, 2.69188e-15, 4.87828e-16, 3.67832e-15, 5.28941e-16, 4.38349e-16  …  -2.93578e-14, 1.71847e-14, 5.96275e-14, -1.28842e-13, 2.56864e-13, 1.90505e-13, -6.61739e-13, 7.32085e-13, -1.31745e-13, 3.27112e-14], [9.47405e-16, -9.78057, -1.13203e-15, 1.00709e-16, -1.92295e-15, 2.70347e-15, 4.87702e-16, 3.69725e-15, 5.43549e-16, 4.68295e-16  …  -2.93043e-14, 1.72843e-14, 5.98772e-14, -1.28793e-13, 2.56435e-13, 1.90915e-13, -6.626e-13, 7.32174e-13, -1.31932e-13, 3.27711e-14], [9.58521e-16, -9.79038, -1.15509e-15, 1.00351e-16, -1.91038e-15, 2.70592e-15, 4.88557e-16, 3.72145e-15, 5.68439e-16, 5.02203e-16  …  -2.92639e-14, 1.72997e-14, 6.00076e-14, -1.28745e-13, 2.56357e-13, 1.91058e-13, -6.63171e-13, 7.32314e-13, -1.31952e-13, 3.27476e-14], [9.70877e-16, -9.80019, -1.1656e-15, 1.00381e-16, -1.91225e-15, 2.71336e-15, 4.88465e-16, 3.73454e-15, 5.757e-16, 5.18674e-16  …  -2.92782e-14, 1.73918e-14, 6.01454e-14, -1.28827e-13, 2.56079e-13, 1.91227e-13, -6.63513e-13, 7.32796e-13, -1.31872e-13, 3.28088e-14], [9.84202e-16, -9.81, -1.17252e-15, 1.00476e-16, -1.9302e-15, 2.72674e-15, 4.87693e-16, 3.74648e-15, 5.76322e-16, 5.32178e-16  …  -2.93542e-14, 1.74798e-14, 6.03908e-14, -1.28938e-13, 2.56059e-13, 1.91606e-13, -6.63967e-13, 7.33367e-13, -1.31577e-13, 3.25595e-14]])"
      ]
     },
     "execution_count": 50,
     "metadata": {},
     "output_type": "execute_result"
    }
   ],
   "source": [
    "ts, qs, vs = RigidBodyDynamics.simulate(init_atlas!(MechanismState(atlas)), 1.0, \n",
    "    ((τ, t, state) -> τ .= 0); \n",
    "    Δt=0.001)"
   ]
  },
  {
   "cell_type": "code",
   "execution_count": 51,
   "metadata": {},
   "outputs": [
    {
     "data": {
      "text/plain": [
       "true"
      ]
     },
     "execution_count": 51,
     "metadata": {},
     "output_type": "execute_result"
    }
   ],
   "source": [
    "setanimation!(mvis, ts, qs)"
   ]
  },
  {
   "cell_type": "code",
   "execution_count": null,
   "metadata": {},
   "outputs": [],
   "source": []
  }
 ],
 "metadata": {
  "kernelspec": {
   "display_name": "Julia 0.6.3",
   "language": "julia",
   "name": "julia-0.6"
  },
  "language_info": {
   "file_extension": ".jl",
   "mimetype": "application/julia",
   "name": "julia",
   "version": "0.6.3"
  }
 },
 "nbformat": 4,
 "nbformat_minor": 2
}
