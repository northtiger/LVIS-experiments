{
 "cells": [
  {
   "cell_type": "code",
   "execution_count": 1,
   "metadata": {},
   "outputs": [
    {
     "name": "stderr",
     "output_type": "stream",
     "text": [
      "\u001b[1m\u001b[36mINFO: \u001b[39m\u001b[22m\u001b[36mRecompiling stale cache file /home/rdeits/locomotion/explorations/learning-mpc-2/packages/lib/v0.6/Revise.ji for module Revise.\n",
      "\u001b[39m"
     ]
    }
   ],
   "source": [
    "using Revise"
   ]
  },
  {
   "cell_type": "code",
   "execution_count": 5,
   "metadata": {},
   "outputs": [
    {
     "name": "stderr",
     "output_type": "stream",
     "text": [
      "\u001b[1m\u001b[36mINFO: \u001b[39m\u001b[22m\u001b[36mPrecompiling module AtlasRobot.\n",
      "\u001b[39m"
     ]
    }
   ],
   "source": [
    "using RigidBodyDynamics\n",
    "using AtlasRobot"
   ]
  },
  {
   "cell_type": "code",
   "execution_count": 6,
   "metadata": {},
   "outputs": [
    {
     "data": {
      "text/plain": [
       "Spanning tree:\n",
       "Vertex: world (root)\n",
       "  Vertex: pelvis, Edge: pelvis_to_world\n",
       "    Vertex: ltorso, Edge: back_bkz\n",
       "      Vertex: mtorso, Edge: back_bky\n",
       "        Vertex: utorso, Edge: back_bkx\n",
       "          Vertex: l_clav, Edge: l_arm_shz\n",
       "            Vertex: l_scap, Edge: l_arm_shx\n",
       "              Vertex: l_uarm, Edge: l_arm_ely\n",
       "                Vertex: l_larm, Edge: l_arm_elx\n",
       "                  Vertex: l_ufarm, Edge: l_arm_uwy\n",
       "                    Vertex: l_lfarm, Edge: l_arm_mwx\n",
       "                      Vertex: l_hand, Edge: l_arm_lwy\n",
       "          Vertex: head, Edge: neck_ay\n",
       "          Vertex: r_clav, Edge: r_arm_shz\n",
       "            Vertex: r_scap, Edge: r_arm_shx\n",
       "              Vertex: r_uarm, Edge: r_arm_ely\n",
       "                Vertex: r_larm, Edge: r_arm_elx\n",
       "                  Vertex: r_ufarm, Edge: r_arm_uwy\n",
       "                    Vertex: r_lfarm, Edge: r_arm_mwx\n",
       "                      Vertex: r_hand, Edge: r_arm_lwy\n",
       "    Vertex: l_uglut, Edge: l_leg_hpz\n",
       "      Vertex: l_lglut, Edge: l_leg_hpx\n",
       "        Vertex: l_uleg, Edge: l_leg_hpy\n",
       "          Vertex: l_lleg, Edge: l_leg_kny\n",
       "            Vertex: l_talus, Edge: l_leg_aky\n",
       "              Vertex: l_foot, Edge: l_leg_akx\n",
       "    Vertex: r_uglut, Edge: r_leg_hpz\n",
       "      Vertex: r_lglut, Edge: r_leg_hpx\n",
       "        Vertex: r_uleg, Edge: r_leg_hpy\n",
       "          Vertex: r_lleg, Edge: r_leg_kny\n",
       "            Vertex: r_talus, Edge: r_leg_aky\n",
       "              Vertex: r_foot, Edge: r_leg_akx\n",
       "No non-tree joints."
      ]
     },
     "execution_count": 6,
     "metadata": {},
     "output_type": "execute_result"
    }
   ],
   "source": [
    "robot = AtlasRobot.mechanism()"
   ]
  },
  {
   "cell_type": "code",
   "execution_count": 7,
   "metadata": {},
   "outputs": [
    {
     "data": {
      "text/plain": [
       "StateCache{…}(…)"
      ]
     },
     "execution_count": 7,
     "metadata": {},
     "output_type": "execute_result"
    }
   ],
   "source": [
    "cache = StateCache(robot)"
   ]
  },
  {
   "cell_type": "code",
   "execution_count": 8,
   "metadata": {},
   "outputs": [
    {
     "name": "stderr",
     "output_type": "stream",
     "text": [
      "\u001b[1m\u001b[36mINFO: \u001b[39m\u001b[22m\u001b[36mRecompiling stale cache file /home/rdeits/locomotion/explorations/learning-mpc-2/packages/lib/v0.6/ForwardDiff.ji for module ForwardDiff.\n",
      "\u001b[39m"
     ]
    }
   ],
   "source": [
    "using ForwardDiff"
   ]
  },
  {
   "cell_type": "code",
   "execution_count": 9,
   "metadata": {},
   "outputs": [
    {
     "data": {
      "text/plain": [
       "3-element StaticArrays.SArray{Tuple{3},Float64,1,3}:\n",
       "  0.0   \n",
       "  0.1115\n",
       " -0.862 "
      ]
     },
     "execution_count": 9,
     "metadata": {},
     "output_type": "execute_result"
    }
   ],
   "source": [
    "translation(transform_to_root(cache[Float64], default_frame(findbody(robot, \"l_foot\"))))"
   ]
  },
  {
   "cell_type": "code",
   "execution_count": 27,
   "metadata": {},
   "outputs": [
    {
     "data": {
      "text/plain": [
       "tform (generic function with 2 methods)"
      ]
     },
     "execution_count": 27,
     "metadata": {},
     "output_type": "execute_result"
    }
   ],
   "source": [
    "function tform(frame, q)\n",
    "    state = cache[eltype(q)]\n",
    "    set_configuration!(state, q)\n",
    "    translation(transform_to_root(state, frame))\n",
    "end"
   ]
  },
  {
   "cell_type": "code",
   "execution_count": 30,
   "metadata": {},
   "outputs": [
    {
     "data": {
      "text/plain": [
       "3×37 Array{Float64,2}:\n",
       " 0.0  0.0    -1.724  -0.223  1.0  0.0  …  0.0  0.0  0.0  0.0  0.0  0.0  0.0\n",
       " 0.0  1.724   0.0     0.0    0.0  1.0     0.0  0.0  0.0  0.0  0.0  0.0  0.0\n",
       " 0.0  0.223   0.0     0.0    0.0  0.0     0.0  0.0  0.0  0.0  0.0  0.0  0.0"
      ]
     },
     "execution_count": 30,
     "metadata": {},
     "output_type": "execute_result"
    }
   ],
   "source": [
    "frame = default_frame(findbody(robot, \"l_foot\"))\n",
    "q = configuration(MechanismState(robot))\n",
    "ForwardDiff.jacobian(q -> tform(frame, q), q)"
   ]
  },
  {
   "cell_type": "code",
   "execution_count": 31,
   "metadata": {},
   "outputs": [
    {
     "name": "stderr",
     "output_type": "stream",
     "text": [
      "\u001b[1m\u001b[36mINFO: \u001b[39m\u001b[22m\u001b[36mRecompiling stale cache file /home/rdeits/locomotion/explorations/learning-mpc-2/packages/lib/v0.6/BenchmarkTools.ji for module BenchmarkTools.\n",
      "\u001b[39m"
     ]
    }
   ],
   "source": [
    "using BenchmarkTools"
   ]
  },
  {
   "cell_type": "code",
   "execution_count": 32,
   "metadata": {},
   "outputs": [
    {
     "name": "stdout",
     "output_type": "stream",
     "text": [
      "  212.050 μs (168 allocations: 55.44 KiB)\n"
     ]
    },
    {
     "data": {
      "text/plain": [
       "3×37 Array{Float64,2}:\n",
       " 0.0  0.0    -1.724  -0.223  1.0  0.0  …  0.0  0.0  0.0  0.0  0.0  0.0  0.0\n",
       " 0.0  1.724   0.0     0.0    0.0  1.0     0.0  0.0  0.0  0.0  0.0  0.0  0.0\n",
       " 0.0  0.223   0.0     0.0    0.0  0.0     0.0  0.0  0.0  0.0  0.0  0.0  0.0"
      ]
     },
     "execution_count": 32,
     "metadata": {},
     "output_type": "execute_result"
    }
   ],
   "source": [
    "@btime ForwardDiff.jacobian(q -> tform($frame, q), $q)"
   ]
  },
  {
   "cell_type": "code",
   "execution_count": null,
   "metadata": {},
   "outputs": [],
   "source": []
  }
 ],
 "metadata": {
  "kernelspec": {
   "display_name": "Julia 0.6.3",
   "language": "julia",
   "name": "julia-0.6"
  },
  "language_info": {
   "file_extension": ".jl",
   "mimetype": "application/julia",
   "name": "julia",
   "version": "0.6.3"
  }
 },
 "nbformat": 4,
 "nbformat_minor": 2
}
