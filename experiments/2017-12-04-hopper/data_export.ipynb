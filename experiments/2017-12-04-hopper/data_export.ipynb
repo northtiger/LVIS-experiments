{
 "cells": [
  {
   "cell_type": "code",
   "execution_count": 1,
   "metadata": {},
   "outputs": [
    {
     "name": "stderr",
     "output_type": "stream",
     "text": [
      "\u001b[1m\u001b[36mINFO: \u001b[39m\u001b[22m\u001b[36mRecompiling stale cache file /home/rdeits/locomotion/explorations/learning-mpc/packages/lib/v0.6/Revise.ji for module Revise.\n",
      "\u001b[39m"
     ]
    }
   ],
   "source": [
    "using Revise"
   ]
  },
  {
   "cell_type": "code",
   "execution_count": 29,
   "metadata": {},
   "outputs": [
    {
     "name": "stderr",
     "output_type": "stream",
     "text": [
      "\u001b[1m\u001b[36mINFO: \u001b[39m\u001b[22m\u001b[36mPrecompiling module CSV.\n",
      "\u001b[39m"
     ]
    }
   ],
   "source": [
    "using Plots; gr()\n",
    "using JLD2\n",
    "using FileIO\n",
    "using DataFrames\n",
    "using CSV"
   ]
  },
  {
   "cell_type": "code",
   "execution_count": 6,
   "metadata": {},
   "outputs": [],
   "source": [
    "import LCPSim\n",
    "import LearningMPC\n",
    "import Hoppers\n",
    "import Nets"
   ]
  },
  {
   "cell_type": "code",
   "execution_count": 7,
   "metadata": {},
   "outputs": [
    {
     "data": {
      "text/plain": [
       "Dict{String,Any} with 2 entries:\n",
       "  \"snapshots\" => LearningMPC.Snapshot{Float64}[LearningMPC.Snapshot{Float64}([1…\n",
       "  \"dataset\"   => LearningMPC.Dataset{Float64}(LearningMPC.LQRSolution, Learning…"
      ]
     },
     "execution_count": 7,
     "metadata": {},
     "output_type": "execute_result"
    }
   ],
   "source": [
    "data = load(\"hopper-0.5.jld2\")"
   ]
  },
  {
   "cell_type": "code",
   "execution_count": 23,
   "metadata": {},
   "outputs": [
    {
     "data": {
      "text/plain": [
       "LearningMPC.Sample{Float64}([0.25, 0.25, -0.32893, -0.32893], [-0.0 -5.54794e-14 … 2.91496e-15 2.99889e-29; 40.0 3.80482e-14 … 9.29637e-15 5.0863e-22], [925.549, 386.659], LearningMPC.MIPResults\n",
       "  solvetime_s: Float64 0.03131890296936035\n",
       "  objective_value: Float64 159.11890792096466\n",
       "  objective_bound: Float64 143.46709466893594\n",
       ")"
      ]
     },
     "execution_count": 23,
     "metadata": {},
     "output_type": "execute_result"
    }
   ],
   "source": [
    "sample = data[\"dataset\"].training_data[1]"
   ]
  },
  {
   "cell_type": "code",
   "execution_count": 21,
   "metadata": {},
   "outputs": [
    {
     "name": "stderr",
     "output_type": "stream",
     "text": [
      "\u001b[1m\u001b[36mINFO: \u001b[39m\u001b[22m\u001b[36mPrecompiling module DataFrames.\n",
      "\u001b[39m"
     ]
    }
   ],
   "source": []
  },
  {
   "cell_type": "code",
   "execution_count": 24,
   "metadata": {
    "collapsed": true
   },
   "outputs": [],
   "source": [
    "function Base.convert(DataFrame, samples::AbstractArray{<:LearningMPC.Sample})\n",
    "    df = DataFrame()\n",
    "    s = first(samples)\n",
    "    for i in 1:length(s.state)\n",
    "        df[Symbol(\"x$i\")] = [s.state[i] for s in samples]\n",
    "    end\n",
    "    for i in 1:size(s.uJ, 1)\n",
    "        df[Symbol(\"u$i\")] = [s.uJ[i, 1] for s in samples]\n",
    "    end\n",
    "    for i in 1:size(s.uJ, 1)\n",
    "        for j in 2:size(s.uJ, 2)\n",
    "            df[Symbol(\"J_{$i, $(j-1)}\")] = [s.uJ[i, j] for s in samples]\n",
    "        end\n",
    "    end\n",
    "    df\n",
    "end"
   ]
  },
  {
   "cell_type": "code",
   "execution_count": 30,
   "metadata": {},
   "outputs": [
    {
     "data": {
      "text/html": [
       "<table class=\"data-frame\"><thead><tr><th></th><th>x1</th><th>x2</th><th>x3</th><th>x4</th><th>u1</th><th>u2</th><th>J_{1, 1}</th><th>J_{1, 2}</th><th>J_{1, 3}</th><th>J_{1, 4}</th><th>J_{2, 1}</th><th>J_{2, 2}</th><th>J_{2, 3}</th><th>J_{2, 4}</th></tr></thead><tbody><tr><th>1</th><td>0.25</td><td>0.25</td><td>-0.32893</td><td>-0.32893</td><td>-0.0</td><td>40.0</td><td>-5.54794e-14</td><td>-1.20671e-13</td><td>2.91496e-15</td><td>2.99889e-29</td><td>3.80482e-14</td><td>9.04612e-14</td><td>9.29637e-15</td><td>5.0863e-22</td></tr><tr><th>2</th><td>0.309028</td><td>0.309028</td><td>1.18057</td><td>1.18057</td><td>-0.0</td><td>40.0</td><td>-6.65185e-14</td><td>-4.48046e-14</td><td>2.57747e-15</td><td>-3.71337e-31</td><td>-2.27359e-14</td><td>1.66328e-13</td><td>-4.82253e-15</td><td>-1.29121e-21</td></tr><tr><th>3</th><td>0.443532</td><td>0.443532</td><td>2.69007</td><td>2.69007</td><td>-0.0</td><td>33.4645</td><td>1.61717e-15</td><td>8.65675e-17</td><td>7.02041e-16</td><td>8.33646e-22</td><td>-51.6519</td><td>7.67282</td><td>-19.8464</td><td>-1.31783e-7</td></tr><tr><th>4</th><td>0.81305</td><td>0.81305</td><td>3.51757</td><td>3.51756</td><td>-0.0</td><td>14.2384</td><td>1.90738e-14</td><td>3.07615e-20</td><td>-1.23023e-15</td><td>-1.46652e-21</td><td>-399.965</td><td>-0.00313</td><td>-20.0</td><td>-1.23018e-11</td></tr><tr><th>5</th><td>1.36271</td><td>1.0</td><td>1.92758</td><td>0.0</td><td>-0.0</td><td>1.02319</td><td>1.02621e-13</td><td>2.26742e-14</td><td>7.13539e-14</td><td>5.59762e-15</td><td>1.76802e-6</td><td>-32.5675</td><td>8.2928e-7</td><td>-1.62838</td></tr><tr><th>6</th><td>1.43457</td><td>1.0</td><td>1.43708</td><td>0.0</td><td>-0.0</td><td>1.02319</td><td>-1.05992e-11</td><td>5.23813e-13</td><td>5.65354e-13</td><td>-2.2078e-14</td><td>6.31621e-5</td><td>-32.5675</td><td>2.53079e-5</td><td>-1.62838</td></tr><tr><th>7</th><td>1.50298</td><td>1.0</td><td>-0.0344179</td><td>0.0</td><td>-0.0</td><td>-0.381561</td><td>1.02143e-12</td><td>-9.61392e-15</td><td>-1.8539e-14</td><td>-8.65223e-14</td><td>2.21398e-5</td><td>-36.3636</td><td>5.56771e-6</td><td>-1.81818</td></tr><tr><th>8</th><td>1.42596</td><td>1.0</td><td>-0.99634</td><td>0.209859</td><td>-0.0</td><td>-0.742314</td><td>-1.04946e-13</td><td>-1.3508e-14</td><td>1.13039e-14</td><td>1.80624e-15</td><td>1.10237e-6</td><td>-36.3636</td><td>1.78446e-7</td><td>-1.81818</td></tr><tr><th>9</th><td>1.1265</td><td>1.0</td><td>-2.48692</td><td>0.0</td><td>-0.0</td><td>-3.30637</td><td>-3.77836e-14</td><td>2.68569e-14</td><td>3.54339e-15</td><td>2.75584e-16</td><td>13.3447</td><td>-18.0138</td><td>0.624731</td><td>-1.87176</td></tr><tr><th>10</th><td>0.969362</td><td>0.909075</td><td>-3.14274</td><td>-1.8185</td><td>-0.0</td><td>14.7357</td><td>1.68547e-16</td><td>-2.13048e-20</td><td>5.69196e-16</td><td>9.4935e-22</td><td>-79.9999</td><td>3.90602e-5</td><td>-20.0</td><td>-7.70202e-13</td></tr><tr><th>11</th><td>0.25</td><td>0.25</td><td>6.03961e-14</td><td>0.0</td><td>-0.0</td><td>40.0</td><td>-5.54794e-14</td><td>-1.20671e-13</td><td>2.91496e-15</td><td>2.99889e-29</td><td>3.80482e-14</td><td>9.04612e-14</td><td>9.29637e-15</td><td>5.0863e-22</td></tr><tr><th>12</th><td>0.423004</td><td>0.423004</td><td>0.797191</td><td>0.79719</td><td>-0.0</td><td>40.0</td><td>-3.54232e-16</td><td>-2.96425e-14</td><td>2.62617e-15</td><td>-1.33079e-29</td><td>-6.94635e-14</td><td>8.88712e-14</td><td>-5.91311e-15</td><td>8.21719e-22</td></tr><tr><th>13</th><td>0.777562</td><td>0.777561</td><td>1.23873</td><td>1.23873</td><td>-0.0</td><td>14.428</td><td>-1.18173e-14</td><td>2.31875e-20</td><td>-3.42939e-16</td><td>1.2379e-21</td><td>-199.996</td><td>0.000164793</td><td>-20.0</td><td>-2.91667e-12</td></tr><tr><th>14</th><td>0.851043</td><td>0.851043</td><td>1.46963</td><td>1.46964</td><td>-0.0</td><td>40.0</td><td>1.90738e-14</td><td>3.07615e-20</td><td>-1.23023e-15</td><td>-1.46652e-21</td><td>-399.965</td><td>-0.00313</td><td>-20.0</td><td>-1.23018e-11</td></tr><tr><th>15</th><td>1.29641</td><td>1.0</td><td>0.746297</td><td>0.0</td><td>-0.0</td><td>-0.266361</td><td>1.24822e-13</td><td>-5.5449e-15</td><td>5.64103e-14</td><td>1.19993e-15</td><td>3.22681</td><td>-5.41117</td><td>1.01518</td><td>-1.90534</td></tr><tr><th>16</th><td>1.29746</td><td>1.0</td><td>-0.221385</td><td>0.146498</td><td>-0.0</td><td>-1.06577</td><td>-1.35518e-13</td><td>-2.83477e-14</td><td>-1.41347e-14</td><td>-2.10144e-15</td><td>5.2879</td><td>-7.54828</td><td>1.08331</td><td>-1.91185</td></tr><tr><th>17</th><td>1.02875</td><td>0.760264</td><td>-0.409518</td><td>1.27446</td><td>-0.0</td><td>-1.92</td><td>-3.84047e-14</td><td>-2.83678e-14</td><td>7.91911e-15</td><td>9.41514e-16</td><td>8.42418</td><td>-12.3202</td><td>0.859886</td><td>-1.89228</td></tr><tr><th>18</th><td>0.97895</td><td>0.771187</td><td>-0.996018</td><td>0.21846</td><td>-0.0</td><td>-0.980158</td><td>-8.01994e-14</td><td>1.10433e-15</td><td>9.56594e-15</td><td>-3.59256e-16</td><td>8.42416</td><td>-12.3202</td><td>0.859884</td><td>-1.89228</td></tr><tr><th>19</th><td>0.902173</td><td>0.755155</td><td>-1.53553</td><td>-0.320628</td><td>-0.0</td><td>-0.147215</td><td>5.24065e-14</td><td>-1.0629e-14</td><td>1.64579e-15</td><td>2.83506e-16</td><td>11.5917</td><td>-17.9815</td><td>0.535609</td><td>-1.86368</td></tr><tr><th>20</th><td>0.68099</td><td>0.680989</td><td>-2.39028</td><td>-1.08172</td><td>-0.0</td><td>27.2975</td><td>2.80642e-14</td><td>-1.24629e-14</td><td>-1.48116e-15</td><td>5.44824e-22</td><td>-281.436</td><td>131.459</td><td>-17.3682</td><td>-2.25785e-6</td></tr><tr><th>21</th><td>0.40008</td><td>0.40008</td><td>-2.2296</td><td>-2.2296</td><td>-0.0</td><td>40.0</td><td>-1.10181e-13</td><td>-4.8723e-14</td><td>-4.46015e-14</td><td>6.69961e-28</td><td>-5.19499e-13</td><td>-4.38962e-14</td><td>-8.24214e-14</td><td>1.13463e-22</td></tr><tr><th>22</th><td>0.310241</td><td>0.310241</td><td>-1.07668</td><td>-1.07668</td><td>-0.0</td><td>40.0</td><td>-3.04118e-13</td><td>4.00345e-14</td><td>1.80742e-13</td><td>5.0508e-28</td><td>-1.77824e-13</td><td>2.37935e-14</td><td>-2.22671e-13</td><td>1.38867e-21</td></tr><tr><th>23</th><td>0.25</td><td>0.25</td><td>-0.797868</td><td>-0.797868</td><td>-0.0</td><td>40.0</td><td>-3.04118e-13</td><td>4.00345e-14</td><td>1.80742e-13</td><td>5.0508e-28</td><td>-1.77824e-13</td><td>2.37935e-14</td><td>-2.22671e-13</td><td>1.38867e-21</td></tr><tr><th>24</th><td>0.303298</td><td>0.303298</td><td>-0.00100885</td><td>-0.00100884</td><td>-0.0</td><td>40.0</td><td>-1.23063e-13</td><td>7.73435e-14</td><td>-2.81717e-14</td><td>7.25051e-29</td><td>3.03741e-14</td><td>-2.66888e-15</td><td>-2.39836e-14</td><td>-1.24317e-22</td></tr><tr><th>25</th><td>0.436341</td><td>0.436341</td><td>1.15238</td><td>1.15238</td><td>-0.0</td><td>36.7176</td><td>1.85266e-14</td><td>2.07726e-16</td><td>1.41186e-16</td><td>-4.70199e-22</td><td>-353.534</td><td>46.3732</td><td>-19.0716</td><td>-7.96477e-7</td></tr><tr><th>26</th><td>0.561229</td><td>0.561229</td><td>2.49776</td><td>2.49777</td><td>-0.0</td><td>32.0978</td><td>-1.19781e-16</td><td>9.26275e-17</td><td>1.67723e-15</td><td>1.6153e-21</td><td>-59.5164</td><td>7.17316</td><td>-19.8564</td><td>-1.23202e-7</td></tr><tr><th>27</th><td>0.741837</td><td>0.741837</td><td>3.61215</td><td>3.61216</td><td>-0.0</td><td>40.0</td><td>6.28542e-14</td><td>6.07251e-14</td><td>-1.12534e-13</td><td>9.63775e-29</td><td>-7.15029e-14</td><td>5.82265e-14</td><td>1.96613e-13</td><td>-2.20783e-22</td></tr><tr><th>28</th><td>1.20639</td><td>1.0</td><td>4.16933</td><td>0.0416021</td><td>-0.0</td><td>2.6832</td><td>4.36903e-13</td><td>2.98931e-14</td><td>1.57016e-13</td><td>1.05088e-15</td><td>2.36974e-6</td><td>-32.5675</td><td>1.07304e-6</td><td>-1.62838</td></tr><tr><th>29</th><td>1.39014</td><td>1.0</td><td>3.67505</td><td>0.0</td><td>-0.0</td><td>2.68251</td><td>1.94538e-13</td><td>-3.50992e-14</td><td>-9.04603e-14</td><td>-2.32792e-15</td><td>2.37596e-6</td><td>-32.5675</td><td>1.11064e-6</td><td>-1.62838</td></tr><tr><th>30</th><td>1.54937</td><td>1.0</td><td>3.18455</td><td>0.0</td><td>-0.0</td><td>2.68204</td><td>-3.53846e-16</td><td>4.11369e-14</td><td>1.58606e-13</td><td>-2.79641e-15</td><td>2.32308e-6</td><td>-32.5675</td><td>1.0772e-6</td><td>-1.62838</td></tr><tr><th>&vellip;</th><td>&vellip;</td><td>&vellip;</td><td>&vellip;</td><td>&vellip;</td><td>&vellip;</td><td>&vellip;</td><td>&vellip;</td><td>&vellip;</td><td>&vellip;</td><td>&vellip;</td><td>&vellip;</td><td>&vellip;</td><td>&vellip;</td><td>&vellip;</td></tr></tbody></table>"
      ],
      "text/plain": [
       "471×14 DataFrames.DataFrame. Omitted printing of 8 columns\n",
       "│ Row │ x1       │ x2       │ x3          │ x4         │ u1   │ u2        │\n",
       "├─────┼──────────┼──────────┼─────────────┼────────────┼──────┼───────────┤\n",
       "│ 1   │ 0.25     │ 0.25     │ -0.32893    │ -0.32893   │ -0.0 │ 40.0      │\n",
       "│ 2   │ 0.309028 │ 0.309028 │ 1.18057     │ 1.18057    │ -0.0 │ 40.0      │\n",
       "│ 3   │ 0.443532 │ 0.443532 │ 2.69007     │ 2.69007    │ -0.0 │ 33.4645   │\n",
       "│ 4   │ 0.81305  │ 0.81305  │ 3.51757     │ 3.51756    │ -0.0 │ 14.2384   │\n",
       "│ 5   │ 1.36271  │ 1.0      │ 1.92758     │ 0.0        │ -0.0 │ 1.02319   │\n",
       "│ 6   │ 1.43457  │ 1.0      │ 1.43708     │ 0.0        │ -0.0 │ 1.02319   │\n",
       "│ 7   │ 1.50298  │ 1.0      │ -0.0344179  │ 0.0        │ -0.0 │ -0.381561 │\n",
       "│ 8   │ 1.42596  │ 1.0      │ -0.99634    │ 0.209859   │ -0.0 │ -0.742314 │\n",
       "│ 9   │ 1.1265   │ 1.0      │ -2.48692    │ 0.0        │ -0.0 │ -3.30637  │\n",
       "│ 10  │ 0.969362 │ 0.909075 │ -3.14274    │ -1.8185    │ -0.0 │ 14.7357   │\n",
       "│ 11  │ 0.25     │ 0.25     │ 6.03961e-14 │ 0.0        │ -0.0 │ 40.0      │\n",
       "⋮\n",
       "│ 460 │ 0.702584 │ 0.702584 │ -2.46322    │ -1.50163   │ -0.0 │ 25.325    │\n",
       "│ 461 │ 0.61821  │ 0.61821  │ -1.68747    │ -1.68747   │ -0.0 │ 36.4533   │\n",
       "│ 462 │ 0.600445 │ 0.600445 │ -0.355302   │ -0.355302  │ -0.0 │ 40.0      │\n",
       "│ 463 │ 0.658155 │ 0.658155 │ 1.1542      │ 1.1542     │ -0.0 │ 40.0      │\n",
       "│ 464 │ 1.23573  │ 0.943572 │ 0.715003    │ -0.288136  │ -0.0 │ 0.360411  │\n",
       "│ 465 │ 1.24785  │ 0.939077 │ 0.242524    │ -0.0899099 │ -0.0 │ -0.146361 │\n",
       "│ 466 │ 1.23509  │ 0.930556 │ -0.255294   │ -0.170408  │ -0.0 │ -0.302265 │\n",
       "│ 467 │ 1.13347  │ 0.885801 │ -1.27157    │ -0.558448  │ -0.0 │ -0.494894 │\n",
       "│ 468 │ 0.942215 │ 0.934241 │ -2.03822    │ 1.79944    │ -0.0 │ -5.18284  │\n",
       "│ 469 │ 0.708176 │ 0.708176 │ 0.939926    │ 0.939926   │ -0.0 │ 34.2813   │\n",
       "│ 470 │ 1.06028  │ 0.995565 │ 1.01903     │ -0.0886938 │ -0.0 │ -0.452534 │\n",
       "│ 471 │ 1.08379  │ 0.933735 │ -0.0356384  │ -0.899013  │ -0.0 │ 0.65466   │"
      ]
     },
     "execution_count": 30,
     "metadata": {},
     "output_type": "execute_result"
    }
   ],
   "source": [
    "train_df = convert(DataFrame, data[\"dataset\"].training_data)"
   ]
  },
  {
   "cell_type": "code",
   "execution_count": 32,
   "metadata": {},
   "outputs": [
    {
     "data": {
      "text/plain": [
       "CSV.Sink{DateFormat{Symbol(\"yyyy-mm-dd\"),Tuple{Base.Dates.DatePart{'y'},Base.Dates.Delim{Char,1},Base.Dates.DatePart{'m'},Base.Dates.Delim{Char,1},Base.Dates.DatePart{'d'}}},DataType}(    CSV.Options:\n",
       "        delim: ','\n",
       "        quotechar: '\"'\n",
       "        escapechar: '\\\\'\n",
       "        null: \"\"\n",
       "        dateformat: dateformat\"yyyy-mm-dd\"\n",
       "        decimal: '.'\n",
       "        truestring: 'true'\n",
       "        falsestring: 'false', IOBuffer(data=UInt8[...], readable=true, writable=true, seekable=true, append=false, size=0, maxsize=Inf, ptr=1, mark=-1), \"testing.csv\", 90, true, String[\"x1\", \"x2\", \"x3\", \"x4\", \"u1\", \"u2\", \"J_{1, 1}\", \"J_{1, 2}\", \"J_{1, 3}\", \"J_{1, 4}\", \"J_{2, 1}\", \"J_{2, 2}\", \"J_{2, 3}\", \"J_{2, 4}\"], 14, false, Val{false})"
      ]
     },
     "execution_count": 32,
     "metadata": {},
     "output_type": "execute_result"
    }
   ],
   "source": [
    "CSV.write(\"training.csv\", train_df)\n",
    "CSV.write(\"validation.csv\", convert(DataFrame, data[\"dataset\"].validation_data))\n",
    "CSV.write(\"testing.csv\", convert(DataFrame, data[\"dataset\"].testing_data))\n"
   ]
  },
  {
   "cell_type": "code",
   "execution_count": null,
   "metadata": {
    "collapsed": true
   },
   "outputs": [],
   "source": []
  }
 ],
 "metadata": {
  "kernelspec": {
   "display_name": "Julia 0.6.2",
   "language": "julia",
   "name": "julia-0.6"
  },
  "language_info": {
   "file_extension": ".jl",
   "mimetype": "application/julia",
   "name": "julia",
   "version": "0.6.2"
  }
 },
 "nbformat": 4,
 "nbformat_minor": 2
}
