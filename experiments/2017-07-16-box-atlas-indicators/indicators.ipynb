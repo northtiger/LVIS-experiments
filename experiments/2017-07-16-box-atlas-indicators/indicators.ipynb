{
 "cells": [
  {
   "cell_type": "code",
   "execution_count": 8,
   "metadata": {
    "collapsed": true
   },
   "outputs": [],
   "source": [
    "using Polyhedra"
   ]
  },
  {
   "cell_type": "code",
   "execution_count": 9,
   "metadata": {
    "collapsed": false
   },
   "outputs": [
    {
     "data": {
      "text/plain": [
       "H-representation\n",
       "begin\n",
       " 2 3 real\n",
       " 0.0 -1.0 -0.0\n",
       " 0.0 -0.0 -1.0\n",
       "end"
      ]
     },
     "execution_count": 9,
     "metadata": {},
     "output_type": "execute_result"
    }
   ],
   "source": [
    "h = SimpleHRepresentation(eye(2), zeros(2))"
   ]
  },
  {
   "cell_type": "code",
   "execution_count": 3,
   "metadata": {
    "collapsed": false
   },
   "outputs": [
    {
     "data": {
      "text/plain": [
       "Polyhedra.HRepresentation{2,Float64}"
      ]
     },
     "execution_count": 3,
     "metadata": {},
     "output_type": "execute_result"
    }
   ],
   "source": [
    "supertype(typeof(h))"
   ]
  },
  {
   "cell_type": "code",
   "execution_count": 4,
   "metadata": {
    "collapsed": false
   },
   "outputs": [
    {
     "data": {
      "text/plain": [
       "Polyhedra.SimpleHRepresentation{2,Float64}"
      ]
     },
     "execution_count": 4,
     "metadata": {},
     "output_type": "execute_result"
    }
   ],
   "source": [
    "typeof(h)"
   ]
  },
  {
   "cell_type": "code",
   "execution_count": null,
   "metadata": {
    "collapsed": true
   },
   "outputs": [],
   "source": []
  },
  {
   "cell_type": "code",
   "execution_count": 5,
   "metadata": {
    "collapsed": true
   },
   "outputs": [],
   "source": [
    "using StaticArrays"
   ]
  },
  {
   "cell_type": "code",
   "execution_count": 7,
   "metadata": {
    "collapsed": true
   },
   "outputs": [],
   "source": [
    "struct Foo{T}\n",
    "    position::SVector{2, T}\n",
    "    velocity::SVector{2, T}\n",
    "end"
   ]
  },
  {
   "cell_type": "code",
   "execution_count": 8,
   "metadata": {
    "collapsed": false
   },
   "outputs": [
    {
     "data": {
      "text/plain": [
       "4-element Array{Int64,1}:\n",
       " 1\n",
       " 2\n",
       " 3\n",
       " 4"
      ]
     },
     "execution_count": 8,
     "metadata": {},
     "output_type": "execute_result"
    }
   ],
   "source": [
    "data = [1, 2, 3, 4]"
   ]
  },
  {
   "cell_type": "code",
   "execution_count": 9,
   "metadata": {
    "collapsed": false
   },
   "outputs": [
    {
     "data": {
      "text/plain": [
       "1-element Array{Foo{Int64},1}:\n",
       " Foo{Int64}([1, 2], [3, 4])"
      ]
     },
     "execution_count": 9,
     "metadata": {},
     "output_type": "execute_result"
    }
   ],
   "source": [
    "reinterpret(Foo{Int}, data)"
   ]
  },
  {
   "cell_type": "code",
   "execution_count": 10,
   "metadata": {
    "collapsed": true
   },
   "outputs": [],
   "source": [
    "using JuMP"
   ]
  },
  {
   "cell_type": "code",
   "execution_count": 11,
   "metadata": {
    "collapsed": false
   },
   "outputs": [
    {
     "data": {
      "text/latex": [
       "$$ x_{i} \\quad\\forall i \\in \\{1,2,3,4\\} $$"
      ],
      "text/plain": [
       "4-element Array{JuMP.Variable,1}:\n",
       " x[1]\n",
       " x[2]\n",
       " x[3]\n",
       " x[4]"
      ]
     },
     "execution_count": 11,
     "metadata": {},
     "output_type": "execute_result"
    }
   ],
   "source": [
    "m = Model()\n",
    "@variable m x[1:4]"
   ]
  },
  {
   "cell_type": "code",
   "execution_count": 14,
   "metadata": {
    "collapsed": false
   },
   "outputs": [
    {
     "ename": "LoadError",
     "evalue": "\u001b[91margument is an abstract type; size is indeterminate\u001b[39m",
     "output_type": "error",
     "traceback": [
      "\u001b[91margument is an abstract type; size is indeterminate\u001b[39m",
      "",
      "Stacktrace:",
      " [1] \u001b[1mreinterpret\u001b[22m\u001b[22m\u001b[1m(\u001b[22m\u001b[22m::Type{Ref{Foo{JuMP.Variable}}}, ::Array{JuMP.Variable,1}\u001b[1m)\u001b[22m\u001b[22m at \u001b[1m./array.jl:142\u001b[22m\u001b[22m"
     ]
    }
   ],
   "source": [
    "reinterpret(Ref{Foo{eltype(x)}}, x)"
   ]
  },
  {
   "cell_type": "code",
   "execution_count": 39,
   "metadata": {
    "collapsed": false
   },
   "outputs": [
    {
     "name": "stderr",
     "output_type": "stream",
     "text": [
      "WARNING: replacing module Box\n",
      "WARNING: Method definition convert(Type{Box.State{T}}, AbstractArray{T, 1} where T) in module Box at /home/rdeits/locomotion/explorations/learning-mpc/experiments/2017-07-16-box-atlas-indicators/boxatlas.jl:58 overwritten at /home/rdeits/locomotion/explorations/learning-mpc/experiments/2017-07-16-box-atlas-indicators/boxatlas.jl:83.\n"
     ]
    },
    {
     "data": {
      "text/plain": [
       "Box"
      ]
     },
     "execution_count": 39,
     "metadata": {},
     "output_type": "execute_result"
    }
   ],
   "source": [
    "include(\"boxatlas.jl\")"
   ]
  },
  {
   "cell_type": "code",
   "execution_count": 40,
   "metadata": {
    "collapsed": false
   },
   "outputs": [
    {
     "data": {
      "text/plain": [
       "H-representation\n",
       "begin\n",
       " 4 3 real\n",
       " 1.0 -1.0 -0.0\n",
       " 1.0 -0.0 -1.0\n",
       " 1.0 1.0 0.0\n",
       " 1.0 0.0 1.0\n",
       "end"
      ]
     },
     "execution_count": 40,
     "metadata": {},
     "output_type": "execute_result"
    }
   ],
   "source": [
    "p = Box.from_bounds([-1, -1], [1, 1])"
   ]
  },
  {
   "cell_type": "code",
   "execution_count": 41,
   "metadata": {
    "collapsed": false
   },
   "outputs": [
    {
     "data": {
      "text/plain": [
       "Polyhedra.HalfSpace{2,Float64}([1.0, 0.0], 1.0)"
      ]
     },
     "execution_count": 41,
     "metadata": {},
     "output_type": "execute_result"
    }
   ],
   "source": [
    "h = collect(Box.HRepIter(p))[1]"
   ]
  },
  {
   "cell_type": "code",
   "execution_count": 44,
   "metadata": {
    "collapsed": false
   },
   "outputs": [
    {
     "data": {
      "text/plain": [
       "true"
      ]
     },
     "execution_count": 44,
     "metadata": {},
     "output_type": "execute_result"
    }
   ],
   "source": [
    "h.a' * [0, 0] <= h.β"
   ]
  },
  {
   "cell_type": "code",
   "execution_count": 15,
   "metadata": {
    "collapsed": false
   },
   "outputs": [
    {
     "name": "stdout",
     "output_type": "stream",
     "text": [
      "h = Polyhedra.HalfSpace{2,Float64}([1.0, 0.0], -1.0)\n",
      "h = Polyhedra.HalfSpace{2,Float64}([0.0, 1.0], -1.0)\n",
      "h = Polyhedra.HalfSpace{2,Float64}([-1.0, -0.0], -1.0)\n",
      "h = Polyhedra.HalfSpace{2,Float64}([-0.0, -1.0], -1.0)\n"
     ]
    }
   ],
   "source": [
    "state = starthrep(p)\n",
    "while !donehrep(p, state)\n",
    "    (h, state) = nexthrep(p, state)\n",
    "    @show h\n",
    "end"
   ]
  },
  {
   "cell_type": "code",
   "execution_count": null,
   "metadata": {
    "collapsed": true
   },
   "outputs": [],
   "source": []
  }
 ],
 "metadata": {
  "kernelspec": {
   "display_name": "Julia 0.6.0",
   "language": "julia",
   "name": "julia-0.6"
  },
  "language_info": {
   "file_extension": ".jl",
   "mimetype": "application/julia",
   "name": "julia",
   "version": "0.6.0"
  }
 },
 "nbformat": 4,
 "nbformat_minor": 2
}
