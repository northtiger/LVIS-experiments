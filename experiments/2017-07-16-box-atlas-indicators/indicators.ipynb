{
 "cells": [
  {
   "cell_type": "code",
   "execution_count": 1,
   "metadata": {
    "collapsed": false
   },
   "outputs": [
    {
     "data": {
      "text/plain": [
       "true"
      ]
     },
     "execution_count": 1,
     "metadata": {},
     "output_type": "execute_result"
    }
   ],
   "source": [
    "using CoordinateTransformations\n",
    "using DrakeVisualizer\n",
    "DrakeVisualizer.any_open_windows() || DrakeVisualizer.new_window()"
   ]
  },
  {
   "cell_type": "code",
   "execution_count": 27,
   "metadata": {
    "collapsed": false
   },
   "outputs": [
    {
     "name": "stderr",
     "output_type": "stream",
     "text": [
      "WARNING: replacing module Box\n"
     ]
    },
    {
     "data": {
      "text/plain": [
       "Box"
      ]
     },
     "execution_count": 27,
     "metadata": {},
     "output_type": "execute_result"
    }
   ],
   "source": [
    "include(\"boxatlas.jl\")"
   ]
  },
  {
   "cell_type": "code",
   "execution_count": 28,
   "metadata": {
    "collapsed": false
   },
   "outputs": [
    {
     "data": {
      "text/plain": [
       "Box.BoxAtlas{Float64}\n",
       "  position_limits: Dict{Box.Body,Polyhedra.SimpleHRepresentation{2,Float64}}\n",
       "  velocity_limits: Dict{Box.Body,Polyhedra.SimpleHRepresentation{2,Float64}}\n",
       "  effort_limits: Dict{Box.Body,Float64}\n",
       "  masses: Dict{Box.Body,Float64}\n",
       "  moment_arms: Dict{Box.Body,SVector{2,Float64}}\n",
       "  centroidal_moment_of_inertia: Float64 4.0\n",
       "  stiffness: Float64 1.0\n",
       "  damping: Float64 1.0\n",
       "  gravity: Float64 10.0\n",
       "  viscous_friction: Float64 100.0\n",
       "  μ: Float64 0.5\n",
       "  Δt: Float64 0.1\n"
      ]
     },
     "execution_count": 28,
     "metadata": {},
     "output_type": "execute_result"
    }
   ],
   "source": [
    "model = Box.BoxAtlas(stiffness=1.0, damping=1.0, viscous_friction=100.)"
   ]
  },
  {
   "cell_type": "code",
   "execution_count": 29,
   "metadata": {
    "collapsed": false
   },
   "outputs": [
    {
     "data": {
      "text/plain": [
       "Visualizer with path prefix Symbol[:boxatlas, :environment, :right_wall] using LCM LCMCore.LCM(Ptr{Void} @0x00000000063de210, \"\", RawFD(75), LCMCore.Subscription[LCMCore.Subscription{LCMCore.SubscriptionOptions{DrakeVisualizer.Comms.CommsT,DrakeVisualizer.#handle_msg#9{DrakeVisualizer.CoreVisualizer}}}(LCMCore.SubscriptionOptions{DrakeVisualizer.Comms.CommsT,DrakeVisualizer.#handle_msg#9{DrakeVisualizer.CoreVisualizer}}(DrakeVisualizer.Comms.CommsT, DrakeVisualizer.handle_msg), Ptr{Void} @0x000000000be3fb10)])"
      ]
     },
     "execution_count": 29,
     "metadata": {},
     "output_type": "execute_result"
    }
   ],
   "source": [
    "vis = Visualizer()[:boxatlas]\n",
    "setgeometry!(vis, model)"
   ]
  },
  {
   "cell_type": "code",
   "execution_count": 30,
   "metadata": {
    "collapsed": false
   },
   "outputs": [],
   "source": [
    "state = Box.State(vcat(rand(2), randn(8), 1 * randn(10), 0))\n",
    "input = Box.Input(zeros(8))\n",
    "model.stiffness = 10.\n",
    "model.damping = 10\n",
    "model.gravity = 10.0\n",
    "model.Δt = 0.002\n",
    "for i in 1:1000\n",
    "    settransform!(vis, model, state)\n",
    "    model.stiffness += 10\n",
    "    model.damping = 1.0 * sqrt(model.stiffness)\n",
    "    state, update, acceleration = Box.update(model, state, input)\n",
    "    sleep(0.001)\n",
    "end\n",
    "    "
   ]
  },
  {
   "cell_type": "code",
   "execution_count": 23,
   "metadata": {
    "collapsed": false
   },
   "outputs": [],
   "source": [
    "# state.velocity[Box.Trunk] = [2.0, state.velocity[Box.Trunk][2]]\n",
    "# for i in 1:1000\n",
    "#     settransform!(vis, model, state)\n",
    "#     state, update, acceleration = Box.update(model, state, input)\n",
    "#     sleep(0.001)\n",
    "# end"
   ]
  },
  {
   "cell_type": "code",
   "execution_count": 26,
   "metadata": {
    "collapsed": false,
    "scrolled": true
   },
   "outputs": [
    {
     "ename": "LoadError",
     "evalue": "\u001b[91mBoundsError: attempt to access 0-element Array{JuMP.Variable,1} at index [1]\u001b[39m",
     "output_type": "error",
     "traceback": [
      "\u001b[91mBoundsError: attempt to access 0-element Array{JuMP.Variable,1} at index [1]\u001b[39m",
      "",
      "Stacktrace:",
      " [1] \u001b[1mgetmodel\u001b[22m\u001b[22m\u001b[1m(\u001b[22m\u001b[22m::ConditionalJuMP.Conditional{Base.#<=,2,Tuple{JuMP.GenericAffExpr{Float64,JuMP.Variable},Int64}}\u001b[1m)\u001b[22m\u001b[22m at \u001b[1m/home/rdeits/locomotion/explorations/learning-mpc/packages/v0.6/ConditionalJuMP/src/ConditionalJuMP.jl:60\u001b[22m\u001b[22m",
      " [2] \u001b[1mswitch\u001b[22m\u001b[22m\u001b[1m(\u001b[22m\u001b[22m::Pair{ConditionalJuMP.Conditional{Base.#<=,2,Tuple{JuMP.GenericAffExpr{Float64,JuMP.Variable},Int64}},JuMP.GenericAffExpr{Float64,JuMP.Variable}}, ::Vararg{Pair,N} where N\u001b[1m)\u001b[22m\u001b[22m at \u001b[1m/home/rdeits/locomotion/explorations/learning-mpc/packages/v0.6/ConditionalJuMP/src/ConditionalJuMP.jl:363\u001b[22m\u001b[22m",
      " [3] \u001b[1mupdate\u001b[22m\u001b[22m\u001b[1m(\u001b[22m\u001b[22m::Box.BoxAtlas{Float64}, ::Box.State{Float64}, ::Box.Input{JuMP.Variable}\u001b[1m)\u001b[22m\u001b[22m at \u001b[1m/home/rdeits/locomotion/explorations/learning-mpc/experiments/2017-07-16-box-atlas-indicators/boxatlas.jl:272\u001b[22m\u001b[22m",
      " [4] \u001b[1m#run_mpc#45\u001b[22m\u001b[22m\u001b[1m(\u001b[22m\u001b[22m::Gurobi.GurobiSolver, ::Box.State{Float64}, ::Function, ::Box.BoxAtlas{Float64}, ::Box.State{Float64}, ::Int64\u001b[1m)\u001b[22m\u001b[22m at \u001b[1m/home/rdeits/locomotion/explorations/learning-mpc/experiments/2017-07-16-box-atlas-indicators/boxatlas.jl:393\u001b[22m\u001b[22m",
      " [5] \u001b[1mrun_mpc\u001b[22m\u001b[22m\u001b[1m(\u001b[22m\u001b[22m::Box.BoxAtlas{Float64}, ::Box.State{Float64}, ::Int64\u001b[1m)\u001b[22m\u001b[22m at \u001b[1m/home/rdeits/locomotion/explorations/learning-mpc/experiments/2017-07-16-box-atlas-indicators/boxatlas.jl:388\u001b[22m\u001b[22m"
     ]
    }
   ],
   "source": [
    "state.position[Box.Trunk] = [0.5, state.position[Box.Trunk][2]]\n",
    "state.velocity[Box.Trunk] = [-2, 0]\n",
    "# model.stiffness=2000\n",
    "model.Δt = 0.05\n",
    "us, xs = Box.run_mpc(model, state, 6)"
   ]
  },
  {
   "cell_type": "code",
   "execution_count": 469,
   "metadata": {
    "collapsed": false
   },
   "outputs": [],
   "source": [
    "for x in xs\n",
    "    settransform!(vis, model, x)\n",
    "    sleep(0.1)\n",
    "end"
   ]
  },
  {
   "cell_type": "code",
   "execution_count": null,
   "metadata": {
    "collapsed": true
   },
   "outputs": [],
   "source": []
  }
 ],
 "metadata": {
  "kernelspec": {
   "display_name": "Julia 0.6.0",
   "language": "julia",
   "name": "julia-0.6"
  },
  "language_info": {
   "file_extension": ".jl",
   "mimetype": "application/julia",
   "name": "julia",
   "version": "0.6.0"
  }
 },
 "nbformat": 4,
 "nbformat_minor": 2
}
