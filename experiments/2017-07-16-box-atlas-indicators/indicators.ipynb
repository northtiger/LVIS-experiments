{
 "cells": [
  {
   "cell_type": "code",
   "execution_count": 96,
   "metadata": {
    "collapsed": false
   },
   "outputs": [
    {
     "data": {
      "text/plain": [
       "true"
      ]
     },
     "execution_count": 96,
     "metadata": {},
     "output_type": "execute_result"
    }
   ],
   "source": [
    "using CoordinateTransformations\n",
    "using DrakeVisualizer\n",
    "DrakeVisualizer.any_open_windows() || DrakeVisualizer.new_window()"
   ]
  },
  {
   "cell_type": "code",
   "execution_count": 443,
   "metadata": {
    "collapsed": false
   },
   "outputs": [
    {
     "name": "stderr",
     "output_type": "stream",
     "text": [
      "WARNING: replacing module Box\n"
     ]
    },
    {
     "data": {
      "text/plain": [
       "Box"
      ]
     },
     "execution_count": 443,
     "metadata": {},
     "output_type": "execute_result"
    }
   ],
   "source": [
    "include(\"boxatlas.jl\")"
   ]
  },
  {
   "cell_type": "code",
   "execution_count": 444,
   "metadata": {
    "collapsed": false
   },
   "outputs": [
    {
     "data": {
      "text/plain": [
       "Box.BoxAtlas{Float64}\n",
       "  position_limits: Dict{Box.Body,Polyhedra.SimpleHRepresentation{2,Float64}}\n",
       "  velocity_limits: Dict{Box.Body,Polyhedra.SimpleHRepresentation{2,Float64}}\n",
       "  effort_limits: Dict{Box.Body,Float64}\n",
       "  masses: Dict{Box.Body,Float64}\n",
       "  stiffness: Float64 1.0\n",
       "  damping: Float64 1.0\n",
       "  gravity: Float64 10.0\n",
       "  viscous_friction: Float64 100.0\n",
       "  Δt: Float64 0.1\n"
      ]
     },
     "execution_count": 444,
     "metadata": {},
     "output_type": "execute_result"
    }
   ],
   "source": [
    "model = Box.BoxAtlas(stiffness=1.0, damping=1.0, viscous_friction=100.)"
   ]
  },
  {
   "cell_type": "code",
   "execution_count": 445,
   "metadata": {
    "collapsed": false
   },
   "outputs": [],
   "source": [
    "vis = Visualizer()[:boxatlas]\n",
    "setgeometry!(vis, model)"
   ]
  },
  {
   "cell_type": "code",
   "execution_count": 449,
   "metadata": {
    "collapsed": false
   },
   "outputs": [],
   "source": [
    "state = Box.State(vcat(rand(2), randn(8), 5 * randn(10)))\n",
    "input = Box.Input(zeros(8))\n",
    "model.stiffness = 10.\n",
    "model.damping = 10\n",
    "model.gravity = 10.0\n",
    "model.Δt = 0.002\n",
    "for i in 1:1000\n",
    "    settransform!(vis, model, state)\n",
    "    model.stiffness += 10\n",
    "    model.damping = 1.0 * sqrt(model.stiffness)\n",
    "    state = Box.update(model, state, input)\n",
    "    sleep(0.001)\n",
    "end\n",
    "    "
   ]
  },
  {
   "cell_type": "code",
   "execution_count": null,
   "metadata": {
    "collapsed": true
   },
   "outputs": [],
   "source": []
  }
 ],
 "metadata": {
  "kernelspec": {
   "display_name": "Julia 0.6.0",
   "language": "julia",
   "name": "julia-0.6"
  },
  "language_info": {
   "file_extension": ".jl",
   "mimetype": "application/julia",
   "name": "julia",
   "version": "0.6.0"
  }
 },
 "nbformat": 4,
 "nbformat_minor": 2
}
