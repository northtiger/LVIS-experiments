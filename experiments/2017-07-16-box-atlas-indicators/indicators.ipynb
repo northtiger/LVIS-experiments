{
 "cells": [
  {
   "cell_type": "code",
   "execution_count": 1,
   "metadata": {},
   "outputs": [
    {
     "data": {
      "text/plain": [
       "true"
      ]
     },
     "execution_count": 1,
     "metadata": {},
     "output_type": "execute_result"
    }
   ],
   "source": [
    "using CoordinateTransformations\n",
    "using DrakeVisualizer\n",
    "DrakeVisualizer.any_open_windows() || DrakeVisualizer.new_window()"
   ]
  },
  {
   "cell_type": "code",
   "execution_count": 2,
   "metadata": {},
   "outputs": [
    {
     "data": {
      "text/plain": [
       "Box"
      ]
     },
     "execution_count": 2,
     "metadata": {},
     "output_type": "execute_result"
    }
   ],
   "source": [
    "include(\"boxatlas.jl\")"
   ]
  },
  {
   "cell_type": "code",
   "execution_count": 3,
   "metadata": {},
   "outputs": [
    {
     "data": {
      "text/plain": [
       "Box.BoxAtlas{Float64}\n",
       "  position_limits: Dict{Box.Body,Polyhedra.SimpleHRepresentation{2,Float64}}\n",
       "  velocity_limits: Dict{Box.Body,Polyhedra.SimpleHRepresentation{2,Float64}}\n",
       "  effort_limits: Dict{Box.Body,Float64}\n",
       "  masses: Dict{Box.Body,Float64}\n",
       "  stiffness: Float64 1.0\n",
       "  damping: Float64 1.0\n",
       "  gravity: Float64 10.0\n",
       "  viscous_friction: Float64 100.0\n",
       "  Δt: Float64 0.1\n"
      ]
     },
     "execution_count": 3,
     "metadata": {},
     "output_type": "execute_result"
    }
   ],
   "source": [
    "model = Box.BoxAtlas(stiffness=1.0, damping=1.0, viscous_friction=100.)"
   ]
  },
  {
   "cell_type": "code",
   "execution_count": 4,
   "metadata": {},
   "outputs": [],
   "source": [
    "vis = Visualizer()[:boxatlas]\n",
    "setgeometry!(vis, model)"
   ]
  },
  {
   "cell_type": "code",
   "execution_count": 5,
   "metadata": {},
   "outputs": [],
   "source": [
    "state = Box.State(vcat(rand(2), randn(8), 1 * randn(10)))\n",
    "input = Box.Input(zeros(8))\n",
    "model.stiffness = 10.\n",
    "model.damping = 10\n",
    "model.gravity = 10.0\n",
    "model.Δt = 0.002\n",
    "for i in 1:1000\n",
    "    settransform!(vis, model, state)\n",
    "    model.stiffness += 10\n",
    "    model.damping = 1.0 * sqrt(model.stiffness)\n",
    "    state = Box.update(model, state, input)\n",
    "    sleep(0.001)\n",
    "end\n",
    "    "
   ]
  },
  {
   "cell_type": "code",
   "execution_count": 8,
   "metadata": {
    "scrolled": true
   },
   "outputs": [
    {
     "name": "stdout",
     "output_type": "stream",
     "text": [
      "Warning for adding constraints: zero or small (< 1e-13) coefficients, ignored\n",
      "Optimize a model with 1020 rows, 450 columns and 4490 nonzeros\n",
      "Model has 68 quadratic objective terms\n",
      "Variable types: 360 continuous, 90 integer (90 binary)\n",
      "Coefficient statistics:\n",
      "  Matrix range     [1e-04, 8e+04]\n",
      "  Objective range  [1e+01, 1e+01]\n",
      "  QObjective range [2e-01, 2e+01]\n",
      "  Bounds range     [1e-01, 4e+04]\n",
      "  RHS range        [4e-12, 8e+04]\n",
      "Presolve removed 493 rows and 113 columns\n",
      "Presolve time: 0.02s\n",
      "Presolved: 527 rows, 337 columns, 2983 nonzeros\n",
      "Presolved model has 68 quadratic objective terms\n",
      "Variable types: 257 continuous, 80 integer (80 binary)\n",
      "\n",
      "Root relaxation: objective 2.006477e+03, 1831 iterations, 0.04 seconds\n",
      "\n",
      "    Nodes    |    Current Node    |     Objective Bounds      |     Work\n",
      " Expl Unexpl |  Obj  Depth IntInf | Incumbent    BestBd   Gap | It/Node Time\n",
      "\n",
      "     0     0 2006.47740    0   43          - 2006.47740      -     -    0s\n",
      "     0     0 2010.22093    0   53          - 2010.22093      -     -    0s\n",
      "     0     0 2010.22093    0   53          - 2010.22093      -     -    0s\n",
      "     0     0 2032.86057    0   55          - 2032.86057      -     -    0s\n",
      "     0     0 2038.82347    0   56          - 2038.82347      -     -    0s\n",
      "     0     0 2039.66167    0   58          - 2039.66167      -     -    0s\n",
      "     0     0 2042.36343    0   58          - 2042.36343      -     -    0s\n",
      "     0     0 2042.39901    0   59          - 2042.39901      -     -    0s\n",
      "     0     0 2042.40123    0   61          - 2042.40123      -     -    0s\n",
      "     0     0 2043.62179    0   62          - 2043.62179      -     -    0s\n",
      "     0     0 2043.62179    0   62          - 2043.62179      -     -    0s\n",
      "     0     0 2045.44590    0   61          - 2045.44590      -     -    0s\n",
      "     0     0 2045.44614    0   61          - 2045.44614      -     -    0s\n",
      "     0     0 2050.38080    0   62          - 2050.38080      -     -    0s\n",
      "     0     0 2055.16946    0   64          - 2055.16946      -     -    0s\n",
      "     0     0 2055.23290    0   63          - 2055.23290      -     -    0s\n",
      "     0     0 2055.23290    0   63          - 2055.23290      -     -    0s\n",
      "     0     0 2055.23290    0   63          - 2055.23290      -     -    0s\n",
      "     0     2 2055.23290    0   63          - 2055.23290      -     -    1s\n",
      "*  282   188              57    11207.904458 3640.82762  67.5%  90.6    1s\n",
      "H  460   208                    8396.5203024 4834.63303  42.4%   129    2s\n",
      "H  468   208                    8386.3037256 4834.63303  42.4%   127    2s\n",
      "*  552   202              54    7492.5034897 4837.98076  35.4%   112    2s\n",
      "H  883   213                    6694.5345629 5054.19421  24.5%  90.7    2s\n",
      "* 1045   281              57    6691.4078797 5150.54999  23.0%  84.2    2s\n",
      "H 1442   327                    6656.6121131 5231.81614  21.4%  77.5    3s\n",
      "H 1509   286                    6576.3094902 5231.81614  20.4%  75.9    3s\n",
      "* 2949   278              57    6451.8339532 5966.79634  7.52%  65.2    4s\n",
      "  3188   277 6022.95100    9   45 6451.83395 6021.84291  6.66%  63.6    5s\n",
      "H 3194   168                    6353.1773946 6027.09971  5.13%  63.6    5s\n",
      "\n",
      "Cutting planes:\n",
      "  Learned: 15\n",
      "  Cover: 1\n",
      "  Implied bound: 12\n",
      "  MIR: 57\n",
      "  Flow cover: 23\n",
      "\n",
      "Explored 5179 nodes (272226 simplex iterations) in 7.14 seconds\n",
      "Thread count was 8 (of 8 available processors)\n",
      "\n",
      "Solution count 10: 6353.18 6451.83 6576.31 ... 11207.9\n",
      "Pool objective bound 6353.18\n",
      "\n",
      "Optimal solution found (tolerance 1.00e-04)\n",
      "Best objective 6.353177394566e+03, best bound 6.353177394566e+03, gap 0.0000%\n"
     ]
    },
    {
     "data": {
      "text/plain": [
       "(Box.Input{Float64}[Box.Input{Float64}(Dict(LeftFoot=>[0.00013269, 150.0],LeftHand=>[-0.0071698, -19.3521],RightHand=>[0.00623727, -19.3521],RightFoot=>[0.000167765, 150.0])), Box.Input{Float64}(Dict(LeftFoot=>[0.000172831, -89.2961],LeftHand=>[-0.0350826, 21.7676],RightHand=>[0.030089, 21.7676],RightFoot=>[5.73125e-5, -89.2961])), Box.Input{Float64}(Dict(LeftFoot=>[1.17531e-5, 17.9771],LeftHand=>[-0.0281937, -7.90392],RightHand=>[0.0240449, -7.90392],RightFoot=>[0.0, 17.9771])), Box.Input{Float64}(Dict(LeftFoot=>[0.0, -5.59336],LeftHand=>[-0.0299007, 2.74044],RightHand=>[0.0255691, 2.74044],RightFoot=>[2.84623e-5, -5.59336])), Box.Input{Float64}(Dict(LeftFoot=>[-8.41621e-5, 0.247138],LeftHand=>[-0.0294599, -0.55514],RightHand=>[0.0252026, -0.55514],RightFoot=>[-7.59749e-5, 0.247138])), Box.Input{Float64}(Dict(LeftFoot=>[-0.000133723, -0.0341788],LeftHand=>[-0.0295585, 0.142742],RightHand=>[0.0253057, 0.142742],RightFoot=>[-0.000123283, -0.0341788]))], Box.State{Float64}[Box.State{Float64}(Dict(Trunk=>[0.5, 0.287362],LeftFoot=>[-7.93632e-13, -0.294174],LeftHand=>[0.591748, -0.100969],RightHand=>[-0.505673, -0.100969],RightFoot=>[-0.000406571, -0.294174]), Dict(Trunk=>[0.0, 2.0],LeftFoot=>[1.0159e-11, -0.00377243],LeftHand=>[9.42194e-12, 0.000637345],RightHand=>[9.42194e-12, 0.000637345],RightFoot=>[-3.21812e-11, -0.00377243])), Box.State{Float64}(Dict(Trunk=>[0.5, 0.354276],LeftFoot=>[8.68611e-8, -0.322988],LeftHand=>[0.591739, -0.0924999],RightHand=>[-0.505666, -0.0924999],RightFoot=>[-0.00040644, -0.322988]), Dict(Trunk=>[3.16036e-6, 0.676579],LeftFoot=>[3.47447e-6, -1.14879],LeftHand=>[-0.000361651, 0.338115],RightHand=>[0.000308703, 0.338115],RightFoot=>[5.22816e-6, -1.14879])), Box.State{Float64}(Dict(Trunk=>[0.5, 0.37221],LeftFoot=>[0.0, -0.344982],LeftHand=>[0.591722, -0.0872753],RightHand=>[-0.505651, -0.0872753],RightFoot=>[-0.000406803, -0.344982]), Dict(Trunk=>[4.84425e-6, 0.0407824],LeftFoot=>[-6.94891e-6, 0.269028],LeftHand=>[-0.000308309, -0.129131],RightHand=>[0.000267183, -0.129131],RightFoot=>[-1.9744e-5, 0.269028])), Box.State{Float64}(Dict(Trunk=>[0.5, 0.36273],LeftFoot=>[6.55063e-7, -0.343686],LeftHand=>[0.59171, -0.0884432],RightHand=>[-0.505641, -0.0884432],RightFoot=>[-0.000407325, -0.343686]), Dict(Trunk=>[9.35034e-8, -0.419982],LeftFoot=>[3.31514e-5, -0.217167],LeftHand=>[-0.000170926, 0.0824156],RightHand=>[0.000137596, 0.0824156],RightFoot=>[-1.13061e-6, -0.217167])), Box.State{Float64}(Dict(Trunk=>[0.500001, 0.326574],LeftFoot=>[1.4538e-6, -0.331719],LeftHand=>[0.591685, -0.0885467],RightHand=>[-0.50562, -0.0885467],RightFoot=>[-0.00040738, -0.331719]), Dict(Trunk=>[7.1046e-6, -1.02627],LeftFoot=>[-1.20204e-6, 0.695833],LeftHand=>[-0.000817917, -0.086557],RightHand=>[0.000720718, -0.086557],RightFoot=>[-1.06271e-6, 0.695833])), Box.State{Float64}(Dict(Trunk=>[0.5, 0.278077],LeftFoot=>[1.39274e-6, -0.293272],LeftHand=>[0.59171, -0.09806],RightHand=>[-0.505642, -0.09806],RightFoot=>[-0.000407459, -0.293272]), Dict(Trunk=>[-2.0565e-5, -0.913611],LeftFoot=>[-1.24012e-6, 0.842064],LeftHand=>[0.00182839, -0.293973],RightHand=>[-0.00159687, -0.293973],RightFoot=>[-2.08509e-6, 0.842064])), Box.State{Float64}(Dict(Trunk=>[0.500003, 0.250416],LeftFoot=>[6.26814e-7, -0.272157],LeftHand=>[0.591533, -0.106335],RightHand=>[-0.505493, -0.106335],RightFoot=>[-0.000408043, -0.272157]), Dict(Trunk=>[0.000116135, -0.192838],LeftFoot=>[-2.9397e-5, 0.00252167],LeftHand=>[-0.00893274, -0.037008],RightHand=>[0.00752007, -0.037008],RightFoot=>[-2.12682e-5, 0.00252167]))])"
      ]
     },
     "execution_count": 8,
     "metadata": {},
     "output_type": "execute_result"
    }
   ],
   "source": [
    "state.position[Box.Trunk] = [0.5, state.position[Box.Trunk][2]]\n",
    "state.velocity[Box.Trunk] = [0.0, 2.0]\n",
    "# model.stiffness=2000\n",
    "model.Δt = 0.05\n",
    "us, xs = Box.run_mpc(model, state, 6)"
   ]
  },
  {
   "cell_type": "code",
   "execution_count": 13,
   "metadata": {},
   "outputs": [],
   "source": [
    "for x in xs\n",
    "    settransform!(vis, model, x)\n",
    "    sleep(0.1)\n",
    "end"
   ]
  },
  {
   "cell_type": "code",
   "execution_count": null,
   "metadata": {
    "collapsed": true
   },
   "outputs": [],
   "source": []
  }
 ],
 "metadata": {
  "kernelspec": {
   "display_name": "Julia 0.6.0",
   "language": "julia",
   "name": "julia-0.6"
  },
  "language_info": {
   "file_extension": ".jl",
   "mimetype": "application/julia",
   "name": "julia",
   "version": "0.6.0"
  }
 },
 "nbformat": 4,
 "nbformat_minor": 2
}
