{
 "cells": [
  {
   "cell_type": "code",
   "execution_count": 450,
   "metadata": {
    "collapsed": false
   },
   "outputs": [
    {
     "data": {
      "text/plain": [
       "true"
      ]
     },
     "execution_count": 450,
     "metadata": {},
     "output_type": "execute_result"
    }
   ],
   "source": [
    "using CoordinateTransformations\n",
    "using DrakeVisualizer\n",
    "DrakeVisualizer.any_open_windows() || DrakeVisualizer.new_window()"
   ]
  },
  {
   "cell_type": "code",
   "execution_count": 472,
   "metadata": {
    "collapsed": false
   },
   "outputs": [
    {
     "name": "stderr",
     "output_type": "stream",
     "text": [
      "WARNING: replacing module Box\n"
     ]
    },
    {
     "data": {
      "text/plain": [
       "Box"
      ]
     },
     "execution_count": 472,
     "metadata": {},
     "output_type": "execute_result"
    }
   ],
   "source": [
    "include(\"boxatlas.jl\")"
   ]
  },
  {
   "cell_type": "code",
   "execution_count": 473,
   "metadata": {
    "collapsed": false
   },
   "outputs": [
    {
     "data": {
      "text/plain": [
       "Box.BoxAtlas{Float64}\n",
       "  position_limits: Dict{Box.Body,Polyhedra.SimpleHRepresentation{2,Float64}}\n",
       "  velocity_limits: Dict{Box.Body,Polyhedra.SimpleHRepresentation{2,Float64}}\n",
       "  effort_limits: Dict{Box.Body,Float64}\n",
       "  masses: Dict{Box.Body,Float64}\n",
       "  stiffness: Float64 1.0\n",
       "  damping: Float64 1.0\n",
       "  gravity: Float64 10.0\n",
       "  viscous_friction: Float64 100.0\n",
       "  Δt: Float64 0.1\n"
      ]
     },
     "execution_count": 473,
     "metadata": {},
     "output_type": "execute_result"
    }
   ],
   "source": [
    "model = Box.BoxAtlas(stiffness=1.0, damping=1.0, viscous_friction=100.)"
   ]
  },
  {
   "cell_type": "code",
   "execution_count": 474,
   "metadata": {
    "collapsed": false
   },
   "outputs": [
    {
     "data": {
      "text/plain": [
       "Visualizer with path prefix Symbol[:boxatlas, :environment, :right_wall] using LCM LCMCore.LCM(Ptr{Void} @0x000000000a3634f0, \"\", RawFD(434), LCMCore.Subscription[LCMCore.Subscription{LCMCore.SubscriptionOptions{DrakeVisualizer.Comms.CommsT,DrakeVisualizer.#handle_msg#9{DrakeVisualizer.CoreVisualizer}}}(LCMCore.SubscriptionOptions{DrakeVisualizer.Comms.CommsT,DrakeVisualizer.#handle_msg#9{DrakeVisualizer.CoreVisualizer}}(DrakeVisualizer.Comms.CommsT, DrakeVisualizer.handle_msg), Ptr{Void} @0x000000000d7b2150)])"
      ]
     },
     "execution_count": 474,
     "metadata": {},
     "output_type": "execute_result"
    }
   ],
   "source": [
    "vis = Visualizer()[:boxatlas]\n",
    "setgeometry!(vis, model)"
   ]
  },
  {
   "cell_type": "code",
   "execution_count": 475,
   "metadata": {
    "collapsed": false
   },
   "outputs": [],
   "source": [
    "state = Box.State(vcat(rand(2), randn(8), 1 * randn(10)))\n",
    "input = Box.Input(zeros(8))\n",
    "model.stiffness = 10.\n",
    "model.damping = 10\n",
    "model.gravity = 10.0\n",
    "model.Δt = 0.002\n",
    "for i in 1:1000\n",
    "    settransform!(vis, model, state)\n",
    "    model.stiffness += 10\n",
    "    model.damping = 1.0 * sqrt(model.stiffness)\n",
    "    state = Box.update(model, state, input)\n",
    "    sleep(0.001)\n",
    "end\n",
    "    "
   ]
  },
  {
   "cell_type": "code",
   "execution_count": null,
   "metadata": {
    "collapsed": false,
    "scrolled": true
   },
   "outputs": [],
   "source": [
    "state.position[Box.Trunk] = [0.5, state.position[Box.Trunk][2]]\n",
    "state.velocity[Box.Trunk] = [-2, 0]\n",
    "# model.stiffness=2000\n",
    "model.Δt = 0.05\n",
    "us, xs = Box.run_mpc(model, state, 6)"
   ]
  },
  {
   "cell_type": "code",
   "execution_count": 469,
   "metadata": {
    "collapsed": false
   },
   "outputs": [],
   "source": [
    "for x in xs\n",
    "    settransform!(vis, model, x)\n",
    "    sleep(0.1)\n",
    "end"
   ]
  },
  {
   "cell_type": "code",
   "execution_count": null,
   "metadata": {
    "collapsed": true
   },
   "outputs": [],
   "source": []
  }
 ],
 "metadata": {
  "kernelspec": {
   "display_name": "Julia 0.6.0",
   "language": "julia",
   "name": "julia-0.6"
  },
  "language_info": {
   "file_extension": ".jl",
   "mimetype": "application/julia",
   "name": "julia",
   "version": "0.6.0"
  }
 },
 "nbformat": 4,
 "nbformat_minor": 2
}
