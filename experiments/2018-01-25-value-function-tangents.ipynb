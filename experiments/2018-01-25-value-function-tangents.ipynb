{
 "cells": [
  {
   "cell_type": "code",
   "execution_count": 1,
   "metadata": {
    "collapsed": true
   },
   "outputs": [],
   "source": [
    "using Revise"
   ]
  },
  {
   "cell_type": "code",
   "execution_count": 11,
   "metadata": {},
   "outputs": [
    {
     "name": "stderr",
     "output_type": "stream",
     "text": [
      "\u001b[1m\u001b[36mINFO: \u001b[39m\u001b[22m\u001b[36mRecompiling stale cache file /home/rdeits/locomotion/explorations/learning-mpc/packages/lib/v0.6/Hoppers.ji for module Hoppers.\n",
      "\u001b[39m"
     ]
    },
    {
     "data": {
      "text/html": [
       "<div id=\"interact-js-shim\">\n",
       "    <script charset=\"utf-8\">\n",
       "(function (IPython, $, _, MathJax) {\n",
       "    $.event.special.destroyed = {\n",
       "\tremove: function(o) {\n",
       "\t    if (o.handler) {\n",
       "\t\to.handler.apply(this, arguments)\n",
       "\t    }\n",
       "\t}\n",
       "    }\n",
       "\n",
       "    var OutputArea = IPython.version >= \"4.0.0\" ? require(\"notebook/js/outputarea\").OutputArea : IPython.OutputArea;\n",
       "\n",
       "    var redrawValue = function (container, type, val) {\n",
       "\tvar selector = $(\"<div/>\");\n",
       "\tvar oa = new OutputArea(_.extend(selector, {\n",
       "\t    selector: selector,\n",
       "\t    prompt_area: true,\n",
       "\t    events: IPython.events,\n",
       "\t    keyboard_manager: IPython.keyboard_manager\n",
       "\t})); // Hack to work with IPython 2.1.0\n",
       "\n",
       "\tswitch (type) {\n",
       "\tcase \"image/png\":\n",
       "            var _src = 'data:' + type + ';base64,' + val;\n",
       "\t    $(container).find(\"img\").attr('src', _src);\n",
       "\t    break;\n",
       "\tcase \"text/latex\":\n",
       "\t\tif (MathJax){\n",
       "\t\t\tvar math = MathJax.Hub.getAllJax(container)[0];\n",
       "\t\t\tMathJax.Hub.Queue([\"Text\", math, val.replace(/^\\${1,2}|\\${1,2}$/g, '')]);\n",
       "\t\t\tbreak;\n",
       "\t\t}\n",
       "\tdefault:\n",
       "\t    var toinsert = OutputArea.append_map[type].apply(\n",
       "\t\toa, [val, {}, selector]\n",
       "\t    );\n",
       "\t    $(container).empty().append(toinsert.contents());\n",
       "\t    selector.remove();\n",
       "\t}\n",
       "    }\n",
       "\n",
       "\n",
       "    $(document).ready(function() {\n",
       "\tfunction initComm(evt, data) {\n",
       "\t    var comm_manager = data.kernel.comm_manager;\n",
       "        //_.extend(comm_manager.targets, require(\"widgets/js/widget\"))\n",
       "\t    comm_manager.register_target(\"Signal\", function (comm) {\n",
       "            comm.on_msg(function (msg) {\n",
       "                var val = msg.content.data.value;\n",
       "                $(\".signal-\" + comm.comm_id).each(function() {\n",
       "                var type = $(this).data(\"type\");\n",
       "                if (typeof(val[type]) !== \"undefined\" && val[type] !== null) {\n",
       "                    redrawValue(this, type, val[type], type);\n",
       "                }\n",
       "                });\n",
       "                delete val;\n",
       "                delete msg.content.data.value;\n",
       "            });\n",
       "\t    });\n",
       "\n",
       "\t    // coordingate with Comm and redraw Signals\n",
       "\t    // XXX: Test using Reactive here to improve performance\n",
       "\t    $([IPython.events]).on(\n",
       "\t\t'output_appended.OutputArea', function (event, type, value, md, toinsert) {\n",
       "\t\t    if (md && md.reactive) {\n",
       "                // console.log(md.comm_id);\n",
       "                toinsert.addClass(\"signal-\" + md.comm_id);\n",
       "                toinsert.data(\"type\", type);\n",
       "                // Signal back indicating the mimetype required\n",
       "                var comm_manager = IPython.notebook.kernel.comm_manager;\n",
       "                var comm = comm_manager.comms[md.comm_id];\n",
       "                comm.then(function (c) {\n",
       "                    c.send({action: \"subscribe_mime\",\n",
       "                       mime: type});\n",
       "                    toinsert.bind(\"destroyed\", function() {\n",
       "                        c.send({action: \"unsubscribe_mime\",\n",
       "                               mime: type});\n",
       "                    });\n",
       "                })\n",
       "\t\t    }\n",
       "\t    });\n",
       "\t}\n",
       "\n",
       "\ttry {\n",
       "\t    // try to initialize right away. otherwise, wait on the status_started event.\n",
       "\t    initComm(undefined, IPython.notebook);\n",
       "\t} catch (e) {\n",
       "\t    $([IPython.events]).on('kernel_created.Kernel kernel_created.Session', initComm);\n",
       "\t}\n",
       "    });\n",
       "})(IPython, jQuery, _, MathJax);\n",
       "</script>\n",
       "    <script>\n",
       "        window.interactLoadedFlag = true\n",
       "       $(\"#interact-js-shim\").bind(\"destroyed\", function () {\n",
       "           if (window.interactLoadedFlag) {\n",
       "               console.warn(\"JavaScript required by Interact will be removed if you remove this cell or run using Interact more than once.\")\n",
       "           }\n",
       "       })\n",
       "       $([IPython.events]).on(\"kernel_starting.Kernel kernel_restarting.Kernel\", function () { window.interactLoadedFlag = false })\n",
       "   </script>\n",
       "</div>"
      ]
     },
     "metadata": {},
     "output_type": "display_data"
    }
   ],
   "source": [
    "using Flux\n",
    "using JLD2\n",
    "using FileIO\n",
    "using MLDataPattern\n",
    "using CoordinateTransformations\n",
    "using ProgressMeter\n",
    "using RigidBodyDynamics\n",
    "using Gurobi\n",
    "using DrakeVisualizer\n",
    "DrakeVisualizer.any_open_windows() || DrakeVisualizer.new_window()\n",
    "import FluxExtensions\n",
    "import LearningMPC\n",
    "import LCPSim\n",
    "import Hoppers"
   ]
  },
  {
   "cell_type": "code",
   "execution_count": 4,
   "metadata": {
    "collapsed": true
   },
   "outputs": [],
   "source": [
    "samples = load(\"2017-12-20-hopper-grid/grid_search.jld2\")[\"samples\"];"
   ]
  },
  {
   "cell_type": "code",
   "execution_count": 9,
   "metadata": {},
   "outputs": [
    {
     "data": {
      "text/plain": [
       "2.2224779361445144"
      ]
     },
     "execution_count": 9,
     "metadata": {},
     "output_type": "execute_result"
    }
   ],
   "source": [
    "minimum(samples) do sample\n",
    "    sample.mip.objective_bound\n",
    "end"
   ]
  },
  {
   "cell_type": "code",
   "execution_count": 8,
   "metadata": {},
   "outputs": [
    {
     "data": {
      "text/plain": [
       "1459.1910382673889"
      ]
     },
     "execution_count": 8,
     "metadata": {},
     "output_type": "execute_result"
    }
   ],
   "source": [
    "maximum(samples) do sample\n",
    "    sample.mip.objective_value\n",
    "end"
   ]
  },
  {
   "cell_type": "code",
   "execution_count": 10,
   "metadata": {},
   "outputs": [
    {
     "data": {
      "text/plain": [
       "LearningMPC.Sample{Float64}([0.25, 0.25, -5.0, -5.0], [-0.0 -3.44884e-13 … 7.031e-15 -1.62567e-21; 40.0 -5.19332e-13 … 8.27324e-15 9.80654e-27], [445.908], LearningMPC.MIPResults\n",
       "  solvetime_s: Float64 0.0306549072265625\n",
       "  objective_value: Float64 232.33189199391802\n",
       "  objective_bound: Float64 210.50321396361096\n",
       ")"
      ]
     },
     "execution_count": 10,
     "metadata": {},
     "output_type": "execute_result"
    }
   ],
   "source": [
    "samples[1]"
   ]
  },
  {
   "cell_type": "code",
   "execution_count": 12,
   "metadata": {},
   "outputs": [
    {
     "data": {
      "text/plain": [
       "([0.0 0.0 1.0 0.0; 0.0 0.0 0.0 1.0; 0.0 0.0 0.0 0.0; 0.0 0.0 0.0 0.0], [0.0 0.0; 0.0 0.0; 0.0 1.0; 0.0 1.0], [0.0, 0.0, -9.81, -9.81])"
      ]
     },
     "execution_count": 12,
     "metadata": {},
     "output_type": "execute_result"
    }
   ],
   "source": [
    "robot = Hoppers.Hopper()\n",
    "xstar = Hoppers.nominal_state(robot)\n",
    "ustar = zeros(num_velocities(xstar))\n",
    "basevis = Visualizer()[:hopper]\n",
    "setgeometry!(basevis, robot)\n",
    "settransform!(basevis[:robot], xstar)\n",
    "\n",
    "Q, R = Hoppers.default_costs(robot)\n",
    "foot = findbody(robot.mechanism, \"foot\")\n",
    "Δt = 0.05\n",
    "Jc = LCPSim.ContactLQR.contact_jacobian(xstar, [Point3D(default_frame(foot), 0., 0., 0.)])\n",
    "A, B, c = LCPSim.ContactLQR.contact_linearize(xstar, ustar, Jc)"
   ]
  },
  {
   "cell_type": "code",
   "execution_count": 16,
   "metadata": {},
   "outputs": [],
   "source": [
    "features(sample::LearningMPC.Sample) = (sample.state, sample.mip.objective_bound, sample.mip.objective_value, sample.uJ[:, 1])\n",
    "data = features.(samples);\n",
    "train_data, test_data = splitobs(shuffleobs(data), at=0.85);"
   ]
  },
  {
   "cell_type": "code",
   "execution_count": 33,
   "metadata": {},
   "outputs": [
    {
     "data": {
      "text/plain": [
       "(::#71) (generic function with 1 method)"
      ]
     },
     "execution_count": 33,
     "metadata": {},
     "output_type": "execute_result"
    }
   ],
   "source": [
    "function setup_model(R, B)\n",
    "    model = FluxExtensions.TangentPropagator(Chain(\n",
    "        LinearMap(UniformScaling(0.2)),\n",
    "        Dense(4, 32, elu),\n",
    "        Dense(32, 32, elu),\n",
    "        Dense(32, 1, elu),\n",
    "        AffineMap(fill(750, 1, 1), [750])\n",
    "        ))\n",
    "    RiBt = inv(R) * B' \n",
    "\n",
    "    function sample_loss(w_tangent)\n",
    "        (x, lb, ub, input) -> begin\n",
    "            y, J = model(x)\n",
    "            value_cost = sum(ifelse.(y .< lb, lb .- y, ifelse.(y .> ub, y .- ub, 0 .* y)))\n",
    "            tangent_cost = w_tangent * sum(abs2.(-RiBt * J' .- input))\n",
    "            value_cost + tangent_cost\n",
    "        end\n",
    "    end\n",
    "    function batch_loss(w_tangent)\n",
    "        loss = sample_loss(w_tangent)\n",
    "        (samples) -> sum((sample -> loss(sample...)).(samples)) / length(samples)\n",
    "    end\n",
    "    model, batch_loss\n",
    "end\n",
    "\n",
    "model, loss = setup_model(R, B)\n",
    "opt = Flux.ADADelta(params(model))"
   ]
  },
  {
   "cell_type": "code",
   "execution_count": 38,
   "metadata": {},
   "outputs": [
    {
     "data": {
      "text/plain": [
       "Tracked 0-dimensional Array{Float64,0}:\n",
       "551.6"
      ]
     },
     "execution_count": 38,
     "metadata": {},
     "output_type": "execute_result"
    }
   ],
   "source": [
    "loss(0.0)(train_data[1:1000])"
   ]
  },
  {
   "cell_type": "code",
   "execution_count": 39,
   "metadata": {
    "scrolled": false
   },
   "outputs": [
    {
     "name": "stdout",
     "output_type": "stream",
     "text": [
      "(loss(1.0))(train_data) = param(6.87789e5)\n",
      "(loss(0.0))(train_data) = param(479.016)\n"
     ]
    },
    {
     "name": "stderr",
     "output_type": "stream",
     "text": [
      "\r",
      "\u001b[32mProgress:   0%|                                         |  ETA: 15:26:52\u001b[39m"
     ]
    },
    {
     "name": "stdout",
     "output_type": "stream",
     "text": [
      "(loss(1.0))(train_data) = param(9846.29)\n",
      "(loss(0.0))(train_data) = param(169.417)\n"
     ]
    },
    {
     "name": "stderr",
     "output_type": "stream",
     "text": [
      "\r",
      "\u001b[32mProgress:   1%|                                         |  ETA: 15:22:47\u001b[39m"
     ]
    },
    {
     "name": "stdout",
     "output_type": "stream",
     "text": [
      "(loss(1.0))(train_data) = param(291.665)\n",
      "(loss(0.0))(train_data) = param(227.037)\n"
     ]
    },
    {
     "name": "stderr",
     "output_type": "stream",
     "text": [
      "\r",
      "\u001b[32mProgress:   2%|█                                        |  ETA: 15:14:37\u001b[39m"
     ]
    },
    {
     "name": "stdout",
     "output_type": "stream",
     "text": [
      "(loss(1.0))(train_data) = param(277.14)\n",
      "(loss(0.0))(train_data) = param(228.902)\n"
     ]
    },
    {
     "name": "stderr",
     "output_type": "stream",
     "text": [
      "\r",
      "\u001b[32mProgress:   2%|█                                        |  ETA: 15:07:15\u001b[39m"
     ]
    },
    {
     "name": "stdout",
     "output_type": "stream",
     "text": [
      "(loss(1.0))(train_data) = param(280.612)\n",
      "(loss(0.0))(train_data) = param(229.049)\n"
     ]
    },
    {
     "name": "stderr",
     "output_type": "stream",
     "text": [
      "\r",
      "\u001b[32mProgress:   2%|█                                        |  ETA: 14:58:30\u001b[39m"
     ]
    },
    {
     "name": "stdout",
     "output_type": "stream",
     "text": [
      "(loss(1.0))(train_data) = param(274.471)\n",
      "(loss(0.0))(train_data) = param(228.942)\n"
     ]
    },
    {
     "name": "stderr",
     "output_type": "stream",
     "text": [
      "\r",
      "\u001b[32mProgress:   3%|█                                        |  ETA: 14:51:12\u001b[39m"
     ]
    },
    {
     "name": "stdout",
     "output_type": "stream",
     "text": [
      "(loss(1.0))(train_data) = param(285.61)\n",
      "(loss(0.0))(train_data) = param(228.725)\n"
     ]
    },
    {
     "name": "stderr",
     "output_type": "stream",
     "text": [
      "\r",
      "\u001b[32mProgress:   4%|█                                        |  ETA: 14:45:33\u001b[39m"
     ]
    },
    {
     "name": "stdout",
     "output_type": "stream",
     "text": [
      "(loss(1.0))(train_data) = param(272.539)\n",
      "(loss(0.0))(train_data) = param(228.369)\n"
     ]
    },
    {
     "name": "stderr",
     "output_type": "stream",
     "text": [
      "\r",
      "\u001b[32mProgress:   4%|██                                       |  ETA: 14:39:19\u001b[39m"
     ]
    },
    {
     "name": "stdout",
     "output_type": "stream",
     "text": [
      "(loss(1.0))(train_data) = param(265.245)\n",
      "(loss(0.0))(train_data) = param(228.059)\n"
     ]
    },
    {
     "name": "stderr",
     "output_type": "stream",
     "text": [
      "\r",
      "\u001b[32mProgress:   4%|██                                       |  ETA: 14:33:35\u001b[39m"
     ]
    },
    {
     "name": "stdout",
     "output_type": "stream",
     "text": [
      "(loss(1.0))(train_data) = param(262.619)\n",
      "(loss(0.0))(train_data) = param(227.701)\n",
      "(loss(1.0))(train_data) = param(258.863)\n",
      "(loss(0.0))(train_data) = param(227.213)\n"
     ]
    },
    {
     "name": "stderr",
     "output_type": "stream",
     "text": [
      "\r",
      "\u001b[32mProgress:   5%|██                                       |  ETA: 14:28:28\u001b[39m\r",
      "\u001b[32mProgress:   6%|██                                       |  ETA: 14:24:05\u001b[39m"
     ]
    },
    {
     "name": "stdout",
     "output_type": "stream",
     "text": [
      "(loss(1.0))(train_data) = param(266.511)\n",
      "(loss(0.0))(train_data) = param(226.726)\n"
     ]
    },
    {
     "name": "stderr",
     "output_type": "stream",
     "text": [
      "\r",
      "\u001b[32mProgress:   6%|██                                       |  ETA: 14:20:00\u001b[39m"
     ]
    },
    {
     "name": "stdout",
     "output_type": "stream",
     "text": [
      "(loss(1.0))(train_data) = param(271.107)\n",
      "(loss(0.0))(train_data) = param(225.898)\n"
     ]
    },
    {
     "name": "stderr",
     "output_type": "stream",
     "text": [
      "\r",
      "\u001b[32mProgress:   6%|███                                      |  ETA: 14:15:56\u001b[39m"
     ]
    },
    {
     "name": "stdout",
     "output_type": "stream",
     "text": [
      "(loss(1.0))(train_data) = param(262.841)\n",
      "(loss(0.0))(train_data) = param(224.866)\n"
     ]
    },
    {
     "name": "stderr",
     "output_type": "stream",
     "text": [
      "\r",
      "\u001b[32mProgress:   7%|███                                      |  ETA: 14:11:39\u001b[39m"
     ]
    },
    {
     "name": "stdout",
     "output_type": "stream",
     "text": [
      "(loss(1.0))(train_data) = param(250.537)\n",
      "(loss(0.0))(train_data) = param(223.777)\n"
     ]
    },
    {
     "name": "stderr",
     "output_type": "stream",
     "text": [
      "\r",
      "\u001b[32mProgress:   8%|███                                      |  ETA: 14:10:52\u001b[39m"
     ]
    },
    {
     "name": "stdout",
     "output_type": "stream",
     "text": [
      "(loss(1.0))(train_data) = param(245.456)\n",
      "(loss(0.0))(train_data) = param(222.489)\n"
     ]
    },
    {
     "name": "stderr",
     "output_type": "stream",
     "text": [
      "\r",
      "\u001b[32mProgress:   8%|███                                      |  ETA: 14:06:58\u001b[39m"
     ]
    },
    {
     "name": "stdout",
     "output_type": "stream",
     "text": [
      "(loss(1.0))(train_data) = param(245.061)\n",
      "(loss(0.0))(train_data) = param(220.857)\n"
     ]
    },
    {
     "name": "stderr",
     "output_type": "stream",
     "text": [
      "\r",
      "\u001b[32mProgress:   8%|███                                      |  ETA: 14:02:28\u001b[39m"
     ]
    },
    {
     "name": "stdout",
     "output_type": "stream",
     "text": [
      "(loss(1.0))(train_data) = param(239.942)\n",
      "(loss(0.0))(train_data) = param(218.63)\n",
      "(loss(1.0))(train_data) = param(236.675)\n",
      "(loss(0.0))(train_data) = param(215.76)\n"
     ]
    },
    {
     "name": "stderr",
     "output_type": "stream",
     "text": [
      "\r",
      "\u001b[32mProgress:   9%|████                                     |  ETA: 13:57:50\u001b[39m\r",
      "\u001b[32mProgress:  10%|████                                     |  ETA: 13:52:45\u001b[39m"
     ]
    },
    {
     "name": "stdout",
     "output_type": "stream",
     "text": [
      "(loss(1.0))(train_data) = param(230.327)\n",
      "(loss(0.0))(train_data) = param(211.129)\n"
     ]
    },
    {
     "name": "stderr",
     "output_type": "stream",
     "text": [
      "\r",
      "\u001b[32mProgress:  10%|████                                     |  ETA: 13:48:07\u001b[39m"
     ]
    },
    {
     "name": "stdout",
     "output_type": "stream",
     "text": [
      "(loss(1.0))(train_data) = param(243.954)\n",
      "(loss(0.0))(train_data) = param(203.38)\n"
     ]
    },
    {
     "name": "stderr",
     "output_type": "stream",
     "text": [
      "\r",
      "\u001b[32mProgress:  10%|████                                     |  ETA: 13:42:52\u001b[39m"
     ]
    },
    {
     "name": "stdout",
     "output_type": "stream",
     "text": [
      "(loss(1.0))(train_data) = param(238.041)\n",
      "(loss(0.0))(train_data) = param(198.026)\n",
      "(loss(1.0))(train_data) = param(221.965)\n",
      "(loss(0.0))(train_data) = param(189.18)\n"
     ]
    },
    {
     "name": "stderr",
     "output_type": "stream",
     "text": [
      "\r",
      "\u001b[32mProgress:  11%|█████                                    |  ETA: 13:37:58\u001b[39m\r",
      "\u001b[32mProgress:  12%|█████                                    |  ETA: 13:32:53\u001b[39m"
     ]
    },
    {
     "name": "stdout",
     "output_type": "stream",
     "text": [
      "(loss(1.0))(train_data) = param(247.496)\n",
      "(loss(0.0))(train_data) = param(173.964)\n"
     ]
    },
    {
     "name": "stderr",
     "output_type": "stream",
     "text": [
      "\r",
      "\u001b[32mProgress:  12%|█████                                    |  ETA: 13:27:55\u001b[39m"
     ]
    },
    {
     "name": "stdout",
     "output_type": "stream",
     "text": [
      "(loss(1.0))(train_data) = param(239.808)\n",
      "(loss(0.0))(train_data) = param(154.554)\n"
     ]
    },
    {
     "name": "stderr",
     "output_type": "stream",
     "text": [
      "\r",
      "\u001b[32mProgress:  12%|█████                                    |  ETA: 13:23:14\u001b[39m"
     ]
    },
    {
     "name": "stdout",
     "output_type": "stream",
     "text": [
      "(loss(1.0))(train_data) = param(164.029)\n",
      "(loss(0.0))(train_data) = param(130.356)\n"
     ]
    },
    {
     "name": "stderr",
     "output_type": "stream",
     "text": [
      "\r",
      "\u001b[32mProgress:  13%|█████                                    |  ETA: 13:18:14\u001b[39m"
     ]
    },
    {
     "name": "stdout",
     "output_type": "stream",
     "text": [
      "(loss(1.0))(train_data) = param(140.717)\n",
      "(loss(0.0))(train_data) = param(114.961)\n"
     ]
    },
    {
     "name": "stderr",
     "output_type": "stream",
     "text": [
      "\r",
      "\u001b[32mProgress:  14%|██████                                   |  ETA: 13:13:28\u001b[39m"
     ]
    },
    {
     "name": "stdout",
     "output_type": "stream",
     "text": [
      "(loss(1.0))(train_data) = param(141.437)\n",
      "(loss(0.0))(train_data) = param(112.366)\n"
     ]
    },
    {
     "name": "stderr",
     "output_type": "stream",
     "text": [
      "\r",
      "\u001b[32mProgress:  14%|██████                                   |  ETA: 13:08:49\u001b[39m"
     ]
    },
    {
     "name": "stdout",
     "output_type": "stream",
     "text": [
      "(loss(1.0))(train_data) = param(141.488)\n",
      "(loss(0.0))(train_data) = param(112.277)\n"
     ]
    },
    {
     "name": "stderr",
     "output_type": "stream",
     "text": [
      "\r",
      "\u001b[32mProgress:  14%|██████                                   |  ETA: 13:05:17\u001b[39m"
     ]
    },
    {
     "name": "stdout",
     "output_type": "stream",
     "text": [
      "(loss(1.0))(train_data) = param(140.624)\n",
      "(loss(0.0))(train_data) = param(111.967)\n"
     ]
    },
    {
     "name": "stderr",
     "output_type": "stream",
     "text": [
      "\r",
      "\u001b[32mProgress:  15%|██████                                   |  ETA: 13:01:45\u001b[39m"
     ]
    },
    {
     "name": "stdout",
     "output_type": "stream",
     "text": [
      "(loss(1.0))(train_data) = param(136.972)\n",
      "(loss(0.0))(train_data) = param(111.954)\n"
     ]
    },
    {
     "name": "stderr",
     "output_type": "stream",
     "text": [
      "\r",
      "\u001b[32mProgress:  16%|██████                                   |  ETA: 12:57:44\u001b[39m"
     ]
    },
    {
     "name": "stdout",
     "output_type": "stream",
     "text": [
      "(loss(1.0))(train_data) = param(140.95)\n",
      "(loss(0.0))(train_data) = param(111.979)\n"
     ]
    },
    {
     "name": "stderr",
     "output_type": "stream",
     "text": [
      "\r",
      "\u001b[32mProgress:  16%|███████                                  |  ETA: 12:53:01\u001b[39m"
     ]
    },
    {
     "name": "stdout",
     "output_type": "stream",
     "text": [
      "(loss(1.0))(train_data) = param(138.88)\n",
      "(loss(0.0))(train_data) = param(111.776)\n"
     ]
    },
    {
     "name": "stderr",
     "output_type": "stream",
     "text": [
      "\r",
      "\u001b[32mProgress:  16%|███████                                  |  ETA: 12:48:10\u001b[39m"
     ]
    },
    {
     "name": "stdout",
     "output_type": "stream",
     "text": [
      "(loss(1.0))(train_data) = param(138.329)\n",
      "(loss(0.0))(train_data) = param(111.875)\n"
     ]
    },
    {
     "name": "stderr",
     "output_type": "stream",
     "text": [
      "\r",
      "\u001b[32mProgress:  17%|███████                                  |  ETA: 12:43:34\u001b[39m"
     ]
    },
    {
     "name": "stdout",
     "output_type": "stream",
     "text": [
      "(loss(1.0))(train_data) = param(137.249)\n",
      "(loss(0.0))(train_data) = param(111.771)\n"
     ]
    },
    {
     "name": "stderr",
     "output_type": "stream",
     "text": [
      "\r",
      "\u001b[32mProgress:  18%|███████                                  |  ETA: 12:39:21\u001b[39m"
     ]
    },
    {
     "name": "stdout",
     "output_type": "stream",
     "text": [
      "(loss(1.0))(train_data) = param(135.704)\n",
      "(loss(0.0))(train_data) = param(111.666)\n"
     ]
    },
    {
     "name": "stderr",
     "output_type": "stream",
     "text": [
      "\r",
      "\u001b[32mProgress:  18%|███████                                  |  ETA: 12:34:45\u001b[39m"
     ]
    },
    {
     "name": "stdout",
     "output_type": "stream",
     "text": [
      "(loss(1.0))(train_data) = param(136.821)\n",
      "(loss(0.0))(train_data) = param(111.587)\n"
     ]
    },
    {
     "name": "stderr",
     "output_type": "stream",
     "text": [
      "\r",
      "\u001b[32mProgress:  18%|████████                                 |  ETA: 12:30:17\u001b[39m"
     ]
    },
    {
     "name": "stdout",
     "output_type": "stream",
     "text": [
      "(loss(1.0))(train_data) = param(136.607)\n",
      "(loss(0.0))(train_data) = param(111.766)\n"
     ]
    },
    {
     "name": "stderr",
     "output_type": "stream",
     "text": [
      "\r",
      "\u001b[32mProgress:  19%|████████                                 |  ETA: 12:25:43\u001b[39m"
     ]
    },
    {
     "name": "stdout",
     "output_type": "stream",
     "text": [
      "(loss(1.0))(train_data) = param(137.005)\n",
      "(loss(0.0))(train_data) = param(111.784)\n"
     ]
    },
    {
     "name": "stderr",
     "output_type": "stream",
     "text": [
      "\r",
      "\u001b[32mProgress:  20%|████████                                 |  ETA: 12:21:02\u001b[39m"
     ]
    },
    {
     "name": "stdout",
     "output_type": "stream",
     "text": [
      "(loss(1.0))(train_data) = param(140.104)\n",
      "(loss(0.0))(train_data) = param(111.721)\n"
     ]
    },
    {
     "name": "stderr",
     "output_type": "stream",
     "text": [
      "\r",
      "\u001b[32mProgress:  20%|████████                                 |  ETA: 12:16:33\u001b[39m"
     ]
    },
    {
     "name": "stdout",
     "output_type": "stream",
     "text": [
      "(loss(1.0))(train_data) = param(139.144)\n",
      "(loss(0.0))(train_data) = param(111.545)\n"
     ]
    },
    {
     "name": "stderr",
     "output_type": "stream",
     "text": [
      "\r",
      "\u001b[32mProgress:  20%|████████                                 |  ETA: 12:11:36\u001b[39m"
     ]
    },
    {
     "name": "stdout",
     "output_type": "stream",
     "text": [
      "(loss(1.0))(train_data) = param(139.915)\n",
      "(loss(0.0))(train_data) = param(111.767)\n"
     ]
    },
    {
     "name": "stderr",
     "output_type": "stream",
     "text": [
      "\r",
      "\u001b[32mProgress:  21%|█████████                                |  ETA: 12:06:42\u001b[39m"
     ]
    },
    {
     "name": "stdout",
     "output_type": "stream",
     "text": [
      "(loss(1.0))(train_data) = param(139.904)\n",
      "(loss(0.0))(train_data) = param(111.663)\n"
     ]
    },
    {
     "name": "stderr",
     "output_type": "stream",
     "text": [
      "\r",
      "\u001b[32mProgress:  22%|█████████                                |  ETA: 12:01:55\u001b[39m"
     ]
    },
    {
     "name": "stdout",
     "output_type": "stream",
     "text": [
      "(loss(1.0))(train_data) = param(135.416)\n",
      "(loss(0.0))(train_data) = param(111.679)\n"
     ]
    },
    {
     "name": "stderr",
     "output_type": "stream",
     "text": [
      "\r",
      "\u001b[32mProgress:  22%|█████████                                |  ETA: 11:57:07\u001b[39m"
     ]
    },
    {
     "name": "stdout",
     "output_type": "stream",
     "text": [
      "(loss(1.0))(train_data) = param(135.404)\n",
      "(loss(0.0))(train_data) = param(111.609)\n"
     ]
    },
    {
     "name": "stderr",
     "output_type": "stream",
     "text": [
      "\r",
      "\u001b[32mProgress:  22%|█████████                                |  ETA: 11:52:22\u001b[39m"
     ]
    },
    {
     "name": "stdout",
     "output_type": "stream",
     "text": [
      "(loss(1.0))(train_data) = param(134.701)\n",
      "(loss(0.0))(train_data) = param(111.671)\n"
     ]
    },
    {
     "name": "stderr",
     "output_type": "stream",
     "text": [
      "\r",
      "\u001b[32mProgress:  23%|█████████                                |  ETA: 11:47:29\u001b[39m"
     ]
    },
    {
     "name": "stdout",
     "output_type": "stream",
     "text": [
      "(loss(1.0))(train_data) = param(138.534)\n",
      "(loss(0.0))(train_data) = param(111.593)\n",
      "(loss(1.0))(train_data) = param(139.997)\n",
      "(loss(0.0))(train_data) = param(111.7)\n"
     ]
    },
    {
     "name": "stderr",
     "output_type": "stream",
     "text": [
      "\r",
      "\u001b[32mProgress:  24%|██████████                               |  ETA: 11:42:44\u001b[39m\r",
      "\u001b[32mProgress:  24%|██████████                               |  ETA: 11:37:53\u001b[39m"
     ]
    },
    {
     "name": "stdout",
     "output_type": "stream",
     "text": [
      "(loss(1.0))(train_data) = param(147.31)\n",
      "(loss(0.0))(train_data) = param(111.706)\n"
     ]
    },
    {
     "name": "stderr",
     "output_type": "stream",
     "text": [
      "\r",
      "\u001b[32mProgress:  24%|██████████                               |  ETA: 11:33:05\u001b[39m"
     ]
    },
    {
     "name": "stdout",
     "output_type": "stream",
     "text": [
      "(loss(1.0))(train_data) = param(134.748)\n",
      "(loss(0.0))(train_data) = param(111.537)\n"
     ]
    },
    {
     "name": "stderr",
     "output_type": "stream",
     "text": [
      "\r",
      "\u001b[32mProgress:  25%|██████████                               |  ETA: 11:28:18\u001b[39m"
     ]
    },
    {
     "name": "stdout",
     "output_type": "stream",
     "text": [
      "(loss(1.0))(train_data) = param(143.494)\n",
      "(loss(0.0))(train_data) = param(111.677)\n"
     ]
    },
    {
     "name": "stderr",
     "output_type": "stream",
     "text": [
      "\r",
      "\u001b[32mProgress:  26%|██████████                               |  ETA: 11:23:35\u001b[39m"
     ]
    },
    {
     "name": "stdout",
     "output_type": "stream",
     "text": [
      "(loss(1.0))(train_data) = param(138.571)\n",
      "(loss(0.0))(train_data) = param(111.744)\n",
      "(loss(1.0))(train_data) = param(134.57)\n",
      "(loss(0.0))(train_data) = param(111.544)\n"
     ]
    },
    {
     "name": "stderr",
     "output_type": "stream",
     "text": [
      "\r",
      "\u001b[32mProgress:  26%|███████████                              |  ETA: 11:18:47\u001b[39m\r",
      "\u001b[32mProgress:  26%|███████████                              |  ETA: 11:14:01\u001b[39m"
     ]
    },
    {
     "name": "stdout",
     "output_type": "stream",
     "text": [
      "(loss(1.0))(train_data) = param(136.414)\n",
      "(loss(0.0))(train_data) = param(111.661)\n"
     ]
    },
    {
     "name": "stderr",
     "output_type": "stream",
     "text": [
      "\r",
      "\u001b[32mProgress:  27%|███████████                              |  ETA: 11:09:25\u001b[39m"
     ]
    },
    {
     "name": "stdout",
     "output_type": "stream",
     "text": [
      "(loss(1.0))(train_data) = param(134.489)\n",
      "(loss(0.0))(train_data) = param(111.724)\n"
     ]
    },
    {
     "name": "stderr",
     "output_type": "stream",
     "text": [
      "\r",
      "\u001b[32mProgress:  28%|███████████                              |  ETA: 11:04:40\u001b[39m"
     ]
    },
    {
     "name": "stdout",
     "output_type": "stream",
     "text": [
      "(loss(1.0))(train_data) = param(137.101)\n",
      "(loss(0.0))(train_data) = param(111.517)\n"
     ]
    },
    {
     "name": "stderr",
     "output_type": "stream",
     "text": [
      "\r",
      "\u001b[32mProgress:  28%|███████████                              |  ETA: 10:59:56\u001b[39m"
     ]
    },
    {
     "name": "stdout",
     "output_type": "stream",
     "text": [
      "(loss(1.0))(train_data) = param(141.721)\n",
      "(loss(0.0))(train_data) = param(111.652)\n"
     ]
    },
    {
     "name": "stderr",
     "output_type": "stream",
     "text": [
      "\r",
      "\u001b[32mProgress:  28%|████████████                             |  ETA: 10:55:14\u001b[39m"
     ]
    },
    {
     "name": "stdout",
     "output_type": "stream",
     "text": [
      "(loss(1.0))(train_data) = param(133.768)\n",
      "(loss(0.0))(train_data) = param(111.65)\n"
     ]
    },
    {
     "name": "stderr",
     "output_type": "stream",
     "text": [
      "\r",
      "\u001b[32mProgress:  29%|████████████                             |  ETA: 10:50:33\u001b[39m"
     ]
    },
    {
     "name": "stdout",
     "output_type": "stream",
     "text": [
      "(loss(1.0))(train_data) = param(134.751)\n",
      "(loss(0.0))(train_data) = param(111.627)\n"
     ]
    },
    {
     "name": "stderr",
     "output_type": "stream",
     "text": [
      "\r",
      "\u001b[32mProgress:  30%|████████████                             |  ETA: 10:45:58\u001b[39m"
     ]
    },
    {
     "name": "stdout",
     "output_type": "stream",
     "text": [
      "(loss(1.0))(train_data) = param(136.144)\n",
      "(loss(0.0))(train_data) = param(111.654)\n"
     ]
    },
    {
     "name": "stderr",
     "output_type": "stream",
     "text": [
      "\r",
      "\u001b[32mProgress:  30%|████████████                             |  ETA: 10:41:13\u001b[39m"
     ]
    },
    {
     "name": "stdout",
     "output_type": "stream",
     "text": [
      "(loss(1.0))(train_data) = param(134.231)\n",
      "(loss(0.0))(train_data) = param(111.706)\n"
     ]
    },
    {
     "name": "stderr",
     "output_type": "stream",
     "text": [
      "\r",
      "\u001b[32mProgress:  30%|█████████████                            |  ETA: 10:36:36\u001b[39m"
     ]
    },
    {
     "name": "stdout",
     "output_type": "stream",
     "text": [
      "(loss(1.0))(train_data) = param(134.52)\n",
      "(loss(0.0))(train_data) = param(111.63)\n"
     ]
    },
    {
     "name": "stderr",
     "output_type": "stream",
     "text": [
      "\r",
      "\u001b[32mProgress:  31%|█████████████                            |  ETA: 10:31:51\u001b[39m"
     ]
    },
    {
     "name": "stdout",
     "output_type": "stream",
     "text": [
      "(loss(1.0))(train_data) = param(133.555)\n",
      "(loss(0.0))(train_data) = param(111.747)\n",
      "(loss(1.0))(train_data) = param(133.303)\n",
      "(loss(0.0))(train_data) = param(111.735)\n"
     ]
    },
    {
     "name": "stderr",
     "output_type": "stream",
     "text": [
      "\r",
      "\u001b[32mProgress:  32%|█████████████                            |  ETA: 10:27:10\u001b[39m\r",
      "\u001b[32mProgress:  32%|█████████████                            |  ETA: 10:22:31\u001b[39m"
     ]
    },
    {
     "name": "stdout",
     "output_type": "stream",
     "text": [
      "(loss(1.0))(train_data) = param(135.48)\n",
      "(loss(0.0))(train_data) = param(111.72)\n"
     ]
    },
    {
     "name": "stderr",
     "output_type": "stream",
     "text": [
      "\r",
      "\u001b[32mProgress:  32%|█████████████                            |  ETA: 10:17:49\u001b[39m"
     ]
    },
    {
     "name": "stdout",
     "output_type": "stream",
     "text": [
      "(loss(1.0))(train_data) = param(134.401)\n",
      "(loss(0.0))(train_data) = param(111.527)\n"
     ]
    },
    {
     "name": "stderr",
     "output_type": "stream",
     "text": [
      "\r",
      "\u001b[32mProgress:  33%|██████████████                           |  ETA: 10:13:10\u001b[39m"
     ]
    },
    {
     "name": "stdout",
     "output_type": "stream",
     "text": [
      "(loss(1.0))(train_data) = param(134.126)\n",
      "(loss(0.0))(train_data) = param(111.739)\n"
     ]
    },
    {
     "name": "stderr",
     "output_type": "stream",
     "text": [
      "\r",
      "\u001b[32mProgress:  34%|██████████████                           |  ETA: 10:08:27\u001b[39m"
     ]
    },
    {
     "name": "stdout",
     "output_type": "stream",
     "text": [
      "(loss(1.0))(train_data) = param(133.878)\n",
      "(loss(0.0))(train_data) = param(111.632)\n"
     ]
    },
    {
     "name": "stderr",
     "output_type": "stream",
     "text": [
      "\r",
      "\u001b[32mProgress:  34%|██████████████                           |  ETA: 10:03:53\u001b[39m"
     ]
    },
    {
     "name": "stdout",
     "output_type": "stream",
     "text": [
      "(loss(1.0))(train_data) = param(138.571)\n",
      "(loss(0.0))(train_data) = param(111.857)\n"
     ]
    },
    {
     "name": "stderr",
     "output_type": "stream",
     "text": [
      "\r",
      "\u001b[32mProgress:  34%|██████████████                           |  ETA: 9:59:10\u001b[39m"
     ]
    },
    {
     "name": "stdout",
     "output_type": "stream",
     "text": [
      "(loss(1.0))(train_data) = param(138.48)\n",
      "(loss(0.0))(train_data) = param(111.612)\n"
     ]
    },
    {
     "name": "stderr",
     "output_type": "stream",
     "text": [
      "\r",
      "\u001b[32mProgress:  35%|██████████████                           |  ETA: 9:54:32\u001b[39m"
     ]
    },
    {
     "name": "stdout",
     "output_type": "stream",
     "text": [
      "(loss(1.0))(train_data) = param(140.44)\n",
      "(loss(0.0))(train_data) = param(111.604)\n"
     ]
    },
    {
     "name": "stderr",
     "output_type": "stream",
     "text": [
      "\r",
      "\u001b[32mProgress:  36%|███████████████                          |  ETA: 9:49:53\u001b[39m"
     ]
    },
    {
     "name": "stdout",
     "output_type": "stream",
     "text": [
      "(loss(1.0))(train_data) = param(146.97)\n",
      "(loss(0.0))(train_data) = param(111.479)\n"
     ]
    },
    {
     "name": "stderr",
     "output_type": "stream",
     "text": [
      "\r",
      "\u001b[32mProgress:  36%|███████████████                          |  ETA: 9:45:15\u001b[39m"
     ]
    },
    {
     "name": "stdout",
     "output_type": "stream",
     "text": [
      "(loss(1.0))(train_data) = param(136.55)\n",
      "(loss(0.0))(train_data) = param(111.529)\n"
     ]
    },
    {
     "name": "stderr",
     "output_type": "stream",
     "text": [
      "\r",
      "\u001b[32mProgress:  36%|███████████████                          |  ETA: 9:40:34\u001b[39m"
     ]
    },
    {
     "name": "stdout",
     "output_type": "stream",
     "text": [
      "(loss(1.0))(train_data) = param(141.584)\n",
      "(loss(0.0))(train_data) = param(111.527)\n"
     ]
    },
    {
     "name": "stderr",
     "output_type": "stream",
     "text": [
      "\r",
      "\u001b[32mProgress:  37%|███████████████                          |  ETA: 9:35:54\u001b[39m"
     ]
    },
    {
     "name": "stdout",
     "output_type": "stream",
     "text": [
      "(loss(1.0))(train_data) = param(134.156)\n",
      "(loss(0.0))(train_data) = param(111.923)\n"
     ]
    },
    {
     "name": "stderr",
     "output_type": "stream",
     "text": [
      "\r",
      "\u001b[32mProgress:  38%|███████████████                          |  ETA: 9:31:17\u001b[39m"
     ]
    },
    {
     "name": "stdout",
     "output_type": "stream",
     "text": [
      "(loss(1.0))(train_data) = param(141.741)\n",
      "(loss(0.0))(train_data) = param(111.757)\n"
     ]
    },
    {
     "name": "stderr",
     "output_type": "stream",
     "text": [
      "\r",
      "\u001b[32mProgress:  38%|████████████████                         |  ETA: 9:26:36\u001b[39m"
     ]
    },
    {
     "name": "stdout",
     "output_type": "stream",
     "text": [
      "(loss(1.0))(train_data) = param(143.579)\n",
      "(loss(0.0))(train_data) = param(111.679)\n"
     ]
    },
    {
     "name": "stderr",
     "output_type": "stream",
     "text": [
      "\r",
      "\u001b[32mProgress:  38%|████████████████                         |  ETA: 9:22:00\u001b[39m"
     ]
    },
    {
     "name": "stdout",
     "output_type": "stream",
     "text": [
      "(loss(1.0))(train_data) = param(133.334)\n",
      "(loss(0.0))(train_data) = param(111.574)\n"
     ]
    },
    {
     "name": "stderr",
     "output_type": "stream",
     "text": [
      "\r",
      "\u001b[32mProgress:  39%|████████████████                         |  ETA: 9:17:23\u001b[39m"
     ]
    },
    {
     "name": "stdout",
     "output_type": "stream",
     "text": [
      "(loss(1.0))(train_data) = param(133.97)\n",
      "(loss(0.0))(train_data) = param(111.298)\n"
     ]
    },
    {
     "name": "stderr",
     "output_type": "stream",
     "text": [
      "\r",
      "\u001b[32mProgress:  40%|████████████████                         |  ETA: 9:12:45\u001b[39m"
     ]
    },
    {
     "name": "stdout",
     "output_type": "stream",
     "text": [
      "(loss(1.0))(train_data) = param(134.044)\n",
      "(loss(0.0))(train_data) = param(111.538)\n"
     ]
    },
    {
     "name": "stderr",
     "output_type": "stream",
     "text": [
      "\r",
      "\u001b[32mProgress:  40%|████████████████                         |  ETA: 9:08:05\u001b[39m"
     ]
    },
    {
     "name": "stdout",
     "output_type": "stream",
     "text": [
      "(loss(1.0))(train_data) = param(135.121)\n",
      "(loss(0.0))(train_data) = param(111.46)\n"
     ]
    },
    {
     "name": "stderr",
     "output_type": "stream",
     "text": [
      "\r",
      "\u001b[32mProgress:  40%|█████████████████                        |  ETA: 9:03:29\u001b[39m"
     ]
    },
    {
     "name": "stdout",
     "output_type": "stream",
     "text": [
      "(loss(1.0))(train_data) = param(132.961)\n",
      "(loss(0.0))(train_data) = param(111.664)\n"
     ]
    },
    {
     "name": "stderr",
     "output_type": "stream",
     "text": [
      "\r",
      "\u001b[32mProgress:  41%|█████████████████                        |  ETA: 8:58:52\u001b[39m"
     ]
    },
    {
     "name": "stdout",
     "output_type": "stream",
     "text": [
      "(loss(1.0))(train_data) = param(132.333)\n",
      "(loss(0.0))(train_data) = param(111.474)\n"
     ]
    },
    {
     "name": "stderr",
     "output_type": "stream",
     "text": [
      "\r",
      "\u001b[32mProgress:  42%|█████████████████                        |  ETA: 8:54:12\u001b[39m"
     ]
    },
    {
     "name": "stdout",
     "output_type": "stream",
     "text": [
      "(loss(1.0))(train_data) = param(132.931)\n",
      "(loss(0.0))(train_data) = param(111.359)\n"
     ]
    },
    {
     "name": "stderr",
     "output_type": "stream",
     "text": [
      "\r",
      "\u001b[32mProgress:  42%|█████████████████                        |  ETA: 8:49:37\u001b[39m"
     ]
    },
    {
     "name": "stdout",
     "output_type": "stream",
     "text": [
      "(loss(1.0))(train_data) = param(132.041)\n",
      "(loss(0.0))(train_data) = param(111.351)\n"
     ]
    },
    {
     "name": "stderr",
     "output_type": "stream",
     "text": [
      "\r",
      "\u001b[32mProgress:  42%|█████████████████                        |  ETA: 8:45:01\u001b[39m"
     ]
    },
    {
     "name": "stdout",
     "output_type": "stream",
     "text": [
      "(loss(1.0))(train_data) = param(140.351)\n",
      "(loss(0.0))(train_data) = param(111.467)\n",
      "(loss(1.0))(train_data) = param(133.317)\n",
      "(loss(0.0))(train_data) = param(111.37)\n"
     ]
    },
    {
     "name": "stderr",
     "output_type": "stream",
     "text": [
      "\r",
      "\u001b[32mProgress:  43%|██████████████████                       |  ETA: 8:40:22\u001b[39m\r",
      "\u001b[32mProgress:  44%|██████████████████                       |  ETA: 8:35:44\u001b[39m"
     ]
    },
    {
     "name": "stdout",
     "output_type": "stream",
     "text": [
      "(loss(1.0))(train_data) = param(137.348)\n",
      "(loss(0.0))(train_data) = param(111.27)\n"
     ]
    },
    {
     "name": "stderr",
     "output_type": "stream",
     "text": [
      "\r",
      "\u001b[32mProgress:  44%|██████████████████                       |  ETA: 8:31:08\u001b[39m"
     ]
    },
    {
     "name": "stdout",
     "output_type": "stream",
     "text": [
      "(loss(1.0))(train_data) = param(132.533)\n",
      "(loss(0.0))(train_data) = param(111.517)\n"
     ]
    },
    {
     "name": "stderr",
     "output_type": "stream",
     "text": [
      "\r",
      "\u001b[32mProgress:  44%|██████████████████                       |  ETA: 8:26:31\u001b[39m"
     ]
    },
    {
     "name": "stdout",
     "output_type": "stream",
     "text": [
      "(loss(1.0))(train_data) = param(134.266)\n",
      "(loss(0.0))(train_data) = param(111.376)\n"
     ]
    },
    {
     "name": "stderr",
     "output_type": "stream",
     "text": [
      "\r",
      "\u001b[32mProgress:  45%|██████████████████                       |  ETA: 8:21:54\u001b[39m"
     ]
    },
    {
     "name": "stdout",
     "output_type": "stream",
     "text": [
      "(loss(1.0))(train_data) = param(131.333)\n",
      "(loss(0.0))(train_data) = param(111.402)\n"
     ]
    },
    {
     "name": "stderr",
     "output_type": "stream",
     "text": [
      "\r",
      "\u001b[32mProgress:  46%|███████████████████                      |  ETA: 8:17:20\u001b[39m"
     ]
    },
    {
     "name": "stdout",
     "output_type": "stream",
     "text": [
      "(loss(1.0))(train_data) = param(131.474)\n",
      "(loss(0.0))(train_data) = param(111.5)\n"
     ]
    },
    {
     "name": "stderr",
     "output_type": "stream",
     "text": [
      "\r",
      "\u001b[32mProgress:  46%|███████████████████                      |  ETA: 8:12:43\u001b[39m"
     ]
    },
    {
     "name": "stdout",
     "output_type": "stream",
     "text": [
      "(loss(1.0))(train_data) = param(131.661)\n",
      "(loss(0.0))(train_data) = param(111.34)\n"
     ]
    },
    {
     "name": "stderr",
     "output_type": "stream",
     "text": [
      "\r",
      "\u001b[32mProgress:  46%|███████████████████                      |  ETA: 8:08:08\u001b[39m"
     ]
    },
    {
     "name": "stdout",
     "output_type": "stream",
     "text": [
      "(loss(1.0))(train_data) = param(132.527)\n",
      "(loss(0.0))(train_data) = param(111.511)\n"
     ]
    },
    {
     "name": "stderr",
     "output_type": "stream",
     "text": [
      "\r",
      "\u001b[32mProgress:  47%|███████████████████                      |  ETA: 8:03:30\u001b[39m"
     ]
    },
    {
     "name": "stdout",
     "output_type": "stream",
     "text": [
      "(loss(1.0))(train_data) = param(133.817)\n",
      "(loss(0.0))(train_data) = param(111.311)\n"
     ]
    },
    {
     "name": "stderr",
     "output_type": "stream",
     "text": [
      "\r",
      "\u001b[32mProgress:  48%|███████████████████                      |  ETA: 7:58:56\u001b[39m"
     ]
    },
    {
     "name": "stdout",
     "output_type": "stream",
     "text": [
      "(loss(1.0))(train_data) = param(130.869)\n",
      "(loss(0.0))(train_data) = param(111.323)\n"
     ]
    },
    {
     "name": "stderr",
     "output_type": "stream",
     "text": [
      "\r",
      "\u001b[32mProgress:  48%|████████████████████                     |  ETA: 7:54:19\u001b[39m"
     ]
    },
    {
     "name": "stdout",
     "output_type": "stream",
     "text": [
      "(loss(1.0))(train_data) = param(131.179)\n",
      "(loss(0.0))(train_data) = param(111.28)\n"
     ]
    },
    {
     "name": "stderr",
     "output_type": "stream",
     "text": [
      "\r",
      "\u001b[32mProgress:  48%|████████████████████                     |  ETA: 7:49:42\u001b[39m"
     ]
    },
    {
     "name": "stdout",
     "output_type": "stream",
     "text": [
      "(loss(1.0))(train_data) = param(131.854)\n",
      "(loss(0.0))(train_data) = param(111.168)\n"
     ]
    },
    {
     "name": "stderr",
     "output_type": "stream",
     "text": [
      "\r",
      "\u001b[32mProgress:  49%|████████████████████                     |  ETA: 7:45:09\u001b[39m"
     ]
    },
    {
     "name": "stdout",
     "output_type": "stream",
     "text": [
      "(loss(1.0))(train_data) = param(131.974)\n",
      "(loss(0.0))(train_data) = param(111.122)\n"
     ]
    },
    {
     "name": "stderr",
     "output_type": "stream",
     "text": [
      "\r",
      "\u001b[32mProgress:  50%|████████████████████                     |  ETA: 7:40:32\u001b[39m"
     ]
    },
    {
     "name": "stdout",
     "output_type": "stream",
     "text": [
      "(loss(1.0))(train_data) = param(131.388)\n",
      "(loss(0.0))(train_data) = param(111.488)\n"
     ]
    },
    {
     "name": "stderr",
     "output_type": "stream",
     "text": [
      "\r",
      "\u001b[32mProgress:  50%|████████████████████                     |  ETA: 7:35:55\u001b[39m"
     ]
    },
    {
     "name": "stdout",
     "output_type": "stream",
     "text": [
      "(loss(1.0))(train_data) = param(132.146)\n",
      "(loss(0.0))(train_data) = param(111.534)\n"
     ]
    },
    {
     "name": "stderr",
     "output_type": "stream",
     "text": [
      "\r",
      "\u001b[32mProgress:  50%|█████████████████████                    |  ETA: 7:31:18\u001b[39m"
     ]
    },
    {
     "name": "stdout",
     "output_type": "stream",
     "text": [
      "(loss(1.0))(train_data) = param(131.234)\n",
      "(loss(0.0))(train_data) = param(111.551)\n",
      "(loss(1.0))(train_data) = param(133.583)\n",
      "(loss(0.0))(train_data) = param(111.431)\n"
     ]
    },
    {
     "name": "stderr",
     "output_type": "stream",
     "text": [
      "\r",
      "\u001b[32mProgress:  51%|█████████████████████                    |  ETA: 7:26:46\u001b[39m\r",
      "\u001b[32mProgress:  52%|█████████████████████                    |  ETA: 7:22:09\u001b[39m"
     ]
    },
    {
     "name": "stdout",
     "output_type": "stream",
     "text": [
      "(loss(1.0))(train_data) = param(131.928)\n",
      "(loss(0.0))(train_data) = param(111.57)\n"
     ]
    },
    {
     "name": "stderr",
     "output_type": "stream",
     "text": [
      "\r",
      "\u001b[32mProgress:  52%|█████████████████████                    |  ETA: 7:17:32\u001b[39m"
     ]
    },
    {
     "name": "stdout",
     "output_type": "stream",
     "text": [
      "(loss(1.0))(train_data) = param(130.549)\n",
      "(loss(0.0))(train_data) = param(110.975)\n"
     ]
    },
    {
     "name": "stderr",
     "output_type": "stream",
     "text": [
      "\r",
      "\u001b[32mProgress:  52%|██████████████████████                   |  ETA: 7:12:59\u001b[39m"
     ]
    },
    {
     "name": "stdout",
     "output_type": "stream",
     "text": [
      "(loss(1.0))(train_data) = param(134.082)\n",
      "(loss(0.0))(train_data) = param(111.063)\n"
     ]
    },
    {
     "name": "stderr",
     "output_type": "stream",
     "text": [
      "\r",
      "\u001b[32mProgress:  53%|██████████████████████                   |  ETA: 7:08:23\u001b[39m"
     ]
    },
    {
     "name": "stdout",
     "output_type": "stream",
     "text": [
      "(loss(1.0))(train_data) = param(130.84)\n",
      "(loss(0.0))(train_data) = param(111.294)\n"
     ]
    },
    {
     "name": "stderr",
     "output_type": "stream",
     "text": [
      "\r",
      "\u001b[32mProgress:  54%|██████████████████████                   |  ETA: 7:03:48\u001b[39m"
     ]
    },
    {
     "name": "stdout",
     "output_type": "stream",
     "text": [
      "(loss(1.0))(train_data) = param(130.684)\n",
      "(loss(0.0))(train_data) = param(111.152)\n"
     ]
    },
    {
     "name": "stderr",
     "output_type": "stream",
     "text": [
      "\r",
      "\u001b[32mProgress:  54%|██████████████████████                   |  ETA: 6:59:13\u001b[39m"
     ]
    },
    {
     "name": "stdout",
     "output_type": "stream",
     "text": [
      "(loss(1.0))(train_data) = param(131.157)\n",
      "(loss(0.0))(train_data) = param(111.169)\n"
     ]
    },
    {
     "name": "stderr",
     "output_type": "stream",
     "text": [
      "\r",
      "\u001b[32mProgress:  54%|██████████████████████                   |  ETA: 6:54:38\u001b[39m"
     ]
    },
    {
     "name": "stdout",
     "output_type": "stream",
     "text": [
      "(loss(1.0))(train_data) = param(130.81)\n",
      "(loss(0.0))(train_data) = param(111.112)\n"
     ]
    },
    {
     "name": "stderr",
     "output_type": "stream",
     "text": [
      "\r",
      "\u001b[32mProgress:  55%|███████████████████████                  |  ETA: 6:50:02\u001b[39m"
     ]
    },
    {
     "name": "stdout",
     "output_type": "stream",
     "text": [
      "(loss(1.0))(train_data) = param(130.726)\n",
      "(loss(0.0))(train_data) = param(111.364)\n"
     ]
    },
    {
     "name": "stderr",
     "output_type": "stream",
     "text": [
      "\r",
      "\u001b[32mProgress:  56%|███████████████████████                  |  ETA: 6:45:27\u001b[39m"
     ]
    },
    {
     "name": "stdout",
     "output_type": "stream",
     "text": [
      "(loss(1.0))(train_data) = param(134.848)\n",
      "(loss(0.0))(train_data) = param(111.191)\n"
     ]
    },
    {
     "name": "stderr",
     "output_type": "stream",
     "text": [
      "\r",
      "\u001b[32mProgress:  56%|███████████████████████                  |  ETA: 6:40:55\u001b[39m"
     ]
    },
    {
     "name": "stdout",
     "output_type": "stream",
     "text": [
      "(loss(1.0))(train_data) = param(131.857)\n",
      "(loss(0.0))(train_data) = param(111.165)\n"
     ]
    },
    {
     "name": "stderr",
     "output_type": "stream",
     "text": [
      "\r",
      "\u001b[32mProgress:  56%|███████████████████████                  |  ETA: 6:36:19\u001b[39m"
     ]
    },
    {
     "name": "stdout",
     "output_type": "stream",
     "text": [
      "(loss(1.0))(train_data) = param(131.591)\n",
      "(loss(0.0))(train_data) = param(110.979)\n"
     ]
    },
    {
     "name": "stderr",
     "output_type": "stream",
     "text": [
      "\r",
      "\u001b[32mProgress:  57%|███████████████████████                  |  ETA: 6:31:45\u001b[39m"
     ]
    },
    {
     "name": "stdout",
     "output_type": "stream",
     "text": [
      "(loss(1.0))(train_data) = param(131.199)\n",
      "(loss(0.0))(train_data) = param(110.973)\n"
     ]
    },
    {
     "name": "stderr",
     "output_type": "stream",
     "text": [
      "\r",
      "\u001b[32mProgress:  58%|████████████████████████                 |  ETA: 6:27:10\u001b[39m"
     ]
    },
    {
     "name": "stdout",
     "output_type": "stream",
     "text": [
      "(loss(1.0))(train_data) = param(130.084)\n",
      "(loss(0.0))(train_data) = param(110.977)\n"
     ]
    },
    {
     "name": "stderr",
     "output_type": "stream",
     "text": [
      "\r",
      "\u001b[32mProgress:  58%|████████████████████████                 |  ETA: 6:22:36\u001b[39m"
     ]
    },
    {
     "name": "stdout",
     "output_type": "stream",
     "text": [
      "(loss(1.0))(train_data) = param(130.117)\n",
      "(loss(0.0))(train_data) = param(111.05)\n"
     ]
    },
    {
     "name": "stderr",
     "output_type": "stream",
     "text": [
      "\r",
      "\u001b[32mProgress:  58%|████████████████████████                 |  ETA: 6:18:01\u001b[39m"
     ]
    },
    {
     "name": "stdout",
     "output_type": "stream",
     "text": [
      "(loss(1.0))(train_data) = param(130.776)\n",
      "(loss(0.0))(train_data) = param(111.085)\n",
      "(loss(1.0))(train_data) = param(134.93)\n",
      "(loss(0.0))(train_data) = param(110.979)\n"
     ]
    },
    {
     "name": "stderr",
     "output_type": "stream",
     "text": [
      "\r",
      "\u001b[32mProgress:  59%|████████████████████████                 |  ETA: 6:13:26\u001b[39m\r",
      "\u001b[32mProgress:  60%|████████████████████████                 |  ETA: 6:08:52\u001b[39m"
     ]
    },
    {
     "name": "stdout",
     "output_type": "stream",
     "text": [
      "(loss(1.0))(train_data) = param(134.294)\n",
      "(loss(0.0))(train_data) = param(111.133)\n"
     ]
    },
    {
     "name": "stderr",
     "output_type": "stream",
     "text": [
      "\r",
      "\u001b[32mProgress:  60%|█████████████████████████                |  ETA: 6:04:17\u001b[39m"
     ]
    },
    {
     "name": "stdout",
     "output_type": "stream",
     "text": [
      "(loss(1.0))(train_data) = param(133.087)\n",
      "(loss(0.0))(train_data) = param(110.881)\n"
     ]
    },
    {
     "name": "stderr",
     "output_type": "stream",
     "text": [
      "\r",
      "\u001b[32mProgress:  60%|█████████████████████████                |  ETA: 5:59:43\u001b[39m"
     ]
    },
    {
     "name": "stdout",
     "output_type": "stream",
     "text": [
      "(loss(1.0))(train_data) = param(132.965)\n",
      "(loss(0.0))(train_data) = param(110.928)\n"
     ]
    },
    {
     "name": "stderr",
     "output_type": "stream",
     "text": [
      "\r",
      "\u001b[32mProgress:  61%|█████████████████████████                |  ETA: 5:55:10\u001b[39m"
     ]
    },
    {
     "name": "stdout",
     "output_type": "stream",
     "text": [
      "(loss(1.0))(train_data) = param(131.45)\n",
      "(loss(0.0))(train_data) = param(111.03)\n"
     ]
    },
    {
     "name": "stderr",
     "output_type": "stream",
     "text": [
      "\r",
      "\u001b[32mProgress:  62%|█████████████████████████                |  ETA: 5:50:35\u001b[39m"
     ]
    },
    {
     "name": "stdout",
     "output_type": "stream",
     "text": [
      "(loss(1.0))(train_data) = param(135.683)\n",
      "(loss(0.0))(train_data) = param(110.813)\n"
     ]
    },
    {
     "name": "stderr",
     "output_type": "stream",
     "text": [
      "\r",
      "\u001b[32mProgress:  62%|█████████████████████████                |  ETA: 5:46:00\u001b[39m"
     ]
    },
    {
     "name": "stdout",
     "output_type": "stream",
     "text": [
      "(loss(1.0))(train_data) = param(132.748)\n",
      "(loss(0.0))(train_data) = param(111.12)\n"
     ]
    },
    {
     "name": "stderr",
     "output_type": "stream",
     "text": [
      "\r",
      "\u001b[32mProgress:  62%|██████████████████████████               |  ETA: 5:41:26\u001b[39m"
     ]
    },
    {
     "name": "stdout",
     "output_type": "stream",
     "text": [
      "(loss(1.0))(train_data) = param(129.897)\n",
      "(loss(0.0))(train_data) = param(110.971)\n"
     ]
    },
    {
     "name": "stderr",
     "output_type": "stream",
     "text": [
      "\r",
      "\u001b[32mProgress:  63%|██████████████████████████               |  ETA: 5:36:51\u001b[39m"
     ]
    },
    {
     "name": "stdout",
     "output_type": "stream",
     "text": [
      "(loss(1.0))(train_data) = param(130.392)\n",
      "(loss(0.0))(train_data) = param(110.945)\n",
      "(loss(1.0))(train_data) = param(132.975)\n",
      "(loss(0.0))(train_data) = param(110.531)\n"
     ]
    },
    {
     "name": "stderr",
     "output_type": "stream",
     "text": [
      "\r",
      "\u001b[32mProgress:  64%|██████████████████████████               |  ETA: 5:32:16\u001b[39m\r",
      "\u001b[32mProgress:  64%|██████████████████████████               |  ETA: 5:27:43\u001b[39m"
     ]
    },
    {
     "name": "stdout",
     "output_type": "stream",
     "text": [
      "(loss(1.0))(train_data) = param(129.747)\n",
      "(loss(0.0))(train_data) = param(110.697)\n"
     ]
    },
    {
     "name": "stderr",
     "output_type": "stream",
     "text": [
      "\r",
      "\u001b[32mProgress:  64%|██████████████████████████               |  ETA: 5:23:09\u001b[39m"
     ]
    },
    {
     "name": "stdout",
     "output_type": "stream",
     "text": [
      "(loss(1.0))(train_data) = param(130.255)\n",
      "(loss(0.0))(train_data) = param(110.87)\n"
     ]
    },
    {
     "name": "stderr",
     "output_type": "stream",
     "text": [
      "\r",
      "\u001b[32mProgress:  65%|███████████████████████████              |  ETA: 5:18:35\u001b[39m"
     ]
    },
    {
     "name": "stdout",
     "output_type": "stream",
     "text": [
      "(loss(1.0))(train_data) = param(129.856)\n",
      "(loss(0.0))(train_data) = param(110.771)\n"
     ]
    },
    {
     "name": "stderr",
     "output_type": "stream",
     "text": [
      "\r",
      "\u001b[32mProgress:  66%|███████████████████████████              |  ETA: 5:14:01\u001b[39m"
     ]
    },
    {
     "name": "stdout",
     "output_type": "stream",
     "text": [
      "(loss(1.0))(train_data) = param(131.564)\n",
      "(loss(0.0))(train_data) = param(110.766)\n"
     ]
    },
    {
     "name": "stderr",
     "output_type": "stream",
     "text": [
      "\r",
      "\u001b[32mProgress:  66%|███████████████████████████              |  ETA: 5:09:27\u001b[39m"
     ]
    },
    {
     "name": "stdout",
     "output_type": "stream",
     "text": [
      "(loss(1.0))(train_data) = param(134.943)\n",
      "(loss(0.0))(train_data) = param(110.508)\n"
     ]
    },
    {
     "name": "stderr",
     "output_type": "stream",
     "text": [
      "\r",
      "\u001b[32mProgress:  66%|███████████████████████████              |  ETA: 5:04:52\u001b[39m"
     ]
    },
    {
     "name": "stdout",
     "output_type": "stream",
     "text": [
      "(loss(1.0))(train_data) = param(129.837)\n",
      "(loss(0.0))(train_data) = param(110.951)\n"
     ]
    },
    {
     "name": "stderr",
     "output_type": "stream",
     "text": [
      "\r",
      "\u001b[32mProgress:  67%|███████████████████████████              |  ETA: 5:00:18\u001b[39m"
     ]
    },
    {
     "name": "stdout",
     "output_type": "stream",
     "text": [
      "(loss(1.0))(train_data) = param(130.037)\n",
      "(loss(0.0))(train_data) = param(110.515)\n"
     ]
    },
    {
     "name": "stderr",
     "output_type": "stream",
     "text": [
      "\r",
      "\u001b[32mProgress:  68%|████████████████████████████             |  ETA: 4:55:45\u001b[39m"
     ]
    },
    {
     "name": "stdout",
     "output_type": "stream",
     "text": [
      "(loss(1.0))(train_data) = param(130.916)\n",
      "(loss(0.0))(train_data) = param(110.946)\n"
     ]
    },
    {
     "name": "stderr",
     "output_type": "stream",
     "text": [
      "\r",
      "\u001b[32mProgress:  68%|████████████████████████████             |  ETA: 4:51:11\u001b[39m"
     ]
    },
    {
     "name": "stdout",
     "output_type": "stream",
     "text": [
      "(loss(1.0))(train_data) = param(130.166)\n",
      "(loss(0.0))(train_data) = param(110.562)\n"
     ]
    },
    {
     "name": "stderr",
     "output_type": "stream",
     "text": [
      "\r",
      "\u001b[32mProgress:  68%|████████████████████████████             |  ETA: 4:46:37\u001b[39m"
     ]
    },
    {
     "name": "stdout",
     "output_type": "stream",
     "text": [
      "(loss(1.0))(train_data) = param(129.759)\n",
      "(loss(0.0))(train_data) = param(110.821)\n"
     ]
    },
    {
     "name": "stderr",
     "output_type": "stream",
     "text": [
      "\r",
      "\u001b[32mProgress:  69%|████████████████████████████             |  ETA: 4:42:03\u001b[39m"
     ]
    },
    {
     "name": "stdout",
     "output_type": "stream",
     "text": [
      "(loss(1.0))(train_data) = param(129.861)\n",
      "(loss(0.0))(train_data) = param(110.635)\n"
     ]
    },
    {
     "name": "stderr",
     "output_type": "stream",
     "text": [
      "\r",
      "\u001b[32mProgress:  70%|████████████████████████████             |  ETA: 4:37:31\u001b[39m"
     ]
    },
    {
     "name": "stdout",
     "output_type": "stream",
     "text": [
      "(loss(1.0))(train_data) = param(130.224)\n",
      "(loss(0.0))(train_data) = param(110.836)\n"
     ]
    },
    {
     "name": "stderr",
     "output_type": "stream",
     "text": [
      "\r",
      "\u001b[32mProgress:  70%|█████████████████████████████            |  ETA: 4:32:56\u001b[39m"
     ]
    },
    {
     "name": "stdout",
     "output_type": "stream",
     "text": [
      "(loss(1.0))(train_data) = param(130.614)\n",
      "(loss(0.0))(train_data) = param(110.665)\n"
     ]
    },
    {
     "name": "stderr",
     "output_type": "stream",
     "text": [
      "\r",
      "\u001b[32mProgress:  70%|█████████████████████████████            |  ETA: 4:28:23\u001b[39m"
     ]
    },
    {
     "name": "stdout",
     "output_type": "stream",
     "text": [
      "(loss(1.0))(train_data) = param(137.673)\n",
      "(loss(0.0))(train_data) = param(110.637)\n"
     ]
    },
    {
     "name": "stderr",
     "output_type": "stream",
     "text": [
      "\r",
      "\u001b[32mProgress:  71%|█████████████████████████████            |  ETA: 4:23:50\u001b[39m"
     ]
    },
    {
     "name": "stdout",
     "output_type": "stream",
     "text": [
      "(loss(1.0))(train_data) = param(131.946)\n",
      "(loss(0.0))(train_data) = param(110.484)\n"
     ]
    },
    {
     "name": "stderr",
     "output_type": "stream",
     "text": [
      "\r",
      "\u001b[32mProgress:  72%|█████████████████████████████            |  ETA: 4:19:16\u001b[39m"
     ]
    },
    {
     "name": "stdout",
     "output_type": "stream",
     "text": [
      "(loss(1.0))(train_data) = param(129.682)\n",
      "(loss(0.0))(train_data) = param(110.635)\n"
     ]
    },
    {
     "name": "stderr",
     "output_type": "stream",
     "text": [
      "\r",
      "\u001b[32mProgress:  72%|██████████████████████████████           |  ETA: 4:14:43\u001b[39m"
     ]
    },
    {
     "name": "stdout",
     "output_type": "stream",
     "text": [
      "(loss(1.0))(train_data) = param(131.023)\n",
      "(loss(0.0))(train_data) = param(110.661)\n"
     ]
    },
    {
     "name": "stderr",
     "output_type": "stream",
     "text": [
      "\r",
      "\u001b[32mProgress:  72%|██████████████████████████████           |  ETA: 4:10:09\u001b[39m"
     ]
    },
    {
     "name": "stdout",
     "output_type": "stream",
     "text": [
      "(loss(1.0))(train_data) = param(131.016)\n",
      "(loss(0.0))(train_data) = param(110.612)\n"
     ]
    },
    {
     "name": "stderr",
     "output_type": "stream",
     "text": [
      "\r",
      "\u001b[32mProgress:  73%|██████████████████████████████           |  ETA: 4:05:36\u001b[39m"
     ]
    },
    {
     "name": "stdout",
     "output_type": "stream",
     "text": [
      "(loss(1.0))(train_data) = param(130.454)\n",
      "(loss(0.0))(train_data) = param(110.61)\n"
     ]
    },
    {
     "name": "stderr",
     "output_type": "stream",
     "text": [
      "\r",
      "\u001b[32mProgress:  74%|██████████████████████████████           |  ETA: 4:01:02\u001b[39m"
     ]
    },
    {
     "name": "stdout",
     "output_type": "stream",
     "text": [
      "(loss(1.0))(train_data) = param(129.093)\n",
      "(loss(0.0))(train_data) = param(110.541)\n",
      "(loss(1.0))(train_data) = param(130.469)\n",
      "(loss(0.0))(train_data) = param(110.642)\n"
     ]
    },
    {
     "name": "stderr",
     "output_type": "stream",
     "text": [
      "\r",
      "\u001b[32mProgress:  74%|██████████████████████████████           |  ETA: 3:56:29\u001b[39m\r",
      "\u001b[32mProgress:  74%|███████████████████████████████          |  ETA: 3:51:55\u001b[39m"
     ]
    },
    {
     "name": "stdout",
     "output_type": "stream",
     "text": [
      "(loss(1.0))(train_data) = param(131.105)\n",
      "(loss(0.0))(train_data) = param(110.696)\n"
     ]
    },
    {
     "name": "stderr",
     "output_type": "stream",
     "text": [
      "\r",
      "\u001b[32mProgress:  75%|███████████████████████████████          |  ETA: 3:47:22\u001b[39m"
     ]
    },
    {
     "name": "stdout",
     "output_type": "stream",
     "text": [
      "(loss(1.0))(train_data) = param(130.209)\n",
      "(loss(0.0))(train_data) = param(110.3)\n"
     ]
    },
    {
     "name": "stderr",
     "output_type": "stream",
     "text": [
      "\r",
      "\u001b[32mProgress:  76%|███████████████████████████████          |  ETA: 3:42:49\u001b[39m"
     ]
    },
    {
     "name": "stdout",
     "output_type": "stream",
     "text": [
      "(loss(1.0))(train_data) = param(129.167)\n",
      "(loss(0.0))(train_data) = param(110.439)\n"
     ]
    },
    {
     "name": "stderr",
     "output_type": "stream",
     "text": [
      "\r",
      "\u001b[32mProgress:  76%|███████████████████████████████          |  ETA: 3:38:15\u001b[39m"
     ]
    },
    {
     "name": "stdout",
     "output_type": "stream",
     "text": [
      "(loss(1.0))(train_data) = param(129.123)\n",
      "(loss(0.0))(train_data) = param(110.23)\n"
     ]
    },
    {
     "name": "stderr",
     "output_type": "stream",
     "text": [
      "\r",
      "\u001b[32mProgress:  76%|███████████████████████████████          |  ETA: 3:33:42\u001b[39m"
     ]
    },
    {
     "name": "stdout",
     "output_type": "stream",
     "text": [
      "(loss(1.0))(train_data) = param(130.078)\n",
      "(loss(0.0))(train_data) = param(110.293)\n"
     ]
    },
    {
     "name": "stderr",
     "output_type": "stream",
     "text": [
      "\r",
      "\u001b[32mProgress:  77%|████████████████████████████████         |  ETA: 3:29:08\u001b[39m"
     ]
    },
    {
     "name": "stdout",
     "output_type": "stream",
     "text": [
      "(loss(1.0))(train_data) = param(130.103)\n",
      "(loss(0.0))(train_data) = param(110.029)\n",
      "(loss(1.0))(train_data) = param(129.752)\n",
      "(loss(0.0))(train_data) = param(110.02)\n"
     ]
    },
    {
     "name": "stderr",
     "output_type": "stream",
     "text": [
      "\r",
      "\u001b[32mProgress:  78%|████████████████████████████████         |  ETA: 3:24:36\u001b[39m\r",
      "\u001b[32mProgress:  78%|████████████████████████████████         |  ETA: 3:20:03\u001b[39m"
     ]
    },
    {
     "name": "stdout",
     "output_type": "stream",
     "text": [
      "(loss(1.0))(train_data) = param(130.29)\n",
      "(loss(0.0))(train_data) = param(110.321)\n"
     ]
    },
    {
     "name": "stderr",
     "output_type": "stream",
     "text": [
      "\r",
      "\u001b[32mProgress:  78%|████████████████████████████████         |  ETA: 3:15:30\u001b[39m"
     ]
    },
    {
     "name": "stdout",
     "output_type": "stream",
     "text": [
      "(loss(1.0))(train_data) = param(128.834)\n",
      "(loss(0.0))(train_data) = param(110.255)\n"
     ]
    },
    {
     "name": "stderr",
     "output_type": "stream",
     "text": [
      "\r",
      "\u001b[32mProgress:  79%|████████████████████████████████         |  ETA: 3:10:56\u001b[39m"
     ]
    },
    {
     "name": "stdout",
     "output_type": "stream",
     "text": [
      "(loss(1.0))(train_data) = param(129.232)\n",
      "(loss(0.0))(train_data) = param(110.276)\n",
      "(loss(1.0))(train_data) = param(129.01)\n",
      "(loss(0.0))(train_data) = param(110.158)\n"
     ]
    },
    {
     "name": "stderr",
     "output_type": "stream",
     "text": [
      "\r",
      "\u001b[32mProgress:  80%|█████████████████████████████████        |  ETA: 3:06:23\u001b[39m\r",
      "\u001b[32mProgress:  80%|█████████████████████████████████        |  ETA: 3:01:50\u001b[39m"
     ]
    },
    {
     "name": "stdout",
     "output_type": "stream",
     "text": [
      "(loss(1.0))(train_data) = param(129.318)\n",
      "(loss(0.0))(train_data) = param(109.82)\n"
     ]
    },
    {
     "name": "stderr",
     "output_type": "stream",
     "text": [
      "\r",
      "\u001b[32mProgress:  80%|█████████████████████████████████        |  ETA: 2:57:17\u001b[39m"
     ]
    },
    {
     "name": "stdout",
     "output_type": "stream",
     "text": [
      "(loss(1.0))(train_data) = param(130.168)\n",
      "(loss(0.0))(train_data) = param(110.067)\n"
     ]
    },
    {
     "name": "stderr",
     "output_type": "stream",
     "text": [
      "\r",
      "\u001b[32mProgress:  81%|█████████████████████████████████        |  ETA: 2:52:44\u001b[39m"
     ]
    },
    {
     "name": "stdout",
     "output_type": "stream",
     "text": [
      "(loss(1.0))(train_data) = param(128.248)\n",
      "(loss(0.0))(train_data) = param(109.847)\n",
      "(loss(1.0))(train_data) = param(131.646)\n",
      "(loss(0.0))(train_data) = param(110.162)\n"
     ]
    },
    {
     "name": "stderr",
     "output_type": "stream",
     "text": [
      "\r",
      "\u001b[32mProgress:  82%|█████████████████████████████████        |  ETA: 2:48:11\u001b[39m\r",
      "\u001b[32mProgress:  82%|██████████████████████████████████       |  ETA: 2:43:38\u001b[39m"
     ]
    },
    {
     "name": "stdout",
     "output_type": "stream",
     "text": [
      "(loss(1.0))(train_data) = param(129.872)\n",
      "(loss(0.0))(train_data) = param(109.944)\n"
     ]
    },
    {
     "name": "stderr",
     "output_type": "stream",
     "text": [
      "\r",
      "\u001b[32mProgress:  82%|██████████████████████████████████       |  ETA: 2:39:05\u001b[39m"
     ]
    },
    {
     "name": "stdout",
     "output_type": "stream",
     "text": [
      "(loss(1.0))(train_data) = param(130.369)\n",
      "(loss(0.0))(train_data) = param(110.388)\n"
     ]
    },
    {
     "name": "stderr",
     "output_type": "stream",
     "text": [
      "\r",
      "\u001b[32mProgress:  83%|██████████████████████████████████       |  ETA: 2:34:32\u001b[39m"
     ]
    },
    {
     "name": "stdout",
     "output_type": "stream",
     "text": [
      "(loss(1.0))(train_data) = param(129.99)\n",
      "(loss(0.0))(train_data) = param(110.316)\n"
     ]
    },
    {
     "name": "stderr",
     "output_type": "stream",
     "text": [
      "\r",
      "\u001b[32mProgress:  84%|██████████████████████████████████       |  ETA: 2:29:59\u001b[39m"
     ]
    },
    {
     "name": "stdout",
     "output_type": "stream",
     "text": [
      "(loss(1.0))(train_data) = param(128.964)\n",
      "(loss(0.0))(train_data) = param(109.961)\n"
     ]
    },
    {
     "name": "stderr",
     "output_type": "stream",
     "text": [
      "\r",
      "\u001b[32mProgress:  84%|██████████████████████████████████       |  ETA: 2:25:26\u001b[39m"
     ]
    },
    {
     "name": "stdout",
     "output_type": "stream",
     "text": [
      "(loss(1.0))(train_data) = param(128.783)\n",
      "(loss(0.0))(train_data) = param(109.881)\n"
     ]
    },
    {
     "name": "stderr",
     "output_type": "stream",
     "text": [
      "\r",
      "\u001b[32mProgress:  84%|███████████████████████████████████      |  ETA: 2:20:53\u001b[39m"
     ]
    },
    {
     "name": "stdout",
     "output_type": "stream",
     "text": [
      "(loss(1.0))(train_data) = param(130.59)\n",
      "(loss(0.0))(train_data) = param(109.736)\n"
     ]
    },
    {
     "name": "stderr",
     "output_type": "stream",
     "text": [
      "\r",
      "\u001b[32mProgress:  85%|███████████████████████████████████      |  ETA: 2:16:20\u001b[39m"
     ]
    },
    {
     "name": "stdout",
     "output_type": "stream",
     "text": [
      "(loss(1.0))(train_data) = param(130.896)\n",
      "(loss(0.0))(train_data) = param(109.786)\n"
     ]
    },
    {
     "name": "stderr",
     "output_type": "stream",
     "text": [
      "\r",
      "\u001b[32mProgress:  86%|███████████████████████████████████      |  ETA: 2:11:47\u001b[39m"
     ]
    },
    {
     "name": "stdout",
     "output_type": "stream",
     "text": [
      "(loss(1.0))(train_data) = param(129.853)\n",
      "(loss(0.0))(train_data) = param(109.599)\n"
     ]
    },
    {
     "name": "stderr",
     "output_type": "stream",
     "text": [
      "\r",
      "\u001b[32mProgress:  86%|███████████████████████████████████      |  ETA: 2:07:14\u001b[39m"
     ]
    },
    {
     "name": "stdout",
     "output_type": "stream",
     "text": [
      "(loss(1.0))(train_data) = param(129.902)\n",
      "(loss(0.0))(train_data) = param(109.702)\n"
     ]
    },
    {
     "name": "stderr",
     "output_type": "stream",
     "text": [
      "\r",
      "\u001b[32mProgress:  86%|███████████████████████████████████      |  ETA: 2:02:42\u001b[39m"
     ]
    },
    {
     "name": "stdout",
     "output_type": "stream",
     "text": [
      "(loss(1.0))(train_data) = param(139.074)\n",
      "(loss(0.0))(train_data) = param(109.9)\n"
     ]
    },
    {
     "name": "stderr",
     "output_type": "stream",
     "text": [
      "\r",
      "\u001b[32mProgress:  87%|████████████████████████████████████     |  ETA: 1:58:09\u001b[39m"
     ]
    },
    {
     "name": "stdout",
     "output_type": "stream",
     "text": [
      "(loss(1.0))(train_data) = param(131.473)\n",
      "(loss(0.0))(train_data) = param(109.513)\n"
     ]
    },
    {
     "name": "stderr",
     "output_type": "stream",
     "text": [
      "\r",
      "\u001b[32mProgress:  88%|████████████████████████████████████     |  ETA: 1:53:36\u001b[39m"
     ]
    },
    {
     "name": "stdout",
     "output_type": "stream",
     "text": [
      "(loss(1.0))(train_data) = param(127.984)\n",
      "(loss(0.0))(train_data) = param(109.717)\n",
      "(loss(1.0))(train_data) = param(134.202)\n",
      "(loss(0.0))(train_data) = param(109.762)\n"
     ]
    },
    {
     "name": "stderr",
     "output_type": "stream",
     "text": [
      "\r",
      "\u001b[32mProgress:  88%|████████████████████████████████████     |  ETA: 1:49:03\u001b[39m\r",
      "\u001b[32mProgress:  88%|████████████████████████████████████     |  ETA: 1:44:30\u001b[39m"
     ]
    },
    {
     "name": "stdout",
     "output_type": "stream",
     "text": [
      "(loss(1.0))(train_data) = param(130.057)\n",
      "(loss(0.0))(train_data) = param(109.509)\n"
     ]
    },
    {
     "name": "stderr",
     "output_type": "stream",
     "text": [
      "\r",
      "\u001b[32mProgress:  89%|████████████████████████████████████     |  ETA: 1:39:58\u001b[39m"
     ]
    },
    {
     "name": "stdout",
     "output_type": "stream",
     "text": [
      "(loss(1.0))(train_data) = param(129.404)\n",
      "(loss(0.0))(train_data) = param(109.432)\n"
     ]
    },
    {
     "name": "stderr",
     "output_type": "stream",
     "text": [
      "\r",
      "\u001b[32mProgress:  90%|█████████████████████████████████████    |  ETA: 1:35:25\u001b[39m"
     ]
    },
    {
     "name": "stdout",
     "output_type": "stream",
     "text": [
      "(loss(1.0))(train_data) = param(128.28)\n",
      "(loss(0.0))(train_data) = param(109.49)\n"
     ]
    },
    {
     "name": "stderr",
     "output_type": "stream",
     "text": [
      "\r",
      "\u001b[32mProgress:  90%|█████████████████████████████████████    |  ETA: 1:30:52\u001b[39m"
     ]
    },
    {
     "name": "stdout",
     "output_type": "stream",
     "text": [
      "(loss(1.0))(train_data) = param(128.712)\n",
      "(loss(0.0))(train_data) = param(109.758)\n"
     ]
    },
    {
     "name": "stderr",
     "output_type": "stream",
     "text": [
      "\r",
      "\u001b[32mProgress:  90%|█████████████████████████████████████    |  ETA: 1:26:19\u001b[39m"
     ]
    },
    {
     "name": "stdout",
     "output_type": "stream",
     "text": [
      "(loss(1.0))(train_data) = param(129.822)\n",
      "(loss(0.0))(train_data) = param(109.316)\n"
     ]
    },
    {
     "name": "stderr",
     "output_type": "stream",
     "text": [
      "\r",
      "\u001b[32mProgress:  91%|█████████████████████████████████████    |  ETA: 1:21:46\u001b[39m"
     ]
    },
    {
     "name": "stdout",
     "output_type": "stream",
     "text": [
      "(loss(1.0))(train_data) = param(128.198)\n",
      "(loss(0.0))(train_data) = param(109.428)\n"
     ]
    },
    {
     "name": "stderr",
     "output_type": "stream",
     "text": [
      "\r",
      "\u001b[32mProgress:  92%|██████████████████████████████████████   |  ETA: 1:17:14\u001b[39m"
     ]
    },
    {
     "name": "stdout",
     "output_type": "stream",
     "text": [
      "(loss(1.0))(train_data) = param(133.028)\n",
      "(loss(0.0))(train_data) = param(109.027)\n"
     ]
    },
    {
     "name": "stderr",
     "output_type": "stream",
     "text": [
      "\r",
      "\u001b[32mProgress:  92%|██████████████████████████████████████   |  ETA: 1:12:41\u001b[39m"
     ]
    },
    {
     "name": "stdout",
     "output_type": "stream",
     "text": [
      "(loss(1.0))(train_data) = param(131.449)\n",
      "(loss(0.0))(train_data) = param(109.019)\n",
      "(loss(1.0))(train_data) = param(128.203)\n",
      "(loss(0.0))(train_data) = param(109.673)\n"
     ]
    },
    {
     "name": "stderr",
     "output_type": "stream",
     "text": [
      "\r",
      "\u001b[32mProgress:  92%|██████████████████████████████████████   |  ETA: 1:08:09\u001b[39m\r",
      "\u001b[32mProgress:  93%|██████████████████████████████████████   |  ETA: 1:03:36\u001b[39m"
     ]
    },
    {
     "name": "stdout",
     "output_type": "stream",
     "text": [
      "(loss(1.0))(train_data) = param(128.0)\n",
      "(loss(0.0))(train_data) = param(109.538)\n"
     ]
    },
    {
     "name": "stderr",
     "output_type": "stream",
     "text": [
      "\r",
      "\u001b[32mProgress:  94%|██████████████████████████████████████   |  ETA: 0:59:03\u001b[39m"
     ]
    },
    {
     "name": "stdout",
     "output_type": "stream",
     "text": [
      "(loss(1.0))(train_data) = param(127.786)\n",
      "(loss(0.0))(train_data) = param(109.239)\n"
     ]
    },
    {
     "name": "stderr",
     "output_type": "stream",
     "text": [
      "\r",
      "\u001b[32mProgress:  94%|███████████████████████████████████████  |  ETA: 0:54:31\u001b[39m"
     ]
    },
    {
     "name": "stdout",
     "output_type": "stream",
     "text": [
      "(loss(1.0))(train_data) = param(128.188)\n",
      "(loss(0.0))(train_data) = param(109.251)\n"
     ]
    },
    {
     "name": "stderr",
     "output_type": "stream",
     "text": [
      "\r",
      "\u001b[32mProgress:  94%|███████████████████████████████████████  |  ETA: 0:49:58\u001b[39m"
     ]
    },
    {
     "name": "stdout",
     "output_type": "stream",
     "text": [
      "(loss(1.0))(train_data) = param(127.501)\n",
      "(loss(0.0))(train_data) = param(108.956)\n"
     ]
    },
    {
     "name": "stderr",
     "output_type": "stream",
     "text": [
      "\r",
      "\u001b[32mProgress:  95%|███████████████████████████████████████  |  ETA: 0:45:26\u001b[39m"
     ]
    },
    {
     "name": "stdout",
     "output_type": "stream",
     "text": [
      "(loss(1.0))(train_data) = param(133.137)\n",
      "(loss(0.0))(train_data) = param(108.958)\n"
     ]
    },
    {
     "name": "stderr",
     "output_type": "stream",
     "text": [
      "\r",
      "\u001b[32mProgress:  96%|███████████████████████████████████████  |  ETA: 0:40:53\u001b[39m"
     ]
    },
    {
     "name": "stdout",
     "output_type": "stream",
     "text": [
      "(loss(1.0))(train_data) = param(131.252)\n",
      "(loss(0.0))(train_data) = param(109.177)\n",
      "(loss(1.0))(train_data) = param(127.962)\n",
      "(loss(0.0))(train_data) = param(109.021)\n"
     ]
    },
    {
     "name": "stderr",
     "output_type": "stream",
     "text": [
      "\r",
      "\u001b[32mProgress:  96%|███████████████████████████████████████  |  ETA: 0:36:20\u001b[39m\r",
      "\u001b[32mProgress:  96%|████████████████████████████████████████ |  ETA: 0:31:48\u001b[39m"
     ]
    },
    {
     "name": "stdout",
     "output_type": "stream",
     "text": [
      "(loss(1.0))(train_data) = param(128.05)\n",
      "(loss(0.0))(train_data) = param(108.938)\n"
     ]
    },
    {
     "name": "stderr",
     "output_type": "stream",
     "text": [
      "\r",
      "\u001b[32mProgress:  97%|████████████████████████████████████████ |  ETA: 0:27:15\u001b[39m"
     ]
    },
    {
     "name": "stdout",
     "output_type": "stream",
     "text": [
      "(loss(1.0))(train_data) = param(127.233)\n",
      "(loss(0.0))(train_data) = param(108.693)\n"
     ]
    },
    {
     "name": "stderr",
     "output_type": "stream",
     "text": [
      "\r",
      "\u001b[32mProgress:  98%|████████████████████████████████████████ |  ETA: 0:22:43\u001b[39m"
     ]
    },
    {
     "name": "stdout",
     "output_type": "stream",
     "text": [
      "(loss(1.0))(train_data) = param(128.559)\n",
      "(loss(0.0))(train_data) = param(108.985)\n",
      "(loss(1.0))(train_data) = param(126.595)\n",
      "(loss(0.0))(train_data) = param(108.847)\n"
     ]
    },
    {
     "name": "stderr",
     "output_type": "stream",
     "text": [
      "\r",
      "\u001b[32mProgress:  98%|████████████████████████████████████████ |  ETA: 0:18:10\u001b[39m\r",
      "\u001b[32mProgress:  98%|████████████████████████████████████████ |  ETA: 0:13:38\u001b[39m"
     ]
    },
    {
     "name": "stdout",
     "output_type": "stream",
     "text": [
      "(loss(1.0))(train_data) = param(127.839)\n",
      "(loss(0.0))(train_data) = param(108.577)\n"
     ]
    },
    {
     "name": "stderr",
     "output_type": "stream",
     "text": [
      "\r",
      "\u001b[32mProgress:  99%|█████████████████████████████████████████|  ETA: 0:09:05\u001b[39m"
     ]
    },
    {
     "name": "stdout",
     "output_type": "stream",
     "text": [
      "(loss(1.0))(train_data) = param(127.183)\n",
      "(loss(0.0))(train_data) = param(108.805)\n"
     ]
    },
    {
     "name": "stderr",
     "output_type": "stream",
     "text": [
      "\r",
      "\u001b[32mProgress: 100%|█████████████████████████████████████████|  ETA: 0:04:32\u001b[39m"
     ]
    },
    {
     "name": "stdout",
     "output_type": "stream",
     "text": [
      "(loss(1.0))(train_data) = param(135.504)\n",
      "(loss(0.0))(train_data) = param(108.217)\n"
     ]
    },
    {
     "name": "stderr",
     "output_type": "stream",
     "text": [
      "\r",
      "\u001b[32mProgress: 100%|█████████████████████████████████████████| Time: 15:08:19\u001b[39m\n"
     ]
    }
   ],
   "source": [
    "train_loss = loss(1.0)\n",
    "@showprogress for i in 1:200\n",
    "    batches = eachbatch(shuffleobs(train_data), size=50)\n",
    "    for batch in batches\n",
    "        l = train_loss(batch)\n",
    "        isinf(Flux.Tracker.value(l)) && error(\"Loss is Inf\")\n",
    "        isnan(Flux.Tracker.value(l)) && error(\"Loss is NaN\")\n",
    "        Flux.back!(l)\n",
    "        opt()\n",
    "    end\n",
    "    @show loss(1.0)(train_data) loss(0.0)(train_data)\n",
    "end"
   ]
  },
  {
   "cell_type": "code",
   "execution_count": 40,
   "metadata": {},
   "outputs": [
    {
     "data": {
      "text/plain": [
       "6-element Array{Any,1}:\n",
       " param([-0.874318 -0.894906 0.449782 -0.29218; -0.0491876 -0.916839 0.0816046 -0.0822522; … ; -0.753808 -2.2484 0.0164334 -0.0220471; -0.135119 -0.0400157 0.206078 -0.206259])                                              \n",
       " param([-0.685669, -0.508003, 0.0230763, 0.150286, -0.280697, -0.0709213, 0.370353, 0.528606, -0.17281, -1.45689  …  -0.12054, 0.0365872, 0.5142, 0.171768, -1.13385, 0.0225197, -1.77688, -0.431941, -0.724202, -0.0487545])\n",
       " param([0.0827438 0.181199 … 0.0714366 0.429206; 0.296025 0.318421 … 0.190893 0.398564; … ; -0.350043 -0.300057 … -0.0530053 -0.973669; 0.331874 0.488173 … 0.620462 0.636777])                                              \n",
       " param([-0.876633, -0.984719, -0.130419, -1.70156, 1.24424, -0.45569, 0.0369737, -1.02634, -1.16589, -0.681811  …  -0.480377, -1.24427, -1.37558, -0.426286, -1.05001, -0.729481, -0.587845, 2.35657, 1.83911, -0.917382])   \n",
       " param([0.0186335 0.091613 … 0.00885737 0.00890532])                                                                                                                                                                         \n",
       " param([-0.680092])                                                                                                                                                                                                          "
      ]
     },
     "execution_count": 40,
     "metadata": {},
     "output_type": "execute_result"
    }
   ],
   "source": [
    "jldopen(\"2018-01-25-value-tangents-data.jld2\", \"w\") do file\n",
    "    file[\"model\"] = model\n",
    "    file[\"params\"] = params(model)\n",
    "end"
   ]
  },
  {
   "cell_type": "code",
   "execution_count": 45,
   "metadata": {},
   "outputs": [
    {
     "data": {
      "text/plain": [
       "Process(`/home/rdeits/locomotion/explorations/learning-mpc/packages/v0.6/DrakeVisualizer/src/../deps/usr/bin/drake-visualizer`, ProcessRunning)"
      ]
     },
     "execution_count": 45,
     "metadata": {},
     "output_type": "execute_result"
    }
   ],
   "source": [
    "import LCPSim\n",
    "import Hoppers\n",
    "using RigidBodyDynamics\n",
    "using Gurobi\n",
    "using DrakeVisualizer\n",
    "DrakeVisualizer.any_open_windows() || DrakeVisualizer.new_window()"
   ]
  },
  {
   "cell_type": "code",
   "execution_count": 46,
   "metadata": {},
   "outputs": [
    {
     "data": {
      "text/plain": [
       "([0.0 0.0 1.0 0.0; 0.0 0.0 0.0 1.0; 0.0 0.0 0.0 0.0; 0.0 0.0 0.0 0.0], [0.0 0.0; 0.0 0.0; 0.0 1.0; 0.0 1.0], [0.0, 0.0, -9.81, -9.81])"
      ]
     },
     "execution_count": 46,
     "metadata": {},
     "output_type": "execute_result"
    }
   ],
   "source": [
    "robot = Hoppers.Hopper()\n",
    "xstar = Hoppers.nominal_state(robot)\n",
    "ustar = zeros(num_velocities(xstar))\n",
    "basevis = Visualizer()[:hopper]\n",
    "setgeometry!(basevis, robot)\n",
    "settransform!(basevis[:robot], xstar)\n",
    "\n",
    "Q, R = Hoppers.default_costs(robot)\n",
    "foot = findbody(robot.mechanism, \"foot\")\n",
    "Δt = 0.05\n",
    "Jc = LCPSim.ContactLQR.contact_jacobian(xstar, [Point3D(default_frame(foot), 0., 0., 0.)])\n",
    "A, B, c = LCPSim.ContactLQR.contact_linearize(xstar, ustar, Jc)"
   ]
  },
  {
   "cell_type": "code",
   "execution_count": 47,
   "metadata": {},
   "outputs": [
    {
     "data": {
      "text/plain": [
       "(param([223.087]), param([-32.3593 3.97868 -0.706242 0.638184]))"
      ]
     },
     "execution_count": 47,
     "metadata": {},
     "output_type": "execute_result"
    }
   ],
   "source": [
    "model(zeros(4))"
   ]
  },
  {
   "cell_type": "code",
   "execution_count": 48,
   "metadata": {},
   "outputs": [
    {
     "data": {
      "text/plain": [
       "(::#99) (generic function with 1 method)"
      ]
     },
     "execution_count": 48,
     "metadata": {},
     "output_type": "execute_result"
    }
   ],
   "source": [
    "net_value_controller = state -> begin\n",
    "    x = state_vector(state)\n",
    "    value, jac = model(x)\n",
    "    u = vec(-inv(R) * B' * Flux.Tracker.value(jac)')\n",
    "end"
   ]
  },
  {
   "cell_type": "code",
   "execution_count": 51,
   "metadata": {
    "collapsed": true
   },
   "outputs": [],
   "source": [
    "x_init = MechanismState{Float64}(robot.mechanism)\n",
    "set_configuration!(x_init, [1.0, 1.0])\n",
    "set_velocity!(x_init, [0., 0.])\n",
    "LearningMPC.randomize!(x_init, x_init, 0.5, 1.0)\n",
    "results = LCPSim.simulate(x_init, net_value_controller,\n",
    "    robot.environment,\n",
    "    Δt,\n",
    "    100,\n",
    "    GurobiSolver(Gurobi.Env(), OutputFlag=0));"
   ]
  },
  {
   "cell_type": "code",
   "execution_count": 52,
   "metadata": {
    "collapsed": true
   },
   "outputs": [],
   "source": [
    "LearningMPC.playback(basevis[:robot], results, Δt)"
   ]
  },
  {
   "cell_type": "code",
   "execution_count": null,
   "metadata": {
    "collapsed": true
   },
   "outputs": [],
   "source": []
  }
 ],
 "metadata": {
  "kernelspec": {
   "display_name": "Julia 0.6.2",
   "language": "julia",
   "name": "julia-0.6"
  },
  "language_info": {
   "file_extension": ".jl",
   "mimetype": "application/julia",
   "name": "julia",
   "version": "0.6.2"
  }
 },
 "nbformat": 4,
 "nbformat_minor": 2
}
