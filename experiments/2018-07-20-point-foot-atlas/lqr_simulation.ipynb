{
 "cells": [
  {
   "cell_type": "code",
   "execution_count": 1,
   "metadata": {},
   "outputs": [],
   "source": [
    "using Revise"
   ]
  },
  {
   "cell_type": "code",
   "execution_count": 8,
   "metadata": {},
   "outputs": [
    {
     "name": "stderr",
     "output_type": "stream",
     "text": [
      "\u001b[1m\u001b[36mINFO: \u001b[39m\u001b[22m\u001b[36mRecompiling stale cache file /home/rdeits/locomotion/explorations/learning-mpc-2/packages/lib/v0.6/LCPSim.ji for module LCPSim.\n",
      "\u001b[39m"
     ]
    }
   ],
   "source": [
    "using RigidBodyDynamics\n",
    "using RigidBodyDynamics.Contact\n",
    "using MeshCat\n",
    "using MeshCatMechanisms\n",
    "using AtlasRobot\n",
    "using Blink\n",
    "using RigidBodySim"
   ]
  },
  {
   "cell_type": "code",
   "execution_count": 3,
   "metadata": {},
   "outputs": [
    {
     "name": "stderr",
     "output_type": "stream",
     "text": [
      "WARNING: using Juno.input in module InteractBase conflicts with an existing identifier.\n"
     ]
    },
    {
     "data": {
      "text/plain": [
       "Blink.AtomShell.Window(2, Blink.AtomShell.Electron(Process(`/home/rdeits/locomotion/explorations/learning-mpc-2/packages/v0.6/Blink/deps/atom/electron /home/rdeits/locomotion/explorations/learning-mpc-2/packages/v0.6/Blink/src/AtomShell/main.js port 8168`, ProcessRunning), TCPSocket(RawFD(63) active, 0 bytes waiting), Dict{String,Any}(Pair{String,Any}(\"callback\", Blink.#3))), Blink.Page(2, #undef, Dict{String,Any}(Pair{String,Any}(\"callback\", Blink.#3)), Future(1, 1, 2, Nullable{Any}())))"
      ]
     },
     "execution_count": 3,
     "metadata": {},
     "output_type": "execute_result"
    }
   ],
   "source": [
    "vis = Visualizer()\n",
    "open(vis, Window())\n",
    "manip_window = Window()"
   ]
  },
  {
   "cell_type": "code",
   "execution_count": 4,
   "metadata": {},
   "outputs": [
    {
     "data": {
      "text/plain": [
       "Blink.Page(2, WebSockets.WebSocket{TCPSocket}(TCPSocket(RawFD(64) active, 0 bytes waiting), true, CONNECTED::WebSockets.ReadyState = 1), Dict{String,Any}(Pair{String,Any}(\"webio\", WebIO.#111),Pair{String,Any}(\"callback\", Blink.#3)), Future(1, 1, 2, Nullable{Any}(true)))"
      ]
     },
     "execution_count": 4,
     "metadata": {},
     "output_type": "execute_result"
    }
   ],
   "source": [
    "delete!(vis)\n",
    "mechanism = parse_urdf(Float64, \"atlas.urdf\")\n",
    "pelvis = findbody(mechanism, \"pelvis\")\n",
    "basejoint = joint_to_parent(pelvis, mechanism)\n",
    "floatingjoint = Joint(basejoint.name, frame_before(basejoint), frame_after(basejoint),\n",
    "    QuaternionFloating{Float64}())\n",
    "replace_joint!(mechanism, basejoint, floatingjoint)\n",
    "basejoint = floatingjoint\n",
    "\n",
    "contactmodel = SoftContactModel(hunt_crossley_hertz(k = 500e3), ViscoelasticCoulombModel(0.8, 20e3, 100.))\n",
    "for (name, offset) in [\n",
    "        (\"l_lleg\", [0, 0, -0.452]),\n",
    "        (\"r_lleg\", [0, 0, -0.452]),\n",
    "        (\"l_ufarm\", [0, -0.05, 0]),\n",
    "        (\"r_ufarm\", [0, -0.05, 0])\n",
    "    ]\n",
    "    body = findbody(mechanism, name)\n",
    "    frame = default_frame(body)\n",
    "    add_contact_point!(body, ContactPoint(Point3D(frame, offset...), contactmodel))\n",
    "end\n",
    "\n",
    "add_environment_primitive!(mechanism, HalfSpace3D(Point3D(root_frame(mechanism), 0., 0, 0),\n",
    "        FreeVector3D(root_frame(mechanism), 0., 0, 1)))\n",
    "\n",
    "mvis = MechanismVisualizer(mechanism, URDFVisuals(\"atlas.urdf\", package_path=[AtlasRobot.packagepath()]), vis)\n",
    "body!(manip_window, manipulate!(mvis))"
   ]
  },
  {
   "cell_type": "code",
   "execution_count": 5,
   "metadata": {},
   "outputs": [
    {
     "data": {
      "text/plain": [
       "init! (generic function with 1 method)"
      ]
     },
     "execution_count": 5,
     "metadata": {},
     "output_type": "execute_result"
    }
   ],
   "source": [
    "function init!(state::MechanismState)\n",
    "    m = state.mechanism\n",
    "    kneebend = 1.1\n",
    "    hipbendextra = 0.1\n",
    "    for sideprefix in ('l', 'r')\n",
    "        knee = findjoint(m, \"$(sideprefix)_leg_kny\")\n",
    "        hippitch = findjoint(m, \"$(sideprefix)_leg_hpy\")\n",
    "        shoulderroll = findjoint(m, \"$(sideprefix)_arm_shx\")\n",
    "        set_configuration!(state, knee, [kneebend])\n",
    "        set_configuration!(state, hippitch, [-kneebend / 2 + hipbendextra])\n",
    "        if sideprefix == 'r'\n",
    "            set_configuration!(state, shoulderroll, 1)\n",
    "        else\n",
    "            set_configuration!(state, shoulderroll, -1)\n",
    "        end\n",
    "    end\n",
    "    set_configuration!(state, findjoint(m, \"pelvis_to_world\"), [1, 0, 0, 0, 0, 0, 0.79])\n",
    "    state\n",
    "end"
   ]
  },
  {
   "cell_type": "code",
   "execution_count": 6,
   "metadata": {},
   "outputs": [],
   "source": [
    "copy!(mvis, init!(MechanismState(mechanism)))"
   ]
  },
  {
   "cell_type": "code",
   "execution_count": 9,
   "metadata": {},
   "outputs": [
    {
     "name": "stderr",
     "output_type": "stream",
     "text": [
      "\u001b[1m\u001b[36mINFO: \u001b[39m\u001b[22m\u001b[36mRecompiling stale cache file /home/rdeits/locomotion/explorations/learning-mpc-2/packages/lib/v0.6/LearningMPC.ji for module LearningMPC.\n",
      "\u001b[39m"
     ]
    }
   ],
   "source": [
    "using LCPSim\n",
    "using LearningMPC"
   ]
  },
  {
   "cell_type": "code",
   "execution_count": 11,
   "metadata": {},
   "outputs": [
    {
     "data": {
      "text/plain": [
       "(37, 37)"
      ]
     },
     "execution_count": 11,
     "metadata": {},
     "output_type": "execute_result"
    }
   ],
   "source": [
    "size(Q)"
   ]
  },
  {
   "cell_type": "code",
   "execution_count": 12,
   "metadata": {},
   "outputs": [
    {
     "data": {
      "text/plain": [
       "(18, 18)"
      ]
     },
     "execution_count": 12,
     "metadata": {},
     "output_type": "execute_result"
    }
   ],
   "source": [
    "size(R)"
   ]
  },
  {
   "cell_type": "code",
   "execution_count": 13,
   "metadata": {},
   "outputs": [
    {
     "data": {
      "text/plain": [
       "37"
      ]
     },
     "execution_count": 13,
     "metadata": {},
     "output_type": "execute_result"
    }
   ],
   "source": [
    "num_positions(state) + num_velocities(state)"
   ]
  },
  {
   "cell_type": "markdown",
   "metadata": {},
   "source": [
    "### TODO:\n",
    "\n",
    "I'm assuming in contact_lqr that the contact Jacobian is the same for positions and velocities. I probably need to multiply by J_qdot_to_v. "
   ]
  },
  {
   "cell_type": "code",
   "execution_count": 26,
   "metadata": {},
   "outputs": [
    {
     "ename": "LoadError",
     "evalue": "\u001b[91mDimensionMismatch(\"A has dimensions (25,37) but B has dimensions (36,37)\")\u001b[39m",
     "output_type": "error",
     "traceback": [
      "\u001b[91mDimensionMismatch(\"A has dimensions (25,37) but B has dimensions (36,37)\")\u001b[39m",
      "",
      "Stacktrace:",
      " [1] \u001b[1mgemm_wrapper!\u001b[22m\u001b[22m\u001b[1m(\u001b[22m\u001b[22m::Array{Float64,2}, ::Char, ::Char, ::Array{Float64,2}, ::Array{Float64,2}\u001b[1m)\u001b[22m\u001b[22m at \u001b[1m./linalg/matmul.jl:345\u001b[22m\u001b[22m",
      " [2] \u001b[1m*\u001b[22m\u001b[22m\u001b[1m(\u001b[22m\u001b[22m::Array{Float64,2}, ::Array{Float64,2}, ::Array{Float64,2}\u001b[1m)\u001b[22m\u001b[22m at \u001b[1m./operators.jl:424\u001b[22m\u001b[22m",
      " [3] \u001b[1mcontact_dlqr\u001b[22m\u001b[22m\u001b[1m(\u001b[22m\u001b[22m::RigidBodyDynamics.MechanismState{Float64,Float64,Float64,TypeSortedCollections.TypeSortedCollection{Tuple{Array{RigidBodyDynamics.Joint{Float64,RigidBodyDynamics.QuaternionFloating{Float64}},1},Array{RigidBodyDynamics.Joint{Float64,RigidBodyDynamics.Fixed{Float64}},1},Array{RigidBodyDynamics.Joint{Float64,RigidBodyDynamics.Revolute{Float64}},1}},3}}, ::RigidBodyDynamics.CustomCollections.SegmentedVector{RigidBodyDynamics.JointID,Float64,Base.OneTo{RigidBodyDynamics.JointID},Array{Float64,1}}, ::Array{Float64,2}, ::Array{Float64,2}, ::Float64, ::Array{RigidBodyDynamics.Spatial.Point3D{StaticArrays.SArray{Tuple{3},Float64,1,3}},1}\u001b[1m)\u001b[22m\u001b[22m at \u001b[1m/home/rdeits/locomotion/explorations/learning-mpc-2/packages/v0.6/LCPSim/src/contact_lqr.jl:280\u001b[22m\u001b[22m",
      " [4] \u001b[1mLearningMPC.LQRSolution\u001b[22m\u001b[22m\u001b[1m(\u001b[22m\u001b[22m::RigidBodyDynamics.MechanismState{Float64,Float64,Float64,TypeSortedCollections.TypeSortedCollection{Tuple{Array{RigidBodyDynamics.Joint{Float64,RigidBodyDynamics.QuaternionFloating{Float64}},1},Array{RigidBodyDynamics.Joint{Float64,RigidBodyDynamics.Fixed{Float64}},1},Array{RigidBodyDynamics.Joint{Float64,RigidBodyDynamics.Revolute{Float64}},1}},3}}, ::Array{Float64,2}, ::Array{Float64,2}, ::Float64, ::Array{RigidBodyDynamics.Spatial.Point3D{StaticArrays.SArray{Tuple{3},Float64,1,3}},1}\u001b[1m)\u001b[22m\u001b[22m at \u001b[1m/home/rdeits/locomotion/explorations/learning-mpc-2/packages/v0.6/LearningMPC/src/LearningMPC.jl:47\u001b[22m\u001b[22m",
      " [5] \u001b[1minclude_string\u001b[22m\u001b[22m\u001b[1m(\u001b[22m\u001b[22m::String, ::String\u001b[1m)\u001b[22m\u001b[22m at \u001b[1m./loading.jl:522\u001b[22m\u001b[22m"
     ]
    },
    {
     "name": "stdout",
     "output_type": "stream",
     "text": [
      "size(M) = (12, 37)\n",
      "size(N) = (37, 25)\n",
      "size(A) = (36, 37)\n",
      "size(B) = (36, 18)\n"
     ]
    },
    {
     "name": "stderr",
     "output_type": "stream",
     "text": [
      "WARNING: Method definition contact_dlqr(RigidBodyDynamics.MechanismState{X, M, C, JointCollection} where JointCollection where C where M where X, AbstractArray{T, 1} where T, AbstractArray{T, 2} where T, AbstractArray{T, 2} where T, Any) in module ContactLQR at /home/rdeits/locomotion/explorations/learning-mpc-2/packages/v0.6/LCPSim/src/contact_lqr.jl:262 overwritten at /home/rdeits/locomotion/explorations/learning-mpc-2/packages/v0.6/LCPSim/src/contact_lqr.jl:262.\n",
      "WARNING: Method definition contact_dlqr(RigidBodyDynamics.MechanismState{X, M, C, JointCollection} where JointCollection where C where M where X, AbstractArray{T, 1} where T, AbstractArray{T, 2} where T, AbstractArray{T, 2} where T, Any, AbstractArray{#s201, 1} where #s201<:(RigidBodyDynamics.Spatial.Point3D{V} where V<:(AbstractArray{T, 1} where T))) in module ContactLQR at /home/rdeits/locomotion/explorations/learning-mpc-2/packages/v0.6/LCPSim/src/contact_lqr.jl:262 overwritten at /home/rdeits/locomotion/explorations/learning-mpc-2/packages/v0.6/LCPSim/src/contact_lqr.jl:262.\n"
     ]
    }
   ],
   "source": [
    "qq = fill(0.1, num_positions(mechanism) + num_velocities(mechanism))\n",
    "qq[1:num_positions(mechanism)] .= 1\n",
    "qq[1:4] .= 100\n",
    "qq[5:7] .= 100\n",
    "Q = diagm(qq)\n",
    "R = diagm(fill(1e-6, num_velocities(mechanism)))\n",
    "Δt = 0.01\n",
    "contacts = [\n",
    "    Point3D(default_frame(findbody(mechanism, name)), offset...)\n",
    "    for (name, offset) in [\n",
    "        (\"l_lleg\", [0, 0, -0.452]),\n",
    "        (\"r_lleg\", [0, 0, -0.452])\n",
    "    ]\n",
    "]\n",
    "lqrsol = LQRSolution(init!(MechanismState(mechanism)),\n",
    "    Q, R, Δt, contacts\n",
    ")"
   ]
  },
  {
   "cell_type": "code",
   "execution_count": 7,
   "metadata": {},
   "outputs": [
    {
     "data": {
      "text/plain": [
       "true"
      ]
     },
     "execution_count": 7,
     "metadata": {},
     "output_type": "execute_result"
    }
   ],
   "source": [
    "state = init!(MechanismState(mechanism))\n",
    "dynamics = Dynamics(mechanism)\n",
    "problem = ODEProblem(dynamics, state, (0., 1.))\n",
    "sol = solve(problem, Tsit5(), abs_tol=1e-8, dt=1e-6)\n",
    "setanimation!(mvis, sol)"
   ]
  },
  {
   "cell_type": "code",
   "execution_count": null,
   "metadata": {},
   "outputs": [],
   "source": []
  }
 ],
 "metadata": {
  "kernelspec": {
   "display_name": "Julia 0.6.4",
   "language": "julia",
   "name": "julia-0.6"
  },
  "language_info": {
   "file_extension": ".jl",
   "mimetype": "application/julia",
   "name": "julia",
   "version": "0.6.4"
  }
 },
 "nbformat": 4,
 "nbformat_minor": 2
}
