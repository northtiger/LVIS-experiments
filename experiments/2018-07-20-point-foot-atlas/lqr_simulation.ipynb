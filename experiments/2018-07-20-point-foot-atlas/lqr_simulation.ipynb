{
 "cells": [
  {
   "cell_type": "code",
   "execution_count": 1,
   "metadata": {},
   "outputs": [],
   "source": [
    "using Revise"
   ]
  },
  {
   "cell_type": "code",
   "execution_count": 2,
   "metadata": {},
   "outputs": [
    {
     "data": {
      "text/html": [
       "    <script class='js-collapse-script'>\n",
       "        var curMatch =\n",
       "            window.location.href\n",
       "            .match(/(.*?)\\/notebooks\\/.*\\.ipynb/);\n",
       "\n",
       "        curMatch = curMatch ||\n",
       "            window.location.href\n",
       "            .match(/(.*?)\\/apps\\/.*\\.ipynb/);\n",
       "\n",
       "        if ( curMatch ) {\n",
       "            $('head').append('<base href=\"' + curMatch[1] + '/\">');\n",
       "        }\n",
       "    </script>\n"
      ],
      "text/plain": [
       "HTML{String}(\"    <script class='js-collapse-script'>\\n        var curMatch =\\n            window.location.href\\n            .match(/(.*?)\\\\/notebooks\\\\/.*\\\\.ipynb/);\\n\\n        curMatch = curMatch ||\\n            window.location.href\\n            .match(/(.*?)\\\\/apps\\\\/.*\\\\.ipynb/);\\n\\n        if ( curMatch ) {\\n            \\$('head').append('<base href=\\\"' + curMatch[1] + '/\\\">');\\n        }\\n    </script>\\n\")"
      ]
     },
     "metadata": {},
     "output_type": "display_data"
    },
    {
     "data": {
      "text/html": [
       "<script class='js-collapse-script' src='/assetserver/9db0e137604e898c25f194d972715156bd46cb81-assets/webio/dist/bundle.js'></script>"
      ],
      "text/plain": [
       "HTML{String}(\"<script class='js-collapse-script' src='/assetserver/9db0e137604e898c25f194d972715156bd46cb81-assets/webio/dist/bundle.js'></script>\")"
      ]
     },
     "metadata": {},
     "output_type": "display_data"
    },
    {
     "data": {
      "text/html": [
       "<script class='js-collapse-script' src='/assetserver/9db0e137604e898c25f194d972715156bd46cb81-assets/providers/ijulia_setup.js'></script>"
      ],
      "text/plain": [
       "HTML{String}(\"<script class='js-collapse-script' src='/assetserver/9db0e137604e898c25f194d972715156bd46cb81-assets/providers/ijulia_setup.js'></script>\")"
      ]
     },
     "metadata": {},
     "output_type": "display_data"
    },
    {
     "data": {
      "text/html": [
       "  <script class='js-collapse-script'>\n",
       "    $('.js-collapse-script').parent('.output_subarea').css('padding', '0');\n",
       "  </script>\n"
      ],
      "text/plain": [
       "HTML{String}(\"  <script class='js-collapse-script'>\\n    \\$('.js-collapse-script').parent('.output_subarea').css('padding', '0');\\n  </script>\\n\")"
      ]
     },
     "metadata": {},
     "output_type": "display_data"
    },
    {
     "name": "stderr",
     "output_type": "stream",
     "text": [
      "\u001b[1m\u001b[36mINFO: \u001b[39m\u001b[22m\u001b[36mLoading HttpServer methods...\n",
      "\u001b[39m\u001b[1m\u001b[36mINFO: \u001b[39m\u001b[22m\u001b[36mRecompiling stale cache file /home/rdeits/locomotion/explorations/learning-mpc-2/packages/lib/v0.6/LCPSim.ji for module LCPSim.\n",
      "\u001b[39m\u001b[1m\u001b[36mINFO: \u001b[39m\u001b[22m\u001b[36mRecompiling stale cache file /home/rdeits/locomotion/explorations/learning-mpc-2/packages/lib/v0.6/LearningMPC.ji for module LearningMPC.\n",
      "\u001b[39m"
     ]
    }
   ],
   "source": [
    "using RigidBodyDynamics\n",
    "using RigidBodyDynamics.Contact\n",
    "using MeshCat\n",
    "using MeshCatMechanisms\n",
    "using AtlasRobot\n",
    "using Blink\n",
    "using RigidBodySim\n",
    "using LCPSim\n",
    "using LearningMPC\n",
    "using StaticArrays\n",
    "using Gurobi"
   ]
  },
  {
   "cell_type": "code",
   "execution_count": 3,
   "metadata": {},
   "outputs": [
    {
     "data": {
      "text/plain": [
       "Blink.AtomShell.Window(1, Blink.AtomShell.Electron(Process(`/home/rdeits/locomotion/explorations/learning-mpc-2/packages/v0.6/Blink/deps/atom/electron /home/rdeits/locomotion/explorations/learning-mpc-2/packages/v0.6/Blink/src/AtomShell/main.js port 4597`, ProcessRunning), TCPSocket(RawFD(53) active, 0 bytes waiting), Dict{String,Any}(Pair{String,Any}(\"callback\", Blink.#1))), Blink.Page(1, WebSockets.WebSocket{TCPSocket}(TCPSocket(RawFD(56) active, 0 bytes waiting), true, CONNECTED::WebSockets.ReadyState = 1), Dict{String,Any}(Pair{String,Any}(\"webio\", WebIO.#109),Pair{String,Any}(\"callback\", Blink.#1)), Future(1, 1, 1, Nullable{Any}(true))))"
      ]
     },
     "execution_count": 3,
     "metadata": {},
     "output_type": "execute_result"
    }
   ],
   "source": [
    "vis = Visualizer()\n",
    "open(vis, Window())\n",
    "# manip_window = Window()"
   ]
  },
  {
   "cell_type": "code",
   "execution_count": 9,
   "metadata": {},
   "outputs": [
    {
     "data": {
      "text/plain": [
       "MeshCatMechanisms.MechanismVisualizer{RigidBodyDynamics.MechanismState{Float64,Float64,Float64,TypeSortedCollections.TypeSortedCollection{Tuple{Array{RigidBodyDynamics.Joint{Float64,RigidBodyDynamics.Fixed{Float64}},1},Array{RigidBodyDynamics.Joint{Float64,RigidBodyDynamics.Prismatic{Float64}},1},Array{RigidBodyDynamics.Joint{Float64,RigidBodyDynamics.Revolute{Float64}},1}},3}},MeshCat.Visualizer}(MechanismState{Float64, Float64, Float64, …}(…), MeshCat Visualizer with path /meshcat, 28)"
      ]
     },
     "execution_count": 9,
     "metadata": {},
     "output_type": "execute_result"
    }
   ],
   "source": [
    "delete!(vis)\n",
    "urdf_mech = parse_urdf(Float64, \"atlas.urdf\")\n",
    "\n",
    "mechanism, base = LCPSim.xyz_rpy_floating_base()\n",
    "submech, _, _ = submechanism(urdf_mech, findbody(urdf_mech, \"pelvis\"))\n",
    "attach!(mechanism, base, submech)\n",
    "\n",
    "# mechanism.gravitational_acceleration = FreeVector3D(root_frame(mechanism), 0.,0, 0)\n",
    "\n",
    "# pelvis = findbody(mechanism, \"pelvis\")\n",
    "# basejoint = joint_to_parent(pelvis, mechanism)\n",
    "# floatingjoint = Joint(basejoint.name, frame_before(basejoint), frame_after(basejoint),\n",
    "#     QuaternionFloating{Float64}())\n",
    "# effort_bounds(floatingjoint) .= RigidBodyDynamics.Bounds(-0, 0)\n",
    "# position_bounds(floatingjoint) .= RigidBodyDynamics.Bounds(-10, 10)\n",
    "# velocity_bounds(floatingjoint) .= RigidBodyDynamics.Bounds(-1000, 1000)\n",
    "# replace_joint!(mechanism, basejoint, floatingjoint)\n",
    "# basejoint = floatingjoint\n",
    "\n",
    "contactmodel = SoftContactModel(hunt_crossley_hertz(k = 500e3), ViscoelasticCoulombModel(1.0, 20e3, 100.))\n",
    "for (name, offset) in [\n",
    "        (\"l_lleg\", [0, 0, -0.452]),\n",
    "        (\"r_lleg\", [0, 0, -0.452]),\n",
    "        (\"l_ufarm\", [0, -0.05, 0]),\n",
    "        (\"r_ufarm\", [0, -0.05, 0])\n",
    "    ]\n",
    "    body = findbody(mechanism, name)\n",
    "    frame = default_frame(body)\n",
    "    add_contact_point!(body, ContactPoint(Point3D(frame, offset...), contactmodel))\n",
    "end\n",
    "\n",
    "add_environment_primitive!(mechanism, HalfSpace3D(Point3D(root_frame(mechanism), 0., 0, 0),\n",
    "        FreeVector3D(root_frame(mechanism), 0., 0, 1)))\n",
    "\n",
    "mvis = MechanismVisualizer(mechanism, URDFVisuals(\"atlas.urdf\", package_path=[AtlasRobot.packagepath()]), vis)\n",
    "# body!(manip_window, manipulate!(mvis))"
   ]
  },
  {
   "cell_type": "code",
   "execution_count": 10,
   "metadata": {},
   "outputs": [
    {
     "data": {
      "text/plain": [
       "init! (generic function with 1 method)"
      ]
     },
     "execution_count": 10,
     "metadata": {},
     "output_type": "execute_result"
    }
   ],
   "source": [
    "function init!(state::MechanismState)\n",
    "    m = state.mechanism\n",
    "    kneebend = 1.0\n",
    "    hipbendextra = -0.0625\n",
    "    set_configuration!(state, findjoint(m, \"base_z\"), 0.82)\n",
    "    for sideprefix in ('l', 'r')\n",
    "        knee = findjoint(m, \"$(sideprefix)_leg_kny\")\n",
    "        hippitch = findjoint(m, \"$(sideprefix)_leg_hpy\")\n",
    "        shoulderroll = findjoint(m, \"$(sideprefix)_arm_shx\")\n",
    "        set_configuration!(state, knee, [kneebend])\n",
    "        set_configuration!(state, hippitch, [-kneebend / 2 + hipbendextra])\n",
    "        if sideprefix == 'r'\n",
    "            set_configuration!(state, shoulderroll, 1)\n",
    "        else\n",
    "            set_configuration!(state, shoulderroll, -1)\n",
    "        end\n",
    "    end\n",
    "    state\n",
    "end"
   ]
  },
  {
   "cell_type": "code",
   "execution_count": 11,
   "metadata": {},
   "outputs": [],
   "source": [
    "copy!(mvis, init!(MechanismState(mechanism)))"
   ]
  },
  {
   "cell_type": "code",
   "execution_count": 12,
   "metadata": {},
   "outputs": [
    {
     "data": {
      "text/plain": [
       "Point3D in \"world\": [0.0156573, -0.1115, 0.00153132]"
      ]
     },
     "execution_count": 12,
     "metadata": {},
     "output_type": "execute_result"
    }
   ],
   "source": [
    "state = init!(MechanismState(mechanism))\n",
    "transform(state, location(first(contact_points(findbody(mechanism, \"r_lleg\")))), root_frame(mechanism))"
   ]
  },
  {
   "cell_type": "code",
   "execution_count": 13,
   "metadata": {},
   "outputs": [
    {
     "data": {
      "text/plain": [
       "Point3D in \"world\": [0.0160549, 0.00116997, 1.13693]"
      ]
     },
     "execution_count": 13,
     "metadata": {},
     "output_type": "execute_result"
    }
   ],
   "source": [
    "center_of_mass(state)"
   ]
  },
  {
   "cell_type": "code",
   "execution_count": 14,
   "metadata": {},
   "outputs": [
    {
     "data": {
      "text/plain": [
       "16-element RigidBodyDynamics.CustomCollections.SegmentedVector{RigidBodyDynamics.JointID,Float64,Base.OneTo{RigidBodyDynamics.JointID},Array{Float64,1}}:\n",
       "    0.0     \n",
       " 1540.24    \n",
       "    1.80204 \n",
       "    0.0     \n",
       "    2.95759 \n",
       "   -2.95759 \n",
       "  -12.5053  \n",
       "  -12.5053  \n",
       "    0.0     \n",
       "    0.0     \n",
       "    3.46903 \n",
       "    3.46903 \n",
       "   13.6341  \n",
       "  -13.6341  \n",
       "   -0.196106\n",
       "    0.180958"
      ]
     },
     "execution_count": 14,
     "metadata": {},
     "output_type": "execute_result"
    }
   ],
   "source": [
    "state = init!(MechanismState(mechanism))\n",
    "τc = similar(velocity(state))\n",
    "τc .= 0\n",
    "RigidBodyDynamics.constraint_bias!(τc, state)\n",
    "u0 = inverse_dynamics(state, τc)"
   ]
  },
  {
   "cell_type": "code",
   "execution_count": 24,
   "metadata": {},
   "outputs": [
    {
     "data": {
      "text/plain": [
       "(::LQRSolution) (generic function with 2 methods)"
      ]
     },
     "execution_count": 24,
     "metadata": {},
     "output_type": "execute_result"
    },
    {
     "name": "stdout",
     "output_type": "stream",
     "text": [
      "A = [0.0 0.0 0.0 0.0 0.0 0.0 0.0 0.0 0.0 0.0 0.0 0.0 0.0 0.0 0.0 0.0 1.0 0.0 0.0 0.0 0.0 0.0 0.0 0.0 0.0 0.0 0.0 0.0 0.0 0.0 0.0 0.0; 0.0 0.0 0.0 0.0 0.0 0.0 0.0 0.0 0.0 0.0 0.0 0.0 0.0 0.0 0.0 0.0 0.0 1.0 0.0 0.0 0.0 0.0 0.0 0.0 0.0 0.0 0.0 0.0 0.0 0.0 0.0 0.0; 0.0 0.0 0.0 0.0 0.0 0.0 0.0 0.0 0.0 0.0 0.0 0.0 0.0 0.0 0.0 0.0 0.0 0.0 1.0 0.0 0.0 0.0 0.0 0.0 0.0 0.0 0.0 0.0 0.0 0.0 0.0 0.0; 0.0 0.0 0.0 0.0 0.0 0.0 0.0 0.0 0.0 0.0 0.0 0.0 0.0 0.0 0.0 0.0 0.0 0.0 0.0 1.0 0.0 0.0 0.0 0.0 0.0 0.0 0.0 0.0 0.0 0.0 0.0 0.0; 0.0 0.0 0.0 0.0 0.0 0.0 0.0 0.0 0.0 0.0 0.0 0.0 0.0 0.0 0.0 0.0 0.0 0.0 0.0 0.0 1.0 0.0 0.0 0.0 0.0 0.0 0.0 0.0 0.0 0.0 0.0 0.0; 0.0 0.0 0.0 0.0 0.0 0.0 0.0 0.0 0.0 0.0 0.0 0.0 0.0 0.0 0.0 0.0 0.0 0.0 0.0 0.0 0.0 1.0 0.0 0.0 0.0 0.0 0.0 0.0 0.0 0.0 0.0 0.0; 0.0 0.0 0.0 0.0 0.0 0.0 0.0 0.0 0.0 0.0 0.0 0.0 0.0 0.0 0.0 0.0 0.0 0.0 0.0 0.0 0.0 0.0 1.0 0.0 0.0 0.0 0.0 0.0 0.0 0.0 0.0 0.0; 0.0 0.0 0.0 0.0 0.0 0.0 0.0 0.0 0.0 0.0 0.0 0.0 0.0 0.0 0.0 0.0 0.0 0.0 0.0 0.0 0.0 0.0 0.0 1.0 0.0 0.0 0.0 0.0 0.0 0.0 0.0 0.0; 0.0 0.0 0.0 0.0 0.0 0.0 0.0 0.0 0.0 0.0 0.0 0.0 0.0 0.0 0.0 0.0 0.0 0.0 0.0 0.0 0.0 0.0 0.0 0.0 1.0 0.0 0.0 0.0 0.0 0.0 0.0 0.0; 0.0 0.0 0.0 0.0 0.0 0.0 0.0 0.0 0.0 0.0 0.0 0.0 0.0 0.0 0.0 0.0 0.0 0.0 0.0 0.0 0.0 0.0 0.0 0.0 0.0 1.0 0.0 0.0 0.0 0.0 0.0 0.0; 0.0 0.0 0.0 0.0 0.0 0.0 0.0 0.0 0.0 0.0 0.0 0.0 0.0 0.0 0.0 0.0 0.0 0.0 0.0 0.0 0.0 0.0 0.0 0.0 0.0 0.0 1.0 0.0 0.0 0.0 0.0 0.0; 0.0 0.0 0.0 0.0 0.0 0.0 0.0 0.0 0.0 0.0 0.0 0.0 0.0 0.0 0.0 0.0 0.0 0.0 0.0 0.0 0.0 0.0 0.0 0.0 0.0 0.0 0.0 1.0 0.0 0.0 0.0 0.0; 0.0 0.0 0.0 0.0 0.0 0.0 0.0 0.0 0.0 0.0 0.0 0.0 0.0 0.0 0.0 0.0 0.0 0.0 0.0 0.0 0.0 0.0 0.0 0.0 0.0 0.0 0.0 0.0 1.0 0.0 0.0 0.0; 0.0 0.0 0.0 0.0 0.0 0.0 0.0 0.0 0.0 0.0 0.0 0.0 0.0 0.0 0.0 0.0 0.0 0.0 0.0 0.0 0.0 0.0 0.0 0.0 0.0 0.0 0.0 0.0 0.0 1.0 0.0 0.0; 0.0 0.0 0.0 0.0 0.0 0.0 0.0 0.0 0.0 0.0 0.0 0.0 0.0 0.0 0.0 0.0 0.0 0.0 0.0 0.0 0.0 0.0 0.0 0.0 0.0 0.0 0.0 0.0 0.0 0.0 1.0 0.0; 0.0 0.0 0.0 0.0 0.0 0.0 0.0 0.0 0.0 0.0 0.0 0.0 0.0 0.0 0.0 0.0 0.0 0.0 0.0 0.0 0.0 0.0 0.0 0.0 0.0 0.0 0.0 0.0 0.0 0.0 0.0 1.0; -1.53057e-17 -9.03293e-16 39.3939 -1.31814 1.81117 1.8095 -0.378126 0.39069 -0.0140442 -0.0172177 0.0582023 -0.0590418 0.928909 0.952485 -0.0792381 -0.0791811 0.0 0.0 0.0 0.0 0.0 0.0 0.0 0.0 0.0 0.0 0.0 0.0 0.0 0.0 0.0 0.0; -4.09341e-18 -1.46747e-16 -0.18962 -0.0137352 -0.00525503 -0.00525341 -0.493332 -0.498578 0.000446552 0.000459631 0.134603 0.134931 0.20796 -0.216362 -0.0080225 0.0083453 0.0 0.0 0.0 0.0 0.0 0.0 0.0 0.0 0.0 0.0 0.0 0.0 0.0 0.0 0.0 0.0; -3.86181e-17 -1.90498e-15 80.1592 -2.80364 2.93169 2.93039 -0.861064 0.889971 -0.0275716 -0.0389185 0.128092 -0.130701 1.03852 1.07897 -0.204299 -0.203886 0.0 0.0 0.0 0.0 0.0 0.0 0.0 0.0 0.0 0.0 0.0 0.0 0.0 0.0 0.0 0.0; 5.24352e-17 8.35886e-16 -31.5983 1.02708 -0.668581 -0.676236 2.26961 -2.3461 -0.0119069 0.0364569 0.289335 -0.290286 2.07599 2.08091 1.3828 1.3843 0.0 0.0 0.0 0.0 0.0 0.0 0.0 0.0 0.0 0.0 0.0 0.0 0.0 0.0 0.0 0.0; 5.63155e-17 2.99262e-15 -127.686 4.39449 -5.13178 -5.12829 1.27964 -1.32243 0.0449584 0.0592575 -0.204739 0.208391 -2.21317 -2.28252 0.274659 0.274148 0.0 0.0 0.0 0.0 0.0 0.0 0.0 0.0 0.0 0.0 0.0 0.0 0.0 0.0 0.0 0.0; 5.63155e-17 2.99262e-15 -127.686 4.39449 -5.13178 -5.12829 1.27964 -1.32243 0.0449584 0.0592575 -0.204739 0.208391 -2.21317 -2.28252 0.274659 0.274148 0.0 0.0 0.0 0.0 0.0 0.0 0.0 0.0 0.0 0.0 0.0 0.0 0.0 0.0 0.0 0.0; -3.10659e-17 -1.05605e-15 23.6867 -0.884828 0.758891 0.759946 -2.13757 -0.9658 -0.00313323 -0.014004 0.406754 0.441376 0.521684 -0.805824 -0.304581 -0.253183 0.0 0.0 0.0 0.0 0.0 0.0 0.0 0.0 0.0 0.0 0.0 0.0 0.0 0.0 0.0 0.0; 5.28954e-18 1.31977e-16 -24.8807 0.798337 -0.791983 -0.793027 -0.968959 -2.17376 0.00594518 0.0168983 0.440844 0.408287 0.787851 -0.556619 0.254063 0.305734 0.0 0.0 0.0 0.0 0.0 0.0 0.0 0.0 0.0 0.0 0.0 0.0 0.0 0.0 0.0 0.0; -7.22676e-16 -2.09273e-15 68.2375 -2.43515 1.46899 1.48515 -4.85787 4.92065 -0.109568 -0.0780365 -0.591584 0.620452 -4.32063 -4.40157 -19.5616 -2.92183 0.0 0.0 0.0 0.0 0.0 0.0 0.0 0.0 0.0 0.0 0.0 0.0 0.0 0.0 0.0 0.0; 4.40965e-17 -2.06949e-15 68.2001 -2.06514 1.46821 1.48436 -4.75895 5.01681 0.0242542 0.0557566 -0.618099 0.593946 -4.38936 -4.39805 -2.91797 -19.711 0.0 0.0 0.0 0.0 0.0 0.0 0.0 0.0 0.0 0.0 0.0 0.0 0.0 0.0 0.0 0.0; 4.28149e-17 1.71322e-15 -34.9274 1.34648 -1.21266 -1.21251 3.31046 2.41392 0.00900105 0.0158089 -0.82635 -0.732131 -1.52414 0.91429 0.183195 0.0883267 0.0 0.0 0.0 0.0 0.0 0.0 0.0 0.0 0.0 0.0 0.0 0.0 0.0 0.0 0.0 0.0; 4.55834e-18 -1.49163e-17 37.1219 -1.18752 1.27347 1.27331 2.39889 3.35615 -0.014169 -0.0211282 -0.731413 -0.829427 -0.882597 1.58968 -0.0903504 -0.184907 0.0 0.0 0.0 0.0 0.0 0.0 0.0 0.0 0.0 0.0 0.0 0.0 0.0 0.0 0.0 0.0; 3.7213e-17 9.43512e-15 -136.887 3.94494 -5.16971 -5.16315 1.21389 0.0498782 0.00933451 0.0446087 -0.443235 0.0979582 -25.7426 -2.94489 -0.0783124 -0.139965 0.0 0.0 0.0 0.0 0.0 0.0 0.0 0.0 0.0 0.0 0.0 0.0 0.0 0.0 0.0 0.0; -9.32775e-17 -4.13938e-15 -137.155 3.83826 -5.18387 -5.17732 -0.0601956 -1.24158 0.0475973 0.082745 -0.0948635 0.446706 -2.88183 -26.1488 -0.137684 -0.0938053 0.0 0.0 0.0 0.0 0.0 0.0 0.0 0.0 0.0 0.0 0.0 0.0 0.0 0.0 0.0 0.0; -1.04298e-15 -1.36218e-15 33.0844 -1.05968 0.784299 0.791034 -2.21787 1.97403 0.16701 -0.035639 -0.195269 0.280897 -2.73157 -1.85782 -61.2925 -1.22277 0.0 0.0 0.0 0.0 0.0 0.0 0.0 0.0 0.0 0.0 0.0 0.0 0.0 0.0 0.0 0.0; 1.34398e-16 -1.48526e-15 32.8023 -1.27174 0.775915 0.782631 -1.90661 2.27189 0.00776981 -0.194981 -0.278305 0.198361 -1.84774 -2.44093 -1.21857 -62.0349 0.0 0.0 0.0 0.0 0.0 0.0 0.0 0.0 0.0 0.0 0.0 0.0 0.0 0.0 0.0 0.0]\n",
      "B = [0.0 0.0 0.0 0.0 0.0 0.0 0.0 0.0 0.0 0.0 0.0 0.0 0.0 0.0 0.0 0.0; 0.0 0.0 0.0 0.0 0.0 0.0 0.0 0.0 0.0 0.0 0.0 0.0 0.0 0.0 0.0 0.0; 0.0 0.0 0.0 0.0 0.0 0.0 0.0 0.0 0.0 0.0 0.0 0.0 0.0 0.0 0.0 0.0; 0.0 0.0 0.0 0.0 0.0 0.0 0.0 0.0 0.0 0.0 0.0 0.0 0.0 0.0 0.0 0.0; 0.0 0.0 0.0 0.0 0.0 0.0 0.0 0.0 0.0 0.0 0.0 0.0 0.0 0.0 0.0 0.0; 0.0 0.0 0.0 0.0 0.0 0.0 0.0 0.0 0.0 0.0 0.0 0.0 0.0 0.0 0.0 0.0; 0.0 0.0 0.0 0.0 0.0 0.0 0.0 0.0 0.0 0.0 0.0 0.0 0.0 0.0 0.0 0.0; 0.0 0.0 0.0 0.0 0.0 0.0 0.0 0.0 0.0 0.0 0.0 0.0 0.0 0.0 0.0 0.0; 0.0 0.0 0.0 0.0 0.0 0.0 0.0 0.0 0.0 0.0 0.0 0.0 0.0 0.0 0.0 0.0; 0.0 0.0 0.0 0.0 0.0 0.0 0.0 0.0 0.0 0.0 0.0 0.0 0.0 0.0 0.0 0.0; 0.0 0.0 0.0 0.0 0.0 0.0 0.0 0.0 0.0 0.0 0.0 0.0 0.0 0.0 0.0 0.0; 0.0 0.0 0.0 0.0 0.0 0.0 0.0 0.0 0.0 0.0 0.0 0.0 0.0 0.0 0.0 0.0; 0.0 0.0 0.0 0.0 0.0 0.0 0.0 0.0 0.0 0.0 0.0 0.0 0.0 0.0 0.0 0.0; 0.0 0.0 0.0 0.0 0.0 0.0 0.0 0.0 0.0 0.0 0.0 0.0 0.0 0.0 0.0 0.0; 0.0 0.0 0.0 0.0 0.0 0.0 0.0 0.0 0.0 0.0 0.0 0.0 0.0 0.0 0.0 0.0; 0.0 0.0 0.0 0.0 0.0 0.0 0.0 0.0 0.0 0.0 0.0 0.0 0.0 0.0 0.0 0.0; 0.0 0.0 0.0 0.0 -0.0931172 -0.0931172 0.0148122 -0.0152308 0.0381761 0.0381537 -0.022431 0.0232003 -0.0922545 -0.0924413 0.0190209 0.0188414; 0.0 0.0 0.0 0.0 0.000221554 0.000221554 0.0213436 0.0214282 0.000567185 -0.000768923 -0.0392403 -0.039368 -0.00858743 0.00898039 0.00208691 -0.0020852; 0.0 0.0 0.0 0.0 -0.177848 -0.177848 0.0336281 -0.034518 0.0913031 0.0911948 -0.0504594 0.0520949 -0.157282 -0.157683 0.0475356 0.0469389; 0.0 0.0 0.0 0.0 0.0564195 0.0564195 -0.0682668 0.0685902 -0.74272 -0.742546 0.0295992 -0.0301936 -0.0429661 -0.0425445 -0.310102 -0.309402; 0.0 0.0 0.0 0.0 0.290539 0.290539 -0.0504197 0.0518148 -0.123738 -0.123606 0.0772993 -0.0798633 0.27082 0.271441 -0.0648431 -0.0640404; 0.0 0.0 0.0 0.0 0.290539 0.290539 -0.0504197 0.0518148 -0.123738 -0.123606 0.0772993 -0.0798633 0.27082 0.271441 -0.0648431 -0.0640404; 0.0 0.0 0.0 0.0 -0.0504197 -0.0504197 0.0866438 0.0477574 0.147028 0.142765 -0.140647 -0.106362 -0.0560127 -0.000866008 0.0695841 0.0561805; 0.0 0.0 0.0 0.0 0.0518148 0.0518148 0.0477574 0.0871771 -0.143457 -0.147606 -0.10645 -0.14154 0.00193729 0.0574159 -0.0564428 -0.0693111; 0.0 0.0 0.0 0.0 -0.123738 -0.123738 0.147028 -0.143457 3.91609 1.56678 -0.067951 0.0613869 0.0681613 0.08681 4.42465 0.653037; 0.0 0.0 0.0 0.0 -0.123606 -0.123606 0.142765 -0.147606 1.56678 3.91573 -0.0601618 0.0690606 0.0877271 0.065641 0.654367 4.42439; 0.0 0.0 0.0 0.0 0.0772993 0.0772993 -0.140647 -0.10645 -0.067951 -0.0601618 0.250429 0.203701 0.114644 0.0131778 -0.043435 -0.0189919; 0.0 0.0 0.0 0.0 -0.0798633 -0.0798633 -0.106362 -0.14154 0.0613869 0.0690606 0.203701 0.251907 -0.0152615 -0.117108 0.0192831 0.043124; 0.0 0.0 0.0 0.0 0.27082 0.27082 -0.0560127 0.00193729 0.0681613 0.0877271 0.114644 -0.0152615 1.23009 0.277828 -0.00873359 0.0283786; 0.0 0.0 0.0 0.0 0.271441 0.271441 -0.000866008 0.0574159 0.08681 0.065641 0.0131778 -0.117108 0.277828 1.23107 0.0276672 -0.0110483; 0.0 0.0 0.0 0.0 -0.0648431 -0.0648431 0.0695841 -0.0564428 4.42465 0.654367 -0.043435 0.0192831 -0.00873359 0.0276672 13.9047 0.273263; 0.0 0.0 0.0 0.0 -0.0640404 -0.0640404 0.0561805 -0.0693111 0.653037 4.42439 -0.0189919 0.043124 0.0283786 -0.0110483 0.273263 13.9087]\n",
      "c = [0.0, 0.0, 0.0, 0.0, 0.0, 0.0, 0.0, 0.0, 0.0, 0.0, 0.0, 0.0, 0.0, 0.0, 0.0, 0.0, -0.0961385, 0.000254657, -0.204464, 0.0750657, 0.32049, 0.32049, -0.0605993, 0.0622029, -0.164532, -0.164337, 0.09093, -0.0938772, 0.283429, 0.284151, -0.0856612, -0.0845859]\n",
      "J_qdot_to_v = [1.0 0.0 0.0 0.0 0.0 0.0 0.0 0.0 0.0 0.0 0.0 0.0 0.0 0.0 0.0 0.0; 0.0 1.0 0.0 0.0 0.0 0.0 0.0 0.0 0.0 0.0 0.0 0.0 0.0 0.0 0.0 0.0; 0.0 0.0 1.0 0.0 0.0 0.0 0.0 0.0 0.0 0.0 0.0 0.0 0.0 0.0 0.0 0.0; 0.0 0.0 0.0 1.0 0.0 0.0 0.0 0.0 0.0 0.0 0.0 0.0 0.0 0.0 0.0 0.0; 0.0 0.0 0.0 0.0 1.0 0.0 0.0 0.0 0.0 0.0 0.0 0.0 0.0 0.0 0.0 0.0; 0.0 0.0 0.0 0.0 0.0 1.0 0.0 0.0 0.0 0.0 0.0 0.0 0.0 0.0 0.0 0.0; 0.0 0.0 0.0 0.0 0.0 0.0 1.0 0.0 0.0 0.0 0.0 0.0 0.0 0.0 0.0 0.0; 0.0 0.0 0.0 0.0 0.0 0.0 0.0 1.0 0.0 0.0 0.0 0.0 0.0 0.0 0.0 0.0; 0.0 0.0 0.0 0.0 0.0 0.0 0.0 0.0 1.0 0.0 0.0 0.0 0.0 0.0 0.0 0.0; 0.0 0.0 0.0 0.0 0.0 0.0 0.0 0.0 0.0 1.0 0.0 0.0 0.0 0.0 0.0 0.0; 0.0 0.0 0.0 0.0 0.0 0.0 0.0 0.0 0.0 0.0 1.0 0.0 0.0 0.0 0.0 0.0; 0.0 0.0 0.0 0.0 0.0 0.0 0.0 0.0 0.0 0.0 0.0 1.0 0.0 0.0 0.0 0.0; 0.0 0.0 0.0 0.0 0.0 0.0 0.0 0.0 0.0 0.0 0.0 0.0 1.0 0.0 0.0 0.0; 0.0 0.0 0.0 0.0 0.0 0.0 0.0 0.0 0.0 0.0 0.0 0.0 0.0 1.0 0.0 0.0; 0.0 0.0 0.0 0.0 0.0 0.0 0.0 0.0 0.0 0.0 0.0 0.0 0.0 0.0 1.0 0.0; 0.0 0.0 0.0 0.0 0.0 0.0 0.0 0.0 0.0 0.0 0.0 0.0 0.0 0.0 0.0 1.0]\n",
      "size(M) = (12, 32)\n",
      "size(N) = (32, 20)\n",
      "size(A) = (32, 32)\n",
      "size(B) = (32, 16)\n"
     ]
    }
   ],
   "source": [
    "qq = fill(0.1, num_positions(mechanism) + num_velocities(mechanism))\n",
    "qq[1:num_positions(mechanism)] .= 1\n",
    "qq[1:2] .= [100, 10]\n",
    "Q = diagm(qq)\n",
    "R = diagm(fill(1e-5, num_velocities(mechanism)))\n",
    "Δt = 0.001\n",
    "contacts = [\n",
    "    Point3D(default_frame(findbody(mechanism, name)), offset...)\n",
    "    for (name, offset) in [\n",
    "        (\"l_lleg\", [0, 0, -0.452]),\n",
    "        (\"r_lleg\", [0, 0, -0.452])\n",
    "    ]\n",
    "]\n",
    "# contacts = Point3D[]\n",
    "lqrsol = LQRSolution(init!(MechanismState(mechanism)),\n",
    "    Q, R, Δt, contacts\n",
    ")"
   ]
  },
  {
   "cell_type": "code",
   "execution_count": 25,
   "metadata": {},
   "outputs": [],
   "source": [
    "floor_obstacle = LCPSim.planar_obstacle(root_frame(mechanism), SVector(0., 0, 1), SVector(0., 0, 0))\n",
    "\n",
    "env = LCPSim.Environment([\n",
    "    (body, Point3D(default_frame(body), 0, 0, -0.452), floor_obstacle)\n",
    "    for body in findbody.(mechanism, [\"l_lleg\", \"r_lleg\"])\n",
    "]);"
   ]
  },
  {
   "cell_type": "code",
   "execution_count": 44,
   "metadata": {},
   "outputs": [
    {
     "data": {
      "text/plain": [
       "16-element RigidBodyDynamics.CustomCollections.SegmentedVector{RigidBodyDynamics.JointID,Float64,Base.OneTo{RigidBodyDynamics.JointID},Array{Float64,1}}:\n",
       "  0.0   \n",
       "  0.82  \n",
       "  0.0   \n",
       "  0.0   \n",
       "  0.0   \n",
       "  0.0   \n",
       " -0.5625\n",
       " -0.5625\n",
       "  0.0   \n",
       "  0.0   \n",
       "  1.0   \n",
       "  1.0   \n",
       " -1.0   \n",
       "  1.0   \n",
       "  0.0   \n",
       "  0.0   "
      ]
     },
     "execution_count": 44,
     "metadata": {},
     "output_type": "execute_result"
    }
   ],
   "source": [
    "qnext = configuration(init!(MechanismState(mechanism)))"
   ]
  },
  {
   "cell_type": "code",
   "execution_count": 46,
   "metadata": {},
   "outputs": [
    {
     "data": {
      "text/plain": [
       "0.0015313187022562014"
      ]
     },
     "execution_count": 46,
     "metadata": {},
     "output_type": "execute_result"
    }
   ],
   "source": [
    "qnext[2] + 0.11149999999999999qnext[3] + 0.0225qnext[5] + 0.03434269331526185qnext[7] + 0.19150166825617998qnext[11] - 0.9906525845640889"
   ]
  },
  {
   "cell_type": "code",
   "execution_count": 51,
   "metadata": {},
   "outputs": [
    {
     "name": "stderr",
     "output_type": "stream",
     "text": [
      "WARNING: Method definition setanimation!(MeshCatMechanisms.MechanismVisualizer{M, V} where V<:MeshCat.AbstractVisualizer where M<:(RigidBodyDynamics.MechanismState{X, M, C, JointCollection} where JointCollection where C where M where X), DiffEqBase.ODESolution{T, N, uType, uType2, DType, tType, rateType, P, A, IType} where IType where A where P where rateType where tType where DType where uType2 where uType where N where T) in module Visualization at /home/rdeits/locomotion/explorations/learning-mpc-2/packages/v0.6/RigidBodySim/src/visualization.jl:223 overwritten at /home/rdeits/locomotion/explorations/learning-mpc-2/packages/v0.6/RigidBodySim/src/visualization.jl:223.\n",
      "WARNING: Method definition #setanimation!(Array{Any, 1}, typeof(MeshCat.setanimation!), MeshCatMechanisms.MechanismVisualizer{M, V} where V<:MeshCat.AbstractVisualizer where M<:(RigidBodyDynamics.MechanismState{X, M, C, JointCollection} where JointCollection where C where M where X), DiffEqBase.ODESolution{T, N, uType, uType2, DType, tType, rateType, P, A, IType} where IType where A where P where rateType where tType where DType where uType2 where uType where N where T) in module Visualization overwritten.\n",
      "\u001b[1m\u001b[33mWARNING: \u001b[39m\u001b[22m\u001b[33mreplacing docs for 'MeshCat.setanimation! :: Tuple{MeshCatMechanisms.MechanismVisualizer,DiffEqBase.ODESolution}' in module 'RigidBodySim.Visualization'.\u001b[39m\n"
     ]
    },
    {
     "name": "stdout",
     "output_type": "stream",
     "text": [
      "Academic license - for non-commercial use only\n",
      "Academic license - for non-commercial use only\n",
      "separation_from_obstacle = qnext[2] + 0.11149999999999999 qnext[3] + 0.0225 qnext[5] + 0.03434269331526185 qnext[7] + 0.19150166825617998 qnext[11] - 0.9906525845640889\n",
      "separation_from_obstacle = qnext[2] - 0.11149999999999999 qnext[3] - 0.0225 qnext[6] + 0.03434269331526185 qnext[8] + 0.19150166825617998 qnext[12] - 0.9906525845640889\n",
      "separation_from_obstacle = qnext[2] + 0.11150140277001121 qnext[3] - 2.9483184194657362e-8 qnext[4] + 0.022501374006460923 qnext[5] + 0.03434280387648961 qnext[7] + 0.19150240358493212 qnext[11] - 0.9906532577044789\n",
      "separation_from_obstacle = qnext[2] - 0.11149210466831602 qnext[3] - 2.9518646802041496e-8 qnext[4] - 0.02249213346640261 qnext[6] + 0.03432438118411646 qnext[8] + 0.19149385443698022 qnext[12] - 0.9906550715916144\n",
      "separation_from_obstacle = qnext[2] + 0.11150267141259647 qnext[3] - 5.406972977170962e-8 qnext[4] + 0.022502617192758062 qnext[5] + 0.03434162388906223 qnext[7] + 0.19150144085229015 qnext[11] - 0.9906529587175302\n",
      "separation_from_obstacle = qnext[2] - 0.11148575153308489 qnext[3] - 5.417654363538078e-8 qnext[4] - 0.022485805859757835 qnext[6] + 0.03431146393493295 qnext[8] + 0.1914887079826714 qnext[12] - 0.9906571916315097\n",
      "separation_from_obstacle = qnext[2] + 0.11150390797739813 qnext[3] - 8.197596456403614e-8 qnext[4] + 0.022503820461023987 qnext[5] + 0.034339521380459787 qnext[7] + 0.19149954710572106 qnext[11] - 0.9906522476425186\n",
      "separation_from_obstacle = qnext[2] - 0.1114785002514385 qnext[3] - 8.220470761485937e-8 qnext[4] - 0.022478588010970794 qnext[6] + 0.03429707076834865 qnext[8] + 0.1914828477774902 qnext[12] - 0.9906594285272703\n",
      "separation_from_obstacle = qnext[2] + 0.1115049098286079 qnext[3] - 1.0616300297288423e-7 qnext[4] + 0.022504790793912006 qnext[5] + 0.034337221499017495 qnext[7] + 0.19149728882431152 qnext[11] - 0.9906512830672335\n",
      "separation_from_obstacle = qnext[2] - 0.11147223414366307 qnext[3] - 1.0652773912283025e-7 qnext[4] - 0.02247235358496275 qnext[6] + 0.03428510764228759 qnext[8] + 0.1914778874457988 qnext[12] - 0.9906611985171667\n",
      "separation_from_obstacle = qnext[2] + 0.11150594555905345 qnext[3] - 1.3234013113080368e-7 qnext[4] + 0.022505790087407024 qnext[5] + 0.0343344434120951 qnext[7] + 0.19149439140136829 qnext[11] - 0.9906499483650217\n",
      "separation_from_obstacle = qnext[2] - 0.11146546582702646 qnext[3] - 1.3288179676628494e-7 qnext[4] - 0.022465621930376465 qnext[6] + 0.03427254207425648 qnext[8] + 0.1914725338241486 qnext[12] - 0.9906629144145732\n",
      "separation_from_obstacle = qnext[2] + 0.111506888801153 qnext[3] - 1.5664516743870076e-7 qnext[4] + 0.0225066977193964 qnext[5] + 0.0343317064623149 qnext[7] + 0.19149136536616693 qnext[11] - 0.9906484619346654\n",
      "separation_from_obstacle = qnext[2] - 0.11145920148872589 qnext[3] - 1.5737707926225743e-7 qnext[4] - 0.022459393455592832 qnext[6] + 0.03426122329778075 qnext[8] + 0.1914675681416859 qnext[12] - 0.990664317030533\n",
      "separation_from_obstacle = qnext[2] + 0.11150787677220936 qnext[3] - 1.8220693776928866e-7 qnext[4] + 0.02250764672108454 qnext[5] + 0.034328760407376396 qnext[7] + 0.19148792409512946 qnext[11] - 0.99064667792751\n",
      "separation_from_obstacle = qnext[2] - 0.1114526348399891 qnext[3] - 1.8316513539668252e-7 qnext[4] - 0.022452866088891424 qnext[6] + 0.034249629655799474 qnext[8] + 0.19146232987118122 qnext[12] - 0.9906656019390316\n",
      "separation_from_obstacle = qnext[2] + 0.1115088300816145 qnext[3] - 2.0676295934604628e-7 qnext[4] + 0.02250856131197915 qnext[5] + 0.034325921324234815 qnext[7] + 0.19148441913295186 qnext[11] - 0.9906447700907242\n",
      "separation_from_obstacle = qnext[2] - 0.11144634827456047 qnext[3] - 2.0796324828628956e-7 qnext[4] - 0.022446618587099215 qnext[6] + 0.03423876550050037 qnext[8] + 0.1914572735777382 qnext[12] - 0.9906666585915185\n"
     ]
    },
    {
     "data": {
      "text/plain": [
       "true"
      ]
     },
     "execution_count": 51,
     "metadata": {},
     "output_type": "execute_result"
    },
    {
     "name": "stdout",
     "output_type": "stream",
     "text": [
      "separation_from_obstacle = qnext[2] + 0.1115098131084198 qnext[3] - 2.3186799199328662e-7 qnext[4] + 0.022509503618698235 qnext[5] + 0.034323051625761186 qnext[7] + 0.19148067823595924 qnext[11] - 0.9906426435854994\n",
      "separation_from_obstacle = qnext[2] - 0.11143994251330011 qnext[3] - 2.3334057941023995e-7 qnext[4] - 0.022440253944526607 qnext[6] + 0.03422790349584223 qnext[8] + 0.1914520732521289 qnext[12] - 0.990667570208556\n"
     ]
    }
   ],
   "source": [
    "state = init!(MechanismState(mechanism))\n",
    "set_velocity!(state, 0.01 .* randn(num_velocities(state)))\n",
    "mpc_controller = LearningMPC.MPCController(\n",
    "    MechanismState(mechanism), \n",
    "    env,\n",
    "    MPCParams(\n",
    "        Δt=Δt,\n",
    "        horizon=1,\n",
    "        mip_solver=GurobiSolver(Gurobi.Env(), OutputFlag=0, TimeLimit=10),\n",
    "        lcp_solver=GurobiSolver(Gurobi.Env(), OutputFlag=0, TimeLimit=10)\n",
    "    ),\n",
    "    lqrsol,\n",
    "    Function[],\n",
    "    (state, results) -> nothing\n",
    ")\n",
    "controller = let lqr = lqrsol, bounds = LCPSim.all_effort_bounds(mechanism), mpc = mpc_controller\n",
    "    function(τ, t, x)\n",
    "        τ .= mpc(x)\n",
    "#         τ .= lqr(x)\n",
    "#         τ .= clamp.(τ, bounds)\n",
    "#         τ .= 0\n",
    "#         @show τ\n",
    "    end\n",
    "end\n",
    "\n",
    "problem = LearningMPC.simulation_problem(state, controller, Δt, 0.01)\n",
    "\n",
    "\n",
    "# periodic = PeriodicController(similar(velocity(state)), Δt, controller)\n",
    "# dynamics = Dynamics(mechanism, periodic)\n",
    "\n",
    "\n",
    "# problem = ODEProblem(dynamics, state, (0., 5.0))\n",
    "sol = solve(problem, Tsit5(), abs_tol=1e-8, dt=1e-6)\n",
    "setanimation!(mvis, sol)"
   ]
  },
  {
   "cell_type": "code",
   "execution_count": 52,
   "metadata": {},
   "outputs": [
    {
     "data": {
      "text/plain": [
       "19-element Array{Array{Float64,1},1}:\n",
       " [0.0, 0.82, 0.0, 0.0, 0.0, 0.0, -0.5625, -0.5625, 0.0, 0.0  …  0.0, 0.0, 0.0, 0.0, 0.0, 0.0, 0.0, 0.0, 0.0, 0.0]                                                           \n",
       " [1.83558e-8, 0.82, -1.4457e-9, 1.49312e-9, 2.37754e-9, 9.22916e-9, -0.5625, -0.5625, 7.50779e-9, 6.51722e-10  …  0.0, 0.0, 0.0, 0.0, 0.0, 0.0, 0.0, 0.0, 0.0, 0.0]         \n",
       " [2.01905e-7, 0.82, -1.59197e-8, 1.6433e-8, 2.62197e-8, 1.01586e-7, -0.5625, -0.5625, 8.25567e-8, 7.16257e-9  …  0.0, 0.0, 0.0, 0.0, 0.0, 0.0, 0.0, 0.0, 0.0, 0.0]          \n",
       " [2.03647e-6, 0.82, -1.62364e-7, 1.66692e-7, 2.71319e-7, 1.03164e-6, -0.5625, -0.562503, 8.30141e-7, 7.16325e-8  …  0.0, 0.0, 0.0, 0.0, 0.0, 0.0, 0.0, 0.0, 0.0, 0.0]       \n",
       " [1.8272e-5, 0.819999, -1.60046e-6, 1.57145e-6, 2.98378e-6, 9.81861e-6, -0.562502, -0.562526, 7.24388e-6, 5.93237e-7  …  0.0, 0.0, 0.0, 0.0, 0.0, 0.0, 0.0, 0.0, 0.0, 0.0]  \n",
       " [3.64766e-5, 0.819987, -3.32898e-6, 3.32349e-6, 6.41884e-6, 2.00554e-5, -0.562502, -0.562551, 1.40324e-5, 1.12792e-6  …  0.0, 0.0, 0.0, 0.0, 0.0, 0.0, 0.0, 0.0, 0.0, 0.0] \n",
       " [4.49664e-5, 0.819979, -4.09567e-6, 4.20656e-6, 7.83461e-6, 2.46239e-5, -0.562503, -0.562562, 1.70712e-5, 1.38391e-6  …  0.0, 0.0, 0.0, 0.0, 0.0, 0.0, 0.0, 0.0, 0.0, 0.0] \n",
       " [5.47321e-5, 0.819966, -4.97188e-6, 5.26364e-6, 9.42835e-6, 2.98343e-5, -0.562503, -0.562575, 2.047e-5, 1.67727e-6  …  0.0, 0.0, 0.0, 0.0, 0.0, 0.0, 0.0, 0.0, 0.0, 0.0]   \n",
       " [7.30038e-5, 0.819936, -6.5918e-6, 7.3501e-6, 1.23056e-5, 3.94496e-5, -0.562503, -0.562596, 2.65634e-5, 2.22377e-6  …  0.0, 0.0, 0.0, 0.0, 0.0, 0.0, 0.0, 0.0, 0.0, 0.0]   \n",
       " [8.61984e-5, 0.819908, -7.74731e-6, 8.93361e-6, 1.43133e-5, 4.63004e-5, -0.562503, -0.562611, 3.07603e-5, 2.61574e-6  …  0.0, 0.0, 0.0, 0.0, 0.0, 0.0, 0.0, 0.0, 0.0, 0.0] \n",
       " [9.12901e-5, 0.819895, -8.19168e-6, 9.56014e-6, 1.50803e-5, 4.89317e-5, -0.562503, -0.562616, 3.23359e-5, 2.76576e-6  …  0.0, 0.0, 0.0, 0.0, 0.0, 0.0, 0.0, 0.0, 0.0, 0.0] \n",
       " [0.000109584, 0.819845, -9.78353e-6, 1.18764e-5, 1.78136e-5, 5.83426e-5, -0.562502, -0.562636, 3.78024e-5, 3.29729e-6  …  0.0, 0.0, 0.0, 0.0, 0.0, 0.0, 0.0, 0.0, 0.0, 0.0]\n",
       " [0.000124952, 0.819795, -1.1118e-5, 1.38943e-5, 2.00976e-5, 6.62125e-5, -0.562501, -0.562651, 4.21691e-5, 3.73244e-6  …  0.0, 0.0, 0.0, 0.0, 0.0, 0.0, 0.0, 0.0, 0.0, 0.0] \n",
       " [0.000127882, 0.819785, -1.13723e-5, 1.4286e-5, 2.0533e-5, 6.77105e-5, -0.562501, -0.562654, 4.29791e-5, 3.81403e-6  …  0.0, 0.0, 0.0, 0.0, 0.0, 0.0, 0.0, 0.0, 0.0, 0.0]  \n",
       " [0.000146184, 0.819715, -1.29612e-5, 1.67795e-5, 2.32553e-5, 7.70531e-5, -0.562499, -0.562671, 4.78803e-5, 4.31226e-6  …  0.0, 0.0, 0.0, 0.0, 0.0, 0.0, 0.0, 0.0, 0.0, 0.0]\n",
       " [0.000162766, 0.819643, -1.4402e-5, 1.91046e-5, 2.57313e-5, 8.55033e-5, -0.562497, -0.562686, 5.20946e-5, 4.7451e-6  …  0.0, 0.0, 0.0, 0.0, 0.0, 0.0, 0.0, 0.0, 0.0, 0.0]  \n",
       " [0.000164487, 0.819635, -1.45516e-5, 1.93492e-5, 2.59889e-5, 8.63796e-5, -0.562496, -0.562688, 5.252e-5, 4.78892e-6  …  0.0, 0.0, 0.0, 0.0, 0.0, 0.0, 0.0, 0.0, 0.0, 0.0]  \n",
       " [0.000181695, 0.819552, -1.60488e-5, 2.18296e-5, 2.85725e-5, 9.51371e-5, -0.562494, -0.562702, 5.66551e-5, 5.21526e-6  …  0.0, 0.0, 0.0, 0.0, 0.0, 0.0, 0.0, 0.0, 0.0, 0.0]\n",
       " [0.000182791, 0.819546, -1.61441e-5, 2.19894e-5, 2.87374e-5, 9.56942e-5, -0.562493, -0.562703, 5.69111e-5, 5.24164e-6  …  0.0, 0.0, 0.0, 0.0, 0.0, 0.0, 0.0, 0.0, 0.0, 0.0]"
      ]
     },
     "execution_count": 52,
     "metadata": {},
     "output_type": "execute_result"
    }
   ],
   "source": [
    "sol.u"
   ]
  },
  {
   "cell_type": "code",
   "execution_count": 53,
   "metadata": {},
   "outputs": [
    {
     "data": {
      "text/plain": [
       "19-element Array{Float64,1}:\n",
       " 0.0       \n",
       " 1.0e-6    \n",
       " 1.1e-5    \n",
       " 0.000111  \n",
       " 0.001     \n",
       " 0.002     \n",
       " 0.00246515\n",
       " 0.003     \n",
       " 0.004     \n",
       " 0.00472161\n",
       " 0.005     \n",
       " 0.006     \n",
       " 0.00683987\n",
       " 0.007     \n",
       " 0.008     \n",
       " 0.00890598\n",
       " 0.009     \n",
       " 0.00994016\n",
       " 0.01      "
      ]
     },
     "execution_count": 53,
     "metadata": {},
     "output_type": "execute_result"
    }
   ],
   "source": [
    "sol.t"
   ]
  },
  {
   "cell_type": "code",
   "execution_count": null,
   "metadata": {},
   "outputs": [],
   "source": []
  }
 ],
 "metadata": {
  "kernelspec": {
   "display_name": "Julia 0.6.4",
   "language": "julia",
   "name": "julia-0.6"
  },
  "language_info": {
   "file_extension": ".jl",
   "mimetype": "application/julia",
   "name": "julia",
   "version": "0.6.4"
  }
 },
 "nbformat": 4,
 "nbformat_minor": 2
}
