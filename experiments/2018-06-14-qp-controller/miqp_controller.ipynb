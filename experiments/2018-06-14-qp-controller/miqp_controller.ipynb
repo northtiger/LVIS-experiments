{
 "cells": [
  {
   "cell_type": "code",
   "execution_count": 19,
   "metadata": {},
   "outputs": [],
   "source": [
    "using Revise"
   ]
  },
  {
   "cell_type": "code",
   "execution_count": 20,
   "metadata": {},
   "outputs": [],
   "source": [
    "using LearningMPC\n",
    "using LearningMPC.Models\n",
    "using RigidBodyDynamics\n",
    "using RigidBodyDynamics.Contact\n",
    "using MeshCatMechanisms\n",
    "using RigidBodySim\n",
    "using RigidBodySim.Visualization.MeshCatInterface\n",
    "import LCPSim\n",
    "using JLD2\n",
    "using Blink"
   ]
  },
  {
   "cell_type": "code",
   "execution_count": 47,
   "metadata": {},
   "outputs": [
    {
     "name": "stderr",
     "output_type": "stream",
     "text": [
      "WARNING: Method definition (::Type{LearningMPC.LQRSolution{T} where T})(RigidBodyDynamics.MechanismState{T, M, C, JointCollection, MotionSubspaceCollection, WrenchSubspaceCollection} where WrenchSubspaceCollection where MotionSubspaceCollection where JointCollection where C where M, Any, Any, Any) in module LearningMPC at /home/rdeits/locomotion/explorations/learning-mpc-2/submodules/LearningMPC/src/LearningMPC.jl:40 overwritten at /home/rdeits/locomotion/explorations/learning-mpc-2/submodules/LearningMPC/src/LearningMPC.jl:40.\n",
      "WARNING: Method definition (::Type{LearningMPC.LQRSolution{T} where T})(RigidBodyDynamics.MechanismState{T, M, C, JointCollection, MotionSubspaceCollection, WrenchSubspaceCollection} where WrenchSubspaceCollection where MotionSubspaceCollection where JointCollection where C where M, Any, Any, Any, AbstractArray{#s17, 1} where #s17<:(RigidBodyDynamics.Spatial.Point3D{V} where V<:(AbstractArray{T, 1} where T))) in module LearningMPC at /home/rdeits/locomotion/explorations/learning-mpc-2/submodules/LearningMPC/src/LearningMPC.jl:40 overwritten at /home/rdeits/locomotion/explorations/learning-mpc-2/submodules/LearningMPC/src/LearningMPC.jl:40.\n"
     ]
    }
   ],
   "source": [
    "robot = BoxAtlas();"
   ]
  },
  {
   "cell_type": "code",
   "execution_count": 48,
   "metadata": {},
   "outputs": [
    {
     "data": {
      "text/plain": [
       "Blink.AtomShell.Window(5, Blink.AtomShell.Electron(Process(`/home/rdeits/locomotion/explorations/learning-mpc-2/packages/v0.6/Blink/deps/atom/electron /home/rdeits/locomotion/explorations/learning-mpc-2/packages/v0.6/Blink/src/AtomShell/main.js port 4767`, ProcessRunning), TCPSocket(RawFD(68) active, 0 bytes waiting), Dict{String,Any}(Pair{String,Any}(\"callback\", Blink.#3))), Blink.Page(7, WebSockets.WebSocket(23, TCPSocket(RawFD(56) active, 0 bytes waiting), CONNECTED::WebSockets.ReadyState = 1), Dict{String,Any}(Pair{String,Any}(\"webio\", WebIO.#109),Pair{String,Any}(\"callback\", Blink.#3)), Future(1, 1, 7, Nullable{Any}(true))))"
      ]
     },
     "execution_count": 48,
     "metadata": {},
     "output_type": "execute_result"
    }
   ],
   "source": [
    "mvis = MechanismVisualizer(robot)\n",
    "open(mvis, Window())"
   ]
  },
  {
   "cell_type": "code",
   "execution_count": 49,
   "metadata": {},
   "outputs": [],
   "source": [
    "rootframe = root_frame(mechanism(robot))\n",
    "floor = HalfSpace3D(Point3D(rootframe, 0., 0., 0.), FreeVector3D(rootframe, 0., 0., 1.))\n",
    "add_environment_primitive!(mechanism(robot), floor)\n",
    "wall = HalfSpace3D(Point3D(rootframe, 0., 1.0, 0.), FreeVector3D(rootframe, 0., -1., 0.))\n",
    "add_environment_primitive!(mechanism(robot), wall)\n",
    "\n",
    "feet = Dict(:left => findbody(mechanism(robot), \"l_foot_sole\"), :right => findbody(mechanism(robot), \"r_foot_sole\"))\n",
    "hands = Dict(:left => findbody(mechanism(robot), \"l_hand_mount\"), :right => findbody(mechanism(robot), \"r_hand_mount\"));\n",
    "\n",
    "contact_model = SoftContactModel(hunt_crossley_hertz(k = 500e3), ViscoelasticCoulombModel(0.8, 20e3, 100.))\n",
    "\n",
    "for (side, body) in feet\n",
    "    add_contact_point!(body, \n",
    "        ContactPoint(Point3D(default_frame(body), 0., 0, 0), \n",
    "                     contact_model))\n",
    "end\n",
    "\n",
    "for (side, body) in hands\n",
    "    add_contact_point!(body, \n",
    "        ContactPoint(Point3D(default_frame(body), 0., 0, 0), \n",
    "                     contact_model))\n",
    "end"
   ]
  },
  {
   "cell_type": "code",
   "execution_count": 50,
   "metadata": {},
   "outputs": [
    {
     "name": "stdout",
     "output_type": "stream",
     "text": [
      "Academic license - for non-commercial use only\n",
      "Academic license - for non-commercial use only\n",
      "Academic license - for non-commercial use only\n",
      "Academic license - for non-commercial use only\n",
      "Academic license - for non-commercial use only\n",
      "Academic license - for non-commercial use only\n"
     ]
    },
    {
     "data": {
      "text/plain": [
       "(::MPCController) (generic function with 1 method)"
      ]
     },
     "execution_count": 50,
     "metadata": {},
     "output_type": "execute_result"
    }
   ],
   "source": [
    "@load \"../2018-05-08-box-atlas-longer-miqp/boxatlas.jld2\" net lqrsol mpc_params\n",
    "mpc_params_data = mpc_params\n",
    "mpc_params = MPCParams(robot)\n",
    "mpc_params.Δt = mpc_params_data[\"Δt\"]\n",
    "mpc_params.horizon = mpc_params_data[\"horizon\"]\n",
    "net_cost = LearningMPC.LearnedCost(lqrsol, net)\n",
    "net_mpc_params = MPCParams(robot)\n",
    "net_mpc_params.horizon = 1\n",
    "net_mpc_controller = MPCController(robot, net_mpc_params, net_cost, [lqrsol]);\n",
    "full_mpc_controller = MPCController(robot, mpc_params, lqrsol, [lqrsol, net_mpc_controller]);\n",
    "lqr_mpc_controller = MPCController(robot, (p = MPCParams(robot); p.horizon=1; p), lqrsol, [lqrsol])"
   ]
  },
  {
   "cell_type": "code",
   "execution_count": 51,
   "metadata": {},
   "outputs": [
    {
     "data": {
      "text/plain": [
       "inplace (generic function with 1 method)"
      ]
     },
     "execution_count": 51,
     "metadata": {},
     "output_type": "execute_result"
    }
   ],
   "source": [
    "function inplace(controller)\n",
    "    function (τ, t, state)\n",
    "        τ .= controller(state)\n",
    "    end\n",
    "end"
   ]
  },
  {
   "cell_type": "code",
   "execution_count": 52,
   "metadata": {},
   "outputs": [
    {
     "data": {
      "text/plain": [
       "compose (generic function with 1 method)"
      ]
     },
     "execution_count": 52,
     "metadata": {},
     "output_type": "execute_result"
    }
   ],
   "source": [
    "effort_bounds = LCPSim.all_effort_bounds(mechanism(robot))\n",
    "\n",
    "function effort_limiter(τ::AbstractVector, t::Number, state::MechanismState)\n",
    "    τ .= clamp.(τ, effort_bounds)\n",
    "    τ\n",
    "end\n",
    "\n",
    "position_bounds = LCPSim.all_configuration_bounds(mechanism(robot))\n",
    "\n",
    "function bounds_enforcer(τ::AbstractVector, t::Number, state::MechanismState)\n",
    "    # TODO: handle q̇ vs v correctly\n",
    "    for i in 1:num_positions(state)\n",
    "        kp = 1000\n",
    "        kd = 0.1 * kp\n",
    "        if configuration(state)[i] > position_bounds[i].upper\n",
    "            violation = configuration(state)[i] - position_bounds[i].upper\n",
    "            τ[i] -= kp * violation\n",
    "            τ[i] -= kd * velocity(state)[i]\n",
    "        elseif configuration(state)[i] < position_bounds[i].lower\n",
    "            violation = position_bounds[i].lower - configuration(state)[i]\n",
    "            τ[i] += kp * violation \n",
    "            τ[i] -= kd * velocity(state)[i]\n",
    "        end\n",
    "    end\n",
    "    τ\n",
    "end\n",
    "\n",
    "function compose(controllers...)\n",
    "    function (τ, t, state)\n",
    "        for c in controllers\n",
    "            c(τ, t, state)\n",
    "        end\n",
    "        τ\n",
    "    end\n",
    "end\n",
    "\n",
    "    "
   ]
  },
  {
   "cell_type": "code",
   "execution_count": 53,
   "metadata": {},
   "outputs": [
    {
     "data": {
      "text/plain": [
       "24"
      ]
     },
     "execution_count": 53,
     "metadata": {},
     "output_type": "execute_result"
    }
   ],
   "source": [
    "num_additional_states(nominal_state(robot))"
   ]
  },
  {
   "cell_type": "code",
   "execution_count": 60,
   "metadata": {},
   "outputs": [
    {
     "name": "stdout",
     "output_type": "stream",
     "text": [
      "116.489876 seconds (31.27 M allocations: 4.710 GiB, 2.21% gc time)\n"
     ]
    },
    {
     "name": "stderr",
     "output_type": "stream",
     "text": [
      "WARNING: Method definition (::LearningMPC.LearnedCost{T, F1, F2})(Union{RigidBodyDynamics.MechanismState{X, M, C, JointCollection, MotionSubspaceCollection, WrenchSubspaceCollection} where WrenchSubspaceCollection where MotionSubspaceCollection where JointCollection where C where M where X, LCPSim.StateRecord{T, M} where M where T}, AbstractArray{#s17, 1} where #s17<:(LCPSim.LCPUpdate{T, M, U} where U where M where T)) in module LearningMPC at /home/rdeits/locomotion/explorations/learning-mpc-2/submodules/LearningMPC/src/learning.jl:123 overwritten at /home/rdeits/locomotion/explorations/learning-mpc-2/submodules/LearningMPC/src/learning.jl:123.\n",
      "WARNING: Method definition evaluate_controller(Any, RigidBodyDynamics.MechanismState{X, M, C, JointCollection, MotionSubspaceCollection, WrenchSubspaceCollection} where WrenchSubspaceCollection where MotionSubspaceCollection where JointCollection where C where M where X, LCPSim.Environment{T} where T, LearningMPC.LQRSolution{T} where T) in module LearningMPC at /home/rdeits/locomotion/explorations/learning-mpc-2/submodules/LearningMPC/src/learning.jl:138 overwritten at /home/rdeits/locomotion/explorations/learning-mpc-2/submodules/LearningMPC/src/learning.jl:138.\n",
      "WARNING: Method definition evaluate_controller(Any, RigidBodyDynamics.MechanismState{X, M, C, JointCollection, MotionSubspaceCollection, WrenchSubspaceCollection} where WrenchSubspaceCollection where MotionSubspaceCollection where JointCollection where C where M where X, LCPSim.Environment{T} where T, LearningMPC.LQRSolution{T} where T, Any) in module LearningMPC at /home/rdeits/locomotion/explorations/learning-mpc-2/submodules/LearningMPC/src/learning.jl:138 overwritten at /home/rdeits/locomotion/explorations/learning-mpc-2/submodules/LearningMPC/src/learning.jl:138.\n",
      "WARNING: Method definition evaluate_controller(Any, RigidBodyDynamics.MechanismState{X, M, C, JointCollection, MotionSubspaceCollection, WrenchSubspaceCollection} where WrenchSubspaceCollection where MotionSubspaceCollection where JointCollection where C where M where X, LCPSim.Environment{T} where T, LearningMPC.LQRSolution{T} where T, Any, Any) in module LearningMPC at /home/rdeits/locomotion/explorations/learning-mpc-2/submodules/LearningMPC/src/learning.jl:138 overwritten at /home/rdeits/locomotion/explorations/learning-mpc-2/submodules/LearningMPC/src/learning.jl:138.\n",
      "WARNING: Method definition evaluate_controller(Any, RigidBodyDynamics.MechanismState{X, M, C, JointCollection, MotionSubspaceCollection, WrenchSubspaceCollection} where WrenchSubspaceCollection where MotionSubspaceCollection where JointCollection where C where M where X, LCPSim.Environment{T} where T, LearningMPC.LQRSolution{T} where T, Any, Any, Any) in module LearningMPC at /home/rdeits/locomotion/explorations/learning-mpc-2/submodules/LearningMPC/src/learning.jl:138 overwritten at /home/rdeits/locomotion/explorations/learning-mpc-2/submodules/LearningMPC/src/learning.jl:138.\n"
     ]
    }
   ],
   "source": [
    "state = nominal_state(robot)\n",
    "set_velocity!(state, findjoint(mechanism(robot), \"floating_base\"), [0.5, 0, 0.])\n",
    "final_time = 5.\n",
    "Δt = 0.01\n",
    "\n",
    "composed = PeriodicController(similar(velocity(state)), Δt, compose(inplace(net_mpc_controller), effort_limiter))\n",
    "controlcallback = DiffEqCallbacks.PeriodicCallback(composed)\n",
    "composed = compose(composed, bounds_enforcer)\n",
    "\n",
    "dynamics = Dynamics(mechanism(robot), composed)\n",
    "problem = ODEProblem(dynamics, state, (0., final_time), callback = CallbackSet(controlcallback, CallbackSet(mvis, state, max_fps = 30.)))\n",
    "\n",
    "@time sol = RigidBodySim.solve(problem, Tsit5(), abs_tol = 1e-8, dt = Δt);"
   ]
  },
  {
   "cell_type": "code",
   "execution_count": 64,
   "metadata": {},
   "outputs": [],
   "source": [
    "RigidBodySim.animate(mvis, state, sol)"
   ]
  },
  {
   "cell_type": "code",
   "execution_count": null,
   "metadata": {},
   "outputs": [],
   "source": []
  }
 ],
 "metadata": {
  "kernelspec": {
   "display_name": "Julia 0.6.3",
   "language": "julia",
   "name": "julia-0.6"
  },
  "language_info": {
   "file_extension": ".jl",
   "mimetype": "application/julia",
   "name": "julia",
   "version": "0.6.3"
  }
 },
 "nbformat": 4,
 "nbformat_minor": 2
}
