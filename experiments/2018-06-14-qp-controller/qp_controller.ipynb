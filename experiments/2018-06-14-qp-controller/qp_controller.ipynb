{
 "cells": [
  {
   "cell_type": "code",
   "execution_count": 1,
   "metadata": {},
   "outputs": [],
   "source": [
    "using Revise"
   ]
  },
  {
   "cell_type": "code",
   "execution_count": 2,
   "metadata": {},
   "outputs": [
    {
     "data": {
      "text/html": [
       "    <script class='js-collapse-script'>\n",
       "        var curMatch =\n",
       "            window.location.href\n",
       "            .match(/(.*?)\\/notebooks\\/.*\\.ipynb/);\n",
       "\n",
       "        curMatch = curMatch ||\n",
       "            window.location.href\n",
       "            .match(/(.*?)\\/apps\\/.*\\.ipynb/);\n",
       "\n",
       "        if ( curMatch ) {\n",
       "            $('head').append('<base href=\"' + curMatch[1] + '/\">');\n",
       "        }\n",
       "    </script>\n"
      ],
      "text/plain": [
       "HTML{String}(\"    <script class='js-collapse-script'>\\n        var curMatch =\\n            window.location.href\\n            .match(/(.*?)\\\\/notebooks\\\\/.*\\\\.ipynb/);\\n\\n        curMatch = curMatch ||\\n            window.location.href\\n            .match(/(.*?)\\\\/apps\\\\/.*\\\\.ipynb/);\\n\\n        if ( curMatch ) {\\n            \\$('head').append('<base href=\\\"' + curMatch[1] + '/\\\">');\\n        }\\n    </script>\\n\")"
      ]
     },
     "metadata": {},
     "output_type": "display_data"
    },
    {
     "data": {
      "text/html": [
       "<script class='js-collapse-script' src='pkg/WebIO/webio/dist/bundle.js'></script>"
      ],
      "text/plain": [
       "HTML{String}(\"<script class='js-collapse-script' src='pkg/WebIO/webio/dist/bundle.js'></script>\")"
      ]
     },
     "metadata": {},
     "output_type": "display_data"
    },
    {
     "data": {
      "text/html": [
       "<script class='js-collapse-script' src='pkg/WebIO/providers/ijulia_setup.js'></script>"
      ],
      "text/plain": [
       "HTML{String}(\"<script class='js-collapse-script' src='pkg/WebIO/providers/ijulia_setup.js'></script>\")"
      ]
     },
     "metadata": {},
     "output_type": "display_data"
    },
    {
     "data": {
      "text/html": [
       "  <script class='js-collapse-script'>\n",
       "    $('.js-collapse-script').parent('.output_subarea').css('padding', '0');\n",
       "  </script>\n"
      ],
      "text/plain": [
       "HTML{String}(\"  <script class='js-collapse-script'>\\n    \\$('.js-collapse-script').parent('.output_subarea').css('padding', '0');\\n  </script>\\n\")"
      ]
     },
     "metadata": {},
     "output_type": "display_data"
    }
   ],
   "source": [
    "using LearningMPC\n",
    "using LearningMPC.Models\n",
    "using RigidBodyDynamics\n",
    "using RigidBodyDynamics.Contact\n",
    "using RigidBodyDynamics.PDControl\n",
    "using MomentumBasedControl\n",
    "using MeshCatMechanisms\n",
    "using RigidBodySim\n",
    "using RigidBodySim.Visualization.MeshCatInterface\n",
    "import LCPSim\n",
    "using JLD2\n",
    "using Blink"
   ]
  },
  {
   "cell_type": "code",
   "execution_count": 3,
   "metadata": {},
   "outputs": [],
   "source": [
    "robot = BoxAtlas();"
   ]
  },
  {
   "cell_type": "code",
   "execution_count": 27,
   "metadata": {},
   "outputs": [
    {
     "data": {
      "text/plain": [
       "Blink.AtomShell.Window(3, Blink.AtomShell.Electron(Process(`/home/rdeits/locomotion/explorations/learning-mpc-2/packages/v0.6/Blink/deps/atom/electron /home/rdeits/locomotion/explorations/learning-mpc-2/packages/v0.6/Blink/src/AtomShell/main.js port 2149`, ProcessRunning), TCPSocket(RawFD(53) active, 0 bytes waiting), Dict{String,Any}(Pair{String,Any}(\"callback\", Blink.#3))), Blink.Page(3, WebSockets.WebSocket(7, TCPSocket(RawFD(58) active, 0 bytes waiting), CONNECTED::WebSockets.ReadyState = 1), Dict{String,Any}(Pair{String,Any}(\"webio\", WebIO.#109),Pair{String,Any}(\"callback\", Blink.#3)), Future(1, 1, 3, Nullable{Any}(true))))"
      ]
     },
     "execution_count": 27,
     "metadata": {},
     "output_type": "execute_result"
    }
   ],
   "source": [
    "mvis = MechanismVisualizer(robot)\n",
    "open(mvis, Window())"
   ]
  },
  {
   "cell_type": "code",
   "execution_count": 5,
   "metadata": {},
   "outputs": [
    {
     "name": "stdout",
     "output_type": "stream",
     "text": [
      "Academic license - for non-commercial use only\n",
      "Academic license - for non-commercial use only\n",
      "Academic license - for non-commercial use only\n",
      "Academic license - for non-commercial use only\n",
      "Academic license - for non-commercial use only\n",
      "Academic license - for non-commercial use only\n"
     ]
    },
    {
     "data": {
      "text/plain": [
       "(::MPCController) (generic function with 1 method)"
      ]
     },
     "execution_count": 5,
     "metadata": {},
     "output_type": "execute_result"
    }
   ],
   "source": [
    "@load \"../2018-05-08-box-atlas-longer-miqp/boxatlas.jld2\" net lqrsol mpc_params\n",
    "mpc_params_data = mpc_params\n",
    "mpc_params = MPCParams(robot)\n",
    "mpc_params.Δt = mpc_params_data[\"Δt\"]\n",
    "mpc_params.horizon = mpc_params_data[\"horizon\"]\n",
    "net_cost = LearningMPC.LearnedCost(lqrsol, net)\n",
    "net_mpc_params = MPCParams(robot)\n",
    "net_mpc_params.horizon = 1\n",
    "net_mpc_controller = MPCController(robot, net_mpc_params, net_cost, [lqrsol]);\n",
    "full_mpc_controller = MPCController(robot, mpc_params, lqrsol, [lqrsol, net_mpc_controller]);\n",
    "lqr_mpc_controller = MPCController(robot, (p = MPCParams(robot); p.horizon=1; p), lqrsol, [lqrsol])"
   ]
  },
  {
   "cell_type": "code",
   "execution_count": 6,
   "metadata": {},
   "outputs": [],
   "source": [
    "rootframe = root_frame(mechanism(robot))\n",
    "floor = HalfSpace3D(Point3D(rootframe, 0., 0., 0.), FreeVector3D(rootframe, 0., 0., 1.))\n",
    "add_environment_primitive!(mechanism(robot), floor)\n",
    "wall = HalfSpace3D(Point3D(rootframe, 0., 1.0, 0.), FreeVector3D(rootframe, 0., -1., 0.))\n",
    "add_environment_primitive!(mechanism(robot), wall)\n",
    "\n",
    "feet = Dict(:left => findbody(mechanism(robot), \"l_foot_sole\"), :right => findbody(mechanism(robot), \"r_foot_sole\"))\n",
    "hands = Dict(:left => findbody(mechanism(robot), \"l_hand_mount\"), :right => findbody(mechanism(robot), \"r_hand_mount\"));\n",
    "\n",
    "contact_model = SoftContactModel(hunt_crossley_hertz(k = 500e3), ViscoelasticCoulombModel(0.8, 20e3, 100.))\n",
    "\n",
    "for (side, body) in feet\n",
    "    add_contact_point!(body, \n",
    "        ContactPoint(Point3D(default_frame(body), 0., 0, 0), \n",
    "                     contact_model))\n",
    "end\n",
    "\n",
    "for (side, body) in hands\n",
    "    add_contact_point!(body, \n",
    "        ContactPoint(Point3D(default_frame(body), 0., 0, 0), \n",
    "                     contact_model))\n",
    "end\n"
   ]
  },
  {
   "cell_type": "code",
   "execution_count": 8,
   "metadata": {},
   "outputs": [
    {
     "data": {
      "text/plain": [
       "Dict{RigidBodyDynamics.RigidBody{Float64},Array{MomentumBasedControl.ContactSettings,1}} with 14 entries:\n",
       "  world               => MomentumBasedControl.ContactSettings[]\n",
       "  wall                => MomentumBasedControl.ContactSettings[]\n",
       "  floating_base_dummy => MomentumBasedControl.ContactSettings[]\n",
       "  root                => MomentumBasedControl.ContactSettings[]\n",
       "  r_foot_sole         => MomentumBasedControl.ContactSettings[MomentumBasedCont…\n",
       "  floor               => MomentumBasedControl.ContactSettings[]\n",
       "  r_hand_mount_dummy  => MomentumBasedControl.ContactSettings[]\n",
       "  l_foot_sole         => MomentumBasedControl.ContactSettings[MomentumBasedCont…\n",
       "  pelvis              => MomentumBasedControl.ContactSettings[]\n",
       "  r_foot_sole_dummy   => MomentumBasedControl.ContactSettings[]\n",
       "  r_hand_mount        => MomentumBasedControl.ContactSettings[MomentumBasedCont…\n",
       "  l_hand_mount_dummy  => MomentumBasedControl.ContactSettings[]\n",
       "  l_hand_mount        => MomentumBasedControl.ContactSettings[MomentumBasedCont…\n",
       "  l_foot_sole_dummy   => MomentumBasedControl.ContactSettings[]"
      ]
     },
     "execution_count": 8,
     "metadata": {},
     "output_type": "execute_result"
    }
   ],
   "source": [
    "momentum_based_controller = MomentumBasedController(mechanism(robot))\n",
    "contacts = add_mechanism_contacts!(momentum_based_controller)"
   ]
  },
  {
   "cell_type": "code",
   "execution_count": 9,
   "metadata": {},
   "outputs": [
    {
     "data": {
      "text/plain": [
       "FreeVector3D in \"world\": [0.0, -1.0, 0.0]"
      ]
     },
     "execution_count": 9,
     "metadata": {},
     "output_type": "execute_result"
    }
   ],
   "source": [
    "μ = 0.8\n",
    "floor_normal = floor.outward_normal\n",
    "wall_normal = wall.outward_normal"
   ]
  },
  {
   "cell_type": "code",
   "execution_count": 44,
   "metadata": {},
   "outputs": [
    {
     "data": {
      "text/plain": [
       "lqr_high_level_control (generic function with 1 method)"
      ]
     },
     "execution_count": 44,
     "metadata": {},
     "output_type": "execute_result"
    }
   ],
   "source": [
    "# FIXME: referencing global variables\n",
    "function lqr_high_level_control(τ::AbstractVector, t::Number, state::MechanismState)\n",
    "    # TODO: extract out: highlevelcontrol\n",
    "    # Foot accelerations\n",
    "    T = eltype(momentum_based_controller)\n",
    "    MomentumBasedControl.reset!(momentum_based_controller)\n",
    "    regularize_joint_accels!(momentum_based_controller, 0.05)\n",
    "    \n",
    "    for (side, body) in feet\n",
    "        for contactsettings in contacts[body]\n",
    "            pt_in_world = transform(state, contactsettings.point, root_frame(state.mechanism))\n",
    "            set!(contactsettings, 1e-4, μ, transform(state, floor_normal, default_frame(body)))\n",
    "        end\n",
    "    end\n",
    "    \n",
    "    momentum_based_controller.terminalstatetask.x .= lqrsol.x0\n",
    "    momentum_based_controller.terminalstatetask.Q .= lqrsol.S\n",
    "    momentum_based_controller.terminalstatetask.q .= 0\n",
    "    \n",
    "    # Low level control\n",
    "    momentum_based_controller(τ, t, state)\n",
    "    τ\n",
    "end"
   ]
  },
  {
   "cell_type": "code",
   "execution_count": 49,
   "metadata": {},
   "outputs": [
    {
     "data": {
      "text/plain": [
       "net_high_level_control (generic function with 1 method)"
      ]
     },
     "execution_count": 49,
     "metadata": {},
     "output_type": "execute_result"
    }
   ],
   "source": [
    "# FIXME: referencing global variables\n",
    "function net_high_level_control(τ::AbstractVector, t::Number, state::MechanismState)\n",
    "    # TODO: extract out: highlevelcontrol\n",
    "    # Foot accelerations\n",
    "    T = eltype(momentum_based_controller)\n",
    "    MomentumBasedControl.reset!(momentum_based_controller)\n",
    "    regularize_joint_accels!(momentum_based_controller, 0.05)\n",
    "    \n",
    "    for (side, body) in feet\n",
    "        for contactsettings in contacts[body]\n",
    "            pt_in_world = transform(state, contactsettings.point, root_frame(state.mechanism))\n",
    "            max_normal_force = pt_in_world.v[3] >= 1e-2 ? 0.0 : Inf\n",
    "            set!(contactsettings, 1e-4, μ, \n",
    "                transform(state, floor_normal, default_frame(body)),\n",
    "                max_normal_force)\n",
    "        end\n",
    "    end\n",
    "    \n",
    "    body = hands[:left]\n",
    "    for contactsettings in contacts[body]\n",
    "        pt_in_world = transform(state, contactsettings.point, root_frame(state.mechanism))\n",
    "        max_normal_force = (pt_in_world.v[2] <= (1 - 1e-2)) ? 0.0 : Inf\n",
    "            \n",
    "        set!(contactsettings, 1e-1, μ, transform(state, wall_normal, default_frame(body)))\n",
    "    end\n",
    "    \n",
    "    momentum_based_controller.terminalstatetask.x .= lqrsol.x0\n",
    "    momentum_based_controller.terminalstatetask.Q .= lqrsol.Q\n",
    "    q0, q = net_cost.tangent_net(vcat(configuration(state), velocity(state)))\n",
    "    momentum_based_controller.terminalstatetask.q .= vec(Flux.Tracker.data(q))\n",
    "#     momentum_based_controller.terminalstatetask.Q .= 0\n",
    "#     momentum_based_controller.terminalstatetask.q .= 0\n",
    "    \n",
    "    # Low level control\n",
    "    momentum_based_controller(τ, t, state)\n",
    "    τ\n",
    "end"
   ]
  },
  {
   "cell_type": "code",
   "execution_count": 50,
   "metadata": {},
   "outputs": [
    {
     "data": {
      "text/plain": [
       "compose (generic function with 1 method)"
      ]
     },
     "execution_count": 50,
     "metadata": {},
     "output_type": "execute_result"
    }
   ],
   "source": [
    "effort_bounds = LCPSim.all_effort_bounds(mechanism(robot))\n",
    "\n",
    "function effort_limiter(τ::AbstractVector, t::Number, state::MechanismState)\n",
    "    τ .= clamp.(τ, effort_bounds)\n",
    "    τ\n",
    "end\n",
    "\n",
    "position_bounds = LCPSim.all_configuration_bounds(mechanism(robot))\n",
    "\n",
    "function bounds_enforcer(τ::AbstractVector, t::Number, state::MechanismState)\n",
    "    # TODO: handle q̇ vs v correctly\n",
    "    for i in 1:num_positions(state)\n",
    "        kp = 1000\n",
    "        kd = 0.1 * kp\n",
    "        if configuration(state)[i] > position_bounds[i].upper\n",
    "            violation = configuration(state)[i] - position_bounds[i].upper\n",
    "            τ[i] -= kp * violation\n",
    "            τ[i] -= kd * velocity(state)[i]\n",
    "        elseif configuration(state)[i] < position_bounds[i].lower\n",
    "            violation = position_bounds[i].lower - configuration(state)[i]\n",
    "            τ[i] += kp * violation \n",
    "            τ[i] -= kd * velocity(state)[i]\n",
    "        end\n",
    "    end\n",
    "    τ\n",
    "end\n",
    "\n",
    "function compose(controllers...)\n",
    "    function (τ, t, state)\n",
    "        for c in controllers\n",
    "            c(τ, t, state)\n",
    "        end\n",
    "        τ\n",
    "    end\n",
    "end\n",
    "\n",
    "    "
   ]
  },
  {
   "cell_type": "code",
   "execution_count": 53,
   "metadata": {},
   "outputs": [
    {
     "name": "stdout",
     "output_type": "stream",
     "text": [
      "  5.492411 seconds (16.94 M allocations: 748.119 MiB, 12.32% gc time)\n"
     ]
    }
   ],
   "source": [
    "state = nominal_state(robot)\n",
    "set_velocity!(state, findjoint(mechanism(robot), \"floating_base\"), [0.5, 0, 0.])\n",
    "final_time = 5.\n",
    "Δt = 0.01\n",
    "\n",
    "composed = PeriodicController(similar(velocity(state)), Δt, compose(lqr_high_level_control, effort_limiter))\n",
    "controlcallback = DiffEqCallbacks.PeriodicCallback(composed)\n",
    "composed = compose(composed, bounds_enforcer)\n",
    "\n",
    "dynamics = Dynamics(mechanism(robot), composed)\n",
    "problem = ODEProblem(dynamics, state, (0., final_time), callback = CallbackSet(controlcallback, CallbackSet(mvis, state, max_fps = 30.)))\n",
    "\n",
    "@time sol = RigidBodySim.solve(problem, Tsit5(), abs_tol = 1e-8, dt = Δt);"
   ]
  },
  {
   "cell_type": "code",
   "execution_count": 52,
   "metadata": {},
   "outputs": [],
   "source": [
    "RigidBodySim.animate(mvis, state, sol)"
   ]
  },
  {
   "cell_type": "code",
   "execution_count": null,
   "metadata": {},
   "outputs": [],
   "source": []
  }
 ],
 "metadata": {
  "kernelspec": {
   "display_name": "Julia 0.6.3",
   "language": "julia",
   "name": "julia-0.6"
  },
  "language_info": {
   "file_extension": ".jl",
   "mimetype": "application/julia",
   "name": "julia",
   "version": "0.6.3"
  }
 },
 "nbformat": 4,
 "nbformat_minor": 2
}
