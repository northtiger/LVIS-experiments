{
 "cells": [
  {
   "cell_type": "code",
   "execution_count": 1,
   "metadata": {
    "collapsed": true
   },
   "outputs": [],
   "source": [
    "using JLD2"
   ]
  },
  {
   "cell_type": "code",
   "execution_count": 2,
   "metadata": {},
   "outputs": [
    {
     "name": "stdout",
     "output_type": "stream",
     "text": [
      "haskey(file, \"foo\") = true\n"
     ]
    },
    {
     "data": {
      "text/plain": [
       "true"
      ]
     },
     "execution_count": 2,
     "metadata": {},
     "output_type": "execute_result"
    }
   ],
   "source": [
    "jldopen(\"foo.jld2\", \"w\") do file\n",
    "    file[\"foo\"] = []\n",
    "    @show haskey(file, \"foo\")\n",
    "end"
   ]
  },
  {
   "cell_type": "code",
   "execution_count": 3,
   "metadata": {},
   "outputs": [
    {
     "name": "stdout",
     "output_type": "stream",
     "text": [
      "haskey(file, \"foo\") = false\n"
     ]
    },
    {
     "data": {
      "text/plain": [
       "false"
      ]
     },
     "execution_count": 3,
     "metadata": {},
     "output_type": "execute_result"
    }
   ],
   "source": [
    "jldopen(\"foo.jld2\", \"w\") do file\n",
    "    @show haskey(file, \"foo\")\n",
    "end"
   ]
  },
  {
   "cell_type": "code",
   "execution_count": 4,
   "metadata": {},
   "outputs": [
    {
     "name": "stdout",
     "output_type": "stream",
     "text": [
      "haskey(file, \"foo\") = true\n"
     ]
    },
    {
     "data": {
      "text/plain": [
       "true"
      ]
     },
     "execution_count": 4,
     "metadata": {},
     "output_type": "execute_result"
    }
   ],
   "source": [
    "jldopen(\"foo.jld2\", \"w\") do file\n",
    "    file[\"foo\"] = [1]\n",
    "    @show haskey(file, \"foo\")\n",
    "end"
   ]
  },
  {
   "cell_type": "code",
   "execution_count": 5,
   "metadata": {},
   "outputs": [
    {
     "name": "stdout",
     "output_type": "stream",
     "text": [
      "haskey(file, \"foo\") = false\n"
     ]
    },
    {
     "data": {
      "text/plain": [
       "false"
      ]
     },
     "execution_count": 5,
     "metadata": {},
     "output_type": "execute_result"
    }
   ],
   "source": [
    "jldopen(\"foo.jld2\", \"w\") do file\n",
    "    @show haskey(file, \"foo\")\n",
    "end"
   ]
  },
  {
   "cell_type": "code",
   "execution_count": 6,
   "metadata": {},
   "outputs": [
    {
     "data": {
      "text/plain": [
       "JLDFile /home/rdeits/locomotion/explorations/learning-mpc/experiments/2017-10-09-hybrid-cart-pole/foo.jld2 (read-only)\n",
       "  (no datasets)"
      ]
     },
     "execution_count": 6,
     "metadata": {},
     "output_type": "execute_result"
    }
   ],
   "source": [
    "file = jldopen(\"foo.jld2\")"
   ]
  },
  {
   "cell_type": "code",
   "execution_count": 7,
   "metadata": {},
   "outputs": [
    {
     "data": {
      "text/plain": [
       "5-element Array{Float64,1}:\n",
       " -1.32523   \n",
       " -0.00964135\n",
       " -1.06295   \n",
       " -0.929734  \n",
       " -0.520523  "
      ]
     },
     "execution_count": 7,
     "metadata": {},
     "output_type": "execute_result"
    }
   ],
   "source": [
    "jldopen(\"example.jld2\", \"w\") do file\n",
    "    file[\"bigdata\"] = randn(5)\n",
    "end"
   ]
  },
  {
   "cell_type": "code",
   "execution_count": 9,
   "metadata": {},
   "outputs": [
    {
     "name": "stdout",
     "output_type": "stream",
     "text": [
      "file = JLDFile /home/rdeits/locomotion/explorations/learning-mpc/experiments/2017-10-09-hybrid-cart-pole/example.jld2 (read-only)\n",
      "  (no datasets)\n"
     ]
    },
    {
     "data": {
      "text/plain": [
       "JLDFile /home/rdeits/locomotion/explorations/learning-mpc/experiments/2017-10-09-hybrid-cart-pole/example.jld2 (read-only)\n",
       "  (closed)"
      ]
     },
     "execution_count": 9,
     "metadata": {},
     "output_type": "execute_result"
    }
   ],
   "source": [
    "jldopen(\"example.jld2\", \"r\") do file\n",
    "    @show file\n",
    "end"
   ]
  },
  {
   "cell_type": "code",
   "execution_count": 10,
   "metadata": {
    "collapsed": true
   },
   "outputs": [],
   "source": [
    "using JLD2\n",
    "\n",
    "file = jldopen(\"example.jld2\", \"w\")\n",
    "file[\"example\"] = 42\n",
    "close(file)\n",
    "\n",
    "file = jldopen(\"example.jld2\", \"r\")\n",
    "@show file[\"example\"]\n",
    "close(file)\n",
    "\n",
    "# jldopen(\"example2.jld2\", \"w\") do file\n",
    "#     file[\"example\"] = 42\n",
    "# end\n",
    "\n",
    "# jldopen(\"example2.jld2\", \"r\") do file\n",
    "#     @show file[\"example\"]\n",
    "# end"
   ]
  },
  {
   "cell_type": "code",
   "execution_count": null,
   "metadata": {
    "collapsed": true
   },
   "outputs": [],
   "source": []
  }
 ],
 "metadata": {
  "kernelspec": {
   "display_name": "Julia 0.6.0",
   "language": "julia",
   "name": "julia-0.6"
  },
  "language_info": {
   "file_extension": ".jl",
   "mimetype": "application/julia",
   "name": "julia",
   "version": "0.6.0"
  }
 },
 "nbformat": 4,
 "nbformat_minor": 2
}
