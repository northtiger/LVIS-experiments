{
 "cells": [
  {
   "cell_type": "code",
   "execution_count": null,
   "metadata": {
    "collapsed": true
   },
   "outputs": [],
   "source": [
    "using Revise"
   ]
  },
  {
   "cell_type": "code",
   "execution_count": null,
   "metadata": {},
   "outputs": [],
   "source": [
    "using RigidBodyDynamics\n",
    "using RigidBodyTreeInspector\n",
    "using DrakeVisualizer\n",
    "DrakeVisualizer.any_open_windows() || DrakeVisualizer.new_window()\n",
    "using LCPSim\n",
    "using Polyhedra\n",
    "using CDDLib\n",
    "using StaticArrays: SVector\n",
    "using Gurobi\n",
    "using JuMP"
   ]
  },
  {
   "cell_type": "code",
   "execution_count": null,
   "metadata": {},
   "outputs": [],
   "source": [
    "mechanism = parse_urdf(Float64, \"cartpole.urdf\")\n",
    "world = root_body(mechanism)\n",
    "\n",
    "basevis = Visualizer()[:cartpole]\n",
    "delete!(basevis)\n",
    "vis = basevis[:robot]\n",
    "setgeometry!(vis, mechanism, parse_urdf(\"cartpole.urdf\", mechanism))\n",
    "\n",
    "wall_radius = 1.5\n",
    "μ = 0.5\n",
    "walls = [planar_obstacle(default_frame(world), [1., 0, 0.], [-wall_radius, 0, 0.], μ), \n",
    "    planar_obstacle(default_frame(world), [-1., 0, 0.], [wall_radius, 0, 0.], μ)]\n",
    "bounds = SimpleHRepresentation(vcat(eye(3), -eye(3)), vcat([wall_radius + 0.1, 0.5, 2.0], -[-wall_radius - 0.1, -0.5, -0.1]))\n",
    "\n",
    "for wall in walls\n",
    "    addgeometry!(basevis[:environment], CDDPolyhedron{3, Float64}(intersect(wall.interior, bounds)))\n",
    "end\n",
    "\n",
    "pole = findbody(mechanism, \"pole\")\n",
    "env = Environment(\n",
    "    Dict(pole => ContactEnvironment(\n",
    "            [Point3D(default_frame(pole), SVector(0., 0, 1))],\n",
    "            walls)))\n",
    "# env = Environment{Float64}(Dict())\n",
    "\n",
    "inspect(mechanism, vis)"
   ]
  },
  {
   "cell_type": "code",
   "execution_count": null,
   "metadata": {
    "collapsed": true
   },
   "outputs": [],
   "source": [
    "x0 = MechanismState{Float64}(mechanism)\n",
    "set_velocity!(x0, zeros(num_velocities(x0)))\n",
    "set_configuration!(x0, findjoint(mechanism, \"slider_to_cart\"), [0])\n",
    "set_configuration!(x0, findjoint(mechanism, \"cart_to_pole\"), [0])\n",
    "q0 = copy(configuration(x0))\n",
    "v0 = copy(velocity(x0))\n",
    "u0 = zeros(num_velocities(x0))\n",
    "xstar = MechanismState(mechanism, q0, v0)\n",
    "\n",
    "contacts = Point3D[]\n",
    "Q = diagm([10, 10, 1, 1])\n",
    "R = 0.1 * eye(num_velocities(x0))\n",
    "K, S = LCPSim.ContactLQR.contact_lqr(x0, u0, Q, R, contacts)\n",
    "\n",
    "controller = x -> begin\n",
    "    -K * (state_vector(x) - state_vector(xstar)) .+ u0\n",
    "#     u0\n",
    "end\n",
    "Δt = 0.01\n",
    "\n",
    "# set_velocity!(x0, findjoint(mechanism, \"slider_to_cart\"), [-2])\n",
    "set_configuration!(x0, findjoint(mechanism, \"cart_to_pole\"), [π/4])\n",
    "\n",
    "results = LCPSim.simulate(x0, controller, env, Δt, 200, GurobiSolver(OutputFlag=0));"
   ]
  },
  {
   "cell_type": "code",
   "execution_count": null,
   "metadata": {},
   "outputs": [],
   "source": [
    "set_configuration!(x0, configuration(results[1].state))\n",
    "settransform!(vis, x0)"
   ]
  },
  {
   "cell_type": "code",
   "execution_count": null,
   "metadata": {
    "collapsed": true
   },
   "outputs": [],
   "source": [
    "for r in results\n",
    "    sleep(Δt)\n",
    "    set_configuration!(x0, configuration(r.state))\n",
    "    settransform!(vis, x0)\n",
    "    for (body, contacts) in r.contacts\n",
    "        for (i, contact) in enumerate(contacts)\n",
    "            f = LCPSim.contact_force(contact)\n",
    "            p = transform_to_root(x0, contact.point.frame) * contact.point\n",
    "            v = vis[:forces][Symbol(body)][Symbol(i)]\n",
    "            setgeometry!(v, DrakeVisualizer.PolyLine([p.v, (p + 0.1*f).v]; end_head=DrakeVisualizer.ArrowHead()))\n",
    "        end\n",
    "    end\n",
    "end"
   ]
  },
  {
   "cell_type": "code",
   "execution_count": null,
   "metadata": {},
   "outputs": [],
   "source": [
    "function run_optimization(x0, env, Δt, N; x_nominal=x0, solver=GurobiSolver())\n",
    "    qstar = copy(configuration(x_nominal))\n",
    "    vstar = zeros(num_velocities(x_nominal))\n",
    "    ustar = u0\n",
    "    \n",
    "    model, results_opt = LCPSim.optimize(x0, env, Δt, N, Model(solver=solver))\n",
    "    \n",
    "    objective = (\n",
    "        sum(Δt * (r.state.state' * Q * r.state.state + 0.01 * r.input' * R * r.input) for r in results_opt)\n",
    "       + (results_opt[end].state.state' * S * results_opt[end].state.state)\n",
    "        )\n",
    "\n",
    "    for r in results_opt\n",
    "        for (joint, jrs) in r.joint_contacts\n",
    "            for joint_result in jrs\n",
    "#                 objective += joint_result.λ^2\n",
    "            end\n",
    "        end \n",
    "    end\n",
    "    \n",
    "    @objective model Min objective\n",
    "\n",
    "    controller = x -> begin\n",
    "        -K * (state_vector(x) - vcat(qstar, vstar)) .+ ustar\n",
    "    end\n",
    "    \n",
    "#     for r in results_opt\n",
    "#         @constraint model r.input .== -K * r.state.state\n",
    "#     end\n",
    "    \n",
    "    Δt_sim = 0.01\n",
    "    time_ratio = convert(Int, Δt / Δt_sim)\n",
    "    results = LCPSim.simulate(x0, controller, env, Δt_sim, time_ratio * N, GurobiSolver(OutputFlag=0))\n",
    "    if length(results) == length(results_opt)\n",
    "        setvalue.(results_opt, results[1:time_ratio:end])\n",
    "        ConditionalJuMP.warmstart!(model, false)\n",
    "    end\n",
    "    solve(model)\n",
    "    getvalue.(results_opt)\n",
    "end"
   ]
  },
  {
   "cell_type": "code",
   "execution_count": null,
   "metadata": {
    "scrolled": true
   },
   "outputs": [],
   "source": [
    "set_configuration!(x0, q0)\n",
    "set_velocity!(x0, v0)\n",
    "# set_configuration!(x0, findjoint(mechanism, \"slider_to_cart\"), [-1.5])\n",
    "# set_velocity!(x0, findjoint(mechanism, \"slider_to_cart\"), [-2])\n",
    "set_configuration!(x0, findjoint(mechanism, \"cart_to_pole\"), [π/4])\n",
    "Δt = 0.01\n",
    "gap = 1e-3\n",
    "timelimit = 60\n",
    "horizon = 30\n",
    "\n",
    "r_control = []\n",
    "x_control = MechanismState(mechanism, copy(q0), copy(v0))\n",
    "controller = x -> begin\n",
    "    set_velocity!(x_control, velocity(x))\n",
    "    set_configuration!(x_control, configuration(x))\n",
    "    r_control = run_optimization(x_control, env, Δt, horizon; x_nominal=xstar, solver=GurobiSolver(OutputFlag=0, MIPGap=gap, TimeLimit=timelimit))\n",
    "    u = r_control[1].input\n",
    "    settransform!(vis, x_control)\n",
    "#     for r in r_control\n",
    "#         set_configuration!(x0, configuration(r.state))\n",
    "#         settransform!(vis, x0)\n",
    "#     end\n",
    "    u\n",
    "    \n",
    "    @show u\n",
    "end\n",
    "\n",
    "results_mpc = LCPSim.simulate(x0, controller, env, Δt, 200, GurobiSolver(OutputFlag=0));"
   ]
  },
  {
   "cell_type": "code",
   "execution_count": null,
   "metadata": {
    "collapsed": true
   },
   "outputs": [],
   "source": [
    "for r in results_mpc\n",
    "    sleep(Δt)\n",
    "    set_configuration!(x0, configuration(r.state))\n",
    "    settransform!(vis, x0)\n",
    "    for (body, contacts) in r.contacts\n",
    "        for (i, contact) in enumerate(contacts)\n",
    "            f = LCPSim.contact_force(contact)\n",
    "            p = transform_to_root(x0, contact.point.frame) * contact.point\n",
    "            v = vis[:forces][Symbol(body)][Symbol(i)]\n",
    "            setgeometry!(v, DrakeVisualizer.PolyLine([p.v, (p + 0.1*f).v]; end_head=DrakeVisualizer.ArrowHead()))\n",
    "        end\n",
    "    end\n",
    "end"
   ]
  },
  {
   "cell_type": "code",
   "execution_count": null,
   "metadata": {
    "collapsed": true
   },
   "outputs": [],
   "source": [
    "set_configuration!(x0, configuration(results_mpc[end].state))\n",
    "set_velocity!(x0, velocity(results_mpc[end].state))\n",
    "\n",
    "r_control = []\n",
    "x_control = MechanismState(mechanism, copy(q0), copy(v0))\n",
    "controller = x -> begin\n",
    "    set_velocity!(x_control, velocity(x))\n",
    "    set_configuration!(x_control, configuration(x))\n",
    "    r_control = run_optimization(x_control, env, Δt, horizon; x_nominal=xstar, solver=GurobiSolver(OutputFlag=0, MIPGap=gap, TimeLimit=timelimit))\n",
    "    u = r_control[1].input\n",
    "    @show u\n",
    "end\n",
    "\n",
    "append!(results_mpc, LCPSim.simulate(x0, controller, env, Δt, 100, GurobiSolver(OutputFlag=0)));"
   ]
  },
  {
   "cell_type": "code",
   "execution_count": null,
   "metadata": {
    "collapsed": true
   },
   "outputs": [],
   "source": []
  }
 ],
 "metadata": {
  "kernelspec": {
   "display_name": "Julia 0.6.0",
   "language": "julia",
   "name": "julia-0.6"
  },
  "language_info": {
   "file_extension": ".jl",
   "mimetype": "application/julia",
   "name": "julia",
   "version": "0.6.0"
  }
 },
 "nbformat": 4,
 "nbformat_minor": 2
}
