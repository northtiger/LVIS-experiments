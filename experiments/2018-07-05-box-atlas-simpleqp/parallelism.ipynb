{
 "cells": [
  {
   "cell_type": "code",
   "execution_count": 1,
   "metadata": {},
   "outputs": [
    {
     "data": {
      "text/plain": [
       "4-element Array{Int64,1}:\n",
       " 2\n",
       " 3\n",
       " 4\n",
       " 5"
      ]
     },
     "execution_count": 1,
     "metadata": {},
     "output_type": "execute_result"
    }
   ],
   "source": [
    "addprocs(4)"
   ]
  },
  {
   "cell_type": "code",
   "execution_count": 4,
   "metadata": {},
   "outputs": [],
   "source": [
    "@everywhere function build_controller(scale)\n",
    "    input_channel = RemoteChannel(() -> Channel{Vector{Float64}}(1), myid())\n",
    "    output_channel = RemoteChannel(() -> Channel{Vector{Float64}}(1), myid())\n",
    "    controller = function (y, x)\n",
    "        y .= x .* scale\n",
    "#         sleep(1)\n",
    "    end\n",
    "    y = zeros(2)\n",
    "    @async while true\n",
    "        x = take!(input_channel)\n",
    "        controller(y, x)\n",
    "        put!(output_channel, y)\n",
    "    end\n",
    "    input_channel, output_channel\n",
    "end"
   ]
  },
  {
   "cell_type": "code",
   "execution_count": 5,
   "metadata": {},
   "outputs": [
    {
     "ename": "LoadError",
     "evalue": "\u001b[91m\u001b[91mStackOverflowError:\u001b[39m\ndeserialize(::Base.Distributed.ClusterSerializer{TCPSocket}, ::Type{RemoteChannel{Channel{Array{Float64,1}}}}) at ./distributed/remotecall.jl:302 (repeats 100 times)\u001b[39m",
     "output_type": "error",
     "traceback": [
      "\u001b[91m\u001b[91mStackOverflowError:\u001b[39m\ndeserialize(::Base.Distributed.ClusterSerializer{TCPSocket}, ::Type{RemoteChannel{Channel{Array{Float64,1}}}}) at ./distributed/remotecall.jl:302 (repeats 100 times)\u001b[39m",
      "",
      "Stacktrace:",
      " [1] \u001b[1m#remotecall_fetch#141\u001b[22m\u001b[22m\u001b[1m(\u001b[22m\u001b[22m::Array{Any,1}, ::Function, ::Function, ::Base.Distributed.Worker\u001b[1m)\u001b[22m\u001b[22m at \u001b[1m./distributed/remotecall.jl:359\u001b[22m\u001b[22m",
      " [2] \u001b[1mremotecall_fetch\u001b[22m\u001b[22m\u001b[1m(\u001b[22m\u001b[22m::Function, ::Base.Distributed.Worker\u001b[1m)\u001b[22m\u001b[22m at \u001b[1m./distributed/remotecall.jl:351\u001b[22m\u001b[22m",
      " [3] \u001b[1m#remotecall_fetch#144\u001b[22m\u001b[22m\u001b[1m(\u001b[22m\u001b[22m::Array{Any,1}, ::Function, ::Function, ::Int64\u001b[1m)\u001b[22m\u001b[22m at \u001b[1m./distributed/remotecall.jl:372\u001b[22m\u001b[22m",
      " [4] \u001b[1mremotecall_fetch\u001b[22m\u001b[22m\u001b[1m(\u001b[22m\u001b[22m::Function, ::Int64\u001b[1m)\u001b[22m\u001b[22m at \u001b[1m./distributed/remotecall.jl:372\u001b[22m\u001b[22m",
      " [5] \u001b[1mmacro expansion\u001b[22m\u001b[22m at \u001b[1m./In[5]:4\u001b[22m\u001b[22m [inlined]",
      " [6] \u001b[1manonymous\u001b[22m\u001b[22m at \u001b[1m./<missing>:?\u001b[22m\u001b[22m"
     ]
    }
   ],
   "source": [
    "channels = []\n",
    "\n",
    "for i in 2:nprocs()\n",
    "    push!(channels, @fetchfrom(i, build_controller(i)))\n",
    "end\n",
    "\n",
    "function parallel_control(channels, x)\n",
    "    results = Channel{Vector{Float64}}(length(channels))\n",
    "    @sync begin\n",
    "        for (input, output) in channels\n",
    "            @async begin \n",
    "                put!(input, x)\n",
    "                put!(results, take!(output))\n",
    "            end\n",
    "        end\n",
    "    end\n",
    "    [take!(results) for i in 1:length(channels)]\n",
    "end"
   ]
  },
  {
   "cell_type": "code",
   "execution_count": 58,
   "metadata": {},
   "outputs": [
    {
     "name": "stdout",
     "output_type": "stream",
     "text": [
      "  0.003203 seconds (669 allocations: 48.594 KiB)\n"
     ]
    },
    {
     "data": {
      "text/plain": [
       "4-element Array{Array{Float64,1},1}:\n",
       " [2.0, 4.0] \n",
       " [3.0, 6.0] \n",
       " [4.0, 8.0] \n",
       " [5.0, 10.0]"
      ]
     },
     "execution_count": 58,
     "metadata": {},
     "output_type": "execute_result"
    }
   ],
   "source": [
    "@time parallel_control(channels, [1.0, 2.0])"
   ]
  },
  {
   "cell_type": "code",
   "execution_count": null,
   "metadata": {},
   "outputs": [],
   "source": [
    "@btime @fetch"
   ]
  },
  {
   "cell_type": "code",
   "execution_count": null,
   "metadata": {},
   "outputs": [],
   "source": [
    "using BenchmarkTools\n",
    "\n",
    "@everywhere function scalar_controller(scale)\n",
    "    C = RemoteChannel{Channel{Float64}}\n",
    "    input_channel::C = RemoteChannel(() -> Channel{Float64}(1), myid())\n",
    "    output_channel::C = RemoteChannel(() -> Channel{Float64}(1), myid())\n",
    "    controller = let scale = scale\n",
    "        function (x)\n",
    "            x * scale\n",
    "        end\n",
    "    end\n",
    "    let input=input_channel, output=output_channel, controller=controller\n",
    "        @async while true\n",
    "            x = take!(input)\n",
    "            y = controller(x)\n",
    "            put!(output, y)\n",
    "        end\n",
    "    end\n",
    "    input_channel, output_channel\n",
    "end\n",
    "\n",
    "channels = NTuple{2, RemoteChannel{Channel{Float64}}}[]\n",
    "\n",
    "for i in 2:nprocs()\n",
    "    push!(channels, @fetchfrom(i, scalar_controller(i)))\n",
    "end\n",
    "\n",
    "function scalar_parallel_control(channels, x)\n",
    "    @sync begin\n",
    "        for (input, output) in channels\n",
    "            let input=input, output=output, x=x\n",
    "                @async begin \n",
    "                    put!(input, x)\n",
    "                    take!(output)\n",
    "                end\n",
    "            end\n",
    "        end\n",
    "    end\n",
    "end\n",
    "\n",
    "@btime scalar_parallel_control($channels, 1.0) "
   ]
  },
  {
   "cell_type": "code",
   "execution_count": 7,
   "metadata": {},
   "outputs": [
    {
     "name": "stdout",
     "output_type": "stream",
     "text": [
      "Variables:\n",
      "  #self# <optimized out>\n",
      "  channels::Array{Tuple{RemoteChannel{Channel{Float64}},RemoteChannel{Channel{Float64}}},1}\n",
      "  x::Float64\n",
      "  #43::##43#44{Float64,RemoteChannel{Channel{Float64}},RemoteChannel{Channel{Float64}}}\n",
      "  output@_5 <optimized out>\n",
      "  input@_6 <optimized out>\n",
      "  input@_7::RemoteChannel{Channel{Float64}}\n",
      "  output@_8::RemoteChannel{Channel{Float64}}\n",
      "  #temp#@_9 <optimized out>\n",
      "  #temp#@_10::Int64\n",
      "  v <optimized out>\n",
      "  t::Task\n",
      "\n",
      "Body:\n",
      "  begin \n",
      "      # meta: location task.jl # line 301:\n",
      "      $(Expr(:inbounds, false))\n",
      "      # meta: location task.jl sync_begin 261\n",
      "      SSAValue(11) = $(Expr(:foreigncall, :(:jl_alloc_array_1d), Array{Any,1}, svec(Any, Int64), Array{Any,1}, 0, 0, 0))\n",
      "      SSAValue(9) = $(Expr(:invoke, MethodInstance for get_task_tls(::Task), :(Base.get_task_tls), :($(Expr(:foreigncall, :(:jl_get_current_task), Ref{Task}, svec())))))\n",
      "      SSAValue(12) = (Core.tuple)(SSAValue(11), $(Expr(:foreigncall, :(:jl_eqtable_get), Any, svec(Any, Any, Any), :((Core.getfield)(SSAValue(9), :ht)::Array{Any,1}), 0, :(:SPAWNS), 0, (), 0)))\u001b[1m\u001b[91m::Tuple{Array{Any,1},Any}\u001b[39m\u001b[22m\n",
      "      # meta: location task.jl task_local_storage 153\n",
      "      (Base.setindex!)($(Expr(:invoke, MethodInstance for get_task_tls(::Task), :(Base.get_task_tls), :($(Expr(:foreigncall, :(:jl_get_current_task), Ref{Task}, svec()))))), SSAValue(12), :SPAWNS)::ObjectIdDict\n",
      "      # meta: pop location\n",
      "      # meta: pop location\n",
      "      $(Expr(:inbounds, :pop)) # line 302:\n",
      "      # meta: location In[6] # line 31:\n",
      "      #temp#@_10::Int64 = 1\n",
      "      17: \n",
      "      unless (Base.not_int)((#temp#@_10::Int64 === (Base.add_int)((Base.arraylen)(channels::Array{Tuple{RemoteChannel{Channel{Float64}},RemoteChannel{Channel{Float64}}},1})::Int64, 1)::Int64)::Bool)::Bool goto 42\n",
      "      SSAValue(14) = (Base.arrayref)(channels::Array{Tuple{RemoteChannel{Channel{Float64}},RemoteChannel{Channel{Float64}}},1}, #temp#@_10::Int64)::Tuple{RemoteChannel{Channel{Float64}},RemoteChannel{Channel{Float64}}}\n",
      "      SSAValue(15) = (Base.add_int)(#temp#@_10::Int64, 1)::Int64\n",
      "      SSAValue(2) = SSAValue(14)\n",
      "      SSAValue(16) = (Base.getfield)(SSAValue(2), 1)::RemoteChannel{Channel{Float64}}\n",
      "      SSAValue(17) = (Base.add_int)(1, 1)::Int64\n",
      "      input@_7::RemoteChannel{Channel{Float64}} = SSAValue(16)\n",
      "      SSAValue(18) = (Base.getfield)(SSAValue(2), 2)::RemoteChannel{Channel{Float64}}\n",
      "      SSAValue(19) = (Base.add_int)(2, 1)::Int64\n",
      "      output@_8::RemoteChannel{Channel{Float64}} = SSAValue(18)\n",
      "      #temp#@_10::Int64 = SSAValue(15) # line 33:\n",
      "      #43::##43#44{Float64,RemoteChannel{Channel{Float64}},RemoteChannel{Channel{Float64}}} = $(Expr(:new, ##43#44{Float64,RemoteChannel{Channel{Float64}},RemoteChannel{Channel{Float64}}}, :(x), :(output@_8), :(input@_7)))\n",
      "      $(Expr(:inbounds, false))\n",
      "      # meta: location task.jl async_run_thunk 321\n",
      "      t::Task = $(Expr(:foreigncall, :(:jl_new_task), Ref{Task}, svec(Any, Int64), :(#43), 0, 0, 0)) # line 322:\n",
      "      $(Expr(:invoke, MethodInstance for sync_add(::Task), :(Base.sync_add), :(t))) # line 323:\n",
      "      $(Expr(:invoke, MethodInstance for enq_work(::Task), :(Base.enq_work), :(t)))\n",
      "      # meta: pop location\n",
      "      $(Expr(:inbounds, :pop))\n",
      "      40: \n",
      "      goto 17\n",
      "      42: \n",
      "      # meta: pop location # line 303:\n",
      "      $(Expr(:invoke, MethodInstance for sync_end(), :(Base.sync_end)))\n",
      "      # meta: pop location\n",
      "      return\n",
      "  end::Void\n"
     ]
    }
   ],
   "source": [
    "@code_warntype scalar_parallel_control(channels, 1.0)"
   ]
  },
  {
   "cell_type": "code",
   "execution_count": 62,
   "metadata": {},
   "outputs": [
    {
     "data": {
      "text/plain": [
       "2-element SharedArray{Float64,1}:\n",
       " 0.0\n",
       " 0.0"
      ]
     },
     "execution_count": 62,
     "metadata": {},
     "output_type": "execute_result"
    }
   ],
   "source": [
    "x = SharedVector{Float64}(2; pids=1:nprocs(), init=true)"
   ]
  },
  {
   "cell_type": "code",
   "execution_count": null,
   "metadata": {},
   "outputs": [],
   "source": [
    "function sa_controller(scale, x)\n",
    "    "
   ]
  }
 ],
 "metadata": {
  "kernelspec": {
   "display_name": "Julia 0.6.3",
   "language": "julia",
   "name": "julia-0.6"
  },
  "language_info": {
   "file_extension": ".jl",
   "mimetype": "application/julia",
   "name": "julia",
   "version": "0.6.3"
  }
 },
 "nbformat": 4,
 "nbformat_minor": 2
}
