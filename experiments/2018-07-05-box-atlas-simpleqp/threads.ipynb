{
 "cells": [
  {
   "cell_type": "code",
   "execution_count": 18,
   "metadata": {},
   "outputs": [
    {
     "name": "stdout",
     "output_type": "stream",
     "text": [
      "  22.170 μs (1 allocation: 48 bytes)\n"
     ]
    },
    {
     "data": {
      "text/plain": [
       "4-element Array{Float64,1}:\n",
       " 0.999692\n",
       " 1.99938 \n",
       " 2.99908 \n",
       " 3.99877 "
      ]
     },
     "execution_count": 18,
     "metadata": {},
     "output_type": "execute_result"
    }
   ],
   "source": [
    "using SimpleQP\n",
    "using OSQP.MathOptInterfaceOSQP\n",
    "using MathOptInterface\n",
    "const MOI = MathOptInterface\n",
    "using BenchmarkTools\n",
    "\n",
    "function defaultoptimizer()\n",
    "    optimizer = OSQPOptimizer()\n",
    "    MOI.set!(optimizer, OSQPSettings.Verbose(), false)\n",
    "    MOI.set!(optimizer, OSQPSettings.MaxIter(), 1000)\n",
    "    MOI.set!(optimizer, OSQPSettings.WarmStart(), false)\n",
    "    optimizer\n",
    "end\n",
    "\n",
    "function build_model(scale)\n",
    "    model = Model(defaultoptimizer())\n",
    "    p = let scale = scale\n",
    "        Parameter(zeros(2), model) do v\n",
    "            v[1] = 1.0\n",
    "            v[2] = scale\n",
    "        end\n",
    "    end\n",
    "    x = [Variable(model) for _ in 1:2]\n",
    "    @constraint model x == p\n",
    "    model, x\n",
    "end\n",
    "\n",
    "models = [build_model(scale) for scale in 1:4]\n",
    "\n",
    "y = zeros(length(models))\n",
    "\n",
    "function multi_solve!(y, models)\n",
    "    let y = y, models = models\n",
    "        Threads.@threads for i in 1:length(models)\n",
    "            model, x = models[i]\n",
    "            solve!(model)\n",
    "            y[i] = SimpleQP.value(model, x[2])\n",
    "        end\n",
    "    end\n",
    "    y\n",
    "end\n",
    "\n",
    "@btime multi_solve!($y, $models)\n"
   ]
  },
  {
   "cell_type": "code",
   "execution_count": 15,
   "metadata": {},
   "outputs": [
    {
     "name": "stdout",
     "output_type": "stream",
     "text": [
      "Variables:\n",
      "  #self# <optimized out>\n",
      "  y@_2::Array{Float64,1}\n",
      "  models@_3::Array{Tuple{SimpleQP.Model{Float64,OSQP.MathOptInterfaceOSQP.OSQPOptimizer},Array{SimpleQP.Functions.Variable,1}},1}\n",
      "  range::UnitRange{Int64}\n",
      "  threadsfor_fun::##35#threadsfor_fun#26{UnitRange{Int64},Array{Tuple{SimpleQP.Model{Float64,OSQP.MathOptInterfaceOSQP.OSQPOptimizer},Array{SimpleQP.Functions.Variable,1}},1},Array{Float64,1}}\n",
      "  models@_6 <optimized out>\n",
      "  y@_7 <optimized out>\n",
      "  #temp#::Bool\n",
      "\n",
      "Body:\n",
      "  begin  # line 33:\n",
      "      # meta: location threadingconstructs.jl # line 29:\n",
      "      SSAValue(4) = (Base.arraylen)(models@_3::Array{Tuple{SimpleQP.Model{Float64,OSQP.MathOptInterfaceOSQP.OSQPOptimizer},Array{SimpleQP.Functions.Variable,1}},1})::Int64\n",
      "      range::UnitRange{Int64} = $(Expr(:new, UnitRange{Int64}, 1, :((Base.select_value)((Base.sle_int)(1, SSAValue(4))::Bool, SSAValue(4), (Base.sub_int)(1, 1)::Int64)::Int64))) # line 30:\n",
      "      threadsfor_fun::##35#threadsfor_fun#26{UnitRange{Int64},Array{Tuple{SimpleQP.Model{Float64,OSQP.MathOptInterfaceOSQP.OSQPOptimizer},Array{SimpleQP.Functions.Variable,1}},1},Array{Float64,1}} = $(Expr(:new, ##35#threadsfor_fun#26{UnitRange{Int64},Array{Tuple{SimpleQP.Model{Float64,OSQP.MathOptInterfaceOSQP.OSQPOptimizer},Array{SimpleQP.Functions.Variable,1}},1},Array{Float64,1}}, :(range), :(models@_3), :(y@_2))) # line 69:\n",
      "      $(Expr(:inbounds, false))\n",
      "      # meta: location threadingconstructs.jl threadid 10\n",
      "      SSAValue(5) = $(Expr(:foreigncall, :(:jl_threadid), Int16, svec()))\n",
      "      # meta: pop location\n",
      "      $(Expr(:inbounds, :pop))\n",
      "      SSAValue(2) = (Base.not_int)(((Base.add_int)((Base.sext_int)(Int64, SSAValue(5))::Int64, 1)::Int64 === 1)::Bool)::Bool\n",
      "      unless SSAValue(2) goto 18\n",
      "      #temp#::Bool = SSAValue(2)\n",
      "      goto 20\n",
      "      18: \n",
      "      #temp#::Bool = (Core.getfield)(Base.Threads.in_threaded_loop, :x)::Bool\n",
      "      20: \n",
      "      unless #temp#::Bool goto 25 # line 71:\n",
      "      $(Expr(:invoke, MethodInstance for (::##35#threadsfor_fun#26{UnitRange{Int64},Array{Tuple{SimpleQP.Model{Float64,OSQP.MathOptInterfaceOSQP.OSQPOptimizer},Array{SimpleQP.Functions.Variable,1}},1},Array{Float64,1}})(::Bool), :(threadsfor_fun), true))\n",
      "      goto 40\n",
      "      25:  # line 73:\n",
      "      $(Expr(:inbounds, false))\n",
      "      # meta: location refpointer.jl setindex! 121\n",
      "      (Core.setfield!)(Base.Threads.in_threaded_loop, :x, true)::Bool\n",
      "      # meta: pop location\n",
      "      $(Expr(:inbounds, :pop)) # line 75:\n",
      "      $(Expr(:foreigncall, :(:jl_threading_run), Ref{Void}, svec(Any), :(threadsfor_fun), 0)) # line 76:\n",
      "      $(Expr(:inbounds, false))\n",
      "      # meta: location refpointer.jl setindex! 121\n",
      "      (Core.setfield!)(Base.Threads.in_threaded_loop, :x, false)::Bool\n",
      "      # meta: pop location\n",
      "      $(Expr(:inbounds, :pop))\n",
      "      40: \n",
      "      # meta: pop location # line 39:\n",
      "      return y@_2::Array{Float64,1}\n",
      "  end::Array{Float64,1}\n"
     ]
    }
   ],
   "source": [
    "@code_warntype multi_solve!(y, models)"
   ]
  },
  {
   "cell_type": "code",
   "execution_count": null,
   "metadata": {},
   "outputs": [],
   "source": [
    "using BenchmarkTools\n",
    "\n",
    "@everywhere function scalar_controller(scale)\n",
    "    C = RemoteChannel{Channel{Float64}}\n",
    "    input_channel::C = RemoteChannel(() -> Channel{Float64}(1), myid())\n",
    "    output_channel::C = RemoteChannel(() -> Channel{Float64}(1), myid())\n",
    "    controller = let scale = scale\n",
    "        function (x)\n",
    "            x * scale\n",
    "        end\n",
    "    end\n",
    "    let input=input_channel, output=output_channel, controller=controller\n",
    "        @async while true\n",
    "            x = take!(input)\n",
    "            y = controller(x)\n",
    "            put!(output, y)\n",
    "        end\n",
    "    end\n",
    "    input_channel, output_channel\n",
    "end\n",
    "\n",
    "channels = NTuple{2, RemoteChannel{Channel{Float64}}}[]\n",
    "\n",
    "for i in 2:nprocs()\n",
    "    push!(channels, @fetchfrom(i, scalar_controller(i)))\n",
    "end\n",
    "\n",
    "function scalar_parallel_control(channels, x)\n",
    "    @sync begin\n",
    "        for (input, output) in channels\n",
    "            let input=input, output=output, x=x\n",
    "                @async begin \n",
    "                    put!(input, x)\n",
    "                    take!(output)\n",
    "                end\n",
    "            end\n",
    "        end\n",
    "    end\n",
    "end"
   ]
  }
 ],
 "metadata": {
  "kernelspec": {
   "display_name": "Julia 0.6.3",
   "language": "julia",
   "name": "julia-0.6"
  },
  "language_info": {
   "file_extension": ".jl",
   "mimetype": "application/julia",
   "name": "julia",
   "version": "0.6.3"
  }
 },
 "nbformat": 4,
 "nbformat_minor": 2
}
