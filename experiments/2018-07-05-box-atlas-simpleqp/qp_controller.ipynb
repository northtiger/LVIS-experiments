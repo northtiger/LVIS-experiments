{
 "cells": [
  {
   "cell_type": "code",
   "execution_count": 2,
   "metadata": {},
   "outputs": [
    {
     "name": "stdout",
     "output_type": "stream",
     "text": [
      "Threads.nthreads() = 4\n"
     ]
    }
   ],
   "source": [
    "@show Threads.nthreads()\n",
    "@assert Threads.nthreads() > 1"
   ]
  },
  {
   "cell_type": "code",
   "execution_count": 3,
   "metadata": {},
   "outputs": [],
   "source": [
    "using Revise"
   ]
  },
  {
   "cell_type": "code",
   "execution_count": 4,
   "metadata": {},
   "outputs": [
    {
     "name": "stderr",
     "output_type": "stream",
     "text": [
      "\u001b[1m\u001b[36mINFO: \u001b[39m\u001b[22m\u001b[36mRecompiling stale cache file /home/rdeits/locomotion/explorations/learning-mpc-2/packages/lib/v0.6/LearningMPC.ji for module LearningMPC.\n",
      "\u001b[39m"
     ]
    },
    {
     "data": {
      "text/html": [
       "    <script class='js-collapse-script'>\n",
       "        var curMatch =\n",
       "            window.location.href\n",
       "            .match(/(.*?)\\/notebooks\\/.*\\.ipynb/);\n",
       "\n",
       "        curMatch = curMatch ||\n",
       "            window.location.href\n",
       "            .match(/(.*?)\\/apps\\/.*\\.ipynb/);\n",
       "\n",
       "        if ( curMatch ) {\n",
       "            $('head').append('<base href=\"' + curMatch[1] + '/\">');\n",
       "        }\n",
       "    </script>\n"
      ],
      "text/plain": [
       "HTML{String}(\"    <script class='js-collapse-script'>\\n        var curMatch =\\n            window.location.href\\n            .match(/(.*?)\\\\/notebooks\\\\/.*\\\\.ipynb/);\\n\\n        curMatch = curMatch ||\\n            window.location.href\\n            .match(/(.*?)\\\\/apps\\\\/.*\\\\.ipynb/);\\n\\n        if ( curMatch ) {\\n            \\$('head').append('<base href=\\\"' + curMatch[1] + '/\\\">');\\n        }\\n    </script>\\n\")"
      ]
     },
     "metadata": {},
     "output_type": "display_data"
    },
    {
     "data": {
      "text/html": [
       "<script class='js-collapse-script' src='/assetserver/9db0e137604e898c25f194d972715156bd46cb81-assets/webio/dist/bundle.js'></script>"
      ],
      "text/plain": [
       "HTML{String}(\"<script class='js-collapse-script' src='/assetserver/9db0e137604e898c25f194d972715156bd46cb81-assets/webio/dist/bundle.js'></script>\")"
      ]
     },
     "metadata": {},
     "output_type": "display_data"
    },
    {
     "data": {
      "text/html": [
       "<script class='js-collapse-script' src='/assetserver/9db0e137604e898c25f194d972715156bd46cb81-assets/providers/ijulia_setup.js'></script>"
      ],
      "text/plain": [
       "HTML{String}(\"<script class='js-collapse-script' src='/assetserver/9db0e137604e898c25f194d972715156bd46cb81-assets/providers/ijulia_setup.js'></script>\")"
      ]
     },
     "metadata": {},
     "output_type": "display_data"
    },
    {
     "data": {
      "text/html": [
       "  <script class='js-collapse-script'>\n",
       "    $('.js-collapse-script').parent('.output_subarea').css('padding', '0');\n",
       "  </script>\n"
      ],
      "text/plain": [
       "HTML{String}(\"  <script class='js-collapse-script'>\\n    \\$('.js-collapse-script').parent('.output_subarea').css('padding', '0');\\n  </script>\\n\")"
      ]
     },
     "metadata": {},
     "output_type": "display_data"
    },
    {
     "name": "stderr",
     "output_type": "stream",
     "text": [
      "\u001b[1m\u001b[36mINFO: \u001b[39m\u001b[22m\u001b[36mLoading HttpServer methods...\n",
      "\u001b[39mWARNING: using Juno.input in module InteractBase conflicts with an existing identifier.\n",
      "WARNING: using Blink.@js in module InteractBase conflicts with an existing identifier.\n",
      "\u001b[1m\u001b[36mINFO: \u001b[39m\u001b[22m\u001b[36mRecompiling stale cache file /home/rdeits/locomotion/explorations/learning-mpc-2/packages/lib/v0.6/QPControl.ji for module QPControl.\n",
      "\u001b[39m"
     ]
    }
   ],
   "source": [
    "using LearningMPC\n",
    "using LearningMPC.Models\n",
    "using RigidBodyDynamics\n",
    "using RigidBodyDynamics.Contact\n",
    "using RigidBodyDynamics.PDControl\n",
    "using MeshCatMechanisms\n",
    "using RigidBodySim\n",
    "using RigidBodySim.Visualization.MeshCatInterface\n",
    "import LCPSim\n",
    "using JLD2\n",
    "using Blink\n",
    "@everywhere using QPControl\n",
    "@everywhere using OSQP.MathOptInterfaceOSQP\n",
    "@everywhere using MathOptInterface\n",
    "@everywhere const MOI = MathOptInterface"
   ]
  },
  {
   "cell_type": "code",
   "execution_count": 5,
   "metadata": {},
   "outputs": [],
   "source": [
    "robot = BoxAtlas();"
   ]
  },
  {
   "cell_type": "code",
   "execution_count": 6,
   "metadata": {},
   "outputs": [
    {
     "data": {
      "text/plain": [
       "Blink.AtomShell.Window(1, Blink.AtomShell.Electron(Process(`/home/rdeits/locomotion/explorations/learning-mpc-2/packages/v0.6/Blink/deps/atom/electron /home/rdeits/locomotion/explorations/learning-mpc-2/packages/v0.6/Blink/src/AtomShell/main.js port 2204`, ProcessRunning), TCPSocket(RawFD(57) active, 0 bytes waiting), Dict{String,Any}(Pair{String,Any}(\"callback\", Blink.#3))), Blink.Page(1, WebSockets.WebSocket{TCPSocket}(TCPSocket(RawFD(55) active, 0 bytes waiting), true, CONNECTED::WebSockets.ReadyState = 1), Dict{String,Any}(Pair{String,Any}(\"webio\", WebIO.#109),Pair{String,Any}(\"callback\", Blink.#3)), Future(1, 1, 1, Nullable{Any}(true))))"
      ]
     },
     "execution_count": 6,
     "metadata": {},
     "output_type": "execute_result"
    }
   ],
   "source": [
    "mvis = MechanismVisualizer(robot)\n",
    "open(mvis, Window())"
   ]
  },
  {
   "cell_type": "code",
   "execution_count": 7,
   "metadata": {},
   "outputs": [
    {
     "name": "stdout",
     "output_type": "stream",
     "text": [
      "Academic license - for non-commercial use only\n",
      "Academic license - for non-commercial use only\n",
      "Academic license - for non-commercial use only\n",
      "Academic license - for non-commercial use only\n",
      "Academic license - for non-commercial use only\n",
      "Academic license - for non-commercial use only\n"
     ]
    },
    {
     "data": {
      "text/plain": [
       "(::MPCController) (generic function with 1 method)"
      ]
     },
     "execution_count": 7,
     "metadata": {},
     "output_type": "execute_result"
    }
   ],
   "source": [
    "@load \"../2018-05-08-box-atlas-longer-miqp/boxatlas.jld2\" net lqrsol mpc_params\n",
    "mpc_params_data = mpc_params\n",
    "mpc_params = MPCParams(robot)\n",
    "mpc_params.Δt = mpc_params_data[\"Δt\"]\n",
    "mpc_params.horizon = mpc_params_data[\"horizon\"]\n",
    "net_cost = LearningMPC.LearnedCost(lqrsol, net)\n",
    "net_mpc_params = MPCParams(robot)\n",
    "net_mpc_params.horizon = 1\n",
    "net_mpc_controller = MPCController(robot, net_mpc_params, net_cost, [lqrsol]);\n",
    "full_mpc_controller = MPCController(robot, mpc_params, lqrsol, [lqrsol, net_mpc_controller]);\n",
    "lqr_mpc_controller = MPCController(robot, (p = MPCParams(robot); p.horizon=1; p), lqrsol, [lqrsol])"
   ]
  },
  {
   "cell_type": "code",
   "execution_count": 8,
   "metadata": {},
   "outputs": [],
   "source": [
    "rootframe = root_frame(mechanism(robot))\n",
    "floor = HalfSpace3D(Point3D(rootframe, 0., 0., 0.), FreeVector3D(rootframe, 0., 0., 1.))\n",
    "add_environment_primitive!(mechanism(robot), floor)\n",
    "wall = HalfSpace3D(Point3D(rootframe, 0., 1.0, 0.), FreeVector3D(rootframe, 0., -1., 0.))\n",
    "add_environment_primitive!(mechanism(robot), wall)\n",
    "\n",
    "feet = Dict(:left => findbody(mechanism(robot), \"l_foot_sole\"), :right => findbody(mechanism(robot), \"r_foot_sole\"))\n",
    "hands = Dict(:left => findbody(mechanism(robot), \"l_hand_mount\"), :right => findbody(mechanism(robot), \"r_hand_mount\"));\n",
    "\n",
    "contact_model = SoftContactModel(hunt_crossley_hertz(k = 500e3), ViscoelasticCoulombModel(0.8, 20e3, 100.))\n",
    "\n",
    "for (side, body) in feet\n",
    "    add_contact_point!(body, \n",
    "        Contact.ContactPoint(Point3D(default_frame(body), 0., 0, 0), \n",
    "                     contact_model))\n",
    "end\n",
    "\n",
    "for (side, body) in hands\n",
    "    add_contact_point!(body, \n",
    "        Contact.ContactPoint(Point3D(default_frame(body), 0., 0, 0), \n",
    "                     contact_model))\n",
    "end\n"
   ]
  },
  {
   "cell_type": "code",
   "execution_count": 9,
   "metadata": {},
   "outputs": [
    {
     "data": {
      "text/plain": [
       "defaultoptimizer (generic function with 1 method)"
      ]
     },
     "execution_count": 9,
     "metadata": {},
     "output_type": "execute_result"
    }
   ],
   "source": [
    "function defaultoptimizer()\n",
    "    optimizer = OSQPOptimizer()\n",
    "    MOI.set!(optimizer, OSQPSettings.Verbose(), false)\n",
    "#     MOI.set!(optimizer, OSQPSettings.EpsAbs(), 1e-8)\n",
    "#     MOI.set!(optimizer, OSQPSettings.EpsRel(), 1e-16)\n",
    "    MOI.set!(optimizer, OSQPSettings.MaxIter(), 1000)\n",
    "#     MOI.set!(optimizer, OSQPSettings.AdaptiveRhoInterval(), 25) # required for deterministic behavior\n",
    "    MOI.set!(optimizer, OSQPSettings.WarmStart(), false)\n",
    "    optimizer\n",
    "end"
   ]
  },
  {
   "cell_type": "code",
   "execution_count": 10,
   "metadata": {},
   "outputs": [
    {
     "data": {
      "text/plain": [
       "lqr_feedback_linearized (generic function with 1 method)"
      ]
     },
     "execution_count": 10,
     "metadata": {},
     "output_type": "execute_result"
    }
   ],
   "source": [
    "function lqr_mpc_control(τ::AbstractVector, t::Number, state::MechanismState)\n",
    "   τ .= lqr_mpc_controller(state)\n",
    "end\n",
    "\n",
    "function lqr_basic(τ::AbstractVector, t::Number, state::MechanismState)\n",
    "    τ .= lqrsol(state)\n",
    "end\n",
    "\n",
    "function lqr_feedback_linearized(τ::AbstractVector, t::Number, state::MechanismState)\n",
    "    u0 = LearningMPC.nominal_input(state, [Point3D(default_frame(body), 0., 0, 0) for body in values(feet)])\n",
    "    τ .= lqrsol.K * (LearningMPC.qv(state) .- lqrsol.x0) .+ u0\n",
    "end"
   ]
  },
  {
   "cell_type": "code",
   "execution_count": 11,
   "metadata": {},
   "outputs": [
    {
     "data": {
      "text/plain": [
       "compose (generic function with 1 method)"
      ]
     },
     "execution_count": 11,
     "metadata": {},
     "output_type": "execute_result"
    }
   ],
   "source": [
    "effort_bounds = LCPSim.all_effort_bounds(mechanism(robot))\n",
    "\n",
    "function effort_limiter(τ::AbstractVector, t::Number, state::MechanismState)\n",
    "    τ .= clamp.(τ, effort_bounds)\n",
    "    τ\n",
    "end\n",
    "\n",
    "position_bounds = LCPSim.all_configuration_bounds(mechanism(robot))\n",
    "\n",
    "function bounds_enforcer(τ::AbstractVector, t::Number, state::MechanismState)\n",
    "    # TODO: handle q̇ vs v correctly\n",
    "    for i in 1:num_positions(state)\n",
    "        kp = 1000\n",
    "        kd = 0.1 * kp\n",
    "        if configuration(state)[i] > position_bounds[i].upper\n",
    "            violation = configuration(state)[i] - position_bounds[i].upper\n",
    "            τ[i] -= kp * violation\n",
    "            τ[i] -= kd * velocity(state)[i]\n",
    "        elseif configuration(state)[i] < position_bounds[i].lower\n",
    "            violation = position_bounds[i].lower - configuration(state)[i]\n",
    "            τ[i] += kp * violation \n",
    "            τ[i] -= kd * velocity(state)[i]\n",
    "        end\n",
    "    end\n",
    "    τ\n",
    "end\n",
    "\n",
    "function compose(controllers...)\n",
    "    function (τ, t, state)\n",
    "        for c in controllers\n",
    "            c(τ, t, state)\n",
    "        end\n",
    "        τ\n",
    "    end\n",
    "end\n",
    "    "
   ]
  },
  {
   "cell_type": "code",
   "execution_count": 27,
   "metadata": {},
   "outputs": [],
   "source": [
    "function build_contact_controller(robot, contact_state, lqrsol)\n",
    "    lowlevel = QPControl.MPCController{4}(mechanism(robot), defaultoptimizer())\n",
    "    stage = QPControl.addstage!(lowlevel, lqrsol.Δt)\n",
    "    for (i, (side, body)) in enumerate(feet)\n",
    "        contact_point = QPControl.addcontact!(stage,\n",
    "            body,\n",
    "            Point3D(default_frame(body), 0., 0, 0),\n",
    "            FreeVector3D(default_frame(body), 0., 0, 1),\n",
    "            1.0,\n",
    "            floor\n",
    "        )\n",
    "        if contact_state[i]\n",
    "            contact_point.maxnormalforce = 1e9\n",
    "        else\n",
    "            contact_point.maxnormalforce = 0\n",
    "        end\n",
    "    end\n",
    "\n",
    "    lowlevel.running_state_cost.Q .= lqrsol.Q\n",
    "    lowlevel.running_state_cost.q .= 0\n",
    "    lowlevel.running_state_cost.x0 .= lqrsol.x0\n",
    "    lowlevel.running_input_cost.Q .= lqrsol.R\n",
    "    lowlevel.running_input_cost.q .= 0\n",
    "    lowlevel.running_input_cost.x0 .= lqrsol.u0\n",
    "    lowlevel.terminal_state_cost.Q .= lqrsol.S\n",
    "    lowlevel.terminal_state_cost.q .= 0\n",
    "    lowlevel.terminal_state_cost.x0 .= lqrsol.x0;\n",
    "    lowlevel\n",
    "end\n",
    "    \n",
    "\n",
    "function build_mixed_controller(robot, lqrsol)\n",
    "    contact_states = collect(IterTools.product([true, false], [true, false]))\n",
    "    controllers = map(contact_states) do contact_state\n",
    "        build_contact_controller(robot, contact_state, lqrsol)\n",
    "    end\n",
    "    τs = [zeros(num_velocities(mechanism(robot))) for controller in controllers]\n",
    "    objective_values = zeros(length(controllers))\n",
    "    \n",
    "    function control(τ, t, x)\n",
    "        let controllers = controllers,\n",
    "            τs = τs,\n",
    "            objective_values = objective_values\n",
    "            \n",
    "            Threads.@threads for i in eachindex(controllers)\n",
    "                controller = controllers[i]\n",
    "                if !controller.initialized\n",
    "                    QPControl.initialize!(controller)\n",
    "                end\n",
    "                for stage in QPControl.stages(controller)\n",
    "                    QPControl.copyto!(stage.state, x)\n",
    "                end\n",
    "                model = controller.qpmodel\n",
    "                SimpleQP.solve!(model)\n",
    "                τs[i] .= SimpleQP.value.(model, controller.stages[1].input)\n",
    "                if SimpleQP.primalstatus(model) == MOI.FeasiblePoint\n",
    "                    objective_values[i] = SimpleQP.objectivevalue(model)\n",
    "                else\n",
    "                    objective_values[i] = Inf\n",
    "                end\n",
    "            end\n",
    "        end\n",
    "        best_cost = Inf\n",
    "        best_model = 0\n",
    "        for i in eachindex(controllers)\n",
    "            if objective_values[i] < best_cost\n",
    "                best_model = i\n",
    "                best_cost = objective_values[i]\n",
    "                τ .= τs[i]\n",
    "            end\n",
    "        end\n",
    "        if best_cost == Inf\n",
    "            @show configuration(state) velocity(state)\n",
    "            error(\"infeasible\")\n",
    "        end\n",
    "#         @show best_model contact_states[best_model]\n",
    "        τ\n",
    "    end, controllers\n",
    "end\n",
    "    \n",
    "mixed_control, lowlevel_controllers = build_mixed_controller(robot, lqrsol);"
   ]
  },
  {
   "cell_type": "code",
   "execution_count": 28,
   "metadata": {},
   "outputs": [
    {
     "name": "stdout",
     "output_type": "stream",
     "text": [
      "@allocated(mixed_control(τ, 0.0, state)) = 48\n"
     ]
    },
    {
     "data": {
      "text/plain": [
       "11-element RigidBodyDynamics.CustomCollections.SegmentedVector{RigidBodyDynamics.JointID,Float64,Base.OneTo{RigidBodyDynamics.JointID},Array{Float64,1}}:\n",
       " -0.00323793\n",
       " -0.00106944\n",
       "  0.0036092 \n",
       " -1.20618   \n",
       "  1.24671   \n",
       "  2.48944   \n",
       " -1.8575    \n",
       "  0.946433  \n",
       " -1.3281    \n",
       " 18.6922    \n",
       " -7.05352   "
      ]
     },
     "execution_count": 28,
     "metadata": {},
     "output_type": "execute_result"
    }
   ],
   "source": [
    "state = nominal_state(robot)\n",
    "# set_configuration!(state, findjoint(mechanism(robot), \"pelvis_to_r_foot_sole_rotation\"), 0.2)\n",
    "# set_configuration!(state, findjoint(mechanism(robot), \"pelvis_to_l_foot_sole_rotation\"), 0.2)\n",
    "# set_configuration!(state, findjoint(mechanism(robot), \"floating_base\"), [0, 0.80, 0])\n",
    "set_velocity!(state, findjoint(mechanism(robot), \"floating_base\"), [-0.5, 0, 0.])\n",
    "set_configuration!(mvis, configuration(state))\n",
    "τ = similar(velocity(state))\n",
    "mixed_control(τ, 0.0, state)\n",
    "@show @allocated(mixed_control(τ, 0.0, state))\n",
    "τ"
   ]
  },
  {
   "cell_type": "code",
   "execution_count": 29,
   "metadata": {},
   "outputs": [
    {
     "data": {
      "text/plain": [
       "11-element Array{Float64,1}:\n",
       "  0.0     \n",
       "  0.0     \n",
       "  0.0     \n",
       " -1.30401 \n",
       "  1.34865 \n",
       "  2.8682  \n",
       " -1.6585  \n",
       "  0.861623\n",
       " -1.26503 \n",
       " 19.493   \n",
       " -7.21965 "
      ]
     },
     "execution_count": 29,
     "metadata": {},
     "output_type": "execute_result"
    }
   ],
   "source": [
    "state = nominal_state(robot)\n",
    "# set_configuration!(state, findjoint(mechanism(robot), \"pelvis_to_r_foot_sole_rotation\"), 0.2)\n",
    "# set_configuration!(state, findjoint(mechanism(robot), \"pelvis_to_l_foot_sole_rotation\"), 0.2)\n",
    "# set_configuration!(state, findjoint(mechanism(robot), \"floating_base\"), [0, 0.80, 0])\n",
    "set_velocity!(state, findjoint(mechanism(robot), \"floating_base\"), [-0.5, 0, 0.])\n",
    "lqr_mpc_controller(state)"
   ]
  },
  {
   "cell_type": "code",
   "execution_count": 32,
   "metadata": {},
   "outputs": [
    {
     "name": "stdout",
     "output_type": "stream",
     "text": [
      "  2.788207 seconds (7.19 M allocations: 198.781 MiB, 12.25% gc time)\n"
     ]
    }
   ],
   "source": [
    "state = nominal_state(robot)\n",
    "# set_configuration!(state, findjoint(mechanism(robot), \"pelvis_to_r_foot_sole_rotation\"), 0.2)\n",
    "# set_configuration!(state, findjoint(mechanism(robot), \"pelvis_to_l_foot_sole_rotation\"), 0.2)\n",
    "# set_configuration!(state, findjoint(mechanism(robot), \"floating_base\"), [0, 0.80, 0])\n",
    "set_velocity!(state, findjoint(mechanism(robot), \"floating_base\"), [-0.5, 0, 0])\n",
    "\n",
    "final_time = 5\n",
    "Δt = 0.01\n",
    "\n",
    "composed = PeriodicController(similar(velocity(state)), Δt, compose(mixed_control, effort_limiter))\n",
    "controlcallback = DiffEqCallbacks.PeriodicCallback(composed)\n",
    "composed = compose(composed, bounds_enforcer)\n",
    "\n",
    "dynamics = Dynamics(mechanism(robot), composed)\n",
    "problem = ODEProblem(dynamics, state, (0., final_time), callback = CallbackSet(controlcallback, CallbackSet(mvis, state, max_fps = 30.)))\n",
    "\n",
    "@time sol = RigidBodySim.solve(problem, Tsit5(), abs_tol = 1e-8, dt = Δt);"
   ]
  },
  {
   "cell_type": "code",
   "execution_count": 228,
   "metadata": {},
   "outputs": [],
   "source": [
    "RigidBodySim.animate(mvis, state, sol)"
   ]
  },
  {
   "cell_type": "code",
   "execution_count": null,
   "metadata": {},
   "outputs": [],
   "source": []
  }
 ],
 "metadata": {
  "kernelspec": {
   "display_name": "Julia 0.6.4",
   "language": "julia",
   "name": "julia-0.6"
  },
  "language_info": {
   "file_extension": ".jl",
   "mimetype": "application/julia",
   "name": "julia",
   "version": "0.6.3"
  }
 },
 "nbformat": 4,
 "nbformat_minor": 2
}
