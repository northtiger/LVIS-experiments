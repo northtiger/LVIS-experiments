{
 "cells": [
  {
   "cell_type": "code",
   "execution_count": 1,
   "metadata": {},
   "outputs": [
    {
     "name": "stderr",
     "output_type": "stream",
     "text": [
      "\u001b[1m\u001b[36mINFO: \u001b[39m\u001b[22m\u001b[36mRecompiling stale cache file /Users/rdeits/locomotion/explorations/learning-mpc/packages/lib/v0.6/Nets.ji for module Nets.\n",
      "\u001b[39m"
     ]
    },
    {
     "data": {
      "text/html": [
       "<div id=\"interact-js-shim\">\n",
       "    <script charset=\"utf-8\">\n",
       "(function (IPython, $, _, MathJax) {\n",
       "    $.event.special.destroyed = {\n",
       "\tremove: function(o) {\n",
       "\t    if (o.handler) {\n",
       "\t\to.handler.apply(this, arguments)\n",
       "\t    }\n",
       "\t}\n",
       "    }\n",
       "\n",
       "    var OutputArea = IPython.version >= \"4.0.0\" ? require(\"notebook/js/outputarea\").OutputArea : IPython.OutputArea;\n",
       "\n",
       "    var redrawValue = function (container, type, val) {\n",
       "\tvar selector = $(\"<div/>\");\n",
       "\tvar oa = new OutputArea(_.extend(selector, {\n",
       "\t    selector: selector,\n",
       "\t    prompt_area: true,\n",
       "\t    events: IPython.events,\n",
       "\t    keyboard_manager: IPython.keyboard_manager\n",
       "\t})); // Hack to work with IPython 2.1.0\n",
       "\n",
       "\tswitch (type) {\n",
       "\tcase \"image/png\":\n",
       "            var _src = 'data:' + type + ';base64,' + val;\n",
       "\t    $(container).find(\"img\").attr('src', _src);\n",
       "\t    break;\n",
       "\tcase \"text/latex\":\n",
       "\t\tif (MathJax){\n",
       "\t\t\tvar math = MathJax.Hub.getAllJax(container)[0];\n",
       "\t\t\tMathJax.Hub.Queue([\"Text\", math, val.replace(/^\\${1,2}|\\${1,2}$/g, '')]);\n",
       "\t\t\tbreak;\n",
       "\t\t}\n",
       "\tdefault:\n",
       "\t    var toinsert = OutputArea.append_map[type].apply(\n",
       "\t\toa, [val, {}, selector]\n",
       "\t    );\n",
       "\t    $(container).empty().append(toinsert.contents());\n",
       "\t    selector.remove();\n",
       "\t}\n",
       "    }\n",
       "\n",
       "\n",
       "    $(document).ready(function() {\n",
       "\tfunction initComm(evt, data) {\n",
       "\t    var comm_manager = data.kernel.comm_manager;\n",
       "        //_.extend(comm_manager.targets, require(\"widgets/js/widget\"))\n",
       "\t    comm_manager.register_target(\"Signal\", function (comm) {\n",
       "            comm.on_msg(function (msg) {\n",
       "                var val = msg.content.data.value;\n",
       "                $(\".signal-\" + comm.comm_id).each(function() {\n",
       "                var type = $(this).data(\"type\");\n",
       "                if (typeof(val[type]) !== \"undefined\" && val[type] !== null) {\n",
       "                    redrawValue(this, type, val[type], type);\n",
       "                }\n",
       "                });\n",
       "                delete val;\n",
       "                delete msg.content.data.value;\n",
       "            });\n",
       "\t    });\n",
       "\n",
       "\t    // coordingate with Comm and redraw Signals\n",
       "\t    // XXX: Test using Reactive here to improve performance\n",
       "\t    $([IPython.events]).on(\n",
       "\t\t'output_appended.OutputArea', function (event, type, value, md, toinsert) {\n",
       "\t\t    if (md && md.reactive) {\n",
       "                // console.log(md.comm_id);\n",
       "                toinsert.addClass(\"signal-\" + md.comm_id);\n",
       "                toinsert.data(\"type\", type);\n",
       "                // Signal back indicating the mimetype required\n",
       "                var comm_manager = IPython.notebook.kernel.comm_manager;\n",
       "                var comm = comm_manager.comms[md.comm_id];\n",
       "                comm.then(function (c) {\n",
       "                    c.send({action: \"subscribe_mime\",\n",
       "                       mime: type});\n",
       "                    toinsert.bind(\"destroyed\", function() {\n",
       "                        c.send({action: \"unsubscribe_mime\",\n",
       "                               mime: type});\n",
       "                    });\n",
       "                })\n",
       "\t\t    }\n",
       "\t    });\n",
       "\t}\n",
       "\n",
       "\ttry {\n",
       "\t    // try to initialize right away. otherwise, wait on the status_started event.\n",
       "\t    initComm(undefined, IPython.notebook);\n",
       "\t} catch (e) {\n",
       "\t    $([IPython.events]).on('kernel_created.Kernel kernel_created.Session', initComm);\n",
       "\t}\n",
       "    });\n",
       "})(IPython, jQuery, _, MathJax);\n",
       "</script>\n",
       "    <script>\n",
       "        window.interactLoadedFlag = true\n",
       "       $(\"#interact-js-shim\").bind(\"destroyed\", function () {\n",
       "           if (window.interactLoadedFlag) {\n",
       "               console.warn(\"JavaScript required by Interact will be removed if you remove this cell or run using Interact more than once.\")\n",
       "           }\n",
       "       })\n",
       "       $([IPython.events]).on(\"kernel_starting.Kernel kernel_restarting.Kernel\", function () { window.interactLoadedFlag = false })\n",
       "   </script>\n",
       "</div>"
      ]
     },
     "metadata": {},
     "output_type": "display_data"
    }
   ],
   "source": [
    "import Nets\n",
    "using CoordinateTransformations\n",
    "using ForwardDiff\n",
    "using MLDataPattern\n",
    "using Plots; pyplot()\n",
    "using ProgressMeter\n",
    "using Interact"
   ]
  },
  {
   "cell_type": "code",
   "execution_count": 51,
   "metadata": {},
   "outputs": [
    {
     "name": "stderr",
     "output_type": "stream",
     "text": [
      "\u001b[1m\u001b[36mINFO: \u001b[39m\u001b[22m\u001b[36mRecompiling stale cache file /Users/rdeits/locomotion/explorations/learning-mpc/packages/lib/v0.6/Nets.ji for module Nets.\n",
      "\u001b[39mWARNING: replacing module Nets.\n"
     ]
    }
   ],
   "source": [
    "reload(\"Nets\")"
   ]
  },
  {
   "cell_type": "code",
   "execution_count": 52,
   "metadata": {
    "collapsed": true
   },
   "outputs": [],
   "source": [
    "f(x) = .-abs.(x)\n",
    "\n",
    "X = [[x] for x in linspace(-pi, pi, 60)]\n",
    "Y = [hcat(f(x), ForwardDiff.jacobian(f, x)) for x in X];\n",
    "\n",
    "test_data = collect(zip(X, Y))\n",
    "# train_data, test_data = splitobs(shuffleobs(data), 1/6);\n",
    "train_data = [([x], hcat(f([x]),  ForwardDiff.jacobian(f, [x]))) for x in [-0.5, 0.5]]\n",
    "\n",
    "train_data_scaled, x_to_u, v_to_y = Nets.rescale(train_data)\n",
    "for (x, yJ) in train_data\n",
    "    y = yJ[:, 1]\n",
    "    J = yJ[:, 2:end]\n",
    "    @assert y ≈ f(x)\n",
    "    @assert J ≈ ForwardDiff.jacobian(f, x)\n",
    "end\n",
    "\n",
    "u_to_x = inv(x_to_u)\n",
    "y_to_v = inv(v_to_y)\n",
    "\n",
    "for (u, vJ) in train_data_scaled\n",
    "    v = vJ[:, 1]\n",
    "    J = vJ[:, 2:end]\n",
    "    @assert isapprox(v |> v_to_y, u |> u_to_x |> f, atol=1e-6)\n",
    "    @assert J ≈ ForwardDiff.jacobian(u -> u |> u_to_x |> f |> y_to_v, u)\n",
    "    @assert maximum(abs, J) <= 1.0 + 1e-5\n",
    "    \n",
    "end"
   ]
  },
  {
   "cell_type": "code",
   "execution_count": 53,
   "metadata": {},
   "outputs": [
    {
     "data": {
      "text/plain": [
       "sensitive_loss (generic function with 1 method)"
      ]
     },
     "execution_count": 53,
     "metadata": {},
     "output_type": "execute_result"
    }
   ],
   "source": [
    "widths = [1, 4, 1]\n",
    "\n",
    "function sensitive_loss(λ)\n",
    "    q = [1.0-λ λ]\n",
    "    (params, x, y) -> begin\n",
    "            sum(abs2, q .* (Nets.predict_sensitivity(Nets.Net(Nets.Params(widths, params)), x) .- y))\n",
    "    end\n",
    "end"
   ]
  },
  {
   "cell_type": "code",
   "execution_count": 60,
   "metadata": {
    "collapsed": true
   },
   "outputs": [],
   "source": [
    "start_params = 0.1 * randn(Nets.Params{Float64}, widths).data\n",
    "nepoch = 1000;"
   ]
  },
  {
   "cell_type": "code",
   "execution_count": 61,
   "metadata": {},
   "outputs": [
    {
     "name": "stdout",
     "output_type": "stream",
     "text": [
      "mean((xy->begin  # In[61], line 8:\n",
      "            sum(abs2, net(xy[1]) .- (xy[2])[:, 1])\n",
      "        end), test_data) = 3.7380247014997554\n"
     ]
    },
    {
     "name": "stderr",
     "output_type": "stream",
     "text": [
      "Progress:  91%|█████████████████████████████████████    |  ETA: 0:00:00"
     ]
    },
    {
     "name": "stdout",
     "output_type": "stream",
     "text": [
      "mean((xy->begin  # In[61], line 15:\n",
      "            sum(abs2, net(xy[1]) .- (xy[2])[:, 1])\n",
      "        end), test_data) = 1.3761467210846121\n"
     ]
    },
    {
     "name": "stderr",
     "output_type": "stream",
     "text": [
      "\r",
      "Progress: 100%|█████████████████████████████████████████| Time: 0:00:01\n"
     ]
    },
    {
     "data": {
      "text/html": [
       "<img src=\"data:image/png;base64,iVBORw0KGgoAAAANSUhEUgAAAlgAAAGQCAYAAAByNR6YAAAABHNCSVQICAgIfAhkiAAAAAlwSFlzAAAPYQAAD2EBqD+naQAAIABJREFUeJzs3Xt4VeWZN/7v2if2Jtk7iocWkoA/DxkELVYLJbYdD1DoZVsFa/rrQSNTqNopbSVzzduiHcFOB21/NdNOmY4WOhbGtlOwwju1faXFHkZLKqK173Cq6FQJoFJB9tpr7eNa6/79kWSPIFj2CmSte+/v57pysUzyhOfJN3jdee61n2WIiICIiIiITphI0BMgIiIiqjcssIiIiIhOsFjQExjieR727duHdDoNwzCCng4RERE1OBFBLpfDuHHjEInUticVmgJr3759aG9vD3oaRERERIfp7+9HW1tbTWNCU2Cl02kAwO0/ewH/652nBjwbOl7FYhF33nknlixZgmQyGfR06DgxN52Ym07MTadisYjbb78dK1eurNYotQhNgTXUFvyPV5rx5Uwm4NnQ8UokEhg1ahQymQz/x6EIc9OJuenE3HRKJBJIJBIA4OvWJSMsxzSYpomWlhbgG69i2w1jMOlU3odFREREwRmqTbLZLDI1bv6EZgdrSEsCWPvfHpZcEg16KnQcCoUCPvOZz+Cb3/wmUqlU0NOh48TcdGJuOtVrbuVyGS+++CJc1w16KsMSjUYxYcKE6m7VkEKhgIULF/r+uqErsKaeYeCJP4ViU42OQyQSQVtbW82vrqBgMTedmJtO9Zjbnj178LGPfQz5fD7oqZwQo0ePxg9+8AO0trZW3xeJRA7771qFrkX4+V8dxHd2N2P/9TEe10BERBQynufhlltuwcsvv4wvfelL6u8rKxaL+Lu/+zuMHTsW995772GFcF21CKeMMfDqs8C+PNDaFPRs6M/J5/O48cYbsWrVKowePTro6dBxYm46MTed6i23V199FU8//TT+4R/+ARdddFHQ0zkhFi5ciNtvvx0HDhzAGWecAWAgt+7ubt9fM3T7lR0tA7tWfzgUio01+jOi0Sg6OzsRjfKeOU2Ym07MTad6y+3QoUMAUPO5UGE2tJbXXnut+r5oNIpp06b5/pqhK7DOygAxA/hDlgWWBqNGjUJPTw9GjRoV9FSoBsxNJ+amU73l5nkeANRNwQj8z1qG1gYM5Dacm9xDV2DFIwbOzgB/yAY9Ezoetm1j9uzZsG076KlQDZibTsxNJ+YWjBdeeAGXX345WlpafLUybdvG3Llzff/9oSuwAOCsZgO7Le5gaRCPx9HV1YV4PB70VKgGzE0n5qYTcwtGJpPBl7/8ZXz/+9/3NT4ej2POnDm+//5QFlitTcBeFvoqJBIJLFiw4A3nh1C4MTedmJtOzO3k+trXvoabbrqp+t+HDh3C6aefDgB497vfjaYmf6+YSyQSuPHGG33PK3SvIgSA1iYDP9vr/flPpMDZto2ZM2di48aNvn+IaeQxN52Ym06NkNt/m4JD5RP/dU9JAGdn3vzIpgULFqCjowNf/epXccopp+D+++/HNddcgzFjxgzr77ZtGzNmzPA9PpwF1mjg5TzgeoJohGdhhVkikUBPTw9/M1OGuenE3HSq99xeLQrOW+PAOwl39kQN4OXrYzg9eexa4JRTTsF1112Hf/3Xf8WiRYvwL//yL/jhD3847L87kUhg4cKFmDdvnq/x4Sywmgy4ArxSAMbVZ7FfN4buLSBdmJtOzE2nes/t9KSBXR+OnbQdrDcrroZ89rOfxdVXX43zzz8fZ5xxBt7+9rcP+++Ox+OYO3du/RVYALAvLxjXxB2sMLMsC+985zvxxBNPoLm5Oejp0HFibjoxN50aIbc/18Y72SZOnIizzz4bN910E7761a+ekK9pWVZ9nYMFDLQIAd7orkEymURvb6/6RyU0GuamE3PTibmNjE9+8pNwHAfXXXcdgIGT2Nva2tDV1YXt27ejra0NixcvPu6vl0wmsWzZMt/zCeUO1hkpIB4B9uZ5VEPYxWIxzJ49O+hpUI2Ym07MTSfmNjJ++ctf4q//+q+rx2GMHj0ae/bs8f31YrEYZs6c6Xt8KHewIoaBsaO5g6VBLpdDW1sbcrlc0FOhGjA3nZibTszt5Nq3bx8mTpyIp59+GrfeeusJ+7q5XA4TJ070PT6UO1gA0DrawF6bO1hhl0qlsHbtWqRSqaCnQjVgbjoxN52Y28k1btw47Ny584R/3VQqhdWrV+O9732vr/GhLbDGjgZeygc9C/pzYrEYOjs7g54G1Yi56cTcdGJuOsVisfq7yR0ATksCB0tBz4L+HNM0kclkYJpm0FOhGjA3nZibTvWWWyQyUDpUKpWAZ3LiDK1laG3AQG6tra2+v2Zod7DGjDLwWpmnuYddU1MT+vr66vZ04nrF3HRibjrVW27jxo1DIpHAihUr8MlPflL9MxYrlQpWrFiBRCKBcePGVd/f1NSEjRs3Yvr06b6+riEiobjRyTRNtLS0IJvNIpPJ4Ku/d3H37z0c7NYdHBERUb357W9/i56eHpTLJ+F00QAkEgn09va+oZg6sjapRah3sA6V+LicsBvODx8Fh7npxNx0qsfcpk+fjp/97GfYt28fPE93tykSiWDcuHFvOAR2KDe/QlxgAQIgWwbG8Gy20GpubkZ/f3/dnk5cr5ibTsxNp3rNrbm5GR0dHUFP46Rpbm7G9u3bMWnSJF/jQ3uT+5hRA3/yRvdwMwwDmUwGhsFdRk2Ym07MTSfmppNhGEin077Hh7jAGvhBPFgKxS1idAy5XA4tLS08QE8Z5qYTc9OJuemUy+XQ3t7ue3yIC6yBP7mDFW7pdBrZbHZYVT6NPOamE3PTibnplE6n0d/f73t8tcDatWsXLr30UnR0dGDq1KnYtm3bGz55w4YNuOiii6pv48aNw8UXX1z9uGEYuPDCC6sff+yxx3xPbOi+KxZY4SYiME0TIXkxKh0n5qYTc9OJuekkIsPadaze5H7zzTfjpptuwrx58/Dggw9i3rx5ePLJJw/75NmzZx/2wMoPfOADuOKKKw77nMceewynnHKK7wkNSUWBUVG2CMPOsiy0t7fX1atjGgFz04m56cTcdLIsy/cN7sDgOVj79+/Hueeei4MHDyIWi0FEMHbsWDz++OM499xzjzpw3759OOecc/Diiy/izDPPHPhihoHXXnvNV4F1tJexjvteBbecH8EdF0d9L5CIiIjIj+EcsREBgP7+fowdOxax2MCGlmEYGD9+PHbv3n3Mgd/97ndx1VVXVYurIVdccQWmTJmCnp4e2LZ9zPGlUgmmaR72BgCFQgEAUCwWcWpccLA08L5SaaBXmM/nq9e2bVcPObNtu3rUvWVZcBwHwMBNakPXpmnCdd3qted5h23dep5XnYfrutVrx3Gq24SO48CyLAADp78OrbFcLlevS6US8vl89fr1ayoWi9V11sOabNvG008/Ddd162ZN9ZjTkWvK5/PYtm0bcrlc3aypHnM6ck2u6+LJJ5887N+f9jXVY05Hrsk0TTzzzDNwXbdu1lSPOR25plKphB07dsA3EZEtW7ZIR0eHvN7UqVPl0UcflaPxPE/OOecc+clPfnLY+1988UUREbEsS66//nr51Kc+ddTxIiJLliwRDBx1ddjbDTfcICIiixYtktav75QbflGR+fPny5IlS0RE5LrrrpN77rlHRERmzZolK1asEBGR6dOny5o1a0REZNKkSfLII4+IiEhra6ts2rRJRETS6bRs3bpVBk+vl/7+fslmswJAstms9Pf3y+C3RLZu3SrpdFpERDZt2iStra0iIvLII4/IpEmTRERkzZo1Mn36dBERWbFihcyaNUtERO655x657rrrquucP39+dU2LFi0SEambNX3605+WeDwu2Wy2btZUjzkduaYvfOELkk6n5ZprrqmbNdVjTkeuKZvNSjQalX/6p3+qmzXVY05Hrmnq1KmSTCYlm83WzZrqMacj1/SjH/1Impubq/OtFUREXnnlFUmn01KpVERkoIB6y1veIrt27TrqoF/+8pfS2toqjuMc8wtv2rRJLrjggmN+vFgsSjabrb4NfaNffvllEREpFArygZ+W5P3/pyL5fF6KxaKIiNi2Xb22LEtKpVL1ulwui4hILperrsU0zep1NputzjmbzYrruuJ5nmSzWfE8T1zXrX4THcepXlcqFTFNs3qdy+VERKRcLotlWSIiUiqVqtfFYlFs265e5/P56poKhYKICNfENXFNXBPXxDVxTSFf0+sLwlpVn0V4+eWXY968edWb3O+++25s2bLlqLteN9xwAyZMmIAvf/nL1fe99tprGDVqFEaPHg3P89DT04ODBw9i9erVx7WTdrQ+5yd+7WDHIaDvmtAeON/wHMfBk08+ialTp1ZbzBR+zE0n5qYTc9PJcRz86le/wnvf+17/92ABwH333Yf77rsPHR0duPvuu3H//fcDAO644w7ce++91QHZbBYPPfQQPvGJTxz2hXbu3Inp06djypQpuPDCC3HgwAF8/etfH87acErCQLbMVxGGWaFQQFdXV7XnTTowN52Ym07MTadCoYDu7m7f46s7WEE72g7WkqdcfOcPHvZ8LB7w7IiIiKjRDPtVhGGViQO5ctCzoDfjOA42bNhQfdUI6cDcdGJuOjE3nRzHwcaNG32PD3eBlTCQqwBeODbZ6CiKxSJ6enqqL4UlHZibTsxNJ+amU7FYxG233eZ7fKhbhP/+vIeP/sKFeWMM6QSfQk5EREQjp65bhACQqwQ7Dzq2SqWCtWvXVg9nIx2Ym07MTSfmplOlUsG6det8jw91gZUeLLBM/kyGVrlcRm9vb/UkXNKBuenE3HRibjqVy2UsX77c9/hQtwh/f0Bw0UMOnrgmimlnhroWJCIiojrDFiEFplwuY+XKlfzNTBnmphNz04m56VQul7Fq1Srf40NdYKUTA3+a/JkMLd5boBNz04m56cTcdKpUKli/fr3v8aFuEZZcQfJfHay6LIrujlDXgkRERFRn6rZFOCpqYFQUMCuhqAHpKEqlEnp7e1EqlYKeCtWAuenE3HRibjqVSqVh3eQe6gILGHglIVuE4eW6Lvr6+uC6btBToRowN52Ym07MTSfXdbF582bf40PdIgSAc/69gg+fHcFd06IBzo6IiIgaTd22CAEgk+A5WGFWKpWwdOlSbn0rw9x0Ym46MTedSqUS7rrrLt/jQ19gpeMGzHIoNtnoKDzPw549e+B5XtBToRowN52Ym07MTSfP87B3717f40PfIvzAIw5iEWD9rFiAsyMiIqJGU/8tQt7kHlp8SrxOzE0n5qYTc9OpWCxi8eLFvseHvsBKxw3eg0VERESqhL5F+LdPuPiPFz384cPxAGdHREREjaauW4Q8ByvcCoUCFixYgEKhEPRUqAbMTSfmphNz06lQKGDhwoW+x4e+wGqOAZYT9CzoWCKRCNra2hCJhP5HiV6HuenE3HRibjpFIhG0trb6Hh/6FuF9O1x86nEP7oIYDMMIcIZERETUSOq6RdgcNyAAinzCQCjl83l0dXUhn88HPRWqAXPTibnpxNx0yufz6O7u9j0+9AVW0+DxVzbbhKEUjUbR2dmJaJSPMtKEuenE3HRibjpFo1FMmzbN9/jQtwh/vsfDrP/j4o8fieGsNFuERERENDLqukXYNHg6g82zsELJtm3Mnj0btm0HPRWqAXPTibnpxNx0sm0bc+fO9T0+9AVWc2xg18p2QrHRRkeIx+Po6upCPM5zyjRhbjoxN52Ym07xeBxz5szxPT70LcLnTcG5P3Tw6FVRXNka+nqQiIiI6kR9twh5k3uo2baNzs5Obn0rw9x0Ym46MTedbNvGjBkzfI8PfYHVPHQPFgusUEokEujp6UEikQh6KlQD5qYTc9OJuemUSCSGdZJ76FuEngiiKx2sfE8U8yeGvh4kIiKiOlHXLcKIYSAVBSze5B5KlmVh8uTJsCwr6KlQDZibTsxNJ+amk2VZwzoHK/QFFjBwVAOPaQinZDKJ3t5eJJPJoKdCNWBuOjE3nZibTslkEsuWLfM9PvQtQgD4f35QwcfOjeAfpvIUXCIiIhoZdd0iBAZ3sHiTeyjlcjm0tbUhl8sFPRWqAXPTibnpxNx0yuVymDhxou/xOgqsmAGrEoqNNjpCKpXC2rVrkUqlgp4K1YC56cTcdGJuOqVSKaxevdr3eBUtwhk/cXBmCvjBlbGAZkdERESNpv5bhDHe5B5Wpmkik8nANM2gp0I1YG46MTedmJtOpmmitbXV93gdBVYcsFhghVJTUxP6+vrQ1NQU9FSoBsxNJ+amE3PTqampCRs3bvQ9XkWL8JP/6eD/HgSemMMWIREREY2M+m8Rxg3YPGg0lEzThGEY3PpWhrnpxNx0Ym46DRVXfukosHgPVmg1Nzejv78fzc3NQU+FasDcdGJuOjE3nZqbm7F9+3bf49UUWBbPwQolwzCQyWRgGEbQU6EaMDedmJtOzE0nwzCQTqd9j1dRYDXzUTmhlcvl0NLSwgP0lGFuOjE3nZibTrlcDu3t7b7HqyiwmmIGCi7gheN+fHqddDqNbDY7rCqfRh5z04m56cTcdEqn0+jv7/c9XkWBNXrwxYMFtglDR0RgmiZC8mJUOk7MTSfmphNz00lEhrXrqKLASg0VWG6w86A3siwL7e3tsCwr6KlQDZibTsxNJ+amk2VZmDRpku/xKg6WSkUH/uQOVvhkMhn+VqYQc9OJuenE3HTKZDLIZrO+j2pQtYOVZ4EVOq7rYtu2bXBdbi9qwtx0Ym46MTedXNfFjh07fI9XUWCNZoswtGzbRmdnJ2zbDnoqVAPmphNz04m56WTbNmbOnOl7vJIW4cDZIQVHAPAckTDhA0x1Ym46MTedmJtOmUwGe/fuZYuQguE4Dvr6+uA4DEcT5qYTc9OJuenkOA42b97se7yKAovHNIRXoVBAV1cXCoVC0FOhGjA3nZibTsxNp0KhgO7ubt/jdbQIeQ9WaKXTaezZsyfoaVCNmJtOzE0n5qZTOp3Gzp0767xFyGMaQstxHGzYsIFb38owN52Ym07MTSfHcbBx40bf41UUWPEIEDGAvMNzRMKmWCyip6cHxWIx6KlQDZibTsxNJ+amU7FYxG233eZ7vCEhOf3MNE20tLQgm80ik8m84ePp71bwpUsiWHRhNIDZERERUaP5c7XJm1GxgwUMtAnZIgyfSqWCtWvXolKpBD0VqgFz04m56cTcdKpUKli3bp3v8XoKrBiPaQijcrmM3t5elMvloKdCNWBuOjE3nZibTuVyGcuXL/c9Xk2L8Py1FVzVHsE909kiJCIiopOPLUIKTLlcxsqVK/mbmTLMTSfmphNz06lcLmPVqlW+x+spsGIGCm4oNtvodXhvgU7MTSfmphNz06lSqWD9+vW+x6tpEc78iYPTksAPZ6g4G5WIiIiUa4gW4egYW4RhVCqV0Nvbi1KpFPRUqAbMTSfmphNz06lUKg3rJnc1BVYqxkflhJHruujr64PrMhxNmJtOzE0n5qaT67rDetizmhbhvF85eM4EHr+aLUIiIiI6+RqkRWjwUTkhVCqVsHTpUm59K8PcdGJuOjE3nUqlEu666y7f49UUWGwRhpPnedizZw88zwt6KlQD5qYTc9OJuenkeR727t3re7yaFuEXn3TxwHMeXvhoPIDZERERUaNpiBYhH5UTTnxKvE7MTSfmphNz06lYLGLx4sW+x6spsEazRUhERERKqGkR3rvdxcJNHpwFbBESERHRydcgLUIDrgAVLxT1IA0qFApYsGABCoVC0FOhGjA3nZibTsxNp0KhgIULF/oer6bAGj14/BXvwwqXSCSCtrY2RCJqfpQIzE0r5qYTc9MpEomgtbXV93g1LcKHX/TwwZ+5eOnjMbx1tBHADImIiKiRNEiLcOBPPo8wXPL5PLq6upDP54OeCtWAuenE3HRibjrl83l0d3f7Hq+uwGKLMFyi0Sg6OzsRjUaDngrVgLnpxNx0Ym46RaNRTJs2zfd4NS3CZw4I3v6QgyfnRPGOM9TUhURERKRUY7QIBwt/tgjDxbZtzJ49G7ZtBz0VqgFz04m56cTcdLJtG3PnzvU9Xk+BNXQPFg8bDZV4PI6uri7E4zyfTBPmphNz04m56RSPxzFnzhzf49W0CF8tCs74Nwfr3hvFnLPU1IVERESkFFuEFBjbttHZ2cmtb2WYm07MTSfmppNt25gxY4bv8XoKLLYIQymRSKCnpweJRCLoqVANmJtOzE0n5qZTIpEY1knualqEADDqOxXcMz2ChZP5UlciIiI6uRqiRQgMPC6HLcJwsSwLkydPhmVZQU+FasDcdGJuOjE3nSzLGtY5WKoKrFSMLcKwSSaT6O3tRTKZDHoqVAPmphNz04m56ZRMJrFs2TLf41W1CM/59wo+fHYEd01ji5CIiIhOroZqEfJROeGSy+XQ1taGXC4X9FSoBsxNJ+amE3PTKZfLYeLEib7HqyqwUjEDBTcUG240KJVKYe3atUilUkFPhWrA3HRibjoxN51SqRRWr17te7yqFuFlP3Ywvhn4tytiIzw7IiIiajQN0yJMsUUYOqZpIpPJwDTNoKdCNWBuOjE3nZibTqZporW11fd4XQVWFCjyVYSh0tTUhL6+PjQ1NQU9FaoBc9OJuenE3HRqamrCxo0bfY9X1SL86C8c7C8Aj76fLUIiIiI6uRqnRcgdrNAxTROGYXDrWxnmphNz04m56TRUXPmlqsBKRg0UnFBsuNGg5uZm9Pf3o7m5OeipUA2Ym07MTSfmplNzczO2b9/ue7yyAos7WGFjGAYymQwMwwh6KlQD5qYTc9OJuelkGAbS6bTv8aoKrBSfRRg6uVwOLS0tPEBPGeamE3PTibnplMvl0N7e7nu8qgKLO1jhk06nkc1mh1Xl08hjbjoxN52Ym07pdBr9/f2+x6sqsPiw5/AREZimiZC8GJWOE3PTibnpxNx0EpFh7TqqKrC4gxU+lmWhvb0dlmUFPRWqAXPTibnpxNx0siwLkyZN8j1e1YFSqaiBkgt4IojwZsFQyGQy/K1MIeamE3PTibnplMlkkM1mfR/VoGsHa7AcLHEXKzRc18W2bdvgugxFE+amE3PTibnp5LouduzY4Xu8qgIrFR34k23C8LBtG52dnbBtO+ipUA2Ym07MTSfmppNt25g5c6bv8apahMnBAqvgAKeOCnYuNIAPMNWJuenE3HRibjplMhns3bu3QVqE3MEKHcdx0NfXB8fhAWWaMDedmJtOzE0nx3GwefNm3+NVFVipwf02HjYaHoVCAV1dXSgUCkFPhWrA3HRibjoxN50KhQK6u7t9j68WWLt27cKll16Kjo4OTJ06Fdu2bXvDJ7/wwguIRqO46KKLqm/PP/989eNPPPEEpkyZgo6ODlx55ZXYu3ev74kdTTI68MpB7mCFRzqdxp49e3iAnjLMTSfmphNz0ymdTmPnzp2+x1cLrJtvvhk33XQTnn32WXz+85/HvHnzjvkXPvPMM9W3c845BwDgeR4+/vGP4+tf/zqeffZZXHXVVbj11lt9T+xoqjtYLl/uGhaO42DDhg3c+laGuenE3HRibjo5joONGzf6Hh8BgP3792PLli24/vrrAQAf+tCH0N/fj+eee+64v9BTTz2FWCyGK664AsBAwfbjH/8YxWLR9+SOxHuwwqdYLKKnp+eE5kwnH3PTibnpxNx0KhaLuO2223yPjwBAf38/xo4di1hsYIvIMAyMHz8eu3fvfsMA27ZxySWX4OKLL8aXvvSl6rkeu3fvxoQJE6qfl06nkclksG/fvqP+xaVSCaZpHvYGoNqjLhaL1R/GQqGAUqlUPabBLFSqcymXy9XrSmXg/ZZlVX9TyOVy1WvTNKvzNU0Tnucd9ggDz/Oq83Bdt3rtOE71uHzHcaqn8VYqlerLbsvlcvW6VCohn89Xr99sTQCQz+er19rWFIvF8NRTT6G5ublu1lSPOR25png8jm3btiESidTNmuoxpyPX1NzcjM2bNyORSNTNmuoxpyPXZBgGnnnmGTQ3N9fNmuoxpyPXlEwmh3WTO0REtmzZIh0dHfJ6U6dOlUcfffSw9xWLRXnllVdEROTAgQMyc+ZM+cpXviIiIg8++KDMmjXrsM8/44wz5Pnnn5ejWbJkiQB4w9sNN9wgIiKLFi2SRYsWiYjI/PnzZcmSJXKo5Am+XZbub/xvERGZNWuWrFixQkREpk+fLmvWrBERkUmTJskjjzwiIiKtra2yadMmERFJp9OydetWkYEjdaW/v1+y2awAkGw2K/39/TL4LZGtW7dKOp0WEZFNmzZJa2uriIg88sgjMmnSJBERWbNmjUyfPl1ERFasWFFd/z333CPXXXdddZ3z588/5ppERK677jq55557VK7pc5/7nLz//e+XcrlcN2uqx5yOXNMXv/hFWbNmjVx77bV1s6Z6zOnINZXLZZkyZYrce++9dbOmeszpyDW9853vlEWLFkm5XK6bNdVjTkeu6eGHH5bvfve71fnWCiIir7zyiqTTaalUKiIi4nmevOUtb5Fdu3a96eDvf//78oEPfEBERDZv3ix/8Rd/Uf2YaZqSSCSkUCgcdWyxWJRsNlt9G/pGv/zyyyIiUigUqmPz+bwUi0UpOQMF1ne2FUVExLIsKZVK1etyuSwiIrlcrroW0zSr19lsVhzHqV67riue50k2mxXP88R13eo30XGc6nWlUhHTNKvXuVxORETK5bJYliUiIqVSqXpdLBbFtu3qdT6fP+aaRERs265ea1vTq6++KtOmTRPLsupmTfWY05FrOnDggEyfPl32799fN2uqx5yOXJNlWTJ16lQ5ePBg3aypHnM6ck2vvPJK9f+T9bKmeszpyDUdOnRI3vGOd/gusAyRgQckXX755Zg3bx7mzZuHBx98EHfffTe2bNly2G7X/v37ceqppyIej6NUKuH666/H+eefjy996UvwPA/nnXceVq5ciSuuuAJf+9rX8Nvf/hYPPvjgce2kmaaJlpYWZLNZZDKZY+22IbrSwb3vjuKm81WdMEFERETKHE9tcizVKuW+++5vz4J1AAAgAElEQVTDfffdh46ODtx99924//77AQB33HEH7r33XgDA448/jre//e2YMmUKLr74Yrz1rW/F7bffPvCFIhE88MAD+NznPoeOjg48/PDD+Md//McTtUYAA33sZBQo8lWEoVEul7Fy5cpqD5t0YG46MTedmJtO5XIZq1at8j2+uoMVtOOtEk9bXcH/elsEn78oOoKzo2OxbRvXXnstHnroITQ1NQU9HTpOzE0n5qYTc9PJtm1cffXV+MUvfuFrB0tdgdX6vQpumhjBkktYYBEREdHJc0JahFqkYkCB52CFRqlUQm9vb/Ulr6QDc9OJuenE3HQqlUpYvny57/HqCqyBe7CCngUNcV0XfX191bNOSAfmphNz04m56eS67rDOwVLXIpy6zsHFpxu47z1sERIREdHJ01AtQr6KMFxKpRKWLl3KrW9lmJtOzE0n5qZTqVTCXXfd5Xu8ugIrFWOLMEw8z8OePXvgeV7QU6EaMDedmJtOzE0nz/Owd+9e3+PVtQiv3jDwjKP/mB0bqakRERFRA2rAFmHQs6AhfEq8TsxNJ+amE3PTqVgsYvHixb7HqyuwUjGg4AQ9CyIiIqJjU9civPkxF0+/KnhyLluEREREdPI0VItw4KDRUNSEBKBQKGDBggUoFApBT4VqwNx0Ym46MTedCoUCFi5c6Hu8ugKL92CFSyQSQVtbGyIRdT9KDY256cTcdGJuOkUiEbS2tvoer65FeOdTLlb8wcOej8VHcHZERETUaBqqRZiM8ib3MMnn8+jq6kI+nw96KlQD5qYTc9OJuemUz+fR3d3te7y+AosHjYZKNBpFZ2cnolE+ukgT5qYTc9OJuekUjUYxbdo03+PVtQi/vcPDLY+7cBfEYBjGCM6QiIiIGknDtQgFQIVPHAgF27Yxe/Zs2LYd9FSoBsxNJ+amE3PTybZtzJ071/d4dQVWavD4qwLbhKEQj8fR1dWFeJwvOtCEuenE3HRibjrF43HMmTPH93h1LcIfv+jh6p+5ePnjMbxlNFuEREREdHI0VIuQO1jhYts2Ojs7ufWtDHPTibnpxNx0sm0bM2bM8D1eXYGVHHwRBl9JGA6JRAI9PT1IJBJBT4VqwNx0Ym46MTedEonEsE5yV9cifOpPgnesd/C7a2O46DS2CImIiOjkaKgW4dAOVsEJRV3Y8CzLwuTJk2FZVtBToRowN52Ym07MTSfLsoZ1Dpa+AmvwHiy2CMMhmUyit7cXyWQy6KlQDZibTsxNJ+amUzKZxLJly3yPV9ci3GcLWr/v4Cezo7hqvLr6kIiIiJRoyBYhd7DCIZfLoa2tDblcLuipUA2Ym07MTSfmplMul8PEiRN9j1dXYPGYhnBJpVJYu3YtUqlU0FOhGjA3nZibTsxNp1QqhdWrV/ser65F6IkgutLByvdEMX+iuvqQiIiIlGioFmHEMDAqChTcUNSFDc80TWQyGZimGfRUqAbMTSfmphNz08k0TbS2tvoer67AAgbuw+I9WOHQ1NSEvr4+NDU1BT0VqgFz04m56cTcdGpqasLGjRt9j4+dwLmMmFQUKDpBz4IAIBqNYvLkyUFPg2rE3HRibjoxN52i0SjOP/983+PV7mDxJvdwME0ThmFw61sZ5qYTc9OJuek0dP+VXzoLrBhbhGHR3NyM/v5+NDc3Bz0VqgFz04m56cTcdGpubsb27dt9j1dZYKWiQIEtwlAwDAOZTAaGwedCasLcdGJuOjE3nQzDQDqd9j1eZYGVjBoo8lWEoZDL5dDS0sID9JRhbjoxN52Ym065XA7t7e2+x6sssFIx3oMVFul0GtlsdlhVPo085qYTc9OJuemUTqfR39/ve7zKAivJVxGGhojANE2E5LxaOk7MTSfmphNz00lEhrXrqLLA4g5WeFiWhfb2dliWFfRUqAbMTSfmphNz08myLEyaNMn3eJXnYCWjwKvFoGdBAJDJZPhbmULMTSfmphNz0ymTySCbzfo+qkHnDhZPcg8N13Wxbds2uC4D0YS56cTcdGJuOrmuix07dvger7LASkYNFBz+NhAGtm2js7MTtm0HPRWqAXPTibnpxNx0sm0bM2fO9D1eZ4uQB42GBh9gqhNz04m56cTcdMpkMti7d2/jtQh50Gg4OI6Dvr4+OA4D0YS56cTcdGJuOjmOg82bN/ser7LASvIerNAoFAro6upCoVAIeipUA+amE3PTibnpVCgU0N3d7Xu8yhYhj2kIj3Q6jT179gQ9DaoRc9OJuenE3HRKp9PYuXNnY7UIedBoeDiOgw0bNnDrWxnmphNz04m56eQ4DjZu3Oh7vMoCKxUz4AjgeHwlYdCKxSJ6enpQLPJgMk2Ym07MTSfmplOxWMRtt93me7whITn9zDRNtLS0IJvNIpPJvOnn/vvzHj76Cxe5eTE0x/l0ciIiIjrxaqlNjqRyBysZHfiTN7oHr1KpYO3atahUKkFPhWrA3HRibjoxN50qlQrWrVvne7zKAis1WGDxqIbglctl9Pb2olwuBz0VqgFz04m56cTcdCqXy1i+fLnv8SpbhL9+ycPlD7t49sMxnNfCFiERERGdeA3XIuQOVniUy2WsXLmSv5kpw9x0Ym46MTedyuUyVq1a5Xu8ygIrGR3YtSq6odh8a2i8t0An5qYTc9OJuelUqVSwfv163+NVtgh3ZQUdaxz86gNRXDZWZY1IREREIddwLcLqqwjZIgxcqVRCb28vSqVS0FOhGjA3nZibTsxNp1KpNKyb3FUWWKnBB/zwmIbgua6Lvr4+uC7D0IS56cTcdGJuOrmuO6yHPatsEVoVQfq7Dn5wZRQfOUdljUhEREQh17gtQv4yELhSqYSlS5dy61sZ5qYTc9OJuelUKpVw1113+R6vssCKRQzEDKDghGLzraF5noc9e/bA87ygp0I1YG46MTedmJtOnudh7969vserbBECQPq7FXzpkggWXRgdgdkRERFRo2m4FiEwcNgoDxoNHp8SrxNz04m56cTcdCoWi1i8eLHv8WoLrGSU92ARERFROKltEf7FmgqunhDB//dOtgiJiIjoxGvIFmEyyoNGw6BQKGDBggUoFApBT4VqwNx0Ym46MTedCoUCFi5c6Hu82gIrFTP4LMIQiEQiaGtrQySi9kepITE3nZibTsxNp0gkgtbWVt/j1bYIL3/YQVsT8MAVsRGYHRERETWaxm0R8ib3wOXzeXR1dSGfzwc9FaoBc9OJuenE3HTK5/Po7u72PV5tgcVjGsIhGo2is7MT0ShfbKAJc9OJuenE3HSKRqOYNm2a7/FqW4Qf/YWD/QXg0fezRUhEREQnXkO2CLmDFQ62bWP27NmwbTvoqVANmJtOzE0n5qaTbduYO3eu7/FqC6xklK8iDIN4PI6uri7E4/Ggp0I1YG46MTedmJtO8Xgcc+bM8T1ebYvwb37r4qf9HnZ08QeWiIiITryGbBHyoNFwsG0bnZ2d3PpWhrnpxNx0Ym462baNGTNm+B6vtsBK8ZiGUEgkEujp6UEikQh6KlQD5qYTc9OJuemUSCSGdZK72hbh1/6viy//zsOhG9kiJCIiohOvcVuE3MEKnGVZmDx5MizLCnoqVAPmphNz04m56WRZ1rDOwVJbYKWiBkou4IVjA65hJZNJ9Pb2IplMBj0VqgFz04m56cTcdEomk1i2bJnv8WpbhN97zsP1v3SR/6sYUjFjBGZIREREjaQhW4SpwScO8LDRYOVyObS1tSGXywU9FaoBc9OJuenE3HTK5XKYOHGi7/FqC6zkYIHF+7CClUqlsHbtWqRSqaCnQjVgbjoxN52Ym06pVAqrV6/2PV5ti/CX+zxc+RMXz/+/MZydYYuQiIiITqyGbBEm2SIMBdM0kclkYJpm0FOhGjA3nZibTsxNJ9M00dra6nu84gJrYNeKLcJgNTU1oa+vD01NTUFPhWrA3HRibjoxN52ampqwceNG3+NjJ3AuIyo1OPOCKwDYIgxKNBrF5MmTg54G1Yi56cTcdGJuOkWjUZx//vm+xyvewRr4kztYwTJNE4ZhcOtbGeamE3PTibnpNHT/lV9qCywe0xAOzc3N6O/vR3Nzc9BToRowN52Ym07MTafm5mZs377d93i1BVZysEXIHaxgGYaBTCYDw2CbVhPmphNz04m56WQYBtLptO/xagss7mCFQy6XQ0tLCw/QU4a56cTcdGJuOuVyObS3t/ser7bAikcGbm3nDlaw0uk0stnssKp8GnnMTSfmphNz0ymdTqO/v9/3eLUFlmEYSMWAohuKc1IblojANE2E5LxaOk7MTSfmphNz00lEhrXrqLbAAgZeScgWYbAsy0J7ezssywp6KlQD5qYTc9OJuelkWRYmTZrke7zac7CAgQKLLcJgZTIZ/lamEHPTibnpxNx0ymQyyGazvo9qUL2DlYoBBRZYgXJdF9u2bYPrMghNmJtOzE0n5qaT67rYsWOH7/GqCyzuYAXPtm10dnbCtu2gp0I1YG46MTedmJtOtm1j5syZvserbhGmogbvwQoYH2CqE3PTibnpxNx0ymQy2Lt3b2O2CAd2sNjXDpLjOOjr64PjsNLVhLnpxNx0Ym46OY6DzZs3+x6vusBKxfgqwqAVCgV0dXWhUCgEPRWqAXPTibnpxNx0KhQK6O7u9j3ekJC8tGHooYrZbBaZTOa4xly9YaC6+o/ZqjudREREFEJ+apMh6neweJN7sBzHwYYNG7j1rQxz04m56cTcdHIcBxs3bvQ9XnWBxYNGg1csFtHT04NisRj0VKgGzE0n5qYTc9OpWCzitttu8z1edYvw5sdcPP2q4Mm5bBESERHRidXQLcICX0UYqEqlgrVr16JSqQQ9FaoBc9OJuenE3HSqVCpYt26d7/GqCyweNBq8crmM3t5elMvloKdCNWBuOjE3nZibTuVyGcuXL/c9XnWL8M6nXHx7p4e9H4+f5NkRERFRo2nYFiF3sIJXLpexcuVK/mamDHPTibnpxNx0KpfLWLVqle/x1QJr165duPTSS9HR0YGpU6di27Ztb/jk//qv/8Jf/uVfYuLEibjgggvwiU984rCD0wzDwIUXXoiLLroIF110ER577DHfEzsePGg0eLy3QCfmphNz04m56VSpVLB+/Xrf46stwiuvvBLd3d2YN28eHnzwQXzlK1/Bk08+edgn79q1C4VCAW9729vgui4+9rGP4fzzz8fSpUsHvphh4LXXXsMpp5xS80T8bMN9e4eHWx534S6IwTCMmv9OIiIiomMZdotw//792LJlC66//noAwIc+9CH09/fjueeeO+yTzzvvPLztbW8DAESjUUydOhUvvPDCCViCP8koIAAqXmBTaHilUgm9vb0olUpBT4VqwNx0Ym46MTedSqXSsG5yjwBAf38/xo4di1hs4DwpwzAwfvx47N69+5gDbdvGypUrcc011xz2/iuuuAJTpkxBT08PbNt+04mbpnnYG4Bqy7FYLFYPZSsUCtUfzHw+X7023MGPuwPzGdp+tSyremJuLperXpumCdd1q9ee50FEYJomRASe51Xn4bpu9dpxHORyueq1ZVkABrYPh9ZYLper16VSCfl8vnpdy5ps26726TWsybZtPP7443Bdt27WVI85HbmmfD6Pvr4+5HK5ullTPeZ05Jpc18Vjjz122L8/7Wuqx5yOXJNpmvjNb34D13XrZk31mNORayqVSsN62DNERLZs2SIdHR3yelOnTpVHH31UjqZUKsn73/9++cxnPnPY+1988UUREbEsS66//nr51Kc+ddTxIiJLliwRDGxAHfZ2ww03iIjIokWLZNGiRSIiMn/+fFmyZImIiFx33XVyzz33iIjIRTd+UfDtsrxsezJ9+nRZs2aNiIhMmjRJHnnkERERaW1tlU2bNomISDqdlq1bt8pgW1T6+/slm80KAMlms9Lf3y+D3xLZunWrpNNpERHZtGmTtLa2iojII488IpMmTRIRkTVr1sj06dNFRGTFihUya9YsERG555575Lrrrquuc/78+ce9plmzZsmKFStERLgmrolr4pq4Jq6JawpwTa+fb60gIvLKK69IOp2WSqUiIiKe58lb3vIW2bVr1xsGlMtlmTNnjixYsEA8zzvmF960aZNccMEFx/x4sViUbDZbfRv6Rr/88ssiIlIoFKRQKIiISD6fl2KxKCIitm1Xr3/8nC34dln+aHpiWZaUy2UREcnlctW1mKZZvc5ms+I4TvXadV3xPE+y2ax4nieu61a/iY7jVK8rlYqYplm9zuVy1e+FZVkiMlB0Dl0Xi0Wxbbt6nc/nj3tNlmVJqVSqXod9TYcOHZLbb7+9+r56WFM95nTkmrLZrCxZskQOHjxYN2uqx5yOXFOxWJTFixdX/656WFM95nTkmg4cOCBf/OIXpVgs1s2a6jGnI9dkWZZ84QtfGF6BJSJy2WWXyf333y8iImvXrpVLLrnkDZ9cqVTk2muvlU984hNvKK4OHjxYXaDruvK5z32uuht1PPxUiY+95Aq+XZYdrx270KOTK5/Py/z586s/0KQDc9OJuenE3HTK5/Nyww03+C6wqq8i/MMf/oB58+bhwIEDyGQyuP/++3HhhRfijjvuwLhx43DLLbfge9/7Hq6//nq87W1vq75q713vehf++Z//GX19fbj55pthGAYcx8HFF1+Mb3zjGxgzZsxxtSr93Kn/1J8E71jv4Om5Mbz9dL6KkIiIiE6c4byKUPVJ7tsOCi74kYNNV0fR+RbVZ6aqNfS08WXLliGZTAY9HTpOzE0n5qYTc9OpWCzib/7mb/Ctb32r8U5yTw286JGnuRMREVGoqN7B2mcLWr/v4Cezo7hqvOpakYiIiEKmoZ9FCHAHK0iFQgELFiw47JFJFH7MTSfmphNz06lQKGDhwoW+x6susIZahAUWWIGJRCJoa2tDJKL6R6nhMDedmJtOzE2nSCSC1tZW3+NVtwg9EURXOlj5nijmT+QPLhEREZ04DdsijBgGRkWBghuKGrEh5fN5dHV1VR9TQDowN52Ym07MTad8Po/u7m7f41UXWMDAfVi8Bys40WgUnZ2diEajQU+FasDcdGJuOjE3naLRKKZNm+Z7vOoWIQCMfaCCv54Uwd9dzB9cIiIiOnEatkUIcAcraLZtY/bs2dWnmpMOzE0n5qYTc9PJtm3MnTvX93j1BVYqxgIrSPF4HF1dXYjH40FPhWrA3HRibjoxN53i8TjmzJnje7z6FuHFD1Uw/cwIvvVutgiJiIjoxGnwFqGBIl9FGBjbttHZ2cmtb2WYm07MTSfmppNt25gxY4bv8eoLrFSMB40GKZFIoKenB4lEIuipUA2Ym07MTSfmplMikRjWSe7qW4Tvf8RBIgKsmxU7ibMjIiKiRtPQLULuYAXLsixMnjwZlmUFPRWqAXPTibnpxNx0sixrWOdgqS+weExDsJLJJHp7e5FMJoOeCtWAuenE3HRibjolk0ksW7bM93j1LcJP/qeD/3sQeGIOW4RERER04jR0i5CvIgxWLpdDW1sbcrlc0FOhGjA3nZibTsxNp1wuh4kTJ/oer77A4kGjwUqlUli7di1SqVTQU6EaMDedmJtOzE2nVCqF1atX+x6vvkV4xxYX333Ww+6P8YRcIiIiOnEavEXIHawgmaaJTCYD0zSDngrVgLnpxNx0Ym46maaJ1tZW3+PVF1g8piFYTU1N6OvrQ1NTU9BToRowN52Ym07MTaempiZs3LjR93j1L71LRoGiE/QsGlc0GsXkyZODngbViLnpxNx0Ym46RaNRnH/++b7H18EOlgFHAMcLxa1kDcc0TRiGwa1vZZibTsxNJ+am09D9V36pL7CS0YE/eR9WMJqbm9Hf34/m5uagp0I1YG46MTedmJtOzc3N2L59u+/x6gus1GCBVWCbMBCGYSCTycAwjKCnQjVgbjoxN52Ym06GYSCdTvser77A4g5WsHK5HFpaWniAnjLMTSfmphNz0ymXy6G9vd33eP0F1uBt+iywgpFOp5HNZodV5dPIY246MTedmJtO6XQa/f39vserL7CGWoR5tggDISIwTRMhOa+WjhNz04m56cTcdBKRYe06qi+wmmIDPe28wx/cIFiWhfb2dliWFfRUqAbMTSfmphNz08myLEyaNMn3ePXnYDUNPiHH5g5WIDKZDH8rU4i56cTcdGJuOmUyGWSzWd9HNajfwRo9WCLalWDn0ahc18W2bdvgurwJThPmphNz04m56eS6Lnbs2OF7vPoCq2mowOIOViBs20ZnZyds2w56KlQD5qYTc9OJuelk2zZmzpzpe7z6FmFqcAW8yT0YfICpTsxNJ+amE3PTKZPJYO/evY3bIowYBkbHAJs3uQfCcRz09fXBcVjhasLcdGJuOjE3nRzHwebNm32PV19gAQP3YfEerGAUCgV0dXWhUCgEPRWqAXPTibnpxNx0KhQK6O7u9j1efYsQGLgPi/dgBSOdTmPPnj1BT4NqxNx0Ym46MTed0uk0du7c2bgtQmCgwOI9WMFwHAcbNmzg1rcyzE0n5qYTc9PJcRxs3LjR9/j6KLDiBu/BCkixWERPTw+KxWLQU6EaMDedmJtOzE2nYrGI2267zfd4Q0Jy+plpmmhpaUE2m0Umk6lp7OUPO2gdDXzvyrroeBIREVEIDKc2qY8dLN6DFZhKpYK1a9eiUuGrDDRhbjoxN52Ym06VSgXr1q3zPb5uCizegxWMcrmM3t5elMvloKdCNWBuOjE3nZibTuVyGcuXL/c9vi5ahH/1awfPZoHfXM0WIREREZ0YDd8iHB0zYFdCUSc2nHK5jJUrV/I3M2WYm07MTSfmplO5XMaqVat8j6+LAov3YAWH9xboxNx0Ym46MTedKpUK1q9f73t8XbQI73zKxbd3etj78fhJmh0RERE1moZvETbFuYMVlFKphN7eXpRKpaCnQjVgbjoxN52Ym06lUmlYN7nXRYHFZxEGx3Vd9PX1wXXdoKdCNWBuOjE3nZibTq7rDuthz3XRIlz1rId5v3ZR+kQMiahxkmZIREREjYQtwsHTGXgW1sgrlUpYunQpt76VYW46MTedmJtOpVIJd911l+/x9VFgDd7bzvuwRp7nedizZw88zwt6KlQD5qYTc9OJuenkeR727t3re3xdtAh//ZKHyx928YeuGDpOYYuQiIiIho8twsEWIXewRh6fEq8Tc9OJuenE3HQqFotYvHix7/F1UmAN7FrlnVBsxhEREVGDq4sW4W5LMOEHDh55XxSz2+uiZiQiIqKANXyLMD14k3uOZ2GNuEKhgAULFqBQKAQ9FaoBc9OJuenE3HQqFApYuHCh7/EssGhYIpEI2traEInUxY9Sw2BuOjE3nZibTpFIBK2trb7H10WLEABS/1rBV6ZF8NkLoidhdkRERNRoGr5FCACZBHewgpDP59HV1YV8Ph/0VKgGzE0n5qYTc9Mpn8+ju7vb9/i6KbDSccAsBz2LxhONRtHZ2YlolDuHmjA3nZibTsxNp2g0imnTpvkeXzctwrc/VEHnmRF86938ASYiIqLhY4sQQCZuIFcJRa3YUGzbxuzZs2HbdtBToRowN52Ym07MTSfbtjF37lzf4+umwErHeQ9WEOLxOLq6uhCPx4OeCtWAuenE3HRibjrF43HMmTPH9/i6aRF+9BcOXskDv/hA7CTMjoiIiBoNW4TgDlZQbNtGZ2cnt76VYW46MTedmJtOtm1jxowZvsfXTYHFe7CCkUgk0NPTg0QiEfRUqAbMTSfmphNz0ymRSAzrJPe6aRHe+ZSL+3Z62Pdx9riJiIho+NgiBFuEQbEsC5MnT4ZlWUFPhWrA3HRibjoxN50syxrWOVj1U2AlDFgVwAvHhlzDSCaT6O3tRTKZDHoqVAPmphNz04m56ZRMJrFs2TLf4+umRfjD5z185BcuzBtjSCeMkzBDIiIiaiRsEWKgRQgAJtuEIyqXy6GtrQ25XC7oqVANmJtOzE0n5qZTLpfDxIkTfY+vuwKL92GNrFQqhbVr1yKVSgU9FaoBc9OJuenE3HRKpVJYvXq17/F10yJ85oDg7Q852Dwniqln1E3dSERERAFhixBAZqhFWA52Ho3GNE1kMhmYphn0VKgGzE0n5qYTc9PJNE20trb6Hl83BRZbhMFoampCX18fmpqagp4K1YC56cTcdGJuOjU1NWHjxo2+x9fNg/vS3MEKRDQaxeTJk4OeBtWIuenE3HRibjpFo1Gcf/75vsfXzQ5WMmYgGQUOlUNxS1nDME0ThmFw61sZ5qYTc9OJuek0dP+VX3VTYAHAaUngQCnoWTSW5uZm9Pf3o7m5OeipUA2Ym07MTSfmplNzczO2b9/ue3xdFVhjRgEHi0HPorEYhoFMJgPD4OGumjA3nZibTsxNJ8MwkE6nfY+vswLLwIESW4QjKZfLoaWlhQfoKcPcdGJuOjE3nXK5HNrb232Pr6sC67RRwEG2CEdUOp1GNpsdVpVPI4+56cTcdGJuOqXTafT39/seX1cF1hgWWCNORGCaJkJyXi0dJ+amE3PTibnpJCLD2nWsswLLwIEif4BHkmVZaG9vh2VZQU+FasDcdGJuOjE3nSzLwqRJk3yPr5tzsICBVxFyB2tkZTIZ/lamEHPTibnpxNx0ymQyyGazvo9qqLsdrENlwPH4gzxSXNfFtm3b4Lpu0FOhGjA3nZibTsxNJ9d1sWPHDt/j66rAOm3UwJ+HeJr7iLFtG52dnbBtO+ipUA2Ym07MTSfmppNt25g5c6bv8XXVIhyTHPjzYBE4PRnsXBoFH2CqE3PTibnpxNx0ymQy2Lt3L1uEwECLEADPwhpBjuOgr68PjuMEPRWqAXPTibnpxNx0chwHmzdv9j2+rgqsoRYhb3QfOYVCAV1dXSgUCkFPhWrA3HRibjoxN50KhQK6u7t9j6+rFuGpgwXWAT4uZ8Sk02ns2bMn6GlQjZibTsxNJ+amUzqdxs6dO9kiBIBUzEAqChxkiyH5sH8AAAuKSURBVHDEOI6DDRs2cOtbGeamE3PTibnp5DgONm7c6Ht8XRVYAHBGCtjPHawRUywW0dPTg2KR33RNmJtOzE0n5qZTsVjEbbfd5nu8ISE5/cw0TbS0tCCbzSKTyfj+Op3/28HEU4D7L6ur7icRERGNsOHUJnW3gzV2NLCPR42MmEqlgrVr16JSqQQ9FaoBc9OJuenE3HSqVCpYt26d7/F1V2CNG23gpUIoNuUaQrlcRm9vL8plnu6qCXPTibnpxNx0KpfLWL58ue/xddci/Iffufj6Vg9/uiF+AmdHREREjYYtwtcZN9rAq0Wg6ISibqx75XIZK1eu5G9myjA3nZibTsxNp3K5jFWrVvkeX3cF1tmDBeYfc8HOo1Hw3gKdmJtOzE0n5qZTpVLB+vXrfY+vuxbhPlvQ+n0H/zErig9OqLv6kYiIiEYIW4SvM3Y0MDoGPGeGom6se6VSCb29vSiV+HwiTZibTsxNJ+amU6lUGtZN7nVXYBmGgY4WYNtrLLBGguu66Ovrg+u6QU+FasDcdGJuOjE3nVzXHdbDnuuuRQgAf/24i0f3efjDh/lKQiIiIvKHLcIjXD7WwLNZ4Kk/haJ2rGulUglLly7l1rcyzE0n5qYTc9OpVCrhrrvu8j2+LgusqycYuPh04NqNDv7EQ0dPKs/zsGfPHnieF/RUqAbMTSfmphNz08nzPOzdu9f3+LpsEQLAbkvwjnUOzmsx8NP3RdGSME7ALImIiKhRnJAW4a5du3DppZeio6MDU6dOxbZt24464OGHH8bEiRNx3nnn4dprr4VpmtWPPfHEE5gyZQo6Ojpw5ZVXDqvyG67xzQYenh3F9tcEf/ljB88eCkUdWXf4lHidmJtOzE0n5qZTsVjE4sWLfY+vFlg333wzbrrpJjz77LP4/Oc/j3nz5r3hky3Lwvz587F+/Xrs2rUL48aNw9///d8DGNhK+/jHP46vf/3rePbZZ3HVVVfh1ltv9T2xE2HamRE89sEYii7wtoccfPo3Ll7MsdAiIiKik8sQEdm/fz/OPfdcHDx4ELFYDCKCsWPH4vHHH8e5555b/eS1a9fiO9/5Dh555BEAwPbt2zFr1izs2bMHTz75JG644Qbs3LkTAJDL5XDGGWfg0KFDSCaTf3YiJ7pF+HpWRfBPWz30/peH18rARacBl701gulnGpiQBtqbDIwZBSSiQMRgK5GIiIiGV5vEAKC/vx9jx45FLBYDMHCW1Pjx47F79+7DCqzdu3djwoQJ1f8+66yz8NJLL8FxnDd8LJ1OI5PJYN++fTj77LPf8BeXSqXDXlGRzWYBAPv37weA6lZqMplEoVBAJBLBqFGjkM/nEY1GMWrUKNi2jXg8jkQiAdu2kUgkEI/HYVkWkskkYrEYcrkcUqkUFp4Tw4dONfGzP43Gb14B1mx18Y+FN97jHzUEo6IGRkUBiCASMZAwAAMCY7D4EjnatUBk4Hs3dFvb668jkaO/3zAMiCeA8T/XhgGgem0AxsBcqn+nJzAiQ9cejEjkz15HBq898RAxBt8vHozq9RvXJBBgcE3A0efueR4OHjyI0047rfo9PNr6DON/3n+076P3+jke5dowXvd+GVzHn7kWGfg+Ga+7Fhlc05vlcTzXb8hsICfxBr+nQ/N9/fWbrO+Y129Y02Cuw1yTiODAgQMYM2bM4PdX/5rqMacjrwHgT6/+CaefdjoikUhdrKkeczpyTa7r4sDBAzjj9DMG/1+uf031mNORaxIAr+59EQAO+zd4vGI1jzhB7rrrLtx5551veP95550XwGz+hwsgP/hGx88OegLkCx/ZqZMV9ATIF+amVy6XQ0tLS01jYgDQ3t5e3YkaahHu3r0b48ePP+yTx48fj5///OfV/37hhReqO1/jx4/Hiy++eNhkstksxo0bd9S/ePHixejp6an+9+t3QoZ2NSj8TNNEe3s7+vv7T3hrl04e5qYTc9OJuek0lNv27duPWcu8mRgAnHnmmbj44ovxwAMPYN68efjRj36Etra2w9qDAPC+970Pn/70p7Fz505MnDgR3/rWt/CRj3wEAHDJJZegUqngl7/8Ja644grcd999+OAHP3jM+69GjRqFUaNGHfa+U045peYFUDhkMhn+j0Mh5qYTc9OJuenU2tpabWPWotoivO+++zBv3jwsW7YMmUwG999/PwDgjjvuwLhx43DLLbcgnU5j5cqVmDNnDhzHwQUXXIBVq1YBACKRCB544AHcfPPNKBaLGDduHP7t3/7tBC2PiIiISI/QHDRKOp3MV3/SycPcdGJuOjE3nYabW3Tp0qVLT/y0qJFEo1Fcfvnl1Vehkg7MTSfmphNz02k4uXEHi4iIiOgEq8uHPRMREREFiQUWERER0QnGAouIiIjoBGOBRcdULBYxZ84cdHR0YMqUKXjve9+L5557DsDAI43e97734bzzzsMFF1yA//zP/6yOy+fz+OhHP4pzzz0XHR0dePDBB4NaQsO7//77YRgG1q9fD4C5hV2pVMLChQtx3nnn4cILL8T1118PgLmF3U9/+lNcfPHFuOiiiw47voi5hctnP/tZnHXWWTAMA88880z1/X5z8jwPn/nMZ3DOOefg3HPPxfLlyw//C4XoGAqFgvzkJz8Rz/NEROSb3/ymXHbZZSIi8ld/9VeyZMkSERHZvHmztLa2SrlcFhGRO++8U2688UYREfnv//5vOeOMM+TVV18d6ek3vD/+8Y/S2dkp06dPl3Xr1okIcwu7W2+9VRYuXFj9N/fSSy+JCHMLM8/z5NRTT5Xf//73IjLw727UqFFimiZzC5lf//rX0t/fLxMmTJDf/e531ff7zWnVqlVy5ZVXiuM4cuDAARk/frxs3bq1+nVZYNFxe/LJJ2XChAkiItLU1FT9n7+IyNSpU+XnP/+5iIhMmjRJ+vr6qh/r6uqSFStWjOhcG53rujJjxgzZsmWLXHbZZdUCi7mFl2VZkk6nJZvNvuFjzC28PM+TMWPGyK9//WsREfn9738v48aNk1KpxNxC6sgCy29OV111lfzgBz+ofuxv//Zv5fbbb6/+N1uEdNy+8Y1v4JprrsGBAwdQqVTw1re+tfqxs846C7t37wYA7N69GxMmTDjqx2hk9Pb24l3vehcuueSS6vuYW7g9//zzGDNmDJYtW4Z3vOMdeM973oNHH32UuYWcYRj44Q9/iGuvvRYTJkzAu9/9bqxatQq5XI65KTCcf19/LkOeeEbHZdmyZXjuuefw6KOPolAoBD0dehNbt27F/9/e/booEsZhAH9Qk1hEMKgMOmoRURQ0imWq0WKwGfwnLAaDgv+BSUFZbWKzWASDomgRwUERQTAZB54LC7Le3t3C3u7t3N33E+fnOzww8zLzwPT7/YcegTA/wzCg6zoikQhqtRrm8zk0TcN6vf7qoYlfMAwD1WoVg8EAmUwGs9kMuVzuoeMj/k/yBku8qV6vYzAYYDQawW63w+VywWaz4Xw+37fZ7/dQFAUAoCgKdF3/4Trx+SaTCfb7PcLhMPx+P6bTKUqlEnq9nuRmYoqiwGKxoFAoAAASiQQCgQBWq5XkZmKLxQKn0wmZTAYAkEql4PP5sFwuJbe/wO88z97M8NM+cop/QqPRYDKZ5PV6fVheLBYfSoEej+deCqxUKq9KgZfL5U8OW7zwsoMluZmbpmkcDocknzNwuVw8Ho+Sm4mdz2c6HA5uNhuS5Ha7pdPppK7rkptJfd/Bem9OrVbrVcl9uVzejysTLPFTh8OBAKiqKuPxOOPxONPpNMnnm4qmaQyFQoxEIhyPx/f9brcb8/k8VVVlOBxmt9v9qksQfJxgSW7mttvtmM1mGY1GGYvF+PT0RFJyM7tOp3PPLBqNst1uk5TczKZUKtHr9dJqtdLtdjMYDJJ8f06GYbBcLjMQCFBVVTabzYfzyb8IhRBCCCE+mHSwhBBCCCE+2DctUk3ZYhCa4QAAAABJRU5ErkJggg==\" />"
      ]
     },
     "execution_count": 61,
     "metadata": {},
     "output_type": "execute_result"
    }
   ],
   "source": [
    "params = copy(start_params)\n",
    "net = Nets.Net(Nets.Params(widths, params), x_to_u, v_to_y)\n",
    "\n",
    "train_loss = sensitive_loss(0.9)\n",
    "validate_loss = train_loss\n",
    "losses = [mean(xy -> validate_loss(params, xy[1], xy[2]), train_data_scaled)]\n",
    "\n",
    "@show mean(xy -> sum(abs2, net(xy[1]) .- xy[2][:,1]), test_data)\n",
    "\n",
    "@showprogress for i in 1:nepoch\n",
    "    Nets.adam!(train_loss, params, train_data_scaled, Nets.AdamOpts(learning_rate=0.01 * 0.99^i, batch_size=1))\n",
    "    push!(losses, mean(xy -> validate_loss(params, xy[1], xy[2]), train_data_scaled))\n",
    "end\n",
    "\n",
    "@show mean(xy -> sum(abs2, net(xy[1]) .- xy[2][:,1]), test_data)\n",
    "\n",
    "plot(losses, ylim=(0, maximum(losses)))\n",
    "\n"
   ]
  },
  {
   "cell_type": "code",
   "execution_count": 62,
   "metadata": {},
   "outputs": [
    {
     "data": {
      "text/html": [
       "<img src=\"data:image/png;base64,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\" />"
      ]
     },
     "execution_count": 62,
     "metadata": {},
     "output_type": "execute_result"
    }
   ],
   "source": [
    "plt = plot(linspace(-pi, pi, 51), x -> net([x])[1], legend=nothing, ylim=(-4, 4))\n",
    "plot!(plt, [x[1] for (x, y) in train_data], [y[1] for (x, y) in train_data], line=nothing, marker=:circle)\n",
    "for (x, y) in zip(X, Y)\n",
    "    eps = 5e-2\n",
    "    plot!(plt, [x[1], x[1] + eps], [y[1], y[1] + eps * y[2]])\n",
    "end\n",
    "plt"
   ]
  },
  {
   "cell_type": "code",
   "execution_count": 39,
   "metadata": {},
   "outputs": [
    {
     "data": {
      "text/html": [],
      "text/plain": [
       "Interact.Options{:SelectionSlider,Float64}(17: \"input-8\" = 0.0 Float64 , \"i1\", 0.0, \"0.0\", Interact.OptionDict(DataStructures.OrderedDict(\"-10.0\"=>-10.0,\"-9.6\"=>-9.6,\"-9.2\"=>-9.2,\"-8.8\"=>-8.8,\"-8.4\"=>-8.4,\"-8.0\"=>-8.0,\"-7.6\"=>-7.6,\"-7.2\"=>-7.2,\"-6.8\"=>-6.8,\"-6.4\"=>-6.4…), Dict(1.2=>\"1.2\",9.6=>\"9.6\",2.0=>\"2.0\",8.0=>\"8.0\",-0.8=>\"-0.8\",-3.6=>\"-3.6\",5.6=>\"5.6\",-8.8=>\"-8.8\",-6.4=>\"-6.4\",-6.8=>\"-6.8\"…)), Any[], Any[], true, \"horizontal\")"
      ]
     },
     "metadata": {},
     "output_type": "display_data"
    },
    {
     "data": {
      "text/html": [],
      "text/plain": [
       "Interact.Options{:SelectionSlider,Float64}(19: \"input-9\" = 0.0 Float64 , \"i2\", 0.0, \"0.0\", Interact.OptionDict(DataStructures.OrderedDict(\"-10.0\"=>-10.0,\"-9.6\"=>-9.6,\"-9.2\"=>-9.2,\"-8.8\"=>-8.8,\"-8.4\"=>-8.4,\"-8.0\"=>-8.0,\"-7.6\"=>-7.6,\"-7.2\"=>-7.2,\"-6.8\"=>-6.8,\"-6.4\"=>-6.4…), Dict(1.2=>\"1.2\",9.6=>\"9.6\",2.0=>\"2.0\",8.0=>\"8.0\",-0.8=>\"-0.8\",-3.6=>\"-3.6\",5.6=>\"5.6\",-8.8=>\"-8.8\",-6.4=>\"-6.4\",-6.8=>\"-6.8\"…)), Any[], Any[], true, \"horizontal\")"
      ]
     },
     "metadata": {},
     "output_type": "display_data"
    },
    {
     "data": {
      "text/html": [],
      "text/plain": [
       "Interact.Options{:SelectionSlider,Float64}(21: \"input-10\" = 0.0 Float64 , \"i3\", 0.0, \"0.0\", Interact.OptionDict(DataStructures.OrderedDict(\"-10.0\"=>-10.0,\"-9.6\"=>-9.6,\"-9.2\"=>-9.2,\"-8.8\"=>-8.8,\"-8.4\"=>-8.4,\"-8.0\"=>-8.0,\"-7.6\"=>-7.6,\"-7.2\"=>-7.2,\"-6.8\"=>-6.8,\"-6.4\"=>-6.4…), Dict(1.2=>\"1.2\",9.6=>\"9.6\",2.0=>\"2.0\",8.0=>\"8.0\",-0.8=>\"-0.8\",-3.6=>\"-3.6\",5.6=>\"5.6\",-8.8=>\"-8.8\",-6.4=>\"-6.4\",-6.8=>\"-6.8\"…)), Any[], Any[], true, \"horizontal\")"
      ]
     },
     "metadata": {},
     "output_type": "display_data"
    },
    {
     "data": {
      "text/html": [],
      "text/plain": [
       "Interact.Options{:SelectionSlider,Float64}(23: \"input-11\" = 0.0 Float64 , \"i4\", 0.0, \"0.0\", Interact.OptionDict(DataStructures.OrderedDict(\"-10.0\"=>-10.0,\"-9.6\"=>-9.6,\"-9.2\"=>-9.2,\"-8.8\"=>-8.8,\"-8.4\"=>-8.4,\"-8.0\"=>-8.0,\"-7.6\"=>-7.6,\"-7.2\"=>-7.2,\"-6.8\"=>-6.8,\"-6.4\"=>-6.4…), Dict(1.2=>\"1.2\",9.6=>\"9.6\",2.0=>\"2.0\",8.0=>\"8.0\",-0.8=>\"-0.8\",-3.6=>\"-3.6\",5.6=>\"5.6\",-8.8=>\"-8.8\",-6.4=>\"-6.4\",-6.8=>\"-6.8\"…)), Any[], Any[], true, \"horizontal\")"
      ]
     },
     "metadata": {},
     "output_type": "display_data"
    },
    {
     "data": {
      "text/html": [],
      "text/plain": [
       "Interact.Options{:SelectionSlider,Float64}(25: \"input-12\" = 0.0 Float64 , \"i5\", 0.0, \"0.0\", Interact.OptionDict(DataStructures.OrderedDict(\"-10.0\"=>-10.0,\"-9.6\"=>-9.6,\"-9.2\"=>-9.2,\"-8.8\"=>-8.8,\"-8.4\"=>-8.4,\"-8.0\"=>-8.0,\"-7.6\"=>-7.6,\"-7.2\"=>-7.2,\"-6.8\"=>-6.8,\"-6.4\"=>-6.4…), Dict(1.2=>\"1.2\",9.6=>\"9.6\",2.0=>\"2.0\",8.0=>\"8.0\",-0.8=>\"-0.8\",-3.6=>\"-3.6\",5.6=>\"5.6\",-8.8=>\"-8.8\",-6.4=>\"-6.4\",-6.8=>\"-6.8\"…)), Any[], Any[], true, \"horizontal\")"
      ]
     },
     "metadata": {},
     "output_type": "display_data"
    },
    {
     "data": {
      "text/html": [],
      "text/plain": [
       "Interact.Options{:SelectionSlider,Float64}(27: \"input-13\" = 0.0 Float64 , \"i6\", 0.0, \"0.0\", Interact.OptionDict(DataStructures.OrderedDict(\"-10.0\"=>-10.0,\"-9.6\"=>-9.6,\"-9.2\"=>-9.2,\"-8.8\"=>-8.8,\"-8.4\"=>-8.4,\"-8.0\"=>-8.0,\"-7.6\"=>-7.6,\"-7.2\"=>-7.2,\"-6.8\"=>-6.8,\"-6.4\"=>-6.4…), Dict(1.2=>\"1.2\",9.6=>\"9.6\",2.0=>\"2.0\",8.0=>\"8.0\",-0.8=>\"-0.8\",-3.6=>\"-3.6\",5.6=>\"5.6\",-8.8=>\"-8.8\",-6.4=>\"-6.4\",-6.8=>\"-6.8\"…)), Any[], Any[], true, \"horizontal\")"
      ]
     },
     "metadata": {},
     "output_type": "display_data"
    },
    {
     "data": {
      "text/html": [],
      "text/plain": [
       "Interact.Options{:SelectionSlider,Float64}(29: \"input-14\" = 0.0 Float64 , \"i7\", 0.0, \"0.0\", Interact.OptionDict(DataStructures.OrderedDict(\"-10.0\"=>-10.0,\"-9.6\"=>-9.6,\"-9.2\"=>-9.2,\"-8.8\"=>-8.8,\"-8.4\"=>-8.4,\"-8.0\"=>-8.0,\"-7.6\"=>-7.6,\"-7.2\"=>-7.2,\"-6.8\"=>-6.8,\"-6.4\"=>-6.4…), Dict(1.2=>\"1.2\",9.6=>\"9.6\",2.0=>\"2.0\",8.0=>\"8.0\",-0.8=>\"-0.8\",-3.6=>\"-3.6\",5.6=>\"5.6\",-8.8=>\"-8.8\",-6.4=>\"-6.4\",-6.8=>\"-6.8\"…)), Any[], Any[], true, \"horizontal\")"
      ]
     },
     "metadata": {},
     "output_type": "display_data"
    },
    {
     "ename": "LoadError",
     "evalue": "\u001b[91mDimensionMismatch(\"arrays could not be broadcast to a common size\")\u001b[39m",
     "output_type": "error",
     "traceback": [
      "\u001b[91mDimensionMismatch(\"arrays could not be broadcast to a common size\")\u001b[39m",
      "",
      "Stacktrace:",
      " [1] \u001b[1m_bcs1\u001b[22m\u001b[22m\u001b[1m(\u001b[22m\u001b[22m::Base.OneTo{Int64}, ::Base.OneTo{Int64}\u001b[1m)\u001b[22m\u001b[22m at \u001b[1m./broadcast.jl:70\u001b[22m\u001b[22m",
      " [2] \u001b[1m_bcs\u001b[22m\u001b[22m at \u001b[1m./broadcast.jl:63\u001b[22m\u001b[22m [inlined]",
      " [3] \u001b[1mbroadcast_shape\u001b[22m\u001b[22m at \u001b[1m./broadcast.jl:57\u001b[22m\u001b[22m [inlined] (repeats 2 times)",
      " [4] \u001b[1mbroadcast_indices\u001b[22m\u001b[22m at \u001b[1m./broadcast.jl:53\u001b[22m\u001b[22m [inlined]",
      " [5] \u001b[1mbroadcast_c\u001b[22m\u001b[22m at \u001b[1m./broadcast.jl:311\u001b[22m\u001b[22m [inlined]",
      " [6] \u001b[1mbroadcast\u001b[22m\u001b[22m\u001b[1m(\u001b[22m\u001b[22m::Function, ::Array{Float64,1}, ::Array{Float64,1}\u001b[1m)\u001b[22m\u001b[22m at \u001b[1m./broadcast.jl:434\u001b[22m\u001b[22m",
      " [7] \u001b[1m(::##197#201)\u001b[22m\u001b[22m\u001b[1m(\u001b[22m\u001b[22m::Float64, ::Float64, ::Float64, ::Float64, ::Float64, ::Float64, ::Float64\u001b[1m)\u001b[22m\u001b[22m at \u001b[1m./In[39]:8\u001b[22m\u001b[22m",
      " [8] \u001b[1m(::Base.#kw##map)\u001b[22m\u001b[22m\u001b[1m(\u001b[22m\u001b[22m::Array{Any,1}, ::Base.#map, ::Function, ::Reactive.Signal{Float64}, ::Reactive.Signal{Float64}, ::Vararg{Reactive.Signal{Float64},N} where N\u001b[1m)\u001b[22m\u001b[22m at \u001b[1m./<missing>:0\u001b[22m\u001b[22m"
     ]
    }
   ],
   "source": [
    "@manipulate for i1 in linspace(-10, 10, 51), \n",
    "    i2 in linspace(-10, 10, 51), \n",
    "    i3 in linspace(-10, 10, 51), \n",
    "    i4 in linspace(-10, 10, 51),\n",
    "    i5 in linspace(-10, 10, 51),\n",
    "    i6 in linspace(-10, 10, 51),\n",
    "    i7 in linspace(-10, 10, 51)\n",
    "    n = Nets.Net(Nets.Params(widths, params .+ [i1, i2, i3, i4, i5, i6, i7]), x_to_u, v_to_y)\n",
    "    plt = plot(linspace(-pi, pi, 51), x -> n([x])[1], legend=nothing, ylim=(-4, 4))\n",
    "    plot!(plt, [x[1] for (x, y) in train_data], [y[1] for (x, y) in train_data], line=nothing, marker=:circle)\n",
    "    plt\n",
    "end"
   ]
  },
  {
   "cell_type": "code",
   "execution_count": 9,
   "metadata": {},
   "outputs": [
    {
     "data": {
      "text/plain": [
       "2-element Array{Base.ReshapedArray{Float64,2,SubArray{Float64,1,Array{Float64,1},Tuple{UnitRange{Int64}},true},Tuple{}},1}:\n",
       " [-0.781163; 0.852994]\n",
       " [-0.769834 -0.696507]"
      ]
     },
     "execution_count": 9,
     "metadata": {},
     "output_type": "execute_result"
    }
   ],
   "source": [
    "net.params.weights"
   ]
  },
  {
   "cell_type": "code",
   "execution_count": 10,
   "metadata": {},
   "outputs": [
    {
     "data": {
      "text/plain": [
       "7-element Array{Float64,1}:\n",
       " -0.781163   \n",
       "  0.852994   \n",
       " -0.769834   \n",
       " -0.696507   \n",
       "  0.00021235 \n",
       "  0.000117051\n",
       " -0.00285645 "
      ]
     },
     "execution_count": 10,
     "metadata": {},
     "output_type": "execute_result"
    }
   ],
   "source": [
    "params"
   ]
  },
  {
   "cell_type": "code",
   "execution_count": 77,
   "metadata": {
    "collapsed": true
   },
   "outputs": [],
   "source": [
    "f(x) = [sin(2 * x[1])]\n",
    "\n",
    "X = [[x] for x in linspace(-pi, pi, 60)]\n",
    "Y = [hcat(f(x), ForwardDiff.jacobian(f, x)) for x in X];\n",
    "\n",
    "data = collect(zip(X, Y))\n",
    "train_data, test_data = splitobs(shuffleobs(data), 1/10);\n",
    "\n",
    "train_data_scaled, x_to_u, v_to_y = Nets.rescale(train_data)\n",
    "for (x, yJ) in train_data\n",
    "    y = yJ[:, 1]\n",
    "    J = yJ[:, 2:end]\n",
    "    @assert y ≈ f(x)\n",
    "    @assert J ≈ ForwardDiff.jacobian(f, x)\n",
    "end\n",
    "\n",
    "u_to_x = inv(x_to_u)\n",
    "y_to_v = inv(v_to_y)\n",
    "\n",
    "for (u, vJ) in train_data_scaled\n",
    "    v = vJ[:, 1]\n",
    "    J = vJ[:, 2:end]\n",
    "    @assert isapprox(v |> v_to_y, u |> u_to_x |> f, atol=1e-6)\n",
    "    @assert J ≈ ForwardDiff.jacobian(u -> u |> u_to_x |> f |> y_to_v, u)\n",
    "    @assert maximum(abs, J) <= 1.0 + 1e-5\n",
    "    \n",
    "end"
   ]
  },
  {
   "cell_type": "code",
   "execution_count": 78,
   "metadata": {},
   "outputs": [
    {
     "data": {
      "text/plain": [
       "sensitive_loss (generic function with 1 method)"
      ]
     },
     "execution_count": 78,
     "metadata": {},
     "output_type": "execute_result"
    }
   ],
   "source": [
    "widths = [1, 16, 16, 16, 1]\n",
    "\n",
    "function sensitive_loss(λ)\n",
    "    q = [1.0-λ λ]\n",
    "    (params, x, y) -> begin\n",
    "            sum(abs2, q .* (Nets.predict_sensitivity(Nets.Net(Nets.Params(widths, params)), x) .- y))\n",
    "    end\n",
    "end"
   ]
  },
  {
   "cell_type": "code",
   "execution_count": 79,
   "metadata": {
    "collapsed": true
   },
   "outputs": [],
   "source": [
    "start_params = 0.1 * randn(Nets.Params{Float64}, widths).data\n",
    "nepoch = 500;"
   ]
  },
  {
   "cell_type": "code",
   "execution_count": 84,
   "metadata": {},
   "outputs": [
    {
     "name": "stdout",
     "output_type": "stream",
     "text": [
      "mean((xy->begin  # In[84], line 8:\n",
      "            sum(abs2, net(xy[1]) .- (xy[2])[:, 1])\n",
      "        end), test_data) = 0.5167945962843192\n"
     ]
    },
    {
     "name": "stderr",
     "output_type": "stream",
     "text": [
      "Progress: 100%|█████████████████████████████████████████| Time: 0:00:01\n"
     ]
    },
    {
     "name": "stdout",
     "output_type": "stream",
     "text": [
      "mean((xy->begin  # In[84], line 15:\n",
      "            sum(abs2, net(xy[1]) .- (xy[2])[:, 1])\n",
      "        end), test_data) = 0.7031449982530235\n"
     ]
    },
    {
     "data": {
      "text/html": [
       "<img src=\"data:image/png;base64,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\" />"
      ]
     },
     "execution_count": 84,
     "metadata": {},
     "output_type": "execute_result"
    }
   ],
   "source": [
    "params = copy(start_params)\n",
    "net = Nets.Net(Nets.Params(widths, params), x_to_u, v_to_y)\n",
    "\n",
    "train_loss = sensitive_loss(0.5)\n",
    "validate_loss = train_loss\n",
    "losses = [mean(xy -> validate_loss(params, xy[1], xy[2]), train_data_scaled)]\n",
    "\n",
    "@show mean(xy -> sum(abs2, net(xy[1]) .- xy[2][:,1]), test_data)\n",
    "\n",
    "@showprogress for i in 1:nepoch\n",
    "    Nets.adam!(train_loss, params, train_data_scaled, Nets.AdamOpts(learning_rate=0.01 * 0.99^i, batch_size=2))\n",
    "    push!(losses, mean(xy -> validate_loss(params, xy[1], xy[2]), train_data_scaled))\n",
    "end\n",
    "\n",
    "@show mean(xy -> sum(abs2, net(xy[1]) .- xy[2][:,1]), test_data)\n",
    "\n",
    "plot(losses, ylim=(0, losses[1]))"
   ]
  },
  {
   "cell_type": "code",
   "execution_count": 85,
   "metadata": {},
   "outputs": [
    {
     "data": {
      "text/html": [
       "<img src=\"data:image/png;base64,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\" />"
      ]
     },
     "execution_count": 85,
     "metadata": {},
     "output_type": "execute_result"
    }
   ],
   "source": [
    "plt = plot(linspace(-pi, pi, 51), x -> net([x])[1], legend=nothing, ylim=(-4, 4))\n",
    "plot!(plt, [x[1] for (x, y) in train_data], [y[1] for (x, y) in train_data], line=nothing, marker=:circle)\n",
    "for (x, y) in zip(X, Y)\n",
    "    eps = 5e-2\n",
    "    plot!(plt, [x[1], x[1] + eps], [y[1], y[1] + eps * y[2]])\n",
    "end\n",
    "plt"
   ]
  },
  {
   "cell_type": "code",
   "execution_count": null,
   "metadata": {
    "collapsed": true
   },
   "outputs": [],
   "source": []
  },
  {
   "cell_type": "code",
   "execution_count": null,
   "metadata": {
    "collapsed": true
   },
   "outputs": [],
   "source": []
  }
 ],
 "metadata": {
  "kernelspec": {
   "display_name": "Julia 0.6.0",
   "language": "julia",
   "name": "julia-0.6"
  },
  "language_info": {
   "file_extension": ".jl",
   "mimetype": "application/julia",
   "name": "julia",
   "version": "0.6.0"
  }
 },
 "nbformat": 4,
 "nbformat_minor": 2
}
