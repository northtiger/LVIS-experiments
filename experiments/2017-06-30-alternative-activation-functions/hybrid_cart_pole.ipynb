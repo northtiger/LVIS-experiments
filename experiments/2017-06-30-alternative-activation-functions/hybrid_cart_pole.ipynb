{
 "cells": [
  {
   "cell_type": "code",
   "execution_count": 1,
   "metadata": {},
   "outputs": [
    {
     "data": {
      "text/plain": [
       "true"
      ]
     },
     "execution_count": 1,
     "metadata": {},
     "output_type": "execute_result"
    }
   ],
   "source": [
    "using MLDataPattern\n",
    "using Plots; pyplot()\n",
    "using ProgressMeter\n",
    "using JLD\n",
    "using DrakeVisualizer, GeometryTypes, CoordinateTransformations\n",
    "DrakeVisualizer.any_open_windows() || DrakeVisualizer.new_window()"
   ]
  },
  {
   "cell_type": "code",
   "execution_count": 2,
   "metadata": {},
   "outputs": [
    {
     "name": "stderr",
     "output_type": "stream",
     "text": [
      "WARNING: replacing module Nets.\n"
     ]
    }
   ],
   "source": [
    "import Nets\n",
    "reload(\"Nets\")"
   ]
  },
  {
   "cell_type": "code",
   "execution_count": 3,
   "metadata": {},
   "outputs": [
    {
     "name": "stderr",
     "output_type": "stream",
     "text": [
      "\u001b[1m\u001b[33mWARNING: \u001b[39m\u001b[22m\u001b[33mGurobi reported infeasible or unbounded. Set InfUnbdInfo=1 for more specific status.\u001b[39m\n"
     ]
    },
    {
     "name": "stdout",
     "output_type": "stream",
     "text": [
      "\u001b[1m\u001b[37mTest Summary:    | \u001b[39m\u001b[22m\u001b[1m\u001b[32mPass  \u001b[39m\u001b[22m\u001b[1m\u001b[36mTotal\u001b[39m\u001b[22m\n",
      "test sensitivity | \u001b[32m 267  \u001b[39m\u001b[36m  267\u001b[39m\n"
     ]
    },
    {
     "data": {
      "text/plain": [
       "colmat (generic function with 1 method)"
      ]
     },
     "execution_count": 3,
     "metadata": {},
     "output_type": "execute_result"
    }
   ],
   "source": [
    "include(\"../../pympc.jl\")\n",
    "colmat = PyMPC.colmat"
   ]
  },
  {
   "cell_type": "code",
   "execution_count": 4,
   "metadata": {
    "collapsed": true
   },
   "outputs": [],
   "source": [
    "sys = PyMPC.Models.HybridCartPole();"
   ]
  },
  {
   "cell_type": "code",
   "execution_count": 5,
   "metadata": {
    "collapsed": true
   },
   "outputs": [],
   "source": [
    "vis = Visualizer()[:cartpole]\n",
    "setgeometry!(vis, sys)\n",
    "settransform!(vis, sys, [0, 0]);"
   ]
  },
  {
   "cell_type": "code",
   "execution_count": 6,
   "metadata": {},
   "outputs": [
    {
     "data": {
      "text/plain": [
       "PyObject <pympc.control.MPCHybridController instance at 0x1288bf4d0>"
      ]
     },
     "execution_count": 6,
     "metadata": {},
     "output_type": "execute_result"
    }
   ],
   "source": [
    "controller = PyMPC.Models.controller(sys)"
   ]
  },
  {
   "cell_type": "code",
   "execution_count": 7,
   "metadata": {
    "collapsed": true
   },
   "outputs": [],
   "source": [
    "x_0 = [0., 0.1, 2.1, 0.]\n",
    "xs = PyMPC.Models.simulate(sys, x_0, controller; N_sim=30);"
   ]
  },
  {
   "cell_type": "code",
   "execution_count": 8,
   "metadata": {
    "collapsed": true
   },
   "outputs": [],
   "source": [
    "PyMPC.Models.playback(vis, sys, xs)"
   ]
  },
  {
   "cell_type": "code",
   "execution_count": 9,
   "metadata": {
    "collapsed": true
   },
   "outputs": [],
   "source": [
    "# num_samples = 100\n",
    "# data = Vector{Tuple{Vector{Float64}, Matrix{Float64}}}()\n",
    "\n",
    "# @showprogress for i in 1:num_samples\n",
    "#     while true\n",
    "#         x0 = PyMPC.Models.generate_x0(sys)\n",
    "#         u, J, x_traj = PyMPC.run_mpc(controller, x0)\n",
    "#         if !isnan(u[1])\n",
    "#             PyMPC.Models.playback(vis, sys, vec.(x_traj))\n",
    "#             push!(data, (x0, hcat(u, J[1:length(u), :])))\n",
    "#             for x in x_traj\n",
    "#                 u, J, _ = PyMPC.run_mpc(controller, vec(x))\n",
    "#                 if !isnan(u[1])\n",
    "#                     push!(data, (vec(x), hcat(u, J[1:length(u), :])))\n",
    "#                 end\n",
    "#             end\n",
    "#             break\n",
    "#         end\n",
    "#     end\n",
    "# end\n",
    "\n",
    "# save(\"cart_pole_100_traj.jld\", \"data\", data)"
   ]
  },
  {
   "cell_type": "code",
   "execution_count": 10,
   "metadata": {},
   "outputs": [
    {
     "data": {
      "text/plain": [
       "AffineMap([0.0114567], [0.0])"
      ]
     },
     "execution_count": 10,
     "metadata": {},
     "output_type": "execute_result"
    }
   ],
   "source": [
    "data = load(\"cart_pole_100_traj.jld\")[\"data\"]\n",
    "train_data, test_data = splitobs(shuffleobs(data), 0.5)\n",
    "\n",
    "train_data_scaled, x_to_u, v_to_y = Nets.rescale(train_data)\n",
    "u_to_x = inv(x_to_u)\n",
    "y_to_v = inv(v_to_y)"
   ]
  },
  {
   "cell_type": "code",
   "execution_count": 27,
   "metadata": {},
   "outputs": [
    {
     "data": {
      "text/plain": [
       "sensitive_loss (generic function with 1 method)"
      ]
     },
     "execution_count": 27,
     "metadata": {},
     "output_type": "execute_result"
    }
   ],
   "source": [
    "widths = [4, 16, 16, 16, 1]\n",
    "\n",
    "function sensitive_loss(λ)\n",
    "    q = [1.0-λ λ λ λ λ]\n",
    "    (params, x, y) -> sum(abs2, q .* (Nets.predict_sensitivity(Nets.Net(Nets.Params(widths, params)), x) .- y))\n",
    "end"
   ]
  },
  {
   "cell_type": "code",
   "execution_count": 96,
   "metadata": {
    "collapsed": true
   },
   "outputs": [],
   "source": [
    "start_params = 0.1 * randn(Nets.Params{Float64}, widths).data\n",
    "nepoch = 200;"
   ]
  },
  {
   "cell_type": "code",
   "execution_count": 114,
   "metadata": {},
   "outputs": [
    {
     "name": "stdout",
     "output_type": "stream",
     "text": [
      "mean((xy->begin  # In[114], line 8:\n",
      "            sum(abs2, net(xy[1]) .- (xy[2])[:, 1])\n",
      "        end), test_data) = 254.6902082716946\n"
     ]
    },
    {
     "name": "stderr",
     "output_type": "stream",
     "text": [
      "Progress:  99%|█████████████████████████████████████████|  ETA: 0:00:00"
     ]
    },
    {
     "name": "stdout",
     "output_type": "stream",
     "text": [
      "mean((xy->begin  # In[114], line 16:\n",
      "            sum(abs2, net(xy[1]) .- (xy[2])[:, 1])\n",
      "        end), test_data) = 37.35817409661158\n"
     ]
    },
    {
     "name": "stderr",
     "output_type": "stream",
     "text": [
      "\r",
      "Progress: 100%|█████████████████████████████████████████|  ETA: 0:00:00\r",
      "Progress: 100%|█████████████████████████████████████████| Time: 0:00:26\n"
     ]
    },
    {
     "data": {
      "text/html": [
       "<img src=\"data:image/png;base64,iVBORw0KGgoAAAANSUhEUgAAAlgAAAGQCAYAAAByNR6YAAAABHNCSVQICAgIfAhkiAAAAAlwSFlzAAAPYQAAD2EBqD+naQAAIABJREFUeJzs3Xl8lNW9P/DPeWYSEpJJQEmAJCyiICYoLkUT6i6CtW5Vcnvbasu9UFxqF7CLXRRv2+vPWqGb91bFXmxt6y1oq15awYq7xAouFQIquJCEBAIBZt+e5/n+/ngyk4RsZyBxJpPP+/XixZNkZnJO5oN+c855zlEiIiAiIiKiAWOkuwFERERE2YYFFhEREdEAc6e7AQm2baO5uRkejwdKqXQ3h4iIiKhHIgK/34+ysjIYRs9jVRlTYDU3N2PChAnpbgYRERGRlsbGRlRUVPT4tYwpsDweDwAg/54PsfGzozGliKNY1FUkEsF//Md/YNmyZcjLy0t3cyiDMSuki1khXZ2zEovFMGHChGTt0pOMKbAS04Kloz24+Y0CvHCZCy6DRRZ1yM3NxYgRI1BUVMT/EFKfmBXSxayQrs5ZicViANDnkiaVKds0+Hw+FBcX46l3D+LSFwqwotrAN052pbtZRERERF0kahav14uioqIeH5MxI1gJs8cZuKBM4ZW9gm+cnO7WUCYJh8P46le/il/96lfIz89Pd3MogzErpItZGXixWAy7du2CZVnpbspRcblcmDRpEnJzcwF0zYqOZIG1Y8cOfOlLX8L+/ftRXFyMhx56CFVVVd2esHbtWnzzm9+EZVk4+eST8dBDDyWrN6UUZsyYAZfLGXn61a9+hXPOOSflTh0zAvDGUn4aZTnDMFBRUdHrHRtECcwK6WJWBlZTUxM+//nPIxQKpbspA2LkyJF45JFHUF5ennJWklOEF154Ib74xS9iwYIFePTRR/GTn/wEmzZt6vLgQCCA448/Hi+88AKmT5+Om2++Gfn5+fjpT3/qvJhSOHjwIEaNGpVyJzoPty19ayS2HAD+cVXGDbARERFRD2zbxg033IA9e/bghz/84ZBf0xaJRHDbbbdh/PjxuO+++7oUVjpThBAR2bt3r3g8HonH4yIiYtu2jB07Vnbs2CGdrV69WubNm5f8uL6+XsrLy5MfA5CDBw/KkfB6vQJAvF6vLK0z5cQ/xY7odSh7BYNBmT9/vgSDwXQ3hTIcs0K6mJWBs3fvXjnjjDNk3bp16W7KgFm3bp2cccYZ0tra2iUrnWuW3hiAs4/D+PHj4XY7I0ZKKUycOBENDQ1dirGGhgZMmjQp+fHkyZPR0tIC0zSTn7vgggswc+ZMLF26FMFgsNfKMBqNwufzdfkDOHOcxbmANyaIRCLJz0WjUQBAKBRKXgeDweRK/mAwiHg8DsAZaUu0ye/3J699Pl9yTtjn88G2bYgIfD4fRAS2bSfbYVlW8to0Tfj9/uR1IBAAAMTj8WQfY7FY8joajSaHR6PRKMLhMACnGmafjrxPwWAQ1dXVUEplTZ+y8X3KhD6ZpomamhpEIpGs6VM2vk+Z0CeXy4Uzzzwz2cZs6FO63qdDhw5BRFBeXp5sp7TfR5e4FpFu1wC0rm3b1rq2bbvPa8uytK5FBBUVFRAR7Nu3Dy6XC6eddhq0iYhs3rxZpk2b1qXymjVrlmzYsKHL5+655x5ZvHhx8uNgMCiGYSRHvnbt2iUiIoFAQK699lq58cYbe63sli1bJgC6/bnuuuvkZ2+b4r4vIEuWLBERkYULF8qyZctERGT+/PmyfPlyERGZO3eurFy5UkREqqurZfXq1SIiUllZmaygy8vLZePGjSIi4vF4ZOvWrSLOOy6NjY1dqtDGxkZp/5HI1q1bxePxiIjIxo0bkyN169atk8rKShFxRvSqq6tFRGTlypUyd+5cERFZvny5zJ8/P9nPhQsXiojIkiVL2Cf2iX1in9gn9ikr+7R9+3YZO3asbN68WUREXn/9dQmFQiIismnTJolGo2KapmzatElM05RoNCqbNm0SEZFQKCSvv/66iIj4/X556623RETk0KFDsmXLFhERaWtrk23btomISGtrq7z77rsiItLS0iI7d+4UEZHdu3fLhx9+KCIiDQ0N0tDQICIiH374oezevVtERHbu3CktLS0iIvLuu+9Ka2uriIhs27ZN2traRERky5YtcujQoWSf/vjHP3Z5n3RGsAZ0irCzjRs3yowZM3r9xpFIRLxeb/JPIjx79uyR/3nHEjwQE18wLCLODz4SiYiIU9QlrgOBgESj0eR1LOZMK/r9/mRffD5f8trr9Yppmslry7LEtm3xer1i27ZYlpX8YZmmmbyOx+Pi8/mS136/X0REYrGYBAIBERGJRqPJ60gkkhxujkQiyYCFw2EJh9mnI+1Tc3OzXHzxxeLz+bKmT9n4PmVCn9ra2mTu3Lmyd+/erOlTNr5PmdCnQCAgc+bMkb1792ZNn9L1Pm3fvl1OP/30ZBFkmqbYtt3l2rbtbtcionVtWZbWtWVZfV7v3LlTzjvvPCkqKpKZM2cmP2+aZpdr27aTfdqyZYsEAgG58MILk3WLVoElInLeeefJqlWrRERkzZo1csYZZ3R7sM/nk5KSEtm+fbuIiHzlK1+RW265RUREDhw4kHzTLMuSr3/963Ldddf1+o0P17mxj33gFFj7w7b28yn7RaNRWblyZfIfOFFvmBXSxawMnO3bt8sZZ5yRrBEyVVtbm7z00kuydu1amTlzZp+P7dynzlnRXoMFAPfffz/uv/9+TJs2DXfddRdWrVoFALj99ttx3333AXCOs3nwwQdx1VVX4YQTTkBTUxNuu+02AMA777yD6upqzJw5EyeffDLa2trw85//XH+uspNiZ8sJ+LhVA3WSm5uLRYsWJfckIeoNs0K6mJXsdc8992Dx4sXJjw8dOoQxY8YAAM4++2wUFBSk9HqpZiW5D8KJJ56Iurq6bg/44Q9/2OXjK664AldccUW3x9XU1ODtt99OqbG9KWpvuzc+IC9HWSIYDGLOnDl45plnUv6HQcMLs0K6mJXB9YFPcGgQBktG5aLfM4sXLVqEadOm4e6778aoUaOwatUqXHnllTjmmGOO6Ht2zoqOjNxoqjjH+aF5YwKA5xGSIzc3F0uXLuVvmtQvZoV0MSuDZ39EMHW1CXsQDuRzKWDPtW6Myeu9Rhg1ahTmz5+P//mf/8GSJUvw61//Gn/605+O+Ht2zkri7su+ZGaBlRjB4hQhdZKTk4Pa2tp0N4OGAGaFdDErg2dMnsKOf3EP2ghWX8VVwte+9jVcccUVOOmkk1BSUpLaNguH6ZwVFliUVQKBAM466yz84x//QGFhYbqbQxmMWSFdzMrg6m8ab7BNnz4dU6ZMweLFi3H33Xcf1Wt1zoqOjDx8Kc+tkGsAvtggjCvSkJWXl4cVK1YM+eMXaPAxK6SLWcl+X/7yl2GaJubPnw/A2Ty1oqICtbW12LZtGyoqKvDd736339dJNSsZOYIFOAvdOYJFnbndbsybNy/dzaAhgFkhXcxK9nvuuedw0003IScnB4BzgHNTU1PKr5NqVjJyBAtA+3E56W4FZRK/34+KiorksRBEvWFWSBezkr2am5sxffp0vPHGG/jGN75x1K+XalYydgSLBRYdLj8/H2vWrEF+fn66m0IZjlkhXcxK9iorK8M777wzYK/XOSuJ8xz7krkFVo6CL841WNTB7XajpqYm3c2gIYBZIV3MCulKNSsZO0XINVh0OJ/Ph6KiouQp8kS9YVZIF7MycAzDKSni8ezZJTzRF8MwUs5K5o5g5QLvM+/USUFBAerq6rjbMvWLWSFdzMrAKSsrQ25uLlauXIkvf/nLyUXlQ1U8HsfKlSuRm5uLsrIy5OfnJ7MSDAb7fb4SkYyYh/P5fCguLobX60VRURG+ttHCc802tswf2m8QERHRcPHqq69i6dKliMWyYwoqNzcXK1asQHV1dZfPH16z9CSjR7B82TPKSANAJ9BEALNC+piVgVVdXY2nn34azc3NsG073c05KoZhoKysLLkBbees6MjYAqsoh2uwqKvCwkI0NjZyt2XqF7NCupiVgVdYWIhp06aluxkDrnNWAoFAv4/P2EXuxbkKvhhgZ8YMJmUApRSKioqgFA8Ap74xK6SLWSFdqWYlgwssQAAEOE1I7fx+P4qLi7khIPWLWSFdzArpSjUrGV1gAYCP04TUzuPxwOv1wuPxpLsplOGYFdLFrJCuVLOS8QUW12FRgojA5/MhQ258pQzGrJAuZoV0pZqVjC2winKcOU4vd3OndoFAABMmTNBaXEjDG7NCupgV0pVqVjL2LkKOYNHhioqK+FsmaWFWSBezQro6Z0VnN/eMHcHiGiw6nGVZqK+vh2VZ6W4KZThmhXQxK6Qr1axkbIFVmAMocASLOgSDQdTU1GgdUUDDG7NCupgV0pVqVjJ2ilAp1X7gM4duycEDWUkXs0K6mBXS1TkrQ3qKEHCmCTmCRQmmaaKurg6maaa7KZThmBXSxayQrlSzkvEFFs8jpIRwOIza2lqEw+F0N4UyHLNCupgV0pVqVjJ2ihAAinMUpwgpyePxoKmpKd3NoCGAWSFdzArp6pyVIT9FWMQpQurENE2sX7+eQ/nUL2aFdDErpCvVrGR0gcU1WNRZJBLB0qVLEYlE0t0UynDMCuliVkhXqllRkiE7rPl8PhQXF8Pr9aKoqAgAcOPLFl7bZ+P1z+SkuXVEREREjp5qlsNxBIuGjHg8jjVr1iAe550P1DdmhXQxK6Qr1axkdIFVlMMCizrEYjGsWLECsRhDQX1jVkgXs0K6Us1KRk8R/le9hSWv2oj+uxtKqTS3kIiIiCgrpggV4jYQ5RFRBOe3hwcffJC/aVK/mBXSxayQrlSzkuEFlvM3pwkJ4FoJ0seskC5mhXSlmpWMniJ8scXGeWstvFvrxrRRnCIkIiKi9BvyU4RFuU5R5Y1nRA1IaRaNRrFixQpEo9F0N4UyHLNCupgV0pVqVjK6wCpu3/6KU4QEAJZloa6uDpbFRXnUN2aFdDErpCvVrGT0FOGBiODYh008NseFq4/L6FqQiIiIhoksmCJ0/uYIFgHO8Owdd9zBoXzqF7NCupgV0pVqVjK6wHIbCp4coC2aEYNslGa2baOpqQm2bae7KZThmBXSxayQrlSzktFThAAwfXUcn55oYHm1K42tIyIiInIM+SlCACgbqdAcyogakNKMp96TLmaFdDErpCvVrGR8gTV+JNASSncriIiIiPRl/BTht/5h4YmPbLz32Zw0to6IiIjIkSVThEBzCMiQOpDSKBwOY9GiRQiHw+luCmU4ZoV0MSukK9WsZHyBNX6kQtAE/DwmatgzDAMVFRUwjIyPLaUZs0K6mBXSlWpWMn6KMHEe4Tu1bpzI8wiJiIgozbJkitApqngnIYVCIdTW1iIU4l0P1DdmhXQxK6Qr1axkfIE1fqTzdzOzP+y5XC7U1NTA5eKeaNQ3ZoV0MSukK9WsZPwUIQAUPxTHD04z8K2Z/AdARERE6ZUVU4QAUFbAvbAICAaDmDdvHoLBYLqbQhmOWSFdzArpSjUrQ6PA4m7uBCAnJwe1tbXIyeGeaNQ3ZoV0MSukK9WsDIkpwuueM7ErALx4uTtNrSMiIiJyZM0U4XiOYBGc4dmamhoO5VO/mBXSxayQrlSzMiQKrLL28wgzZLCN0iQ3NxdLly5Fbm5uuptCGY5ZIV3MCulKNStDYopw9fs2PvushUNfcqM4l5uNEhERUfpkzRRhWYHzdzNHcIe1QCCAqqoqBAKBdDeFMhyzQrqYFdKValaGRIE1nru5E4C8vDysWLECeXl56W4KZThmhXQxK6Qr1awMiSnCkCkoWGXi4fNduHbqkKgJiYiIKEtlzRThSLfCqFyOYA13fr8fFRUV8Pv96W4KZThmhXQxK6Qr1awMiQILcM4k5HmEw1t+fj7WrFmD/Pz8dDeFMhyzQrqYFdKValaGxBQhAMz5q4ljRgCr53CzUSIiIkqfrJkiBDr2wqLhy+fzoaioCD6fL91NoQzHrJAuZoV0pZqVoVNgFXA39+GuoKAAdXV1KCgoSHdTKMMxK6SLWSFdqWZlyMy3JdZgiQiU4majw5HL5UJVVVW6m0FDALNCupgV0pVqVpIjWDt27MDs2bMxbdo0zJo1C/X19T0+Ye3atZg+fTqmTp2Kq6++usehsmXLlkEphbfeeusIutCzspEKEQs4FBuwl6QhxufzQSnFoXzqF7NCupgV0pVqVpIF1vXXX4/Fixfjvffew3e+8x0sWLCg24MDgQAWLlyIxx9/HDt27EBZWRl+9KMfdXnMa6+9hk2bNmHSpElH15PDlI10/t7N3dyHrcLCQjQ2NqKwsDDdTaEMx6yQLmaFdKWaFQMAWltbsXnzZlx77bUAgGuuuQaNjY3YuXNnlwc/9dRTOO200zB9+nQAwE033YRHHnkk+fVQKISbb74Z999//4B0prMZxyi4FfBCiz3gr01Dg1IKRUVFnCKmfjErpItZIV2pZsUAgMbGRowfPx5utzv5IhMnTkRDQ0OXBzc0NHQZmZo8eTJaWlpgmiYA4Nvf/jZuvPFGTJgwod9vHI1G4fP5uvwBgHA4DACIRCKIRCLJz+VJDBeUKTz2gYloNAoACAaDiMViyet4PA7AGWlLtMnv9yevfT4fLMtKXtu2DRGBz+eDiMC27WQ7LMtKXpummdxYzDTN5DlE8XgcwaAzpBaLxZLX0WgUoVAoed1bnxL9CIVC7JNGn3bv3p28LTZb+pSN71Mm9Gn//v0oLi7Gnj17sqZP2fg+ZUKf/H5/MivZ0qdsfJ8yoU+JrBw6dAhaREQ2b94s06ZNk85mzZolGzZs6PK5e+65RxYvXpz8OBgMimEYEo/H5emnn5bLLrss+bVJkybJm2++Kb1ZtmyZAOj257rrrhMRkSVLlsiSJUtERGThwoWybNkyuXerKeq+kPx4+a9ERGTu3LmycuVKERGprq6W1atXi4hIZWWlrFu3TkREysvLZePGjSIi4vF4ZOvWrdK+95c0NjaK1+sVAOL1eqWxsVHafySydetW8Xg8IiKyceNGKS8vFxGRdevWSWVlpYiIrF69Wqqrq0VEZOXKlTJ37lwREVm+fLnMnz8/2c+FCxf22icRkfnz58vy5cvZJ40+NTY2SkNDQ1b1KRvfp3T36Z577hGv15tVfcrG9ykT+mTbtjz00ENZ1adsfJ8yoU+2bYvH45EtW7Z06UdvICKyd+9e8Xg8Eo/HRUTEtm0ZO3as7Nixo8uDV69eLfPmzUt+XF9fn/wh3HrrrVJWViaTJk2SSZMmicvlkvHjx8uTTz7Z4zeORCLi9XqTfxI/6D179oiISDgclnA4LCIioVBIIpGINPhtwQMxeWhbREREAoGARKPR5HUsFhMREb/fn+yLz+dLXnu9XjFNM3ltWZbYti1er1ds2xbLspI/LNM0k9fxeFx8Pl/y2u/3i4hILBaTQCAgIiLRaDR5HYlEJBgMJq9DoVCvfRJxCtXENfvUe58OHjwoDQ0NEo/Hs6ZP2fg+ZUKfQqGQNDY2is/ny5o+ZeP7lAl9sixLPvjgg+Tns6FP2fg+ZUKfLMuSbdu2SSwW0yqwkju5n3/++ViwYAEWLFiARx99FHfddRc2b97cZbTL7/fj+OOPx4svvojp06fj5ptvRl5eHu65555uI2OTJ0/G448/jlNPPVVrJE1nV1QA+MRfTEzxcEf34Ug3I0TMCuliVkhX56wA6Dc3ySrl/vvvx4IFC3DnnXeiqKgIq1atAgDcfvvtKCsrww033ACPx4MHH3wQV111FUzTxIwZM/Db3/72Y+hWh6smKfzkbRtRSzDCxUWJw0lRUREkM052ogzHrJAuZoV0dc6KzlYNQ+YswoQtBwSnPGbib5e48KkJQ2YjehoAlmXhnXfewfTp0+FyudLdHMpgzArpYlZIV+esBIPB7DmLMGHGaGCKB3jio4yoC+ljFAwGUVNTk7xzhKg3zArpYlZIV6pZGXILmZRSuGqygd+8a2P8SODySQZOOxbcw2QY4IGspItZIV3MCunqnBWdzAy5ESwA+OYpBj41QeFnW22c8RcTX3jOSneT6GNgmibq6uqSe5MQ9YZZIV3MCulKNStDssAaP1LhkQvd2HedG1+cqvBWG6cLh4NwOIza2trkJnJEvWFWSBezQrpSzcqQmyLsLMdQmFas8FQjC6zhwOPxoKmpKd3NoCGAWSFdzArp6pyVrJ0i7GxMHtAWBezMuBmSBpFpmli/fj2H8qlfzArpYlZIV6pZyYICS8EW4FA03S2hwRaJRLB06dLk2VJEvWFWSBezQrpSzcqQ2wfrcC+02Dh/rYV3a92YNop3EhIREdHg0qlZhv4I1ginqNofzYg6kQZRPB7HmjVrkqedE/WGWSFdzArpSjUrQ7/AynP+3s/R3awXi8WwYsUKxGKxdDeFMhyzQrqYFdKValaG/BRh3Bbk/sbEb8514d9PHPL1IhEREWW4YTFFmGMojB4B7I9kRJ1IgygWi+HBBx/kb5rUL2aFdDErpCvVrAz5AgsAxozgFOFwwLUSpItZIV3MCulKNStDfooQAGY/YeLEUcCq84b0vqlEREQ0BAyLKULAWeg+UCNY/2wTZEjNSYeJRqNYsWIFolFuekZ9Y1ZIF7NCulLNCgusTrYeEJz6ZxMv72GBlYksy0JdXR0si4d7U9+YFdLFrJCuVLOSFXNqY/IU9kfso36dDc3OazQGj/qlaBCMHDkSa9asSXczaAhgVkgXs0K6OmdlWJxFCAzcCNbzzc7I1T7ekZiRotEo7rjjDg7lU7+YFdLFrJCuVLOSJQWWwqGYsyfWkbJF8GL71GBreKBaRgPJtm00NTXBto9+tJKyG7NCupgV0pVqVrLiLsInd9m48mkLe77gxtiRR3Ye4dttgpl/NuFWwL+dqPDAOVkxe0pEREQDbNjcRVgyAMflPN9iI9cAzh6nsI8jWBmJp96TLmaFdDErpCvVrGRFgTUm7+gPfH6+RVBdqjCxEGjlvzMiIiI6ClkxRXgwKjjmdyYenePCNcelXjPaIih92MRXqgyETOCJj2y899mclF+HiIiIst+wmSIszgVcCtgXPrJasf4g0BYFzh+vUJLHEaxMFQ6HsWjRIoTDnMOlvjErpItZIV2pZiUrCixDKRx7FFs1PN/srL+qLlUoyVPwxoCYlREDe9SJYRioqKiAYWRFbGkQMSuki1khXalmJSumCAGgak0cF1cY+HmNK+Xnzn/GRGsYePFyN/7aYOOy9RaaPu9GecGR3ZFIRERE2WvYTBECid3cj6xW3LhXcM44p5hK3JG4j9OEGScUCqG2thahUCjdTaEMx6yQLmaFdKWalSwqsI5sitAWwd4wMKnQKbBK852/j3Q9Fw0el8uFmpoauFypj1LS8MKskC5mhXSlmpWsmSK8/iULr+8XbP5MahuEtkUEYx428dgcF64+zkAwLih8yMTvL3DhCydkTf1JREREA2SYTRHiiKYIE1OBianBghyFfBdHsDJRMBjEvHnzEAzyNG7qG7NCupgV0pVqVrKmwCo5winCRFGW2KwUAErzuVVDJsrJyUFtbS1ycrhHGfWNWSFdzArpSjUrWXPg3pg8haAJhE1Bvlv/7r/EsTgl+R2fK8lTHMHKQLm5uVi0aFG6m0FDALNCupgV0tU5KzrH5WTNCNaY9im+thRHnvZHAQVgdG7H53RHsF5qsRGMsxD7uASDQdTU1HAon/rFrJAuZoV0pZqVrCuwUt1eYX9EcMwIwGV0jHqV5KHfA59jluCCv1r4/U47xZbSkcrNzcXSpUuRm5vb/4NpWGNWSBezQrpSzUoWFVjtBz6nuNB9X7jr9CAAlOQr7OvndfZHAEuAJv7S87HhWgnSxayQLmaFdKWalSwqsJy/Ewvdm4MCnR0o9kcEY0Z0XbNVmge09jOClRgpawlxivDjEggEUFVVhUAgkO6mUIZjVkgXs0K6Us1K1hRYBW5ghAvYclBw7XMmyv9o4s8f9V/87Iv0PILliwPRPs4jTIxwtXDz349NXl4eVqxYgby8vHQ3hTIcs0K6mBXSlWpWsqbAUkphTB7w/96ysb5JUJIHPNusM4LVMfqVUJpYz9XHKFbia80cwfrYuN1uzJs3D2531tz8SoOEWSFdzArpSjUrWVNgAcAXjjfwtSoD7/2LG5dPVNi4t/8F6Psj0mUPLKBjRKuvBfMcwfr4+f1+VFRUwO/3p7splOGYFdLFrJCuVLOSVSX7T87qOB9o9lgDD+2w4I8JPLm974u1L9Kxi3tCSXvB5RRRPT83UXy1hgHTFrgN/b236Mjk5+djzZo1yM/P7//BNKwxK6SLWSFdnbOic+BzVo1gdTZ7rIItwGv7ep/CC5uCoInuI1jtBVdfC90TU4TSz+No4LjdbtTU1HAon/rFrJAuZoV0pZqVrC2wThwFjB4BbNzbe4G1/7BzCBMKchRGutHnVg37IpJcu8Vpwo+Hz+dDUVERfD5fuptCGY5ZIV3MCulKNStZW2AZSqGmVGkVWIcvcgf636phXwQ45Rhn5IsL3T8eBQUFqKurQ0FBQbqbQhmOWSFdzArpSjUrWVtgAc40YV2rwO5lP6x9PRz0nNDfZqP7I4LKUQqG4gjWx8XlcqGqqgoul6v/B9OwxqyQLmaFdKWalawvsLwxYPvBnr/e2xRh4nP9jWCNG+mMdHGz0Y+Hz+eDUopD+dQvZoV0MSukK9WsZHWBNatEwaWAja09F0D7I4I8FzCyh/Vqpfkddwru8gu2HOh4DcsWtEWcuw3HjzzyEazN+2yU/yGOthSP9xmuCgsL0djYiMLCwnQ3hTIcs0K6mBXSlWpWsrrAKsxROOUY9LofVmKLBqV6mCLMc6YIn2u2ceqfTdQ+Yya/diDq3D1YkgeMH6nQEj6yAun5FkFzCPj7bhZYOpRSKCoq6vH9IuqMWSFdzArpSjUrWV1gAc5+WK/sEby618adb1r45VYr+bWednFPKM0HdvmBuX+zYCjgA78zcgV0jGyV5OOoRrC2to+KrW/qf0NUcjZ5Ky4u5oaA1C9mhXQxK6Qr1awMgwIyo95RAAAgAElEQVRLYYcPqHnSwm2v27jlVRsRM1Eodd/FPaF8pIIpwL+dqPDQeS7EbWB3eyGVWPxekqdQNlId8V2EWw46z3u6qevB1G/uF2w/yFGtw3k8Hni9Xng8nnQ3hTIcs0K6mBXSlWpWsr7Aunqywq8/aaDuChdeudwFU4C32pziZX8Pu7gnzJ+i8NLlLtx/tgsnFjtF2Ae+9sKsffG7M0UI7A2h1zsVe2PZgm0HgUsnKDSHgPr2hfimLbjiaRM/2Gz1/QLDkIjA5/N1KUaJesKskC5mhXSlmpWsL7Dy3Ao3VLpQPdbA6WMUcg1g075EodT7CFaOoXD2OANKKUzyOAfmfNA+KrgvInApYNQIZw2WKR13JOp63wdELODGkwzkuYCn26cJn9glaAoCe7k7fDeBQAATJkxAIBBId1MowzErpItZIV2pZiXrC6zOcl0KM49VyQJrf7T3EazORrgUygs6jWC1r90ylHMXIdCxDssfEzyz24Zp913hbm2fApxVonDuOIX1Tc7Hv6p3Cq3WI1w4n82KioogIigqKkp3UyjDMSuki1khXalmZVgVWABwZonCpv3O5qNtfSxyP9wUj8KH/u5Ti+NHOiNgib2w7n7bxsV/s3DCn0wsf9uCN9ZzobTlgKAkDxg7UmFuhcKLewSvtdp4oUUwq0ShNcURseHAsizU19fDsjh9Sn1jVkgXs0K6Us3KsCuwZpUovHsIaAgAlvS8i3tPphR1nSJMPG9c+wHsze0jWE/usjGn3BmV+u4mGxV/NPH1jRbe93UttLYeFMwY7bzGvAoDEQtY8IKFspHA9dMNeGNA1OIoVmfBYBA1NTUIBoPpbgplOGaFdDErpCvVrAzLAkvQsTVCSb7e847zKHzg71jknhjBynUpjGnfzX2XX/D2AeDLJxr43QVu7PqcG9+YYeCP79uY+icTD77TsR3D1oOCGe1nGVaNdhbLbz8E3HCSgbL2Y472cR1WF4lDNjmUT/1hVkgXs0K6Us3KsCuwTiwGCnOAvzW2n0M4QnMEy6PQGgYCccG+iKAkv+N5ib2w/tpow62AeRNU++cVfvQJFxo+58ZVkxX+31sWbBFETMEOL3Bye4GllMLccmcB/uLpBkrbR8c4TdiVaZqoq6uDaZr9P5iGNWaFdDErpCvVrAy7AstlKJwxRmFD++7puiNYU9oL1g/9HTvAJ4zPV2gJCf5vl+Dc8QrFuV2Ltny3wi0nG/jAD2zYLXjH60xPzhjd8Zhlp7vwl4tdGDtSobS9TVzo3lU4HEZtbS3CYQ7tUd+YFdLFrJCuVLPSwyl82W9WicILLU7xcswIvedM8XTshXX4/lnjRwJvtAnePQT85Myea9bZYxWqRgP3v2PjyknOY6pGdxRixxUpHFfkfJx47b4Omx6OPB4Pmpqa0t0MGgKYFdLFrJCuzlnROfB52I1gAcCsMU4hM3oE4Db0pgjH5gP5LuDNNkHcdnZxTxg/UmHLASBmA5dP6vlHqpTC9dMNPPGRs43DpEKgKLfn753nVijKAVp5CHQXpmli/fr1HMqnfjErpItZIV2pZmVYFlhnlnYdKdKhlMJxHuAfrd2nFhN7YZ00Cji+qPeC7dqpBtwG8PAOSa6/6k1pPkewDheJRLB06VJEIlycRn1jVkgXs0K6Us3KsCywJhU6+1/pbtGQMKVI4bV9HecQJiT2wrpsYt8/ztEjFD47xbmLccbo/gosxTVYhyksLER9fT0KCwvT3RTKcMwK6WJWSFeqWRmWBZZSCuePVzg+xbM9j/MoHIg6151Hvya3v86Vk/ov2K4/yfmRn9LfCFYe7yI8XDwex5o1axCPx9PdFMpwzArpYlZIV6pZGZYFFgD87nwXHjjHldJzpnQqyI7tVGB9YozCm1e78clx/f84a8YaeOoSF64+TmcEK6XmZb1YLIYVK1YgFouluymU4ZgV0sWskK5UszIs7yIEnK0TUjWlqOfF8UopnHqs/utcMqH/QsxZg8Upws4KCgpQV1eX7mbQEMCskC5mhXR1zgrvIhxgia0aUlkcf6QSU4QiLLISYrEYHnzwQf6mSf1iVkgXs0K6Us1KssDasWMHZs+ejWnTpmHWrFmor6/v8Qlr167F9OnTMXXqVFx99dXJKi4YDOKss87CzJkzMXPmTFxyySX46KOPjr5HGSSx1qokxcXxR6I0XyFqAX4uC0jiWgnSxayQLmaFdKWaFSXtQyQXXnghvvjFL2LBggV49NFH8ZOf/ASbNm3q8uBAIIDjjz8eL7zwAqZPn46bb74Z+fn5+OlPfwrbthEMBuHxOFXIz372Mzz//PN44okntBri8/lQXFwMr9eb0WdCjf19HLNLFf4yd3BnV59rtnHhXy3s+Bc3Tige/IKOiIiI9OjULAYAtLa2YvPmzbj22msBANdccw0aGxuxc+fOLg9+6qmncNppp2H69OkAgJtuugmPPPKI80KGkSyuRAQ+nw9KZV9hcGaJQmU/WywMhI7zCDlFmBCNRrFixQpEo9F0N4UyHLNCupgV0pVqVgwAaGxsxPjx4+F2O6MySilMnDgRDQ0NXR7c0NCASZMmJT+ePHkyWlpauuxqOmfOHIwbNw5r1qzBf/3Xf/XZUJ/P1+UPgOQZP5FIJLmZVzgcTnYoFAolr4PBYHIuNBgMJoftAoFAsk1+vz957fP5YFlW8tq27WQxKCKwbTvZDsuyktemacLv9wMAHrtQcOt0p43xeBzBYBCAMzebuI5GowiFQsnrI+lT4jzCZr+l3afv14Xw2AdWyn0yTROBQGDQ+3S079PBgwexceNGxOPxrOlTNr5PmdCnUCiEuro6+Hy+rOlTNr5PmdAny7LwyiuvJB+TDX3KxvcpE/pkWRZefPFF/fV6IiKbN2+WadOmSWezZs2SDRs2dPncPffcI4sXL05+HAwGxTAMicfjXR5nWZb88Ic/lBtvvFF6s2zZMgHQ7c91110nIiJLliyRJUuWiIjIwoULZdmyZSIiMn/+fFm+fLmIiMydO1dWrlwpIiLV1dWyevVqERGprKyUdevWiYhIeXm5bNy4UUREPB6PbN26VdqnRaWxsVG8Xq8AEK/XK42NjdL+I5GtW7eKx+MREZGNGzdKeXm5iIisW7dOKisrRURk9erVUl1dLSIiK1eulLlz54qIyPLly2X+/PnJfi5cuDDlPpmWLbgvLIsf/odWn/aHbcGvg3L2Y/6M7VM2vk/sE/vEPrFP7NPw61PnfvQGIiJ79+4Vj8eTLJRs25axY8fKjh07ujx49erVMm/evOTH9fX1yR/C4VpaWqSwsLDXbxyJRMTr9Sb/JH7Qe/bsERGRcDgs4XBYRERCoZBEIhERcYq6xHUgEJBoNJq8jsViIiLi9/uTffH5fMlrr9crpmkmry3LEtu2xev1im3bYllW8odlmmbyOh6Pi8/nS177/X4REYnFYhIIBEREJBqNJq8jkYgEg8HkdSgUOqI+lfwuKnds0uvTg9stwQMxyf9NTCJxK2P7dDTvU2trq9x+++0SCoWypk/Z+D5lQp+8Xq8sW7ZM2trasqZP2fg+ZUKfIpGI/OAHP5C2tras6VM2vk+Z0KdIJCK33npr8r8xWgWWiMh5550nq1atEhGRNWvWyBlnnNHtwT6fT0pKSmT79u0iIvKVr3xFbrnlFhFxCqoDBw4kH/vzn/9cZs+e3es3PpxOY4ebGWti8tVXTK3HXvzXuIx7OCZ4ICZ1e6xBbll6hEIhWbhwYfIfD1FvmBXSxayQrs5Z0alZkncRvvvuu1iwYAHa2tpQVFSEVatW4eSTT8btt9+OsrIy3HDDDQCAJ598Et/+9rdhmiZmzJiB3/72tyguLsZrr72G66+/HpblrAE6/vjj8bOf/QzHHXec1lTlULmL8ON00V9NlOQB/3uRG2FT8MM3bHz3VANFuV0X2e8LC8b/wcQvagx8+zUby0438O2Zqe1ST0RERHp0apZkgZVuLLC6+9yzJvaGgGcvc+N/37fxuWctPHKhC/96fNf9Ye/fbuErr9ho+YIbn3/OwggDWHtJ9m3SH4lE8L3vfQ933nkn8vI+ht1eachiVkgXs0K6OmclFovpbdNAmak0TyW3aXjsQxsAsHFv93r4T+8LLixTKMlXOHecwst7BZadEXUzERHRsMQRrAz2n29a+MVWGx99zo2Sh02YNnDyMQqbP9MxOrUnJCj/o4kHznZh4XQDL7TYOH+thbeudmPmsdm3DxkREVG6aW80SpmpNF9hfwR4qlEQMoGbqwy81SYIxjtq4sc+tGEA+Mxkp5g6s0Qh1wBebLHT1OrBEw6HsWjRouQeJ0S9YVZIF7NCulLNCgusDFaa52wOtvIdGzNGAwumGbAE2LSvo8D60weCiysUjmnf+T3frXBmicKLezJiYHJAGYaBiooKGAZjS31jVkgXs0K6Us0KpwgzWN1eG7OfdHbBvf10A7efZmD070x891QD3z3Vhd1BwYQ/mlh1ngtfmtbxhn9/k4UH37Wx5wvurDyuiIiIKJ04RTjEleZ3FEfXTDbgMhSqS1VyofujH9rIMYArJ3Utos4dp9AaBt7zfqzNHXShUAi1tbXJIxGIesOskC5mhXSlmhUWWBmstP2O4eOLgJOPca5nj3UKLBHB6g8E8yoURo3oWmDNHqtQmANcus7En953zn7KBi6XCzU1NXC5uMcX9Y1ZIV3MCulKNSucIsxgIoLi35q4qdLAXWc6b+jTTTbmPWXh75e6cPHfLDx8vgvXTu1eJ287KPjOaxbWNgiqSxWeusTVrRAjIiKi1HGKcIhTSmHDp134/qkdb9NZpQoKwC2vWhjhAq6Y1HPRVDla4f/mufHsp13YckDw4zf7v6vQFxNc/XcTH/kzoubuJhgMYt68eckT1Il6w6yQLmaFdKWaFRZYGW5WiQFPp6NxinMVqkYDbx8ALp2guh2bc7gLygzcOtPAL+tt7PD2XTites/GXz4SrP4gM7d4yMnJQW1tLXJyctLdFMpwzArpYlZIV6pZ4RThEHT9SxYeeMfu8dicnoRNwYmrTZwxRuEvc3s+QscWwbTVJt73AXPLFdZfmn1H7RAREQ0EThFmqU9NUCjNBy6bqLemKt+tcPdZLjy+S/Bcc8+jU081Ct73Adccp/DSHkHU6rnuFpEeF8339viBFAwGUVNTw6F86hezQrqYFdKValZYYA1BV002sOcLbhTm6C9a/+wUhZpShW/9o+cC65dbbcwqUfj+qS6ELaCuhzMPAeCKpy1M+V8TP9tiwRsTbNht45KnTBSuMrH1wOAWWbm5uVi6dClyc3MH9fvQ0MeskC5mhXSlmhVOEQ4jj+y08fnnLOy7zo0xeR3F2faDgspHTTx8vgufP0Gh9GETN1Ya+NEnut6Kuj8iGPt7E6cdq/DPNic2pgCnHgvs9AHfOcXAD07nrc5ERJTdOEVIXZxV6hRVnY/aAYB7t9kYmw/UTlEwlMKFZQrP7O5ed/+1QSACrJ3nwq7PuXHXmQb+fqkLb3zGjYvLFZ5qGtxaPRAIoKqqCoFAYFC/Dw19zArpYlZIV6pZYYE1jBznAY4dAbzW2lEImbbgDzttLDrRwAiXU4BdVK6waZ/AF+taMD25y8ZZpQrjRiqUFSjccooLc8oNKKVw6QQDr7YKDkQGr8jKy8vDihUrkJeXN2jfg7IDs0K6mBXSlWpWWGANI0opnFmq8FqnEaw39gu8MeDSTgvmLypzDpV+oaXjcRFTsL5Jet1365IKBVuAp3sY+Roobrcb8+bNg9vNOxypb8wK6WJWSFeqWWGBNczMKnEKrMTSuw3NgsIc5/MJxxcBkwqdryVsaBYETeDKST1HpqJQ4eRjgKcaB28PLb/fj4qKCvj9/kH7HpQdmBXSxayQrlSzwgJrmDmzRGF/BPioPR/PNgvOHaeQY3QUWEopXFSm8MzujmLpiV02TigCThrV+2tfOsHAuiaBrXnfhIhgd1B/xCs/Px9r1qxBfn6+9nNoeGJWSBezQrpSzQoLrGEmMVL12j5BxBS8vEdwUVn3ab9PTTBQfxC4bbMF0xb83y7BlZOc9Va9+dQEhdawM+2o45f1Nir+aOKFFr1RL7fbjZqamgEfyg/EBaadETfT0gAZrKxQ9mFWSFeqWWGBNcyU5itMLnQKrFdbBRELuLC8ewyuOU7hzlkG/vNNG2c+bmJPGLiyl/VXCbPHKhTlOJuW9ucjv+B7m2y4FXDLq7bWqJfP50NRURF8Pl+/j01F9RMmVmzJzOOB6MgMVlYo+zArpCvVrLDAGobOLFV4rVWwoVlw7AjglGO6P0Yphe+e6sK6T7mwKwCU5DkFVF9yDIWLK1S/BZaI4IaXLRw7Anhirguv7xc88n7/BVZBQQHq6upQUFDQ72N1+WOC+oPAlj42SW0ICP78oV4RSJlhMLJC2YlZIV2pZoUF1jB0ZonC6/sFTzcJLihz9r7qzdwKA1uuceO5T7vhMvrfOf6SCgP/2Cc4FO29GPnDTueOxP/+pAuXTjTwmckK333NQtjsu4BxuVyoqqqCyzVwm5luO+R8z119bGtyx+sWrnnGwieftPBWG4usoWAwskLZiVkhXalmhQXWMDSrRCFsOdOEPa2/OlxZgULVMXrH8lxY5mzX8PKenguRl/fY+HqdhX89XuGy9jsSf3KmCy0h4Bdb+56m8/l8UErB5/MN2NmHWw84fzcEej978ZndgksnKPjjgjP+YuLBdzidmOk6Z4WoL8wK6Uo1KyywhqHTxygkBqMuLBvYCBznASYUAM+1dC1YbBH85C0L56+1UDVa4d7ZHb8BTC1WuKnSwJ1v2WgN9144FRYWorGxEY82j8TY35vY6e35saYtuHCtiZf39F8I1R90XqMpiB4Xuu/wAo1B4OYqA29e7cacMoXf7WCBlekSWSksLEx3UyjDMSukK9WssMAahgpzFKpGAxUFwNTigX1tpRTOH6/w/GF3Bv77CxZu3WTj2zMNPPtpF47N6zoidvvpBlwKuOP1jucF4oKL/2bi9+0FjVIKIwqKcMcbzuaoX6+z0NNRmq+2Cp5rEaz+oP9Rrq0HnX3ALAGaQ92//kyzjRwDOKd9K4uzxylsP8RpwkynlEJRUVGfd70SAcwK6Us1KyywhqmvVblw68y+t104UueXGXhzP5LrsHb5Bb/dIfhljYE7Z7ng7mEt17F5Cj84zcAD79jYftDZCHXxSxae2S246RULjQGB3+9H6We+hd0hwZ2zDPytUfB/Dd2LncQi+xc1tn+oPyi4uNxpT0/ThM/sFtSUKhTmOI+pHO3sI7avj5E2Sj+/34/i4mJuHkn9YlZIV6pZYYE1TC2abuArVYOzqPOC8QoC4MX2dVgP77BR4Ab+7cS+43ZzlYGJhcC3X7Nw33Ybj7wvuP9sFwpzgJtesZA7shDli36Jz00xcOtMA5dUKHxto4XQYYvj1zXZ8OQAbx8ADvax2P5gVNAccjZIBbovdLdswbPNgovKOwrCylHO9TaOYmU0j8cDr9cLj8eT7qZQhmNWSFeqWWGBRQNusgeYWAg83+yMRP1uh41rjusYBerNCJfCXbNcWNsg+NpGG1+pNLD4JAP//Unnc5/5u4WWsML3T1VQSuGXs53F8Xe91TFStTckeGM/8M1TDAiAV3pZbA90rL+qLlU4ZoQz0tbZ6+3nNM7pVGCdUAy4FbDtIAusTCYi8Pl8PU4hE3XGrJCuVLPCAosGXGId1nMtNupaBTt8wJem6kWtdorCeeMVzihRWF7tPOeqyQauOU5hXRNgv/pHlLuDAJzF8becYuCet23sCTmBTxw2fcNJBsoLOkbRerL1gMCtgGnFTkHYcNgI1jO7BZ7DzmnMMRSmFgPbDmr/OCgNAoEAJkyYgECgj/03iMCskL5Us8ICiwbFBWUG/tkG/HyLjYmFwPka20EATnH29KdcePlyF0a4Op5z72wXao9TeP9nX0JRUVHy8986xUCuC7jrn84o1lONNs4Yo1Car3DuONV3gXXQKa5yXQqTChV2HbYGa0Oz4PzxXc9pBJx1WJwizGxFRUUQkS5ZIeoJs0K6Us0KCywaFOe3r8Na86Hgi1ONPjczPVyuS3VbCD9upMIjFyiEG7fBsqzk50ePULjlZAO/3majIeBsnnpJhfPcc8cpvL5PEIj3XAzVHxRUjXYeO6lQdVnkHmo/p7Hz9GBC5SjFKcIMZ1kW6uvru2SFqCfMCulKNSsssGhQTPYoTGrfKuSLmtOD/QkGg6ipqUEwGOzy+a/PMFCYA3x2g4W2qHPoNACcO96AKc62DT3ZelAwo30D1YmFziL3xNz6K3sEMRu4qId9wipHK+wJAwciLLIyVW9ZITocs0K6Us0KCywaNJdPNDCnXGFq8cBsBZE4ZPPw4dmiXIVvn2Lg1VZBcS5wVqnz/U4aBYzJA15s6V4ItYYF+yPoMoIVNIEDUefrz7UISvOBytHd25G4k5D7YWWu3rJCdDhmhXSlmhUWWDRofjHbwLpLBm4rCNM0UVdXB9M0u33t5ioDpfnA3PKO6UWlFM7pZR3W1vbDnWeM7hjBAjoWuj/fvv6qp33CphUDhgK2HRqIXtFg6CsrRJ0xK6Qr1aywwKJBYyildUC0rnA4jNraWoTD4W5fK8hReOkyN341u2tBd844hVdbpdvZhfUHBbkGcHz7LyKTCp127go4a7Y27RNcML7ntue5FY73cKuGTNZXVog6Y1ZIV6pZYYFFQ4bH40FTU1Ovm7xNG6UwdmTXomhuuYGoBTywveuu7pv2CU4aheRoV2k+MMLlFFgb9wpMcXak703l6I93obstgvu3d99UlXrWX1aIEpgV0pVqVlhg0ZBhmibWr1+f0lB+1TEKN55k4Lub7ORGousbbfx+p+ALJ3TEXymFiQXOFOFzzYKx+cCJfZzT+HFv1bB5n+CGl2089iELLB1HkhUanpgV0pVqVlhg0ZARiUSwdOlSRCKRlJ5315kGRo0AbnzFwu6g4NrnLcyrcDYp7WySx9kL6/mW3tdfJVSOUmgKAr5Y7wXPq3ttPP5R/+ch6qhrvxOybi8LLB1HmhUafpgV0pVqVlhg0ZBRWFiI+vp6FBYWpvS8olyFX3/ShacaBTVPmBjhAn53vqvb3lyTCp21WZv2CS7oZ2PUytF930kYtwVfeM7Cdc9bfRZhuhKFVV3rwBRs2e5Is0LDD7NCulLNCgssGjLi8TjWrFmDeDye8nMvn2Tgs1MUmkPA/17oQkl+9wJqYqHCO4cAS4Dzx/f9T2P6KEABqO/lyJxV7wo+9ANh0zns+mi92upsG/H2AfS6cSp1OJqs0PDCrJCuVLPCAouGjFgshhUrViAWix3R81ed58I/r3bj7HE9xz5xJ+G4fGcrhr6MdCtUjQZe3tO9eIqYgh+9aeFfj1f4zGSFe7fZR3WQbEtIsCsA3HSSAVuA13rZOJU6HG1WaPhgVkhXqllhgUVDRkFBAerq6lBQUHBEz893K1Qd0/vUX2Ln+fPL+l5/lTCn3MAzu6Vb8XT/OzZaQsAdp7twc5WBdw4BzzYfeVGUmB78txMNFOd2rMei3h1tVmj4YFZIV6pZYYFFQ0YsFsODDz44aL9pJkawzu9l/6vDzSlXaAwCO30dnwvGBXe+ZeNLUxWmjXIOnK4aDfzXtr6nCbceEPx8iwXT7l48vdoqqChwpjCrSxUXumsY7KxQ9mBWSFeqWWGBRUPGYK+VmOwBfnueC9eeoPfP4txxCm4FPLO7o3h68F0bByLAbac7G54qpXBzpYEndkmXw6Q7OxARfHq9iSWv2vjUOqvbGYd1ewU17cf/1JQq1LV2HzWjrriuhnQxK6SLa7AoaxUUFGD9+vWDNpSvlMIXpxkoyNEbwfLkOiNKG9qn/0QE9223cfVxCpM9Ha9x7VQDhW7g6xu7bxRqi+CLz1sIxIGHz3fhjf2Cs54wsb19E9OYJdi8X1Aztr3AGqtwIAq85x2IHmevwc4KZQ9mhXSlmhUWWDRkRKNRrFixAtFoNN1NSbqoXOHZZoFlC17cI3jnEHD99K7/rApzFP7nPBfWNwnOftJMbngKAHf/08ZfGwUPn+/CtVMNbLrKjREu4KK/mdgdFPzzgCBiAdXtI1hnlSoocB1WfzIxK5SZmBXSlWpWWGDRkGFZFurq6mBZVrqbkjSnXOFgFHizTXD/dhtTi9DjHlrXHGeg7ko3DkaB0/9i4qzHTZzwpzi+v9nGd081cOlE55/ilCKFZy51w62AK5428exu58zE08c4r1mc66zp4jqsvmViVigzMSukK9WsKMmQxRw+nw/FxcXwer0oKipKd3OItMRtwTG/M3HDSQZ+udXGf84y8M1TXL0+vi0iWPa6jbApODZPYYoHWDTdSJ6JmPBWm+CTT5qIWcAnShTqrnQnv7b4JRN1ewVb5ucMSB8CccEIF5AzgAdzExFlM52ahSNYNGREo1HccccdGTWUn2MonDdO4WdbnIXuC6b1/U/q2DyFez/pwm/Oc+Pus1y4odLVrbgCgFOPVfjDBS6YAswe2/Xrs8caqD8INPWyaD5V1U+Y+PGb2bVDfCZmhTITs0K6Us0KCywaMmzbRlNTE2w7s4qBi8oVLAHmH6cwJm/gRoGummzg5ctduO20rv9Mr5msMHoEcPfbR/9zaAgI6g8Czx/FPl2ZKFOzQpmHWSFdqWaFU4RER+ndQ4JTHjPx3GUuzB778fzO8uM3LPz4LRsf/qsb40ceeVH38A4bX3zewkg34P2Su8fRNCIi6opThJRVMvXU+xNHKRz8kvtjK64A4KszDOS5gJ/+8+h+636hxUauAYRMYFsv5yoORZmaFco8zArpSjUrLLCIBsBI98c78lOcq/CNGQbu225jb+jIB6GfbxF84QQFQwGv7cuIwWwioqzAKUKiIepgVDDpERP/Ns3Az2sMrfMTO2sKCCY8YuLROS78xxsWqksVHjjH3f8TiYiGOfbnEG8AACAASURBVE4RUlYJh8NYtGgRwuFwupuSEUaPUPjeqQZ+WW+jdoOFvSFBzBL87j0b5/2fiav/buJnWyy81GLj6SYbf9hp49lOx/q8sMf53erccQpnlii8lkWblzIrpItZIV2pZoW/rtKQYRgGKioqYBj8vSDh1lNdOKFI4aZXLFQ9amKEC2gOAReXO0fqfG+Tjchhe+K9cBlw7ngDzzfbmDEaKMlXOLPEwEPvWQjGRfuooEzGrJAuZoV0pZoVThESZYF9YcFtm20IgK/PMFA52imSYpbgXS/gyQGOHQHMe8rCwZjgravdmPGoiXkVBu79pAtvtQlO+7OJly534exx/B8NEVFfOEVIWSUUCqG2thahUCjdTck4JfkK953jwv3nuJLFFQDkuhROPsY5fNqTq3D/OS7s9ALfqLOx0wecP955bNVoIN+FrJkmZFZIF7NCulLNCgssGjJcLhdqamrgcvV+FA317eRjFL55inP3IQCc215g5RgKp49RWXMnIbNCupgV0pVqVjhFSDTMhEzBjEdNjHQDWzudZ7i0zsLju2x88K8Dc8YhEVG24hQhZZVgMIh58+YhGAymuylD2ki3wlOXuPH7C7re43JmqcKHfmc9V2/qDwjeO/Tx/U4WtQT2EfwOyKyQLmaFdKWaFRZYNGTk5OSgtrYWOTkcYTlaJ45SOPXYrncLnlXifHzXP22Ydvei5s39guonTVz4NxO+2MdTZJ3+Z/OIdqtnVkgXs0K6Us0KpwiJKOnONy3c9rqNmlKFP1zgwiSPU3Tt8guqnzAxbiSwwwssmObcfTiYdgcFFX80ce44hRcu544yRJQ5Upoi3LFjB2bPno1p06Zh1qxZqK+v7/EJa9euxfTp0zF16lRcffXV8Pl8AIDm5mbMmzcPJ554Ik455RRcc8012Ldv3yB0i4arYDCImpoaDuUPou+d5sKLl7nQFBRUPmri0nUmfvpPC59a56zZWv8pN378CQP/vc1G3V5nZGnrAcE36izsDg7s72p1e53X+8c+QdRK7bWZFdLFrJCuVLOSLLCuv/56LF68GO+99x6+853vYMGCBd0eHAgEsHDhQjz++OPYsWMHysrK8KMf/QiAs7r+tttuw7vvvou3334bU6ZMwbe+9a2B6RURgNzcXCxduhS5ubnpbkpW++Q4A29d7cZtpxkwbeCON2wciALrPuVGab7CV6sMfKJE4csvWfjqKxZO/bOJX2y18al1JrwDOHVY1yrINYCoBWxK8e5GZoV0MSukK9WsKBGR1tZWnHDCCThw4ADcbjdEBOPHj8fLL7+ME044IfngNWvW4De/+Q3WrVsHANi2bRvmzp2Lpqambi/86KOP4t5778Xzzz+v1RBOERJlplj76FGuq2PN1j/bBGf8xRnVWna6gYvKDVyw1sTpYxSeusTV5bFHavYTJsoLgPVNgltnGvjeabyNnogyg/YUYWNjI8aPHw+321nnoJTCxIkT0dDQ0OXBDQ0NmDRpUvLjyZMno6WlBaZpdnmcZVm49957ceWVV/bauGg0Cp/P1+UPgOQZP5FIBJFIJPm5aDQKwNnoK3EdDAYRi8WS1/F4HIAz0pZok9/vT177fD5YlpW8tm0bIgKfzwcRgW3byXZYlpW8Nk0Tfr8/eR0IBAAA8Xg8OVQYi8WS19FoNLkRWTQaZZ8GqE/Nzc2orKzskpeh3qeh8D7FwkEYYnXp08xjFTbMieCd+Qq3nOLClBw//jLHwMt7BNdtiMC27aPqkz8cw+v7bZw9TmF2qeC53WZKfWpra0NVVRX27t07bN4n9unI+hQIBFBZWYm9e/dmTZ+y8X3KhD4FAgFMnz4dXq8XWkRENm/eLNOmTZPOZs2aJRs2bOjyuXvuuUcWL16c/DgYDIphGBKPx5Ofs21bFi9eLFdddZVYliW9WbZsmQDo9ue6664TEZElS5bIkiVLRERk4cKFsmzZMhERmT9/vixfvlxERObOnSsrV64UEZHq6mpZvXq1iIhUVlbKunXrRESkvLxcNm7cKCIiHo9Htm7dKu0L+6WxsVG8Xq8AEK/XK42NjdL+I5GtW7eKx+MREZGNGzdKeXm5iIisW7dOKisrRURk9erVUl1dLSIiK1eulLlz54qIyPLly2X+/PnJfi5cuJB9GqA+PfbYY/Lhhx9mVZ+y6X36zZaA4IGY/OKNwFH16bsP/EXwQEz+sdeSS3/1vLj/2ytxy9bu09133y3r/n97dx4lVXnnDfz73Kre6K5ik627abamRXZ1UHADUcCoUYaAmjiEzpAB3lfjgjM68SQucQ46CXaS1xMjEaNEosMmjNGICyKg9BCMorIozdrd7Gvt27339/5RWnYPSz9XkFr6+zmHw+2uqq7n6fqe2796frfuXb5cxowZw9eJczrtnBKJhDz44INy6aWX5syccvF1yoQ5JRIJadOmjWzYsKHZPE4FIiIHDhwQj8eTKpRs25YuXbpIXV1dszsvXLhQxo0bl/p606ZNqV/CV+688075zne+I7FY7JRPKiISjUbF5/Ol/n31i96/f7+IiEQiEYlEIiIiEg6HJRqNikiyqPtqOxgMpp4nGAxKPB4XEZFAIJCai9/vT237fD4xTTO1bVmW2LYtPp9PbNsWy7JSvyzTNFPbiURC/H5/ajsQCIiISDwel2AwKCIisVgstR2NRiUUCqW2w+Ew58Q5tZo5TXknLG3+GJctR83TzimUsGXJtrgc9504p199HJPC52ISM215tz4q+ENcPjxo83XinDgnzikj5qRTYKVO0zBq1ChUV1ejuroaixcvxhNPPIEPP/yw2WpXIBBAnz59sHr1avTr1w933nknCgsLMXv2bADAXXfdhbq6OixbtgwFBQV6S2hf4jFY1JJAIIALLrgAW7ZsgcfjSfdw6BRCieSFo9sVKHxwkwt5xonHY/3PARs/fM9CnR+4vVJh3kgXXE3ud+sKE3tCwPs3uRGzBO3mmZg1zMC9g/SOw2JWSBezQrqaZkVEWqxZUgXWF198gerqahw5cgRerxfPP/88Bg0ahIceegilpaWYMWMGAODVV1/F/fffD9M0MXDgQMybNw9t27bFBx98gCuuuAL9+vVLFVe9evXC0qVLtQbOAotaYpom1q9fj2HDhqWOF6TM9LeDNi571cK1ZQrtC4BjMSDfALoUAbYAL9QJ/uE8hdv6KPzbOhs/6KPwfJMiq+KlBG7tY+BXlyYLqqtfM9EuH1g6Vu91Z1ZIF7NCuppmJRwO6xdY6cYCiyi3zNli4ZktNtrlJ4usmAUcjADH4oLqvgb+fagBt6HwX9tt3L7Swvf7KDx7pQtHY0D5SyYWX+vC93olzyTz8N8t/G6TjUOT3VDqzD+hSER0JnRqFpbrlDX8fj/Ky8vR2NjIIjwLTL/AhekXtNzSu62PAQWgepWFT46YmNQ7WVSN6Px1IXVVV4VffAT8x8c2Lu+icOF5Cu0LTl1oMSuki1khXU2zooPXIqSsUVxcjNraWhQXF6d7KHSW3drHwPrxbgiAh/9uo6IEKC3+uoC6rIvCVV0VZm2wcc1fLVS8bKLOd+rFd2aFdDErpMtpVtgiJKKMETEFD//dRlkxcPfAE1e/LFtQ5wfG/tXEJZ0VFl/LRXgiOvccXYuQKNP5/X4opVIno6PcU+RW+OWlrpMWVwDgMhT6tVOYNcyFJTsFH+xPXg8xZgn+aaWJW1eY2OYTZoW0MSuky2lWWGBR1igpKUFDQwNKSkrSPRRKsx9UKlx0HnDfOhsxS3DLCguLdwrWHkhepPqhjW2wcstex20fX1yQIYv6dI5wv0K6nGaFBRZlDaUUvF4vP0VGMJTCry5xYd3B5DURlzcIlo1xYestbjxykYHntgquXnMeuv+XjR+uNLEv3HLR9MVxQdf5Jv5ru/MC60iURVm24n6FdDnNCgssyhqBQABt27ZNXaOKWrfRZQZurFDY6gNeGePCdd0NFLkVHrzQhS++GwF+eyNuqUjg7T2CK141scP/dREUtwQR8+uvRQR3rbUQtYBnP7cdjePlbTY6vWjiha3OHkeZgfsV0uU0KzzInbKGiCAQCMDj8fDdJgEAAnHB3jBwfrvmeWialfogMOavJgIJYM6VLqzcK/hTnY2SPGDF9W5UtlVYtsvGP75tYVIvhUU7Bbtuc6OHJ/kz1x+y8YctNrqXKPQsUbi8q0Ifb/K2tQdsjH7dQht38t3q57e4cV4hs5lNuF8hXU2z8lWxxYPcKSdIk6uwEwGAJ1+dUFwBzbPSw6Ow5rtudG0D3PyWhT9vs/GjKgNFLuCq10x8dFhwT62F73RX+ONIF4rdwJ/qkqtRli2YutrCst2CpzfbmLLKQtVCE5NXmnir0cb4tywMO0/hkwluWAI8sM46178COkPcr5Aup1nhChZlDWaEdJ0sK/644H8OCkZ1U8h3KRwIC8a8YWLTMcCtgI0T3ejbVqH6PRMfHBBsvcWNP34h+PEaC+tuduGSzgaCCcELW2088YmNPSGgjxf4n5uTq1Z/2GJj+vsWVt/oQvsChRe22mibD/z8Ir3rJ1J6cL9CuppmBQAvlUNEdCpHooJbV1gYW65w/5BkIbRyb7Lt9+Z3XJjynoWrSxVeGt38fFsxS7Boh+CKrgo9v2wl2iK4/FULnxwRRCyg0JW8PNDOJu1GIsoNPA8W5RTLsrBp0yZYFtswdHq6WelYqPDODe5UcQUAI7sp9CgBbnvXwrE4MGvYiStQBS6Ff+prpIorIPnJxj9e5cLEXgpLrnVh7+1ulOQBc79wdvD7p0cEaw/wgPlzhfsV0uU0KyywKGuEQiGMGDECoVAo3UOhDHcmWTGUwuS+Bo7FgLsHNC+iWnJBe4U/Xe3GhF4G2hckf85zX9hI2F83CtYfsrFyr41dAYFpN28g2CK49V0T//i2haiZEc2FnMf9CulymhVeZ4Kyhtfr5dmWScuZZmXGBQZ2BwQPXnhm70Gn9zPw9GYbf9ktmNBLYelOGxPe+frdb7t8YOWNbgztmCzi/rJb8Pnx5G3ztwl+3I+txW8b9yukq2lWdDLDFSzKGqZpora2FqZppnsolOHONCtlxcmVqLb5Z1bgDO6oMKKzwpwtNjYfE/xwlYXv9VL4fJIbb1znQlkxMG2NBctOnkH+iU9sXNlV4eYeCjWfWbC/4SGyR6LyjR/b2nC/QrqcZoUFFmWNSCSCSZMmIRKJpHsolOEyKSvTLzDw1h7B9ctN9CgBXhjpwvntFK7rbuAPV7qw/pDgmS021uxPfsrxgSEG7htkYMtx4M3G0xdJh6OC/f/rLPUHI4I+C0zcU8vjuHRkUlYosznNCj9FSET0LYqYgtI/J9/xrh+fPLFpU9PWmFiwXTCwg4I/Lvj0e8kjNy5ZZqFtPvD29S78tUEw+1MblgDtCwCXAj4+LNgVBDoUAJsnutGlTfLn3ltr4Tcbbagvn+/iTmwzEp1t/BQh5RTTNPHmm29yKZ9alElZKXInP1W44oYTiysAeGKYCwUuYO0BwQNDXFBKQSmF+wYbWLE3eeqHG9+0YAnQswSwbCCQACb0MvCnUS4YCrirNnlcV2NQ8PstNn5+oYFBHYD/80Gy/UinlklZoczmNCtcwaKsEQwGcemll2LdunXaVzOn1inbsvKX3TbmfmFj8bUu5BnJIsy0Bf0XmXAZwK8uceGGCnXSS7m8tM3G7Sst/PdYF16vFyzZaWPHbW58dlRwxV8s/P5yAzP6n/5kp1Ezecmh43FgSAfAZbSeVa9sywqlT9Os2LbNE40SEWWrqCnIM05f8IgIbnjTwkeHBYejwH9eYuC+wcmCauoqE0t2Ca4pVYh+efLT8T0NjO+R/Hnz6mw8vdnGluNf/7zqquT5vHhdPqJTY4uQckoikcCiRYuQSCTSPRTKcLmSlUK3anE1SSmF31/uQjABdCkC/m//r3fr/3mpC9eVK0QsoMAF7I8AP3zPQuf5JspeSh4IP6iDwvMjXXj7eheeuszAC1sFv/6s9RwgnytZoW+f06xwBYuyRigUwrXXXot33nkHxcXF6R4OZbDWmJXV+2wUuoBLOp/+fXNDULBgh42wCfxzlYHykuYF3APrLMz+zMbSMS6IJC98vSsomNLXQHWVgUIX8Jd6weKdNoZ3VvjJAANGC6tde0MCl0LqQPxM0hqzQt9M06xYlsUWIRER6bNswc1vWXi9Ifmn4cKOQC+Pwqu7BYVuoMAAjsSAAe2BzceAK7smV8B6e09ePK3ZZ+OmtyxELODH5xt4YIiB7iV6hdbhqMCyM7Mwo9aNLULKKfF4HHPnzkU8Hk/3UCjDMSvfnMtQeGm0CzXDDXz6PTc+mpCHJWPc2PV9N/51kIF/6Wdg00Q3Nk7Mw7s3uFAfFAxeYuJn6y0cjjZ/v/7KThtj3rBwYUeFnw018PJ2G30WmPj1Z82v5ZawBY3BEx/b82UTXf9s4vyFCfzLahMf7LdxttcEmBXS5TQrXMGirBEKhTBhwgS88sorXMqn02JWzp1AXPCLj238frMNAXBLbwXLBg5EgLf3CG7prTBvlAsFLoVAXPDIRzZqPrNxz0ADTw438OEhwdTVFjYeA0aXKvzbYAPrDibvN6mXwoReBtbsF7zVaGObHxjeWeHugQYu66LQvRgIJpJtzD98bqNdvsLTl7swoMOJK17HY4KluwSXdVGoaovUQfzMCulqmhW2CImI6Jw4EhX8dqONZbttePMUOhUCI7oo/OvgE4/R+t0mCz9Za+Oi8xQ+PiIY2hGY1s/A3M8FHx5O/kn6j38w8OBQI1UI2SJ4o0Hwq09trNqXvI83D7ABREzg5h4Km48LtvuBn19o4N+HGqlTXgDAbStMLNiRfFxFCTC+h4E7Bxjoe5JzkxG1RKdmYYFFWSMWi+F3v/sd7rjjDhQUFKR7OJTBmJXMt3SnjbtrLfxkgIF7BxlwGwoigvf3J09NMbzLqY9gqQ8KPjsq2HhUYAowpW/yYP2oKXjsYxv/+YmN67srLBmTPK/YVxfZfvZKF0rbJC9B9PJ2G4ejwA3lAve21Rh39ZXwFOYhYgK+uMAW4Id9DR7/RSlN9yuxWIwFFuWOcDiMKVOmYN68eWjTpk26h0MZjFlp3ZY3JA+sn9hL4bcjXBi0xMSlnRWWjfn6/F5RU/DSdsFvPjOx6XACtis/9XhPHmDagKGAfxts4L7BBkrymhdaX/3p5PnCWo+m+xXTNFlgERFR67Nkp41bVljoXAhELWDzJDe6nWY1yhZB1Ep+StJlKByNCh7/xMb/22hDKaCsDVDaRkGp5KkuGkNAkTvZbuxerNA2Hyh2A8V5Kvm/G8h3AQk7+e+yLgpjy79elYuagtfqBX28CoO/PHt+MCFYdzC5gndl15OfuZ8yA1uElFNisRgef/xx/PSnP2Xbh06LWSEAmLfVxj+vtvDCSBcm9z15y7GlrOwOCJbttrE3BOwJJ/9cdi9WKC8GIhZQH0wWXIEEEDSBUEIQMoGQCcStZJGlkDzo//ZKhd+McOHvhwR3rLWw3Z98Dm8e0MOTPO2F9eVf5IHtgXsGuvCDSoUiNwutTNA0KzotQvc5Hh/RN2bbNhobG2Hbrecs0/TNMCsEAFOqDPxjTwVv/mlWrlrISg+Pwt0DT38tx5aICOZvE9xda+G/d5sIJoCruym8cq0Lvrhg9X7BroDgjv4KV3QxcDCaPJv+v6yxcHctcH13hZt6GAgmBJ8eTRZ648oVbult4LxChX1hwXt7BUoBY8sUOhSe/tJKaw8IPj0qKHYrlOQBfdsqDGiPFk8Y29o53a9wBYuIiOgc2B8W/OIjG5d3VfhBn5ZbgNv9ggXbbSzZZeOjw4BbAf3aAR0LFd7fL1BItih3BL5+jKGASzsplBUnW5OWAN3aAD1LFGwBXtxmY6sveT+7yV//ToXA1aUKwzopDGqvUNVWwZ9IjtmfANrmA+3ygZ4ehc5FLMTYIqScEo1G8eCDD2LWrFkoLCxM93AogzErpCtbsnIwImibDxS4ksXNoYhg4Q4bX/iAy7sojOqmYAqwvEHwZqMNXxzIMwClgL1hwe5Asm35vV4K/1xlYFSpgmkDgQTwyRHBu3sFK/cJPjmSbHGezgXtgJHdDNgCbDwm+OK4wJsPlLVJFnblxcn/+3gVrujSfEUtZiWPMTvVapk/njwWLhOLuKZZicfjbBESERFlu/9dcHQqUrhjwImty6n9FKb2O/nxZiLSbNUs3wV0dAGjyxRGlyW/Z4tgZwCo8wnaFwDd2ih48wBfHDgWB7YcE7y3T/Del9e+HNhe4TvlBoImsCck2BMCPjpsY08YCJvJ488GdQDa5StsDyRvdyukCrHyL/93G8CqfYL1hwSWAP9wnsKNFQpFbuDTo4LPjycvz/TdCgPXlCVX447FgLidXH3rWJh8rpAJHIkmL+d0JCo4Fkuu1uW7gDbu5GWfepQA7i/PkfZtfhqUK1hERER0VokIdgeB1fsEq/bZiFjJFa1eHoWolfwUZuOXn8ZsDAnCVnIl7ppSA0Vu4PV6G8sbk8VWsmUJ/P2wYOOxkz+fSyX/xTUOj3IroEMhEEokC7KeJcD3Kw3c1ttAH2+yIHMpIN916qKLLULKKZFIBD/5yU/w1FNPoaioKN3DoQzGrJAuZiVzWXbywP2m7cSdfsHag4I2LqBdAZBvAAcjwP5IshjrWKDQsfDr/9sXACLJwiuQAHb4BXV+wdEoUJIHtHEr/P2wYNFOG8dizZ+/QwFQXgx0KlSwBIiaNnbu2I7B5/dGiRXC0ps7skVIucEwDJSXl8MweI1yOj1mhXQxK5nLZZy4gtTLq9DL+83aeZ2LkqtoY05y21OXGVi1T3Akljz4P24D+8KChiBwOCrIdwEuASKuMIrdCr5Iy8/HFSwiIiIiB3RqFpbslDXC4TAmTZqEcDic7qFQhmNWSBezQrqcZoUFFmUNl8uFESNGwOU6s5P+Ue5jVkgXs0K6nGaFLUIiIiIiB9gipJwSCoUwbtw4hEKhdA+FMhyzQrqYFdLlNCsssChr5OXlYdKkScjLy0v3UCjDMSuki1khXU6zwhYhERERkQNsEVJOCYVCGDFiBJfyqUXMCuliVkiX06ywwKKskZ+fj5kzZyI/Pz/dQ6EMx6yQLmaFdDnNCluERERERA6wRUg5JRgMYsCAAQgGg+keCmU4ZoV0MSuky2lWWGBR1igsLERNTQ0KCwvTPRTKcMwK6WJWSJfTrLBFSEREROQAW4SUUwKBAMrLyxEIBNI9FMpwzArpYlZIl9OssMCirFFUVIRFixahqKgo3UOhDMeskC5mhXQ5zQpbhEREREQOsEVIOcXv98Pr9cLv96d7KJThmBXSxayQLqdZYYFFWaO4uBi1tbUoLi5O91AowzErpItZIV1Os8IWIREREZEDbBFSTvH7/VBKcSmfWsSskC5mhXQ5zQoLLMoaJSUlaGhoQElJSbqHQhmOWSFdzArpcpoVFliUNZRS8Hq9UEqleyiU4ZgV0sWskC6nWWGBRVkjEAigbdu2PCEgtYhZIV3MCulymhUWWJQ1PB4PfD4fPB5PuodCGY5ZIV3MCulymhUWWJQ1RAR+vx8Z8sFXymDMCuliVkiX06ywwKKsEQwG0b17dwSDwXQPhTIcs0K6mBXS5TQr7m95PERnjdfr5btM0sKskC5mhXQ1zYrOqRpSK1h1dXW47LLLUFVVhWHDhmHTpk0nfcBrr72Gfv36oW/fvpgwYUKzJ5k4cSJKS0uhlMLx48fPdC5EzViWhU2bNsGyrHQPhTIcs0K6mBXS5TQrqQJr+vTpmDZtGrZu3YoHHngA1dXVJ9w5GAxi6tSpWLZsGerq6lBaWorHHnssdfuMGTOwYcOGM58F0UmEQiGMGDECoVAo3UOhDMeskC5mhXQ5zYoSETl48CAqKytx9OhRuN1uiAi6deuG999/H5WVlak7L1q0CM899xyWL18OANi8eTPGjh2LxsbG5j9UKRw7dgzt2rXTHjgvlUNERETZQPtSOQ0NDejWrRvc7uQhWUopVFRUoL6+vtmd6+vr0aNHj9TXPXv2xL59+2CapuPBxWIx+P3+Zv8AIBKJAACi0Sii0Wjqe7FYDAAQDodT26FQCPF4PLWdSCQAJFfavhpTIBBIbfv9/tTSnt/vh23bzT4VYNt2ahyWZaW2TdNMnffCNM3UAW6JRCJVycbj8dR2LBZDOBxObXNOZ2dOR48exdq1axGPx3NmTrn4OmXCnEKhEGpra+Hz+XJmTrn4OmXCnEzTxJo1a+Dz+XJmTrn4OmXCnEzTxDvvvJN6bItERD788EOpqqqSpoYNGyYrVqxo9r3Zs2fLtGnTUl+HQiExDEMSiUSz+wGQY8eOyek8/PDDAuCEf5MnTxYRkXvvvVfuvfdeERGZOnWqPPzwwyIiMnHiRHnyySdFRGTs2LHy7LPPiojI8OHDZeHChSIi0r9/f1m+fLmIiJSVlcnatWtFRMTj8cjGjRtTY2xoaBCfzycAxOfzSUNDg3z5K5GNGzeKx+MREZG1a9dKWVmZiIgsX75c+vfvLyIiCxculOHDh4uIyLPPPitjx44VEZEnn3xSJk6cmJrn1KlTOaezNKdu3brJli1bcmpOufg6pXtOs2bNkrKyMhk9enTOzCkXX6dMmJPf75cOHTrIsGHDcmZOufg6ZcKc/H6/KKVk3bp1zeZxKhAROXDggHg8nlShZNu2dOnSRerq6prdeeHChTJu3LjU15s2bUr9Epr9UI0CKxqNis/nS/376he9f/9+ERGJRCISiURERCQcDks0GhWRZFH31XYwGJRYLJbajsfjIiISCARSc/H7/altn88npmmmti3LEtu2xefziW3bYllW6pdlmmZqO5FIiN/vT20HAgEREYnH4xIMBkVEJBaLpbaj0aiEQqHUdjgc5pw4J86Jc+KcOCfOKUfmpFNgKZHkZw5HjRqF6upqVFdXY/HixXjiiSfw4YcfofdMKgAADW5JREFUNlvtCgQC6NOnD1avXo1+/frhzjvvRGFhIWbPnt3sfjwGi74NpmlixYoVuOaaa1LtbKKTYVZIF7NCuppmJRwO6x2DBQBz5szBnDlzUFVVhSeeeALPP/88AOChhx7CM888AyB5mvi5c+di/PjxqKysRGNjI37+85+nftgNN9yA8vJyAMCAAQMwatSob2ue1ApFo1HMnDkz1VMnOhVmhXQxK6TLaVZSK1jpxhUsIiIiygbanyIkygaJRAKLFi1KfcqD6FSYFdLFrJAup1lhgUVZIx6Po6amJvWRWqJTYVZIF7NCupxmhS1CIiIiIgfYIqScEo/HMXfuXL7TpBYxK6SLWSFdTrPCAouyBo+VIF3MCuliVkiX06ywRUhERETkAFuElFNisRhqamr0rwNFrRazQrqYFdLlNCsssChrWJaF2tra1MVDiU6FWSFdzArpcpoVtgiJiIiIHGCLkHJKLBbDI488wqV8ahGzQrqYFdLlNCsssChr2LaNxsZG2Lad7qFQhmNWSBezQrqcZoUtQiIiIiIH2CKknMKr3pMuZoV0MSuky2lWWGARERERnWVsERIRERE5wBYh5ZRIJIIf//jHiEQi6R4KZThmhXQxK6TLaVZYYFHWMAwD5eXlMAzGlk6PWSFdzArpcpoVtgiJiIiIHGCLkHJKOBzGpEmTEA6H0z0UynDMCuliVkiX06ywwKKs4XK5MGLECLhcrnQPhTIcs0K6mBXS5TQrbBESEREROcAWIeWUUCiEcePGIRQKpXsolOGYFdLFrJAup1lhgUVZIy8vD5MmTUJeXl66h0IZjlkhXcwK6XKaFbYIiYiIiBxgi5BySigUwogRI7iUTy1iVkgXs0K6nGaFBRZljfz8fMycORP5+fnpHgplOGaFdDErpMtpVtgiJCIiInKALULKKcFgEAMGDEAwGEz3UCjDMSuki1khXU6zwgKLskZhYSFqampQWFiY7qFQhmNWSBezQrqcZoUtQiIiIiIH2CKknBIIBFBeXo5AIJDuoVCGY1ZIF7NCupxmhQUWZY2ioiIsWrQIRUVF6R4KZThmhXQxK6TLaVbYIiQiIiJygC1Cyil+vx9erxd+vz/dQ6EMx6yQLmaFdDnNCgssyhrFxcWora1FcXFxuodCGY5ZIV3MCulymhW2CImIiIgcYIuQcorf74dSikv51CJmhXQxK6TLaVZYYFHWKCkpQUNDA0pKStI9FMpwzArpYlZIl9OssMCirKGUgtfrhVIq3UOhDMeskC5mhXQ5zQoLLMoagUAAbdu25QkBqUXMCuliVkiX06ywwKKs4fF44PP54PF40j0UynDMCuliVkiX06ywwKKsISLw+/3IkA++UgZjVkgXs0K6nGaFBRZljWAwiO7duyMYDKZ7KJThmBXSxayQLqdZcX/L4yE6a7xeL99lkhZmhXQxK6SraVZ0TtXAFSzKGpZlYdOmTbAsK91DoQzHrJAuZoV0Oc0KCyzKGqFQCCNGjEAoFEr3UCjDMSuki1khXU6zwkvlEBERETnAS+VQTjFNE7W1tTBNM91DoQzHrJAuZoV0Oc0KCyzKGpFIBJMmTUIkEkn3UCjDMSuki1khXU6zwhYhERERkQNsEVJOMU0Tb775JpfyqUXMCuliVkiX06ywwKKsEY1GMXPmTESj0XQPhTIcs0K6mBXS5TQrbBESEREROcAWIeWURCKBRYsWIZFIpHsolOGYFdLFrJAup1lhgUVZIx6Po6amBvF4PN1DoQzHrJAuZoV0Oc0KW4REREREDrBFSDklHo9j7ty5fKdJLWJWSBezQrqcZoUFFmUNHitBupgV0sWskC6nWWGLkIiIiMgBtggpp8RiMdTU1CAWi6V7KJThmBXSxayQLqdZYYFFWcOyLNTW1sKyrHQPhTIcs0K6mBXS5TQrbBESEREROcAWIeWUWCyGRx55hEv51CJmhXQxK6TLaVZYYFHWsG0bjY2NsG073UOhDMeskC5mhXQ5zQpbhEREREQOOGoR1tXV4bLLLkNVVRWGDRuGTZs2nfQBr732Gvr164e+fftiwoQJ8Pv9qdvWrVuHIUOGoKqqCqNHj8aePXvO8pSoNeNV70kXs0K6mBXS5TQrqQJr+vTpmDZtGrZu3YoHHngA1dXVJ9w5GAxi6tSpWLZsGerq6lBaWorHHnsMQHLp7Pbbb8dvfvMbbN26Fddffz3uueeeszMrIiIioiyiREQOHjyIyspKHD16FG63GyKCbt264f3330dlZWXqzosWLcJzzz2H5cuXAwA2b96MsWPHorGxEevXr8fkyZPx+eefAwACgQA6deqE48ePo7CwsMWBsEVIRERE2UCnZnEDQENDA7p16wa32w0AUEqhoqIC9fX1zQqs+vp69OjRI/V1z549sW/fPpimecJtHo8HXq8Xe/fuRe/evU944lgs1uxIfJ/PBwA4ePAgAKSW4AoLCxGJRGAYBgoKChAOh+FyuVBQUIBQKIS8vDzk5+cjFAohPz8feXl5CAaDKCwshNvtRiAQQFFREdxuN/x+P4qLi+FyueD3+1FSUgKlFAKBADweD0QEwWAQXq8XlmUhFArB6/XCNE1EIhF4PB6YpoloNIqSkhIkEgnE43EUFxcjHo8jkUiguLgYsVgMlmWhTZs2iMVisG0bRUVFnNMZzunQoUN49NFH8ctf/hKWZeXEnHLxdcqEOcXjcfzsZz/Do48+Co/HkxNzysXXKRPm5HK5cN999+Gxxx5Dx44dc2JOufg6ZcKcEokE7r77btTU1KQOdD/dYezuU97yLXv88cfx6KOPnvD9vn37pmE0lE3mz5+f7iFQlnjxxRfTPQTKEn/+85/TPQTKEgsWLEhtBwIBtG3b9qT3cwNA9+7dUytRX7UI6+vrUVFR0ezOFRUVePvtt1Nf79q1K7XyVVFRgd27dzd7Up/Ph9LS0pM+8U9/+lPMnDkz9bVt2zh69Cg6duwIpdQ3mDLlOr/fj+7du6OhoYFtZDotZoV0MSukq2lWPB4PAoHAKWsc4MsCq3Pnzrjoooswf/58VFdXY8mSJSgvL2/WHgSA6667DnfccQc+//xz9OvXD08//TRuu+02AMDFF1+MRCKBlStX4uqrr8acOXPw3e9+95THXxUUFKCgoKDZ99q1a3dGk6fWwev1ckdIWpgV0sWskK6vsnKqlauvpFqEc+bMQXV1NWbNmgWv14vnn38eAPDQQw+htLQUM2bMgMfjwdy5czF+/HiYpomBAwdi3rx5AADDMDB//nxMnz4d0WgUpaWlXJ4nIiKiViljTjRK1BJ+0pR0MSuki1khXU6z4nrkkUce+faHRXR2uFwujBo1KvWJV6JTYVZIF7NCupxkhStYRERERGcZL/ZMREREdJaxwCIiIiI6y1hgEREREZ1lLLAoI/Xs2RPnn38+hg4diqFDh6bOnHvw4EFcd9116Nu3LwYOHIjVq1eneaR0rt11113o2bMnlFLYsGFD6vuny0Y4HMb3v/99VFZWoqqqCosXL07H0OkcO1VWRo0ahV69eqX2L7/+9a9TtzErrVM0GsX48eNRVVWFIUOGYMyYMdi2bRuAM9i3CFEG6tGjh3z88ccnfP9HP/qRPPzwwyIi8re//U3KysokHo+f49FROq1atUoaGhpOyMjpsvHoo4/KlClTRERkx44d0qlTJzl8+PC5HjqdY6fKysiRI2Xp0qUnfQyz0jpFIhF5/fXXxbZtERF56qmnZOTIkSLyzfctXMGirLJw4ULMmDEDADBs2DCUlpZi1apVaR4VnUtXXXUVysvLT/j+6bKxYMGC1G29evXCqFGjsHTp0nM3aEqLU2XldJiV1qmwsBDXX3996lJ9w4cPx65duwB8830LCyzKWJMnT8agQYMwdepUHDp0CEeOHEEikUDXrl1T9+nZsyfq6+vTOErKBC1lo76+Hj169DjpbdQ63X///Rg0aBBuvfVW7NixI/V9ZoUA4Le//S1uvvnmM9q3sMCijLR69Wp89tln+Oijj3DeeedhypQp6R4SEeWIF198EVu3bsWnn36KK6+8EjfeeGO6h0QZZNasWdi2bRsef/zxM/o5LLAoI1VUVAAA8vLycM8992DNmjXo2LEj3G439u/fn7rfrl27Uvel1qulbFRUVGD37t0nvY1an+7duwMAlFK48847sWPHDhw5cgQAs9LazZ49G6+88greeOMNtGnT5oz2LSywKOOEQiEcP3489fXLL7+MCy+8EAAwadIkPPPMMwCA9evXY8+ePRg5cmRaxkmZ5XTZaHrbzp078d5772H8+PFpGyulj2maOHDgQOrrJUuWoEuXLujYsSMAZqU1q6mpwcsvv4y3334b7dq1S33/G+9bzulh+kQatm/fLkOHDpVBgwbJwIED5aabbpKdO3eKiMj+/ftlzJgxUllZKf3795d33303vYOlc27atGlSVlYmLpdLOnfuLH369BGR02cjGAzKLbfcIr1795a+ffvKggUL0jV8OodOlpVgMCgXX3yxDBw4UAYPHiyjR4+WDRs2pB7DrLRODQ0NAkB69+4tQ4YMkSFDhsgll1wiIt9838JrERIRERGdZWwREhEREZ1l/x8P/b0i9jk78wAAAABJRU5ErkJggg==\" />"
      ]
     },
     "execution_count": 114,
     "metadata": {},
     "output_type": "execute_result"
    }
   ],
   "source": [
    "params = copy(start_params)\n",
    "net = Nets.Net(Nets.Params(widths, params), x_to_u, v_to_y)\n",
    "\n",
    "# train_loss = sensitive_loss(0.0)\n",
    "validate_loss = train_loss\n",
    "losses = [mean(xy -> validate_loss(params, xy[1], xy[2]), train_data_scaled)]\n",
    "\n",
    "@show mean(xy -> sum(abs2, net(xy[1]) .- xy[2][:,1]), test_data)\n",
    "\n",
    "@showprogress for i in 1:nepoch\n",
    "    train_loss = sensitive_loss(0.1)\n",
    "    Nets.adam!(train_loss, params, train_data_scaled, Nets.AdamOpts(learning_rate=0.01 * 0.98^i, batch_size=5))\n",
    "    push!(losses, mean(xy -> validate_loss(params, xy[1], xy[2]), train_data_scaled))\n",
    "end\n",
    "\n",
    "@show mean(xy -> sum(abs2, net(xy[1]) .- xy[2][:,1]), test_data)\n",
    "\n",
    "plot(losses, ylim=(0, losses[1]))"
   ]
  },
  {
   "cell_type": "code",
   "execution_count": 164,
   "metadata": {
    "collapsed": true
   },
   "outputs": [],
   "source": [
    "x0 = PyMPC.Models.generate_x0(sys)\n",
    "for i in 1:100\n",
    "    x0 = PyMPC.Models.generate_x0(sys)\n",
    "    if !any(isnan, controller[:feedback](colmat(x0)))\n",
    "        break\n",
    "    end\n",
    "end"
   ]
  },
  {
   "cell_type": "code",
   "execution_count": 165,
   "metadata": {},
   "outputs": [],
   "source": [
    "xs = PyMPC.Models.simulate(sys, x0, net; N_sim=100)\n",
    "PyMPC.Models.playback(vis, sys, xs)"
   ]
  },
  {
   "cell_type": "code",
   "execution_count": 42,
   "metadata": {},
   "outputs": [],
   "source": [
    "xs = PyMPC.Models.simulate(sys, x0, controller; N_sim=100)\n",
    "PyMPC.Models.playback(vis, sys, xs)"
   ]
  },
  {
   "cell_type": "code",
   "execution_count": null,
   "metadata": {
    "collapsed": true
   },
   "outputs": [],
   "source": []
  }
 ],
 "metadata": {
  "kernelspec": {
   "display_name": "Julia 0.6.0",
   "language": "julia",
   "name": "julia-0.6"
  },
  "language_info": {
   "file_extension": ".jl",
   "mimetype": "application/julia",
   "name": "julia",
   "version": "0.6.0"
  }
 },
 "nbformat": 4,
 "nbformat_minor": 2
}
