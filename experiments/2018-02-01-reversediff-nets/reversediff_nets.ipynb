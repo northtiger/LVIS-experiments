{
 "cells": [
  {
   "cell_type": "code",
   "execution_count": 1,
   "metadata": {},
   "outputs": [],
   "source": [
    "using ReverseDiff\n",
    "using IterTools"
   ]
  },
  {
   "cell_type": "code",
   "execution_count": 57,
   "metadata": {},
   "outputs": [],
   "source": [
    "struct Affine{M <: AbstractMatrix, V <: AbstractVector}\n",
    "    A::M\n",
    "    b::V\n",
    "end\n",
    "\n",
    "(a::Affine)(x) = a.A * x .+ a.b"
   ]
  },
  {
   "cell_type": "code",
   "execution_count": 124,
   "metadata": {},
   "outputs": [
    {
     "data": {
      "text/plain": [
       "1-element Array{Float64,1}:\n",
       " 1.0"
      ]
     },
     "execution_count": 124,
     "metadata": {},
     "output_type": "execute_result"
    }
   ],
   "source": [
    "tape = ReverseDiff.InstructionTape()\n",
    "\n",
    "function param(A::AbstractArray{T}, tape::ReverseDiff.InstructionTape) where T\n",
    "    At = ReverseDiff.track(similar(A), T, tape)\n",
    "    ReverseDiff.track!(At, A)\n",
    "    At\n",
    "end\n",
    "\n",
    "A0 = param(rand(1, 3), tape)\n",
    "b0 = param(rand(1), tape)\n",
    "loss = (x, y) -> sum(abs2, A0 * x .+ b0 .- y)\n",
    "x0 = [1.0, 1.0, 1.0]\n",
    "y0 = [1.0]"
   ]
  },
  {
   "cell_type": "code",
   "execution_count": 126,
   "metadata": {},
   "outputs": [
    {
     "data": {
      "text/plain": [
       "optimize (generic function with 1 method)"
      ]
     },
     "execution_count": 126,
     "metadata": {},
     "output_type": "execute_result"
    }
   ],
   "source": [
    "function optimize(loss, data, tape)\n",
    "    x0, y0 = first(data)\n",
    "    x0p = param(x0, tape)\n",
    "    y0p = param(y0, tape)\n",
    "    tracked_loss = loss(x0p, y0p)\n",
    "    inputs = (A0, b0, x0p, y0p)\n",
    "    params = (A0, b0, x0p, y0p)\n",
    "    result = similar.(ReverseDiff.value.(params))\n",
    "    gtape = ReverseDiff._GradientTape(loss, (A0, b0, x0p, y0p), tracked_loss, tape)\n",
    "    for (x, y) in data\n",
    "        ReverseDiff.value!(x0p, x)\n",
    "        ReverseDiff.value!(y0p, y)\n",
    "        ReverseDiff.forward_pass!(gtape)\n",
    "        ReverseDiff.seeded_reverse_pass!(result, gtape)\n",
    "        for i in 1:length(params)\n",
    "            params[i].value .-= 0.01 .* result[i]\n",
    "        end\n",
    "    end \n",
    "end"
   ]
  },
  {
   "cell_type": "code",
   "execution_count": 129,
   "metadata": {},
   "outputs": [],
   "source": [
    "optimize(loss, IterTools.ncycle([(x0, y0)], 100), tape)"
   ]
  },
  {
   "cell_type": "code",
   "execution_count": 130,
   "metadata": {},
   "outputs": [
    {
     "data": {
      "text/plain": [
       "1-element ReverseDiff.TrackedArray{Float64,Float64,1,Array{Float64,1},Array{Float64,1}}:\n",
       " TrackedReal<5ml>(1.0000000404051255, 0.0, Bhx, 1, 1bh)"
      ]
     },
     "execution_count": 130,
     "metadata": {},
     "output_type": "execute_result"
    }
   ],
   "source": [
    "A0 * x0 .+ b0 "
   ]
  },
  {
   "cell_type": "code",
   "execution_count": null,
   "metadata": {},
   "outputs": [],
   "source": []
  }
 ],
 "metadata": {
  "kernelspec": {
   "display_name": "Julia 0.6.2",
   "language": "julia",
   "name": "julia-0.6"
  },
  "language_info": {
   "file_extension": ".jl",
   "mimetype": "application/julia",
   "name": "julia",
   "version": "0.6.2"
  }
 },
 "nbformat": 4,
 "nbformat_minor": 2
}
