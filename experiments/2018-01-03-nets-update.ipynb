{
 "cells": [
  {
   "cell_type": "code",
   "execution_count": 1,
   "metadata": {
    "collapsed": false,
    "deletable": true,
    "editable": true
   },
   "outputs": [
    {
     "name": "stderr",
     "output_type": "stream",
     "text": [
      "\u001b[1m\u001b[36mINFO: \u001b[39m\u001b[22m\u001b[36mRecompiling stale cache file /home/rdeits/locomotion/explorations/learning-mpc/packages/lib/v0.6/ReverseDiff.ji for module ReverseDiff.\n",
      "\u001b[39m"
     ]
    }
   ],
   "source": [
    "using ReverseDiff\n",
    "using ReverseDiff: @forward\n",
    "using ForwardDiff\n",
    "using DiffResults"
   ]
  },
  {
   "cell_type": "code",
   "execution_count": 67,
   "metadata": {
    "collapsed": false,
    "deletable": true,
    "editable": true
   },
   "outputs": [
    {
     "name": "stderr",
     "output_type": "stream",
     "text": [
      "WARNING: replacing module Nets\n",
      "\u001b[1m\u001b[36mINFO: \u001b[39m\u001b[22m\u001b[36mPrecompiling module Flux.\n",
      "\u001b[39m"
     ]
    },
    {
     "data": {
      "text/plain": [
       "Nets"
      ]
     },
     "execution_count": 67,
     "metadata": {},
     "output_type": "execute_result"
    }
   ],
   "source": [
    "module Nets\n",
    "\n",
    "import Flux: relu, elu\n",
    "\n",
    "abstract type Layer <: Function end\n",
    "\n",
    "params(f::Function) = ()\n",
    "with_params(f::Function) = f\n",
    "\n",
    "struct Affine{TA <: AbstractMatrix, Tb <: AbstractVector} <: Layer\n",
    "    A::TA\n",
    "    b::Tb\n",
    "end\n",
    "    \n",
    "params(a::Affine) = (a.A, a.b)\n",
    "with_params(a::Affine, A, b) = Affine(A, b)\n",
    "\n",
    "(a::Affine)(x) = a.A * x .+ a.b\n",
    "\n",
    "struct Chain{L <: Tuple{Vararg{Function}}}\n",
    "    layers::L\n",
    "end\n",
    "\n",
    "Chain(layers...) = Chain{typeof(layers)}(layers)\n",
    "\n",
    "params(c::Chain) = _params(c.layers...)\n",
    "_params(layer, layers...) = (params(layer)..., _params(layers...)...)\n",
    "_params() = ()\n",
    "\n",
    "(c::Chain)(x) = _chain_call(x, c.layers...)\n",
    "\n",
    "_chain_call(x, layer, layers...) = _chain_call(layer(x), layers...)\n",
    "_chain_call(x) = x\n",
    "\n",
    "with_params(c::Chain, params...) = Chain(_with_params(c.layers, params)...)\n",
    "\n",
    "function _with_params(layers, parameters)\n",
    "    layer = first(layers)\n",
    "    layer_params, remaining_params = _split(params(layer), parameters)\n",
    "    (with_params(layer, layer_params...), _with_params(Base.tail(layers), remaining_params)...)\n",
    "end\n",
    "\n",
    "_with_params(::Tuple{}, ::Tuple{}) = ()\n",
    "\n",
    "\n",
    "function _split(t1::NTuple{N1, Any}, t2::NTuple{N2, Any}) where {N1, N2}\n",
    "    beginning, remainder = _split(Base.tail(t1), Base.tail(t2))\n",
    "    (first(t2), beginning...), remainder\n",
    "end\n",
    "\n",
    "_split(::Tuple{}, t2::NTuple{N2, Any}) where {N2} = ((), t2)\n",
    "\n",
    "\n",
    "end"
   ]
  },
  {
   "cell_type": "code",
   "execution_count": 69,
   "metadata": {
    "collapsed": false,
    "deletable": true,
    "editable": true
   },
   "outputs": [
    {
     "data": {
      "text/plain": [
       "Nets.Chain{Tuple{Nets.Affine{Array{Float64,2},Array{Float64,1}},##7#8}}((Nets.Affine, #7))"
      ]
     },
     "execution_count": 69,
     "metadata": {},
     "output_type": "execute_result"
    }
   ],
   "source": [
    "c = Nets.Chain(Nets.Affine(fill(1.0, 1, 1), fill(0.5, 1)),\n",
    "    x -> @forward(Nets.elu).(x))"
   ]
  },
  {
   "cell_type": "code",
   "execution_count": 70,
   "metadata": {
    "collapsed": false
   },
   "outputs": [
    {
     "data": {
      "text/plain": [
       "([1.0], [0.5])"
      ]
     },
     "execution_count": 70,
     "metadata": {},
     "output_type": "execute_result"
    }
   ],
   "source": [
    "Nets.params(c)"
   ]
  },
  {
   "cell_type": "code",
   "execution_count": 71,
   "metadata": {
    "collapsed": false,
    "deletable": true,
    "editable": true
   },
   "outputs": [
    {
     "data": {
      "text/plain": [
       "1-element Array{Float64,1}:\n",
       " 1.5"
      ]
     },
     "execution_count": 71,
     "metadata": {},
     "output_type": "execute_result"
    }
   ],
   "source": [
    "c([1.0])"
   ]
  },
  {
   "cell_type": "code",
   "execution_count": 72,
   "metadata": {
    "collapsed": false,
    "deletable": true,
    "editable": true
   },
   "outputs": [
    {
     "data": {
      "text/plain": [
       "([1.0], [0.25])"
      ]
     },
     "execution_count": 72,
     "metadata": {},
     "output_type": "execute_result"
    }
   ],
   "source": [
    "params = (fill(1.0, 1, 1), [0.25])"
   ]
  },
  {
   "cell_type": "code",
   "execution_count": 73,
   "metadata": {
    "collapsed": false,
    "deletable": true,
    "editable": true
   },
   "outputs": [
    {
     "data": {
      "text/plain": [
       "Nets.Chain{Tuple{Nets.Affine{Array{Float64,2},Array{Float64,1}},##7#8}}((Nets.Affine, #7))"
      ]
     },
     "execution_count": 73,
     "metadata": {},
     "output_type": "execute_result"
    }
   ],
   "source": [
    "c2 = Nets.with_params(c, params...)"
   ]
  },
  {
   "cell_type": "code",
   "execution_count": 74,
   "metadata": {
    "collapsed": false,
    "deletable": true,
    "editable": true
   },
   "outputs": [
    {
     "data": {
      "text/plain": [
       "1-element Array{Float64,1}:\n",
       " 1.25"
      ]
     },
     "execution_count": 74,
     "metadata": {},
     "output_type": "execute_result"
    }
   ],
   "source": [
    "c2([1.0])"
   ]
  },
  {
   "cell_type": "code",
   "execution_count": 77,
   "metadata": {
    "collapsed": false,
    "deletable": true,
    "editable": true
   },
   "outputs": [
    {
     "data": {
      "text/plain": [
       "([1.0], [1.0])"
      ]
     },
     "execution_count": 77,
     "metadata": {},
     "output_type": "execute_result"
    }
   ],
   "source": [
    "ReverseDiff.gradient((p...) -> Nets.with_params(c, p...)([1.0])[1], params)"
   ]
  },
  {
   "cell_type": "code",
   "execution_count": null,
   "metadata": {
    "collapsed": true,
    "deletable": true,
    "editable": true
   },
   "outputs": [],
   "source": []
  }
 ],
 "metadata": {
  "kernelspec": {
   "display_name": "Julia 0.6.1",
   "language": "julia",
   "name": "julia-0.6"
  },
  "language_info": {
   "file_extension": ".jl",
   "mimetype": "application/julia",
   "name": "julia",
   "version": "0.6.1"
  }
 },
 "nbformat": 4,
 "nbformat_minor": 2
}
