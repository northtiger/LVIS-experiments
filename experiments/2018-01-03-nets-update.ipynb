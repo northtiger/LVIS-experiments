{
 "cells": [
  {
   "cell_type": "code",
   "execution_count": 1,
   "metadata": {
    "collapsed": true
   },
   "outputs": [],
   "source": [
    "using ReverseDiff\n",
    "using ReverseDiff: @forward\n",
    "using ForwardDiff\n",
    "using DiffResults"
   ]
  },
  {
   "cell_type": "code",
   "execution_count": 2,
   "metadata": {},
   "outputs": [
    {
     "data": {
      "text/plain": [
       "Nets"
      ]
     },
     "execution_count": 2,
     "metadata": {},
     "output_type": "execute_result"
    }
   ],
   "source": [
    "module Nets\n",
    "\n",
    "abstract type Layer <: Function end\n",
    "\n",
    "params(f::Function) = ()\n",
    "with_params(f::Function, params::Tuple{}) = f\n",
    "\n",
    "params(::Layer) = error(\"Not implemented\")\n",
    "with_params(::Layer, params) = error(\"Not implemented\")\n",
    "with_params(::Layer, ::Tuple{}) = error(\"Not implemented\")\n",
    "\n",
    "struct Affine{TA <: AbstractMatrix, Tb <: AbstractVector} <: Layer\n",
    "    A::TA\n",
    "    b::Tb\n",
    "end\n",
    "    \n",
    "params(a::Affine) = (a.A, a.b)\n",
    "with_params(a::Affine, params) = Affine(params[1], params[2])\n",
    "\n",
    "(a::Affine)(x) = a.A * x .+ a.b\n",
    "\n",
    "struct Chain{L <: Tuple{Vararg{Function}}}\n",
    "    layers::L\n",
    "end\n",
    "\n",
    "Chain(layers::Tuple) = Chain{typeof(layers)}(layers)\n",
    "\n",
    "params(c::Chain) = params.(c.layers)\n",
    "\n",
    "# todo: unroll\n",
    "function (c::Chain)(x)\n",
    "    y = x\n",
    "    for f in c.layers\n",
    "        y = f(x)\n",
    "    end\n",
    "    y\n",
    "end\n",
    "\n",
    "with_params(c::Chain, params::Tuple) = Chain(with_params.(c.layers, params))\n",
    "\n",
    "end"
   ]
  },
  {
   "cell_type": "code",
   "execution_count": 3,
   "metadata": {},
   "outputs": [
    {
     "data": {
      "text/plain": [
       "Nets.Chain{Tuple{Nets.Affine{Array{Float64,2},Array{Float64,1}}}}((Nets.Affine,))"
      ]
     },
     "execution_count": 3,
     "metadata": {},
     "output_type": "execute_result"
    }
   ],
   "source": [
    "c = Nets.Chain((Nets.Affine(fill(1.0, 1, 1), fill(0.5, 1)),))"
   ]
  },
  {
   "cell_type": "code",
   "execution_count": 4,
   "metadata": {},
   "outputs": [
    {
     "data": {
      "text/plain": [
       "1-element Array{Float64,1}:\n",
       " 1.5"
      ]
     },
     "execution_count": 4,
     "metadata": {},
     "output_type": "execute_result"
    }
   ],
   "source": [
    "c([1.0])"
   ]
  },
  {
   "cell_type": "code",
   "execution_count": 5,
   "metadata": {},
   "outputs": [
    {
     "data": {
      "text/plain": [
       "(([1.0], [0.5]),)"
      ]
     },
     "execution_count": 5,
     "metadata": {},
     "output_type": "execute_result"
    }
   ],
   "source": [
    "Nets.params(c)"
   ]
  },
  {
   "cell_type": "code",
   "execution_count": 13,
   "metadata": {},
   "outputs": [
    {
     "data": {
      "text/plain": [
       "([1.0], [0.25])"
      ]
     },
     "execution_count": 13,
     "metadata": {},
     "output_type": "execute_result"
    }
   ],
   "source": [
    "params = (fill(1.0, 1, 1), [0.25])"
   ]
  },
  {
   "cell_type": "code",
   "execution_count": 14,
   "metadata": {},
   "outputs": [
    {
     "data": {
      "text/plain": [
       "Nets.Chain{Tuple{Nets.Affine{Array{Float64,2},Array{Float64,1}}}}((Nets.Affine,))"
      ]
     },
     "execution_count": 14,
     "metadata": {},
     "output_type": "execute_result"
    }
   ],
   "source": [
    "c2 = Nets.with_params(c, (params,))"
   ]
  },
  {
   "cell_type": "code",
   "execution_count": 15,
   "metadata": {},
   "outputs": [
    {
     "data": {
      "text/plain": [
       "1-element Array{Float64,1}:\n",
       " 1.25"
      ]
     },
     "execution_count": 15,
     "metadata": {},
     "output_type": "execute_result"
    }
   ],
   "source": [
    "c2([1.0])"
   ]
  },
  {
   "cell_type": "code",
   "execution_count": 20,
   "metadata": {},
   "outputs": [
    {
     "data": {
      "text/plain": [
       "([1.0], [1.0])"
      ]
     },
     "execution_count": 20,
     "metadata": {},
     "output_type": "execute_result"
    }
   ],
   "source": [
    "ReverseDiff.jacobian((p...) -> Nets.with_params(c, (p,))([1.0]), params)"
   ]
  },
  {
   "cell_type": "code",
   "execution_count": null,
   "metadata": {
    "collapsed": true
   },
   "outputs": [],
   "source": []
  }
 ],
 "metadata": {
  "kernelspec": {
   "display_name": "Julia 0.6.2",
   "language": "julia",
   "name": "julia-0.6"
  },
  "language_info": {
   "file_extension": ".jl",
   "mimetype": "application/julia",
   "name": "julia",
   "version": "0.6.2"
  }
 },
 "nbformat": 4,
 "nbformat_minor": 2
}
