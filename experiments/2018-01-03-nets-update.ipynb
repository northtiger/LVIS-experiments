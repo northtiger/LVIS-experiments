{
 "cells": [
  {
   "cell_type": "code",
   "execution_count": 1,
   "metadata": {
    "collapsed": false
   },
   "outputs": [
    {
     "name": "stderr",
     "output_type": "stream",
     "text": [
      "\u001b[1m\u001b[36mINFO: \u001b[39m\u001b[22m\u001b[36mChecking out ForwardDiff master...\n",
      "\u001b[39m\u001b[1m\u001b[36mINFO: \u001b[39m\u001b[22m\u001b[36mPulling ForwardDiff latest master...\n",
      "\u001b[39m\u001b[1m\u001b[36mINFO: \u001b[39m\u001b[22m\u001b[36mNo packages to install, update or remove\n",
      "\u001b[39m"
     ]
    }
   ],
   "source": [
    "Pkg.checkout(\"ForwardDiff\")"
   ]
  },
  {
   "cell_type": "code",
   "execution_count": 3,
   "metadata": {
    "collapsed": false
   },
   "outputs": [
    {
     "name": "stderr",
     "output_type": "stream",
     "text": [
      "\u001b[1m\u001b[36mINFO: \u001b[39m\u001b[22m\u001b[36mChecking out ReverseDiff master...\n",
      "\u001b[39m\u001b[1m\u001b[36mINFO: \u001b[39m\u001b[22m\u001b[36mPulling ReverseDiff latest master...\n",
      "\u001b[39m\u001b[1m\u001b[36mINFO: \u001b[39m\u001b[22m\u001b[36mNo packages to install, update or remove\n",
      "\u001b[39m"
     ]
    }
   ],
   "source": [
    "Pkg.checkout(\"ReverseDiff\")"
   ]
  },
  {
   "cell_type": "code",
   "execution_count": 4,
   "metadata": {
    "collapsed": false
   },
   "outputs": [],
   "source": [
    "using Revise"
   ]
  },
  {
   "cell_type": "code",
   "execution_count": 6,
   "metadata": {
    "collapsed": false,
    "deletable": true,
    "editable": true
   },
   "outputs": [],
   "source": [
    "using ReverseDiff\n",
    "using ReverseDiff: @forward\n",
    "using ForwardDiff\n",
    "using DiffResults\n",
    "using CoordinateTransformations"
   ]
  },
  {
   "cell_type": "code",
   "execution_count": 57,
   "metadata": {
    "collapsed": false,
    "deletable": true,
    "editable": true
   },
   "outputs": [
    {
     "name": "stderr",
     "output_type": "stream",
     "text": [
      "WARNING: replacing module Nets2\n"
     ]
    }
   ],
   "source": [
    "import Nets2\n",
    "reload(\"Nets2\")"
   ]
  },
  {
   "cell_type": "code",
   "execution_count": 58,
   "metadata": {
    "collapsed": false
   },
   "outputs": [
    {
     "data": {
      "text/plain": [
       "Nets2.Chain{Tuple{CoordinateTransformations.AffineMap{Array{Float64,2},Array{Float64,1}}}}((AffineMap([0.9], [0.1]),))"
      ]
     },
     "execution_count": 58,
     "metadata": {},
     "output_type": "execute_result"
    }
   ],
   "source": [
    "c = Nets2.Chain(AffineMap(0.9 .* ones(1, 1), 0.1 .+ zeros(1)))"
   ]
  },
  {
   "cell_type": "code",
   "execution_count": 59,
   "metadata": {
    "collapsed": false
   },
   "outputs": [
    {
     "data": {
      "text/plain": [
       "1-element Array{Float64,1}:\n",
       " 0.55"
      ]
     },
     "execution_count": 59,
     "metadata": {},
     "output_type": "execute_result"
    }
   ],
   "source": [
    "c([0.5])"
   ]
  },
  {
   "cell_type": "code",
   "execution_count": 60,
   "metadata": {
    "collapsed": false,
    "deletable": true,
    "editable": true
   },
   "outputs": [
    {
     "data": {
      "text/plain": [
       "Nets2.Chain{Tuple{CoordinateTransformations.AffineMap{Array{Float64,2},Array{Float64,1}},Nets2.Affine{Array{Float64,2},Array{Float64,1}},Nets2.##1#2{Nets2.#elu}}}((AffineMap([0.9], [0.1]), Nets2.Affine, Nets2.#1))"
      ]
     },
     "execution_count": 60,
     "metadata": {},
     "output_type": "execute_result"
    }
   ],
   "source": [
    "c = Nets2.Chain(\n",
    "    AffineMap(0.9 .* ones(1, 1), 0.1 .+ zeros(1)),\n",
    "    Nets2.Affine(fill(1.0, 1, 1), fill(0.5, 1)),\n",
    "    Nets2.activation(Nets2.elu)\n",
    "    )"
   ]
  },
  {
   "cell_type": "code",
   "execution_count": 61,
   "metadata": {
    "collapsed": false
   },
   "outputs": [
    {
     "data": {
      "text/plain": [
       "1-element Array{Float64,1}:\n",
       " 1.05"
      ]
     },
     "execution_count": 61,
     "metadata": {},
     "output_type": "execute_result"
    }
   ],
   "source": [
    "c([0.5])"
   ]
  },
  {
   "cell_type": "code",
   "execution_count": 62,
   "metadata": {
    "collapsed": false
   },
   "outputs": [
    {
     "data": {
      "text/plain": [
       "([1.0], [0.5])"
      ]
     },
     "execution_count": 62,
     "metadata": {},
     "output_type": "execute_result"
    }
   ],
   "source": [
    "Nets2.params(c)"
   ]
  },
  {
   "cell_type": "code",
   "execution_count": 63,
   "metadata": {
    "collapsed": false,
    "deletable": true,
    "editable": true
   },
   "outputs": [
    {
     "data": {
      "text/plain": [
       "1-element Array{Float64,1}:\n",
       " 1.5"
      ]
     },
     "execution_count": 63,
     "metadata": {},
     "output_type": "execute_result"
    }
   ],
   "source": [
    "c([1.0])"
   ]
  },
  {
   "cell_type": "code",
   "execution_count": 64,
   "metadata": {
    "collapsed": false,
    "deletable": true,
    "editable": true
   },
   "outputs": [
    {
     "data": {
      "text/plain": [
       "([1.0], [0.25])"
      ]
     },
     "execution_count": 64,
     "metadata": {},
     "output_type": "execute_result"
    }
   ],
   "source": [
    "params = (fill(1.0, 1, 1), [0.25])"
   ]
  },
  {
   "cell_type": "code",
   "execution_count": 66,
   "metadata": {
    "collapsed": false,
    "deletable": true,
    "editable": true
   },
   "outputs": [
    {
     "name": "stderr",
     "output_type": "stream",
     "text": [
      "WARNING: Method definition _with_params(Tuple{Any}, Tuple{}) in module Nets2 at /home/rdeits/locomotion/explorations/learning-mpc/modules/Nets2.jl:39 overwritten at /home/rdeits/locomotion/explorations/learning-mpc/modules/Nets2.jl:40.\n"
     ]
    },
    {
     "data": {
      "text/plain": [
       "Nets2.Chain{Tuple{CoordinateTransformations.AffineMap{Array{Float64,2},Array{Float64,1}},Nets2.Affine{Array{Float64,2},Array{Float64,1}},Nets2.##1#2{Nets2.#elu}}}((AffineMap([0.9], [0.1]), Nets2.Affine, Nets2.#1))"
      ]
     },
     "execution_count": 66,
     "metadata": {},
     "output_type": "execute_result"
    }
   ],
   "source": [
    "c2 = Nets2.with_params(c, params...)"
   ]
  },
  {
   "cell_type": "code",
   "execution_count": 67,
   "metadata": {
    "collapsed": false,
    "deletable": true,
    "editable": true
   },
   "outputs": [
    {
     "data": {
      "text/plain": [
       "([1.0], [1.0])"
      ]
     },
     "execution_count": 67,
     "metadata": {},
     "output_type": "execute_result"
    }
   ],
   "source": [
    "ReverseDiff.gradient((p...) -> Nets2.with_params(c, p...)([1.0])[1], params)"
   ]
  },
  {
   "cell_type": "code",
   "execution_count": 68,
   "metadata": {
    "collapsed": false
   },
   "outputs": [
    {
     "data": {
      "text/plain": [
       "1×1 Array{Float64,2}:\n",
       " 1.0"
      ]
     },
     "execution_count": 68,
     "metadata": {},
     "output_type": "execute_result"
    }
   ],
   "source": [
    "f = (params, x) -> x .+ params\n",
    "ReverseDiff.jacobian(p -> sum((f(p, [1.0]), ForwardDiff.jacobian(x -> f(p, x), [1.0]))), [1.0])"
   ]
  },
  {
   "cell_type": "code",
   "execution_count": 71,
   "metadata": {
    "collapsed": false
   },
   "outputs": [
    {
     "data": {
      "text/plain": [
       "Nets2.Chain{Tuple{Nets2.Affine{Array{Float64,2},Array{Float64,1}}}}((Nets2.Affine,))"
      ]
     },
     "execution_count": 71,
     "metadata": {},
     "output_type": "execute_result"
    }
   ],
   "source": [
    "c = Nets2.Chain(\n",
    "#     AffineMap(0.9 .* ones(1, 1), 0.1 .+ zeros(1)),\n",
    "    Nets2.Affine(fill(1.0, 1, 1), fill(0.5, 1)),\n",
    "#     Nets2.activation(Nets2.elu)\n",
    "    )"
   ]
  },
  {
   "cell_type": "code",
   "execution_count": 73,
   "metadata": {
    "collapsed": false
   },
   "outputs": [
    {
     "ename": "LoadError",
     "evalue": "\u001b[91mMethodError: Cannot `convert` an object of type ForwardDiff.Dual{ForwardDiff.Tag{##150#152{Tuple{ReverseDiff.TrackedArray{Float64,Float64,2,Array{Float64,2},Array{Float64,2}},ReverseDiff.TrackedArray{Float64,Float64,1,Array{Float64,1},Array{Float64,1}}}},Float64},Float64,1} to an object of type Float64\nThis may have arisen from a call to the constructor Float64(...),\nsince type constructors fall back to convert methods.\u001b[39m",
     "output_type": "error",
     "traceback": [
      "\u001b[91mMethodError: Cannot `convert` an object of type ForwardDiff.Dual{ForwardDiff.Tag{##150#152{Tuple{ReverseDiff.TrackedArray{Float64,Float64,2,Array{Float64,2},Array{Float64,2}},ReverseDiff.TrackedArray{Float64,Float64,1,Array{Float64,1},Array{Float64,1}}}},Float64},Float64,1} to an object of type Float64\nThis may have arisen from a call to the constructor Float64(...),\nsince type constructors fall back to convert methods.\u001b[39m",
      "",
      "Stacktrace:",
      " [1] \u001b[1m_generic_matmatmul!\u001b[22m\u001b[22m\u001b[1m(\u001b[22m\u001b[22m::Array{Float64,2}, ::Char, ::Char, ::Array{Float64,1}, ::Array{ForwardDiff.Dual{ForwardDiff.Tag{##150#152{Tuple{ReverseDiff.TrackedArray{Float64,Float64,2,Array{Float64,2},Array{Float64,2}},ReverseDiff.TrackedArray{Float64,Float64,1,Array{Float64,1},Array{Float64,1}}}},Float64},Float64,1},1}\u001b[1m)\u001b[22m\u001b[22m at \u001b[1m./linalg/matmul.jl:525\u001b[22m\u001b[22m",
      " [2] \u001b[1mspecial_reverse_exec!\u001b[22m\u001b[22m\u001b[1m(\u001b[22m\u001b[22m::ReverseDiff.SpecialInstruction{Base.#*,Tuple{ReverseDiff.TrackedArray{Float64,Float64,2,Array{Float64,2},Array{Float64,2}},Array{ForwardDiff.Dual{ForwardDiff.Tag{##150#152{Tuple{ReverseDiff.TrackedArray{Float64,Float64,2,Array{Float64,2},Array{Float64,2}},ReverseDiff.TrackedArray{Float64,Float64,1,Array{Float64,1},Array{Float64,1}}}},Float64},Float64,1},1}},ReverseDiff.TrackedArray{ForwardDiff.Dual{ForwardDiff.Tag{##150#152{Tuple{ReverseDiff.TrackedArray{Float64,Float64,2,Array{Float64,2},Array{Float64,2}},ReverseDiff.TrackedArray{Float64,Float64,1,Array{Float64,1},Array{Float64,1}}}},Float64},Float64,1},Float64,1,Array{ForwardDiff.Dual{ForwardDiff.Tag{##150#152{Tuple{ReverseDiff.TrackedArray{Float64,Float64,2,Array{Float64,2},Array{Float64,2}},ReverseDiff.TrackedArray{Float64,Float64,1,Array{Float64,1},Array{Float64,1}}}},Float64},Float64,1},1},Array{Float64,1}},Tuple{Array{Float64,2},Array{Float64,1}}}\u001b[1m)\u001b[22m\u001b[22m at \u001b[1m/home/rdeits/locomotion/explorations/learning-mpc/packages/v0.6/ReverseDiff/src/derivatives/linalg/arithmetic.jl:224\u001b[22m\u001b[22m",
      " [3] \u001b[1mreverse_exec!\u001b[22m\u001b[22m\u001b[1m(\u001b[22m\u001b[22m::ReverseDiff.SpecialInstruction{Base.#*,Tuple{ReverseDiff.TrackedArray{Float64,Float64,2,Array{Float64,2},Array{Float64,2}},Array{ForwardDiff.Dual{ForwardDiff.Tag{##150#152{Tuple{ReverseDiff.TrackedArray{Float64,Float64,2,Array{Float64,2},Array{Float64,2}},ReverseDiff.TrackedArray{Float64,Float64,1,Array{Float64,1},Array{Float64,1}}}},Float64},Float64,1},1}},ReverseDiff.TrackedArray{ForwardDiff.Dual{ForwardDiff.Tag{##150#152{Tuple{ReverseDiff.TrackedArray{Float64,Float64,2,Array{Float64,2},Array{Float64,2}},ReverseDiff.TrackedArray{Float64,Float64,1,Array{Float64,1},Array{Float64,1}}}},Float64},Float64,1},Float64,1,Array{ForwardDiff.Dual{ForwardDiff.Tag{##150#152{Tuple{ReverseDiff.TrackedArray{Float64,Float64,2,Array{Float64,2},Array{Float64,2}},ReverseDiff.TrackedArray{Float64,Float64,1,Array{Float64,1},Array{Float64,1}}}},Float64},Float64,1},1},Array{Float64,1}},Tuple{Array{Float64,2},Array{Float64,1}}}\u001b[1m)\u001b[22m\u001b[22m at \u001b[1m/home/rdeits/locomotion/explorations/learning-mpc/packages/v0.6/ReverseDiff/src/tape.jl:93\u001b[22m\u001b[22m",
      " [4] \u001b[1mreverse_pass!\u001b[22m\u001b[22m\u001b[1m(\u001b[22m\u001b[22m::Array{ReverseDiff.AbstractInstruction,1}\u001b[1m)\u001b[22m\u001b[22m at \u001b[1m/home/rdeits/locomotion/explorations/learning-mpc/packages/v0.6/ReverseDiff/src/tape.jl:87\u001b[22m\u001b[22m",
      " [5] \u001b[1mseeded_reverse_pass!\u001b[22m\u001b[22m\u001b[1m(\u001b[22m\u001b[22m::Array{Float64,2}, ::Array{ReverseDiff.TrackedReal{ForwardDiff.Dual{ForwardDiff.Tag{##150#152{Tuple{ReverseDiff.TrackedArray{Float64,Float64,2,Array{Float64,2},Array{Float64,2}},ReverseDiff.TrackedArray{Float64,Float64,1,Array{Float64,1},Array{Float64,1}}}},Float64},Float64,1},Float64,ReverseDiff.TrackedArray{ForwardDiff.Dual{ForwardDiff.Tag{##150#152{Tuple{ReverseDiff.TrackedArray{Float64,Float64,2,Array{Float64,2},Array{Float64,2}},ReverseDiff.TrackedArray{Float64,Float64,1,Array{Float64,1},Array{Float64,1}}}},Float64},Float64,1},Float64,1,Array{ForwardDiff.Dual{ForwardDiff.Tag{##150#152{Tuple{ReverseDiff.TrackedArray{Float64,Float64,2,Array{Float64,2},Array{Float64,2}},ReverseDiff.TrackedArray{Float64,Float64,1,Array{Float64,1},Array{Float64,1}}}},Float64},Float64,1},1},Array{Float64,1}}},2}, ::ReverseDiff.TrackedArray{Float64,Float64,2,Array{Float64,2},Array{Float64,2}}, ::ReverseDiff.JacobianTape{##149#151,Tuple{ReverseDiff.TrackedArray{Float64,Float64,2,Array{Float64,2},Array{Float64,2}},ReverseDiff.TrackedArray{Float64,Float64,1,Array{Float64,1},Array{Float64,1}}},Array{ReverseDiff.TrackedReal{ForwardDiff.Dual{ForwardDiff.Tag{##150#152{Tuple{ReverseDiff.TrackedArray{Float64,Float64,2,Array{Float64,2},Array{Float64,2}},ReverseDiff.TrackedArray{Float64,Float64,1,Array{Float64,1},Array{Float64,1}}}},Float64},Float64,1},Float64,ReverseDiff.TrackedArray{ForwardDiff.Dual{ForwardDiff.Tag{##150#152{Tuple{ReverseDiff.TrackedArray{Float64,Float64,2,Array{Float64,2},Array{Float64,2}},ReverseDiff.TrackedArray{Float64,Float64,1,Array{Float64,1},Array{Float64,1}}}},Float64},Float64,1},Float64,1,Array{ForwardDiff.Dual{ForwardDiff.Tag{##150#152{Tuple{ReverseDiff.TrackedArray{Float64,Float64,2,Array{Float64,2},Array{Float64,2}},ReverseDiff.TrackedArray{Float64,Float64,1,Array{Float64,1},Array{Float64,1}}}},Float64},Float64,1},1},Array{Float64,1}}},2}}\u001b[1m)\u001b[22m\u001b[22m at \u001b[1m/home/rdeits/locomotion/explorations/learning-mpc/packages/v0.6/ReverseDiff/src/api/utils.jl:51\u001b[22m\u001b[22m",
      " [6] \u001b[1mseeded_reverse_pass!\u001b[22m\u001b[22m\u001b[1m(\u001b[22m\u001b[22m::Tuple{Array{Float64,2},Array{Float64,2}}, ::Array{ReverseDiff.TrackedReal{ForwardDiff.Dual{ForwardDiff.Tag{##150#152{Tuple{ReverseDiff.TrackedArray{Float64,Float64,2,Array{Float64,2},Array{Float64,2}},ReverseDiff.TrackedArray{Float64,Float64,1,Array{Float64,1},Array{Float64,1}}}},Float64},Float64,1},Float64,ReverseDiff.TrackedArray{ForwardDiff.Dual{ForwardDiff.Tag{##150#152{Tuple{ReverseDiff.TrackedArray{Float64,Float64,2,Array{Float64,2},Array{Float64,2}},ReverseDiff.TrackedArray{Float64,Float64,1,Array{Float64,1},Array{Float64,1}}}},Float64},Float64,1},Float64,1,Array{ForwardDiff.Dual{ForwardDiff.Tag{##150#152{Tuple{ReverseDiff.TrackedArray{Float64,Float64,2,Array{Float64,2},Array{Float64,2}},ReverseDiff.TrackedArray{Float64,Float64,1,Array{Float64,1},Array{Float64,1}}}},Float64},Float64,1},1},Array{Float64,1}}},2}, ::Tuple{ReverseDiff.TrackedArray{Float64,Float64,2,Array{Float64,2},Array{Float64,2}},ReverseDiff.TrackedArray{Float64,Float64,1,Array{Float64,1},Array{Float64,1}}}, ::ReverseDiff.JacobianTape{##149#151,Tuple{ReverseDiff.TrackedArray{Float64,Float64,2,Array{Float64,2},Array{Float64,2}},ReverseDiff.TrackedArray{Float64,Float64,1,Array{Float64,1},Array{Float64,1}}},Array{ReverseDiff.TrackedReal{ForwardDiff.Dual{ForwardDiff.Tag{##150#152{Tuple{ReverseDiff.TrackedArray{Float64,Float64,2,Array{Float64,2},Array{Float64,2}},ReverseDiff.TrackedArray{Float64,Float64,1,Array{Float64,1},Array{Float64,1}}}},Float64},Float64,1},Float64,ReverseDiff.TrackedArray{ForwardDiff.Dual{ForwardDiff.Tag{##150#152{Tuple{ReverseDiff.TrackedArray{Float64,Float64,2,Array{Float64,2},Array{Float64,2}},ReverseDiff.TrackedArray{Float64,Float64,1,Array{Float64,1},Array{Float64,1}}}},Float64},Float64,1},Float64,1,Array{ForwardDiff.Dual{ForwardDiff.Tag{##150#152{Tuple{ReverseDiff.TrackedArray{Float64,Float64,2,Array{Float64,2},Array{Float64,2}},ReverseDiff.TrackedArray{Float64,Float64,1,Array{Float64,1},Array{Float64,1}}}},Float64},Float64,1},1},Array{Float64,1}}},2}}\u001b[1m)\u001b[22m\u001b[22m at \u001b[1m/home/rdeits/locomotion/explorations/learning-mpc/packages/v0.6/ReverseDiff/src/api/utils.jl:68\u001b[22m\u001b[22m",
      " [7] \u001b[1mseeded_reverse_pass!\u001b[22m\u001b[22m at \u001b[1m/home/rdeits/locomotion/explorations/learning-mpc/packages/v0.6/ReverseDiff/src/api/tape.jl:47\u001b[22m\u001b[22m [inlined]",
      " [8] \u001b[1mjacobian!\u001b[22m\u001b[22m at \u001b[1m/home/rdeits/locomotion/explorations/learning-mpc/packages/v0.6/ReverseDiff/src/api/jacobians.jl:122\u001b[22m\u001b[22m [inlined]",
      " [9] \u001b[1mjacobian!\u001b[22m\u001b[22m at \u001b[1m/home/rdeits/locomotion/explorations/learning-mpc/packages/v0.6/ReverseDiff/src/api/jacobians.jl:106\u001b[22m\u001b[22m [inlined]",
      " [10] \u001b[1mjacobian\u001b[22m\u001b[22m\u001b[1m(\u001b[22m\u001b[22m::Function, ::Tuple{Array{Float64,2},Array{Float64,1}}, ::ReverseDiff.JacobianConfig{Tuple{ReverseDiff.TrackedArray{Float64,Float64,2,Array{Float64,2},Array{Float64,2}},ReverseDiff.TrackedArray{Float64,Float64,1,Array{Float64,1},Array{Float64,1}}},Void}\u001b[1m)\u001b[22m\u001b[22m at \u001b[1m/home/rdeits/locomotion/explorations/learning-mpc/packages/v0.6/ReverseDiff/src/api/jacobians.jl:25\u001b[22m\u001b[22m",
      " [11] \u001b[1mjacobian\u001b[22m\u001b[22m\u001b[1m(\u001b[22m\u001b[22m::Function, ::Tuple{Array{Float64,2},Array{Float64,1}}\u001b[1m)\u001b[22m\u001b[22m at \u001b[1m/home/rdeits/locomotion/explorations/learning-mpc/packages/v0.6/ReverseDiff/src/api/jacobians.jl:23\u001b[22m\u001b[22m",
      " [12] \u001b[1minclude_string\u001b[22m\u001b[22m\u001b[1m(\u001b[22m\u001b[22m::String, ::String\u001b[1m)\u001b[22m\u001b[22m at \u001b[1m./loading.jl:522\u001b[22m\u001b[22m"
     ]
    }
   ],
   "source": [
    "f = (params, x) -> params[1] * x .+ params[2]\n",
    "ReverseDiff.jacobian((p...) -> ForwardDiff.jacobian(x -> f(p, x), [1.0]), (fill(1.0, 1, 1), [2.0]))"
   ]
  },
  {
   "cell_type": "code",
   "execution_count": 45,
   "metadata": {
    "collapsed": false
   },
   "outputs": [
    {
     "data": {
      "text/plain": [
       "Nets2.TangentPropagation{Nets2.Chain{Tuple{CoordinateTransformations.AffineMap{Array{Float64,2},Array{Float64,1}},Nets2.Affine{Array{Float64,2},Array{Float64,1}},Nets2.##1#2{Nets2.#elu}}}}(Nets2.Chain{Tuple{CoordinateTransformations.AffineMap{Array{Float64,2},Array{Float64,1}},Nets2.Affine{Array{Float64,2},Array{Float64,1}},Nets2.##1#2{Nets2.#elu}}}((AffineMap([0.9], [0.1]), Nets2.Affine, Nets2.#1)))"
      ]
     },
     "execution_count": 45,
     "metadata": {},
     "output_type": "execute_result"
    }
   ],
   "source": [
    "ct = Nets2.TangentPropagation(c)"
   ]
  },
  {
   "cell_type": "code",
   "execution_count": 46,
   "metadata": {
    "collapsed": false
   },
   "outputs": [
    {
     "data": {
      "text/plain": [
       "([1.5], [0.9])"
      ]
     },
     "execution_count": 46,
     "metadata": {},
     "output_type": "execute_result"
    }
   ],
   "source": [
    "ct([1.0])"
   ]
  },
  {
   "cell_type": "code",
   "execution_count": 48,
   "metadata": {
    "collapsed": false
   },
   "outputs": [
    {
     "ename": "LoadError",
     "evalue": "\u001b[91mMethodError: Cannot `convert` an object of type ForwardDiff.Dual{ForwardDiff.Tag{Nets2.Chain{Tuple{CoordinateTransformations.AffineMap{Array{Float64,2},Array{Float64,1}},Nets2.Affine{ReverseDiff.TrackedArray{Float64,Float64,2,Array{Float64,2},Array{Float64,2}},ReverseDiff.TrackedArray{Float64,Float64,1,Array{Float64,1},Array{Float64,1}}},Nets2.##1#2{Nets2.#elu}}},Float64},Float64,1} to an object of type Float64\nThis may have arisen from a call to the constructor Float64(...),\nsince type constructors fall back to convert methods.\u001b[39m",
     "output_type": "error",
     "traceback": [
      "\u001b[91mMethodError: Cannot `convert` an object of type ForwardDiff.Dual{ForwardDiff.Tag{Nets2.Chain{Tuple{CoordinateTransformations.AffineMap{Array{Float64,2},Array{Float64,1}},Nets2.Affine{ReverseDiff.TrackedArray{Float64,Float64,2,Array{Float64,2},Array{Float64,2}},ReverseDiff.TrackedArray{Float64,Float64,1,Array{Float64,1},Array{Float64,1}}},Nets2.##1#2{Nets2.#elu}}},Float64},Float64,1} to an object of type Float64\nThis may have arisen from a call to the constructor Float64(...),\nsince type constructors fall back to convert methods.\u001b[39m",
      "",
      "Stacktrace:",
      " [1] \u001b[1mincrement_deriv!\u001b[22m\u001b[22m at \u001b[1m/home/rdeits/locomotion/explorations/learning-mpc/packages/v0.6/ReverseDiff/src/derivatives/propagation.jl:34\u001b[22m\u001b[22m [inlined]",
      " [2] \u001b[1mdiffresult_increment_deriv!\u001b[22m\u001b[22m\u001b[1m(\u001b[22m\u001b[22m::ReverseDiff.TrackedArray{ForwardDiff.Dual{ForwardDiff.Tag{Nets2.Chain{Tuple{CoordinateTransformations.AffineMap{Array{Float64,2},Array{Float64,1}},Nets2.Affine{ReverseDiff.TrackedArray{Float64,Float64,2,Array{Float64,2},Array{Float64,2}},ReverseDiff.TrackedArray{Float64,Float64,1,Array{Float64,1},Array{Float64,1}}},Nets2.##1#2{Nets2.#elu}}},Float64},Float64,1},Float64,1,Array{ForwardDiff.Dual{ForwardDiff.Tag{Nets2.Chain{Tuple{CoordinateTransformations.AffineMap{Array{Float64,2},Array{Float64,1}},Nets2.Affine{ReverseDiff.TrackedArray{Float64,Float64,2,Array{Float64,2},Array{Float64,2}},ReverseDiff.TrackedArray{Float64,Float64,1,Array{Float64,1},Array{Float64,1}}},Nets2.##1#2{Nets2.#elu}}},Float64},Float64,1},1},Array{Float64,1}}, ::Array{Float64,1}, ::Array{DiffResults.ImmutableDiffResult{1,ForwardDiff.Dual{ForwardDiff.Tag{Nets2.Chain{Tuple{CoordinateTransformations.AffineMap{Array{Float64,2},Array{Float64,1}},Nets2.Affine{ReverseDiff.TrackedArray{Float64,Float64,2,Array{Float64,2},Array{Float64,2}},ReverseDiff.TrackedArray{Float64,Float64,1,Array{Float64,1},Array{Float64,1}}},Nets2.##1#2{Nets2.#elu}}},Float64},Float64,1},Tuple{ForwardDiff.Dual{ForwardDiff.Tag{Nets2.Chain{Tuple{CoordinateTransformations.AffineMap{Array{Float64,2},Array{Float64,1}},Nets2.Affine{ReverseDiff.TrackedArray{Float64,Float64,2,Array{Float64,2},Array{Float64,2}},ReverseDiff.TrackedArray{Float64,Float64,1,Array{Float64,1},Array{Float64,1}}},Nets2.##1#2{Nets2.#elu}}},Float64},Float64,1}}},1}, ::Int64\u001b[1m)\u001b[22m\u001b[22m at \u001b[1m/home/rdeits/locomotion/explorations/learning-mpc/packages/v0.6/ReverseDiff/src/derivatives/propagation.jl:85\u001b[22m\u001b[22m",
      " [3] \u001b[1mspecial_reverse_exec!\u001b[22m\u001b[22m\u001b[1m(\u001b[22m\u001b[22m::ReverseDiff.SpecialInstruction{Base.#broadcast,ReverseDiff.TrackedArray{ForwardDiff.Dual{ForwardDiff.Tag{Nets2.Chain{Tuple{CoordinateTransformations.AffineMap{Array{Float64,2},Array{Float64,1}},Nets2.Affine{ReverseDiff.TrackedArray{Float64,Float64,2,Array{Float64,2},Array{Float64,2}},ReverseDiff.TrackedArray{Float64,Float64,1,Array{Float64,1},Array{Float64,1}}},Nets2.##1#2{Nets2.#elu}}},Float64},Float64,1},Float64,1,Array{ForwardDiff.Dual{ForwardDiff.Tag{Nets2.Chain{Tuple{CoordinateTransformations.AffineMap{Array{Float64,2},Array{Float64,1}},Nets2.Affine{ReverseDiff.TrackedArray{Float64,Float64,2,Array{Float64,2},Array{Float64,2}},ReverseDiff.TrackedArray{Float64,Float64,1,Array{Float64,1},Array{Float64,1}}},Nets2.##1#2{Nets2.#elu}}},Float64},Float64,1},1},Array{Float64,1}},ReverseDiff.TrackedArray{ForwardDiff.Dual{ForwardDiff.Tag{Nets2.Chain{Tuple{CoordinateTransformations.AffineMap{Array{Float64,2},Array{Float64,1}},Nets2.Affine{ReverseDiff.TrackedArray{Float64,Float64,2,Array{Float64,2},Array{Float64,2}},ReverseDiff.TrackedArray{Float64,Float64,1,Array{Float64,1},Array{Float64,1}}},Nets2.##1#2{Nets2.#elu}}},Float64},Float64,1},Float64,1,Array{ForwardDiff.Dual{ForwardDiff.Tag{Nets2.Chain{Tuple{CoordinateTransformations.AffineMap{Array{Float64,2},Array{Float64,1}},Nets2.Affine{ReverseDiff.TrackedArray{Float64,Float64,2,Array{Float64,2},Array{Float64,2}},ReverseDiff.TrackedArray{Float64,Float64,1,Array{Float64,1},Array{Float64,1}}},Nets2.##1#2{Nets2.#elu}}},Float64},Float64,1},1},Array{Float64,1}},Tuple{Array{DiffResults.ImmutableDiffResult{1,ForwardDiff.Dual{ForwardDiff.Tag{Nets2.Chain{Tuple{CoordinateTransformations.AffineMap{Array{Float64,2},Array{Float64,1}},Nets2.Affine{ReverseDiff.TrackedArray{Float64,Float64,2,Array{Float64,2},Array{Float64,2}},ReverseDiff.TrackedArray{Float64,Float64,1,Array{Float64,1},Array{Float64,1}}},Nets2.##1#2{Nets2.#elu}}},Float64},Float64,1},Tuple{ForwardDiff.Dual{ForwardDiff.Tag{Nets2.Chain{Tuple{CoordinateTransformations.AffineMap{Array{Float64,2},Array{Float64,1}},Nets2.Affine{ReverseDiff.TrackedArray{Float64,Float64,2,Array{Float64,2},Array{Float64,2}},ReverseDiff.TrackedArray{Float64,Float64,1,Array{Float64,1},Array{Float64,1}}},Nets2.##1#2{Nets2.#elu}}},Float64},Float64,1}}},1},ReverseDiff.##389#390{ReverseDiff.ForwardOptimize{Nets2.#elu},DiffResults.ImmutableDiffResult{1,ForwardDiff.Dual{ForwardDiff.Tag{Nets2.Chain{Tuple{CoordinateTransformations.AffineMap{Array{Float64,2},Array{Float64,1}},Nets2.Affine{ReverseDiff.TrackedArray{Float64,Float64,2,Array{Float64,2},Array{Float64,2}},ReverseDiff.TrackedArray{Float64,Float64,1,Array{Float64,1},Array{Float64,1}}},Nets2.##1#2{Nets2.#elu}}},Float64},Float64,1},Tuple{ForwardDiff.Dual{ForwardDiff.Tag{Nets2.Chain{Tuple{CoordinateTransformations.AffineMap{Array{Float64,2},Array{Float64,1}},Nets2.Affine{ReverseDiff.TrackedArray{Float64,Float64,2,Array{Float64,2},Array{Float64,2}},ReverseDiff.TrackedArray{Float64,Float64,1,Array{Float64,1},Array{Float64,1}}},Nets2.##1#2{Nets2.#elu}}},Float64},Float64,1}}}},CartesianIndex{1},Void}}\u001b[1m)\u001b[22m\u001b[22m at \u001b[1m/home/rdeits/locomotion/explorations/learning-mpc/packages/v0.6/ReverseDiff/src/derivatives/elementwise.jl:300\u001b[22m\u001b[22m",
      " [4] \u001b[1mreverse_exec!\u001b[22m\u001b[22m\u001b[1m(\u001b[22m\u001b[22m::ReverseDiff.SpecialInstruction{Base.#broadcast,ReverseDiff.TrackedArray{ForwardDiff.Dual{ForwardDiff.Tag{Nets2.Chain{Tuple{CoordinateTransformations.AffineMap{Array{Float64,2},Array{Float64,1}},Nets2.Affine{ReverseDiff.TrackedArray{Float64,Float64,2,Array{Float64,2},Array{Float64,2}},ReverseDiff.TrackedArray{Float64,Float64,1,Array{Float64,1},Array{Float64,1}}},Nets2.##1#2{Nets2.#elu}}},Float64},Float64,1},Float64,1,Array{ForwardDiff.Dual{ForwardDiff.Tag{Nets2.Chain{Tuple{CoordinateTransformations.AffineMap{Array{Float64,2},Array{Float64,1}},Nets2.Affine{ReverseDiff.TrackedArray{Float64,Float64,2,Array{Float64,2},Array{Float64,2}},ReverseDiff.TrackedArray{Float64,Float64,1,Array{Float64,1},Array{Float64,1}}},Nets2.##1#2{Nets2.#elu}}},Float64},Float64,1},1},Array{Float64,1}},ReverseDiff.TrackedArray{ForwardDiff.Dual{ForwardDiff.Tag{Nets2.Chain{Tuple{CoordinateTransformations.AffineMap{Array{Float64,2},Array{Float64,1}},Nets2.Affine{ReverseDiff.TrackedArray{Float64,Float64,2,Array{Float64,2},Array{Float64,2}},ReverseDiff.TrackedArray{Float64,Float64,1,Array{Float64,1},Array{Float64,1}}},Nets2.##1#2{Nets2.#elu}}},Float64},Float64,1},Float64,1,Array{ForwardDiff.Dual{ForwardDiff.Tag{Nets2.Chain{Tuple{CoordinateTransformations.AffineMap{Array{Float64,2},Array{Float64,1}},Nets2.Affine{ReverseDiff.TrackedArray{Float64,Float64,2,Array{Float64,2},Array{Float64,2}},ReverseDiff.TrackedArray{Float64,Float64,1,Array{Float64,1},Array{Float64,1}}},Nets2.##1#2{Nets2.#elu}}},Float64},Float64,1},1},Array{Float64,1}},Tuple{Array{DiffResults.ImmutableDiffResult{1,ForwardDiff.Dual{ForwardDiff.Tag{Nets2.Chain{Tuple{CoordinateTransformations.AffineMap{Array{Float64,2},Array{Float64,1}},Nets2.Affine{ReverseDiff.TrackedArray{Float64,Float64,2,Array{Float64,2},Array{Float64,2}},ReverseDiff.TrackedArray{Float64,Float64,1,Array{Float64,1},Array{Float64,1}}},Nets2.##1#2{Nets2.#elu}}},Float64},Float64,1},Tuple{ForwardDiff.Dual{ForwardDiff.Tag{Nets2.Chain{Tuple{CoordinateTransformations.AffineMap{Array{Float64,2},Array{Float64,1}},Nets2.Affine{ReverseDiff.TrackedArray{Float64,Float64,2,Array{Float64,2},Array{Float64,2}},ReverseDiff.TrackedArray{Float64,Float64,1,Array{Float64,1},Array{Float64,1}}},Nets2.##1#2{Nets2.#elu}}},Float64},Float64,1}}},1},ReverseDiff.##389#390{ReverseDiff.ForwardOptimize{Nets2.#elu},DiffResults.ImmutableDiffResult{1,ForwardDiff.Dual{ForwardDiff.Tag{Nets2.Chain{Tuple{CoordinateTransformations.AffineMap{Array{Float64,2},Array{Float64,1}},Nets2.Affine{ReverseDiff.TrackedArray{Float64,Float64,2,Array{Float64,2},Array{Float64,2}},ReverseDiff.TrackedArray{Float64,Float64,1,Array{Float64,1},Array{Float64,1}}},Nets2.##1#2{Nets2.#elu}}},Float64},Float64,1},Tuple{ForwardDiff.Dual{ForwardDiff.Tag{Nets2.Chain{Tuple{CoordinateTransformations.AffineMap{Array{Float64,2},Array{Float64,1}},Nets2.Affine{ReverseDiff.TrackedArray{Float64,Float64,2,Array{Float64,2},Array{Float64,2}},ReverseDiff.TrackedArray{Float64,Float64,1,Array{Float64,1},Array{Float64,1}}},Nets2.##1#2{Nets2.#elu}}},Float64},Float64,1}}}},CartesianIndex{1},Void}}\u001b[1m)\u001b[22m\u001b[22m at \u001b[1m/home/rdeits/locomotion/explorations/learning-mpc/packages/v0.6/ReverseDiff/src/tape.jl:93\u001b[22m\u001b[22m",
      " [5] \u001b[1mreverse_pass!\u001b[22m\u001b[22m\u001b[1m(\u001b[22m\u001b[22m::Array{ReverseDiff.AbstractInstruction,1}\u001b[1m)\u001b[22m\u001b[22m at \u001b[1m/home/rdeits/locomotion/explorations/learning-mpc/packages/v0.6/ReverseDiff/src/tape.jl:87\u001b[22m\u001b[22m",
      " [6] \u001b[1mseeded_reverse_pass!\u001b[22m\u001b[22m\u001b[1m(\u001b[22m\u001b[22m::Tuple{Array{Float64,2},Array{Float64,1}}, ::ReverseDiff.TrackedReal{ForwardDiff.Dual{ForwardDiff.Tag{Nets2.Chain{Tuple{CoordinateTransformations.AffineMap{Array{Float64,2},Array{Float64,1}},Nets2.Affine{ReverseDiff.TrackedArray{Float64,Float64,2,Array{Float64,2},Array{Float64,2}},ReverseDiff.TrackedArray{Float64,Float64,1,Array{Float64,1},Array{Float64,1}}},Nets2.##1#2{Nets2.#elu}}},Float64},Float64,1},Float64,ReverseDiff.TrackedArray{ForwardDiff.Dual{ForwardDiff.Tag{Nets2.Chain{Tuple{CoordinateTransformations.AffineMap{Array{Float64,2},Array{Float64,1}},Nets2.Affine{ReverseDiff.TrackedArray{Float64,Float64,2,Array{Float64,2},Array{Float64,2}},ReverseDiff.TrackedArray{Float64,Float64,1,Array{Float64,1},Array{Float64,1}}},Nets2.##1#2{Nets2.#elu}}},Float64},Float64,1},Float64,2,Array{ForwardDiff.Dual{ForwardDiff.Tag{Nets2.Chain{Tuple{CoordinateTransformations.AffineMap{Array{Float64,2},Array{Float64,1}},Nets2.Affine{ReverseDiff.TrackedArray{Float64,Float64,2,Array{Float64,2},Array{Float64,2}},ReverseDiff.TrackedArray{Float64,Float64,1,Array{Float64,1},Array{Float64,1}}},Nets2.##1#2{Nets2.#elu}}},Float64},Float64,1},2},Array{Float64,2}}}, ::Tuple{ReverseDiff.TrackedArray{Float64,Float64,2,Array{Float64,2},Array{Float64,2}},ReverseDiff.TrackedArray{Float64,Float64,1,Array{Float64,1},Array{Float64,1}}}, ::ReverseDiff.GradientTape{##79#80,Tuple{ReverseDiff.TrackedArray{Float64,Float64,2,Array{Float64,2},Array{Float64,2}},ReverseDiff.TrackedArray{Float64,Float64,1,Array{Float64,1},Array{Float64,1}}},ReverseDiff.TrackedReal{ForwardDiff.Dual{ForwardDiff.Tag{Nets2.Chain{Tuple{CoordinateTransformations.AffineMap{Array{Float64,2},Array{Float64,1}},Nets2.Affine{ReverseDiff.TrackedArray{Float64,Float64,2,Array{Float64,2},Array{Float64,2}},ReverseDiff.TrackedArray{Float64,Float64,1,Array{Float64,1},Array{Float64,1}}},Nets2.##1#2{Nets2.#elu}}},Float64},Float64,1},Float64,ReverseDiff.TrackedArray{ForwardDiff.Dual{ForwardDiff.Tag{Nets2.Chain{Tuple{CoordinateTransformations.AffineMap{Array{Float64,2},Array{Float64,1}},Nets2.Affine{ReverseDiff.TrackedArray{Float64,Float64,2,Array{Float64,2},Array{Float64,2}},ReverseDiff.TrackedArray{Float64,Float64,1,Array{Float64,1},Array{Float64,1}}},Nets2.##1#2{Nets2.#elu}}},Float64},Float64,1},Float64,2,Array{ForwardDiff.Dual{ForwardDiff.Tag{Nets2.Chain{Tuple{CoordinateTransformations.AffineMap{Array{Float64,2},Array{Float64,1}},Nets2.Affine{ReverseDiff.TrackedArray{Float64,Float64,2,Array{Float64,2},Array{Float64,2}},ReverseDiff.TrackedArray{Float64,Float64,1,Array{Float64,1},Array{Float64,1}}},Nets2.##1#2{Nets2.#elu}}},Float64},Float64,1},2},Array{Float64,2}}}}\u001b[1m)\u001b[22m\u001b[22m at \u001b[1m/home/rdeits/locomotion/explorations/learning-mpc/packages/v0.6/ReverseDiff/src/api/utils.jl:31\u001b[22m\u001b[22m",
      " [7] \u001b[1mseeded_reverse_pass!\u001b[22m\u001b[22m at \u001b[1m/home/rdeits/locomotion/explorations/learning-mpc/packages/v0.6/ReverseDiff/src/api/tape.jl:47\u001b[22m\u001b[22m [inlined]",
      " [8] \u001b[1mgradient\u001b[22m\u001b[22m\u001b[1m(\u001b[22m\u001b[22m::Function, ::Tuple{Array{Float64,2},Array{Float64,1}}, ::ReverseDiff.GradientConfig{Tuple{ReverseDiff.TrackedArray{Float64,Float64,2,Array{Float64,2},Array{Float64,2}},ReverseDiff.TrackedArray{Float64,Float64,1,Array{Float64,1},Array{Float64,1}}}}\u001b[1m)\u001b[22m\u001b[22m at \u001b[1m/home/rdeits/locomotion/explorations/learning-mpc/packages/v0.6/ReverseDiff/src/api/gradients.jl:24\u001b[22m\u001b[22m",
      " [9] \u001b[1mgradient\u001b[22m\u001b[22m\u001b[1m(\u001b[22m\u001b[22m::Function, ::Tuple{Array{Float64,2},Array{Float64,1}}\u001b[1m)\u001b[22m\u001b[22m at \u001b[1m/home/rdeits/locomotion/explorations/learning-mpc/packages/v0.6/ReverseDiff/src/api/gradients.jl:22\u001b[22m\u001b[22m",
      " [10] \u001b[1minclude_string\u001b[22m\u001b[22m\u001b[1m(\u001b[22m\u001b[22m::String, ::String\u001b[1m)\u001b[22m\u001b[22m at \u001b[1m./loading.jl:522\u001b[22m\u001b[22m"
     ]
    }
   ],
   "source": [
    "ReverseDiff.gradient((p...) -> sum(Nets2.with_params(ct, p...)([1.0]))[1], params)"
   ]
  },
  {
   "cell_type": "code",
   "execution_count": 130,
   "metadata": {
    "collapsed": false
   },
   "outputs": [
    {
     "data": {
      "text/plain": [
       "Nets2.TangentPropagation{Nets2.Chain{Tuple{CoordinateTransformations.AffineMap{Array{Float64,2},Array{Float64,1}},Nets2.Affine{Array{Float64,2},Array{Float64,1}},Nets2.##1#2{Nets2.#elu}}}}(Nets2.Chain{Tuple{CoordinateTransformations.AffineMap{Array{Float64,2},Array{Float64,1}},Nets2.Affine{Array{Float64,2},Array{Float64,1}},Nets2.##1#2{Nets2.#elu}}}((AffineMap([0.9], [0.1]), Nets2.Affine, Nets2.#1)))"
      ]
     },
     "execution_count": 130,
     "metadata": {},
     "output_type": "execute_result"
    }
   ],
   "source": [
    "net"
   ]
  },
  {
   "cell_type": "code",
   "execution_count": 131,
   "metadata": {
    "collapsed": false
   },
   "outputs": [
    {
     "data": {
      "text/plain": [
       "Nets2.TangentPropagation{Nets2.Chain{Tuple{CoordinateTransformations.AffineMap{Array{Float64,2},Array{Float64,1}},Nets2.Affine{Array{Float64,2},Array{Float64,1}},Nets2.##1#2{Nets2.#elu}}}}(Nets2.Chain{Tuple{CoordinateTransformations.AffineMap{Array{Float64,2},Array{Float64,1}},Nets2.Affine{Array{Float64,2},Array{Float64,1}},Nets2.##1#2{Nets2.#elu}}}((AffineMap([0.9], [0.1]), Nets2.Affine, Nets2.#1)))"
      ]
     },
     "execution_count": 131,
     "metadata": {},
     "output_type": "execute_result"
    }
   ],
   "source": [
    "Nets2.with_params(net, Nets2.params(net)...)"
   ]
  },
  {
   "cell_type": "code",
   "execution_count": 133,
   "metadata": {
    "collapsed": false
   },
   "outputs": [
    {
     "data": {
      "text/plain": [
       "([-3.12548], [-0.313086])"
      ]
     },
     "execution_count": 133,
     "metadata": {},
     "output_type": "execute_result"
    }
   ],
   "source": [
    "Nets2.params(net)"
   ]
  },
  {
   "cell_type": "code",
   "execution_count": 136,
   "metadata": {
    "collapsed": false,
    "deletable": true,
    "editable": true
   },
   "outputs": [
    {
     "name": "stdout",
     "output_type": "stream",
     "text": [
      "loss(Nets2.params(net)) = 18.17869125618248\n"
     ]
    },
    {
     "ename": "LoadError",
     "evalue": "\u001b[91mMethodError: Cannot `convert` an object of type ForwardDiff.Dual{ForwardDiff.Tag{Nets2.Chain{Tuple{CoordinateTransformations.AffineMap{Array{Float64,2},Array{Float64,1}},Nets2.Affine{ReverseDiff.TrackedArray{Float64,Float64,2,Array{Float64,2},Array{Float64,2}},ReverseDiff.TrackedArray{Float64,Float64,1,Array{Float64,1},Array{Float64,1}}},Nets2.##1#2{Nets2.#elu}}},Float64},Float64,1} to an object of type Float64\nThis may have arisen from a call to the constructor Float64(...),\nsince type constructors fall back to convert methods.\u001b[39m",
     "output_type": "error",
     "traceback": [
      "\u001b[91mMethodError: Cannot `convert` an object of type ForwardDiff.Dual{ForwardDiff.Tag{Nets2.Chain{Tuple{CoordinateTransformations.AffineMap{Array{Float64,2},Array{Float64,1}},Nets2.Affine{ReverseDiff.TrackedArray{Float64,Float64,2,Array{Float64,2},Array{Float64,2}},ReverseDiff.TrackedArray{Float64,Float64,1,Array{Float64,1},Array{Float64,1}}},Nets2.##1#2{Nets2.#elu}}},Float64},Float64,1} to an object of type Float64\nThis may have arisen from a call to the constructor Float64(...),\nsince type constructors fall back to convert methods.\u001b[39m",
      "",
      "Stacktrace:",
      " [1] \u001b[1mincrement_deriv!\u001b[22m\u001b[22m\u001b[1m(\u001b[22m\u001b[22m::ReverseDiff.TrackedReal{ForwardDiff.Dual{ForwardDiff.Tag{Nets2.Chain{Tuple{CoordinateTransformations.AffineMap{Array{Float64,2},Array{Float64,1}},Nets2.Affine{ReverseDiff.TrackedArray{Float64,Float64,2,Array{Float64,2},Array{Float64,2}},ReverseDiff.TrackedArray{Float64,Float64,1,Array{Float64,1},Array{Float64,1}}},Nets2.##1#2{Nets2.#elu}}},Float64},Float64,1},Float64,Void}, ::ForwardDiff.Dual{ForwardDiff.Tag{Nets2.Chain{Tuple{CoordinateTransformations.AffineMap{Array{Float64,2},Array{Float64,1}},Nets2.Affine{ReverseDiff.TrackedArray{Float64,Float64,2,Array{Float64,2},Array{Float64,2}},ReverseDiff.TrackedArray{Float64,Float64,1,Array{Float64,1},Array{Float64,1}}},Nets2.##1#2{Nets2.#elu}}},Float64},Float64,1}\u001b[1m)\u001b[22m\u001b[22m at \u001b[1m/home/rdeits/locomotion/explorations/learning-mpc/packages/v0.6/ReverseDiff/src/derivatives/propagation.jl:47\u001b[22m\u001b[22m",
      " [2] \u001b[1mscalar_reverse_exec!\u001b[22m\u001b[22m\u001b[1m(\u001b[22m\u001b[22m::ReverseDiff.ScalarInstruction{Base.#+,Tuple{ReverseDiff.TrackedReal{ForwardDiff.Dual{ForwardDiff.Tag{Nets2.Chain{Tuple{CoordinateTransformations.AffineMap{Array{Float64,2},Array{Float64,1}},Nets2.Affine{ReverseDiff.TrackedArray{Float64,Float64,2,Array{Float64,2},Array{Float64,2}},ReverseDiff.TrackedArray{Float64,Float64,1,Array{Float64,1},Array{Float64,1}}},Nets2.##1#2{Nets2.#elu}}},Float64},Float64,1},Float64,Void},ForwardDiff.Dual{ForwardDiff.Tag{Nets2.Chain{Tuple{CoordinateTransformations.AffineMap{Array{Float64,2},Array{Float64,1}},Nets2.Affine{ReverseDiff.TrackedArray{Float64,Float64,2,Array{Float64,2},Array{Float64,2}},ReverseDiff.TrackedArray{Float64,Float64,1,Array{Float64,1},Array{Float64,1}}},Nets2.##1#2{Nets2.#elu}}},Float64},Float64,1}},ReverseDiff.TrackedReal{ForwardDiff.Dual{ForwardDiff.Tag{Nets2.Chain{Tuple{CoordinateTransformations.AffineMap{Array{Float64,2},Array{Float64,1}},Nets2.Affine{ReverseDiff.TrackedArray{Float64,Float64,2,Array{Float64,2},Array{Float64,2}},ReverseDiff.TrackedArray{Float64,Float64,1,Array{Float64,1},Array{Float64,1}}},Nets2.##1#2{Nets2.#elu}}},Float64},Float64,1},Float64,Void},Base.RefValue{SVector{2,ForwardDiff.Dual{ForwardDiff.Tag{Nets2.Chain{Tuple{CoordinateTransformations.AffineMap{Array{Float64,2},Array{Float64,1}},Nets2.Affine{ReverseDiff.TrackedArray{Float64,Float64,2,Array{Float64,2},Array{Float64,2}},ReverseDiff.TrackedArray{Float64,Float64,1,Array{Float64,1},Array{Float64,1}}},Nets2.##1#2{Nets2.#elu}}},Float64},Float64,1}}}}\u001b[1m)\u001b[22m\u001b[22m at \u001b[1m/home/rdeits/locomotion/explorations/learning-mpc/packages/v0.6/ReverseDiff/src/derivatives/scalars.jl:62\u001b[22m\u001b[22m",
      " [3] \u001b[1mreverse_exec!\u001b[22m\u001b[22m\u001b[1m(\u001b[22m\u001b[22m::ReverseDiff.ScalarInstruction{Base.#+,Tuple{ReverseDiff.TrackedReal{ForwardDiff.Dual{ForwardDiff.Tag{Nets2.Chain{Tuple{CoordinateTransformations.AffineMap{Array{Float64,2},Array{Float64,1}},Nets2.Affine{ReverseDiff.TrackedArray{Float64,Float64,2,Array{Float64,2},Array{Float64,2}},ReverseDiff.TrackedArray{Float64,Float64,1,Array{Float64,1},Array{Float64,1}}},Nets2.##1#2{Nets2.#elu}}},Float64},Float64,1},Float64,Void},ForwardDiff.Dual{ForwardDiff.Tag{Nets2.Chain{Tuple{CoordinateTransformations.AffineMap{Array{Float64,2},Array{Float64,1}},Nets2.Affine{ReverseDiff.TrackedArray{Float64,Float64,2,Array{Float64,2},Array{Float64,2}},ReverseDiff.TrackedArray{Float64,Float64,1,Array{Float64,1},Array{Float64,1}}},Nets2.##1#2{Nets2.#elu}}},Float64},Float64,1}},ReverseDiff.TrackedReal{ForwardDiff.Dual{ForwardDiff.Tag{Nets2.Chain{Tuple{CoordinateTransformations.AffineMap{Array{Float64,2},Array{Float64,1}},Nets2.Affine{ReverseDiff.TrackedArray{Float64,Float64,2,Array{Float64,2},Array{Float64,2}},ReverseDiff.TrackedArray{Float64,Float64,1,Array{Float64,1},Array{Float64,1}}},Nets2.##1#2{Nets2.#elu}}},Float64},Float64,1},Float64,Void},Base.RefValue{SVector{2,ForwardDiff.Dual{ForwardDiff.Tag{Nets2.Chain{Tuple{CoordinateTransformations.AffineMap{Array{Float64,2},Array{Float64,1}},Nets2.Affine{ReverseDiff.TrackedArray{Float64,Float64,2,Array{Float64,2},Array{Float64,2}},ReverseDiff.TrackedArray{Float64,Float64,1,Array{Float64,1},Array{Float64,1}}},Nets2.##1#2{Nets2.#elu}}},Float64},Float64,1}}}}\u001b[1m)\u001b[22m\u001b[22m at \u001b[1m/home/rdeits/locomotion/explorations/learning-mpc/packages/v0.6/ReverseDiff/src/tape.jl:92\u001b[22m\u001b[22m",
      " [4] \u001b[1mreverse_pass!\u001b[22m\u001b[22m\u001b[1m(\u001b[22m\u001b[22m::Array{ReverseDiff.AbstractInstruction,1}\u001b[1m)\u001b[22m\u001b[22m at \u001b[1m/home/rdeits/locomotion/explorations/learning-mpc/packages/v0.6/ReverseDiff/src/tape.jl:87\u001b[22m\u001b[22m",
      " [5] \u001b[1mseeded_reverse_pass!\u001b[22m\u001b[22m\u001b[1m(\u001b[22m\u001b[22m::Tuple{Array{Float64,2},Array{Float64,1}}, ::ReverseDiff.TrackedReal{ForwardDiff.Dual{ForwardDiff.Tag{Nets2.Chain{Tuple{CoordinateTransformations.AffineMap{Array{Float64,2},Array{Float64,1}},Nets2.Affine{ReverseDiff.TrackedArray{Float64,Float64,2,Array{Float64,2},Array{Float64,2}},ReverseDiff.TrackedArray{Float64,Float64,1,Array{Float64,1},Array{Float64,1}}},Nets2.##1#2{Nets2.#elu}}},Float64},Float64,1},Float64,Void}, ::Tuple{ReverseDiff.TrackedArray{Float64,Float64,2,Array{Float64,2},Array{Float64,2}},ReverseDiff.TrackedArray{Float64,Float64,1,Array{Float64,1},Array{Float64,1}}}, ::ReverseDiff.GradientTape{#loss,Tuple{ReverseDiff.TrackedArray{Float64,Float64,2,Array{Float64,2},Array{Float64,2}},ReverseDiff.TrackedArray{Float64,Float64,1,Array{Float64,1},Array{Float64,1}}},ReverseDiff.TrackedReal{ForwardDiff.Dual{ForwardDiff.Tag{Nets2.Chain{Tuple{CoordinateTransformations.AffineMap{Array{Float64,2},Array{Float64,1}},Nets2.Affine{ReverseDiff.TrackedArray{Float64,Float64,2,Array{Float64,2},Array{Float64,2}},ReverseDiff.TrackedArray{Float64,Float64,1,Array{Float64,1},Array{Float64,1}}},Nets2.##1#2{Nets2.#elu}}},Float64},Float64,1},Float64,Void}}\u001b[1m)\u001b[22m\u001b[22m at \u001b[1m/home/rdeits/locomotion/explorations/learning-mpc/packages/v0.6/ReverseDiff/src/api/utils.jl:31\u001b[22m\u001b[22m",
      " [6] \u001b[1mseeded_reverse_pass!\u001b[22m\u001b[22m at \u001b[1m/home/rdeits/locomotion/explorations/learning-mpc/packages/v0.6/ReverseDiff/src/api/tape.jl:47\u001b[22m\u001b[22m [inlined]",
      " [7] \u001b[1mgradient\u001b[22m\u001b[22m\u001b[1m(\u001b[22m\u001b[22m::Function, ::Tuple{Array{Float64,2},Array{Float64,1}}, ::ReverseDiff.GradientConfig{Tuple{ReverseDiff.TrackedArray{Float64,Float64,2,Array{Float64,2},Array{Float64,2}},ReverseDiff.TrackedArray{Float64,Float64,1,Array{Float64,1},Array{Float64,1}}}}\u001b[1m)\u001b[22m\u001b[22m at \u001b[1m/home/rdeits/locomotion/explorations/learning-mpc/packages/v0.6/ReverseDiff/src/api/gradients.jl:24\u001b[22m\u001b[22m",
      " [8] \u001b[1mmacro expansion\u001b[22m\u001b[22m at \u001b[1m./In[136]:12\u001b[22m\u001b[22m [inlined]",
      " [9] \u001b[1manonymous\u001b[22m\u001b[22m at \u001b[1m./<missing>:?\u001b[22m\u001b[22m",
      " [10] \u001b[1minclude_string\u001b[22m\u001b[22m\u001b[1m(\u001b[22m\u001b[22m::String, ::String\u001b[1m)\u001b[22m\u001b[22m at \u001b[1m./loading.jl:522\u001b[22m\u001b[22m"
     ]
    }
   ],
   "source": [
    "x = [2.0]\n",
    "yJ = [3.0 1.5]\n",
    "net = Nets2.TangentPropagation(c)\n",
    "Nets2.initialize!(randn, Nets2.params(net))\n",
    "\n",
    "loss(params) = sum(abs2, Nets2.with_params(net, params...)(x) .- yJ)\n",
    "\n",
    "@show loss(Nets2.params(net))\n",
    "\n",
    "params = Nets2.params(net)\n",
    "for i in 1:100\n",
    "    ∇ = ReverseDiff.gradient(loss, params)\n",
    "    params = params .- 0.01 .* ∇\n",
    "end\n",
    "    \n",
    "@show loss(Nets2.params(net))"
   ]
  },
  {
   "cell_type": "code",
   "execution_count": null,
   "metadata": {
    "collapsed": true
   },
   "outputs": [],
   "source": []
  }
 ],
 "metadata": {
  "kernelspec": {
   "display_name": "Julia 0.6.1",
   "language": "julia",
   "name": "julia-0.6"
  },
  "language_info": {
   "file_extension": ".jl",
   "mimetype": "application/julia",
   "name": "julia",
   "version": "0.6.1"
  }
 },
 "nbformat": 4,
 "nbformat_minor": 2
}
