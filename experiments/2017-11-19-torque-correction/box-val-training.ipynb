{
 "cells": [
  {
   "cell_type": "code",
   "execution_count": null,
   "metadata": {
    "collapsed": true,
    "deletable": true,
    "editable": true
   },
   "outputs": [],
   "source": [
    "using Revise"
   ]
  },
  {
   "cell_type": "code",
   "execution_count": null,
   "metadata": {
    "collapsed": false,
    "deletable": true,
    "editable": true
   },
   "outputs": [],
   "source": [
    "using RigidBodyDynamics\n",
    "using Gurobi\n",
    "using DrakeVisualizer\n",
    "using ProgressMeter\n",
    "using CoordinateTransformations\n",
    "using MLDataPattern\n",
    "using JLD2\n",
    "DrakeVisualizer.any_open_windows() || DrakeVisualizer.new_window()\n",
    "using RigidBodyTreeInspector"
   ]
  },
  {
   "cell_type": "code",
   "execution_count": null,
   "metadata": {
    "collapsed": false,
    "deletable": true,
    "editable": true
   },
   "outputs": [],
   "source": [
    "import LCPSim\n",
    "import LearningMPC\n",
    "import BoxValkyries\n",
    "import Nets"
   ]
  },
  {
   "cell_type": "code",
   "execution_count": null,
   "metadata": {
    "collapsed": true,
    "deletable": true,
    "editable": true
   },
   "outputs": [],
   "source": [
    "# reload(\"LCPSim\")\n",
    "# reload(\"LearningMPC\")\n",
    "# reload(\"BoxValkyries\")"
   ]
  },
  {
   "cell_type": "code",
   "execution_count": null,
   "metadata": {
    "collapsed": false,
    "deletable": true,
    "editable": true
   },
   "outputs": [],
   "source": [
    "boxval = BoxValkyries.BoxValkyrie()\n",
    "mechanism = boxval.mechanism\n",
    "xstar = BoxValkyries.nominal_state(boxval)\n",
    "\n",
    "basevis = Visualizer()[:box_robot]\n",
    "setgeometry!(basevis, boxval)\n",
    "settransform!(basevis[:robot], xstar)"
   ]
  },
  {
   "cell_type": "code",
   "execution_count": null,
   "metadata": {
    "collapsed": false,
    "deletable": true,
    "editable": true
   },
   "outputs": [],
   "source": [
    "nx = num_positions(mechanism) + num_velocities(mechanism)\n",
    "nu = num_velocities(mechanism)\n",
    "\n",
    "activation = Nets.leaky_relu\n",
    "function sensitive_loss(λ)\n",
    "    q = fill(λ, 1, 1 + nx)\n",
    "    q[1] = 1 - λ\n",
    "    (params, x, y) -> sum(abs2, \n",
    "        q .* (Nets.predict_sensitivity(Nets.Net(Nets.Params(widths, params), activation, x_to_u, v_to_y), x) .- y))\n",
    "end\n",
    "\n",
    "p_train = 0.6\n",
    "p_validate = 0.2"
   ]
  },
  {
   "cell_type": "code",
   "execution_count": null,
   "metadata": {
    "collapsed": false,
    "deletable": true,
    "editable": true
   },
   "outputs": [],
   "source": [
    "mpc_params = LearningMPC.MPCParams(\n",
    "    Δt=0.04,\n",
    "    horizon=15,\n",
    "    mip_solver=GurobiSolver(Gurobi.Env(), TimeLimit=120, MIPGap=1e-1, MIPGapAbs=5, FeasibilityTol=1e-3),\n",
    "    lcp_solver=GurobiSolver(Gurobi.Env(), OutputFlag=0))\n",
    "\n",
    "feet = findbody.(mechanism, [\"rf\", \"lf\"])\n",
    "contacts = [Point3D(default_frame(body), 0., 0, 0) for body in feet]\n",
    "Q, R = BoxValkyries.default_costs(xstar)\n",
    "lqrsol = LearningMPC.LQRSolution(xstar, Q, R, contacts, mpc_params.Δt)\n",
    "lqrsol.S[1,:] .= 0\n",
    "lqrsol.S[:,1] .= 0\n",
    "lqrsol.K[:,1] .= 0;"
   ]
  },
  {
   "cell_type": "code",
   "execution_count": null,
   "metadata": {
    "collapsed": true,
    "deletable": true,
    "editable": true
   },
   "outputs": [],
   "source": [
    "x0 = MechanismState(mechanism, copy(configuration(xstar)), copy(velocity(xstar)))\n",
    "set_velocity!(x0, findjoint(mechanism, \"base_x\"), [-2])\n",
    "set_configuration!(x0, findjoint(mechanism, \"base_rotation\"), [π/4])\n",
    "set_configuration!(x0, findjoint(mechanism, \"base_x\"), [0.5])\n",
    "q0 = copy(configuration(x0))\n",
    "v0 = copy(velocity(x0));"
   ]
  },
  {
   "cell_type": "code",
   "execution_count": null,
   "metadata": {
    "collapsed": false,
    "deletable": true,
    "editable": true
   },
   "outputs": [],
   "source": [
    "set_configuration!(x0, q0)\n",
    "set_velocity!(x0, v0)\n",
    "env = Gurobi.Env()\n",
    "results_lqr = LCPSim.simulate(x0, lqrsol, boxval.environment, mpc_params.Δt, 300, GurobiSolver(env, OutputFlag=0));\n",
    "\n",
    "LearningMPC.playback(basevis[:robot], results_lqr, mpc_params.Δt)"
   ]
  },
  {
   "cell_type": "code",
   "execution_count": null,
   "metadata": {
    "collapsed": false,
    "deletable": true,
    "editable": true
   },
   "outputs": [],
   "source": [
    "basename = \"box-val-dagger-0.02-v8\"\n",
    "param_file = basename * \"-params.jld2\"\n",
    "data_file = basename * \".jld2\""
   ]
  },
  {
   "cell_type": "code",
   "execution_count": null,
   "metadata": {
    "collapsed": true,
    "deletable": true,
    "editable": true
   },
   "outputs": [],
   "source": [
    "# params, widths, x_to_u, v_to_y = jldopen(param_file, \"r\") do file\n",
    "#     params = file[\"params\"]\n",
    "#     widths = file[\"widths\"]\n",
    "#     x_to_u = file[\"x_to_u\"]\n",
    "#     v_to_y = file[\"v_to_y\"]\n",
    "#     params, widths, x_to_u, v_to_y\n",
    "# end;\n",
    "\n",
    "# train_data, test_data, validation_data = jldopen(data_file, \"r\") do file\n",
    "#     train_data = file[\"train_data\"]\n",
    "#     test_data = file[\"test_data\"]\n",
    "#     validation_data = file[\"validation_data\"]\n",
    "#     train_data, test_data, validation_data\n",
    "# end;"
   ]
  },
  {
   "cell_type": "code",
   "execution_count": null,
   "metadata": {
    "collapsed": false,
    "deletable": true,
    "editable": true
   },
   "outputs": [],
   "source": [
    "widths = [nx, 16, 16, 16, 16, nu]\n",
    "start_params = 0.1 * randn(Nets.Params{Float64}, widths).data;\n",
    "params = copy(start_params)\n",
    "x_to_u = AffineMap(eye(nx), zeros(nx))\n",
    "v_to_y = AffineMap(diagm([max(abs(b.lower), abs(b.upper)) for b in LCPSim.all_effort_bounds(mechanism)]), zeros(num_velocities(mechanism)))\n",
    "train_data = LearningMPC.Sample{Float64}[]\n",
    "test_data = LearningMPC.Sample{Float64}[]\n",
    "validation_data = LearningMPC.Sample{Float64}[]"
   ]
  },
  {
   "cell_type": "code",
   "execution_count": null,
   "metadata": {
    "collapsed": false,
    "deletable": true,
    "editable": true
   },
   "outputs": [],
   "source": [
    "net = Nets.Net(Nets.Params(widths, params), activation, x_to_u, v_to_y)"
   ]
  },
  {
   "cell_type": "code",
   "execution_count": null,
   "metadata": {
    "collapsed": false,
    "deletable": true,
    "editable": true
   },
   "outputs": [],
   "source": [
    "net_controller = x -> begin\n",
    "    Nets.predict(net, state_vector(x))\n",
    "end\n",
    "\n",
    "last_trajectory = []\n",
    "\n",
    "mpc_controller = LearningMPC.MPCController(mechanism, boxval.environment, \n",
    "    mpc_params, lqrsol, [net_controller, lqrsol]);\n",
    "mpc_controller.callback = (x, results) -> begin\n",
    "    if !isnull(results.lcp_updates)\n",
    "        global last_trajectory\n",
    "        last_trajectory = get(results.lcp_updates)\n",
    "        LearningMPC.playback(basevis[:robot], get(results.lcp_updates), mpc_controller.params.Δt)\n",
    "        if !isnull(results.jacobian)\n",
    "#             xv = state_vector(x)\n",
    "#             yJ = hcat(get(results.lcp_updates)[1].input, get(results.jacobian))\n",
    "            r = rand()\n",
    "            sample = LearningMPC.Sample(x, results)\n",
    "            if r < p_train\n",
    "                push!(train_data, sample)\n",
    "            elseif r < p_train + p_validate\n",
    "                push!(validation_data, sample)\n",
    "            else\n",
    "                push!(test_data, sample)\n",
    "            end\n",
    "        end\n",
    "    end\n",
    "end\n",
    "\n",
    "train_loss = sensitive_loss(0.1)\n",
    "validate_loss = train_loss\n",
    "training_losses = Float64[]\n",
    "validation_losses = Float64[]\n",
    "\n",
    "p_mpc = 0.2\n",
    "\n",
    "x_control = MechanismState{Float64}(mechanism)\n",
    "\n",
    "controller = x -> begin\n",
    "    set_configuration!(x_control, configuration(x))\n",
    "    settransform!(basevis[:robot], x_control)\n",
    "    if rand() < p_mpc\n",
    "        return mpc_controller(x)\n",
    "    else\n",
    "        return net_controller(x)\n",
    "    end\n",
    "end"
   ]
  },
  {
   "cell_type": "code",
   "execution_count": null,
   "metadata": {
    "collapsed": false,
    "deletable": true,
    "editable": true,
    "scrolled": false
   },
   "outputs": [],
   "source": [
    "x0 = MechanismState{Float64}(mechanism)\n",
    "q0 = configuration(xstar) .+ 0.0 .* randn(num_positions(xstar))\n",
    "# q0[1] += 2\n",
    "v0 = copy(velocity(xstar)) .+ 0.0 * randn(num_velocities(xstar))\n",
    "v0[1] = 0.1\n",
    "set_configuration!(x0, q0)\n",
    "set_velocity!(x0, v0)\n",
    "mpc_controller(x0)\n"
   ]
  },
  {
   "cell_type": "code",
   "execution_count": null,
   "metadata": {
    "collapsed": false,
    "deletable": true,
    "editable": true
   },
   "outputs": [],
   "source": [
    "LearningMPC.playback(basevis[:robot], last_trajectory, mpc_params.Δt)"
   ]
  },
  {
   "cell_type": "code",
   "execution_count": null,
   "metadata": {
    "collapsed": false,
    "deletable": true,
    "editable": true,
    "scrolled": true
   },
   "outputs": [],
   "source": [
    "x0 = MechanismState{Float64}(mechanism)\n",
    "q0 = configuration(xstar) .+ 0.0 .* randn(num_positions(xstar))\n",
    "v0 = copy(velocity(xstar)) .+ 0.0 * randn(num_velocities(xstar))\n",
    "q0[1] = 0.25\n",
    "v0[1] = -3.0\n",
    "set_configuration!(x0, q0)\n",
    "set_velocity!(x0, v0)\n",
    "solver = GurobiSolver(Gurobi.Env(), OutputFlag=0)\n",
    "results = LCPSim.simulate(x0, mpc_controller, boxval.environment, mpc_params.Δt, 40, solver);"
   ]
  },
  {
   "cell_type": "code",
   "execution_count": null,
   "metadata": {
    "collapsed": false,
    "deletable": true,
    "editable": true
   },
   "outputs": [],
   "source": [
    "LearningMPC.playback(basevis[:robot], results, mpc_params.Δt)"
   ]
  },
  {
   "cell_type": "code",
   "execution_count": 199,
   "metadata": {
    "collapsed": false,
    "deletable": true,
    "editable": true
   },
   "outputs": [
    {
     "data": {
      "text/plain": [
       "randomize! (generic function with 1 method)"
      ]
     },
     "execution_count": 199,
     "metadata": {},
     "output_type": "execute_result"
    }
   ],
   "source": [
    "function randomize!(x::MechanismState, xstar::MechanismState)\n",
    "    q = copy(configuration(xstar))\n",
    "    q .+= 0.1 .* randn(length(q))\n",
    "    set_configuration!(x0, q)\n",
    "    set_velocity!(x0, velocity(xstar) .+ 0.5 .* randn(num_velocities(xstar)))\n",
    "end"
   ]
  },
  {
   "cell_type": "code",
   "execution_count": null,
   "metadata": {
    "collapsed": false,
    "deletable": true,
    "editable": true,
    "scrolled": false
   },
   "outputs": [
    {
     "name": "stdout",
     "output_type": "stream",
     "text": [
      "Academic license - for non-commercial use only\n"
     ]
    },
    {
     "name": "stderr",
     "output_type": "stream",
     "text": [
      "WARNING: Method definition run_mpc(RigidBodyDynamics.MechanismState{X, M, C, JointCollection} where JointCollection where C where M where X, LCPSim.Environment{T} where T, LearningMPC.MPCParams{S1, S2} where S2<:MathProgBase.SolverInterface.AbstractMathProgSolver where S1<:MathProgBase.SolverInterface.AbstractMathProgSolver, LearningMPC.LQRSolution{T} where T) in module LearningMPC at /home/rdeits/locomotion/explorations/learning-mpc/modules/LearningMPC/src/LearningMPC.jl:174 overwritten at /home/rdeits/locomotion/explorations/learning-mpc/modules/LearningMPC/src/LearningMPC.jl:174.\n",
      "WARNING: Method definition run_mpc(RigidBodyDynamics.MechanismState{X, M, C, JointCollection} where JointCollection where C where M where X, LCPSim.Environment{T} where T, LearningMPC.MPCParams{S1, S2} where S2<:MathProgBase.SolverInterface.AbstractMathProgSolver where S1<:MathProgBase.SolverInterface.AbstractMathProgSolver, LearningMPC.LQRSolution{T} where T, AbstractArray{#s349, 1} where #s349<:Function) in module LearningMPC at /home/rdeits/locomotion/explorations/learning-mpc/modules/LearningMPC/src/LearningMPC.jl:174 overwritten at /home/rdeits/locomotion/explorations/learning-mpc/modules/LearningMPC/src/LearningMPC.jl:174.\n",
      "\u001b[32mProgress:   0%|                                         |  ETA: 11.17 days\u001b[39m\u001b[1m\u001b[33mWARNING: \u001b[39m\u001b[22m\u001b[33mThe specified values for size and/or count will result in 3 unused data points\u001b[39m\n",
      "\u001b[32mProgress:   1%|                                         |  ETA: 8 days, 20:45:09\u001b[39m\u001b[1m\u001b[33mWARNING: \u001b[39m\u001b[22m\u001b[33mThe specified values for size and/or count will result in 5 unused data points\u001b[39m\n",
      "\u001b[32mProgress:   6%|███                                      |  ETA: 6 days, 2:11:10\u001b[39mm"
     ]
    }
   ],
   "source": [
    "x0 = MechanismState{Float64}(mechanism)\n",
    "\n",
    "env = Gurobi.Env()\n",
    "termination = x -> begin\n",
    "    (configuration(x)[1] < -1 ||\n",
    "     configuration(x)[2] < 0.5 || \n",
    "     configuration(x)[3] > 1.2 || \n",
    "     configuration(x)[3] < -1.2)\n",
    "end\n",
    "\n",
    "redirect_stdout(open(\"training_log.txt\", \"w\")) do\n",
    "    @showprogress for i in 1:1000\n",
    "        \n",
    "        randomize!(x0, xstar)\n",
    "        results_net = LCPSim.simulate(x0, controller, boxval.environment, mpc_params.Δt, 100, GurobiSolver(env, OutputFlag=0);\n",
    "            termination=termination)\n",
    "        Nets.adam!(train_loss, params, shuffleobs(LearningMPC.features.(train_data)), Nets.AdamOpts(learning_rate=0.01 * 0.999^i, batch_size=min(10, length(train_data))))\n",
    "        push!(training_losses, mean(xy -> validate_loss(params, xy[1], xy[2]), LearningMPC.features.(train_data)))\n",
    "        push!(validation_losses, mean(xy -> validate_loss(params, xy[1], xy[2]), LearningMPC.features.(validation_data)))\n",
    "\n",
    "        @show training_losses[end]\n",
    "        @show validation_losses[end]\n",
    "\n",
    "        jldopen(data_file, \"w\") do file\n",
    "            file[\"train_data\"] = train_data\n",
    "            file[\"test_data\"] = test_data\n",
    "            file[\"validation_data\"] = validation_data\n",
    "        end\n",
    "\n",
    "        jldopen(param_file, \"w\") do file\n",
    "            file[\"params\"] = params\n",
    "            file[\"widths\"] = widths\n",
    "            file[\"x_to_u\"] = x_to_u\n",
    "            file[\"v_to_y\"] = v_to_y\n",
    "            file[\"training_losses\"] = training_losses\n",
    "            file[\"validation_losses\"] = validation_losses\n",
    "        end;\n",
    "    end \n",
    "end"
   ]
  },
  {
   "cell_type": "code",
   "execution_count": null,
   "metadata": {
    "collapsed": true,
    "deletable": true,
    "editable": true
   },
   "outputs": [],
   "source": [
    "q0 = configuration(xstar) .+ 0.0 .* randn(num_positions(xstar))\n",
    "# q0[3] = 0.3\n",
    "v0 = copy(velocity(xstar));\n",
    "v0[1] = 3."
   ]
  },
  {
   "cell_type": "code",
   "execution_count": null,
   "metadata": {
    "collapsed": true,
    "deletable": true,
    "editable": true
   },
   "outputs": [],
   "source": [
    "set_configuration!(x0, q0)\n",
    "set_velocity!(x0, v0)\n",
    "results_net = LCPSim.simulate(x0, net_controller, boxval.environment, \n",
    "    mpc_params.Δt, 300, GurobiSolver(Gurobi.Env(), OutputFlag=0));"
   ]
  },
  {
   "cell_type": "code",
   "execution_count": null,
   "metadata": {
    "collapsed": true,
    "deletable": true,
    "editable": true
   },
   "outputs": [],
   "source": [
    "set_configuration!(x0, configuration(results_net[1].state))\n",
    "settransform!(basevis[:robot], x0)"
   ]
  },
  {
   "cell_type": "code",
   "execution_count": null,
   "metadata": {
    "collapsed": true,
    "deletable": true,
    "editable": true
   },
   "outputs": [],
   "source": [
    "set_configuration!(x0, configuration(results_net[1].state))\n",
    "settransform!(basevis[:robot], x0)\n",
    "\n",
    "LearningMPC.playback(basevis[:robot], results_net, 0.5 * mpc_params.Δt)"
   ]
  },
  {
   "cell_type": "code",
   "execution_count": null,
   "metadata": {
    "collapsed": true,
    "deletable": true,
    "editable": true
   },
   "outputs": [],
   "source": [
    "set_configuration!(x0, q0)\n",
    "set_velocity!(x0, v0)\n",
    "results_lqr = LCPSim.simulate(x0, lqrsol, boxval.environment, \n",
    "    mpc_params.Δt, 300, GurobiSolver(Gurobi.Env(), OutputFlag=0));"
   ]
  },
  {
   "cell_type": "code",
   "execution_count": null,
   "metadata": {
    "collapsed": true,
    "deletable": true,
    "editable": true
   },
   "outputs": [],
   "source": [
    "set_configuration!(x0, configuration(results_lqr[1].state))\n",
    "settransform!(basevis[:robot], x0)\n",
    "\n",
    "LearningMPC.playback(basevis[:robot], results_lqr, 0.5 * mpc_params.Δt)"
   ]
  },
  {
   "cell_type": "code",
   "execution_count": null,
   "metadata": {
    "collapsed": true,
    "deletable": true,
    "editable": true
   },
   "outputs": [],
   "source": [
    "online_controller = BoxValkyries.OnlineMPCController(boxval, \n",
    "    mpc_params, lqrsol, [net_controller, lqr_controller]);"
   ]
  },
  {
   "cell_type": "code",
   "execution_count": null,
   "metadata": {
    "collapsed": true,
    "deletable": true,
    "editable": true
   },
   "outputs": [],
   "source": [
    "set_configuration!(x0, q0)\n",
    "set_velocity!(x0, v0)\n",
    "results_online = LCPSim.simulate(x0, online_controller, boxval.environment, mpc_params.Δt, 100, GurobiSolver(Gurobi.Env(), OutputFlag=0));"
   ]
  },
  {
   "cell_type": "code",
   "execution_count": null,
   "metadata": {
    "collapsed": true,
    "deletable": true,
    "editable": true
   },
   "outputs": [],
   "source": [
    "playback(basevis[:robot], results_online, mpc_params.Δt)"
   ]
  },
  {
   "cell_type": "code",
   "execution_count": null,
   "metadata": {
    "collapsed": true,
    "deletable": true,
    "editable": true
   },
   "outputs": [],
   "source": [
    "using ProfileView\n",
    "set_configuration!(x0, q0)\n",
    "set_velocity!(x0, v0)\n",
    "online_controller(x0)\n",
    "Profile.clear()\n",
    "@time @profile online_controller(x0)\n",
    "ProfileView.view()"
   ]
  },
  {
   "cell_type": "code",
   "execution_count": null,
   "metadata": {
    "collapsed": true,
    "deletable": true,
    "editable": true
   },
   "outputs": [],
   "source": []
  }
 ],
 "metadata": {
  "kernelspec": {
   "display_name": "Julia 0.6.0",
   "language": "julia",
   "name": "julia-0.6"
  },
  "language_info": {
   "file_extension": ".jl",
   "mimetype": "application/julia",
   "name": "julia",
   "version": "0.6.0"
  }
 },
 "nbformat": 4,
 "nbformat_minor": 2
}
