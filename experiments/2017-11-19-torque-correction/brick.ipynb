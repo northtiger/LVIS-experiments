{
 "cells": [
  {
   "cell_type": "code",
   "execution_count": null,
   "metadata": {
    "collapsed": true
   },
   "outputs": [],
   "source": [
    "using Revise"
   ]
  },
  {
   "cell_type": "code",
   "execution_count": null,
   "metadata": {},
   "outputs": [],
   "source": [
    "using RigidBodyDynamics\n",
    "using DrakeVisualizer\n",
    "DrakeVisualizer.any_open_windows() || DrakeVisualizer.new_window()\n",
    "using RigidBodyTreeInspector\n",
    "import LCPSim\n",
    "using JuMP\n",
    "using Gurobi\n",
    "import ConditionalJuMP\n",
    "import LearningMPC"
   ]
  },
  {
   "cell_type": "code",
   "execution_count": null,
   "metadata": {},
   "outputs": [],
   "source": [
    "reload(\"LCPSim\")\n",
    "reload(\"LearningMPC\")"
   ]
  },
  {
   "cell_type": "code",
   "execution_count": null,
   "metadata": {},
   "outputs": [],
   "source": [
    "urdf_mech = parse_urdf(Float64, \"box_robot.urdf\")\n",
    "mechanism, base = LCPSim.planar_revolute_base()\n",
    "attach!(mechanism, base, urdf_mech)\n",
    "world = root_body(mechanism)\n",
    "foot = findbody(mechanism, \"lf\")\n",
    "env = LCPSim.Environment{Float64}(Dict())\n",
    "xstar = MechanismState{Float64}(mechanism)\n",
    "set_configuration!(xstar, findjoint(mechanism, \"base_z\"), [0.8])\n",
    "set_configuration!(xstar, findjoint(mechanism, \"core_to_lf_extension\"), [0.6])\n",
    "params = LearningMPC.MPCParams(\n",
    "    Δt=0.05,\n",
    "    horizon=2,\n",
    "    mip_solver=GurobiSolver(Gurobi.Env(), TimeLimit=120, MIPGap=5e-2),\n",
    "    lcp_solver=GurobiSolver(Gurobi.Env(), OutputFlag=0))"
   ]
  },
  {
   "cell_type": "code",
   "execution_count": null,
   "metadata": {},
   "outputs": [],
   "source": [
    "vis = Visualizer()[:box_robot]\n",
    "setgeometry!(vis, mechanism, parse_urdf(\"box_robot.urdf\", mechanism))\n",
    "settransform!(vis, xstar)"
   ]
  },
  {
   "cell_type": "code",
   "execution_count": null,
   "metadata": {},
   "outputs": [],
   "source": [
    "Q = diagm([10, 100, 1, 0.1, 0.1, 1, 1, 0.1, 0.1, 0.1])\n",
    "R = diagm(fill(0.01, 5))\n",
    "contacts = [Point3D(default_frame(findbody(mechanism, \"lf\")), 0., 0., 0.)]\n",
    "qstar = copy(configuration(xstar))\n",
    "vstar = copy(velocity(xstar))\n",
    "lqr = LearningMPC.LQRSolution(xstar, Q, R, contacts, params.Δt)"
   ]
  },
  {
   "cell_type": "code",
   "execution_count": null,
   "metadata": {},
   "outputs": [],
   "source": [
    "x0 = MechanismState(mechanism, copy(configuration(xstar)), copy(velocity(xstar)))\n",
    "set_velocity!(x0, findjoint(mechanism, \"base_z\"), [5.0])\n",
    "q0 = copy(configuration(x0))\n",
    "v0 = copy(velocity(x0))"
   ]
  },
  {
   "cell_type": "code",
   "execution_count": null,
   "metadata": {
    "scrolled": false
   },
   "outputs": [],
   "source": [
    "results = LCPSim.simulate(x0, lqr, env, params.Δt, 100, params.lcp_solver);"
   ]
  },
  {
   "cell_type": "code",
   "execution_count": null,
   "metadata": {
    "collapsed": true
   },
   "outputs": [],
   "source": [
    "LearningMPC.playback(vis, results, params.Δt)"
   ]
  },
  {
   "cell_type": "code",
   "execution_count": null,
   "metadata": {},
   "outputs": [],
   "source": [
    "last_trajectory = []\n",
    "mpc_controller = LearningMPC.MPCController(mechanism, env, params, lqr, [lqr])\n",
    "mpc_controller.callback = (x, mpcresults) -> begin\n",
    "    global last_trajectory\n",
    "    if !isnull(mpcresults.lcp_updates)\n",
    "        last_trajectory = get(mpcresults.lcp_updates)\n",
    "        LearningMPC.playback(vis, get(mpcresults.lcp_updates), params.Δt)\n",
    "    end\n",
    "end"
   ]
  },
  {
   "cell_type": "code",
   "execution_count": null,
   "metadata": {
    "scrolled": false
   },
   "outputs": [],
   "source": [
    "x0 = MechanismState(mechanism, copy(configuration(xstar)), copy(velocity(xstar)))\n",
    "set_velocity!(x0, findjoint(mechanism, \"base_x\"), [0.5])\n",
    "q0 = copy(configuration(x0))\n",
    "v0 = copy(velocity(x0))\n",
    "mpc_controller(x0)"
   ]
  },
  {
   "cell_type": "code",
   "execution_count": null,
   "metadata": {},
   "outputs": [],
   "source": [
    "LearningMPC.playback(vis, last_trajectory, params.Δt)"
   ]
  }
 ],
 "metadata": {
  "kernelspec": {
   "display_name": "Julia 0.6.1",
   "language": "julia",
   "name": "julia-0.6"
  },
  "language_info": {
   "file_extension": ".jl",
   "mimetype": "application/julia",
   "name": "julia",
   "version": "0.6.1"
  }
 },
 "nbformat": 4,
 "nbformat_minor": 2
}
