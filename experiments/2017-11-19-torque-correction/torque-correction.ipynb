{
 "cells": [
  {
   "cell_type": "code",
   "execution_count": null,
   "metadata": {
    "collapsed": true
   },
   "outputs": [],
   "source": [
    "using Revise"
   ]
  },
  {
   "cell_type": "code",
   "execution_count": null,
   "metadata": {
    "collapsed": true
   },
   "outputs": [],
   "source": [
    "using RigidBodyDynamics\n",
    "using DrakeVisualizer\n",
    "DrakeVisualizer.any_open_windows() || DrakeVisualizer.new_window()\n",
    "using RigidBodyTreeInspector\n",
    "import LCPSim\n",
    "using JuMP\n",
    "using Gurobi\n",
    "import ConditionalJuMP\n",
    "import LearningMPC"
   ]
  },
  {
   "cell_type": "code",
   "execution_count": null,
   "metadata": {},
   "outputs": [],
   "source": [
    "reload(\"LCPSim\")\n",
    "reload(\"LearningMPC\")"
   ]
  },
  {
   "cell_type": "code",
   "execution_count": null,
   "metadata": {},
   "outputs": [],
   "source": [
    "urdf = \"../../modules/box_valkyrie.urdf\"\n",
    "urdf_mech = parse_urdf(Float64, urdf)\n",
    "mechanism, base = LCPSim.planar_revolute_base()\n",
    "attach!(mechanism, base, urdf_mech)\n",
    "world = root_body(mechanism)\n",
    "feet = findbody.(mechanism, [\"lf\", \"rf\"])\n",
    "floor = LCPSim.planar_obstacle(default_frame(world), \n",
    "    [0, 0, 1.], [0., 0, 0], 1.)\n",
    "env = LCPSim.Environment(Dict(\n",
    "        [foot => LCPSim.ContactEnvironment(\n",
    "            [Point3D(default_frame(foot), 0., 0., 0.)],\n",
    "            [floor]) for foot in feet]))\n",
    "xstar = MechanismState{Float64}(mechanism)\n",
    "set_configuration!(xstar, findjoint(mechanism, \"base_z\"), [1.05])\n",
    "set_configuration!(xstar, findjoint(mechanism, \"core_to_lf_extension\"), [0.8])\n",
    "set_configuration!(xstar, findjoint(mechanism, \"core_to_rf_extension\"), [0.8])\n",
    "set_configuration!(xstar, findjoint(mechanism, \"core_to_lh_extension\"), [0.5])\n",
    "set_configuration!(xstar, findjoint(mechanism, \"core_to_rh_extension\"), [0.5])\n",
    "params = LearningMPC.MPCParams(\n",
    "    Δt=0.05,\n",
    "    horizon=10,\n",
    "    mip_solver=GurobiSolver(Gurobi.Env(), TimeLimit=120, MIPGap=5e-2),\n",
    "    lcp_solver=GurobiSolver(Gurobi.Env(), OutputFlag=0))"
   ]
  },
  {
   "cell_type": "code",
   "execution_count": null,
   "metadata": {},
   "outputs": [],
   "source": [
    "vis = Visualizer()[:box_robot]\n",
    "setgeometry!(vis, mechanism, parse_urdf(urdf, mechanism))\n",
    "settransform!(vis, xstar)"
   ]
  },
  {
   "cell_type": "code",
   "execution_count": null,
   "metadata": {},
   "outputs": [],
   "source": [
    "function default_costs(x::MechanismState)\n",
    "    qq = zeros(num_positions(x))\n",
    "    qq[configuration_range(x, findjoint(x.mechanism, \"base_x\"))]        .= 0.1\n",
    "    qq[configuration_range(x, findjoint(x.mechanism, \"base_z\"))]        .= 10\n",
    "    qq[configuration_range(x, findjoint(x.mechanism, \"base_rotation\"))] .= 500\n",
    "    qq[configuration_range(x, findjoint(x.mechanism, \"core_to_rh_extension\"))]  .= 0.5\n",
    "    qq[configuration_range(x, findjoint(x.mechanism, \"core_to_lh_extension\"))]  .= 0.5\n",
    "    qq[configuration_range(x, findjoint(x.mechanism, \"core_to_rh_rotation\"))]  .= 0.5\n",
    "    qq[configuration_range(x, findjoint(x.mechanism, \"core_to_lh_rotation\"))]  .= 0.5\n",
    "    qq[configuration_range(x, findjoint(x.mechanism, \"core_to_rf_extension\"))]  .= 0.1\n",
    "    qq[configuration_range(x, findjoint(x.mechanism, \"core_to_lf_extension\"))]  .= 0.1\n",
    "    qq[configuration_range(x, findjoint(x.mechanism, \"core_to_rf_rotation\"))]  .= 0.01\n",
    "    qq[configuration_range(x, findjoint(x.mechanism, \"core_to_lf_rotation\"))]  .= 0.01\n",
    "\n",
    "    qv = fill(1e-4, num_velocities(x))\n",
    "    # qv[velocity_range(x, findjoint(x.mechanism, \"base_x\"))] .= 0.1\n",
    "\n",
    "    Q = diagm(vcat(qq, qv))\n",
    "    # # minimize (rx - lx)^2 = rx^2 - 2rxlx + lx^2\n",
    "    rx = configuration_range(x, findjoint(x.mechanism, \"core_to_rf_extension\"))\n",
    "    lx = configuration_range(x, findjoint(x.mechanism, \"core_to_lf_extension\"))\n",
    "    w_centering = 10\n",
    "    Q[rx, rx] += w_centering\n",
    "    Q[lx, lx] += w_centering\n",
    "    Q[lx, rx] -= w_centering\n",
    "    Q[rx, lx] -= w_centering\n",
    "    rθ = configuration_range(x, findjoint(x.mechanism, \"core_to_rf_rotation\"))\n",
    "    lθ = configuration_range(x, findjoint(x.mechanism, \"core_to_lf_rotation\"))\n",
    "    w_centering = 10\n",
    "    Q[rθ, rθ] += w_centering\n",
    "    Q[lθ, lθ] += w_centering\n",
    "    Q[lθ, rθ] -= w_centering\n",
    "    Q[rθ, lθ] -= w_centering\n",
    "\n",
    "    rr = fill(0.002, num_velocities(x))\n",
    "    rr[velocity_range(x, findjoint(x.mechanism, \"core_to_rf_extension\"))] .= 0.01\n",
    "    rr[velocity_range(x, findjoint(x.mechanism, \"core_to_lf_extension\"))] .= 0.01\n",
    "    rr[velocity_range(x, findjoint(x.mechanism, \"core_to_rf_rotation\"))] .= 0.01\n",
    "    rr[velocity_range(x, findjoint(x.mechanism, \"core_to_lf_rotation\"))] .= 0.01\n",
    "    R = diagm(rr)\n",
    "    Q, R\n",
    "end"
   ]
  },
  {
   "cell_type": "code",
   "execution_count": null,
   "metadata": {},
   "outputs": [],
   "source": [
    "Q, R = default_costs(xstar)\n",
    "contacts = [\n",
    "    Point3D(default_frame(findbody(mechanism, \"lf\")), 0., 0., 0.),\n",
    "    Point3D(default_frame(findbody(mechanism, \"rf\")), 0., 0., 0.)\n",
    "    ]\n",
    "qstar = copy(configuration(xstar))\n",
    "vstar = copy(velocity(xstar))\n",
    "lqr = LearningMPC.LQRSolution(xstar, Q, R, contacts, params.Δt)"
   ]
  },
  {
   "cell_type": "code",
   "execution_count": null,
   "metadata": {
    "collapsed": true
   },
   "outputs": [],
   "source": [
    "x0 = MechanismState(mechanism, copy(configuration(xstar)), copy(velocity(xstar)))\n",
    "set_velocity!(x0, findjoint(mechanism, \"base_x\"), [1.0])\n",
    "q0 = copy(configuration(x0))\n",
    "v0 = copy(velocity(x0));"
   ]
  },
  {
   "cell_type": "code",
   "execution_count": null,
   "metadata": {
    "collapsed": true,
    "scrolled": false
   },
   "outputs": [],
   "source": [
    "results = LCPSim.simulate(x0, lqr, env, params.Δt, 100, params.lcp_solver);"
   ]
  },
  {
   "cell_type": "code",
   "execution_count": null,
   "metadata": {
    "collapsed": true
   },
   "outputs": [],
   "source": [
    "LearningMPC.playback(vis, results, params.Δt)"
   ]
  },
  {
   "cell_type": "code",
   "execution_count": null,
   "metadata": {},
   "outputs": [],
   "source": [
    "last_trajectory = []\n",
    "mpc_controller = LearningMPC.MPCController(mechanism, env, params, lqr, [lqr])\n",
    "mpc_controller.callback = (x, mpcresults) -> begin\n",
    "    global last_trajectory\n",
    "    if !isnull(mpcresults.lcp_updates)\n",
    "        last_trajectory = get(mpcresults.lcp_updates)\n",
    "        LearningMPC.playback(vis, get(mpcresults.lcp_updates), params.Δt)\n",
    "    end\n",
    "end"
   ]
  },
  {
   "cell_type": "code",
   "execution_count": null,
   "metadata": {
    "scrolled": false
   },
   "outputs": [],
   "source": [
    "x0 = MechanismState(mechanism, copy(configuration(xstar)), copy(velocity(xstar)))\n",
    "set_velocity!(x0, findjoint(mechanism, \"base_x\"), [3.0])\n",
    "q0 = copy(configuration(x0))\n",
    "v0 = copy(velocity(x0))\n",
    "mpc_controller(x0)"
   ]
  },
  {
   "cell_type": "code",
   "execution_count": null,
   "metadata": {
    "collapsed": true
   },
   "outputs": [],
   "source": [
    "LearningMPC.playback(vis, last_trajectory, params.Δt)"
   ]
  },
  {
   "cell_type": "code",
   "execution_count": null,
   "metadata": {
    "scrolled": false
   },
   "outputs": [],
   "source": [
    "x0 = MechanismState(mechanism, copy(configuration(xstar)), copy(velocity(xstar)))\n",
    "set_velocity!(x0, findjoint(mechanism, \"base_x\"), [3.0])\n",
    "q0 = copy(configuration(x0))\n",
    "v0 = copy(velocity(x0))\n",
    "\n",
    "results = LCPSim.simulate(x0, mpc_controller, env, params.Δt, 30, params.lcp_solver); "
   ]
  },
  {
   "cell_type": "code",
   "execution_count": null,
   "metadata": {
    "collapsed": true
   },
   "outputs": [],
   "source": [
    "LearningMPC.playback(vis, results, params.Δt)"
   ]
  },
  {
   "cell_type": "code",
   "execution_count": null,
   "metadata": {
    "collapsed": true
   },
   "outputs": [],
   "source": []
  },
  {
   "cell_type": "code",
   "execution_count": null,
   "metadata": {
    "collapsed": true
   },
   "outputs": [],
   "source": []
  }
 ],
 "metadata": {
  "kernelspec": {
   "display_name": "Julia 0.6.1",
   "language": "julia",
   "name": "julia-0.6"
  },
  "language_info": {
   "file_extension": ".jl",
   "mimetype": "application/julia",
   "name": "julia",
   "version": "0.6.1"
  }
 },
 "nbformat": 4,
 "nbformat_minor": 2
}
