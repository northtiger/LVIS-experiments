{
 "cells": [
  {
   "cell_type": "code",
   "execution_count": 1,
   "metadata": {
    "collapsed": false
   },
   "outputs": [
    {
     "name": "stderr",
     "output_type": "stream",
     "text": [
      "\u001b[1m\u001b[36mINFO: \u001b[39m\u001b[22m\u001b[36mRecompiling stale cache file /home/rdeits/locomotion/explorations/learning-mpc/packages/lib/v0.6/RigidBodyTreeInspector.ji for module RigidBodyTreeInspector.\n",
      "\u001b[39m"
     ]
    },
    {
     "data": {
      "text/html": [
       "<div id=\"interact-js-shim\">\n",
       "    <script charset=\"utf-8\">\n",
       "(function (IPython, $, _, MathJax) {\n",
       "    $.event.special.destroyed = {\n",
       "\tremove: function(o) {\n",
       "\t    if (o.handler) {\n",
       "\t\to.handler.apply(this, arguments)\n",
       "\t    }\n",
       "\t}\n",
       "    }\n",
       "\n",
       "    var OutputArea = IPython.version >= \"4.0.0\" ? require(\"notebook/js/outputarea\").OutputArea : IPython.OutputArea;\n",
       "\n",
       "    var redrawValue = function (container, type, val) {\n",
       "\tvar selector = $(\"<div/>\");\n",
       "\tvar oa = new OutputArea(_.extend(selector, {\n",
       "\t    selector: selector,\n",
       "\t    prompt_area: true,\n",
       "\t    events: IPython.events,\n",
       "\t    keyboard_manager: IPython.keyboard_manager\n",
       "\t})); // Hack to work with IPython 2.1.0\n",
       "\n",
       "\tswitch (type) {\n",
       "\tcase \"image/png\":\n",
       "            var _src = 'data:' + type + ';base64,' + val;\n",
       "\t    $(container).find(\"img\").attr('src', _src);\n",
       "\t    break;\n",
       "\tcase \"text/latex\":\n",
       "\t\tif (MathJax){\n",
       "\t\t\tvar math = MathJax.Hub.getAllJax(container)[0];\n",
       "\t\t\tMathJax.Hub.Queue([\"Text\", math, val.replace(/^\\${1,2}|\\${1,2}$/g, '')]);\n",
       "\t\t\tbreak;\n",
       "\t\t}\n",
       "\tdefault:\n",
       "\t    var toinsert = OutputArea.append_map[type].apply(\n",
       "\t\toa, [val, {}, selector]\n",
       "\t    );\n",
       "\t    $(container).empty().append(toinsert.contents());\n",
       "\t    selector.remove();\n",
       "\t}\n",
       "    }\n",
       "\n",
       "\n",
       "    $(document).ready(function() {\n",
       "\tfunction initComm(evt, data) {\n",
       "\t    var comm_manager = data.kernel.comm_manager;\n",
       "        //_.extend(comm_manager.targets, require(\"widgets/js/widget\"))\n",
       "\t    comm_manager.register_target(\"Signal\", function (comm) {\n",
       "            comm.on_msg(function (msg) {\n",
       "                var val = msg.content.data.value;\n",
       "                $(\".signal-\" + comm.comm_id).each(function() {\n",
       "                var type = $(this).data(\"type\");\n",
       "                if (typeof(val[type]) !== \"undefined\" && val[type] !== null) {\n",
       "                    redrawValue(this, type, val[type], type);\n",
       "                }\n",
       "                });\n",
       "                delete val;\n",
       "                delete msg.content.data.value;\n",
       "            });\n",
       "\t    });\n",
       "\n",
       "\t    // coordingate with Comm and redraw Signals\n",
       "\t    // XXX: Test using Reactive here to improve performance\n",
       "\t    $([IPython.events]).on(\n",
       "\t\t'output_appended.OutputArea', function (event, type, value, md, toinsert) {\n",
       "\t\t    if (md && md.reactive) {\n",
       "                // console.log(md.comm_id);\n",
       "                toinsert.addClass(\"signal-\" + md.comm_id);\n",
       "                toinsert.data(\"type\", type);\n",
       "                // Signal back indicating the mimetype required\n",
       "                var comm_manager = IPython.notebook.kernel.comm_manager;\n",
       "                var comm = comm_manager.comms[md.comm_id];\n",
       "                comm.then(function (c) {\n",
       "                    c.send({action: \"subscribe_mime\",\n",
       "                       mime: type});\n",
       "                    toinsert.bind(\"destroyed\", function() {\n",
       "                        c.send({action: \"unsubscribe_mime\",\n",
       "                               mime: type});\n",
       "                    });\n",
       "                })\n",
       "\t\t    }\n",
       "\t    });\n",
       "\t}\n",
       "\n",
       "\ttry {\n",
       "\t    // try to initialize right away. otherwise, wait on the status_started event.\n",
       "\t    initComm(undefined, IPython.notebook);\n",
       "\t} catch (e) {\n",
       "\t    $([IPython.events]).on('kernel_created.Kernel kernel_created.Session', initComm);\n",
       "\t}\n",
       "    });\n",
       "})(IPython, jQuery, _, MathJax);\n",
       "</script>\n",
       "    <script>\n",
       "        window.interactLoadedFlag = true\n",
       "       $(\"#interact-js-shim\").bind(\"destroyed\", function () {\n",
       "           if (window.interactLoadedFlag) {\n",
       "               console.warn(\"JavaScript required by Interact will be removed if you remove this cell or run using Interact more than once.\")\n",
       "           }\n",
       "       })\n",
       "       $([IPython.events]).on(\"kernel_starting.Kernel kernel_restarting.Kernel\", function () { window.interactLoadedFlag = false })\n",
       "   </script>\n",
       "</div>"
      ]
     },
     "metadata": {},
     "output_type": "display_data"
    }
   ],
   "source": [
    "using RigidBodyTreeInspector\n",
    "using RigidBodyDynamics\n",
    "using DrakeVisualizer"
   ]
  },
  {
   "cell_type": "code",
   "execution_count": 2,
   "metadata": {
    "collapsed": false
   },
   "outputs": [
    {
     "name": "stderr",
     "output_type": "stream",
     "text": [
      "\u001b[1m\u001b[36mINFO: \u001b[39m\u001b[22m\u001b[36mRecompiling stale cache file /home/rdeits/locomotion/explorations/learning-mpc/packages/lib/v0.6/BoxValkyries.ji for module BoxValkyries.\n",
      "\u001b[39m"
     ]
    }
   ],
   "source": [
    "import BoxValkyries"
   ]
  },
  {
   "cell_type": "code",
   "execution_count": 40,
   "metadata": {
    "collapsed": false
   },
   "outputs": [
    {
     "data": {
      "text/plain": [
       "Set{Array{Symbol,1}}()"
      ]
     },
     "execution_count": 40,
     "metadata": {},
     "output_type": "execute_result"
    }
   ],
   "source": [
    "boxval = BoxValkyries.BoxValkyrie()\n",
    "mechanism = boxval.mechanism\n",
    "xstar = BoxValkyries.nominal_state(boxval)\n",
    "\n",
    "basevis = Visualizer()[:box_val_2]\n",
    "setgeometry!(basevis, boxval)\n",
    "settransform!(basevis[:robot], xstar)"
   ]
  },
  {
   "cell_type": "code",
   "execution_count": 41,
   "metadata": {
    "collapsed": false
   },
   "outputs": [
    {
     "data": {
      "text/html": [],
      "text/plain": [
       "Interact.Options{:SelectionSlider,Any}(415: \"input-199\" = 0.0 Any , \"base_x.1\", 0.0, \"0.0\", 26, Interact.OptionDict(DataStructures.OrderedDict{Any,Any}(\"-10.0\"=>-10.0,\"-9.6\"=>-9.6,\"-9.2\"=>-9.2,\"-8.8\"=>-8.8,\"-8.4\"=>-8.4,\"-8.0\"=>-8.0,\"-7.6\"=>-7.6,\"-7.2\"=>-7.2,\"-6.8\"=>-6.8,\"-6.4\"=>-6.4…), Dict{Any,Any}(Pair{Any,Any}(1.2, \"1.2\"),Pair{Any,Any}(9.6, \"9.6\"),Pair{Any,Any}(2.0, \"2.0\"),Pair{Any,Any}(8.0, \"8.0\"),Pair{Any,Any}(-0.8, \"-0.8\"),Pair{Any,Any}(-3.6, \"-3.6\"),Pair{Any,Any}(5.6, \"5.6\"),Pair{Any,Any}(-8.8, \"-8.8\"),Pair{Any,Any}(-6.4, \"-6.4\"),Pair{Any,Any}(-6.8, \"-6.8\")…)), Any[], Any[], true, \"horizontal\")"
      ]
     },
     "metadata": {},
     "output_type": "display_data"
    },
    {
     "data": {
      "text/html": [],
      "text/plain": [
       "Interact.Options{:SelectionSlider,Any}(417: \"input-200\" = 0.0 Any , \"base_z.1\", 0.0, \"0.0\", 26, Interact.OptionDict(DataStructures.OrderedDict{Any,Any}(\"-10.0\"=>-10.0,\"-9.6\"=>-9.6,\"-9.2\"=>-9.2,\"-8.8\"=>-8.8,\"-8.4\"=>-8.4,\"-8.0\"=>-8.0,\"-7.6\"=>-7.6,\"-7.2\"=>-7.2,\"-6.8\"=>-6.8,\"-6.4\"=>-6.4…), Dict{Any,Any}(Pair{Any,Any}(1.2, \"1.2\"),Pair{Any,Any}(9.6, \"9.6\"),Pair{Any,Any}(2.0, \"2.0\"),Pair{Any,Any}(8.0, \"8.0\"),Pair{Any,Any}(-0.8, \"-0.8\"),Pair{Any,Any}(-3.6, \"-3.6\"),Pair{Any,Any}(5.6, \"5.6\"),Pair{Any,Any}(-8.8, \"-8.8\"),Pair{Any,Any}(-6.4, \"-6.4\"),Pair{Any,Any}(-6.8, \"-6.8\")…)), Any[], Any[], true, \"horizontal\")"
      ]
     },
     "metadata": {},
     "output_type": "display_data"
    },
    {
     "data": {
      "text/html": [],
      "text/plain": [
       "Interact.Options{:SelectionSlider,Any}(419: \"input-201\" = 0.0 Any , \"base_rotation.1\", 0.0, \"0.0\", 26, Interact.OptionDict(DataStructures.OrderedDict{Any,Any}(\"-6.283185307179586\"=>-6.28319,\"-6.031857894892402\"=>-6.03186,\"-5.7805304826052195\"=>-5.78053,\"-5.529203070318036\"=>-5.5292,\"-5.277875658030853\"=>-5.27788,\"-5.026548245743669\"=>-5.02655,\"-4.775220833456485\"=>-4.77522,\"-4.523893421169302\"=>-4.52389,\"-4.2725660088821185\"=>-4.27257,\"-4.0212385965949355\"=>-4.02124…), Dict{Any,Any}(Pair{Any,Any}(-3.01593, \"-3.015928947446201\"),Pair{Any,Any}(5.5292, \"5.529203070318036\"),Pair{Any,Any}(1.75929, \"1.7592918860102842\"),Pair{Any,Any}(0.251327, \"0.25132741228718347\"),Pair{Any,Any}(-2.51327, \"-2.5132741228718345\"),Pair{Any,Any}(1.25664, \"1.2566370614359172\"),Pair{Any,Any}(-3.76991, \"-3.7699111843077517\"),Pair{Any,Any}(2.7646, \"2.764601535159018\"),Pair{Any,Any}(-2.26195, \"-2.261946710584651\"),Pair{Any,Any}(5.78053, \"5.7805304826052195\")…)), Any[], Any[], true, \"horizontal\")"
      ]
     },
     "metadata": {},
     "output_type": "display_data"
    },
    {
     "data": {
      "text/html": [],
      "text/plain": [
       "Interact.Options{:SelectionSlider,Any}(421: \"input-202\" = -0.7354 Any , \"core_to_rh_rotation.1\", -0.7354, \"-0.7354\", 26, Interact.OptionDict(DataStructures.OrderedDict{Any,Any}(\"-1.5708\"=>-1.5708,\"-1.537384\"=>-1.53738,\"-1.503968\"=>-1.50397,\"-1.470552\"=>-1.47055,\"-1.437136\"=>-1.43714,\"-1.40372\"=>-1.40372,\"-1.370304\"=>-1.3703,\"-1.336888\"=>-1.33689,\"-1.303472\"=>-1.30347,\"-1.270056\"=>-1.27006…), Dict{Any,Any}(Pair{Any,Any}(-1.00273, \"-1.002728\"),Pair{Any,Any}(-0.802232, \"-0.802232\"),Pair{Any,Any}(-0.267576, \"-0.267576\"),Pair{Any,Any}(-1.13639, \"-1.136392\"),Pair{Any,Any}(-1.20322, \"-1.203224\"),Pair{Any,Any}(-0.434656, \"-0.434656\"),Pair{Any,Any}(-0.300992, \"-0.300992\"),Pair{Any,Any}(-0.000248, \"-0.000248\"),Pair{Any,Any}(-0.501488, \"-0.501488\"),Pair{Any,Any}(-1.03614, \"-1.036144\")…)), Any[], Any[], true, \"horizontal\")"
      ]
     },
     "metadata": {},
     "output_type": "display_data"
    },
    {
     "data": {
      "text/html": [],
      "text/plain": [
       "Interact.Options{:SelectionSlider,Any}(423: \"input-203\" = -0.7354 Any , \"core_to_lh_rotation.1\", -0.7354, \"-0.7354\", 26, Interact.OptionDict(DataStructures.OrderedDict{Any,Any}(\"-1.5708\"=>-1.5708,\"-1.537384\"=>-1.53738,\"-1.503968\"=>-1.50397,\"-1.470552\"=>-1.47055,\"-1.437136\"=>-1.43714,\"-1.40372\"=>-1.40372,\"-1.370304\"=>-1.3703,\"-1.336888\"=>-1.33689,\"-1.303472\"=>-1.30347,\"-1.270056\"=>-1.27006…), Dict{Any,Any}(Pair{Any,Any}(-1.00273, \"-1.002728\"),Pair{Any,Any}(-0.802232, \"-0.802232\"),Pair{Any,Any}(-0.267576, \"-0.267576\"),Pair{Any,Any}(-1.13639, \"-1.136392\"),Pair{Any,Any}(-1.20322, \"-1.203224\"),Pair{Any,Any}(-0.434656, \"-0.434656\"),Pair{Any,Any}(-0.300992, \"-0.300992\"),Pair{Any,Any}(-0.000248, \"-0.000248\"),Pair{Any,Any}(-0.501488, \"-0.501488\"),Pair{Any,Any}(-1.03614, \"-1.036144\")…)), Any[], Any[], true, \"horizontal\")"
      ]
     },
     "metadata": {},
     "output_type": "display_data"
    },
    {
     "data": {
      "text/html": [],
      "text/plain": [
       "Interact.Options{:SelectionSlider,Any}(425: \"input-204\" = 0.367699 Any , \"core_to_rf_rotation.1\", 0.367699, \"0.367699\", 26, Interact.OptionDict(DataStructures.OrderedDict{Any,Any}(\"-0.05\"=>-0.05,\"-0.03329204\"=>-0.033292,\"-0.01658408\"=>-0.0165841,\"0.00012388\"=>0.00012388,\"0.01683184\"=>0.0168318,\"0.0335398\"=>0.0335398,\"0.05024776\"=>0.0502478,\"0.06695572\"=>0.0669557,\"0.08366368\"=>0.0836637,\"0.10037164\"=>0.100372…), Dict{Any,Any}(Pair{Any,Any}(0.467947, \"0.46794676\"),Pair{Any,Any}(0.334283, \"0.33428308\"),Pair{Any,Any}(0.284159, \"0.2841592\"),Pair{Any,Any}(0.518071, \"0.51807064\"),Pair{Any,Any}(0.317575, \"0.31757512\"),Pair{Any,Any}(0.668442, \"0.66844228\"),Pair{Any,Any}(0.434531, \"0.43453084\"),Pair{Any,Any}(0.551487, \"0.55148656\"),Pair{Any,Any}(0.76869, \"0.76869004\"),Pair{Any,Any}(0.217327, \"0.21732736\")…)), Any[], Any[], true, \"horizontal\")"
      ]
     },
     "metadata": {},
     "output_type": "display_data"
    },
    {
     "data": {
      "text/html": [],
      "text/plain": [
       "Interact.Options{:SelectionSlider,Any}(427: \"input-205\" = 0.367699 Any , \"core_to_lf_rotation.1\", 0.367699, \"0.367699\", 26, Interact.OptionDict(DataStructures.OrderedDict{Any,Any}(\"-0.05\"=>-0.05,\"-0.03329204\"=>-0.033292,\"-0.01658408\"=>-0.0165841,\"0.00012388\"=>0.00012388,\"0.01683184\"=>0.0168318,\"0.0335398\"=>0.0335398,\"0.05024776\"=>0.0502478,\"0.06695572\"=>0.0669557,\"0.08366368\"=>0.0836637,\"0.10037164\"=>0.100372…), Dict{Any,Any}(Pair{Any,Any}(0.467947, \"0.46794676\"),Pair{Any,Any}(0.334283, \"0.33428308\"),Pair{Any,Any}(0.284159, \"0.2841592\"),Pair{Any,Any}(0.518071, \"0.51807064\"),Pair{Any,Any}(0.317575, \"0.31757512\"),Pair{Any,Any}(0.668442, \"0.66844228\"),Pair{Any,Any}(0.434531, \"0.43453084\"),Pair{Any,Any}(0.551487, \"0.55148656\"),Pair{Any,Any}(0.76869, \"0.76869004\"),Pair{Any,Any}(0.217327, \"0.21732736\")…)), Any[], Any[], true, \"horizontal\")"
      ]
     },
     "metadata": {},
     "output_type": "display_data"
    },
    {
     "data": {
      "text/html": [],
      "text/plain": [
       "Interact.Options{:SelectionSlider,Any}(429: \"input-206\" = 0.5625 Any , \"core_to_rh_extension.1\", 0.5625, \"0.5625\", 26, Interact.OptionDict(DataStructures.OrderedDict{Any,Any}(\"0.375\"=>0.375,\"0.3825\"=>0.3825,\"0.39\"=>0.39,\"0.3975\"=>0.3975,\"0.405\"=>0.405,\"0.4125\"=>0.4125,\"0.42\"=>0.42,\"0.4275\"=>0.4275,\"0.435\"=>0.435,\"0.4425\"=>0.4425…), Dict{Any,Any}(Pair{Any,Any}(0.5775, \"0.5775\"),Pair{Any,Any}(0.54, \"0.54\"),Pair{Any,Any}(0.495, \"0.495\"),Pair{Any,Any}(0.675, \"0.675\"),Pair{Any,Any}(0.705, \"0.705\"),Pair{Any,Any}(0.4575, \"0.4575\"),Pair{Any,Any}(0.6075, \"0.6075\"),Pair{Any,Any}(0.6375, \"0.6375\"),Pair{Any,Any}(0.48, \"0.48\"),Pair{Any,Any}(0.57, \"0.57\")…)), Any[], Any[], true, \"horizontal\")"
      ]
     },
     "metadata": {},
     "output_type": "display_data"
    },
    {
     "data": {
      "text/html": [],
      "text/plain": [
       "Interact.Options{:SelectionSlider,Any}(431: \"input-207\" = 0.465 Any , \"core_to_lh_extension.1\", 0.465, \"0.465\", 26, Interact.OptionDict(DataStructures.OrderedDict{Any,Any}(\"0.18\"=>0.18,\"0.1914\"=>0.1914,\"0.2028\"=>0.2028,\"0.2142\"=>0.2142,\"0.2256\"=>0.2256,\"0.237\"=>0.237,\"0.2484\"=>0.2484,\"0.2598\"=>0.2598,\"0.2712\"=>0.2712,\"0.2826\"=>0.2826…), Dict{Any,Any}(Pair{Any,Any}(0.3168, \"0.3168\"),Pair{Any,Any}(0.6816, \"0.6816\"),Pair{Any,Any}(0.4308, \"0.4308\"),Pair{Any,Any}(0.2028, \"0.2028\"),Pair{Any,Any}(0.351, \"0.351\"),Pair{Any,Any}(0.2712, \"0.2712\"),Pair{Any,Any}(0.7158, \"0.7158\"),Pair{Any,Any}(0.4878, \"0.4878\"),Pair{Any,Any}(0.7272, \"0.7272\"),Pair{Any,Any}(0.2598, \"0.2598\")…)), Any[], Any[], true, \"horizontal\")"
      ]
     },
     "metadata": {},
     "output_type": "display_data"
    },
    {
     "data": {
      "text/html": [],
      "text/plain": [
       "Interact.Options{:SelectionSlider,Any}(433: \"input-208\" = 0.675 Any , \"core_to_rf_extension.1\", 0.675, \"0.675\", 26, Interact.OptionDict(DataStructures.OrderedDict{Any,Any}(\"0.45\"=>0.45,\"0.459\"=>0.459,\"0.468\"=>0.468,\"0.477\"=>0.477,\"0.486\"=>0.486,\"0.495\"=>0.495,\"0.504\"=>0.504,\"0.513\"=>0.513,\"0.522\"=>0.522,\"0.531\"=>0.531…), Dict{Any,Any}(Pair{Any,Any}(0.54, \"0.54\"),Pair{Any,Any}(0.495, \"0.495\"),Pair{Any,Any}(0.558, \"0.558\"),Pair{Any,Any}(0.819, \"0.819\"),Pair{Any,Any}(0.675, \"0.675\"),Pair{Any,Any}(0.864, \"0.864\"),Pair{Any,Any}(0.531, \"0.531\"),Pair{Any,Any}(0.747, \"0.747\"),Pair{Any,Any}(0.612, \"0.612\"),Pair{Any,Any}(0.756, \"0.756\")…)), Any[], Any[], true, \"horizontal\")"
      ]
     },
     "metadata": {},
     "output_type": "display_data"
    },
    {
     "data": {
      "text/html": [],
      "text/plain": [
       "Interact.Options{:SelectionSlider,Any}(435: \"input-209\" = 0.65 Any , \"core_to_lf_extension.1\", 0.65, \"0.65\", 26, Interact.OptionDict(DataStructures.OrderedDict{Any,Any}(\"0.4\"=>0.4,\"0.41\"=>0.41,\"0.42\"=>0.42,\"0.43\"=>0.43,\"0.44\"=>0.44,\"0.45\"=>0.45,\"0.46\"=>0.46,\"0.47\"=>0.47,\"0.48\"=>0.48,\"0.49\"=>0.49…), Dict{Any,Any}(Pair{Any,Any}(0.54, \"0.54\"),Pair{Any,Any}(0.86, \"0.86\"),Pair{Any,Any}(0.56, \"0.56\"),Pair{Any,Any}(0.89, \"0.89\"),Pair{Any,Any}(0.48, \"0.48\"),Pair{Any,Any}(0.49, \"0.49\"),Pair{Any,Any}(0.57, \"0.57\"),Pair{Any,Any}(0.67, \"0.67\"),Pair{Any,Any}(0.71, \"0.71\"),Pair{Any,Any}(0.83, \"0.83\")…)), Any[], Any[], true, \"horizontal\")"
      ]
     },
     "metadata": {},
     "output_type": "display_data"
    }
   ],
   "source": [
    "inspect(mechanism, basevis[:robot])"
   ]
  },
  {
   "cell_type": "code",
   "execution_count": null,
   "metadata": {
    "collapsed": true
   },
   "outputs": [],
   "source": []
  }
 ],
 "metadata": {
  "kernelspec": {
   "display_name": "Julia 0.6.0",
   "language": "julia",
   "name": "julia-0.6"
  },
  "language_info": {
   "file_extension": ".jl",
   "mimetype": "application/julia",
   "name": "julia",
   "version": "0.6.0"
  }
 },
 "nbformat": 4,
 "nbformat_minor": 2
}
