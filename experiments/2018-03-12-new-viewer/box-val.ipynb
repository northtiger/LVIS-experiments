{
 "cells": [
  {
   "cell_type": "code",
   "execution_count": null,
   "metadata": {},
   "outputs": [],
   "source": [
    "using Revise"
   ]
  },
  {
   "cell_type": "code",
   "execution_count": null,
   "metadata": {},
   "outputs": [],
   "source": [
    "using MeshCatMechanisms\n",
    "using MeshCat\n",
    "using RigidBodyDynamics\n",
    "using Gurobi"
   ]
  },
  {
   "cell_type": "code",
   "execution_count": null,
   "metadata": {},
   "outputs": [],
   "source": [
    "import LCPSim\n",
    "import LearningMPC\n",
    "import BoxValkyries\n",
    "import Nets\n",
    "reload(\"LearningMPC\")\n",
    "reload(\"BoxValkyries\")"
   ]
  },
  {
   "cell_type": "code",
   "execution_count": null,
   "metadata": {},
   "outputs": [],
   "source": [
    "robot = BoxValkyries.BoxValkyrie()"
   ]
  },
  {
   "cell_type": "code",
   "execution_count": null,
   "metadata": {},
   "outputs": [],
   "source": [
    "mvis = MechanismVisualizer(robot)\n",
    "IJuliaCell(mvis)"
   ]
  },
  {
   "cell_type": "code",
   "execution_count": null,
   "metadata": {},
   "outputs": [],
   "source": [
    "\n",
    "xstar = BoxValkyries.nominal_state(robot)\n",
    "\n",
    "mpc_params = LearningMPC.MPCParams(\n",
    "    Δt=0.05,\n",
    "    horizon=10,\n",
    "    mip_solver=GurobiSolver(Gurobi.Env(), OutputFlag=0, TimeLimit=120, MIPGap=1e-1, FeasibilityTol=1e-3),\n",
    "    lcp_solver=GurobiSolver(Gurobi.Env(), OutputFlag=0))\n",
    "\n",
    "Q, R = BoxValkyries.default_costs(robot)\n",
    "feet = findbody.(robot.mechanism, [\"lf\", \"rf\"])\n",
    "lqrsol = LearningMPC.LQRSolution(xstar, Q, R, mpc_params.Δt, Point3D.(default_frame.(feet), 0., 0., 0.))\n",
    "lqrsol.S .= 1 ./ mpc_params.Δt .* Q\n",
    "\n",
    "mpc_controller = LearningMPC.MPCController(robot.mechanism, \n",
    "    robot.environment, mpc_params, lqrsol, \n",
    "    [lqrsol]);\n",
    "\n",
    "sample_sink = LearningMPC.MPCSampleSink{Float64}(true)\n",
    "playback_sink = LearningMPC.PlaybackSink(mvis, mpc_params.Δt)\n",
    "\n",
    "mpc_controller.callback = LearningMPC.call_each(\n",
    "    sample_sink,\n",
    "    playback_sink,\n",
    ")\n"
   ]
  },
  {
   "cell_type": "code",
   "execution_count": null,
   "metadata": {},
   "outputs": [],
   "source": [
    "playback_sink.last_trajectory;"
   ]
  },
  {
   "cell_type": "code",
   "execution_count": null,
   "metadata": {},
   "outputs": [],
   "source": [
    "LearningMPC.playback(mvis, playback_sink.last_trajectory, mpc_params.Δt)"
   ]
  },
  {
   "cell_type": "code",
   "execution_count": null,
   "metadata": {},
   "outputs": [],
   "source": [
    "x0 = BoxValkyries.nominal_state(robot)\n",
    "set_configuration!(x0, configuration(x0) .+ 0.1 .* randn(length(configuration(x0))))\n",
    "mpc_controller(x0)"
   ]
  },
  {
   "cell_type": "code",
   "execution_count": null,
   "metadata": {},
   "outputs": [],
   "source": []
  }
 ],
 "metadata": {
  "kernelspec": {
   "display_name": "Julia 0.6.2",
   "language": "julia",
   "name": "julia-0.6"
  },
  "language_info": {
   "file_extension": ".jl",
   "mimetype": "application/julia",
   "name": "julia",
   "version": "0.6.2"
  }
 },
 "nbformat": 4,
 "nbformat_minor": 2
}
