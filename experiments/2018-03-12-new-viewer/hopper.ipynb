{
 "cells": [
  {
   "cell_type": "code",
   "execution_count": null,
   "metadata": {},
   "outputs": [],
   "source": [
    "using Revise"
   ]
  },
  {
   "cell_type": "code",
   "execution_count": null,
   "metadata": {},
   "outputs": [],
   "source": [
    "using MeshCatMechanisms\n",
    "using MeshCat\n",
    "using RigidBodyDynamics\n",
    "using Gurobi"
   ]
  },
  {
   "cell_type": "code",
   "execution_count": null,
   "metadata": {},
   "outputs": [],
   "source": [
    "import LCPSim\n",
    "import LearningMPC\n",
    "import Hoppers\n",
    "import Nets\n",
    "reload(\"LearningMPC\")\n",
    "reload(\"Hoppers\")"
   ]
  },
  {
   "cell_type": "code",
   "execution_count": null,
   "metadata": {},
   "outputs": [],
   "source": [
    "robot = Hoppers.Hopper()\n",
    "mvis = MechanismVisualizer(robot.mechanism, URDFVisuals(Hoppers.urdf))\n",
    "IJuliaCell(mvis)"
   ]
  },
  {
   "cell_type": "code",
   "execution_count": null,
   "metadata": {},
   "outputs": [],
   "source": [
    "\n",
    "xstar = Hoppers.nominal_state(robot)\n",
    "\n",
    "mpc_params = LearningMPC.MPCParams(\n",
    "    Δt=0.05,\n",
    "    horizon=10,\n",
    "    mip_solver=GurobiSolver(Gurobi.Env(), OutputFlag=0, TimeLimit=120, MIPGap=1e-1, FeasibilityTol=1e-3),\n",
    "    lcp_solver=GurobiSolver(Gurobi.Env(), OutputFlag=0))\n",
    "\n",
    "Q, R = Hoppers.default_costs(robot)\n",
    "foot = findbody(robot.mechanism, \"foot\")\n",
    "lqrsol = LearningMPC.LQRSolution(xstar, Q, R, mpc_params.Δt, [Point3D(default_frame(foot), 0., 0., 0.)])\n",
    "lqrsol.S .= 1 ./ mpc_params.Δt .* Q\n",
    "\n",
    "mpc_controller = LearningMPC.MPCController(robot.mechanism, \n",
    "    robot.environment, mpc_params, lqrsol, \n",
    "    [lqrsol]);\n",
    "\n",
    "sample_sink = LearningMPC.MPCSampleSink{Float64}(true)\n",
    "playback_sink = LearningMPC.PlaybackSink(mvis, mpc_params.Δt)\n",
    "\n",
    "mpc_controller.callback = LearningMPC.call_each(\n",
    "    sample_sink,\n",
    "    playback_sink,\n",
    ")\n"
   ]
  },
  {
   "cell_type": "code",
   "execution_count": null,
   "metadata": {},
   "outputs": [],
   "source": [
    "x0 = MechanismState(robot.mechanism)\n",
    "set_configuration!(x0, [1, 1])\n",
    "mpc_controller(x0)"
   ]
  },
  {
   "cell_type": "code",
   "execution_count": null,
   "metadata": {},
   "outputs": [],
   "source": []
  }
 ],
 "metadata": {
  "kernelspec": {
   "display_name": "Julia 0.6.2",
   "language": "julia",
   "name": "julia-0.6"
  },
  "language_info": {
   "file_extension": ".jl",
   "mimetype": "application/julia",
   "name": "julia",
   "version": "0.6.2"
  }
 },
 "nbformat": 4,
 "nbformat_minor": 2
}
