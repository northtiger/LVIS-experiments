{
 "cells": [
  {
   "cell_type": "code",
   "execution_count": 1,
   "metadata": {},
   "outputs": [],
   "source": [
    "using Revise"
   ]
  },
  {
   "cell_type": "code",
   "execution_count": 2,
   "metadata": {},
   "outputs": [],
   "source": [
    "@assert Threads.nthreads() > 1"
   ]
  },
  {
   "cell_type": "code",
   "execution_count": 3,
   "metadata": {},
   "outputs": [
    {
     "data": {
      "text/html": [
       "    <script class='js-collapse-script'>\n",
       "        var curMatch =\n",
       "            window.location.href\n",
       "            .match(/(.*?)\\/notebooks\\/.*\\.ipynb/);\n",
       "\n",
       "        curMatch = curMatch ||\n",
       "            window.location.href\n",
       "            .match(/(.*?)\\/apps\\/.*\\.ipynb/);\n",
       "\n",
       "        if ( curMatch ) {\n",
       "            $('head').append('<base href=\"' + curMatch[1] + '/\">');\n",
       "        }\n",
       "    </script>\n"
      ],
      "text/plain": [
       "HTML{String}(\"    <script class='js-collapse-script'>\\n        var curMatch =\\n            window.location.href\\n            .match(/(.*?)\\\\/notebooks\\\\/.*\\\\.ipynb/);\\n\\n        curMatch = curMatch ||\\n            window.location.href\\n            .match(/(.*?)\\\\/apps\\\\/.*\\\\.ipynb/);\\n\\n        if ( curMatch ) {\\n            \\$('head').append('<base href=\\\"' + curMatch[1] + '/\\\">');\\n        }\\n    </script>\\n\")"
      ]
     },
     "metadata": {},
     "output_type": "display_data"
    },
    {
     "data": {
      "text/html": [
       "<script class='js-collapse-script' src='/assetserver/9db0e137604e898c25f194d972715156bd46cb81-assets/webio/dist/bundle.js'></script>"
      ],
      "text/plain": [
       "HTML{String}(\"<script class='js-collapse-script' src='/assetserver/9db0e137604e898c25f194d972715156bd46cb81-assets/webio/dist/bundle.js'></script>\")"
      ]
     },
     "metadata": {},
     "output_type": "display_data"
    },
    {
     "data": {
      "text/html": [
       "<script class='js-collapse-script' src='/assetserver/9db0e137604e898c25f194d972715156bd46cb81-assets/providers/ijulia_setup.js'></script>"
      ],
      "text/plain": [
       "HTML{String}(\"<script class='js-collapse-script' src='/assetserver/9db0e137604e898c25f194d972715156bd46cb81-assets/providers/ijulia_setup.js'></script>\")"
      ]
     },
     "metadata": {},
     "output_type": "display_data"
    },
    {
     "data": {
      "text/html": [
       "  <script class='js-collapse-script'>\n",
       "    $('.js-collapse-script').parent('.output_subarea').css('padding', '0');\n",
       "  </script>\n"
      ],
      "text/plain": [
       "HTML{String}(\"  <script class='js-collapse-script'>\\n    \\$('.js-collapse-script').parent('.output_subarea').css('padding', '0');\\n  </script>\\n\")"
      ]
     },
     "metadata": {},
     "output_type": "display_data"
    },
    {
     "name": "stderr",
     "output_type": "stream",
     "text": [
      "\u001b[1m\u001b[36mINFO: \u001b[39m\u001b[22m\u001b[36mLoading HttpServer methods...\n",
      "\u001b[39mWARNING: using Blink.@js in module InteractBase conflicts with an existing identifier.\n",
      "WARNING: using Juno.input in module InteractBase conflicts with an existing identifier.\n"
     ]
    }
   ],
   "source": [
    "using MeshCatMechanisms\n",
    "using RigidBodyDynamics\n",
    "using RigidBodyDynamics.Contact\n",
    "using LCPSim\n",
    "using Blink\n",
    "using LearningMPC\n",
    "using LearningMPC.Models\n",
    "using RigidBodySim"
   ]
  },
  {
   "cell_type": "code",
   "execution_count": 5,
   "metadata": {},
   "outputs": [],
   "source": [
    "atlas_sim = LearningMPC.Models.PlanarAtlas(:simulation);"
   ]
  },
  {
   "cell_type": "code",
   "execution_count": 6,
   "metadata": {},
   "outputs": [
    {
     "name": "stdout",
     "output_type": "stream",
     "text": [
      "AtlasRobot.packagepath() = \"/home/rdeits/locomotion/explorations/learning-mpc-2/packages/v0.6/AtlasRobot/deps\"\n"
     ]
    }
   ],
   "source": [
    "mvis = MechanismVisualizer(atlas_sim)\n",
    "open(mvis, Window())\n",
    "set_configuration!(mvis, configuration(nominal_state(atlas_sim)))"
   ]
  },
  {
   "cell_type": "markdown",
   "metadata": {},
   "source": [
    "Locally we express box atlas state $x_b$ as a function of full atlas state $x_a$: \n",
    "\n",
    "$$\n",
    "x_b = J_{ba} (x_a - x_{a0}) + x_{b0}\n",
    "$$\n",
    "\n",
    "Our goal is to minimize an quadratic cost expressed in terms of the box atlas state: \n",
    "\n",
    "$$\n",
    "\\text{minimize } (x_b - x_b^*)^\\top Q (x_b - x_b^*) + q^\\top x_b + u_b^\\top R u_b\n",
    "$$\n",
    "\n",
    "Substituting, we get: \n",
    "\n",
    "$$\n",
    "(J_{ba} (x_a - x_{a0}) + x_{b0} - x_b^*)^\\top Q (J_{ba} (x_a - x_{a0}) + x_{b0} - x_b^*) + q^\\top (J_{ba} (x_a - x_{a0}) + x_{b0}) + u_b^\\top R u_b\n",
    "$$\n",
    "\n",
    "$$\n",
    "= x_a^\\top (J_{ba}^\\top Q J_{ba}) x_a + 2 (-J_{ba} x_{a0} + x_{b0} - x_b^*)^\\top Q J_{ba} x_a + q^\\top J_{ba} x_a + u_b^\\top R u_b + \\text{ constant}\n",
    "$$"
   ]
  },
  {
   "cell_type": "markdown",
   "metadata": {},
   "source": [
    "Assuming that $q = 0$ for now, what's the analytical solution? \n",
    "\n",
    "$$\n",
    "2 x_a^\\top J_{ba}^\\top Q J_{ba} + 2(-J_{ba}x_{a0} + x_{b0} - x_b^*)^\\top Q J_{ba} = 0\n",
    "$$\n",
    "\n",
    "$$\n",
    "(J_{ba} x_a -J_{ba}x_{a0} + x_{b0} - x_b^*)^\\top Q J_{ba} = 0\n",
    "$$\n",
    "\n",
    "which is true when $J_{ba}(x_a - x_{a0}) + x_{b0}) = x_b^*$"
   ]
  },
  {
   "cell_type": "markdown",
   "metadata": {},
   "source": [
    "That constant term comes out to: \n",
    "\n",
    "$$\n",
    "(-J_{ba} x_{a0} + x_{b0} - x_b^*)^\\top Q (-J_{ba} x_{a0} + x_{b0} - x_b^*) + q^\\top (-J_{ba} x_{a0} + x_{b0})\n",
    "$$"
   ]
  },
  {
   "cell_type": "code",
   "execution_count": 7,
   "metadata": {},
   "outputs": [
    {
     "data": {
      "text/plain": [
       "(::LQRSolution) (generic function with 2 methods)"
      ]
     },
     "execution_count": 7,
     "metadata": {},
     "output_type": "execute_result"
    }
   ],
   "source": [
    "# atlas_control = LearningMPC.Models.PlanarAtlas(:control);\n",
    "feet = Dict(:left => findbody(mechanism(atlas_sim), \"l_foot_sole\"), :right => findbody(mechanism(atlas_sim), \"r_foot_sole\"))\n",
    "hands = Dict(:left => findbody(mechanism(atlas_sim), \"l_hand_mount\"), :right => findbody(mechanism(atlas_sim), \"r_hand_mount\"));\n",
    "floor = HalfSpace3D(Point3D(root_frame(mechanism(atlas_sim)), 0., 0, 0), FreeVector3D(root_frame(mechanism(atlas_sim)), 0., 0, 1))\n",
    "\n",
    "xstar = nominal_state(atlas_sim)\n",
    "Δt = 0.05\n",
    "nq = num_positions(xstar)\n",
    "nv = num_velocities(xstar)\n",
    "qq = fill(0.1, nq)\n",
    "qq[1] = 10\n",
    "qq[2] = 100\n",
    "qq[3] = 500\n",
    "# qq[configuration_range(xstar, findjoint(mechanism(atlas_sim), \"r_leg_hpx\"))] .= 100\n",
    "# qq[configuration_range(xstar, findjoint(mechanism(atlas_sim), \"l_leg_hpx\"))] .= 100\n",
    "qv = fill(0.01, nv)\n",
    "qv[velocity_range(xstar, findjoint(xstar.mechanism, \"floating_base\"))] .= [100, 20, 50]\n",
    "Q = diagm(vcat(qq, qv))\n",
    "R = diagm(fill(1e-6, nv))\n",
    "lqrsol = LearningMPC.LQRSolution(xstar, Q, R, Δt, \n",
    "    [Point3D(default_frame(body), 0., 0, 0) for body in \n",
    "            findbody.(mechanism(atlas_sim), [\"r_foot_sole\", \"l_foot_sole\"])])\n"
   ]
  },
  {
   "cell_type": "code",
   "execution_count": 339,
   "metadata": {},
   "outputs": [
    {
     "name": "stdout",
     "output_type": "stream",
     "text": [
      "contact_state = (true, true)\n",
      "contact_state = (false, true)\n",
      "contact_state = (true, false)\n",
      "contact_state = (false, false)\n"
     ]
    }
   ],
   "source": [
    "mixed_control, lowlevel_controllers = build_mixed_controller(atlas_sim, lqrsol);"
   ]
  },
  {
   "cell_type": "code",
   "execution_count": 340,
   "metadata": {},
   "outputs": [
    {
     "data": {
      "text/plain": [
       "27-element Array{Float64,1}:\n",
       "   1.31115e-6 \n",
       "   5.87668e-6 \n",
       "  -1.615e-6   \n",
       "  -1.31903    \n",
       "   0.49937    \n",
       "  40.4864     \n",
       "  40.1485     \n",
       "  -0.000207508\n",
       "   0.000413095\n",
       " -96.9099     \n",
       " -95.6951     \n",
       "  15.5587     \n",
       " -15.3948     \n",
       "   ⋮          \n",
       "  -0.0017269  \n",
       "  -0.00247717 \n",
       "   1.28171    \n",
       "  -1.34042    \n",
       "   4.09769    \n",
       "  -4.05687    \n",
       "  -0.00172817 \n",
       "  -0.00247972 \n",
       "   0.314055   \n",
       "  -0.324302   \n",
       "   0.00039535 \n",
       "  -0.000387549"
      ]
     },
     "execution_count": 340,
     "metadata": {},
     "output_type": "execute_result"
    }
   ],
   "source": [
    "state = nominal_state(atlas_sim)\n",
    "# set_velocity!(state, findjoint(mechanism(atlas_sim), \"floating_base\"), [-0., 0, 0])\n",
    "mixed_control(zeros(num_velocities(state)), 0.0, state)"
   ]
  },
  {
   "cell_type": "code",
   "execution_count": 341,
   "metadata": {},
   "outputs": [
    {
     "name": "stdout",
     "output_type": "stream",
     "text": [
      "180.674837 seconds (1.27 M allocations: 86.076 MiB, 0.03% gc time)\n"
     ]
    }
   ],
   "source": [
    "state = nominal_state(atlas_sim)\n",
    "set_velocity!(state, findjoint(mechanism(atlas_sim), \"floating_base\"), [-0.2, 0, 0])\n",
    "final_time = 5.0\n",
    "\n",
    "composed = PeriodicController(similar(velocity(state)), 0.01, compose(mixed_control, effort_limiter))\n",
    "controlcallback = DiffEqCallbacks.PeriodicCallback(composed)\n",
    "composed = compose(composed, bounds_enforcer, damper)\n",
    "\n",
    "dynamics = Dynamics(mechanism(atlas_sim), composed)\n",
    "problem = ODEProblem(dynamics, state, (0., final_time), callback = CallbackSet(controlcallback)) # CallbackSet(mvis, state, max_fps = 30.)))\n",
    "\n",
    "@time sol = RigidBodySim.solve(problem, Tsit5(), abs_tol = 1e-8, dt = 1e-6);\n",
    "# @time sol = RigidBodySim.solve(problem, Tsit5(), abs_tol = 1e-8, dt = 1e-6);\n",
    "RigidBodySim.animate(mvis, mvis.state, sol)"
   ]
  },
  {
   "cell_type": "code",
   "execution_count": 342,
   "metadata": {},
   "outputs": [
    {
     "name": "stderr",
     "output_type": "stream",
     "text": [
      "\u001b[1m\u001b[33mWARNING: \u001b[39m\u001b[22m\u001b[33m/home/rdeits/locomotion/explorations/learning-mpc-2/packages/v0.6/RigidBodySim/src/visualizers is not an existing directory, Revise is not watching\u001b[39m\n"
     ]
    }
   ],
   "source": [
    "RigidBodySim.animate(mvis, mvis.state, sol)"
   ]
  },
  {
   "cell_type": "code",
   "execution_count": null,
   "metadata": {},
   "outputs": [],
   "source": []
  }
 ],
 "metadata": {
  "kernelspec": {
   "display_name": "Julia multithread 0.6.3",
   "language": "julia",
   "name": "julia-multithread-0.6"
  },
  "language_info": {
   "file_extension": ".jl",
   "mimetype": "application/julia",
   "name": "julia",
   "version": "0.6.3"
  }
 },
 "nbformat": 4,
 "nbformat_minor": 2
}
