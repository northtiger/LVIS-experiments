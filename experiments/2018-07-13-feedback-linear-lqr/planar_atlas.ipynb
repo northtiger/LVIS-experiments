{
 "cells": [
  {
   "cell_type": "code",
   "execution_count": 2,
   "metadata": {},
   "outputs": [],
   "source": [
    "using Revise"
   ]
  },
  {
   "cell_type": "code",
   "execution_count": 12,
   "metadata": {},
   "outputs": [],
   "source": [
    "@assert Threads.nthreads() > 1"
   ]
  },
  {
   "cell_type": "code",
   "execution_count": 13,
   "metadata": {},
   "outputs": [
    {
     "data": {
      "text/plain": [
       "MathOptInterface"
      ]
     },
     "execution_count": 13,
     "metadata": {},
     "output_type": "execute_result"
    }
   ],
   "source": [
    "using MeshCatMechanisms\n",
    "using MeshCat\n",
    "using RigidBodyDynamics\n",
    "using LCPSim\n",
    "using AtlasRobot\n",
    "using Blink\n",
    "using RigidBodyDynamics\n",
    "using RigidBodyDynamics.Contact\n",
    "using Rotations\n",
    "using LearningMPC\n",
    "using LearningMPC.Models\n",
    "using Gurobi\n",
    "using StaticArrays\n",
    "using RigidBodySim\n",
    "using OSQP.MathOptInterfaceOSQP\n",
    "using QPControl\n",
    "using MathOptInterface\n",
    "const MOI = MathOptInterface"
   ]
  },
  {
   "cell_type": "code",
   "execution_count": 14,
   "metadata": {},
   "outputs": [
    {
     "name": "stdout",
     "output_type": "stream",
     "text": [
      "AtlasRobot.packagepath() = \"/home/rdeits/locomotion/explorations/learning-mpc-2/packages/v0.6/AtlasRobot/deps\"\n"
     ]
    }
   ],
   "source": [
    "atlas_sim = LearningMPC.Models.PlanarAtlas(:simulation);\n",
    "\n",
    "mvis = MechanismVisualizer(atlas_sim)\n",
    "open(mvis, Window())\n",
    "set_configuration!(mvis, configuration(nominal_state(atlas_sim)))"
   ]
  },
  {
   "cell_type": "code",
   "execution_count": 15,
   "metadata": {},
   "outputs": [
    {
     "data": {
      "text/plain": [
       "zero_controller (generic function with 1 method)"
      ]
     },
     "execution_count": 15,
     "metadata": {},
     "output_type": "execute_result"
    }
   ],
   "source": [
    "\n",
    "\n",
    "function compose(controllers...)\n",
    "    function (τ, t, state)\n",
    "        for c in controllers\n",
    "            c(τ, t, state)\n",
    "        end\n",
    "        τ\n",
    "    end\n",
    "end\n",
    "   \n",
    "zero_controller(τ::AbstractVector, t::Number, state::MechanismState) = τ .= 0"
   ]
  },
  {
   "cell_type": "code",
   "execution_count": 111,
   "metadata": {},
   "outputs": [
    {
     "data": {
      "text/plain": [
       "defaultoptimizer (generic function with 1 method)"
      ]
     },
     "execution_count": 111,
     "metadata": {},
     "output_type": "execute_result"
    }
   ],
   "source": [
    "function defaultoptimizer()\n",
    "    optimizer = OSQPOptimizer()\n",
    "    MOI.set!(optimizer, OSQPSettings.Verbose(), false)\n",
    "    MOI.set!(optimizer, OSQPSettings.EpsAbs(), 1e-5)\n",
    "    MOI.set!(optimizer, OSQPSettings.EpsRel(), 1e-5)\n",
    "    MOI.set!(optimizer, OSQPSettings.MaxIter(), 5000)\n",
    "    MOI.set!(optimizer, OSQPSettings.AdaptiveRhoInterval(), 25) # required for deterministic behavior\n",
    "#     MOI.set!(optimizer, OSQPSettings.WarmStart(), false)\n",
    "    optimizer\n",
    "end"
   ]
  },
  {
   "cell_type": "code",
   "execution_count": 215,
   "metadata": {},
   "outputs": [
    {
     "data": {
      "text/plain": [
       "(::LQRSolution) (generic function with 2 methods)"
      ]
     },
     "execution_count": 215,
     "metadata": {},
     "output_type": "execute_result"
    }
   ],
   "source": [
    "# atlas_control = LearningMPC.Models.PlanarAtlas(:control);\n",
    "feet = Dict(:left => findbody(mechanism(atlas_sim), \"l_foot_sole\"), :right => findbody(mechanism(atlas_sim), \"r_foot_sole\"))\n",
    "hands = Dict(:left => findbody(mechanism(atlas_sim), \"l_hand_mount\"), :right => findbody(mechanism(atlas_sim), \"r_hand_mount\"));\n",
    "floor = HalfSpace3D(Point3D(root_frame(mechanism(atlas_sim)), 0., 0, 0), FreeVector3D(root_frame(mechanism(atlas_sim)), 0., 0, 1))\n",
    "\n",
    "xstar = nominal_state(atlas_sim)\n",
    "Δt = 0.05\n",
    "nq = num_positions(xstar)\n",
    "nv = num_velocities(xstar)\n",
    "qq = fill(0.1, nq)\n",
    "qq[1] = 10\n",
    "qq[2] = 100\n",
    "qq[3] = 500\n",
    "# qq[configuration_range(xstar, findjoint(mechanism(atlas_sim), \"r_leg_hpx\"))] .= 100\n",
    "# qq[configuration_range(xstar, findjoint(mechanism(atlas_sim), \"l_leg_hpx\"))] .= 100\n",
    "qv = fill(0.1, nv)\n",
    "qv[velocity_range(xstar, findjoint(xstar.mechanism, \"floating_base\"))] .= [100, 20, 50]\n",
    "Q = diagm(vcat(qq, qv))\n",
    "R = diagm(fill(1e-6, nv))\n",
    "lqrsol = LearningMPC.LQRSolution(xstar, Q, R, Δt, \n",
    "    [Point3D(default_frame(body), 0., 0, 0) for body in \n",
    "            findbody.(mechanism(atlas_sim), [\"r_foot_sole\", \"l_foot_sole\"])])\n"
   ]
  },
  {
   "cell_type": "code",
   "execution_count": 216,
   "metadata": {},
   "outputs": [
    {
     "data": {
      "text/plain": [
       "(::#318) (generic function with 1 method)"
      ]
     },
     "execution_count": 216,
     "metadata": {},
     "output_type": "execute_result"
    }
   ],
   "source": [
    "effort_limiter = let effort_bounds = LCPSim.all_effort_bounds(mechanism(atlas_sim))\n",
    "    function (τ::AbstractVector, t::Number, state::MechanismState)\n",
    "        τ .= clamp.(τ, effort_bounds)\n",
    "        τ\n",
    "    end\n",
    "end\n",
    "\n",
    "bounds_enforcer = let position_bounds = LCPSim.all_configuration_bounds(mechanism(atlas_sim))\n",
    "    function (τ::AbstractVector, t::Number, state::MechanismState)\n",
    "        # TODO: handle q̇ vs v correctly\n",
    "        for i in 1:num_positions(state)\n",
    "            kp = 1000\n",
    "            kd = 0.1 * kp\n",
    "            if configuration(state)[i] > position_bounds[i].upper\n",
    "                violation = configuration(state)[i] - position_bounds[i].upper\n",
    "                τ[i] -= kp * violation\n",
    "                τ[i] -= kd * velocity(state)[i]\n",
    "            elseif configuration(state)[i] < position_bounds[i].lower\n",
    "                violation = position_bounds[i].lower - configuration(state)[i]\n",
    "                τ[i] += kp * violation \n",
    "                τ[i] -= kd * velocity(state)[i]\n",
    "            end\n",
    "        end\n",
    "        τ\n",
    "    end\n",
    "end\n",
    "\n",
    "damper = function(τ, t, state)\n",
    "    τ .= τ .- 1.0 .* velocity(state)\n",
    "end"
   ]
  },
  {
   "cell_type": "code",
   "execution_count": 232,
   "metadata": {},
   "outputs": [
    {
     "name": "stdout",
     "output_type": "stream",
     "text": [
      "contact_state = (true, true)\n",
      "contact_state = (false, true)\n",
      "contact_state = (true, false)\n",
      "contact_state = (false, false)\n"
     ]
    }
   ],
   "source": [
    "function build_contact_controller(robot, contact_state, lqrsol)\n",
    "    lowlevel = QPControl.MPCController{4}(mechanism(robot), defaultoptimizer())\n",
    "    stage = QPControl.addstage!(lowlevel, lqrsol.Δt)\n",
    "    for (i, (side, body)) in enumerate(feet)\n",
    "        contact_point = QPControl.addcontact!(stage,\n",
    "            body,\n",
    "            Point3D(default_frame(body), 0., 0, 0),\n",
    "            FreeVector3D(default_frame(body), 0., 0, 1),\n",
    "            1.0,\n",
    "            floor\n",
    "        )\n",
    "        if contact_state[i]\n",
    "            contact_point.maxnormalforce = 1e9\n",
    "        else\n",
    "            contact_point.maxnormalforce = 0\n",
    "        end\n",
    "    end\n",
    "\n",
    "    lowlevel.running_state_cost.Q .= lqrsol.Q\n",
    "    lowlevel.running_state_cost.q .= 0\n",
    "    lowlevel.running_state_cost.x0 .= lqrsol.x0\n",
    "    lowlevel.running_input_cost.Q .= lqrsol.R\n",
    "    lowlevel.running_input_cost.q .= 0\n",
    "    lowlevel.running_input_cost.x0 .= 0\n",
    "    lowlevel.terminal_state_cost.Q .= lqrsol.S\n",
    "    lowlevel.terminal_state_cost.q .= 0\n",
    "    lowlevel.terminal_state_cost.x0 .= lqrsol.x0;\n",
    "    lowlevel\n",
    "end\n",
    "    \n",
    "\n",
    "function build_mixed_controller(robot, lqrsol)\n",
    "    contact_states = collect(IterTools.product([true, false], [true, false]))\n",
    "#     contact_states = [[true, true]]\n",
    "    controllers = map(contact_states) do contact_state\n",
    "        @show contact_state\n",
    "        build_contact_controller(robot, contact_state, lqrsol)\n",
    "    end\n",
    "    τs = [zeros(num_velocities(mechanism(robot))) for controller in controllers]\n",
    "    objective_values = zeros(length(controllers))\n",
    "    \n",
    "    function control(τ, t, x)\n",
    "        let controllers = controllers,\n",
    "            τs = τs,\n",
    "            objective_values = objective_values\n",
    "            \n",
    "#             Threads.@threads \n",
    "            for i in eachindex(controllers)\n",
    "                controller = controllers[i]\n",
    "                if !controller.initialized\n",
    "                    QPControl.initialize!(controller)\n",
    "                end\n",
    "                for stage in QPControl.stages(controller)\n",
    "                    QPControl.copyto!(stage.state, x)\n",
    "                end\n",
    "                model = controller.qpmodel\n",
    "                SimpleQP.solve!(model)\n",
    "                τs[i] .= SimpleQP.value.(model, controller.stages[1].input)\n",
    "#                 @show SimpleQP.primalstatus(model)\n",
    "                if SimpleQP.primalstatus(model) == MOI.FeasiblePoint\n",
    "                    objective_values[i] = SimpleQP.objectivevalue(model)\n",
    "                else\n",
    "                    objective_values[i] = Inf\n",
    "                end\n",
    "#                 for i in 1:2\n",
    "#                     @show SimpleQP.value.(controller.qpmodel, \n",
    "#                         collect(values(controller.stages[1].contacts))[i][1][1].force_local.v)\n",
    "#                 end\n",
    "            end\n",
    "        end\n",
    "        best_cost = Inf\n",
    "        best_model = 0\n",
    "        for i in eachindex(controllers)\n",
    "            if objective_values[i] < best_cost\n",
    "                best_model = i\n",
    "                best_cost = objective_values[i]\n",
    "                τ .= τs[i]\n",
    "            end\n",
    "        end\n",
    "        if best_cost == Inf\n",
    "            @show configuration(state) velocity(state)\n",
    "            error(\"infeasible\")\n",
    "        end\n",
    "#         @show best_model contact_states[best_model]\n",
    "        τ\n",
    "    end, controllers\n",
    "end\n",
    "    \n",
    "mixed_control, lowlevel_controllers = build_mixed_controller(atlas_sim, lqrsol);"
   ]
  },
  {
   "cell_type": "code",
   "execution_count": 233,
   "metadata": {},
   "outputs": [
    {
     "name": "stdout",
     "output_type": "stream",
     "text": [
      " 17.563385 seconds (1.90 M allocations: 180.969 MiB, 2.91% gc time)\n"
     ]
    }
   ],
   "source": [
    "state = nominal_state(atlas_sim)\n",
    "set_velocity!(state, findjoint(mechanism(atlas_sim), \"floating_base\"), [-0.2, 0, 0])\n",
    "final_time = 5.0\n",
    "\n",
    "composed = PeriodicController(similar(velocity(state)), 0.01, compose(mixed_control, effort_limiter))\n",
    "controlcallback = DiffEqCallbacks.PeriodicCallback(composed)\n",
    "composed = compose(composed, bounds_enforcer, damper)\n",
    "\n",
    "dynamics = Dynamics(mechanism(atlas_sim), composed)\n",
    "problem = ODEProblem(dynamics, state, (0., final_time), callback = CallbackSet(controlcallback)) # CallbackSet(mvis, state, max_fps = 30.)))\n",
    "\n",
    "@time sol = RigidBodySim.solve(problem, Tsit5(), abs_tol = 1e-8, dt = 1e-6);\n",
    "# @time sol = RigidBodySim.solve(problem, Tsit5(), abs_tol = 1e-8, dt = 1e-6);"
   ]
  },
  {
   "cell_type": "code",
   "execution_count": 234,
   "metadata": {},
   "outputs": [],
   "source": [
    "RigidBodySim.animate(mvis, mvis.state, sol)"
   ]
  },
  {
   "cell_type": "code",
   "execution_count": null,
   "metadata": {},
   "outputs": [],
   "source": []
  }
 ],
 "metadata": {
  "kernelspec": {
   "display_name": "Julia O3 Multithreaded 0.6.4",
   "language": "julia",
   "name": "julia-o3-multithreaded-0.6"
  },
  "language_info": {
   "file_extension": ".jl",
   "mimetype": "application/julia",
   "name": "julia",
   "version": "0.6.4"
  }
 },
 "nbformat": 4,
 "nbformat_minor": 2
}
