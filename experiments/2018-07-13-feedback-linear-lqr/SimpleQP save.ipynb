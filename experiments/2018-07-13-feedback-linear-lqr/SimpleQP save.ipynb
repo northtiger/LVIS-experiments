{
 "cells": [
  {
   "cell_type": "code",
   "execution_count": 1,
   "metadata": {},
   "outputs": [
    {
     "name": "stderr",
     "output_type": "stream",
     "text": [
      "\u001b[1m\u001b[36mINFO: \u001b[39m\u001b[22m\u001b[36mRecompiling stale cache file /home/rdeits/locomotion/explorations/learning-mpc-2/packages/lib/v0.6/SimpleQP.ji for module SimpleQP.\n",
      "\u001b[39m"
     ]
    },
    {
     "data": {
      "text/plain": [
       "MathOptInterface"
      ]
     },
     "execution_count": 1,
     "metadata": {},
     "output_type": "execute_result"
    }
   ],
   "source": [
    "using MathOptInterface\n",
    "using JLD2\n",
    "using SimpleQP\n",
    "using Gurobi\n",
    "using OSQP.MathOptInterfaceOSQP\n",
    "\n",
    "const MOI = MathOptInterface"
   ]
  },
  {
   "cell_type": "code",
   "execution_count": 3,
   "metadata": {},
   "outputs": [],
   "source": [
    "@load \"model.jld2\" backend\n",
    "model = backend;"
   ]
  },
  {
   "cell_type": "code",
   "execution_count": 4,
   "metadata": {},
   "outputs": [
    {
     "name": "stdout",
     "output_type": "stream",
     "text": [
      "Academic license - for non-commercial use only\n",
      "Warning for adding constraints: zero or small (< 1e-13) coefficients, ignored\n"
     ]
    },
    {
     "ename": "LoadError",
     "evalue": "\u001b[91mGurobi.GurobiError(10018, \"Problem adding constraints\")\u001b[39m",
     "output_type": "error",
     "traceback": [
      "\u001b[91mGurobi.GurobiError(10018, \"Problem adding constraints\")\u001b[39m",
      "",
      "Stacktrace:",
      " [1] \u001b[1madd_constrs!\u001b[22m\u001b[22m\u001b[1m(\u001b[22m\u001b[22m::Gurobi.Model, ::Array{Int32,1}, ::Array{Int32,1}, ::Array{Float64,1}, ::Array{Int8,1}, ::Array{Float64,1}\u001b[1m)\u001b[22m\u001b[22m at \u001b[1m/home/rdeits/locomotion/explorations/learning-mpc-2/packages/v0.6/Gurobi/src/grb_constrs.jl:56\u001b[22m\u001b[22m",
      " [2] \u001b[1madd_constrs!\u001b[22m\u001b[22m\u001b[1m(\u001b[22m\u001b[22m::Gurobi.Model, ::Array{Int64,1}, ::Array{Int64,1}, ::Array{Float64,1}, ::Array{Int8,1}, ::Array{Float64,1}\u001b[1m)\u001b[22m\u001b[22m at \u001b[1m/home/rdeits/locomotion/explorations/learning-mpc-2/packages/v0.6/Gurobi/src/grb_constrs.jl:63\u001b[22m\u001b[22m",
      " [3] \u001b[1madd_linear_constraints!\u001b[22m\u001b[22m at \u001b[1m/home/rdeits/locomotion/explorations/learning-mpc-2/packages/v0.6/Gurobi/src/MOIWrapper.jl:127\u001b[22m\u001b[22m [inlined]",
      " [4] \u001b[1maddlinearconstraint!\u001b[22m\u001b[22m\u001b[1m(\u001b[22m\u001b[22m::Gurobi.GurobiOptimizer, ::MathOptInterface.VectorAffineFunction{Float64}, ::Int8\u001b[1m)\u001b[22m\u001b[22m at \u001b[1m/home/rdeits/locomotion/explorations/learning-mpc-2/packages/v0.6/LinQuadOptInterface/src/constraints/vectoraffine.jl:50\u001b[22m\u001b[22m",
      " [5] \u001b[1maddconstraint!\u001b[22m\u001b[22m\u001b[1m(\u001b[22m\u001b[22m::Gurobi.GurobiOptimizer, ::MathOptInterface.VectorAffineFunction{Float64}, ::MathOptInterface.Nonnegatives\u001b[1m)\u001b[22m\u001b[22m at \u001b[1m/home/rdeits/locomotion/explorations/learning-mpc-2/packages/v0.6/LinQuadOptInterface/src/constraints/vectoraffine.jl:12\u001b[22m\u001b[22m",
      " [6] \u001b[1mcopyconstraints!\u001b[22m\u001b[22m\u001b[1m(\u001b[22m\u001b[22m::Gurobi.GurobiOptimizer, ::SimpleQP.SimpleQPMOIModel{Float64}, ::Bool, ::MathOptInterface.Utilities.IndexMap, ::Type{MathOptInterface.VectorAffineFunction{Float64}}, ::Type{MathOptInterface.Nonnegatives}\u001b[1m)\u001b[22m\u001b[22m at \u001b[1m/home/rdeits/locomotion/explorations/learning-mpc-2/packages/v0.6/MathOptInterface/src/Utilities/copy.jl:83\u001b[22m\u001b[22m",
      " [7] \u001b[1mdefaultcopy!\u001b[22m\u001b[22m\u001b[1m(\u001b[22m\u001b[22m::Gurobi.GurobiOptimizer, ::SimpleQP.SimpleQPMOIModel{Float64}, ::Bool\u001b[1m)\u001b[22m\u001b[22m at \u001b[1m/home/rdeits/locomotion/explorations/learning-mpc-2/packages/v0.6/MathOptInterface/src/Utilities/copy.jl:125\u001b[22m\u001b[22m",
      " [8] \u001b[1mcopy!\u001b[22m\u001b[22m\u001b[1m(\u001b[22m\u001b[22m::Gurobi.GurobiOptimizer, ::SimpleQP.SimpleQPMOIModel{Float64}\u001b[1m)\u001b[22m\u001b[22m at \u001b[1m/home/rdeits/locomotion/explorations/learning-mpc-2/packages/v0.6/LinQuadOptInterface/src/copy.jl:1\u001b[22m\u001b[22m"
     ]
    }
   ],
   "source": [
    "gurobi = GurobiOptimizer();\n",
    "MOI.copy!(gurobi, model)"
   ]
  },
  {
   "cell_type": "code",
   "execution_count": 11,
   "metadata": {},
   "outputs": [
    {
     "name": "stdout",
     "output_type": "stream",
     "text": [
      "-----------------------------------------------------------------\n",
      "           OSQP v0.3.1  -  Operator Splitting QP Solver\n",
      "              (c) Bartolomeo Stellato,  Goran Banjac\n",
      "        University of Oxford  -  Stanford University 2018\n",
      "-----------------------------------------------------------------\n",
      "problem:  variables n = 233, constraints m = 268\n",
      "          nnz(P) + nnz(A) = 6882\n",
      "settings: linear system solver = suitesparse ldl,\n",
      "          eps_abs = 1.0e-05, eps_rel = 1.0e-05,\n",
      "          eps_prim_inf = 1.0e-04, eps_dual_inf = 1.0e-04,\n",
      "          rho = 1.00e-01 (adaptive),\n",
      "          sigma = 1.00e-06, alpha = 1.60, max_iter = 5000\n",
      "          check_termination: on (interval 25),\n",
      "          scaling: on, scaled_termination: off\n",
      "          warm start: off, polish: off\n",
      "\n"
     ]
    }
   ],
   "source": [
    "osqp = OSQPOptimizer()\n",
    "#     MOI.set!(osqp, OSQPSettings.Verbose(), false)\n",
    "    MOI.set!(osqp, OSQPSettings.EpsAbs(), 1e-5)\n",
    "    MOI.set!(osqp, OSQPSettings.EpsRel(), 1e-5)\n",
    "    MOI.set!(osqp, OSQPSettings.MaxIter(), 5000)\n",
    "    MOI.set!(osqp, OSQPSettings.AdaptiveRhoInterval(), 25) # required for deterministic behavior\n",
    "    MOI.set!(osqp, OSQPSettings.WarmStart(), false)\n",
    "\n",
    "\n",
    "MOI.copy!(osqp, model);"
   ]
  },
  {
   "cell_type": "code",
   "execution_count": 12,
   "metadata": {},
   "outputs": [
    {
     "name": "stdout",
     "output_type": "stream",
     "text": [
      "iter   objective    pri res    dua res    rho        time\n",
      "   1   0.0000e+00   1.72e+01   4.53e+03   1.00e-01   2.30e-03s\n",
      "  75   1.0000e+20   3.18e+02   6.93e-01   1.00e-01   1.05e-02s\n",
      "\n",
      "status:               primal infeasible\n",
      "number of iterations: 75\n",
      "run time:             1.06e-02s\n",
      "optimal rho estimate: 7.44e-02\n",
      "\n"
     ]
    }
   ],
   "source": [
    "MOI.optimize!(osqp)"
   ]
  },
  {
   "cell_type": "code",
   "execution_count": null,
   "metadata": {},
   "outputs": [],
   "source": []
  }
 ],
 "metadata": {
  "kernelspec": {
   "display_name": "Julia 0.6.4",
   "language": "julia",
   "name": "julia-0.6"
  },
  "language_info": {
   "file_extension": ".jl",
   "mimetype": "application/julia",
   "name": "julia",
   "version": "0.6.4"
  }
 },
 "nbformat": 4,
 "nbformat_minor": 2
}
