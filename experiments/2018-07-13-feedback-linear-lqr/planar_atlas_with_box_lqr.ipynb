{
 "cells": [
  {
   "cell_type": "code",
   "execution_count": 1,
   "metadata": {},
   "outputs": [],
   "source": [
    "using Revise"
   ]
  },
  {
   "cell_type": "code",
   "execution_count": 2,
   "metadata": {},
   "outputs": [
    {
     "data": {
      "text/html": [
       "    <script class='js-collapse-script'>\n",
       "        var curMatch =\n",
       "            window.location.href\n",
       "            .match(/(.*?)\\/notebooks\\/.*\\.ipynb/);\n",
       "\n",
       "        curMatch = curMatch ||\n",
       "            window.location.href\n",
       "            .match(/(.*?)\\/apps\\/.*\\.ipynb/);\n",
       "\n",
       "        if ( curMatch ) {\n",
       "            $('head').append('<base href=\"' + curMatch[1] + '/\">');\n",
       "        }\n",
       "    </script>\n"
      ],
      "text/plain": [
       "HTML{String}(\"    <script class='js-collapse-script'>\\n        var curMatch =\\n            window.location.href\\n            .match(/(.*?)\\\\/notebooks\\\\/.*\\\\.ipynb/);\\n\\n        curMatch = curMatch ||\\n            window.location.href\\n            .match(/(.*?)\\\\/apps\\\\/.*\\\\.ipynb/);\\n\\n        if ( curMatch ) {\\n            \\$('head').append('<base href=\\\"' + curMatch[1] + '/\\\">');\\n        }\\n    </script>\\n\")"
      ]
     },
     "metadata": {},
     "output_type": "display_data"
    },
    {
     "data": {
      "text/html": [
       "<script class='js-collapse-script' src='/assetserver/9db0e137604e898c25f194d972715156bd46cb81-assets/webio/dist/bundle.js'></script>"
      ],
      "text/plain": [
       "HTML{String}(\"<script class='js-collapse-script' src='/assetserver/9db0e137604e898c25f194d972715156bd46cb81-assets/webio/dist/bundle.js'></script>\")"
      ]
     },
     "metadata": {},
     "output_type": "display_data"
    },
    {
     "data": {
      "text/html": [
       "<script class='js-collapse-script' src='/assetserver/9db0e137604e898c25f194d972715156bd46cb81-assets/providers/ijulia_setup.js'></script>"
      ],
      "text/plain": [
       "HTML{String}(\"<script class='js-collapse-script' src='/assetserver/9db0e137604e898c25f194d972715156bd46cb81-assets/providers/ijulia_setup.js'></script>\")"
      ]
     },
     "metadata": {},
     "output_type": "display_data"
    },
    {
     "data": {
      "text/html": [
       "  <script class='js-collapse-script'>\n",
       "    $('.js-collapse-script').parent('.output_subarea').css('padding', '0');\n",
       "  </script>\n"
      ],
      "text/plain": [
       "HTML{String}(\"  <script class='js-collapse-script'>\\n    \\$('.js-collapse-script').parent('.output_subarea').css('padding', '0');\\n  </script>\\n\")"
      ]
     },
     "metadata": {},
     "output_type": "display_data"
    },
    {
     "name": "stderr",
     "output_type": "stream",
     "text": [
      "\u001b[1m\u001b[36mINFO: \u001b[39m\u001b[22m\u001b[36mLoading HttpServer methods...\n",
      "\u001b[39m\u001b[1m\u001b[36mINFO: \u001b[39m\u001b[22m\u001b[36mRecompiling stale cache file /home/rdeits/locomotion/explorations/learning-mpc-2/packages/lib/v0.6/OSQP.ji for module OSQP.\n",
      "\u001b[39m\u001b[1m\u001b[36mINFO: \u001b[39m\u001b[22m\u001b[36mRecompiling stale cache file /home/rdeits/locomotion/explorations/learning-mpc-2/packages/lib/v0.6/LearningMPC.ji for module LearningMPC.\n",
      "\u001b[39m"
     ]
    },
    {
     "data": {
      "text/plain": [
       "MathOptInterface"
      ]
     },
     "execution_count": 2,
     "metadata": {},
     "output_type": "execute_result"
    }
   ],
   "source": [
    "using MeshCatMechanisms\n",
    "using MeshCat\n",
    "using RigidBodyDynamics\n",
    "using RigidBodyDynamics.Contact\n",
    "using LCPSim\n",
    "using Blink\n",
    "using LearningMPC\n",
    "using LearningMPC.Models\n",
    "using RigidBodySim\n",
    "using CoordinateTransformations\n",
    "using IKMimic\n",
    "using MathOptInterface\n",
    "const MOI = MathOptInterface"
   ]
  },
  {
   "cell_type": "code",
   "execution_count": 3,
   "metadata": {},
   "outputs": [],
   "source": [
    "boxatlas = BoxAtlas()\n",
    "atlas = LearningMPC.Models.PlanarAtlas(:simulation);"
   ]
  },
  {
   "cell_type": "code",
   "execution_count": 4,
   "metadata": {},
   "outputs": [
    {
     "name": "stdout",
     "output_type": "stream",
     "text": [
      "AtlasRobot.packagepath() = \"/home/rdeits/locomotion/explorations/learning-mpc-2/packages/v0.6/AtlasRobot/deps\"\n"
     ]
    }
   ],
   "source": [
    "vis = Visualizer()\n",
    "open(vis, Window())\n",
    "mvis_b = MechanismVisualizer(boxatlas, vis[:boxatlas])\n",
    "mvis_a = MechanismVisualizer(atlas, vis[:atlas])\n",
    "settransform!(vis[:boxatlas], Translation(-1, 0, 0))\n",
    "set_configuration!(mvis_a, configuration(nominal_state(atlas)))\n",
    "set_configuration!(mvis_b, configuration(nominal_state(boxatlas)))"
   ]
  },
  {
   "cell_type": "code",
   "execution_count": 5,
   "metadata": {},
   "outputs": [
    {
     "name": "stdout",
     "output_type": "stream",
     "text": [
      "Academic license - for non-commercial use only\n",
      "Academic license - for non-commercial use only\n"
     ]
    }
   ],
   "source": [
    "lqr_b = LQRSolution(boxatlas)\n",
    "\n",
    "using Base.Iterators: product\n",
    "\n",
    "# xstar = nominal_state(atlas)\n",
    "# Δt = 0.05\n",
    "# nq = num_positions(xstar)\n",
    "# nv = num_velocities(xstar)\n",
    "# qq = fill(0.1, nq)\n",
    "# qq[1] = 10\n",
    "# qq[2] = 100\n",
    "# qq[3] = 500\n",
    "# # qq[configuration_range(xstar, findjoint(mechanism(atlas_sim), \"r_leg_hpx\"))] .= 100\n",
    "# # qq[configuration_range(xstar, findjoint(mechanism(atlas_sim), \"l_leg_hpx\"))] .= 100\n",
    "# qv = fill(0.01, nv)\n",
    "# qv[velocity_range(xstar, findjoint(xstar.mechanism, \"floating_base\"))] .= [100, 20, 50]\n",
    "# Q = diagm(vcat(qq, qv))\n",
    "# R = diagm(fill(1e-6, nv))\n",
    "# lqr_a = LearningMPC.LQRSolution(xstar, Q, R, Δt, \n",
    "#     [Point3D(default_frame(body), 0., 0, 0) for body in \n",
    "#             findbody.(mechanism(atlas), [\"r_foot_sole\", \"l_foot_sole\"])])"
   ]
  },
  {
   "cell_type": "code",
   "execution_count": 96,
   "metadata": {},
   "outputs": [
    {
     "name": "stdout",
     "output_type": "stream",
     "text": [
      "vec(contact_states) = Tuple{Bool,Bool}[(true, true), (false, true), (true, false), (false, false)]\n",
      "Academic license - for non-commercial use only\n",
      "Academic license - for non-commercial use only\n",
      "Academic license - for non-commercial use only\n",
      "Academic license - for non-commercial use only\n"
     ]
    },
    {
     "name": "stderr",
     "output_type": "stream",
     "text": [
      "WARNING: Method definition initialize_stage!(QPControl.MPCController{N, O, M, S} where S<:(RigidBodyDynamics.MechanismState{X, M, C, JointCollection} where JointCollection where C where M where X) where M<:(RigidBodyDynamics.Mechanism{T} where T) where O<:MathOptInterface.AbstractOptimizer where N, Integer) in module QPControl at /home/rdeits/locomotion/explorations/learning-mpc-2/packages/v0.6/QPControl/src/lowlevel/mpc.jl:112 overwritten at /home/rdeits/locomotion/explorations/learning-mpc-2/packages/v0.6/QPControl/src/lowlevel/mpc.jl:112.\n"
     ]
    },
    {
     "data": {
      "text/plain": [
       "Model{Float64, Gurobi.GurobiOptimizer}(…)"
      ]
     },
     "execution_count": 96,
     "metadata": {},
     "output_type": "execute_result"
    }
   ],
   "source": [
    "function build_contact_controller(mechanism, lqrsol, contacts, contact_state)\n",
    "    lowlevel = QPControl.MPCController{4}(mechanism, LearningMPC.defaultoptimizer())\n",
    "    stage = QPControl.addstage!(lowlevel, 0.01)\n",
    "    for (i, (point, surface)) in enumerate(contacts)\n",
    "        body = body_fixed_frame_to_body(mechanism, point.frame)\n",
    "        contact_point = QPControl.addcontact!(stage,\n",
    "            body,\n",
    "            point,\n",
    "            FreeVector3D(default_frame(body), 0., 0, 1),\n",
    "            0.8,\n",
    "            surface\n",
    "        )\n",
    "        if contact_state[i]\n",
    "            contact_point.maxnormalforce = 1e9\n",
    "        else\n",
    "            contact_point.maxnormalforce = 0\n",
    "        end\n",
    "    end\n",
    "    lowlevel\n",
    "end\n",
    "\n",
    "function build_mixed_controller(mechanism, lqrsol, contacts::AbstractVector{<:Tuple{Point3D, HalfSpace3D}})\n",
    "\n",
    "    matching_bodies =  [\"pelvis\", \"r_foot_sole\", \"l_foot_sole\", \"r_hand_mount\", \"l_hand_mount\"]\n",
    "    ik_state_b = MechanismState(boxatlas.mechanism)\n",
    "    ik_state_a = MechanismState(atlas.mechanism)\n",
    "    ik_work = IKMimic.IKMimicWorkspace(ik_state_a, ik_state_b, matching_bodies)\n",
    "    ik_sensitivity_work = IKMimic.SensitivityWorkspace{Float64}(\n",
    "        num_positions(ik_state_a) + num_velocities(ik_state_a),\n",
    "        num_positions(ik_state_b) + num_velocities(ik_state_b)\n",
    "    )\n",
    "    \n",
    "    contact_states = collect(product([[true, false] for _ in contacts]...))\n",
    "    @show vec(contact_states)\n",
    "#     contact_states = [[true, true]]\n",
    "    controllers = map(contact_states) do contact_state\n",
    "        build_contact_controller(mechanism, lqrsol, contacts, contact_state)\n",
    "    end\n",
    "    τs = [zeros(num_velocities(mechanism)) for controller in controllers]\n",
    "    objective_values = zeros(length(controllers))\n",
    "\n",
    "    function control(τ, t, x)\n",
    "        copy!(ik_state_a, x)\n",
    "        for i in 1:10\n",
    "            IKMimic.ik_mimic!(ik_state_b, ik_state_a, ik_work)\n",
    "            set_configuration!(ik_state_b, \n",
    "                clamp.(configuration(ik_state_b), LCPSim.all_configuration_bounds(ik_state_b.mechanism))\n",
    "            )\n",
    "        end\n",
    "        IKMimic.sensitivity!(ik_sensitivity_work, ik_work)\n",
    "        copy!(mvis_b, ik_state_b)\n",
    "        copy!(mvis_a, x)\n",
    "        \n",
    "        let controllers = controllers,\n",
    "            τs = τs,\n",
    "            objective_values = objective_values\n",
    "\n",
    "#             Threads.@threads\n",
    "            for i in eachindex(controllers)\n",
    "                controller = controllers[i]\n",
    "                # controller.running_state_cost.x0[2] = 0.7 + 0.2 * sin(t)\n",
    "                # controller.terminal_state_cost.x0[2] = 0.7 + 0.2 * sin(t)\n",
    "                if !controller.initialized\n",
    "                    QPControl.initialize!(controller)\n",
    "                end\n",
    "                controller.running_input_cost.Q .= Diagonal(fill(1e-5, num_velocities(x)))\n",
    "                controller.running_input_cost.q .= 0\n",
    "                controller.running_input_cost.x0 .= 0\n",
    "                \n",
    "                J_ba = ik_sensitivity_work.J\n",
    "#                 @show J_ba\n",
    "                x_a0 = vcat(configuration(x), velocity(x))\n",
    "                x_b0 = vcat(configuration(ik_state_b), velocity(ik_state_b))\n",
    "                x_bstar = lqrsol.x0\n",
    "#                 @show x_a0\n",
    "#                 @show x_b0\n",
    "#                 @show x_bstar\n",
    "                \n",
    "                controller.running_state_cost.Q .= J_ba' * lqrsol.Q * J_ba\n",
    "                controller.running_state_cost.q .= (\n",
    "                    (2 * (-J_ba * x_a0 + x_b0 - x_bstar)' * lqrsol.Q' * J_ba)')\n",
    "                controller.running_state_cost.x0 .= 0\n",
    "                controller.running_state_cost.constant[] = (\n",
    "                    (-J_ba * x_a0 + x_b0 - x_bstar)' * lqrsol.Q * (-J_ba * x_a0 + x_b0 - x_bstar))\n",
    "                \n",
    "                controller.terminal_state_cost.Q .= J_ba' * lqrsol.S * J_ba\n",
    "                controller.terminal_state_cost.q .= (\n",
    "                    (2 * (-J_ba * x_a0 + x_b0 - x_bstar)' * lqrsol.S' * J_ba)')\n",
    "                controller.terminal_state_cost.x0 .= 0\n",
    "                controller.terminal_state_cost.constant[] = (\n",
    "                    (-J_ba * x_a0 + x_b0 - x_bstar)' * lqrsol.S * (-J_ba * x_a0 + x_b0 - x_bstar))\n",
    "                \n",
    "                for stage in QPControl.stages(controller)\n",
    "                    QPControl.copyto!(stage.state, x)\n",
    "                end\n",
    "                model = controller.qpmodel\n",
    "                SimpleQP.solve!(model)\n",
    "#                 for stage in QPControl.stages(controller)\n",
    "#                     for (body, contacts) in stage.contacts\n",
    "#                         for (point, surface) in contacts\n",
    "#                             @show SimpleQP.value.(model, point.wrench_world)\n",
    "#                         end\n",
    "#                     end\n",
    "#                 end\n",
    "                τs[i] .= SimpleQP.value.(model, controller.stages[1].input)\n",
    "\n",
    "                @show SimpleQP.primalstatus(model)\n",
    "                if SimpleQP.primalstatus(model) ∈ (MOI.UnknownResultStatus, MOI.InfeasiblePoint, MOI.InfeasibilityCertificate, MOI.InfeasibleOrUnbounded)\n",
    "                    objective_values[i] = Inf\n",
    "                else\n",
    "                    objective_values[i] = SimpleQP.objectivevalue(model)\n",
    "                end\n",
    "            end\n",
    "        end\n",
    "        best_cost = Inf\n",
    "        best_model = 0\n",
    "        for i in eachindex(controllers)\n",
    "            if objective_values[i] < best_cost\n",
    "                best_model = i\n",
    "                best_cost = objective_values[i]\n",
    "                τ .= τs[i]\n",
    "            end\n",
    "        end\n",
    "        @show collect(zip(vec(contact_states), objective_values))\n",
    "#         @show objective_values\n",
    "#         @show best_cost\n",
    "        if best_cost == Inf\n",
    "            @show configuration(x) velocity(x)\n",
    "            set_configuration!(mvis_a, configuration(x))\n",
    "            error(\"infeasible\")\n",
    "        end\n",
    "        @show best_model contact_states[best_model]\n",
    "        τ\n",
    "    end, controllers\n",
    "end\n",
    "\n",
    "mixed_control, lowlevel_controllers = build_mixed_controller(mechanism(atlas), lqr_b,\n",
    "    vcat(\n",
    "        [\n",
    "            (Point3D(default_frame(findbody(mechanism(atlas), bodyname)), 0., 0, 0),\n",
    "             HalfSpace3D(Point3D(root_frame(mechanism(atlas)), 0., 0., 0),\n",
    "                         FreeVector3D(root_frame(mechanism(atlas)), 0., 0, 1)))\n",
    "            for bodyname in [\"r_foot_sole\", \"l_foot_sole\"]\n",
    "        ],\n",
    "#         [\n",
    "#             (Point3D(default_frame(findbody(mechanism(boxatlas), \"l_hand_mount\")), 0., 0, 0),\n",
    "#              HalfSpace3D(Point3D(root_frame(mechanism(boxatlas)), 0., 1., 0),\n",
    "#                          FreeVector3D(root_frame(mechanism(boxatlas)), 0., -1, 0)))\n",
    "#         ]\n",
    "    ));\n",
    "\n",
    "qp = lowlevel_controllers[1].qpmodel"
   ]
  },
  {
   "cell_type": "code",
   "execution_count": 97,
   "metadata": {},
   "outputs": [
    {
     "name": "stdout",
     "output_type": "stream",
     "text": [
      "SimpleQP.primalstatus(model) = FeasiblePoint::MathOptInterface.ResultStatusCode = 0\n",
      "SimpleQP.primalstatus(model) = FeasiblePoint::MathOptInterface.ResultStatusCode = 0\n",
      "SimpleQP.primalstatus(model) = FeasiblePoint::MathOptInterface.ResultStatusCode = 0\n",
      "SimpleQP.primalstatus(model) = FeasiblePoint::MathOptInterface.ResultStatusCode = 0\n",
      "collect(zip(vec(contact_states), objective_values)) = Tuple{Tuple{Bool,Bool},Float64}[((true, true), 7.07952), ((false, true), 7.04154), ((true, false), 7.04172), ((false, false), 7.16971)]\n",
      "best_model = 2\n",
      "contact_states[best_model] = (false, true)\n"
     ]
    },
    {
     "data": {
      "text/plain": [
       "23-element Array{Float64,1}:\n",
       "    0.0       \n",
       "    0.0       \n",
       "    0.0       \n",
       "   85.4334    \n",
       "   -1.06508   \n",
       "  100.943     \n",
       "   63.6383    \n",
       "    5.7558    \n",
       "   -8.28769   \n",
       " -206.737     \n",
       "   46.5737    \n",
       "  -15.5038    \n",
       "   11.6547    \n",
       "   97.274     \n",
       "    2.02922   \n",
       "   -0.156485  \n",
       "   -0.237203  \n",
       "   10.9277    \n",
       "    0.206832  \n",
       "   -7.51153   \n",
       "    6.42435   \n",
       "   -0.0081783 \n",
       "   -0.00986548"
      ]
     },
     "execution_count": 97,
     "metadata": {},
     "output_type": "execute_result"
    }
   ],
   "source": [
    "state = nominal_state(atlas)\n",
    "# set_velocity!(state, findjoint(mechanism(atlas_sim), \"floating_base\"), [-0., 0, 0])\n",
    "mixed_control(zeros(num_velocities(state)), 0.0, state)"
   ]
  },
  {
   "cell_type": "code",
   "execution_count": 98,
   "metadata": {},
   "outputs": [
    {
     "name": "stdout",
     "output_type": "stream",
     "text": [
      "SimpleQP.primalstatus(model) = FeasiblePoint::MathOptInterface.ResultStatusCode = 0\n",
      "SimpleQP.primalstatus(model) = FeasiblePoint::MathOptInterface.ResultStatusCode = 0\n",
      "SimpleQP.primalstatus(model) = FeasiblePoint::MathOptInterface.ResultStatusCode = 0\n",
      "SimpleQP.primalstatus(model) = FeasiblePoint::MathOptInterface.ResultStatusCode = 0\n",
      "collect(zip(vec(contact_states), objective_values)) = Tuple{Tuple{Bool,Bool},Float64}[((true, true), 7.07951), ((false, true), 7.04154), ((true, false), 7.04172), ((false, false), 7.1697)]\n",
      "best_model = 2\n",
      "contact_states[best_model] = (false, true)\n",
      "SimpleQP.primalstatus(model) = FeasiblePoint::MathOptInterface.ResultStatusCode = 0\n",
      "SimpleQP.primalstatus(model) = FeasiblePoint::MathOptInterface.ResultStatusCode = 0\n",
      "SimpleQP.primalstatus(model) = FeasiblePoint::MathOptInterface.ResultStatusCode = 0\n",
      "SimpleQP.primalstatus(model) = FeasiblePoint::MathOptInterface.ResultStatusCode = 0\n",
      "collect(zip(vec(contact_states), objective_values)) = Tuple{Tuple{Bool,Bool},Float64}[((true, true), 10.0475), ((false, true), 9.96682), ((true, false), 8.68891), ((false, false), 8.93614)]\n",
      "best_model = 3\n",
      "contact_states[best_model] = (true, false)\n",
      "SimpleQP.primalstatus(model) = FeasiblePoint::MathOptInterface.ResultStatusCode = 0\n"
     ]
    },
    {
     "ename": "LoadError",
     "evalue": "\u001b[91mGurobi.GurobiError(10020, \"Objective Q not PSD (diagonal adjustment of 2.9e-06 would be required)\")\u001b[39m",
     "output_type": "error",
     "traceback": [
      "\u001b[91mGurobi.GurobiError(10020, \"Objective Q not PSD (diagonal adjustment of 2.9e-06 would be required)\")\u001b[39m",
      "",
      "Stacktrace:",
      " [1] \u001b[1moptimize\u001b[22m\u001b[22m\u001b[1m(\u001b[22m\u001b[22m::Gurobi.Model\u001b[1m)\u001b[22m\u001b[22m at \u001b[1m/home/rdeits/locomotion/explorations/learning-mpc-2/packages/v0.6/Gurobi/src/grb_solve.jl:7\u001b[22m\u001b[22m",
      " [2] \u001b[1moptimize!\u001b[22m\u001b[22m\u001b[1m(\u001b[22m\u001b[22m::Gurobi.GurobiOptimizer\u001b[1m)\u001b[22m\u001b[22m at \u001b[1m/home/rdeits/locomotion/explorations/learning-mpc-2/packages/v0.6/LinQuadOptInterface/src/solve.jl:24\u001b[22m\u001b[22m",
      " [3] \u001b[1msolve!\u001b[22m\u001b[22m\u001b[1m(\u001b[22m\u001b[22m::SimpleQP.Model{Float64,Gurobi.GurobiOptimizer}\u001b[1m)\u001b[22m\u001b[22m at \u001b[1m/home/rdeits/locomotion/explorations/learning-mpc-2/packages/v0.6/SimpleQP/src/model.jl:199\u001b[22m\u001b[22m",
      " [4] \u001b[1m(::#control#271{LearningMPC.LQRSolution{Float64},RigidBodyDynamics.MechanismState{Float64,Float64,Float64,TypeSortedCollections.TypeSortedCollection{Tuple{Array{RigidBodyDynamics.Joint{Float64,RigidBodyDynamics.Fixed{Float64}},1},Array{RigidBodyDynamics.Joint{Float64,RigidBodyDynamics.Planar{Float64}},1},Array{RigidBodyDynamics.Joint{Float64,RigidBodyDynamics.Revolute{Float64}},1},Array{RigidBodyDynamics.Joint{Float64,RigidBodyDynamics.Prismatic{Float64}},1}},4}},RigidBodyDynamics.MechanismState{Float64,Float64,Float64,TypeSortedCollections.TypeSortedCollection{Tuple{Array{RigidBodyDynamics.Joint{Float64,RigidBodyDynamics.Planar{Float64}},1},Array{RigidBodyDynamics.Joint{Float64,RigidBodyDynamics.Revolute{Float64}},1},Array{RigidBodyDynamics.Joint{Float64,RigidBodyDynamics.Fixed{Float64}},1}},3}},IKMimic.IKMimicWorkspace{Float64},IKMimic.SensitivityWorkspace{Float64},Array{Tuple{Bool,Bool},2},Array{QPControl.MPCController{4,Gurobi.GurobiOptimizer,RigidBodyDynamics.Mechanism{Float64},RigidBodyDynamics.MechanismState{Float64,Float64,Float64,TypeSortedCollections.TypeSortedCollection{Tuple{Array{RigidBodyDynamics.Joint{Float64,RigidBodyDynamics.Planar{Float64}},1},Array{RigidBodyDynamics.Joint{Float64,RigidBodyDynamics.Revolute{Float64}},1},Array{RigidBodyDynamics.Joint{Float64,RigidBodyDynamics.Fixed{Float64}},1}},3}}},2},Array{Array{Float64,1},2},Array{Float64,1}})\u001b[22m\u001b[22m\u001b[1m(\u001b[22m\u001b[22m::RigidBodyDynamics.CustomCollections.SegmentedVector{RigidBodyDynamics.JointID,Float64,Base.OneTo{RigidBodyDynamics.JointID},Array{Float64,1}}, ::Float64, ::RigidBodyDynamics.MechanismState{Float64,Float64,Float64,TypeSortedCollections.TypeSortedCollection{Tuple{Array{RigidBodyDynamics.Joint{Float64,RigidBodyDynamics.Planar{Float64}},1},Array{RigidBodyDynamics.Joint{Float64,RigidBodyDynamics.Revolute{Float64}},1},Array{RigidBodyDynamics.Joint{Float64,RigidBodyDynamics.Fixed{Float64}},1}},3}}\u001b[1m)\u001b[22m\u001b[22m at \u001b[1m./In[96]:97\u001b[22m\u001b[22m",
      " [5] \u001b[1m_eval_composed\u001b[22m\u001b[22m at \u001b[1m/home/rdeits/locomotion/explorations/learning-mpc-2/packages/v0.6/LearningMPC/src/controlutils.jl:6\u001b[22m\u001b[22m [inlined]",
      " [6] \u001b[1m(::LearningMPC.##55#56{Tuple{#control#271{LearningMPC.LQRSolution{Float64},RigidBodyDynamics.MechanismState{Float64,Float64,Float64,TypeSortedCollections.TypeSortedCollection{Tuple{Array{RigidBodyDynamics.Joint{Float64,RigidBodyDynamics.Fixed{Float64}},1},Array{RigidBodyDynamics.Joint{Float64,RigidBodyDynamics.Planar{Float64}},1},Array{RigidBodyDynamics.Joint{Float64,RigidBodyDynamics.Revolute{Float64}},1},Array{RigidBodyDynamics.Joint{Float64,RigidBodyDynamics.Prismatic{Float64}},1}},4}},RigidBodyDynamics.MechanismState{Float64,Float64,Float64,TypeSortedCollections.TypeSortedCollection{Tuple{Array{RigidBodyDynamics.Joint{Float64,RigidBodyDynamics.Planar{Float64}},1},Array{RigidBodyDynamics.Joint{Float64,RigidBodyDynamics.Revolute{Float64}},1},Array{RigidBodyDynamics.Joint{Float64,RigidBodyDynamics.Fixed{Float64}},1}},3}},IKMimic.IKMimicWorkspace{Float64},IKMimic.SensitivityWorkspace{Float64},Array{Tuple{Bool,Bool},2},Array{QPControl.MPCController{4,Gurobi.GurobiOptimizer,RigidBodyDynamics.Mechanism{Float64},RigidBodyDynamics.MechanismState{Float64,Float64,Float64,TypeSortedCollections.TypeSortedCollection{Tuple{Array{RigidBodyDynamics.Joint{Float64,RigidBodyDynamics.Planar{Float64}},1},Array{RigidBodyDynamics.Joint{Float64,RigidBodyDynamics.Revolute{Float64}},1},Array{RigidBodyDynamics.Joint{Float64,RigidBodyDynamics.Fixed{Float64}},1}},3}}},2},Array{Array{Float64,1},2},Array{Float64,1}},LearningMPC.##57#58{Array{RigidBodyDynamics.Bounds{Float64},1}}}})\u001b[22m\u001b[22m\u001b[1m(\u001b[22m\u001b[22m::RigidBodyDynamics.CustomCollections.SegmentedVector{RigidBodyDynamics.JointID,Float64,Base.OneTo{RigidBodyDynamics.JointID},Array{Float64,1}}, ::Float64, ::RigidBodyDynamics.MechanismState{Float64,Float64,Float64,TypeSortedCollections.TypeSortedCollection{Tuple{Array{RigidBodyDynamics.Joint{Float64,RigidBodyDynamics.Planar{Float64}},1},Array{RigidBodyDynamics.Joint{Float64,RigidBodyDynamics.Revolute{Float64}},1},Array{RigidBodyDynamics.Joint{Float64,RigidBodyDynamics.Fixed{Float64}},1}},3}}\u001b[1m)\u001b[22m\u001b[22m at \u001b[1m/home/rdeits/locomotion/explorations/learning-mpc-2/packages/v0.6/LearningMPC/src/controlutils.jl:13\u001b[22m\u001b[22m",
      " [7] \u001b[1m(::RigidBodySim.Control.PeriodicController{RigidBodyDynamics.CustomCollections.SegmentedVector{RigidBodyDynamics.JointID,Float64,Base.OneTo{RigidBodyDynamics.JointID},Array{Float64,1}},Float64,LearningMPC.##55#56{Tuple{#control#271{LearningMPC.LQRSolution{Float64},RigidBodyDynamics.MechanismState{Float64,Float64,Float64,TypeSortedCollections.TypeSortedCollection{Tuple{Array{RigidBodyDynamics.Joint{Float64,RigidBodyDynamics.Fixed{Float64}},1},Array{RigidBodyDynamics.Joint{Float64,RigidBodyDynamics.Planar{Float64}},1},Array{RigidBodyDynamics.Joint{Float64,RigidBodyDynamics.Revolute{Float64}},1},Array{RigidBodyDynamics.Joint{Float64,RigidBodyDynamics.Prismatic{Float64}},1}},4}},RigidBodyDynamics.MechanismState{Float64,Float64,Float64,TypeSortedCollections.TypeSortedCollection{Tuple{Array{RigidBodyDynamics.Joint{Float64,RigidBodyDynamics.Planar{Float64}},1},Array{RigidBodyDynamics.Joint{Float64,RigidBodyDynamics.Revolute{Float64}},1},Array{RigidBodyDynamics.Joint{Float64,RigidBodyDynamics.Fixed{Float64}},1}},3}},IKMimic.IKMimicWorkspace{Float64},IKMimic.SensitivityWorkspace{Float64},Array{Tuple{Bool,Bool},2},Array{QPControl.MPCController{4,Gurobi.GurobiOptimizer,RigidBodyDynamics.Mechanism{Float64},RigidBodyDynamics.MechanismState{Float64,Float64,Float64,TypeSortedCollections.TypeSortedCollection{Tuple{Array{RigidBodyDynamics.Joint{Float64,RigidBodyDynamics.Planar{Float64}},1},Array{RigidBodyDynamics.Joint{Float64,RigidBodyDynamics.Revolute{Float64}},1},Array{RigidBodyDynamics.Joint{Float64,RigidBodyDynamics.Fixed{Float64}},1}},3}}},2},Array{Array{Float64,1},2},Array{Float64,1}},LearningMPC.##57#58{Array{RigidBodyDynamics.Bounds{Float64},1}}}},DiffEqBase.#INITIALIZE_DEFAULT})\u001b[22m\u001b[22m\u001b[1m(\u001b[22m\u001b[22m::RigidBodyDynamics.CustomCollections.SegmentedVector{RigidBodyDynamics.JointID,Float64,Base.OneTo{RigidBodyDynamics.JointID},Array{Float64,1}}, ::Float64, ::RigidBodyDynamics.MechanismState{Float64,Float64,Float64,TypeSortedCollections.TypeSortedCollection{Tuple{Array{RigidBodyDynamics.Joint{Float64,RigidBodyDynamics.Planar{Float64}},1},Array{RigidBodyDynamics.Joint{Float64,RigidBodyDynamics.Revolute{Float64}},1},Array{RigidBodyDynamics.Joint{Float64,RigidBodyDynamics.Fixed{Float64}},1}},3}}\u001b[1m)\u001b[22m\u001b[22m at \u001b[1m/home/rdeits/locomotion/explorations/learning-mpc-2/packages/v0.6/RigidBodySim/src/control.jl:146\u001b[22m\u001b[22m",
      " [8] \u001b[1m_eval_composed\u001b[22m\u001b[22m at \u001b[1m/home/rdeits/locomotion/explorations/learning-mpc-2/packages/v0.6/LearningMPC/src/controlutils.jl:6\u001b[22m\u001b[22m [inlined]",
      " [9] \u001b[1m(::LearningMPC.##55#56{Tuple{RigidBodySim.Control.PeriodicController{RigidBodyDynamics.CustomCollections.SegmentedVector{RigidBodyDynamics.JointID,Float64,Base.OneTo{RigidBodyDynamics.JointID},Array{Float64,1}},Float64,LearningMPC.##55#56{Tuple{#control#271{LearningMPC.LQRSolution{Float64},RigidBodyDynamics.MechanismState{Float64,Float64,Float64,TypeSortedCollections.TypeSortedCollection{Tuple{Array{RigidBodyDynamics.Joint{Float64,RigidBodyDynamics.Fixed{Float64}},1},Array{RigidBodyDynamics.Joint{Float64,RigidBodyDynamics.Planar{Float64}},1},Array{RigidBodyDynamics.Joint{Float64,RigidBodyDynamics.Revolute{Float64}},1},Array{RigidBodyDynamics.Joint{Float64,RigidBodyDynamics.Prismatic{Float64}},1}},4}},RigidBodyDynamics.MechanismState{Float64,Float64,Float64,TypeSortedCollections.TypeSortedCollection{Tuple{Array{RigidBodyDynamics.Joint{Float64,RigidBodyDynamics.Planar{Float64}},1},Array{RigidBodyDynamics.Joint{Float64,RigidBodyDynamics.Revolute{Float64}},1},Array{RigidBodyDynamics.Joint{Float64,RigidBodyDynamics.Fixed{Float64}},1}},3}},IKMimic.IKMimicWorkspace{Float64},IKMimic.SensitivityWorkspace{Float64},Array{Tuple{Bool,Bool},2},Array{QPControl.MPCController{4,Gurobi.GurobiOptimizer,RigidBodyDynamics.Mechanism{Float64},RigidBodyDynamics.MechanismState{Float64,Float64,Float64,TypeSortedCollections.TypeSortedCollection{Tuple{Array{RigidBodyDynamics.Joint{Float64,RigidBodyDynamics.Planar{Float64}},1},Array{RigidBodyDynamics.Joint{Float64,RigidBodyDynamics.Revolute{Float64}},1},Array{RigidBodyDynamics.Joint{Float64,RigidBodyDynamics.Fixed{Float64}},1}},3}}},2},Array{Array{Float64,1},2},Array{Float64,1}},LearningMPC.##57#58{Array{RigidBodyDynamics.Bounds{Float64},1}}}},DiffEqBase.#INITIALIZE_DEFAULT},LearningMPC.##59#60{Float64,Float64,Array{RigidBodyDynamics.Bounds{Float64},1}},LearningMPC.##61#63{Float64}}})\u001b[22m\u001b[22m\u001b[1m(\u001b[22m\u001b[22m::RigidBodyDynamics.CustomCollections.SegmentedVector{RigidBodyDynamics.JointID,Float64,Base.OneTo{RigidBodyDynamics.JointID},Array{Float64,1}}, ::Float64, ::RigidBodyDynamics.MechanismState{Float64,Float64,Float64,TypeSortedCollections.TypeSortedCollection{Tuple{Array{RigidBodyDynamics.Joint{Float64,RigidBodyDynamics.Planar{Float64}},1},Array{RigidBodyDynamics.Joint{Float64,RigidBodyDynamics.Revolute{Float64}},1},Array{RigidBodyDynamics.Joint{Float64,RigidBodyDynamics.Fixed{Float64}},1}},3}}\u001b[1m)\u001b[22m\u001b[22m at \u001b[1m/home/rdeits/locomotion/explorations/learning-mpc-2/packages/v0.6/LearningMPC/src/controlutils.jl:13\u001b[22m\u001b[22m",
      " [10] \u001b[1m(::RigidBodySim.Core.Dynamics{Float64,TypeSortedCollections.TypeSortedCollection{Tuple{Array{RigidBodyDynamics.Joint{Float64,RigidBodyDynamics.Planar{Float64}},1},Array{RigidBodyDynamics.Joint{Float64,RigidBodyDynamics.Revolute{Float64}},1},Array{RigidBodyDynamics.Joint{Float64,RigidBodyDynamics.Fixed{Float64}},1}},3},LearningMPC.##55#56{Tuple{RigidBodySim.Control.PeriodicController{RigidBodyDynamics.CustomCollections.SegmentedVector{RigidBodyDynamics.JointID,Float64,Base.OneTo{RigidBodyDynamics.JointID},Array{Float64,1}},Float64,LearningMPC.##55#56{Tuple{#control#271{LearningMPC.LQRSolution{Float64},RigidBodyDynamics.MechanismState{Float64,Float64,Float64,TypeSortedCollections.TypeSortedCollection{Tuple{Array{RigidBodyDynamics.Joint{Float64,RigidBodyDynamics.Fixed{Float64}},1},Array{RigidBodyDynamics.Joint{Float64,RigidBodyDynamics.Planar{Float64}},1},Array{RigidBodyDynamics.Joint{Float64,RigidBodyDynamics.Revolute{Float64}},1},Array{RigidBodyDynamics.Joint{Float64,RigidBodyDynamics.Prismatic{Float64}},1}},4}},RigidBodyDynamics.MechanismState{Float64,Float64,Float64,TypeSortedCollections.TypeSortedCollection{Tuple{Array{RigidBodyDynamics.Joint{Float64,RigidBodyDynamics.Planar{Float64}},1},Array{RigidBodyDynamics.Joint{Float64,RigidBodyDynamics.Revolute{Float64}},1},Array{RigidBodyDynamics.Joint{Float64,RigidBodyDynamics.Fixed{Float64}},1}},3}},IKMimic.IKMimicWorkspace{Float64},IKMimic.SensitivityWorkspace{Float64},Array{Tuple{Bool,Bool},2},Array{QPControl.MPCController{4,Gurobi.GurobiOptimizer,RigidBodyDynamics.Mechanism{Float64},RigidBodyDynamics.MechanismState{Float64,Float64,Float64,TypeSortedCollections.TypeSortedCollection{Tuple{Array{RigidBodyDynamics.Joint{Float64,RigidBodyDynamics.Planar{Float64}},1},Array{RigidBodyDynamics.Joint{Float64,RigidBodyDynamics.Revolute{Float64}},1},Array{RigidBodyDynamics.Joint{Float64,RigidBodyDynamics.Fixed{Float64}},1}},3}}},2},Array{Array{Float64,1},2},Array{Float64,1}},LearningMPC.##57#58{Array{RigidBodyDynamics.Bounds{Float64},1}}}},DiffEqBase.#INITIALIZE_DEFAULT},LearningMPC.##59#60{Float64,Float64,Array{RigidBodyDynamics.Bounds{Float64},1}},LearningMPC.##61#63{Float64}}},RigidBodySim.Core.##2#4})\u001b[22m\u001b[22m\u001b[1m(\u001b[22m\u001b[22m::Array{Float64,1}, ::Array{Float64,1}, ::Void, ::Float64\u001b[1m)\u001b[22m\u001b[22m at \u001b[1m/home/rdeits/locomotion/explorations/learning-mpc-2/packages/v0.6/RigidBodySim/src/core.jl:80\u001b[22m\u001b[22m",
      " [11] \u001b[1mperform_step!\u001b[22m\u001b[22m\u001b[1m(\u001b[22m\u001b[22m::OrdinaryDiffEq.ODEIntegrator{OrdinaryDiffEq.Tsit5,Array{Float64,1},Float64,Void,Float64,Float64,Float64,Array{Array{Float64,1},1},DiffEqBase.ODESolution{Float64,2,Array{Array{Float64,1},1},Void,Void,Array{Float64,1},Array{Array{Array{Float64,1},1},1},DiffEqBase.ODEProblem{Array{Float64,1},Float64,true,Void,RigidBodySim.Core.Dynamics{Float64,TypeSortedCollections.TypeSortedCollection{Tuple{Array{RigidBodyDynamics.Joint{Float64,RigidBodyDynamics.Planar{Float64}},1},Array{RigidBodyDynamics.Joint{Float64,RigidBodyDynamics.Revolute{Float64}},1},Array{RigidBodyDynamics.Joint{Float64,RigidBodyDynamics.Fixed{Float64}},1}},3},LearningMPC.##55#56{Tuple{RigidBodySim.Control.PeriodicController{RigidBodyDynamics.CustomCollections.SegmentedVector{RigidBodyDynamics.JointID,Float64,Base.OneTo{RigidBodyDynamics.JointID},Array{Float64,1}},Float64,LearningMPC.##55#56{Tuple{#control#271{LearningMPC.LQRSolution{Float64},RigidBodyDynamics.MechanismState{Float64,Float64,Float64,TypeSortedCollections.TypeSortedCollection{Tuple{Array{RigidBodyDynamics.Joint{Float64,RigidBodyDynamics.Fixed{Float64}},1},Array{RigidBodyDynamics.Joint{Float64,RigidBodyDynamics.Planar{Float64}},1},Array{RigidBodyDynamics.Joint{Float64,RigidBodyDynamics.Revolute{Float64}},1},Array{RigidBodyDynamics.Joint{Float64,RigidBodyDynamics.Prismatic{Float64}},1}},4}},RigidBodyDynamics.MechanismState{Float64,Float64,Float64,TypeSortedCollections.TypeSortedCollection{Tuple{Array{RigidBodyDynamics.Joint{Float64,RigidBodyDynamics.Planar{Float64}},1},Array{RigidBodyDynamics.Joint{Float64,RigidBodyDynamics.Revolute{Float64}},1},Array{RigidBodyDynamics.Joint{Float64,RigidBodyDynamics.Fixed{Float64}},1}},3}},IKMimic.IKMimicWorkspace{Float64},IKMimic.SensitivityWorkspace{Float64},Array{Tuple{Bool,Bool},2},Array{QPControl.MPCController{4,Gurobi.GurobiOptimizer,RigidBodyDynamics.Mechanism{Float64},RigidBodyDynamics.MechanismState{Float64,Float64,Float64,TypeSortedCollections.TypeSortedCollection{Tuple{Array{RigidBodyDynamics.Joint{Float64,RigidBodyDynamics.Planar{Float64}},1},Array{RigidBodyDynamics.Joint{Float64,RigidBodyDynamics.Revolute{Float64}},1},Array{RigidBodyDynamics.Joint{Float64,RigidBodyDynamics.Fixed{Float64}},1}},3}}},2},Array{Array{Float64,1},2},Array{Float64,1}},LearningMPC.##57#58{Array{RigidBodyDynamics.Bounds{Float64},1}}}},DiffEqBase.#INITIALIZE_DEFAULT},LearningMPC.##59#60{Float64,Float64,Array{RigidBodyDynamics.Bounds{Float64},1}},LearningMPC.##61#63{Float64}}},RigidBodySim.Core.##2#4},Void,DiffEqBase.CallbackSet{Tuple{},Tuple{DiffEqBase.DiscreteCallback{DiffEqCallbacks.##40#43{Base.RefValue{Float64}},DiffEqCallbacks.##41#44{RigidBodySim.Control.##4#6{RigidBodySim.Control.PeriodicController{RigidBodyDynamics.CustomCollections.SegmentedVector{RigidBodyDynamics.JointID,Float64,Base.OneTo{RigidBodyDynamics.JointID},Array{Float64,1}},Float64,LearningMPC.##55#56{Tuple{#control#271{LearningMPC.LQRSolution{Float64},RigidBodyDynamics.MechanismState{Float64,Float64,Float64,TypeSortedCollections.TypeSortedCollection{Tuple{Array{RigidBodyDynamics.Joint{Float64,RigidBodyDynamics.Fixed{Float64}},1},Array{RigidBodyDynamics.Joint{Float64,RigidBodyDynamics.Planar{Float64}},1},Array{RigidBodyDynamics.Joint{Float64,RigidBodyDynamics.Revolute{Float64}},1},Array{RigidBodyDynamics.Joint{Float64,RigidBodyDynamics.Prismatic{Float64}},1}},4}},RigidBodyDynamics.MechanismState{Float64,Float64,Float64,TypeSortedCollections.TypeSortedCollection{Tuple{Array{RigidBodyDynamics.Joint{Float64,RigidBodyDynamics.Planar{Float64}},1},Array{RigidBodyDynamics.Joint{Float64,RigidBodyDynamics.Revolute{Float64}},1},Array{RigidBodyDynamics.Joint{Float64,RigidBodyDynamics.Fixed{Float64}},1}},3}},IKMimic.IKMimicWorkspace{Float64},IKMimic.SensitivityWorkspace{Float64},Array{Tuple{Bool,Bool},2},Array{QPControl.MPCController{4,Gurobi.GurobiOptimizer,RigidBodyDynamics.Mechanism{Float64},RigidBodyDynamics.MechanismState{Float64,Float64,Float64,TypeSortedCollections.TypeSortedCollection{Tuple{Array{RigidBodyDynamics.Joint{Float64,RigidBodyDynamics.Planar{Float64}},1},Array{RigidBodyDynamics.Joint{Float64,RigidBodyDynamics.Revolute{Float64}},1},Array{RigidBodyDynamics.Joint{Float64,RigidBodyDynamics.Fixed{Float64}},1}},3}}},2},Array{Array{Float64,1},2},Array{Float64,1}},LearningMPC.##57#58{Array{RigidBodyDynamics.Bounds{Float64},1}}}},DiffEqBase.#INITIALIZE_DEFAULT}},Float64,Base.RefValue{Float64}},DiffEqCallbacks.##42#45{RigidBodySim.Control.##3#5{RigidBodySim.Control.PeriodicController{RigidBodyDynamics.CustomCollections.SegmentedVector{RigidBodyDynamics.JointID,Float64,Base.OneTo{RigidBodyDynamics.JointID},Array{Float64,1}},Float64,LearningMPC.##55#56{Tuple{#control#271{LearningMPC.LQRSolution{Float64},RigidBodyDynamics.MechanismState{Float64,Float64,Float64,TypeSortedCollections.TypeSortedCollection{Tuple{Array{RigidBodyDynamics.Joint{Float64,RigidBodyDynamics.Fixed{Float64}},1},Array{RigidBodyDynamics.Joint{Float64,RigidBodyDynamics.Planar{Float64}},1},Array{RigidBodyDynamics.Joint{Float64,RigidBodyDynamics.Revolute{Float64}},1},Array{RigidBodyDynamics.Joint{Float64,RigidBodyDynamics.Prismatic{Float64}},1}},4}},RigidBodyDynamics.MechanismState{Float64,Float64,Float64,TypeSortedCollections.TypeSortedCollection{Tuple{Array{RigidBodyDynamics.Joint{Float64,RigidBodyDynamics.Planar{Float64}},1},Array{RigidBodyDynamics.Joint{Float64,RigidBodyDynamics.Revolute{Float64}},1},Array{RigidBodyDynamics.Joint{Float64,RigidBodyDynamics.Fixed{Float64}},1}},3}},IKMimic.IKMimicWorkspace{Float64},IKMimic.SensitivityWorkspace{Float64},Array{Tuple{Bool,Bool},2},Array{QPControl.MPCController{4,Gurobi.GurobiOptimizer,RigidBodyDynamics.Mechanism{Float64},RigidBodyDynamics.MechanismState{Float64,Float64,Float64,TypeSortedCollections.TypeSortedCollection{Tuple{Array{RigidBodyDynamics.Joint{Float64,RigidBodyDynamics.Planar{Float64}},1},Array{RigidBodyDynamics.Joint{Float64,RigidBodyDynamics.Revolute{Float64}},1},Array{RigidBodyDynamics.Joint{Float64,RigidBodyDynamics.Fixed{Float64}},1}},3}}},2},Array{Array{Float64,1},2},Array{Float64,1}},LearningMPC.##57#58{Array{RigidBodyDynamics.Bounds{Float64},1}}}},DiffEqBase.#INITIALIZE_DEFAULT}},Bool,Float64,Base.RefValue{Float64},DiffEqCallbacks.##41#44{RigidBodySim.Control.##4#6{RigidBodySim.Control.PeriodicController{RigidBodyDynamics.CustomCollections.SegmentedVector{RigidBodyDynamics.JointID,Float64,Base.OneTo{RigidBodyDynamics.JointID},Array{Float64,1}},Float64,LearningMPC.##55#56{Tuple{#control#271{LearningMPC.LQRSolution{Float64},RigidBodyDynamics.MechanismState{Float64,Float64,Float64,TypeSortedCollections.TypeSortedCollection{Tuple{Array{RigidBodyDynamics.Joint{Float64,RigidBodyDynamics.Fixed{Float64}},1},Array{RigidBodyDynamics.Joint{Float64,RigidBodyDynamics.Planar{Float64}},1},Array{RigidBodyDynamics.Joint{Float64,RigidBodyDynamics.Revolute{Float64}},1},Array{RigidBodyDynamics.Joint{Float64,RigidBodyDynamics.Prismatic{Float64}},1}},4}},RigidBodyDynamics.MechanismState{Float64,Float64,Float64,TypeSortedCollections.TypeSortedCollection{Tuple{Array{RigidBodyDynamics.Joint{Float64,RigidBodyDynamics.Planar{Float64}},1},Array{RigidBodyDynamics.Joint{Float64,RigidBodyDynamics.Revolute{Float64}},1},Array{RigidBodyDynamics.Joint{Float64,RigidBodyDynamics.Fixed{Float64}},1}},3}},IKMimic.IKMimicWorkspace{Float64},IKMimic.SensitivityWorkspace{Float64},Array{Tuple{Bool,Bool},2},Array{QPControl.MPCController{4,Gurobi.GurobiOptimizer,RigidBodyDynamics.Mechanism{Float64},RigidBodyDynamics.MechanismState{Float64,Float64,Float64,TypeSortedCollections.TypeSortedCollection{Tuple{Array{RigidBodyDynamics.Joint{Float64,RigidBodyDynamics.Planar{Float64}},1},Array{RigidBodyDynamics.Joint{Float64,RigidBodyDynamics.Revolute{Float64}},1},Array{RigidBodyDynamics.Joint{Float64,RigidBodyDynamics.Fixed{Float64}},1}},3}}},2},Array{Array{Float64,1},2},Array{Float64,1}},LearningMPC.##57#58{Array{RigidBodyDynamics.Bounds{Float64},1}}}},DiffEqBase.#INITIALIZE_DEFAULT}},Float64,Base.RefValue{Float64}}}}}},UniformScaling{Int64},DiffEqBase.StandardODEProblem},OrdinaryDiffEq.Tsit5,OrdinaryDiffEq.InterpolationData{RigidBodySim.Core.Dynamics{Float64,TypeSortedCollections.TypeSortedCollection{Tuple{Array{RigidBodyDynamics.Joint{Float64,RigidBodyDynamics.Planar{Float64}},1},Array{RigidBodyDynamics.Joint{Float64,RigidBodyDynamics.Revolute{Float64}},1},Array{RigidBodyDynamics.Joint{Float64,RigidBodyDynamics.Fixed{Float64}},1}},3},LearningMPC.##55#56{Tuple{RigidBodySim.Control.PeriodicController{RigidBodyDynamics.CustomCollections.SegmentedVector{RigidBodyDynamics.JointID,Float64,Base.OneTo{RigidBodyDynamics.JointID},Array{Float64,1}},Float64,LearningMPC.##55#56{Tuple{#control#271{LearningMPC.LQRSolution{Float64},RigidBodyDynamics.MechanismState{Float64,Float64,Float64,TypeSortedCollections.TypeSortedCollection{Tuple{Array{RigidBodyDynamics.Joint{Float64,RigidBodyDynamics.Fixed{Float64}},1},Array{RigidBodyDynamics.Joint{Float64,RigidBodyDynamics.Planar{Float64}},1},Array{RigidBodyDynamics.Joint{Float64,RigidBodyDynamics.Revolute{Float64}},1},Array{RigidBodyDynamics.Joint{Float64,RigidBodyDynamics.Prismatic{Float64}},1}},4}},RigidBodyDynamics.MechanismState{Float64,Float64,Float64,TypeSortedCollections.TypeSortedCollection{Tuple{Array{RigidBodyDynamics.Joint{Float64,RigidBodyDynamics.Planar{Float64}},1},Array{RigidBodyDynamics.Joint{Float64,RigidBodyDynamics.Revolute{Float64}},1},Array{RigidBodyDynamics.Joint{Float64,RigidBodyDynamics.Fixed{Float64}},1}},3}},IKMimic.IKMimicWorkspace{Float64},IKMimic.SensitivityWorkspace{Float64},Array{Tuple{Bool,Bool},2},Array{QPControl.MPCController{4,Gurobi.GurobiOptimizer,RigidBodyDynamics.Mechanism{Float64},RigidBodyDynamics.MechanismState{Float64,Float64,Float64,TypeSortedCollections.TypeSortedCollection{Tuple{Array{RigidBodyDynamics.Joint{Float64,RigidBodyDynamics.Planar{Float64}},1},Array{RigidBodyDynamics.Joint{Float64,RigidBodyDynamics.Revolute{Float64}},1},Array{RigidBodyDynamics.Joint{Float64,RigidBodyDynamics.Fixed{Float64}},1}},3}}},2},Array{Array{Float64,1},2},Array{Float64,1}},LearningMPC.##57#58{Array{RigidBodyDynamics.Bounds{Float64},1}}}},DiffEqBase.#INITIALIZE_DEFAULT},LearningMPC.##59#60{Float64,Float64,Array{RigidBodyDynamics.Bounds{Float64},1}},LearningMPC.##61#63{Float64}}},RigidBodySim.Core.##2#4},Array{Array{Float64,1},1},Array{Float64,1},Array{Array{Array{Float64,1},1},1},OrdinaryDiffEq.Tsit5Cache{Array{Float64,1},Array{Float64,1},Array{Float64,1},Array{Float64,1},OrdinaryDiffEq.Tsit5ConstantCache{Float64,Float64}}}},RigidBodySim.Core.Dynamics{Float64,TypeSortedCollections.TypeSortedCollection{Tuple{Array{RigidBodyDynamics.Joint{Float64,RigidBodyDynamics.Planar{Float64}},1},Array{RigidBodyDynamics.Joint{Float64,RigidBodyDynamics.Revolute{Float64}},1},Array{RigidBodyDynamics.Joint{Float64,RigidBodyDynamics.Fixed{Float64}},1}},3},LearningMPC.##55#56{Tuple{RigidBodySim.Control.PeriodicController{RigidBodyDynamics.CustomCollections.SegmentedVector{RigidBodyDynamics.JointID,Float64,Base.OneTo{RigidBodyDynamics.JointID},Array{Float64,1}},Float64,LearningMPC.##55#56{Tuple{#control#271{LearningMPC.LQRSolution{Float64},RigidBodyDynamics.MechanismState{Float64,Float64,Float64,TypeSortedCollections.TypeSortedCollection{Tuple{Array{RigidBodyDynamics.Joint{Float64,RigidBodyDynamics.Fixed{Float64}},1},Array{RigidBodyDynamics.Joint{Float64,RigidBodyDynamics.Planar{Float64}},1},Array{RigidBodyDynamics.Joint{Float64,RigidBodyDynamics.Revolute{Float64}},1},Array{RigidBodyDynamics.Joint{Float64,RigidBodyDynamics.Prismatic{Float64}},1}},4}},RigidBodyDynamics.MechanismState{Float64,Float64,Float64,TypeSortedCollections.TypeSortedCollection{Tuple{Array{RigidBodyDynamics.Joint{Float64,RigidBodyDynamics.Planar{Float64}},1},Array{RigidBodyDynamics.Joint{Float64,RigidBodyDynamics.Revolute{Float64}},1},Array{RigidBodyDynamics.Joint{Float64,RigidBodyDynamics.Fixed{Float64}},1}},3}},IKMimic.IKMimicWorkspace{Float64},IKMimic.SensitivityWorkspace{Float64},Array{Tuple{Bool,Bool},2},Array{QPControl.MPCController{4,Gurobi.GurobiOptimizer,RigidBodyDynamics.Mechanism{Float64},RigidBodyDynamics.MechanismState{Float64,Float64,Float64,TypeSortedCollections.TypeSortedCollection{Tuple{Array{RigidBodyDynamics.Joint{Float64,RigidBodyDynamics.Planar{Float64}},1},Array{RigidBodyDynamics.Joint{Float64,RigidBodyDynamics.Revolute{Float64}},1},Array{RigidBodyDynamics.Joint{Float64,RigidBodyDynamics.Fixed{Float64}},1}},3}}},2},Array{Array{Float64,1},2},Array{Float64,1}},LearningMPC.##57#58{Array{RigidBodyDynamics.Bounds{Float64},1}}}},DiffEqBase.#INITIALIZE_DEFAULT},LearningMPC.##59#60{Float64,Float64,Array{RigidBodyDynamics.Bounds{Float64},1}},LearningMPC.##61#63{Float64}}},RigidBodySim.Core.##2#4},Void,OrdinaryDiffEq.Tsit5Cache{Array{Float64,1},Array{Float64,1},Array{Float64,1},Array{Float64,1},OrdinaryDiffEq.Tsit5ConstantCache{Float64,Float64}},OrdinaryDiffEq.DEOptions{Float64,Float64,Float64,Float64,DiffEqBase.#ODE_DEFAULT_NORM,DiffEqBase.CallbackSet{Tuple{},Tuple{DiffEqBase.DiscreteCallback{DiffEqCallbacks.##40#43{Base.RefValue{Float64}},DiffEqCallbacks.##41#44{RigidBodySim.Control.##4#6{RigidBodySim.Control.PeriodicController{RigidBodyDynamics.CustomCollections.SegmentedVector{RigidBodyDynamics.JointID,Float64,Base.OneTo{RigidBodyDynamics.JointID},Array{Float64,1}},Float64,LearningMPC.##55#56{Tuple{#control#271{LearningMPC.LQRSolution{Float64},RigidBodyDynamics.MechanismState{Float64,Float64,Float64,TypeSortedCollections.TypeSortedCollection{Tuple{Array{RigidBodyDynamics.Joint{Float64,RigidBodyDynamics.Fixed{Float64}},1},Array{RigidBodyDynamics.Joint{Float64,RigidBodyDynamics.Planar{Float64}},1},Array{RigidBodyDynamics.Joint{Float64,RigidBodyDynamics.Revolute{Float64}},1},Array{RigidBodyDynamics.Joint{Float64,RigidBodyDynamics.Prismatic{Float64}},1}},4}},RigidBodyDynamics.MechanismState{Float64,Float64,Float64,TypeSortedCollections.TypeSortedCollection{Tuple{Array{RigidBodyDynamics.Joint{Float64,RigidBodyDynamics.Planar{Float64}},1},Array{RigidBodyDynamics.Joint{Float64,RigidBodyDynamics.Revolute{Float64}},1},Array{RigidBodyDynamics.Joint{Float64,RigidBodyDynamics.Fixed{Float64}},1}},3}},IKMimic.IKMimicWorkspace{Float64},IKMimic.SensitivityWorkspace{Float64},Array{Tuple{Bool,Bool},2},Array{QPControl.MPCController{4,Gurobi.GurobiOptimizer,RigidBodyDynamics.Mechanism{Float64},RigidBodyDynamics.MechanismState{Float64,Float64,Float64,TypeSortedCollections.TypeSortedCollection{Tuple{Array{RigidBodyDynamics.Joint{Float64,RigidBodyDynamics.Planar{Float64}},1},Array{RigidBodyDynamics.Joint{Float64,RigidBodyDynamics.Revolute{Float64}},1},Array{RigidBodyDynamics.Joint{Float64,RigidBodyDynamics.Fixed{Float64}},1}},3}}},2},Array{Array{Float64,1},2},Array{Float64,1}},LearningMPC.##57#58{Array{RigidBodyDynamics.Bounds{Float64},1}}}},DiffEqBase.#INITIALIZE_DEFAULT}},Float64,Base.RefValue{Float64}},DiffEqCallbacks.##42#45{RigidBodySim.Control.##3#5{RigidBodySim.Control.PeriodicController{RigidBodyDynamics.CustomCollections.SegmentedVector{RigidBodyDynamics.JointID,Float64,Base.OneTo{RigidBodyDynamics.JointID},Array{Float64,1}},Float64,LearningMPC.##55#56{Tuple{#control#271{LearningMPC.LQRSolution{Float64},RigidBodyDynamics.MechanismState{Float64,Float64,Float64,TypeSortedCollections.TypeSortedCollection{Tuple{Array{RigidBodyDynamics.Joint{Float64,RigidBodyDynamics.Fixed{Float64}},1},Array{RigidBodyDynamics.Joint{Float64,RigidBodyDynamics.Planar{Float64}},1},Array{RigidBodyDynamics.Joint{Float64,RigidBodyDynamics.Revolute{Float64}},1},Array{RigidBodyDynamics.Joint{Float64,RigidBodyDynamics.Prismatic{Float64}},1}},4}},RigidBodyDynamics.MechanismState{Float64,Float64,Float64,TypeSortedCollections.TypeSortedCollection{Tuple{Array{RigidBodyDynamics.Joint{Float64,RigidBodyDynamics.Planar{Float64}},1},Array{RigidBodyDynamics.Joint{Float64,RigidBodyDynamics.Revolute{Float64}},1},Array{RigidBodyDynamics.Joint{Float64,RigidBodyDynamics.Fixed{Float64}},1}},3}},IKMimic.IKMimicWorkspace{Float64},IKMimic.SensitivityWorkspace{Float64},Array{Tuple{Bool,Bool},2},Array{QPControl.MPCController{4,Gurobi.GurobiOptimizer,RigidBodyDynamics.Mechanism{Float64},RigidBodyDynamics.MechanismState{Float64,Float64,Float64,TypeSortedCollections.TypeSortedCollection{Tuple{Array{RigidBodyDynamics.Joint{Float64,RigidBodyDynamics.Planar{Float64}},1},Array{RigidBodyDynamics.Joint{Float64,RigidBodyDynamics.Revolute{Float64}},1},Array{RigidBodyDynamics.Joint{Float64,RigidBodyDynamics.Fixed{Float64}},1}},3}}},2},Array{Array{Float64,1},2},Array{Float64,1}},LearningMPC.##57#58{Array{RigidBodyDynamics.Bounds{Float64},1}}}},DiffEqBase.#INITIALIZE_DEFAULT}},Bool,Float64,Base.RefValue{Float64},DiffEqCallbacks.##41#44{RigidBodySim.Control.##4#6{RigidBodySim.Control.PeriodicController{RigidBodyDynamics.CustomCollections.SegmentedVector{RigidBodyDynamics.JointID,Float64,Base.OneTo{RigidBodyDynamics.JointID},Array{Float64,1}},Float64,LearningMPC.##55#56{Tuple{#control#271{LearningMPC.LQRSolution{Float64},RigidBodyDynamics.MechanismState{Float64,Float64,Float64,TypeSortedCollections.TypeSortedCollection{Tuple{Array{RigidBodyDynamics.Joint{Float64,RigidBodyDynamics.Fixed{Float64}},1},Array{RigidBodyDynamics.Joint{Float64,RigidBodyDynamics.Planar{Float64}},1},Array{RigidBodyDynamics.Joint{Float64,RigidBodyDynamics.Revolute{Float64}},1},Array{RigidBodyDynamics.Joint{Float64,RigidBodyDynamics.Prismatic{Float64}},1}},4}},RigidBodyDynamics.MechanismState{Float64,Float64,Float64,TypeSortedCollections.TypeSortedCollection{Tuple{Array{RigidBodyDynamics.Joint{Float64,RigidBodyDynamics.Planar{Float64}},1},Array{RigidBodyDynamics.Joint{Float64,RigidBodyDynamics.Revolute{Float64}},1},Array{RigidBodyDynamics.Joint{Float64,RigidBodyDynamics.Fixed{Float64}},1}},3}},IKMimic.IKMimicWorkspace{Float64},IKMimic.SensitivityWorkspace{Float64},Array{Tuple{Bool,Bool},2},Array{QPControl.MPCController{4,Gurobi.GurobiOptimizer,RigidBodyDynamics.Mechanism{Float64},RigidBodyDynamics.MechanismState{Float64,Float64,Float64,TypeSortedCollections.TypeSortedCollection{Tuple{Array{RigidBodyDynamics.Joint{Float64,RigidBodyDynamics.Planar{Float64}},1},Array{RigidBodyDynamics.Joint{Float64,RigidBodyDynamics.Revolute{Float64}},1},Array{RigidBodyDynamics.Joint{Float64,RigidBodyDynamics.Fixed{Float64}},1}},3}}},2},Array{Array{Float64,1},2},Array{Float64,1}},LearningMPC.##57#58{Array{RigidBodyDynamics.Bounds{Float64},1}}}},DiffEqBase.#INITIALIZE_DEFAULT}},Float64,Base.RefValue{Float64}}}}}},DiffEqBase.#ODE_DEFAULT_ISOUTOFDOMAIN,DiffEqBase.#ODE_DEFAULT_PROG_MESSAGE,DiffEqBase.#ODE_DEFAULT_UNSTABLE_CHECK,DataStructures.BinaryHeap{Float64,DataStructures.LessThan},DataStructures.BinaryHeap{Float64,DataStructures.LessThan},Void,Void,Int64,Array{Float64,1},Array{Float64,1},Array{Float64,1}},Array{Float64,1}}, ::OrdinaryDiffEq.Tsit5Cache{Array{Float64,1},Array{Float64,1},Array{Float64,1},Array{Float64,1},OrdinaryDiffEq.Tsit5ConstantCache{Float64,Float64}}, ::Bool\u001b[1m)\u001b[22m\u001b[22m at \u001b[1m/home/rdeits/locomotion/explorations/learning-mpc-2/packages/v0.6/OrdinaryDiffEq/src/perform_step/low_order_rk_perform_step.jl:618\u001b[22m\u001b[22m",
      " [12] \u001b[1msolve!\u001b[22m\u001b[22m\u001b[1m(\u001b[22m\u001b[22m::OrdinaryDiffEq.ODEIntegrator{OrdinaryDiffEq.Tsit5,Array{Float64,1},Float64,Void,Float64,Float64,Float64,Array{Array{Float64,1},1},DiffEqBase.ODESolution{Float64,2,Array{Array{Float64,1},1},Void,Void,Array{Float64,1},Array{Array{Array{Float64,1},1},1},DiffEqBase.ODEProblem{Array{Float64,1},Float64,true,Void,RigidBodySim.Core.Dynamics{Float64,TypeSortedCollections.TypeSortedCollection{Tuple{Array{RigidBodyDynamics.Joint{Float64,RigidBodyDynamics.Planar{Float64}},1},Array{RigidBodyDynamics.Joint{Float64,RigidBodyDynamics.Revolute{Float64}},1},Array{RigidBodyDynamics.Joint{Float64,RigidBodyDynamics.Fixed{Float64}},1}},3},LearningMPC.##55#56{Tuple{RigidBodySim.Control.PeriodicController{RigidBodyDynamics.CustomCollections.SegmentedVector{RigidBodyDynamics.JointID,Float64,Base.OneTo{RigidBodyDynamics.JointID},Array{Float64,1}},Float64,LearningMPC.##55#56{Tuple{#control#271{LearningMPC.LQRSolution{Float64},RigidBodyDynamics.MechanismState{Float64,Float64,Float64,TypeSortedCollections.TypeSortedCollection{Tuple{Array{RigidBodyDynamics.Joint{Float64,RigidBodyDynamics.Fixed{Float64}},1},Array{RigidBodyDynamics.Joint{Float64,RigidBodyDynamics.Planar{Float64}},1},Array{RigidBodyDynamics.Joint{Float64,RigidBodyDynamics.Revolute{Float64}},1},Array{RigidBodyDynamics.Joint{Float64,RigidBodyDynamics.Prismatic{Float64}},1}},4}},RigidBodyDynamics.MechanismState{Float64,Float64,Float64,TypeSortedCollections.TypeSortedCollection{Tuple{Array{RigidBodyDynamics.Joint{Float64,RigidBodyDynamics.Planar{Float64}},1},Array{RigidBodyDynamics.Joint{Float64,RigidBodyDynamics.Revolute{Float64}},1},Array{RigidBodyDynamics.Joint{Float64,RigidBodyDynamics.Fixed{Float64}},1}},3}},IKMimic.IKMimicWorkspace{Float64},IKMimic.SensitivityWorkspace{Float64},Array{Tuple{Bool,Bool},2},Array{QPControl.MPCController{4,Gurobi.GurobiOptimizer,RigidBodyDynamics.Mechanism{Float64},RigidBodyDynamics.MechanismState{Float64,Float64,Float64,TypeSortedCollections.TypeSortedCollection{Tuple{Array{RigidBodyDynamics.Joint{Float64,RigidBodyDynamics.Planar{Float64}},1},Array{RigidBodyDynamics.Joint{Float64,RigidBodyDynamics.Revolute{Float64}},1},Array{RigidBodyDynamics.Joint{Float64,RigidBodyDynamics.Fixed{Float64}},1}},3}}},2},Array{Array{Float64,1},2},Array{Float64,1}},LearningMPC.##57#58{Array{RigidBodyDynamics.Bounds{Float64},1}}}},DiffEqBase.#INITIALIZE_DEFAULT},LearningMPC.##59#60{Float64,Float64,Array{RigidBodyDynamics.Bounds{Float64},1}},LearningMPC.##61#63{Float64}}},RigidBodySim.Core.##2#4},Void,DiffEqBase.CallbackSet{Tuple{},Tuple{DiffEqBase.DiscreteCallback{DiffEqCallbacks.##40#43{Base.RefValue{Float64}},DiffEqCallbacks.##41#44{RigidBodySim.Control.##4#6{RigidBodySim.Control.PeriodicController{RigidBodyDynamics.CustomCollections.SegmentedVector{RigidBodyDynamics.JointID,Float64,Base.OneTo{RigidBodyDynamics.JointID},Array{Float64,1}},Float64,LearningMPC.##55#56{Tuple{#control#271{LearningMPC.LQRSolution{Float64},RigidBodyDynamics.MechanismState{Float64,Float64,Float64,TypeSortedCollections.TypeSortedCollection{Tuple{Array{RigidBodyDynamics.Joint{Float64,RigidBodyDynamics.Fixed{Float64}},1},Array{RigidBodyDynamics.Joint{Float64,RigidBodyDynamics.Planar{Float64}},1},Array{RigidBodyDynamics.Joint{Float64,RigidBodyDynamics.Revolute{Float64}},1},Array{RigidBodyDynamics.Joint{Float64,RigidBodyDynamics.Prismatic{Float64}},1}},4}},RigidBodyDynamics.MechanismState{Float64,Float64,Float64,TypeSortedCollections.TypeSortedCollection{Tuple{Array{RigidBodyDynamics.Joint{Float64,RigidBodyDynamics.Planar{Float64}},1},Array{RigidBodyDynamics.Joint{Float64,RigidBodyDynamics.Revolute{Float64}},1},Array{RigidBodyDynamics.Joint{Float64,RigidBodyDynamics.Fixed{Float64}},1}},3}},IKMimic.IKMimicWorkspace{Float64},IKMimic.SensitivityWorkspace{Float64},Array{Tuple{Bool,Bool},2},Array{QPControl.MPCController{4,Gurobi.GurobiOptimizer,RigidBodyDynamics.Mechanism{Float64},RigidBodyDynamics.MechanismState{Float64,Float64,Float64,TypeSortedCollections.TypeSortedCollection{Tuple{Array{RigidBodyDynamics.Joint{Float64,RigidBodyDynamics.Planar{Float64}},1},Array{RigidBodyDynamics.Joint{Float64,RigidBodyDynamics.Revolute{Float64}},1},Array{RigidBodyDynamics.Joint{Float64,RigidBodyDynamics.Fixed{Float64}},1}},3}}},2},Array{Array{Float64,1},2},Array{Float64,1}},LearningMPC.##57#58{Array{RigidBodyDynamics.Bounds{Float64},1}}}},DiffEqBase.#INITIALIZE_DEFAULT}},Float64,Base.RefValue{Float64}},DiffEqCallbacks.##42#45{RigidBodySim.Control.##3#5{RigidBodySim.Control.PeriodicController{RigidBodyDynamics.CustomCollections.SegmentedVector{RigidBodyDynamics.JointID,Float64,Base.OneTo{RigidBodyDynamics.JointID},Array{Float64,1}},Float64,LearningMPC.##55#56{Tuple{#control#271{LearningMPC.LQRSolution{Float64},RigidBodyDynamics.MechanismState{Float64,Float64,Float64,TypeSortedCollections.TypeSortedCollection{Tuple{Array{RigidBodyDynamics.Joint{Float64,RigidBodyDynamics.Fixed{Float64}},1},Array{RigidBodyDynamics.Joint{Float64,RigidBodyDynamics.Planar{Float64}},1},Array{RigidBodyDynamics.Joint{Float64,RigidBodyDynamics.Revolute{Float64}},1},Array{RigidBodyDynamics.Joint{Float64,RigidBodyDynamics.Prismatic{Float64}},1}},4}},RigidBodyDynamics.MechanismState{Float64,Float64,Float64,TypeSortedCollections.TypeSortedCollection{Tuple{Array{RigidBodyDynamics.Joint{Float64,RigidBodyDynamics.Planar{Float64}},1},Array{RigidBodyDynamics.Joint{Float64,RigidBodyDynamics.Revolute{Float64}},1},Array{RigidBodyDynamics.Joint{Float64,RigidBodyDynamics.Fixed{Float64}},1}},3}},IKMimic.IKMimicWorkspace{Float64},IKMimic.SensitivityWorkspace{Float64},Array{Tuple{Bool,Bool},2},Array{QPControl.MPCController{4,Gurobi.GurobiOptimizer,RigidBodyDynamics.Mechanism{Float64},RigidBodyDynamics.MechanismState{Float64,Float64,Float64,TypeSortedCollections.TypeSortedCollection{Tuple{Array{RigidBodyDynamics.Joint{Float64,RigidBodyDynamics.Planar{Float64}},1},Array{RigidBodyDynamics.Joint{Float64,RigidBodyDynamics.Revolute{Float64}},1},Array{RigidBodyDynamics.Joint{Float64,RigidBodyDynamics.Fixed{Float64}},1}},3}}},2},Array{Array{Float64,1},2},Array{Float64,1}},LearningMPC.##57#58{Array{RigidBodyDynamics.Bounds{Float64},1}}}},DiffEqBase.#INITIALIZE_DEFAULT}},Bool,Float64,Base.RefValue{Float64},DiffEqCallbacks.##41#44{RigidBodySim.Control.##4#6{RigidBodySim.Control.PeriodicController{RigidBodyDynamics.CustomCollections.SegmentedVector{RigidBodyDynamics.JointID,Float64,Base.OneTo{RigidBodyDynamics.JointID},Array{Float64,1}},Float64,LearningMPC.##55#56{Tuple{#control#271{LearningMPC.LQRSolution{Float64},RigidBodyDynamics.MechanismState{Float64,Float64,Float64,TypeSortedCollections.TypeSortedCollection{Tuple{Array{RigidBodyDynamics.Joint{Float64,RigidBodyDynamics.Fixed{Float64}},1},Array{RigidBodyDynamics.Joint{Float64,RigidBodyDynamics.Planar{Float64}},1},Array{RigidBodyDynamics.Joint{Float64,RigidBodyDynamics.Revolute{Float64}},1},Array{RigidBodyDynamics.Joint{Float64,RigidBodyDynamics.Prismatic{Float64}},1}},4}},RigidBodyDynamics.MechanismState{Float64,Float64,Float64,TypeSortedCollections.TypeSortedCollection{Tuple{Array{RigidBodyDynamics.Joint{Float64,RigidBodyDynamics.Planar{Float64}},1},Array{RigidBodyDynamics.Joint{Float64,RigidBodyDynamics.Revolute{Float64}},1},Array{RigidBodyDynamics.Joint{Float64,RigidBodyDynamics.Fixed{Float64}},1}},3}},IKMimic.IKMimicWorkspace{Float64},IKMimic.SensitivityWorkspace{Float64},Array{Tuple{Bool,Bool},2},Array{QPControl.MPCController{4,Gurobi.GurobiOptimizer,RigidBodyDynamics.Mechanism{Float64},RigidBodyDynamics.MechanismState{Float64,Float64,Float64,TypeSortedCollections.TypeSortedCollection{Tuple{Array{RigidBodyDynamics.Joint{Float64,RigidBodyDynamics.Planar{Float64}},1},Array{RigidBodyDynamics.Joint{Float64,RigidBodyDynamics.Revolute{Float64}},1},Array{RigidBodyDynamics.Joint{Float64,RigidBodyDynamics.Fixed{Float64}},1}},3}}},2},Array{Array{Float64,1},2},Array{Float64,1}},LearningMPC.##57#58{Array{RigidBodyDynamics.Bounds{Float64},1}}}},DiffEqBase.#INITIALIZE_DEFAULT}},Float64,Base.RefValue{Float64}}}}}},UniformScaling{Int64},DiffEqBase.StandardODEProblem},OrdinaryDiffEq.Tsit5,OrdinaryDiffEq.InterpolationData{RigidBodySim.Core.Dynamics{Float64,TypeSortedCollections.TypeSortedCollection{Tuple{Array{RigidBodyDynamics.Joint{Float64,RigidBodyDynamics.Planar{Float64}},1},Array{RigidBodyDynamics.Joint{Float64,RigidBodyDynamics.Revolute{Float64}},1},Array{RigidBodyDynamics.Joint{Float64,RigidBodyDynamics.Fixed{Float64}},1}},3},LearningMPC.##55#56{Tuple{RigidBodySim.Control.PeriodicController{RigidBodyDynamics.CustomCollections.SegmentedVector{RigidBodyDynamics.JointID,Float64,Base.OneTo{RigidBodyDynamics.JointID},Array{Float64,1}},Float64,LearningMPC.##55#56{Tuple{#control#271{LearningMPC.LQRSolution{Float64},RigidBodyDynamics.MechanismState{Float64,Float64,Float64,TypeSortedCollections.TypeSortedCollection{Tuple{Array{RigidBodyDynamics.Joint{Float64,RigidBodyDynamics.Fixed{Float64}},1},Array{RigidBodyDynamics.Joint{Float64,RigidBodyDynamics.Planar{Float64}},1},Array{RigidBodyDynamics.Joint{Float64,RigidBodyDynamics.Revolute{Float64}},1},Array{RigidBodyDynamics.Joint{Float64,RigidBodyDynamics.Prismatic{Float64}},1}},4}},RigidBodyDynamics.MechanismState{Float64,Float64,Float64,TypeSortedCollections.TypeSortedCollection{Tuple{Array{RigidBodyDynamics.Joint{Float64,RigidBodyDynamics.Planar{Float64}},1},Array{RigidBodyDynamics.Joint{Float64,RigidBodyDynamics.Revolute{Float64}},1},Array{RigidBodyDynamics.Joint{Float64,RigidBodyDynamics.Fixed{Float64}},1}},3}},IKMimic.IKMimicWorkspace{Float64},IKMimic.SensitivityWorkspace{Float64},Array{Tuple{Bool,Bool},2},Array{QPControl.MPCController{4,Gurobi.GurobiOptimizer,RigidBodyDynamics.Mechanism{Float64},RigidBodyDynamics.MechanismState{Float64,Float64,Float64,TypeSortedCollections.TypeSortedCollection{Tuple{Array{RigidBodyDynamics.Joint{Float64,RigidBodyDynamics.Planar{Float64}},1},Array{RigidBodyDynamics.Joint{Float64,RigidBodyDynamics.Revolute{Float64}},1},Array{RigidBodyDynamics.Joint{Float64,RigidBodyDynamics.Fixed{Float64}},1}},3}}},2},Array{Array{Float64,1},2},Array{Float64,1}},LearningMPC.##57#58{Array{RigidBodyDynamics.Bounds{Float64},1}}}},DiffEqBase.#INITIALIZE_DEFAULT},LearningMPC.##59#60{Float64,Float64,Array{RigidBodyDynamics.Bounds{Float64},1}},LearningMPC.##61#63{Float64}}},RigidBodySim.Core.##2#4},Array{Array{Float64,1},1},Array{Float64,1},Array{Array{Array{Float64,1},1},1},OrdinaryDiffEq.Tsit5Cache{Array{Float64,1},Array{Float64,1},Array{Float64,1},Array{Float64,1},OrdinaryDiffEq.Tsit5ConstantCache{Float64,Float64}}}},RigidBodySim.Core.Dynamics{Float64,TypeSortedCollections.TypeSortedCollection{Tuple{Array{RigidBodyDynamics.Joint{Float64,RigidBodyDynamics.Planar{Float64}},1},Array{RigidBodyDynamics.Joint{Float64,RigidBodyDynamics.Revolute{Float64}},1},Array{RigidBodyDynamics.Joint{Float64,RigidBodyDynamics.Fixed{Float64}},1}},3},LearningMPC.##55#56{Tuple{RigidBodySim.Control.PeriodicController{RigidBodyDynamics.CustomCollections.SegmentedVector{RigidBodyDynamics.JointID,Float64,Base.OneTo{RigidBodyDynamics.JointID},Array{Float64,1}},Float64,LearningMPC.##55#56{Tuple{#control#271{LearningMPC.LQRSolution{Float64},RigidBodyDynamics.MechanismState{Float64,Float64,Float64,TypeSortedCollections.TypeSortedCollection{Tuple{Array{RigidBodyDynamics.Joint{Float64,RigidBodyDynamics.Fixed{Float64}},1},Array{RigidBodyDynamics.Joint{Float64,RigidBodyDynamics.Planar{Float64}},1},Array{RigidBodyDynamics.Joint{Float64,RigidBodyDynamics.Revolute{Float64}},1},Array{RigidBodyDynamics.Joint{Float64,RigidBodyDynamics.Prismatic{Float64}},1}},4}},RigidBodyDynamics.MechanismState{Float64,Float64,Float64,TypeSortedCollections.TypeSortedCollection{Tuple{Array{RigidBodyDynamics.Joint{Float64,RigidBodyDynamics.Planar{Float64}},1},Array{RigidBodyDynamics.Joint{Float64,RigidBodyDynamics.Revolute{Float64}},1},Array{RigidBodyDynamics.Joint{Float64,RigidBodyDynamics.Fixed{Float64}},1}},3}},IKMimic.IKMimicWorkspace{Float64},IKMimic.SensitivityWorkspace{Float64},Array{Tuple{Bool,Bool},2},Array{QPControl.MPCController{4,Gurobi.GurobiOptimizer,RigidBodyDynamics.Mechanism{Float64},RigidBodyDynamics.MechanismState{Float64,Float64,Float64,TypeSortedCollections.TypeSortedCollection{Tuple{Array{RigidBodyDynamics.Joint{Float64,RigidBodyDynamics.Planar{Float64}},1},Array{RigidBodyDynamics.Joint{Float64,RigidBodyDynamics.Revolute{Float64}},1},Array{RigidBodyDynamics.Joint{Float64,RigidBodyDynamics.Fixed{Float64}},1}},3}}},2},Array{Array{Float64,1},2},Array{Float64,1}},LearningMPC.##57#58{Array{RigidBodyDynamics.Bounds{Float64},1}}}},DiffEqBase.#INITIALIZE_DEFAULT},LearningMPC.##59#60{Float64,Float64,Array{RigidBodyDynamics.Bounds{Float64},1}},LearningMPC.##61#63{Float64}}},RigidBodySim.Core.##2#4},Void,OrdinaryDiffEq.Tsit5Cache{Array{Float64,1},Array{Float64,1},Array{Float64,1},Array{Float64,1},OrdinaryDiffEq.Tsit5ConstantCache{Float64,Float64}},OrdinaryDiffEq.DEOptions{Float64,Float64,Float64,Float64,DiffEqBase.#ODE_DEFAULT_NORM,DiffEqBase.CallbackSet{Tuple{},Tuple{DiffEqBase.DiscreteCallback{DiffEqCallbacks.##40#43{Base.RefValue{Float64}},DiffEqCallbacks.##41#44{RigidBodySim.Control.##4#6{RigidBodySim.Control.PeriodicController{RigidBodyDynamics.CustomCollections.SegmentedVector{RigidBodyDynamics.JointID,Float64,Base.OneTo{RigidBodyDynamics.JointID},Array{Float64,1}},Float64,LearningMPC.##55#56{Tuple{#control#271{LearningMPC.LQRSolution{Float64},RigidBodyDynamics.MechanismState{Float64,Float64,Float64,TypeSortedCollections.TypeSortedCollection{Tuple{Array{RigidBodyDynamics.Joint{Float64,RigidBodyDynamics.Fixed{Float64}},1},Array{RigidBodyDynamics.Joint{Float64,RigidBodyDynamics.Planar{Float64}},1},Array{RigidBodyDynamics.Joint{Float64,RigidBodyDynamics.Revolute{Float64}},1},Array{RigidBodyDynamics.Joint{Float64,RigidBodyDynamics.Prismatic{Float64}},1}},4}},RigidBodyDynamics.MechanismState{Float64,Float64,Float64,TypeSortedCollections.TypeSortedCollection{Tuple{Array{RigidBodyDynamics.Joint{Float64,RigidBodyDynamics.Planar{Float64}},1},Array{RigidBodyDynamics.Joint{Float64,RigidBodyDynamics.Revolute{Float64}},1},Array{RigidBodyDynamics.Joint{Float64,RigidBodyDynamics.Fixed{Float64}},1}},3}},IKMimic.IKMimicWorkspace{Float64},IKMimic.SensitivityWorkspace{Float64},Array{Tuple{Bool,Bool},2},Array{QPControl.MPCController{4,Gurobi.GurobiOptimizer,RigidBodyDynamics.Mechanism{Float64},RigidBodyDynamics.MechanismState{Float64,Float64,Float64,TypeSortedCollections.TypeSortedCollection{Tuple{Array{RigidBodyDynamics.Joint{Float64,RigidBodyDynamics.Planar{Float64}},1},Array{RigidBodyDynamics.Joint{Float64,RigidBodyDynamics.Revolute{Float64}},1},Array{RigidBodyDynamics.Joint{Float64,RigidBodyDynamics.Fixed{Float64}},1}},3}}},2},Array{Array{Float64,1},2},Array{Float64,1}},LearningMPC.##57#58{Array{RigidBodyDynamics.Bounds{Float64},1}}}},DiffEqBase.#INITIALIZE_DEFAULT}},Float64,Base.RefValue{Float64}},DiffEqCallbacks.##42#45{RigidBodySim.Control.##3#5{RigidBodySim.Control.PeriodicController{RigidBodyDynamics.CustomCollections.SegmentedVector{RigidBodyDynamics.JointID,Float64,Base.OneTo{RigidBodyDynamics.JointID},Array{Float64,1}},Float64,LearningMPC.##55#56{Tuple{#control#271{LearningMPC.LQRSolution{Float64},RigidBodyDynamics.MechanismState{Float64,Float64,Float64,TypeSortedCollections.TypeSortedCollection{Tuple{Array{RigidBodyDynamics.Joint{Float64,RigidBodyDynamics.Fixed{Float64}},1},Array{RigidBodyDynamics.Joint{Float64,RigidBodyDynamics.Planar{Float64}},1},Array{RigidBodyDynamics.Joint{Float64,RigidBodyDynamics.Revolute{Float64}},1},Array{RigidBodyDynamics.Joint{Float64,RigidBodyDynamics.Prismatic{Float64}},1}},4}},RigidBodyDynamics.MechanismState{Float64,Float64,Float64,TypeSortedCollections.TypeSortedCollection{Tuple{Array{RigidBodyDynamics.Joint{Float64,RigidBodyDynamics.Planar{Float64}},1},Array{RigidBodyDynamics.Joint{Float64,RigidBodyDynamics.Revolute{Float64}},1},Array{RigidBodyDynamics.Joint{Float64,RigidBodyDynamics.Fixed{Float64}},1}},3}},IKMimic.IKMimicWorkspace{Float64},IKMimic.SensitivityWorkspace{Float64},Array{Tuple{Bool,Bool},2},Array{QPControl.MPCController{4,Gurobi.GurobiOptimizer,RigidBodyDynamics.Mechanism{Float64},RigidBodyDynamics.MechanismState{Float64,Float64,Float64,TypeSortedCollections.TypeSortedCollection{Tuple{Array{RigidBodyDynamics.Joint{Float64,RigidBodyDynamics.Planar{Float64}},1},Array{RigidBodyDynamics.Joint{Float64,RigidBodyDynamics.Revolute{Float64}},1},Array{RigidBodyDynamics.Joint{Float64,RigidBodyDynamics.Fixed{Float64}},1}},3}}},2},Array{Array{Float64,1},2},Array{Float64,1}},LearningMPC.##57#58{Array{RigidBodyDynamics.Bounds{Float64},1}}}},DiffEqBase.#INITIALIZE_DEFAULT}},Bool,Float64,Base.RefValue{Float64},DiffEqCallbacks.##41#44{RigidBodySim.Control.##4#6{RigidBodySim.Control.PeriodicController{RigidBodyDynamics.CustomCollections.SegmentedVector{RigidBodyDynamics.JointID,Float64,Base.OneTo{RigidBodyDynamics.JointID},Array{Float64,1}},Float64,LearningMPC.##55#56{Tuple{#control#271{LearningMPC.LQRSolution{Float64},RigidBodyDynamics.MechanismState{Float64,Float64,Float64,TypeSortedCollections.TypeSortedCollection{Tuple{Array{RigidBodyDynamics.Joint{Float64,RigidBodyDynamics.Fixed{Float64}},1},Array{RigidBodyDynamics.Joint{Float64,RigidBodyDynamics.Planar{Float64}},1},Array{RigidBodyDynamics.Joint{Float64,RigidBodyDynamics.Revolute{Float64}},1},Array{RigidBodyDynamics.Joint{Float64,RigidBodyDynamics.Prismatic{Float64}},1}},4}},RigidBodyDynamics.MechanismState{Float64,Float64,Float64,TypeSortedCollections.TypeSortedCollection{Tuple{Array{RigidBodyDynamics.Joint{Float64,RigidBodyDynamics.Planar{Float64}},1},Array{RigidBodyDynamics.Joint{Float64,RigidBodyDynamics.Revolute{Float64}},1},Array{RigidBodyDynamics.Joint{Float64,RigidBodyDynamics.Fixed{Float64}},1}},3}},IKMimic.IKMimicWorkspace{Float64},IKMimic.SensitivityWorkspace{Float64},Array{Tuple{Bool,Bool},2},Array{QPControl.MPCController{4,Gurobi.GurobiOptimizer,RigidBodyDynamics.Mechanism{Float64},RigidBodyDynamics.MechanismState{Float64,Float64,Float64,TypeSortedCollections.TypeSortedCollection{Tuple{Array{RigidBodyDynamics.Joint{Float64,RigidBodyDynamics.Planar{Float64}},1},Array{RigidBodyDynamics.Joint{Float64,RigidBodyDynamics.Revolute{Float64}},1},Array{RigidBodyDynamics.Joint{Float64,RigidBodyDynamics.Fixed{Float64}},1}},3}}},2},Array{Array{Float64,1},2},Array{Float64,1}},LearningMPC.##57#58{Array{RigidBodyDynamics.Bounds{Float64},1}}}},DiffEqBase.#INITIALIZE_DEFAULT}},Float64,Base.RefValue{Float64}}}}}},DiffEqBase.#ODE_DEFAULT_ISOUTOFDOMAIN,DiffEqBase.#ODE_DEFAULT_PROG_MESSAGE,DiffEqBase.#ODE_DEFAULT_UNSTABLE_CHECK,DataStructures.BinaryHeap{Float64,DataStructures.LessThan},DataStructures.BinaryHeap{Float64,DataStructures.LessThan},Void,Void,Int64,Array{Float64,1},Array{Float64,1},Array{Float64,1}},Array{Float64,1}}\u001b[1m)\u001b[22m\u001b[22m at \u001b[1m/home/rdeits/locomotion/explorations/learning-mpc-2/packages/v0.6/OrdinaryDiffEq/src/solve.jl:341\u001b[22m\u001b[22m",
      " [13] \u001b[1m#solve#1469\u001b[22m\u001b[22m\u001b[1m(\u001b[22m\u001b[22m::Array{Any,1}, ::Function, ::DiffEqBase.ODEProblem{Array{Float64,1},Float64,true,Void,RigidBodySim.Core.Dynamics{Float64,TypeSortedCollections.TypeSortedCollection{Tuple{Array{RigidBodyDynamics.Joint{Float64,RigidBodyDynamics.Planar{Float64}},1},Array{RigidBodyDynamics.Joint{Float64,RigidBodyDynamics.Revolute{Float64}},1},Array{RigidBodyDynamics.Joint{Float64,RigidBodyDynamics.Fixed{Float64}},1}},3},LearningMPC.##55#56{Tuple{RigidBodySim.Control.PeriodicController{RigidBodyDynamics.CustomCollections.SegmentedVector{RigidBodyDynamics.JointID,Float64,Base.OneTo{RigidBodyDynamics.JointID},Array{Float64,1}},Float64,LearningMPC.##55#56{Tuple{#control#271{LearningMPC.LQRSolution{Float64},RigidBodyDynamics.MechanismState{Float64,Float64,Float64,TypeSortedCollections.TypeSortedCollection{Tuple{Array{RigidBodyDynamics.Joint{Float64,RigidBodyDynamics.Fixed{Float64}},1},Array{RigidBodyDynamics.Joint{Float64,RigidBodyDynamics.Planar{Float64}},1},Array{RigidBodyDynamics.Joint{Float64,RigidBodyDynamics.Revolute{Float64}},1},Array{RigidBodyDynamics.Joint{Float64,RigidBodyDynamics.Prismatic{Float64}},1}},4}},RigidBodyDynamics.MechanismState{Float64,Float64,Float64,TypeSortedCollections.TypeSortedCollection{Tuple{Array{RigidBodyDynamics.Joint{Float64,RigidBodyDynamics.Planar{Float64}},1},Array{RigidBodyDynamics.Joint{Float64,RigidBodyDynamics.Revolute{Float64}},1},Array{RigidBodyDynamics.Joint{Float64,RigidBodyDynamics.Fixed{Float64}},1}},3}},IKMimic.IKMimicWorkspace{Float64},IKMimic.SensitivityWorkspace{Float64},Array{Tuple{Bool,Bool},2},Array{QPControl.MPCController{4,Gurobi.GurobiOptimizer,RigidBodyDynamics.Mechanism{Float64},RigidBodyDynamics.MechanismState{Float64,Float64,Float64,TypeSortedCollections.TypeSortedCollection{Tuple{Array{RigidBodyDynamics.Joint{Float64,RigidBodyDynamics.Planar{Float64}},1},Array{RigidBodyDynamics.Joint{Float64,RigidBodyDynamics.Revolute{Float64}},1},Array{RigidBodyDynamics.Joint{Float64,RigidBodyDynamics.Fixed{Float64}},1}},3}}},2},Array{Array{Float64,1},2},Array{Float64,1}},LearningMPC.##57#58{Array{RigidBodyDynamics.Bounds{Float64},1}}}},DiffEqBase.#INITIALIZE_DEFAULT},LearningMPC.##59#60{Float64,Float64,Array{RigidBodyDynamics.Bounds{Float64},1}},LearningMPC.##61#63{Float64}}},RigidBodySim.Core.##2#4},Void,DiffEqBase.CallbackSet{Tuple{},Tuple{DiffEqBase.DiscreteCallback{DiffEqCallbacks.##40#43{Base.RefValue{Float64}},DiffEqCallbacks.##41#44{RigidBodySim.Control.##4#6{RigidBodySim.Control.PeriodicController{RigidBodyDynamics.CustomCollections.SegmentedVector{RigidBodyDynamics.JointID,Float64,Base.OneTo{RigidBodyDynamics.JointID},Array{Float64,1}},Float64,LearningMPC.##55#56{Tuple{#control#271{LearningMPC.LQRSolution{Float64},RigidBodyDynamics.MechanismState{Float64,Float64,Float64,TypeSortedCollections.TypeSortedCollection{Tuple{Array{RigidBodyDynamics.Joint{Float64,RigidBodyDynamics.Fixed{Float64}},1},Array{RigidBodyDynamics.Joint{Float64,RigidBodyDynamics.Planar{Float64}},1},Array{RigidBodyDynamics.Joint{Float64,RigidBodyDynamics.Revolute{Float64}},1},Array{RigidBodyDynamics.Joint{Float64,RigidBodyDynamics.Prismatic{Float64}},1}},4}},RigidBodyDynamics.MechanismState{Float64,Float64,Float64,TypeSortedCollections.TypeSortedCollection{Tuple{Array{RigidBodyDynamics.Joint{Float64,RigidBodyDynamics.Planar{Float64}},1},Array{RigidBodyDynamics.Joint{Float64,RigidBodyDynamics.Revolute{Float64}},1},Array{RigidBodyDynamics.Joint{Float64,RigidBodyDynamics.Fixed{Float64}},1}},3}},IKMimic.IKMimicWorkspace{Float64},IKMimic.SensitivityWorkspace{Float64},Array{Tuple{Bool,Bool},2},Array{QPControl.MPCController{4,Gurobi.GurobiOptimizer,RigidBodyDynamics.Mechanism{Float64},RigidBodyDynamics.MechanismState{Float64,Float64,Float64,TypeSortedCollections.TypeSortedCollection{Tuple{Array{RigidBodyDynamics.Joint{Float64,RigidBodyDynamics.Planar{Float64}},1},Array{RigidBodyDynamics.Joint{Float64,RigidBodyDynamics.Revolute{Float64}},1},Array{RigidBodyDynamics.Joint{Float64,RigidBodyDynamics.Fixed{Float64}},1}},3}}},2},Array{Array{Float64,1},2},Array{Float64,1}},LearningMPC.##57#58{Array{RigidBodyDynamics.Bounds{Float64},1}}}},DiffEqBase.#INITIALIZE_DEFAULT}},Float64,Base.RefValue{Float64}},DiffEqCallbacks.##42#45{RigidBodySim.Control.##3#5{RigidBodySim.Control.PeriodicController{RigidBodyDynamics.CustomCollections.SegmentedVector{RigidBodyDynamics.JointID,Float64,Base.OneTo{RigidBodyDynamics.JointID},Array{Float64,1}},Float64,LearningMPC.##55#56{Tuple{#control#271{LearningMPC.LQRSolution{Float64},RigidBodyDynamics.MechanismState{Float64,Float64,Float64,TypeSortedCollections.TypeSortedCollection{Tuple{Array{RigidBodyDynamics.Joint{Float64,RigidBodyDynamics.Fixed{Float64}},1},Array{RigidBodyDynamics.Joint{Float64,RigidBodyDynamics.Planar{Float64}},1},Array{RigidBodyDynamics.Joint{Float64,RigidBodyDynamics.Revolute{Float64}},1},Array{RigidBodyDynamics.Joint{Float64,RigidBodyDynamics.Prismatic{Float64}},1}},4}},RigidBodyDynamics.MechanismState{Float64,Float64,Float64,TypeSortedCollections.TypeSortedCollection{Tuple{Array{RigidBodyDynamics.Joint{Float64,RigidBodyDynamics.Planar{Float64}},1},Array{RigidBodyDynamics.Joint{Float64,RigidBodyDynamics.Revolute{Float64}},1},Array{RigidBodyDynamics.Joint{Float64,RigidBodyDynamics.Fixed{Float64}},1}},3}},IKMimic.IKMimicWorkspace{Float64},IKMimic.SensitivityWorkspace{Float64},Array{Tuple{Bool,Bool},2},Array{QPControl.MPCController{4,Gurobi.GurobiOptimizer,RigidBodyDynamics.Mechanism{Float64},RigidBodyDynamics.MechanismState{Float64,Float64,Float64,TypeSortedCollections.TypeSortedCollection{Tuple{Array{RigidBodyDynamics.Joint{Float64,RigidBodyDynamics.Planar{Float64}},1},Array{RigidBodyDynamics.Joint{Float64,RigidBodyDynamics.Revolute{Float64}},1},Array{RigidBodyDynamics.Joint{Float64,RigidBodyDynamics.Fixed{Float64}},1}},3}}},2},Array{Array{Float64,1},2},Array{Float64,1}},LearningMPC.##57#58{Array{RigidBodyDynamics.Bounds{Float64},1}}}},DiffEqBase.#INITIALIZE_DEFAULT}},Bool,Float64,Base.RefValue{Float64},DiffEqCallbacks.##41#44{RigidBodySim.Control.##4#6{RigidBodySim.Control.PeriodicController{RigidBodyDynamics.CustomCollections.SegmentedVector{RigidBodyDynamics.JointID,Float64,Base.OneTo{RigidBodyDynamics.JointID},Array{Float64,1}},Float64,LearningMPC.##55#56{Tuple{#control#271{LearningMPC.LQRSolution{Float64},RigidBodyDynamics.MechanismState{Float64,Float64,Float64,TypeSortedCollections.TypeSortedCollection{Tuple{Array{RigidBodyDynamics.Joint{Float64,RigidBodyDynamics.Fixed{Float64}},1},Array{RigidBodyDynamics.Joint{Float64,RigidBodyDynamics.Planar{Float64}},1},Array{RigidBodyDynamics.Joint{Float64,RigidBodyDynamics.Revolute{Float64}},1},Array{RigidBodyDynamics.Joint{Float64,RigidBodyDynamics.Prismatic{Float64}},1}},4}},RigidBodyDynamics.MechanismState{Float64,Float64,Float64,TypeSortedCollections.TypeSortedCollection{Tuple{Array{RigidBodyDynamics.Joint{Float64,RigidBodyDynamics.Planar{Float64}},1},Array{RigidBodyDynamics.Joint{Float64,RigidBodyDynamics.Revolute{Float64}},1},Array{RigidBodyDynamics.Joint{Float64,RigidBodyDynamics.Fixed{Float64}},1}},3}},IKMimic.IKMimicWorkspace{Float64},IKMimic.SensitivityWorkspace{Float64},Array{Tuple{Bool,Bool},2},Array{QPControl.MPCController{4,Gurobi.GurobiOptimizer,RigidBodyDynamics.Mechanism{Float64},RigidBodyDynamics.MechanismState{Float64,Float64,Float64,TypeSortedCollections.TypeSortedCollection{Tuple{Array{RigidBodyDynamics.Joint{Float64,RigidBodyDynamics.Planar{Float64}},1},Array{RigidBodyDynamics.Joint{Float64,RigidBodyDynamics.Revolute{Float64}},1},Array{RigidBodyDynamics.Joint{Float64,RigidBodyDynamics.Fixed{Float64}},1}},3}}},2},Array{Array{Float64,1},2},Array{Float64,1}},LearningMPC.##57#58{Array{RigidBodyDynamics.Bounds{Float64},1}}}},DiffEqBase.#INITIALIZE_DEFAULT}},Float64,Base.RefValue{Float64}}}}}},UniformScaling{Int64},DiffEqBase.StandardODEProblem}, ::OrdinaryDiffEq.Tsit5, ::Array{Any,1}, ::Array{Any,1}, ::Array{Any,1}, ::Type{Val{true}}\u001b[1m)\u001b[22m\u001b[22m at \u001b[1m/home/rdeits/locomotion/explorations/learning-mpc-2/packages/v0.6/OrdinaryDiffEq/src/solve.jl:7\u001b[22m\u001b[22m",
      " [14] \u001b[1m(::DiffEqBase.#kw##solve)\u001b[22m\u001b[22m\u001b[1m(\u001b[22m\u001b[22m::Array{Any,1}, ::DiffEqBase.#solve, ::DiffEqBase.ODEProblem{Array{Float64,1},Float64,true,Void,RigidBodySim.Core.Dynamics{Float64,TypeSortedCollections.TypeSortedCollection{Tuple{Array{RigidBodyDynamics.Joint{Float64,RigidBodyDynamics.Planar{Float64}},1},Array{RigidBodyDynamics.Joint{Float64,RigidBodyDynamics.Revolute{Float64}},1},Array{RigidBodyDynamics.Joint{Float64,RigidBodyDynamics.Fixed{Float64}},1}},3},LearningMPC.##55#56{Tuple{RigidBodySim.Control.PeriodicController{RigidBodyDynamics.CustomCollections.SegmentedVector{RigidBodyDynamics.JointID,Float64,Base.OneTo{RigidBodyDynamics.JointID},Array{Float64,1}},Float64,LearningMPC.##55#56{Tuple{#control#271{LearningMPC.LQRSolution{Float64},RigidBodyDynamics.MechanismState{Float64,Float64,Float64,TypeSortedCollections.TypeSortedCollection{Tuple{Array{RigidBodyDynamics.Joint{Float64,RigidBodyDynamics.Fixed{Float64}},1},Array{RigidBodyDynamics.Joint{Float64,RigidBodyDynamics.Planar{Float64}},1},Array{RigidBodyDynamics.Joint{Float64,RigidBodyDynamics.Revolute{Float64}},1},Array{RigidBodyDynamics.Joint{Float64,RigidBodyDynamics.Prismatic{Float64}},1}},4}},RigidBodyDynamics.MechanismState{Float64,Float64,Float64,TypeSortedCollections.TypeSortedCollection{Tuple{Array{RigidBodyDynamics.Joint{Float64,RigidBodyDynamics.Planar{Float64}},1},Array{RigidBodyDynamics.Joint{Float64,RigidBodyDynamics.Revolute{Float64}},1},Array{RigidBodyDynamics.Joint{Float64,RigidBodyDynamics.Fixed{Float64}},1}},3}},IKMimic.IKMimicWorkspace{Float64},IKMimic.SensitivityWorkspace{Float64},Array{Tuple{Bool,Bool},2},Array{QPControl.MPCController{4,Gurobi.GurobiOptimizer,RigidBodyDynamics.Mechanism{Float64},RigidBodyDynamics.MechanismState{Float64,Float64,Float64,TypeSortedCollections.TypeSortedCollection{Tuple{Array{RigidBodyDynamics.Joint{Float64,RigidBodyDynamics.Planar{Float64}},1},Array{RigidBodyDynamics.Joint{Float64,RigidBodyDynamics.Revolute{Float64}},1},Array{RigidBodyDynamics.Joint{Float64,RigidBodyDynamics.Fixed{Float64}},1}},3}}},2},Array{Array{Float64,1},2},Array{Float64,1}},LearningMPC.##57#58{Array{RigidBodyDynamics.Bounds{Float64},1}}}},DiffEqBase.#INITIALIZE_DEFAULT},LearningMPC.##59#60{Float64,Float64,Array{RigidBodyDynamics.Bounds{Float64},1}},LearningMPC.##61#63{Float64}}},RigidBodySim.Core.##2#4},Void,DiffEqBase.CallbackSet{Tuple{},Tuple{DiffEqBase.DiscreteCallback{DiffEqCallbacks.##40#43{Base.RefValue{Float64}},DiffEqCallbacks.##41#44{RigidBodySim.Control.##4#6{RigidBodySim.Control.PeriodicController{RigidBodyDynamics.CustomCollections.SegmentedVector{RigidBodyDynamics.JointID,Float64,Base.OneTo{RigidBodyDynamics.JointID},Array{Float64,1}},Float64,LearningMPC.##55#56{Tuple{#control#271{LearningMPC.LQRSolution{Float64},RigidBodyDynamics.MechanismState{Float64,Float64,Float64,TypeSortedCollections.TypeSortedCollection{Tuple{Array{RigidBodyDynamics.Joint{Float64,RigidBodyDynamics.Fixed{Float64}},1},Array{RigidBodyDynamics.Joint{Float64,RigidBodyDynamics.Planar{Float64}},1},Array{RigidBodyDynamics.Joint{Float64,RigidBodyDynamics.Revolute{Float64}},1},Array{RigidBodyDynamics.Joint{Float64,RigidBodyDynamics.Prismatic{Float64}},1}},4}},RigidBodyDynamics.MechanismState{Float64,Float64,Float64,TypeSortedCollections.TypeSortedCollection{Tuple{Array{RigidBodyDynamics.Joint{Float64,RigidBodyDynamics.Planar{Float64}},1},Array{RigidBodyDynamics.Joint{Float64,RigidBodyDynamics.Revolute{Float64}},1},Array{RigidBodyDynamics.Joint{Float64,RigidBodyDynamics.Fixed{Float64}},1}},3}},IKMimic.IKMimicWorkspace{Float64},IKMimic.SensitivityWorkspace{Float64},Array{Tuple{Bool,Bool},2},Array{QPControl.MPCController{4,Gurobi.GurobiOptimizer,RigidBodyDynamics.Mechanism{Float64},RigidBodyDynamics.MechanismState{Float64,Float64,Float64,TypeSortedCollections.TypeSortedCollection{Tuple{Array{RigidBodyDynamics.Joint{Float64,RigidBodyDynamics.Planar{Float64}},1},Array{RigidBodyDynamics.Joint{Float64,RigidBodyDynamics.Revolute{Float64}},1},Array{RigidBodyDynamics.Joint{Float64,RigidBodyDynamics.Fixed{Float64}},1}},3}}},2},Array{Array{Float64,1},2},Array{Float64,1}},LearningMPC.##57#58{Array{RigidBodyDynamics.Bounds{Float64},1}}}},DiffEqBase.#INITIALIZE_DEFAULT}},Float64,Base.RefValue{Float64}},DiffEqCallbacks.##42#45{RigidBodySim.Control.##3#5{RigidBodySim.Control.PeriodicController{RigidBodyDynamics.CustomCollections.SegmentedVector{RigidBodyDynamics.JointID,Float64,Base.OneTo{RigidBodyDynamics.JointID},Array{Float64,1}},Float64,LearningMPC.##55#56{Tuple{#control#271{LearningMPC.LQRSolution{Float64},RigidBodyDynamics.MechanismState{Float64,Float64,Float64,TypeSortedCollections.TypeSortedCollection{Tuple{Array{RigidBodyDynamics.Joint{Float64,RigidBodyDynamics.Fixed{Float64}},1},Array{RigidBodyDynamics.Joint{Float64,RigidBodyDynamics.Planar{Float64}},1},Array{RigidBodyDynamics.Joint{Float64,RigidBodyDynamics.Revolute{Float64}},1},Array{RigidBodyDynamics.Joint{Float64,RigidBodyDynamics.Prismatic{Float64}},1}},4}},RigidBodyDynamics.MechanismState{Float64,Float64,Float64,TypeSortedCollections.TypeSortedCollection{Tuple{Array{RigidBodyDynamics.Joint{Float64,RigidBodyDynamics.Planar{Float64}},1},Array{RigidBodyDynamics.Joint{Float64,RigidBodyDynamics.Revolute{Float64}},1},Array{RigidBodyDynamics.Joint{Float64,RigidBodyDynamics.Fixed{Float64}},1}},3}},IKMimic.IKMimicWorkspace{Float64},IKMimic.SensitivityWorkspace{Float64},Array{Tuple{Bool,Bool},2},Array{QPControl.MPCController{4,Gurobi.GurobiOptimizer,RigidBodyDynamics.Mechanism{Float64},RigidBodyDynamics.MechanismState{Float64,Float64,Float64,TypeSortedCollections.TypeSortedCollection{Tuple{Array{RigidBodyDynamics.Joint{Float64,RigidBodyDynamics.Planar{Float64}},1},Array{RigidBodyDynamics.Joint{Float64,RigidBodyDynamics.Revolute{Float64}},1},Array{RigidBodyDynamics.Joint{Float64,RigidBodyDynamics.Fixed{Float64}},1}},3}}},2},Array{Array{Float64,1},2},Array{Float64,1}},LearningMPC.##57#58{Array{RigidBodyDynamics.Bounds{Float64},1}}}},DiffEqBase.#INITIALIZE_DEFAULT}},Bool,Float64,Base.RefValue{Float64},DiffEqCallbacks.##41#44{RigidBodySim.Control.##4#6{RigidBodySim.Control.PeriodicController{RigidBodyDynamics.CustomCollections.SegmentedVector{RigidBodyDynamics.JointID,Float64,Base.OneTo{RigidBodyDynamics.JointID},Array{Float64,1}},Float64,LearningMPC.##55#56{Tuple{#control#271{LearningMPC.LQRSolution{Float64},RigidBodyDynamics.MechanismState{Float64,Float64,Float64,TypeSortedCollections.TypeSortedCollection{Tuple{Array{RigidBodyDynamics.Joint{Float64,RigidBodyDynamics.Fixed{Float64}},1},Array{RigidBodyDynamics.Joint{Float64,RigidBodyDynamics.Planar{Float64}},1},Array{RigidBodyDynamics.Joint{Float64,RigidBodyDynamics.Revolute{Float64}},1},Array{RigidBodyDynamics.Joint{Float64,RigidBodyDynamics.Prismatic{Float64}},1}},4}},RigidBodyDynamics.MechanismState{Float64,Float64,Float64,TypeSortedCollections.TypeSortedCollection{Tuple{Array{RigidBodyDynamics.Joint{Float64,RigidBodyDynamics.Planar{Float64}},1},Array{RigidBodyDynamics.Joint{Float64,RigidBodyDynamics.Revolute{Float64}},1},Array{RigidBodyDynamics.Joint{Float64,RigidBodyDynamics.Fixed{Float64}},1}},3}},IKMimic.IKMimicWorkspace{Float64},IKMimic.SensitivityWorkspace{Float64},Array{Tuple{Bool,Bool},2},Array{QPControl.MPCController{4,Gurobi.GurobiOptimizer,RigidBodyDynamics.Mechanism{Float64},RigidBodyDynamics.MechanismState{Float64,Float64,Float64,TypeSortedCollections.TypeSortedCollection{Tuple{Array{RigidBodyDynamics.Joint{Float64,RigidBodyDynamics.Planar{Float64}},1},Array{RigidBodyDynamics.Joint{Float64,RigidBodyDynamics.Revolute{Float64}},1},Array{RigidBodyDynamics.Joint{Float64,RigidBodyDynamics.Fixed{Float64}},1}},3}}},2},Array{Array{Float64,1},2},Array{Float64,1}},LearningMPC.##57#58{Array{RigidBodyDynamics.Bounds{Float64},1}}}},DiffEqBase.#INITIALIZE_DEFAULT}},Float64,Base.RefValue{Float64}}}}}},UniformScaling{Int64},DiffEqBase.StandardODEProblem}, ::OrdinaryDiffEq.Tsit5, ::Array{Any,1}, ::Array{Any,1}, ::Array{Any,1}, ::Type{Val{true}}\u001b[1m)\u001b[22m\u001b[22m at \u001b[1m./<missing>:0\u001b[22m\u001b[22m (repeats 2 times)",
      " [15] \u001b[1minclude_string\u001b[22m\u001b[22m\u001b[1m(\u001b[22m\u001b[22m::String, ::String\u001b[1m)\u001b[22m\u001b[22m at \u001b[1m./loading.jl:522\u001b[22m\u001b[22m"
     ]
    }
   ],
   "source": [
    "state = nominal_state(atlas)\n",
    "# set_velocity!(state, findjoint(mechanism(atlas), \"floating_base\"), [-0.3, 0, 0])\n",
    "problem = LearningMPC.simulation_problem(state, mixed_control, 0.01, 0.2)\n",
    "@time sol = RigidBodySim.solve(problem, Tsit5(), abs_tol = 1e-8, dt = 1e-6);\n",
    "setanimation!(mvis_a, sol)"
   ]
  },
  {
   "cell_type": "code",
   "execution_count": null,
   "metadata": {},
   "outputs": [],
   "source": []
  },
  {
   "cell_type": "code",
   "execution_count": null,
   "metadata": {},
   "outputs": [],
   "source": []
  }
 ],
 "metadata": {
  "kernelspec": {
   "display_name": "Julia multithread 0.6.3",
   "language": "julia",
   "name": "julia-multithread-0.6"
  },
  "language_info": {
   "file_extension": ".jl",
   "mimetype": "application/julia",
   "name": "julia",
   "version": "0.6.3"
  }
 },
 "nbformat": 4,
 "nbformat_minor": 2
}
