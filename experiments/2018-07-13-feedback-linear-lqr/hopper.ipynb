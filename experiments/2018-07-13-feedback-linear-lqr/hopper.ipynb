{
 "cells": [
  {
   "cell_type": "code",
   "execution_count": 3,
   "metadata": {},
   "outputs": [],
   "source": [
    "using Revise"
   ]
  },
  {
   "cell_type": "code",
   "execution_count": 38,
   "metadata": {},
   "outputs": [
    {
     "name": "stderr",
     "output_type": "stream",
     "text": [
      "\u001b[1m\u001b[36mINFO: \u001b[39m\u001b[22m\u001b[36mRecompiling stale cache file /home/rdeits/locomotion/explorations/learning-mpc-2/packages/lib/v0.6/Gurobi.ji for module Gurobi.\n",
      "\u001b[39m"
     ]
    }
   ],
   "source": [
    "using RigidBodyDynamics\n",
    "using RigidBodyDynamics: Contact\n",
    "using MeshCatMechanisms\n",
    "using MeshCat\n",
    "using StaticArrays\n",
    "using Blink: Window\n",
    "using OSQP.MathOptInterfaceOSQP\n",
    "using QPControl\n",
    "import MathOptInterface\n",
    "const MOI = MathOptInterface\n",
    "using RigidBodySim\n",
    "using Gurobi"
   ]
  },
  {
   "cell_type": "code",
   "execution_count": 5,
   "metadata": {},
   "outputs": [
    {
     "data": {
      "text/plain": [
       "Blink.AtomShell.Window(1, Blink.AtomShell.Electron(Process(`/home/rdeits/locomotion/explorations/learning-mpc-2/packages/v0.6/Blink/deps/atom/electron /home/rdeits/locomotion/explorations/learning-mpc-2/packages/v0.6/Blink/src/AtomShell/main.js port 7335`, ProcessRunning), TCPSocket(RawFD(57) active, 0 bytes waiting), Dict{String,Any}(Pair{String,Any}(\"callback\", Blink.#3))), Blink.Page(1, WebSockets.WebSocket{TCPSocket}(TCPSocket(RawFD(59) active, 0 bytes waiting), true, CONNECTED::WebSockets.ReadyState = 1), Dict{String,Any}(Pair{String,Any}(\"webio\", WebIO.#109),Pair{String,Any}(\"callback\", Blink.#3)), Future(1, 1, 1, Nullable{Any}(true))))"
      ]
     },
     "execution_count": 5,
     "metadata": {},
     "output_type": "execute_result"
    }
   ],
   "source": [
    "vis = Visualizer()\n",
    "open(vis, Window())"
   ]
  },
  {
   "cell_type": "code",
   "execution_count": 118,
   "metadata": {},
   "outputs": [
    {
     "data": {
      "text/plain": [
       "defaultoptimizer (generic function with 1 method)"
      ]
     },
     "execution_count": 118,
     "metadata": {},
     "output_type": "execute_result"
    }
   ],
   "source": [
    "function defaultoptimizer()\n",
    "    optimizer = OSQPOptimizer()\n",
    "    MOI.set!(optimizer, OSQPSettings.Verbose(), false)\n",
    "    MOI.set!(optimizer, OSQPSettings.EpsAbs(), 1e-5)\n",
    "    MOI.set!(optimizer, OSQPSettings.EpsRel(), 1e-5)\n",
    "    MOI.set!(optimizer, OSQPSettings.MaxIter(), 5000)\n",
    "    MOI.set!(optimizer, OSQPSettings.AdaptiveRhoInterval(), 25) # required for deterministic behavior\n",
    "    MOI.set!(optimizer, OSQPSettings.WarmStart(), false)\n",
    "    optimizer\n",
    "#     GurobiOptimizer(OutputFlag=0)\n",
    "end"
   ]
  },
  {
   "cell_type": "code",
   "execution_count": 119,
   "metadata": {},
   "outputs": [],
   "source": [
    "world = RigidBody{Float64}(\"world\")\n",
    "hopper = Mechanism(world; gravity=SVector(0, 0, -9.81))\n",
    "\n",
    "frame = CartesianFrame3D(\"core\")\n",
    "inertia = SpatialInertia(frame, SDiagonal(1., 1, 1), SVector(0., 0, 0), 10.)\n",
    "core = RigidBody(inertia)\n",
    "joint = Joint(\"floating_base\", Prismatic(SVector(0., 0, 1)))\n",
    "attach!(hopper, world, core, joint)\n",
    "position_bounds(joint) .= RigidBodyDynamics.Bounds(0, 10)\n",
    "velocity_bounds(joint) .= RigidBodyDynamics.Bounds(-1000, 1000)\n",
    "effort_bounds(joint) .= RigidBodyDynamics.Bounds(0, 0)\n",
    "\n",
    "frame = CartesianFrame3D(\"foot\")\n",
    "inertia = SpatialInertia(frame, SDiagonal(0.05, 0.05, 0.05), SVector(0., 0, 0), 1.0)\n",
    "foot = RigidBody(inertia)\n",
    "joint = Joint(\"foot_extension\", Prismatic(SVector(0., 0, 1)))\n",
    "attach!(hopper, core, foot, joint)\n",
    "position_bounds(joint) .= RigidBodyDynamics.Bounds(-1., -0.5)\n",
    "velocity_bounds(joint) .= RigidBodyDynamics.Bounds(-1000, 1000)\n",
    "effort_bounds(joint) .= RigidBodyDynamics.Bounds(-200, 200)\n",
    "\n",
    "\n",
    "floor = HalfSpace3D(Point3D(default_frame(world), 0., 0, 0), FreeVector3D(default_frame(world), 0., 0, 1))\n",
    "add_environment_primitive!(hopper, floor)\n",
    "contactmodel = SoftContactModel(hunt_crossley_hertz(k = 500e3), ViscoelasticCoulombModel(0.8, 20e3, 100.))\n",
    "add_contact_point!(foot, Contact.ContactPoint(Point3D(default_frame(foot), 0., 0, 0), contactmodel))"
   ]
  },
  {
   "cell_type": "code",
   "execution_count": 120,
   "metadata": {},
   "outputs": [
    {
     "data": {
      "text/plain": [
       "initialize! (generic function with 1 method)"
      ]
     },
     "execution_count": 120,
     "metadata": {},
     "output_type": "execute_result"
    }
   ],
   "source": [
    "function initialize!(state::MechanismState)\n",
    "    set_configuration!(state, [1, -1])\n",
    "    set_velocity!(state, [0, 0])\n",
    "    set_additional_state!(state, zeros(Float64, num_additional_states(state)))\n",
    "    state\n",
    "end"
   ]
  },
  {
   "cell_type": "code",
   "execution_count": 121,
   "metadata": {},
   "outputs": [],
   "source": [
    "delete!(vis)\n",
    "mvis = MechanismVisualizer(hopper, Skeleton(randomize_colors=true), vis)\n",
    "copy!(mvis, initialize!(MechanismState(hopper)))"
   ]
  },
  {
   "cell_type": "code",
   "execution_count": 122,
   "metadata": {},
   "outputs": [
    {
     "data": {
      "text/plain": [
       "2×2 Array{Float64,2}:\n",
       " 0.01  0.0 \n",
       " 0.0   0.01"
      ]
     },
     "execution_count": 122,
     "metadata": {},
     "output_type": "execute_result"
    }
   ],
   "source": [
    "Δt = 0.01\n",
    "\n",
    "mpc_controller = QPControl.MPCController{4}(hopper, defaultoptimizer())\n",
    "\n",
    "stage = QPControl.addstage!(mpc_controller, Δt)\n",
    "for surface in hopper.environment.halfspaces\n",
    "    for body in bodies(hopper)\n",
    "        for contact_point in contact_points(body)\n",
    "            controller_contact = QPControl.addcontact!(stage,\n",
    "                body,\n",
    "                location(contact_point),\n",
    "                FreeVector3D(default_frame(body), 0., 0, 1),\n",
    "                0.8,\n",
    "                surface\n",
    "            )\n",
    "            controller_contact.maxnormalforce = 1e9\n",
    "        end\n",
    "    end\n",
    "end\n",
    "\n",
    "mpc_controller.running_state_cost.Q .= Diagonal([100., 1., 1., 0.1])\n",
    "mpc_controller.running_state_cost.x0 .= [1., -1., 0., 0.]\n",
    "mpc_controller.running_input_cost.Q .= Diagonal([0.01, 0.01])"
   ]
  },
  {
   "cell_type": "code",
   "execution_count": 123,
   "metadata": {},
   "outputs": [
    {
     "data": {
      "text/plain": [
       "2-element RigidBodyDynamics.CustomCollections.SegmentedVector{RigidBodyDynamics.JointID,Float64,Base.OneTo{RigidBodyDynamics.JointID},Array{Float64,1}}:\n",
       "   0.000477916\n",
       " -98.0833     "
      ]
     },
     "execution_count": 123,
     "metadata": {},
     "output_type": "execute_result"
    }
   ],
   "source": [
    "state = initialize!(MechanismState(hopper))\n",
    "τ = similar(velocity(state))\n",
    "mpc_controller(τ, 0.0, state)\n",
    "τ"
   ]
  },
  {
   "cell_type": "code",
   "execution_count": 124,
   "metadata": {},
   "outputs": [
    {
     "data": {
      "text/plain": [
       "true"
      ]
     },
     "execution_count": 124,
     "metadata": {},
     "output_type": "execute_result"
    },
    {
     "name": "stderr",
     "output_type": "stream",
     "text": [
      "\u001b[91mERROR (unhandled task failure): \u001b[91mOutOfMemoryError()\u001b[39m\n",
      "Stacktrace:\n",
      " [1] \u001b[1msetindex!\u001b[22m\u001b[22m\u001b[1m(\u001b[22m\u001b[22m::ObjectIdDict, ::Any, ::Any\u001b[1m)\u001b[22m\u001b[22m at \u001b[1m./associative.jl:430\u001b[22m\u001b[22m\n",
      " [2] \u001b[1mpreserve_handle\u001b[22m\u001b[22m at \u001b[1m./libuv.jl:51\u001b[22m\u001b[22m [inlined]\n",
      " [3] \u001b[1mstream_wait\u001b[22m\u001b[22m\u001b[1m(\u001b[22m\u001b[22m::Timer, ::Condition, ::Vararg{Condition,N} where N\u001b[1m)\u001b[22m\u001b[22m at \u001b[1m./stream.jl:40\u001b[22m\u001b[22m\n",
      " [4] \u001b[1mwait\u001b[22m\u001b[22m\u001b[1m(\u001b[22m\u001b[22m::Timer\u001b[1m)\u001b[22m\u001b[22m at \u001b[1m./event.jl:357\u001b[22m\u001b[22m\n",
      " [5] \u001b[1m(::Base.##302#303{IJulia.#send_stdout,Timer})\u001b[22m\u001b[22m\u001b[1m(\u001b[22m\u001b[22m\u001b[1m)\u001b[22m\u001b[22m at \u001b[1m./event.jl:430\u001b[22m\u001b[22m\n",
      "\u001b[39m"
     ]
    }
   ],
   "source": [
    "state = initialize!(MechanismState(hopper))\n",
    "set_configuration!(state, [0.5, -0.5])\n",
    "controller = PeriodicController(similar(velocity(state)), Δt, mpc_controller)\n",
    "dynamics = Dynamics(hopper, controller)\n",
    "problem = ODEProblem(dynamics, state, (0., 10.0))\n",
    "sol = RigidBodySim.solve(problem, Tsit5(), abs_tol = 1e-8, dt = 1e-6, force_dtmin=true)\n",
    "setanimation!(mvis, sol)"
   ]
  },
  {
   "cell_type": "code",
   "execution_count": null,
   "metadata": {},
   "outputs": [],
   "source": []
  }
 ],
 "metadata": {
  "kernelspec": {
   "display_name": "Julia 0.6.4",
   "language": "julia",
   "name": "julia-0.6"
  },
  "language_info": {
   "file_extension": ".jl",
   "mimetype": "application/julia",
   "name": "julia",
   "version": "0.6.4"
  }
 },
 "nbformat": 4,
 "nbformat_minor": 2
}
