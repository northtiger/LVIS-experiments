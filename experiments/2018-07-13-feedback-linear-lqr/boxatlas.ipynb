{
 "cells": [
  {
   "cell_type": "code",
   "execution_count": 1,
   "metadata": {},
   "outputs": [],
   "source": [
    "using Revise"
   ]
  },
  {
   "cell_type": "code",
   "execution_count": 2,
   "metadata": {},
   "outputs": [
    {
     "data": {
      "text/html": [
       "    <script class='js-collapse-script'>\n",
       "        var curMatch =\n",
       "            window.location.href\n",
       "            .match(/(.*?)\\/notebooks\\/.*\\.ipynb/);\n",
       "\n",
       "        curMatch = curMatch ||\n",
       "            window.location.href\n",
       "            .match(/(.*?)\\/apps\\/.*\\.ipynb/);\n",
       "\n",
       "        if ( curMatch ) {\n",
       "            $('head').append('<base href=\"' + curMatch[1] + '/\">');\n",
       "        }\n",
       "    </script>\n"
      ],
      "text/plain": [
       "HTML{String}(\"    <script class='js-collapse-script'>\\n        var curMatch =\\n            window.location.href\\n            .match(/(.*?)\\\\/notebooks\\\\/.*\\\\.ipynb/);\\n\\n        curMatch = curMatch ||\\n            window.location.href\\n            .match(/(.*?)\\\\/apps\\\\/.*\\\\.ipynb/);\\n\\n        if ( curMatch ) {\\n            \\$('head').append('<base href=\\\"' + curMatch[1] + '/\\\">');\\n        }\\n    </script>\\n\")"
      ]
     },
     "metadata": {},
     "output_type": "display_data"
    },
    {
     "data": {
      "text/html": [
       "<script class='js-collapse-script' src='/assetserver/9db0e137604e898c25f194d972715156bd46cb81-assets/webio/dist/bundle.js'></script>"
      ],
      "text/plain": [
       "HTML{String}(\"<script class='js-collapse-script' src='/assetserver/9db0e137604e898c25f194d972715156bd46cb81-assets/webio/dist/bundle.js'></script>\")"
      ]
     },
     "metadata": {},
     "output_type": "display_data"
    },
    {
     "data": {
      "text/html": [
       "<script class='js-collapse-script' src='/assetserver/9db0e137604e898c25f194d972715156bd46cb81-assets/providers/ijulia_setup.js'></script>"
      ],
      "text/plain": [
       "HTML{String}(\"<script class='js-collapse-script' src='/assetserver/9db0e137604e898c25f194d972715156bd46cb81-assets/providers/ijulia_setup.js'></script>\")"
      ]
     },
     "metadata": {},
     "output_type": "display_data"
    },
    {
     "data": {
      "text/html": [
       "  <script class='js-collapse-script'>\n",
       "    $('.js-collapse-script').parent('.output_subarea').css('padding', '0');\n",
       "  </script>\n"
      ],
      "text/plain": [
       "HTML{String}(\"  <script class='js-collapse-script'>\\n    \\$('.js-collapse-script').parent('.output_subarea').css('padding', '0');\\n  </script>\\n\")"
      ]
     },
     "metadata": {},
     "output_type": "display_data"
    },
    {
     "name": "stderr",
     "output_type": "stream",
     "text": [
      "\u001b[1m\u001b[36mINFO: \u001b[39m\u001b[22m\u001b[36mLoading HttpServer methods...\n",
      "\u001b[39m\u001b[1m\u001b[36mINFO: \u001b[39m\u001b[22m\u001b[36mRecompiling stale cache file /home/rdeits/locomotion/explorations/learning-mpc-2/packages/lib/v0.6/LCPSim.ji for module LCPSim.\n",
      "\u001b[39mWARNING: using Blink.@js in module InteractBase conflicts with an existing identifier.\n",
      "\u001b[1m\u001b[36mINFO: \u001b[39m\u001b[22m\u001b[36mRecompiling stale cache file /home/rdeits/locomotion/explorations/learning-mpc-2/packages/lib/v0.6/LearningMPC.ji for module LearningMPC.\n",
      "\u001b[39mWARNING: using Juno.input in module InteractBase conflicts with an existing identifier.\n"
     ]
    }
   ],
   "source": [
    "using MeshCatMechanisms\n",
    "using MeshCat\n",
    "using RigidBodyDynamics\n",
    "using LCPSim\n",
    "using AtlasRobot\n",
    "using Blink\n",
    "using RigidBodyDynamics\n",
    "using Rotations\n",
    "using LearningMPC\n",
    "using LearningMPC.Models\n",
    "using Gurobi\n",
    "using StaticArrays\n",
    "using RigidBodySim"
   ]
  },
  {
   "cell_type": "code",
   "execution_count": 28,
   "metadata": {},
   "outputs": [
    {
     "data": {
      "text/plain": [
       "Blink.AtomShell.Window(1, Blink.AtomShell.Electron(Process(`/home/rdeits/locomotion/explorations/learning-mpc-2/packages/v0.6/Blink/deps/atom/electron /home/rdeits/locomotion/explorations/learning-mpc-2/packages/v0.6/Blink/src/AtomShell/main.js port 2997`, ProcessRunning), TCPSocket(RawFD(77) active, 0 bytes waiting), Dict{String,Any}(Pair{String,Any}(\"callback\", Blink.#3))), Blink.Page(4, WebSockets.WebSocket{TCPSocket}(TCPSocket(RawFD(82) active, 0 bytes waiting), true, CONNECTED::WebSockets.ReadyState = 1), Dict{String,Any}(Pair{String,Any}(\"webio\", WebIO.#111),Pair{String,Any}(\"callback\", Blink.#3)), Future(1, 1, 4, Nullable{Any}(true))))"
      ]
     },
     "execution_count": 28,
     "metadata": {},
     "output_type": "execute_result"
    }
   ],
   "source": [
    "boxatlas = BoxAtlas();\n",
    "\n",
    "mvis = MechanismVisualizer(boxatlas)\n",
    "open(mvis, Window())"
   ]
  },
  {
   "cell_type": "code",
   "execution_count": 33,
   "metadata": {},
   "outputs": [
    {
     "name": "stdout",
     "output_type": "stream",
     "text": [
      "Academic license - for non-commercial use only\n",
      "Academic license - for non-commercial use only\n",
      "Academic license - for non-commercial use only\n",
      "Academic license - for non-commercial use only\n"
     ]
    },
    {
     "name": "stderr",
     "output_type": "stream",
     "text": [
      "WARNING: Method definition default_costs(LearningMPC.Models.BoxAtlas{T} where T) in module Models at /home/rdeits/locomotion/explorations/learning-mpc-2/packages/v0.6/LearningMPC/src/Models/boxatlas.jl:50 overwritten at /home/rdeits/locomotion/explorations/learning-mpc-2/packages/v0.6/LearningMPC/src/Models/boxatlas.jl:50.\n",
      "WARNING: Method definition default_costs(LearningMPC.Models.BoxAtlas{T} where T, Any) in module Models at /home/rdeits/locomotion/explorations/learning-mpc-2/packages/v0.6/LearningMPC/src/Models/boxatlas.jl:50 overwritten at /home/rdeits/locomotion/explorations/learning-mpc-2/packages/v0.6/LearningMPC/src/Models/boxatlas.jl:50.\n"
     ]
    },
    {
     "data": {
      "text/plain": [
       "(::MPCController) (generic function with 1 method)"
      ]
     },
     "execution_count": 33,
     "metadata": {},
     "output_type": "execute_result"
    }
   ],
   "source": [
    "lqrsol = LQRSolution(boxatlas)\n",
    "mpc_params = MPCParams(boxatlas)\n",
    "# push!(mpc_params.mip_solver.options, (:TimeLimit, 1))\n",
    "mpc_params.horizon = 1\n",
    "\n",
    "lqr_mpc_controller = MPCController(boxatlas, mpc_params, lqrsol, Function[lqrsol])"
   ]
  },
  {
   "cell_type": "code",
   "execution_count": 35,
   "metadata": {},
   "outputs": [
    {
     "name": "stderr",
     "output_type": "stream",
     "text": [
      "\u001b[32mProgress: 100%|█████████████████████████████████████████| Time: 0:00:52\u001b[39m\n"
     ]
    },
    {
     "data": {
      "text/plain": [
       "true"
      ]
     },
     "execution_count": 35,
     "metadata": {},
     "output_type": "execute_result"
    }
   ],
   "source": [
    "x0 = nominal_state(boxatlas)\n",
    "set_velocity!(x0, findjoint(mechanism(boxatlas), \"floating_base\"), [-1, 0., 0])\n",
    "results = LCPSim.simulate(x0, lqr_mpc_controller, environment(boxatlas), 0.01, 300, mpc_params.lcp_solver)\n",
    "\n",
    "setanimation!(mvis, results)"
   ]
  },
  {
   "cell_type": "code",
   "execution_count": 36,
   "metadata": {},
   "outputs": [
    {
     "name": "stderr",
     "output_type": "stream",
     "text": [
      "\u001b[32mProgress: 100%|█████████████████████████████████████████| Time: 0:00:58\u001b[39m\n"
     ]
    },
    {
     "data": {
      "text/plain": [
       "true"
      ]
     },
     "execution_count": 36,
     "metadata": {},
     "output_type": "execute_result"
    }
   ],
   "source": [
    "append!(results, LCPSim.simulate(x0, lqr_mpc_controller, environment(boxatlas), 0.01, 300, mpc_params.lcp_solver))\n",
    "\n",
    "setanimation!(mvis, results)"
   ]
  },
  {
   "cell_type": "code",
   "execution_count": null,
   "metadata": {},
   "outputs": [],
   "source": []
  }
 ],
 "metadata": {
  "kernelspec": {
   "display_name": "Julia 0.6.3",
   "language": "julia",
   "name": "julia-0.6"
  },
  "language_info": {
   "file_extension": ".jl",
   "mimetype": "application/julia",
   "name": "julia",
   "version": "0.6.3"
  }
 },
 "nbformat": 4,
 "nbformat_minor": 2
}
