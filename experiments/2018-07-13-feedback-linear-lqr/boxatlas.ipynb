{
 "cells": [
  {
   "cell_type": "code",
   "execution_count": 1,
   "metadata": {},
   "outputs": [],
   "source": [
    "using Revise"
   ]
  },
  {
   "cell_type": "code",
   "execution_count": 2,
   "metadata": {},
   "outputs": [
    {
     "data": {
      "text/html": [
       "    <script class='js-collapse-script'>\n",
       "        var curMatch =\n",
       "            window.location.href\n",
       "            .match(/(.*?)\\/notebooks\\/.*\\.ipynb/);\n",
       "\n",
       "        curMatch = curMatch ||\n",
       "            window.location.href\n",
       "            .match(/(.*?)\\/apps\\/.*\\.ipynb/);\n",
       "\n",
       "        if ( curMatch ) {\n",
       "            $('head').append('<base href=\"' + curMatch[1] + '/\">');\n",
       "        }\n",
       "    </script>\n"
      ],
      "text/plain": [
       "HTML{String}(\"    <script class='js-collapse-script'>\\n        var curMatch =\\n            window.location.href\\n            .match(/(.*?)\\\\/notebooks\\\\/.*\\\\.ipynb/);\\n\\n        curMatch = curMatch ||\\n            window.location.href\\n            .match(/(.*?)\\\\/apps\\\\/.*\\\\.ipynb/);\\n\\n        if ( curMatch ) {\\n            \\$('head').append('<base href=\\\"' + curMatch[1] + '/\\\">');\\n        }\\n    </script>\\n\")"
      ]
     },
     "metadata": {},
     "output_type": "display_data"
    },
    {
     "data": {
      "text/html": [
       "<script class='js-collapse-script' src='/assetserver/9db0e137604e898c25f194d972715156bd46cb81-assets/webio/dist/bundle.js'></script>"
      ],
      "text/plain": [
       "HTML{String}(\"<script class='js-collapse-script' src='/assetserver/9db0e137604e898c25f194d972715156bd46cb81-assets/webio/dist/bundle.js'></script>\")"
      ]
     },
     "metadata": {},
     "output_type": "display_data"
    },
    {
     "data": {
      "text/html": [
       "<script class='js-collapse-script' src='/assetserver/9db0e137604e898c25f194d972715156bd46cb81-assets/providers/ijulia_setup.js'></script>"
      ],
      "text/plain": [
       "HTML{String}(\"<script class='js-collapse-script' src='/assetserver/9db0e137604e898c25f194d972715156bd46cb81-assets/providers/ijulia_setup.js'></script>\")"
      ]
     },
     "metadata": {},
     "output_type": "display_data"
    },
    {
     "data": {
      "text/html": [
       "  <script class='js-collapse-script'>\n",
       "    $('.js-collapse-script').parent('.output_subarea').css('padding', '0');\n",
       "  </script>\n"
      ],
      "text/plain": [
       "HTML{String}(\"  <script class='js-collapse-script'>\\n    \\$('.js-collapse-script').parent('.output_subarea').css('padding', '0');\\n  </script>\\n\")"
      ]
     },
     "metadata": {},
     "output_type": "display_data"
    },
    {
     "name": "stderr",
     "output_type": "stream",
     "text": [
      "\u001b[1m\u001b[36mINFO: \u001b[39m\u001b[22m\u001b[36mLoading HttpServer methods...\n",
      "\u001b[39mWARNING: using Blink.@js in module InteractBase conflicts with an existing identifier.\n",
      "\u001b[1m\u001b[36mINFO: \u001b[39m\u001b[22m\u001b[36mRecompiling stale cache file /home/rdeits/locomotion/explorations/learning-mpc-2/packages/lib/v0.6/LearningMPC.ji for module LearningMPC.\n",
      "\u001b[39mWARNING: using SimpleQP.@objective in module LearningMPC conflicts with an existing identifier.\n",
      "WARNING: using SimpleQP.Model in module LearningMPC conflicts with an existing identifier.\n",
      "WARNING: using Juno.input in module InteractBase conflicts with an existing identifier.\n"
     ]
    }
   ],
   "source": [
    "using MeshCatMechanisms\n",
    "using RigidBodyDynamics\n",
    "using RigidBodyDynamics.Contact\n",
    "using LCPSim\n",
    "using Blink\n",
    "using LearningMPC\n",
    "using LearningMPC.Models\n",
    "using RigidBodySim"
   ]
  },
  {
   "cell_type": "code",
   "execution_count": 43,
   "metadata": {},
   "outputs": [
    {
     "name": "stderr",
     "output_type": "stream",
     "text": [
      "WARNING: Method definition build_mixed_controller(Any, Any, AbstractArray{#s246, 1} where #s246<:Tuple{RigidBodyDynamics.Spatial.Point3D{V} where V<:(AbstractArray{T, 1} where T), RigidBodyDynamics.Contact.HalfSpace3D{T} where T}) in module LearningMPC at /home/rdeits/locomotion/explorations/learning-mpc-2/packages/v0.6/LearningMPC/src/simpleqp.jl:57 overwritten at /home/rdeits/locomotion/explorations/learning-mpc-2/packages/v0.6/LearningMPC/src/simpleqp.jl:57.\n"
     ]
    },
    {
     "data": {
      "text/plain": [
       "Blink.AtomShell.Window(1, Blink.AtomShell.Electron(Process(`/home/rdeits/locomotion/explorations/learning-mpc-2/packages/v0.6/Blink/deps/atom/electron /home/rdeits/locomotion/explorations/learning-mpc-2/packages/v0.6/Blink/src/AtomShell/main.js port 7606`, ProcessRunning), TCPSocket(RawFD(68) active, 0 bytes waiting), Dict{String,Any}(Pair{String,Any}(\"callback\", Blink.#3))), Blink.Page(3, WebSockets.WebSocket{TCPSocket}(TCPSocket(RawFD(73) active, 0 bytes waiting), true, CONNECTED::WebSockets.ReadyState = 1), Dict{String,Any}(Pair{String,Any}(\"webio\", WebIO.#109),Pair{String,Any}(\"callback\", Blink.#3)), Future(1, 1, 3, Nullable{Any}(true))))"
      ]
     },
     "execution_count": 43,
     "metadata": {},
     "output_type": "execute_result"
    }
   ],
   "source": [
    "boxatlas = BoxAtlas();\n",
    "\n",
    "mvis = MechanismVisualizer(boxatlas)\n",
    "open(mvis, Window())"
   ]
  },
  {
   "cell_type": "code",
   "execution_count": 55,
   "metadata": {},
   "outputs": [
    {
     "name": "stdout",
     "output_type": "stream",
     "text": [
      "Academic license - for non-commercial use only\n",
      "Academic license - for non-commercial use only\n",
      "Academic license - for non-commercial use only\n",
      "Academic license - for non-commercial use only\n",
      "contact_state = (true, true)\n",
      "contact_state = (false, true)\n",
      "contact_state = (true, false)\n",
      "contact_state = (false, false)\n"
     ]
    },
    {
     "name": "stderr",
     "output_type": "stream",
     "text": [
      "WARNING: Method definition build_mixed_controller(Any, Any, AbstractArray{#s246, 1} where #s246<:Tuple{RigidBodyDynamics.Spatial.Point3D{V} where V<:(AbstractArray{T, 1} where T), RigidBodyDynamics.Contact.HalfSpace3D{T} where T}) in module LearningMPC at /home/rdeits/locomotion/explorations/learning-mpc-2/packages/v0.6/LearningMPC/src/simpleqp.jl:57 overwritten at /home/rdeits/locomotion/explorations/learning-mpc-2/packages/v0.6/LearningMPC/src/simpleqp.jl:57.\n"
     ]
    }
   ],
   "source": [
    "lqrsol = LQRSolution(boxatlas)\n",
    "mpc_params = MPCParams(boxatlas)\n",
    "# push!(mpc_params.mip_solver.options, (:TimeLimit, 1))\n",
    "mpc_params.horizon = 1\n",
    "\n",
    "lqr_mpc_controller = MPCController(boxatlas, mpc_params, lqrsol, Function[lqrsol])\n",
    "\n",
    "mixed_control, lowlevel_controllers = LearningMPC.build_mixed_controller(mechanism(boxatlas), lqrsol,\n",
    "    vcat(\n",
    "        [\n",
    "            (Point3D(default_frame(findbody(mechanism(boxatlas), bodyname)), 0., 0, 0),\n",
    "             HalfSpace3D(Point3D(root_frame(mechanism(boxatlas)), 0., 0., 0),\n",
    "                         FreeVector3D(root_frame(mechanism(boxatlas)), 0., 0, 1)))\n",
    "            for bodyname in [\"r_foot_sole\", \"l_foot_sole\"]\n",
    "        ],\n",
    "#         [\n",
    "#             (Point3D(default_frame(findbody(mechanism(boxatlas), \"l_hand_mount\")), 0., 0, 0),\n",
    "#              HalfSpace3D(Point3D(root_frame(mechanism(boxatlas)), 0., 1., 0),\n",
    "#                          FreeVector3D(root_frame(mechanism(boxatlas)), 0., -1, 0)))\n",
    "#         ]\n",
    "    ));"
   ]
  },
  {
   "cell_type": "code",
   "execution_count": 56,
   "metadata": {},
   "outputs": [
    {
     "data": {
      "text/plain": [
       "11-element Array{Float64,1}:\n",
       "  -6.11309e-16\n",
       "  -1.39614e-6 \n",
       "  -1.38471e-17\n",
       "  10.9923     \n",
       "  10.9923     \n",
       "   6.82181e-11\n",
       "   7.98648e-11\n",
       " -73.8047     \n",
       " -73.8047     \n",
       " 858.761      \n",
       " 858.761      "
      ]
     },
     "execution_count": 56,
     "metadata": {},
     "output_type": "execute_result"
    }
   ],
   "source": [
    "state = nominal_state(boxatlas)\n",
    "set_velocity!(state, findjoint(mechanism(boxatlas), \"floating_base\"), [-0., 0, 0])\n",
    "mixed_control(zeros(num_velocities(state)), 0.0, state)"
   ]
  },
  {
   "cell_type": "code",
   "execution_count": 57,
   "metadata": {},
   "outputs": [
    {
     "name": "stdout",
     "output_type": "stream",
     "text": [
      " 45.298000 seconds (842.75 k allocations: 43.873 MiB)\n"
     ]
    },
    {
     "data": {
      "text/plain": [
       "true"
      ]
     },
     "execution_count": 57,
     "metadata": {},
     "output_type": "execute_result"
    }
   ],
   "source": [
    "state = nominal_state(boxatlas)\n",
    "set_velocity!(state, findjoint(mechanism(boxatlas), \"floating_base\"), [-0.3, 0, 0])\n",
    "problem = LearningMPC.simulation_problem(state, mixed_control, 0.01, 5.0)\n",
    "@time sol = RigidBodySim.solve(problem, Tsit5(), abs_tol = 1e-8, dt = 1e-6);\n",
    "setanimation!(mvis, sol)"
   ]
  },
  {
   "cell_type": "code",
   "execution_count": null,
   "metadata": {},
   "outputs": [],
   "source": []
  }
 ],
 "metadata": {
  "kernelspec": {
   "display_name": "Julia 0.6.4",
   "language": "julia",
   "name": "julia-0.6"
  },
  "language_info": {
   "file_extension": ".jl",
   "mimetype": "application/julia",
   "name": "julia",
   "version": "0.6.4"
  }
 },
 "nbformat": 4,
 "nbformat_minor": 2
}
