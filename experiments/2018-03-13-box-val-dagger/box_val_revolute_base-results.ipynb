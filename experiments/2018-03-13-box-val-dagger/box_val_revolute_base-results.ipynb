{
 "cells": [
  {
   "cell_type": "code",
   "execution_count": 1,
   "metadata": {},
   "outputs": [],
   "source": [
    "using Revise"
   ]
  },
  {
   "cell_type": "code",
   "execution_count": 2,
   "metadata": {},
   "outputs": [
    {
     "data": {
      "text/plain": [
       "Plots.GRBackend()"
      ]
     },
     "execution_count": 2,
     "metadata": {},
     "output_type": "execute_result"
    }
   ],
   "source": [
    "using MeshCatMechanisms\n",
    "using MeshCat\n",
    "using RigidBodyDynamics\n",
    "using Gurobi\n",
    "using Flux\n",
    "using ProgressMeter\n",
    "using MLDataPattern\n",
    "using JLD2\n",
    "using Plots; gr()"
   ]
  },
  {
   "cell_type": "code",
   "execution_count": 3,
   "metadata": {},
   "outputs": [
    {
     "name": "stderr",
     "output_type": "stream",
     "text": [
      "WARNING: replacing module LearningMPC.\n",
      "WARNING: replacing module BoxValkyries.\n"
     ]
    }
   ],
   "source": [
    "import LCPSim\n",
    "import LearningMPC\n",
    "import BoxValkyries\n",
    "reload(\"LearningMPC\")\n",
    "reload(\"BoxValkyries\")"
   ]
  },
  {
   "cell_type": "code",
   "execution_count": 5,
   "metadata": {},
   "outputs": [
    {
     "name": "stdout",
     "output_type": "stream",
     "text": [
      "Listening on 127.0.0.1:7004...\n",
      "zmq_url=tcp://127.0.0.1:6004\n",
      "web_url=http://127.0.0.1:7004/static/\n"
     ]
    },
    {
     "data": {
      "text/plain": [
       "MeshCat Visualizer at http://127.0.0.1:7004/static/ with path /meshcat/robot"
      ]
     },
     "execution_count": 5,
     "metadata": {},
     "output_type": "execute_result"
    }
   ],
   "source": [
    "robot = BoxValkyries.BoxValkyrie(true, LCPSim.planar_revolute_base);\n",
    "mvis = MechanismVisualizer(robot)\n",
    "open(mvis.visualizer)"
   ]
  },
  {
   "cell_type": "code",
   "execution_count": 6,
   "metadata": {},
   "outputs": [
    {
     "data": {
      "text/plain": [
       "(Chain(Dense(22, 64, NNlib.elu), Dense(64, 64, NNlib.elu), Dense(64, 11)), LearningMPC.LQRSolution, Dict{String,Any}(Pair{String,Any}(\"horizon\", 10),Pair{String,Any}(\"Δt\", 0.05)))"
      ]
     },
     "execution_count": 6,
     "metadata": {},
     "output_type": "execute_result"
    }
   ],
   "source": [
    "net, lqrsol, mpc_param_data = jldopen(\"box-val-revolute.jld2\") do file\n",
    "    (file[\"net\"], file[\"lqrsol\"], file[\"mpc_params\"])\n",
    "end"
   ]
  },
  {
   "cell_type": "code",
   "execution_count": 7,
   "metadata": {},
   "outputs": [
    {
     "name": "stdout",
     "output_type": "stream",
     "text": [
      "Academic license - for non-commercial use only\n",
      "Academic license - for non-commercial use only\n"
     ]
    },
    {
     "data": {
      "text/plain": [
       "LearningMPC.MPCParams{Gurobi.GurobiSolver,Gurobi.GurobiSolver}\n",
       "  Δt: Float64 0.05\n",
       "  horizon: Int64 10\n",
       "  mip_solver: Gurobi.GurobiSolver\n",
       "  lcp_solver: Gurobi.GurobiSolver\n"
      ]
     },
     "execution_count": 7,
     "metadata": {},
     "output_type": "execute_result"
    }
   ],
   "source": [
    "xstar = BoxValkyries.nominal_state(robot)\n",
    "\n",
    "net_controller = x -> Flux.Tracker.data(net(state_vector(x)))\n",
    "\n",
    "mpc_params = LearningMPC.MPCParams(\n",
    "    Δt=mpc_param_data[\"Δt\"],\n",
    "    horizon=mpc_param_data[\"horizon\"],\n",
    "    mip_solver=GurobiSolver(Gurobi.Env(), OutputFlag=0, \n",
    "        TimeLimit=60, \n",
    "        MIPGap=1e-1, \n",
    "        MIPGapAbs=5e-1,\n",
    "        FeasibilityTol=1e-3),\n",
    "    lcp_solver=GurobiSolver(Gurobi.Env(), OutputFlag=0))"
   ]
  },
  {
   "cell_type": "code",
   "execution_count": 9,
   "metadata": {},
   "outputs": [],
   "source": [
    "srand(6)\n",
    "x0 = MechanismState{Float64}(robot.mechanism)\n",
    "LearningMPC.randomize!(x0, xstar, 0.0, 3.0)\n",
    "set_configuration!(mvis, configuration(x0))\n",
    "sleep(3)\n",
    "results = LCPSim.simulate(x0, \n",
    "    net_controller,\n",
    "    robot.environment, mpc_params.Δt, 50, \n",
    "    mpc_params.lcp_solver,\n",
    "    termination=x -> false);\n",
    "LearningMPC.playback(mvis, results, 0.1)"
   ]
  },
  {
   "cell_type": "code",
   "execution_count": 8,
   "metadata": {},
   "outputs": [],
   "source": [
    "LearningMPC.playback(mvis, results, 0.05)"
   ]
  },
  {
   "cell_type": "code",
   "execution_count": null,
   "metadata": {},
   "outputs": [],
   "source": []
  }
 ],
 "metadata": {
  "kernelspec": {
   "display_name": "Julia 0.6.2",
   "language": "julia",
   "name": "julia-0.6"
  },
  "language_info": {
   "file_extension": ".jl",
   "mimetype": "application/julia",
   "name": "julia",
   "version": "0.6.2"
  }
 },
 "nbformat": 4,
 "nbformat_minor": 2
}
