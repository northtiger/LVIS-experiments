{
 "cells": [
  {
   "cell_type": "code",
   "execution_count": 17,
   "metadata": {
    "collapsed": true
   },
   "outputs": [],
   "source": [
    "using Knet"
   ]
  },
  {
   "cell_type": "code",
   "execution_count": 35,
   "metadata": {
    "collapsed": false
   },
   "outputs": [
    {
     "data": {
      "text/plain": [
       "head (generic function with 1 method)"
      ]
     },
     "execution_count": 35,
     "metadata": {},
     "output_type": "execute_result"
    }
   ],
   "source": [
    "head(t::Tuple) = tuple(t[1])"
   ]
  },
  {
   "cell_type": "code",
   "execution_count": 45,
   "metadata": {
    "collapsed": false
   },
   "outputs": [
    {
     "data": {
      "text/plain": [
       "viewblocks (generic function with 3 methods)"
      ]
     },
     "execution_count": 45,
     "metadata": {},
     "output_type": "execute_result"
    }
   ],
   "source": [
    "function viewblocks{T <: NTuple}(data::AbstractArray, shapes::AbstractVector{T})\n",
    "    starts = cumsum(vcat([1], prod.(shapes)))\n",
    "    [reshape(view(data, starts[i]:(starts[i+1] - 1)), shapes[i]) for i in 1:length(shapes)]\n",
    "end"
   ]
  },
  {
   "cell_type": "code",
   "execution_count": 46,
   "metadata": {
    "collapsed": false
   },
   "outputs": [
    {
     "data": {
      "text/plain": [
       "7-element Array{Float64,1}:\n",
       " 0.2\n",
       " 0.3\n",
       " 0.4\n",
       " 0.5\n",
       " 1.0\n",
       " 2.0\n",
       " 3.0"
      ]
     },
     "execution_count": 46,
     "metadata": {},
     "output_type": "execute_result"
    }
   ],
   "source": [
    "predict = (flat_weights, shapes, x) -> begin\n",
    "    weights = viewblocks(flat_weights, shapes)\n",
    "    num_weights = sum(length, weights)\n",
    "    biases = viewblocks(@view(flat_weights[(num_weights + 1):end]), head.(shapes))\n",
    "    y = x\n",
    "    J = eye(length(x))\n",
    "    for i in 1:(length(shapes) - 1)\n",
    "        w = weights[i]\n",
    "        y = w * y .+ biases[i]\n",
    "        J = w * J\n",
    "        z = y .>= 0\n",
    "        y = y .* z\n",
    "        J = J .* z\n",
    "    end\n",
    "    w = weights[end]\n",
    "    vcat(w * y, w * J)\n",
    "end\n",
    "\n",
    "loss = (w, shapes, x, y) -> sumabs2(y - predict(w, shapes, x)) / size(y, 2)\n",
    "lossgradient = grad(loss)\n",
    "\n",
    "x = [1.0]\n",
    "shapes = [(2, 1), (1, 2)]\n",
    "w = [0.2, 0.3, 0.4, 0.5, 1.0, 2.0, 3.0]"
   ]
  },
  {
   "cell_type": "code",
   "execution_count": 47,
   "metadata": {
    "collapsed": false
   },
   "outputs": [
    {
     "data": {
      "text/plain": [
       "2×1 Array{Float64,2}:\n",
       " 1.63\n",
       " 0.23"
      ]
     },
     "execution_count": 47,
     "metadata": {},
     "output_type": "execute_result"
    }
   ],
   "source": [
    "predict(w, shapes, x)"
   ]
  },
  {
   "cell_type": "code",
   "execution_count": 48,
   "metadata": {
    "collapsed": false
   },
   "outputs": [
    {
     "data": {
      "text/plain": [
       "2-element Array{Tuple{Array{Int64,1},Array{Int64,1}},1}:\n",
       " ([1],[1,1])  \n",
       " ([-1],[1,-1])"
      ]
     },
     "execution_count": 48,
     "metadata": {},
     "output_type": "execute_result"
    }
   ],
   "source": [
    "train_data = [([1], [1, 1]), ([-1], [1, -1])]"
   ]
  },
  {
   "cell_type": "code",
   "execution_count": 49,
   "metadata": {
    "collapsed": false
   },
   "outputs": [
    {
     "ename": "LoadError",
     "evalue": "MethodError: no method matching view(::AutoGrad.Rec{Array{Float64,1}}, ::UnitRange{Int64})\u001b[0m\nClosest candidates are:\n  view{T,N}(\u001b[1m\u001b[31m::AbstractArray{T,N}\u001b[0m, ::Union{AbstractArray{T,N},Colon,Real}...) at subarray.jl:63\n  view(\u001b[1m\u001b[31m::AbstractArray{T,N}\u001b[0m, ::Union{AbstractArray{T,N},Colon,Real}) at subarray.jl:68\n  view{N}(\u001b[1m\u001b[31m::AbstractArray{T,N}\u001b[0m, ::Union{AbstractArray{T,N},Colon,Real}...) at subarray.jl:73\u001b[0m",
     "output_type": "error",
     "traceback": [
      "MethodError: no method matching view(::AutoGrad.Rec{Array{Float64,1}}, ::UnitRange{Int64})\u001b[0m\nClosest candidates are:\n  view{T,N}(\u001b[1m\u001b[31m::AbstractArray{T,N}\u001b[0m, ::Union{AbstractArray{T,N},Colon,Real}...) at subarray.jl:63\n  view(\u001b[1m\u001b[31m::AbstractArray{T,N}\u001b[0m, ::Union{AbstractArray{T,N},Colon,Real}) at subarray.jl:68\n  view{N}(\u001b[1m\u001b[31m::AbstractArray{T,N}\u001b[0m, ::Union{AbstractArray{T,N},Colon,Real}...) at subarray.jl:73\u001b[0m",
      "",
      " in collect(::Base.Generator{UnitRange{Int64},##61#62{AutoGrad.Rec{Array{Float64,1}},Array{Tuple{Int64,Int64},1},Array{Int64,1}}}) at ./array.jl:307",
      " in viewblocks(::AutoGrad.Rec{Array{Float64,1}}, ::Array{Tuple{Int64,Int64},1}) at ./In[45]:3",
      " in (::##63#64)(::AutoGrad.Rec{Array{Float64,1}}, ::Array{Tuple{Int64,Int64},1}, ::Array{Int64,1}) at ./In[46]:2",
      " in (::##65#66)(::AutoGrad.Rec{Array{Float64,1}}, ::Array{Tuple{Int64,Int64},1}, ::Array{Int64,1}, ::Array{Int64,1}) at ./In[46]:19",
      " in forward_pass(::Function, ::Tuple{Array{Float64,1},Array{Tuple{Int64,Int64},1},Array{Int64,1},Array{Int64,1}}, ::Array{Any,1}, ::Int64) at /Users/rdeits/.julia/v0.5/AutoGrad/src/core.jl:92",
      " in (::AutoGrad.##gradfun#1#3{##65#66,Int64})(::Array{Any,1}, ::Function, ::Array{Float64,1}, ::Vararg{Any,N}) at /Users/rdeits/.julia/v0.5/AutoGrad/src/core.jl:45",
      " in (::AutoGrad.#gradfun#2)(::Array{Float64,1}, ::Vararg{Any,N}) at /Users/rdeits/.julia/v0.5/AutoGrad/src/core.jl:45"
     ]
    }
   ],
   "source": [
    "lossgradient(w, shapes, [1], [1, 1])"
   ]
  },
  {
   "cell_type": "code",
   "execution_count": 42,
   "metadata": {
    "collapsed": false
   },
   "outputs": [
    {
     "data": {
      "text/plain": [
       "train (generic function with 2 methods)"
      ]
     },
     "execution_count": 42,
     "metadata": {},
     "output_type": "execute_result"
    }
   ],
   "source": [
    "function train(w, shapes, data, lr=0.1)\n",
    "    for (x, y) in data\n",
    "        dw = lossgradient(w, shapes, x, y)\n",
    "        for i in 1:length(w)\n",
    "            w[i] -= lr * dw[i]\n",
    "        end\n",
    "    end\n",
    "    w\n",
    "end"
   ]
  },
  {
   "cell_type": "code",
   "execution_count": 43,
   "metadata": {
    "collapsed": false
   },
   "outputs": [
    {
     "ename": "LoadError",
     "evalue": "MethodError: no method matching viewblocks(::AutoGrad.Rec{Array{Float64,1}}, ::Array{Tuple{Int64,Int64},1})\u001b[0m\nClosest candidates are:\n  viewblocks{T<:Tuple{Vararg{T,N}}}(\u001b[1m\u001b[31m::AbstractArray{T,N}\u001b[0m, ::AbstractArray{T<:Tuple{Vararg{T,N}},1}) at In[8]:2\u001b[0m",
     "output_type": "error",
     "traceback": [
      "MethodError: no method matching viewblocks(::AutoGrad.Rec{Array{Float64,1}}, ::Array{Tuple{Int64,Int64},1})\u001b[0m\nClosest candidates are:\n  viewblocks{T<:Tuple{Vararg{T,N}}}(\u001b[1m\u001b[31m::AbstractArray{T,N}\u001b[0m, ::AbstractArray{T<:Tuple{Vararg{T,N}},1}) at In[8]:2\u001b[0m",
      "",
      " in (::##57#58)(::AutoGrad.Rec{Array{Float64,1}}, ::Array{Tuple{Int64,Int64},1}, ::Array{Int64,1}) at ./In[38]:2",
      " in (::##59#60)(::AutoGrad.Rec{Array{Float64,1}}, ::Array{Tuple{Int64,Int64},1}, ::Array{Int64,1}, ::Array{Int64,1}) at ./In[38]:19",
      " in forward_pass(::Function, ::Tuple{Array{Float64,1},Array{Tuple{Int64,Int64},1},Array{Int64,1},Array{Int64,1}}, ::Array{Any,1}, ::Int64) at /Users/rdeits/.julia/v0.5/AutoGrad/src/core.jl:92",
      " in (::AutoGrad.##gradfun#1#3{##59#60,Int64})(::Array{Any,1}, ::Function, ::Array{Float64,1}, ::Vararg{Any,N}) at /Users/rdeits/.julia/v0.5/AutoGrad/src/core.jl:45",
      " in (::AutoGrad.#gradfun#2)(::Array{Float64,1}, ::Vararg{Any,N}) at /Users/rdeits/.julia/v0.5/AutoGrad/src/core.jl:45",
      " in train(::Array{Float64,1}, ::Array{Tuple{Int64,Int64},1}, ::Array{Tuple{Array{Int64,1},Array{Int64,1}},1}, ::Float64) at ./In[42]:3",
      " in train(::Array{Float64,1}, ::Array{Tuple{Int64,Int64},1}, ::Array{Tuple{Array{Int64,1},Array{Int64,1}},1}) at ./In[42]:2"
     ]
    }
   ],
   "source": [
    "train(w, shapes, train_data)\n",
    "w"
   ]
  },
  {
   "cell_type": "code",
   "execution_count": 9,
   "metadata": {
    "collapsed": false
   },
   "outputs": [
    {
     "data": {
      "text/plain": [
       "([0.4],\n",
       "[0.1 0.15])"
      ]
     },
     "execution_count": 9,
     "metadata": {},
     "output_type": "execute_result"
    }
   ],
   "source": [
    "f(x, w, shapes)"
   ]
  },
  {
   "cell_type": "code",
   "execution_count": 10,
   "metadata": {
    "collapsed": false
   },
   "outputs": [
    {
     "name": "stderr",
     "output_type": "stream",
     "text": [
      "\u001b[1m\u001b[34mINFO: No GPU found, Knet using the CPU\n",
      "\u001b[0m"
     ]
    }
   ],
   "source": []
  },
  {
   "cell_type": "code",
   "execution_count": 14,
   "metadata": {
    "collapsed": false
   },
   "outputs": [
    {
     "data": {
      "text/plain": [
       "2-element Array{Float64,1}:\n",
       " 0.1 \n",
       " 0.15"
      ]
     },
     "execution_count": 14,
     "metadata": {},
     "output_type": "execute_result"
    }
   ],
   "source": [
    "grad(x -> f(x, w, shapes)[1][1])(x)"
   ]
  },
  {
   "cell_type": "code",
   "execution_count": null,
   "metadata": {
    "collapsed": true
   },
   "outputs": [],
   "source": []
  }
 ],
 "metadata": {
  "kernelspec": {
   "display_name": "Julia 0.5.2",
   "language": "julia",
   "name": "julia-0.5"
  },
  "language_info": {
   "file_extension": ".jl",
   "mimetype": "application/julia",
   "name": "julia",
   "version": "0.5.2"
  }
 },
 "nbformat": 4,
 "nbformat_minor": 2
}
