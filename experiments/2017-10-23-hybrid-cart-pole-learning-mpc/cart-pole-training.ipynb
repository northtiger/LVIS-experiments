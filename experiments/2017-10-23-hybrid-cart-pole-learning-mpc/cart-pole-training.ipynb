{
 "cells": [
  {
   "cell_type": "code",
   "execution_count": null,
   "metadata": {
    "collapsed": true
   },
   "outputs": [],
   "source": [
    "using Revise"
   ]
  },
  {
   "cell_type": "code",
   "execution_count": null,
   "metadata": {},
   "outputs": [],
   "source": [
    "using RigidBodyDynamics\n",
    "using LearningMPC\n",
    "using Gurobi\n",
    "using DrakeVisualizer\n",
    "using CoordinateTransformations\n",
    "using Plots; gr()\n",
    "using ProgressMeter\n",
    "using MLDataPattern\n",
    "using JLD2\n",
    "DrakeVisualizer.any_open_windows() || DrakeVisualizer.new_window()"
   ]
  },
  {
   "cell_type": "code",
   "execution_count": null,
   "metadata": {},
   "outputs": [],
   "source": [
    "import CartPoles\n",
    "import Nets"
   ]
  },
  {
   "cell_type": "code",
   "execution_count": null,
   "metadata": {},
   "outputs": [],
   "source": [
    "reload(\"CartPoles\")"
   ]
  },
  {
   "cell_type": "code",
   "execution_count": null,
   "metadata": {},
   "outputs": [],
   "source": [
    "const Sample = Tuple{Vector{Float64}, Matrix{Float64}}"
   ]
  },
  {
   "cell_type": "code",
   "execution_count": null,
   "metadata": {},
   "outputs": [],
   "source": [
    "cartpole = CartPoles.CartPole()\n",
    "mechanism = cartpole.mechanism\n",
    "basevis = Visualizer()[:cartpole]\n",
    "delete!(basevis)\n",
    "setgeometry!(basevis, cartpole)\n",
    "\n",
    "train_data = Sample[]\n",
    "test_data = Sample[]\n",
    "validation_data = Sample[]\n",
    "\n",
    "x_to_u = AffineMap(eye(4), zeros(4))\n",
    "v_to_y = AffineMap(diagm([20., 0]), zeros(2))\n",
    "\n",
    "widths = [4, 16, 16, 8, 2]\n",
    "activation = Nets.leaky_relu\n",
    "function sensitive_loss(λ)\n",
    "    q = [1.0-λ λ λ λ λ]\n",
    "    (params, x, y) -> sum(abs2, \n",
    "        q .* (Nets.predict_sensitivity(Nets.Net(Nets.Params(widths, params), activation, x_to_u, v_to_y), x) .- y))\n",
    "end\n",
    "start_params = 0.1 * randn(Nets.Params{Float64}, widths).data;\n",
    "\n",
    "p_train = 0.6\n",
    "p_validate = 0.2"
   ]
  },
  {
   "cell_type": "code",
   "execution_count": null,
   "metadata": {},
   "outputs": [],
   "source": [
    "cartpole_mpc_params = CartPoles.CartPoleMPCParams(Δt = 0.04, gap=1e-2)\n",
    "xstar = MechanismState(mechanism, zeros(2), zeros(2))\n",
    "\n",
    "lqrsol = CartPoles.LQRSolution(xstar, zeros(num_velocities(xstar)), cartpole_mpc_params.Q, cartpole_mpc_params.R)\n",
    "lqr_controller = CartPoles.LQRController(lqrsol)"
   ]
  },
  {
   "cell_type": "code",
   "execution_count": null,
   "metadata": {},
   "outputs": [],
   "source": [
    "params = copy(start_params)\n",
    "net = Nets.Net(Nets.Params(widths, params), activation, x_to_u, v_to_y)"
   ]
  },
  {
   "cell_type": "code",
   "execution_count": null,
   "metadata": {},
   "outputs": [],
   "source": [
    "net_controller = x -> begin\n",
    "    Nets.predict(net, state_vector(x))\n",
    "end\n",
    "\n",
    "mpc_controller = CartPoles.MPCController(cartpole, cartpole_mpc_params, xstar, lqrsol, [net_controller, lqr_controller]);\n",
    "mpc_controller.callback = (x, results) -> begin\n",
    "    if !isnull(results.lcp_updates)\n",
    "#         playback(basevis[:robot], get(results.lcp_updates), mpc_controller.params.Δt)\n",
    "        if !isnull(results.jacobian)\n",
    "            xv = state_vector(x)\n",
    "            yJ = hcat(get(results.lcp_updates)[1].input, get(results.jacobian))\n",
    "            r = rand()\n",
    "            if r < p_train\n",
    "                push!(train_data, (xv, yJ))\n",
    "            elseif r < p_train + p_validate\n",
    "                push!(validation_data, (xv, yJ))\n",
    "            else\n",
    "                push!(test_data, (xv, yJ))\n",
    "            end\n",
    "        end\n",
    "    end\n",
    "end\n",
    "\n",
    "train_loss = sensitive_loss(0.1)\n",
    "validate_loss = train_loss\n",
    "training_losses = Float64[]\n",
    "validation_losses = Float64[]\n",
    "\n",
    "p_mpc = 0.2\n",
    "\n",
    "x_control = MechanismState{Float64}(mechanism)\n",
    "\n",
    "controller = x -> begin\n",
    "    set_configuration!(x_control, configuration(x))\n",
    "    settransform!(basevis[:robot], x_control)\n",
    "    if rand() < p_mpc\n",
    "        return mpc_controller(x)\n",
    "    else\n",
    "        return net_controller(x)\n",
    "    end\n",
    "end"
   ]
  },
  {
   "cell_type": "code",
   "execution_count": null,
   "metadata": {
    "scrolled": true
   },
   "outputs": [],
   "source": [
    "x0 = MechanismState{Float64}(mechanism)\n",
    "\n",
    "fname = \"cart-pole-dagger-0.04.jld2\"\n",
    "\n",
    "@showprogress for i in 1:1000\n",
    "    set_configuration!(x0, [2 * (rand() - 0.5), π * (rand() - 0.5)])\n",
    "    set_velocity!(x0, (rand(2) .- 0.5))\n",
    "    termination = x -> (configuration(x)[2] > π/2 || configuration(x)[2] < -π/2)\n",
    "    results_net = LCPSim.simulate(x0, controller, cartpole.environment, cartpole_mpc_params.Δt, 100, GurobiSolver(OutputFlag=0);\n",
    "        termination=termination)\n",
    "    Nets.adam!(train_loss, params, shuffleobs(train_data), Nets.AdamOpts(learning_rate=0.01 * 0.999^i, batch_size=min(10, length(train_data))))\n",
    "    push!(training_losses, mean(xy -> validate_loss(params, xy[1], xy[2]), train_data))\n",
    "    push!(validation_losses, mean(xy -> validate_loss(params, xy[1], xy[2]), validation_data))\n",
    "    \n",
    "    @show training_losses[end]\n",
    "    @show validation_losses[end]\n",
    "    \n",
    "    jldopen(fname, \"w\") do file\n",
    "        file[\"train_data\"] = train_data\n",
    "        file[\"test_data\"] = test_data\n",
    "        file[\"validation_data\"] = validation_data\n",
    "    end\n",
    "    \n",
    "    jldopen(\"cart-pole-dagger-0.04-params.jld2\", \"w\") do file\n",
    "        file[\"params\"] = params\n",
    "        file[\"widths\"] = widths\n",
    "        file[\"x_to_u\"] = x_to_u\n",
    "        file[\"v_to_y\"] = v_to_y\n",
    "        file[\"training_losses\"] = training_losses\n",
    "        file[\"validation_losses\"] = validation_losses\n",
    "    end;\n",
    "end "
   ]
  },
  {
   "cell_type": "code",
   "execution_count": null,
   "metadata": {},
   "outputs": [],
   "source": []
  },
  {
   "cell_type": "code",
   "execution_count": null,
   "metadata": {
    "collapsed": true
   },
   "outputs": [],
   "source": [
    "set_configuration!(x0, [2 * (rand() - 0.5), π * (rand() - 0.5)])\n",
    "set_velocity!(x0, (rand(2) .- 0.5))\n",
    "results_net = LCPSim.simulate(x0, net_controller, cartpole.environment, cartpole_mpc_params.Δt, 300, GurobiSolver(OutputFlag=0));"
   ]
  },
  {
   "cell_type": "code",
   "execution_count": null,
   "metadata": {
    "collapsed": true
   },
   "outputs": [],
   "source": [
    "results_net = LCPSim.simulate(x0, lqr_controller, cartpole.environment, cartpole_mpc_params.Δt, 300, GurobiSolver(OutputFlag=0));"
   ]
  },
  {
   "cell_type": "code",
   "execution_count": null,
   "metadata": {},
   "outputs": [],
   "source": [
    "set_configuration!(x0, configuration(results_net[1].state))\n",
    "settransform!(basevis[:robot], x0)"
   ]
  },
  {
   "cell_type": "code",
   "execution_count": null,
   "metadata": {},
   "outputs": [],
   "source": [
    "playback(basevis[:robot], results_net, 2 * cartpole_mpc_params.Δt)"
   ]
  },
  {
   "cell_type": "code",
   "execution_count": null,
   "metadata": {},
   "outputs": [],
   "source": [
    "jldopen(fname, \"r\") do file\n",
    "    length(file[\"train_data\"])\n",
    "end"
   ]
  },
  {
   "cell_type": "code",
   "execution_count": null,
   "metadata": {
    "collapsed": true
   },
   "outputs": [],
   "source": []
  }
 ],
 "metadata": {
  "kernelspec": {
   "display_name": "Julia 0.6.0",
   "language": "julia",
   "name": "julia-0.6"
  },
  "language_info": {
   "file_extension": ".jl",
   "mimetype": "application/julia",
   "name": "julia",
   "version": "0.6.0"
  }
 },
 "nbformat": 4,
 "nbformat_minor": 2
}
