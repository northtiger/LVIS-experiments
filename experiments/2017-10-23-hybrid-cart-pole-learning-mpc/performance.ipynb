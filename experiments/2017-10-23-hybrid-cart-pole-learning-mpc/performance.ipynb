{
 "cells": [
  {
   "cell_type": "code",
   "execution_count": null,
   "metadata": {
    "collapsed": true
   },
   "outputs": [],
   "source": [
    "using Revise"
   ]
  },
  {
   "cell_type": "code",
   "execution_count": null,
   "metadata": {},
   "outputs": [],
   "source": [
    "using RigidBodyDynamics\n",
    "import RigidBodyDynamics.Spatial\n",
    "import LCPSim\n",
    "import CartPoles\n",
    "import Nets\n",
    "using JuMP\n",
    "using Gurobi\n",
    "using Mosek\n",
    "using ProfileView\n",
    "import ConditionalJuMP\n",
    "using BenchmarkTools\n",
    "using StaticArrays\n",
    "using Base.Test"
   ]
  },
  {
   "cell_type": "code",
   "execution_count": null,
   "metadata": {},
   "outputs": [],
   "source": [
    "cartpole = CartPoles.CartPole()\n",
    "mechanism = cartpole.mechanism"
   ]
  },
  {
   "cell_type": "code",
   "execution_count": null,
   "metadata": {},
   "outputs": [],
   "source": [
    "x0 = MechanismState{Float64}(mechanism)\n",
    "configuration(x0) .= [0.1, 0.2]\n",
    "x = LCPSim.StateRecord(x0)\n",
    "xnext = LCPSim.LinearizedState{Variable}(x0)\n",
    "u = zeros(2)\n",
    "@benchmark LCPSim.update($x, $xnext, $u, $(cartpole.environment), 0.04, m) setup=(m=Model())"
   ]
  },
  {
   "cell_type": "code",
   "execution_count": null,
   "metadata": {},
   "outputs": [],
   "source": [
    "x = LCPSim.StateRecord(x0)\n",
    "xnext = LCPSim.LinearizedState{Variable}(x0)\n",
    "u = zeros(2)\n",
    "model = Model(solver=GurobiSolver())\n",
    "f() = LCPSim.optimize(x0, cartpole.environment, 0.04, 200, model)\n",
    "# f() = for i in 1:100; LCPSim.update(x, xnext, u, cartpole.environment, 0.04, model); end\n",
    "\n",
    "f()\n",
    "Profile.clear()\n",
    "@time @profile f();\n",
    "ProfileView.view()"
   ]
  },
  {
   "cell_type": "code",
   "execution_count": null,
   "metadata": {
    "scrolled": false
   },
   "outputs": [],
   "source": [
    "x0 = MechanismState{Float64}(mechanism)\n",
    "solver = GurobiSolver(Gurobi.Env(), OutputFlag=0)\n",
    "g() = LCPSim.simulate(x0, x -> zeros(num_velocities(x0)), cartpole.environment, 0.04, 1000, solver)\n",
    "g()\n",
    "Profile.clear()\n",
    "@time @profile g()\n",
    "ProfileView.view()"
   ]
  },
  {
   "cell_type": "code",
   "execution_count": null,
   "metadata": {
    "collapsed": true
   },
   "outputs": [],
   "source": []
  }
 ],
 "metadata": {
  "kernelspec": {
   "display_name": "Julia 0.6.0",
   "language": "julia",
   "name": "julia-0.6"
  },
  "language_info": {
   "file_extension": ".jl",
   "mimetype": "application/julia",
   "name": "julia",
   "version": "0.6.0"
  }
 },
 "nbformat": 4,
 "nbformat_minor": 2
}
