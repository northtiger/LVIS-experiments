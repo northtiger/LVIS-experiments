{
 "cells": [
  {
   "cell_type": "code",
   "execution_count": null,
   "metadata": {
    "collapsed": true
   },
   "outputs": [],
   "source": [
    "using Revise"
   ]
  },
  {
   "cell_type": "code",
   "execution_count": null,
   "metadata": {},
   "outputs": [],
   "source": [
    "using RigidBodyDynamics\n",
    "import RigidBodyDynamics.Spatial\n",
    "import LCPSim\n",
    "import CartPoles\n",
    "import Nets\n",
    "using JuMP\n",
    "using Gurobi\n",
    "using ProfileView\n",
    "import ConditionalJuMP\n",
    "using BenchmarkTools\n",
    "using StaticArrays\n",
    "using Base.Test"
   ]
  },
  {
   "cell_type": "code",
   "execution_count": null,
   "metadata": {},
   "outputs": [],
   "source": [
    "cartpole = CartPoles.CartPole()\n",
    "mechanism = cartpole.mechanism\n",
    "x0 = MechanismState{Float64}(mechanism)"
   ]
  },
  {
   "cell_type": "code",
   "execution_count": null,
   "metadata": {},
   "outputs": [],
   "source": [
    "x = LCPSim.StateRecord(x0)\n",
    "xnext = LCPSim.LinearizedState{Variable}(x0)\n",
    "u = zeros(2)\n",
    "model = Model(solver=GurobiSolver())\n",
    "@benchmark LCPSim.update($x, $xnext, $u, $(cartpole.environment), 0.04, $model)"
   ]
  },
  {
   "cell_type": "code",
   "execution_count": null,
   "metadata": {},
   "outputs": [],
   "source": [
    "m = Model()\n",
    "@variable m -1 <= q[1:4] <= 1\n",
    "@variable m -1 <= y <= 1\n",
    "d = randn(4)' * q\n",
    "@benchmark ConditionalJuMP.@disjunction($m, ($d == 0), ($y == 0))"
   ]
  },
  {
   "cell_type": "code",
   "execution_count": null,
   "metadata": {},
   "outputs": [],
   "source": [
    "x = LCPSim.StateRecord(x0)\n",
    "xnext = LCPSim.LinearizedState{Variable}(x0)\n",
    "u = zeros(2)\n",
    "model = Model(solver=GurobiSolver())\n",
    "f() = LCPSim.optimize(x0, cartpole.environment, 0.04, 100, model)\n",
    "# f() = for i in 1:100; LCPSim.update(x, xnext, u, cartpole.environment, 0.04, model); end\n",
    "\n",
    "f()\n",
    "Profile.clear()\n",
    "@time @profile f();\n",
    "ProfileView.view()"
   ]
  },
  {
   "cell_type": "code",
   "execution_count": null,
   "metadata": {},
   "outputs": [],
   "source": [
    "x0 = MechanismState{Float64}(mechanism)\n",
    "g() = LCPSim.simulate(x0, x -> zeros(num_velocities(x0)), cartpole.environment, 0.04, 1000, GurobiSolver(Gurobi.Env(), OutputFlag=0))\n",
    "g()\n",
    "Profile.clear()\n",
    "@time @profile g()\n",
    "ProfileView.view()"
   ]
  },
  {
   "cell_type": "code",
   "execution_count": null,
   "metadata": {},
   "outputs": [],
   "source": [
    "cj = ConditionalJuMP"
   ]
  },
  {
   "cell_type": "code",
   "execution_count": null,
   "metadata": {},
   "outputs": [],
   "source": [
    "m = Model()\n",
    "@variable m -1 <= q[1:10] <= 1\n",
    "y = randn(length(q))\n",
    "v = [randn(length(q))' * q for _ in q];"
   ]
  },
  {
   "cell_type": "code",
   "execution_count": null,
   "metadata": {},
   "outputs": [],
   "source": [
    "cj.@implies(m, q[1] <= 0 => q[2] == 2)"
   ]
  },
  {
   "cell_type": "code",
   "execution_count": null,
   "metadata": {},
   "outputs": [],
   "source": [
    "im = cj.getindmap!(m)"
   ]
  },
  {
   "cell_type": "code",
   "execution_count": null,
   "metadata": {},
   "outputs": [],
   "source": [
    "im.disjunctions"
   ]
  },
  {
   "cell_type": "code",
   "execution_count": null,
   "metadata": {
    "collapsed": true
   },
   "outputs": [],
   "source": []
  },
  {
   "cell_type": "code",
   "execution_count": null,
   "metadata": {},
   "outputs": [],
   "source": [
    "ex = rand(100)' * rand(q, 100)\n",
    "\n",
    "ex.vars"
   ]
  },
  {
   "cell_type": "code",
   "execution_count": null,
   "metadata": {},
   "outputs": [],
   "source": [
    "@benchmark ConditionalJuMP.simplify($ex)"
   ]
  },
  {
   "cell_type": "code",
   "execution_count": null,
   "metadata": {},
   "outputs": [],
   "source": [
    "@benchmark ConditionalJuMP.simplify!(copy($ex))"
   ]
  },
  {
   "cell_type": "code",
   "execution_count": null,
   "metadata": {},
   "outputs": [],
   "source": [
    "Profile.clear()\n",
    "@profile for i in 1:100000; ConditionalJuMP.simplify(ex); end\n",
    "ProfileView.view()"
   ]
  },
  {
   "cell_type": "code",
   "execution_count": null,
   "metadata": {
    "collapsed": true
   },
   "outputs": [],
   "source": []
  },
  {
   "cell_type": "code",
   "execution_count": null,
   "metadata": {},
   "outputs": [],
   "source": [
    "@benchmark dot($y, $v)"
   ]
  },
  {
   "cell_type": "code",
   "execution_count": null,
   "metadata": {
    "collapsed": true
   },
   "outputs": [],
   "source": []
  },
  {
   "cell_type": "code",
   "execution_count": null,
   "metadata": {},
   "outputs": [],
   "source": [
    "m = Model()\n",
    "@variable m -1 <= x[1:10] <= 1\n",
    "y = sum(x)"
   ]
  },
  {
   "cell_type": "code",
   "execution_count": null,
   "metadata": {},
   "outputs": [],
   "source": [
    "g() = for i in 1:10000; ConditionalJuMP.upperbound(y); end\n",
    "g()\n",
    "Profile.clear()\n",
    "@profile @time g()\n",
    "ProfileView.view()"
   ]
  },
  {
   "cell_type": "code",
   "execution_count": null,
   "metadata": {},
   "outputs": [],
   "source": [
    "@benchmark ConditionalJuMP.upperbound($y)"
   ]
  },
  {
   "cell_type": "code",
   "execution_count": null,
   "metadata": {
    "collapsed": true,
    "scrolled": false
   },
   "outputs": [],
   "source": [
    "@code_warntype LCPSim.update(x, xnext, u, cartpole.environment, 0.04, model)"
   ]
  },
  {
   "cell_type": "code",
   "execution_count": null,
   "metadata": {
    "collapsed": true
   },
   "outputs": [],
   "source": []
  }
 ],
 "metadata": {
  "kernelspec": {
   "display_name": "Julia 0.6.0",
   "language": "julia",
   "name": "julia-0.6"
  },
  "language_info": {
   "file_extension": ".jl",
   "mimetype": "application/julia",
   "name": "julia",
   "version": "0.6.0"
  }
 },
 "nbformat": 4,
 "nbformat_minor": 2
}
