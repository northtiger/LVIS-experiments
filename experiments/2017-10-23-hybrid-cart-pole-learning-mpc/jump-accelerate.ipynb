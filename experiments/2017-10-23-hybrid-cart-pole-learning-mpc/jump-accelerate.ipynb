{
 "cells": [
  {
   "cell_type": "code",
   "execution_count": 2,
   "metadata": {
    "collapsed": true
   },
   "outputs": [],
   "source": [
    "using BenchmarkTools, JuMP, Base.Test, ForwardDiff"
   ]
  },
  {
   "cell_type": "code",
   "execution_count": 1,
   "metadata": {},
   "outputs": [
    {
     "data": {
      "text/plain": [
       "acc"
      ]
     },
     "execution_count": 1,
     "metadata": {},
     "output_type": "execute_result"
    }
   ],
   "source": [
    "module acc\n",
    "\n",
    "using JuMP\n",
    "using ForwardDiff\n",
    "using StaticArrays\n",
    "\n",
    "getconstant(x::AffExpr) = x.constant\n",
    "getvars(x::AffExpr) = x.vars\n",
    "getcoeffs(x::AffExpr) = x.coeffs\n",
    "\n",
    "function accelerate(f::Function, x::AffExpr)\n",
    "    v = f(x.constant)\n",
    "    d = ForwardDiff.derivative(f, 0.0)\n",
    "    AffExpr(copy(x.vars), d * x.coeffs, v)\n",
    "end\n",
    "\n",
    "function accelerate(f::Function, xs::Vararg{AffExpr, N}) where N\n",
    "    v = getconstant.(xs)\n",
    "    val = f(Tuple(v)...)\n",
    "    y = zero(SVector{N, Float64})\n",
    "    d = Tuple(ForwardDiff.gradient(x -> f(Tuple(x)...), y, ForwardDiff.GradientConfig{1}(y)))\n",
    "    AffExpr(vcat(copy.(getvars.(xs))...), \n",
    "        vcat((d .* getcoeffs.(xs))...),\n",
    "        val)\n",
    "end\n",
    "\n",
    "\n",
    "function stable_gradient(f::Function, y::AbstractVector)\n",
    "    if length(y) < 100\n",
    "        ForwardDiff.gradient(f, y, ForwardDiff.GradientConfig{1}(y))\n",
    "    else\n",
    "        ForwardDiff.gradient(f, y, ForwardDiff.GradientConfig{10}(y))\n",
    "    end\n",
    "end\n",
    "\n",
    "function accelerate_grad(f::Function, v::AbstractVector{AffExpr})\n",
    "    y = getconstant.(v)\n",
    "    val = f(y)\n",
    "    ∇ = stable_gradient(f, y)\n",
    "    N = sum(x -> length(x.vars), v)\n",
    "    vars = Vector{Variable}(N)\n",
    "    coeffs = Vector{Float64}(N)\n",
    "    offset = 0\n",
    "    for j in 1:length(v)\n",
    "        expr = v[j]\n",
    "        Ni = length(expr.vars)\n",
    "        for i in 1:Ni\n",
    "            vars[i + offset] = expr.vars[i]\n",
    "            coeffs[i + offset] = ∇[j] * expr.coeffs[i]\n",
    "        end\n",
    "        offset += Ni\n",
    "    end\n",
    "    AffExpr(vars, coeffs, val)\n",
    "end\n",
    "\n",
    "accelerate(f::Function, x::AbstractVector{AffExpr}) = accelerate_grad(f, x)\n",
    "\n",
    "end"
   ]
  },
  {
   "cell_type": "code",
   "execution_count": null,
   "metadata": {
    "collapsed": true
   },
   "outputs": [],
   "source": [
    "function f(x) \n",
    "    y = x - x/2 + 10x - 3x + 10 * x + 1\n",
    "    for i in 1:100\n",
    "        y += i * x\n",
    "    end\n",
    "    y\n",
    "end\n",
    "\n",
    "function g(x)\n",
    "    y = zero(eltype(x))\n",
    "    for i in 1:5\n",
    "        for xx in x\n",
    "            y += xx\n",
    "        end\n",
    "    end\n",
    "    y\n",
    "end\n",
    "\n",
    "h(x, y) = x + y\n",
    "\n",
    "m = Model()\n",
    "@variable m q[1:10]\n",
    "v = [randn(10)' * rand(q, 10) for i in 1:10];\n",
    "sv = SVector(v...);\n",
    "\n",
    "setvalue.(q, randn(length(q)))\n",
    "@test getvalue(f(v[1])) ≈ getvalue(acc.accelerate(f, v[1]))\n",
    "@test getvalue(g(v)) ≈ getvalue(acc.accelerate(g, v))\n",
    "# @test getvalue(h(v[1], v[2])) ≈ getvalue(acc.accelerate(h, v[1], v[2]))"
   ]
  }
 ],
 "metadata": {
  "kernelspec": {
   "display_name": "Julia 0.6.0",
   "language": "julia",
   "name": "julia-0.6"
  },
  "language_info": {
   "file_extension": ".jl",
   "mimetype": "application/julia",
   "name": "julia",
   "version": "0.6.0"
  }
 },
 "nbformat": 4,
 "nbformat_minor": 2
}
