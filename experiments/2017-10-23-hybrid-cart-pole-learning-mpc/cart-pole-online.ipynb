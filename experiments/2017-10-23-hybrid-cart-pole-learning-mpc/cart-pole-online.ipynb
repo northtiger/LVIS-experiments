{
 "cells": [
  {
   "cell_type": "code",
   "execution_count": null,
   "metadata": {
    "collapsed": true
   },
   "outputs": [],
   "source": [
    "using Revise"
   ]
  },
  {
   "cell_type": "code",
   "execution_count": null,
   "metadata": {},
   "outputs": [],
   "source": [
    "using RigidBodyDynamics\n",
    "using LearningMPC\n",
    "using Gurobi\n",
    "using DrakeVisualizer\n",
    "using CoordinateTransformations\n",
    "using ProgressMeter\n",
    "using MLDataPattern\n",
    "using JLD2\n",
    "using ProfileView\n",
    "DrakeVisualizer.any_open_windows() || DrakeVisualizer.new_window()"
   ]
  },
  {
   "cell_type": "code",
   "execution_count": null,
   "metadata": {},
   "outputs": [],
   "source": [
    "import CartPoles\n",
    "import Nets"
   ]
  },
  {
   "cell_type": "code",
   "execution_count": null,
   "metadata": {},
   "outputs": [],
   "source": [
    "reload(\"CartPoles\")"
   ]
  },
  {
   "cell_type": "code",
   "execution_count": null,
   "metadata": {},
   "outputs": [],
   "source": [
    "const Sample = Tuple{Vector{Float64}, Matrix{Float64}}"
   ]
  },
  {
   "cell_type": "code",
   "execution_count": null,
   "metadata": {},
   "outputs": [],
   "source": [
    "cartpole = CartPoles.CartPole()\n",
    "mechanism = cartpole.mechanism\n",
    "basevis = Visualizer()[:cartpole]\n",
    "delete!(basevis)\n",
    "setgeometry!(basevis, cartpole)\n",
    "\n",
    "train_data = Sample[]\n",
    "test_data = Sample[]\n",
    "validation_data = Sample[]\n",
    "\n",
    "x_to_u = AffineMap(eye(4), zeros(4))\n",
    "v_to_y = AffineMap(diagm([20., 0]), zeros(2))\n",
    "\n",
    "widths = [4, 16, 16, 8, 2]\n",
    "activation = Nets.leaky_relu"
   ]
  },
  {
   "cell_type": "code",
   "execution_count": null,
   "metadata": {},
   "outputs": [],
   "source": [
    "cartpole_mpc_params = CartPoles.CartPoleMPCParams(Δt = 0.04, gap=1e-2)\n",
    "xstar = MechanismState(mechanism, zeros(2), zeros(2))\n",
    "\n",
    "lqrsol = CartPoles.LQRSolution(xstar, zeros(num_velocities(xstar)), cartpole_mpc_params.Q, cartpole_mpc_params.R)\n",
    "lqr_controller = CartPoles.LQRController(lqrsol)"
   ]
  },
  {
   "cell_type": "code",
   "execution_count": null,
   "metadata": {},
   "outputs": [],
   "source": [
    "params, widths, x_to_u, v_to_y = jldopen(\"cart-pole-dagger-0.04-params.jld2\", \"r\") do file\n",
    "    params = file[\"params\"]\n",
    "    widths = file[\"widths\"]\n",
    "    x_to_u = file[\"x_to_u\"]\n",
    "    v_to_y = file[\"v_to_y\"]\n",
    "    params, widths, x_to_u, v_to_y\n",
    "end;\n",
    "net = Nets.Net(Nets.Params(widths, params), activation, x_to_u, v_to_y)"
   ]
  },
  {
   "cell_type": "code",
   "execution_count": null,
   "metadata": {},
   "outputs": [],
   "source": [
    "net_controller = x -> begin\n",
    "    Nets.predict(net, state_vector(x))\n",
    "end\n",
    "\n",
    "mpc_controller = CartPoles.MPCController(cartpole, cartpole_mpc_params, xstar, lqrsol, [net_controller, lqr_controller]);\n",
    "mpc_controller.callback = (x, results) -> begin\n",
    "    if !isnull(results.lcp_updates)\n",
    "#         playback(basevis[:robot], get(results.lcp_updates), mpc_controller.params.Δt)\n",
    "        if !isnull(results.jacobian)\n",
    "            xv = state_vector(x)\n",
    "            yJ = hcat(get(results.lcp_updates)[1].input, get(results.jacobian))\n",
    "            r = rand()\n",
    "            if r < p_train\n",
    "                push!(train_data, (xv, yJ))\n",
    "            elseif r < p_train + p_validate\n",
    "                push!(validation_data, (xv, yJ))\n",
    "            else\n",
    "                push!(test_data, (xv, yJ))\n",
    "            end\n",
    "        end\n",
    "    end\n",
    "end"
   ]
  },
  {
   "cell_type": "code",
   "execution_count": null,
   "metadata": {},
   "outputs": [],
   "source": [
    "x0 = MechanismState{Float64}(mechanism)"
   ]
  },
  {
   "cell_type": "code",
   "execution_count": null,
   "metadata": {
    "collapsed": true
   },
   "outputs": [],
   "source": [
    "q0 = [2 * (rand() - 0.5), π * (rand() - 0.5)]\n",
    "v0 = (rand(2) .- 0.5);"
   ]
  },
  {
   "cell_type": "code",
   "execution_count": null,
   "metadata": {
    "collapsed": true
   },
   "outputs": [],
   "source": [
    "configuration(x0) .= q0\n",
    "velocity(x0) .= v0\n",
    "results_net = LCPSim.simulate(x0, net_controller, cartpole.environment, cartpole_mpc_params.Δt, 300, GurobiSolver(OutputFlag=0));"
   ]
  },
  {
   "cell_type": "code",
   "execution_count": null,
   "metadata": {
    "collapsed": true
   },
   "outputs": [],
   "source": [
    "set_configuration!(x0, configuration(results_net[1].state))\n",
    "settransform!(basevis[:robot], x0)\n",
    "\n",
    "playback(basevis[:robot], results_net, 0.5 * cartpole_mpc_params.Δt)"
   ]
  },
  {
   "cell_type": "code",
   "execution_count": null,
   "metadata": {},
   "outputs": [],
   "source": [
    "online_params = CartPoles.CartPoleMPCParams(Δt = 0.04, gap=1e-2, horizon=5)\n",
    "\n",
    "online_controller = CartPoles.OnlineMPCController(cartpole, \n",
    "    cartpole_mpc_params, xstar, lqrsol, [net_controller, lqr_controller]);"
   ]
  },
  {
   "cell_type": "code",
   "execution_count": null,
   "metadata": {},
   "outputs": [],
   "source": [
    "online_controller(x0)"
   ]
  },
  {
   "cell_type": "code",
   "execution_count": null,
   "metadata": {},
   "outputs": [],
   "source": [
    "configuration(x0) .= q0\n",
    "velocity(x0) .= v0\n",
    "results_online = LCPSim.simulate(x0, online_controller, cartpole.environment, cartpole_mpc_params.Δt, 10, GurobiSolver(OutputFlag=0));"
   ]
  },
  {
   "cell_type": "code",
   "execution_count": null,
   "metadata": {
    "collapsed": true
   },
   "outputs": [],
   "source": [
    "set_configuration!(x0, configuration(results_net[1].state))\n",
    "settransform!(basevis[:robot], x0)\n",
    "\n",
    "playback(basevis[:robot], results_net, 0.5 * cartpole_mpc_params.Δt)"
   ]
  },
  {
   "cell_type": "code",
   "execution_count": null,
   "metadata": {},
   "outputs": [],
   "source": [
    "LCPSim.simulate(x0, net_controller, cartpole.environment, cartpole_mpc_params.Δt, 50, GurobiSolver(OutputFlag=0));\n",
    "Profile.clear()\n",
    "@time @profile LCPSim.simulate(x0, net_controller, cartpole.environment, cartpole_mpc_params.Δt, 50, GurobiSolver(Gurobi.Env(), OutputFlag=0));\n",
    "ProfileView.view()"
   ]
  },
  {
   "cell_type": "code",
   "execution_count": null,
   "metadata": {},
   "outputs": [],
   "source": [
    "Profile.clear()\n",
    "@time @profile online_controller(x0)\n",
    "ProfileView.view()"
   ]
  },
  {
   "cell_type": "code",
   "execution_count": null,
   "metadata": {
    "collapsed": true
   },
   "outputs": [],
   "source": []
  }
 ],
 "metadata": {
  "kernelspec": {
   "display_name": "Julia 0.6.0",
   "language": "julia",
   "name": "julia-0.6"
  },
  "language_info": {
   "file_extension": ".jl",
   "mimetype": "application/julia",
   "name": "julia",
   "version": "0.6.0"
  }
 },
 "nbformat": 4,
 "nbformat_minor": 2
}
