{
 "cells": [
  {
   "cell_type": "code",
   "execution_count": 1,
   "metadata": {},
   "outputs": [
    {
     "name": "stderr",
     "output_type": "stream",
     "text": [
      "\u001b[1m\u001b[36mINFO: \u001b[39m\u001b[22m\u001b[36mRecompiling stale cache file /home/rdeits/locomotion/explorations/learning-mpc-2/packages/lib/v0.6/QPControl.ji for module QPControl.\n",
      "\u001b[39m"
     ]
    },
    {
     "data": {
      "text/html": [
       "    <script class='js-collapse-script'>\n",
       "        var curMatch =\n",
       "            window.location.href\n",
       "            .match(/(.*?)\\/notebooks\\/.*\\.ipynb/);\n",
       "\n",
       "        curMatch = curMatch ||\n",
       "            window.location.href\n",
       "            .match(/(.*?)\\/apps\\/.*\\.ipynb/);\n",
       "\n",
       "        if ( curMatch ) {\n",
       "            $('head').append('<base href=\"' + curMatch[1] + '/\">');\n",
       "        }\n",
       "    </script>\n"
      ],
      "text/plain": [
       "HTML{String}(\"    <script class='js-collapse-script'>\\n        var curMatch =\\n            window.location.href\\n            .match(/(.*?)\\\\/notebooks\\\\/.*\\\\.ipynb/);\\n\\n        curMatch = curMatch ||\\n            window.location.href\\n            .match(/(.*?)\\\\/apps\\\\/.*\\\\.ipynb/);\\n\\n        if ( curMatch ) {\\n            \\$('head').append('<base href=\\\"' + curMatch[1] + '/\\\">');\\n        }\\n    </script>\\n\")"
      ]
     },
     "metadata": {},
     "output_type": "display_data"
    },
    {
     "data": {
      "text/html": [
       "<script class='js-collapse-script' src='/assetserver/9db0e137604e898c25f194d972715156bd46cb81-assets/webio/dist/bundle.js'></script>"
      ],
      "text/plain": [
       "HTML{String}(\"<script class='js-collapse-script' src='/assetserver/9db0e137604e898c25f194d972715156bd46cb81-assets/webio/dist/bundle.js'></script>\")"
      ]
     },
     "metadata": {},
     "output_type": "display_data"
    },
    {
     "data": {
      "text/html": [
       "<script class='js-collapse-script' src='/assetserver/9db0e137604e898c25f194d972715156bd46cb81-assets/providers/ijulia_setup.js'></script>"
      ],
      "text/plain": [
       "HTML{String}(\"<script class='js-collapse-script' src='/assetserver/9db0e137604e898c25f194d972715156bd46cb81-assets/providers/ijulia_setup.js'></script>\")"
      ]
     },
     "metadata": {},
     "output_type": "display_data"
    },
    {
     "data": {
      "text/html": [
       "  <script class='js-collapse-script'>\n",
       "    $('.js-collapse-script').parent('.output_subarea').css('padding', '0');\n",
       "  </script>\n"
      ],
      "text/plain": [
       "HTML{String}(\"  <script class='js-collapse-script'>\\n    \\$('.js-collapse-script').parent('.output_subarea').css('padding', '0');\\n  </script>\\n\")"
      ]
     },
     "metadata": {},
     "output_type": "display_data"
    },
    {
     "name": "stderr",
     "output_type": "stream",
     "text": [
      "\u001b[1m\u001b[36mINFO: \u001b[39m\u001b[22m\u001b[36mLoading HttpServer methods...\n",
      "\u001b[39m\u001b[1m\u001b[36mINFO: \u001b[39m\u001b[22m\u001b[36mRecompiling stale cache file /home/rdeits/locomotion/explorations/learning-mpc-2/packages/lib/v0.6/LearningMPC.ji for module LearningMPC.\n",
      "\u001b[39mWARNING: using QPControl.MPCController in module LearningMPC conflicts with an existing identifier.\n"
     ]
    }
   ],
   "source": [
    "using RigidBodyDynamics\n",
    "using RigidBodyDynamics.Contact\n",
    "using QPControl\n",
    "using LCPSim\n",
    "using MeshCat\n",
    "using MeshCatMechanisms\n",
    "using LearningMPC\n",
    "using LearningMPC.Models\n",
    "using RigidBodySim\n",
    "using Gurobi\n",
    "using SimpleQP"
   ]
  },
  {
   "cell_type": "code",
   "execution_count": 233,
   "metadata": {},
   "outputs": [
    {
     "name": "stdout",
     "output_type": "stream",
     "text": [
      "Listening on 0.0.0.0:8704...\n"
     ]
    },
    {
     "name": "stderr",
     "output_type": "stream",
     "text": [
      "\u001b[1m\u001b[36mINFO: \u001b[39m\u001b[22m\u001b[36mServing MeshCat visualizer at http://127.0.0.1:8704\n",
      "\u001b[39mError handling websocket connection:\n",
      "\u001b[91mWebSockets.WebSocketClosedError(\"ws|server respond to OPCODE_CLOSE 1001:Going Away\")\u001b[39m"
     ]
    }
   ],
   "source": [
    "vis = Visualizer()\n",
    "open(vis)"
   ]
  },
  {
   "cell_type": "code",
   "execution_count": 331,
   "metadata": {},
   "outputs": [
    {
     "data": {
      "text/plain": [
       "0.002"
      ]
     },
     "execution_count": 331,
     "metadata": {},
     "output_type": "execute_result"
    }
   ],
   "source": [
    "Δt = 0.002"
   ]
  },
  {
   "cell_type": "code",
   "execution_count": 338,
   "metadata": {},
   "outputs": [
    {
     "data": {
      "text/plain": [
       "(::LQRSolution) (generic function with 2 methods)"
      ]
     },
     "execution_count": 338,
     "metadata": {},
     "output_type": "execute_result"
    },
    {
     "name": "stdout",
     "output_type": "stream",
     "text": [
      "Academic license - for non-commercial use only\n",
      "Academic license - for non-commercial use only\n"
     ]
    }
   ],
   "source": [
    "control_model = BoxAtlas(add_contacts=false)\n",
    "sim_model = BoxAtlas(add_contacts=true)\n",
    "# position_bounds(findjoint(mechanism(control_model), \"floating_base\")) .= RigidBodyDynamics.Bounds(-Inf, Inf)\n",
    "position_bounds(findjoint(mechanism(sim_model), \"floating_base\")) .= RigidBodyDynamics.Bounds(-Inf, Inf)\n",
    "\n",
    "delete!(vis)\n",
    "mvis = MechanismVisualizer(sim_model, vis)\n",
    "\n",
    "lqrsol = let params = MPCParams(control_model)\n",
    "    params.Δt = 0.05\n",
    "    LQRSolution(control_model, params)\n",
    "end"
   ]
  },
  {
   "cell_type": "code",
   "execution_count": 339,
   "metadata": {},
   "outputs": [
    {
     "name": "stdout",
     "output_type": "stream",
     "text": [
      "Listening on 0.0.0.0:8714...\n"
     ]
    },
    {
     "name": "stderr",
     "output_type": "stream",
     "text": [
      "\u001b[1m\u001b[36mINFO: \u001b[39m\u001b[22m\u001b[36mServing MeshCat visualizer at http://127.0.0.1:8714\n",
      "\u001b[39mError handling websocket connection:\n",
      "\u001b[91mWebSockets.WebSocketClosedError(\"ws|server respond to OPCODE_CLOSE 1001:Going Away\")\u001b[39m"
     ]
    }
   ],
   "source": [
    "mvis2 = MechanismVisualizer(mechanism(sim_model), Skeleton(randomize_colors=true))\n",
    "open(mvis2)\n",
    "copy!(mvis2, nominal_state(sim_model))"
   ]
  },
  {
   "cell_type": "code",
   "execution_count": 340,
   "metadata": {},
   "outputs": [
    {
     "data": {
      "text/plain": [
       "true"
      ]
     },
     "execution_count": 340,
     "metadata": {},
     "output_type": "execute_result"
    }
   ],
   "source": [
    "state = nominal_state(sim_model)\n",
    "set_velocity!(state, \n",
    "    findjoint(mechanism(sim_model), \"floating_base\"), \n",
    "    [-0.4, 0, 0])\n",
    "problem = LearningMPC.simulation_problem(state, lqrsol, Δt, 5.0)\n",
    "\n",
    "sol = RigidBodySim.solve(problem, Tsit5(), abs_tol = 1e-8, dt = 1e-6)\n",
    "setanimation!(mvis, sol)"
   ]
  },
  {
   "cell_type": "code",
   "execution_count": 341,
   "metadata": {},
   "outputs": [
    {
     "name": "stdout",
     "output_type": "stream",
     "text": [
      "Academic license - for non-commercial use only\n"
     ]
    }
   ],
   "source": [
    "mpc = QPControl.MPCController{QPControl.ContactPoint{4}}(\n",
    "    mechanism(sim_model),\n",
    "    GurobiOptimizer(OutputFlag=0, TimeLimit=1)\n",
    ")\n",
    "stage = addstage!(mpc, Δt)\n",
    "floor = HalfSpace3D(Point3D(root_frame(mechanism(sim_model)), 0., 0, 0),\n",
    "    FreeVector3D(root_frame(mechanism(sim_model)), 0., 0, 1))\n",
    "\n",
    "for bodyname in [\"r_foot_sole\", \"l_foot_sole\"]\n",
    "    body = findbody(mechanism(sim_model), bodyname)\n",
    "    position = Point3D(default_frame(body), 0., 0, 0)\n",
    "    μ = 0.4\n",
    "    contact = addcontact!(mpc, stage, position, floor, μ, \n",
    "        QPControl.LCPContact(separation_atol=1e-3),\n",
    "#         QPControl.BooleanContact(separation_atol=1e-3)\n",
    "    )\n",
    "    contact.maxnormalforce[] = 1e6\n",
    "end\n",
    "\n",
    "objective = 0\n",
    "for stage in mpc.stages\n",
    "    x̄ = @expression vcat(stage.q, stage.v) - lqrsol.x0\n",
    "    ū = @expression stage.u - lqrsol.u0\n",
    "#     ū = stage.u\n",
    "#     ū = stage.v̇\n",
    "    objective = @expression objective + x̄' * lqrsol.Q * x̄ \n",
    "    objective = @expression objective + ū' * lqrsol.R * ū\n",
    "    for contact in stage.contacts\n",
    "        contact.weight[] = 1e-9\n",
    "        objective = @expression objective + QPControl.objectiveterm(contact, mpc.qpmodel)\n",
    "    end\n",
    "end\n",
    "x̄ = @expression vcat(last(mpc.stages).q, last(mpc.stages).v) - lqrsol.x0\n",
    "objective = @expression objective + x̄' * lqrsol.S * x̄;\n",
    "@objective mpc.qpmodel Minimize objective"
   ]
  },
  {
   "cell_type": "code",
   "execution_count": 342,
   "metadata": {},
   "outputs": [
    {
     "data": {
      "text/plain": [
       "true"
      ]
     },
     "execution_count": 342,
     "metadata": {},
     "output_type": "execute_result"
    },
    {
     "name": "stderr",
     "output_type": "stream",
     "text": [
      "\u001b[1m\u001b[36mINFO: \u001b[39m\u001b[22m\u001b[36mws|server received OPCODE_PING\n",
      "\u001b[39m\u001b[1m\u001b[36mINFO: \u001b[39m\u001b[22m\u001b[36mws|server received OPCODE_PING\n",
      "\u001b[39m\u001b[1m\u001b[36mINFO: \u001b[39m\u001b[22m\u001b[36mws|server received OPCODE_PING\n",
      "\u001b[39m\u001b[1m\u001b[36mINFO: \u001b[39m\u001b[22m\u001b[36mws|server received OPCODE_PING\n",
      "\u001b[39m\u001b[1m\u001b[36mINFO: \u001b[39m\u001b[22m\u001b[36mws|server received OPCODE_PING\n",
      "\u001b[39m\u001b[1m\u001b[36mINFO: \u001b[39m\u001b[22m\u001b[36mws|server received OPCODE_PING\n",
      "\u001b[39m\u001b[1m\u001b[36mINFO: \u001b[39m\u001b[22m\u001b[36mws|server received OPCODE_PING\n",
      "\u001b[39mError handling websocket connection:\n",
      "\u001b[91mWebSockets.WebSocketClosedError(\"ws|server respond to OPCODE_CLOSE 1001:Going Away\")\u001b[39m"
     ]
    }
   ],
   "source": [
    "state = nominal_state(sim_model)\n",
    "set_velocity!(state, findjoint(mechanism(sim_model), \"floating_base\"), \n",
    "    [-0.4, 0, 0])\n",
    "problem = LearningMPC.simulation_problem(state, mpc, Δt, 5.0; damping_kd=0.0)\n",
    "\n",
    "sol = RigidBodySim.solve(problem, Tsit5(), abs_tol = 1e-8, dt = 1e-6)\n",
    "setanimation!(mvis, sol)"
   ]
  },
  {
   "cell_type": "code",
   "execution_count": 330,
   "metadata": {},
   "outputs": [
    {
     "data": {
      "text/plain": [
       "true"
      ]
     },
     "execution_count": 330,
     "metadata": {},
     "output_type": "execute_result"
    }
   ],
   "source": [
    "setanimation!(mvis, sol)"
   ]
  },
  {
   "cell_type": "code",
   "execution_count": 200,
   "metadata": {},
   "outputs": [
    {
     "data": {
      "text/plain": [
       "simulate_lcp! (generic function with 2 methods)"
      ]
     },
     "execution_count": 200,
     "metadata": {},
     "output_type": "execute_result"
    }
   ],
   "source": [
    "function simulate_lcp!(state::MechanismState, mpc::QPControl.MPCController, t_final=1.0)\n",
    "    # Simulate the system by repeatedly running the MPC controller\n",
    "    # and then updating the state based on the expected state\n",
    "    # at the end of the first MPC stage.\n",
    "    ts = Float64[]\n",
    "    qs = Vector{Float64}[]\n",
    "    vs = Vector{Float64}[]\n",
    "    τ = similar(velocity(state))\n",
    "    for t in 0 : (mpc.stages[1].Δt) : t_final\n",
    "        push!(ts, t)\n",
    "        push!(qs, configuration(state))\n",
    "        push!(vs, velocity(state))\n",
    "        mpc(τ, t, state)\n",
    "        if any(isnan, τ)\n",
    "            break\n",
    "        end\n",
    "        # Assume the dynamics behave exactly as modeled in the optimization\n",
    "        set_configuration!(state, SimpleQP.value.(mpc.qpmodel, mpc.stages[1].q))\n",
    "        set_velocity!(state, SimpleQP.value.(mpc.qpmodel, mpc.stages[1].v))\n",
    "        \n",
    "#         set_configuration!(mpc.state, configuration(state))\n",
    "#         set_velocity!(mpc.state, velocity(state))\n",
    "#         for contact in mpc.stages[1].contacts\n",
    "#             if string(contact.position.frame) == \"after_pelvis_to_l_foot_sole_extension\"\n",
    "#                 point_world = transform(mpc.state, contact.position, root_frame(mpc.state.mechanism))\n",
    "#                 Jp = point_jacobian(mpc.state, \n",
    "#                     path(mpc.state.mechanism, root_body(mpc.state.mechanism), \n",
    "#                         body_fixed_frame_to_body(mpc.state.mechanism, contact.position.frame)),\n",
    "#                     point_world)\n",
    "#                 v_world = point_velocity(Jp, velocity(mpc.state))\n",
    "#                 @show point_world.v\n",
    "#                 @show v_world.v\n",
    "#                 @show SimpleQP.value.(mpc.qpmodel, contact.force_local.v)\n",
    "#             end\n",
    "#         end\n",
    "        \n",
    "    end\n",
    "    ts, qs, vs\n",
    "end"
   ]
  },
  {
   "cell_type": "code",
   "execution_count": 201,
   "metadata": {},
   "outputs": [
    {
     "data": {
      "text/plain": [
       "true"
      ]
     },
     "execution_count": 201,
     "metadata": {},
     "output_type": "execute_result"
    }
   ],
   "source": [
    "state = nominal_state(sim_model)\n",
    "set_velocity!(state, \n",
    "    findjoint(mechanism(sim_model), \"floating_base\"), \n",
    "    [-0.4, 0, 0])\n",
    "# set_configuration!(state, \n",
    "#     findjoint(mechanism(sim_model), \"floating_base\"), \n",
    "#     [0.5, 1.0, 0])\n",
    "ts, qs, vs = simulate_lcp!(state, mpc, 1.0)\n",
    "setanimation!(mvis, ts, qs, fps=round(Int, 1/Δt))"
   ]
  },
  {
   "cell_type": "code",
   "execution_count": 204,
   "metadata": {},
   "outputs": [
    {
     "data": {
      "text/plain": [
       "(::MPCController) (generic function with 2 methods)"
      ]
     },
     "execution_count": 204,
     "metadata": {},
     "output_type": "execute_result"
    },
    {
     "name": "stdout",
     "output_type": "stream",
     "text": [
      "Academic license - for non-commercial use only\n",
      "Academic license - for non-commercial use only\n"
     ]
    },
    {
     "name": "stderr",
     "output_type": "stream",
     "text": [
      "WARNING: Method definition lqr_cost(LearningMPC.LQRSolution{T} where T, Union{RigidBodyDynamics.MechanismState{X, M, C, JointCollection} where JointCollection where C where M where X, LCPSim.StateRecord{T, M} where M where T}, AbstractArray{#s733, 1} where #s733<:(LCPSim.LCPUpdate{T, M, U, Tdt} where Tdt where U where M where T)) in module LearningMPC at /home/rdeits/locomotion/explorations/learning-mpc-2/packages/v0.6/LearningMPC/src/mpc.jl:56 overwritten at /home/rdeits/locomotion/explorations/learning-mpc-2/packages/v0.6/LearningMPC/src/mpc.jl:56.\n"
     ]
    }
   ],
   "source": [
    "lcpsim_mpc = let params = MPCParams(control_model)\n",
    "    params.horizon = 1\n",
    "    params.Δt = Δt\n",
    "    LearningMPC.MPCController(control_model, params, lqrsol, [lqrsol])\n",
    "end"
   ]
  },
  {
   "cell_type": "code",
   "execution_count": 211,
   "metadata": {},
   "outputs": [
    {
     "data": {
      "text/plain": [
       "simulate_lcpsim_mpc! (generic function with 2 methods)"
      ]
     },
     "execution_count": 211,
     "metadata": {},
     "output_type": "execute_result"
    }
   ],
   "source": [
    "function simulate_lcpsim_mpc!(state::MechanismState, mpc::LearningMPC.MPCController, t_final=1.0)\n",
    "    # Simulate the system by repeatedly running the MPC controller\n",
    "    # and then updating the state based on the expected state\n",
    "    # at the end of the first MPC stage.\n",
    "    ts = Float64[]\n",
    "    qs = Vector{Float64}[]\n",
    "    vs = Vector{Float64}[]\n",
    "    τ = similar(velocity(state))\n",
    "    for t in 0 : (mpc.params.Δt) : t_final\n",
    "        push!(ts, t)\n",
    "        push!(qs, configuration(state))\n",
    "        push!(vs, velocity(state))\n",
    "        set_configuration!(mpc.scratch_state, configuration(state))\n",
    "        set_velocity!(mpc.scratch_state, velocity(state))\n",
    "        results = LearningMPC.run_mpc(mpc.scratch_state, mpc.env, mpc.params, mpc.cost, mpc.warmstart_controllers)\n",
    "        if isnull(results.lcp_updates)\n",
    "            break\n",
    "        end\n",
    "        updates = get(results.lcp_updates)\n",
    "        set_configuration!(state, configuration(updates[1].state))\n",
    "        set_velocity!(state, velocity(updates[1].state))\n",
    "    end\n",
    "    ts, qs, vs\n",
    "end"
   ]
  },
  {
   "cell_type": "code",
   "execution_count": 209,
   "metadata": {},
   "outputs": [
    {
     "data": {
      "text/plain": [
       "true"
      ]
     },
     "execution_count": 209,
     "metadata": {},
     "output_type": "execute_result"
    }
   ],
   "source": [
    "state = nominal_state(sim_model)\n",
    "set_velocity!(state, findjoint(mechanism(sim_model), \"floating_base\"), \n",
    "    [-0.4, 0, 0])\n",
    "problem = LearningMPC.simulation_problem(state, lcpsim_mpc, Δt, 1.0; damping_kd=0.0)\n",
    "\n",
    "sol = RigidBodySim.solve(problem, Tsit5(), abs_tol = 1e-8, dt = 1e-6)\n",
    "setanimation!(mvis, sol)"
   ]
  },
  {
   "cell_type": "code",
   "execution_count": 212,
   "metadata": {},
   "outputs": [
    {
     "data": {
      "text/plain": [
       "true"
      ]
     },
     "execution_count": 212,
     "metadata": {},
     "output_type": "execute_result"
    }
   ],
   "source": [
    "state = nominal_state(sim_model)\n",
    "set_velocity!(state, \n",
    "    findjoint(mechanism(sim_model), \"floating_base\"), \n",
    "    [-0.4, 0, 0])\n",
    "ts, qs, vs = simulate_lcpsim_mpc!(state, lcpsim_mpc, 1.0)\n",
    "setanimation!(mvis, ts, qs, fps=round(Int, 1/Δt))"
   ]
  },
  {
   "cell_type": "code",
   "execution_count": 296,
   "metadata": {},
   "outputs": [
    {
     "ename": "LoadError",
     "evalue": "\u001b[91mPrincipal inertias [0.014, 0.025, 0.039] do not satisfy the triangle inequalities, so the equivalent inertial ellipsoid is not well-defined.\u001b[39m",
     "output_type": "error",
     "traceback": [
      "\u001b[91mPrincipal inertias [0.014, 0.025, 0.039] do not satisfy the triangle inequalities, so the equivalent inertial ellipsoid is not well-defined.\u001b[39m",
      "",
      "Stacktrace:",
      " [1] \u001b[1minertial_ellipsoid_dimensions\u001b[22m\u001b[22m\u001b[1m(\u001b[22m\u001b[22m::Float64, ::Array{Float64,1}\u001b[1m)\u001b[22m\u001b[22m at \u001b[1m/home/rdeits/locomotion/explorations/learning-mpc-2/packages/v0.6/MechanismGeometries/src/skeleton.jl:40\u001b[22m\u001b[22m",
      " [2] \u001b[1minertial_ellipsoid\u001b[22m\u001b[22m\u001b[1m(\u001b[22m\u001b[22m::RigidBodyDynamics.Spatial.SpatialInertia{Float64}\u001b[1m)\u001b[22m\u001b[22m at \u001b[1m/home/rdeits/locomotion/explorations/learning-mpc-2/packages/v0.6/MechanismGeometries/src/skeleton.jl:55\u001b[22m\u001b[22m",
      " [3] \u001b[1mvisual_elements\u001b[22m\u001b[22m\u001b[1m(\u001b[22m\u001b[22m::RigidBodyDynamics.Mechanism{Float64}, ::MechanismGeometries.Skeleton\u001b[1m)\u001b[22m\u001b[22m at \u001b[1m/home/rdeits/locomotion/explorations/learning-mpc-2/packages/v0.6/MechanismGeometries/src/skeleton.jl:105\u001b[22m\u001b[22m",
      " [4] \u001b[1msetelement!\u001b[22m\u001b[22m at \u001b[1m/home/rdeits/locomotion/explorations/learning-mpc-2/packages/v0.6/MeshCatMechanisms/src/visualizer.jl:18\u001b[22m\u001b[22m [inlined]",
      " [5] \u001b[1mMeshCatMechanisms.MechanismVisualizer\u001b[22m\u001b[22m\u001b[1m(\u001b[22m\u001b[22m::RigidBodyDynamics.MechanismState{Float64,Float64,Float64,TypeSortedCollections.TypeSortedCollection{Tuple{Array{RigidBodyDynamics.Joint{Float64,RigidBodyDynamics.Fixed{Float64}},1},Array{RigidBodyDynamics.Joint{Float64,RigidBodyDynamics.Planar{Float64}},1},Array{RigidBodyDynamics.Joint{Float64,RigidBodyDynamics.Revolute{Float64}},1},Array{RigidBodyDynamics.Joint{Float64,RigidBodyDynamics.Prismatic{Float64}},1}},4}}, ::MechanismGeometries.Skeleton, ::MeshCat.Visualizer\u001b[1m)\u001b[22m\u001b[22m at \u001b[1m/home/rdeits/locomotion/explorations/learning-mpc-2/packages/v0.6/MeshCatMechanisms/src/visualizer.jl:13\u001b[22m\u001b[22m",
      " [6] \u001b[1mMeshCatMechanisms.MechanismVisualizer\u001b[22m\u001b[22m\u001b[1m(\u001b[22m\u001b[22m::RigidBodyDynamics.MechanismState{Float64,Float64,Float64,TypeSortedCollections.TypeSortedCollection{Tuple{Array{RigidBodyDynamics.Joint{Float64,RigidBodyDynamics.Fixed{Float64}},1},Array{RigidBodyDynamics.Joint{Float64,RigidBodyDynamics.Planar{Float64}},1},Array{RigidBodyDynamics.Joint{Float64,RigidBodyDynamics.Revolute{Float64}},1},Array{RigidBodyDynamics.Joint{Float64,RigidBodyDynamics.Prismatic{Float64}},1}},4}}, ::MechanismGeometries.Skeleton\u001b[1m)\u001b[22m\u001b[22m at \u001b[1m/home/rdeits/locomotion/explorations/learning-mpc-2/packages/v0.6/MeshCatMechanisms/src/visualizer.jl:12\u001b[22m\u001b[22m",
      " [7] \u001b[1mMeshCatMechanisms.MechanismVisualizer\u001b[22m\u001b[22m\u001b[1m(\u001b[22m\u001b[22m::RigidBodyDynamics.Mechanism{Float64}, ::MechanismGeometries.Skeleton\u001b[1m)\u001b[22m\u001b[22m at \u001b[1m/home/rdeits/locomotion/explorations/learning-mpc-2/packages/v0.6/MeshCatMechanisms/src/visualizer.jl:23\u001b[22m\u001b[22m",
      " [8] \u001b[1minclude_string\u001b[22m\u001b[22m\u001b[1m(\u001b[22m\u001b[22m::String, ::String\u001b[1m)\u001b[22m\u001b[22m at \u001b[1m./loading.jl:522\u001b[22m\u001b[22m"
     ]
    }
   ],
   "source": []
  },
  {
   "cell_type": "code",
   "execution_count": null,
   "metadata": {},
   "outputs": [],
   "source": []
  }
 ],
 "metadata": {
  "kernelspec": {
   "display_name": "Julia 0.6.4",
   "language": "julia",
   "name": "julia-0.6"
  },
  "language_info": {
   "file_extension": ".jl",
   "mimetype": "application/julia",
   "name": "julia",
   "version": "0.6.4"
  }
 },
 "nbformat": 4,
 "nbformat_minor": 2
}
