{
 "cells": [
  {
   "cell_type": "code",
   "execution_count": 1,
   "metadata": {},
   "outputs": [],
   "source": [
    "using QPControl\n",
    "using RigidBodyDynamics\n",
    "using RigidBodyDynamics.Contact\n",
    "using StaticArrays\n",
    "using SimpleQP\n",
    "using Rotations\n",
    "using Gurobi"
   ]
  },
  {
   "cell_type": "code",
   "execution_count": 27,
   "metadata": {},
   "outputs": [
    {
     "data": {
      "text/plain": [
       "simulate_lcp! (generic function with 2 methods)"
      ]
     },
     "execution_count": 27,
     "metadata": {},
     "output_type": "execute_result"
    }
   ],
   "source": [
    "function add_base_joint!(mechanism, label, direction)\n",
    "    frame = CartesianFrame3D(\"base_$(label)_dummy\")\n",
    "    inertia = SpatialInertia(frame, SDiagonal(0., 0, 0), SVector(0., 0, 0), 0.0)\n",
    "    body = RigidBody(inertia)\n",
    "    joint = Joint(\"base_$(label)\", Prismatic(direction))\n",
    "    effort_bounds(joint) .= RigidBodyDynamics.Bounds(0, 0)\n",
    "    parent = last(bodies(mechanism))\n",
    "    attach!(mechanism, parent, body, joint)\n",
    "end\n",
    "\n",
    "function three_dof_point_mass()\n",
    "    world = RigidBody{Float64}(\"world\")\n",
    "    mechanism = Mechanism(world, gravity=SVector(0, 0, -9.81))\n",
    "    add_base_joint!(mechanism, \"x\", SVector(1., 0, 0))\n",
    "    add_base_joint!(mechanism, \"y\", SVector(0., 1, 0))\n",
    "    add_base_joint!(mechanism, \"z\", SVector(0., 0, 1))\n",
    "\n",
    "    frame = CartesianFrame3D(\"core\")\n",
    "    inertia = SpatialInertia(frame, SDiagonal(0.01, 0.01, 0.01), SVector(0., 0, 0), 1.0)\n",
    "    body = RigidBody(inertia)\n",
    "    joint = Joint(\"core_to_base\", Fixed{Float64}())\n",
    "    parent = last(bodies(mechanism))\n",
    "    joint_pose = Transform3D(frame_before(joint), default_frame(parent), RotXYZ(randn(), randn(), randn()))\n",
    "    attach!(mechanism, parent, body, joint)\n",
    "    mechanism\n",
    "end\n",
    "\n",
    "function add_floor!(mechanism, orientation, μ, contacting_body)\n",
    "    world = root_body(mechanism)\n",
    "    floor = HalfSpace3D(Point3D(default_frame(world), 0., 0, 0), FreeVector3D(default_frame(world), orientation * SVector(0., 0, 1)))\n",
    "    add_environment_primitive!(mechanism, floor)\n",
    "\n",
    "    contactmodel = SoftContactModel(hunt_crossley_hertz(k = 500e3), \n",
    "        ViscoelasticCoulombModel(μ, 20e3, 100.))\n",
    "    add_contact_point!(contacting_body, Contact.ContactPoint(Point3D(default_frame(contacting_body), 0., 0, 0), contactmodel))\n",
    "    floor\n",
    "end\n",
    "\n",
    "function mpc_lcp_feasibility_problem(mechanism, optimizer, floor, Δt)\n",
    "    mpc = QPControl.MPCController{QPControl.ContactPoint{8}}(mechanism, optimizer)\n",
    "    stage = QPControl.addstage!(mpc, 0.01)\n",
    "    for body in bodies(mechanism)\n",
    "        for point in RigidBodyDynamics.contact_points(body)\n",
    "            position = location(point)\n",
    "            μ = point.model.friction.μ\n",
    "            contact = addcontact!(mpc, stage, position, floor, μ, QPControl.LCPContact())\n",
    "            contact.maxnormalforce[] = 1e6\n",
    "        end\n",
    "    end\n",
    "    mpc\n",
    "end\n",
    "\n",
    "function simulate_lcp!(state::MechanismState, mpc::MPCController, t_final=1.0)\n",
    "    # Simulate the system by repeatedly running the MPC controller\n",
    "    # and then updating the state based on the expected state\n",
    "    # at the end of the first MPC stage.\n",
    "    ts = Float64[]\n",
    "    qs = Vector{Float64}[]\n",
    "    vs = Vector{Float64}[]\n",
    "    τ = similar(velocity(state))\n",
    "    for t in 0 : (mpc.stages[1].Δt) : t_final\n",
    "        push!(ts, t)\n",
    "        push!(qs, configuration(state))\n",
    "        push!(vs, velocity(state))\n",
    "        mpc(τ, t, state)\n",
    "        # Assume the dynamics behave exactly as modeled in the optimization\n",
    "        set_configuration!(state, SimpleQP.value.(mpc.qpmodel, mpc.stages[1].q))\n",
    "        set_velocity!(state, SimpleQP.value.(mpc.qpmodel, mpc.stages[1].v))\n",
    "    end\n",
    "    ts, qs, vs\n",
    "end"
   ]
  },
  {
   "cell_type": "code",
   "execution_count": 21,
   "metadata": {},
   "outputs": [],
   "source": [
    "using MeshCatMechanisms\n",
    "using MeshCat"
   ]
  },
  {
   "cell_type": "code",
   "execution_count": 4,
   "metadata": {},
   "outputs": [],
   "source": [
    "vis = Visualizer()\n",
    "open(vis)"
   ]
  },
  {
   "cell_type": "code",
   "execution_count": 28,
   "metadata": {},
   "outputs": [],
   "source": [
    "optimizer = GurobiOptimizer(OutputFlag=0)\n",
    "\n",
    "mechanism = three_dof_point_mass()\n",
    "μ = 0.1\n",
    "floor = add_floor!(mechanism, RotX(0.0), μ, findbody(mechanism, \"core\"))\n",
    "delete!(vis)\n",
    "mvis = MechanismVisualizer(mechanism, Skeleton(), vis)\n",
    "\n",
    "# Create an MPC \"controller\", which we will use as a simple\n",
    "# one-step LCP simulator\n",
    "Δt = 0.003\n",
    "mpc = mpc_lcp_feasibility_problem(mechanism, optimizer, floor, Δt);"
   ]
  },
  {
   "cell_type": "code",
   "execution_count": 29,
   "metadata": {},
   "outputs": [
    {
     "data": {
      "text/plain": [
       "true"
      ]
     },
     "execution_count": 29,
     "metadata": {},
     "output_type": "execute_result"
    },
    {
     "name": "stdout",
     "output_type": "stream",
     "text": [
      "Academic license - for non-commercial use only\n"
     ]
    }
   ],
   "source": [
    "state = MechanismState(mechanism)\n",
    "set_configuration!(state, [0., 0, 0.5])\n",
    "set_velocity!(state, [-2.0, 0, 0])\n",
    "ts, qs, vs = RigidBodyDynamics.simulate(state, 5.0, mpc; Δt=Δt)\n",
    "setanimation!(mvis, ts, qs)"
   ]
  },
  {
   "cell_type": "code",
   "execution_count": 19,
   "metadata": {},
   "outputs": [
    {
     "data": {
      "text/plain": [
       "true"
      ]
     },
     "execution_count": 19,
     "metadata": {},
     "output_type": "execute_result"
    }
   ],
   "source": [
    "state = MechanismState(mechanism)\n",
    "set_configuration!(state, [0., 0, 0.5])\n",
    "set_velocity!(state, [-2.0, 0, 0])\n",
    "ts, qs, vs = simulate_lcp!(state, mpc)\n",
    "setanimation!(mvis, ts, qs)"
   ]
  },
  {
   "cell_type": "code",
   "execution_count": null,
   "metadata": {},
   "outputs": [],
   "source": []
  }
 ],
 "metadata": {
  "kernelspec": {
   "display_name": "Julia 0.6.4",
   "language": "julia",
   "name": "julia-0.6"
  },
  "language_info": {
   "file_extension": ".jl",
   "mimetype": "application/julia",
   "name": "julia",
   "version": "0.6.4"
  }
 },
 "nbformat": 4,
 "nbformat_minor": 2
}
