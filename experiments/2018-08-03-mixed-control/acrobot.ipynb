{
 "cells": [
  {
   "cell_type": "code",
   "execution_count": 1,
   "metadata": {},
   "outputs": [
    {
     "name": "stderr",
     "output_type": "stream",
     "text": [
      "\u001b[1m\u001b[36mINFO: \u001b[39m\u001b[22m\u001b[36mRecompiling stale cache file /home/rdeits/locomotion/explorations/learning-mpc-2/packages/lib/v0.6/QPControl.ji for module QPControl.\n",
      "\u001b[39m\u001b[1m\u001b[36mINFO: \u001b[39m\u001b[22m\u001b[36mRecompiling stale cache file /home/rdeits/locomotion/explorations/learning-mpc-2/packages/lib/v0.6/LCPSim.ji for module LCPSim.\n",
      "\u001b[39m"
     ]
    },
    {
     "data": {
      "text/html": [
       "    <script class='js-collapse-script'>\n",
       "        var curMatch =\n",
       "            window.location.href\n",
       "            .match(/(.*?)\\/notebooks\\/.*\\.ipynb/);\n",
       "\n",
       "        curMatch = curMatch ||\n",
       "            window.location.href\n",
       "            .match(/(.*?)\\/apps\\/.*\\.ipynb/);\n",
       "\n",
       "        if ( curMatch ) {\n",
       "            $('head').append('<base href=\"' + curMatch[1] + '/\">');\n",
       "        }\n",
       "    </script>\n"
      ],
      "text/plain": [
       "HTML{String}(\"    <script class='js-collapse-script'>\\n        var curMatch =\\n            window.location.href\\n            .match(/(.*?)\\\\/notebooks\\\\/.*\\\\.ipynb/);\\n\\n        curMatch = curMatch ||\\n            window.location.href\\n            .match(/(.*?)\\\\/apps\\\\/.*\\\\.ipynb/);\\n\\n        if ( curMatch ) {\\n            \\$('head').append('<base href=\\\"' + curMatch[1] + '/\\\">');\\n        }\\n    </script>\\n\")"
      ]
     },
     "metadata": {},
     "output_type": "display_data"
    },
    {
     "data": {
      "text/html": [
       "<script class='js-collapse-script' src='/assetserver/9db0e137604e898c25f194d972715156bd46cb81-assets/webio/dist/bundle.js'></script>"
      ],
      "text/plain": [
       "HTML{String}(\"<script class='js-collapse-script' src='/assetserver/9db0e137604e898c25f194d972715156bd46cb81-assets/webio/dist/bundle.js'></script>\")"
      ]
     },
     "metadata": {},
     "output_type": "display_data"
    },
    {
     "data": {
      "text/html": [
       "<script class='js-collapse-script' src='/assetserver/9db0e137604e898c25f194d972715156bd46cb81-assets/providers/ijulia_setup.js'></script>"
      ],
      "text/plain": [
       "HTML{String}(\"<script class='js-collapse-script' src='/assetserver/9db0e137604e898c25f194d972715156bd46cb81-assets/providers/ijulia_setup.js'></script>\")"
      ]
     },
     "metadata": {},
     "output_type": "display_data"
    },
    {
     "data": {
      "text/html": [
       "  <script class='js-collapse-script'>\n",
       "    $('.js-collapse-script').parent('.output_subarea').css('padding', '0');\n",
       "  </script>\n"
      ],
      "text/plain": [
       "HTML{String}(\"  <script class='js-collapse-script'>\\n    \\$('.js-collapse-script').parent('.output_subarea').css('padding', '0');\\n  </script>\\n\")"
      ]
     },
     "metadata": {},
     "output_type": "display_data"
    },
    {
     "name": "stderr",
     "output_type": "stream",
     "text": [
      "\u001b[1m\u001b[36mINFO: \u001b[39m\u001b[22m\u001b[36mLoading HttpServer methods...\n",
      "\u001b[39m\u001b[1m\u001b[36mINFO: \u001b[39m\u001b[22m\u001b[36mRecompiling stale cache file /home/rdeits/locomotion/explorations/learning-mpc-2/packages/lib/v0.6/LearningMPC.ji for module LearningMPC.\n",
      "\u001b[39mWARNING: using QPControl.MPCController in module LearningMPC conflicts with an existing identifier.\n"
     ]
    }
   ],
   "source": [
    "using RigidBodyDynamics\n",
    "using RigidBodyDynamics.Contact\n",
    "using QPControl\n",
    "using LCPSim\n",
    "using MeshCat\n",
    "using MeshCatMechanisms\n",
    "using LearningMPC\n",
    "using LearningMPC.Models\n",
    "using RigidBodySim\n",
    "using Gurobi\n",
    "using SimpleQP"
   ]
  },
  {
   "cell_type": "code",
   "execution_count": 2,
   "metadata": {},
   "outputs": [
    {
     "name": "stdout",
     "output_type": "stream",
     "text": [
      "Listening on 0.0.0.0:8700...\n"
     ]
    },
    {
     "name": "stderr",
     "output_type": "stream",
     "text": [
      "\u001b[1m\u001b[36mINFO: \u001b[39m\u001b[22m\u001b[36mServing MeshCat visualizer at http://127.0.0.1:8700\n",
      "\u001b[39m"
     ]
    }
   ],
   "source": [
    "vis = Visualizer()\n",
    "open(vis)"
   ]
  },
  {
   "cell_type": "code",
   "execution_count": 3,
   "metadata": {},
   "outputs": [
    {
     "data": {
      "text/plain": [
       "0.003"
      ]
     },
     "execution_count": 3,
     "metadata": {},
     "output_type": "execute_result"
    }
   ],
   "source": [
    "Δt = 0.003"
   ]
  },
  {
   "cell_type": "code",
   "execution_count": 24,
   "metadata": {},
   "outputs": [
    {
     "data": {
      "text/plain": [
       "MeshCatMechanisms.MechanismVisualizer{RigidBodyDynamics.MechanismState{Float64,Float64,Float64,TypeSortedCollections.TypeSortedCollection{Tuple{Array{RigidBodyDynamics.Joint{Float64,RigidBodyDynamics.Fixed{Float64}},1},Array{RigidBodyDynamics.Joint{Float64,RigidBodyDynamics.Revolute{Float64}},1}},2}},MeshCat.Visualizer}(MechanismState{Float64, Float64, Float64, …}(…), MeshCat Visualizer with path /meshcat, 3)"
      ]
     },
     "execution_count": 24,
     "metadata": {},
     "output_type": "execute_result"
    }
   ],
   "source": [
    "urdf = Pkg.dir(\"RigidBodyDynamics\", \"test\", \"urdf\", \"Acrobot.urdf\")\n",
    "mechanism = parse_urdf(Float64, urdf)\n",
    "effort_bounds(findjoint(mechanism, \"shoulder\")) .= RigidBodyDynamics.Bounds(0, 0)\n",
    "delete!(vis)\n",
    "mvis = MechanismVisualizer(mechanism, URDFVisuals(urdf), vis)"
   ]
  },
  {
   "cell_type": "code",
   "execution_count": 25,
   "metadata": {},
   "outputs": [
    {
     "data": {
      "text/plain": [
       "init! (generic function with 1 method)"
      ]
     },
     "execution_count": 25,
     "metadata": {},
     "output_type": "execute_result"
    }
   ],
   "source": [
    "function init!(x::MechanismState)\n",
    "    zero!(x)\n",
    "    set_configuration!(x, [π, 0])\n",
    "    x\n",
    "end"
   ]
  },
  {
   "cell_type": "code",
   "execution_count": 62,
   "metadata": {},
   "outputs": [
    {
     "data": {
      "text/plain": [
       "(::LQRSolution) (generic function with 2 methods)"
      ]
     },
     "execution_count": 62,
     "metadata": {},
     "output_type": "execute_result"
    }
   ],
   "source": [
    "Q = diagm([10, 0.1, 1, 1])\n",
    "R = diagm([1e-4, 1e-4])\n",
    "lqrsol = LearningMPC.LQRSolution(init!(MechanismState(mechanism)),\n",
    "    Q, R, Δt)"
   ]
  },
  {
   "cell_type": "code",
   "execution_count": 45,
   "metadata": {},
   "outputs": [
    {
     "data": {
      "text/plain": [
       "true"
      ]
     },
     "execution_count": 45,
     "metadata": {},
     "output_type": "execute_result"
    },
    {
     "name": "stderr",
     "output_type": "stream",
     "text": [
      "\u001b[1m\u001b[33mWARNING: \u001b[39m\u001b[22m\u001b[33mInterrupted. Larger maxiters is needed.\u001b[39m\n"
     ]
    }
   ],
   "source": [
    "state = init!(MechanismState(mechanism))\n",
    "set_velocity!(state, [0.1, 0])\n",
    "problem = LearningMPC.simulation_problem(state, lqrsol, Δt, 5.0)\n",
    "\n",
    "sol = RigidBodySim.solve(problem, Tsit5(), abs_tol = 1e-8, dt = 1e-6)\n",
    "setanimation!(mvis, sol)"
   ]
  },
  {
   "cell_type": "code",
   "execution_count": 123,
   "metadata": {},
   "outputs": [
    {
     "name": "stdout",
     "output_type": "stream",
     "text": [
      "Academic license - for non-commercial use only\n"
     ]
    },
    {
     "name": "stderr",
     "output_type": "stream",
     "text": [
      "WARNING: Method definition damper(Any) in module LearningMPC at /home/rdeits/locomotion/explorations/learning-mpc-2/packages/v0.6/LearningMPC/src/controlutils.jl:52 overwritten at /home/rdeits/locomotion/explorations/learning-mpc-2/packages/v0.6/LearningMPC/src/controlutils.jl:52.\n",
      "WARNING: Method definition damper(Any, Any) in module LearningMPC at /home/rdeits/locomotion/explorations/learning-mpc-2/packages/v0.6/LearningMPC/src/controlutils.jl:52 overwritten at /home/rdeits/locomotion/explorations/learning-mpc-2/packages/v0.6/LearningMPC/src/controlutils.jl:52.\n",
      "WARNING: Method definition digital_controller(Any, Any, Any) in module LearningMPC at /home/rdeits/locomotion/explorations/learning-mpc-2/packages/v0.6/LearningMPC/src/controlutils.jl:62 overwritten at /home/rdeits/locomotion/explorations/learning-mpc-2/packages/v0.6/LearningMPC/src/controlutils.jl:61.\n",
      "WARNING: Method definition simulation_problem(Any, Any, Any, Any) in module LearningMPC at /home/rdeits/locomotion/explorations/learning-mpc-2/packages/v0.6/LearningMPC/src/controlutils.jl:72 overwritten at /home/rdeits/locomotion/explorations/learning-mpc-2/packages/v0.6/LearningMPC/src/controlutils.jl:71.\n"
     ]
    }
   ],
   "source": [
    "mpc = QPControl.MPCController{QPControl.ContactPoint{4}}(\n",
    "    mechanism,\n",
    "    GurobiOptimizer(OutputFlag=0, TimeLimit=1)\n",
    ")\n",
    "stage = addstage!(mpc, Δt)\n",
    "\n",
    "objective = 0\n",
    "for stage in mpc.stages\n",
    "    x̄ = @expression vcat(stage.q, stage.v) - lqrsol.x0\n",
    "#     ū = @expression stage.u - lqrsol.u0\n",
    "    ū = stage.v̇\n",
    "    objective = @expression objective + x̄' * lqrsol.Q * x̄ + ū' * lqrsol.R * ū\n",
    "end\n",
    "x̄ = @expression vcat(last(mpc.stages).q, last(mpc.stages).v) - lqrsol.x0\n",
    "objective = @expression objective + x̄' * lqrsol.S * x̄;\n",
    "@objective mpc.qpmodel Minimize objective"
   ]
  },
  {
   "cell_type": "code",
   "execution_count": 127,
   "metadata": {},
   "outputs": [
    {
     "data": {
      "text/plain": [
       "true"
      ]
     },
     "execution_count": 127,
     "metadata": {},
     "output_type": "execute_result"
    },
    {
     "name": "stderr",
     "output_type": "stream",
     "text": [
      "\u001b[1m\u001b[36mINFO: \u001b[39m\u001b[22m\u001b[36mws|server received OPCODE_PING\n",
      "\u001b[39m\u001b[1m\u001b[36mINFO: \u001b[39m\u001b[22m\u001b[36mws|server received OPCODE_PING\n",
      "\u001b[39m\u001b[1m\u001b[36mINFO: \u001b[39m\u001b[22m\u001b[36mws|server received OPCODE_PING\n",
      "\u001b[39m\u001b[1m\u001b[36mINFO: \u001b[39m\u001b[22m\u001b[36mws|server received OPCODE_PING\n",
      "\u001b[39m\u001b[1m\u001b[36mINFO: \u001b[39m\u001b[22m\u001b[36mws|server received OPCODE_PING\n",
      "\u001b[39m\u001b[1m\u001b[36mINFO: \u001b[39m\u001b[22m\u001b[36mws|server received OPCODE_PING\n",
      "\u001b[39m\u001b[1m\u001b[36mINFO: \u001b[39m\u001b[22m\u001b[36mws|server received OPCODE_PING\n",
      "\u001b[39m\u001b[1m\u001b[36mINFO: \u001b[39m\u001b[22m\u001b[36mws|server received OPCODE_PING\n",
      "\u001b[39m\u001b[1m\u001b[36mINFO: \u001b[39m\u001b[22m\u001b[36mws|server received OPCODE_PING\n",
      "\u001b[39mError handling websocket connection:\n",
      "\u001b[91mWebSockets.WebSocketClosedError(\"ws|server respond to OPCODE_CLOSE 1001:Going Away\")\u001b[39m"
     ]
    }
   ],
   "source": [
    "state = init!(MechanismState(mechanism))\n",
    "set_velocity!(state, [0.2, 0.1])\n",
    "problem = LearningMPC.simulation_problem(state, mpc, Δt, 5.0; damping_kd=1e-2)\n",
    "\n",
    "sol = RigidBodySim.solve(problem, Tsit5(), abs_tol = 1e-8, dt = 1e-6)\n",
    "setanimation!(mvis, sol)"
   ]
  },
  {
   "cell_type": "code",
   "execution_count": null,
   "metadata": {},
   "outputs": [],
   "source": []
  }
 ],
 "metadata": {
  "kernelspec": {
   "display_name": "Julia 0.6.4",
   "language": "julia",
   "name": "julia-0.6"
  },
  "language_info": {
   "file_extension": ".jl",
   "mimetype": "application/julia",
   "name": "julia",
   "version": "0.6.4"
  }
 },
 "nbformat": 4,
 "nbformat_minor": 2
}
