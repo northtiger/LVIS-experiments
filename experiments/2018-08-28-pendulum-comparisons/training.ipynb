{
 "cells": [
  {
   "cell_type": "code",
   "execution_count": 28,
   "metadata": {},
   "outputs": [],
   "source": [
    "using Revise"
   ]
  },
  {
   "cell_type": "code",
   "execution_count": 29,
   "metadata": {},
   "outputs": [],
   "source": [
    "using MeshCatMechanisms\n",
    "using MeshCat\n",
    "using RigidBodyDynamics\n",
    "using Flux\n",
    "using ProgressMeter\n",
    "using MLDataPattern\n",
    "using JLD2\n",
    "using Plots; gr()\n",
    "using LCPSim\n",
    "using LearningMPC\n",
    "using LearningMPC.Models"
   ]
  },
  {
   "cell_type": "code",
   "execution_count": 30,
   "metadata": {},
   "outputs": [],
   "source": [
    "using Blink"
   ]
  },
  {
   "cell_type": "code",
   "execution_count": 31,
   "metadata": {},
   "outputs": [
    {
     "data": {
      "text/plain": [
       "Blink.AtomShell.Window(1, Blink.AtomShell.Electron(Process(`/home/rdeits/locomotion/explorations/learning-mpc-2/packages/v0.6/Blink/deps/atom/electron /home/rdeits/locomotion/explorations/learning-mpc-2/packages/v0.6/Blink/src/AtomShell/main.js port 2668`, ProcessRunning), TCPSocket(RawFD(75) active, 0 bytes waiting), Dict{String,Any}(Pair{String,Any}(\"callback\", Blink.#1))), Blink.Page(4, WebSockets.WebSocket{TCPSocket}(TCPSocket(RawFD(80) active, 0 bytes waiting), true, CONNECTED::WebSockets.ReadyState = 1), Dict{String,Any}(Pair{String,Any}(\"webio\", WebIO.#111),Pair{String,Any}(\"callback\", Blink.#1)), Future(1, 1, 4, Nullable{Any}(true))))"
      ]
     },
     "execution_count": 31,
     "metadata": {},
     "output_type": "execute_result"
    }
   ],
   "source": [
    "robot = CartPole(add_contacts=false)\n",
    "mvis = MechanismVisualizer(robot)\n",
    "open(mvis, Window())"
   ]
  },
  {
   "cell_type": "code",
   "execution_count": 32,
   "metadata": {},
   "outputs": [
    {
     "name": "stdout",
     "output_type": "stream",
     "text": [
      "Academic license - for non-commercial use only\n",
      "Academic license - for non-commercial use only\n",
      "Academic license - for non-commercial use only\n",
      "Academic license - for non-commercial use only\n"
     ]
    }
   ],
   "source": [
    "params = MPCParams(robot)\n",
    "lqrsol = LQRSolution(robot, params)\n",
    "net, loss = LearningMPC.interval_net([4, 16, 16, 1]; regularization=1e-6, penalty = x -> x^2)\n",
    "optimizer = Flux.ADAM(Flux.params(net); decay=1e-6)\n",
    "\n",
    "net_cost = LearningMPC.LearnedCost(lqrsol, net)\n",
    "\n",
    "net_mpc_params = MPCParams(robot)\n",
    "net_mpc_params.horizon = 1\n",
    "net_mpc_controller = MPCController(robot, net_mpc_params, net_cost, [lqrsol]);\n",
    "\n",
    "full_mpc_controller = MPCController(robot, params, lqrsol, [lqrsol, net_mpc_controller]);"
   ]
  },
  {
   "cell_type": "code",
   "execution_count": 33,
   "metadata": {},
   "outputs": [
    {
     "data": {
      "text/plain": [
       "(::#79) (generic function with 1 method)"
      ]
     },
     "execution_count": 33,
     "metadata": {},
     "output_type": "execute_result"
    }
   ],
   "source": [
    "sample_sink = LearningMPC.MPCSampleSink(keep_nulls=false; lqrsol=lqrsol, \n",
    "    lqr_warmstart_index=1,\n",
    "    learned_warmstart_index=2)\n",
    "\n",
    "playback_sink = LearningMPC.PlaybackSink{Float64}(mvis)\n",
    "\n",
    "full_mpc_controller.callback = LearningMPC.multiplex!(\n",
    "    sample_sink,\n",
    "    playback_sink\n",
    ")\n",
    "\n",
    "live_viewer = LearningMPC.live_viewer(mvis)\n",
    "\n",
    "dagger_controller = LearningMPC.multiplex!(\n",
    "    LearningMPC.dagger_controller(\n",
    "        full_mpc_controller,\n",
    "        net_mpc_controller),\n",
    "    live_viewer\n",
    "    )\n",
    "\n",
    "collect_into! = let x_init = nominal_state(robot), x0 = MechanismState{Float64}(robot.mechanism), sink = sample_sink\n",
    "    function (data::Vector{<:LearningMPC.Sample}, σv)\n",
    "        empty!(sink)\n",
    "        LearningMPC.randomize!(x0, x_init, 0.5, σv)\n",
    "        results = LCPSim.simulate(x0, \n",
    "            dagger_controller,\n",
    "            robot.environment, params.Δt, 100, \n",
    "            params.lcp_solver;\n",
    "            termination=x -> !(-π/4 <= configuration(x)[2] <= π/4))\n",
    "        append!(data, sink.samples)\n",
    "    end\n",
    "end"
   ]
  },
  {
   "cell_type": "code",
   "execution_count": 34,
   "metadata": {},
   "outputs": [
    {
     "data": {
      "text/plain": [
       "\"cartpole-interval-5.jld2\""
      ]
     },
     "execution_count": 34,
     "metadata": {},
     "output_type": "execute_result"
    }
   ],
   "source": [
    "library_file = \"library-5.jld2\"\n",
    "dataset_file = \"cartpole-interval-5.jld2\""
   ]
  },
  {
   "cell_type": "code",
   "execution_count": 35,
   "metadata": {},
   "outputs": [],
   "source": [
    "if isfile(library_file)\n",
    "    all_training_data, all_validation_data = jldopen(library_file) do file\n",
    "        file[\"training\"], file[\"testing\"]\n",
    "    end\n",
    "else\n",
    "    all_training_data = Vector{Tuple{eltype(sample_sink.samples)}}()\n",
    "    all_validation_data = Vector{Tuple{eltype(sample_sink.samples)}}()\n",
    "end;\n"
   ]
  },
  {
   "cell_type": "code",
   "execution_count": 36,
   "metadata": {
    "scrolled": false
   },
   "outputs": [
    {
     "name": "stdout",
     "output_type": "stream",
     "text": [
      "captured: InterruptException()\n"
     ]
    },
    {
     "name": "stderr",
     "output_type": "stream",
     "text": [
      "\u001b[91mUnexpected end of input\n",
      " ...when parsing byte with value '0'\u001b[39m\n",
      "Stacktrace:\n",
      " [1] \u001b[1m_error\u001b[22m\u001b[22m\u001b[1m(\u001b[22m\u001b[22m"
     ]
    },
    {
     "ename": "LoadError",
     "evalue": "\u001b[91mMethodError: no method matching LearningMPC.MPCResults{Float64}(::Void, ::Void, ::Array{Float64,1}, ::LearningMPC.MIPResults)\u001b[39m",
     "output_type": "error",
     "traceback": [
      "\u001b[91mMethodError: no method matching LearningMPC.MPCResults{Float64}(::Void, ::Void, ::Array{Float64,1}, ::LearningMPC.MIPResults)\u001b[39m",
      "",
      "Stacktrace:",
      " [1] \u001b[1mrun_mpc\u001b[22m\u001b[22m\u001b[1m(\u001b[22m\u001b[22m::RigidBodyDynamics.MechanismState{Float64,Float64,Float64,TypeSortedCollections.TypeSortedCollection{Tuple{Array{RigidBodyDynamics.Joint{Float64,RigidBodyDynamics.Fixed{Float64}},1},Array{RigidBodyDynamics.Joint{Float64,RigidBodyDynamics.Prismatic{Float64}},1},Array{RigidBodyDynamics.Joint{Float64,RigidBodyDynamics.Revolute{Float64}},1}},3}}, ::LCPSim.Environment{Float64}, ::LearningMPC.MPCParams{Gurobi.GurobiSolver,Gurobi.GurobiSolver}, ::LearningMPC.LQRSolution{Float64}, ::Array{Function,1}\u001b[1m)\u001b[22m\u001b[22m at \u001b[1m/home/rdeits/locomotion/explorations/learning-mpc-2/packages/v0.6/LearningMPC/src/mpc.jl:116\u001b[22m\u001b[22m",
      " [2] \u001b[1m(::LearningMPC.MPCController{Float64,LearningMPC.LQRSolution{Float64},LearningMPC.MPCParams{Gurobi.GurobiSolver,Gurobi.GurobiSolver},RigidBodyDynamics.MechanismState{Float64,Float64,Float64,TypeSortedCollections.TypeSortedCollection{Tuple{Array{RigidBodyDynamics.Joint{Float64,RigidBodyDynamics.Fixed{Float64}},1},Array{RigidBodyDynamics.Joint{Float64,RigidBodyDynamics.Prismatic{Float64}},1},Array{RigidBodyDynamics.Joint{Float64,RigidBodyDynamics.Revolute{Float64}},1}},3}}})\u001b[22m\u001b[22m\u001b[1m(\u001b[22m\u001b[22m::RigidBodyDynamics.CustomCollections.SegmentedVector{RigidBodyDynamics.JointID,Float64,Base.OneTo{RigidBodyDynamics.JointID},Array{Float64,1}}, ::Float64, ::LCPSim.StateRecord{Float64,Float64}\u001b[1m)\u001b[22m\u001b[22m at \u001b[1m/home/rdeits/locomotion/explorations/learning-mpc-2/packages/v0.6/LearningMPC/src/mpc.jl:165\u001b[22m\u001b[22m",
      " [3] \u001b[1m(::LearningMPC.##25#26{LearningMPC.MPCController{Float64,LearningMPC.LQRSolution{Float64},LearningMPC.MPCParams{Gurobi.GurobiSolver,Gurobi.GurobiSolver},RigidBodyDynamics.MechanismState{Float64,Float64,Float64,TypeSortedCollections.TypeSortedCollection{Tuple{Array{RigidBodyDynamics.Joint{Float64,RigidBodyDynamics.Fixed{Float64}},1},Array{RigidBodyDynamics.Joint{Float64,RigidBodyDynamics.Prismatic{Float64}},1},Array{RigidBodyDynamics.Joint{Float64,RigidBodyDynamics.Revolute{Float64}},1}},3}}},LearningMPC.MPCController{Float64,LearningMPC.LearnedCost{Float64,LearningMPC.##60#61{Base.##55#56{Base.##55#56{Base.##55#56{Base.#identity,Base.##55#56{FluxExtensions.##1#2{Base.#identity},CoordinateTransformations.AffineMap{Array{Float64,2},Array{Float64,1}}}},Base.##55#56{FluxExtensions.##1#2{NNlib.#elu},CoordinateTransformations.AffineMap{Array{Float64,2},Array{Float64,1}}}},Base.##55#56{FluxExtensions.##1#2{NNlib.#elu},CoordinateTransformations.AffineMap{Array{Float64,2},Array{Float64,1}}}}}},LearningMPC.MPCParams{Gurobi.GurobiSolver,Gurobi.GurobiSolver},RigidBodyDynamics.MechanismState{Float64,Float64,Float64,TypeSortedCollections.TypeSortedCollection{Tuple{Array{RigidBodyDynamics.Joint{Float64,RigidBodyDynamics.Fixed{Float64}},1},Array{RigidBodyDynamics.Joint{Float64,RigidBodyDynamics.Prismatic{Float64}},1},Array{RigidBodyDynamics.Joint{Float64,RigidBodyDynamics.Revolute{Float64}},1}},3}}}})\u001b[22m\u001b[22m\u001b[1m(\u001b[22m\u001b[22m::RigidBodyDynamics.CustomCollections.SegmentedVector{RigidBodyDynamics.JointID,Float64,Base.OneTo{RigidBodyDynamics.JointID},Array{Float64,1}}, ::Float64, ::LCPSim.StateRecord{Float64,Float64}\u001b[1m)\u001b[22m\u001b[22m at \u001b[1m/home/rdeits/locomotion/explorations/learning-mpc-2/packages/v0.6/LearningMPC/src/learning.jl:101\u001b[22m\u001b[22m",
      " [4] \u001b[1m_call_each!\u001b[22m\u001b[22m\u001b[1m(\u001b[22m\u001b[22m::Tuple{LearningMPC.##25#26{LearningMPC.MPCController{Float64,LearningMPC.LQRSolution{Float64},LearningMPC.MPCParams{Gurobi.GurobiSolver,Gurobi.GurobiSolver},RigidBodyDynamics.MechanismState{Float64,Float64,Float64,TypeSortedCollections.TypeSortedCollection{Tuple{Array{RigidBodyDynamics.Joint{Float64,RigidBodyDynamics.Fixed{Float64}},1},Array{RigidBodyDynamics.Joint{Float64,RigidBodyDynamics.Prismatic{Float64}},1},Array{RigidBodyDynamics.Joint{Float64,RigidBodyDynamics.Revolute{Float64}},1}},3}}},LearningMPC.MPCController{Float64,LearningMPC.LearnedCost{Float64,LearningMPC.##60#61{Base.##55#56{Base.##55#56{Base.##55#56{Base.#identity,Base.##55#56{FluxExtensions.##1#2{Base.#identity},CoordinateTransformations.AffineMap{Array{Float64,2},Array{Float64,1}}}},Base.##55#56{FluxExtensions.##1#2{NNlib.#elu},CoordinateTransformations.AffineMap{Array{Float64,2},Array{Float64,1}}}},Base.##55#56{FluxExtensions.##1#2{NNlib.#elu},CoordinateTransformations.AffineMap{Array{Float64,2},Array{Float64,1}}}}}},LearningMPC.MPCParams{Gurobi.GurobiSolver,Gurobi.GurobiSolver},RigidBodyDynamics.MechanismState{Float64,Float64,Float64,TypeSortedCollections.TypeSortedCollection{Tuple{Array{RigidBodyDynamics.Joint{Float64,RigidBodyDynamics.Fixed{Float64}},1},Array{RigidBodyDynamics.Joint{Float64,RigidBodyDynamics.Prismatic{Float64}},1},Array{RigidBodyDynamics.Joint{Float64,RigidBodyDynamics.Revolute{Float64}},1}},3}}}},LearningMPC.##19#20{MeshCatMechanisms.MechanismVisualizer{RigidBodyDynamics.MechanismState{Float64,Float64,Float64,TypeSortedCollections.TypeSortedCollection{Tuple{Array{RigidBodyDynamics.Joint{Float64,RigidBodyDynamics.Fixed{Float64}},1},Array{RigidBodyDynamics.Joint{Float64,RigidBodyDynamics.Prismatic{Float64}},1},Array{RigidBodyDynamics.Joint{Float64,RigidBodyDynamics.Revolute{Float64}},1}},3}},MeshCat.Visualizer}}}, ::RigidBodyDynamics.CustomCollections.SegmentedVector{RigidBodyDynamics.JointID,Float64,Base.OneTo{RigidBodyDynamics.JointID},Array{Float64,1}}, ::Vararg{Any,N} where N\u001b[1m)\u001b[22m\u001b[22m at \u001b[1m/home/rdeits/locomotion/explorations/learning-mpc-2/packages/v0.6/LearningMPC/src/learning.jl:64\u001b[22m\u001b[22m",
      " [5] \u001b[1m#17\u001b[22m\u001b[22m at \u001b[1m/home/rdeits/locomotion/explorations/learning-mpc-2/packages/v0.6/LearningMPC/src/learning.jl:71\u001b[22m\u001b[22m [inlined]",
      " [6] \u001b[1m#simulate#31\u001b[22m\u001b[22m\u001b[1m(\u001b[22m\u001b[22m::##80#82, ::Bool, ::Function, ::RigidBodyDynamics.MechanismState{Float64,Float64,Float64,TypeSortedCollections.TypeSortedCollection{Tuple{Array{RigidBodyDynamics.Joint{Float64,RigidBodyDynamics.Fixed{Float64}},1},Array{RigidBodyDynamics.Joint{Float64,RigidBodyDynamics.Prismatic{Float64}},1},Array{RigidBodyDynamics.Joint{Float64,RigidBodyDynamics.Revolute{Float64}},1}},3}}, ::LearningMPC.##17#18{Tuple{LearningMPC.##25#26{LearningMPC.MPCController{Float64,LearningMPC.LQRSolution{Float64},LearningMPC.MPCParams{Gurobi.GurobiSolver,Gurobi.GurobiSolver},RigidBodyDynamics.MechanismState{Float64,Float64,Float64,TypeSortedCollections.TypeSortedCollection{Tuple{Array{RigidBodyDynamics.Joint{Float64,RigidBodyDynamics.Fixed{Float64}},1},Array{RigidBodyDynamics.Joint{Float64,RigidBodyDynamics.Prismatic{Float64}},1},Array{RigidBodyDynamics.Joint{Float64,RigidBodyDynamics.Revolute{Float64}},1}},3}}},LearningMPC.MPCController{Float64,LearningMPC.LearnedCost{Float64,LearningMPC.##60#61{Base.##55#56{Base.##55#56{Base.##55#56{Base.#identity,Base.##55#56{FluxExtensions.##1#2{Base.#identity},CoordinateTransformations.AffineMap{Array{Float64,2},Array{Float64,1}}}},Base.##55#56{FluxExtensions.##1#2{NNlib.#elu},CoordinateTransformations.AffineMap{Array{Float64,2},Array{Float64,1}}}},Base.##55#56{FluxExtensions.##1#2{NNlib.#elu},CoordinateTransformations.AffineMap{Array{Float64,2},Array{Float64,1}}}}}},LearningMPC.MPCParams{Gurobi.GurobiSolver,Gurobi.GurobiSolver},RigidBodyDynamics.MechanismState{Float64,Float64,Float64,TypeSortedCollections.TypeSortedCollection{Tuple{Array{RigidBodyDynamics.Joint{Float64,RigidBodyDynamics.Fixed{Float64}},1},Array{RigidBodyDynamics.Joint{Float64,RigidBodyDynamics.Prismatic{Float64}},1},Array{RigidBodyDynamics.Joint{Float64,RigidBodyDynamics.Revolute{Float64}},1}},3}}}},LearningMPC.##19#20{MeshCatMechanisms.MechanismVisualizer{RigidBodyDynamics.MechanismState{Float64,Float64,Float64,TypeSortedCollections.TypeSortedCollection{Tuple{Array{RigidBodyDynamics.Joint{Float64,RigidBodyDynamics.Fixed{Float64}},1},Array{RigidBodyDynamics.Joint{Float64,RigidBodyDynamics.Prismatic{Float64}},1},Array{RigidBodyDynamics.Joint{Float64,RigidBodyDynamics.Revolute{Float64}},1}},3}},MeshCat.Visualizer}}}}, ::LCPSim.Environment{Float64}, ::Float64, ::Int64, ::Gurobi.GurobiSolver\u001b[1m)\u001b[22m\u001b[22m at \u001b[1m/home/rdeits/locomotion/explorations/learning-mpc-2/packages/v0.6/LCPSim/src/simulation.jl:133\u001b[22m\u001b[22m",
      " [7] \u001b[1m(::LCPSim.#kw##simulate)\u001b[22m\u001b[22m\u001b[1m(\u001b[22m\u001b[22m::Array{Any,1}, ::LCPSim.#simulate, ::RigidBodyDynamics.MechanismState{Float64,Float64,Float64,TypeSortedCollections.TypeSortedCollection{Tuple{Array{RigidBodyDynamics.Joint{Float64,RigidBodyDynamics.Fixed{Float64}},1},Array{RigidBodyDynamics.Joint{Float64,RigidBodyDynamics.Prismatic{Float64}},1},Array{RigidBodyDynamics.Joint{Float64,RigidBodyDynamics.Revolute{Float64}},1}},3}}, ::Function, ::LCPSim.Environment{Float64}, ::Float64, ::Int64, ::Gurobi.GurobiSolver\u001b[1m)\u001b[22m\u001b[22m at \u001b[1m./<missing>:0\u001b[22m\u001b[22m",
      " [8] \u001b[1m(::##79#81{LearningMPC.MPCSampleSink{Float64,LearningMPC.Sample{4,2,Float64}},RigidBodyDynamics.MechanismState{Float64,Float64,Float64,TypeSortedCollections.TypeSortedCollection{Tuple{Array{RigidBodyDynamics.Joint{Float64,RigidBodyDynamics.Fixed{Float64}},1},Array{RigidBodyDynamics.Joint{Float64,RigidBodyDynamics.Prismatic{Float64}},1},Array{RigidBodyDynamics.Joint{Float64,RigidBodyDynamics.Revolute{Float64}},1}},3}},RigidBodyDynamics.MechanismState{Float64,Float64,Float64,TypeSortedCollections.TypeSortedCollection{Tuple{Array{RigidBodyDynamics.Joint{Float64,RigidBodyDynamics.Fixed{Float64}},1},Array{RigidBodyDynamics.Joint{Float64,RigidBodyDynamics.Prismatic{Float64}},1},Array{RigidBodyDynamics.Joint{Float64,RigidBodyDynamics.Revolute{Float64}},1}},3}}})\u001b[22m\u001b[22m\u001b[1m(\u001b[22m\u001b[22m::Array{LearningMPC.Sample{4,2,Float64},1}, ::Float64\u001b[1m)\u001b[22m\u001b[22m at \u001b[1m./In[33]:25\u001b[22m\u001b[22m",
      " [9] \u001b[1mmacro expansion\u001b[22m\u001b[22m at \u001b[1m./In[36]:19\u001b[22m\u001b[22m [inlined]",
      " [10] \u001b[1mmacro expansion\u001b[22m\u001b[22m at \u001b[1m/home/rdeits/locomotion/explorations/learning-mpc-2/packages/v0.6/ProgressMeter/src/ProgressMeter.jl:483\u001b[22m\u001b[22m [inlined]",
      " [11] \u001b[1manonymous\u001b[22m\u001b[22m at \u001b[1m./<missing>:?\u001b[22m\u001b[22m",
      " [12] \u001b[1minclude_string\u001b[22m\u001b[22m\u001b[1m(\u001b[22m\u001b[22m::String, ::String\u001b[1m)\u001b[22m\u001b[22m at \u001b[1m./loading.jl:522\u001b[22m\u001b[22m"
     ]
    },
    {
     "name": "stderr",
     "output_type": "stream",
     "text": [
      "::String, ::JSON.Parser.StreamingParserState{TCPSocket}\u001b[1m)\u001b[22m\u001b[22m at \u001b[1m/home/rdeits/locomotion/explorations/learning-mpc-2/packages/v0.6/JSON/src/Parser.jl:148\u001b[22m\u001b[22m\n",
      " [2] \u001b[1mbyteat\u001b[22m\u001b[22m\u001b[1m(\u001b[22m\u001b[22m::JSON.Parser.StreamingParserState{TCPSocket}\u001b[1m)\u001b[22m\u001b[22m at \u001b[1m/home/rdeits/locomotion/explorations/learning-mpc-2/packages/v0.6/JSON/src/Parser.jl:58\u001b[22m\u001b[22m\n",
      " [3] \u001b[1mchomp_space!\u001b[22m\u001b[22m at \u001b[1m/home/rdeits/locomotion/explorations/learning-mpc-2/packages/v0.6/JSON/src/Parser.jl:115\u001b[22m\u001b[22m [inlined]\n",
      " [4] \u001b[1mparse_value\u001b[22m\u001b[22m\u001b[1m(\u001b[22m\u001b[22m::JSON.Parser.ParserContext{Dict{String,Any},Int64}, ::JSON.Parser.StreamingParserState{TCPSocket}\u001b[1m)\u001b[22m\u001b[22m at \u001b[1m/home/rdeits/locomotion/explorations/learning-mpc-2/packages/v0.6/JSON/src/Parser.jl:158\u001b[22m\u001b[22m\n",
      " [5] \u001b[1m#parse#2\u001b[22m\u001b[22m\u001b[1m(\u001b[22m\u001b[22m::Type{Dict{String,Any}}, ::Type{Int64}, ::Function, ::TCPSocket\u001b[1m)\u001b[22m\u001b[22m at \u001b[1m/home/rdeits/locomotion/explorations/learning-mpc-2/packages/v0.6/JSON/src/Parser.jl:406\u001b[22m\u001b[22m\n",
      " [6] \u001b[1mmacro expansion\u001b[22m\u001b[22m at \u001b[1m/home/rdeits/locomotion/explorations/learning-mpc-2/packages/v0.6/Lazy/src/macros.jl:241\u001b[22m\u001b[22m [inlined]\n",
      " [7] \u001b[1mmacro expansion\u001b[22m\u001b[22m at \u001b[1m/home/rdeits/locomotion/explorations/learning-mpc-2/packages/v0.6/Blink/src/AtomShell/process.jl:94\u001b[22m\u001b[22m [inlined]\n",
      " [8] \u001b[1m(::Blink.AtomShell.##6#7{Blink.AtomShell.Electron})\u001b[22m\u001b[22m\u001b[1m(\u001b[22m\u001b[22m\u001b[1m)\u001b[22m\u001b[22m at \u001b[1m./event.jl:73\u001b[22m\u001b[22m\n"
     ]
    }
   ],
   "source": [
    "function mirror(s::S) where {S <: LearningMPC.Sample}\n",
    "    S(-1 .* s.state,\n",
    "      -1 .* s.input,\n",
    "      s.x0,\n",
    "      s.u0,\n",
    "      s.warmstart_costs,\n",
    "      s.mip)\n",
    "end\n",
    "\n",
    "datasets = Vector{LearningMPC.Dataset{Float64}}()\n",
    "losses = Vector{Tuple{Float64, Float64}}()\n",
    "\n",
    "N_iter = 100\n",
    "σv = 5.0\n",
    "\n",
    "@showprogress for i in 1:N_iter\n",
    "    dataset = LearningMPC.Dataset(lqrsol)\n",
    "    collect_into!(dataset.training_data, σv)\n",
    "    collect_into!(dataset.training_data, 0.1 * σv)\n",
    "    collect_into!(dataset.training_data, 0.01 * σv)\n",
    "    \n",
    "    filter!(dataset.training_data) do sample\n",
    "        all(isfinite, sample.input)\n",
    "    end\n",
    "\n",
    "    \n",
    "    new_samples = tuple.(dataset.training_data)\n",
    "    if !isempty(new_samples)\n",
    "        new_training, new_validation = splitobs(shuffleobs(new_samples); at=0.8)\n",
    "        append!(all_training_data, new_training)\n",
    "        append!(all_validation_data, new_validation)\n",
    "        \n",
    "        # The cart-pole system is symmetric, so for every sample with state x and input u,\n",
    "        # we can sythesize an example with state -x and input -u with the same cost bounds\n",
    "        append!(all_training_data, tuple.(mirror.(first.(new_training))))\n",
    "        \n",
    "        # The cart-pole system is symmetric, so for every sample with state x and input u,\n",
    "        # we can sythesize an example with state -x and input -u with the same cost bounds\n",
    "        append!(all_validation_data, tuple.(mirror.(first.(new_validation))))\n",
    "    end\n",
    "\n",
    "    @time for i in 1:50\n",
    "        Flux.train!(loss, shuffleobs(all_training_data), optimizer)\n",
    "        push!(losses, \n",
    "            (mean(xy -> Flux.Tracker.data(loss(xy...)), \n",
    "                  all_training_data),\n",
    "             mean(xy -> Flux.Tracker.data(loss(xy...)), \n",
    "                  all_validation_data)))\n",
    "    end\n",
    "    push!(datasets, dataset)\n",
    "    \n",
    "    jldopen(dataset_file, \"w\") do file\n",
    "        file[\"datasets\"] = datasets\n",
    "        file[\"net\"] = net\n",
    "        file[\"lqrsol\"] = lqrsol\n",
    "        file[\"mpc_params\"] = Dict(\n",
    "            \"Δt\" => params.Δt, \n",
    "            \"horizon\" => params.horizon,\n",
    "        )\n",
    "        file[\"losses\"] = losses\n",
    "    end\n",
    "    \n",
    "    jldopen(library_file, \"w\") do file\n",
    "        file[\"training\"] = all_training_data\n",
    "        file[\"testing\"] = all_validation_data\n",
    "    end\n",
    "    \n",
    "    plt = plot(first.(losses), label=\"training\")\n",
    "    plot!(plt, last.(losses), label=\"validation\")\n",
    "    ylims!(plt, (1, ylims(plt)[2]))\n",
    "    display(plt)\n",
    "\n",
    "end"
   ]
  },
  {
   "cell_type": "code",
   "execution_count": null,
   "metadata": {},
   "outputs": [],
   "source": []
  }
 ],
 "metadata": {
  "kernelspec": {
   "display_name": "Julia 0.6.4",
   "language": "julia",
   "name": "julia-0.6"
  },
  "language_info": {
   "file_extension": ".jl",
   "mimetype": "application/julia",
   "name": "julia",
   "version": "0.6.4"
  }
 },
 "nbformat": 4,
 "nbformat_minor": 2
}
