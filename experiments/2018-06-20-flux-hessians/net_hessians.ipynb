{
 "cells": [
  {
   "cell_type": "code",
   "execution_count": 1,
   "metadata": {},
   "outputs": [],
   "source": [
    "using Revise"
   ]
  },
  {
   "cell_type": "code",
   "execution_count": 2,
   "metadata": {},
   "outputs": [
    {
     "data": {
      "text/plain": [
       "Plots.GRBackend()"
      ]
     },
     "execution_count": 2,
     "metadata": {},
     "output_type": "execute_result"
    }
   ],
   "source": [
    "using Flux\n",
    "using ProgressMeter\n",
    "using MLDataPattern\n",
    "using JLD2\n",
    "using Plots; gr()"
   ]
  },
  {
   "cell_type": "code",
   "execution_count": 3,
   "metadata": {},
   "outputs": [
    {
     "data": {
      "text/plain": [
       "1-element Array{Symbol,1}:\n",
       " :net"
      ]
     },
     "execution_count": 3,
     "metadata": {},
     "output_type": "execute_result"
    }
   ],
   "source": [
    "@load \"../2018-05-08-box-atlas-longer-miqp/boxatlas.jld2\" net"
   ]
  },
  {
   "cell_type": "code",
   "execution_count": 4,
   "metadata": {},
   "outputs": [
    {
     "data": {
      "text/plain": [
       "Chain(Dense(22, 128, NNlib.elu), Dense(128, 128, NNlib.elu), Dense(128, 1))"
      ]
     },
     "execution_count": 4,
     "metadata": {},
     "output_type": "execute_result"
    }
   ],
   "source": [
    "net"
   ]
  },
  {
   "cell_type": "code",
   "execution_count": 8,
   "metadata": {},
   "outputs": [
    {
     "data": {
      "text/plain": [
       "Dense(22, 128, NNlib.elu)"
      ]
     },
     "execution_count": 8,
     "metadata": {},
     "output_type": "execute_result"
    }
   ],
   "source": [
    "c = net.layers[1]"
   ]
  },
  {
   "cell_type": "code",
   "execution_count": 11,
   "metadata": {},
   "outputs": [
    {
     "data": {
      "text/plain": [
       "2-element Array{Any,1}:\n",
       " param([1.22087 -2.53835 … -0.182239 0.896345; -3.26301 4.10768 … 0.423817 0.509198; … ; -2.26832 -3.15768 … 0.111558 -0.0575526; -7.51567 0.215953 … 0.203079 -0.494408])                                        \n",
       " param([-3.37196, -3.76363, -1.86752, -1.00524, -2.15658, -0.646821, 0.951493, -4.02201, 0.224544, -3.1805  …  -1.42739, -1.43818, 5.33455, -2.42154, -2.16359, -1.12987, -1.11951, -2.10481, 0.169921, -0.99396])"
      ]
     },
     "execution_count": 11,
     "metadata": {},
     "output_type": "execute_result"
    }
   ],
   "source": [
    "params(net.layers[1])"
   ]
  },
  {
   "cell_type": "code",
   "execution_count": 12,
   "metadata": {},
   "outputs": [
    {
     "data": {
      "text/plain": [
       "2-element Array{Any,1}:\n",
       " param([2.15374 1.62833 … -0.575029 0.351076; 1.39631 -2.76972 … 1.64741 0.428588; … ; 0.863245 -2.84132 … -3.09645 -3.86383; 1.39174 -0.518569 … -0.662874 0.5662])                                                   \n",
       " param([3.98693, -0.928702, -1.62388, -0.734205, -0.734243, 1.43787, -0.999678, -1.64648, -1.71407, -1.32597  …  -0.953853, -1.7636, -1.86719, -1.70832, -1.34158, -0.589168, -1.73559, -0.879125, -1.72201, -1.64609])"
      ]
     },
     "execution_count": 12,
     "metadata": {},
     "output_type": "execute_result"
    }
   ],
   "source": [
    "params(net.layers[2])"
   ]
  },
  {
   "cell_type": "code",
   "execution_count": 13,
   "metadata": {},
   "outputs": [
    {
     "data": {
      "text/plain": [
       "2-element Array{Any,1}:\n",
       " param([0.467793 2.03164 … 2.55718 -5.66191])\n",
       " param([3.9591])                             "
      ]
     },
     "execution_count": 13,
     "metadata": {},
     "output_type": "execute_result"
    }
   ],
   "source": [
    "params(net.layers[3])"
   ]
  },
  {
   "cell_type": "code",
   "execution_count": 14,
   "metadata": {},
   "outputs": [
    {
     "data": {
      "text/plain": [
       "0-element Array{Any,1}"
      ]
     },
     "execution_count": 14,
     "metadata": {},
     "output_type": "execute_result"
    }
   ],
   "source": [
    "params(sin)"
   ]
  },
  {
   "cell_type": "code",
   "execution_count": null,
   "metadata": {},
   "outputs": [],
   "source": []
  },
  {
   "cell_type": "code",
   "execution_count": null,
   "metadata": {},
   "outputs": [],
   "source": [
    "c."
   ]
  },
  {
   "cell_type": "code",
   "execution_count": 42,
   "metadata": {},
   "outputs": [
    {
     "data": {
      "text/plain": [
       "untrack (generic function with 3 methods)"
      ]
     },
     "execution_count": 42,
     "metadata": {},
     "output_type": "execute_result"
    }
   ],
   "source": [
    "function untrack(f::Function)\n",
    "    @assert isempty(params(f))\n",
    "    f\n",
    "end\n",
    "\n",
    "function untrack(d::Dense)\n",
    "    W = Flux.Tracker.data(d.W)\n",
    "    b = Flux.Tracker.data(d.b)\n",
    "    σ = d.σ\n",
    "    function f(x)\n",
    "        y = W * x + b\n",
    "        ReverseDiff.@forward(σ).(y)\n",
    "    end\n",
    "end\n",
    "\n",
    "function untrack(chain::Chain)\n",
    "    foldl(∘, reverse(untrack.(chain.layers)))\n",
    "end"
   ]
  },
  {
   "cell_type": "code",
   "execution_count": 43,
   "metadata": {},
   "outputs": [
    {
     "data": {
      "text/plain": [
       "(::#55) (generic function with 1 method)"
      ]
     },
     "execution_count": 43,
     "metadata": {},
     "output_type": "execute_result"
    }
   ],
   "source": [
    "n2 = untrack(net)"
   ]
  },
  {
   "cell_type": "code",
   "execution_count": 62,
   "metadata": {},
   "outputs": [
    {
     "data": {
      "text/plain": [
       "scalarize (generic function with 1 method)"
      ]
     },
     "execution_count": 62,
     "metadata": {},
     "output_type": "execute_result"
    }
   ],
   "source": [
    "scalarize(f) = x -> f(x)[1]"
   ]
  },
  {
   "cell_type": "code",
   "execution_count": 44,
   "metadata": {},
   "outputs": [
    {
     "data": {
      "text/plain": [
       "1-element Array{Float64,1}:\n",
       " 902.638"
      ]
     },
     "execution_count": 44,
     "metadata": {},
     "output_type": "execute_result"
    }
   ],
   "source": [
    "x = rand(22)\n",
    "n2(x)"
   ]
  },
  {
   "cell_type": "code",
   "execution_count": 45,
   "metadata": {},
   "outputs": [
    {
     "data": {
      "text/plain": [
       "Tracked 1-element Array{Float64,1}:\n",
       " 902.638"
      ]
     },
     "execution_count": 45,
     "metadata": {},
     "output_type": "execute_result"
    }
   ],
   "source": [
    "net(x)"
   ]
  },
  {
   "cell_type": "code",
   "execution_count": 46,
   "metadata": {},
   "outputs": [],
   "source": [
    "using ReverseDiff"
   ]
  },
  {
   "cell_type": "code",
   "execution_count": 49,
   "metadata": {},
   "outputs": [
    {
     "data": {
      "text/plain": [
       "902.6376139140335"
      ]
     },
     "execution_count": 49,
     "metadata": {},
     "output_type": "execute_result"
    }
   ],
   "source": [
    "n2(x)[]"
   ]
  },
  {
   "cell_type": "code",
   "execution_count": 66,
   "metadata": {},
   "outputs": [
    {
     "name": "stdout",
     "output_type": "stream",
     "text": [
      "  0.000366 seconds (92 allocations: 328.734 KiB)\n"
     ]
    },
    {
     "data": {
      "text/plain": [
       "22-element Array{Float64,1}:\n",
       "  206.847  \n",
       "   49.6413 \n",
       " 2316.79   \n",
       "  120.139  \n",
       "  -29.5312 \n",
       " -412.175  \n",
       "  401.629  \n",
       "  -23.3403 \n",
       "   -3.99077\n",
       "   51.9859 \n",
       "  -41.9921 \n",
       " -194.188  \n",
       "   36.7822 \n",
       "  183.252  \n",
       "   -4.10361\n",
       "   11.7041 \n",
       "  -29.1055 \n",
       "    3.47161\n",
       "   -1.76894\n",
       "  -47.2386 \n",
       "  -14.3045 \n",
       "  -23.7481 "
      ]
     },
     "execution_count": 66,
     "metadata": {},
     "output_type": "execute_result"
    }
   ],
   "source": [
    "@time ReverseDiff.gradient(scalarize(n2), x)"
   ]
  },
  {
   "cell_type": "code",
   "execution_count": 71,
   "metadata": {},
   "outputs": [
    {
     "data": {
      "text/plain": [
       "ReverseDiff.CompiledTape(#24)"
      ]
     },
     "execution_count": 71,
     "metadata": {},
     "output_type": "execute_result"
    }
   ],
   "source": [
    "tape = ReverseDiff.HessianTape(scalarize(n2), x)\n",
    "compiled = ReverseDiff.compile(tape)"
   ]
  },
  {
   "cell_type": "code",
   "execution_count": 72,
   "metadata": {},
   "outputs": [
    {
     "name": "stdout",
     "output_type": "stream",
     "text": [
      "  0.248609 seconds (4 allocations: 160 bytes)\n"
     ]
    },
    {
     "data": {
      "text/plain": [
       "22×22 Array{Float64,2}:\n",
       "  55.8038     -70.7569    134.248    …  -21.3573    -24.5013    -11.0298 \n",
       " -70.7569     -47.3807    174.44         27.5421    -29.2959    -12.2987 \n",
       " 134.248      174.44     -509.34        -30.0504     64.3747     39.1034 \n",
       " -82.4694    -128.964     257.815        14.0759     -8.86561    -5.6386 \n",
       "  16.3895     -31.8498     73.3176       -1.39876    -7.38633    -0.49231\n",
       "  -0.297829    20.7295    -44.064    …    9.29376    -1.87298     4.46543\n",
       " -23.0033     -47.9946    166.57         11.8059    -15.4254     -6.24294\n",
       "  49.3122      16.9145    -53.7816       -2.31199    -2.39223     7.03422\n",
       "   8.28068      3.06046   -13.6633       -6.98614     1.98829    -1.49632\n",
       "  13.2115       1.89937   -30.8324        0.833824    5.35581     7.14559\n",
       " -14.9793     -11.5063     52.4468   …    6.76313   -13.4739     -5.86812\n",
       " -41.8388     -36.921     133.082         4.43358   -17.2245    -15.8846 \n",
       " -14.3772      18.5794    -21.5629       10.1174      1.96074     2.89931\n",
       " -55.2706     -14.6959      9.89089       1.26648     4.9112     -5.61829\n",
       " -30.5057     -20.9844     60.3445        2.29592    -9.06782    -8.72422\n",
       " -15.6945     -17.4227     39.6467   …    1.49632    -0.226743   -1.85112\n",
       "  -6.97435     -1.20595    21.5655        3.53097    -5.79798    -2.84812\n",
       " -15.9941     -16.9484     26.7411       -1.66406     2.96606    -1.56554\n",
       "  29.5654      18.8089    -51.8743       -5.97283     2.58746     3.19969\n",
       " -21.3573      27.5421    -30.0504        5.46824    -1.59608    -3.79117\n",
       " -24.5013     -29.2959     64.3747   …   -1.59608    -4.66218    -6.83733\n",
       " -11.0298     -12.2987     39.1034       -3.79117    -6.83733    -7.81449"
      ]
     },
     "execution_count": 72,
     "metadata": {},
     "output_type": "execute_result"
    }
   ],
   "source": [
    "out = zeros(22, 22)\n",
    "@time ReverseDiff.hessian!(out, compiled, x)"
   ]
  },
  {
   "cell_type": "code",
   "execution_count": 73,
   "metadata": {},
   "outputs": [],
   "source": [
    "using ForwardDiff"
   ]
  },
  {
   "cell_type": "code",
   "execution_count": null,
   "metadata": {},
   "outputs": [],
   "source": []
  },
  {
   "cell_type": "code",
   "execution_count": 77,
   "metadata": {},
   "outputs": [
    {
     "data": {
      "text/plain": [
       "(::#24) (generic function with 1 method)"
      ]
     },
     "execution_count": 77,
     "metadata": {},
     "output_type": "execute_result"
    }
   ],
   "source": [
    "f = scalarize(n2)"
   ]
  },
  {
   "cell_type": "code",
   "execution_count": 85,
   "metadata": {},
   "outputs": [
    {
     "name": "stderr",
     "output_type": "stream",
     "text": [
      "\u001b[1m\u001b[36mINFO: \u001b[39m\u001b[22m\u001b[36mPrecompiling module BenchmarkTools.\n",
      "\u001b[39mWARNING: using BenchmarkTools.params in module Main conflicts with an existing identifier.\n"
     ]
    }
   ],
   "source": [
    "using BenchmarkTools"
   ]
  },
  {
   "cell_type": "code",
   "execution_count": 88,
   "metadata": {},
   "outputs": [
    {
     "name": "stdout",
     "output_type": "stream",
     "text": [
      "  171.232 ns (0 allocations: 0 bytes)\n"
     ]
    },
    {
     "data": {
      "text/plain": [
       "22×22 Array{Float64,2}:\n",
       " 0.0925297  0.0712245  0.506714    …  0.105502    0.0451499  0.146562  \n",
       " 0.161347   0.356692   0.539082       0.571787    0.303389   0.090163  \n",
       " 0.442811   0.562144   0.50791        0.640467    0.345442   0.222742  \n",
       " 0.0445345  0.209675   0.185431       0.51085     0.637026   0.317615  \n",
       " 0.308315   0.344108   0.55604        0.530137    0.182197   0.0452428 \n",
       " 0.369948   0.0620466  0.535653    …  0.0369485   0.286301   0.262048  \n",
       " 0.0125953  0.0757633  0.257421       0.0335656   0.0987677  0.602888  \n",
       " 0.417654   0.183318   0.00210737     0.0387144   0.0691739  0.135203  \n",
       " 0.49123    0.306442   0.200245       0.409599    0.489434   0.00407723\n",
       " 0.267733   0.17738    0.0557016      0.285967    0.266881   0.635272  \n",
       " 0.568614   0.516724   0.447967    …  0.00436033  0.372324   0.0337528 \n",
       " 0.345052   0.612714   0.348469       0.284681    0.59234    0.582042  \n",
       " 0.648334   0.603048   0.418363       0.210825    0.225154   0.373626  \n",
       " 0.633754   0.589234   0.247976       0.0845138   0.119596   0.271175  \n",
       " 0.324222   0.571609   0.549406       0.261772    0.202187   0.605564  \n",
       " 0.567122   0.148921   0.562843    …  0.158349    0.253554   0.257679  \n",
       " 0.153466   0.489457   0.337029       0.113434    0.214749   0.228646  \n",
       " 0.547903   0.136517   0.193011       0.181861    0.354047   0.412476  \n",
       " 0.0641558  0.601585   0.115854       0.624566    0.108174   0.156313  \n",
       " 0.370865   0.394111   0.570572       0.219503    0.0343948  0.0409244 \n",
       " 0.016148   0.468031   0.359846    …  0.612501    0.521353   0.299393  \n",
       " 0.476001   0.248031   0.287553       0.103165    0.390492   0.170158  "
      ]
     },
     "execution_count": 88,
     "metadata": {},
     "output_type": "execute_result"
    }
   ],
   "source": [
    "out = zeros(22, 22)\n",
    "A = rand(22, 22)\n",
    "b = rand()\n",
    "@btime $out .= $A .* $b"
   ]
  },
  {
   "cell_type": "code",
   "execution_count": 87,
   "metadata": {},
   "outputs": [
    {
     "name": "stdout",
     "output_type": "stream",
     "text": [
      "  477.174 ns (1 allocation: 3.94 KiB)\n"
     ]
    },
    {
     "data": {
      "text/plain": [
       "22×22 Array{Float64,2}:\n",
       " -0.145755   -0.684377  -0.445198   …  -0.137079   -0.101266    -0.114717 \n",
       " -0.496101   -0.469564  -0.588811      -0.412051   -0.250028    -0.135832 \n",
       " -0.616456   -0.214906  -0.672953      -0.811843   -0.0116028   -0.386744 \n",
       " -0.18769    -0.203996  -0.34569       -0.818978   -0.43519     -0.323192 \n",
       " -0.472893   -0.550577  -0.457573      -0.563912   -0.538244    -0.1876   \n",
       " -0.37347    -0.146596  -0.0942543  …  -0.751463   -0.0940785   -0.2415   \n",
       " -0.649897   -0.302357  -0.563572      -0.208079   -0.888795    -0.0452466\n",
       " -0.500663   -0.610137  -0.44453       -0.0100581  -0.282452    -0.186063 \n",
       " -0.918381   -0.668095  -0.670962      -0.527256   -0.131696    -0.110296 \n",
       " -0.427512   -0.287439  -0.108917      -0.44958    -0.180058    -0.201135 \n",
       " -0.780857   -0.499923  -0.721426   …  -0.051894   -0.30944     -0.786901 \n",
       " -0.0623661  -0.102748  -0.364184      -0.77077    -0.791102    -0.124904 \n",
       " -0.67136    -0.310799  -0.791655      -0.45308    -0.164049    -0.317112 \n",
       " -0.253908   -0.819926  -0.658574      -0.62634    -0.0239445   -0.174724 \n",
       " -0.627517   -0.190259  -0.238152      -0.353964   -0.00924556  -0.78332  \n",
       " -0.0847253  -0.906466  -0.847047   …  -0.461076   -0.537997    -0.867495 \n",
       " -0.91434    -0.205353  -0.832787      -0.695211   -0.37034     -0.433974 \n",
       " -0.0479378  -0.267798  -0.0232427     -0.0757343  -0.521922    -0.911619 \n",
       " -0.413431   -0.285307  -0.504829      -0.534895   -0.00673191  -0.155029 \n",
       " -0.737385   -0.117252  -0.819391      -0.379715   -0.612353    -0.61844  \n",
       " -0.726071   -0.296415  -0.0393058  …  -0.699957   -0.075385    -0.374696 \n",
       " -0.0344068  -0.449212  -0.111073      -0.800269   -0.260478    -0.48296  "
      ]
     },
     "execution_count": 87,
     "metadata": {},
     "output_type": "execute_result"
    }
   ],
   "source": [
    "@btime $(rand(22, 22)) * $(randn())"
   ]
  },
  {
   "cell_type": "code",
   "execution_count": 83,
   "metadata": {},
   "outputs": [
    {
     "name": "stdout",
     "output_type": "stream",
     "text": [
      "  0.036424 seconds (153 allocations: 4.306 MiB)\n"
     ]
    },
    {
     "data": {
      "text/plain": [
       "22×22 Array{Float64,2}:\n",
       "  55.8038     -70.7569    134.248    …  -21.3573    -24.5013    -11.0298 \n",
       " -70.7569     -47.3807    174.44         27.5421    -29.2959    -12.2987 \n",
       " 134.248      174.44     -509.34        -30.0504     64.3747     39.1034 \n",
       " -82.4694    -128.964     257.815        14.0759     -8.86561    -5.6386 \n",
       "  16.3895     -31.8498     73.3176       -1.39876    -7.38633    -0.49231\n",
       "  -0.297829    20.7295    -44.064    …    9.29376    -1.87298     4.46543\n",
       " -23.0033     -47.9946    166.57         11.8059    -15.4254     -6.24294\n",
       "  49.3122      16.9145    -53.7816       -2.31199    -2.39223     7.03422\n",
       "   8.28068      3.06046   -13.6633       -6.98614     1.98829    -1.49632\n",
       "  13.2115       1.89937   -30.8324        0.833824    5.35581     7.14559\n",
       " -14.9793     -11.5063     52.4468   …    6.76313   -13.4739     -5.86812\n",
       " -41.8388     -36.921     133.082         4.43358   -17.2245    -15.8846 \n",
       " -14.3772      18.5794    -21.5629       10.1174      1.96074     2.89931\n",
       " -55.2706     -14.6959      9.89089       1.26648     4.9112     -5.61829\n",
       " -30.5057     -20.9844     60.3445        2.29592    -9.06782    -8.72422\n",
       " -15.6945     -17.4227     39.6467   …    1.49632    -0.226743   -1.85112\n",
       "  -6.97435     -1.20595    21.5655        3.53097    -5.79798    -2.84812\n",
       " -15.9941     -16.9484     26.7411       -1.66406     2.96606    -1.56554\n",
       "  29.5654      18.8089    -51.8743       -5.97283     2.58746     3.19969\n",
       " -21.3573      27.5421    -30.0504        5.46824    -1.59608    -3.79117\n",
       " -24.5013     -29.2959     64.3747   …   -1.59608    -4.66218    -6.83733\n",
       " -11.0298     -12.2987     39.1034       -3.79117    -6.83733    -7.81449"
      ]
     },
     "execution_count": 83,
     "metadata": {},
     "output_type": "execute_result"
    }
   ],
   "source": [
    "cfg = ForwardDiff.HessianConfig(f, x);\n",
    "result = zeros(22, 22)\n",
    "@time ForwardDiff.hessian!(result, f, x, cfg)"
   ]
  },
  {
   "cell_type": "code",
   "execution_count": 76,
   "metadata": {},
   "outputs": [
    {
     "name": "stdout",
     "output_type": "stream",
     "text": [
      "  0.026935 seconds (161 allocations: 4.330 MiB)\n"
     ]
    },
    {
     "data": {
      "text/plain": [
       "22×22 Array{Float64,2}:\n",
       "  55.8038     -70.7569    134.248    …  -21.3573    -24.5013    -11.0298 \n",
       " -70.7569     -47.3807    174.44         27.5421    -29.2959    -12.2987 \n",
       " 134.248      174.44     -509.34        -30.0504     64.3747     39.1034 \n",
       " -82.4694    -128.964     257.815        14.0759     -8.86561    -5.6386 \n",
       "  16.3895     -31.8498     73.3176       -1.39876    -7.38633    -0.49231\n",
       "  -0.297829    20.7295    -44.064    …    9.29376    -1.87298     4.46543\n",
       " -23.0033     -47.9946    166.57         11.8059    -15.4254     -6.24294\n",
       "  49.3122      16.9145    -53.7816       -2.31199    -2.39223     7.03422\n",
       "   8.28068      3.06046   -13.6633       -6.98614     1.98829    -1.49632\n",
       "  13.2115       1.89937   -30.8324        0.833824    5.35581     7.14559\n",
       " -14.9793     -11.5063     52.4468   …    6.76313   -13.4739     -5.86812\n",
       " -41.8388     -36.921     133.082         4.43358   -17.2245    -15.8846 \n",
       " -14.3772      18.5794    -21.5629       10.1174      1.96074     2.89931\n",
       " -55.2706     -14.6959      9.89089       1.26648     4.9112     -5.61829\n",
       " -30.5057     -20.9844     60.3445        2.29592    -9.06782    -8.72422\n",
       " -15.6945     -17.4227     39.6467   …    1.49632    -0.226743   -1.85112\n",
       "  -6.97435     -1.20595    21.5655        3.53097    -5.79798    -2.84812\n",
       " -15.9941     -16.9484     26.7411       -1.66406     2.96606    -1.56554\n",
       "  29.5654      18.8089    -51.8743       -5.97283     2.58746     3.19969\n",
       " -21.3573      27.5421    -30.0504        5.46824    -1.59608    -3.79117\n",
       " -24.5013     -29.2959     64.3747   …   -1.59608    -4.66218    -6.83733\n",
       " -11.0298     -12.2987     39.1034       -3.79117    -6.83733    -7.81449"
      ]
     },
     "execution_count": 76,
     "metadata": {},
     "output_type": "execute_result"
    }
   ],
   "source": [
    "@time ForwardDiff.hessian(scalarize(n2), x)"
   ]
  },
  {
   "cell_type": "code",
   "execution_count": null,
   "metadata": {},
   "outputs": [],
   "source": []
  }
 ],
 "metadata": {
  "kernelspec": {
   "display_name": "Julia 0.6.3",
   "language": "julia",
   "name": "julia-0.6"
  },
  "language_info": {
   "file_extension": ".jl",
   "mimetype": "application/julia",
   "name": "julia",
   "version": "0.6.3"
  }
 },
 "nbformat": 4,
 "nbformat_minor": 2
}
