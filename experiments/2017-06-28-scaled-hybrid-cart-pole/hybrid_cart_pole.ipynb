{
 "cells": [
  {
   "cell_type": "code",
   "execution_count": 310,
   "metadata": {},
   "outputs": [
    {
     "data": {
      "text/plain": [
       "true"
      ]
     },
     "execution_count": 310,
     "metadata": {},
     "output_type": "execute_result"
    }
   ],
   "source": [
    "using MLDataPattern\n",
    "using Plots; pyplot()\n",
    "using ProgressMeter\n",
    "using JLD\n",
    "using DrakeVisualizer, GeometryTypes, CoordinateTransformations\n",
    "DrakeVisualizer.any_open_windows() || DrakeVisualizer.new_window()"
   ]
  },
  {
   "cell_type": "code",
   "execution_count": 325,
   "metadata": {},
   "outputs": [
    {
     "name": "stderr",
     "output_type": "stream",
     "text": [
      "WARNING: replacing module Nets.\n"
     ]
    }
   ],
   "source": [
    "import Nets\n",
    "reload(\"Nets\")"
   ]
  },
  {
   "cell_type": "code",
   "execution_count": 326,
   "metadata": {},
   "outputs": [
    {
     "name": "stdout",
     "output_type": "stream",
     "text": [
      "\u001b[1m\u001b[37mTest Summary:    | \u001b[39m\u001b[22m\u001b[1m\u001b[32mPass  \u001b[39m\u001b[22m\u001b[1m\u001b[36mTotal\u001b[39m\u001b[22m\n",
      "test sensitivity | \u001b[32m 267  \u001b[39m\u001b[36m  267\u001b[39m\n"
     ]
    },
    {
     "name": "stderr",
     "output_type": "stream",
     "text": [
      "WARNING: replacing module PyMPC\n"
     ]
    },
    {
     "data": {
      "text/plain": [
       "colmat (generic function with 1 method)"
      ]
     },
     "execution_count": 326,
     "metadata": {},
     "output_type": "execute_result"
    }
   ],
   "source": [
    "include(\"../../pympc.jl\")\n",
    "colmat = PyMPC.colmat"
   ]
  },
  {
   "cell_type": "code",
   "execution_count": 327,
   "metadata": {},
   "outputs": [],
   "source": [
    "sys = PyMPC.Models.HybridCartPole();"
   ]
  },
  {
   "cell_type": "code",
   "execution_count": 328,
   "metadata": {},
   "outputs": [],
   "source": [
    "vis = Visualizer()[:cartpole]\n",
    "setgeometry!(vis, sys)\n",
    "settransform!(vis, sys, [0, 0]);"
   ]
  },
  {
   "cell_type": "code",
   "execution_count": 329,
   "metadata": {},
   "outputs": [
    {
     "data": {
      "text/plain": [
       "PyObject <pympc.control.MPCHybridController instance at 0x139e06b48>"
      ]
     },
     "execution_count": 329,
     "metadata": {},
     "output_type": "execute_result"
    }
   ],
   "source": [
    "controller = PyMPC.Models.controller(sys)"
   ]
  },
  {
   "cell_type": "code",
   "execution_count": 330,
   "metadata": {},
   "outputs": [],
   "source": [
    "x_0 = [0., 0.1, 2.1, 0.]\n",
    "xs = PyMPC.Models.simulate(sys, x_0, controller; N_sim=30);"
   ]
  },
  {
   "cell_type": "code",
   "execution_count": 331,
   "metadata": {},
   "outputs": [],
   "source": [
    "PyMPC.Models.playback(vis, sys, xs)"
   ]
  },
  {
   "cell_type": "code",
   "execution_count": 332,
   "metadata": {},
   "outputs": [],
   "source": [
    "# num_samples = 100\n",
    "# data = Vector{Tuple{Vector{Float64}, Matrix{Float64}}}()\n",
    "\n",
    "# @showprogress for i in 1:num_samples\n",
    "#     while true\n",
    "#         x0 = PyMPC.Models.generate_x0(sys)\n",
    "#         u, J, x_traj = PyMPC.run_mpc(controller, x0)\n",
    "#         if !isnan(u[1])\n",
    "#             PyMPC.Models.playback(vis, sys, vec.(x_traj))\n",
    "#             push!(data, (x0, hcat(u, J[1:length(u), :])))\n",
    "#             for x in x_traj\n",
    "#                 u, J, _ = PyMPC.run_mpc(controller, vec(x))\n",
    "#                 if !isnan(u[1])\n",
    "#                     push!(data, (vec(x), hcat(u, J[1:length(u), :])))\n",
    "#                 end\n",
    "#             end\n",
    "#             break\n",
    "#         end\n",
    "#     end\n",
    "# end\n",
    "\n",
    "# save(\"cart_pole_100_traj.jld\", \"data\", data)"
   ]
  },
  {
   "cell_type": "code",
   "execution_count": 394,
   "metadata": {},
   "outputs": [
    {
     "data": {
      "text/plain": [
       "AffineMap([0.0187943], [0.0])"
      ]
     },
     "execution_count": 394,
     "metadata": {},
     "output_type": "execute_result"
    }
   ],
   "source": [
    "data = load(\"cart_pole_100_traj.jld\")[\"data\"]\n",
    "train_data, test_data = splitobs(shuffleobs(data), 0.025)\n",
    "\n",
    "train_data_scaled, x_to_u, v_to_y = Nets.rescale(train_data)\n",
    "u_to_x = inv(x_to_u)\n",
    "y_to_v = inv(v_to_y)"
   ]
  },
  {
   "cell_type": "code",
   "execution_count": 422,
   "metadata": {},
   "outputs": [
    {
     "data": {
      "text/plain": [
       "sensitive_loss (generic function with 1 method)"
      ]
     },
     "execution_count": 422,
     "metadata": {},
     "output_type": "execute_result"
    }
   ],
   "source": [
    "widths = [4, 32, 32, 32, 32, 32, 1]\n",
    "\n",
    "function sensitive_loss(λ)\n",
    "    q = [1.0-λ λ λ λ λ]\n",
    "    (params, x, y) -> sum(abs2, q .* (Nets.predict_sensitivity(Nets.Net(Nets.Params(widths, params)), x) .- y))\n",
    "end"
   ]
  },
  {
   "cell_type": "code",
   "execution_count": 423,
   "metadata": {
    "collapsed": true
   },
   "outputs": [],
   "source": [
    "start_params = 0.1 * randn(Nets.Params{Float64}, widths).data\n",
    "nepoch = 500;"
   ]
  },
  {
   "cell_type": "code",
   "execution_count": 424,
   "metadata": {},
   "outputs": [
    {
     "name": "stdout",
     "output_type": "stream",
     "text": [
      "mean((xy->begin  # In[424], line 8:\n",
      "            sum(abs2, net(xy[1]) .- (xy[2])[:, 1])\n",
      "        end), test_data) = 304.39016141303244\n"
     ]
    },
    {
     "name": "stderr",
     "output_type": "stream",
     "text": [
      "Progress:  98%|████████████████████████████████████████ |  ETA: 0:00:00"
     ]
    },
    {
     "name": "stdout",
     "output_type": "stream",
     "text": [
      "mean((xy->begin  # In[424], line 15:\n",
      "            sum(abs2, net(xy[1]) .- (xy[2])[:, 1])\n",
      "        end), test_data) = 1825.4579710345035\n"
     ]
    },
    {
     "name": "stderr",
     "output_type": "stream",
     "text": [
      "\r",
      "Progress:  99%|█████████████████████████████████████████|  ETA: 0:00:00\r",
      "Progress: 100%|█████████████████████████████████████████| Time: 0:00:11\n"
     ]
    },
    {
     "data": {
      "text/html": [
       "<img src=\"data:image/png;base64,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\" />"
      ]
     },
     "execution_count": 424,
     "metadata": {},
     "output_type": "execute_result"
    }
   ],
   "source": [
    "params = copy(start_params)\n",
    "net = Nets.Net(Nets.Params(widths, params), x_to_u, v_to_y)\n",
    "\n",
    "train_loss = sensitive_loss(1.0)\n",
    "validate_loss = train_loss\n",
    "losses = [mean(xy -> validate_loss(params, xy[1], xy[2]), train_data_scaled)]\n",
    "\n",
    "@show mean(xy -> sum(abs2, net(xy[1]) .- xy[2][:,1]), test_data)\n",
    "\n",
    "@showprogress for i in 1:nepoch\n",
    "    Nets.adam!(train_loss, params, train_data_scaled, Nets.AdamOpts(learning_rate=0.01 * 0.99^i, batch_size=5))\n",
    "    push!(losses, mean(xy -> validate_loss(params, xy[1], xy[2]), train_data_scaled))\n",
    "end\n",
    "\n",
    "@show mean(xy -> sum(abs2, net(xy[1]) .- xy[2][:,1]), test_data)\n",
    "\n",
    "plot(losses, ylim=(0, losses[1]))"
   ]
  },
  {
   "cell_type": "code",
   "execution_count": 400,
   "metadata": {},
   "outputs": [],
   "source": [
    "local x0\n",
    "for i in 1:100\n",
    "    x0 = PyMPC.Models.generate_x0(sys)\n",
    "    if !any(isnan, controller[:feedback](colmat(x0)))\n",
    "        break\n",
    "    end\n",
    "end\n",
    "\n",
    "xs = PyMPC.Models.simulate(sys, x0, controller; N_sim=100)\n",
    "PyMPC.Models.playback(vis, sys, xs)"
   ]
  },
  {
   "cell_type": "code",
   "execution_count": 377,
   "metadata": {
    "collapsed": true
   },
   "outputs": [],
   "source": [
    "\n",
    "PyMPC.Models.playback(vis, sys, xs)"
   ]
  },
  {
   "cell_type": "code",
   "execution_count": null,
   "metadata": {
    "collapsed": true
   },
   "outputs": [],
   "source": []
  }
 ],
 "metadata": {
  "kernelspec": {
   "display_name": "Julia 0.6.0",
   "language": "julia",
   "name": "julia-0.6"
  },
  "language_info": {
   "file_extension": ".jl",
   "mimetype": "application/julia",
   "name": "julia",
   "version": "0.6.0"
  }
 },
 "nbformat": 4,
 "nbformat_minor": 2
}
