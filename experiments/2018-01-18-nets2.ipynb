{
 "cells": [
  {
   "cell_type": "code",
   "execution_count": 1,
   "metadata": {
    "collapsed": true
   },
   "outputs": [],
   "source": [
    "using Revise"
   ]
  },
  {
   "cell_type": "code",
   "execution_count": 3,
   "metadata": {},
   "outputs": [
    {
     "data": {
      "text/plain": [
       "Plots.GRBackend()"
      ]
     },
     "execution_count": 3,
     "metadata": {},
     "output_type": "execute_result"
    }
   ],
   "source": [
    "using Plots; gr()"
   ]
  },
  {
   "cell_type": "code",
   "execution_count": 189,
   "metadata": {},
   "outputs": [
    {
     "name": "stderr",
     "output_type": "stream",
     "text": [
      "WARNING: replacing module Nets2\n"
     ]
    }
   ],
   "source": [
    "import Nets2\n",
    "reload(\"Nets2\")"
   ]
  },
  {
   "cell_type": "code",
   "execution_count": 190,
   "metadata": {},
   "outputs": [
    {
     "data": {
      "text/plain": [
       "20-element Array{Float64,1}:\n",
       " -1.22465e-16\n",
       " -0.324699   \n",
       " -0.614213   \n",
       " -0.837166   \n",
       " -0.9694     \n",
       " -0.996584   \n",
       " -0.915773   \n",
       " -0.735724   \n",
       " -0.475947   \n",
       " -0.164595   \n",
       "  0.164595   \n",
       "  0.475947   \n",
       "  0.735724   \n",
       "  0.915773   \n",
       "  0.996584   \n",
       "  0.9694     \n",
       "  0.837166   \n",
       "  0.614213   \n",
       "  0.324699   \n",
       "  1.22465e-16"
      ]
     },
     "execution_count": 190,
     "metadata": {},
     "output_type": "execute_result"
    }
   ],
   "source": [
    "xs = linspace(-pi, pi, 20)\n",
    "f = x -> sin(x)\n",
    "ys = f.(xs)"
   ]
  },
  {
   "cell_type": "code",
   "execution_count": 236,
   "metadata": {},
   "outputs": [],
   "source": [
    "net = Nets2.Chain(\n",
    "    Nets2.Affine(10, 1),\n",
    "    Nets2.activation(Nets2.elu),\n",
    "    Nets2.Affine(10, 10),\n",
    "    Nets2.activation(Nets2.elu),\n",
    "    Nets2.Affine(1, 10),\n",
    "    Nets2.activation(Nets2.elu)\n",
    ")\n",
    "Nets2.initialize!(() -> 0.1 * randn(), net)"
   ]
  },
  {
   "cell_type": "code",
   "execution_count": 237,
   "metadata": {},
   "outputs": [
    {
     "data": {
      "text/html": [
       "<?xml version=\"1.0\" encoding=\"utf-8\"?>\n",
       "<svg xmlns=\"http://www.w3.org/2000/svg\" xmlns:xlink=\"http://www.w3.org/1999/xlink\" width=\"600\" height=\"400\" viewBox=\"0 0 600 400\">\n",
       "<defs>\n",
       "  <clipPath id=\"clip2600\">\n",
       "    <rect x=\"0\" y=\"0\" width=\"600\" height=\"400\"/>\n",
       "  </clipPath>\n",
       "</defs>\n",
       "<polygon clip-path=\"url(#clip2600)\" points=\"\n",
       "0,400 600,400 600,0 0,0 \n",
       "  \" fill=\"#ffffff\" fill-opacity=\"1\"/>\n",
       "<defs>\n",
       "  <clipPath id=\"clip2601\">\n",
       "    <rect x=\"120\" y=\"0\" width=\"421\" height=\"400\"/>\n",
       "  </clipPath>\n",
       "</defs>\n",
       "<polygon clip-path=\"url(#clip2600)\" points=\"\n",
       "39.1436,375.813 580.315,375.813 580.315,11.811 39.1436,11.811 \n",
       "  \" fill=\"#ffffff\" fill-opacity=\"1\"/>\n",
       "<defs>\n",
       "  <clipPath id=\"clip2602\">\n",
       "    <rect x=\"39\" y=\"11\" width=\"542\" height=\"365\"/>\n",
       "  </clipPath>\n",
       "</defs>\n",
       "<polyline clip-path=\"url(#clip2602)\" style=\"stroke:#000000; stroke-width:0.5; stroke-opacity:0.1; fill:none\" points=\"\n",
       "  65.9648,375.813 65.9648,11.811 \n",
       "  \"/>\n",
       "<polyline clip-path=\"url(#clip2602)\" style=\"stroke:#000000; stroke-width:0.5; stroke-opacity:0.1; fill:none\" points=\"\n",
       "  147.22,375.813 147.22,11.811 \n",
       "  \"/>\n",
       "<polyline clip-path=\"url(#clip2602)\" style=\"stroke:#000000; stroke-width:0.5; stroke-opacity:0.1; fill:none\" points=\"\n",
       "  228.474,375.813 228.474,11.811 \n",
       "  \"/>\n",
       "<polyline clip-path=\"url(#clip2602)\" style=\"stroke:#000000; stroke-width:0.5; stroke-opacity:0.1; fill:none\" points=\"\n",
       "  309.729,375.813 309.729,11.811 \n",
       "  \"/>\n",
       "<polyline clip-path=\"url(#clip2602)\" style=\"stroke:#000000; stroke-width:0.5; stroke-opacity:0.1; fill:none\" points=\"\n",
       "  390.984,375.813 390.984,11.811 \n",
       "  \"/>\n",
       "<polyline clip-path=\"url(#clip2602)\" style=\"stroke:#000000; stroke-width:0.5; stroke-opacity:0.1; fill:none\" points=\"\n",
       "  472.239,375.813 472.239,11.811 \n",
       "  \"/>\n",
       "<polyline clip-path=\"url(#clip2602)\" style=\"stroke:#000000; stroke-width:0.5; stroke-opacity:0.1; fill:none\" points=\"\n",
       "  553.494,375.813 553.494,11.811 \n",
       "  \"/>\n",
       "<polyline clip-path=\"url(#clip2602)\" style=\"stroke:#000000; stroke-width:0.5; stroke-opacity:0.1; fill:none\" points=\"\n",
       "  39.1436,365.533 580.315,365.533 \n",
       "  \"/>\n",
       "<polyline clip-path=\"url(#clip2602)\" style=\"stroke:#000000; stroke-width:0.5; stroke-opacity:0.1; fill:none\" points=\"\n",
       "  39.1436,279.673 580.315,279.673 \n",
       "  \"/>\n",
       "<polyline clip-path=\"url(#clip2602)\" style=\"stroke:#000000; stroke-width:0.5; stroke-opacity:0.1; fill:none\" points=\"\n",
       "  39.1436,193.812 580.315,193.812 \n",
       "  \"/>\n",
       "<polyline clip-path=\"url(#clip2602)\" style=\"stroke:#000000; stroke-width:0.5; stroke-opacity:0.1; fill:none\" points=\"\n",
       "  39.1436,107.952 580.315,107.952 \n",
       "  \"/>\n",
       "<polyline clip-path=\"url(#clip2602)\" style=\"stroke:#000000; stroke-width:0.5; stroke-opacity:0.1; fill:none\" points=\"\n",
       "  39.1436,22.0914 580.315,22.0914 \n",
       "  \"/>\n",
       "<polyline clip-path=\"url(#clip2600)\" style=\"stroke:#000000; stroke-width:1; stroke-opacity:1; fill:none\" points=\"\n",
       "  39.1436,375.813 580.315,375.813 \n",
       "  \"/>\n",
       "<polyline clip-path=\"url(#clip2600)\" style=\"stroke:#000000; stroke-width:1; stroke-opacity:1; fill:none\" points=\"\n",
       "  39.1436,375.813 39.1436,11.811 \n",
       "  \"/>\n",
       "<polyline clip-path=\"url(#clip2600)\" style=\"stroke:#000000; stroke-width:1; stroke-opacity:1; fill:none\" points=\"\n",
       "  65.9648,375.813 65.9648,370.353 \n",
       "  \"/>\n",
       "<polyline clip-path=\"url(#clip2600)\" style=\"stroke:#000000; stroke-width:1; stroke-opacity:1; fill:none\" points=\"\n",
       "  147.22,375.813 147.22,370.353 \n",
       "  \"/>\n",
       "<polyline clip-path=\"url(#clip2600)\" style=\"stroke:#000000; stroke-width:1; stroke-opacity:1; fill:none\" points=\"\n",
       "  228.474,375.813 228.474,370.353 \n",
       "  \"/>\n",
       "<polyline clip-path=\"url(#clip2600)\" style=\"stroke:#000000; stroke-width:1; stroke-opacity:1; fill:none\" points=\"\n",
       "  309.729,375.813 309.729,370.353 \n",
       "  \"/>\n",
       "<polyline clip-path=\"url(#clip2600)\" style=\"stroke:#000000; stroke-width:1; stroke-opacity:1; fill:none\" points=\"\n",
       "  390.984,375.813 390.984,370.353 \n",
       "  \"/>\n",
       "<polyline clip-path=\"url(#clip2600)\" style=\"stroke:#000000; stroke-width:1; stroke-opacity:1; fill:none\" points=\"\n",
       "  472.239,375.813 472.239,370.353 \n",
       "  \"/>\n",
       "<polyline clip-path=\"url(#clip2600)\" style=\"stroke:#000000; stroke-width:1; stroke-opacity:1; fill:none\" points=\"\n",
       "  553.494,375.813 553.494,370.353 \n",
       "  \"/>\n",
       "<polyline clip-path=\"url(#clip2600)\" style=\"stroke:#000000; stroke-width:1; stroke-opacity:1; fill:none\" points=\"\n",
       "  39.1436,365.533 47.2612,365.533 \n",
       "  \"/>\n",
       "<polyline clip-path=\"url(#clip2600)\" style=\"stroke:#000000; stroke-width:1; stroke-opacity:1; fill:none\" points=\"\n",
       "  39.1436,279.673 47.2612,279.673 \n",
       "  \"/>\n",
       "<polyline clip-path=\"url(#clip2600)\" style=\"stroke:#000000; stroke-width:1; stroke-opacity:1; fill:none\" points=\"\n",
       "  39.1436,193.812 47.2612,193.812 \n",
       "  \"/>\n",
       "<polyline clip-path=\"url(#clip2600)\" style=\"stroke:#000000; stroke-width:1; stroke-opacity:1; fill:none\" points=\"\n",
       "  39.1436,107.952 47.2612,107.952 \n",
       "  \"/>\n",
       "<polyline clip-path=\"url(#clip2600)\" style=\"stroke:#000000; stroke-width:1; stroke-opacity:1; fill:none\" points=\"\n",
       "  39.1436,22.0914 47.2612,22.0914 \n",
       "  \"/>\n",
       "<g clip-path=\"url(#clip2600)\">\n",
       "<text style=\"fill:#000000; fill-opacity:1; font-family:Arial,Helvetica Neue,Helvetica,sans-serif; font-size:12; text-anchor:middle;\" transform=\"rotate(0, 65.9648, 389.613)\" x=\"65.9648\" y=\"389.613\">-3</text>\n",
       "</g>\n",
       "<g clip-path=\"url(#clip2600)\">\n",
       "<text style=\"fill:#000000; fill-opacity:1; font-family:Arial,Helvetica Neue,Helvetica,sans-serif; font-size:12; text-anchor:middle;\" transform=\"rotate(0, 147.22, 389.613)\" x=\"147.22\" y=\"389.613\">-2</text>\n",
       "</g>\n",
       "<g clip-path=\"url(#clip2600)\">\n",
       "<text style=\"fill:#000000; fill-opacity:1; font-family:Arial,Helvetica Neue,Helvetica,sans-serif; font-size:12; text-anchor:middle;\" transform=\"rotate(0, 228.474, 389.613)\" x=\"228.474\" y=\"389.613\">-1</text>\n",
       "</g>\n",
       "<g clip-path=\"url(#clip2600)\">\n",
       "<text style=\"fill:#000000; fill-opacity:1; font-family:Arial,Helvetica Neue,Helvetica,sans-serif; font-size:12; text-anchor:middle;\" transform=\"rotate(0, 309.729, 389.613)\" x=\"309.729\" y=\"389.613\">0</text>\n",
       "</g>\n",
       "<g clip-path=\"url(#clip2600)\">\n",
       "<text style=\"fill:#000000; fill-opacity:1; font-family:Arial,Helvetica Neue,Helvetica,sans-serif; font-size:12; text-anchor:middle;\" transform=\"rotate(0, 390.984, 389.613)\" x=\"390.984\" y=\"389.613\">1</text>\n",
       "</g>\n",
       "<g clip-path=\"url(#clip2600)\">\n",
       "<text style=\"fill:#000000; fill-opacity:1; font-family:Arial,Helvetica Neue,Helvetica,sans-serif; font-size:12; text-anchor:middle;\" transform=\"rotate(0, 472.239, 389.613)\" x=\"472.239\" y=\"389.613\">2</text>\n",
       "</g>\n",
       "<g clip-path=\"url(#clip2600)\">\n",
       "<text style=\"fill:#000000; fill-opacity:1; font-family:Arial,Helvetica Neue,Helvetica,sans-serif; font-size:12; text-anchor:middle;\" transform=\"rotate(0, 553.494, 389.613)\" x=\"553.494\" y=\"389.613\">3</text>\n",
       "</g>\n",
       "<g clip-path=\"url(#clip2600)\">\n",
       "<text style=\"fill:#000000; fill-opacity:1; font-family:Arial,Helvetica Neue,Helvetica,sans-serif; font-size:12; text-anchor:end;\" transform=\"rotate(0, 33.1436, 370.033)\" x=\"33.1436\" y=\"370.033\">-1.0</text>\n",
       "</g>\n",
       "<g clip-path=\"url(#clip2600)\">\n",
       "<text style=\"fill:#000000; fill-opacity:1; font-family:Arial,Helvetica Neue,Helvetica,sans-serif; font-size:12; text-anchor:end;\" transform=\"rotate(0, 33.1436, 284.173)\" x=\"33.1436\" y=\"284.173\">-0.5</text>\n",
       "</g>\n",
       "<g clip-path=\"url(#clip2600)\">\n",
       "<text style=\"fill:#000000; fill-opacity:1; font-family:Arial,Helvetica Neue,Helvetica,sans-serif; font-size:12; text-anchor:end;\" transform=\"rotate(0, 33.1436, 198.312)\" x=\"33.1436\" y=\"198.312\">0.0</text>\n",
       "</g>\n",
       "<g clip-path=\"url(#clip2600)\">\n",
       "<text style=\"fill:#000000; fill-opacity:1; font-family:Arial,Helvetica Neue,Helvetica,sans-serif; font-size:12; text-anchor:end;\" transform=\"rotate(0, 33.1436, 112.452)\" x=\"33.1436\" y=\"112.452\">0.5</text>\n",
       "</g>\n",
       "<g clip-path=\"url(#clip2600)\">\n",
       "<text style=\"fill:#000000; fill-opacity:1; font-family:Arial,Helvetica Neue,Helvetica,sans-serif; font-size:12; text-anchor:end;\" transform=\"rotate(0, 33.1436, 26.5914)\" x=\"33.1436\" y=\"26.5914\">1.0</text>\n",
       "</g>\n",
       "<polyline clip-path=\"url(#clip2602)\" style=\"stroke:#009af9; stroke-width:1; stroke-opacity:1; fill:none\" points=\"\n",
       "  54.4598,193.812 59.6167,204.703 64.7737,215.551 69.9306,226.311 75.0876,236.94 80.2446,247.395 85.4015,257.634 90.5585,267.617 95.7154,277.302 100.872,286.652 \n",
       "  106.029,295.627 111.186,304.192 116.343,312.313 121.5,319.957 126.657,327.093 131.814,333.692 136.971,339.728 142.128,345.176 147.285,350.015 152.442,354.225 \n",
       "  157.599,357.789 162.756,360.693 167.913,362.924 173.07,364.475 178.227,365.339 183.384,365.511 188.541,364.993 193.698,363.785 198.855,361.893 204.012,359.324 \n",
       "  209.169,356.089 214.326,352.2 219.482,347.673 224.639,342.527 229.796,336.782 234.953,330.461 240.11,323.59 245.267,316.197 250.424,308.31 255.581,299.963 \n",
       "  260.738,291.188 265.895,282.021 271.052,272.499 276.209,262.66 281.366,252.544 286.523,242.192 291.68,231.644 296.837,220.944 301.994,210.135 307.151,199.261 \n",
       "  312.308,188.364 317.465,177.489 322.622,166.68 327.779,155.98 332.936,145.433 338.093,135.08 343.25,124.964 348.406,115.125 353.563,105.603 358.72,96.4362 \n",
       "  363.877,87.6614 369.034,79.3141 374.191,71.4278 379.348,64.0343 384.505,57.1633 389.662,50.8426 394.819,45.0976 399.976,39.9514 405.133,35.4248 410.29,31.5359 \n",
       "  415.447,28.3004 420.604,25.7314 425.761,23.8392 430.918,22.6315 436.075,22.113 441.232,22.2859 446.389,23.1494 451.546,24.7002 456.703,26.9319 461.86,29.8356 \n",
       "  467.017,33.3996 472.174,37.6094 477.33,42.4483 482.487,47.8966 487.644,53.9325 492.801,60.5317 497.958,67.6675 503.115,75.3113 508.272,83.4322 513.429,91.9976 \n",
       "  518.586,100.973 523.743,110.322 528.9,120.007 534.057,129.99 539.214,140.23 544.371,150.685 549.528,161.314 554.685,172.074 559.842,182.921 564.999,193.812 \n",
       "  \n",
       "  \"/>\n",
       "<polyline clip-path=\"url(#clip2602)\" style=\"stroke:#e26f46; stroke-width:1; stroke-opacity:1; fill:none\" points=\"\n",
       "  54.4598,180.36 59.6167,180.367 64.7737,180.374 69.9306,180.38 75.0876,180.388 80.2446,180.395 85.4015,180.402 90.5585,180.41 95.7154,180.417 100.872,180.425 \n",
       "  106.029,180.433 111.186,180.441 116.343,180.449 121.5,180.458 126.657,180.466 131.814,180.475 136.971,180.484 142.128,180.493 147.285,180.503 152.442,180.512 \n",
       "  157.599,180.522 162.756,180.531 167.913,180.541 173.07,180.552 178.227,180.562 183.384,180.573 188.541,180.584 193.698,180.595 198.855,180.606 204.012,180.618 \n",
       "  209.169,180.63 214.326,180.641 219.482,180.654 224.639,180.666 229.796,180.678 234.953,180.691 240.11,180.704 245.267,180.717 250.424,180.73 255.581,180.744 \n",
       "  260.738,180.757 265.895,180.771 271.052,180.785 276.209,180.799 281.366,180.814 286.523,180.828 291.68,180.843 296.837,180.858 301.994,180.873 307.151,180.888 \n",
       "  312.308,180.903 317.465,180.917 322.622,180.932 327.779,180.947 332.936,180.961 338.093,180.976 343.25,180.991 348.406,181.005 353.563,181.02 358.72,181.034 \n",
       "  363.877,181.049 369.034,181.063 374.191,181.078 379.348,181.092 384.505,181.106 389.662,181.121 394.819,181.135 399.976,181.149 405.133,181.163 410.29,181.177 \n",
       "  415.447,181.19 420.604,181.204 425.761,181.218 430.918,181.231 436.075,181.245 441.232,181.259 446.389,181.272 451.546,181.286 456.703,181.299 461.86,181.313 \n",
       "  467.017,181.326 472.174,181.34 477.33,181.353 482.487,181.367 487.644,181.38 492.801,181.393 497.958,181.406 503.115,181.42 508.272,181.433 513.429,181.446 \n",
       "  518.586,181.459 523.743,181.472 528.9,181.484 534.057,181.497 539.214,181.51 544.371,181.523 549.528,181.535 554.685,181.548 559.842,181.561 564.999,181.573 \n",
       "  \n",
       "  \"/>\n",
       "<polyline clip-path=\"url(#clip2602)\" style=\"stroke:#000000; stroke-width:1; stroke-opacity:0; fill:none\" points=\"\n",
       "  54.4598,193.812 81.3302,249.57 108.201,299.285 135.071,337.571 161.942,360.278 188.812,364.947 215.683,351.07 242.553,320.151 269.424,275.542 296.294,222.077 \n",
       "  323.165,165.548 350.035,112.082 376.905,67.4731 403.776,36.5548 430.646,22.6779 457.517,27.346 484.387,50.0533 511.258,88.3391 538.128,138.055 564.999,193.812 \n",
       "  \n",
       "  \"/>\n",
       "<circle clip-path=\"url(#clip2602)\" style=\"fill:#000000; stroke:none; fill-opacity:1\" cx=\"54.4598\" cy=\"193.812\" r=\"4\"/>\n",
       "<circle clip-path=\"url(#clip2602)\" style=\"fill:#3da44d; stroke:none; fill-opacity:1\" cx=\"54.4598\" cy=\"193.812\" r=\"3\"/>\n",
       "<circle clip-path=\"url(#clip2602)\" style=\"fill:#000000; stroke:none; fill-opacity:1\" cx=\"81.3302\" cy=\"249.57\" r=\"4\"/>\n",
       "<circle clip-path=\"url(#clip2602)\" style=\"fill:#3da44d; stroke:none; fill-opacity:1\" cx=\"81.3302\" cy=\"249.57\" r=\"3\"/>\n",
       "<circle clip-path=\"url(#clip2602)\" style=\"fill:#000000; stroke:none; fill-opacity:1\" cx=\"108.201\" cy=\"299.285\" r=\"4\"/>\n",
       "<circle clip-path=\"url(#clip2602)\" style=\"fill:#3da44d; stroke:none; fill-opacity:1\" cx=\"108.201\" cy=\"299.285\" r=\"3\"/>\n",
       "<circle clip-path=\"url(#clip2602)\" style=\"fill:#000000; stroke:none; fill-opacity:1\" cx=\"135.071\" cy=\"337.571\" r=\"4\"/>\n",
       "<circle clip-path=\"url(#clip2602)\" style=\"fill:#3da44d; stroke:none; fill-opacity:1\" cx=\"135.071\" cy=\"337.571\" r=\"3\"/>\n",
       "<circle clip-path=\"url(#clip2602)\" style=\"fill:#000000; stroke:none; fill-opacity:1\" cx=\"161.942\" cy=\"360.278\" r=\"4\"/>\n",
       "<circle clip-path=\"url(#clip2602)\" style=\"fill:#3da44d; stroke:none; fill-opacity:1\" cx=\"161.942\" cy=\"360.278\" r=\"3\"/>\n",
       "<circle clip-path=\"url(#clip2602)\" style=\"fill:#000000; stroke:none; fill-opacity:1\" cx=\"188.812\" cy=\"364.947\" r=\"4\"/>\n",
       "<circle clip-path=\"url(#clip2602)\" style=\"fill:#3da44d; stroke:none; fill-opacity:1\" cx=\"188.812\" cy=\"364.947\" r=\"3\"/>\n",
       "<circle clip-path=\"url(#clip2602)\" style=\"fill:#000000; stroke:none; fill-opacity:1\" cx=\"215.683\" cy=\"351.07\" r=\"4\"/>\n",
       "<circle clip-path=\"url(#clip2602)\" style=\"fill:#3da44d; stroke:none; fill-opacity:1\" cx=\"215.683\" cy=\"351.07\" r=\"3\"/>\n",
       "<circle clip-path=\"url(#clip2602)\" style=\"fill:#000000; stroke:none; fill-opacity:1\" cx=\"242.553\" cy=\"320.151\" r=\"4\"/>\n",
       "<circle clip-path=\"url(#clip2602)\" style=\"fill:#3da44d; stroke:none; fill-opacity:1\" cx=\"242.553\" cy=\"320.151\" r=\"3\"/>\n",
       "<circle clip-path=\"url(#clip2602)\" style=\"fill:#000000; stroke:none; fill-opacity:1\" cx=\"269.424\" cy=\"275.542\" r=\"4\"/>\n",
       "<circle clip-path=\"url(#clip2602)\" style=\"fill:#3da44d; stroke:none; fill-opacity:1\" cx=\"269.424\" cy=\"275.542\" r=\"3\"/>\n",
       "<circle clip-path=\"url(#clip2602)\" style=\"fill:#000000; stroke:none; fill-opacity:1\" cx=\"296.294\" cy=\"222.077\" r=\"4\"/>\n",
       "<circle clip-path=\"url(#clip2602)\" style=\"fill:#3da44d; stroke:none; fill-opacity:1\" cx=\"296.294\" cy=\"222.077\" r=\"3\"/>\n",
       "<circle clip-path=\"url(#clip2602)\" style=\"fill:#000000; stroke:none; fill-opacity:1\" cx=\"323.165\" cy=\"165.548\" r=\"4\"/>\n",
       "<circle clip-path=\"url(#clip2602)\" style=\"fill:#3da44d; stroke:none; fill-opacity:1\" cx=\"323.165\" cy=\"165.548\" r=\"3\"/>\n",
       "<circle clip-path=\"url(#clip2602)\" style=\"fill:#000000; stroke:none; fill-opacity:1\" cx=\"350.035\" cy=\"112.082\" r=\"4\"/>\n",
       "<circle clip-path=\"url(#clip2602)\" style=\"fill:#3da44d; stroke:none; fill-opacity:1\" cx=\"350.035\" cy=\"112.082\" r=\"3\"/>\n",
       "<circle clip-path=\"url(#clip2602)\" style=\"fill:#000000; stroke:none; fill-opacity:1\" cx=\"376.905\" cy=\"67.4731\" r=\"4\"/>\n",
       "<circle clip-path=\"url(#clip2602)\" style=\"fill:#3da44d; stroke:none; fill-opacity:1\" cx=\"376.905\" cy=\"67.4731\" r=\"3\"/>\n",
       "<circle clip-path=\"url(#clip2602)\" style=\"fill:#000000; stroke:none; fill-opacity:1\" cx=\"403.776\" cy=\"36.5548\" r=\"4\"/>\n",
       "<circle clip-path=\"url(#clip2602)\" style=\"fill:#3da44d; stroke:none; fill-opacity:1\" cx=\"403.776\" cy=\"36.5548\" r=\"3\"/>\n",
       "<circle clip-path=\"url(#clip2602)\" style=\"fill:#000000; stroke:none; fill-opacity:1\" cx=\"430.646\" cy=\"22.6779\" r=\"4\"/>\n",
       "<circle clip-path=\"url(#clip2602)\" style=\"fill:#3da44d; stroke:none; fill-opacity:1\" cx=\"430.646\" cy=\"22.6779\" r=\"3\"/>\n",
       "<circle clip-path=\"url(#clip2602)\" style=\"fill:#000000; stroke:none; fill-opacity:1\" cx=\"457.517\" cy=\"27.346\" r=\"4\"/>\n",
       "<circle clip-path=\"url(#clip2602)\" style=\"fill:#3da44d; stroke:none; fill-opacity:1\" cx=\"457.517\" cy=\"27.346\" r=\"3\"/>\n",
       "<circle clip-path=\"url(#clip2602)\" style=\"fill:#000000; stroke:none; fill-opacity:1\" cx=\"484.387\" cy=\"50.0533\" r=\"4\"/>\n",
       "<circle clip-path=\"url(#clip2602)\" style=\"fill:#3da44d; stroke:none; fill-opacity:1\" cx=\"484.387\" cy=\"50.0533\" r=\"3\"/>\n",
       "<circle clip-path=\"url(#clip2602)\" style=\"fill:#000000; stroke:none; fill-opacity:1\" cx=\"511.258\" cy=\"88.3391\" r=\"4\"/>\n",
       "<circle clip-path=\"url(#clip2602)\" style=\"fill:#3da44d; stroke:none; fill-opacity:1\" cx=\"511.258\" cy=\"88.3391\" r=\"3\"/>\n",
       "<circle clip-path=\"url(#clip2602)\" style=\"fill:#000000; stroke:none; fill-opacity:1\" cx=\"538.128\" cy=\"138.055\" r=\"4\"/>\n",
       "<circle clip-path=\"url(#clip2602)\" style=\"fill:#3da44d; stroke:none; fill-opacity:1\" cx=\"538.128\" cy=\"138.055\" r=\"3\"/>\n",
       "<circle clip-path=\"url(#clip2602)\" style=\"fill:#000000; stroke:none; fill-opacity:1\" cx=\"564.999\" cy=\"193.812\" r=\"4\"/>\n",
       "<circle clip-path=\"url(#clip2602)\" style=\"fill:#3da44d; stroke:none; fill-opacity:1\" cx=\"564.999\" cy=\"193.812\" r=\"3\"/>\n",
       "<polygon clip-path=\"url(#clip2600)\" points=\"\n",
       "489.799,93.171 562.315,93.171 562.315,32.691 489.799,32.691 \n",
       "  \" fill=\"#ffffff\" fill-opacity=\"1\"/>\n",
       "<polyline clip-path=\"url(#clip2600)\" style=\"stroke:#000000; stroke-width:1; stroke-opacity:1; fill:none\" points=\"\n",
       "  489.799,93.171 562.315,93.171 562.315,32.691 489.799,32.691 489.799,93.171 \n",
       "  \"/>\n",
       "<polyline clip-path=\"url(#clip2600)\" style=\"stroke:#009af9; stroke-width:1; stroke-opacity:1; fill:none\" points=\"\n",
       "  495.799,47.811 531.799,47.811 \n",
       "  \"/>\n",
       "<g clip-path=\"url(#clip2600)\">\n",
       "<text style=\"fill:#000000; fill-opacity:1; font-family:Arial,Helvetica Neue,Helvetica,sans-serif; font-size:12; text-anchor:start;\" transform=\"rotate(0, 537.799, 52.311)\" x=\"537.799\" y=\"52.311\">y1</text>\n",
       "</g>\n",
       "<polyline clip-path=\"url(#clip2600)\" style=\"stroke:#e26f46; stroke-width:1; stroke-opacity:1; fill:none\" points=\"\n",
       "  495.799,62.931 531.799,62.931 \n",
       "  \"/>\n",
       "<g clip-path=\"url(#clip2600)\">\n",
       "<text style=\"fill:#000000; fill-opacity:1; font-family:Arial,Helvetica Neue,Helvetica,sans-serif; font-size:12; text-anchor:start;\" transform=\"rotate(0, 537.799, 67.431)\" x=\"537.799\" y=\"67.431\">y2</text>\n",
       "</g>\n",
       "<polyline clip-path=\"url(#clip2600)\" style=\"stroke:#000000; stroke-width:1; stroke-opacity:1; fill:none\" points=\"\n",
       "  495.799,78.051 531.799,78.051 \n",
       "  \"/>\n",
       "<circle clip-path=\"url(#clip2600)\" style=\"fill:#000000; stroke:none; fill-opacity:1\" cx=\"516.799\" cy=\"78.051\" r=\"6\"/>\n",
       "<circle clip-path=\"url(#clip2600)\" style=\"fill:#3da44d; stroke:none; fill-opacity:1\" cx=\"516.799\" cy=\"78.051\" r=\"5\"/>\n",
       "<g clip-path=\"url(#clip2600)\">\n",
       "<text style=\"fill:#000000; fill-opacity:1; font-family:Arial,Helvetica Neue,Helvetica,sans-serif; font-size:12; text-anchor:start;\" transform=\"rotate(0, 537.799, 82.551)\" x=\"537.799\" y=\"82.551\">y3</text>\n",
       "</g>\n",
       "</svg>\n"
      ]
     },
     "execution_count": 237,
     "metadata": {},
     "output_type": "execute_result"
    }
   ],
   "source": [
    "xx = linspace(-pi, pi, 100)\n",
    "yy = f.(xx)\n",
    "yhat = net.(xx)\n",
    "plt = plot(xx, yy)\n",
    "plot!(plt, xx, first.(yhat))\n",
    "plot!(plt, xs, ys, line=nothing, marker=:dot)\n",
    "plt"
   ]
  },
  {
   "cell_type": "code",
   "execution_count": 238,
   "metadata": {},
   "outputs": [
    {
     "data": {
      "text/plain": [
       "1-element Array{Base.Iterators.Zip2{StepRangeLen{Float64,Base.TwicePrecision{Float64},Base.TwicePrecision{Float64}},Array{Float64,1}},1}:\n",
       " Base.Iterators.Zip2{StepRangeLen{Float64,Base.TwicePrecision{Float64},Base.TwicePrecision{Float64}},Array{Float64,1}}(-3.141592653589793:0.3306939635357677:3.141592653589793, [-1.22465e-16, -0.324699, -0.614213, -0.837166, -0.9694, -0.996584, -0.915773, -0.735724, -0.475947, -0.164595, 0.164595, 0.475947, 0.735724, 0.915773, 0.996584, 0.9694, 0.837166, 0.614213, 0.324699, 1.22465e-16])"
      ]
     },
     "execution_count": 238,
     "metadata": {},
     "output_type": "execute_result"
    }
   ],
   "source": [
    "batches = [zip(xs, ys)]"
   ]
  },
  {
   "cell_type": "code",
   "execution_count": 239,
   "metadata": {},
   "outputs": [
    {
     "data": {
      "text/plain": [
       "(::#206) (generic function with 1 method)"
      ]
     },
     "execution_count": 239,
     "metadata": {},
     "output_type": "execute_result"
    }
   ],
   "source": [
    "loss = (params, batch) -> begin\n",
    "    n = Nets2.with_params(net, params)\n",
    "    sum((xy) -> sum(abs2, n(xy[1]) .- xy[2]), batch)\n",
    "end"
   ]
  },
  {
   "cell_type": "code",
   "execution_count": 243,
   "metadata": {},
   "outputs": [],
   "source": [
    "param_vector = CatView(Nets2.params(net))\n",
    "for i in 1:1000\n",
    "    for batch in batches\n",
    "        ∇ = ReverseDiff.gradient(params -> loss(params, batch), param_vector)\n",
    "        param_vector .-= 0.01 .* ∇\n",
    "    end\n",
    "end"
   ]
  },
  {
   "cell_type": "code",
   "execution_count": 244,
   "metadata": {},
   "outputs": [
    {
     "data": {
      "text/html": [
       "<?xml version=\"1.0\" encoding=\"utf-8\"?>\n",
       "<svg xmlns=\"http://www.w3.org/2000/svg\" xmlns:xlink=\"http://www.w3.org/1999/xlink\" width=\"600\" height=\"400\" viewBox=\"0 0 600 400\">\n",
       "<defs>\n",
       "  <clipPath id=\"clip3000\">\n",
       "    <rect x=\"0\" y=\"0\" width=\"600\" height=\"400\"/>\n",
       "  </clipPath>\n",
       "</defs>\n",
       "<polygon clip-path=\"url(#clip3000)\" points=\"\n",
       "0,400 600,400 600,0 0,0 \n",
       "  \" fill=\"#ffffff\" fill-opacity=\"1\"/>\n",
       "<defs>\n",
       "  <clipPath id=\"clip3001\">\n",
       "    <rect x=\"120\" y=\"0\" width=\"421\" height=\"400\"/>\n",
       "  </clipPath>\n",
       "</defs>\n",
       "<polygon clip-path=\"url(#clip3000)\" points=\"\n",
       "39.1436,375.813 580.315,375.813 580.315,11.811 39.1436,11.811 \n",
       "  \" fill=\"#ffffff\" fill-opacity=\"1\"/>\n",
       "<defs>\n",
       "  <clipPath id=\"clip3002\">\n",
       "    <rect x=\"39\" y=\"11\" width=\"542\" height=\"365\"/>\n",
       "  </clipPath>\n",
       "</defs>\n",
       "<polyline clip-path=\"url(#clip3002)\" style=\"stroke:#000000; stroke-width:0.5; stroke-opacity:0.1; fill:none\" points=\"\n",
       "  51.339,375.813 51.339,11.811 \n",
       "  \"/>\n",
       "<polyline clip-path=\"url(#clip3002)\" style=\"stroke:#000000; stroke-width:0.5; stroke-opacity:0.1; fill:none\" points=\"\n",
       "  137.469,375.813 137.469,11.811 \n",
       "  \"/>\n",
       "<polyline clip-path=\"url(#clip3002)\" style=\"stroke:#000000; stroke-width:0.5; stroke-opacity:0.1; fill:none\" points=\"\n",
       "  223.599,375.813 223.599,11.811 \n",
       "  \"/>\n",
       "<polyline clip-path=\"url(#clip3002)\" style=\"stroke:#000000; stroke-width:0.5; stroke-opacity:0.1; fill:none\" points=\"\n",
       "  309.729,375.813 309.729,11.811 \n",
       "  \"/>\n",
       "<polyline clip-path=\"url(#clip3002)\" style=\"stroke:#000000; stroke-width:0.5; stroke-opacity:0.1; fill:none\" points=\"\n",
       "  395.859,375.813 395.859,11.811 \n",
       "  \"/>\n",
       "<polyline clip-path=\"url(#clip3002)\" style=\"stroke:#000000; stroke-width:0.5; stroke-opacity:0.1; fill:none\" points=\"\n",
       "  481.989,375.813 481.989,11.811 \n",
       "  \"/>\n",
       "<polyline clip-path=\"url(#clip3002)\" style=\"stroke:#000000; stroke-width:0.5; stroke-opacity:0.1; fill:none\" points=\"\n",
       "  568.12,375.813 568.12,11.811 \n",
       "  \"/>\n",
       "<polyline clip-path=\"url(#clip3002)\" style=\"stroke:#000000; stroke-width:0.5; stroke-opacity:0.1; fill:none\" points=\"\n",
       "  39.1436,290.846 580.315,290.846 \n",
       "  \"/>\n",
       "<polyline clip-path=\"url(#clip3002)\" style=\"stroke:#000000; stroke-width:0.5; stroke-opacity:0.1; fill:none\" points=\"\n",
       "  39.1436,205.857 580.315,205.857 \n",
       "  \"/>\n",
       "<polyline clip-path=\"url(#clip3002)\" style=\"stroke:#000000; stroke-width:0.5; stroke-opacity:0.1; fill:none\" points=\"\n",
       "  39.1436,120.868 580.315,120.868 \n",
       "  \"/>\n",
       "<polyline clip-path=\"url(#clip3002)\" style=\"stroke:#000000; stroke-width:0.5; stroke-opacity:0.1; fill:none\" points=\"\n",
       "  39.1436,35.8792 580.315,35.8792 \n",
       "  \"/>\n",
       "<polyline clip-path=\"url(#clip3000)\" style=\"stroke:#000000; stroke-width:1; stroke-opacity:1; fill:none\" points=\"\n",
       "  39.1436,375.813 580.315,375.813 \n",
       "  \"/>\n",
       "<polyline clip-path=\"url(#clip3000)\" style=\"stroke:#000000; stroke-width:1; stroke-opacity:1; fill:none\" points=\"\n",
       "  39.1436,375.813 39.1436,11.811 \n",
       "  \"/>\n",
       "<polyline clip-path=\"url(#clip3000)\" style=\"stroke:#000000; stroke-width:1; stroke-opacity:1; fill:none\" points=\"\n",
       "  51.339,375.813 51.339,370.353 \n",
       "  \"/>\n",
       "<polyline clip-path=\"url(#clip3000)\" style=\"stroke:#000000; stroke-width:1; stroke-opacity:1; fill:none\" points=\"\n",
       "  137.469,375.813 137.469,370.353 \n",
       "  \"/>\n",
       "<polyline clip-path=\"url(#clip3000)\" style=\"stroke:#000000; stroke-width:1; stroke-opacity:1; fill:none\" points=\"\n",
       "  223.599,375.813 223.599,370.353 \n",
       "  \"/>\n",
       "<polyline clip-path=\"url(#clip3000)\" style=\"stroke:#000000; stroke-width:1; stroke-opacity:1; fill:none\" points=\"\n",
       "  309.729,375.813 309.729,370.353 \n",
       "  \"/>\n",
       "<polyline clip-path=\"url(#clip3000)\" style=\"stroke:#000000; stroke-width:1; stroke-opacity:1; fill:none\" points=\"\n",
       "  395.859,375.813 395.859,370.353 \n",
       "  \"/>\n",
       "<polyline clip-path=\"url(#clip3000)\" style=\"stroke:#000000; stroke-width:1; stroke-opacity:1; fill:none\" points=\"\n",
       "  481.989,375.813 481.989,370.353 \n",
       "  \"/>\n",
       "<polyline clip-path=\"url(#clip3000)\" style=\"stroke:#000000; stroke-width:1; stroke-opacity:1; fill:none\" points=\"\n",
       "  568.12,375.813 568.12,370.353 \n",
       "  \"/>\n",
       "<polyline clip-path=\"url(#clip3000)\" style=\"stroke:#000000; stroke-width:1; stroke-opacity:1; fill:none\" points=\"\n",
       "  39.1436,290.846 47.2612,290.846 \n",
       "  \"/>\n",
       "<polyline clip-path=\"url(#clip3000)\" style=\"stroke:#000000; stroke-width:1; stroke-opacity:1; fill:none\" points=\"\n",
       "  39.1436,205.857 47.2612,205.857 \n",
       "  \"/>\n",
       "<polyline clip-path=\"url(#clip3000)\" style=\"stroke:#000000; stroke-width:1; stroke-opacity:1; fill:none\" points=\"\n",
       "  39.1436,120.868 47.2612,120.868 \n",
       "  \"/>\n",
       "<polyline clip-path=\"url(#clip3000)\" style=\"stroke:#000000; stroke-width:1; stroke-opacity:1; fill:none\" points=\"\n",
       "  39.1436,35.8792 47.2612,35.8792 \n",
       "  \"/>\n",
       "<g clip-path=\"url(#clip3000)\">\n",
       "<text style=\"fill:#000000; fill-opacity:1; font-family:Arial,Helvetica Neue,Helvetica,sans-serif; font-size:12; text-anchor:middle;\" transform=\"rotate(0, 51.339, 389.613)\" x=\"51.339\" y=\"389.613\">-3</text>\n",
       "</g>\n",
       "<g clip-path=\"url(#clip3000)\">\n",
       "<text style=\"fill:#000000; fill-opacity:1; font-family:Arial,Helvetica Neue,Helvetica,sans-serif; font-size:12; text-anchor:middle;\" transform=\"rotate(0, 137.469, 389.613)\" x=\"137.469\" y=\"389.613\">-2</text>\n",
       "</g>\n",
       "<g clip-path=\"url(#clip3000)\">\n",
       "<text style=\"fill:#000000; fill-opacity:1; font-family:Arial,Helvetica Neue,Helvetica,sans-serif; font-size:12; text-anchor:middle;\" transform=\"rotate(0, 223.599, 389.613)\" x=\"223.599\" y=\"389.613\">-1</text>\n",
       "</g>\n",
       "<g clip-path=\"url(#clip3000)\">\n",
       "<text style=\"fill:#000000; fill-opacity:1; font-family:Arial,Helvetica Neue,Helvetica,sans-serif; font-size:12; text-anchor:middle;\" transform=\"rotate(0, 309.729, 389.613)\" x=\"309.729\" y=\"389.613\">0</text>\n",
       "</g>\n",
       "<g clip-path=\"url(#clip3000)\">\n",
       "<text style=\"fill:#000000; fill-opacity:1; font-family:Arial,Helvetica Neue,Helvetica,sans-serif; font-size:12; text-anchor:middle;\" transform=\"rotate(0, 395.859, 389.613)\" x=\"395.859\" y=\"389.613\">1</text>\n",
       "</g>\n",
       "<g clip-path=\"url(#clip3000)\">\n",
       "<text style=\"fill:#000000; fill-opacity:1; font-family:Arial,Helvetica Neue,Helvetica,sans-serif; font-size:12; text-anchor:middle;\" transform=\"rotate(0, 481.989, 389.613)\" x=\"481.989\" y=\"389.613\">2</text>\n",
       "</g>\n",
       "<g clip-path=\"url(#clip3000)\">\n",
       "<text style=\"fill:#000000; fill-opacity:1; font-family:Arial,Helvetica Neue,Helvetica,sans-serif; font-size:12; text-anchor:middle;\" transform=\"rotate(0, 568.12, 389.613)\" x=\"568.12\" y=\"389.613\">3</text>\n",
       "</g>\n",
       "<g clip-path=\"url(#clip3000)\">\n",
       "<text style=\"fill:#000000; fill-opacity:1; font-family:Arial,Helvetica Neue,Helvetica,sans-serif; font-size:12; text-anchor:end;\" transform=\"rotate(0, 33.1436, 295.346)\" x=\"33.1436\" y=\"295.346\">-0.5</text>\n",
       "</g>\n",
       "<g clip-path=\"url(#clip3000)\">\n",
       "<text style=\"fill:#000000; fill-opacity:1; font-family:Arial,Helvetica Neue,Helvetica,sans-serif; font-size:12; text-anchor:end;\" transform=\"rotate(0, 33.1436, 210.357)\" x=\"33.1436\" y=\"210.357\">0.0</text>\n",
       "</g>\n",
       "<g clip-path=\"url(#clip3000)\">\n",
       "<text style=\"fill:#000000; fill-opacity:1; font-family:Arial,Helvetica Neue,Helvetica,sans-serif; font-size:12; text-anchor:end;\" transform=\"rotate(0, 33.1436, 125.368)\" x=\"33.1436\" y=\"125.368\">0.5</text>\n",
       "</g>\n",
       "<g clip-path=\"url(#clip3000)\">\n",
       "<text style=\"fill:#000000; fill-opacity:1; font-family:Arial,Helvetica Neue,Helvetica,sans-serif; font-size:12; text-anchor:end;\" transform=\"rotate(0, 33.1436, 40.3792)\" x=\"33.1436\" y=\"40.3792\">1.0</text>\n",
       "</g>\n",
       "<polyline clip-path=\"url(#clip3002)\" style=\"stroke:#009af9; stroke-width:1; stroke-opacity:1; fill:none\" points=\"\n",
       "  39.1436,205.857 44.61,216.638 50.0763,227.375 55.5427,238.026 61.0091,248.547 66.4755,258.896 71.9419,269.031 77.4082,278.913 82.8746,288.5 88.341,297.754 \n",
       "  93.8074,306.638 99.2737,315.117 104.74,323.155 110.206,330.721 115.673,337.785 121.139,344.317 126.606,350.292 132.072,355.685 137.538,360.474 143.005,364.641 \n",
       "  148.471,368.169 153.938,371.043 159.404,373.253 164.87,374.788 170.337,375.642 175.803,375.813 181.269,375.3 186.736,374.105 192.202,372.232 197.669,369.689 \n",
       "  203.135,366.486 208.601,362.637 214.068,358.156 219.534,353.062 225,347.375 230.467,341.119 235.933,334.318 241.4,326.999 246.866,319.193 252.332,310.93 \n",
       "  257.799,302.245 263.265,293.171 268.731,283.745 274.198,274.006 279.664,263.993 285.131,253.745 290.597,243.305 296.063,232.714 301.53,222.014 306.996,211.25 \n",
       "  312.462,200.464 317.929,189.7 323.395,179 328.862,168.409 334.328,157.969 339.794,147.721 345.261,137.708 350.727,127.969 356.193,118.543 361.66,109.469 \n",
       "  367.126,100.784 372.593,92.5211 378.059,84.7148 383.525,77.3964 388.992,70.5952 394.458,64.3386 399.925,58.6519 405.391,53.558 410.857,49.0773 416.324,45.2279 \n",
       "  421.79,42.0253 427.256,39.4823 432.723,37.6094 438.189,36.4138 443.656,35.9006 449.122,36.0718 454.588,36.9266 460.055,38.4616 465.521,40.6706 470.987,43.5448 \n",
       "  476.454,47.0726 481.92,51.2398 487.387,56.0295 492.853,61.4226 498.319,67.3972 503.786,73.9294 509.252,80.9927 514.718,88.5589 520.185,96.5974 525.651,105.076 \n",
       "  531.118,113.96 536.584,123.214 542.05,132.801 547.517,142.683 552.983,152.818 558.449,163.167 563.916,173.689 569.382,184.339 574.849,195.076 580.315,205.857 \n",
       "  \n",
       "  \"/>\n",
       "<polyline clip-path=\"url(#clip3002)\" style=\"stroke:#e26f46; stroke-width:1; stroke-opacity:1; fill:none\" points=\"\n",
       "  39.1436,251.581 44.61,260.682 50.0763,269.039 55.5427,276.711 61.0091,283.753 66.4755,290.215 71.9419,296.143 77.4082,301.579 82.8746,306.561 88.341,311.125 \n",
       "  93.8074,315.302 99.2737,319.123 104.74,322.612 110.206,325.796 115.673,328.696 121.139,331.331 126.606,333.719 132.072,335.876 137.538,337.816 143.005,339.551 \n",
       "  148.471,341.092 153.938,342.445 159.404,343.618 164.87,344.616 170.337,345.44 175.803,346.091 181.269,346.564 186.736,346.854 192.202,346.951 197.669,346.84 \n",
       "  203.135,346.498 208.601,345.898 214.068,345.002 219.534,343.756 225,342.069 230.467,339.664 235.933,336.356 241.4,332.154 246.866,327.086 252.332,321.161 \n",
       "  257.799,314.486 263.265,307.004 268.731,298.647 274.198,289.345 279.664,279.101 285.131,267.873 290.597,255.595 296.063,242.197 301.53,227.602 306.996,211.725 \n",
       "  312.462,194.84 317.929,178.141 323.395,161.71 328.862,145.529 334.328,129.578 339.794,114.062 345.261,99.7516 350.727,86.6952 356.193,74.8437 361.66,64.1488 \n",
       "  367.126,54.5634 372.593,46.0421 378.059,38.541 383.525,32.0181 388.992,26.4331 394.458,21.7559 399.925,17.9885 405.391,15.1125 410.857,13.1443 416.324,12.0543 \n",
       "  421.79,11.811 427.256,12.372 432.723,13.5541 438.189,15.1924 443.656,17.2508 449.122,19.6986 454.588,22.5073 460.055,25.65 465.521,29.1028 470.987,32.8429 \n",
       "  476.454,36.8484 481.92,41.0985 487.387,45.5739 492.853,50.2562 498.319,55.1284 503.786,60.1741 509.252,65.3783 514.718,70.7266 520.185,76.2058 525.651,81.8031 \n",
       "  531.118,87.5066 536.584,93.305 542.05,99.1878 547.517,105.145 552.983,111.166 558.449,117.243 563.916,123.368 569.382,129.53 574.849,135.724 580.315,141.941 \n",
       "  \n",
       "  \"/>\n",
       "<polygon clip-path=\"url(#clip3000)\" points=\"\n",
       "489.799,78.051 562.315,78.051 562.315,32.691 489.799,32.691 \n",
       "  \" fill=\"#ffffff\" fill-opacity=\"1\"/>\n",
       "<polyline clip-path=\"url(#clip3000)\" style=\"stroke:#000000; stroke-width:1; stroke-opacity:1; fill:none\" points=\"\n",
       "  489.799,78.051 562.315,78.051 562.315,32.691 489.799,32.691 489.799,78.051 \n",
       "  \"/>\n",
       "<polyline clip-path=\"url(#clip3000)\" style=\"stroke:#009af9; stroke-width:1; stroke-opacity:1; fill:none\" points=\"\n",
       "  495.799,47.811 531.799,47.811 \n",
       "  \"/>\n",
       "<g clip-path=\"url(#clip3000)\">\n",
       "<text style=\"fill:#000000; fill-opacity:1; font-family:Arial,Helvetica Neue,Helvetica,sans-serif; font-size:12; text-anchor:start;\" transform=\"rotate(0, 537.799, 52.311)\" x=\"537.799\" y=\"52.311\">y1</text>\n",
       "</g>\n",
       "<polyline clip-path=\"url(#clip3000)\" style=\"stroke:#e26f46; stroke-width:1; stroke-opacity:1; fill:none\" points=\"\n",
       "  495.799,62.931 531.799,62.931 \n",
       "  \"/>\n",
       "<g clip-path=\"url(#clip3000)\">\n",
       "<text style=\"fill:#000000; fill-opacity:1; font-family:Arial,Helvetica Neue,Helvetica,sans-serif; font-size:12; text-anchor:start;\" transform=\"rotate(0, 537.799, 67.431)\" x=\"537.799\" y=\"67.431\">y2</text>\n",
       "</g>\n",
       "</svg>\n"
      ]
     },
     "execution_count": 244,
     "metadata": {},
     "output_type": "execute_result"
    }
   ],
   "source": [
    "yhat = net.(xx)\n",
    "plt = plot(xx, yy)\n",
    "plot!(plt, xx, first.(yhat))\n",
    "plt"
   ]
  },
  {
   "cell_type": "code",
   "execution_count": 246,
   "metadata": {},
   "outputs": [
    {
     "data": {
      "text/plain": [
       "141-element CatViews.CatView{6,Float64}:\n",
       "  0.314799  \n",
       "  0.0493019 \n",
       "  0.561192  \n",
       "  0.711589  \n",
       "  0.313391  \n",
       " -1.04097   \n",
       " -1.27727   \n",
       "  0.0658407 \n",
       "  0.0139828 \n",
       " -0.0703404 \n",
       " -0.40991   \n",
       " -0.105425  \n",
       " -0.77582   \n",
       "  ⋮         \n",
       " -0.524718  \n",
       "  0.00384847\n",
       "  0.372765  \n",
       " -0.0119575 \n",
       "  0.0727551 \n",
       "  0.701289  \n",
       "  0.392373  \n",
       "  0.328673  \n",
       "  0.360447  \n",
       "  0.59701   \n",
       "  0.852871  \n",
       " -0.368602  "
      ]
     },
     "execution_count": 246,
     "metadata": {},
     "output_type": "execute_result"
    }
   ],
   "source": [
    "param_vector"
   ]
  },
  {
   "cell_type": "code",
   "execution_count": 245,
   "metadata": {},
   "outputs": [
    {
     "data": {
      "text/plain": [
       "141-element Array{Float64,1}:\n",
       " -1.13765   \n",
       " -1.89267e-5\n",
       " -2.38438   \n",
       " -3.08864   \n",
       " -1.21771   \n",
       " -0.907063  \n",
       "  0.449463  \n",
       " -0.0217478 \n",
       " -0.180902  \n",
       "  0.0549902 \n",
       " -0.651718  \n",
       " -0.132547  \n",
       " -1.26654   \n",
       "  ⋮         \n",
       "  0.424123  \n",
       " -0.0777788 \n",
       "  1.55742   \n",
       " -0.036854  \n",
       "  0.0924701 \n",
       "  4.17959   \n",
       "  2.26533   \n",
       "  1.60159   \n",
       "  1.37286   \n",
       "  3.50048   \n",
       " -4.20599   \n",
       "  3.11689   "
      ]
     },
     "execution_count": 245,
     "metadata": {},
     "output_type": "execute_result"
    }
   ],
   "source": [
    "ReverseDiff.gradient(params -> loss(params, batch), param_vector)"
   ]
  },
  {
   "cell_type": "code",
   "execution_count": 181,
   "metadata": {},
   "outputs": [
    {
     "data": {
      "text/plain": [
       "update! (generic function with 1 method)"
      ]
     },
     "execution_count": 181,
     "metadata": {},
     "output_type": "execute_result"
    }
   ],
   "source": [
    "loss = (param_vector, x, y) -> begin\n",
    "    params, s, e = splitview(param_vector, param_sizes...)\n",
    "    n = Nets2.with_params(net, params...)\n",
    "    ŷ = n(x)\n",
    "    sum(abs2, ŷ .- y)\n",
    "end\n",
    "\n",
    "function update!(loss, net, batches)\n",
    "    param_sizes = size.(Nets2.params(net))\n",
    "    function inner(param_vector, x, y)\n",
    "        params, s, e = splitview(param_vector, param_sizes...)\n",
    "        n = Nets2.with_params(net, params...)\n",
    "        ŷ = n(x)\n",
    "        loss(ŷ, y)\n",
    "    end\n",
    "    param_vector = CatView(Nets2.params(net)...)\n",
    "    ∇ = zeros(size(param_vector))\n",
    "    grad_result = similar(∇)\n",
    "    for batch in batches\n",
    "        ∇ .= 0\n",
    "        for (x, y) in batch\n",
    "            ReverseDiff.gradient!(grad_result, params -> inner(params, x, y), param_vector)\n",
    "            ∇ .+= grad_result ./ length(batch)\n",
    "        end\n",
    "    end\n",
    "    ∇\n",
    "end\n",
    "    "
   ]
  },
  {
   "cell_type": "code",
   "execution_count": 184,
   "metadata": {},
   "outputs": [],
   "source": [
    "param_vector = CatView(Nets2.params(net)...)\n",
    "for i in 1:100\n",
    "    ∇ = update!(loss, net, batches)\n",
    "    param_vector .-= 0.1 .* ∇\n",
    "end"
   ]
  },
  {
   "cell_type": "code",
   "execution_count": 186,
   "metadata": {},
   "outputs": [
    {
     "data": {
      "text/plain": [
       "31-element Array{Float64,1}:\n",
       " -0.00248287 \n",
       " -0.000319703\n",
       "  0.00156972 \n",
       "  0.000656617\n",
       " -0.000565252\n",
       " -0.000204491\n",
       "  0.000226818\n",
       " -0.000722073\n",
       " -0.00507269 \n",
       " -4.57776e-5 \n",
       " -0.00123884 \n",
       "  8.47473e-7 \n",
       " -0.000770405\n",
       "  ⋮          \n",
       "  0.000219476\n",
       "  0.000470093\n",
       "  0.000356932\n",
       "  0.000676513\n",
       "  0.00166739 \n",
       " -0.00419664 \n",
       "  0.000179729\n",
       "  0.000551915\n",
       " -0.00391531 \n",
       "  0.000260779\n",
       "  0.000404994\n",
       "  0.000419991"
      ]
     },
     "execution_count": 186,
     "metadata": {},
     "output_type": "execute_result"
    }
   ],
   "source": [
    "update!(loss, net, batches)"
   ]
  },
  {
   "cell_type": "code",
   "execution_count": 81,
   "metadata": {},
   "outputs": [
    {
     "data": {
      "text/plain": [
       "(::#5) (generic function with 1 method)"
      ]
     },
     "execution_count": 81,
     "metadata": {},
     "output_type": "execute_result"
    }
   ],
   "source": [
    "loss = Nets2.sample_loss(net) do x, y\n",
    "    sum(abs2, x .- y)\n",
    "end"
   ]
  },
  {
   "cell_type": "code",
   "execution_count": 83,
   "metadata": {},
   "outputs": [
    {
     "data": {
      "text/plain": [
       "0.929818787910725"
      ]
     },
     "execution_count": 83,
     "metadata": {},
     "output_type": "execute_result"
    }
   ],
   "source": [
    "loss(Nets2.FlatParams(net), [0.0], [0.0])"
   ]
  },
  {
   "cell_type": "code",
   "execution_count": 84,
   "metadata": {},
   "outputs": [],
   "source": [
    "import Nets"
   ]
  },
  {
   "cell_type": "code",
   "execution_count": null,
   "metadata": {
    "collapsed": true
   },
   "outputs": [],
   "source": [
    "options = Nets.AdamOpts(batch_size = length(first(batches)))\n",
    "flat = Nets2.FlatParams(net)\n",
    "optimizer = Nets.AdamOptimizer(options, \n",
    "    Nets.StochasticOptimization.Adam(Float64)\n",
    "    ∇ = zeros(flat.flat)\n",
    "    "
   ]
  },
  {
   "cell_type": "code",
   "execution_count": 27,
   "metadata": {},
   "outputs": [
    {
     "data": {
      "text/plain": [
       "246.15923873699808"
      ]
     },
     "execution_count": 27,
     "metadata": {},
     "output_type": "execute_result"
    }
   ],
   "source": [
    "batch = first(batches)\n",
    "loss2(Nets2.params(net))"
   ]
  },
  {
   "cell_type": "code",
   "execution_count": 29,
   "metadata": {},
   "outputs": [
    {
     "data": {
      "text/plain": [
       "246.15923873699808"
      ]
     },
     "execution_count": 29,
     "metadata": {},
     "output_type": "execute_result"
    }
   ],
   "source": [
    "sum(loss1(Nets2.params(net), x, y) for (x, y) in batch)"
   ]
  },
  {
   "cell_type": "code",
   "execution_count": 30,
   "metadata": {},
   "outputs": [
    {
     "ename": "LoadError",
     "evalue": "\u001b[91mArgumentError: Module CatViews not found in current path.\nRun `Pkg.add(\"CatViews\")` to install the CatViews package.\u001b[39m",
     "output_type": "error",
     "traceback": [
      "\u001b[91mArgumentError: Module CatViews not found in current path.\nRun `Pkg.add(\"CatViews\")` to install the CatViews package.\u001b[39m",
      "",
      "Stacktrace:",
      " [1] \u001b[1m_require\u001b[22m\u001b[22m\u001b[1m(\u001b[22m\u001b[22m::Symbol\u001b[1m)\u001b[22m\u001b[22m at \u001b[1m./loading.jl:435\u001b[22m\u001b[22m",
      " [2] \u001b[1mrequire\u001b[22m\u001b[22m\u001b[1m(\u001b[22m\u001b[22m::Symbol\u001b[1m)\u001b[22m\u001b[22m at \u001b[1m./loading.jl:405\u001b[22m\u001b[22m",
      " [3] \u001b[1minclude_string\u001b[22m\u001b[22m\u001b[1m(\u001b[22m\u001b[22m::String, ::String\u001b[1m)\u001b[22m\u001b[22m at \u001b[1m./loading.jl:522\u001b[22m\u001b[22m"
     ]
    }
   ],
   "source": [
    "using CatViews"
   ]
  },
  {
   "cell_type": "code",
   "execution_count": null,
   "metadata": {
    "collapsed": true
   },
   "outputs": [],
   "source": []
  }
 ],
 "metadata": {
  "kernelspec": {
   "display_name": "Julia 0.6.2",
   "language": "julia",
   "name": "julia-0.6"
  },
  "language_info": {
   "file_extension": ".jl",
   "mimetype": "application/julia",
   "name": "julia",
   "version": "0.6.2"
  }
 },
 "nbformat": 4,
 "nbformat_minor": 2
}
