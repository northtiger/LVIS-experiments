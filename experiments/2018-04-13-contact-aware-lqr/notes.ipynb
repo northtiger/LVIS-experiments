{
 "cells": [
  {
   "cell_type": "markdown",
   "metadata": {},
   "source": [
    "I'm trying to figure out if I can use the ContactLQR methods for BotAtlas without the robot desperately trying to leap back to the origin (since all I actually want is for it to come to a stop anywhere). \n",
    "\n",
    "To simplify the issue, I'm going to create a very simple 2D robot with a planar (non-revolute) base and a single foot. "
   ]
  },
  {
   "cell_type": "code",
   "execution_count": 1,
   "metadata": {},
   "outputs": [],
   "source": [
    "using Revise"
   ]
  },
  {
   "cell_type": "code",
   "execution_count": 13,
   "metadata": {},
   "outputs": [],
   "source": [
    "using LCPSim\n",
    "using MeshCat\n",
    "using MeshCatMechanisms\n",
    "using RigidBodyDynamics\n",
    "using LearningMPC\n",
    "using Gurobi"
   ]
  },
  {
   "cell_type": "code",
   "execution_count": 3,
   "metadata": {},
   "outputs": [
    {
     "name": "stdout",
     "output_type": "stream",
     "text": [
      "Listening on 127.0.0.1:7001...\n",
      "zmq_url=tcp://127.0.0.1:6001\n",
      "web_url=http://127.0.0.1:7001/static/\n"
     ]
    },
    {
     "data": {
      "text/html": [
       "    <div style=\"height: 500px; width: 500px; overflow-x: auto; overflow-y: hidden; resize: both\">\n",
       "    <iframe src=\"http://127.0.0.1:7001/static/\" style=\"width: 100%; height: 100%; border: none\"></iframe>\n",
       "    </div>\n"
      ],
      "text/plain": [
       "MeshCat.IJuliaCell(MeshCat.ViewerWindow(ZMQ.Context(Ptr{Void} @0x000000000494a3b0, ZMQ.Socket[ZMQ.Socket(Ptr{Void} @0x0000000004b601d0, Base.Filesystem._FDWatcher(Ptr{Void} @0x00000000050a7030, 57, (1, 0), Condition(Any[]), (false, false), 0))]), ZMQ.Socket(Ptr{Void} @0x0000000004b601d0, Base.Filesystem._FDWatcher(Ptr{Void} @0x00000000050a7030, 57, (1, 0), Condition(Any[]), (false, false), 0)), \"http://127.0.0.1:7001/static/\", \"tcp://127.0.0.1:6001\", MeshCat.ZMQServer.ZMQWebSocketBridge(ip\"127.0.0.1\", Set{WebSockets.WebSocket}(), MeshCat.SceneTrees.SceneNode(Nullable{Array{UInt8,1}}(), Nullable{Array{UInt8,1}}(), Dict{String,MeshCat.SceneTrees.SceneNode}()), 7001, HttpServer.Server(HttpServer.HttpHandler(MeshCat.ZMQServer.handle_file_request, Base.TCPServer(RawFD(42) active), Dict{String,Function}(Pair{String,Function}(\"error\", HttpServer.#1),Pair{String,Function}(\"listen\", HttpServer.#3))), WebSockets.WebSocketHandler(MeshCat.ZMQServer.#5)), ZMQ.Context(Ptr{Void} @0x0000000005026180, ZMQ.Socket[ZMQ.Socket(Ptr{Void} @0x00000000049452b0, Base.Filesystem._FDWatcher(Ptr{Void} @0x0000000004b3cd00, 49, (1, 0), Condition(Any[]), (false, false), 0)), ZMQ.Socket(Ptr{Void} @0x0000000004e4d270, Base.Filesystem._FDWatcher(Ptr{Void} @0x000000000494ff40, 50, (1, 0), Condition(Any[Task (runnable) @0x00007fa366e12230]), (true, false), 0))]), ZMQ.Socket(Ptr{Void} @0x0000000004e4d270, Base.Filesystem._FDWatcher(Ptr{Void} @0x000000000494ff40, 50, (1, 0), Condition(Any[Task (runnable) @0x00007fa366e12230]), (true, false), 0)), \"tcp://127.0.0.1:6001\")), false)"
      ]
     },
     "execution_count": 3,
     "metadata": {},
     "output_type": "execute_result"
    }
   ],
   "source": [
    "vis = Visualizer()\n",
    "IJuliaCell(vis)"
   ]
  },
  {
   "cell_type": "code",
   "execution_count": 11,
   "metadata": {},
   "outputs": [
    {
     "data": {
      "text/plain": [
       "get_xstar (generic function with 1 method)"
      ]
     },
     "execution_count": 11,
     "metadata": {},
     "output_type": "execute_result"
    }
   ],
   "source": [
    "function get_xstar()\n",
    "    xstar = MechanismState(mechanism)\n",
    "    set_configuration!(xstar, [0, 1, 0, 1])\n",
    "    xstar\n",
    "end\n",
    "    "
   ]
  },
  {
   "cell_type": "code",
   "execution_count": 92,
   "metadata": {},
   "outputs": [
    {
     "data": {
      "text/plain": [
       "(::LQRSolution) (generic function with 2 methods)"
      ]
     },
     "execution_count": 92,
     "metadata": {},
     "output_type": "execute_result"
    }
   ],
   "source": [
    "urdf = \"hopper2d.urdf\"\n",
    "mechanism = parse_urdf(Float64, urdf)\n",
    "mvis = MechanismVisualizer(mechanism, URDFVisuals(urdf), vis)\n",
    "env = LCPSim.parse_contacts(mechanism, urdf)\n",
    "contacts = [Point3D(default_frame(findbody(mechanism, \"foot\")), 0., 0., 0.)]\n",
    "\n",
    "Q = diagm([0., 10, 1, 10, 1, 1, 1, 1])\n",
    "R = diagm([0.01, 0.01, 0.01, 0.01])\n",
    "Δt = 0.01\n",
    "xstar = get_xstar()\n",
    "lqrsol = LQRSolution(xstar, Q, R, Δt, contacts)"
   ]
  },
  {
   "cell_type": "code",
   "execution_count": 93,
   "metadata": {},
   "outputs": [],
   "source": [
    "x0 = get_xstar()\n",
    "set_configuration!(x0, findjoint(mechanism, \"base_x\"), [0.5])\n",
    "# LearningMPC.randomize!(x0, xstar, 0.0, 2.0)\n",
    "results = LCPSim.simulate(x0, lqrsol, env, Δt, 200, GurobiSolver(Gurobi.Env(); OutputFlag=0));"
   ]
  },
  {
   "cell_type": "code",
   "execution_count": 94,
   "metadata": {},
   "outputs": [],
   "source": [
    "playback(mvis, results, Δt)"
   ]
  },
  {
   "cell_type": "code",
   "execution_count": 95,
   "metadata": {},
   "outputs": [
    {
     "data": {
      "text/plain": [
       "4×8 Array{Float64,2}:\n",
       "  0.0           0.0           0.0          …  0.0          0.0        \n",
       "  0.0           0.0           0.0             0.0          0.0        \n",
       " -4.64288       9.51503e-15   4.64288         6.91054      9.85811e-16\n",
       "  1.02694e-12  20.5385       -1.02694e-12     3.33632e-14  7.91969    "
      ]
     },
     "execution_count": 95,
     "metadata": {},
     "output_type": "execute_result"
    }
   ],
   "source": [
    "lqrsol.K"
   ]
  },
  {
   "cell_type": "code",
   "execution_count": 96,
   "metadata": {},
   "outputs": [
    {
     "data": {
      "text/plain": [
       "8×8 Array{Float64,2}:\n",
       "  37.2104        -7.90167e-14  -37.2104       …  -2.50624      -6.71604e-15\n",
       "  -2.85518e-13  192.801          2.85518e-13      9.19375e-13  11.2083     \n",
       " -37.2104         7.90167e-14   37.2104           2.50624       6.71604e-15\n",
       "  -2.85518e-13  192.801          2.85518e-13      9.19375e-13  11.2083     \n",
       "   2.50624       -5.38735e-15   -2.50624         -3.9678       -5.82389e-16\n",
       "   6.0759e-13    11.2083        -6.0759e-13   …   2.48948e-14   4.51589    \n",
       "  -2.50624        5.38735e-15    2.50624          3.9678        5.82389e-16\n",
       "   6.0759e-13    11.2083        -6.0759e-13       2.48948e-14   4.51589    "
      ]
     },
     "execution_count": 96,
     "metadata": {},
     "output_type": "execute_result"
    }
   ],
   "source": [
    "lqrsol.S"
   ]
  },
  {
   "cell_type": "code",
   "execution_count": 97,
   "metadata": {},
   "outputs": [
    {
     "data": {
      "text/plain": [
       "8-element Array{Float64,1}:\n",
       " 0.0        \n",
       " 0.0        \n",
       " 0.0        \n",
       " 0.0        \n",
       " 0.0        \n",
       " 1.77636e-15\n",
       " 0.0        \n",
       " 1.77636e-15"
      ]
     },
     "execution_count": 97,
     "metadata": {},
     "output_type": "execute_result"
    }
   ],
   "source": [
    "x0 = get_xstar()\n",
    "u = LearningMPC.nominal_input(x0, contacts)\n",
    "Jc = LCPSim.ContactLQR.contact_jacobian(x0, contacts)\n",
    "ẋ = LCPSim.ContactLQR.dynamics_with_contact_constraint(x0, u, Jc)"
   ]
  },
  {
   "cell_type": "code",
   "execution_count": 98,
   "metadata": {},
   "outputs": [
    {
     "data": {
      "text/plain": [
       "([0.0 0.0 … 0.0 0.0; 0.0 0.0 … 0.0 0.0; … ; 0.0 0.0 … 0.0 0.0; 0.0 0.0 … 0.0 0.0], [0.0 0.0 0.0 0.0; 0.0 0.0 0.0 0.0; … ; 0.0 0.0 1.0 0.0; 0.0 0.0 0.0 1.0], [0.0, 0.0, 0.0, 0.0, 0.0, 1.77636e-15, 0.0, 1.77636e-15])"
      ]
     },
     "execution_count": 98,
     "metadata": {},
     "output_type": "execute_result"
    }
   ],
   "source": [
    "A, B, c = LCPSim.ContactLQR.contact_linearize(x0, u, Jc)"
   ]
  },
  {
   "cell_type": "code",
   "execution_count": 99,
   "metadata": {},
   "outputs": [
    {
     "data": {
      "text/plain": [
       "8×8 Array{Float64,2}:\n",
       " 0.0  0.0  0.0  0.0  1.0  0.0  0.0  0.0\n",
       " 0.0  0.0  0.0  0.0  0.0  1.0  0.0  0.0\n",
       " 0.0  0.0  0.0  0.0  0.0  0.0  1.0  0.0\n",
       " 0.0  0.0  0.0  0.0  0.0  0.0  0.0  1.0\n",
       " 0.0  0.0  0.0  0.0  0.0  0.0  0.0  0.0\n",
       " 0.0  0.0  0.0  0.0  0.0  0.0  0.0  0.0\n",
       " 0.0  0.0  0.0  0.0  0.0  0.0  0.0  0.0\n",
       " 0.0  0.0  0.0  0.0  0.0  0.0  0.0  0.0"
      ]
     },
     "execution_count": 99,
     "metadata": {},
     "output_type": "execute_result"
    }
   ],
   "source": [
    "A"
   ]
  },
  {
   "cell_type": "code",
   "execution_count": 100,
   "metadata": {},
   "outputs": [
    {
     "data": {
      "text/plain": [
       "8×4 Array{Float64,2}:\n",
       " 0.0  0.0   0.0  0.0\n",
       " 0.0  0.0   0.0  0.0\n",
       " 0.0  0.0   0.0  0.0\n",
       " 0.0  0.0   0.0  0.0\n",
       " 0.0  0.0  -1.0  0.0\n",
       " 0.0  0.0   0.0  1.0\n",
       " 0.0  0.0   1.0  0.0\n",
       " 0.0  0.0   0.0  1.0"
      ]
     },
     "execution_count": 100,
     "metadata": {},
     "output_type": "execute_result"
    }
   ],
   "source": [
    "B"
   ]
  },
  {
   "cell_type": "code",
   "execution_count": 101,
   "metadata": {},
   "outputs": [
    {
     "data": {
      "text/plain": [
       "8-element Array{Float64,1}:\n",
       " 0.0        \n",
       " 0.0        \n",
       " 0.0        \n",
       " 0.0        \n",
       " 0.0        \n",
       " 1.77636e-15\n",
       " 0.0        \n",
       " 1.77636e-15"
      ]
     },
     "execution_count": 101,
     "metadata": {},
     "output_type": "execute_result"
    }
   ],
   "source": [
    "c"
   ]
  },
  {
   "cell_type": "code",
   "execution_count": 102,
   "metadata": {},
   "outputs": [
    {
     "data": {
      "text/plain": [
       "0.0"
      ]
     },
     "execution_count": 102,
     "metadata": {},
     "output_type": "execute_result"
    }
   ],
   "source": [
    "x1 = [1, 1, 0, 1, 0, 0, 0, 0]\n",
    "(x1 - lqrsol.x0)' * lqrsol.Q * (x1 - lqrsol.x0)"
   ]
  },
  {
   "cell_type": "code",
   "execution_count": 103,
   "metadata": {},
   "outputs": [
    {
     "data": {
      "text/plain": [
       "([0.0 0.0 … 0.0 0.0; 0.0 0.0 … 0.0 0.0; -9.25569e-8 -0.00224947 … 14.8068 672.531; 1.63452e-5 20.4393 … -0.00219727 100.0], [0.0 -0.0 … -0.0 0.0; 22.8248 6.67427e5 … 6.30216e6 -1.6821e11; … ; -1.0 9.85366e-6 … 0.147722 15.951; -5.21741e5 -1.26805e10 … -1.44225e11 3.79105e15])"
      ]
     },
     "execution_count": 103,
     "metadata": {},
     "output_type": "execute_result"
    }
   ],
   "source": [
    "K, S = LCPSim.ContactLQR.lqr(A, B, Q, R)"
   ]
  },
  {
   "cell_type": "code",
   "execution_count": 104,
   "metadata": {},
   "outputs": [
    {
     "data": {
      "text/plain": [
       "4×8 Array{Float64,2}:\n",
       "  0.0          0.0          0.0         …     0.0     0.0           0.0  \n",
       "  0.0          0.0          0.0               0.0     0.0           0.0  \n",
       " -9.25569e-8  -0.00224947  10.0            -672.531  14.8068      672.531\n",
       "  1.63452e-5  20.4393      -1.71047e-5      -86.0    -0.00219727  100.0  "
      ]
     },
     "execution_count": 104,
     "metadata": {},
     "output_type": "execute_result"
    }
   ],
   "source": [
    "K"
   ]
  },
  {
   "cell_type": "code",
   "execution_count": 105,
   "metadata": {},
   "outputs": [
    {
     "data": {
      "text/plain": [
       "8×8 Array{Float64,2}:\n",
       "   0.0         -0.0           -0.0         …  -0.0            0.0       \n",
       "  22.8248       6.67427e5     22.8246          6.30216e6     -1.6821e11 \n",
       "  -1.54307e-8  -0.000375024    1.48324         1.09573      112.121     \n",
       " -22.8248      -6.67423e5    -22.8246         -6.30216e6      1.6821e11 \n",
       "  -1.0          3.23484e-5     1.33096e-9     -0.000345763    9.22574   \n",
       "   5.21741e5    1.26805e10     5.21735e5   …   1.44225e11    -3.79105e15\n",
       "  -1.0          9.85366e-6     0.1             0.147722      15.951     \n",
       "  -5.21741e5   -1.26805e10    -5.21735e5      -1.44225e11     3.79105e15"
      ]
     },
     "execution_count": 105,
     "metadata": {},
     "output_type": "execute_result"
    }
   ],
   "source": [
    "S"
   ]
  },
  {
   "cell_type": "code",
   "execution_count": 112,
   "metadata": {},
   "outputs": [],
   "source": [
    "x0 = get_xstar()\n",
    "# set_configuration!(x0, findjoint(mechanism, \"base_x\"), [0.5])\n",
    "LearningMPC.randomize!(x0, xstar, 0.0, 1.0)\n",
    "results = LCPSim.simulate(x0, x -> -K * (Vector(x) - lqrsol.x0) + lqrsol.u0, env, Δt, 400, GurobiSolver(Gurobi.Env(); OutputFlag=0));\n",
    "playback(mvis, results, Δt)"
   ]
  },
  {
   "cell_type": "code",
   "execution_count": null,
   "metadata": {},
   "outputs": [],
   "source": []
  },
  {
   "cell_type": "code",
   "execution_count": 113,
   "metadata": {},
   "outputs": [
    {
     "name": "stderr",
     "output_type": "stream",
     "text": [
      "WARNING: using Models.mechanism in module Main conflicts with an existing identifier.\n",
      "WARNING: using Models.urdf in module Main conflicts with an existing identifier.\n"
     ]
    }
   ],
   "source": [
    "using LearningMPC.Models"
   ]
  },
  {
   "cell_type": "code",
   "execution_count": 208,
   "metadata": {},
   "outputs": [
    {
     "name": "stderr",
     "output_type": "stream",
     "text": [
      "WARNING: Method definition default_costs(LearningMPC.Models.BoxAtlas{T} where T) in module Models at /home/rdeits/locomotion/explorations/learning-mpc-2/modules/LearningMPC/src/Models/boxatlas.jl:48 overwritten at /home/rdeits/locomotion/explorations/learning-mpc-2/modules/LearningMPC/src/Models/boxatlas.jl:48.\n",
      "WARNING: Method definition default_costs(LearningMPC.Models.BoxAtlas{T} where T, Any) in module Models at /home/rdeits/locomotion/explorations/learning-mpc-2/modules/LearningMPC/src/Models/boxatlas.jl:48 overwritten at /home/rdeits/locomotion/explorations/learning-mpc-2/modules/LearningMPC/src/Models/boxatlas.jl:48.\n"
     ]
    },
    {
     "data": {
      "text/plain": [
       "2-element Array{RigidBodyDynamics.Spatial.Point3D{StaticArrays.SArray{Tuple{3},Float64,1,3}},1}:\n",
       " Point3D in \"after_core_to_lf_extension\": [0.0, 0.0, 0.0]\n",
       " Point3D in \"after_core_to_rf_extension\": [0.0, 0.0, 0.0]"
      ]
     },
     "execution_count": 208,
     "metadata": {},
     "output_type": "execute_result"
    }
   ],
   "source": [
    "robot = BoxAtlas()\n",
    "xstar = nominal_state(robot)\n",
    "delete!(vis)\n",
    "mvis = MechanismVisualizer(robot, vis)\n",
    "params = MPCParams(robot)\n",
    "lqrsol = LQRSolution(robot)\n",
    "contacts = [Point3D(default_frame(robot.feet[:left]), 0., 0., 0.),\n",
    "         Point3D(default_frame(robot.feet[:right]), 0., 0., 0.)]"
   ]
  },
  {
   "cell_type": "code",
   "execution_count": 209,
   "metadata": {},
   "outputs": [
    {
     "data": {
      "text/plain": [
       "([0.0 0.0 … 0.0 0.0; 0.0 0.0 … 0.0 0.0; … ; 0.000458357 5.60744e10 … -1.67755e14 7.91881e13; -0.000458525 -5.60744e10 … 1.67755e14 -7.91881e13], [-5.73845e-22 -8.94551e-8 … 0.000157582 -0.000257261; 3.22729e-15 355.12 … -42437.0 -23625.8; … ; -2.11147e-10 -1.03307e5 … -8.15312e7 4.95228e7; -2.44722e-10 -3.5097e5 … 1.70786e8 -1.23411e8])"
      ]
     },
     "execution_count": 209,
     "metadata": {},
     "output_type": "execute_result"
    }
   ],
   "source": [
    "x0 = nominal_state(robot)\n",
    "u = LearningMPC.nominal_input(x0, contacts)\n",
    "Jc = LCPSim.ContactLQR.contact_jacobian(x0, contacts)\n",
    "A, B, c = LCPSim.ContactLQR.contact_linearize(x0, u, Jc)\n",
    "K, S = LCPSim.ContactLQR.lqr(A, B, lqrsol.Q, lqrsol.R)"
   ]
  },
  {
   "cell_type": "code",
   "execution_count": 210,
   "metadata": {},
   "outputs": [
    {
     "data": {
      "text/plain": [
       "11×22 Array{Float64,2}:\n",
       "  0.0           0.0         …      0.0     0.0          0.0       \n",
       "  0.0           0.0                0.0     0.0          0.0       \n",
       "  0.0           0.0                0.0     0.0          0.0       \n",
       " -0.00257033   -3.14395e11     -2459.94    9.40561e14  -4.43988e14\n",
       "  0.00257041    3.14395e11      2459.93   -9.40561e14   4.43988e14\n",
       " -0.00293      -3.58364e11  …  -2803.5     1.0721e15   -5.06081e14\n",
       "  0.00293       3.58364e11      2803.5    -1.0721e15    5.06081e14\n",
       "  0.000749724   9.17342e10       717.839  -2.74437e14   1.29547e14\n",
       " -0.000750322  -9.17342e10      -715.274   2.74437e14  -1.29547e14\n",
       "  0.000458357   5.60744e10       440.181  -1.67755e14   7.91881e13\n",
       " -0.000458525  -5.60744e10  …   -440.182   1.67755e14  -7.91881e13"
      ]
     },
     "execution_count": 210,
     "metadata": {},
     "output_type": "execute_result"
    }
   ],
   "source": [
    "K"
   ]
  },
  {
   "cell_type": "code",
   "execution_count": 211,
   "metadata": {},
   "outputs": [],
   "source": [
    "x0 = nominal_state(robot)\n",
    "# set_configuration!(x0, findjoint(mechanism, \"base_x\"), [0.5])\n",
    "LearningMPC.randomize!(x0, xstar, 0.0, 0.5)\n",
    "results = LCPSim.simulate(x0, x -> -K * (Vector(x) - lqrsol.x0) + lqrsol.u0, environment(robot), params.Δt, 400, GurobiSolver(Gurobi.Env(); OutputFlag=0));"
   ]
  },
  {
   "cell_type": "code",
   "execution_count": 212,
   "metadata": {},
   "outputs": [],
   "source": [
    "playback(mvis, results, params.Δt)"
   ]
  },
  {
   "cell_type": "code",
   "execution_count": 213,
   "metadata": {},
   "outputs": [
    {
     "data": {
      "text/plain": [
       "11-element SubArray{Float64,1,Array{Float64,2},Tuple{Base.Slice{Base.OneTo{Int64}},Int64},true}:\n",
       " 0.0\n",
       " 0.0\n",
       " 0.0\n",
       " 0.0\n",
       " 0.0\n",
       " 0.0\n",
       " 0.0\n",
       " 0.0\n",
       " 0.0\n",
       " 0.0\n",
       " 0.0"
      ]
     },
     "execution_count": 213,
     "metadata": {},
     "output_type": "execute_result"
    }
   ],
   "source": [
    "lqrsol.S[1,:] .= 0\n",
    "lqrsol.S[:,1] .= 0\n",
    "lqrsol.K[:,1] .= 0"
   ]
  },
  {
   "cell_type": "code",
   "execution_count": 214,
   "metadata": {},
   "outputs": [],
   "source": [
    "x0 = nominal_state(robot)\n",
    "LearningMPC.randomize!(x0, xstar, 0.0, 0.5)\n",
    "results = LCPSim.simulate(x0, lqrsol, environment(robot), params.Δt, 400, GurobiSolver(Gurobi.Env(); OutputFlag=0));"
   ]
  },
  {
   "cell_type": "code",
   "execution_count": 215,
   "metadata": {},
   "outputs": [],
   "source": [
    "playback(mvis, results, params.Δt)"
   ]
  },
  {
   "cell_type": "code",
   "execution_count": 216,
   "metadata": {},
   "outputs": [
    {
     "data": {
      "text/plain": [
       "(::MPCController) (generic function with 1 method)"
      ]
     },
     "execution_count": 216,
     "metadata": {},
     "output_type": "execute_result"
    }
   ],
   "source": [
    "mpc_controller = MPCController(robot, (p = MPCParams(robot); p.horizon=1; p), lqrsol, [lqrsol])"
   ]
  },
  {
   "cell_type": "code",
   "execution_count": 249,
   "metadata": {},
   "outputs": [],
   "source": [
    "x0 = nominal_state(robot)\n",
    "# LearningMPC.randomize!(x0, xstar, 0.0, 2.0)\n",
    "set_velocity!(x0, findjoint(robot.mechanism, \"floating_base\"), [-2, 0, 0])\n",
    "results = LCPSim.simulate(x0, mpc_controller, environment(robot), params.Δt, 200, GurobiSolver(Gurobi.Env(); OutputFlag=0));"
   ]
  },
  {
   "cell_type": "code",
   "execution_count": 250,
   "metadata": {},
   "outputs": [],
   "source": [
    "playback(mvis, results, params.Δt)"
   ]
  },
  {
   "cell_type": "code",
   "execution_count": null,
   "metadata": {},
   "outputs": [],
   "source": []
  }
 ],
 "metadata": {
  "kernelspec": {
   "display_name": "Julia 0.6.2",
   "language": "julia",
   "name": "julia-0.6"
  },
  "language_info": {
   "file_extension": ".jl",
   "mimetype": "application/julia",
   "name": "julia",
   "version": "0.6.2"
  }
 },
 "nbformat": 4,
 "nbformat_minor": 2
}
