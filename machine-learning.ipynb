{
 "cells": [
  {
   "cell_type": "code",
   "execution_count": 26,
   "metadata": {
    "collapsed": false
   },
   "outputs": [
    {
     "name": "stderr",
     "output_type": "stream",
     "text": [
      "\u001b[1m\u001b[34mINFO: Precompiling module AxisArrayVariables.\n",
      "\u001b[0m"
     ]
    }
   ],
   "source": [
    "using JuMP\n",
    "using Gurobi\n",
    "using Plots\n",
    "gr()\n",
    "using AxisArrayVariables"
   ]
  },
  {
   "cell_type": "code",
   "execution_count": 162,
   "metadata": {
    "collapsed": false
   },
   "outputs": [
    {
     "name": "stderr",
     "output_type": "stream",
     "text": [
      "WARNING: replacing module PiecewiseFunctions\n",
      "WARNING: replacing module MPC\n",
      "WARNING: replacing module Learning\n"
     ]
    },
    {
     "ename": "LoadError",
     "evalue": "LoadError: UndefVarError: AbstractDataProvider not defined\nwhile loading /Users/rdeits/locomotion/explorations/learning-mpc/learning.jl, in expression starting on line 12",
     "output_type": "error",
     "traceback": [
      "LoadError: UndefVarError: AbstractDataProvider not defined\nwhile loading /Users/rdeits/locomotion/explorations/learning-mpc/learning.jl, in expression starting on line 12",
      "",
      " in include_from_node1(::String) at /Applications/Julia-0.5.app/Contents/Resources/julia/lib/julia/sys.dylib:?",
      " in include_from_node1(::String) at /Applications/Julia-0.5.app/Contents/Resources/julia/lib/julia/sys.dylib:?"
     ]
    }
   ],
   "source": [
    "include(\"piecewise.jl\")\n",
    "include(\"mpc.jl\")\n",
    "include(\"learning.jl\")\n",
    "\n",
    "function JuMP.solve(mm::MPC.MPCModel, x0::Vector)\n",
    "    JuMP.fix.(mm.x[:, 1], x0)\n",
    "    status = solve(mm.model; suppress_warnings=true)\n",
    "    utraj = pf.PiecewiseFunction(mm.times, [t -> getvalue.(mm.u[:, j]) for j in 1:size(mm.u, 2)])\n",
    "    status, utraj\n",
    "end\n",
    "\n",
    "function MPC.output(controller::PiecewiseFunctions.PiecewiseFunction, t, state) \n",
    "    controller(t)\n",
    "end"
   ]
  },
  {
   "cell_type": "code",
   "execution_count": 155,
   "metadata": {
    "collapsed": false
   },
   "outputs": [
    {
     "data": {
      "text/plain": [
       "0.0:0.1:0.4"
      ]
     },
     "execution_count": 155,
     "metadata": {},
     "output_type": "execute_result"
    }
   ],
   "source": [
    "mass = 1.\n",
    "l = 1.\n",
    "g = 10.\n",
    "N = 4\n",
    "A = [0. 1.;\n",
    "     g/l 0.]\n",
    "B = [0 1/(mass*l^2.)]'\n",
    "Δt = .1\n",
    "sys = MPC.discretize(MPC.CTLinearSytstem(A, B), Δt)\n",
    "\n",
    "x_max = [pi/6, pi/20/(N*Δt)]\n",
    "x_min = -x_max\n",
    "u_max = [mass*g*l*pi/8.]\n",
    "u_min = -u_max\n",
    "times = 0:Δt:N*Δt"
   ]
  },
  {
   "cell_type": "code",
   "execution_count": 157,
   "metadata": {
    "collapsed": false
   },
   "outputs": [],
   "source": [
    "x0 = x_min .+ rand(2) .* (x_max .- x_min)\n",
    "mm = MPC.MPCModel(sys, N)\n",
    "setsolver(mm.model, GurobiSolver(OutputFlag=0))\n",
    "setlowerbound.(mm.u, u_min)\n",
    "setupperbound.(mm.u, u_max)\n",
    "setlowerbound.(mm.x[:, 2:end], x_min)\n",
    "setupperbound.(mm.x[:, 2:end], x_max)\n",
    "status, utraj = solve(mm, x0)\n",
    "states = MPC.simulate(sys, utraj, x0, times)\n",
    "for i in 1:length(states)\n",
    "    @assert states[i] ≈ getvalue.(mm.x[:, i])\n",
    "end"
   ]
  },
  {
   "cell_type": "code",
   "execution_count": 160,
   "metadata": {
    "collapsed": false
   },
   "outputs": [],
   "source": [
    "mm = MPC.MPCModel(sys, N)\n",
    "setsolver(mm.model, GurobiSolver(OutputFlag=0))\n",
    "setlowerbound.(mm.u, u_min)\n",
    "setupperbound.(mm.u, u_max)\n",
    "setlowerbound.(mm.x[:, 2:end], x_min)\n",
    "setupperbound.(mm.x[:, 2:end], x_max)\n",
    "\n",
    "samples = Learning.Sample{2, 1}[]\n",
    "num_samples = 1000\n",
    "for i in 1:num_samples\n",
    "    while true\n",
    "        x0 = x_min .+ rand(2) .* (x_max .- x_min)\n",
    "        status, utraj = solve(mm, x0)\n",
    "        if status == :Optimal\n",
    "            push!(samples, Learning.Sample{2, 1}(x0, getvalue.(mm.u[:, 1])))\n",
    "            break\n",
    "        end\n",
    "    end\n",
    "end\n",
    "\n",
    "        "
   ]
  },
  {
   "cell_type": "code",
   "execution_count": null,
   "metadata": {
    "collapsed": true
   },
   "outputs": [],
   "source": [
    "using MXNet\n",
    "\n"
   ]
  }
 ],
 "metadata": {
  "kernelspec": {
   "display_name": "Julia 0.5.1",
   "language": "julia",
   "name": "julia-0.5"
  },
  "language_info": {
   "file_extension": ".jl",
   "mimetype": "application/julia",
   "name": "julia",
   "version": "0.5.1"
  }
 },
 "nbformat": 4,
 "nbformat_minor": 1
}
