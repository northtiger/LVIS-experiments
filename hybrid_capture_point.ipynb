{
 "cells": [
  {
   "cell_type": "code",
   "execution_count": 2,
   "metadata": {},
   "outputs": [
    {
     "name": "stderr",
     "output_type": "stream",
     "text": [
      "\u001b[1m\u001b[33mWARNING: \u001b[39m\u001b[22m\u001b[33mGurobi reported infeasible or unbounded. Set InfUnbdInfo=1 for more specific status.\u001b[39m\n"
     ]
    },
    {
     "name": "stdout",
     "output_type": "stream",
     "text": [
      "\u001b[1m\u001b[37mTest Summary:    | \u001b[39m\u001b[22m\u001b[1m\u001b[32mPass  \u001b[39m\u001b[22m\u001b[1m\u001b[36mTotal\u001b[39m\u001b[22m\n",
      "test sensitivity | \u001b[32m 267  \u001b[39m\u001b[36m  267\u001b[39m\n"
     ]
    },
    {
     "data": {
      "text/plain": [
       "PyMPC"
      ]
     },
     "execution_count": 2,
     "metadata": {},
     "output_type": "execute_result"
    }
   ],
   "source": [
    "include(\"pympc.jl\")"
   ]
  },
  {
   "cell_type": "code",
   "execution_count": 34,
   "metadata": {},
   "outputs": [
    {
     "data": {
      "text/plain": [
       "true"
      ]
     },
     "execution_count": 34,
     "metadata": {},
     "output_type": "execute_result"
    }
   ],
   "source": [
    "using JuMP, Gurobi\n",
    "using DrakeVisualizer, GeometryTypes, CoordinateTransformations\n",
    "DrakeVisualizer.any_open_windows() || DrakeVisualizer.new_window()"
   ]
  },
  {
   "cell_type": "code",
   "execution_count": 3,
   "metadata": {},
   "outputs": [],
   "source": [
    "struct StateIndex <: Integer\n",
    "    name::Symbol\n",
    "end\n",
    "\n",
    "const states = StateIndex.([\n",
    ":q_com_x\n",
    ":q_com_y\n",
    ":q_r_x\n",
    ":q_r_y\n",
    ":q_l_x\n",
    ":q_l_y\n",
    ":q_cop_x\n",
    ":q_cop_y\n",
    ":qd_com_x\n",
    ":qd_com_y\n",
    ":qd_r_x\n",
    ":qd_r_y\n",
    ":qd_l_x\n",
    ":qd_l_y\n",
    "])\n",
    "\n",
    "for s in states\n",
    "    @eval $(s.name) = $s\n",
    "end\n",
    "\n",
    "Base.to_index(s::StateIndex) = findfirst(states, s)"
   ]
  },
  {
   "cell_type": "code",
   "execution_count": 40,
   "metadata": {},
   "outputs": [
    {
     "data": {
      "text/plain": [
       "mat (generic function with 2 methods)"
      ]
     },
     "execution_count": 40,
     "metadata": {},
     "output_type": "execute_result"
    }
   ],
   "source": [
    "mat(x::AbstractArray) = reshape(x, length(x), 1)"
   ]
  },
  {
   "cell_type": "code",
   "execution_count": 5,
   "metadata": {},
   "outputs": [],
   "source": [
    "struct InputIndex <: Integer\n",
    "    name::Symbol\n",
    "end\n",
    "\n",
    "const inputs = InputIndex.([\n",
    "    :qdd_r_x,\n",
    "    :qdd_r_y,\n",
    "    :qdd_l_x,\n",
    "    :qdd_l_y,\n",
    "    :qd_cop_x,\n",
    "    :qd_cop_y\n",
    "])\n",
    "\n",
    "for s in inputs\n",
    "    @eval $(s.name) = $s\n",
    "end\n",
    "\n",
    "Base.to_index(s::InputIndex) = findfirst(inputs, s)"
   ]
  },
  {
   "cell_type": "code",
   "execution_count": 6,
   "metadata": {},
   "outputs": [
    {
     "data": {
      "text/plain": [
       "1.0"
      ]
     },
     "execution_count": 6,
     "metadata": {},
     "output_type": "execute_result"
    }
   ],
   "source": [
    "# ICP dynamics\n",
    "# rdd = omega^2 (r - r_cop)\n",
    "\n",
    "g = 9.8\n",
    "h = 1.0\n",
    "ω = √(g / h)\n",
    "Δt = 0.1\n",
    "\n",
    "A = zeros(length(states), length(states))\n",
    "\n",
    "for (q, qd) in zip([q_com_x, q_com_y, q_r_x, q_r_y, q_l_x, q_l_y], [qd_com_x, qd_com_y, qd_r_x, qd_r_y, qd_l_x, qd_l_y])\n",
    "    A[q, qd] = 1\n",
    "end\n",
    "A[qd_com_x, q_com_x] = ω^2\n",
    "A[qd_com_y, q_com_y] = ω^2\n",
    "A[qd_com_x, q_cop_x] = -ω^2\n",
    "A[qd_com_y, q_cop_y] = -ω^2\n",
    "\n",
    "B = zeros(length(states), length(inputs))\n",
    "B[q_cop_x, qd_cop_x] = 1.0\n",
    "B[q_cop_y, qd_cop_y] = 1.0\n",
    "B[qd_r_x, qdd_r_x] = 1.0\n",
    "B[qd_r_y, qdd_r_y] = 1.0\n",
    "B[qd_l_x, qdd_l_x] = 1.0\n",
    "B[qd_l_y, qdd_l_y] = 1.0\n",
    "\n"
   ]
  },
  {
   "cell_type": "code",
   "execution_count": 61,
   "metadata": {},
   "outputs": [
    {
     "data": {
      "text/plain": [
       "2-element Array{PyCall.PyObject,1}:\n",
       " PyObject <pympc.geometry.Polytope instance at 0x12bde5ea8>\n",
       " PyObject <pympc.geometry.Polytope instance at 0x12bde5ea8>"
      ]
     },
     "execution_count": 61,
     "metadata": {},
     "output_type": "execute_result"
    }
   ],
   "source": [
    "# state constraint regions\n",
    "\n",
    "# bounds\n",
    "x_min = fill(-Inf, length(states))\n",
    "x_min[q_com_x] = -10\n",
    "x_min[q_com_y] = -10\n",
    "x_min[q_r_x] = -10\n",
    "x_min[q_r_y] = -10\n",
    "x_min[q_l_x] = -10\n",
    "x_min[q_l_y] = -10\n",
    "x_min[q_cop_x] = -10\n",
    "x_min[q_cop_y] = -10\n",
    "x_min[qd_com_x] = -10\n",
    "x_min[qd_com_y] = -10\n",
    "x_min[qd_r_x] = -10\n",
    "x_min[qd_r_y] = -10\n",
    "x_min[qd_l_x] = -10\n",
    "x_min[qd_l_y] = -10\n",
    "x_max = -x_min\n",
    "X_bounds = PyMPC.geometry.Polytope[:from_bounds](mat(x_min), mat(x_max))[:assemble]()\n",
    "\n",
    "\n",
    "outward_step = 0.3\n",
    "inward_step = 0.1\n",
    "forward_step = 0.4\n",
    "backward_step = 0.4\n",
    "\n",
    "# common state constraints\n",
    "# -0.3 <= (r - c) <= -0.1\n",
    "# -backward <= r - c <= forward\n",
    "# 0.1 <= l - c <= 0.3\n",
    "A_c = zeros(8, length(states))\n",
    "b_c = zeros(8)\n",
    "A_c[1, q_r_x] = 1\n",
    "A_c[1, q_com_x] = -1\n",
    "b_c[1] = forward_step\n",
    "\n",
    "A_c[2, q_r_x] = -1\n",
    "A_c[2, q_com_x] = 1\n",
    "b_c[2] = backward_step\n",
    "\n",
    "A_c[3, q_l_x] = 1\n",
    "A_c[3, q_com_x] = -1\n",
    "b_c[3] = forward_step\n",
    "\n",
    "A_c[4, q_l_x] = -1\n",
    "A_c[4, q_com_x] = 1\n",
    "b_c[4] = backward_step\n",
    "\n",
    "A_c[5, q_r_y] = 1\n",
    "A_c[5, q_com_y] = -1\n",
    "b_c[5] = -inward_step\n",
    "\n",
    "A_c[6, q_r_y] = -1\n",
    "A_c[6, q_com_y] = 1\n",
    "b_c[6] = outward_step\n",
    "\n",
    "A_c[7, q_l_y] = 1\n",
    "A_c[7, q_com_y] = -1\n",
    "b_c[7] = outward_step\n",
    "\n",
    "A_c[8, q_l_y] = -1\n",
    "A_c[8, q_com_y] = 1\n",
    "b_c[8] = -inward_step\n",
    "\n",
    "# right foot support\n",
    "A_r = zeros(8, length(states))\n",
    "A_r[1, qd_r_x] = 1.0\n",
    "A_r[2, qd_r_x] = -1.0\n",
    "A_r[3, qd_r_y] = 1.0\n",
    "A_r[4, qd_r_y] = -1.0\n",
    "A_r[5, q_cop_x] = 1.0\n",
    "A_r[5, q_r_x] = -1.0\n",
    "A_r[6, q_cop_x] = -1.0\n",
    "A_r[6, q_r_x] = 1.0\n",
    "A_r[7, q_cop_y] = 1.0\n",
    "A_r[7, q_r_y] = -1.0\n",
    "A_r[8, q_cop_y] = -1.0\n",
    "A_r[8, q_r_y] = 1.0\n",
    "\n",
    "b_r = [0.01, 0.01, 0.01, 0.01, 0.05, 0.05, 0.05, 0.05]\n",
    "\n",
    "# left foot support\n",
    "A_l = zeros(8, length(states))\n",
    "A_l[1, qd_l_x] = 1.0\n",
    "A_l[2, qd_l_x] = -1.0\n",
    "A_l[3, qd_l_y] = 1.0\n",
    "A_l[4, qd_l_y] = -1.0\n",
    "A_l[5, q_cop_x] = 1.0\n",
    "A_l[5, q_l_x] = -1.0\n",
    "A_l[6, q_cop_x] = -1.0\n",
    "A_l[6, q_l_x] = 1.0\n",
    "A_l[7, q_cop_y] = 1.0\n",
    "A_l[7, q_l_y] = -1.0\n",
    "A_l[8, q_cop_y] = -1.0\n",
    "A_l[8, q_l_y] = 1.0\n",
    "\n",
    "b_l = [0.01, 0.01, 0.01, 0.01, 0.05, 0.05, 0.05, 0.05]\n",
    "\n",
    "X = [PyMPC.geometry.Polytope(vcat(X_bounds[:A], A_c, A_r), mat(vcat(vec(X_bounds[:b]), b_c, b_r)))[:assemble](),\n",
    "     PyMPC.geometry.Polytope(vcat(X_bounds[:A], A_c, A_l), mat(vcat(vec(X_bounds[:b]), b_c, b_l)))[:assemble]()]\n",
    "\n",
    "# Input constraint regions\n",
    "\n",
    "max_foot_accel = 20\n",
    "\n",
    "u_min = fill(-Inf, length(inputs))\n",
    "u_min[qd_cop_x] = -1000\n",
    "u_min[qd_cop_y] = -1000\n",
    "u_min[qdd_r_x] = -max_foot_accel\n",
    "u_min[qdd_r_y] = -max_foot_accel\n",
    "u_min[qdd_l_x] = -max_foot_accel\n",
    "u_min[qdd_l_y] = -max_foot_accel\n",
    "u_max = -u_min\n",
    "U_bounds = PyMPC.geometry.Polytope[:from_bounds](mat(u_min), mat(u_max))[:assemble]()\n",
    "\n",
    "U = [U_bounds, U_bounds]"
   ]
  },
  {
   "cell_type": "code",
   "execution_count": 62,
   "metadata": {},
   "outputs": [
    {
     "data": {
      "text/plain": [
       "PyObject <pympc.dynamical_systems.DTPWASystem object at 0x12ba1cc10>"
      ]
     },
     "execution_count": 62,
     "metadata": {},
     "output_type": "execute_result"
    }
   ],
   "source": [
    "c = zeros(length(states), 1)\n",
    "\n",
    "sys = PyMPC.dynamical_systems.DTPWASystem(\n",
    "    [PyMPC.dynamical_systems.DTAffineSystem[:from_continuous](A, B, c, Δt),\n",
    "     PyMPC.dynamical_systems.DTAffineSystem[:from_continuous](A, B, c, Δt)],\n",
    "    X,\n",
    "    U)"
   ]
  },
  {
   "cell_type": "code",
   "execution_count": 69,
   "metadata": {},
   "outputs": [
    {
     "data": {
      "text/plain": [
       "PyObject <pympc.control.MPCHybridController instance at 0x12bde5830>"
      ]
     },
     "execution_count": 69,
     "metadata": {},
     "output_type": "execute_result"
    }
   ],
   "source": [
    "N = 10\n",
    "Q = 0.001 * eye(length(states))\n",
    "Q[qd_com_x, qd_com_x] = 100\n",
    "Q[qd_com_y, qd_com_y] = 100\n",
    "\n",
    "R = 0.001 * eye(length(inputs))\n",
    "R[qdd_r_x, qdd_r_x] = 0.1\n",
    "R[qdd_r_y, qdd_r_y] = 0.1\n",
    "R[qdd_l_x, qdd_l_x] = 0.1\n",
    "R[qdd_l_y, qdd_l_y] = 0.1\n",
    "\n",
    "P = Q\n",
    "\n",
    "X_N = PyMPC.geometry.Polytope(vcat(X_bounds[:A], A_c), mat(vcat(vec(X_bounds[:b]), b_c)))[:assemble]()\n",
    "\n",
    "controller = PyMPC.control.MPCHybridController(\n",
    "sys,\n",
    "N,\n",
    "\"two\",\n",
    "Q,\n",
    "R,\n",
    "P,\n",
    "X_N)"
   ]
  },
  {
   "cell_type": "code",
   "execution_count": 70,
   "metadata": {},
   "outputs": [
    {
     "data": {
      "text/plain": [
       "run_mpc (generic function with 1 method)"
      ]
     },
     "execution_count": 70,
     "metadata": {},
     "output_type": "execute_result"
    }
   ],
   "source": [
    "function run_mpc(controller, x0)\n",
    "    u_feedforward, x_trajectory, cost, switching_sequence = controller[:feedforward](mat(x0))\n",
    "    condensed = controller[:condense_program](switching_sequence)\n",
    "    u, cost = condensed[:solve](mat(x0))\n",
    "    active_set = condensed[:get_active_set](mat(x0), u)\n",
    "    u_offset, u_linear = condensed[:get_u_sensitivity](active_set)\n",
    "    @show maximum(abs.(u_offset + u_linear * x0 - u))\n",
    "    @assert all(isapprox.(u_offset + u_linear * x0, u, atol=1e-3))\n",
    "    u_offset + u_linear * x0, u_linear\n",
    "end"
   ]
  },
  {
   "cell_type": "code",
   "execution_count": 71,
   "metadata": {},
   "outputs": [
    {
     "data": {
      "text/plain": [
       "Visualizer with path prefix Symbol[:pendulum, :cop] using LCM LCMCore.LCM(Ptr{Void} @0x00007fb6da748a80, \"\", RawFD(72), LCMCore.Subscription[LCMCore.Subscription{LCMCore.SubscriptionOptions{DrakeVisualizer.Comms.CommsT,DrakeVisualizer.#handle_msg#9{DrakeVisualizer.CoreVisualizer}}}(LCMCore.SubscriptionOptions{DrakeVisualizer.Comms.CommsT,DrakeVisualizer.#handle_msg#9{DrakeVisualizer.CoreVisualizer}}(DrakeVisualizer.Comms.CommsT, DrakeVisualizer.handle_msg), Ptr{Void} @0x00007fb6da725620)])"
      ]
     },
     "execution_count": 71,
     "metadata": {},
     "output_type": "execute_result"
    }
   ],
   "source": [
    "vis = Visualizer()[:pendulum]\n",
    "delete!(vis)\n",
    "setgeometry!(vis[:com], HyperSphere(Point(0., 0, 0), 0.1))\n",
    "setgeometry!(vis[:cop], HyperSphere(Point(0., 0, 0), 0.02))"
   ]
  },
  {
   "cell_type": "code",
   "execution_count": 72,
   "metadata": {},
   "outputs": [
    {
     "data": {
      "text/plain": [
       "draw_state (generic function with 1 method)"
      ]
     },
     "execution_count": 72,
     "metadata": {},
     "output_type": "execute_result"
    }
   ],
   "source": [
    "function draw_state(vis, x)\n",
    "    settransform!(vis[:com], Translation(x[q_com_x], x[q_com_y], h))\n",
    "    settransform!(vis[:cop], Translation(x[q_cop_x], x[q_cop_y], 0))\n",
    "    setgeometry!(vis[:feet][:r], PolyLine([Point(x[q_r_x], x[q_r_y], 0), Point(x[q_com_x], x[q_com_y], h)], 0.01, false, nothing, nothing))\n",
    "    setgeometry!(vis[:feet][:l], PolyLine([Point(x[q_l_x], x[q_l_y], 0), Point(x[q_com_x], x[q_com_y], h)], 0.01, false, nothing, nothing))\n",
    "end"
   ]
  },
  {
   "cell_type": "code",
   "execution_count": 73,
   "metadata": {},
   "outputs": [],
   "source": [
    "x0 = zeros(length(states))\n",
    "x0[q_com_x] = 0\n",
    "x0[q_com_y] = 0\n",
    "x0[q_r_x] = 0\n",
    "x0[q_r_y] = -0.15\n",
    "x0[q_l_x] = 0\n",
    "x0[q_l_y] = 0.15\n",
    "x0[q_cop_x] = 0\n",
    "x0[q_cop_y] = -0.15\n",
    "x0[qd_com_x] = 0.2\n",
    "x0[qd_com_y] = 0\n",
    "x0[qd_r_x] = 0\n",
    "x0[qd_r_y] = 0\n",
    "x0[qd_l_x] = 0\n",
    "x0[qd_l_y] = 0\n",
    "\n",
    "@assert X[1][:applies_to](mat(x0))\n",
    "@assert !(X[2][:applies_to](mat(x0)))"
   ]
  },
  {
   "cell_type": "code",
   "execution_count": 76,
   "metadata": {},
   "outputs": [],
   "source": [
    "u_feedforward, x_trajectory, cost, switching_sequence = controller[:feedforward](mat(x0))\n",
    "\n",
    "for x in x_trajectory\n",
    "    draw_state(vis, x)\n",
    "    sleep(0.1)\n",
    "end"
   ]
  },
  {
   "cell_type": "code",
   "execution_count": 79,
   "metadata": {},
   "outputs": [],
   "source": [
    "x0 = x_trajectory[end]\n",
    "clip_cop!(x0)\n",
    "u_feedforward, x_trajectory, cost, switching_sequence = controller[:feedforward](mat(x0))\n",
    "\n",
    "for x in x_trajectory\n",
    "    draw_state(vis, x)\n",
    "    sleep(0.1)\n",
    "end"
   ]
  },
  {
   "cell_type": "code",
   "execution_count": 50,
   "metadata": {},
   "outputs": [
    {
     "data": {
      "text/plain": [
       "clip_cop! (generic function with 1 method)"
      ]
     },
     "execution_count": 50,
     "metadata": {},
     "output_type": "execute_result"
    }
   ],
   "source": [
    "function clip_cop!(x)\n",
    "    q_r = [x[q_r_x], x[q_r_y]]\n",
    "    q_l = [x[q_l_x], x[q_l_y]]\n",
    "    q_cop = [x[q_cop_x], x[q_cop_y]]\n",
    "    \n",
    "    if norm(q_cop - q_r) < norm(q_cop - q_l)\n",
    "        q_target = q_r\n",
    "    else\n",
    "        q_target = q_l\n",
    "    end\n",
    "    \n",
    "    m = Model(solver=GurobiSolver(OutputFlag=0))\n",
    "    @variable m cop[1:2]\n",
    "    @objective m Min sum((cop - q_target).^2)\n",
    "    @constraints m begin\n",
    "        cop .- q_target .<= 0.05\n",
    "        q_target .- cop .<= 0.05\n",
    "    end\n",
    "        \n",
    "    solve(m)\n",
    "    x[q_cop_x] = getvalue(cop[1])\n",
    "    x[q_cop_y] = getvalue(cop[2])\n",
    "end"
   ]
  },
  {
   "cell_type": "code",
   "execution_count": 70,
   "metadata": {},
   "outputs": [
    {
     "data": {
      "text/plain": [
       "simulate (generic function with 2 methods)"
      ]
     },
     "execution_count": 70,
     "metadata": {},
     "output_type": "execute_result"
    }
   ],
   "source": [
    "function simulate(x0, controller, ts::StepRangeLen=0:0.01:5)\n",
    "    x = copy(x0)\n",
    "    for t in ts\n",
    "        clip_cop!(x)\n",
    "        u = controller(x)\n",
    "        u = clamp.(u, u_min, u_max)\n",
    "        ẋ = A * x + B * u\n",
    "        x .+= step(ts) .* ẋ\n",
    "        sleep(step(ts))\n",
    "    end\n",
    "end"
   ]
  },
  {
   "cell_type": "code",
   "execution_count": null,
   "metadata": {},
   "outputs": [],
   "source": [
    "simulate(x0, x -> run_mpc(controller, x)[1][1:length(inputs)])"
   ]
  },
  {
   "cell_type": "code",
   "execution_count": null,
   "metadata": {
    "collapsed": true
   },
   "outputs": [],
   "source": []
  }
 ],
 "metadata": {
  "kernelspec": {
   "display_name": "Julia 0.6.0-rc2",
   "language": "julia",
   "name": "julia-0.6"
  },
  "language_info": {
   "file_extension": ".jl",
   "mimetype": "application/julia",
   "name": "julia",
   "version": "0.6.0"
  }
 },
 "nbformat": 4,
 "nbformat_minor": 2
}
