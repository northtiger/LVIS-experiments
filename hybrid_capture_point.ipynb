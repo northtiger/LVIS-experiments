{
 "cells": [
  {
   "cell_type": "code",
   "execution_count": 1,
   "metadata": {},
   "outputs": [
    {
     "name": "stderr",
     "output_type": "stream",
     "text": [
      "\u001b[1m\u001b[33mWARNING: \u001b[39m\u001b[22m\u001b[33mGurobi reported infeasible or unbounded. Set InfUnbdInfo=1 for more specific status.\u001b[39m\n"
     ]
    },
    {
     "name": "stdout",
     "output_type": "stream",
     "text": [
      "\u001b[1m\u001b[37mTest Summary:    | \u001b[39m\u001b[22m\u001b[1m\u001b[32mPass  \u001b[39m\u001b[22m\u001b[1m\u001b[36mTotal\u001b[39m\u001b[22m\n",
      "test sensitivity | \u001b[32m 267  \u001b[39m\u001b[36m  267\u001b[39m\n"
     ]
    },
    {
     "data": {
      "text/plain": [
       "PyMPC"
      ]
     },
     "execution_count": 1,
     "metadata": {},
     "output_type": "execute_result"
    }
   ],
   "source": [
    "include(\"pympc.jl\")"
   ]
  },
  {
   "cell_type": "code",
   "execution_count": 2,
   "metadata": {},
   "outputs": [
    {
     "name": "stderr",
     "output_type": "stream",
     "text": [
      "/Users/rdeits/locomotion/explorations/learning-mpc/packages/v0.6/Conda/deps/usr/lib/python2.7/site-packages/matplotlib/__init__.py:1405: UserWarning: \n",
      "This call to matplotlib.use() has no effect because the backend has already\n",
      "been chosen; matplotlib.use() must be called *before* pylab, matplotlib.pyplot,\n",
      "or matplotlib.backends is imported for the first time.\n",
      "\n",
      "  warnings.warn(_use_error_msg)\n"
     ]
    },
    {
     "data": {
      "text/plain": [
       "Plots.PyPlotBackend()"
      ]
     },
     "execution_count": 2,
     "metadata": {},
     "output_type": "execute_result"
    }
   ],
   "source": [
    "using Plots\n",
    "pyplot()"
   ]
  },
  {
   "cell_type": "code",
   "execution_count": 49,
   "metadata": {},
   "outputs": [
    {
     "data": {
      "text/plain": [
       "Process(`/Users/rdeits/locomotion/explorations/learning-mpc/packages/v0.6/DrakeVisualizer/src/../deps/usr/bin/drake-visualizer`, ProcessRunning)"
      ]
     },
     "execution_count": 49,
     "metadata": {},
     "output_type": "execute_result"
    }
   ],
   "source": [
    "using AxisArrays\n",
    "using JuMP, Gurobi\n",
    "using ProgressMeter\n",
    "using MLDataPattern\n",
    "using JLD\n",
    "import Nets\n",
    "using DrakeVisualizer, GeometryTypes, CoordinateTransformations\n",
    "DrakeVisualizer.any_open_windows() || DrakeVisualizer.new_window()"
   ]
  },
  {
   "cell_type": "code",
   "execution_count": 4,
   "metadata": {},
   "outputs": [
    {
     "data": {
      "text/plain": [
       "AxisArrays.Axis{:statesinputs,Array{Symbol,1}}(Symbol[:q_com_x, :q_com_y, :q_r_x, :q_r_y, :q_l_x, :q_l_y, :qd_com_x, :qd_com_y, :qd_r_x, :qd_r_y, :qd_l_x, :qd_l_y, :qdd_r_x, :qdd_r_y, :qdd_l_x, :qdd_l_y, :q_cop_x, :q_cop_y])"
      ]
     },
     "execution_count": 4,
     "metadata": {},
     "output_type": "execute_result"
    }
   ],
   "source": [
    "const states = Axis{:state}([\n",
    ":q_com_x\n",
    ":q_com_y\n",
    ":q_r_x\n",
    ":q_r_y\n",
    ":q_l_x\n",
    ":q_l_y\n",
    ":qd_com_x\n",
    ":qd_com_y\n",
    ":qd_r_x\n",
    ":qd_r_y\n",
    ":qd_l_x\n",
    ":qd_l_y\n",
    "])\n",
    "\n",
    "const inputs = Axis{:input}([\n",
    "    :qdd_r_x,\n",
    "    :qdd_r_y,\n",
    "    :qdd_l_x,\n",
    "    :qdd_l_y,\n",
    "    :q_cop_x,\n",
    "    :q_cop_y\n",
    "        ])\n",
    "\n",
    "const statesinputs = Axis{:statesinputs}(vcat(states.val, inputs.val))"
   ]
  },
  {
   "cell_type": "code",
   "execution_count": 5,
   "metadata": {},
   "outputs": [
    {
     "data": {
      "text/plain": [
       "1.0"
      ]
     },
     "execution_count": 5,
     "metadata": {},
     "output_type": "execute_result"
    }
   ],
   "source": [
    "g = 9.8\n",
    "h = 1.0\n",
    "ω = √(g / h)\n",
    "Δt = 0.1\n",
    "\n",
    "A = AxisArray(zeros(length(states), length(states)), \n",
    "    Axis{:state_out}(states.val), Axis{:state_in}(states.val))\n",
    "B = AxisArray(zeros(length(states), length(inputs)),\n",
    "    states, inputs)\n",
    "\n",
    "for (q, qd) in [(:q_com_x, :qd_com_x), (:q_com_y, :qd_com_y), \n",
    "    (:q_r_x, :qd_r_x), (:q_r_y, :qd_r_y), (:q_l_x, :qd_l_x),\n",
    "    (:q_l_y, :qd_l_y)]\n",
    "    A[q, qd] = 1\n",
    "end\n",
    "\n",
    "A[:qd_com_x, :q_com_x] = ω^2\n",
    "A[:qd_com_y, :q_com_y] = ω^2\n",
    "\n",
    "B[:qd_com_x, :q_cop_x] = -ω^2\n",
    "B[:qd_com_y, :q_cop_y] = -ω^2\n",
    "\n",
    "B[:qd_r_x, :qdd_r_x] = 1.0\n",
    "B[:qd_r_y, :qdd_r_y] = 1.0\n",
    "B[:qd_l_x, :qdd_l_x] = 1.0\n",
    "B[:qd_l_y, :qdd_l_y] = 1.0 \n",
    "\n"
   ]
  },
  {
   "cell_type": "code",
   "execution_count": 6,
   "metadata": {},
   "outputs": [
    {
     "data": {
      "text/plain": [
       "mat (generic function with 1 method)"
      ]
     },
     "execution_count": 6,
     "metadata": {},
     "output_type": "execute_result"
    }
   ],
   "source": [
    "mat(x::AbstractArray) = convert(Matrix, reshape(x, length(x), 1))"
   ]
  },
  {
   "cell_type": "code",
   "execution_count": 7,
   "metadata": {},
   "outputs": [
    {
     "data": {
      "text/plain": [
       "-0.1"
      ]
     },
     "execution_count": 7,
     "metadata": {},
     "output_type": "execute_result"
    }
   ],
   "source": [
    "# state constraint regions\n",
    "\n",
    "# bounds\n",
    "x_min = AxisArray(fill(-Inf, length(states)), states)\n",
    "x_min[:q_com_x] = -10\n",
    "x_min[:q_com_y] = -10\n",
    "x_min[:q_r_x] = -10\n",
    "x_min[:q_r_y] = -10\n",
    "x_min[:q_l_x] = -10\n",
    "x_min[:q_l_y] = -10\n",
    "x_min[:qd_com_x] = -10\n",
    "x_min[:qd_com_y] = -10\n",
    "x_min[:qd_r_x] = -10\n",
    "x_min[:qd_r_y] = -10\n",
    "x_min[:qd_l_x] = -10\n",
    "x_min[:qd_l_y] = -10\n",
    "x_max = -x_min\n",
    "X_bounds = PyMPC.geometry.Polytope[:from_bounds](mat(x_min), mat(x_max))[:assemble]()\n",
    "\n",
    "max_foot_accel = 30\n",
    "\n",
    "u_min = AxisArray(fill(-Inf, length(inputs)), inputs)\n",
    "u_min[:qdd_r_x] = -max_foot_accel\n",
    "u_min[:qdd_r_y] = -max_foot_accel\n",
    "u_min[:qdd_l_x] = -max_foot_accel\n",
    "u_min[:qdd_l_y] = -max_foot_accel\n",
    "u_max = -u_min\n",
    "U_bounds = PyMPC.geometry.Polytope[:from_bounds](mat(u_min), mat(u_max))[:assemble]()\n",
    "\n",
    "A_bounds = vcat(hcat(X_bounds[:A], zeros(2 * length(states), length(inputs))),\n",
    "                hcat(zeros(2 * length(inputs), length(states)), U_bounds[:A]))\n",
    "b_bounds = vcat(vec(X_bounds[:b]), vec(U_bounds[:b]))\n",
    "\n",
    "outward_step = 0.3\n",
    "inward_step = 0.1\n",
    "forward_step = 0.4\n",
    "backward_step = 0.4\n",
    "\n",
    "# common state constraints\n",
    "# -0.3 <= (r - c) <= -0.1\n",
    "# -backward <= r - c <= forward\n",
    "# 0.1 <= l - c <= 0.3\n",
    "A_c = AxisArray(zeros(8, length(statesinputs)), 1:8, statesinputs)\n",
    "b_c = AxisArray(zeros(8), 1:8)\n",
    "\n",
    "A_c[1, :q_r_x] = 1\n",
    "A_c[1, :q_com_x] = -1\n",
    "b_c[1] = forward_step\n",
    "\n",
    "A_c[2, :q_r_x] = -1\n",
    "A_c[2, :q_com_x] = 1\n",
    "b_c[2] = backward_step\n",
    "\n",
    "A_c[3, :q_l_x] = 1\n",
    "A_c[3, :q_com_x] = -1\n",
    "b_c[3] = forward_step\n",
    "\n",
    "A_c[4, :q_l_x] = -1\n",
    "A_c[4, :q_com_x] = 1\n",
    "b_c[4] = backward_step\n",
    "\n",
    "A_c[5, :q_r_y] = 1\n",
    "A_c[5, :q_com_y] = -1\n",
    "b_c[5] = -inward_step\n",
    "\n",
    "A_c[6, :q_r_y] = -1\n",
    "A_c[6, :q_com_y] = 1\n",
    "b_c[6] = outward_step\n",
    "\n",
    "A_c[7, :q_l_y] = 1\n",
    "A_c[7, :q_com_y] = -1\n",
    "b_c[7] = outward_step\n",
    "\n",
    "A_c[8, :q_l_y] = -1\n",
    "A_c[8, :q_com_y] = 1\n",
    "b_c[8] = -inward_step"
   ]
  },
  {
   "cell_type": "code",
   "execution_count": 8,
   "metadata": {},
   "outputs": [
    {
     "data": {
      "text/plain": [
       "0.01"
      ]
     },
     "execution_count": 8,
     "metadata": {},
     "output_type": "execute_result"
    }
   ],
   "source": [
    "foot_size = 0.05\n",
    "contact_vel_slack = 0.01\n",
    "\n",
    "# right foot support\n",
    "nc = 12\n",
    "A_r = AxisArray(zeros(nc, length(statesinputs)), 1:nc, statesinputs)\n",
    "b_r = AxisArray(zeros(nc), 1:nc)\n",
    "A_r[1, :qd_r_x] = 1;  b_r[1] = contact_vel_slack\n",
    "A_r[2, :qd_r_x] = -1; b_r[2] = contact_vel_slack\n",
    "A_r[3, :qd_r_y] = 1;  b_r[3] = contact_vel_slack\n",
    "A_r[4, :qd_r_y] = -1; b_r[4] = contact_vel_slack\n",
    "A_r[5, :q_cop_x] = 1;  A_r[5, :q_r_x] = -1; b_r[5] = foot_size\n",
    "A_r[6, :q_cop_x] = -1; A_r[6, :q_r_x] = 1;  b_r[6] = foot_size\n",
    "A_r[7, :q_cop_y] = 1;  A_r[7, :q_r_y] = -1; b_r[7] = foot_size\n",
    "A_r[8, :q_cop_y] = -1; A_r[8, :q_r_y] = 1;  b_r[8] = foot_size\n",
    "A_r[9,  :qdd_r_x] = 1;  b_r[9] =  contact_vel_slack\n",
    "A_r[10, :qdd_r_x] = -1; b_r[10] = contact_vel_slack\n",
    "A_r[11, :qdd_r_y] = 1;  b_r[11] = contact_vel_slack\n",
    "A_r[12, :qdd_r_y] = -1; b_r[12] = contact_vel_slack\n",
    "\n",
    "# left foot support\n",
    "A_l = AxisArray(zeros(nc, length(statesinputs)), 1:nc, statesinputs)\n",
    "b_l = AxisArray(zeros(nc), 1:nc)\n",
    "A_l[1, :qd_l_x] = 1;  b_l[1] = contact_vel_slack\n",
    "A_l[2, :qd_l_x] = -1; b_l[2] = contact_vel_slack\n",
    "A_l[3, :qd_l_y] = 1;  b_l[3] = contact_vel_slack\n",
    "A_l[4, :qd_l_y] = -1; b_l[4] = contact_vel_slack\n",
    "A_l[5, :q_cop_x] = 1;  A_l[5, :q_l_x] = -1; b_l[5] = foot_size\n",
    "A_l[6, :q_cop_x] = -1; A_l[6, :q_l_x] = 1;  b_l[6] = foot_size\n",
    "A_l[7, :q_cop_y] = 1;  A_l[7, :q_l_y] = -1; b_l[7] = foot_size\n",
    "A_l[8, :q_cop_y] = -1; A_l[8, :q_l_y] = 1;  b_l[8] = foot_size\n",
    "A_l[9,  :qdd_l_x] = 1;  b_l[9] =  contact_vel_slack\n",
    "A_l[10, :qdd_l_x] = -1; b_l[10] = contact_vel_slack\n",
    "A_l[11, :qdd_l_y] = 1;  b_l[11] = contact_vel_slack\n",
    "A_l[12, :qdd_l_y] = -1; b_l[12] = contact_vel_slack"
   ]
  },
  {
   "cell_type": "code",
   "execution_count": 9,
   "metadata": {},
   "outputs": [
    {
     "data": {
      "text/plain": [
       "2-element Array{PyCall.PyObject,1}:\n",
       " PyObject <pympc.geometry.Polytope instance at 0x13748b8c0>\n",
       " PyObject <pympc.geometry.Polytope instance at 0x13b258a28>"
      ]
     },
     "execution_count": 9,
     "metadata": {},
     "output_type": "execute_result"
    }
   ],
   "source": [
    "XU = [\n",
    "    PyMPC.geometry.Polytope(vcat(A_bounds, A_c, A_r), mat(vcat(b_bounds, b_c, b_r)))[:assemble](),\n",
    "    PyMPC.geometry.Polytope(vcat(A_bounds, A_c, A_l), mat(vcat(b_bounds, b_c, b_l)))[:assemble]()\n",
    "]"
   ]
  },
  {
   "cell_type": "code",
   "execution_count": 10,
   "metadata": {},
   "outputs": [
    {
     "data": {
      "text/plain": [
       "PyObject <pympc.dynamical_systems.DTPWASystem object at 0x1302e9390>"
      ]
     },
     "execution_count": 10,
     "metadata": {},
     "output_type": "execute_result"
    }
   ],
   "source": [
    "c = zeros(length(states), 1)\n",
    "\n",
    "sys = PyMPC.dynamical_systems.DTPWASystem(\n",
    "    [PyMPC.dynamical_systems.DTAffineSystem[:from_continuous](A, B, c, Δt),\n",
    "     PyMPC.dynamical_systems.DTAffineSystem[:from_continuous](A, B, c, Δt)],\n",
    "    XU)"
   ]
  },
  {
   "cell_type": "code",
   "execution_count": 11,
   "metadata": {},
   "outputs": [
    {
     "data": {
      "text/plain": [
       "PyObject <pympc.control.MPCHybridController instance at 0x13b23cea8>"
      ]
     },
     "execution_count": 11,
     "metadata": {},
     "output_type": "execute_result"
    }
   ],
   "source": [
    "N = 10\n",
    "Q = AxisArray(0.001 * eye(length(states)), Axis{:states_1}(states.val), Axis{:states_2}(states.val))\n",
    "Q[:qd_com_x, :qd_com_x] = 100\n",
    "Q[:qd_com_y, :qd_com_y] = 100\n",
    "\n",
    "R = AxisArray(0.001 * eye(length(inputs)), Axis{:inputs_1}(inputs.val), Axis{:inputs_2}(inputs.val))\n",
    "R[:qdd_r_x, :qdd_r_x] = 0.1\n",
    "R[:qdd_r_y, :qdd_r_y] = 0.1\n",
    "R[:qdd_l_x, :qdd_l_x] = 0.1\n",
    "R[:qdd_l_y, :qdd_l_y] = 0.1\n",
    "\n",
    "P = Q\n",
    "\n",
    "X_N = PyMPC.geometry.Polytope(vcat(X_bounds[:A], A_c[:, 1:length(states)]), mat(vcat(vec(X_bounds[:b]), b_c)))[:assemble]()\n",
    "\n",
    "controller = PyMPC.control.MPCHybridController(\n",
    "sys,\n",
    "N,\n",
    "\"two\",\n",
    "Q,\n",
    "R,\n",
    "P,\n",
    "X_N)"
   ]
  },
  {
   "cell_type": "code",
   "execution_count": 12,
   "metadata": {},
   "outputs": [
    {
     "data": {
      "text/plain": [
       "run_mpc (generic function with 1 method)"
      ]
     },
     "execution_count": 12,
     "metadata": {},
     "output_type": "execute_result"
    }
   ],
   "source": [
    "function run_mpc(controller, x0)\n",
    "    u_feedforward, x_trajectory, cost, switching_sequence = controller[:feedforward](mat(x0))\n",
    "    if isnan(u_feedforward[1][1])\n",
    "        return u_feedforward[1], fill(NaN, length(u_feedforward[1]), length(x0)), x_trajectory\n",
    "    end\n",
    "    condensed = controller[:condense_program](switching_sequence)\n",
    "    u, cost = condensed[:solve](mat(x0))\n",
    "    active_set = condensed[:get_active_set](mat(x0), u)\n",
    "    u_offset, u_linear = condensed[:get_u_sensitivity](active_set)\n",
    "#     @show maximum(abs.(u_offset + u_linear * x0 - u))\n",
    "#     @assert maximum(abs.(u_offset + u_linear * x0 - u)) <= 0.01\n",
    "    u_feedforward[1], u_linear, x_trajectory\n",
    "end"
   ]
  },
  {
   "cell_type": "code",
   "execution_count": 79,
   "metadata": {},
   "outputs": [
    {
     "data": {
      "text/plain": [
       "Visualizer with path prefix Symbol[:pendulum, :cop] using LCM LCMCore.LCM(Ptr{Void} @0x00007f880767ab00, \"\", RawFD(65), LCMCore.Subscription[LCMCore.Subscription{LCMCore.SubscriptionOptions{DrakeVisualizer.Comms.CommsT,DrakeVisualizer.#handle_msg#9{DrakeVisualizer.CoreVisualizer}}}(LCMCore.SubscriptionOptions{DrakeVisualizer.Comms.CommsT,DrakeVisualizer.#handle_msg#9{DrakeVisualizer.CoreVisualizer}}(DrakeVisualizer.Comms.CommsT, DrakeVisualizer.handle_msg), Ptr{Void} @0x00007f88068e2da0)])"
      ]
     },
     "execution_count": 79,
     "metadata": {},
     "output_type": "execute_result"
    }
   ],
   "source": [
    "vis = Visualizer()[:pendulum]\n",
    "delete!(vis)\n",
    "setgeometry!(vis[:com], HyperSphere(Point(0., 0, 0), 0.1))\n",
    "setgeometry!(vis[:cop], HyperSphere(Point(0., 0, 0), 0.02))"
   ]
  },
  {
   "cell_type": "code",
   "execution_count": 14,
   "metadata": {},
   "outputs": [
    {
     "data": {
      "text/plain": [
       "draw (generic function with 1 method)"
      ]
     },
     "execution_count": 14,
     "metadata": {},
     "output_type": "execute_result"
    }
   ],
   "source": [
    "function draw(vis, x_, u_)\n",
    "    x = AxisArray(x_, states)\n",
    "    u = AxisArray(u_, inputs)\n",
    "    settransform!(vis[:com], Translation(x[:q_com_x], x[:q_com_y], h))\n",
    "    settransform!(vis[:cop], Translation(u[:q_cop_x], u[:q_cop_y], 0))\n",
    "    setgeometry!(vis[:feet][:r], PolyLine([Point(x[:q_r_x], x[:q_r_y], 0), Point(x[:q_com_x], x[:q_com_y], h)], 0.01, false, nothing, nothing))\n",
    "    setgeometry!(vis[:feet][:l], PolyLine([Point(x[:q_l_x], x[:q_l_y], 0), Point(x[:q_com_x], x[:q_com_y], h)], 0.01, false, nothing, nothing))\n",
    "end"
   ]
  },
  {
   "cell_type": "code",
   "execution_count": 15,
   "metadata": {},
   "outputs": [
    {
     "data": {
      "text/plain": [
       "0"
      ]
     },
     "execution_count": 15,
     "metadata": {},
     "output_type": "execute_result"
    }
   ],
   "source": [
    "x0 = AxisArray(zeros(length(states)), states)\n",
    "x0[:q_com_x] = 0\n",
    "x0[:q_com_y] = 0\n",
    "x0[:q_r_x] = 0\n",
    "x0[:q_r_y] = -0.15\n",
    "x0[:q_l_x] = 0\n",
    "x0[:q_l_y] = 0.15\n",
    "x0[:qd_com_x] = 0.4\n",
    "x0[:qd_com_y] = 0.4\n",
    "x0[:qd_r_x] = 0\n",
    "x0[:qd_r_y] = 0\n",
    "x0[:qd_l_x] = 0\n",
    "x0[:qd_l_y] = 0"
   ]
  },
  {
   "cell_type": "code",
   "execution_count": 16,
   "metadata": {
    "collapsed": true
   },
   "outputs": [],
   "source": [
    "u_feedforward, x_trajectory, cost, switching_sequence = controller[:feedforward](mat(x0))\n",
    "\n",
    "for (x, u) in zip(x_trajectory, u_feedforward)\n",
    "    draw(vis, vec(x), vec(u))\n",
    "    sleep(0.2)\n",
    "end"
   ]
  },
  {
   "cell_type": "code",
   "execution_count": 17,
   "metadata": {},
   "outputs": [
    {
     "data": {
      "text/plain": [
       "clip_cop! (generic function with 1 method)"
      ]
     },
     "execution_count": 17,
     "metadata": {},
     "output_type": "execute_result"
    }
   ],
   "source": [
    "function contact_state(x, u)\n",
    "    q_r = [x[:q_r_x], x[:q_r_y]]\n",
    "    q_l = [x[:q_l_x], x[:q_l_y]]\n",
    "    q_cop = [u[:q_cop_x], u[:q_cop_y]]\n",
    "    \n",
    "    if norm(q_cop - q_r) < norm(q_cop - q_l)\n",
    "        return :right\n",
    "    else\n",
    "        return :left\n",
    "    end\n",
    "end\n",
    "\n",
    "function clip_cop!(x, u)\n",
    "    q_r = [x[:q_r_x], x[:q_r_y]]\n",
    "    q_l = [x[:q_l_x], x[:q_l_y]]\n",
    "    q_cop = [u[:q_cop_x], u[:q_cop_y]]\n",
    "    \n",
    "    contact = contact_state(x,  u)\n",
    "    if contact == :right\n",
    "        q_target = q_r\n",
    "    else\n",
    "        q_target = q_l\n",
    "    end\n",
    "\n",
    "    m = Model(solver=GurobiSolver(OutputFlag=0))\n",
    "    @variable m cop[1:2]\n",
    "    @objective m Min sum((cop - q_cop).^2)\n",
    "    @constraints m begin\n",
    "        cop .- q_target .<= 0.04\n",
    "        q_target .- cop .<= 0.04\n",
    "    end\n",
    "        \n",
    "    solve(m)\n",
    "    u[:q_cop_x] = getvalue(cop[1])\n",
    "    u[:q_cop_y] = getvalue(cop[2])\n",
    "end"
   ]
  },
  {
   "cell_type": "code",
   "execution_count": 18,
   "metadata": {},
   "outputs": [
    {
     "data": {
      "text/plain": [
       "update (generic function with 1 method)"
      ]
     },
     "execution_count": 18,
     "metadata": {},
     "output_type": "execute_result"
    }
   ],
   "source": [
    "function update(x, u, Δt)\n",
    "    u .= clamp.(u, u_min, u_max)\n",
    "    contact = contact_state(x, u)\n",
    "    clip_cop!(x, u)\n",
    "    \n",
    "    ẋ = AxisArray(A * x + B * u, states)\n",
    "    \n",
    "    if contact_state(x, u) == :right\n",
    "        ẋ[:q_r_x] = 0\n",
    "        ẋ[:q_r_y] = 0\n",
    "    else\n",
    "        ẋ[:q_l_x] = 0\n",
    "        ẋ[:q_l_y] = 0\n",
    "    end\n",
    "    \n",
    "    x .+= Δt .* ẋ\n",
    "    \n",
    "#     if contact_state(x, u) == :right\n",
    "#         x[:qd_r_x] = 0\n",
    "#         x[:qd_r_y] = 0\n",
    "#     else\n",
    "#         x[:qd_l_x] = 0\n",
    "#         x[:qd_l_y] = 0\n",
    "#     end\n",
    "    \n",
    "    x\n",
    "end"
   ]
  },
  {
   "cell_type": "code",
   "execution_count": 19,
   "metadata": {},
   "outputs": [
    {
     "data": {
      "text/plain": [
       "generate_x0 (generic function with 1 method)"
      ]
     },
     "execution_count": 19,
     "metadata": {},
     "output_type": "execute_result"
    }
   ],
   "source": [
    "function generate_x0()\n",
    "    x0 = AxisArray(1.0 * randn(length(states)), states)\n",
    "    x0[:q_com_x] = 0\n",
    "    x0[:q_com_y] = 0\n",
    "    x0[:q_r_x] = x0[:q_com_x] + (-backward_step + rand() * (forward_step - backward_step))\n",
    "    x0[:q_r_y] = x0[:q_com_y] - (inward_step + rand() * (outward_step - inward_step))\n",
    "    x0[:q_l_x] = x0[:q_com_x] + (-backward_step + rand() * (forward_step - backward_step))\n",
    "    x0[:q_l_y] = x0[:q_com_y] + (inward_step + rand() * (outward_step - inward_step))\n",
    "    if rand([true, false])\n",
    "        x0[:qd_r_x] = 0\n",
    "        x0[:qd_r_y] = 0\n",
    "    else\n",
    "        x0[:qd_l_x] = 0\n",
    "        x0[:qd_l_y] = 0\n",
    "    end\n",
    "    x0\n",
    "end"
   ]
  },
  {
   "cell_type": "code",
   "execution_count": 20,
   "metadata": {},
   "outputs": [
    {
     "name": "stderr",
     "output_type": "stream",
     "text": [
      "Progress: 100%|█████████████████████████████████████████| Time: 0:00:02\n"
     ]
    }
   ],
   "source": [
    "@showprogress for i in 1:100\n",
    "    x0 = generate_x0()\n",
    "    u_feedforward, x_trajectory, cost, switching_sequence = controller[:feedforward](mat(x0))\n",
    "    if !isnan(x_trajectory[1][1])\n",
    "        for (x, u) in zip(x_trajectory, u_feedforward)\n",
    "            draw(vis, vec(x), vec(u))\n",
    "            sleep(0.1)\n",
    "        end\n",
    "        break\n",
    "    end\n",
    "end"
   ]
  },
  {
   "cell_type": "code",
   "execution_count": 21,
   "metadata": {},
   "outputs": [
    {
     "data": {
      "text/plain": [
       "simulate (generic function with 2 methods)"
      ]
     },
     "execution_count": 21,
     "metadata": {},
     "output_type": "execute_result"
    }
   ],
   "source": [
    "function simulate(x0, control, ts::StepRangeLen=0:0.01:5)\n",
    "    x = copy(x0)\n",
    "    for t in ts\n",
    "        u = AxisArray(control(x), inputs)\n",
    "        x = update(x, u, step(ts))\n",
    "        draw(vis, x, u)\n",
    "        sleep(step(ts))\n",
    "    end\n",
    "end"
   ]
  },
  {
   "cell_type": "code",
   "execution_count": 134,
   "metadata": {},
   "outputs": [
    {
     "ename": "LoadError",
     "evalue": "\u001b[91mInvalid coefficient NaN on variable cop[1]\u001b[39m",
     "output_type": "error",
     "traceback": [
      "\u001b[91mInvalid coefficient NaN on variable cop[1]\u001b[39m",
      "",
      "Stacktrace:",
      " [1] \u001b[1massert_isfinite\u001b[22m\u001b[22m\u001b[1m(\u001b[22m\u001b[22m::JuMP.GenericAffExpr{Float64,JuMP.Variable}\u001b[1m)\u001b[22m\u001b[22m at \u001b[1m/Users/rdeits/locomotion/explorations/learning-mpc/packages/v0.6/JuMP/src/affexpr.jl:95\u001b[22m\u001b[22m",
      " [2] \u001b[1mprepAffObjective\u001b[22m\u001b[22m\u001b[1m(\u001b[22m\u001b[22m::JuMP.Model\u001b[1m)\u001b[22m\u001b[22m at \u001b[1m/Users/rdeits/locomotion/explorations/learning-mpc/packages/v0.6/JuMP/src/solvers.jl:498\u001b[22m\u001b[22m",
      " [3] \u001b[1m#build#119\u001b[22m\u001b[22m\u001b[1m(\u001b[22m\u001b[22m::Bool, ::Bool, ::JuMP.ProblemTraits, ::Function, ::JuMP.Model\u001b[1m)\u001b[22m\u001b[22m at \u001b[1m/Users/rdeits/locomotion/explorations/learning-mpc/packages/v0.6/JuMP/src/solvers.jl:325\u001b[22m\u001b[22m",
      " [4] \u001b[1m(::JuMP.#kw##build)\u001b[22m\u001b[22m\u001b[1m(\u001b[22m\u001b[22m::Array{Any,1}, ::JuMP.#build, ::JuMP.Model\u001b[1m)\u001b[22m\u001b[22m at \u001b[1m./<missing>:0\u001b[22m\u001b[22m",
      " [5] \u001b[1m#solve#116\u001b[22m\u001b[22m\u001b[1m(\u001b[22m\u001b[22m::Bool, ::Bool, ::Bool, ::Array{Any,1}, ::Function, ::JuMP.Model\u001b[1m)\u001b[22m\u001b[22m at \u001b[1m/Users/rdeits/locomotion/explorations/learning-mpc/packages/v0.6/JuMP/src/solvers.jl:166\u001b[22m\u001b[22m",
      " [6] \u001b[1mclip_cop!\u001b[22m\u001b[22m\u001b[1m(\u001b[22m\u001b[22m::AxisArrays.AxisArray{Float64,1,Array{Float64,1},Tuple{AxisArrays.Axis{:state,Array{Symbol,1}}}}, ::AxisArrays.AxisArray{Float64,1,Array{Float64,1},Tuple{AxisArrays.Axis{:input,Array{Symbol,1}}}}\u001b[1m)\u001b[22m\u001b[22m at \u001b[1m./In[17]:33\u001b[22m\u001b[22m",
      " [7] \u001b[1mupdate\u001b[22m\u001b[22m\u001b[1m(\u001b[22m\u001b[22m::AxisArrays.AxisArray{Float64,1,Array{Float64,1},Tuple{AxisArrays.Axis{:state,Array{Symbol,1}}}}, ::AxisArrays.AxisArray{Float64,1,Array{Float64,1},Tuple{AxisArrays.Axis{:input,Array{Symbol,1}}}}, ::Float64\u001b[1m)\u001b[22m\u001b[22m at \u001b[1m./In[18]:4\u001b[22m\u001b[22m",
      " [8] \u001b[1msimulate\u001b[22m\u001b[22m\u001b[1m(\u001b[22m\u001b[22m::AxisArrays.AxisArray{Float64,1,Array{Float64,1},Tuple{AxisArrays.Axis{:state,Array{Symbol,1}}}}, ::##219#220, ::StepRangeLen{Float64,Base.TwicePrecision{Float64},Base.TwicePrecision{Float64}}\u001b[1m)\u001b[22m\u001b[22m at \u001b[1m./In[21]:5\u001b[22m\u001b[22m"
     ]
    }
   ],
   "source": [
    "x0 = generate_x0()\n",
    "x = simulate(x0, x -> run_mpc(controller, x)[1][1:length(inputs)], 0:0.05:1)"
   ]
  },
  {
   "cell_type": "markdown",
   "metadata": {},
   "source": [
    "num_samples = 1000\n",
    "data = Vector{Tuple{Vector{Float64}, Matrix{Float64}}}()\n",
    "\n",
    "@showprogress for i in 1:num_samples\n",
    "    while true\n",
    "        x0 = generate_x0()\n",
    "        u, J, x_traj = run_mpc(controller, x0)\n",
    "        if !isnan(u[1])\n",
    "            push!(data, (x0, hcat(u, J[1:length(u), :])))\n",
    "            for x in x_traj\n",
    "                u, J, _ = run_mpc(controller, vec(x))\n",
    "                if !isnan(u[1])\n",
    "                    push!(data, (vec(x), hcat(u, J[1:length(u), :])))\n",
    "                end\n",
    "            end\n",
    "            break\n",
    "        end\n",
    "    end\n",
    "end\n",
    "\n",
    "save(\"LIPM_1000_trajectory.jld\", \"data\", data)"
   ]
  },
  {
   "cell_type": "code",
   "execution_count": 23,
   "metadata": {},
   "outputs": [],
   "source": [
    "data = load(\"LIPM_1000_trajectory.jld\")[\"data\"]\n",
    "train_data, test_data = splitobs(shuffleobs(data), 0.5)\n",
    "train_data = train_data[1:20 * (length(train_data) ÷ 20)];"
   ]
  },
  {
   "cell_type": "code",
   "execution_count": 63,
   "metadata": {},
   "outputs": [
    {
     "data": {
      "text/plain": [
       "(::#79) (generic function with 1 method)"
      ]
     },
     "execution_count": 63,
     "metadata": {},
     "output_type": "execute_result"
    }
   ],
   "source": [
    "widths = [length(states), 32, 32, 32, 32, 32, 32, length(inputs)]\n",
    "net = Nets.Net(widths)\n",
    "\n",
    "q = ones(1, length(states) + 1)\n",
    "q[2:end] = 1 / length(states)\n",
    "loss = (params, x, y) -> sum(abs2, q .* (y - Nets.predict_sensitivity(net, params, x)))\n",
    "loss_no_sensitivity = (params, x, y) -> sum(abs2, y[:, 1] - Nets.predict(net, params, x))"
   ]
  },
  {
   "cell_type": "code",
   "execution_count": 66,
   "metadata": {},
   "outputs": [
    {
     "name": "stderr",
     "output_type": "stream",
     "text": [
      "Progress: 100%|█████████████████████████████████████████| Time: 0:03:38\n"
     ]
    }
   ],
   "source": [
    "params = 2 * (rand(net) .- 0.5)\n",
    "losses = Float64[]\n",
    "nepoch = 50\n",
    "\n",
    "@showprogress for i in 1:nepoch\n",
    "    Nets.adam!(loss, params, train_data, Nets.AdamOpts(learning_rate=0.01 * 0.95^i, batch_size=40))\n",
    "    push!(losses, mean(xy -> loss(params, xy[1], xy[2]), test_data))\n",
    "end"
   ]
  },
  {
   "cell_type": "code",
   "execution_count": 67,
   "metadata": {
    "scrolled": false
   },
   "outputs": [
    {
     "data": {
      "text/html": [
       "<img src=\"data:image/png;base64,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\" />"
      ]
     },
     "execution_count": 67,
     "metadata": {},
     "output_type": "execute_result"
    }
   ],
   "source": [
    "plot(losses)"
   ]
  },
  {
   "cell_type": "code",
   "execution_count": 113,
   "metadata": {
    "collapsed": true
   },
   "outputs": [],
   "source": [
    "\n",
    "x0 = generate_x0()\n",
    "x0[:q_com_x] = 0\n",
    "x0[:q_com_y] = 0\n",
    "x0[:qd_com_x] = 0\n",
    "x0[:qd_com_y] = 0\n",
    "x = simulate(x0, x -> Nets.predict(net, params, x), 0:0.01:1)"
   ]
  },
  {
   "cell_type": "code",
   "execution_count": 63,
   "metadata": {},
   "outputs": [
    {
     "data": {
      "text/plain": [
       "6-element Array{Float64,1}:\n",
       " 37.5165  \n",
       "  8.07977 \n",
       " 12.0413  \n",
       "  3.4672  \n",
       " -0.176957\n",
       "  0.124447"
      ]
     },
     "execution_count": 63,
     "metadata": {},
     "output_type": "execute_result"
    }
   ],
   "source": [
    "Nets.predict(net, params, x0)"
   ]
  },
  {
   "cell_type": "code",
   "execution_count": null,
   "metadata": {
    "collapsed": true
   },
   "outputs": [],
   "source": []
  }
 ],
 "metadata": {
  "kernelspec": {
   "display_name": "Julia 0.6.0-rc2",
   "language": "julia",
   "name": "julia-0.6"
  },
  "language_info": {
   "file_extension": ".jl",
   "mimetype": "application/julia",
   "name": "julia",
   "version": "0.6.0"
  }
 },
 "nbformat": 4,
 "nbformat_minor": 2
}
