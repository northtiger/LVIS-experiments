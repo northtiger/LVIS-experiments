{
 "cells": [
  {
   "cell_type": "code",
   "execution_count": 2,
   "metadata": {},
   "outputs": [
    {
     "name": "stderr",
     "output_type": "stream",
     "text": [
      "\u001b[1m\u001b[33mWARNING: \u001b[39m\u001b[22m\u001b[33mGurobi reported infeasible or unbounded. Set InfUnbdInfo=1 for more specific status.\u001b[39m\n"
     ]
    },
    {
     "name": "stdout",
     "output_type": "stream",
     "text": [
      "\u001b[1m\u001b[37mTest Summary:    | \u001b[39m\u001b[22m\u001b[1m\u001b[32mPass  \u001b[39m\u001b[22m\u001b[1m\u001b[36mTotal\u001b[39m\u001b[22m\n",
      "test sensitivity | \u001b[32m 267  \u001b[39m\u001b[36m  267\u001b[39m\n"
     ]
    },
    {
     "data": {
      "text/plain": [
       "PyMPC"
      ]
     },
     "execution_count": 2,
     "metadata": {},
     "output_type": "execute_result"
    }
   ],
   "source": [
    "include(\"pympc.jl\")"
   ]
  },
  {
   "cell_type": "code",
   "execution_count": 3,
   "metadata": {},
   "outputs": [
    {
     "data": {
      "text/plain": [
       "true"
      ]
     },
     "execution_count": 3,
     "metadata": {},
     "output_type": "execute_result"
    }
   ],
   "source": [
    "using AxisArrays\n",
    "using JuMP, Gurobi\n",
    "using ProgressMeter\n",
    "using DrakeVisualizer, GeometryTypes, CoordinateTransformations\n",
    "DrakeVisualizer.any_open_windows() || DrakeVisualizer.new_window()"
   ]
  },
  {
   "cell_type": "code",
   "execution_count": 4,
   "metadata": {},
   "outputs": [
    {
     "data": {
      "text/plain": [
       "AxisArrays.Axis{:statesinputs,Array{Symbol,1}}(Symbol[:q_com_x, :q_com_y, :q_r_x, :q_r_y, :q_l_x, :q_l_y, :qd_com_x, :qd_com_y, :qd_r_x, :qd_r_y, :qd_l_x, :qd_l_y, :qdd_r_x, :qdd_r_y, :qdd_l_x, :qdd_l_y, :q_cop_x, :q_cop_y])"
      ]
     },
     "execution_count": 4,
     "metadata": {},
     "output_type": "execute_result"
    }
   ],
   "source": [
    "const states = Axis{:state}([\n",
    ":q_com_x\n",
    ":q_com_y\n",
    ":q_r_x\n",
    ":q_r_y\n",
    ":q_l_x\n",
    ":q_l_y\n",
    ":qd_com_x\n",
    ":qd_com_y\n",
    ":qd_r_x\n",
    ":qd_r_y\n",
    ":qd_l_x\n",
    ":qd_l_y\n",
    "])\n",
    "\n",
    "const inputs = Axis{:input}([\n",
    "    :qdd_r_x,\n",
    "    :qdd_r_y,\n",
    "    :qdd_l_x,\n",
    "    :qdd_l_y,\n",
    "    :q_cop_x,\n",
    "    :q_cop_y\n",
    "        ])\n",
    "\n",
    "const statesinputs = Axis{:statesinputs}(vcat(states.val, inputs.val))"
   ]
  },
  {
   "cell_type": "code",
   "execution_count": 5,
   "metadata": {},
   "outputs": [
    {
     "data": {
      "text/plain": [
       "1.0"
      ]
     },
     "execution_count": 5,
     "metadata": {},
     "output_type": "execute_result"
    }
   ],
   "source": [
    "g = 9.8\n",
    "h = 1.0\n",
    "ω = √(g / h)\n",
    "Δt = 0.1\n",
    "\n",
    "A = AxisArray(zeros(length(states), length(states)), \n",
    "    Axis{:state_out}(states.val), Axis{:state_in}(states.val))\n",
    "B = AxisArray(zeros(length(states), length(inputs)),\n",
    "    states, inputs)\n",
    "\n",
    "for (q, qd) in [(:q_com_x, :qd_com_x), (:q_com_y, :qd_com_y), \n",
    "    (:q_r_x, :qd_r_x), (:q_r_y, :qd_r_y), (:q_l_x, :qd_l_x),\n",
    "    (:q_l_y, :qd_l_y)]\n",
    "    A[q, qd] = 1\n",
    "end\n",
    "\n",
    "A[:qd_com_x, :q_com_x] = ω^2\n",
    "A[:qd_com_y, :q_com_y] = ω^2\n",
    "\n",
    "B[:qd_com_x, :q_cop_x] = -ω^2\n",
    "B[:qd_com_y, :q_cop_y] = -ω^2\n",
    "\n",
    "B[:qd_r_x, :qdd_r_x] = 1.0\n",
    "B[:qd_r_y, :qdd_r_y] = 1.0\n",
    "B[:qd_l_x, :qdd_l_x] = 1.0\n",
    "B[:qd_l_y, :qdd_l_y] = 1.0 \n",
    "\n"
   ]
  },
  {
   "cell_type": "code",
   "execution_count": 6,
   "metadata": {},
   "outputs": [
    {
     "data": {
      "text/plain": [
       "mat (generic function with 1 method)"
      ]
     },
     "execution_count": 6,
     "metadata": {},
     "output_type": "execute_result"
    }
   ],
   "source": [
    "mat(x::AbstractArray) = convert(Matrix, reshape(x, length(x), 1))"
   ]
  },
  {
   "cell_type": "code",
   "execution_count": 7,
   "metadata": {},
   "outputs": [
    {
     "data": {
      "text/plain": [
       "-0.1"
      ]
     },
     "execution_count": 7,
     "metadata": {},
     "output_type": "execute_result"
    }
   ],
   "source": [
    "# state constraint regions\n",
    "\n",
    "# bounds\n",
    "x_min = AxisArray(fill(-Inf, length(states)), states)\n",
    "x_min[:q_com_x] = -10\n",
    "x_min[:q_com_y] = -10\n",
    "x_min[:q_r_x] = -10\n",
    "x_min[:q_r_y] = -10\n",
    "x_min[:q_l_x] = -10\n",
    "x_min[:q_l_y] = -10\n",
    "x_min[:qd_com_x] = -10\n",
    "x_min[:qd_com_y] = -10\n",
    "x_min[:qd_r_x] = -10\n",
    "x_min[:qd_r_y] = -10\n",
    "x_min[:qd_l_x] = -10\n",
    "x_min[:qd_l_y] = -10\n",
    "x_max = -x_min\n",
    "X_bounds = PyMPC.geometry.Polytope[:from_bounds](mat(x_min), mat(x_max))[:assemble]()\n",
    "\n",
    "max_foot_accel = 30\n",
    "\n",
    "u_min = AxisArray(fill(-Inf, length(inputs)), inputs)\n",
    "u_min[:qdd_r_x] = -max_foot_accel\n",
    "u_min[:qdd_r_y] = -max_foot_accel\n",
    "u_min[:qdd_l_x] = -max_foot_accel\n",
    "u_min[:qdd_l_y] = -max_foot_accel\n",
    "u_max = -u_min\n",
    "U_bounds = PyMPC.geometry.Polytope[:from_bounds](mat(u_min), mat(u_max))[:assemble]()\n",
    "\n",
    "A_bounds = vcat(hcat(X_bounds[:A], zeros(2 * length(states), length(inputs))),\n",
    "                hcat(zeros(2 * length(inputs), length(states)), U_bounds[:A]))\n",
    "b_bounds = vcat(vec(X_bounds[:b]), vec(U_bounds[:b]))\n",
    "\n",
    "outward_step = 0.3\n",
    "inward_step = 0.1\n",
    "forward_step = 0.4\n",
    "backward_step = 0.4\n",
    "\n",
    "# common state constraints\n",
    "# -0.3 <= (r - c) <= -0.1\n",
    "# -backward <= r - c <= forward\n",
    "# 0.1 <= l - c <= 0.3\n",
    "A_c = AxisArray(zeros(8, length(statesinputs)), 1:8, statesinputs)\n",
    "b_c = AxisArray(zeros(8), 1:8)\n",
    "\n",
    "A_c[1, :q_r_x] = 1\n",
    "A_c[1, :q_com_x] = -1\n",
    "b_c[1] = forward_step\n",
    "\n",
    "A_c[2, :q_r_x] = -1\n",
    "A_c[2, :q_com_x] = 1\n",
    "b_c[2] = backward_step\n",
    "\n",
    "A_c[3, :q_l_x] = 1\n",
    "A_c[3, :q_com_x] = -1\n",
    "b_c[3] = forward_step\n",
    "\n",
    "A_c[4, :q_l_x] = -1\n",
    "A_c[4, :q_com_x] = 1\n",
    "b_c[4] = backward_step\n",
    "\n",
    "A_c[5, :q_r_y] = 1\n",
    "A_c[5, :q_com_y] = -1\n",
    "b_c[5] = -inward_step\n",
    "\n",
    "A_c[6, :q_r_y] = -1\n",
    "A_c[6, :q_com_y] = 1\n",
    "b_c[6] = outward_step\n",
    "\n",
    "A_c[7, :q_l_y] = 1\n",
    "A_c[7, :q_com_y] = -1\n",
    "b_c[7] = outward_step\n",
    "\n",
    "A_c[8, :q_l_y] = -1\n",
    "A_c[8, :q_com_y] = 1\n",
    "b_c[8] = -inward_step"
   ]
  },
  {
   "cell_type": "code",
   "execution_count": 8,
   "metadata": {},
   "outputs": [
    {
     "data": {
      "text/plain": [
       "0.01"
      ]
     },
     "execution_count": 8,
     "metadata": {},
     "output_type": "execute_result"
    }
   ],
   "source": [
    "foot_size = 0.05\n",
    "contact_vel_slack = 0.01\n",
    "\n",
    "# right foot support\n",
    "nc = 12\n",
    "A_r = AxisArray(zeros(nc, length(statesinputs)), 1:nc, statesinputs)\n",
    "b_r = AxisArray(zeros(nc), 1:nc)\n",
    "A_r[1, :qd_r_x] = 1;  b_r[1] = contact_vel_slack\n",
    "A_r[2, :qd_r_x] = -1; b_r[2] = contact_vel_slack\n",
    "A_r[3, :qd_r_y] = 1;  b_r[3] = contact_vel_slack\n",
    "A_r[4, :qd_r_y] = -1; b_r[4] = contact_vel_slack\n",
    "A_r[5, :q_cop_x] = 1;  A_r[5, :q_r_x] = -1; b_r[5] = foot_size\n",
    "A_r[6, :q_cop_x] = -1; A_r[6, :q_r_x] = 1;  b_r[6] = foot_size\n",
    "A_r[7, :q_cop_y] = 1;  A_r[7, :q_r_y] = -1; b_r[7] = foot_size\n",
    "A_r[8, :q_cop_y] = -1; A_r[8, :q_r_y] = 1;  b_r[8] = foot_size\n",
    "A_r[9,  :qdd_r_x] = 1;  b_r[9] =  contact_vel_slack\n",
    "A_r[10, :qdd_r_x] = -1; b_r[10] = contact_vel_slack\n",
    "A_r[11, :qdd_r_y] = 1;  b_r[11] = contact_vel_slack\n",
    "A_r[12, :qdd_r_y] = -1; b_r[12] = contact_vel_slack\n",
    "\n",
    "# left foot support\n",
    "A_l = AxisArray(zeros(nc, length(statesinputs)), 1:nc, statesinputs)\n",
    "b_l = AxisArray(zeros(nc), 1:nc)\n",
    "A_l[1, :qd_l_x] = 1;  b_l[1] = contact_vel_slack\n",
    "A_l[2, :qd_l_x] = -1; b_l[2] = contact_vel_slack\n",
    "A_l[3, :qd_l_y] = 1;  b_l[3] = contact_vel_slack\n",
    "A_l[4, :qd_l_y] = -1; b_l[4] = contact_vel_slack\n",
    "A_l[5, :q_cop_x] = 1;  A_l[5, :q_l_x] = -1; b_l[5] = foot_size\n",
    "A_l[6, :q_cop_x] = -1; A_l[6, :q_l_x] = 1;  b_l[6] = foot_size\n",
    "A_l[7, :q_cop_y] = 1;  A_l[7, :q_l_y] = -1; b_l[7] = foot_size\n",
    "A_l[8, :q_cop_y] = -1; A_l[8, :q_l_y] = 1;  b_l[8] = foot_size\n",
    "A_l[9,  :qdd_l_x] = 1;  b_l[9] =  contact_vel_slack\n",
    "A_l[10, :qdd_l_x] = -1; b_l[10] = contact_vel_slack\n",
    "A_l[11, :qdd_l_y] = 1;  b_l[11] = contact_vel_slack\n",
    "A_l[12, :qdd_l_y] = -1; b_l[12] = contact_vel_slack"
   ]
  },
  {
   "cell_type": "code",
   "execution_count": 9,
   "metadata": {},
   "outputs": [
    {
     "data": {
      "text/plain": [
       "2-element Array{PyCall.PyObject,1}:\n",
       " PyObject <pympc.geometry.Polytope instance at 0x12d4fc3f8>\n",
       " PyObject <pympc.geometry.Polytope instance at 0x12d867758>"
      ]
     },
     "execution_count": 9,
     "metadata": {},
     "output_type": "execute_result"
    }
   ],
   "source": [
    "XU = [\n",
    "    PyMPC.geometry.Polytope(vcat(A_bounds, A_c, A_r), mat(vcat(b_bounds, b_c, b_r)))[:assemble](),\n",
    "    PyMPC.geometry.Polytope(vcat(A_bounds, A_c, A_l), mat(vcat(b_bounds, b_c, b_l)))[:assemble]()\n",
    "]"
   ]
  },
  {
   "cell_type": "code",
   "execution_count": 10,
   "metadata": {},
   "outputs": [
    {
     "data": {
      "text/plain": [
       "PyObject <pympc.dynamical_systems.DTPWASystem object at 0x1345d7f10>"
      ]
     },
     "execution_count": 10,
     "metadata": {},
     "output_type": "execute_result"
    }
   ],
   "source": [
    "c = zeros(length(states), 1)\n",
    "\n",
    "sys = PyMPC.dynamical_systems.DTPWASystem(\n",
    "    [PyMPC.dynamical_systems.DTAffineSystem[:from_continuous](A, B, c, Δt),\n",
    "     PyMPC.dynamical_systems.DTAffineSystem[:from_continuous](A, B, c, Δt)],\n",
    "    XU)"
   ]
  },
  {
   "cell_type": "code",
   "execution_count": 11,
   "metadata": {},
   "outputs": [
    {
     "data": {
      "text/plain": [
       "PyObject <pympc.control.MPCHybridController instance at 0x12d876758>"
      ]
     },
     "execution_count": 11,
     "metadata": {},
     "output_type": "execute_result"
    }
   ],
   "source": [
    "N = 10\n",
    "Q = AxisArray(0.001 * eye(length(states)), Axis{:states_1}(states.val), Axis{:states_2}(states.val))\n",
    "Q[:qd_com_x, :qd_com_x] = 100\n",
    "Q[:qd_com_y, :qd_com_y] = 100\n",
    "\n",
    "R = AxisArray(0.001 * eye(length(inputs)), Axis{:inputs_1}(inputs.val), Axis{:inputs_2}(inputs.val))\n",
    "R[:qdd_r_x, :qdd_r_x] = 0.1\n",
    "R[:qdd_r_y, :qdd_r_y] = 0.1\n",
    "R[:qdd_l_x, :qdd_l_x] = 0.1\n",
    "R[:qdd_l_y, :qdd_l_y] = 0.1\n",
    "\n",
    "P = Q\n",
    "\n",
    "X_N = PyMPC.geometry.Polytope(vcat(X_bounds[:A], A_c[:, 1:length(states)]), mat(vcat(vec(X_bounds[:b]), b_c)))[:assemble]()\n",
    "\n",
    "controller = PyMPC.control.MPCHybridController(\n",
    "sys,\n",
    "N,\n",
    "\"two\",\n",
    "Q,\n",
    "R,\n",
    "P,\n",
    "X_N)"
   ]
  },
  {
   "cell_type": "code",
   "execution_count": 12,
   "metadata": {},
   "outputs": [
    {
     "data": {
      "text/plain": [
       "run_mpc (generic function with 1 method)"
      ]
     },
     "execution_count": 12,
     "metadata": {},
     "output_type": "execute_result"
    }
   ],
   "source": [
    "function run_mpc(controller, x0)\n",
    "    u_feedforward, x_trajectory, cost, switching_sequence = controller[:feedforward](mat(x0))\n",
    "    condensed = controller[:condense_program](switching_sequence)\n",
    "    u, cost = condensed[:solve](mat(x0))\n",
    "    active_set = condensed[:get_active_set](mat(x0), u)\n",
    "    u_offset, u_linear = condensed[:get_u_sensitivity](active_set)\n",
    "#     @show maximum(abs.(u_offset + u_linear * x0 - u))\n",
    "#     @assert maximum(abs.(u_offset + u_linear * x0 - u)) <= 0.01\n",
    "    u_feedforward[1], u_linear\n",
    "end"
   ]
  },
  {
   "cell_type": "code",
   "execution_count": 13,
   "metadata": {},
   "outputs": [
    {
     "data": {
      "text/plain": [
       "Visualizer with path prefix Symbol[:pendulum, :cop] using LCM LCMCore.LCM(Ptr{Void} @0x00007f9459a6b760, \"\", RawFD(19), LCMCore.Subscription[LCMCore.Subscription{LCMCore.SubscriptionOptions{DrakeVisualizer.Comms.CommsT,DrakeVisualizer.#handle_msg#9{DrakeVisualizer.CoreVisualizer}}}(LCMCore.SubscriptionOptions{DrakeVisualizer.Comms.CommsT,DrakeVisualizer.#handle_msg#9{DrakeVisualizer.CoreVisualizer}}(DrakeVisualizer.Comms.CommsT, DrakeVisualizer.handle_msg), Ptr{Void} @0x00007f9457767300)])"
      ]
     },
     "execution_count": 13,
     "metadata": {},
     "output_type": "execute_result"
    }
   ],
   "source": [
    "vis = Visualizer()[:pendulum]\n",
    "delete!(vis)\n",
    "setgeometry!(vis[:com], HyperSphere(Point(0., 0, 0), 0.1))\n",
    "setgeometry!(vis[:cop], HyperSphere(Point(0., 0, 0), 0.02))"
   ]
  },
  {
   "cell_type": "code",
   "execution_count": 14,
   "metadata": {},
   "outputs": [
    {
     "data": {
      "text/plain": [
       "draw (generic function with 1 method)"
      ]
     },
     "execution_count": 14,
     "metadata": {},
     "output_type": "execute_result"
    }
   ],
   "source": [
    "function draw(vis, x_, u_)\n",
    "    x = AxisArray(x_, states)\n",
    "    u = AxisArray(u_, inputs)\n",
    "    settransform!(vis[:com], Translation(x[:q_com_x], x[:q_com_y], h))\n",
    "    settransform!(vis[:cop], Translation(u[:q_cop_x], u[:q_cop_y], 0))\n",
    "    setgeometry!(vis[:feet][:r], PolyLine([Point(x[:q_r_x], x[:q_r_y], 0), Point(x[:q_com_x], x[:q_com_y], h)], 0.01, false, nothing, nothing))\n",
    "    setgeometry!(vis[:feet][:l], PolyLine([Point(x[:q_l_x], x[:q_l_y], 0), Point(x[:q_com_x], x[:q_com_y], h)], 0.01, false, nothing, nothing))\n",
    "end"
   ]
  },
  {
   "cell_type": "code",
   "execution_count": 15,
   "metadata": {},
   "outputs": [
    {
     "data": {
      "text/plain": [
       "0"
      ]
     },
     "execution_count": 15,
     "metadata": {},
     "output_type": "execute_result"
    }
   ],
   "source": [
    "x0 = AxisArray(zeros(length(states)), states)\n",
    "x0[:q_com_x] = 0\n",
    "x0[:q_com_y] = 0\n",
    "x0[:q_r_x] = 0\n",
    "x0[:q_r_y] = -0.15\n",
    "x0[:q_l_x] = 0\n",
    "x0[:q_l_y] = 0.15\n",
    "x0[:qd_com_x] = 0.0\n",
    "x0[:qd_com_y] = 0.2\n",
    "x0[:qd_r_x] = 0\n",
    "x0[:qd_r_y] = 0\n",
    "x0[:qd_l_x] = 0\n",
    "x0[:qd_l_y] = 0"
   ]
  },
  {
   "cell_type": "code",
   "execution_count": 16,
   "metadata": {
    "collapsed": true
   },
   "outputs": [],
   "source": [
    "u_feedforward, x_trajectory, cost, switching_sequence = controller[:feedforward](mat(x0))\n",
    "\n",
    "for (x, u) in zip(x_trajectory, u_feedforward)\n",
    "    draw(vis, vec(x), vec(u))\n",
    "    sleep(0.2)\n",
    "end"
   ]
  },
  {
   "cell_type": "code",
   "execution_count": 17,
   "metadata": {},
   "outputs": [
    {
     "data": {
      "text/plain": [
       "clip_cop! (generic function with 1 method)"
      ]
     },
     "execution_count": 17,
     "metadata": {},
     "output_type": "execute_result"
    }
   ],
   "source": [
    "function contact_state(x, u)\n",
    "    q_r = [x[:q_r_x], x[:q_r_y]]\n",
    "    q_l = [x[:q_l_x], x[:q_l_y]]\n",
    "    q_cop = [u[:q_cop_x], u[:q_cop_y]]\n",
    "    \n",
    "    if norm(q_cop - q_r) < norm(q_cop - q_l)\n",
    "        return :right\n",
    "    else\n",
    "        return :left\n",
    "    end\n",
    "end\n",
    "\n",
    "function clip_cop!(x, u)\n",
    "    q_r = [x[:q_r_x], x[:q_r_y]]\n",
    "    q_l = [x[:q_l_x], x[:q_l_y]]\n",
    "    q_cop = [u[:q_cop_x], u[:q_cop_y]]\n",
    "    \n",
    "    contact = contact_state(x,  u)\n",
    "    if contact == :right\n",
    "        q_target = q_r\n",
    "    else\n",
    "        q_target = q_l\n",
    "    end\n",
    "\n",
    "    m = Model(solver=GurobiSolver(OutputFlag=0))\n",
    "    @variable m cop[1:2]\n",
    "    @objective m Min sum((cop - q_cop).^2)\n",
    "    @constraints m begin\n",
    "        cop .- q_target .<= 0.04\n",
    "        q_target .- cop .<= 0.04\n",
    "    end\n",
    "        \n",
    "    solve(m)\n",
    "    u[:q_cop_x] = getvalue(cop[1])\n",
    "    u[:q_cop_y] = getvalue(cop[2])\n",
    "end"
   ]
  },
  {
   "cell_type": "code",
   "execution_count": 18,
   "metadata": {},
   "outputs": [
    {
     "data": {
      "text/plain": [
       "update (generic function with 1 method)"
      ]
     },
     "execution_count": 18,
     "metadata": {},
     "output_type": "execute_result"
    }
   ],
   "source": [
    "function update(x, u, Δt)\n",
    "    u .= clamp.(u, u_min, u_max)\n",
    "    contact = contact_state(x, u)\n",
    "    clip_cop!(x, u)\n",
    "    \n",
    "    ẋ = AxisArray(A * x + B * u, states)\n",
    "    \n",
    "    if contact_state(x, u) == :right\n",
    "        ẋ[:q_r_x] = 0\n",
    "        ẋ[:q_r_y] = 0\n",
    "    else\n",
    "        ẋ[:q_l_x] = 0\n",
    "        ẋ[:q_l_y] = 0\n",
    "    end\n",
    "    \n",
    "    x .+= Δt .* ẋ\n",
    "    \n",
    "#     if contact_state(x, u) == :right\n",
    "#         x[:qd_r_x] = 0\n",
    "#         x[:qd_r_y] = 0\n",
    "#     else\n",
    "#         x[:qd_l_x] = 0\n",
    "#         x[:qd_l_y] = 0\n",
    "#     end\n",
    "    \n",
    "    x\n",
    "end"
   ]
  },
  {
   "cell_type": "code",
   "execution_count": 33,
   "metadata": {},
   "outputs": [
    {
     "data": {
      "text/plain": [
       "generate_x0 (generic function with 1 method)"
      ]
     },
     "execution_count": 33,
     "metadata": {},
     "output_type": "execute_result"
    }
   ],
   "source": [
    "function generate_x0()\n",
    "    x0 = AxisArray(1.0 * randn(length(states)), states)\n",
    "    x0[:q_r_x] = x0[:q_com_x]\n",
    "    x0[:q_r_y] = x0[:q_com_y] - 0.15\n",
    "    x0[:q_l_x] = x0[:q_com_x]\n",
    "    x0[:q_l_y] = x0[:q_com_y] + 0.15\n",
    "    if rand([true, false])\n",
    "        x0[:qd_r_x] = 0\n",
    "        x0[:qd_r_y] = 0\n",
    "    else\n",
    "        x0[:qd_l_x] = 0\n",
    "        x0[:qd_l_y] = 0\n",
    "    end\n",
    "    x0\n",
    "end"
   ]
  },
  {
   "cell_type": "code",
   "execution_count": 39,
   "metadata": {},
   "outputs": [
    {
     "name": "stderr",
     "output_type": "stream",
     "text": [
      "Progress: 100%|█████████████████████████████████████████| Time: 0:00:03\n"
     ]
    }
   ],
   "source": [
    "@showprogress for i in 1:100\n",
    "    x0 = generate_x0()\n",
    "    u_feedforward, x_trajectory, cost, switching_sequence = controller[:feedforward](mat(x0))\n",
    "    if !isnan(x_trajectory[1][1])\n",
    "        for (x, u) in zip(x_trajectory, u_feedforward)\n",
    "            draw(vis, vec(x), vec(u))\n",
    "            sleep(0.1)\n",
    "        end\n",
    "        break\n",
    "    end\n",
    "end"
   ]
  },
  {
   "cell_type": "code",
   "execution_count": 22,
   "metadata": {},
   "outputs": [
    {
     "data": {
      "text/plain": [
       "simulate (generic function with 2 methods)"
      ]
     },
     "execution_count": 22,
     "metadata": {},
     "output_type": "execute_result"
    }
   ],
   "source": [
    "function simulate(x0, control, ts::StepRangeLen=0:0.01:5)\n",
    "    x = copy(x0)\n",
    "    for t in ts\n",
    "        u = AxisArray(control(x), inputs)\n",
    "        x = update(x, u, step(ts))\n",
    "        draw(vis, x, u)\n",
    "        sleep(step(ts))\n",
    "    end\n",
    "end"
   ]
  },
  {
   "cell_type": "code",
   "execution_count": 23,
   "metadata": {},
   "outputs": [],
   "source": [
    "x = simulate(x0, x -> run_mpc(controller, x)[1][1:length(inputs)], 0:0.1:1)"
   ]
  },
  {
   "cell_type": "code",
   "execution_count": null,
   "metadata": {
    "collapsed": true
   },
   "outputs": [],
   "source": []
  }
 ],
 "metadata": {
  "kernelspec": {
   "display_name": "Julia 0.6.0-rc2",
   "language": "julia",
   "name": "julia-0.6"
  },
  "language_info": {
   "file_extension": ".jl",
   "mimetype": "application/julia",
   "name": "julia",
   "version": "0.6.0"
  }
 },
 "nbformat": 4,
 "nbformat_minor": 2
}
