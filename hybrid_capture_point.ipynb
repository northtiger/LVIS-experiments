{
 "cells": [
  {
   "cell_type": "code",
   "execution_count": 1,
   "metadata": {},
   "outputs": [
    {
     "name": "stderr",
     "output_type": "stream",
     "text": [
      "\u001b[1m\u001b[33mWARNING: \u001b[39m\u001b[22m\u001b[33mGurobi reported infeasible or unbounded. Set InfUnbdInfo=1 for more specific status.\u001b[39m\n"
     ]
    },
    {
     "name": "stdout",
     "output_type": "stream",
     "text": [
      "\u001b[1m\u001b[37mTest Summary:    | \u001b[39m\u001b[22m\u001b[1m\u001b[32mPass  \u001b[39m\u001b[22m\u001b[1m\u001b[36mTotal\u001b[39m\u001b[22m\n",
      "test sensitivity | \u001b[32m 267  \u001b[39m\u001b[36m  267\u001b[39m\n"
     ]
    },
    {
     "data": {
      "text/plain": [
       "PyMPC"
      ]
     },
     "execution_count": 1,
     "metadata": {},
     "output_type": "execute_result"
    }
   ],
   "source": [
    "include(\"pympc.jl\")"
   ]
  },
  {
   "cell_type": "code",
   "execution_count": 2,
   "metadata": {},
   "outputs": [
    {
     "data": {
      "text/plain": [
       "true"
      ]
     },
     "execution_count": 2,
     "metadata": {},
     "output_type": "execute_result"
    }
   ],
   "source": [
    "using JuMP, Gurobi\n",
    "using ProgressMeter\n",
    "using DrakeVisualizer, GeometryTypes, CoordinateTransformations\n",
    "DrakeVisualizer.any_open_windows() || DrakeVisualizer.new_window()"
   ]
  },
  {
   "cell_type": "code",
   "execution_count": 3,
   "metadata": {},
   "outputs": [],
   "source": [
    "struct StateIndex <: Integer\n",
    "    name::Symbol\n",
    "end\n",
    "\n",
    "const states = StateIndex.([\n",
    ":q_com_x\n",
    ":q_com_y\n",
    ":q_r_x\n",
    ":q_r_y\n",
    ":q_l_x\n",
    ":q_l_y\n",
    ":q_cop_x\n",
    ":q_cop_y\n",
    ":qd_com_x\n",
    ":qd_com_y\n",
    ":qd_r_x\n",
    ":qd_r_y\n",
    ":qd_l_x\n",
    ":qd_l_y\n",
    "])\n",
    "\n",
    "for s in states\n",
    "    @eval $(s.name) = $s\n",
    "end\n",
    "\n",
    "Base.to_index(s::StateIndex) = findfirst(states, s)"
   ]
  },
  {
   "cell_type": "code",
   "execution_count": 4,
   "metadata": {},
   "outputs": [
    {
     "data": {
      "text/plain": [
       "mat (generic function with 1 method)"
      ]
     },
     "execution_count": 4,
     "metadata": {},
     "output_type": "execute_result"
    }
   ],
   "source": [
    "mat(x::AbstractArray) = reshape(x, length(x), 1)"
   ]
  },
  {
   "cell_type": "code",
   "execution_count": 5,
   "metadata": {},
   "outputs": [],
   "source": [
    "struct InputIndex <: Integer\n",
    "    name::Symbol\n",
    "end\n",
    "\n",
    "const inputs = InputIndex.([\n",
    "    :qdd_r_x,\n",
    "    :qdd_r_y,\n",
    "    :qdd_l_x,\n",
    "    :qdd_l_y,\n",
    "    :qd_cop_x,\n",
    "    :qd_cop_y\n",
    "])\n",
    "\n",
    "for s in inputs\n",
    "    @eval $(s.name) = $s\n",
    "end\n",
    "\n",
    "Base.to_index(s::InputIndex) = findfirst(inputs, s)"
   ]
  },
  {
   "cell_type": "code",
   "execution_count": 6,
   "metadata": {},
   "outputs": [
    {
     "data": {
      "text/plain": [
       "1.0"
      ]
     },
     "execution_count": 6,
     "metadata": {},
     "output_type": "execute_result"
    }
   ],
   "source": [
    "# ICP dynamics\n",
    "# rdd = omega^2 (r - r_cop)\n",
    "\n",
    "g = 9.8\n",
    "h = 1.0\n",
    "ω = √(g / h)\n",
    "Δt = 0.1\n",
    "\n",
    "A = zeros(length(states), length(states))\n",
    "\n",
    "for (q, qd) in zip([q_com_x, q_com_y, q_r_x, q_r_y, q_l_x, q_l_y], [qd_com_x, qd_com_y, qd_r_x, qd_r_y, qd_l_x, qd_l_y])\n",
    "    A[q, qd] = 1\n",
    "end\n",
    "A[qd_com_x, q_com_x] = ω^2\n",
    "A[qd_com_y, q_com_y] = ω^2\n",
    "A[qd_com_x, q_cop_x] = -ω^2\n",
    "A[qd_com_y, q_cop_y] = -ω^2\n",
    "\n",
    "B = zeros(length(states), length(inputs))\n",
    "B[q_cop_x, qd_cop_x] = 1.0\n",
    "B[q_cop_y, qd_cop_y] = 1.0\n",
    "B[qd_r_x, qdd_r_x] = 1.0\n",
    "B[qd_r_y, qdd_r_y] = 1.0\n",
    "B[qd_l_x, qdd_l_x] = 1.0\n",
    "B[qd_l_y, qdd_l_y] = 1.0\n",
    "\n"
   ]
  },
  {
   "cell_type": "code",
   "execution_count": 52,
   "metadata": {},
   "outputs": [
    {
     "data": {
      "text/plain": [
       "2-element Array{PyCall.PyObject,1}:\n",
       " PyObject <pympc.geometry.Polytope instance at 0x13f6d4560>\n",
       " PyObject <pympc.geometry.Polytope instance at 0x13f6d4200>"
      ]
     },
     "execution_count": 52,
     "metadata": {},
     "output_type": "execute_result"
    }
   ],
   "source": [
    "# state constraint regions\n",
    "\n",
    "# bounds\n",
    "x_min = fill(-Inf, length(states))\n",
    "x_min[q_com_x] = -10\n",
    "x_min[q_com_y] = -10\n",
    "x_min[q_r_x] = -10\n",
    "x_min[q_r_y] = -10\n",
    "x_min[q_l_x] = -10\n",
    "x_min[q_l_y] = -10\n",
    "x_min[q_cop_x] = -10\n",
    "x_min[q_cop_y] = -10\n",
    "x_min[qd_com_x] = -10\n",
    "x_min[qd_com_y] = -10\n",
    "x_min[qd_r_x] = -10\n",
    "x_min[qd_r_y] = -10\n",
    "x_min[qd_l_x] = -10\n",
    "x_min[qd_l_y] = -10\n",
    "x_max = -x_min\n",
    "X_bounds = PyMPC.geometry.Polytope[:from_bounds](mat(x_min), mat(x_max))[:assemble]()\n",
    "\n",
    "\n",
    "outward_step = 0.3\n",
    "inward_step = 0.1\n",
    "forward_step = 0.4\n",
    "backward_step = 0.4\n",
    "\n",
    "# common state constraints\n",
    "# -0.3 <= (r - c) <= -0.1\n",
    "# -backward <= r - c <= forward\n",
    "# 0.1 <= l - c <= 0.3\n",
    "A_c = zeros(8, length(states))\n",
    "b_c = zeros(8)\n",
    "A_c[1, q_r_x] = 1\n",
    "A_c[1, q_com_x] = -1\n",
    "b_c[1] = forward_step\n",
    "\n",
    "A_c[2, q_r_x] = -1\n",
    "A_c[2, q_com_x] = 1\n",
    "b_c[2] = backward_step\n",
    "\n",
    "A_c[3, q_l_x] = 1\n",
    "A_c[3, q_com_x] = -1\n",
    "b_c[3] = forward_step\n",
    "\n",
    "A_c[4, q_l_x] = -1\n",
    "A_c[4, q_com_x] = 1\n",
    "b_c[4] = backward_step\n",
    "\n",
    "A_c[5, q_r_y] = 1\n",
    "A_c[5, q_com_y] = -1\n",
    "b_c[5] = -inward_step\n",
    "\n",
    "A_c[6, q_r_y] = -1\n",
    "A_c[6, q_com_y] = 1\n",
    "b_c[6] = outward_step\n",
    "\n",
    "A_c[7, q_l_y] = 1\n",
    "A_c[7, q_com_y] = -1\n",
    "b_c[7] = outward_step\n",
    "\n",
    "A_c[8, q_l_y] = -1\n",
    "A_c[8, q_com_y] = 1\n",
    "b_c[8] = -inward_step\n",
    "\n",
    "# right foot support\n",
    "A_r = zeros(8, length(states))\n",
    "A_r[1, qd_r_x] = 1.0\n",
    "A_r[2, qd_r_x] = -1.0\n",
    "A_r[3, qd_r_y] = 1.0\n",
    "A_r[4, qd_r_y] = -1.0\n",
    "A_r[5, q_cop_x] = 1.0\n",
    "A_r[5, q_r_x] = -1.0\n",
    "A_r[6, q_cop_x] = -1.0\n",
    "A_r[6, q_r_x] = 1.0\n",
    "A_r[7, q_cop_y] = 1.0\n",
    "A_r[7, q_r_y] = -1.0\n",
    "A_r[8, q_cop_y] = -1.0\n",
    "A_r[8, q_r_y] = 1.0\n",
    "\n",
    "b_r = [0.01, 0.01, 0.01, 0.01, 0.05, 0.05, 0.05, 0.05]\n",
    "\n",
    "# left foot support\n",
    "A_l = zeros(8, length(states))\n",
    "A_l[1, qd_l_x] = 1.0\n",
    "A_l[2, qd_l_x] = -1.0\n",
    "A_l[3, qd_l_y] = 1.0\n",
    "A_l[4, qd_l_y] = -1.0\n",
    "A_l[5, q_cop_x] = 1.0\n",
    "A_l[5, q_l_x] = -1.0\n",
    "A_l[6, q_cop_x] = -1.0\n",
    "A_l[6, q_l_x] = 1.0\n",
    "A_l[7, q_cop_y] = 1.0\n",
    "A_l[7, q_l_y] = -1.0\n",
    "A_l[8, q_cop_y] = -1.0\n",
    "A_l[8, q_l_y] = 1.0\n",
    "\n",
    "b_l = [0.01, 0.01, 0.01, 0.01, 0.05, 0.05, 0.05, 0.05]\n",
    "\n",
    "X = [PyMPC.geometry.Polytope(vcat(X_bounds[:A], A_c, A_r), mat(vcat(vec(X_bounds[:b]), b_c, b_r)))[:assemble](),\n",
    "     PyMPC.geometry.Polytope(vcat(X_bounds[:A], A_c, A_l), mat(vcat(vec(X_bounds[:b]), b_c, b_l)))[:assemble]()]\n",
    "\n",
    "# Input constraint regions\n",
    "\n",
    "max_foot_accel = 30\n",
    "\n",
    "u_min = fill(-Inf, length(inputs))\n",
    "u_min[qd_cop_x] = -1000\n",
    "u_min[qd_cop_y] = -1000\n",
    "u_min[qdd_r_x] = -max_foot_accel\n",
    "u_min[qdd_r_y] = -max_foot_accel\n",
    "u_min[qdd_l_x] = -max_foot_accel\n",
    "u_min[qdd_l_y] = -max_foot_accel\n",
    "u_max = -u_min\n",
    "U_bounds = PyMPC.geometry.Polytope[:from_bounds](mat(u_min), mat(u_max))[:assemble]()\n",
    "\n",
    "A_u_r = zeros(4, length(inputs))\n",
    "b_u_r = zeros(4)\n",
    "A_u_r[1, qdd_r_x] = 1\n",
    "b_u_r[1] = 0.01\n",
    "A_u_r[2, qdd_r_x] = -1\n",
    "b_u_r[2] = 0.01\n",
    "A_u_r[3, qdd_r_y] = 1\n",
    "b_u_r[3] = 0.01\n",
    "A_u_r[4, qdd_r_y] = -1\n",
    "b_u_r[4] = 0.01\n",
    "\n",
    "A_u_l = zeros(4, length(inputs))\n",
    "b_u_l = zeros(4)\n",
    "A_u_l[1, qdd_l_x] = 1\n",
    "b_u_l[1] = 0.01\n",
    "A_u_l[2, qdd_l_x] = -1\n",
    "b_u_l[2] = 0.01\n",
    "A_u_l[3, qdd_l_y] = 1\n",
    "b_u_l[3] = 0.01\n",
    "A_u_l[4, qdd_l_y] = -1\n",
    "b_u_l[4] = 0.01\n",
    "\n",
    "X = [PyMPC.geometry.Polytope(vcat(X_bounds[:A], A_c, A_r), mat(vcat(vec(X_bounds[:b]), b_c, b_r)))[:assemble](),\n",
    "     PyMPC.geometry.Polytope(vcat(X_bounds[:A], A_c, A_l), mat(vcat(vec(X_bounds[:b]), b_c, b_l)))[:assemble]()]\n",
    "\n",
    "U = [PyMPC.geometry.Polytope(vcat(U_bounds[:A], A_u_r), vcat(U_bounds[:b], mat(b_u_r)))[:assemble](),\n",
    "     PyMPC.geometry.Polytope(vcat(U_bounds[:A], A_u_l), vcat(U_bounds[:b], mat(b_u_l)))[:assemble]()]"
   ]
  },
  {
   "cell_type": "code",
   "execution_count": 53,
   "metadata": {},
   "outputs": [
    {
     "data": {
      "text/plain": [
       "PyObject <pympc.dynamical_systems.DTPWASystem object at 0x13d76b4d0>"
      ]
     },
     "execution_count": 53,
     "metadata": {},
     "output_type": "execute_result"
    }
   ],
   "source": [
    "c = zeros(length(states), 1)\n",
    "\n",
    "sys = PyMPC.dynamical_systems.DTPWASystem(\n",
    "    [PyMPC.dynamical_systems.DTAffineSystem[:from_continuous](A, B, c, Δt),\n",
    "     PyMPC.dynamical_systems.DTAffineSystem[:from_continuous](A, B, c, Δt)],\n",
    "    X,\n",
    "    U)"
   ]
  },
  {
   "cell_type": "code",
   "execution_count": 54,
   "metadata": {},
   "outputs": [
    {
     "data": {
      "text/plain": [
       "PyObject <pympc.control.MPCHybridController instance at 0x13f6d42d8>"
      ]
     },
     "execution_count": 54,
     "metadata": {},
     "output_type": "execute_result"
    }
   ],
   "source": [
    "N = 10\n",
    "Q = 0.001 * eye(length(states))\n",
    "Q[qd_com_x, qd_com_x] = 100\n",
    "Q[qd_com_y, qd_com_y] = 100\n",
    "\n",
    "R = 0.001 * eye(length(inputs))\n",
    "R[qdd_r_x, qdd_r_x] = 0.1\n",
    "R[qdd_r_y, qdd_r_y] = 0.1\n",
    "R[qdd_l_x, qdd_l_x] = 0.1\n",
    "R[qdd_l_y, qdd_l_y] = 0.1\n",
    "\n",
    "P = Q\n",
    "\n",
    "X_N = PyMPC.geometry.Polytope(vcat(X_bounds[:A], A_c), mat(vcat(vec(X_bounds[:b]), b_c)))[:assemble]()\n",
    "\n",
    "controller = PyMPC.control.MPCHybridController(\n",
    "sys,\n",
    "N,\n",
    "\"two\",\n",
    "Q,\n",
    "R,\n",
    "P,\n",
    "X_N)"
   ]
  },
  {
   "cell_type": "code",
   "execution_count": 55,
   "metadata": {},
   "outputs": [
    {
     "data": {
      "text/plain": [
       "run_mpc (generic function with 1 method)"
      ]
     },
     "execution_count": 55,
     "metadata": {},
     "output_type": "execute_result"
    }
   ],
   "source": [
    "function run_mpc(controller, x0)\n",
    "    u_feedforward, x_trajectory, cost, switching_sequence = controller[:feedforward](mat(x0))\n",
    "    condensed = controller[:condense_program](switching_sequence)\n",
    "    u, cost = condensed[:solve](mat(x0))\n",
    "    active_set = condensed[:get_active_set](mat(x0), u)\n",
    "    u_offset, u_linear = condensed[:get_u_sensitivity](active_set)\n",
    "#     @show maximum(abs.(u_offset + u_linear * x0 - u))\n",
    "#     @assert maximum(abs.(u_offset + u_linear * x0 - u)) <= 0.01\n",
    "    u_feedforward[1], u_linear\n",
    "end"
   ]
  },
  {
   "cell_type": "code",
   "execution_count": 56,
   "metadata": {},
   "outputs": [
    {
     "data": {
      "text/plain": [
       "Visualizer with path prefix Symbol[:pendulum, :cop] using LCM LCMCore.LCM(Ptr{Void} @0x00007fdefddd5d80, \"\", RawFD(59), LCMCore.Subscription[LCMCore.Subscription{LCMCore.SubscriptionOptions{DrakeVisualizer.Comms.CommsT,DrakeVisualizer.#handle_msg#9{DrakeVisualizer.CoreVisualizer}}}(LCMCore.SubscriptionOptions{DrakeVisualizer.Comms.CommsT,DrakeVisualizer.#handle_msg#9{DrakeVisualizer.CoreVisualizer}}(DrakeVisualizer.Comms.CommsT, DrakeVisualizer.handle_msg), Ptr{Void} @0x00007fdf02ed49c0)])"
      ]
     },
     "execution_count": 56,
     "metadata": {},
     "output_type": "execute_result"
    }
   ],
   "source": [
    "vis = Visualizer()[:pendulum]\n",
    "delete!(vis)\n",
    "setgeometry!(vis[:com], HyperSphere(Point(0., 0, 0), 0.1))\n",
    "setgeometry!(vis[:cop], HyperSphere(Point(0., 0, 0), 0.02))"
   ]
  },
  {
   "cell_type": "code",
   "execution_count": 57,
   "metadata": {},
   "outputs": [
    {
     "data": {
      "text/plain": [
       "draw_state (generic function with 1 method)"
      ]
     },
     "execution_count": 57,
     "metadata": {},
     "output_type": "execute_result"
    }
   ],
   "source": [
    "function draw_state(vis, x)\n",
    "    settransform!(vis[:com], Translation(x[q_com_x], x[q_com_y], h))\n",
    "    settransform!(vis[:cop], Translation(x[q_cop_x], x[q_cop_y], 0))\n",
    "    setgeometry!(vis[:feet][:r], PolyLine([Point(x[q_r_x], x[q_r_y], 0), Point(x[q_com_x], x[q_com_y], h)], 0.01, false, nothing, nothing))\n",
    "    setgeometry!(vis[:feet][:l], PolyLine([Point(x[q_l_x], x[q_l_y], 0), Point(x[q_com_x], x[q_com_y], h)], 0.01, false, nothing, nothing))\n",
    "end"
   ]
  },
  {
   "cell_type": "code",
   "execution_count": 58,
   "metadata": {},
   "outputs": [],
   "source": [
    "x0 = zeros(length(states))\n",
    "x0[q_com_x] = 0\n",
    "x0[q_com_y] = 0\n",
    "x0[q_r_x] = 0\n",
    "x0[q_r_y] = -0.15\n",
    "x0[q_l_x] = 0\n",
    "x0[q_l_y] = 0.15\n",
    "x0[q_cop_x] = 0\n",
    "x0[q_cop_y] = -0.15\n",
    "x0[qd_com_x] = 0.3\n",
    "x0[qd_com_y] = 0.3\n",
    "x0[qd_r_x] = 0\n",
    "x0[qd_r_y] = 0\n",
    "x0[qd_l_x] = 0\n",
    "x0[qd_l_y] = 0\n",
    "\n",
    "@assert X[1][:applies_to](mat(x0))\n",
    "@assert !(X[2][:applies_to](mat(x0)))"
   ]
  },
  {
   "cell_type": "code",
   "execution_count": 59,
   "metadata": {},
   "outputs": [
    {
     "data": {
      "text/plain": [
       "clip_cop! (generic function with 1 method)"
      ]
     },
     "execution_count": 59,
     "metadata": {},
     "output_type": "execute_result"
    }
   ],
   "source": [
    "function contact_state(x)\n",
    "    q_r = [x[q_r_x], x[q_r_y]]\n",
    "    q_l = [x[q_l_x], x[q_l_y]]\n",
    "    q_cop = [x[q_cop_x], x[q_cop_y]]\n",
    "    \n",
    "    if norm(q_cop - q_r) < norm(q_cop - q_l)\n",
    "        return :right\n",
    "    else\n",
    "        return :left\n",
    "    end\n",
    "end\n",
    "\n",
    "function clip_cop!(x)\n",
    "    q_r = [x[q_r_x], x[q_r_y]]\n",
    "    q_l = [x[q_l_x], x[q_l_y]]\n",
    "    q_cop = [x[q_cop_x], x[q_cop_y]]\n",
    "    \n",
    "    contact = contact_state(x)\n",
    "    if contact == :right\n",
    "        q_target = q_r\n",
    "    else\n",
    "        q_target = q_l\n",
    "    end\n",
    "\n",
    "    m = Model(solver=GurobiSolver(OutputFlag=0))\n",
    "    @variable m cop[1:2]\n",
    "    @objective m Min sum((cop - q_cop).^2)\n",
    "    @constraints m begin\n",
    "        cop .- q_target .<= 0.04\n",
    "        q_target .- cop .<= 0.04\n",
    "    end\n",
    "        \n",
    "    solve(m)\n",
    "    x[q_cop_x] = getvalue(cop[1])\n",
    "    x[q_cop_y] = getvalue(cop[2])\n",
    "    x, contact\n",
    "end"
   ]
  },
  {
   "cell_type": "code",
   "execution_count": 60,
   "metadata": {},
   "outputs": [
    {
     "data": {
      "text/plain": [
       "update (generic function with 1 method)"
      ]
     },
     "execution_count": 60,
     "metadata": {},
     "output_type": "execute_result"
    }
   ],
   "source": [
    "function update(x, u, Δt)\n",
    "    u .= clamp.(u, u_min, u_max)\n",
    "    ẋ = A * x + B * u\n",
    "    \n",
    "    if contact_state(x) == :right\n",
    "        ẋ[q_r_x] = 0\n",
    "        ẋ[q_r_y] = 0\n",
    "    else\n",
    "        ẋ[q_l_x] = 0\n",
    "        ẋ[q_l_y] = 0\n",
    "    end\n",
    "    \n",
    "    x .+= Δt .* ẋ\n",
    "    x\n",
    "end"
   ]
  },
  {
   "cell_type": "code",
   "execution_count": 62,
   "metadata": {},
   "outputs": [],
   "source": [
    "u_feedforward, x_trajectory, cost, switching_sequence = controller[:feedforward](mat(x0))\n",
    "\n",
    "for x in x_trajectory\n",
    "    draw_state(vis, x)\n",
    "    sleep(0.1)\n",
    "end"
   ]
  },
  {
   "cell_type": "code",
   "execution_count": 63,
   "metadata": {},
   "outputs": [
    {
     "data": {
      "text/plain": [
       "generate_x0 (generic function with 1 method)"
      ]
     },
     "execution_count": 63,
     "metadata": {},
     "output_type": "execute_result"
    }
   ],
   "source": [
    "function generate_x0()\n",
    "    x0 = 0.05 * randn(length(states))\n",
    "    x0[q_r_x] = x0[q_com_x]\n",
    "    x0[q_r_y] = x0[q_com_y] - 0.15\n",
    "    x0[q_l_x] = x0[q_com_x]\n",
    "    x0[q_l_y] = x0[q_com_y] + 0.15\n",
    "    if rand([true, false])\n",
    "        x0[q_cop_x] = x0[q_r_x]\n",
    "        x0[q_cop_y] = x0[q_r_y]\n",
    "    else\n",
    "        x0[q_cop_x] = x0[q_l_x]\n",
    "        x0[q_cop_y] = x0[q_l_y]\n",
    "    end\n",
    "    x0\n",
    "end"
   ]
  },
  {
   "cell_type": "code",
   "execution_count": 67,
   "metadata": {},
   "outputs": [
    {
     "name": "stderr",
     "output_type": "stream",
     "text": [
      "Progress: 100%|█████████████████████████████████████████| Time: 0:00:05\n"
     ]
    }
   ],
   "source": [
    "@showprogress for i in 1:100\n",
    "    x0 = generate_x0()\n",
    "    draw_state(vis, x0)\n",
    "    u_feedforward, x_trajectory, cost, switching_sequence = controller[:feedforward](mat(x0))\n",
    "    if !isnan(x_trajectory[1][1])\n",
    "        for x in x_trajectory\n",
    "            draw_state(vis, x)\n",
    "            sleep(0.1)\n",
    "        end\n",
    "        break\n",
    "    end\n",
    "end"
   ]
  },
  {
   "cell_type": "code",
   "execution_count": 45,
   "metadata": {
    "collapsed": true
   },
   "outputs": [],
   "source": [
    "for x in x_trajectory\n",
    "    draw_state(vis, x)\n",
    "    sleep(0.1)\n",
    "end"
   ]
  },
  {
   "cell_type": "code",
   "execution_count": 18,
   "metadata": {},
   "outputs": [
    {
     "data": {
      "text/plain": [
       "simulate (generic function with 2 methods)"
      ]
     },
     "execution_count": 18,
     "metadata": {},
     "output_type": "execute_result"
    }
   ],
   "source": [
    "function simulate(x0, control, ts::StepRangeLen=0:0.01:5)\n",
    "    x = copy(x0)\n",
    "    for t in ts\n",
    "        clip_cop!(x)\n",
    "        @show x\n",
    "        u = control(x)\n",
    "        x = update(x, u, step(ts))\n",
    "#         ẋ = A * x + B * u\n",
    "#         x .+= step(ts) .* ẋ\n",
    "        draw_state(vis, x)\n",
    "        sleep(step(ts))\n",
    "    end\n",
    "end"
   ]
  },
  {
   "cell_type": "code",
   "execution_count": 19,
   "metadata": {},
   "outputs": [
    {
     "name": "stdout",
     "output_type": "stream",
     "text": [
      "x = [-0.227414, 0.572656, -1.28893, 0.818913, 0.588237, -0.207815, -1.32893, 0.858913, -1.12338, -0.935994, 0.149567, -1.43438, 1.21967, 0.0930387]\n"
     ]
    },
    {
     "ename": "LoadError",
     "evalue": "\u001b[91mPyError (ccall(@pysym(:PyObject_Call), PyPtr, (PyPtr, PyPtr, PyPtr), o, arg, C_NULL)) <type 'exceptions.TypeError'>\nTypeError('list indices must be integers, not float',)\n  File \"/Users/rdeits/locomotion/explorations/learning-mpc/py-mpc/pympc/control.py\", line 384, in condense_program\n    return OCP_condenser(self.sys, self.objective_norm, self.Q, self.R, self.P, self.X_N, switching_sequence)\n  File \"/Users/rdeits/locomotion/explorations/learning-mpc/py-mpc/pympc/control.py\", line 896, in OCP_condenser\n    G, W, E = constraint_condenser(sys, X_N, switching_sequence)\n  File \"/Users/rdeits/locomotion/explorations/learning-mpc/py-mpc/pympc/control.py\", line 907, in constraint_condenser\n    G_u, W_u, E_u = input_constraint_condenser(sys, switching_sequence)\n  File \"/Users/rdeits/locomotion/explorations/learning-mpc/py-mpc/pympc/control.py\", line 929, in input_constraint_condenser\n    U_sequence = [sys.input_domains[switching_sequence[i]] for i in range(N)]\n\u001b[39m",
     "output_type": "error",
     "traceback": [
      "\u001b[91mPyError (ccall(@pysym(:PyObject_Call), PyPtr, (PyPtr, PyPtr, PyPtr), o, arg, C_NULL)) <type 'exceptions.TypeError'>\nTypeError('list indices must be integers, not float',)\n  File \"/Users/rdeits/locomotion/explorations/learning-mpc/py-mpc/pympc/control.py\", line 384, in condense_program\n    return OCP_condenser(self.sys, self.objective_norm, self.Q, self.R, self.P, self.X_N, switching_sequence)\n  File \"/Users/rdeits/locomotion/explorations/learning-mpc/py-mpc/pympc/control.py\", line 896, in OCP_condenser\n    G, W, E = constraint_condenser(sys, X_N, switching_sequence)\n  File \"/Users/rdeits/locomotion/explorations/learning-mpc/py-mpc/pympc/control.py\", line 907, in constraint_condenser\n    G_u, W_u, E_u = input_constraint_condenser(sys, switching_sequence)\n  File \"/Users/rdeits/locomotion/explorations/learning-mpc/py-mpc/pympc/control.py\", line 929, in input_constraint_condenser\n    U_sequence = [sys.input_domains[switching_sequence[i]] for i in range(N)]\n\u001b[39m",
      "",
      "Stacktrace:",
      " [1] \u001b[1mpyerr_check\u001b[22m\u001b[22m at \u001b[1m/Users/rdeits/locomotion/explorations/learning-mpc/packages/v0.6/PyCall/src/exception.jl:56\u001b[22m\u001b[22m [inlined]",
      " [2] \u001b[1mpyerr_check\u001b[22m\u001b[22m at \u001b[1m/Users/rdeits/locomotion/explorations/learning-mpc/packages/v0.6/PyCall/src/exception.jl:61\u001b[22m\u001b[22m [inlined]",
      " [3] \u001b[1mmacro expansion\u001b[22m\u001b[22m at \u001b[1m/Users/rdeits/locomotion/explorations/learning-mpc/packages/v0.6/PyCall/src/exception.jl:81\u001b[22m\u001b[22m [inlined]",
      " [4] \u001b[1m#_pycall#66\u001b[22m\u001b[22m\u001b[1m(\u001b[22m\u001b[22m::Array{Any,1}, ::Function, ::PyCall.PyObject, ::NTuple{10,Float64}, ::Vararg{NTuple{10,Float64},N} where N\u001b[1m)\u001b[22m\u001b[22m at \u001b[1m/Users/rdeits/locomotion/explorations/learning-mpc/packages/v0.6/PyCall/src/PyCall.jl:549\u001b[22m\u001b[22m",
      " [5] \u001b[1m_pycall\u001b[22m\u001b[22m\u001b[1m(\u001b[22m\u001b[22m::PyCall.PyObject, ::NTuple{10,Float64}, ::Vararg{NTuple{10,Float64},N} where N\u001b[1m)\u001b[22m\u001b[22m at \u001b[1m/Users/rdeits/locomotion/explorations/learning-mpc/packages/v0.6/PyCall/src/PyCall.jl:537\u001b[22m\u001b[22m",
      " [6] \u001b[1m#pycall#70\u001b[22m\u001b[22m\u001b[1m(\u001b[22m\u001b[22m::Array{Any,1}, ::Function, ::PyCall.PyObject, ::Type{PyCall.PyAny}, ::NTuple{10,Float64}, ::Vararg{NTuple{10,Float64},N} where N\u001b[1m)\u001b[22m\u001b[22m at \u001b[1m/Users/rdeits/locomotion/explorations/learning-mpc/packages/v0.6/PyCall/src/PyCall.jl:571\u001b[22m\u001b[22m",
      " [7] \u001b[1mpycall\u001b[22m\u001b[22m\u001b[1m(\u001b[22m\u001b[22m::PyCall.PyObject, ::Type{PyCall.PyAny}, ::NTuple{10,Float64}, ::Vararg{NTuple{10,Float64},N} where N\u001b[1m)\u001b[22m\u001b[22m at \u001b[1m/Users/rdeits/locomotion/explorations/learning-mpc/packages/v0.6/PyCall/src/PyCall.jl:571\u001b[22m\u001b[22m",
      " [8] \u001b[1m#call#71\u001b[22m\u001b[22m\u001b[1m(\u001b[22m\u001b[22m::Array{Any,1}, ::PyCall.PyObject, ::NTuple{10,Float64}, ::Vararg{NTuple{10,Float64},N} where N\u001b[1m)\u001b[22m\u001b[22m at \u001b[1m/Users/rdeits/locomotion/explorations/learning-mpc/packages/v0.6/PyCall/src/PyCall.jl:574\u001b[22m\u001b[22m",
      " [9] \u001b[1m(::PyCall.PyObject)\u001b[22m\u001b[22m\u001b[1m(\u001b[22m\u001b[22m::NTuple{10,Float64}, ::Vararg{NTuple{10,Float64},N} where N\u001b[1m)\u001b[22m\u001b[22m at \u001b[1m/Users/rdeits/locomotion/explorations/learning-mpc/packages/v0.6/PyCall/src/PyCall.jl:574\u001b[22m\u001b[22m",
      " [10] \u001b[1mrun_mpc\u001b[22m\u001b[22m\u001b[1m(\u001b[22m\u001b[22m::PyCall.PyObject, ::Array{Float64,1}\u001b[1m)\u001b[22m\u001b[22m at \u001b[1m./In[10]:3\u001b[22m\u001b[22m",
      " [11] \u001b[1m#5\u001b[22m\u001b[22m at \u001b[1m./In[19]:1\u001b[22m\u001b[22m [inlined]",
      " [12] \u001b[1msimulate\u001b[22m\u001b[22m\u001b[1m(\u001b[22m\u001b[22m::Array{Float64,1}, ::##5#6, ::StepRangeLen{Float64,Base.TwicePrecision{Float64},Base.TwicePrecision{Float64}}\u001b[1m)\u001b[22m\u001b[22m at \u001b[1m./In[18]:6\u001b[22m\u001b[22m"
     ]
    }
   ],
   "source": [
    "x = simulate(x0, x -> run_mpc(controller, x)[1][1:length(inputs)], 0:0.1:1)"
   ]
  },
  {
   "cell_type": "code",
   "execution_count": null,
   "metadata": {
    "collapsed": true
   },
   "outputs": [],
   "source": []
  }
 ],
 "metadata": {
  "kernelspec": {
   "display_name": "Julia 0.6.0-rc2",
   "language": "julia",
   "name": "julia-0.6"
  },
  "language_info": {
   "file_extension": ".jl",
   "mimetype": "application/julia",
   "name": "julia",
   "version": "0.6.0"
  }
 },
 "nbformat": 4,
 "nbformat_minor": 2
}
