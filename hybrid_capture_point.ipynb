{
 "cells": [
  {
   "cell_type": "code",
   "execution_count": 2,
   "metadata": {},
   "outputs": [
    {
     "name": "stderr",
     "output_type": "stream",
     "text": [
      "\u001b[1m\u001b[33mWARNING: \u001b[39m\u001b[22m\u001b[33mGurobi reported infeasible or unbounded. Set InfUnbdInfo=1 for more specific status.\u001b[39m\n"
     ]
    },
    {
     "name": "stdout",
     "output_type": "stream",
     "text": [
      "\u001b[1m\u001b[37mTest Summary:    | \u001b[39m\u001b[22m\u001b[1m\u001b[32mPass  \u001b[39m\u001b[22m\u001b[1m\u001b[36mTotal\u001b[39m\u001b[22m\n",
      "test sensitivity | \u001b[32m 267  \u001b[39m\u001b[36m  267\u001b[39m\n"
     ]
    },
    {
     "data": {
      "text/plain": [
       "PyMPC"
      ]
     },
     "execution_count": 2,
     "metadata": {},
     "output_type": "execute_result"
    }
   ],
   "source": [
    "include(\"pympc.jl\")"
   ]
  },
  {
   "cell_type": "code",
   "execution_count": 34,
   "metadata": {},
   "outputs": [
    {
     "data": {
      "text/plain": [
       "true"
      ]
     },
     "execution_count": 34,
     "metadata": {},
     "output_type": "execute_result"
    }
   ],
   "source": [
    "using JuMP, Gurobi\n",
    "using DrakeVisualizer, GeometryTypes, CoordinateTransformations\n",
    "DrakeVisualizer.any_open_windows() || DrakeVisualizer.new_window()"
   ]
  },
  {
   "cell_type": "code",
   "execution_count": 3,
   "metadata": {},
   "outputs": [],
   "source": [
    "struct StateIndex <: Integer\n",
    "    name::Symbol\n",
    "end\n",
    "\n",
    "const states = StateIndex.([\n",
    ":q_com_x\n",
    ":q_com_y\n",
    ":q_r_x\n",
    ":q_r_y\n",
    ":q_l_x\n",
    ":q_l_y\n",
    ":q_cop_x\n",
    ":q_cop_y\n",
    ":qd_com_x\n",
    ":qd_com_y\n",
    ":qd_r_x\n",
    ":qd_r_y\n",
    ":qd_l_x\n",
    ":qd_l_y\n",
    "])\n",
    "\n",
    "for s in states\n",
    "    @eval $(s.name) = $s\n",
    "end\n",
    "\n",
    "Base.to_index(s::StateIndex) = findfirst(states, s)"
   ]
  },
  {
   "cell_type": "code",
   "execution_count": 40,
   "metadata": {},
   "outputs": [
    {
     "data": {
      "text/plain": [
       "mat (generic function with 2 methods)"
      ]
     },
     "execution_count": 40,
     "metadata": {},
     "output_type": "execute_result"
    }
   ],
   "source": [
    "mat(x::AbstractArray) = reshape(x, length(x), 1)"
   ]
  },
  {
   "cell_type": "code",
   "execution_count": 5,
   "metadata": {},
   "outputs": [],
   "source": [
    "struct InputIndex <: Integer\n",
    "    name::Symbol\n",
    "end\n",
    "\n",
    "const inputs = InputIndex.([\n",
    "    :qdd_r_x,\n",
    "    :qdd_r_y,\n",
    "    :qdd_l_x,\n",
    "    :qdd_l_y,\n",
    "    :qd_cop_x,\n",
    "    :qd_cop_y\n",
    "])\n",
    "\n",
    "for s in inputs\n",
    "    @eval $(s.name) = $s\n",
    "end\n",
    "\n",
    "Base.to_index(s::InputIndex) = findfirst(inputs, s)"
   ]
  },
  {
   "cell_type": "code",
   "execution_count": 6,
   "metadata": {},
   "outputs": [
    {
     "data": {
      "text/plain": [
       "1.0"
      ]
     },
     "execution_count": 6,
     "metadata": {},
     "output_type": "execute_result"
    }
   ],
   "source": [
    "# ICP dynamics\n",
    "# rdd = omega^2 (r - r_cop)\n",
    "\n",
    "g = 9.8\n",
    "h = 1.0\n",
    "ω = √(g / h)\n",
    "Δt = 0.1\n",
    "\n",
    "A = zeros(length(states), length(states))\n",
    "\n",
    "for (q, qd) in zip([q_com_x, q_com_y, q_r_x, q_r_y, q_l_x, q_l_y], [qd_com_x, qd_com_y, qd_r_x, qd_r_y, qd_l_x, qd_l_y])\n",
    "    A[q, qd] = 1\n",
    "end\n",
    "A[qd_com_x, q_com_x] = ω^2\n",
    "A[qd_com_y, q_com_y] = ω^2\n",
    "A[qd_com_x, q_cop_x] = -ω^2\n",
    "A[qd_com_y, q_cop_y] = -ω^2\n",
    "\n",
    "B = zeros(length(states), length(inputs))\n",
    "B[q_cop_x, qd_cop_x] = 1.0\n",
    "B[q_cop_y, qd_cop_y] = 1.0\n",
    "B[qd_r_x, qdd_r_x] = 1.0\n",
    "B[qd_r_y, qdd_r_y] = 1.0\n",
    "B[qd_l_x, qdd_l_x] = 1.0\n",
    "B[qd_l_y, qdd_l_y] = 1.0\n",
    "\n"
   ]
  },
  {
   "cell_type": "code",
   "execution_count": 184,
   "metadata": {},
   "outputs": [
    {
     "data": {
      "text/plain": [
       "14×6 Array{Float64,2}:\n",
       " 0.0  0.0  0.0  0.0  0.0  0.0\n",
       " 0.0  0.0  0.0  0.0  0.0  0.0\n",
       " 0.0  0.0  0.0  0.0  0.0  0.0\n",
       " 0.0  0.0  0.0  0.0  0.0  0.0\n",
       " 0.0  0.0  0.0  0.0  0.0  0.0\n",
       " 0.0  0.0  0.0  0.0  0.0  0.0\n",
       " 0.0  0.0  0.0  0.0  1.0  0.0\n",
       " 0.0  0.0  0.0  0.0  0.0  1.0\n",
       " 0.0  0.0  0.0  0.0  0.0  0.0\n",
       " 0.0  0.0  0.0  0.0  0.0  0.0\n",
       " 1.0  0.0  0.0  0.0  0.0  0.0\n",
       " 0.0  1.0  0.0  0.0  0.0  0.0\n",
       " 0.0  0.0  1.0  0.0  0.0  0.0\n",
       " 0.0  0.0  0.0  1.0  0.0  0.0"
      ]
     },
     "execution_count": 184,
     "metadata": {},
     "output_type": "execute_result"
    }
   ],
   "source": [
    "B"
   ]
  },
  {
   "cell_type": "code",
   "execution_count": 207,
   "metadata": {},
   "outputs": [
    {
     "data": {
      "text/plain": [
       "2-element Array{PyCall.PyObject,1}:\n",
       " PyObject <pympc.geometry.Polytope instance at 0x12bc8b368>\n",
       " PyObject <pympc.geometry.Polytope instance at 0x12ba2d998>"
      ]
     },
     "execution_count": 207,
     "metadata": {},
     "output_type": "execute_result"
    }
   ],
   "source": [
    "# state constraint regions\n",
    "\n",
    "# bounds\n",
    "x_min = fill(-Inf, length(states))\n",
    "x_min[q_com_x] = -10\n",
    "x_min[q_com_y] = -10\n",
    "x_min[q_r_x] = -10\n",
    "x_min[q_r_y] = -10\n",
    "x_min[q_l_x] = -10\n",
    "x_min[q_l_y] = -10\n",
    "x_min[q_cop_x] = -10\n",
    "x_min[q_cop_y] = -10\n",
    "x_min[qd_com_x] = -10\n",
    "x_min[qd_com_y] = -10\n",
    "x_min[qd_r_x] = -10\n",
    "x_min[qd_r_y] = -10\n",
    "x_min[qd_l_x] = -10\n",
    "x_min[qd_l_y] = -10\n",
    "x_max = -x_min\n",
    "X_bounds = PyMPC.geometry.Polytope[:from_bounds](mat(x_min), mat(x_max))[:assemble]()\n",
    "\n",
    "\n",
    "outward_step = 0.3\n",
    "inward_step = 0.1\n",
    "forward_step = 0.4\n",
    "backward_step = 0.4\n",
    "\n",
    "# common state constraints\n",
    "# -0.3 <= (r - c) <= -0.1\n",
    "# -backward <= r - c <= forward\n",
    "# 0.1 <= l - c <= 0.3\n",
    "A_c = zeros(8, length(states))\n",
    "b_c = zeros(8)\n",
    "A_c[1, q_r_x] = 1\n",
    "A_c[1, q_com_x] = -1\n",
    "b_c[1] = forward_step\n",
    "\n",
    "A_c[2, q_r_x] = -1\n",
    "A_c[2, q_com_x] = 1\n",
    "b_c[2] = backward_step\n",
    "\n",
    "A_c[3, q_l_x] = 1\n",
    "A_c[3, q_com_x] = -1\n",
    "b_c[3] = forward_step\n",
    "\n",
    "A_c[4, q_l_x] = -1\n",
    "A_c[4, q_com_x] = 1\n",
    "b_c[4] = backward_step\n",
    "\n",
    "A_c[5, q_r_y] = 1\n",
    "A_c[5, q_com_y] = -1\n",
    "b_c[5] = -inward_step\n",
    "\n",
    "A_c[6, q_r_y] = -1\n",
    "A_c[6, q_com_y] = 1\n",
    "b_c[6] = outward_step\n",
    "\n",
    "A_c[7, q_l_y] = 1\n",
    "A_c[7, q_com_y] = -1\n",
    "b_c[7] = outward_step\n",
    "\n",
    "A_c[8, q_l_y] = -1\n",
    "A_c[8, q_com_y] = 1\n",
    "b_c[8] = -inward_step\n",
    "\n",
    "# right foot support\n",
    "A_r = zeros(8, length(states))\n",
    "A_r[1, qd_r_x] = 1.0\n",
    "A_r[2, qd_r_x] = -1.0\n",
    "A_r[3, qd_r_y] = 1.0\n",
    "A_r[4, qd_r_y] = -1.0\n",
    "A_r[5, q_cop_x] = 1.0\n",
    "A_r[5, q_r_x] = -1.0\n",
    "A_r[6, q_cop_x] = -1.0\n",
    "A_r[6, q_r_x] = 1.0\n",
    "A_r[7, q_cop_y] = 1.0\n",
    "A_r[7, q_r_y] = -1.0\n",
    "A_r[8, q_cop_y] = -1.0\n",
    "A_r[8, q_r_y] = 1.0\n",
    "\n",
    "b_r = [0.01, 0.01, 0.01, 0.01, 0.05, 0.05, 0.05, 0.05]\n",
    "\n",
    "# left foot support\n",
    "A_l = zeros(8, length(states))\n",
    "A_l[1, qd_l_x] = 1.0\n",
    "A_l[2, qd_l_x] = -1.0\n",
    "A_l[3, qd_l_y] = 1.0\n",
    "A_l[4, qd_l_y] = -1.0\n",
    "A_l[5, q_cop_x] = 1.0\n",
    "A_l[5, q_l_x] = -1.0\n",
    "A_l[6, q_cop_x] = -1.0\n",
    "A_l[6, q_l_x] = 1.0\n",
    "A_l[7, q_cop_y] = 1.0\n",
    "A_l[7, q_l_y] = -1.0\n",
    "A_l[8, q_cop_y] = -1.0\n",
    "A_l[8, q_l_y] = 1.0\n",
    "\n",
    "b_l = [0.01, 0.01, 0.01, 0.01, 0.05, 0.05, 0.05, 0.05]\n",
    "\n",
    "X = [PyMPC.geometry.Polytope(vcat(X_bounds[:A], A_c, A_r), mat(vcat(vec(X_bounds[:b]), b_c, b_r)))[:assemble](),\n",
    "     PyMPC.geometry.Polytope(vcat(X_bounds[:A], A_c, A_l), mat(vcat(vec(X_bounds[:b]), b_c, b_l)))[:assemble]()]\n",
    "\n",
    "# Input constraint regions\n",
    "\n",
    "max_foot_accel = 20\n",
    "\n",
    "u_min = fill(-Inf, length(inputs))\n",
    "u_min[qd_cop_x] = -1000\n",
    "u_min[qd_cop_y] = -1000\n",
    "u_min[qdd_r_x] = -max_foot_accel\n",
    "u_min[qdd_r_y] = -max_foot_accel\n",
    "u_min[qdd_l_x] = -max_foot_accel\n",
    "u_min[qdd_l_y] = -max_foot_accel\n",
    "u_max = -u_min\n",
    "U_bounds = PyMPC.geometry.Polytope[:from_bounds](mat(u_min), mat(u_max))[:assemble]()\n",
    "\n",
    "A_u_r = zeros(4, length(inputs))\n",
    "b_u_r = zeros(4)\n",
    "A_u_r[1, qdd_r_x] = 1\n",
    "b_u_r[1] = 0.01\n",
    "A_u_r[2, qdd_r_x] = -1\n",
    "b_u_r[2] = 0.01\n",
    "A_u_r[3, qdd_r_y] = 1\n",
    "b_u_r[3] = 0.01\n",
    "A_u_r[4, qdd_r_y] = -1\n",
    "b_u_r[4] = 0.01\n",
    "\n",
    "A_u_l = zeros(4, length(inputs))\n",
    "b_u_l = zeros(4)\n",
    "A_u_l[1, qdd_l_x] = 1\n",
    "b_u_l[1] = 0.01\n",
    "A_u_l[2, qdd_l_x] = -1\n",
    "b_u_l[2] = 0.01\n",
    "A_u_l[3, qdd_l_y] = 1\n",
    "b_u_l[3] = 0.01\n",
    "A_u_l[4, qdd_l_y] = -1\n",
    "b_u_l[4] = 0.01\n",
    "\n",
    "X = [PyMPC.geometry.Polytope(vcat(X_bounds[:A], A_c, A_r), mat(vcat(vec(X_bounds[:b]), b_c, b_r)))[:assemble](),\n",
    "     PyMPC.geometry.Polytope(vcat(X_bounds[:A], A_c, A_l), mat(vcat(vec(X_bounds[:b]), b_c, b_l)))[:assemble]()]\n",
    "\n",
    "U = [PyMPC.geometry.Polytope(vcat(U_bounds[:A], A_u_r), vcat(U_bounds[:b], mat(b_u_r)))[:assemble](),\n",
    "     PyMPC.geometry.Polytope(vcat(U_bounds[:A], A_u_l), vcat(U_bounds[:b], mat(b_u_l)))[:assemble]()]"
   ]
  },
  {
   "cell_type": "code",
   "execution_count": 208,
   "metadata": {},
   "outputs": [
    {
     "data": {
      "text/plain": [
       "PyObject <pympc.dynamical_systems.DTPWASystem object at 0x132b3c810>"
      ]
     },
     "execution_count": 208,
     "metadata": {},
     "output_type": "execute_result"
    }
   ],
   "source": [
    "c = zeros(length(states), 1)\n",
    "\n",
    "sys = PyMPC.dynamical_systems.DTPWASystem(\n",
    "    [PyMPC.dynamical_systems.DTAffineSystem[:from_continuous](A, B, c, Δt),\n",
    "     PyMPC.dynamical_systems.DTAffineSystem[:from_continuous](A, B, c, Δt)],\n",
    "    X,\n",
    "    U)"
   ]
  },
  {
   "cell_type": "code",
   "execution_count": 209,
   "metadata": {},
   "outputs": [
    {
     "data": {
      "text/plain": [
       "PyObject <pympc.control.MPCHybridController instance at 0x12ba1a7e8>"
      ]
     },
     "execution_count": 209,
     "metadata": {},
     "output_type": "execute_result"
    }
   ],
   "source": [
    "N = 10\n",
    "Q = 0.001 * eye(length(states))\n",
    "Q[qd_com_x, qd_com_x] = 100\n",
    "Q[qd_com_y, qd_com_y] = 100\n",
    "\n",
    "R = 0.001 * eye(length(inputs))\n",
    "R[qdd_r_x, qdd_r_x] = 0.1\n",
    "R[qdd_r_y, qdd_r_y] = 0.1\n",
    "R[qdd_l_x, qdd_l_x] = 0.1\n",
    "R[qdd_l_y, qdd_l_y] = 0.1\n",
    "\n",
    "P = Q\n",
    "\n",
    "X_N = PyMPC.geometry.Polytope(vcat(X_bounds[:A], A_c), mat(vcat(vec(X_bounds[:b]), b_c)))[:assemble]()\n",
    "\n",
    "controller = PyMPC.control.MPCHybridController(\n",
    "sys,\n",
    "N,\n",
    "\"two\",\n",
    "Q,\n",
    "R,\n",
    "P,\n",
    "X_N)"
   ]
  },
  {
   "cell_type": "code",
   "execution_count": 210,
   "metadata": {},
   "outputs": [
    {
     "data": {
      "text/plain": [
       "run_mpc (generic function with 1 method)"
      ]
     },
     "execution_count": 210,
     "metadata": {},
     "output_type": "execute_result"
    }
   ],
   "source": [
    "function run_mpc(controller, x0)\n",
    "    u_feedforward, x_trajectory, cost, switching_sequence = controller[:feedforward](mat(x0))\n",
    "    condensed = controller[:condense_program](switching_sequence)\n",
    "    u, cost = condensed[:solve](mat(x0))\n",
    "    active_set = condensed[:get_active_set](mat(x0), u)\n",
    "    u_offset, u_linear = condensed[:get_u_sensitivity](active_set)\n",
    "#     @show maximum(abs.(u_offset + u_linear * x0 - u))\n",
    "#     @assert maximum(abs.(u_offset + u_linear * x0 - u)) <= 0.01\n",
    "    u_feedforward[1], u_linear\n",
    "end"
   ]
  },
  {
   "cell_type": "code",
   "execution_count": 211,
   "metadata": {},
   "outputs": [
    {
     "data": {
      "text/plain": [
       "Visualizer with path prefix Symbol[:pendulum, :cop] using LCM LCMCore.LCM(Ptr{Void} @0x00007fb6d8d47360, \"\", RawFD(102), LCMCore.Subscription[LCMCore.Subscription{LCMCore.SubscriptionOptions{DrakeVisualizer.Comms.CommsT,DrakeVisualizer.#handle_msg#9{DrakeVisualizer.CoreVisualizer}}}(LCMCore.SubscriptionOptions{DrakeVisualizer.Comms.CommsT,DrakeVisualizer.#handle_msg#9{DrakeVisualizer.CoreVisualizer}}(DrakeVisualizer.Comms.CommsT, DrakeVisualizer.handle_msg), Ptr{Void} @0x00007fb6d2f00570)])"
      ]
     },
     "execution_count": 211,
     "metadata": {},
     "output_type": "execute_result"
    }
   ],
   "source": [
    "vis = Visualizer()[:pendulum]\n",
    "delete!(vis)\n",
    "setgeometry!(vis[:com], HyperSphere(Point(0., 0, 0), 0.1))\n",
    "setgeometry!(vis[:cop], HyperSphere(Point(0., 0, 0), 0.02))"
   ]
  },
  {
   "cell_type": "code",
   "execution_count": 212,
   "metadata": {},
   "outputs": [
    {
     "data": {
      "text/plain": [
       "draw_state (generic function with 1 method)"
      ]
     },
     "execution_count": 212,
     "metadata": {},
     "output_type": "execute_result"
    }
   ],
   "source": [
    "function draw_state(vis, x)\n",
    "    settransform!(vis[:com], Translation(x[q_com_x], x[q_com_y], h))\n",
    "    settransform!(vis[:cop], Translation(x[q_cop_x], x[q_cop_y], 0))\n",
    "    setgeometry!(vis[:feet][:r], PolyLine([Point(x[q_r_x], x[q_r_y], 0), Point(x[q_com_x], x[q_com_y], h)], 0.01, false, nothing, nothing))\n",
    "    setgeometry!(vis[:feet][:l], PolyLine([Point(x[q_l_x], x[q_l_y], 0), Point(x[q_com_x], x[q_com_y], h)], 0.01, false, nothing, nothing))\n",
    "end"
   ]
  },
  {
   "cell_type": "code",
   "execution_count": 226,
   "metadata": {},
   "outputs": [],
   "source": [
    "x0 = zeros(length(states))\n",
    "x0[q_com_x] = 0\n",
    "x0[q_com_y] = 0\n",
    "x0[q_r_x] = 0\n",
    "x0[q_r_y] = -0.15\n",
    "x0[q_l_x] = 0\n",
    "x0[q_l_y] = 0.15\n",
    "x0[q_cop_x] = 0\n",
    "x0[q_cop_y] = -0.15\n",
    "x0[qd_com_x] = 0.3\n",
    "x0[qd_com_y] = 0.3\n",
    "x0[qd_r_x] = 0\n",
    "x0[qd_r_y] = 0\n",
    "x0[qd_l_x] = 0\n",
    "x0[qd_l_y] = 0\n",
    "\n",
    "@assert X[1][:applies_to](mat(x0))\n",
    "@assert !(X[2][:applies_to](mat(x0)))"
   ]
  },
  {
   "cell_type": "code",
   "execution_count": 232,
   "metadata": {},
   "outputs": [],
   "source": [
    "u_feedforward, x_trajectory, cost, switching_sequence = controller[:feedforward](mat(x0))\n",
    "\n",
    "for x in x_trajectory\n",
    "    draw_state(vis, x)\n",
    "    sleep(0.1)\n",
    "end"
   ]
  },
  {
   "cell_type": "code",
   "execution_count": 243,
   "metadata": {},
   "outputs": [
    {
     "data": {
      "text/plain": [
       "clip_cop! (generic function with 1 method)"
      ]
     },
     "execution_count": 243,
     "metadata": {},
     "output_type": "execute_result"
    }
   ],
   "source": [
    "function clip_cop!(x)\n",
    "    q_r = [x[q_r_x], x[q_r_y]]\n",
    "    q_l = [x[q_l_x], x[q_l_y]]\n",
    "    q_cop = [x[q_cop_x], x[q_cop_y]]\n",
    "    \n",
    "    if norm(q_cop - q_r) < norm(q_cop - q_l)\n",
    "        q_target = q_r\n",
    "    else\n",
    "        q_target = q_l\n",
    "    end\n",
    "    \n",
    "    m = Model(solver=GurobiSolver(OutputFlag=0))\n",
    "    @variable m cop[1:2]\n",
    "    @objective m Min sum((cop - q_cop).^2)\n",
    "    @constraints m begin\n",
    "        cop .- q_target .<= 0.05\n",
    "        q_target .- cop .<= 0.05\n",
    "    end\n",
    "        \n",
    "    solve(m)\n",
    "    x[q_cop_x] = getvalue(cop[1])\n",
    "    x[q_cop_y] = getvalue(cop[2])\n",
    "end"
   ]
  },
  {
   "cell_type": "code",
   "execution_count": 244,
   "metadata": {},
   "outputs": [
    {
     "data": {
      "text/plain": [
       "simulate (generic function with 2 methods)"
      ]
     },
     "execution_count": 244,
     "metadata": {},
     "output_type": "execute_result"
    }
   ],
   "source": [
    "function simulate(x0, control, ts::StepRangeLen=0:0.01:5)\n",
    "    x = copy(x0)\n",
    "    for t in ts\n",
    "        clip_cop!(x)\n",
    "        u = control(x)\n",
    "        u = clamp.(u, u_min, u_max)\n",
    "        ẋ = A * x + B * u\n",
    "        x .+= step(ts) .* ẋ\n",
    "        draw_state(vis, x)\n",
    "        sleep(step(ts))\n",
    "    end\n",
    "end"
   ]
  },
  {
   "cell_type": "code",
   "execution_count": 245,
   "metadata": {},
   "outputs": [
    {
     "name": "stdout",
     "output_type": "stream",
     "text": [
      "x = [0.0, 0.0, 0.0, -0.15, 0.0, 0.15, 0.0, -0.15, 0.3, 0.3, 0.0, 0.0, 0.0, 0.0]\n",
      "x = [0.0, 0.0, 0.0, -0.15, 0.0, 0.15, -0.0, -0.15, 0.3, 0.3, 0.0, 0.0, 0.0, 0.0]\n",
      "u = [0.01, 0.01, 9.83458, 12.5744, 0.5, 0.5]\n",
      "x = [0.03, 0.03, 0.0, -0.15, 0.0, 0.15, 0.05, -0.1, 0.3, 0.447, 0.001, 0.001, 0.983458, 1.25744]\n",
      "x = [0.03, 0.03, 0.0, -0.15, 0.0, 0.15, 0.05, -0.1, 0.3, 0.447, 0.001, 0.001, 0.983458, 1.25744]\n",
      "u = [0.01, 0.01, -9.73458, -12.4744, 0.983458, 4.25744]\n",
      "x = [0.06, 0.0747, 0.0001, -0.1499, 0.0983458, 0.275744, 0.148346, 0.325744, 0.2804, 0.5744, 0.002, 0.002, 0.01, 0.01]\n",
      "x = [0.06, 0.0747, 0.0001, -0.1499, 0.0983458, 0.275744, 0.148346, 0.325744, 0.2804, 0.5744, 0.002, 0.002, 0.01, 0.01]\n",
      "u = [1.78265, 2.54691, 0.0, 0.0, 0.01, 0.01]\n",
      "x = [0.08804, 0.13214, 0.0003, -0.1497, 0.0993458, 0.276744, 0.149346, 0.326744, 0.193821, 0.328377, 0.180265, 0.256691, 0.01, 0.01]\n",
      "x = [0.08804, 0.13214, 0.0003, -0.1497, 0.0993458, 0.276744, 0.149346, 0.326744, 0.193821, 0.328377, 0.180265, 0.256691, 0.01, 0.01]\n",
      "u = [0.899329, 1.15731, 0.0, -3.23119e-13, 0.01, -0.314964]\n",
      "x = [0.107422, 0.164978, 0.0183265, -0.124031, 0.100346, 0.277744, 0.150346, 0.295248, 0.133741, 0.137665, 0.270198, 0.372422, 0.01, 0.01]\n",
      "x = [0.107422, 0.164978, 0.0183265, -0.124031, 0.100346, 0.277744, 0.150346, 0.295248, 0.133741, 0.137665, 0.270198, 0.372422, 0.01, 0.01]\n",
      "u = [-0.0642427, -0.841748, 0.0, 3.43108e-13, 0.01, -0.665036]\n",
      "x = [0.120796, 0.178744, 0.0453462, -0.0867887, 0.101346, 0.278744, 0.151346, 0.228744, 0.0916762, 0.01, 0.263773, 0.288248, 0.01, 0.01]\n",
      "x = [0.120796, 0.178744, 0.0453462, -0.0867887, 0.101346, 0.278744, 0.151346, 0.228744, 0.0916762, 0.01, 0.263773, 0.288248, 0.01, 0.01]\n",
      "u = [-0.77837, -0.330887, -2.00465e-14, -0.01, 0.01, 0.0410377]\n",
      "x = [0.129964, 0.179744, 0.0717235, -0.0579639, 0.102346, 0.279744, 0.152346, 0.232848, 0.0617376, -0.039, 0.185936, 0.255159, 0.01, 0.009]\n",
      "x = [0.129964, 0.179744, 0.0717235, -0.0579639, 0.102346, 0.279744, 0.152346, 0.232848, 0.0617376, -0.039, 0.185936, 0.255159, 0.01, 0.009]\n",
      "u = [-1.75936, -2.45159, 0.01, -0.01, -0.120286, -2.15296]\n",
      "x = [0.136138, 0.175844, 0.0903172, -0.032448, 0.103346, 0.280644, 0.140317, 0.017552, 0.0398033, -0.0910417, 0.01, 0.01, 0.011, 0.008]\n",
      "x = [0.136138, 0.175844, 0.0903172, -0.032448, 0.103346, 0.280644, 0.140317, 0.017552, 0.0398033, -0.0910417, 0.01, 0.01, 0.011, 0.008]\n",
      "u = [0.01, 0.01, -0.01, -0.160675, 0.141286, 2.16349]\n",
      "x = [0.140118, 0.16674, 0.0913172, -0.031448, 0.104446, 0.281444, 0.154446, 0.233901, 0.0357074, 0.0640846, 0.011, 0.011, 0.01, -0.0080675]\n",
      "x = [0.140118, 0.16674, 0.0913172, -0.031448, 0.104446, 0.281444, 0.154446, 0.233901, 0.0357074, 0.0640846, 0.011, 0.011, 0.01, -0.0080675]\n",
      "u = [0.0625658, 0.948612, -5.66561e-15, -0.01, 0.01, 0.211188]\n",
      "x = [0.143689, 0.173148, 0.0924172, -0.030348, 0.105446, 0.280637, 0.155446, 0.25502, 0.0216661, -0.00173319, 0.0172566, 0.105861, 0.01, -0.0090675]\n",
      "x = [0.143689, 0.173148, 0.0924172, -0.030348, 0.105446, 0.280637, 0.155446, 0.25502, 0.0216661, -0.00173319, 0.0172566, 0.105861, 0.01, -0.0090675]\n",
      "u = [-0.0725658, -0.958612, 0.00686377, -0.01, -0.11303, -2.24782]\n",
      "x = [0.145855, 0.172975, 0.0941428, -0.0197619, 0.106446, 0.279731, 0.144143, 0.0302381, 0.0101441, -0.0819671, 0.01, 0.01, 0.0106864, -0.0100675]\n",
      "x = [0.145855, 0.172975, 0.0941428, -0.0197619, 0.106446, 0.279731, 0.144143, 0.0302381, 0.0101441, -0.0819671, 0.01, 0.01, 0.0106864, -0.0100675]\n",
      "u = [0.00452486, 0.01, -0.00686377, 0.000674964, 0.133716, 2.0666]\n",
      "x = [0.14687, 0.164778, 0.0951428, -0.0187619, 0.107514, 0.278724, 0.157514, 0.236898, 0.0118223, 0.0579152, 0.0104525, 0.011, 0.01, -0.01]\n",
      "x = [0.14687, 0.164778, 0.0951428, -0.0187619, 0.107514, 0.278724, 0.157514, 0.236898, 0.0118223, 0.0579152, 0.0104525, 0.011, 0.01, -0.01]\n",
      "u = [-1.92277e-6, 0.761289, -0.000614447, 4.3375e-14, -0.0755907, -0.0917434]\n",
      "x = [0.148052, 0.17057, 0.0961881, -0.0176619, 0.108514, 0.277724, 0.149955, 0.227724, 0.00139046, -0.0127623, 0.0104523, 0.0871289, 0.00993856, -0.01]\n",
      "x = [0.148052, 0.17057, 0.0961881, -0.0176619, 0.108514, 0.277724, 0.149955, 0.227724, 0.00139046, -0.0127623, 0.0104523, 0.0871289, 0.00993856, -0.01]\n",
      "u = [-0.00452294, -0.771289, -0.000618117, -0.01, -0.0272208, -1.88196]\n",
      "x = [0.148191, 0.169294, 0.0972333, -0.00894903, 0.109508, 0.276724, 0.147233, 0.0395279, -0.000474917, -0.0687732, 0.01, 0.01, 0.00987674, -0.011]\n",
      "x = [0.148191, 0.169294, 0.0972333, -0.00894903, 0.109508, 0.276724, 0.147233, 0.0395279, -0.000474917, -0.0687732, 0.01, 0.01, 0.00987674, -0.011]\n",
      "u = [-0.000568351, 0.01, -0.000621755, 0.01, 0.0138336, 1.86096]\n",
      "x = [0.148143, 0.162416, 0.0982333, -0.00794903, 0.110496, 0.275624, 0.148617, 0.225624, 0.000463612, 0.0583973, 0.00994316, 0.011, 0.00981457, -0.01]\n",
      "x = [0.148143, 0.162416, 0.0982333, -0.00794903, 0.110496, 0.275624, 0.148617, 0.225624, 0.000463612, 0.0583973, 0.00994316, 0.011, 0.00981457, -0.01]\n",
      "u = [-0.000572082, 0.610049, -0.00062536, -2.24057e-14, -0.00424046, -0.01]\n",
      "x = [0.14819, 0.168256, 0.0992276, -0.00684903, 0.111477, 0.274624, 0.148193, 0.224624, -9.05631e-8, -0.00354604, 0.00988596, 0.0720049, 0.00975203, -0.01]\n",
      "x = [0.14819, 0.168256, 0.0992276, -0.00684903, 0.111477, 0.274624, 0.148193, 0.224624, -9.05631e-8, -0.00354604, 0.00988596, 0.0720049, 0.00975203, -0.01]\n",
      "u = [-0.000575783, -0.620049, -0.000628932, -0.01, -3.19946e-5, -1.74777]\n",
      "x = [0.14819, 0.167902, 0.100216, 0.00035146, 0.112453, 0.273624, 0.148189, 0.0498464, -2.79493e-6, -0.0587865, 0.00982838, 0.01, 0.00968914, -0.011]\n",
      "x = [0.14819, 0.167902, 0.100216, 0.00035146, 0.112453, 0.273624, 0.148189, 0.0498464, -2.79493e-6, -0.0587865, 0.00982838, 0.01, 0.00968914, -0.011]\n",
      "u = [-0.000579453, 0.01, -0.000632472, 0.01, 1.4707e-6, 1.74121]\n",
      "x = [0.14819, 0.162023, 0.101199, 0.00135146, 0.113422, 0.272524, 0.14819, 0.223967, -2.37271e-6, 0.0569075, 0.00977043, 0.011, 0.00962589, -0.01]\n",
      "x = [0.14819, 0.162023, 0.101199, 0.00135146, 0.113422, 0.272524, 0.14819, 0.223967, -2.37271e-6, 0.0569075, 0.00977043, 0.011, 0.00962589, -0.01]\n",
      "u = [-0.000583092, 0.289667, -0.000635979, -3.79211e-15, -2.32611e-6, -0.0244314]\n",
      "x = [0.148189, 0.167714, 0.102176, 0.00245146, 0.114384, 0.271524, 0.148189, 0.221524, -2.36851e-6, -0.00379779, 0.00971212, 0.0399667, 0.00956229, -0.01]\n",
      "x = [0.148189, 0.167714, 0.102176, 0.00245146, 0.114384, 0.271524, 0.148189, 0.221524, -2.36851e-6, -0.00379779, 0.00971212, 0.0399667, 0.00956229, -0.01]\n",
      "u = [-0.000586701, -0.299667, -0.000639453, -0.01, -2.37231e-6, -1.67405]\n",
      "x = [0.148189, 0.167334, 0.103147, 0.00644813, 0.11534, 0.270524, 0.148189, 0.0541186, -2.36889e-6, -0.0565319, 0.00965345, 0.01, 0.00949835, -0.011]\n",
      "x = [0.148189, 0.167334, 0.103147, 0.00644813, 0.11534, 0.270524, 0.148189, 0.0541186, -2.36889e-6, -0.0565319, 0.00965345, 0.01, 0.00949835, -0.011]\n",
      "u = [-0.000590279, 0.01, -0.000642894, 0.01, -2.36895e-6, 1.66427]\n",
      "x = [0.148189, 0.161681, 0.104113, 0.00744813, 0.11629, 0.269424, 0.148189, 0.220546, -2.36889e-6, 0.0544191, 0.00959443, 0.011, 0.00943406, -0.01]\n",
      "x = [0.148189, 0.161681, 0.104113, 0.00744813, 0.11629, 0.269424, 0.148189, 0.220546, -2.36889e-6, 0.0544191, 0.00959443, 0.011, 0.00943406, -0.01]\n",
      "u = [-0.000593825, 0.129205, -0.000646301, -1.42004e-14, -2.36889e-6, -0.021221]\n"
     ]
    }
   ],
   "source": [
    "simulate(x0, x -> run_mpc(controller, x)[1][1:length(inputs)], 0:0.1:1)"
   ]
  },
  {
   "cell_type": "code",
   "execution_count": null,
   "metadata": {
    "collapsed": true
   },
   "outputs": [],
   "source": []
  }
 ],
 "metadata": {
  "kernelspec": {
   "display_name": "Julia 0.6.0-rc2",
   "language": "julia",
   "name": "julia-0.6"
  },
  "language_info": {
   "file_extension": ".jl",
   "mimetype": "application/julia",
   "name": "julia",
   "version": "0.6.0"
  }
 },
 "nbformat": 4,
 "nbformat_minor": 2
}
