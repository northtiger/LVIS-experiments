{
 "cells": [
  {
   "cell_type": "code",
   "execution_count": 1,
   "metadata": {
    "collapsed": true
   },
   "outputs": [],
   "source": [
    "using JuMP, ConditionalJuMP, Gurobi"
   ]
  },
  {
   "cell_type": "code",
   "execution_count": 7,
   "metadata": {},
   "outputs": [
    {
     "name": "stdout",
     "output_type": "stream",
     "text": [
      "Optimize a model with 6 rows, 3 columns and 12 nonzeros\n",
      "Model has 2 quadratic objective terms\n",
      "Variable types: 2 continuous, 1 integer (1 binary)\n",
      "Coefficient statistics:\n",
      "  Matrix range     [5e-01, 2e+00]\n",
      "  Objective range  [2e+00, 3e+00]\n",
      "  QObjective range [2e+00, 2e+00]\n",
      "  Bounds range     [1e+00, 1e+00]\n",
      "  RHS range        [1e+00, 1e+00]\n",
      "Presolve removed 1 rows and 0 columns\n",
      "Presolve time: 0.00s\n",
      "Presolved: 5 rows, 3 columns, 11 nonzeros\n",
      "Presolved model has 2 quadratic objective terms\n",
      "Variable types: 2 continuous, 1 integer (1 binary)\n",
      "\n",
      "Root relaxation: objective -5.000000e-02, 6 iterations, 0.00 seconds\n",
      "\n",
      "    Nodes    |    Current Node    |     Objective Bounds      |     Work\n",
      " Expl Unexpl |  Obj  Depth IntInf | Incumbent    BestBd   Gap | It/Node Time\n",
      "\n",
      "     0     0   -0.05000    0    1          -   -0.05000      -     -    0s\n",
      "H    0     0                       0.0000000   -0.05000      -     -    0s\n",
      "\n",
      "Explored 0 nodes (6 simplex iterations) in 0.00 seconds\n",
      "Thread count was 12 (of 12 available processors)\n",
      "\n",
      "Solution count 1: 0 \n",
      "Pool objective bound 0\n",
      "\n",
      "Optimal solution found (tolerance 1.00e-04)\n",
      "Best objective 0.000000000000e+00, best bound 0.000000000000e+00, gap -\n"
     ]
    },
    {
     "data": {
      "text/plain": [
       "(0.0, 0.0)"
      ]
     },
     "execution_count": 7,
     "metadata": {},
     "output_type": "execute_result"
    }
   ],
   "source": [
    "m = Model(solver=GurobiSolver())\n",
    "@variable m -1 <= x <= 1\n",
    "@variable m -1 <= y <= 1\n",
    "@implies m (x <= 0) => (y == 0.5)\n",
    "@constraint m y >= x\n",
    "d = -1\n",
    "@objective m Min ((x - d)^2 + (y - (d - 0.5))^2)\n",
    "solve(m)\n",
    "getvalue(x), getvalue(y)"
   ]
  },
  {
   "cell_type": "code",
   "execution_count": 71,
   "metadata": {},
   "outputs": [
    {
     "name": "stdout",
     "output_type": "stream",
     "text": [
      "Optimize a model with 1 rows, 2 columns and 2 nonzeros\n",
      "Model has 2 quadratic objective terms\n",
      "Coefficient statistics:\n",
      "  Matrix range     [1e+00, 1e+00]\n",
      "  Objective range  [0e+00, 0e+00]\n",
      "  QObjective range [2e+00, 2e+00]\n",
      "  Bounds range     [5e-01, 1e+00]\n",
      "  RHS range        [0e+00, 0e+00]\n",
      "Presolve removed 1 rows and 2 columns\n",
      "Presolve time: 0.00s\n",
      "Presolve: All rows and columns removed\n",
      "\n",
      "Barrier solved model in 0 iterations and 0.00 seconds\n",
      "Optimal objective 5.00000000e-01\n"
     ]
    },
    {
     "data": {
      "text/latex": [
       "$$ \\begin{alignat*}{1}\\min\\quad & x^2 + y^2\\\\\n",
       "\\text{Subject to} \\quad & y - x \\geq 0\\\\\n",
       " & 0.5 \\leq x \\leq 1\\\\\n",
       " & y\\\\\n",
       "\\end{alignat*}\n",
       " $$"
      ],
      "text/plain": [
       "Minimization problem with:\n",
       " * 1 linear constraint\n",
       " * 2 variables\n",
       "Solver is Gurobi"
      ]
     },
     "execution_count": 71,
     "metadata": {},
     "output_type": "execute_result"
    }
   ],
   "source": [
    "m = Model(solver=GurobiSolver())\n",
    "@variable m 0.5 <= x <= 1\n",
    "@variable m y\n",
    "@constraint m y >= x\n",
    "@objective m Min x^2 + y^2\n",
    "# c = @constraint m x == -0.5\n",
    "solve(m)\n",
    "m"
   ]
  },
  {
   "cell_type": "code",
   "execution_count": 72,
   "metadata": {},
   "outputs": [
    {
     "data": {
      "text/plain": [
       "2.0"
      ]
     },
     "execution_count": 72,
     "metadata": {},
     "output_type": "execute_result"
    }
   ],
   "source": [
    "getdual(x)"
   ]
  },
  {
   "cell_type": "code",
   "execution_count": 73,
   "metadata": {},
   "outputs": [
    {
     "data": {
      "text/plain": [
       "1×2 SparseMatrixCSC{Float64,Int64} with 2 stored entries:\n",
       "  [1, 1]  =  -1.0\n",
       "  [1, 2]  =  1.0"
      ]
     },
     "execution_count": 73,
     "metadata": {},
     "output_type": "execute_result"
    }
   ],
   "source": [
    "JuMP.prepConstrMatrix(m)"
   ]
  },
  {
   "cell_type": "code",
   "execution_count": 75,
   "metadata": {},
   "outputs": [
    {
     "data": {
      "text/plain": [
       "([-0.0], [Inf])"
      ]
     },
     "execution_count": 75,
     "metadata": {},
     "output_type": "execute_result"
    }
   ],
   "source": [
    "JuMP.prepConstrBounds(m)"
   ]
  },
  {
   "cell_type": "code",
   "execution_count": 76,
   "metadata": {},
   "outputs": [
    {
     "data": {
      "text/plain": [
       "10×10 SparseMatrixCSC{Float64,Int64} with 10 stored entries:\n",
       "  [1 ,  1]  =  1.0\n",
       "  [2 ,  2]  =  1.0\n",
       "  [3 ,  3]  =  1.0\n",
       "  [4 ,  4]  =  1.0\n",
       "  [5 ,  5]  =  1.0\n",
       "  [6 ,  6]  =  1.0\n",
       "  [7 ,  7]  =  1.0\n",
       "  [8 ,  8]  =  1.0\n",
       "  [9 ,  9]  =  1.0\n",
       "  [10, 10]  =  1.0"
      ]
     },
     "execution_count": 76,
     "metadata": {},
     "output_type": "execute_result"
    }
   ],
   "source": [
    "speye(10)"
   ]
  },
  {
   "cell_type": "code",
   "execution_count": 79,
   "metadata": {
    "collapsed": true
   },
   "outputs": [],
   "source": [
    "@edit JuMP.prepConstrMatrix(m)"
   ]
  },
  {
   "cell_type": "code",
   "execution_count": 77,
   "metadata": {},
   "outputs": [
    {
     "data": {
      "text/plain": [
       "linear_constraints (generic function with 1 method)"
      ]
     },
     "execution_count": 77,
     "metadata": {},
     "output_type": "execute_result"
    }
   ],
   "source": [
    "function linear_constraints(m::Model) \n",
    "    A = JuMP.prepConstrMatrix(m)\n",
    "    b_lower, b_upper = JuMP.prepConstrBounds(m)\n",
    "    x_lower = m.colLower\n",
    "    x_upper = m.colUpper\n",
    "    \n",
    "    A = vcat(A, speye(size(A, 2)))\n",
    "    b_lower = vcat(b_lower, x_lower)\n",
    "    b_upper = vcat(b_upper, x_upper)\n",
    "    A, b_lower, b_upper\n",
    "end\n"
   ]
  },
  {
   "cell_type": "code",
   "execution_count": 100,
   "metadata": {},
   "outputs": [
    {
     "data": {
      "text/plain": [
       "2-element BitArray{1}:\n",
       " false\n",
       " false"
      ]
     },
     "execution_count": 100,
     "metadata": {},
     "output_type": "execute_result"
    }
   ],
   "source": [
    ".![true, true]"
   ]
  },
  {
   "cell_type": "code",
   "execution_count": 101,
   "metadata": {},
   "outputs": [
    {
     "data": {
      "text/latex": [
       "$$ x^2 + y^2 $$"
      ],
      "text/plain": [
       "x² + y²"
      ]
     },
     "execution_count": 101,
     "metadata": {},
     "output_type": "execute_result"
    }
   ],
   "source": [
    "m.obj"
   ]
  },
  {
   "cell_type": "code",
   "execution_count": null,
   "metadata": {
    "collapsed": true
   },
   "outputs": [],
   "source": [
    "m.obj."
   ]
  },
  {
   "cell_type": "code",
   "execution_count": null,
   "metadata": {
    "collapsed": true
   },
   "outputs": [],
   "source": [
    "function canonicalize(m::Model, params::AbstractArray{Variable}, eps=1e-3)\n",
    "    nvars = length(m.colCat)\n",
    "    A_active = SparseVector{Float64, Int64}[]\n",
    "    b_active = Float64[]\n",
    "    \n",
    "    for i in 1:nvars\n",
    "        var = Variable(m, i)\n",
    "        λ = getdual(var)\n",
    "        if abs(λ) > eps\n",
    "            if λ > 0\n",
    "                ai = sparsevec([i], [-1.0])\n",
    "                bi = -m.colLower[i]\n",
    "            else\n",
    "                ai = sparsevec([i], [1.0])\n",
    "                bi = m.colUpper[i]\n",
    "            end \n",
    "            push!(A_active, ai)\n",
    "            push!(b_active, bi)\n",
    "        end\n",
    "    end\n",
    "    \n",
    "    nconstr = length(m.linconstr)\n",
    "    for (constraint, λ) in zip(m.linconstr, m.linconstrDuals)\n",
    "        if abs(λ) > eps\n",
    "            if λ > 0\n",
    "                ai = -sparsevec([var.col for var in constraint.terms.vars], constraint.terms.coeffs)\n",
    "                bi = -constr.lb\n",
    "            else\n",
    "                ai = sparsevec([var.col for var in constraint.terms.vars], constraint.terms.coeffs)\n",
    "                bi = constr.ub\n",
    "            end\n",
    "            push!(A_active, ai)\n",
    "            push!(b_active, bi)\n",
    "        end\n",
    "    end\n",
    "    \n",
    "    param_cols = Set([v.col for v in params])\n",
    "    isparam = collect(1:nvars) .∈ param_cols\n",
    "    Ã = vcat(A_active...)\n",
    "    W̃ = vcat(b_active...)\n",
    "    G̃ = Ã[:, .!isparam]\n",
    "    S = .-Ã[:, isparam]\n",
    "    \n",
    "    perm = Permutation(vcat([i for i in 1:nvars if !(i in param_cols)], \n",
    "            \n",
    "            \n",
    "    \n",
    "    nx = length(params)\n",
    "    nz = nvars - nx\n",
    "    G_active = Vector{Float64}[]\n",
    "    W_active = Float64[]\n",
    "    S_active = Vector{Float64}[]\n",
    "    H = zeros(nz, nz)\n",
    "    F = zeros(nx, nz)\n",
    "    \n",
    "    for i in 1:nvars\n",
    "        var = Variable(m, i)\n",
    "        if abs(getdual(var)) > eps\n",
    "            gi = zeros(nz)\n",
    "            wi = 0\n",
    "            Si = zeros(nx)\n",
    "            if var in params\n",
    "                \n",
    "            "
   ]
  },
  {
   "cell_type": "code",
   "execution_count": null,
   "metadata": {
    "collapsed": true
   },
   "outputs": [],
   "source": []
  }
 ],
 "metadata": {
  "kernelspec": {
   "display_name": "Julia 0.6.0",
   "language": "julia",
   "name": "julia-0.6"
  },
  "language_info": {
   "file_extension": ".jl",
   "mimetype": "application/julia",
   "name": "julia",
   "version": "0.6.0"
  }
 },
 "nbformat": 4,
 "nbformat_minor": 2
}
