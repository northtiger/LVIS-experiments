{
 "cells": [
  {
   "cell_type": "code",
   "execution_count": null,
   "metadata": {
    "collapsed": true
   },
   "outputs": [],
   "source": [
    "using Revise"
   ]
  },
  {
   "cell_type": "code",
   "execution_count": null,
   "metadata": {},
   "outputs": [],
   "source": [
    "using JuMP, ConditionalJuMP, Gurobi\n",
    "using Plots; gr()"
   ]
  },
  {
   "cell_type": "code",
   "execution_count": null,
   "metadata": {},
   "outputs": [],
   "source": [
    "m = Model(solver=GurobiSolver())\n",
    "@variable m -1 <= x <= 1\n",
    "@variable m -1 <= y <= 1\n",
    "@implies m (x <= 0) => (y == 0.5)\n",
    "@constraint m y >= x\n",
    "d = -1\n",
    "@objective m Min ((x - d)^2 + (y - (d - 0.5))^2)\n",
    "solve(m)\n",
    "getvalue(x), getvalue(y)"
   ]
  },
  {
   "cell_type": "code",
   "execution_count": null,
   "metadata": {},
   "outputs": [],
   "source": [
    "m = Model(solver=GurobiSolver())\n",
    "@variable m x >= 0.5\n",
    "@variable m y\n",
    "@constraint m y >= x\n",
    "# JuMP.fix(x, 0.5)\n",
    "@objective m Min x^2 + y^2 + 0.1 * x * y\n",
    "# c = @constraint m x == -0.5\n",
    "solve(m)\n",
    "display(m)\n",
    "getvalue.((y, x))"
   ]
  },
  {
   "cell_type": "code",
   "execution_count": null,
   "metadata": {},
   "outputs": [],
   "source": [
    "include(\"explicit_qp.jl\")\n",
    "eq = ExplicitQP"
   ]
  },
  {
   "cell_type": "code",
   "execution_count": null,
   "metadata": {},
   "outputs": [],
   "source": [
    "solution = eq.explicit_solution(m, [x])"
   ]
  },
  {
   "cell_type": "code",
   "execution_count": null,
   "metadata": {},
   "outputs": [],
   "source": [
    "eq.getsolution(solution, y)"
   ]
  },
  {
   "cell_type": "code",
   "execution_count": null,
   "metadata": {},
   "outputs": [],
   "source": [
    "eq.getparameter(solution, x)"
   ]
  },
  {
   "cell_type": "code",
   "execution_count": null,
   "metadata": {},
   "outputs": [],
   "source": [
    "getvalue.((y, x))"
   ]
  },
  {
   "cell_type": "code",
   "execution_count": null,
   "metadata": {},
   "outputs": [],
   "source": [
    "eq.jacobian(eq.getsolution.(solution, [y]))"
   ]
  },
  {
   "cell_type": "code",
   "execution_count": null,
   "metadata": {},
   "outputs": [],
   "source": [
    "m = Model(solver=GurobiSolver())\n",
    "@variable(m, x[1:2])\n",
    "JuMP.fix.(x, [0.1, 0])\n",
    "U = []\n",
    "X = [x]\n",
    "N = 20\n",
    "Δt = 0.1\n",
    "for i in 1:N\n",
    "    u = @variable(m, lowerbound=-1, upperbound=1)\n",
    "    xi = @variable(m, [1:2])\n",
    "    @constraint(m, xi[2] == X[end][2] + Δt * u)\n",
    "    @constraint(m, xi[1] == X[end][1] + Δt * xi[2])\n",
    "    push!(U, u)\n",
    "    push!(X, xi)\n",
    "end\n",
    "\n",
    "@objective m Min sum([x[1]^2 + 0.01 * x[2]^2 for x in X]) + 0.01 * sum([u^2 for u in U])\n",
    "solve(m)\n",
    "\n"
   ]
  },
  {
   "cell_type": "code",
   "execution_count": null,
   "metadata": {},
   "outputs": [],
   "source": [
    "plt = plot([x[1] for x in getvalue.(X)], label=\"x\")\n",
    "plot!(plt, getvalue.(U), label=\"u\")"
   ]
  },
  {
   "cell_type": "code",
   "execution_count": null,
   "metadata": {},
   "outputs": [],
   "source": [
    "ex = eq.explicit_solution(m, X[1])"
   ]
  },
  {
   "cell_type": "code",
   "execution_count": null,
   "metadata": {},
   "outputs": [],
   "source": [
    "eq.getsolution(ex, U[1])"
   ]
  },
  {
   "cell_type": "code",
   "execution_count": null,
   "metadata": {
    "collapsed": true
   },
   "outputs": [],
   "source": []
  }
 ],
 "metadata": {
  "kernelspec": {
   "display_name": "Julia 0.6.0",
   "language": "julia",
   "name": "julia-0.6"
  },
  "language_info": {
   "file_extension": ".jl",
   "mimetype": "application/julia",
   "name": "julia",
   "version": "0.6.0"
  }
 },
 "nbformat": 4,
 "nbformat_minor": 2
}
