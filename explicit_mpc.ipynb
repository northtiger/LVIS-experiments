{
 "cells": [
  {
   "cell_type": "code",
   "execution_count": 1,
   "metadata": {
    "collapsed": true
   },
   "outputs": [],
   "source": [
    "using JuMP, ConditionalJuMP, Gurobi"
   ]
  },
  {
   "cell_type": "code",
   "execution_count": 7,
   "metadata": {},
   "outputs": [
    {
     "name": "stdout",
     "output_type": "stream",
     "text": [
      "Optimize a model with 6 rows, 3 columns and 12 nonzeros\n",
      "Model has 2 quadratic objective terms\n",
      "Variable types: 2 continuous, 1 integer (1 binary)\n",
      "Coefficient statistics:\n",
      "  Matrix range     [5e-01, 2e+00]\n",
      "  Objective range  [2e+00, 3e+00]\n",
      "  QObjective range [2e+00, 2e+00]\n",
      "  Bounds range     [1e+00, 1e+00]\n",
      "  RHS range        [1e+00, 1e+00]\n",
      "Presolve removed 1 rows and 0 columns\n",
      "Presolve time: 0.00s\n",
      "Presolved: 5 rows, 3 columns, 11 nonzeros\n",
      "Presolved model has 2 quadratic objective terms\n",
      "Variable types: 2 continuous, 1 integer (1 binary)\n",
      "\n",
      "Root relaxation: objective -5.000000e-02, 6 iterations, 0.00 seconds\n",
      "\n",
      "    Nodes    |    Current Node    |     Objective Bounds      |     Work\n",
      " Expl Unexpl |  Obj  Depth IntInf | Incumbent    BestBd   Gap | It/Node Time\n",
      "\n",
      "     0     0   -0.05000    0    1          -   -0.05000      -     -    0s\n",
      "H    0     0                       0.0000000   -0.05000      -     -    0s\n",
      "\n",
      "Explored 0 nodes (6 simplex iterations) in 0.00 seconds\n",
      "Thread count was 12 (of 12 available processors)\n",
      "\n",
      "Solution count 1: 0 \n",
      "Pool objective bound 0\n",
      "\n",
      "Optimal solution found (tolerance 1.00e-04)\n",
      "Best objective 0.000000000000e+00, best bound 0.000000000000e+00, gap -\n"
     ]
    },
    {
     "data": {
      "text/plain": [
       "(0.0, 0.0)"
      ]
     },
     "execution_count": 7,
     "metadata": {},
     "output_type": "execute_result"
    }
   ],
   "source": [
    "m = Model(solver=GurobiSolver())\n",
    "@variable m -1 <= x <= 1\n",
    "@variable m -1 <= y <= 1\n",
    "@implies m (x <= 0) => (y == 0.5)\n",
    "@constraint m y >= x\n",
    "d = -1\n",
    "@objective m Min ((x - d)^2 + (y - (d - 0.5))^2)\n",
    "solve(m)\n",
    "getvalue(x), getvalue(y)"
   ]
  },
  {
   "cell_type": "code",
   "execution_count": 225,
   "metadata": {},
   "outputs": [
    {
     "data": {
      "text/latex": [
       "$$ \\begin{alignat*}{1}\\min\\quad & x^2 + 0.1 x\\times y + y^2\\\\\n",
       "\\text{Subject to} \\quad & y - x \\geq 0\\\\\n",
       " & x \\geq 0.5\\\\\n",
       " & y\\\\\n",
       "\\end{alignat*}\n",
       " $$"
      ],
      "text/plain": [
       "Minimization problem with:\n",
       " * 1 linear constraint\n",
       " * 2 variables\n",
       "Solver is Gurobi"
      ]
     },
     "metadata": {},
     "output_type": "display_data"
    },
    {
     "name": "stdout",
     "output_type": "stream",
     "text": [
      "Optimize a model with 1 rows, 2 columns and 2 nonzeros\n",
      "Model has 3 quadratic objective terms\n",
      "Coefficient statistics:\n",
      "  Matrix range     [1e+00, 1e+00]\n",
      "  Objective range  [0e+00, 0e+00]\n",
      "  QObjective range [2e-01, 2e+00]\n",
      "  Bounds range     [5e-01, 5e-01]\n",
      "  RHS range        [0e+00, 0e+00]\n",
      "Presolve time: 0.00s\n",
      "Presolved: 1 rows, 2 columns, 2 nonzeros\n",
      "Presolved model has 3 quadratic objective terms\n",
      "Ordering time: 0.00s\n",
      "\n",
      "Barrier statistics:\n",
      " Free vars  : 1\n",
      " AA' NZ     : 1.000e+00\n",
      " Factor NZ  : 3.000e+00\n",
      " Factor Ops : 5.000e+00 (less than 1 second per iteration)\n",
      " Threads    : 1\n",
      "\n",
      "                  Objective                Residual\n",
      "Iter       Primal          Dual         Primal    Dual     Compl     Time\n",
      "   0   2.49759884e+05 -2.49262247e+05  1.02e+03 2.31e-07  1.00e+06     0s\n",
      "   1   1.66279362e+05 -1.65750543e+05  1.03e-03 2.27e-13  1.11e+05     0s\n",
      "   2   2.44246029e+04 -2.42216146e+04  1.02e-09 0.00e+00  1.62e+04     0s\n",
      "   3   3.60264336e+03 -3.52450433e+03  3.22e-15 7.11e-15  2.38e+03     0s\n",
      "   4   5.37222534e+02 -5.06918816e+02  4.11e-15 0.00e+00  3.48e+02     0s\n",
      "   5   8.24445696e+01 -7.04648038e+01  1.22e-15 1.78e-15  5.10e+01     0s\n",
      "   6   1.36508467e+01 -8.68179321e+00  1.11e-16 8.88e-16  7.44e+00     0s\n",
      "   7   2.75557040e+00 -4.47915468e-01  2.22e-16 8.88e-16  1.07e+00     0s\n",
      "   8   8.77183533e-01  4.67375527e-01  0.00e+00 0.00e+00  1.37e-01     0s\n",
      "   9   5.50813737e-01  5.23912115e-01  0.00e+00 6.94e-17  8.97e-03     0s\n",
      "  10   5.25029733e-01  5.24466543e-01  0.00e+00 2.47e-17  1.88e-04     0s\n",
      "  11   5.25015071e-01  5.24999321e-01  1.11e-16 0.00e+00  5.25e-06     0s\n",
      "  12   5.25000015e-01  5.24999999e-01  1.11e-16 3.75e-17  5.33e-09     0s\n",
      "  13   5.25000000e-01  5.25000000e-01  0.00e+00 3.92e-17  5.33e-12     0s\n",
      "\n",
      "Barrier solved model in 13 iterations and 0.00 seconds\n",
      "Optimal objective 5.25000000e-01\n",
      "\n"
     ]
    },
    {
     "data": {
      "text/plain": [
       "(0.5000000000116488, 0.5000000000029408)"
      ]
     },
     "execution_count": 225,
     "metadata": {},
     "output_type": "execute_result"
    }
   ],
   "source": [
    "m = Model(solver=GurobiSolver())\n",
    "@variable m x >= 0.5\n",
    "@variable m y\n",
    "@constraint m y >= x\n",
    "# JuMP.fix(x, 0.5)\n",
    "@objective m Min x^2 + y^2 + 0.1 * x * y\n",
    "# c = @constraint m x == -0.5\n",
    "solve(m)\n",
    "display(m)\n",
    "getvalue.((y, x))"
   ]
  },
  {
   "cell_type": "code",
   "execution_count": 226,
   "metadata": {},
   "outputs": [
    {
     "name": "stderr",
     "output_type": "stream",
     "text": [
      "WARNING: replacing module X\n"
     ]
    },
    {
     "data": {
      "text/plain": [
       "X"
      ]
     },
     "execution_count": 226,
     "metadata": {},
     "output_type": "execute_result"
    }
   ],
   "source": [
    "module X\n",
    "\n",
    "using JuMP\n",
    "\n",
    "# See Bemporad, \"A Survey on Explicit Model Predictive Control\", \n",
    "# section 2.2 (page 353). \n",
    "# struct CanonicalModel{T, M <: AbstractMatrix{T}}\n",
    "#     Y::M\n",
    "#     H::M\n",
    "#     F::M\n",
    "#     G::M\n",
    "#     W::Vector{T}\n",
    "#     S::M\n",
    "# end\n",
    "\n",
    "struct ExplicitSolution{T, M <: AbstractMatrix{T}}\n",
    "    constant::Vector{T}\n",
    "    linear::M\n",
    "    x::Vector{T}\n",
    "end\n",
    "\n",
    "(s::ExplicitSolution)(x) = s.constant .+ s.linear * x\n",
    "(s::ExplicitSolution)() = s.constant .+ s.linear * s.x\n",
    "jacobian(s::ExplicitSolution) = s.linear\n",
    "\n",
    "getcol(x::Variable) = x.col\n",
    "\n",
    "function explicit_solution(m::Model, params::AbstractArray{Variable}, eps=1e-3)\n",
    "    @assert isempty(m.obj.aff)\n",
    "    \n",
    "    nvars = length(m.colCat)\n",
    "    A_active = SparseVector{Float64, Int64}[]\n",
    "    b_active = Float64[]\n",
    "    \n",
    "    for i in 1:nvars\n",
    "        var = Variable(m, i)\n",
    "        if var in params\n",
    "            continue\n",
    "        end\n",
    "        λ = getdual(var)\n",
    "        if abs(λ) > eps\n",
    "            if λ > 0\n",
    "                ai = sparsevec([i], [-1.0], nvars)\n",
    "                bi = -m.colLower[i]\n",
    "            else\n",
    "                ai = sparsevec([i], [1.0], nvars)\n",
    "                bi = m.colUpper[i]\n",
    "            end \n",
    "            push!(A_active, ai)\n",
    "            push!(b_active, bi)\n",
    "        end\n",
    "    end\n",
    "    \n",
    "    nconstr = length(m.linconstr)\n",
    "    for (constraint, λ) in zip(m.linconstr, m.linconstrDuals)\n",
    "        if abs(λ) > eps\n",
    "            if λ > 0\n",
    "                ai = -sparsevec([var.col for var in constraint.terms.vars], constraint.terms.coeffs, nvars)\n",
    "                bi = -constraint.lb\n",
    "            else\n",
    "                ai = sparsevec([var.col for var in constraint.terms.vars], constraint.terms.coeffs, nvars)\n",
    "                bi = constraint.ub\n",
    "            end\n",
    "            push!(A_active, ai)\n",
    "            push!(b_active, bi)\n",
    "        end\n",
    "    end\n",
    "    \n",
    "    param_cols = Set([v.col for v in params])\n",
    "    isparam = collect(1:nvars) .∈ param_cols\n",
    "    Ã = vcat(transpose.(A_active)...)\n",
    "    W̃ = vcat(b_active...)\n",
    "    G̃ = Ã[:, .!isparam]\n",
    "    S̃ = .-Ã[:, isparam]\n",
    "    \n",
    "    Q = sparse(getcol.(m.obj.qvars1), getcol.(m.obj.qvars2), m.obj.qcoeffs, nvars, nvars)\n",
    "    Q = 0.5 .* (Q .+ Q')\n",
    "    H = Q[.!isparam, .!isparam]\n",
    "    Hi = full(H)^-1\n",
    "    F = Q[isparam, .!isparam]\n",
    "    Y = Q[isparam, isparam]\n",
    "    \n",
    "    v_test = rand(nvars)\n",
    "    x_test = v_test[isparam]\n",
    "    z_test = v_test[.!isparam]\n",
    "    @assert 0.5 * v_test' * Q * v_test ≈ (0.5 * z_test' * H * z_test + x_test' * F * z_test + 0.5 * x_test' * Y * x_test)\n",
    "\n",
    "    x = getvalue(params)    \n",
    "    λ_active = -(G̃ * Hi * G̃') * (W̃ + (S̃ + G̃ * Hi * F) * x)\n",
    "    T = Hi * G̃' * (G̃ * Hi * G̃')^-1\n",
    "    ExplicitSolution(T * W̃, T * (S̃ + G̃ * Hi * F) - Hi * F, x)\n",
    "end\n",
    "\n",
    "end"
   ]
  },
  {
   "cell_type": "code",
   "execution_count": 227,
   "metadata": {},
   "outputs": [
    {
     "data": {
      "text/plain": [
       "X.ExplicitSolution{Float64,Array{Float64,2}}([0.0], [1.0], [0.5])"
      ]
     },
     "execution_count": 227,
     "metadata": {},
     "output_type": "execute_result"
    }
   ],
   "source": [
    "solution = X.explicit_solution(m, [x])"
   ]
  },
  {
   "cell_type": "code",
   "execution_count": 228,
   "metadata": {},
   "outputs": [
    {
     "data": {
      "text/plain": [
       "1-element Array{Float64,1}:\n",
       " 0.5"
      ]
     },
     "execution_count": 228,
     "metadata": {},
     "output_type": "execute_result"
    }
   ],
   "source": [
    "solution()"
   ]
  },
  {
   "cell_type": "code",
   "execution_count": 229,
   "metadata": {},
   "outputs": [
    {
     "data": {
      "text/plain": [
       "(0.5000000000116488, 0.5000000000029408)"
      ]
     },
     "execution_count": 229,
     "metadata": {},
     "output_type": "execute_result"
    }
   ],
   "source": [
    "getvalue.((y, x))"
   ]
  },
  {
   "cell_type": "code",
   "execution_count": 169,
   "metadata": {},
   "outputs": [
    {
     "ename": "LoadError",
     "evalue": "\u001b[91minvalid redefinition of constant ExplicitSolution\u001b[39m",
     "output_type": "error",
     "traceback": [
      "\u001b[91minvalid redefinition of constant ExplicitSolution\u001b[39m",
      "",
      "Stacktrace:",
      " [1] \u001b[1minclude_string\u001b[22m\u001b[22m\u001b[1m(\u001b[22m\u001b[22m::String, ::String\u001b[1m)\u001b[22m\u001b[22m at \u001b[1m./loading.jl:515\u001b[22m\u001b[22m"
     ]
    }
   ],
   "source": [
    "solution = X.canonicalize"
   ]
  },
  {
   "cell_type": "code",
   "execution_count": 161,
   "metadata": {},
   "outputs": [
    {
     "data": {
      "text/plain": [
       "canonicalize (generic function with 2 methods)"
      ]
     },
     "execution_count": 161,
     "metadata": {},
     "output_type": "execute_result"
    }
   ],
   "source": []
  },
  {
   "cell_type": "code",
   "execution_count": 163,
   "metadata": {},
   "outputs": [
    {
     "data": {
      "text/plain": [
       "3×3 Array{Float64,2}:\n",
       " 0.385527  0.0       0.0     \n",
       " 0.493046  0.750508  0.0     \n",
       " 0.229975  0.902256  0.605159"
      ]
     },
     "execution_count": 163,
     "metadata": {},
     "output_type": "execute_result"
    }
   ],
   "source": [
    "A"
   ]
  },
  {
   "cell_type": "code",
   "execution_count": 166,
   "metadata": {},
   "outputs": [
    {
     "data": {
      "text/html": [
       "^<i>{T}</i>(A::<b>AbstractArray{T,2}</b>, p::<b>Integer</b>) at <a href=\"https://github.com/JuliaLang/julia/tree/903644385b91ed8d95e5e3a5716c089dd1f1b08a/base/linalg/dense.jl#L332\" target=\"_blank\">linalg/dense.jl:332</a>"
      ],
      "text/plain": [
       "^(A::AbstractArray{T,2}, p::Integer) where T in Base.LinAlg at linalg/dense.jl:332"
      ]
     },
     "execution_count": 166,
     "metadata": {},
     "output_type": "execute_result"
    }
   ],
   "source": [
    "@which A^-1"
   ]
  },
  {
   "cell_type": "code",
   "execution_count": 165,
   "metadata": {},
   "outputs": [
    {
     "data": {
      "text/plain": [
       "3×3 Array{Float64,2}:\n",
       "  2.59385   0.0      0.0    \n",
       " -1.70403   1.33243  0.0    \n",
       "  1.55488  -1.98657  1.65246"
      ]
     },
     "execution_count": 165,
     "metadata": {},
     "output_type": "execute_result"
    }
   ],
   "source": [
    "inv(A)"
   ]
  },
  {
   "cell_type": "code",
   "execution_count": 162,
   "metadata": {},
   "outputs": [],
   "source": [
    "canonicalize(m, [x])"
   ]
  },
  {
   "cell_type": "code",
   "execution_count": null,
   "metadata": {
    "collapsed": true
   },
   "outputs": [],
   "source": []
  }
 ],
 "metadata": {
  "kernelspec": {
   "display_name": "Julia 0.6.0",
   "language": "julia",
   "name": "julia-0.6"
  },
  "language_info": {
   "file_extension": ".jl",
   "mimetype": "application/julia",
   "name": "julia",
   "version": "0.6.0"
  }
 },
 "nbformat": 4,
 "nbformat_minor": 2
}
