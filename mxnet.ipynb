{
 "cells": [
  {
   "cell_type": "code",
   "execution_count": 3,
   "metadata": {
    "collapsed": false
   },
   "outputs": [
    {
     "name": "stderr",
     "output_type": "stream",
     "text": [
      "\u001b[1m\u001b[34mINFO: Precompiling module MXNet.\n",
      "\u001b[0m  % Total    % Received % Xferd  Average Speed   Time    Time     Time  Current\n",
      "                                 Dload  Upload   Total   Spent    Left  Speed\n",
      "100 11.0M  100 11.0M    0     0  3403k      0  0:00:03  0:00:03 --:--:-- 3403k\n"
     ]
    },
    {
     "name": "stdout",
     "output_type": "stream",
     "text": [
      "Archive:  mnist.zip\n",
      "  inflating: t10k-images-idx3-ubyte  \n",
      "  inflating: t10k-labels-idx1-ubyte  \n",
      "  inflating: train-images-idx3-ubyte  \n",
      "  inflating: train-labels-idx1-ubyte  \n"
     ]
    },
    {
     "name": "stderr",
     "output_type": "stream",
     "text": [
      "\u001b[1m\u001b[34mINFO: Start training on MXNet.mx.Context[CPU0]\n",
      "\u001b[0m\u001b[1m\u001b[34mINFO: Initializing parameters...\n",
      "\u001b[0m\u001b[1m\u001b[34mINFO: Creating KVStore...\n",
      "\u001b[0m\u001b[1m\u001b[34mINFO: TempSpace: Total 0 MB allocated on CPU0\n",
      "\u001b[0m\u001b[1m\u001b[34mINFO: Start training...\n",
      "\u001b[0m\u001b[1m\u001b[34mINFO: == Epoch 001/020 ==========\n",
      "\u001b[0m\u001b[1m\u001b[34mINFO: ## Training summary\n",
      "\u001b[0m\u001b[1m\u001b[34mINFO:           accuracy = 0.7549\n",
      "\u001b[0m\u001b[1m\u001b[34mINFO:               time = 2.0999 seconds\n",
      "\u001b[0m\u001b[1m\u001b[34mINFO: ## Validation summary\n",
      "\u001b[0m\u001b[1m\u001b[34mINFO:           accuracy = 0.9507\n",
      "\u001b[0m\u001b[1m\u001b[34mINFO: == Epoch 002/020 ==========\n",
      "\u001b[0m\u001b[1m\u001b[34mINFO: ## Training summary\n",
      "\u001b[0m\u001b[1m\u001b[34mINFO:           accuracy = 0.9571\n",
      "\u001b[0m\u001b[1m\u001b[34mINFO:               time = 1.4416 seconds\n",
      "\u001b[0m\u001b[1m\u001b[34mINFO: ## Validation summary\n",
      "\u001b[0m\u001b[1m\u001b[34mINFO:           accuracy = 0.9641\n",
      "\u001b[0m\u001b[1m\u001b[34mINFO: == Epoch 003/020 ==========\n",
      "\u001b[0m\u001b[1m\u001b[34mINFO: ## Training summary\n",
      "\u001b[0m\u001b[1m\u001b[34mINFO:           accuracy = 0.9690\n",
      "\u001b[0m\u001b[1m\u001b[34mINFO:               time = 1.5381 seconds\n",
      "\u001b[0m\u001b[1m\u001b[34mINFO: ## Validation summary\n",
      "\u001b[0m\u001b[1m\u001b[34mINFO:           accuracy = 0.9672\n",
      "\u001b[0m\u001b[1m\u001b[34mINFO: == Epoch 004/020 ==========\n",
      "\u001b[0m\u001b[1m\u001b[34mINFO: ## Training summary\n",
      "\u001b[0m\u001b[1m\u001b[34mINFO:           accuracy = 0.9763\n",
      "\u001b[0m\u001b[1m\u001b[34mINFO:               time = 1.6903 seconds\n",
      "\u001b[0m\u001b[1m\u001b[34mINFO: ## Validation summary\n",
      "\u001b[0m\u001b[1m\u001b[34mINFO:           accuracy = 0.9732\n",
      "\u001b[0m\u001b[1m\u001b[34mINFO: == Epoch 005/020 ==========\n",
      "\u001b[0m\u001b[1m\u001b[34mINFO: ## Training summary\n",
      "\u001b[0m\u001b[1m\u001b[34mINFO:           accuracy = 0.9807\n",
      "\u001b[0m\u001b[1m\u001b[34mINFO:               time = 2.1570 seconds\n",
      "\u001b[0m\u001b[1m\u001b[34mINFO: ## Validation summary\n",
      "\u001b[0m\u001b[1m\u001b[34mINFO:           accuracy = 0.9748\n",
      "\u001b[0m\u001b[1m\u001b[34mINFO: == Epoch 006/020 ==========\n",
      "\u001b[0m\u001b[1m\u001b[34mINFO: ## Training summary\n",
      "\u001b[0m\u001b[1m\u001b[34mINFO:           accuracy = 0.9836\n",
      "\u001b[0m\u001b[1m\u001b[34mINFO:               time = 1.5918 seconds\n",
      "\u001b[0m\u001b[1m\u001b[34mINFO: ## Validation summary\n",
      "\u001b[0m\u001b[1m\u001b[34mINFO:           accuracy = 0.9748\n",
      "\u001b[0m\u001b[1m\u001b[34mINFO: == Epoch 007/020 ==========\n",
      "\u001b[0m\u001b[1m\u001b[34mINFO: ## Training summary\n",
      "\u001b[0m\u001b[1m\u001b[34mINFO:           accuracy = 0.9854\n",
      "\u001b[0m\u001b[1m\u001b[34mINFO:               time = 2.1718 seconds\n",
      "\u001b[0m\u001b[1m\u001b[34mINFO: ## Validation summary\n",
      "\u001b[0m\u001b[1m\u001b[34mINFO:           accuracy = 0.9777\n",
      "\u001b[0m\u001b[1m\u001b[34mINFO: == Epoch 008/020 ==========\n",
      "\u001b[0m\u001b[1m\u001b[34mINFO: ## Training summary\n",
      "\u001b[0m\u001b[1m\u001b[34mINFO:           accuracy = 0.9861\n",
      "\u001b[0m\u001b[1m\u001b[34mINFO:               time = 1.7400 seconds\n",
      "\u001b[0m\u001b[1m\u001b[34mINFO: ## Validation summary\n",
      "\u001b[0m\u001b[1m\u001b[34mINFO:           accuracy = 0.9723\n",
      "\u001b[0m\u001b[1m\u001b[34mINFO: == Epoch 009/020 ==========\n",
      "\u001b[0m\u001b[1m\u001b[34mINFO: ## Training summary\n",
      "\u001b[0m\u001b[1m\u001b[34mINFO:           accuracy = 0.9877\n",
      "\u001b[0m\u001b[1m\u001b[34mINFO:               time = 1.9085 seconds\n",
      "\u001b[0m\u001b[1m\u001b[34mINFO: ## Validation summary\n",
      "\u001b[0m\u001b[1m\u001b[34mINFO:           accuracy = 0.9742\n",
      "\u001b[0m\u001b[1m\u001b[34mINFO: == Epoch 010/020 ==========\n",
      "\u001b[0m\u001b[1m\u001b[34mINFO: ## Training summary\n",
      "\u001b[0m\u001b[1m\u001b[34mINFO:           accuracy = 0.9899\n",
      "\u001b[0m\u001b[1m\u001b[34mINFO:               time = 1.7687 seconds\n",
      "\u001b[0m\u001b[1m\u001b[34mINFO: ## Validation summary\n",
      "\u001b[0m\u001b[1m\u001b[34mINFO:           accuracy = 0.9740\n",
      "\u001b[0m\u001b[1m\u001b[34mINFO: == Epoch 011/020 ==========\n",
      "\u001b[0m\u001b[1m\u001b[34mINFO: ## Training summary\n",
      "\u001b[0m\u001b[1m\u001b[34mINFO:           accuracy = 0.9903\n",
      "\u001b[0m\u001b[1m\u001b[34mINFO:               time = 1.6868 seconds\n",
      "\u001b[0m\u001b[1m\u001b[34mINFO: ## Validation summary\n",
      "\u001b[0m\u001b[1m\u001b[34mINFO:           accuracy = 0.9759\n",
      "\u001b[0m\u001b[1m\u001b[34mINFO: == Epoch 012/020 ==========\n",
      "\u001b[0m\u001b[1m\u001b[34mINFO: ## Training summary\n",
      "\u001b[0m\u001b[1m\u001b[34mINFO:           accuracy = 0.9901\n",
      "\u001b[0m\u001b[1m\u001b[34mINFO:               time = 1.7374 seconds\n",
      "\u001b[0m\u001b[1m\u001b[34mINFO: ## Validation summary\n",
      "\u001b[0m\u001b[1m\u001b[34mINFO:           accuracy = 0.9751\n",
      "\u001b[0m\u001b[1m\u001b[34mINFO: == Epoch 013/020 ==========\n",
      "\u001b[0m\u001b[1m\u001b[34mINFO: ## Training summary\n",
      "\u001b[0m\u001b[1m\u001b[34mINFO:           accuracy = 0.9915\n",
      "\u001b[0m\u001b[1m\u001b[34mINFO:               time = 1.7017 seconds\n",
      "\u001b[0m\u001b[1m\u001b[34mINFO: ## Validation summary\n",
      "\u001b[0m\u001b[1m\u001b[34mINFO:           accuracy = 0.9781\n",
      "\u001b[0m\u001b[1m\u001b[34mINFO: == Epoch 014/020 ==========\n",
      "\u001b[0m\u001b[1m\u001b[34mINFO: ## Training summary\n",
      "\u001b[0m\u001b[1m\u001b[34mINFO:           accuracy = 0.9921\n",
      "\u001b[0m\u001b[1m\u001b[34mINFO:               time = 1.7637 seconds\n",
      "\u001b[0m\u001b[1m\u001b[34mINFO: ## Validation summary\n",
      "\u001b[0m\u001b[1m\u001b[34mINFO:           accuracy = 0.9731\n",
      "\u001b[0m\u001b[1m\u001b[34mINFO: == Epoch 015/020 ==========\n",
      "\u001b[0m\u001b[1m\u001b[34mINFO: ## Training summary\n",
      "\u001b[0m\u001b[1m\u001b[34mINFO:           accuracy = 0.9920\n",
      "\u001b[0m\u001b[1m\u001b[34mINFO:               time = 1.7358 seconds\n",
      "\u001b[0m\u001b[1m\u001b[34mINFO: ## Validation summary\n",
      "\u001b[0m\u001b[1m\u001b[34mINFO:           accuracy = 0.9743\n",
      "\u001b[0m\u001b[1m\u001b[34mINFO: == Epoch 016/020 ==========\n",
      "\u001b[0m\u001b[1m\u001b[34mINFO: ## Training summary\n",
      "\u001b[0m\u001b[1m\u001b[34mINFO:           accuracy = 0.9920\n",
      "\u001b[0m\u001b[1m\u001b[34mINFO:               time = 1.6087 seconds\n",
      "\u001b[0m\u001b[1m\u001b[34mINFO: ## Validation summary\n",
      "\u001b[0m\u001b[1m\u001b[34mINFO:           accuracy = 0.9778\n",
      "\u001b[0m\u001b[1m\u001b[34mINFO: == Epoch 017/020 ==========\n",
      "\u001b[0m\u001b[1m\u001b[34mINFO: ## Training summary\n",
      "\u001b[0m\u001b[1m\u001b[34mINFO:           accuracy = 0.9926\n",
      "\u001b[0m\u001b[1m\u001b[34mINFO:               time = 1.6260 seconds\n",
      "\u001b[0m\u001b[1m\u001b[34mINFO: ## Validation summary\n",
      "\u001b[0m\u001b[1m\u001b[34mINFO:           accuracy = 0.9815\n",
      "\u001b[0m\u001b[1m\u001b[34mINFO: == Epoch 018/020 ==========\n",
      "\u001b[0m\u001b[1m\u001b[34mINFO: ## Training summary\n",
      "\u001b[0m\u001b[1m\u001b[34mINFO:           accuracy = 0.9934\n",
      "\u001b[0m\u001b[1m\u001b[34mINFO:               time = 1.6698 seconds\n",
      "\u001b[0m\u001b[1m\u001b[34mINFO: ## Validation summary\n",
      "\u001b[0m\u001b[1m\u001b[34mINFO:           accuracy = 0.9792\n",
      "\u001b[0m\u001b[1m\u001b[34mINFO: == Epoch 019/020 ==========\n",
      "\u001b[0m\u001b[1m\u001b[34mINFO: ## Training summary\n",
      "\u001b[0m\u001b[1m\u001b[34mINFO:           accuracy = 0.9937\n",
      "\u001b[0m\u001b[1m\u001b[34mINFO:               time = 1.6603 seconds\n",
      "\u001b[0m\u001b[1m\u001b[34mINFO: ## Validation summary\n",
      "\u001b[0m\u001b[1m\u001b[34mINFO:           accuracy = 0.9722\n",
      "\u001b[0m\u001b[1m\u001b[34mINFO: == Epoch 020/020 ==========\n",
      "\u001b[0m\u001b[1m\u001b[34mINFO: ## Training summary\n",
      "\u001b[0m\u001b[1m\u001b[34mINFO:           accuracy = 0.9923\n",
      "\u001b[0m\u001b[1m\u001b[34mINFO:               time = 1.7480 seconds\n",
      "\u001b[0m\u001b[1m\u001b[34mINFO: ## Validation summary\n",
      "\u001b[0m\u001b[1m\u001b[34mINFO:           accuracy = 0.9783\n",
      "\u001b[0m\u001b[1m\u001b[34mINFO: Finish training on MXNet.mx.Context[CPU0]\n",
      "\u001b[0m"
     ]
    }
   ],
   "source": [
    "using MXNet\n",
    "\n",
    "mlp = @mx.chain mx.Variable(:data)             =>\n",
    "  mx.FullyConnected(name=:fc1, num_hidden=128) =>\n",
    "  mx.Activation(name=:relu1, act_type=:relu)   =>\n",
    "  mx.FullyConnected(name=:fc2, num_hidden=64)  =>\n",
    "  mx.Activation(name=:relu2, act_type=:relu)   =>\n",
    "  mx.FullyConnected(name=:fc3, num_hidden=10)  =>\n",
    "  mx.SoftmaxOutput(name=:softmax)\n",
    "\n",
    "# data provider\n",
    "batch_size = 100\n",
    "include(Pkg.dir(\"MXNet\", \"examples\", \"mnist\", \"mnist-data.jl\"))\n",
    "train_provider, eval_provider = get_mnist_providers(batch_size)\n",
    "\n",
    "# setup model\n",
    "model = mx.FeedForward(mlp, context=mx.cpu())\n",
    "\n",
    "# optimization algorithm\n",
    "optimizer = mx.SGD(lr=0.1, momentum=0.9)\n",
    "\n",
    "# fit parameters\n",
    "mx.fit(model, optimizer, train_provider, n_epoch=20, eval_data=eval_provider)"
   ]
  },
  {
   "cell_type": "code",
   "execution_count": 6,
   "metadata": {
    "collapsed": false
   },
   "outputs": [
    {
     "data": {
      "text/plain": [
       "100"
      ]
     },
     "execution_count": 6,
     "metadata": {},
     "output_type": "execute_result"
    }
   ],
   "source": [
    "mx.get_batch_size(train_provider)"
   ]
  },
  {
   "cell_type": "code",
   "execution_count": 7,
   "metadata": {
    "collapsed": false
   },
   "outputs": [
    {
     "data": {
      "text/plain": [
       "1-element Array{Tuple{Symbol,Tuple},1}:\n",
       " (:data,(784,100))"
      ]
     },
     "execution_count": 7,
     "metadata": {},
     "output_type": "execute_result"
    }
   ],
   "source": [
    "mx.provide_data(train_provider)"
   ]
  },
  {
   "cell_type": "code",
   "execution_count": 10,
   "metadata": {
    "collapsed": false
   },
   "outputs": [
    {
     "name": "stdout",
     "output_type": "stream",
     "text": [
      "mx.get_data(train_provider,p) = MXNet.mx.NDArray[mx.NDArray{Float32}(784,100)]\n"
     ]
    }
   ],
   "source": [
    "for p in train_provider\n",
    "    @show mx.get_data(train_provider, p)\n",
    "    break\n",
    "end"
   ]
  },
  {
   "cell_type": "code",
   "execution_count": null,
   "metadata": {
    "collapsed": true
   },
   "outputs": [],
   "source": [
    "mx.get"
   ]
  }
 ],
 "metadata": {
  "kernelspec": {
   "display_name": "Julia 0.5.1",
   "language": "julia",
   "name": "julia-0.5"
  },
  "language_info": {
   "file_extension": ".jl",
   "mimetype": "application/julia",
   "name": "julia",
   "version": "0.5.1"
  }
 },
 "nbformat": 4,
 "nbformat_minor": 2
}
