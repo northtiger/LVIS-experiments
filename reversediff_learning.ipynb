{
 "cells": [
  {
   "cell_type": "code",
   "execution_count": 1,
   "metadata": {
    "collapsed": false
   },
   "outputs": [
    {
     "data": {
      "text/plain": [
       "Plots.GRBackend()"
      ]
     },
     "execution_count": 1,
     "metadata": {},
     "output_type": "execute_result"
    }
   ],
   "source": [
    "using ReverseDiff\n",
    "using ProgressMeter\n",
    "using MLDataPattern\n",
    "using Plots\n",
    "gr()"
   ]
  },
  {
   "cell_type": "code",
   "execution_count": 2,
   "metadata": {
    "collapsed": false
   },
   "outputs": [
    {
     "data": {
      "text/plain": [
       "viewblocks (generic function with 1 method)"
      ]
     },
     "execution_count": 2,
     "metadata": {},
     "output_type": "execute_result"
    }
   ],
   "source": [
    "head(t::Tuple) = tuple(t[1])\n",
    "\n",
    "function viewblocks{T <: NTuple}(data::AbstractArray, shapes::AbstractVector{T})\n",
    "    starts = cumsum(vcat([1], prod.(shapes)))\n",
    "    [reshape(view(data, starts[i]:(starts[i+1] - 1)), shapes[i]) for i in 1:length(shapes)]\n",
    "end"
   ]
  },
  {
   "cell_type": "code",
   "execution_count": 122,
   "metadata": {
    "collapsed": false
   },
   "outputs": [
    {
     "data": {
      "text/plain": [
       "(::#225) (generic function with 1 method)"
      ]
     },
     "execution_count": 122,
     "metadata": {},
     "output_type": "execute_result"
    }
   ],
   "source": [
    "predict = (flat_weights, shapes, x) -> begin\n",
    "    weights = viewblocks(flat_weights, shapes)\n",
    "    num_weights = sum(length, weights)\n",
    "    biases = viewblocks(@view(flat_weights[(num_weights + 1):end]), head.(shapes))\n",
    "    y = x\n",
    "    J = eye(length(x))\n",
    "    for i in 1:(length(shapes) - 1)\n",
    "        w = weights[i]\n",
    "        y = w * y .+ biases[i]\n",
    "        J = w * J\n",
    "#         for I in eachindex(y)\n",
    "#             if y[I] >= 0\n",
    "#                 z = 1\n",
    "        z = [yy >= 0 ? 1.0 : 0.1 for yy in y]\n",
    "#         z = y .>= 0\n",
    "        y = y .* z\n",
    "        J = J .* z\n",
    "    end\n",
    "    w = weights[end]\n",
    "    vcat(vec(w * y), vec(w * J))\n",
    "end\n",
    "\n",
    "loss = (w, shapes, x, y) -> sumabs2(y - predict(w, shapes, x))"
   ]
  },
  {
   "cell_type": "code",
   "execution_count": 134,
   "metadata": {
    "collapsed": false
   },
   "outputs": [
    {
     "name": "stderr",
     "output_type": "stream",
     "text": [
      "WARNING: Method definition train(Any, Any, Any) in module Main at In[123]:2 overwritten at In[134]:2.\n",
      "WARNING: Method definition train(Any, Any, Any, Any) in module Main at In[123]:2 overwritten at In[134]:2.\n",
      "WARNING: Method definition train(Any, Any, Any, Any, Any) in module Main at In[123]:2 overwritten at In[134]:2.\n"
     ]
    },
    {
     "data": {
      "text/plain": [
       "train (generic function with 3 methods)"
      ]
     },
     "execution_count": 134,
     "metadata": {},
     "output_type": "execute_result"
    }
   ],
   "source": [
    "function train(w, shapes, data, lr=0.1, momentum=0.8)\n",
    "    last_descent = zeros(w)\n",
    "    for batch in batchview(data, 1)\n",
    "        dw = zeros(w)\n",
    "        for (x, y) in batch\n",
    "            sample_grad = ReverseDiff.gradient(w -> loss(w, shapes, x, y), w)\n",
    "            dw .+= sample_grad\n",
    "        end\n",
    "        for i in 1:length(w)\n",
    "            v = lr * dw[i] + momentum * last_descent[i]\n",
    "            w[i] -= v\n",
    "            last_descent[i] = v\n",
    "        end\n",
    "    end\n",
    "    w\n",
    "end"
   ]
  },
  {
   "cell_type": "code",
   "execution_count": 135,
   "metadata": {
    "collapsed": false
   },
   "outputs": [],
   "source": [
    "x = [1.0]\n",
    "shapes = [(4, 1), (4, 4), (1, 4)]\n",
    "w = rand(sum(prod, shapes) + sum(first, shapes))\n",
    "# w = [0.2, 0.3, 0.4, 0.5, 1.0, 2.0, 3.0]\n",
    "\n",
    "train_data = [\n",
    "begin\n",
    "    x = randn()\n",
    "    if x >= 0\n",
    "        [x], [x, 1]\n",
    "    else\n",
    "        [x], [-x, -1]\n",
    "    end\n",
    "    end for i in 1:10];"
   ]
  },
  {
   "cell_type": "code",
   "execution_count": 136,
   "metadata": {
    "collapsed": false
   },
   "outputs": [],
   "source": [
    "# for (x, y) in train_data\n",
    "#     c = loss(w, shapes, x, y)\n",
    "#     g = ReverseDiff.gradient(w -> loss(w, shapes, x, y), w)\n",
    "#     for i in 1:length(w)\n",
    "#         e = zeros(w)\n",
    "#         e[i] = 0.0001\n",
    "#         println((loss(w .+ e, shapes, x, y) - c) / e[i], \"\\t\", g[i])\n",
    "#     end\n",
    "# end"
   ]
  },
  {
   "cell_type": "code",
   "execution_count": 137,
   "metadata": {
    "collapsed": false
   },
   "outputs": [
    {
     "name": "stdout",
     "output_type": "stream",
     "text": [
      "w = [0.434579,0.344954,0.621312,0.456559,0.538371,0.307844,0.225783,0.0948286,0.174821,0.885005,0.857429,0.240383,0.914718,0.697435,0.458682,0.329734,0.422081,0.898118,0.893225,0.287781,0.526699,0.0237905,0.87646,0.14588,0.594556,0.452657,0.0687968,0.999535,0.27735,0.65723,0.945202,0.80351,0.0107511]\n",
      "predict(w,shapes,[1]) = [4.55267,1.60594]\n",
      "predict(w,shapes,[-1]) = [1.81245,1.07556]\n"
     ]
    },
    {
     "data": {
      "text/plain": [
       "2-element Array{Float64,1}:\n",
       " 1.81245\n",
       " 1.07556"
      ]
     },
     "execution_count": 137,
     "metadata": {},
     "output_type": "execute_result"
    }
   ],
   "source": [
    "@show w\n",
    "@show predict(w, shapes, [1]) predict(w, shapes, [-1])"
   ]
  },
  {
   "cell_type": "code",
   "execution_count": 138,
   "metadata": {
    "collapsed": false
   },
   "outputs": [
    {
     "name": "stderr",
     "output_type": "stream",
     "text": [
      "Progress: 100%|█████████████████████████████████████████| Time: 0:00:01\n"
     ]
    }
   ],
   "source": [
    "@showprogress for i in 1:100\n",
    "    train(w, shapes, train_data, 0.01, 0.5)\n",
    "end"
   ]
  },
  {
   "cell_type": "code",
   "execution_count": 139,
   "metadata": {
    "collapsed": false
   },
   "outputs": [
    {
     "name": "stdout",
     "output_type": "stream",
     "text": [
      "w = [0.436871,0.269599,1.12573,0.579702,0.266356,0.655231,-0.299986,-0.0506832,-0.0190307,1.12192,0.495532,0.137643,1.15925,0.11688,0.924261,0.553199,0.0483452,1.34398,0.231814,0.0535004,0.743828,-1.11148,1.04524,0.57733,0.686845,0.422013,0.0227893,0.922217,0.437219,0.172256,1.26896,0.896722,0.0107511]\n",
      "predict(w,shapes,[1]) = [1.07606,1.02446]\n",
      "predict(w,shapes,[-1]) = [1.03013,-1.01992]\n"
     ]
    },
    {
     "data": {
      "text/plain": [
       "2-element Array{Float64,1}:\n",
       "  1.03013\n",
       " -1.01992"
      ]
     },
     "execution_count": 139,
     "metadata": {},
     "output_type": "execute_result"
    }
   ],
   "source": [
    "@show w\n",
    "@show predict(w, shapes, [1]) predict(w, shapes, [-1])"
   ]
  },
  {
   "cell_type": "code",
   "execution_count": 140,
   "metadata": {
    "collapsed": false
   },
   "outputs": [
    {
     "data": {
      "text/html": [
       "<?xml version=\"1.0\" encoding=\"utf-8\"?>\n",
       "<svg xmlns=\"http://www.w3.org/2000/svg\" xmlns:xlink=\"http://www.w3.org/1999/xlink\" width=\"600\" height=\"400\" viewBox=\"0 0 600 400\">\n",
       "<defs>\n",
       "  <clipPath id=\"clip00\">\n",
       "    <rect x=\"0\" y=\"0\" width=\"600\" height=\"400\"/>\n",
       "  </clipPath>\n",
       "</defs>\n",
       "<polygon clip-path=\"url(#clip00)\" points=\"\n",
       "0,400 600,400 600,0 0,0 \n",
       "  \" fill=\"#ffffff\" fill-opacity=\"1\"/>\n",
       "<defs>\n",
       "  <clipPath id=\"clip01\">\n",
       "    <rect x=\"120\" y=\"0\" width=\"421\" height=\"400\"/>\n",
       "  </clipPath>\n",
       "</defs>\n",
       "<polygon clip-path=\"url(#clip00)\" points=\"\n",
       "39.4926,384.952 596.063,384.952 596.063,3.93701 39.4926,3.93701 \n",
       "  \" fill=\"#ffffff\" fill-opacity=\"1\"/>\n",
       "<defs>\n",
       "  <clipPath id=\"clip02\">\n",
       "    <rect x=\"39\" y=\"3\" width=\"557\" height=\"382\"/>\n",
       "  </clipPath>\n",
       "</defs>\n",
       "<polyline clip-path=\"url(#clip02)\" style=\"stroke:#00002d; stroke-width:0.8; stroke-opacity:0.5; fill:none\" stroke-dasharray=\"1, 2\" points=\"\n",
       "  55.2446,379.237 55.2446,9.65223 \n",
       "  \"/>\n",
       "<polyline clip-path=\"url(#clip02)\" style=\"stroke:#00002d; stroke-width:0.8; stroke-opacity:0.5; fill:none\" stroke-dasharray=\"1, 2\" points=\"\n",
       "  186.511,379.237 186.511,9.65223 \n",
       "  \"/>\n",
       "<polyline clip-path=\"url(#clip02)\" style=\"stroke:#00002d; stroke-width:0.8; stroke-opacity:0.5; fill:none\" stroke-dasharray=\"1, 2\" points=\"\n",
       "  317.778,379.237 317.778,9.65223 \n",
       "  \"/>\n",
       "<polyline clip-path=\"url(#clip02)\" style=\"stroke:#00002d; stroke-width:0.8; stroke-opacity:0.5; fill:none\" stroke-dasharray=\"1, 2\" points=\"\n",
       "  449.044,379.237 449.044,9.65223 \n",
       "  \"/>\n",
       "<polyline clip-path=\"url(#clip02)\" style=\"stroke:#00002d; stroke-width:0.8; stroke-opacity:0.5; fill:none\" stroke-dasharray=\"1, 2\" points=\"\n",
       "  580.311,379.237 580.311,9.65223 \n",
       "  \"/>\n",
       "<polyline clip-path=\"url(#clip02)\" style=\"stroke:#00002d; stroke-width:0.8; stroke-opacity:0.5; fill:none\" stroke-dasharray=\"1, 2\" points=\"\n",
       "  47.8411,384.952 587.714,384.952 \n",
       "  \"/>\n",
       "<polyline clip-path=\"url(#clip02)\" style=\"stroke:#00002d; stroke-width:0.8; stroke-opacity:0.5; fill:none\" stroke-dasharray=\"1, 2\" points=\"\n",
       "  47.8411,289.698 587.714,289.698 \n",
       "  \"/>\n",
       "<polyline clip-path=\"url(#clip02)\" style=\"stroke:#00002d; stroke-width:0.8; stroke-opacity:0.5; fill:none\" stroke-dasharray=\"1, 2\" points=\"\n",
       "  47.8411,194.444 587.714,194.444 \n",
       "  \"/>\n",
       "<polyline clip-path=\"url(#clip02)\" style=\"stroke:#00002d; stroke-width:0.8; stroke-opacity:0.5; fill:none\" stroke-dasharray=\"1, 2\" points=\"\n",
       "  47.8411,99.1907 587.714,99.1907 \n",
       "  \"/>\n",
       "<polyline clip-path=\"url(#clip02)\" style=\"stroke:#00002d; stroke-width:0.8; stroke-opacity:0.5; fill:none\" stroke-dasharray=\"1, 2\" points=\"\n",
       "  47.8411,3.93701 587.714,3.93701 \n",
       "  \"/>\n",
       "<polyline clip-path=\"url(#clip02)\" style=\"stroke:#00002d; stroke-width:0.8; stroke-opacity:1; fill:none\" points=\"\n",
       "  39.4926,384.952 596.063,384.952 \n",
       "  \"/>\n",
       "<polyline clip-path=\"url(#clip02)\" style=\"stroke:#00002d; stroke-width:0.8; stroke-opacity:1; fill:none\" points=\"\n",
       "  55.2446,384.952 55.2446,379.237 \n",
       "  \"/>\n",
       "<polyline clip-path=\"url(#clip02)\" style=\"stroke:#00002d; stroke-width:0.8; stroke-opacity:1; fill:none\" points=\"\n",
       "  186.511,384.952 186.511,379.237 \n",
       "  \"/>\n",
       "<polyline clip-path=\"url(#clip02)\" style=\"stroke:#00002d; stroke-width:0.8; stroke-opacity:1; fill:none\" points=\"\n",
       "  317.778,384.952 317.778,379.237 \n",
       "  \"/>\n",
       "<polyline clip-path=\"url(#clip02)\" style=\"stroke:#00002d; stroke-width:0.8; stroke-opacity:1; fill:none\" points=\"\n",
       "  449.044,384.952 449.044,379.237 \n",
       "  \"/>\n",
       "<polyline clip-path=\"url(#clip02)\" style=\"stroke:#00002d; stroke-width:0.8; stroke-opacity:1; fill:none\" points=\"\n",
       "  580.311,384.952 580.311,379.237 \n",
       "  \"/>\n",
       "<polyline clip-path=\"url(#clip02)\" style=\"stroke:#00002d; stroke-width:0.8; stroke-opacity:1; fill:none\" points=\"\n",
       "  39.4926,384.952 39.4926,3.93701 \n",
       "  \"/>\n",
       "<polyline clip-path=\"url(#clip02)\" style=\"stroke:#00002d; stroke-width:0.8; stroke-opacity:1; fill:none\" points=\"\n",
       "  39.4926,384.952 47.8411,384.952 \n",
       "  \"/>\n",
       "<polyline clip-path=\"url(#clip02)\" style=\"stroke:#00002d; stroke-width:0.8; stroke-opacity:1; fill:none\" points=\"\n",
       "  39.4926,289.698 47.8411,289.698 \n",
       "  \"/>\n",
       "<polyline clip-path=\"url(#clip02)\" style=\"stroke:#00002d; stroke-width:0.8; stroke-opacity:1; fill:none\" points=\"\n",
       "  39.4926,194.444 47.8411,194.444 \n",
       "  \"/>\n",
       "<polyline clip-path=\"url(#clip02)\" style=\"stroke:#00002d; stroke-width:0.8; stroke-opacity:1; fill:none\" points=\"\n",
       "  39.4926,99.1907 47.8411,99.1907 \n",
       "  \"/>\n",
       "<polyline clip-path=\"url(#clip02)\" style=\"stroke:#00002d; stroke-width:0.8; stroke-opacity:1; fill:none\" points=\"\n",
       "  39.4926,3.93701 47.8411,3.93701 \n",
       "  \"/>\n",
       "<g clip-path=\"url(#clip00)\">\n",
       "<text style=\"fill:#00002d; fill-opacity:1; font-family:Arial,Helvetica Neue,Helvetica,sans-serif; font-size:12; text-anchor:middle;\" transform=\"rotate(0, 55.2446, 396.952)\" x=\"55.2446\" y=\"396.952\">-2</text>\n",
       "</g>\n",
       "<g clip-path=\"url(#clip00)\">\n",
       "<text style=\"fill:#00002d; fill-opacity:1; font-family:Arial,Helvetica Neue,Helvetica,sans-serif; font-size:12; text-anchor:middle;\" transform=\"rotate(0, 186.511, 396.952)\" x=\"186.511\" y=\"396.952\">-1</text>\n",
       "</g>\n",
       "<g clip-path=\"url(#clip00)\">\n",
       "<text style=\"fill:#00002d; fill-opacity:1; font-family:Arial,Helvetica Neue,Helvetica,sans-serif; font-size:12; text-anchor:middle;\" transform=\"rotate(0, 317.778, 396.952)\" x=\"317.778\" y=\"396.952\">0</text>\n",
       "</g>\n",
       "<g clip-path=\"url(#clip00)\">\n",
       "<text style=\"fill:#00002d; fill-opacity:1; font-family:Arial,Helvetica Neue,Helvetica,sans-serif; font-size:12; text-anchor:middle;\" transform=\"rotate(0, 449.044, 396.952)\" x=\"449.044\" y=\"396.952\">1</text>\n",
       "</g>\n",
       "<g clip-path=\"url(#clip00)\">\n",
       "<text style=\"fill:#00002d; fill-opacity:1; font-family:Arial,Helvetica Neue,Helvetica,sans-serif; font-size:12; text-anchor:middle;\" transform=\"rotate(0, 580.311, 396.952)\" x=\"580.311\" y=\"396.952\">2</text>\n",
       "</g>\n",
       "<g clip-path=\"url(#clip00)\">\n",
       "<text style=\"fill:#00002d; fill-opacity:1; font-family:Arial,Helvetica Neue,Helvetica,sans-serif; font-size:12; text-anchor:end;\" transform=\"rotate(0, 38.2926, 389.452)\" x=\"38.2926\" y=\"389.452\">-1.0</text>\n",
       "</g>\n",
       "<g clip-path=\"url(#clip00)\">\n",
       "<text style=\"fill:#00002d; fill-opacity:1; font-family:Arial,Helvetica Neue,Helvetica,sans-serif; font-size:12; text-anchor:end;\" transform=\"rotate(0, 38.2926, 294.198)\" x=\"38.2926\" y=\"294.198\">-0.5</text>\n",
       "</g>\n",
       "<g clip-path=\"url(#clip00)\">\n",
       "<text style=\"fill:#00002d; fill-opacity:1; font-family:Arial,Helvetica Neue,Helvetica,sans-serif; font-size:12; text-anchor:end;\" transform=\"rotate(0, 38.2926, 198.944)\" x=\"38.2926\" y=\"198.944\">0.0</text>\n",
       "</g>\n",
       "<g clip-path=\"url(#clip00)\">\n",
       "<text style=\"fill:#00002d; fill-opacity:1; font-family:Arial,Helvetica Neue,Helvetica,sans-serif; font-size:12; text-anchor:end;\" transform=\"rotate(0, 38.2926, 103.691)\" x=\"38.2926\" y=\"103.691\">0.5</text>\n",
       "</g>\n",
       "<g clip-path=\"url(#clip00)\">\n",
       "<text style=\"fill:#00002d; fill-opacity:1; font-family:Arial,Helvetica Neue,Helvetica,sans-serif; font-size:12; text-anchor:end;\" transform=\"rotate(0, 38.2926, 8.43701)\" x=\"38.2926\" y=\"8.43701\">1.0</text>\n",
       "</g>\n",
       "<polyline clip-path=\"url(#clip02)\" style=\"stroke:#0099ff; stroke-width:3.2; stroke-opacity:1; fill:none\" points=\"\n",
       "  55.2446,-106.618 65.9602,-108.211 76.6758,-109.804 87.3915,-111.397 98.1071,-112.991 108.823,-114.584 119.538,-100.937 130.254,-85.0753 140.97,-69.214 151.685,-53.3526 \n",
       "  162.401,-37.4912 173.117,-21.6299 183.832,-5.76848 194.548,10.0929 205.264,25.9543 215.979,41.8156 226.695,57.677 237.41,73.5384 248.126,89.3998 258.842,105.261 \n",
       "  269.557,121.122 280.273,136.984 290.989,152.845 301.704,168.707 312.42,184.568 323.136,176.648 333.851,160.716 344.567,144.784 355.283,128.852 365.998,112.92 \n",
       "  376.714,96.9885 387.429,81.0566 398.145,65.1246 408.861,49.1927 419.576,33.2607 430.292,17.3288 441.008,1.3968 451.723,-14.5352 462.439,-30.4671 473.155,-46.3991 \n",
       "  483.87,-62.331 494.586,-78.263 505.302,-94.1949 516.017,-110.127 526.733,-126.059 537.448,-141.991 548.164,-157.923 558.88,-173.855 569.595,-189.787 580.311,-205.719 \n",
       "  \n",
       "  \"/>\n",
       "<circle clip-path=\"url(#clip02)\" style=\"fill:#00002d; stroke:none; fill-opacity:1\" cx=\"304.688\" cy=\"175.447\" r=\"1\"/>\n",
       "<line clip-path=\"url(#clip02)\" x1=\"304.688\" y1=\"175.447\" x2=\"305.688\" y2=\"175.447\" style=\"stroke:#e9746a; stroke-opacity:1\"/>\n",
       "<circle clip-path=\"url(#clip02)\" style=\"fill:#00002d; stroke:none; fill-opacity:1\" cx=\"257.2\" cy=\"106.527\" r=\"1\"/>\n",
       "<line clip-path=\"url(#clip02)\" x1=\"257.2\" y1=\"106.527\" x2=\"258.2\" y2=\"106.527\" style=\"stroke:#3cb370; stroke-opacity:1\"/>\n",
       "<circle clip-path=\"url(#clip02)\" style=\"fill:#00002d; stroke:none; fill-opacity:1\" cx=\"340.876\" cy=\"160.922\" r=\"1\"/>\n",
       "<line clip-path=\"url(#clip02)\" x1=\"340.876\" y1=\"160.922\" x2=\"341.876\" y2=\"160.922\" style=\"stroke:#d96fd5; stroke-opacity:1\"/>\n",
       "<circle clip-path=\"url(#clip02)\" style=\"fill:#00002d; stroke:none; fill-opacity:1\" cx=\"272.54\" cy=\"128.79\" r=\"1\"/>\n",
       "<line clip-path=\"url(#clip02)\" x1=\"272.54\" y1=\"128.79\" x2=\"273.54\" y2=\"128.79\" style=\"stroke:#b28c19; stroke-opacity:1\"/>\n",
       "<circle clip-path=\"url(#clip02)\" style=\"fill:#00002d; stroke:none; fill-opacity:1\" cx=\"200.526\" cy=\"24.2762\" r=\"1\"/>\n",
       "<line clip-path=\"url(#clip02)\" x1=\"200.526\" y1=\"24.2762\" x2=\"201.526\" y2=\"24.2762\" style=\"stroke:#00abab; stroke-opacity:1\"/>\n",
       "<circle clip-path=\"url(#clip02)\" style=\"fill:#00002d; stroke:none; fill-opacity:1\" cx=\"263.538\" cy=\"115.726\" r=\"1\"/>\n",
       "<line clip-path=\"url(#clip02)\" x1=\"263.538\" y1=\"115.726\" x2=\"264.538\" y2=\"115.726\" style=\"stroke:#cc853f; stroke-opacity:1\"/>\n",
       "<circle clip-path=\"url(#clip02)\" style=\"fill:#00002d; stroke:none; fill-opacity:1\" cx=\"380.393\" cy=\"103.571\" r=\"1\"/>\n",
       "<line clip-path=\"url(#clip02)\" x1=\"380.393\" y1=\"103.571\" x2=\"381.393\" y2=\"103.571\" style=\"stroke:#00abab; stroke-opacity:1\"/>\n",
       "<circle clip-path=\"url(#clip02)\" style=\"fill:#00002d; stroke:none; fill-opacity:1\" cx=\"214.98\" cy=\"45.2541\" r=\"1\"/>\n",
       "<line clip-path=\"url(#clip02)\" x1=\"214.98\" y1=\"45.2541\" x2=\"215.98\" y2=\"45.2541\" style=\"stroke:#969600; stroke-opacity:1\"/>\n",
       "</svg>\n"
      ]
     },
     "execution_count": 140,
     "metadata": {},
     "output_type": "execute_result"
    }
   ],
   "source": [
    "xx = linspace(-2, 2)\n",
    "plt = plot(xx, x -> predict(w, shapes, [x])[1], ylim=(-1, 1), legend=nothing, linewidth=4)\n",
    "plot!(plt, [x for (x, y) in train_data], [y for (x, y) in train_data], \n",
    "line=nothing,\n",
    "markershape=:circle,\n",
    "markersize=1\n",
    ")\n",
    "plt"
   ]
  },
  {
   "cell_type": "code",
   "execution_count": null,
   "metadata": {
    "collapsed": true
   },
   "outputs": [],
   "source": []
  }
 ],
 "metadata": {
  "kernelspec": {
   "display_name": "Julia 0.5.2",
   "language": "julia",
   "name": "julia-0.5"
  },
  "language_info": {
   "file_extension": ".jl",
   "mimetype": "application/julia",
   "name": "julia",
   "version": "0.5.2"
  }
 },
 "nbformat": 4,
 "nbformat_minor": 2
}
