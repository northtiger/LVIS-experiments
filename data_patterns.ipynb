{
 "cells": [
  {
   "cell_type": "code",
   "execution_count": 4,
   "metadata": {
    "collapsed": false
   },
   "outputs": [],
   "source": [
    "using MLDataPattern"
   ]
  },
  {
   "cell_type": "code",
   "execution_count": 5,
   "metadata": {
    "collapsed": false
   },
   "outputs": [
    {
     "data": {
      "text/plain": [
       "1×5 Array{Float64,2}:\n",
       " 0.837121  0.287114  0.464368  0.113779  0.910802"
      ]
     },
     "execution_count": 5,
     "metadata": {},
     "output_type": "execute_result"
    }
   ],
   "source": [
    "X = rand(2, 5)\n",
    "U = rand(1, 5)"
   ]
  },
  {
   "cell_type": "code",
   "execution_count": 8,
   "metadata": {
    "collapsed": false
   },
   "outputs": [
    {
     "data": {
      "text/plain": [
       "2×5 Array{Float64,2}:\n",
       " 0.0395841  0.556524  0.413221  0.329757  0.26523  \n",
       " 0.061507   0.65666   0.620098  0.750579  0.0679483"
      ]
     },
     "execution_count": 8,
     "metadata": {},
     "output_type": "execute_result"
    }
   ],
   "source": [
    "X"
   ]
  },
  {
   "cell_type": "code",
   "execution_count": 10,
   "metadata": {
    "collapsed": false
   },
   "outputs": [
    {
     "name": "stderr",
     "output_type": "stream",
     "text": [
      "\u001b[1m\u001b[34mINFO: The specified values for size and/or count will result in 1 unused data points\n",
      "\u001b[0m"
     ]
    },
    {
     "data": {
      "text/plain": [
       "Tuple{SubArray{Float64,2,Array{Float64,2},Tuple{Colon,UnitRange{Int64}},true},SubArray{Float64,2,Array{Float64,2},Tuple{Colon,UnitRange{Int64}},true}}"
      ]
     },
     "execution_count": 10,
     "metadata": {},
     "output_type": "execute_result"
    }
   ],
   "source": [
    "eltype(batchview((X, U), 2))"
   ]
  },
  {
   "cell_type": "code",
   "execution_count": 11,
   "metadata": {
    "collapsed": false
   },
   "outputs": [
    {
     "name": "stderr",
     "output_type": "stream",
     "text": [
      "\u001b[1m\u001b[34mINFO: The specified values for size and/or count will result in 1 unused data points\n",
      "\u001b[0m"
     ]
    },
    {
     "data": {
      "text/plain": [
       "2-element MLDataPattern.BatchView{Tuple{SubArray{Float64,2,Array{Float64,2},Tuple{Colon,UnitRange{Int64}},true},SubArray{Float64,2,Array{Float64,2},Tuple{Colon,UnitRange{Int64}},true}},Tuple{Array{Float64,2},Array{Float64,2}},Tuple{LearnBase.ObsDim.Last,LearnBase.ObsDim.Last}}:\n",
       " (\n",
       "[0.0395841 0.556524; 0.061507 0.65666],\n",
       "\n",
       "[0.837121 0.287114])\n",
       " (\n",
       "[0.413221 0.329757; 0.620098 0.750579],\n",
       "\n",
       "[0.464368 0.113779])"
      ]
     },
     "execution_count": 11,
     "metadata": {},
     "output_type": "execute_result"
    }
   ],
   "source": [
    "v = batchview((X, U), 2)"
   ]
  },
  {
   "cell_type": "code",
   "execution_count": 14,
   "metadata": {
    "collapsed": false
   },
   "outputs": [
    {
     "data": {
      "text/plain": [
       "2"
      ]
     },
     "execution_count": 14,
     "metadata": {},
     "output_type": "execute_result"
    }
   ],
   "source": [
    "batchsize(v)"
   ]
  },
  {
   "cell_type": "code",
   "execution_count": 15,
   "metadata": {
    "collapsed": false
   },
   "outputs": [
    {
     "name": "stdout",
     "output_type": "stream",
     "text": [
      "search: \u001b[1mn\u001b[22m\u001b[1me\u001b[22m\u001b[1mx\u001b[22m\u001b[1mt\u001b[22m \u001b[1mn\u001b[22m\u001b[1me\u001b[22m\u001b[1mx\u001b[22m\u001b[1mt\u001b[22mpow \u001b[1mn\u001b[22m\u001b[1me\u001b[22m\u001b[1mx\u001b[22m\u001b[1mt\u001b[22mind \u001b[1mn\u001b[22m\u001b[1me\u001b[22m\u001b[1mx\u001b[22m\u001b[1mt\u001b[22mprod \u001b[1mn\u001b[22m\u001b[1me\u001b[22m\u001b[1mx\u001b[22m\u001b[1mt\u001b[22mpow2 \u001b[1mn\u001b[22m\u001b[1me\u001b[22m\u001b[1mx\u001b[22m\u001b[1mt\u001b[22mfloat I\u001b[1mn\u001b[22m\u001b[1me\u001b[22m\u001b[1mx\u001b[22mac\u001b[1mt\u001b[22mError IOCo\u001b[1mn\u001b[22mt\u001b[1me\u001b[22m\u001b[1mx\u001b[22m\u001b[1mt\u001b[22m\n",
      "\n"
     ]
    },
    {
     "data": {
      "text/markdown": [
       "```\n",
       "next(iter, state) -> item, state\n",
       "```\n",
       "\n",
       "For a given iterable object and iteration state, return the current item and the next iteration state.\n"
      ],
      "text/plain": [
       "```\n",
       "next(iter, state) -> item, state\n",
       "```\n",
       "\n",
       "For a given iterable object and iteration state, return the current item and the next iteration state.\n"
      ]
     },
     "execution_count": 15,
     "metadata": {},
     "output_type": "execute_result"
    }
   ],
   "source": [
    "?next"
   ]
  },
  {
   "cell_type": "code",
   "execution_count": 7,
   "metadata": {
    "collapsed": false
   },
   "outputs": [
    {
     "name": "stderr",
     "output_type": "stream",
     "text": [
      "\u001b[1m\u001b[34mINFO: The specified values for size and/or count will result in 1 unused data points\n",
      "\u001b[0m"
     ]
    },
    {
     "data": {
      "text/plain": [
       "2-element Array{Tuple{SubArray{Float64,2,Array{Float64,2},Tuple{Colon,UnitRange{Int64}},true},SubArray{Float64,2,Array{Float64,2},Tuple{Colon,UnitRange{Int64}},true}},1}:\n",
       " (\n",
       "[0.0395841 0.556524; 0.061507 0.65666],\n",
       "\n",
       "[0.837121 0.287114])\n",
       " (\n",
       "[0.413221 0.329757; 0.620098 0.750579],\n",
       "\n",
       "[0.464368 0.113779])"
      ]
     },
     "execution_count": 7,
     "metadata": {},
     "output_type": "execute_result"
    }
   ],
   "source": [
    "collect(batchview((X, U), 2))"
   ]
  },
  {
   "cell_type": "code",
   "execution_count": null,
   "metadata": {
    "collapsed": true
   },
   "outputs": [],
   "source": []
  }
 ],
 "metadata": {
  "kernelspec": {
   "display_name": "Julia 0.5.1",
   "language": "julia",
   "name": "julia-0.5"
  },
  "language_info": {
   "file_extension": ".jl",
   "mimetype": "application/julia",
   "name": "julia",
   "version": "0.5.1"
  }
 },
 "nbformat": 4,
 "nbformat_minor": 2
}
