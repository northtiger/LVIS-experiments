{
 "cells": [
  {
   "cell_type": "code",
   "execution_count": 7,
   "metadata": {
    "collapsed": false
   },
   "outputs": [
    {
     "name": "stderr",
     "output_type": "stream",
     "text": [
      "WARNING: replacing module PyMPC\n"
     ]
    },
    {
     "data": {
      "text/plain": [
       "PyMPC"
      ]
     },
     "execution_count": 7,
     "metadata": {},
     "output_type": "execute_result"
    }
   ],
   "source": [
    "include(\"pympc.jl\")"
   ]
  },
  {
   "cell_type": "code",
   "execution_count": 8,
   "metadata": {
    "collapsed": false
   },
   "outputs": [
    {
     "data": {
      "text/plain": [
       "PyObject <pympc.control.parametric_qp instance at 0x30fc8e560>"
      ]
     },
     "execution_count": 8,
     "metadata": {},
     "output_type": "execute_result"
    }
   ],
   "source": [
    "mass = 1.\n",
    "l = 1.\n",
    "g = 10.\n",
    "N = 4\n",
    "# A = [0. 1.;\n",
    "#      g/l 0.]\n",
    "# B = [0 1/(mass*l^2.)]'\n",
    "A = [0. 1; 0 0]\n",
    "B = [0. 1]'\n",
    "Δt = .1\n",
    "pysys = PyMPC.dynamical_systems.DTLinearSystem[:from_continuous](A, B, Δt)\n",
    "\n",
    "# x_max = [pi/6, pi/20/(N*Δt)]\n",
    "x_max = [1., 1]\n",
    "x_min = -x_max\n",
    "# u_max = [mass*g*l*pi/8.]\n",
    "u_max = [1.]\n",
    "u_min = -u_max\n",
    "times = 0:Δt:N*Δt\n",
    "\n",
    "Q = 10 * eye(2)\n",
    "R = eye(1)\n",
    "\n",
    "X_bounds = PyMPC.geometry.Polytope[:from_bounds](reshape(x_min, 2, 1), reshape(x_max, 2, 1))[:assemble]()\n",
    "U_bounds = PyMPC.geometry.Polytope[:from_bounds](reshape(u_min, 1, 1), reshape(u_max, 1, 1))[:assemble]()\n",
    "controller = PyMPC.control.MPCController(pysys, N, \"two\", Q, R, X=X_bounds, U=U_bounds)\n",
    "\n",
    "qp = controller[:condensed_program]"
   ]
  },
  {
   "cell_type": "code",
   "execution_count": 9,
   "metadata": {
    "collapsed": false
   },
   "outputs": [
    {
     "data": {
      "text/plain": [
       "(:Optimal,\n",
       "[1.0; 1.0; 0.920061; 0.469579],\n",
       "\n",
       "[1.11022e-16 4.44089e-16; 0.0 0.0; -0.163769 -1.66064; -0.0304479 -0.774997])"
      ]
     },
     "execution_count": 9,
     "metadata": {},
     "output_type": "execute_result"
    }
   ],
   "source": [
    "x = x_min + rand(length(x_min)) .* (x_max - x_min)\n",
    "status, u, J = PyMPC.solve_qp(qp, x)"
   ]
  },
  {
   "cell_type": "code",
   "execution_count": 11,
   "metadata": {
    "collapsed": false
   },
   "outputs": [],
   "source": [
    "for i in 1:20\n",
    "    x = x_min + rand(length(x_min)) .* (x_max - x_min)\n",
    "    status, u, J = PyMPC.solve_qp(qp, x)\n",
    "    if status == :Optimal\n",
    "        @assert isapprox(u, controller[:feedforward](x)[1], atol=1e-5)\n",
    "        for i in 1:length(x)\n",
    "            delta = zeros(x)\n",
    "            delta[i] += 1e-3\n",
    "            x2 = x .+ delta\n",
    "            s2, u2, J2 = PyMPC.solve_qp(qp, x2)\n",
    "            @assert isapprox(u2, u + J * delta, atol=1e-5)\n",
    "        end\n",
    "    end\n",
    "end"
   ]
  },
  {
   "cell_type": "code",
   "execution_count": null,
   "metadata": {
    "collapsed": true
   },
   "outputs": [],
   "source": []
  }
 ],
 "metadata": {
  "kernelspec": {
   "display_name": "Julia 0.5.2",
   "language": "julia",
   "name": "julia-0.5"
  },
  "language_info": {
   "file_extension": ".jl",
   "mimetype": "application/julia",
   "name": "julia",
   "version": "0.5.2"
  }
 },
 "nbformat": 4,
 "nbformat_minor": 2
}
