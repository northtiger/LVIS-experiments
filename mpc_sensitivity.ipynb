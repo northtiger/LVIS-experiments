{
 "cells": [
  {
   "cell_type": "code",
   "execution_count": 1,
   "metadata": {
    "collapsed": true
   },
   "outputs": [],
   "source": [
    "using PyCall\n",
    "push!(pyimport(\"sys\")[\"path\"], joinpath(pwd(), \"py-mpc\"));"
   ]
  },
  {
   "cell_type": "code",
   "execution_count": 6,
   "metadata": {
    "collapsed": true
   },
   "outputs": [],
   "source": [
    "@pyimport pympc.geometry as geometry\n",
    "@pyimport pympc.control as control\n",
    "@pyimport pympc.dynamical_systems as dynamical_systems\n",
    "@pyimport pympc.plot as mpcplot\n",
    "@pyimport scipy.spatial as spatial\n",
    "@pyimport pympc.optimization.mpqpsolver as mpqpsolver"
   ]
  },
  {
   "cell_type": "code",
   "execution_count": 8,
   "metadata": {
    "collapsed": false
   },
   "outputs": [
    {
     "name": "stderr",
     "output_type": "stream",
     "text": [
      "\u001b[1m\u001b[34mINFO: Recompiling stale cache file /Users/rdeits/.julia/lib/v0.5/Gurobi.ji for module Gurobi.\n",
      "\u001b[0m"
     ]
    }
   ],
   "source": [
    "using JuMP\n",
    "using Gurobi"
   ]
  },
  {
   "cell_type": "code",
   "execution_count": 24,
   "metadata": {
    "collapsed": false
   },
   "outputs": [
    {
     "data": {
      "text/plain": [
       "4×4 Array{Float64,2}:\n",
       "  0.378559   -0.081126   -0.0492823  -0.0230304\n",
       " -0.081126    0.411865   -0.0539786  -0.0254564\n",
       " -0.0492823  -0.0539786   0.43599    -0.0303987\n",
       " -0.0230304  -0.0254564  -0.0303987   0.461698 "
      ]
     },
     "execution_count": 24,
     "metadata": {},
     "output_type": "execute_result"
    }
   ],
   "source": [
    "mass = 1.\n",
    "l = 1.\n",
    "g = 10.\n",
    "N = 4\n",
    "# A = [0. 1.;\n",
    "#      g/l 0.]\n",
    "# B = [0 1/(mass*l^2.)]'\n",
    "A = [0. 1; 0 0]\n",
    "B = [0. 1]'\n",
    "Δt = .1\n",
    "pysys = dynamical_systems.DTLinearSystem[:from_continuous](A, B, Δt)\n",
    "\n",
    "# x_max = [pi/6, pi/20/(N*Δt)]\n",
    "x_max = [1., 1]\n",
    "x_min = -x_max\n",
    "# u_max = [mass*g*l*pi/8.]\n",
    "u_max = [1.]\n",
    "u_min = -u_max\n",
    "times = 0:Δt:N*Δt\n",
    "\n",
    "Q = 10 * eye(2)\n",
    "R = eye(1)\n",
    "\n",
    "X_bounds = geometry.Polytope[:from_bounds](reshape(x_min, 2, 1), reshape(x_max, 2, 1))[:assemble]()\n",
    "U_bounds = geometry.Polytope[:from_bounds](reshape(u_min, 1, 1), reshape(u_max, 1, 1))[:assemble]()\n",
    "controller = control.MPCController(pysys, N, \"two\", Q, R, X=X_bounds, U=U_bounds)\n",
    "\n",
    "qp = controller[:condensed_program]\n",
    "qp[:remove_linear_terms]()\n",
    "G = qp[:G]\n",
    "W = qp[:W]\n",
    "S = qp[:S]\n",
    "H = qp[:H]\n",
    "H_inv = qp[:H_inv]\n"
   ]
  },
  {
   "cell_type": "code",
   "execution_count": 25,
   "metadata": {
    "collapsed": false
   },
   "outputs": [
    {
     "data": {
      "text/plain": [
       "2-element Array{Float64,1}:\n",
       " 0.807867\n",
       " 0.402321"
      ]
     },
     "execution_count": 25,
     "metadata": {},
     "output_type": "execute_result"
    }
   ],
   "source": [
    "x = x_min + rand(length(x_min)) .* (x_max - x_min)"
   ]
  },
  {
   "cell_type": "code",
   "execution_count": 65,
   "metadata": {
    "collapsed": false
   },
   "outputs": [
    {
     "name": "stderr",
     "output_type": "stream",
     "text": [
      "WARNING: Method definition mpc(Any, Any) in module Main at In[57]:2 overwritten at In[65]:2.\n"
     ]
    },
    {
     "data": {
      "text/plain": [
       "mpc (generic function with 1 method)"
      ]
     },
     "execution_count": 65,
     "metadata": {},
     "output_type": "execute_result"
    }
   ],
   "source": [
    "function mpc(qp, x)\n",
    "    G = qp[:G]\n",
    "    W = qp[:W]\n",
    "    S = qp[:S]\n",
    "    H = qp[:H]\n",
    "    H_inv = qp[:H_inv]\n",
    "    \n",
    "    m = Model(solver=GurobiSolver(OutputFlag=0))\n",
    "    @variable m z[1:size(G, 2)]\n",
    "    @objective m Min (z' * H * z)[1]\n",
    "    @constraint m constrs G * z .<= S * x + W\n",
    "    status = solve(m, suppress_warnings=true)\n",
    "    if status == :Optimal\n",
    "        lambdas = vec(getdual.(constrs))\n",
    "        active_set = abs.(lambdas) .>= 1e-4\n",
    "\n",
    "        G_A = G[active_set, :]\n",
    "        W_A = W[active_set, :]\n",
    "        S_A = S[active_set, :]\n",
    "        G_I = G[!active_set, :]\n",
    "        W_I = W[!active_set, :]\n",
    "        S_I = S[!active_set, :]\n",
    "        H_A = inv(G_A * H_inv * G_A')\n",
    "\n",
    "        lambda_A_offset = -H_A * W_A\n",
    "        lambda_A_linear = -H_A * S_A\n",
    "\n",
    "        z_offset = -H_inv * G_A' * lambda_A_offset\n",
    "        z_linear = -H_inv * G_A' * lambda_A_linear\n",
    "\n",
    "        u_offset = z_offset - H_inv * qp[:F_u]\n",
    "        u_linear = z_linear - H_inv * qp[:F_xu]'\n",
    "\n",
    "        status, u_offset .+ u_linear * x, u_linear\n",
    "    else\n",
    "        status, fill(NaN, length(u), 1), fill(NaN, length(u), length(x))\n",
    "    end\n",
    "end"
   ]
  },
  {
   "cell_type": "code",
   "execution_count": 73,
   "metadata": {
    "collapsed": false
   },
   "outputs": [],
   "source": [
    "for i in 1:20\n",
    "    x = x_min + rand(length(x_min)) .* (x_max - x_min)\n",
    "    status, u, J = mpc(qp, x)\n",
    "    if status == :Optimal\n",
    "        @assert isapprox(u, controller[:feedforward](x)[1], atol=1e-5)\n",
    "        for i in 1:length(x)\n",
    "            delta = zeros(x)\n",
    "            delta[i] += 1e-3\n",
    "            x2 = x .+ delta\n",
    "            s2, u2, J2 = mpc(qp, x2)\n",
    "            @assert isapprox(u2, u + J * delta, atol=1e-5)\n",
    "        end\n",
    "    end\n",
    "end"
   ]
  },
  {
   "cell_type": "code",
   "execution_count": null,
   "metadata": {
    "collapsed": true
   },
   "outputs": [],
   "source": []
  }
 ],
 "metadata": {
  "kernelspec": {
   "display_name": "Julia 0.5.2",
   "language": "julia",
   "name": "julia-0.5"
  },
  "language_info": {
   "file_extension": ".jl",
   "mimetype": "application/julia",
   "name": "julia",
   "version": "0.5.2"
  }
 },
 "nbformat": 4,
 "nbformat_minor": 2
}
